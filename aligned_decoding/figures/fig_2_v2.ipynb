{
 "cells": [
  {
   "cell_type": "markdown",
   "metadata": {},
   "source": [
    "# Imports"
   ]
  },
  {
   "cell_type": "code",
   "execution_count": 1,
   "metadata": {},
   "outputs": [],
   "source": [
    "import sys\n",
    "sys.path.append('..')"
   ]
  },
  {
   "cell_type": "code",
   "execution_count": 148,
   "metadata": {},
   "outputs": [],
   "source": [
    "# analysis\n",
    "import numpy as np\n",
    "import pandas as pd\n",
    "import scipy.io as sio\n",
    "import scipy.stats as stats\n",
    "from sklearn.decomposition import PCA\n",
    "from sklearn.manifold import TSNE\n",
    "from sklearn.metrics import silhouette_samples, calinski_harabasz_score, davies_bouldin_score\n",
    "from tqdm import tqdm\n",
    "from statsmodels.stats.multitest import fdrcorrection\n",
    "\n",
    "# plotting\n",
    "import matplotlib.pyplot as plt\n",
    "import matplotlib as mpl\n",
    "import seaborn as sns\n",
    "import plotly.express as px\n",
    "import plotly.graph_objects as go\n",
    "\n",
    "# local\n",
    "import alignment.alignment_utils as utils\n",
    "from alignment.AlignCCA import AlignCCA\n",
    "from alignment.alignment_utils import cnd_avg\n",
    "\n",
    "%matplotlib inline"
   ]
  },
  {
   "cell_type": "markdown",
   "metadata": {},
   "source": [
    "# Data Loading"
   ]
  },
  {
   "cell_type": "markdown",
   "metadata": {},
   "source": [
    "### Real data"
   ]
  },
  {
   "cell_type": "code",
   "execution_count": 3,
   "metadata": {},
   "outputs": [],
   "source": [
    "paper_pt_dict = {'S14': 'S1', 'S26': 'S2', 'S33': 'S3', 'S22': 'S4', 'S23': 'S5', 'S39': 'S6', 'S58': 'S7', 'S62': 'S8'}"
   ]
  },
  {
   "cell_type": "code",
   "execution_count": 4,
   "metadata": {},
   "outputs": [],
   "source": [
    "DATA_PATH = '../data/'\n",
    "data_filename = DATA_PATH + 'pt_decoding_data_S62.pkl' # mean-subtracted\n",
    "# data_filename = DATA_PATH + 'pt_decoding_data_S62_zscore.pkl' # z-scored"
   ]
  },
  {
   "cell_type": "code",
   "execution_count": 5,
   "metadata": {},
   "outputs": [],
   "source": [
    "all_pt_dict = utils.load_pkl(data_filename)\n",
    "pt_names = list(all_pt_dict.keys())"
   ]
  },
  {
   "cell_type": "code",
   "execution_count": 6,
   "metadata": {},
   "outputs": [
    {
     "name": "stdout",
     "output_type": "stream",
     "text": [
      "['S14', 'S26', 'S23', 'S33', 'S22', 'S39', 'S58', 'S62']\n",
      "dict_keys(['ID', 'X1', 'X1_map', 'y1', 'X2', 'X2_map', 'y2', 'X3', 'X3_map', 'y3', 'y_full_phon', 'X_collapsed', 'y_phon_collapsed', 'y_artic_collapsed', 'pre_pts'])\n",
      "[(144, 200, 111), (148, 200, 111), (151, 200, 63), (46, 200, 149), (151, 200, 74), (137, 200, 144), (141, 200, 171), (178, 200, 201)]\n"
     ]
    }
   ],
   "source": [
    "print(pt_names)\n",
    "print(all_pt_dict[pt_names[0]].keys())\n",
    "print([all_pt_dict[pt]['X1'].shape for pt in pt_names])"
   ]
  },
  {
   "cell_type": "code",
   "execution_count": 7,
   "metadata": {},
   "outputs": [],
   "source": [
    "all_pt_chan_data = {}\n",
    "for pt in pt_names:\n",
    "    temp = {}\n",
    "    temp['map'] = sio.loadmat(DATA_PATH + f'{pt}/{pt}_channelMap.mat'.format(pt))['chanMap']\n",
    "    # if pt == 'S58':\n",
    "    #     temp['sig'] = sio.loadmat(DATA_PATH + f'{pt}/{pt}_sigChannel.mat'.format(pt))['sigChannel'] - 2 # this is so weird\n",
    "    # else:\n",
    "    temp['sig'] = sio.loadmat(DATA_PATH + f'{pt}/{pt}_sigChannel.mat'.format(pt))['sigChannel'] - 1\n",
    "    all_pt_chan_data[pt] = temp"
   ]
  },
  {
   "cell_type": "markdown",
   "metadata": {},
   "source": [
    "## Phoneme label processing functions"
   ]
  },
  {
   "cell_type": "code",
   "execution_count": 8,
   "metadata": {},
   "outputs": [],
   "source": [
    "phon_labels = np.array(['a', 'ae', 'i', 'u', 'b', 'p', 'v', 'g', 'k'])\n",
    "artic_labels = np.array(['low', 'high', 'labial', 'dorsal'])\n",
    "phon_to_artic_dict = {1:1, 2:1, 3:2, 4:2, 5:3, 6:3, 7:3, 8:4, 9:4}"
   ]
  },
  {
   "cell_type": "code",
   "execution_count": 9,
   "metadata": {},
   "outputs": [],
   "source": [
    "def phon_to_artic(phon_idx, phon_to_artic_conv):\n",
    "    return phon_to_artic_conv[phon_idx]\n",
    "\n",
    "def phon_to_artic_seq(phon_seq, phon_to_artic_conv):\n",
    "    flat_seq = phon_seq.flatten()\n",
    "    artic_conv = np.array([phon_to_artic(phon_idx, phon_to_artic_conv) for phon_idx in flat_seq])\n",
    "    return np.reshape(artic_conv, phon_seq.shape)\n",
    "\n",
    "def phon2artic(phon):\n",
    "    return artic_labels[phon_to_artic_dict[int(phon)] - 1]\n",
    "\n",
    "def phon2artic_seq(phon_seq):\n",
    "    return '_'.join([phon2artic(phon) for phon in phon_seq])\n",
    "\n",
    "def labels2cv_seq(labels):\n",
    "    labels_str = []\n",
    "    for lab in labels:\n",
    "        labels_str.append(labels2cv(lab))\n",
    "    return np.array(labels_str)\n",
    "\n",
    "def labels2cv(str):\n",
    "    middle_val = str[1]\n",
    "    if int(middle_val) < 5:\n",
    "        return 'CVC'\n",
    "    else:\n",
    "        return 'VCV'\n",
    "\n",
    "def articic_nums2seq(artic_num_seqs):\n",
    "    return np.array([artic_labels[artic_num-1] for artic_num in artic_num_seqs])"
   ]
  },
  {
   "cell_type": "markdown",
   "metadata": {},
   "source": [
    "## Data Processing"
   ]
  },
  {
   "cell_type": "code",
   "execution_count": 10,
   "metadata": {},
   "outputs": [],
   "source": [
    "p_ind = 1\n",
    "\n",
    "all_pt_traces = {}\n",
    "all_pt_surr_traces = {}\n",
    "all_pt_phon_labels = {}\n",
    "all_pt_phon_seqs = {}\n",
    "all_pt_phon_seqs_str = {}\n",
    "all_pt_artic_labels = {}\n",
    "all_pt_artic_seqs = {}\n",
    "all_pt_artic_seqs_str = {}\n",
    "all_pt_cv_labels = {}\n",
    "for pt in pt_names:\n",
    "    pt_trace = all_pt_dict[pt][f'X{p_ind}']  ### (trials, time, channels)\n",
    "\n",
    "    pt_phon_labels = all_pt_dict[pt][f'y{p_ind}']\n",
    "    pt_phon_seqs = all_pt_dict[pt]['y_full_phon']\n",
    "    pt_phon_seqs_str = utils.label_seq2str(pt_phon_seqs)\n",
    "    pt_artic_labels = phon_to_artic_seq(pt_phon_labels, phon_to_artic_dict)\n",
    "    pt_artic_seqs = phon_to_artic_seq(pt_phon_seqs, phon_to_artic_dict)\n",
    "    pt_artic_seqs_str = utils.label_seq2str(pt_artic_seqs)\n",
    "    pt_cv_labels = labels2cv_seq(pt_phon_seqs)\n",
    "\n",
    "    all_pt_traces[pt] = pt_trace\n",
    "    all_pt_phon_labels[pt] = pt_phon_labels\n",
    "    all_pt_phon_seqs[pt] = pt_phon_seqs\n",
    "    all_pt_phon_seqs_str[pt] = pt_phon_seqs_str\n",
    "    all_pt_artic_labels[pt] = pt_artic_labels\n",
    "    all_pt_artic_seqs[pt] = pt_artic_seqs\n",
    "    all_pt_artic_seqs_str[pt] = pt_artic_seqs_str\n",
    "    all_pt_cv_labels[pt] = pt_cv_labels"
   ]
  },
  {
   "cell_type": "code",
   "execution_count": 11,
   "metadata": {},
   "outputs": [],
   "source": [
    "t = np.linspace(-0.5, 0.5 - 1/pt_trace.shape[1], pt_trace.shape[1])"
   ]
  },
  {
   "cell_type": "markdown",
   "metadata": {},
   "source": [
    "# Data Visualization"
   ]
  },
  {
   "cell_type": "markdown",
   "metadata": {},
   "source": [
    "### Plotting utils"
   ]
  },
  {
   "cell_type": "code",
   "execution_count": 12,
   "metadata": {},
   "outputs": [],
   "source": [
    "px_colors = [\n",
    "             '#636EFA',\n",
    "             '#FFA15A',\n",
    "             '#EF553B',\n",
    "             '#00CC96',\n",
    "            #  '#72B7B2',\n",
    "            #  '#990099',\n",
    "            #  '#B6E880',\n",
    "\n",
    "             \n",
    "            #  '#FFA15A',\n",
    "            #  '#19D3F3',\n",
    "            #  '#FF6692',\n",
    "            #  '#B6E880',\n",
    "            #  '#FF97FF',\n",
    "            #  '#FECB52',\n",
    "            ]"
   ]
  },
  {
   "cell_type": "code",
   "execution_count": 13,
   "metadata": {},
   "outputs": [],
   "source": [
    "# sns.set_theme(context='notebook', font='Arial', font_scale=1.15)\n",
    "sns.set_theme(font='Arial', font_scale=1.2, style='white', palette=px_colors)\n",
    "sns.set_style(rc={\n",
    "    # 'axes.edgecolor': 'gray',\n",
    "    'axes.linewidth': 0.5,\n",
    "    'xtick.bottom': True,\n",
    "    'ytick.left': True,\n",
    "    })"
   ]
  },
  {
   "cell_type": "code",
   "execution_count": 14,
   "metadata": {},
   "outputs": [],
   "source": [
    "from matplotlib.colors import LinearSegmentedColormap\n",
    "\n",
    "parula_data = cm_data = [[0.2422, 0.1504, 0.6603],\n",
    "[0.2444, 0.1534, 0.6728],\n",
    "[0.2464, 0.1569, 0.6847],\n",
    "[0.2484, 0.1607, 0.6961],\n",
    "[0.2503, 0.1648, 0.7071],\n",
    "[0.2522, 0.1689, 0.7179],\n",
    "[0.254, 0.1732, 0.7286],\n",
    "[0.2558, 0.1773, 0.7393],\n",
    "[0.2576, 0.1814, 0.7501],\n",
    "[0.2594, 0.1854, 0.761],\n",
    "[0.2611, 0.1893, 0.7719],\n",
    "[0.2628, 0.1932, 0.7828],\n",
    "[0.2645, 0.1972, 0.7937],\n",
    "[0.2661, 0.2011, 0.8043],\n",
    "[0.2676, 0.2052, 0.8148],\n",
    "[0.2691, 0.2094, 0.8249],\n",
    "[0.2704, 0.2138, 0.8346],\n",
    "[0.2717, 0.2184, 0.8439],\n",
    "[0.2729, 0.2231, 0.8528],\n",
    "[0.274, 0.228, 0.8612],\n",
    "[0.2749, 0.233, 0.8692],\n",
    "[0.2758, 0.2382, 0.8767],\n",
    "[0.2766, 0.2435, 0.884],\n",
    "[0.2774, 0.2489, 0.8908],\n",
    "[0.2781, 0.2543, 0.8973],\n",
    "[0.2788, 0.2598, 0.9035],\n",
    "[0.2794, 0.2653, 0.9094],\n",
    "[0.2798, 0.2708, 0.915],\n",
    "[0.2802, 0.2764, 0.9204],\n",
    "[0.2806, 0.2819, 0.9255],\n",
    "[0.2809, 0.2875, 0.9305],\n",
    "[0.2811, 0.293, 0.9352],\n",
    "[0.2813, 0.2985, 0.9397],\n",
    "[0.2814, 0.304, 0.9441],\n",
    "[0.2814, 0.3095, 0.9483],\n",
    "[0.2813, 0.315, 0.9524],\n",
    "[0.2811, 0.3204, 0.9563],\n",
    "[0.2809, 0.3259, 0.96],\n",
    "[0.2807, 0.3313, 0.9636],\n",
    "[0.2803, 0.3367, 0.967],\n",
    "[0.2798, 0.3421, 0.9702],\n",
    "[0.2791, 0.3475, 0.9733],\n",
    "[0.2784, 0.3529, 0.9763],\n",
    "[0.2776, 0.3583, 0.9791],\n",
    "[0.2766, 0.3638, 0.9817],\n",
    "[0.2754, 0.3693, 0.984],\n",
    "[0.2741, 0.3748, 0.9862],\n",
    "[0.2726, 0.3804, 0.9881],\n",
    "[0.271, 0.386, 0.9898],\n",
    "[0.2691, 0.3916, 0.9912],\n",
    "[0.267, 0.3973, 0.9924],\n",
    "[0.2647, 0.403, 0.9935],\n",
    "[0.2621, 0.4088, 0.9946],\n",
    "[0.2591, 0.4145, 0.9955],\n",
    "[0.2556, 0.4203, 0.9965],\n",
    "[0.2517, 0.4261, 0.9974],\n",
    "[0.2473, 0.4319, 0.9983],\n",
    "[0.2424, 0.4378, 0.9991],\n",
    "[0.2369, 0.4437, 0.9996],\n",
    "[0.2311, 0.4497, 0.9995],\n",
    "[0.225, 0.4559, 0.9985],\n",
    "[0.2189, 0.462, 0.9968],\n",
    "[0.2128, 0.4682, 0.9948],\n",
    "[0.2066, 0.4743, 0.9926],\n",
    "[0.2006, 0.4803, 0.9906],\n",
    "[0.195, 0.4861, 0.9887],\n",
    "[0.1903, 0.4919, 0.9867],\n",
    "[0.1869, 0.4975, 0.9844],\n",
    "[0.1847, 0.503, 0.9819],\n",
    "[0.1831, 0.5084, 0.9793],\n",
    "[0.1818, 0.5138, 0.9766],\n",
    "[0.1806, 0.5191, 0.9738],\n",
    "[0.1795, 0.5244, 0.9709],\n",
    "[0.1785, 0.5296, 0.9677],\n",
    "[0.1778, 0.5349, 0.9641],\n",
    "[0.1773, 0.5401, 0.9602],\n",
    "[0.1768, 0.5452, 0.956],\n",
    "[0.1764, 0.5504, 0.9516],\n",
    "[0.1755, 0.5554, 0.9473],\n",
    "[0.174, 0.5605, 0.9432],\n",
    "[0.1716, 0.5655, 0.9393],\n",
    "[0.1686, 0.5705, 0.9357],\n",
    "[0.1649, 0.5755, 0.9323],\n",
    "[0.161, 0.5805, 0.9289],\n",
    "[0.1573, 0.5854, 0.9254],\n",
    "[0.154, 0.5902, 0.9218],\n",
    "[0.1513, 0.595, 0.9182],\n",
    "[0.1492, 0.5997, 0.9147],\n",
    "[0.1475, 0.6043, 0.9113],\n",
    "[0.1461, 0.6089, 0.908],\n",
    "[0.1446, 0.6135, 0.905],\n",
    "[0.1429, 0.618, 0.9022],\n",
    "[0.1408, 0.6226, 0.8998],\n",
    "[0.1383, 0.6272, 0.8975],\n",
    "[0.1354, 0.6317, 0.8953],\n",
    "[0.1321, 0.6363, 0.8932],\n",
    "[0.1288, 0.6408, 0.891],\n",
    "[0.1253, 0.6453, 0.8887],\n",
    "[0.1219, 0.6497, 0.8862],\n",
    "[0.1185, 0.6541, 0.8834],\n",
    "[0.1152, 0.6584, 0.8804],\n",
    "[0.1119, 0.6627, 0.877],\n",
    "[0.1085, 0.6669, 0.8734],\n",
    "[0.1048, 0.671, 0.8695],\n",
    "[0.1009, 0.675, 0.8653],\n",
    "[0.0964, 0.6789, 0.8609],\n",
    "[0.0914, 0.6828, 0.8562],\n",
    "[0.0855, 0.6865, 0.8513],\n",
    "[0.0789, 0.6902, 0.8462],\n",
    "[0.0713, 0.6938, 0.8409],\n",
    "[0.0628, 0.6972, 0.8355],\n",
    "[0.0535, 0.7006, 0.8299],\n",
    "[0.0433, 0.7039, 0.8242],\n",
    "[0.0328, 0.7071, 0.8183],\n",
    "[0.0234, 0.7103, 0.8124],\n",
    "[0.0155, 0.7133, 0.8064],\n",
    "[0.0091, 0.7163, 0.8003],\n",
    "[0.0046, 0.7192, 0.7941],\n",
    "[0.0019, 0.722, 0.7878],\n",
    "[0.0009, 0.7248, 0.7815],\n",
    "[0.0018, 0.7275, 0.7752],\n",
    "[0.0046, 0.7301, 0.7688],\n",
    "[0.0094, 0.7327, 0.7623],\n",
    "[0.0162, 0.7352, 0.7558],\n",
    "[0.0253, 0.7376, 0.7492],\n",
    "[0.0369, 0.74, 0.7426],\n",
    "[0.0504, 0.7423, 0.7359],\n",
    "[0.0638, 0.7446, 0.7292],\n",
    "[0.077, 0.7468, 0.7224],\n",
    "[0.0899, 0.7489, 0.7156],\n",
    "[0.1023, 0.751, 0.7088],\n",
    "[0.1141, 0.7531, 0.7019],\n",
    "[0.1252, 0.7552, 0.695],\n",
    "[0.1354, 0.7572, 0.6881],\n",
    "[0.1448, 0.7593, 0.6812],\n",
    "[0.1532, 0.7614, 0.6741],\n",
    "[0.1609, 0.7635, 0.6671],\n",
    "[0.1678, 0.7656, 0.6599],\n",
    "[0.1741, 0.7678, 0.6527],\n",
    "[0.1799, 0.7699, 0.6454],\n",
    "[0.1853, 0.7721, 0.6379],\n",
    "[0.1905, 0.7743, 0.6303],\n",
    "[0.1954, 0.7765, 0.6225],\n",
    "[0.2003, 0.7787, 0.6146],\n",
    "[0.2061, 0.7808, 0.6065],\n",
    "[0.2118, 0.7828, 0.5983],\n",
    "[0.2178, 0.7849, 0.5899],\n",
    "[0.2244, 0.7869, 0.5813],\n",
    "[0.2318, 0.7887, 0.5725],\n",
    "[0.2401, 0.7905, 0.5636],\n",
    "[0.2491, 0.7922, 0.5546],\n",
    "[0.2589, 0.7937, 0.5454],\n",
    "[0.2695, 0.7951, 0.536],\n",
    "[0.2809, 0.7964, 0.5266],\n",
    "[0.2929, 0.7975, 0.517],\n",
    "[0.3052, 0.7985, 0.5074],\n",
    "[0.3176, 0.7994, 0.4975],\n",
    "[0.3301, 0.8002, 0.4876],\n",
    "[0.3424, 0.8009, 0.4774],\n",
    "[0.3548, 0.8016, 0.4669],\n",
    "[0.3671, 0.8021, 0.4563],\n",
    "[0.3795, 0.8026, 0.4454],\n",
    "[0.3921, 0.8029, 0.4344],\n",
    "[0.405, 0.8031, 0.4233],\n",
    "[0.4184, 0.803, 0.4122],\n",
    "[0.4322, 0.8028, 0.4013],\n",
    "[0.4463, 0.8024, 0.3904],\n",
    "[0.4608, 0.8018, 0.3797],\n",
    "[0.4753, 0.8011, 0.3691],\n",
    "[0.4899, 0.8002, 0.3586],\n",
    "[0.5044, 0.7993, 0.348],\n",
    "[0.5187, 0.7982, 0.3374],\n",
    "[0.5329, 0.797, 0.3267],\n",
    "[0.547, 0.7957, 0.3159],\n",
    "[0.5609, 0.7943, 0.305],\n",
    "[0.5748, 0.7929, 0.2941],\n",
    "[0.5886, 0.7913, 0.2833],\n",
    "[0.6024, 0.7896, 0.2726],\n",
    "[0.6161, 0.7878, 0.2622],\n",
    "[0.6297, 0.7859, 0.2521],\n",
    "[0.6433, 0.7839, 0.2423],\n",
    "[0.6567, 0.7818, 0.2329],\n",
    "[0.6701, 0.7796, 0.2239],\n",
    "[0.6833, 0.7773, 0.2155],\n",
    "[0.6963, 0.775, 0.2075],\n",
    "[0.7091, 0.7727, 0.1998],\n",
    "[0.7218, 0.7703, 0.1924],\n",
    "[0.7344, 0.7679, 0.1852],\n",
    "[0.7468, 0.7654, 0.1782],\n",
    "[0.759, 0.7629, 0.1717],\n",
    "[0.771, 0.7604, 0.1658],\n",
    "[0.7829, 0.7579, 0.1608],\n",
    "[0.7945, 0.7554, 0.157],\n",
    "[0.806, 0.7529, 0.1546],\n",
    "[0.8172, 0.7505, 0.1535],\n",
    "[0.8281, 0.7481, 0.1536],\n",
    "[0.8389, 0.7457, 0.1546],\n",
    "[0.8495, 0.7435, 0.1564],\n",
    "[0.86, 0.7413, 0.1587],\n",
    "[0.8703, 0.7392, 0.1615],\n",
    "[0.8804, 0.7372, 0.165],\n",
    "[0.8903, 0.7353, 0.1695],\n",
    "[0.9, 0.7336, 0.1749],\n",
    "[0.9093, 0.7321, 0.1815],\n",
    "[0.9184, 0.7308, 0.189],\n",
    "[0.9272, 0.7298, 0.1973],\n",
    "[0.9357, 0.729, 0.2061],\n",
    "[0.944, 0.7285, 0.2151],\n",
    "[0.9523, 0.7284, 0.2237],\n",
    "[0.9606, 0.7285, 0.2312],\n",
    "[0.9689, 0.7292, 0.2373],\n",
    "[0.977, 0.7304, 0.2418],\n",
    "[0.9842, 0.733, 0.2446],\n",
    "[0.99, 0.7365, 0.2429],\n",
    "[0.9946, 0.7407, 0.2394],\n",
    "[0.9966, 0.7458, 0.2351],\n",
    "[0.9971, 0.7513, 0.2309],\n",
    "[0.9972, 0.7569, 0.2267],\n",
    "[0.9971, 0.7626, 0.2224],\n",
    "[0.9969, 0.7683, 0.2181],\n",
    "[0.9966, 0.774, 0.2138],\n",
    "[0.9962, 0.7798, 0.2095],\n",
    "[0.9957, 0.7856, 0.2053],\n",
    "[0.9949, 0.7915, 0.2012],\n",
    "[0.9938, 0.7974, 0.1974],\n",
    "[0.9923, 0.8034, 0.1939],\n",
    "[0.9906, 0.8095, 0.1906],\n",
    "[0.9885, 0.8156, 0.1875],\n",
    "[0.9861, 0.8218, 0.1846],\n",
    "[0.9835, 0.828, 0.1817],\n",
    "[0.9807, 0.8342, 0.1787],\n",
    "[0.9778, 0.8404, 0.1757],\n",
    "[0.9748, 0.8467, 0.1726],\n",
    "[0.972, 0.8529, 0.1695],\n",
    "[0.9694, 0.8591, 0.1665],\n",
    "[0.9671, 0.8654, 0.1636],\n",
    "[0.9651, 0.8716, 0.1608],\n",
    "[0.9634, 0.8778, 0.1582],\n",
    "[0.9619, 0.884, 0.1557],\n",
    "[0.9608, 0.8902, 0.1532],\n",
    "[0.9601, 0.8963, 0.1507],\n",
    "[0.9596, 0.9023, 0.148],\n",
    "[0.9595, 0.9084, 0.145],\n",
    "[0.9597, 0.9143, 0.1418],\n",
    "[0.9601, 0.9203, 0.1382],\n",
    "[0.9608, 0.9262, 0.1344],\n",
    "[0.9618, 0.932, 0.1304],\n",
    "[0.9629, 0.9379, 0.1261],\n",
    "[0.9642, 0.9437, 0.1216],\n",
    "[0.9657, 0.9494, 0.1168],\n",
    "[0.9674, 0.9552, 0.1116],\n",
    "[0.9692, 0.9609, 0.1061],\n",
    "[0.9711, 0.9667, 0.1001],\n",
    "[0.973, 0.9724, 0.0938],\n",
    "[0.9749, 0.9782, 0.0872],\n",
    "[0.9769, 0.9839, 0.0805]]\n",
    "\n",
    "parula_map = LinearSegmentedColormap.from_list('parula', parula_data)"
   ]
  },
  {
   "cell_type": "code",
   "execution_count": 15,
   "metadata": {},
   "outputs": [],
   "source": [
    "from mpl_toolkits.axes_grid1 import make_axes_locatable\n",
    "\n",
    "def chan_disp(data, chan_map, title, label, figsize=(8, 6), cbar_lower=None, cbar_upper=None, cmap=None):\n",
    "\n",
    "    mean_val = np.nanmean(data)\n",
    "    std_val = np.nanstd(data)\n",
    "    std_mult = 3\n",
    "    # clim = [max(0, mean_val - std_mult*std_val), mean_val + std_mult*std_val]\n",
    "    if cbar_lower is None:\n",
    "        cbar_lower = mean_val - std_mult*std_val\n",
    "    if cbar_upper is None:\n",
    "        cbar_upper = mean_val + std_mult*std_val\n",
    "    clim = [cbar_lower, cbar_upper]\n",
    "\n",
    "    if cmap is None:\n",
    "        cmap = parula_map\n",
    "\n",
    "    chan_data = np.array([data[int(i)] if not np.isnan(i) else np.nan for i in (chan_map.flatten()-1)])\n",
    "    chan_data = chan_data.reshape(chan_map.shape)\n",
    "    f = plt.figure(figsize=figsize)\n",
    "    im = plt.imshow(chan_data, cmap=parula_map)\n",
    "    im.set_clim(clim[0], clim[1])\n",
    "    # plt.gca().invert_yaxis()\n",
    "    # plt.contourf(chan_data, cmap='viridis')\n",
    "    plt.xticks([])\n",
    "    plt.yticks([])\n",
    "    plt.title(title)\n",
    "\n",
    "    divider = make_axes_locatable(plt.gca())\n",
    "    cax = divider.append_axes('right', size='5%', pad=0.05)\n",
    "\n",
    "    cbar = plt.colorbar(im, cax=cax)\n",
    "    cbar.set_label(label)\n",
    "    \n",
    "    plt.show()\n",
    "\n",
    "def chan_disp_seq(data, chan_map, t, t_ranges, labs, title, label, figsize=(3, 6), cbar_pos=[0.81, 0.56, 0.01, 0.3], sup_pos=0.95, cbar_lower=None, cbar_upper=None):\n",
    "    f, tot_axs = plt.subplots(len(labs), len(t_ranges), figsize=(figsize[0]*len(t_ranges), figsize[1]*len(labs)))\n",
    "\n",
    "    if len(labs) == 1:\n",
    "        tot_axs = tot_axs[np.newaxis,:]\n",
    "\n",
    "    mean_val = np.nanmean(data)\n",
    "    std_val = np.nanstd(data)\n",
    "    std_mult = 3\n",
    "    # clim = [max(0, mean_val - std_mult*std_val), mean_val + std_mult*std_val]\n",
    "    if cbar_lower is None:\n",
    "        cbar_lower = mean_val - std_mult*std_val\n",
    "    if cbar_upper is None:\n",
    "        cbar_upper = mean_val + std_mult*std_val\n",
    "    clim = [cbar_lower, cbar_upper]\n",
    "\n",
    "    for j, lab in enumerate(labs):\n",
    "        lab_data = data[j]\n",
    "        axs = tot_axs[j]\n",
    "        for i, t_range in enumerate(t_ranges):\n",
    "            t_inds = np.where((t >= t_range[0]) & (t < t_range[1]))[0]\n",
    "            chan_data = np.array([lab_data[t_inds,:].mean(axis=0)[int(k)] if not np.isnan(k) else np.nan for k in (chan_map.flatten()-1)])\n",
    "            chan_data = chan_data.reshape(chan_map.shape)\n",
    "            im = axs[i].imshow(chan_data, cmap=parula_map)\n",
    "            im.set_clim(clim[0], clim[1])\n",
    "            if i==0:\n",
    "                axs[i].set_ylabel(lab)\n",
    "            if j==0:\n",
    "                axs[i].set_title(f'{t_range[0]} -> {t_range[1]}s')\n",
    "            axs[i].set_xticks([])\n",
    "            axs[i].set_yticks([])\n",
    "            \n",
    "\n",
    "        # divider = make_axes_locatable(plt.gca())\n",
    "        # cax = divider.append_axes('right', size='5%', pad=0.05)\n",
    "\n",
    "        # cbar = plt.colorbar(im, cax=cax)\n",
    "        \n",
    "        # cbar.set_label(label)\n",
    "    f.subplots_adjust(right=0.8)\n",
    "    cbar_ax = f.add_axes(cbar_pos)\n",
    "    cbar = f.colorbar(im, cax=cbar_ax)\n",
    "    cbar.set_label(label)\n",
    "\n",
    "    # f.tight_layout(rect=[0, 0.03, 1, 0.95])\n",
    "    f.suptitle(title, y=sup_pos)\n",
    "    plt.show()"
   ]
  },
  {
   "cell_type": "code",
   "execution_count": 16,
   "metadata": {},
   "outputs": [],
   "source": [
    "def rgb2hex(r,g,b):\n",
    "    return \"#{:02x}{:02x}{:02x}\".format(r,g,b)"
   ]
  },
  {
   "cell_type": "code",
   "execution_count": 17,
   "metadata": {},
   "outputs": [],
   "source": [
    "def get_ci_data(ax):\n",
    "    paths = [child for child in ax.get_children() if isinstance(child, mpl.collections.PolyCollection)]\n",
    "    ci_data = []\n",
    "    for path in paths:\n",
    "        vertices = path.get_paths()[0].vertices  # Array of shape (n, 2)\n",
    "\n",
    "        # ci y coords - contains lower bounds then upper bounds in 1D array\n",
    "        ci_vals_tot = vertices[:-1, 1]\n",
    "\n",
    "        ci_vals = np.zeros((200, 2))\n",
    "        ci_vals[:,0] = ci_vals_tot[1:201]\n",
    "        ci_vals[:,1] = ci_vals_tot[201:-1]\n",
    "        ci_vals[:,1] = ci_vals[:,1][::-1] # reverse the order of the second half\n",
    "        ci_data.append(ci_vals)\n",
    "        \n",
    "    return ci_data"
   ]
  },
  {
   "cell_type": "markdown",
   "metadata": {},
   "source": [
    "### Panel a"
   ]
  },
  {
   "cell_type": "code",
   "execution_count": null,
   "metadata": {},
   "outputs": [],
   "source": [
    "all_pt_elec_data = [np.transpose(all_pt_dict[pt]['X1_map'].reshape(all_pt_dict[pt]['X1_map'].shape[0], -1, all_pt_dict[pt]['X1_map'].shape[-1]), axes=(0,2,1)) for pt in pt_names]\n",
    "all_pt_good_chans = []\n",
    "for i, (pt, d) in enumerate(zip(pt_names, all_pt_elec_data)):\n",
    "    d[d == 0] = np.nan\n",
    "    all_pt_good_chans.append(np.where(~np.isnan(d)[0,0,:])[0])\n",
    "    all_pt_elec_data[i] = d[np.where(~np.isnan(d))].reshape(all_pt_traces[pt].shape[0], all_pt_traces[pt].shape[1], -1)"
   ]
  },
  {
   "cell_type": "code",
   "execution_count": null,
   "metadata": {},
   "outputs": [],
   "source": [
    "def get_pt_map_from_flat(pt):\n",
    "    if pt in ['S14', 'S22']:\n",
    "        chan_map = np.arange(128).reshape(8,16).T+1\n",
    "    elif pt in ['S23', 'S26']:\n",
    "        chan_map = np.flipud(np.arange(128).reshape(8,16).T)+1\n",
    "    elif pt == 'S33':\n",
    "        chan_map = np.fliplr(np.flipud(np.arange(288).reshape(12,24)))+1\n",
    "    elif pt == 'S39':\n",
    "        chan_map = np.arange(288).reshape(24,12).T+1\n",
    "    else:\n",
    "        chan_map = np.flipud(np.arange(288).reshape(24,12).T)+1\n",
    "    return chan_map"
   ]
  },
  {
   "cell_type": "code",
   "execution_count": null,
   "metadata": {},
   "outputs": [],
   "source": [
    "pt = 'S14' # S1 in paper\n",
    "pt_ind = pt_names.index(pt)\n",
    "cnd_labels = all_pt_artic_labels[pt]; lab_names = artic_labels\n",
    "data_avg = cnd_avg(all_pt_elec_data[pt_ind], cnd_labels)\n",
    "chan_map = get_pt_map_from_flat(pt)"
   ]
  },
  {
   "cell_type": "code",
   "execution_count": null,
   "metadata": {},
   "outputs": [
    {
     "data": {
      "image/png": "[encoded data removed]",
      "text/plain": [
       "<Figure size 1000x1400 with 21 Axes>"
      ]
     },
     "metadata": {},
     "output_type": "display_data"
    }
   ],
   "source": [
    "t_ranges = [[-0.5, -0.3], [-0.3, -0.1], [-0.1, 0.1], [0.1, 0.3], [0.3, 0.5]]\n",
    "\n",
    "figsize=(2,3.5)\n",
    "cbar_pos = [0.81, 0.58, 0.015, 0.3]\n",
    "sup_pos = 0.94\n",
    "chan_disp_seq(data_avg, chan_map, t, t_ranges, lab_names, 'S1', 'Z-scored HG', figsize=figsize, cbar_pos=cbar_pos, sup_pos=sup_pos, cbar_lower=0, cbar_upper=3)"
   ]
  },
  {
   "cell_type": "code",
   "execution_count": null,
   "metadata": {},
   "outputs": [],
   "source": [
    "wide_dfs = []\n",
    "long_dfs = []\n",
    "for pt in pt_names:\n",
    "    n_comp = 0.9\n",
    "\n",
    "    curr_trace = all_pt_traces[pt]\n",
    "\n",
    "    d = cnd_avg(curr_trace, all_pt_artic_labels[pt]) # (n_artics, time, channels)\n",
    "    d = np.transpose(d, axes=(2,1,0)) # (channels, time, n_artics)\n",
    "    n_ch = d.shape[0]\n",
    "    d = d.reshape(-1, d.shape[-1]) # (channels*time, n_artics)\n",
    "\n",
    "    hg_artic_df_wide = pd.DataFrame(d, columns=artic_labels)\n",
    "    hg_artic_df_wide['Time'] = np.tile(t, n_ch)\n",
    "    hg_artic_df_wide['Patient'] = [paper_pt_dict[pt]] * d.shape[0]\n",
    "\n",
    "    hg_artic_df_long = hg_artic_df_wide.melt(id_vars=['Time', 'Patient'], var_name='Articulator Type', value_name='Z-scored HG')\n",
    "\n",
    "    \n",
    "    wide_dfs.append(hg_artic_df_wide)\n",
    "    long_dfs.append(hg_artic_df_long)\n",
    "\n",
    "hg_artic_df_wide = pd.concat(wide_dfs, ignore_index=True)\n",
    "hg_artic_df_long = pd.concat(long_dfs, ignore_index=True)"
   ]
  },
  {
   "cell_type": "code",
   "execution_count": null,
   "metadata": {},
   "outputs": [
    {
     "data": {
      "image/png": "[encoded data removed]",
      "text/plain": [
       "<Figure size 1500x150 with 1 Axes>"
      ]
     },
     "metadata": {},
     "output_type": "display_data"
    }
   ],
   "source": [
    "fig_df = hg_artic_df_long[hg_artic_df_long['Patient'] == 'S1']\n",
    "\n",
    "plt.figure(figsize=(15, 1.5))\n",
    "g = sns.lineplot(data=fig_df, x='Time', y='Z-scored HG', hue='Articulator Type', palette=px_colors)\n",
    "g.set_xlabel('Time from response onset (s)')\n",
    "g.set_ylim([-0.25, 2.25])\n",
    "\n",
    "sns.despine()\n",
    "plt.legend([],[], frameon=False)\n",
    "plt.show()\n"
   ]
  },
  {
   "cell_type": "code",
   "execution_count": null,
   "metadata": {},
   "outputs": [],
   "source": [
    "pt = 'S26' # S2 in paper\n",
    "pt_ind = pt_names.index(pt)\n",
    "cnd_labels = all_pt_artic_labels[pt]; lab_names = artic_labels\n",
    "data_avg = cnd_avg(all_pt_elec_data[pt_ind], cnd_labels)\n",
    "chan_map = get_pt_map_from_flat(pt)"
   ]
  },
  {
   "cell_type": "code",
   "execution_count": null,
   "metadata": {},
   "outputs": [
    {
     "data": {
      "image/png": "[encoded data removed]",
      "text/plain": [
       "<Figure size 1000x1400 with 21 Axes>"
      ]
     },
     "metadata": {},
     "output_type": "display_data"
    }
   ],
   "source": [
    "t_ranges = [[-0.5, -0.3], [-0.3, -0.1], [-0.1, 0.1], [0.1, 0.3], [0.3, 0.5]]\n",
    "\n",
    "figsize=(2,3.5)\n",
    "cbar_pos = [0.81, 0.58, 0.015, 0.3]\n",
    "sup_pos = 0.94\n",
    "chan_disp_seq(data_avg, chan_map, t, t_ranges, lab_names, 'S2', 'Z-scored HG', figsize=figsize, cbar_pos=cbar_pos, sup_pos=sup_pos, cbar_lower=0, cbar_upper=3)"
   ]
  },
  {
   "cell_type": "code",
   "execution_count": null,
   "metadata": {},
   "outputs": [
    {
     "data": {
      "image/png": "[encoded data removed]",
      "text/plain": [
       "<Figure size 1500x150 with 1 Axes>"
      ]
     },
     "metadata": {},
     "output_type": "display_data"
    }
   ],
   "source": [
    "fig_df = hg_artic_df_long[hg_artic_df_long['Patient'] == 'S2']\n",
    "\n",
    "plt.figure(figsize=(15, 1.5))\n",
    "g = sns.lineplot(data=fig_df, x='Time', y='Z-scored HG', hue='Articulator Type', palette=px_colors)\n",
    "g.set_xlabel('Time from response onset (s)')\n",
    "g.set_ylim([-0.25, 2.25])\n",
    "\n",
    "sns.despine()\n",
    "plt.legend([],[], frameon=False)\n",
    "plt.show()"
   ]
  },
  {
   "cell_type": "markdown",
   "metadata": {},
   "source": [
    "### Panel b"
   ]
  },
  {
   "cell_type": "code",
   "execution_count": 18,
   "metadata": {},
   "outputs": [],
   "source": [
    "pt = 'S14'\n",
    "curr_trace = all_pt_traces[pt]\n",
    "curr_labels = all_pt_artic_labels[pt]\n",
    "curr_label_names = artic_labels"
   ]
  },
  {
   "cell_type": "code",
   "execution_count": null,
   "metadata": {},
   "outputs": [
    {
     "data": {
      "image/png": "[encoded data removed]",
      "text/plain": [
       "<Figure size 640x480 with 1 Axes>"
      ]
     },
     "metadata": {},
     "output_type": "display_data"
    }
   ],
   "source": [
    "t_pca_comp = 0.9\n",
    "pt_time_pca = PCA(n_components=t_pca_comp).fit_transform(curr_trace.reshape(-1, curr_trace.shape[-1])).reshape(curr_trace.shape[0], -1)\n",
    "pt_time_pca = PCA(n_components=50).fit_transform(pt_time_pca)\n",
    "pt_embed_time = TSNE(n_components=2, perplexity=30).fit_transform(pt_time_pca)\n",
    "\n",
    "plt.figure()\n",
    "for lab in np.unique(curr_labels):\n",
    "    sns.scatterplot(x=pt_embed_time[np.where(curr_labels == lab)[0],1], y=-pt_embed_time[np.where(curr_labels == lab)[0],0], s=100)\n",
    "\n",
    "plt.xlabel('t-SNE 1 (a.u.)')\n",
    "plt.ylabel('t-SNE 2 (a.u.)')\n",
    "\n",
    "frame1 = plt.gca()\n",
    "frame1.axes.get_xaxis().set_ticks([])\n",
    "frame1.axes.get_yaxis().set_ticks([])\n",
    "\n",
    "sns.despine()\n",
    "plt.show()"
   ]
  },
  {
   "cell_type": "code",
   "execution_count": 177,
   "metadata": {},
   "outputs": [
    {
     "data": {
      "application/vnd.microsoft.datawrangler.viewer.v0+json": {
       "columns": [
        {
         "name": "index",
         "rawType": "int64",
         "type": "integer"
        },
        {
         "name": "t-SNE 1",
         "rawType": "float32",
         "type": "float"
        },
        {
         "name": "t-SNE 2",
         "rawType": "float32",
         "type": "float"
        },
        {
         "name": "Articulatory Type",
         "rawType": "object",
         "type": "string"
        }
       ],
       "conversionMethod": "pd.DataFrame",
       "ref": "5f1c2cc1-28f0-4a15-9426-0583ba37658b",
       "rows": [
        [
         "0",
         "0.39653137",
         "4.067564",
         "dorsal"
        ],
        [
         "1",
         "2.63705",
         "-8.047057",
         "dorsal"
        ],
        [
         "2",
         "-1.165552",
         "-9.303896",
         "high"
        ],
        [
         "3",
         "-3.0555847",
         "-5.7077804",
         "low"
        ],
        [
         "4",
         "0.8016601",
         "-4.6595836",
         "low"
        ],
        [
         "5",
         "1.7684962",
         "2.9895577",
         "dorsal"
        ],
        [
         "6",
         "-1.747173",
         "-5.314261",
         "high"
        ],
        [
         "7",
         "5.2516932",
         "-7.039308",
         "low"
        ],
        [
         "8",
         "-2.9803975",
         "-4.6343694",
         "labial"
        ],
        [
         "9",
         "-1.7892654",
         "-3.3145707",
         "low"
        ],
        [
         "10",
         "2.1300447",
         "3.3597538",
         "dorsal"
        ],
        [
         "11",
         "-0.31728414",
         "-5.5306873",
         "high"
        ],
        [
         "12",
         "0.40658554",
         "2.201828",
         "dorsal"
        ],
        [
         "13",
         "1.5331624",
         "-9.551017",
         "dorsal"
        ],
        [
         "14",
         "3.3559794",
         "5.2542224",
         "dorsal"
        ],
        [
         "15",
         "-2.3855064",
         "-5.42756",
         "low"
        ],
        [
         "16",
         "-2.170292",
         "-5.660762",
         "high"
        ],
        [
         "17",
         "-0.72298807",
         "-4.0006366",
         "low"
        ],
        [
         "18",
         "2.224786",
         "-5.990791",
         "high"
        ],
        [
         "19",
         "-5.8839874",
         "-5.250176",
         "labial"
        ],
        [
         "20",
         "-3.0465627",
         "-6.747845",
         "labial"
        ],
        [
         "21",
         "-1.4517473",
         "-4.979893",
         "low"
        ],
        [
         "22",
         "-2.565666",
         "-5.9574084",
         "low"
        ],
        [
         "23",
         "0.77633774",
         "-8.091088",
         "low"
        ],
        [
         "24",
         "0.46317086",
         "2.326855",
         "dorsal"
        ],
        [
         "25",
         "0.94444937",
         "4.82758",
         "dorsal"
        ],
        [
         "26",
         "0.8174684",
         "-8.812355",
         "low"
        ],
        [
         "27",
         "4.7704816",
         "-2.2326112",
         "high"
        ],
        [
         "28",
         "5.62669",
         "-1.8006637",
         "high"
        ],
        [
         "29",
         "-4.5203996",
         "-4.61294",
         "labial"
        ],
        [
         "30",
         "3.6899846",
         "3.4177713",
         "dorsal"
        ],
        [
         "31",
         "-3.642549",
         "-5.378947",
         "labial"
        ],
        [
         "32",
         "1.4463775",
         "-7.7815347",
         "high"
        ],
        [
         "33",
         "-2.4588459",
         "1.1843493",
         "labial"
        ],
        [
         "34",
         "0.96786815",
         "0.5577719",
         "dorsal"
        ],
        [
         "35",
         "3.622796",
         "-7.2511187",
         "high"
        ],
        [
         "36",
         "-3.7842646",
         "-3.6802795",
         "labial"
        ],
        [
         "37",
         "4.263432",
         "-3.3984466",
         "high"
        ],
        [
         "38",
         "1.4350884",
         "1.6427191",
         "high"
        ],
        [
         "39",
         "-2.4943829",
         "-2.974887",
         "labial"
        ],
        [
         "40",
         "-1.8383075",
         "-0.9375697",
         "dorsal"
        ],
        [
         "41",
         "-1.4681133",
         "-5.8041363",
         "low"
        ],
        [
         "42",
         "5.6978264",
         "-0.5604808",
         "labial"
        ],
        [
         "43",
         "-2.5332355",
         "2.6365452",
         "labial"
        ],
        [
         "44",
         "4.596835",
         "-7.5372834",
         "labial"
        ],
        [
         "45",
         "-4.967857",
         "-6.419609",
         "high"
        ],
        [
         "46",
         "0.91111857",
         "3.79032",
         "dorsal"
        ],
        [
         "47",
         "-1.2233162",
         "-6.2320285",
         "low"
        ],
        [
         "48",
         "3.739207",
         "4.702838",
         "dorsal"
        ],
        [
         "49",
         "-4.6885195",
         "-5.527336",
         "labial"
        ]
       ],
       "shape": {
        "columns": 3,
        "rows": 144
       }
      },
      "text/html": [
       "<div>\n",
       "<style scoped>\n",
       "    .dataframe tbody tr th:only-of-type {\n",
       "        vertical-align: middle;\n",
       "    }\n",
       "\n",
       "    .dataframe tbody tr th {\n",
       "        vertical-align: top;\n",
       "    }\n",
       "\n",
       "    .dataframe thead th {\n",
       "        text-align: right;\n",
       "    }\n",
       "</style>\n",
       "<table border=\"1\" class=\"dataframe\">\n",
       "  <thead>\n",
       "    <tr style=\"text-align: right;\">\n",
       "      <th></th>\n",
       "      <th>t-SNE 1</th>\n",
       "      <th>t-SNE 2</th>\n",
       "      <th>Articulatory Type</th>\n",
       "    </tr>\n",
       "  </thead>\n",
       "  <tbody>\n",
       "    <tr>\n",
       "      <th>0</th>\n",
       "      <td>0.396531</td>\n",
       "      <td>4.067564</td>\n",
       "      <td>dorsal</td>\n",
       "    </tr>\n",
       "    <tr>\n",
       "      <th>1</th>\n",
       "      <td>2.637050</td>\n",
       "      <td>-8.047057</td>\n",
       "      <td>dorsal</td>\n",
       "    </tr>\n",
       "    <tr>\n",
       "      <th>2</th>\n",
       "      <td>-1.165552</td>\n",
       "      <td>-9.303896</td>\n",
       "      <td>high</td>\n",
       "    </tr>\n",
       "    <tr>\n",
       "      <th>3</th>\n",
       "      <td>-3.055585</td>\n",
       "      <td>-5.707780</td>\n",
       "      <td>low</td>\n",
       "    </tr>\n",
       "    <tr>\n",
       "      <th>4</th>\n",
       "      <td>0.801660</td>\n",
       "      <td>-4.659584</td>\n",
       "      <td>low</td>\n",
       "    </tr>\n",
       "    <tr>\n",
       "      <th>...</th>\n",
       "      <td>...</td>\n",
       "      <td>...</td>\n",
       "      <td>...</td>\n",
       "    </tr>\n",
       "    <tr>\n",
       "      <th>139</th>\n",
       "      <td>4.459030</td>\n",
       "      <td>3.835755</td>\n",
       "      <td>dorsal</td>\n",
       "    </tr>\n",
       "    <tr>\n",
       "      <th>140</th>\n",
       "      <td>4.237061</td>\n",
       "      <td>-2.712624</td>\n",
       "      <td>high</td>\n",
       "    </tr>\n",
       "    <tr>\n",
       "      <th>141</th>\n",
       "      <td>-2.081830</td>\n",
       "      <td>-0.710808</td>\n",
       "      <td>labial</td>\n",
       "    </tr>\n",
       "    <tr>\n",
       "      <th>142</th>\n",
       "      <td>0.150148</td>\n",
       "      <td>-4.828534</td>\n",
       "      <td>high</td>\n",
       "    </tr>\n",
       "    <tr>\n",
       "      <th>143</th>\n",
       "      <td>4.255309</td>\n",
       "      <td>4.429259</td>\n",
       "      <td>dorsal</td>\n",
       "    </tr>\n",
       "  </tbody>\n",
       "</table>\n",
       "<p>144 rows × 3 columns</p>\n",
       "</div>"
      ],
      "text/plain": [
       "      t-SNE 1   t-SNE 2 Articulatory Type\n",
       "0    0.396531  4.067564            dorsal\n",
       "1    2.637050 -8.047057            dorsal\n",
       "2   -1.165552 -9.303896              high\n",
       "3   -3.055585 -5.707780               low\n",
       "4    0.801660 -4.659584               low\n",
       "..        ...       ...               ...\n",
       "139  4.459030  3.835755            dorsal\n",
       "140  4.237061 -2.712624              high\n",
       "141 -2.081830 -0.710808            labial\n",
       "142  0.150148 -4.828534              high\n",
       "143  4.255309  4.429259            dorsal\n",
       "\n",
       "[144 rows x 3 columns]"
      ]
     },
     "execution_count": 177,
     "metadata": {},
     "output_type": "execute_result"
    }
   ],
   "source": [
    "tsne_2d_data = []\n",
    "for iTrial in range(pt_embed_time.shape[0]):\n",
    "    tsne_dict = {'t-SNE 1': pt_embed_time[iTrial, 0], 't-SNE 2': -pt_embed_time[iTrial, 1], 'Articulatory Type': curr_label_names[curr_labels[iTrial]-1]}\n",
    "    tsne_2d_data.append(tsne_dict)\n",
    "tsne_2d_df = pd.DataFrame(tsne_2d_data)\n",
    "tsne_2d_df"
   ]
  },
  {
   "cell_type": "code",
   "execution_count": null,
   "metadata": {},
   "outputs": [],
   "source": [
    "def get_cluster_scores(data, labels, scorer):\n",
    "    return scorer(data, labels)\n",
    "\n",
    "def silhouette_scorer(data, labels):\n",
    "    # return average of positive silhouette scores\n",
    "    sils = silhouette_samples(data, labels)\n",
    "    sil_score = np.mean(sils[np.where(sils > 0)])\n",
    "    return sil_score"
   ]
  },
  {
   "cell_type": "code",
   "execution_count": 98,
   "metadata": {},
   "outputs": [
    {
     "name": "stderr",
     "output_type": "stream",
     "text": [
      "100%|██████████| 50/50 [00:41<00:00,  1.21it/s]\n"
     ]
    }
   ],
   "source": [
    "t_range = [-0.5, 0.5]\n",
    "t_idx = np.where((t >= t_range[0]) & (t < t_range[1]))[0]\n",
    "n_iter = 50\n",
    "ps_clust_scores = []\n",
    "ps_clust_scores_shuf = []\n",
    "\n",
    "for i in tqdm(range(n_iter)):\n",
    "\n",
    "    pt_time_pca_ld = PCA(n_components=t_pca_comp).fit_transform(curr_trace[:,t_idx,:].reshape(-1, curr_trace.shape[-1])).reshape(curr_trace.shape[0], -1)\n",
    "    pt_time_pca = PCA(n_components=50).fit_transform(pt_time_pca)\n",
    "    pt_embed_time_tsne = TSNE(n_components=2, perplexity=30).fit_transform(pt_time_pca)\n",
    "    pt_embed_time_pca = PCA(n_components=2).fit_transform(pt_time_pca)\n",
    "\n",
    "    sil_score_tsne = get_cluster_scores(pt_embed_time_tsne, curr_labels, silhouette_scorer)\n",
    "    sil_score_pca = get_cluster_scores(pt_embed_time_pca, curr_labels, silhouette_scorer)\n",
    "    sil_score_pca_ld = get_cluster_scores(pt_time_pca_ld, curr_labels, silhouette_scorer)\n",
    "    ch_score = get_cluster_scores(pt_time_pca_ld, curr_labels, calinski_harabasz_score)\n",
    "    db_score = get_cluster_scores(pt_time_pca_ld, curr_labels, davies_bouldin_score)\n",
    "    score_dict = {'Silhouette (t-SNE)': sil_score_tsne, 'Silhouette (PCA)': sil_score_pca, 'Silhouette (Lat. Dyn)': sil_score_pca_ld, 'Calinski-Harabasz': ch_score, 'Davies-Bouldin': db_score}\n",
    "    ps_clust_scores.append(score_dict)\n",
    "\n",
    "    shuf_labels = np.random.permutation(curr_labels)\n",
    "    sil_score_tsne_shuf = get_cluster_scores(pt_embed_time_tsne, shuf_labels, silhouette_scorer)\n",
    "    sil_score_pca_shuf = get_cluster_scores(pt_embed_time_pca, shuf_labels, silhouette_scorer)\n",
    "    sil_score_pca_ld_shuf = get_cluster_scores(pt_time_pca_ld, shuf_labels, silhouette_scorer)\n",
    "    ch_score_shuf = get_cluster_scores(pt_time_pca_ld, shuf_labels, calinski_harabasz_score)\n",
    "    db_score_shuf = get_cluster_scores(pt_time_pca_ld, shuf_labels, davies_bouldin_score)\n",
    "    shuf_dict = {'Silhouette (t-SNE)': sil_score_tsne_shuf, 'Silhouette (PCA)': sil_score_pca_shuf, 'Silhouette (Lat. Dyn)': sil_score_pca_ld_shuf, 'Calinski-Harabasz': ch_score_shuf, 'Davies-Bouldin': db_score_shuf}\n",
    "    ps_clust_scores_shuf.append(shuf_dict)\n"
   ]
  },
  {
   "cell_type": "code",
   "execution_count": null,
   "metadata": {},
   "outputs": [
    {
     "data": {
      "application/vnd.microsoft.datawrangler.viewer.v0+json": {
       "columns": [
        {
         "name": "index",
         "rawType": "int64",
         "type": "integer"
        },
        {
         "name": "Condition",
         "rawType": "object",
         "type": "string"
        },
        {
         "name": "Metric",
         "rawType": "object",
         "type": "string"
        },
        {
         "name": "Score",
         "rawType": "float64",
         "type": "float"
        }
       ],
       "conversionMethod": "pd.DataFrame",
       "ref": "6b95b0d7-0e91-46c1-a5e2-5f67b8edc13e",
       "rows": [
        [
         "0",
         "Articulatory Features",
         "Silhouette (t-SNE)",
         "0.31585928797721863"
        ],
        [
         "1",
         "Articulatory Features",
         "Silhouette (t-SNE)",
         "0.34933337569236755"
        ],
        [
         "2",
         "Articulatory Features",
         "Silhouette (t-SNE)",
         "0.33713749051094055"
        ],
        [
         "3",
         "Articulatory Features",
         "Silhouette (t-SNE)",
         "0.2832779884338379"
        ],
        [
         "4",
         "Articulatory Features",
         "Silhouette (t-SNE)",
         "0.34169527888298035"
        ],
        [
         "5",
         "Articulatory Features",
         "Silhouette (t-SNE)",
         "0.3235720694065094"
        ],
        [
         "6",
         "Articulatory Features",
         "Silhouette (t-SNE)",
         "0.3647320568561554"
        ],
        [
         "7",
         "Articulatory Features",
         "Silhouette (t-SNE)",
         "0.3379002511501312"
        ],
        [
         "8",
         "Articulatory Features",
         "Silhouette (t-SNE)",
         "0.35106489062309265"
        ],
        [
         "9",
         "Articulatory Features",
         "Silhouette (t-SNE)",
         "0.3440574109554291"
        ],
        [
         "10",
         "Articulatory Features",
         "Silhouette (t-SNE)",
         "0.31402018666267395"
        ],
        [
         "11",
         "Articulatory Features",
         "Silhouette (t-SNE)",
         "0.35647353529930115"
        ],
        [
         "12",
         "Articulatory Features",
         "Silhouette (t-SNE)",
         "0.28980791568756104"
        ],
        [
         "13",
         "Articulatory Features",
         "Silhouette (t-SNE)",
         "0.3203641176223755"
        ],
        [
         "14",
         "Articulatory Features",
         "Silhouette (t-SNE)",
         "0.3275233805179596"
        ],
        [
         "15",
         "Articulatory Features",
         "Silhouette (t-SNE)",
         "0.3740796446800232"
        ],
        [
         "16",
         "Articulatory Features",
         "Silhouette (t-SNE)",
         "0.33816492557525635"
        ],
        [
         "17",
         "Articulatory Features",
         "Silhouette (t-SNE)",
         "0.3321272134780884"
        ],
        [
         "18",
         "Articulatory Features",
         "Silhouette (t-SNE)",
         "0.28399917483329773"
        ],
        [
         "19",
         "Articulatory Features",
         "Silhouette (t-SNE)",
         "0.3694004416465759"
        ],
        [
         "20",
         "Articulatory Features",
         "Silhouette (t-SNE)",
         "0.32253944873809814"
        ],
        [
         "21",
         "Articulatory Features",
         "Silhouette (t-SNE)",
         "0.2725706100463867"
        ],
        [
         "22",
         "Articulatory Features",
         "Silhouette (t-SNE)",
         "0.3307305872440338"
        ],
        [
         "23",
         "Articulatory Features",
         "Silhouette (t-SNE)",
         "0.33691370487213135"
        ],
        [
         "24",
         "Articulatory Features",
         "Silhouette (t-SNE)",
         "0.33423569798469543"
        ],
        [
         "25",
         "Articulatory Features",
         "Silhouette (t-SNE)",
         "0.3350282609462738"
        ],
        [
         "26",
         "Articulatory Features",
         "Silhouette (t-SNE)",
         "0.3463592529296875"
        ],
        [
         "27",
         "Articulatory Features",
         "Silhouette (t-SNE)",
         "0.2488406002521515"
        ],
        [
         "28",
         "Articulatory Features",
         "Silhouette (t-SNE)",
         "0.316579133272171"
        ],
        [
         "29",
         "Articulatory Features",
         "Silhouette (t-SNE)",
         "0.3229740560054779"
        ],
        [
         "30",
         "Articulatory Features",
         "Silhouette (t-SNE)",
         "0.3127438426017761"
        ],
        [
         "31",
         "Articulatory Features",
         "Silhouette (t-SNE)",
         "0.2779536843299866"
        ],
        [
         "32",
         "Articulatory Features",
         "Silhouette (t-SNE)",
         "0.22668962180614471"
        ],
        [
         "33",
         "Articulatory Features",
         "Silhouette (t-SNE)",
         "0.31928056478500366"
        ],
        [
         "34",
         "Articulatory Features",
         "Silhouette (t-SNE)",
         "0.34423884749412537"
        ],
        [
         "35",
         "Articulatory Features",
         "Silhouette (t-SNE)",
         "0.31658685207366943"
        ],
        [
         "36",
         "Articulatory Features",
         "Silhouette (t-SNE)",
         "0.3368355929851532"
        ],
        [
         "37",
         "Articulatory Features",
         "Silhouette (t-SNE)",
         "0.31251874566078186"
        ],
        [
         "38",
         "Articulatory Features",
         "Silhouette (t-SNE)",
         "0.31955263018608093"
        ],
        [
         "39",
         "Articulatory Features",
         "Silhouette (t-SNE)",
         "0.3514777719974518"
        ],
        [
         "40",
         "Articulatory Features",
         "Silhouette (t-SNE)",
         "0.33178308606147766"
        ],
        [
         "41",
         "Articulatory Features",
         "Silhouette (t-SNE)",
         "0.3222311735153198"
        ],
        [
         "42",
         "Articulatory Features",
         "Silhouette (t-SNE)",
         "0.3357284963130951"
        ],
        [
         "43",
         "Articulatory Features",
         "Silhouette (t-SNE)",
         "0.2997533082962036"
        ],
        [
         "44",
         "Articulatory Features",
         "Silhouette (t-SNE)",
         "0.32766592502593994"
        ],
        [
         "45",
         "Articulatory Features",
         "Silhouette (t-SNE)",
         "0.36437854170799255"
        ],
        [
         "46",
         "Articulatory Features",
         "Silhouette (t-SNE)",
         "0.33358487486839294"
        ],
        [
         "47",
         "Articulatory Features",
         "Silhouette (t-SNE)",
         "0.3446345627307892"
        ],
        [
         "48",
         "Articulatory Features",
         "Silhouette (t-SNE)",
         "0.3374561369419098"
        ],
        [
         "49",
         "Articulatory Features",
         "Silhouette (t-SNE)",
         "0.3251992166042328"
        ]
       ],
       "shape": {
        "columns": 3,
        "rows": 500
       }
      },
      "text/html": [
       "<div>\n",
       "<style scoped>\n",
       "    .dataframe tbody tr th:only-of-type {\n",
       "        vertical-align: middle;\n",
       "    }\n",
       "\n",
       "    .dataframe tbody tr th {\n",
       "        vertical-align: top;\n",
       "    }\n",
       "\n",
       "    .dataframe thead th {\n",
       "        text-align: right;\n",
       "    }\n",
       "</style>\n",
       "<table border=\"1\" class=\"dataframe\">\n",
       "  <thead>\n",
       "    <tr style=\"text-align: right;\">\n",
       "      <th></th>\n",
       "      <th>Condition</th>\n",
       "      <th>Metric</th>\n",
       "      <th>Score</th>\n",
       "    </tr>\n",
       "  </thead>\n",
       "  <tbody>\n",
       "    <tr>\n",
       "      <th>0</th>\n",
       "      <td>Articulatory Features</td>\n",
       "      <td>Silhouette (t-SNE)</td>\n",
       "      <td>0.315859</td>\n",
       "    </tr>\n",
       "    <tr>\n",
       "      <th>1</th>\n",
       "      <td>Articulatory Features</td>\n",
       "      <td>Silhouette (t-SNE)</td>\n",
       "      <td>0.349333</td>\n",
       "    </tr>\n",
       "    <tr>\n",
       "      <th>2</th>\n",
       "      <td>Articulatory Features</td>\n",
       "      <td>Silhouette (t-SNE)</td>\n",
       "      <td>0.337137</td>\n",
       "    </tr>\n",
       "    <tr>\n",
       "      <th>3</th>\n",
       "      <td>Articulatory Features</td>\n",
       "      <td>Silhouette (t-SNE)</td>\n",
       "      <td>0.283278</td>\n",
       "    </tr>\n",
       "    <tr>\n",
       "      <th>4</th>\n",
       "      <td>Articulatory Features</td>\n",
       "      <td>Silhouette (t-SNE)</td>\n",
       "      <td>0.341695</td>\n",
       "    </tr>\n",
       "    <tr>\n",
       "      <th>...</th>\n",
       "      <td>...</td>\n",
       "      <td>...</td>\n",
       "      <td>...</td>\n",
       "    </tr>\n",
       "    <tr>\n",
       "      <th>495</th>\n",
       "      <td>Chance Distribution</td>\n",
       "      <td>Davies-Bouldin</td>\n",
       "      <td>9.165468</td>\n",
       "    </tr>\n",
       "    <tr>\n",
       "      <th>496</th>\n",
       "      <td>Chance Distribution</td>\n",
       "      <td>Davies-Bouldin</td>\n",
       "      <td>9.578213</td>\n",
       "    </tr>\n",
       "    <tr>\n",
       "      <th>497</th>\n",
       "      <td>Chance Distribution</td>\n",
       "      <td>Davies-Bouldin</td>\n",
       "      <td>8.870372</td>\n",
       "    </tr>\n",
       "    <tr>\n",
       "      <th>498</th>\n",
       "      <td>Chance Distribution</td>\n",
       "      <td>Davies-Bouldin</td>\n",
       "      <td>8.784890</td>\n",
       "    </tr>\n",
       "    <tr>\n",
       "      <th>499</th>\n",
       "      <td>Chance Distribution</td>\n",
       "      <td>Davies-Bouldin</td>\n",
       "      <td>8.686334</td>\n",
       "    </tr>\n",
       "  </tbody>\n",
       "</table>\n",
       "<p>500 rows × 3 columns</p>\n",
       "</div>"
      ],
      "text/plain": [
       "                 Condition              Metric     Score\n",
       "0    Articulatory Features  Silhouette (t-SNE)  0.315859\n",
       "1    Articulatory Features  Silhouette (t-SNE)  0.349333\n",
       "2    Articulatory Features  Silhouette (t-SNE)  0.337137\n",
       "3    Articulatory Features  Silhouette (t-SNE)  0.283278\n",
       "4    Articulatory Features  Silhouette (t-SNE)  0.341695\n",
       "..                     ...                 ...       ...\n",
       "495    Chance Distribution      Davies-Bouldin  9.165468\n",
       "496    Chance Distribution      Davies-Bouldin  9.578213\n",
       "497    Chance Distribution      Davies-Bouldin  8.870372\n",
       "498    Chance Distribution      Davies-Bouldin  8.784890\n",
       "499    Chance Distribution      Davies-Bouldin  8.686334\n",
       "\n",
       "[500 rows x 3 columns]"
      ]
     },
     "execution_count": 158,
     "metadata": {},
     "output_type": "execute_result"
    }
   ],
   "source": [
    "score_df_real = pd.DataFrame(ps_clust_scores)\n",
    "score_df_shuf = pd.DataFrame(ps_clust_scores_shuf)\n",
    "score_df_real['Condition'] = 'Articulatory Features'\n",
    "score_df_shuf['Condition'] = 'Chance Distribution'\n",
    "score_df = pd.concat([score_df_real, score_df_shuf], ignore_index=True)\n",
    "score_df_long = score_df.melt(id_vars='Condition', var_name='Metric', value_name='Score')\n",
    "ps_score_df = score_df[score_df['Condition'] == 'Articulatory Features']\n",
    "score_df_long"
   ]
  },
  {
   "cell_type": "code",
   "execution_count": 141,
   "metadata": {},
   "outputs": [
    {
     "data": {
      "application/vnd.plotly.v1+json": {
       "config": {
        "plotlyServerURL": "https://plotly.com"
       },
       "data": [
        {
         "alignmentgroup": "True",
         "boxpoints": "all",
         "hovertemplate": "Condition=Articulatory Features<br>Silhouette (t-SNE)=%{y}<extra></extra>",
         "legendgroup": "Articulatory Features",
         "marker": {
          "color": "#636EFA"
         },
         "name": "Articulatory Features",
         "notched": false,
         "offsetgroup": "Articulatory Features",
         "orientation": "v",
         "showlegend": true,
         "type": "box",
         "x0": " ",
         "xaxis": "x",
         "y": [
          0.3158593,
          0.34933338,
          0.3371375,
          0.283278,
          0.34169528,
          0.32357207,
          0.36473206,
          0.33790025,
          0.3510649,
          0.3440574,
          0.3140202,
          0.35647354,
          0.28980792,
          0.32036412,
          0.32752338,
          0.37407964,
          0.33816493,
          0.3321272,
          0.28399917,
          0.36940044,
          0.32253945,
          0.2725706,
          0.3307306,
          0.3369137,
          0.3342357,
          0.33502826,
          0.34635925,
          0.2488406,
          0.31657913,
          0.32297406,
          0.31274384,
          0.27795368,
          0.22668962,
          0.31928056,
          0.34423885,
          0.31658685,
          0.3368356,
          0.31251875,
          0.31955263,
          0.35147777,
          0.3317831,
          0.32223117,
          0.3357285,
          0.2997533,
          0.32766593,
          0.36437854,
          0.33358487,
          0.34463456,
          0.33745614,
          0.32519922
         ],
         "y0": " ",
         "yaxis": "y"
        },
        {
         "alignmentgroup": "True",
         "boxpoints": "all",
         "hovertemplate": "Condition=Chance Distribution<br>Silhouette (t-SNE)=%{y}<extra></extra>",
         "legendgroup": "Chance Distribution",
         "marker": {
          "color": "#7F7F7F"
         },
         "name": "Chance Distribution",
         "notched": false,
         "offsetgroup": "Chance Distribution",
         "orientation": "v",
         "showlegend": true,
         "type": "box",
         "x0": " ",
         "xaxis": "x",
         "y": [
          0.031592496,
          0.05020691,
          0.078095905,
          0.082755,
          0.054831147,
          0.058503523,
          0.06473857,
          0.02741561,
          0.07844135,
          0.07170151,
          0.05279522,
          0.08474768,
          0.03744428,
          0.029918704,
          0.055824827,
          0.06977744,
          0.038995627,
          0.027231464,
          0.05801533,
          0.033370752,
          0.0809387,
          0.0626118,
          0.095014624,
          0.06312013,
          0.06661869,
          0.03498228,
          0.04311569,
          0.03788073,
          0.03691987,
          0.046946466,
          0.05489034,
          0.05965343,
          0.054208253,
          0.09529614,
          0.020150328,
          0.07789042,
          0.08468389,
          0.061249953,
          0.12043919,
          0.036579333,
          0.054934602,
          0.03983688,
          0.020184344,
          0.023225809,
          0.07788495,
          0.099637784,
          0.076128274,
          0.0457757,
          0.10692647,
          0.07322494
         ],
         "y0": " ",
         "yaxis": "y"
        }
       ],
       "layout": {
        "boxmode": "group",
        "font": {
         "family": "Arial",
         "size": 17
        },
        "height": 500,
        "legend": {
         "orientation": "h",
         "title": {
          "text": ""
         },
         "tracegroupgap": 0,
         "x": 0.02,
         "xanchor": "left",
         "y": 0.98,
         "yanchor": "top"
        },
        "margin": {
         "t": 60
        },
        "plot_bgcolor": "white",
        "template": {
         "data": {
          "bar": [
           {
            "error_x": {
             "color": "#2a3f5f"
            },
            "error_y": {
             "color": "#2a3f5f"
            },
            "marker": {
             "line": {
              "color": "#E5ECF6",
              "width": 0.5
             },
             "pattern": {
              "fillmode": "overlay",
              "size": 10,
              "solidity": 0.2
             }
            },
            "type": "bar"
           }
          ],
          "barpolar": [
           {
            "marker": {
             "line": {
              "color": "#E5ECF6",
              "width": 0.5
             },
             "pattern": {
              "fillmode": "overlay",
              "size": 10,
              "solidity": 0.2
             }
            },
            "type": "barpolar"
           }
          ],
          "carpet": [
           {
            "aaxis": {
             "endlinecolor": "#2a3f5f",
             "gridcolor": "white",
             "linecolor": "white",
             "minorgridcolor": "white",
             "startlinecolor": "#2a3f5f"
            },
            "baxis": {
             "endlinecolor": "#2a3f5f",
             "gridcolor": "white",
             "linecolor": "white",
             "minorgridcolor": "white",
             "startlinecolor": "#2a3f5f"
            },
            "type": "carpet"
           }
          ],
          "choropleth": [
           {
            "colorbar": {
             "outlinewidth": 0,
             "ticks": ""
            },
            "type": "choropleth"
           }
          ],
          "contour": [
           {
            "colorbar": {
             "outlinewidth": 0,
             "ticks": ""
            },
            "colorscale": [
             [
              0,
              "#0d0887"
             ],
             [
              0.1111111111111111,
              "#46039f"
             ],
             [
              0.2222222222222222,
              "#7201a8"
             ],
             [
              0.3333333333333333,
              "#9c179e"
             ],
             [
              0.4444444444444444,
              "#bd3786"
             ],
             [
              0.5555555555555556,
              "#d8576b"
             ],
             [
              0.6666666666666666,
              "#ed7953"
             ],
             [
              0.7777777777777778,
              "#fb9f3a"
             ],
             [
              0.8888888888888888,
              "#fdca26"
             ],
             [
              1,
              "#f0f921"
             ]
            ],
            "type": "contour"
           }
          ],
          "contourcarpet": [
           {
            "colorbar": {
             "outlinewidth": 0,
             "ticks": ""
            },
            "type": "contourcarpet"
           }
          ],
          "heatmap": [
           {
            "colorbar": {
             "outlinewidth": 0,
             "ticks": ""
            },
            "colorscale": [
             [
              0,
              "#0d0887"
             ],
             [
              0.1111111111111111,
              "#46039f"
             ],
             [
              0.2222222222222222,
              "#7201a8"
             ],
             [
              0.3333333333333333,
              "#9c179e"
             ],
             [
              0.4444444444444444,
              "#bd3786"
             ],
             [
              0.5555555555555556,
              "#d8576b"
             ],
             [
              0.6666666666666666,
              "#ed7953"
             ],
             [
              0.7777777777777778,
              "#fb9f3a"
             ],
             [
              0.8888888888888888,
              "#fdca26"
             ],
             [
              1,
              "#f0f921"
             ]
            ],
            "type": "heatmap"
           }
          ],
          "heatmapgl": [
           {
            "colorbar": {
             "outlinewidth": 0,
             "ticks": ""
            },
            "colorscale": [
             [
              0,
              "#0d0887"
             ],
             [
              0.1111111111111111,
              "#46039f"
             ],
             [
              0.2222222222222222,
              "#7201a8"
             ],
             [
              0.3333333333333333,
              "#9c179e"
             ],
             [
              0.4444444444444444,
              "#bd3786"
             ],
             [
              0.5555555555555556,
              "#d8576b"
             ],
             [
              0.6666666666666666,
              "#ed7953"
             ],
             [
              0.7777777777777778,
              "#fb9f3a"
             ],
             [
              0.8888888888888888,
              "#fdca26"
             ],
             [
              1,
              "#f0f921"
             ]
            ],
            "type": "heatmapgl"
           }
          ],
          "histogram": [
           {
            "marker": {
             "pattern": {
              "fillmode": "overlay",
              "size": 10,
              "solidity": 0.2
             }
            },
            "type": "histogram"
           }
          ],
          "histogram2d": [
           {
            "colorbar": {
             "outlinewidth": 0,
             "ticks": ""
            },
            "colorscale": [
             [
              0,
              "#0d0887"
             ],
             [
              0.1111111111111111,
              "#46039f"
             ],
             [
              0.2222222222222222,
              "#7201a8"
             ],
             [
              0.3333333333333333,
              "#9c179e"
             ],
             [
              0.4444444444444444,
              "#bd3786"
             ],
             [
              0.5555555555555556,
              "#d8576b"
             ],
             [
              0.6666666666666666,
              "#ed7953"
             ],
             [
              0.7777777777777778,
              "#fb9f3a"
             ],
             [
              0.8888888888888888,
              "#fdca26"
             ],
             [
              1,
              "#f0f921"
             ]
            ],
            "type": "histogram2d"
           }
          ],
          "histogram2dcontour": [
           {
            "colorbar": {
             "outlinewidth": 0,
             "ticks": ""
            },
            "colorscale": [
             [
              0,
              "#0d0887"
             ],
             [
              0.1111111111111111,
              "#46039f"
             ],
             [
              0.2222222222222222,
              "#7201a8"
             ],
             [
              0.3333333333333333,
              "#9c179e"
             ],
             [
              0.4444444444444444,
              "#bd3786"
             ],
             [
              0.5555555555555556,
              "#d8576b"
             ],
             [
              0.6666666666666666,
              "#ed7953"
             ],
             [
              0.7777777777777778,
              "#fb9f3a"
             ],
             [
              0.8888888888888888,
              "#fdca26"
             ],
             [
              1,
              "#f0f921"
             ]
            ],
            "type": "histogram2dcontour"
           }
          ],
          "mesh3d": [
           {
            "colorbar": {
             "outlinewidth": 0,
             "ticks": ""
            },
            "type": "mesh3d"
           }
          ],
          "parcoords": [
           {
            "line": {
             "colorbar": {
              "outlinewidth": 0,
              "ticks": ""
             }
            },
            "type": "parcoords"
           }
          ],
          "pie": [
           {
            "automargin": true,
            "type": "pie"
           }
          ],
          "scatter": [
           {
            "fillpattern": {
             "fillmode": "overlay",
             "size": 10,
             "solidity": 0.2
            },
            "type": "scatter"
           }
          ],
          "scatter3d": [
           {
            "line": {
             "colorbar": {
              "outlinewidth": 0,
              "ticks": ""
             }
            },
            "marker": {
             "colorbar": {
              "outlinewidth": 0,
              "ticks": ""
             }
            },
            "type": "scatter3d"
           }
          ],
          "scattercarpet": [
           {
            "marker": {
             "colorbar": {
              "outlinewidth": 0,
              "ticks": ""
             }
            },
            "type": "scattercarpet"
           }
          ],
          "scattergeo": [
           {
            "marker": {
             "colorbar": {
              "outlinewidth": 0,
              "ticks": ""
             }
            },
            "type": "scattergeo"
           }
          ],
          "scattergl": [
           {
            "marker": {
             "colorbar": {
              "outlinewidth": 0,
              "ticks": ""
             }
            },
            "type": "scattergl"
           }
          ],
          "scattermapbox": [
           {
            "marker": {
             "colorbar": {
              "outlinewidth": 0,
              "ticks": ""
             }
            },
            "type": "scattermapbox"
           }
          ],
          "scatterpolar": [
           {
            "marker": {
             "colorbar": {
              "outlinewidth": 0,
              "ticks": ""
             }
            },
            "type": "scatterpolar"
           }
          ],
          "scatterpolargl": [
           {
            "marker": {
             "colorbar": {
              "outlinewidth": 0,
              "ticks": ""
             }
            },
            "type": "scatterpolargl"
           }
          ],
          "scatterternary": [
           {
            "marker": {
             "colorbar": {
              "outlinewidth": 0,
              "ticks": ""
             }
            },
            "type": "scatterternary"
           }
          ],
          "surface": [
           {
            "colorbar": {
             "outlinewidth": 0,
             "ticks": ""
            },
            "colorscale": [
             [
              0,
              "#0d0887"
             ],
             [
              0.1111111111111111,
              "#46039f"
             ],
             [
              0.2222222222222222,
              "#7201a8"
             ],
             [
              0.3333333333333333,
              "#9c179e"
             ],
             [
              0.4444444444444444,
              "#bd3786"
             ],
             [
              0.5555555555555556,
              "#d8576b"
             ],
             [
              0.6666666666666666,
              "#ed7953"
             ],
             [
              0.7777777777777778,
              "#fb9f3a"
             ],
             [
              0.8888888888888888,
              "#fdca26"
             ],
             [
              1,
              "#f0f921"
             ]
            ],
            "type": "surface"
           }
          ],
          "table": [
           {
            "cells": {
             "fill": {
              "color": "#EBF0F8"
             },
             "line": {
              "color": "white"
             }
            },
            "header": {
             "fill": {
              "color": "#C8D4E3"
             },
             "line": {
              "color": "white"
             }
            },
            "type": "table"
           }
          ]
         },
         "layout": {
          "annotationdefaults": {
           "arrowcolor": "#2a3f5f",
           "arrowhead": 0,
           "arrowwidth": 1
          },
          "autotypenumbers": "strict",
          "coloraxis": {
           "colorbar": {
            "outlinewidth": 0,
            "ticks": ""
           }
          },
          "colorscale": {
           "diverging": [
            [
             0,
             "#8e0152"
            ],
            [
             0.1,
             "#c51b7d"
            ],
            [
             0.2,
             "#de77ae"
            ],
            [
             0.3,
             "#f1b6da"
            ],
            [
             0.4,
             "#fde0ef"
            ],
            [
             0.5,
             "#f7f7f7"
            ],
            [
             0.6,
             "#e6f5d0"
            ],
            [
             0.7,
             "#b8e186"
            ],
            [
             0.8,
             "#7fbc41"
            ],
            [
             0.9,
             "#4d9221"
            ],
            [
             1,
             "#276419"
            ]
           ],
           "sequential": [
            [
             0,
             "#0d0887"
            ],
            [
             0.1111111111111111,
             "#46039f"
            ],
            [
             0.2222222222222222,
             "#7201a8"
            ],
            [
             0.3333333333333333,
             "#9c179e"
            ],
            [
             0.4444444444444444,
             "#bd3786"
            ],
            [
             0.5555555555555556,
             "#d8576b"
            ],
            [
             0.6666666666666666,
             "#ed7953"
            ],
            [
             0.7777777777777778,
             "#fb9f3a"
            ],
            [
             0.8888888888888888,
             "#fdca26"
            ],
            [
             1,
             "#f0f921"
            ]
           ],
           "sequentialminus": [
            [
             0,
             "#0d0887"
            ],
            [
             0.1111111111111111,
             "#46039f"
            ],
            [
             0.2222222222222222,
             "#7201a8"
            ],
            [
             0.3333333333333333,
             "#9c179e"
            ],
            [
             0.4444444444444444,
             "#bd3786"
            ],
            [
             0.5555555555555556,
             "#d8576b"
            ],
            [
             0.6666666666666666,
             "#ed7953"
            ],
            [
             0.7777777777777778,
             "#fb9f3a"
            ],
            [
             0.8888888888888888,
             "#fdca26"
            ],
            [
             1,
             "#f0f921"
            ]
           ]
          },
          "colorway": [
           "#636efa",
           "#EF553B",
           "#00cc96",
           "#ab63fa",
           "#FFA15A",
           "#19d3f3",
           "#FF6692",
           "#B6E880",
           "#FF97FF",
           "#FECB52"
          ],
          "font": {
           "color": "#2a3f5f"
          },
          "geo": {
           "bgcolor": "white",
           "lakecolor": "white",
           "landcolor": "#E5ECF6",
           "showlakes": true,
           "showland": true,
           "subunitcolor": "white"
          },
          "hoverlabel": {
           "align": "left"
          },
          "hovermode": "closest",
          "mapbox": {
           "style": "light"
          },
          "paper_bgcolor": "white",
          "plot_bgcolor": "#E5ECF6",
          "polar": {
           "angularaxis": {
            "gridcolor": "white",
            "linecolor": "white",
            "ticks": ""
           },
           "bgcolor": "#E5ECF6",
           "radialaxis": {
            "gridcolor": "white",
            "linecolor": "white",
            "ticks": ""
           }
          },
          "scene": {
           "xaxis": {
            "backgroundcolor": "#E5ECF6",
            "gridcolor": "white",
            "gridwidth": 2,
            "linecolor": "white",
            "showbackground": true,
            "ticks": "",
            "zerolinecolor": "white"
           },
           "yaxis": {
            "backgroundcolor": "#E5ECF6",
            "gridcolor": "white",
            "gridwidth": 2,
            "linecolor": "white",
            "showbackground": true,
            "ticks": "",
            "zerolinecolor": "white"
           },
           "zaxis": {
            "backgroundcolor": "#E5ECF6",
            "gridcolor": "white",
            "gridwidth": 2,
            "linecolor": "white",
            "showbackground": true,
            "ticks": "",
            "zerolinecolor": "white"
           }
          },
          "shapedefaults": {
           "line": {
            "color": "#2a3f5f"
           }
          },
          "ternary": {
           "aaxis": {
            "gridcolor": "white",
            "linecolor": "white",
            "ticks": ""
           },
           "baxis": {
            "gridcolor": "white",
            "linecolor": "white",
            "ticks": ""
           },
           "bgcolor": "#E5ECF6",
           "caxis": {
            "gridcolor": "white",
            "linecolor": "white",
            "ticks": ""
           }
          },
          "title": {
           "x": 0.05
          },
          "xaxis": {
           "automargin": true,
           "gridcolor": "white",
           "linecolor": "white",
           "ticks": "",
           "title": {
            "standoff": 15
           },
           "zerolinecolor": "white",
           "zerolinewidth": 2
          },
          "yaxis": {
           "automargin": true,
           "gridcolor": "white",
           "linecolor": "white",
           "ticks": "",
           "title": {
            "standoff": 15
           },
           "zerolinecolor": "white",
           "zerolinewidth": 2
          }
         }
        },
        "width": 600,
        "xaxis": {
         "anchor": "y",
         "domain": [
          0,
          1
         ],
         "linecolor": "black",
         "mirror": false,
         "showgrid": false,
         "showline": true,
         "ticks": "outside",
         "title": {
          "text": ""
         }
        },
        "yaxis": {
         "anchor": "x",
         "domain": [
          0,
          1
         ],
         "linecolor": "black",
         "mirror": false,
         "range": [
          -0.01,
          0.45
         ],
         "showgrid": false,
         "showline": true,
         "ticks": "outside",
         "title": {
          "text": "Silhouette (t-SNE)"
         }
        }
       }
      }
     },
     "metadata": {},
     "output_type": "display_data"
    }
   ],
   "source": [
    "fig = px.box(score_df, color='Condition', y=\"Silhouette (t-SNE)\", points='all', width=600, height=500, color_discrete_sequence=[px_colors[0], '#7F7F7F'])\n",
    "fig.update_layout(\n",
    "    plot_bgcolor='white',\n",
    "    legend=dict(\n",
    "        orientation='h',\n",
    "        yanchor='top',\n",
    "        y=0.98,\n",
    "        xanchor='left',\n",
    "        x=0.02,\n",
    "        title_text=''\n",
    "    ),\n",
    "    font=dict(size=17, family='Arial')\n",
    ")\n",
    "fig.update_xaxes(\n",
    "    title='',\n",
    "    mirror=False,\n",
    "    ticks='outside',\n",
    "    showline=True,\n",
    "    linecolor='black',\n",
    "    showgrid=False,\n",
    ")\n",
    "fig.update_yaxes(\n",
    "    # title='Davies-Bouldin Score',\n",
    "    mirror=False,\n",
    "    ticks='outside',\n",
    "    showline=True,\n",
    "    linecolor='black',\n",
    "    showgrid=False,\n",
    "    range=[-0.01, 0.45],\n",
    ")\n",
    "\n",
    "fig.show()"
   ]
  },
  {
   "cell_type": "code",
   "execution_count": 146,
   "metadata": {},
   "outputs": [
    {
     "name": "stdout",
     "output_type": "stream",
     "text": [
      "MWU: U = 2500.0, p = 7.066071930388932e-18\n"
     ]
    }
   ],
   "source": [
    "ps_artic = score_df[score_df['Condition'] == 'Articulatory Features']['Silhouette (t-SNE)'].values\n",
    "ps_chance = score_df[score_df['Condition'] == 'Chance Distribution']['Silhouette (t-SNE)'].values\n",
    "\n",
    "res_ps = stats.mannwhitneyu(ps_artic, ps_chance, alternative='two-sided')\n",
    "print(f'MWU: U = {res_ps.statistic}, p = {res_ps.pvalue}')\n",
    "# res_ps = stats.ttest_1samp(ps_chance, ps_artic)\n",
    "# print(f'T-test: t = {res_ps.statistic}, p = {res_ps.pvalue}')"
   ]
  },
  {
   "cell_type": "markdown",
   "metadata": {},
   "source": [
    "### Panel c"
   ]
  },
  {
   "cell_type": "code",
   "execution_count": 272,
   "metadata": {},
   "outputs": [],
   "source": [
    "wide_dfs = []\n",
    "long_dfs = []\n",
    "for pt in pt_names:\n",
    "    n_comp = 0.9\n",
    "\n",
    "    curr_trace = all_pt_traces[pt]\n",
    "    curr_pca = PCA(n_components=n_comp).fit_transform(curr_trace.reshape(-1, curr_trace.shape[-1])).reshape(curr_trace.shape[0], curr_trace.shape[1], -1)\n",
    "\n",
    "    d = curr_pca\n",
    "    n_tr = d.shape[0]\n",
    "    d = d.reshape(-1, d.shape[-1])\n",
    "    unalgn_df_wide = pd.DataFrame(d, columns=[f'PC {i+1}' for i in range(d.shape[-1])])\n",
    "    unalgn_df_wide['Time'] = np.tile(t, n_tr)\n",
    "    unalgn_df_wide['Patient'] = [paper_pt_dict[pt]] * d.shape[0]\n",
    "    unalgn_df_wide['Phoneme IDs'] = np.repeat(all_pt_phon_seqs_str[pt], t.shape[0])\n",
    "    unalgn_df_wide['Vowel Sequence'] = unalgn_df_wide['Phoneme IDs'].apply(labels2cv)\n",
    "    unalgn_df_wide['Phoneme Sequence'] = unalgn_df_wide['Phoneme IDs'].apply(lambda x: ''.join([phon_labels[int(i)-1] for i in x]))\n",
    "    unalgn_df_wide['Articulator Sequence'] = unalgn_df_wide['Phoneme IDs'].apply(phon2artic_seq)\n",
    "\n",
    "    unalgn_df_long = unalgn_df_wide.melt(id_vars=['Time', 'Patient', 'Phoneme IDs', 'Vowel Sequence', 'Phoneme Sequence', 'Articulator Sequence'], var_name='PC', value_name='Value')\n",
    "    unalgn_df_long['PC'] = unalgn_df_long['PC'].apply(lambda x: int(x.split(' ')[-1]))\n",
    "    \n",
    "    wide_dfs.append(unalgn_df_wide)\n",
    "    long_dfs.append(unalgn_df_long)\n",
    "\n",
    "unalgn_df_wide = pd.concat(wide_dfs, ignore_index=True)\n",
    "unalgn_df_long = pd.concat(long_dfs, ignore_index=True)"
   ]
  },
  {
   "cell_type": "code",
   "execution_count": 273,
   "metadata": {},
   "outputs": [
    {
     "data": {
      "text/html": [
       "<div>\n",
       "<style scoped>\n",
       "    .dataframe tbody tr th:only-of-type {\n",
       "        vertical-align: middle;\n",
       "    }\n",
       "\n",
       "    .dataframe tbody tr th {\n",
       "        vertical-align: top;\n",
       "    }\n",
       "\n",
       "    .dataframe thead th {\n",
       "        text-align: right;\n",
       "    }\n",
       "</style>\n",
       "<table border=\"1\" class=\"dataframe\">\n",
       "  <thead>\n",
       "    <tr style=\"text-align: right;\">\n",
       "      <th></th>\n",
       "      <th>PC 1</th>\n",
       "      <th>PC 2</th>\n",
       "      <th>PC 3</th>\n",
       "      <th>PC 4</th>\n",
       "      <th>PC 5</th>\n",
       "      <th>PC 6</th>\n",
       "      <th>PC 7</th>\n",
       "      <th>PC 8</th>\n",
       "      <th>PC 9</th>\n",
       "      <th>PC 10</th>\n",
       "      <th>...</th>\n",
       "      <th>PC 58</th>\n",
       "      <th>PC 59</th>\n",
       "      <th>PC 60</th>\n",
       "      <th>PC 61</th>\n",
       "      <th>PC 62</th>\n",
       "      <th>PC 63</th>\n",
       "      <th>PC 64</th>\n",
       "      <th>PC 65</th>\n",
       "      <th>PC 66</th>\n",
       "      <th>PC 67</th>\n",
       "    </tr>\n",
       "  </thead>\n",
       "  <tbody>\n",
       "    <tr>\n",
       "      <th>0</th>\n",
       "      <td>-2.024448</td>\n",
       "      <td>1.094516</td>\n",
       "      <td>-0.488338</td>\n",
       "      <td>0.628861</td>\n",
       "      <td>-0.528684</td>\n",
       "      <td>0.847310</td>\n",
       "      <td>0.128835</td>\n",
       "      <td>0.558066</td>\n",
       "      <td>0.787708</td>\n",
       "      <td>0.419163</td>\n",
       "      <td>...</td>\n",
       "      <td>NaN</td>\n",
       "      <td>NaN</td>\n",
       "      <td>NaN</td>\n",
       "      <td>NaN</td>\n",
       "      <td>NaN</td>\n",
       "      <td>NaN</td>\n",
       "      <td>NaN</td>\n",
       "      <td>NaN</td>\n",
       "      <td>NaN</td>\n",
       "      <td>NaN</td>\n",
       "    </tr>\n",
       "    <tr>\n",
       "      <th>1</th>\n",
       "      <td>-2.203591</td>\n",
       "      <td>1.013278</td>\n",
       "      <td>-0.530105</td>\n",
       "      <td>0.599923</td>\n",
       "      <td>-0.549583</td>\n",
       "      <td>0.804297</td>\n",
       "      <td>0.051540</td>\n",
       "      <td>0.363235</td>\n",
       "      <td>0.670084</td>\n",
       "      <td>0.328733</td>\n",
       "      <td>...</td>\n",
       "      <td>NaN</td>\n",
       "      <td>NaN</td>\n",
       "      <td>NaN</td>\n",
       "      <td>NaN</td>\n",
       "      <td>NaN</td>\n",
       "      <td>NaN</td>\n",
       "      <td>NaN</td>\n",
       "      <td>NaN</td>\n",
       "      <td>NaN</td>\n",
       "      <td>NaN</td>\n",
       "    </tr>\n",
       "    <tr>\n",
       "      <th>2</th>\n",
       "      <td>-2.398940</td>\n",
       "      <td>0.905197</td>\n",
       "      <td>-0.574870</td>\n",
       "      <td>0.515646</td>\n",
       "      <td>-0.568206</td>\n",
       "      <td>0.722779</td>\n",
       "      <td>-0.027757</td>\n",
       "      <td>0.170598</td>\n",
       "      <td>0.571508</td>\n",
       "      <td>0.268142</td>\n",
       "      <td>...</td>\n",
       "      <td>NaN</td>\n",
       "      <td>NaN</td>\n",
       "      <td>NaN</td>\n",
       "      <td>NaN</td>\n",
       "      <td>NaN</td>\n",
       "      <td>NaN</td>\n",
       "      <td>NaN</td>\n",
       "      <td>NaN</td>\n",
       "      <td>NaN</td>\n",
       "      <td>NaN</td>\n",
       "    </tr>\n",
       "    <tr>\n",
       "      <th>3</th>\n",
       "      <td>-2.588752</td>\n",
       "      <td>0.778326</td>\n",
       "      <td>-0.606035</td>\n",
       "      <td>0.395776</td>\n",
       "      <td>-0.581074</td>\n",
       "      <td>0.621781</td>\n",
       "      <td>-0.088098</td>\n",
       "      <td>0.032309</td>\n",
       "      <td>0.502136</td>\n",
       "      <td>0.234808</td>\n",
       "      <td>...</td>\n",
       "      <td>NaN</td>\n",
       "      <td>NaN</td>\n",
       "      <td>NaN</td>\n",
       "      <td>NaN</td>\n",
       "      <td>NaN</td>\n",
       "      <td>NaN</td>\n",
       "      <td>NaN</td>\n",
       "      <td>NaN</td>\n",
       "      <td>NaN</td>\n",
       "      <td>NaN</td>\n",
       "    </tr>\n",
       "    <tr>\n",
       "      <th>4</th>\n",
       "      <td>-2.752075</td>\n",
       "      <td>0.653126</td>\n",
       "      <td>-0.598395</td>\n",
       "      <td>0.254790</td>\n",
       "      <td>-0.589994</td>\n",
       "      <td>0.500005</td>\n",
       "      <td>-0.118858</td>\n",
       "      <td>-0.078126</td>\n",
       "      <td>0.424224</td>\n",
       "      <td>0.202940</td>\n",
       "      <td>...</td>\n",
       "      <td>NaN</td>\n",
       "      <td>NaN</td>\n",
       "      <td>NaN</td>\n",
       "      <td>NaN</td>\n",
       "      <td>NaN</td>\n",
       "      <td>NaN</td>\n",
       "      <td>NaN</td>\n",
       "      <td>NaN</td>\n",
       "      <td>NaN</td>\n",
       "      <td>NaN</td>\n",
       "    </tr>\n",
       "    <tr>\n",
       "      <th>...</th>\n",
       "      <td>...</td>\n",
       "      <td>...</td>\n",
       "      <td>...</td>\n",
       "      <td>...</td>\n",
       "      <td>...</td>\n",
       "      <td>...</td>\n",
       "      <td>...</td>\n",
       "      <td>...</td>\n",
       "      <td>...</td>\n",
       "      <td>...</td>\n",
       "      <td>...</td>\n",
       "      <td>...</td>\n",
       "      <td>...</td>\n",
       "      <td>...</td>\n",
       "      <td>...</td>\n",
       "      <td>...</td>\n",
       "      <td>...</td>\n",
       "      <td>...</td>\n",
       "      <td>...</td>\n",
       "      <td>...</td>\n",
       "      <td>...</td>\n",
       "    </tr>\n",
       "    <tr>\n",
       "      <th>219195</th>\n",
       "      <td>2.156364</td>\n",
       "      <td>0.538008</td>\n",
       "      <td>-1.001617</td>\n",
       "      <td>-0.670586</td>\n",
       "      <td>-0.474570</td>\n",
       "      <td>0.617459</td>\n",
       "      <td>0.270964</td>\n",
       "      <td>0.674263</td>\n",
       "      <td>-0.732389</td>\n",
       "      <td>-0.101838</td>\n",
       "      <td>...</td>\n",
       "      <td>-0.462940</td>\n",
       "      <td>-0.230530</td>\n",
       "      <td>0.243952</td>\n",
       "      <td>-0.205760</td>\n",
       "      <td>0.054290</td>\n",
       "      <td>0.600553</td>\n",
       "      <td>0.035332</td>\n",
       "      <td>0.213956</td>\n",
       "      <td>0.122339</td>\n",
       "      <td>0.731079</td>\n",
       "    </tr>\n",
       "    <tr>\n",
       "      <th>219196</th>\n",
       "      <td>2.252653</td>\n",
       "      <td>0.600619</td>\n",
       "      <td>-1.006715</td>\n",
       "      <td>-0.485818</td>\n",
       "      <td>-0.593759</td>\n",
       "      <td>0.849121</td>\n",
       "      <td>0.345894</td>\n",
       "      <td>0.457519</td>\n",
       "      <td>-0.729127</td>\n",
       "      <td>-0.116138</td>\n",
       "      <td>...</td>\n",
       "      <td>-0.448477</td>\n",
       "      <td>-0.231072</td>\n",
       "      <td>0.266410</td>\n",
       "      <td>-0.162863</td>\n",
       "      <td>0.054542</td>\n",
       "      <td>0.624813</td>\n",
       "      <td>-0.010849</td>\n",
       "      <td>0.183598</td>\n",
       "      <td>0.077702</td>\n",
       "      <td>0.737251</td>\n",
       "    </tr>\n",
       "    <tr>\n",
       "      <th>219197</th>\n",
       "      <td>2.334182</td>\n",
       "      <td>0.641092</td>\n",
       "      <td>-1.036326</td>\n",
       "      <td>-0.290023</td>\n",
       "      <td>-0.685069</td>\n",
       "      <td>1.012470</td>\n",
       "      <td>0.431407</td>\n",
       "      <td>0.262598</td>\n",
       "      <td>-0.723850</td>\n",
       "      <td>-0.120630</td>\n",
       "      <td>...</td>\n",
       "      <td>-0.414304</td>\n",
       "      <td>-0.203775</td>\n",
       "      <td>0.296239</td>\n",
       "      <td>-0.127238</td>\n",
       "      <td>0.044731</td>\n",
       "      <td>0.632985</td>\n",
       "      <td>-0.063860</td>\n",
       "      <td>0.144170</td>\n",
       "      <td>0.028442</td>\n",
       "      <td>0.729300</td>\n",
       "    </tr>\n",
       "    <tr>\n",
       "      <th>219198</th>\n",
       "      <td>2.373623</td>\n",
       "      <td>0.651238</td>\n",
       "      <td>-1.058772</td>\n",
       "      <td>-0.094827</td>\n",
       "      <td>-0.740857</td>\n",
       "      <td>1.101963</td>\n",
       "      <td>0.527248</td>\n",
       "      <td>0.086648</td>\n",
       "      <td>-0.715129</td>\n",
       "      <td>-0.118131</td>\n",
       "      <td>...</td>\n",
       "      <td>-0.367125</td>\n",
       "      <td>-0.146474</td>\n",
       "      <td>0.316599</td>\n",
       "      <td>-0.104471</td>\n",
       "      <td>0.033322</td>\n",
       "      <td>0.620186</td>\n",
       "      <td>-0.119038</td>\n",
       "      <td>0.086192</td>\n",
       "      <td>-0.020249</td>\n",
       "      <td>0.713772</td>\n",
       "    </tr>\n",
       "    <tr>\n",
       "      <th>219199</th>\n",
       "      <td>2.365538</td>\n",
       "      <td>0.624515</td>\n",
       "      <td>-1.088312</td>\n",
       "      <td>0.091127</td>\n",
       "      <td>-0.763509</td>\n",
       "      <td>1.117415</td>\n",
       "      <td>0.606999</td>\n",
       "      <td>-0.057216</td>\n",
       "      <td>-0.692149</td>\n",
       "      <td>-0.109380</td>\n",
       "      <td>...</td>\n",
       "      <td>-0.311128</td>\n",
       "      <td>-0.079898</td>\n",
       "      <td>0.326647</td>\n",
       "      <td>-0.078606</td>\n",
       "      <td>0.014664</td>\n",
       "      <td>0.569652</td>\n",
       "      <td>-0.168345</td>\n",
       "      <td>-0.004494</td>\n",
       "      <td>-0.053095</td>\n",
       "      <td>0.689647</td>\n",
       "    </tr>\n",
       "  </tbody>\n",
       "</table>\n",
       "<p>219200 rows × 73 columns</p>\n",
       "</div>"
      ],
      "text/plain": [
       "            PC 1      PC 2      PC 3      PC 4      PC 5      PC 6      PC 7  \\\n",
       "0      -2.024448  1.094516 -0.488338  0.628861 -0.528684  0.847310  0.128835   \n",
       "1      -2.203591  1.013278 -0.530105  0.599923 -0.549583  0.804297  0.051540   \n",
       "2      -2.398940  0.905197 -0.574870  0.515646 -0.568206  0.722779 -0.027757   \n",
       "3      -2.588752  0.778326 -0.606035  0.395776 -0.581074  0.621781 -0.088098   \n",
       "4      -2.752075  0.653126 -0.598395  0.254790 -0.589994  0.500005 -0.118858   \n",
       "...          ...       ...       ...       ...       ...       ...       ...   \n",
       "219195  2.156364  0.538008 -1.001617 -0.670586 -0.474570  0.617459  0.270964   \n",
       "219196  2.252653  0.600619 -1.006715 -0.485818 -0.593759  0.849121  0.345894   \n",
       "219197  2.334182  0.641092 -1.036326 -0.290023 -0.685069  1.012470  0.431407   \n",
       "219198  2.373623  0.651238 -1.058772 -0.094827 -0.740857  1.101963  0.527248   \n",
       "219199  2.365538  0.624515 -1.088312  0.091127 -0.763509  1.117415  0.606999   \n",
       "\n",
       "            PC 8      PC 9     PC 10  ...     PC 58     PC 59     PC 60  \\\n",
       "0       0.558066  0.787708  0.419163  ...       NaN       NaN       NaN   \n",
       "1       0.363235  0.670084  0.328733  ...       NaN       NaN       NaN   \n",
       "2       0.170598  0.571508  0.268142  ...       NaN       NaN       NaN   \n",
       "3       0.032309  0.502136  0.234808  ...       NaN       NaN       NaN   \n",
       "4      -0.078126  0.424224  0.202940  ...       NaN       NaN       NaN   \n",
       "...          ...       ...       ...  ...       ...       ...       ...   \n",
       "219195  0.674263 -0.732389 -0.101838  ... -0.462940 -0.230530  0.243952   \n",
       "219196  0.457519 -0.729127 -0.116138  ... -0.448477 -0.231072  0.266410   \n",
       "219197  0.262598 -0.723850 -0.120630  ... -0.414304 -0.203775  0.296239   \n",
       "219198  0.086648 -0.715129 -0.118131  ... -0.367125 -0.146474  0.316599   \n",
       "219199 -0.057216 -0.692149 -0.109380  ... -0.311128 -0.079898  0.326647   \n",
       "\n",
       "           PC 61     PC 62     PC 63     PC 64     PC 65     PC 66     PC 67  \n",
       "0            NaN       NaN       NaN       NaN       NaN       NaN       NaN  \n",
       "1            NaN       NaN       NaN       NaN       NaN       NaN       NaN  \n",
       "2            NaN       NaN       NaN       NaN       NaN       NaN       NaN  \n",
       "3            NaN       NaN       NaN       NaN       NaN       NaN       NaN  \n",
       "4            NaN       NaN       NaN       NaN       NaN       NaN       NaN  \n",
       "...          ...       ...       ...       ...       ...       ...       ...  \n",
       "219195 -0.205760  0.054290  0.600553  0.035332  0.213956  0.122339  0.731079  \n",
       "219196 -0.162863  0.054542  0.624813 -0.010849  0.183598  0.077702  0.737251  \n",
       "219197 -0.127238  0.044731  0.632985 -0.063860  0.144170  0.028442  0.729300  \n",
       "219198 -0.104471  0.033322  0.620186 -0.119038  0.086192 -0.020249  0.713772  \n",
       "219199 -0.078606  0.014664  0.569652 -0.168345 -0.004494 -0.053095  0.689647  \n",
       "\n",
       "[219200 rows x 73 columns]"
      ]
     },
     "execution_count": 273,
     "metadata": {},
     "output_type": "execute_result"
    }
   ],
   "source": [
    "unalgn_df_wide"
   ]
  },
  {
   "cell_type": "code",
   "execution_count": 275,
   "metadata": {},
   "outputs": [
    {
     "name": "stderr",
     "output_type": "stream",
     "text": [
      "C:\\Users\\zms14\\AppData\\Local\\Temp\\ipykernel_39776\\1878783780.py:2: SettingWithCopyWarning:\n",
      "\n",
      "\n",
      "A value is trying to be set on a copy of a slice from a DataFrame.\n",
      "Try using .loc[row_indexer,col_indexer] = value instead\n",
      "\n",
      "See the caveats in the documentation: https://pandas.pydata.org/pandas-docs/stable/user_guide/indexing.html#returning-a-view-versus-a-copy\n",
      "\n",
      "C:\\Users\\zms14\\AppData\\Local\\Temp\\ipykernel_39776\\1878783780.py:8: UserWarning:\n",
      "\n",
      "The palette list has more values (4) than needed (2), which may not be intended.\n",
      "\n"
     ]
    },
    {
     "data": {
      "image/png": "[encoded data removed]",
      "text/plain": [
       "<Figure size 600x500 with 1 Axes>"
      ]
     },
     "metadata": {},
     "output_type": "display_data"
    }
   ],
   "source": [
    "fig_df = unalgn_df_wide[unalgn_df_wide['Patient'].isin(['S1', 'S2'])]\n",
    "fig_df['A1'] = fig_df['Articulator Sequence'].apply(lambda x: x.split('_')[0])\n",
    "fig_df = fig_df.drop(columns=['Phoneme IDs', 'Vowel Sequence', 'Phoneme Sequence', 'Articulator Sequence',  'A1']).groupby(['Time', 'Patient']).mean().reset_index()\n",
    "\n",
    "f = plt.figure(figsize=(6, 5))\n",
    "ax = f.add_subplot(111)\n",
    "g = sns.lineplot(data=fig_df, x='PC 1', y='PC 2', hue='Patient', sort=False, linewidth=4.5, palette=px_colors, ax=ax)\n",
    "\n",
    "sns.despine()\n",
    "ax.set_xticklabels([])\n",
    "ax.set_yticklabels([])\n",
    "ax.set_xlabel('PC 1', fontsize=22)\n",
    "ax.set_ylabel('PC 2', fontsize=22)\n",
    "ax.tick_params(left=False, bottom=False)\n",
    "plt.legend([],[], frameon=False)\n",
    "\n",
    "plt.show()"
   ]
  },
  {
   "cell_type": "code",
   "execution_count": 187,
   "metadata": {},
   "outputs": [],
   "source": [
    "align_pt = 'S14'\n",
    "align_pt_ind = pt_names.index(align_pt)\n",
    "\n",
    "# setup CCA aligners for each condition and patient\n",
    "aligners = {}\n",
    "aligners_artic = {}\n",
    "aligners_cv = {}\n",
    "aligners_shuffle = {}\n",
    "for i, pt in enumerate(pt_names):\n",
    "    if i == align_pt_ind:\n",
    "        continue\n",
    "    aligners[pt] = AlignCCA()\n",
    "    aligners_shuffle[pt] = AlignCCA()\n",
    "    aligners_artic[pt] = AlignCCA()\n",
    "    aligners_cv[pt] = AlignCCA()\n",
    "\n",
    "# get patient-specific latent dynamics with PCA on channels\n",
    "to_align = [PCA(n_components=0.9).fit_transform(all_pt_traces[pt].reshape(-1, all_pt_traces[pt].shape[-1])) for pt in pt_names]\n",
    "to_align = [to_align[i].reshape(all_pt_traces[pt].shape[0], all_pt_traces[pt].shape[1], -1) for i, pt in enumerate(pt_names)]\n",
    "\n",
    "# align patient-specific latent dynamics\n",
    "aligned_data = {}\n",
    "aligned_data_shuffle = {}\n",
    "aligned_data_artic = {}\n",
    "aligned_data_cv = {}\n",
    "\n",
    "# aligning all patients to a single patient's space, so the align patient's latent dynamics are un-transformed\n",
    "aligned_data[pt_names[align_pt_ind]] = to_align[align_pt_ind]\n",
    "aligned_data_shuffle[pt_names[align_pt_ind]] = to_align[align_pt_ind]\n",
    "aligned_data_artic[pt_names[align_pt_ind]] = to_align[align_pt_ind]\n",
    "aligned_data_cv[pt_names[align_pt_ind]] = to_align[align_pt_ind]\n",
    "for i, pt in enumerate(pt_names):\n",
    "    if i == align_pt_ind:\n",
    "        continue\n",
    "    \n",
    "    # align by phoneme sequence\n",
    "    to_align_seqs = [all_pt_phon_seqs[pt_names[align_pt_ind]], all_pt_phon_seqs[pt]]\n",
    "    aligners[pt].fit(to_align[align_pt_ind], to_align[i], to_align_seqs[0], to_align_seqs[1])\n",
    "    aligned_data[pt] = aligners[pt].transform(to_align[i])\n",
    "\n",
    "    # align by shuffled phoneme sequence\n",
    "    to_align_seqs_shuffle = [all_pt_phon_seqs[pt_names[align_pt_ind]], np.random.permutation(all_pt_phon_seqs[pt])]\n",
    "    aligners_shuffle[pt].fit(to_align[align_pt_ind], to_align[i], to_align_seqs_shuffle[0], to_align_seqs_shuffle[1])\n",
    "    aligned_data_shuffle[pt] = aligners_shuffle[pt].transform(to_align[i])"
   ]
  },
  {
   "cell_type": "code",
   "execution_count": 188,
   "metadata": {},
   "outputs": [],
   "source": [
    "wide_dfs = []\n",
    "long_dfs = []\n",
    "for pt in pt_names:     \n",
    "    d = aligned_data[pt]\n",
    "    n_tr = d.shape[0]\n",
    "    d = d.reshape(-1, d.shape[-1])\n",
    "    algn_df_wide = pd.DataFrame(d, columns=[f'PC {i+1}' for i in range(d.shape[-1])])\n",
    "    algn_df_wide['Time'] = np.tile(t, n_tr)\n",
    "    algn_df_wide['Patient'] = [paper_pt_dict[pt]] * d.shape[0]\n",
    "    algn_df_wide['Phoneme IDs'] = np.repeat(all_pt_phon_seqs_str[pt], t.shape[0])\n",
    "    algn_df_wide['Vowel Sequence'] = algn_df_wide['Phoneme IDs'].apply(labels2cv)\n",
    "    algn_df_wide['Phoneme Sequence'] = algn_df_wide['Phoneme IDs'].apply(lambda x: ''.join([phon_labels[int(i)-1] for i in x]))\n",
    "    algn_df_wide['Articulator Sequence'] = algn_df_wide['Phoneme IDs'].apply(phon2artic_seq)\n",
    "\n",
    "    algn_df_long = algn_df_wide.melt(id_vars=['Time', 'Patient', 'Phoneme IDs', 'Vowel Sequence', 'Phoneme Sequence', 'Articulator Sequence'], var_name='PC', value_name='Value')\n",
    "    algn_df_long['PC'] = algn_df_long['PC'].apply(lambda x: int(x.split(' ')[-1]))\n",
    "    \n",
    "    wide_dfs.append(algn_df_wide)\n",
    "    long_dfs.append(algn_df_long)\n",
    "\n",
    "algn_df_wide = pd.concat(wide_dfs, ignore_index=True)\n",
    "algn_df_long = pd.concat(long_dfs, ignore_index=True)"
   ]
  },
  {
   "cell_type": "code",
   "execution_count": 276,
   "metadata": {},
   "outputs": [
    {
     "name": "stderr",
     "output_type": "stream",
     "text": [
      "C:\\Users\\zms14\\AppData\\Local\\Temp\\ipykernel_39776\\1561146860.py:2: SettingWithCopyWarning:\n",
      "\n",
      "\n",
      "A value is trying to be set on a copy of a slice from a DataFrame.\n",
      "Try using .loc[row_indexer,col_indexer] = value instead\n",
      "\n",
      "See the caveats in the documentation: https://pandas.pydata.org/pandas-docs/stable/user_guide/indexing.html#returning-a-view-versus-a-copy\n",
      "\n",
      "C:\\Users\\zms14\\AppData\\Local\\Temp\\ipykernel_39776\\1561146860.py:7: UserWarning:\n",
      "\n",
      "The palette list has more values (4) than needed (2), which may not be intended.\n",
      "\n"
     ]
    },
    {
     "data": {
      "image/png": "[encoded data removed]",
      "text/plain": [
       "<Figure size 600x500 with 1 Axes>"
      ]
     },
     "metadata": {},
     "output_type": "display_data"
    }
   ],
   "source": [
    "fig_df = algn_df_wide[algn_df_wide['Patient'].isin(['S1', 'S2'])]\n",
    "fig_df['A1'] = fig_df['Articulator Sequence'].apply(lambda x: x.split('_')[0])\n",
    "fig_df = fig_df.drop(columns=['Phoneme IDs', 'Vowel Sequence', 'Phoneme Sequence', 'Articulator Sequence', 'A1']).groupby(['Time', 'Patient']).mean().reset_index()\n",
    "\n",
    "f = plt.figure(figsize=(6, 5))\n",
    "ax = f.add_subplot(111)\n",
    "g = sns.lineplot(data=fig_df, x='PC 1', y='PC 2', hue='Patient', sort=False, linewidth=4.5, palette=px_colors, ax=ax)\n",
    "sns.despine()\n",
    "ax.set_xticklabels([])\n",
    "ax.set_yticklabels([])\n",
    "ax.set_xlabel('PC 1', fontsize=22)\n",
    "ax.set_ylabel('PC 2', fontsize=22)\n",
    "ax.tick_params(left=False, bottom=False)\n",
    "ax.set_title('Aligned latent space', fontsize=24)\n",
    "plt.legend([],[], frameon=False)\n",
    "\n",
    "plt.show()"
   ]
  },
  {
   "cell_type": "markdown",
   "metadata": {},
   "source": [
    "### Panel d"
   ]
  },
  {
   "cell_type": "code",
   "execution_count": null,
   "metadata": {},
   "outputs": [
    {
     "name": "stderr",
     "output_type": "stream",
     "text": [
      "  0%|          | 0/50 [00:00<?, ?it/s]"
     ]
    },
    {
     "name": "stderr",
     "output_type": "stream",
     "text": [
      "100%|██████████| 50/50 [03:27<00:00,  4.14s/it]\n"
     ]
    }
   ],
   "source": [
    "n_iter = 50\n",
    "pts = ['S14', 'S26']\n",
    "\n",
    "unalgn_scores = []\n",
    "unalgn_scores_shuf = []\n",
    "align_scores = []\n",
    "align_scores_shuf = []\n",
    "for i in tqdm(range(n_iter)):\n",
    "    ### unaligned latent dynamics ###\n",
    "    curr_unalgn = [PCA(n_components=0.9).fit_transform(all_pt_traces[pt].reshape(-1, all_pt_traces[pt].shape[-1])) for pt in pts]\n",
    "    min_dim = min(u.shape[-1] for u in curr_unalgn)\n",
    "    curr_unalgn = np.vstack([curr_unalgn[i][:,:min_dim].reshape(all_pt_traces[pt].shape[0], all_pt_traces[pt].shape[1], -1) for i,pt in enumerate(pts)])\n",
    "    curr_unalgn_labels = np.hstack([all_pt_artic_labels[pt] for pt in pts])\n",
    "\n",
    "    unalgn_time_pca_ld = curr_unalgn.reshape(curr_unalgn.shape[0], -1)\n",
    "    unalgn_time_pca = PCA(n_components=50).fit_transform(unalgn_time_pca_ld)\n",
    "    unalgn_embed_time_tsne = TSNE(n_components=2, perplexity=30).fit_transform(unalgn_time_pca)\n",
    "    unalgn_embed_time_pca = PCA(n_components=2).fit_transform(unalgn_time_pca)\n",
    "\n",
    "    sil_score_tsne = get_cluster_scores(unalgn_embed_time_tsne, curr_unalgn_labels, silhouette_scorer)\n",
    "    sil_score_pca = get_cluster_scores(unalgn_embed_time_pca, curr_unalgn_labels, silhouette_scorer)\n",
    "    sil_score_pca_ld = get_cluster_scores(unalgn_time_pca_ld, curr_unalgn_labels, silhouette_scorer)\n",
    "    ch_score = get_cluster_scores(unalgn_time_pca_ld, curr_unalgn_labels, calinski_harabasz_score)\n",
    "    db_score = get_cluster_scores(unalgn_time_pca_ld, curr_unalgn_labels, davies_bouldin_score)\n",
    "    score_dict = {'Silhouette (t-SNE)': sil_score_tsne, 'Silhouette (PCA)': sil_score_pca, 'Silhouette (Lat. Dyn)': sil_score_pca_ld, 'Calinski-Harabasz': ch_score, 'Davies-Bouldin': db_score}\n",
    "    unalgn_scores.append(score_dict)\n",
    "\n",
    "    shuf_labels = np.random.permutation(curr_unalgn_labels)\n",
    "    sil_score_tsne_shuf = get_cluster_scores(unalgn_embed_time_tsne, shuf_labels, silhouette_scorer)\n",
    "    sil_score_pca_shuf = get_cluster_scores(unalgn_embed_time_pca, shuf_labels, silhouette_scorer)\n",
    "    sil_score_pca_ld_shuf = get_cluster_scores(unalgn_time_pca_ld, shuf_labels, silhouette_scorer)\n",
    "    ch_score_shuf = get_cluster_scores(unalgn_time_pca_ld, shuf_labels, calinski_harabasz_score)\n",
    "    db_score_shuf = get_cluster_scores(unalgn_time_pca_ld, shuf_labels, davies_bouldin_score)\n",
    "    shuf_dict = {'Silhouette (t-SNE)': sil_score_tsne_shuf, 'Silhouette (PCA)': sil_score_pca_shuf, 'Silhouette (Lat. Dyn)': sil_score_pca_ld_shuf, 'Calinski-Harabasz': ch_score_shuf, 'Davies-Bouldin': db_score_shuf}\n",
    "    unalgn_scores_shuf.append(shuf_dict)\n",
    "\n",
    "    ### aligned latent dynamics ###\n",
    "    aligner = AlignCCA()\n",
    "    to_align = [PCA(n_components=0.9).fit_transform(all_pt_traces[pt].reshape(-1, all_pt_traces[pt].shape[-1])) for pt in pts]\n",
    "    to_align = [to_align[i].reshape(all_pt_traces[pt].shape[0], all_pt_traces[pt].shape[1], -1) for i, pt in enumerate(pts)]\n",
    "    to_align_seqs = [all_pt_phon_seqs[pt] for pt in pts]\n",
    "    aligner.fit(to_align[0], to_align[1], to_align_seqs[0], to_align_seqs[1])\n",
    "    aligned_pt_data = aligner.transform(to_align[1])\n",
    "    aligned_data = [to_align[0], aligned_pt_data]\n",
    "    curr_algn = np.vstack(aligned_data)\n",
    "    curr_algn_labels = np.hstack([all_pt_artic_labels[pt] for pt in pts])\n",
    "\n",
    "    algn_time_pca_ld = curr_algn.reshape(curr_algn.shape[0], -1)\n",
    "    algn_time_pca = PCA(n_components=50).fit_transform(algn_time_pca_ld)\n",
    "    algn_embed_time_tsne = TSNE(n_components=2, perplexity=30).fit_transform(algn_time_pca)\n",
    "    algn_embed_time_pca = PCA(n_components=2).fit_transform(algn_time_pca)\n",
    "\n",
    "    sil_score_tsne = get_cluster_scores(algn_embed_time_tsne, curr_algn_labels, silhouette_scorer)\n",
    "    sil_score_pca = get_cluster_scores(algn_embed_time_pca, curr_algn_labels, silhouette_scorer)\n",
    "    sil_score_pca_ld = get_cluster_scores(algn_time_pca_ld, curr_algn_labels, silhouette_scorer)\n",
    "    ch_score = get_cluster_scores(algn_time_pca_ld, curr_algn_labels, calinski_harabasz_score)\n",
    "    db_score = get_cluster_scores(algn_time_pca_ld, curr_algn_labels, davies_bouldin_score)\n",
    "    score_dict = {'Silhouette (t-SNE)': sil_score_tsne, 'Silhouette (PCA)': sil_score_pca, 'Silhouette (Lat. Dyn)': sil_score_pca_ld, 'Calinski-Harabasz': ch_score, 'Davies-Bouldin': db_score}\n",
    "    align_scores.append(score_dict)\n",
    "\n",
    "    shuf_labels = np.random.permutation(curr_algn_labels)\n",
    "    sil_score_tsne_shuf = get_cluster_scores(algn_embed_time_tsne, shuf_labels, silhouette_scorer)\n",
    "    sil_score_pca_shuf = get_cluster_scores(algn_embed_time_pca, shuf_labels, silhouette_scorer)\n",
    "    sil_score_pca_ld_shuf = get_cluster_scores(algn_time_pca_ld, shuf_labels, silhouette_scorer)\n",
    "    ch_score_shuf = get_cluster_scores(algn_time_pca_ld, shuf_labels, calinski_harabasz_score)\n",
    "    db_score_shuf = get_cluster_scores(algn_time_pca_ld, shuf_labels, davies_bouldin_score)\n",
    "    shuf_dict = {'Silhouette (t-SNE)': sil_score_tsne_shuf, 'Silhouette (PCA)': sil_score_pca_shuf, 'Silhouette (Lat. Dyn)': sil_score_pca_ld_shuf, 'Calinski-Harabasz': ch_score_shuf, 'Davies-Bouldin': db_score_shuf}\n",
    "    align_scores_shuf.append(shuf_dict)"
   ]
  },
  {
   "cell_type": "code",
   "execution_count": 154,
   "metadata": {},
   "outputs": [
    {
     "data": {
      "application/vnd.microsoft.datawrangler.viewer.v0+json": {
       "columns": [
        {
         "name": "index",
         "rawType": "int64",
         "type": "integer"
        },
        {
         "name": "Silhouette (t-SNE)",
         "rawType": "float32",
         "type": "float"
        },
        {
         "name": "Silhouette (PCA)",
         "rawType": "float64",
         "type": "float"
        },
        {
         "name": "Silhouette (Lat. Dyn)",
         "rawType": "float64",
         "type": "float"
        },
        {
         "name": "Calinski-Harabasz",
         "rawType": "float64",
         "type": "float"
        },
        {
         "name": "Davies-Bouldin",
         "rawType": "float64",
         "type": "float"
        },
        {
         "name": "Condition",
         "rawType": "object",
         "type": "string"
        },
        {
         "name": "Data",
         "rawType": "object",
         "type": "string"
        }
       ],
       "conversionMethod": "pd.DataFrame",
       "ref": "6b8ccbe5-9056-48a8-b5b6-e85cf76898aa",
       "rows": [
        [
         "0",
         "0.103973314",
         "0.12232144616074701",
         "0.031497323661805667",
         "4.889773883803528",
         "6.484440423163779",
         "Articulatory Features",
         "Unaligned"
        ],
        [
         "1",
         "0.085081026",
         "0.1223214461746694",
         "0.031497323661805667",
         "4.889773883803528",
         "6.484440423163779",
         "Articulatory Features",
         "Unaligned"
        ],
        [
         "2",
         "0.08265358",
         "0.12232144733770266",
         "0.031497323661805667",
         "4.889773883803528",
         "6.484440423163779",
         "Articulatory Features",
         "Unaligned"
        ],
        [
         "3",
         "0.107389994",
         "0.12232144493647613",
         "0.031497323661805667",
         "4.889773883803528",
         "6.484440423163779",
         "Articulatory Features",
         "Unaligned"
        ],
        [
         "4",
         "0.098856024",
         "0.12232144991823264",
         "0.031497323661805667",
         "4.889773883803528",
         "6.484440423163779",
         "Articulatory Features",
         "Unaligned"
        ],
        [
         "5",
         "0.099980466",
         "0.12232144707892965",
         "0.031497323661805667",
         "4.889773883803528",
         "6.484440423163779",
         "Articulatory Features",
         "Unaligned"
        ],
        [
         "6",
         "0.114329495",
         "0.12232144303801377",
         "0.031497323661805667",
         "4.889773883803528",
         "6.484440423163779",
         "Articulatory Features",
         "Unaligned"
        ],
        [
         "7",
         "0.11860866",
         "0.1223214469219712",
         "0.031497323661805667",
         "4.889773883803528",
         "6.484440423163779",
         "Articulatory Features",
         "Unaligned"
        ],
        [
         "8",
         "0.123588674",
         "0.1223214461573036",
         "0.031497323661805667",
         "4.889773883803528",
         "6.484440423163779",
         "Articulatory Features",
         "Unaligned"
        ],
        [
         "9",
         "0.104492165",
         "0.1223214446414863",
         "0.031497323661805667",
         "4.889773883803528",
         "6.484440423163779",
         "Articulatory Features",
         "Unaligned"
        ],
        [
         "10",
         "0.10402231",
         "0.1223214481617835",
         "0.031497323661805667",
         "4.889773883803528",
         "6.484440423163779",
         "Articulatory Features",
         "Unaligned"
        ],
        [
         "11",
         "0.0922156",
         "0.12232144567403402",
         "0.031497323661805667",
         "4.889773883803528",
         "6.484440423163779",
         "Articulatory Features",
         "Unaligned"
        ],
        [
         "12",
         "0.0820672",
         "0.12232145128380358",
         "0.031497323661805667",
         "4.889773883803528",
         "6.484440423163779",
         "Articulatory Features",
         "Unaligned"
        ],
        [
         "13",
         "0.11068714",
         "0.12232145070571424",
         "0.031497323661805667",
         "4.889773883803528",
         "6.484440423163779",
         "Articulatory Features",
         "Unaligned"
        ],
        [
         "14",
         "0.0920822",
         "0.12232144626679327",
         "0.031497323661805667",
         "4.889773883803528",
         "6.484440423163779",
         "Articulatory Features",
         "Unaligned"
        ],
        [
         "15",
         "0.12966266",
         "0.12232144415125619",
         "0.031497323661805667",
         "4.889773883803528",
         "6.484440423163779",
         "Articulatory Features",
         "Unaligned"
        ],
        [
         "16",
         "0.09911995",
         "0.12232144590867877",
         "0.031497323661805667",
         "4.889773883803528",
         "6.484440423163779",
         "Articulatory Features",
         "Unaligned"
        ],
        [
         "17",
         "0.11127746",
         "0.1223214512127991",
         "0.031497323661805667",
         "4.889773883803528",
         "6.484440423163779",
         "Articulatory Features",
         "Unaligned"
        ],
        [
         "18",
         "0.10514723",
         "0.12232144398525586",
         "0.031497323661805667",
         "4.889773883803528",
         "6.484440423163779",
         "Articulatory Features",
         "Unaligned"
        ],
        [
         "19",
         "0.111917615",
         "0.12232144464947992",
         "0.031497323661805667",
         "4.889773883803528",
         "6.484440423163779",
         "Articulatory Features",
         "Unaligned"
        ],
        [
         "20",
         "0.09431082",
         "0.12232144302514299",
         "0.031497323661805667",
         "4.889773883803528",
         "6.484440423163779",
         "Articulatory Features",
         "Unaligned"
        ],
        [
         "21",
         "0.10471425",
         "0.12232144582483742",
         "0.031497323661805667",
         "4.889773883803528",
         "6.484440423163779",
         "Articulatory Features",
         "Unaligned"
        ],
        [
         "22",
         "0.12984282",
         "0.12232145321499797",
         "0.031497323661805667",
         "4.889773883803528",
         "6.484440423163779",
         "Articulatory Features",
         "Unaligned"
        ],
        [
         "23",
         "0.08552371",
         "0.12232144975380559",
         "0.031497323661805667",
         "4.889773883803528",
         "6.484440423163779",
         "Articulatory Features",
         "Unaligned"
        ],
        [
         "24",
         "0.11131523",
         "0.12232144349045114",
         "0.031497323661805667",
         "4.889773883803528",
         "6.484440423163779",
         "Articulatory Features",
         "Unaligned"
        ],
        [
         "25",
         "0.10573887",
         "0.12232144769655706",
         "0.031497323661805667",
         "4.889773883803528",
         "6.484440423163779",
         "Articulatory Features",
         "Unaligned"
        ],
        [
         "26",
         "0.10440838",
         "0.12232144836233597",
         "0.031497323661805667",
         "4.889773883803528",
         "6.484440423163779",
         "Articulatory Features",
         "Unaligned"
        ],
        [
         "27",
         "0.10199202",
         "0.12232144692321675",
         "0.031497323661805667",
         "4.889773883803528",
         "6.484440423163779",
         "Articulatory Features",
         "Unaligned"
        ],
        [
         "28",
         "0.09104499",
         "0.12232144799143659",
         "0.031497323661805667",
         "4.889773883803528",
         "6.484440423163779",
         "Articulatory Features",
         "Unaligned"
        ],
        [
         "29",
         "0.11287521",
         "0.12232144614047598",
         "0.031497323661805667",
         "4.889773883803528",
         "6.484440423163779",
         "Articulatory Features",
         "Unaligned"
        ],
        [
         "30",
         "0.10840997",
         "0.12232144717916478",
         "0.031497323661805667",
         "4.889773883803528",
         "6.484440423163779",
         "Articulatory Features",
         "Unaligned"
        ],
        [
         "31",
         "0.10854313",
         "0.12232144890827747",
         "0.031497323661805667",
         "4.889773883803528",
         "6.484440423163779",
         "Articulatory Features",
         "Unaligned"
        ],
        [
         "32",
         "0.07594832",
         "0.12232144879438978",
         "0.031497323661805667",
         "4.889773883803528",
         "6.484440423163779",
         "Articulatory Features",
         "Unaligned"
        ],
        [
         "33",
         "0.10579812",
         "0.12232145060070301",
         "0.031497323661805667",
         "4.889773883803528",
         "6.484440423163779",
         "Articulatory Features",
         "Unaligned"
        ],
        [
         "34",
         "0.10682781",
         "0.1223214460236642",
         "0.031497323661805667",
         "4.889773883803528",
         "6.484440423163779",
         "Articulatory Features",
         "Unaligned"
        ],
        [
         "35",
         "0.10411457",
         "0.1223214407438656",
         "0.031497323661805667",
         "4.889773883803528",
         "6.484440423163779",
         "Articulatory Features",
         "Unaligned"
        ],
        [
         "36",
         "0.121338196",
         "0.1223214485973132",
         "0.031497323661805667",
         "4.889773883803528",
         "6.484440423163779",
         "Articulatory Features",
         "Unaligned"
        ],
        [
         "37",
         "0.08612459",
         "0.12232144085229177",
         "0.031497323661805667",
         "4.889773883803528",
         "6.484440423163779",
         "Articulatory Features",
         "Unaligned"
        ],
        [
         "38",
         "0.12527841",
         "0.1223214546739597",
         "0.031497323661805667",
         "4.889773883803528",
         "6.484440423163779",
         "Articulatory Features",
         "Unaligned"
        ],
        [
         "39",
         "0.10885798",
         "0.12232144224123875",
         "0.031497323661805667",
         "4.889773883803528",
         "6.484440423163779",
         "Articulatory Features",
         "Unaligned"
        ],
        [
         "40",
         "0.122444764",
         "0.12232144075645568",
         "0.031497323661805667",
         "4.889773883803528",
         "6.484440423163779",
         "Articulatory Features",
         "Unaligned"
        ],
        [
         "41",
         "0.114186145",
         "0.12232144594501022",
         "0.031497323661805667",
         "4.889773883803528",
         "6.484440423163779",
         "Articulatory Features",
         "Unaligned"
        ],
        [
         "42",
         "0.09580854",
         "0.12232144586955426",
         "0.031497323661805667",
         "4.889773883803528",
         "6.484440423163779",
         "Articulatory Features",
         "Unaligned"
        ],
        [
         "43",
         "0.12909396",
         "0.1223214483068152",
         "0.031497323661805667",
         "4.889773883803528",
         "6.484440423163779",
         "Articulatory Features",
         "Unaligned"
        ],
        [
         "44",
         "0.12822992",
         "0.12232144644437759",
         "0.031497323661805667",
         "4.889773883803528",
         "6.484440423163779",
         "Articulatory Features",
         "Unaligned"
        ],
        [
         "45",
         "0.10008727",
         "0.12232144933738796",
         "0.031497323661805667",
         "4.889773883803528",
         "6.484440423163779",
         "Articulatory Features",
         "Unaligned"
        ],
        [
         "46",
         "0.10837965",
         "0.12232144935965969",
         "0.031497323661805667",
         "4.889773883803528",
         "6.484440423163779",
         "Articulatory Features",
         "Unaligned"
        ],
        [
         "47",
         "0.09250428",
         "0.12232144795393703",
         "0.031497323661805667",
         "4.889773883803528",
         "6.484440423163779",
         "Articulatory Features",
         "Unaligned"
        ],
        [
         "48",
         "0.09817788",
         "0.12232144710438113",
         "0.031497323661805667",
         "4.889773883803528",
         "6.484440423163779",
         "Articulatory Features",
         "Unaligned"
        ],
        [
         "49",
         "0.13130835",
         "0.12232144138400214",
         "0.031497323661805667",
         "4.889773883803528",
         "6.484440423163779",
         "Articulatory Features",
         "Unaligned"
        ]
       ],
       "shape": {
        "columns": 7,
        "rows": 200
       }
      },
      "text/html": [
       "<div>\n",
       "<style scoped>\n",
       "    .dataframe tbody tr th:only-of-type {\n",
       "        vertical-align: middle;\n",
       "    }\n",
       "\n",
       "    .dataframe tbody tr th {\n",
       "        vertical-align: top;\n",
       "    }\n",
       "\n",
       "    .dataframe thead th {\n",
       "        text-align: right;\n",
       "    }\n",
       "</style>\n",
       "<table border=\"1\" class=\"dataframe\">\n",
       "  <thead>\n",
       "    <tr style=\"text-align: right;\">\n",
       "      <th></th>\n",
       "      <th>Silhouette (t-SNE)</th>\n",
       "      <th>Silhouette (PCA)</th>\n",
       "      <th>Silhouette (Lat. Dyn)</th>\n",
       "      <th>Calinski-Harabasz</th>\n",
       "      <th>Davies-Bouldin</th>\n",
       "      <th>Condition</th>\n",
       "      <th>Data</th>\n",
       "    </tr>\n",
       "  </thead>\n",
       "  <tbody>\n",
       "    <tr>\n",
       "      <th>0</th>\n",
       "      <td>0.103973</td>\n",
       "      <td>0.122321</td>\n",
       "      <td>0.031497</td>\n",
       "      <td>4.889774</td>\n",
       "      <td>6.484440</td>\n",
       "      <td>Articulatory Features</td>\n",
       "      <td>Unaligned</td>\n",
       "    </tr>\n",
       "    <tr>\n",
       "      <th>1</th>\n",
       "      <td>0.085081</td>\n",
       "      <td>0.122321</td>\n",
       "      <td>0.031497</td>\n",
       "      <td>4.889774</td>\n",
       "      <td>6.484440</td>\n",
       "      <td>Articulatory Features</td>\n",
       "      <td>Unaligned</td>\n",
       "    </tr>\n",
       "    <tr>\n",
       "      <th>2</th>\n",
       "      <td>0.082654</td>\n",
       "      <td>0.122321</td>\n",
       "      <td>0.031497</td>\n",
       "      <td>4.889774</td>\n",
       "      <td>6.484440</td>\n",
       "      <td>Articulatory Features</td>\n",
       "      <td>Unaligned</td>\n",
       "    </tr>\n",
       "    <tr>\n",
       "      <th>3</th>\n",
       "      <td>0.107390</td>\n",
       "      <td>0.122321</td>\n",
       "      <td>0.031497</td>\n",
       "      <td>4.889774</td>\n",
       "      <td>6.484440</td>\n",
       "      <td>Articulatory Features</td>\n",
       "      <td>Unaligned</td>\n",
       "    </tr>\n",
       "    <tr>\n",
       "      <th>4</th>\n",
       "      <td>0.098856</td>\n",
       "      <td>0.122321</td>\n",
       "      <td>0.031497</td>\n",
       "      <td>4.889774</td>\n",
       "      <td>6.484440</td>\n",
       "      <td>Articulatory Features</td>\n",
       "      <td>Unaligned</td>\n",
       "    </tr>\n",
       "    <tr>\n",
       "      <th>...</th>\n",
       "      <td>...</td>\n",
       "      <td>...</td>\n",
       "      <td>...</td>\n",
       "      <td>...</td>\n",
       "      <td>...</td>\n",
       "      <td>...</td>\n",
       "      <td>...</td>\n",
       "    </tr>\n",
       "    <tr>\n",
       "      <th>195</th>\n",
       "      <td>0.022100</td>\n",
       "      <td>0.022617</td>\n",
       "      <td>0.005191</td>\n",
       "      <td>0.989545</td>\n",
       "      <td>13.029283</td>\n",
       "      <td>Chance Distribution</td>\n",
       "      <td>Aligned</td>\n",
       "    </tr>\n",
       "    <tr>\n",
       "      <th>196</th>\n",
       "      <td>0.039805</td>\n",
       "      <td>0.041514</td>\n",
       "      <td>0.010219</td>\n",
       "      <td>0.999476</td>\n",
       "      <td>12.562351</td>\n",
       "      <td>Chance Distribution</td>\n",
       "      <td>Aligned</td>\n",
       "    </tr>\n",
       "    <tr>\n",
       "      <th>197</th>\n",
       "      <td>0.060023</td>\n",
       "      <td>0.055631</td>\n",
       "      <td>0.007080</td>\n",
       "      <td>1.031820</td>\n",
       "      <td>12.901501</td>\n",
       "      <td>Chance Distribution</td>\n",
       "      <td>Aligned</td>\n",
       "    </tr>\n",
       "    <tr>\n",
       "      <th>198</th>\n",
       "      <td>0.036548</td>\n",
       "      <td>0.024487</td>\n",
       "      <td>0.006805</td>\n",
       "      <td>0.995462</td>\n",
       "      <td>12.478565</td>\n",
       "      <td>Chance Distribution</td>\n",
       "      <td>Aligned</td>\n",
       "    </tr>\n",
       "    <tr>\n",
       "      <th>199</th>\n",
       "      <td>0.063400</td>\n",
       "      <td>0.071150</td>\n",
       "      <td>0.018489</td>\n",
       "      <td>1.027610</td>\n",
       "      <td>12.968405</td>\n",
       "      <td>Chance Distribution</td>\n",
       "      <td>Aligned</td>\n",
       "    </tr>\n",
       "  </tbody>\n",
       "</table>\n",
       "<p>200 rows × 7 columns</p>\n",
       "</div>"
      ],
      "text/plain": [
       "     Silhouette (t-SNE)  Silhouette (PCA)  Silhouette (Lat. Dyn)  \\\n",
       "0              0.103973          0.122321               0.031497   \n",
       "1              0.085081          0.122321               0.031497   \n",
       "2              0.082654          0.122321               0.031497   \n",
       "3              0.107390          0.122321               0.031497   \n",
       "4              0.098856          0.122321               0.031497   \n",
       "..                  ...               ...                    ...   \n",
       "195            0.022100          0.022617               0.005191   \n",
       "196            0.039805          0.041514               0.010219   \n",
       "197            0.060023          0.055631               0.007080   \n",
       "198            0.036548          0.024487               0.006805   \n",
       "199            0.063400          0.071150               0.018489   \n",
       "\n",
       "     Calinski-Harabasz  Davies-Bouldin              Condition       Data  \n",
       "0             4.889774        6.484440  Articulatory Features  Unaligned  \n",
       "1             4.889774        6.484440  Articulatory Features  Unaligned  \n",
       "2             4.889774        6.484440  Articulatory Features  Unaligned  \n",
       "3             4.889774        6.484440  Articulatory Features  Unaligned  \n",
       "4             4.889774        6.484440  Articulatory Features  Unaligned  \n",
       "..                 ...             ...                    ...        ...  \n",
       "195           0.989545       13.029283    Chance Distribution    Aligned  \n",
       "196           0.999476       12.562351    Chance Distribution    Aligned  \n",
       "197           1.031820       12.901501    Chance Distribution    Aligned  \n",
       "198           0.995462       12.478565    Chance Distribution    Aligned  \n",
       "199           1.027610       12.968405    Chance Distribution    Aligned  \n",
       "\n",
       "[200 rows x 7 columns]"
      ]
     },
     "execution_count": 154,
     "metadata": {},
     "output_type": "execute_result"
    }
   ],
   "source": [
    "unalgn_score_df = pd.DataFrame(unalgn_scores)\n",
    "unalgn_score_df['Condition'] = 'Articulatory Features'\n",
    "unalgn_score_df['Data'] = 'Unaligned'\n",
    "\n",
    "unalgn_score_df_shuf = pd.DataFrame(unalgn_scores_shuf)\n",
    "unalgn_score_df_shuf['Condition'] = 'Chance Distribution'\n",
    "unalgn_score_df_shuf['Data'] = 'Unaligned'\n",
    "\n",
    "algn_score_df = pd.DataFrame(align_scores)\n",
    "algn_score_df['Condition'] = 'Articulatory Features'\n",
    "algn_score_df['Data'] = 'Aligned'\n",
    "\n",
    "algn_score_df_shuf = pd.DataFrame(align_scores_shuf)\n",
    "algn_score_df_shuf['Condition'] = 'Chance Distribution'\n",
    "algn_score_df_shuf['Data'] = 'Aligned'\n",
    "\n",
    "cross_score_df = pd.concat([unalgn_score_df, unalgn_score_df_shuf, algn_score_df, algn_score_df_shuf], ignore_index=True)\n",
    "cross_score_df"
   ]
  },
  {
   "cell_type": "code",
   "execution_count": null,
   "metadata": {},
   "outputs": [
    {
     "data": {
      "application/vnd.plotly.v1+json": {
       "config": {
        "plotlyServerURL": "https://plotly.com"
       },
       "data": [
        {
         "alignmentgroup": "True",
         "boxpoints": "all",
         "hovertemplate": "Condition=Articulatory Features<br>Data=%{x}<br>Silhouette (t-SNE)=%{y}<extra></extra>",
         "legendgroup": "Articulatory Features",
         "marker": {
          "color": "#636EFA"
         },
         "name": "Articulatory Features",
         "notched": false,
         "offsetgroup": "Articulatory Features",
         "orientation": "v",
         "showlegend": true,
         "type": "box",
         "x": [
          "Unaligned",
          "Unaligned",
          "Unaligned",
          "Unaligned",
          "Unaligned",
          "Unaligned",
          "Unaligned",
          "Unaligned",
          "Unaligned",
          "Unaligned",
          "Unaligned",
          "Unaligned",
          "Unaligned",
          "Unaligned",
          "Unaligned",
          "Unaligned",
          "Unaligned",
          "Unaligned",
          "Unaligned",
          "Unaligned",
          "Unaligned",
          "Unaligned",
          "Unaligned",
          "Unaligned",
          "Unaligned",
          "Unaligned",
          "Unaligned",
          "Unaligned",
          "Unaligned",
          "Unaligned",
          "Unaligned",
          "Unaligned",
          "Unaligned",
          "Unaligned",
          "Unaligned",
          "Unaligned",
          "Unaligned",
          "Unaligned",
          "Unaligned",
          "Unaligned",
          "Unaligned",
          "Unaligned",
          "Unaligned",
          "Unaligned",
          "Unaligned",
          "Unaligned",
          "Unaligned",
          "Unaligned",
          "Unaligned",
          "Unaligned",
          "Aligned",
          "Aligned",
          "Aligned",
          "Aligned",
          "Aligned",
          "Aligned",
          "Aligned",
          "Aligned",
          "Aligned",
          "Aligned",
          "Aligned",
          "Aligned",
          "Aligned",
          "Aligned",
          "Aligned",
          "Aligned",
          "Aligned",
          "Aligned",
          "Aligned",
          "Aligned",
          "Aligned",
          "Aligned",
          "Aligned",
          "Aligned",
          "Aligned",
          "Aligned",
          "Aligned",
          "Aligned",
          "Aligned",
          "Aligned",
          "Aligned",
          "Aligned",
          "Aligned",
          "Aligned",
          "Aligned",
          "Aligned",
          "Aligned",
          "Aligned",
          "Aligned",
          "Aligned",
          "Aligned",
          "Aligned",
          "Aligned",
          "Aligned",
          "Aligned",
          "Aligned",
          "Aligned",
          "Aligned",
          "Aligned",
          "Aligned"
         ],
         "x0": " ",
         "xaxis": "x",
         "y": [
          0.103973314,
          0.085081026,
          0.08265358,
          0.107389994,
          0.098856024,
          0.099980466,
          0.114329495,
          0.11860866,
          0.123588674,
          0.104492165,
          0.10402231,
          0.0922156,
          0.0820672,
          0.11068714,
          0.0920822,
          0.12966266,
          0.09911995,
          0.11127746,
          0.10514723,
          0.111917615,
          0.09431082,
          0.10471425,
          0.12984282,
          0.08552371,
          0.11131523,
          0.10573887,
          0.10440838,
          0.10199202,
          0.09104499,
          0.11287521,
          0.10840997,
          0.10854313,
          0.07594832,
          0.10579812,
          0.10682781,
          0.10411457,
          0.121338196,
          0.08612459,
          0.12527841,
          0.10885798,
          0.122444764,
          0.114186145,
          0.09580854,
          0.12909396,
          0.12822992,
          0.10008727,
          0.10837965,
          0.09250428,
          0.09817788,
          0.13130835,
          0.25246504,
          0.2501685,
          0.22655126,
          0.25418186,
          0.22950657,
          0.24501306,
          0.21929604,
          0.28306,
          0.23938553,
          0.24298239,
          0.25561872,
          0.22922324,
          0.2217993,
          0.24010609,
          0.24191335,
          0.2873196,
          0.24257138,
          0.27583492,
          0.27101916,
          0.25968245,
          0.22162166,
          0.27265114,
          0.2304861,
          0.1952349,
          0.23542903,
          0.22671269,
          0.2479985,
          0.25910884,
          0.26949754,
          0.27865356,
          0.21951975,
          0.25823164,
          0.1994051,
          0.22743304,
          0.2547395,
          0.2683902,
          0.27869278,
          0.2644142,
          0.24929799,
          0.23919906,
          0.25634852,
          0.26451087,
          0.22156791,
          0.24969229,
          0.20965523,
          0.2349074,
          0.24860035,
          0.2725264,
          0.19482209,
          0.23890428
         ],
         "y0": " ",
         "yaxis": "y"
        },
        {
         "alignmentgroup": "True",
         "boxpoints": "all",
         "hovertemplate": "Condition=Chance Distribution<br>Data=%{x}<br>Silhouette (t-SNE)=%{y}<extra></extra>",
         "legendgroup": "Chance Distribution",
         "marker": {
          "color": "#7F7F7F"
         },
         "name": "Chance Distribution",
         "notched": false,
         "offsetgroup": "Chance Distribution",
         "orientation": "v",
         "showlegend": true,
         "type": "box",
         "x": [
          "Unaligned",
          "Unaligned",
          "Unaligned",
          "Unaligned",
          "Unaligned",
          "Unaligned",
          "Unaligned",
          "Unaligned",
          "Unaligned",
          "Unaligned",
          "Unaligned",
          "Unaligned",
          "Unaligned",
          "Unaligned",
          "Unaligned",
          "Unaligned",
          "Unaligned",
          "Unaligned",
          "Unaligned",
          "Unaligned",
          "Unaligned",
          "Unaligned",
          "Unaligned",
          "Unaligned",
          "Unaligned",
          "Unaligned",
          "Unaligned",
          "Unaligned",
          "Unaligned",
          "Unaligned",
          "Unaligned",
          "Unaligned",
          "Unaligned",
          "Unaligned",
          "Unaligned",
          "Unaligned",
          "Unaligned",
          "Unaligned",
          "Unaligned",
          "Unaligned",
          "Unaligned",
          "Unaligned",
          "Unaligned",
          "Unaligned",
          "Unaligned",
          "Unaligned",
          "Unaligned",
          "Unaligned",
          "Unaligned",
          "Unaligned",
          "Aligned",
          "Aligned",
          "Aligned",
          "Aligned",
          "Aligned",
          "Aligned",
          "Aligned",
          "Aligned",
          "Aligned",
          "Aligned",
          "Aligned",
          "Aligned",
          "Aligned",
          "Aligned",
          "Aligned",
          "Aligned",
          "Aligned",
          "Aligned",
          "Aligned",
          "Aligned",
          "Aligned",
          "Aligned",
          "Aligned",
          "Aligned",
          "Aligned",
          "Aligned",
          "Aligned",
          "Aligned",
          "Aligned",
          "Aligned",
          "Aligned",
          "Aligned",
          "Aligned",
          "Aligned",
          "Aligned",
          "Aligned",
          "Aligned",
          "Aligned",
          "Aligned",
          "Aligned",
          "Aligned",
          "Aligned",
          "Aligned",
          "Aligned",
          "Aligned",
          "Aligned",
          "Aligned",
          "Aligned",
          "Aligned",
          "Aligned"
         ],
         "x0": " ",
         "xaxis": "x",
         "y": [
          0.043558378,
          0.07328363,
          0.0569689,
          0.042817753,
          0.11338391,
          0.07750074,
          0.05999405,
          0.06149465,
          0.056851838,
          0.053229544,
          0.074591905,
          0.08738754,
          0.0317654,
          0.02950276,
          0.022331733,
          0.039363366,
          0.048496976,
          0.052270155,
          0.051454566,
          0.060919106,
          0.025914103,
          0.024629941,
          0.025842013,
          0.03500863,
          0.024937198,
          0.046290483,
          0.088815145,
          0.047537077,
          0.057751704,
          0.045449678,
          0.09501803,
          0.014793716,
          0.047983877,
          0.007655898,
          0.04460551,
          0.05510619,
          0.052379187,
          0.027539572,
          0.025901021,
          0.07351068,
          0.02811405,
          0.039308842,
          0.032316715,
          0.048676394,
          0.05425863,
          0.0485899,
          0.03702262,
          0.027116235,
          0.06403003,
          0.03745313,
          0.027582634,
          0.033241242,
          0.036892187,
          0.023286814,
          0.021421306,
          0.022270238,
          0.024937093,
          0.016106125,
          0.034273088,
          0.062054593,
          0.04054559,
          0.069395095,
          0.023295399,
          0.0156051405,
          0.057990085,
          0.030814804,
          0.022607699,
          0.03870947,
          0.049070697,
          0.05696202,
          0.027739292,
          0.029844064,
          0.083422735,
          0.08981964,
          0.06447223,
          0.03787431,
          0.030180791,
          0.039786115,
          0.039165813,
          0.054550286,
          0.017769884,
          0.029452201,
          0.05393426,
          0.021771202,
          0.039846525,
          0.015884098,
          0.021416815,
          0.048104234,
          0.050025173,
          0.029420843,
          0.02551698,
          0.040290106,
          0.029425688,
          0.042344272,
          0.05543623,
          0.022099659,
          0.039805252,
          0.06002255,
          0.036547717,
          0.06340004
         ],
         "y0": " ",
         "yaxis": "y"
        }
       ],
       "layout": {
        "boxmode": "group",
        "font": {
         "family": "Arial",
         "size": 18
        },
        "height": 500,
        "legend": {
         "orientation": "h",
         "title": {
          "text": ""
         },
         "tracegroupgap": 0,
         "x": 0.02,
         "xanchor": "left",
         "y": 0.98,
         "yanchor": "top"
        },
        "margin": {
         "t": 60
        },
        "plot_bgcolor": "white",
        "shapes": [
         {
          "line": {
           "color": "red",
           "dash": "dash"
          },
          "type": "line",
          "x0": 0,
          "x1": 1,
          "xref": "x domain",
          "y0": 0.3252331018447876,
          "y1": 0.3252331018447876,
          "yref": "y"
         }
        ],
        "template": {
         "data": {
          "bar": [
           {
            "error_x": {
             "color": "#2a3f5f"
            },
            "error_y": {
             "color": "#2a3f5f"
            },
            "marker": {
             "line": {
              "color": "#E5ECF6",
              "width": 0.5
             },
             "pattern": {
              "fillmode": "overlay",
              "size": 10,
              "solidity": 0.2
             }
            },
            "type": "bar"
           }
          ],
          "barpolar": [
           {
            "marker": {
             "line": {
              "color": "#E5ECF6",
              "width": 0.5
             },
             "pattern": {
              "fillmode": "overlay",
              "size": 10,
              "solidity": 0.2
             }
            },
            "type": "barpolar"
           }
          ],
          "carpet": [
           {
            "aaxis": {
             "endlinecolor": "#2a3f5f",
             "gridcolor": "white",
             "linecolor": "white",
             "minorgridcolor": "white",
             "startlinecolor": "#2a3f5f"
            },
            "baxis": {
             "endlinecolor": "#2a3f5f",
             "gridcolor": "white",
             "linecolor": "white",
             "minorgridcolor": "white",
             "startlinecolor": "#2a3f5f"
            },
            "type": "carpet"
           }
          ],
          "choropleth": [
           {
            "colorbar": {
             "outlinewidth": 0,
             "ticks": ""
            },
            "type": "choropleth"
           }
          ],
          "contour": [
           {
            "colorbar": {
             "outlinewidth": 0,
             "ticks": ""
            },
            "colorscale": [
             [
              0,
              "#0d0887"
             ],
             [
              0.1111111111111111,
              "#46039f"
             ],
             [
              0.2222222222222222,
              "#7201a8"
             ],
             [
              0.3333333333333333,
              "#9c179e"
             ],
             [
              0.4444444444444444,
              "#bd3786"
             ],
             [
              0.5555555555555556,
              "#d8576b"
             ],
             [
              0.6666666666666666,
              "#ed7953"
             ],
             [
              0.7777777777777778,
              "#fb9f3a"
             ],
             [
              0.8888888888888888,
              "#fdca26"
             ],
             [
              1,
              "#f0f921"
             ]
            ],
            "type": "contour"
           }
          ],
          "contourcarpet": [
           {
            "colorbar": {
             "outlinewidth": 0,
             "ticks": ""
            },
            "type": "contourcarpet"
           }
          ],
          "heatmap": [
           {
            "colorbar": {
             "outlinewidth": 0,
             "ticks": ""
            },
            "colorscale": [
             [
              0,
              "#0d0887"
             ],
             [
              0.1111111111111111,
              "#46039f"
             ],
             [
              0.2222222222222222,
              "#7201a8"
             ],
             [
              0.3333333333333333,
              "#9c179e"
             ],
             [
              0.4444444444444444,
              "#bd3786"
             ],
             [
              0.5555555555555556,
              "#d8576b"
             ],
             [
              0.6666666666666666,
              "#ed7953"
             ],
             [
              0.7777777777777778,
              "#fb9f3a"
             ],
             [
              0.8888888888888888,
              "#fdca26"
             ],
             [
              1,
              "#f0f921"
             ]
            ],
            "type": "heatmap"
           }
          ],
          "heatmapgl": [
           {
            "colorbar": {
             "outlinewidth": 0,
             "ticks": ""
            },
            "colorscale": [
             [
              0,
              "#0d0887"
             ],
             [
              0.1111111111111111,
              "#46039f"
             ],
             [
              0.2222222222222222,
              "#7201a8"
             ],
             [
              0.3333333333333333,
              "#9c179e"
             ],
             [
              0.4444444444444444,
              "#bd3786"
             ],
             [
              0.5555555555555556,
              "#d8576b"
             ],
             [
              0.6666666666666666,
              "#ed7953"
             ],
             [
              0.7777777777777778,
              "#fb9f3a"
             ],
             [
              0.8888888888888888,
              "#fdca26"
             ],
             [
              1,
              "#f0f921"
             ]
            ],
            "type": "heatmapgl"
           }
          ],
          "histogram": [
           {
            "marker": {
             "pattern": {
              "fillmode": "overlay",
              "size": 10,
              "solidity": 0.2
             }
            },
            "type": "histogram"
           }
          ],
          "histogram2d": [
           {
            "colorbar": {
             "outlinewidth": 0,
             "ticks": ""
            },
            "colorscale": [
             [
              0,
              "#0d0887"
             ],
             [
              0.1111111111111111,
              "#46039f"
             ],
             [
              0.2222222222222222,
              "#7201a8"
             ],
             [
              0.3333333333333333,
              "#9c179e"
             ],
             [
              0.4444444444444444,
              "#bd3786"
             ],
             [
              0.5555555555555556,
              "#d8576b"
             ],
             [
              0.6666666666666666,
              "#ed7953"
             ],
             [
              0.7777777777777778,
              "#fb9f3a"
             ],
             [
              0.8888888888888888,
              "#fdca26"
             ],
             [
              1,
              "#f0f921"
             ]
            ],
            "type": "histogram2d"
           }
          ],
          "histogram2dcontour": [
           {
            "colorbar": {
             "outlinewidth": 0,
             "ticks": ""
            },
            "colorscale": [
             [
              0,
              "#0d0887"
             ],
             [
              0.1111111111111111,
              "#46039f"
             ],
             [
              0.2222222222222222,
              "#7201a8"
             ],
             [
              0.3333333333333333,
              "#9c179e"
             ],
             [
              0.4444444444444444,
              "#bd3786"
             ],
             [
              0.5555555555555556,
              "#d8576b"
             ],
             [
              0.6666666666666666,
              "#ed7953"
             ],
             [
              0.7777777777777778,
              "#fb9f3a"
             ],
             [
              0.8888888888888888,
              "#fdca26"
             ],
             [
              1,
              "#f0f921"
             ]
            ],
            "type": "histogram2dcontour"
           }
          ],
          "mesh3d": [
           {
            "colorbar": {
             "outlinewidth": 0,
             "ticks": ""
            },
            "type": "mesh3d"
           }
          ],
          "parcoords": [
           {
            "line": {
             "colorbar": {
              "outlinewidth": 0,
              "ticks": ""
             }
            },
            "type": "parcoords"
           }
          ],
          "pie": [
           {
            "automargin": true,
            "type": "pie"
           }
          ],
          "scatter": [
           {
            "fillpattern": {
             "fillmode": "overlay",
             "size": 10,
             "solidity": 0.2
            },
            "type": "scatter"
           }
          ],
          "scatter3d": [
           {
            "line": {
             "colorbar": {
              "outlinewidth": 0,
              "ticks": ""
             }
            },
            "marker": {
             "colorbar": {
              "outlinewidth": 0,
              "ticks": ""
             }
            },
            "type": "scatter3d"
           }
          ],
          "scattercarpet": [
           {
            "marker": {
             "colorbar": {
              "outlinewidth": 0,
              "ticks": ""
             }
            },
            "type": "scattercarpet"
           }
          ],
          "scattergeo": [
           {
            "marker": {
             "colorbar": {
              "outlinewidth": 0,
              "ticks": ""
             }
            },
            "type": "scattergeo"
           }
          ],
          "scattergl": [
           {
            "marker": {
             "colorbar": {
              "outlinewidth": 0,
              "ticks": ""
             }
            },
            "type": "scattergl"
           }
          ],
          "scattermapbox": [
           {
            "marker": {
             "colorbar": {
              "outlinewidth": 0,
              "ticks": ""
             }
            },
            "type": "scattermapbox"
           }
          ],
          "scatterpolar": [
           {
            "marker": {
             "colorbar": {
              "outlinewidth": 0,
              "ticks": ""
             }
            },
            "type": "scatterpolar"
           }
          ],
          "scatterpolargl": [
           {
            "marker": {
             "colorbar": {
              "outlinewidth": 0,
              "ticks": ""
             }
            },
            "type": "scatterpolargl"
           }
          ],
          "scatterternary": [
           {
            "marker": {
             "colorbar": {
              "outlinewidth": 0,
              "ticks": ""
             }
            },
            "type": "scatterternary"
           }
          ],
          "surface": [
           {
            "colorbar": {
             "outlinewidth": 0,
             "ticks": ""
            },
            "colorscale": [
             [
              0,
              "#0d0887"
             ],
             [
              0.1111111111111111,
              "#46039f"
             ],
             [
              0.2222222222222222,
              "#7201a8"
             ],
             [
              0.3333333333333333,
              "#9c179e"
             ],
             [
              0.4444444444444444,
              "#bd3786"
             ],
             [
              0.5555555555555556,
              "#d8576b"
             ],
             [
              0.6666666666666666,
              "#ed7953"
             ],
             [
              0.7777777777777778,
              "#fb9f3a"
             ],
             [
              0.8888888888888888,
              "#fdca26"
             ],
             [
              1,
              "#f0f921"
             ]
            ],
            "type": "surface"
           }
          ],
          "table": [
           {
            "cells": {
             "fill": {
              "color": "#EBF0F8"
             },
             "line": {
              "color": "white"
             }
            },
            "header": {
             "fill": {
              "color": "#C8D4E3"
             },
             "line": {
              "color": "white"
             }
            },
            "type": "table"
           }
          ]
         },
         "layout": {
          "annotationdefaults": {
           "arrowcolor": "#2a3f5f",
           "arrowhead": 0,
           "arrowwidth": 1
          },
          "autotypenumbers": "strict",
          "coloraxis": {
           "colorbar": {
            "outlinewidth": 0,
            "ticks": ""
           }
          },
          "colorscale": {
           "diverging": [
            [
             0,
             "#8e0152"
            ],
            [
             0.1,
             "#c51b7d"
            ],
            [
             0.2,
             "#de77ae"
            ],
            [
             0.3,
             "#f1b6da"
            ],
            [
             0.4,
             "#fde0ef"
            ],
            [
             0.5,
             "#f7f7f7"
            ],
            [
             0.6,
             "#e6f5d0"
            ],
            [
             0.7,
             "#b8e186"
            ],
            [
             0.8,
             "#7fbc41"
            ],
            [
             0.9,
             "#4d9221"
            ],
            [
             1,
             "#276419"
            ]
           ],
           "sequential": [
            [
             0,
             "#0d0887"
            ],
            [
             0.1111111111111111,
             "#46039f"
            ],
            [
             0.2222222222222222,
             "#7201a8"
            ],
            [
             0.3333333333333333,
             "#9c179e"
            ],
            [
             0.4444444444444444,
             "#bd3786"
            ],
            [
             0.5555555555555556,
             "#d8576b"
            ],
            [
             0.6666666666666666,
             "#ed7953"
            ],
            [
             0.7777777777777778,
             "#fb9f3a"
            ],
            [
             0.8888888888888888,
             "#fdca26"
            ],
            [
             1,
             "#f0f921"
            ]
           ],
           "sequentialminus": [
            [
             0,
             "#0d0887"
            ],
            [
             0.1111111111111111,
             "#46039f"
            ],
            [
             0.2222222222222222,
             "#7201a8"
            ],
            [
             0.3333333333333333,
             "#9c179e"
            ],
            [
             0.4444444444444444,
             "#bd3786"
            ],
            [
             0.5555555555555556,
             "#d8576b"
            ],
            [
             0.6666666666666666,
             "#ed7953"
            ],
            [
             0.7777777777777778,
             "#fb9f3a"
            ],
            [
             0.8888888888888888,
             "#fdca26"
            ],
            [
             1,
             "#f0f921"
            ]
           ]
          },
          "colorway": [
           "#636efa",
           "#EF553B",
           "#00cc96",
           "#ab63fa",
           "#FFA15A",
           "#19d3f3",
           "#FF6692",
           "#B6E880",
           "#FF97FF",
           "#FECB52"
          ],
          "font": {
           "color": "#2a3f5f"
          },
          "geo": {
           "bgcolor": "white",
           "lakecolor": "white",
           "landcolor": "#E5ECF6",
           "showlakes": true,
           "showland": true,
           "subunitcolor": "white"
          },
          "hoverlabel": {
           "align": "left"
          },
          "hovermode": "closest",
          "mapbox": {
           "style": "light"
          },
          "paper_bgcolor": "white",
          "plot_bgcolor": "#E5ECF6",
          "polar": {
           "angularaxis": {
            "gridcolor": "white",
            "linecolor": "white",
            "ticks": ""
           },
           "bgcolor": "#E5ECF6",
           "radialaxis": {
            "gridcolor": "white",
            "linecolor": "white",
            "ticks": ""
           }
          },
          "scene": {
           "xaxis": {
            "backgroundcolor": "#E5ECF6",
            "gridcolor": "white",
            "gridwidth": 2,
            "linecolor": "white",
            "showbackground": true,
            "ticks": "",
            "zerolinecolor": "white"
           },
           "yaxis": {
            "backgroundcolor": "#E5ECF6",
            "gridcolor": "white",
            "gridwidth": 2,
            "linecolor": "white",
            "showbackground": true,
            "ticks": "",
            "zerolinecolor": "white"
           },
           "zaxis": {
            "backgroundcolor": "#E5ECF6",
            "gridcolor": "white",
            "gridwidth": 2,
            "linecolor": "white",
            "showbackground": true,
            "ticks": "",
            "zerolinecolor": "white"
           }
          },
          "shapedefaults": {
           "line": {
            "color": "#2a3f5f"
           }
          },
          "ternary": {
           "aaxis": {
            "gridcolor": "white",
            "linecolor": "white",
            "ticks": ""
           },
           "baxis": {
            "gridcolor": "white",
            "linecolor": "white",
            "ticks": ""
           },
           "bgcolor": "#E5ECF6",
           "caxis": {
            "gridcolor": "white",
            "linecolor": "white",
            "ticks": ""
           }
          },
          "title": {
           "x": 0.05
          },
          "xaxis": {
           "automargin": true,
           "gridcolor": "white",
           "linecolor": "white",
           "ticks": "",
           "title": {
            "standoff": 15
           },
           "zerolinecolor": "white",
           "zerolinewidth": 2
          },
          "yaxis": {
           "automargin": true,
           "gridcolor": "white",
           "linecolor": "white",
           "ticks": "",
           "title": {
            "standoff": 15
           },
           "zerolinecolor": "white",
           "zerolinewidth": 2
          }
         }
        },
        "title": {
         "text": "Clustering with CCA Alignment - S14, S26",
         "x": 0.5
        },
        "width": 700,
        "xaxis": {
         "anchor": "y",
         "domain": [
          0,
          1
         ],
         "linecolor": "black",
         "mirror": false,
         "showgrid": false,
         "showline": true,
         "ticks": "outside",
         "title": {
          "text": ""
         }
        },
        "yaxis": {
         "anchor": "x",
         "domain": [
          0,
          1
         ],
         "linecolor": "black",
         "mirror": false,
         "range": [
          -0.01,
          0.4
         ],
         "showgrid": false,
         "showline": true,
         "ticks": "outside",
         "title": {
          "text": "Silhouette Score"
         }
        }
       }
      }
     },
     "metadata": {},
     "output_type": "display_data"
    }
   ],
   "source": [
    "fig = px.box(cross_score_df, color='Condition', y=\"Silhouette (t-SNE)\", x='Data', points='all', width=700, height=500, color_discrete_sequence=[px_colors[0], '#7F7F7F'])\n",
    "fig.add_hline(y=ps_score_df['Silhouette (t-SNE)'].mean(), line_dash='dash', line_color='red')\n",
    "fig.update_layout(\n",
    "    plot_bgcolor='white',\n",
    "    legend=dict(\n",
    "        orientation='h',\n",
    "        yanchor='top',\n",
    "        y=0.98,\n",
    "        xanchor='left',\n",
    "        x=0.02,\n",
    "        title_text=''\n",
    "    ),\n",
    "    title_text=f'Clustering with CCA Alignment - {\", \".join(pts)}',\n",
    "    title_x=0.5,\n",
    "    font=dict(size=18, family='Arial')\n",
    ")\n",
    "fig.update_xaxes(\n",
    "    title='',\n",
    "    mirror=False,\n",
    "    ticks='outside',\n",
    "    showline=True,\n",
    "    linecolor='black',\n",
    "    showgrid=False,\n",
    ")\n",
    "fig.update_yaxes(\n",
    "    title='Silhouette Score',\n",
    "    mirror=False,\n",
    "    ticks='outside',\n",
    "    showline=True,\n",
    "    linecolor='black',\n",
    "    showgrid=False,\n",
    "    range=[-0.01, 0.4]\n",
    ")\n",
    "\n",
    "fig.show()"
   ]
  },
  {
   "cell_type": "code",
   "execution_count": 169,
   "metadata": {},
   "outputs": [
    {
     "name": "stdout",
     "output_type": "stream",
     "text": [
      "Unaligned: artic vs chance\n",
      "MWU: U = 2438.0, p = 2.6913129710126445e-16\n",
      "Aligned: artic vs chance\n",
      "MWU: U = 2500.0, p = 7.066071930388932e-18\n",
      "Aligned vs Unaligned\n",
      "MWU: U = 2500.0, p = 7.066071930388932e-18\n",
      "\n",
      "Corrected p-values\n",
      "[2.69131297e-16 1.05991079e-17 1.05991079e-17]\n"
     ]
    }
   ],
   "source": [
    "pvals = []\n",
    "\n",
    "un_artic = cross_score_df[(cross_score_df['Condition'] == 'Articulatory Features') & (cross_score_df['Data'] == 'Unaligned')]['Silhouette (t-SNE)'].values\n",
    "un_chance = cross_score_df[(cross_score_df['Condition'] == 'Chance Distribution') & (cross_score_df['Data'] == 'Unaligned')]['Silhouette (t-SNE)'].values\n",
    "\n",
    "algn_artic = cross_score_df[(cross_score_df['Condition'] == 'Articulatory Features') & (cross_score_df['Data'] == 'Aligned')]['Silhouette (t-SNE)'].values\n",
    "algn_chance = cross_score_df[(cross_score_df['Condition'] == 'Chance Distribution') & (cross_score_df['Data'] == 'Aligned')]['Silhouette (t-SNE)'].values\n",
    "\n",
    "print('Unaligned: artic vs chance')\n",
    "res_un_ac = stats.mannwhitneyu(un_artic, un_chance)\n",
    "print(f'MWU: U = {res_un_ac.statistic}, p = {res_un_ac.pvalue}')\n",
    "\n",
    "print('Aligned: artic vs chance')\n",
    "res_algn_ac = stats.mannwhitneyu(algn_artic, algn_chance)\n",
    "print(f'MWU: U = {res_algn_ac.statistic}, p = {res_algn_ac.pvalue}')\n",
    "\n",
    "print('Aligned vs Unaligned')\n",
    "res_un_algn = stats.mannwhitneyu(algn_artic, un_artic)\n",
    "print(f'MWU: U = {res_un_algn.statistic}, p = {res_un_algn.pvalue}')\n",
    "\n",
    "\n",
    "# correct for false comparisons\n",
    "pvals = [res_un_ac.pvalue, res_algn_ac.pvalue, res_un_algn.pvalue]\n",
    "p_vals_cor = fdrcorrection(pvals)[1]\n",
    "print()\n",
    "print('Corrected p-values')\n",
    "print(p_vals_cor)"
   ]
  },
  {
   "cell_type": "markdown",
   "metadata": {},
   "source": [
    "### Panel e"
   ]
  },
  {
   "cell_type": "code",
   "execution_count": 78,
   "metadata": {},
   "outputs": [],
   "source": [
    "align_pt = 'S14'\n",
    "align_pt_ind = pt_names.index(align_pt)\n",
    "\n",
    "# setup CCA aligners for each condition and patient\n",
    "aligners = {}\n",
    "aligners_artic = {}\n",
    "aligners_cv = {}\n",
    "aligners_shuffle = {}\n",
    "for i, pt in enumerate(pt_names):\n",
    "    if i == align_pt_ind:\n",
    "        continue\n",
    "    aligners[pt] = AlignCCA()\n",
    "    aligners_shuffle[pt] = AlignCCA()\n",
    "    aligners_artic[pt] = AlignCCA()\n",
    "    aligners_cv[pt] = AlignCCA()\n",
    "\n",
    "# get patient-specific latent dynamics with PCA on channels\n",
    "to_align = [PCA(n_components=0.9).fit_transform(all_pt_traces[pt].reshape(-1, all_pt_traces[pt].shape[-1])) for pt in pt_names]\n",
    "to_align = [to_align[i].reshape(all_pt_traces[pt].shape[0], all_pt_traces[pt].shape[1], -1) for i, pt in enumerate(pt_names)]\n",
    "\n",
    "# align patient-specific latent dynamics\n",
    "aligned_data = {}\n",
    "aligned_data_shuffle = {}\n",
    "aligned_data_artic = {}\n",
    "aligned_data_cv = {}\n",
    "\n",
    "# aligning all patients to a single patient's space, so the align patient's latent dynamics are un-transformed\n",
    "aligned_data[pt_names[align_pt_ind]] = to_align[align_pt_ind]\n",
    "aligned_data_shuffle[pt_names[align_pt_ind]] = to_align[align_pt_ind]\n",
    "aligned_data_artic[pt_names[align_pt_ind]] = to_align[align_pt_ind]\n",
    "aligned_data_cv[pt_names[align_pt_ind]] = to_align[align_pt_ind]\n",
    "for i, pt in enumerate(pt_names):\n",
    "    if i == align_pt_ind:\n",
    "        continue\n",
    "    \n",
    "    # align by phoneme sequence\n",
    "    to_align_seqs = [all_pt_phon_seqs[pt_names[align_pt_ind]], all_pt_phon_seqs[pt]]\n",
    "    aligners[pt].fit(to_align[align_pt_ind], to_align[i], to_align_seqs[0], to_align_seqs[1])\n",
    "    aligned_data[pt] = aligners[pt].transform(to_align[i])\n",
    "\n",
    "    # align by shuffled phoneme sequence\n",
    "    to_align_seqs_shuffle = [all_pt_phon_seqs[pt_names[align_pt_ind]], np.random.permutation(all_pt_phon_seqs[pt])]\n",
    "    aligners_shuffle[pt].fit(to_align[align_pt_ind], to_align[i], to_align_seqs_shuffle[0], to_align_seqs_shuffle[1])\n",
    "    aligned_data_shuffle[pt] = aligners_shuffle[pt].transform(to_align[i])"
   ]
  },
  {
   "cell_type": "code",
   "execution_count": 79,
   "metadata": {},
   "outputs": [],
   "source": [
    "def pt_corr(target, to_corr, target_labels, to_corr_labels, n_comp=25, t_range=[-0.25, 0.25]):\n",
    "    min_dim = np.min([target.shape[-1], to_corr.shape[-1], n_comp])\n",
    "    # get data only around speech onset\n",
    "    t_inds = np.where((t >= t_range[0]) & (t < t_range[1]))[0]\n",
    "    target = target[:, t_inds]\n",
    "    to_corr = to_corr[:, t_inds]\n",
    "    cnd_avg_data = utils.extract_group_conditions([target, to_corr], [target_labels, to_corr_labels])\n",
    "    n_cnds = cnd_avg_data[0].shape[0]\n",
    "    cnd_r = np.zeros(n_cnds)\n",
    "    for i in range(cnd_avg_data[0].shape[0]):\n",
    "        target_avg = cnd_avg_data[0][i,:,:min_dim]\n",
    "        to_corr_avg = cnd_avg_data[1][i,:,:min_dim]\n",
    "\n",
    "        r_vals = np.zeros(min_dim)\n",
    "        for j in range(min_dim):\n",
    "            r_vals[j] = stats.pearsonr(target_avg[:,j], to_corr_avg[:,j])[0]\n",
    "        cnd_r[i] = np.mean(r_vals)\n",
    "    return cnd_r\n",
    "\n",
    "def pt_corr_multi(target, to_corr_list, target_labels, to_corr_labels_list, n_comp=25, t_range=[-0.25, 0.25]):\n",
    "    cnd_r = []\n",
    "    for i, to_corr in enumerate(to_corr_list):\n",
    "        cnd_r.append(pt_corr(target, to_corr, target_labels, to_corr_labels_list[i], n_comp=n_comp, t_range=t_range))\n",
    "    return cnd_r"
   ]
  },
  {
   "cell_type": "code",
   "execution_count": 80,
   "metadata": {},
   "outputs": [],
   "source": [
    "n_comp_corr = 10\n",
    "\n",
    "other_pts = [pt for pt in pt_names if pt != align_pt]\n",
    "unalign_corrs = pt_corr_multi(to_align[align_pt_ind], [to_align[pt_names.index(pt)] for pt in other_pts], all_pt_artic_labels[align_pt], [all_pt_artic_labels[pt] for pt in other_pts], n_comp=n_comp_corr)\n",
    "align_corrs = pt_corr_multi(aligned_data[align_pt], [aligned_data[pt] for pt in other_pts], all_pt_artic_labels[align_pt], [all_pt_artic_labels[pt] for pt in other_pts], n_comp=n_comp_corr)\n",
    "shuff_corrs = pt_corr_multi(aligned_data_shuffle[align_pt], [aligned_data_shuffle[pt] for pt in other_pts], all_pt_artic_labels[align_pt], [all_pt_artic_labels[pt] for pt in other_pts], n_comp=n_comp_corr)"
   ]
  },
  {
   "cell_type": "code",
   "execution_count": 81,
   "metadata": {},
   "outputs": [],
   "source": [
    "# combine unaligned and aligned correlations in dataframe for plotting\n",
    "corr_df = pd.DataFrame()\n",
    "corr_df_mean = pd.DataFrame()\n",
    "for i, pt in enumerate(other_pts):\n",
    "    curr_pt = pt\n",
    "    pt_unalign_corr = pd.DataFrame({'Correlation': unalign_corrs[i]})\n",
    "    pt_unalign_corr['Condition'] = 'Unaligned'\n",
    "    pt_unalign_corr['Patient'] = curr_pt\n",
    "\n",
    "    pt_align_corr = pd.DataFrame({'Correlation': align_corrs[i]})\n",
    "    pt_align_corr['Condition'] = 'Phoneme-aligned'\n",
    "    pt_align_corr['Patient'] = curr_pt\n",
    "\n",
    "    pt_align_corr_shuff = pd.DataFrame({'Correlation': shuff_corrs[i]})\n",
    "    pt_align_corr_shuff['Condition'] = 'Aligned to S1 - Shuffled'\n",
    "    pt_align_corr_shuff['Patient'] = curr_pt\n",
    "\n",
    "    corr_df_mean = pd.concat([corr_df_mean, pd.DataFrame({'Correlation': [np.mean(unalign_corrs[i]), np.mean(align_corrs[i]), np.mean(shuff_corrs[i])],\n",
    "                                                          'Condition': ['Unaligned', f'Aligned to S1', f'Aligned to S1 - Shuffled'],\n",
    "                                                          'Patient': [curr_pt, curr_pt, curr_pt], 'Order': [0,1,2],})], ignore_index=True)\n",
    "    corr_df = pd.concat([corr_df, pt_unalign_corr, pt_align_corr, pt_align_corr_shuff], ignore_index=True) \n",
    "\n",
    "corr_df_mean['Patient'] = corr_df_mean['Patient'].apply(lambda x: paper_pt_dict[x])\n",
    "corr_df_mean = corr_df_mean.sort_values(by=['Patient', 'Order'])"
   ]
  },
  {
   "cell_type": "code",
   "execution_count": 82,
   "metadata": {},
   "outputs": [
    {
     "data": {
      "application/vnd.microsoft.datawrangler.viewer.v0+json": {
       "columns": [
        {
         "name": "index",
         "rawType": "int64",
         "type": "integer"
        },
        {
         "name": "Correlation",
         "rawType": "float64",
         "type": "float"
        },
        {
         "name": "Condition",
         "rawType": "object",
         "type": "string"
        },
        {
         "name": "Patient",
         "rawType": "object",
         "type": "string"
        },
        {
         "name": "Order",
         "rawType": "int64",
         "type": "integer"
        }
       ],
       "conversionMethod": "pd.DataFrame",
       "ref": "6c3b23a5-8c1f-4e36-bf23-e3de0fd5eecc",
       "rows": [
        [
         "0",
         "0.019181231533949697",
         "Unaligned",
         "S2",
         "0"
        ],
        [
         "1",
         "0.5057316244644773",
         "Aligned to S1",
         "S2",
         "1"
        ],
        [
         "2",
         "0.28868978067408535",
         "Aligned to S1 - Shuffled",
         "S2",
         "2"
        ],
        [
         "6",
         "0.035535240681927704",
         "Unaligned",
         "S3",
         "0"
        ],
        [
         "7",
         "0.506029532814469",
         "Aligned to S1",
         "S3",
         "1"
        ],
        [
         "8",
         "0.37234346392454654",
         "Aligned to S1 - Shuffled",
         "S3",
         "2"
        ],
        [
         "9",
         "-0.0010281348605540655",
         "Unaligned",
         "S4",
         "0"
        ],
        [
         "10",
         "0.34864181228724916",
         "Aligned to S1",
         "S4",
         "1"
        ],
        [
         "11",
         "0.2257011969430973",
         "Aligned to S1 - Shuffled",
         "S4",
         "2"
        ],
        [
         "3",
         "0.11543417901154386",
         "Unaligned",
         "S5",
         "0"
        ],
        [
         "4",
         "0.26541756579323794",
         "Aligned to S1",
         "S5",
         "1"
        ],
        [
         "5",
         "0.2598267049587174",
         "Aligned to S1 - Shuffled",
         "S5",
         "2"
        ],
        [
         "12",
         "0.17294249245029472",
         "Unaligned",
         "S6",
         "0"
        ],
        [
         "13",
         "0.4148866022481744",
         "Aligned to S1",
         "S6",
         "1"
        ],
        [
         "14",
         "0.3241228062986017",
         "Aligned to S1 - Shuffled",
         "S6",
         "2"
        ],
        [
         "15",
         "0.0006694836785045627",
         "Unaligned",
         "S7",
         "0"
        ],
        [
         "16",
         "0.4285594473241313",
         "Aligned to S1",
         "S7",
         "1"
        ],
        [
         "17",
         "0.34052934466413515",
         "Aligned to S1 - Shuffled",
         "S7",
         "2"
        ],
        [
         "18",
         "-0.012874361749320724",
         "Unaligned",
         "S8",
         "0"
        ],
        [
         "19",
         "0.5472529036738689",
         "Aligned to S1",
         "S8",
         "1"
        ],
        [
         "20",
         "0.3440922757544401",
         "Aligned to S1 - Shuffled",
         "S8",
         "2"
        ]
       ],
       "shape": {
        "columns": 4,
        "rows": 21
       }
      },
      "text/html": [
       "<div>\n",
       "<style scoped>\n",
       "    .dataframe tbody tr th:only-of-type {\n",
       "        vertical-align: middle;\n",
       "    }\n",
       "\n",
       "    .dataframe tbody tr th {\n",
       "        vertical-align: top;\n",
       "    }\n",
       "\n",
       "    .dataframe thead th {\n",
       "        text-align: right;\n",
       "    }\n",
       "</style>\n",
       "<table border=\"1\" class=\"dataframe\">\n",
       "  <thead>\n",
       "    <tr style=\"text-align: right;\">\n",
       "      <th></th>\n",
       "      <th>Correlation</th>\n",
       "      <th>Condition</th>\n",
       "      <th>Patient</th>\n",
       "      <th>Order</th>\n",
       "    </tr>\n",
       "  </thead>\n",
       "  <tbody>\n",
       "    <tr>\n",
       "      <th>0</th>\n",
       "      <td>0.019181</td>\n",
       "      <td>Unaligned</td>\n",
       "      <td>S2</td>\n",
       "      <td>0</td>\n",
       "    </tr>\n",
       "    <tr>\n",
       "      <th>1</th>\n",
       "      <td>0.505732</td>\n",
       "      <td>Aligned to S1</td>\n",
       "      <td>S2</td>\n",
       "      <td>1</td>\n",
       "    </tr>\n",
       "    <tr>\n",
       "      <th>2</th>\n",
       "      <td>0.288690</td>\n",
       "      <td>Aligned to S1 - Shuffled</td>\n",
       "      <td>S2</td>\n",
       "      <td>2</td>\n",
       "    </tr>\n",
       "    <tr>\n",
       "      <th>6</th>\n",
       "      <td>0.035535</td>\n",
       "      <td>Unaligned</td>\n",
       "      <td>S3</td>\n",
       "      <td>0</td>\n",
       "    </tr>\n",
       "    <tr>\n",
       "      <th>7</th>\n",
       "      <td>0.506030</td>\n",
       "      <td>Aligned to S1</td>\n",
       "      <td>S3</td>\n",
       "      <td>1</td>\n",
       "    </tr>\n",
       "    <tr>\n",
       "      <th>8</th>\n",
       "      <td>0.372343</td>\n",
       "      <td>Aligned to S1 - Shuffled</td>\n",
       "      <td>S3</td>\n",
       "      <td>2</td>\n",
       "    </tr>\n",
       "    <tr>\n",
       "      <th>9</th>\n",
       "      <td>-0.001028</td>\n",
       "      <td>Unaligned</td>\n",
       "      <td>S4</td>\n",
       "      <td>0</td>\n",
       "    </tr>\n",
       "    <tr>\n",
       "      <th>10</th>\n",
       "      <td>0.348642</td>\n",
       "      <td>Aligned to S1</td>\n",
       "      <td>S4</td>\n",
       "      <td>1</td>\n",
       "    </tr>\n",
       "    <tr>\n",
       "      <th>11</th>\n",
       "      <td>0.225701</td>\n",
       "      <td>Aligned to S1 - Shuffled</td>\n",
       "      <td>S4</td>\n",
       "      <td>2</td>\n",
       "    </tr>\n",
       "    <tr>\n",
       "      <th>3</th>\n",
       "      <td>0.115434</td>\n",
       "      <td>Unaligned</td>\n",
       "      <td>S5</td>\n",
       "      <td>0</td>\n",
       "    </tr>\n",
       "    <tr>\n",
       "      <th>4</th>\n",
       "      <td>0.265418</td>\n",
       "      <td>Aligned to S1</td>\n",
       "      <td>S5</td>\n",
       "      <td>1</td>\n",
       "    </tr>\n",
       "    <tr>\n",
       "      <th>5</th>\n",
       "      <td>0.259827</td>\n",
       "      <td>Aligned to S1 - Shuffled</td>\n",
       "      <td>S5</td>\n",
       "      <td>2</td>\n",
       "    </tr>\n",
       "    <tr>\n",
       "      <th>12</th>\n",
       "      <td>0.172942</td>\n",
       "      <td>Unaligned</td>\n",
       "      <td>S6</td>\n",
       "      <td>0</td>\n",
       "    </tr>\n",
       "    <tr>\n",
       "      <th>13</th>\n",
       "      <td>0.414887</td>\n",
       "      <td>Aligned to S1</td>\n",
       "      <td>S6</td>\n",
       "      <td>1</td>\n",
       "    </tr>\n",
       "    <tr>\n",
       "      <th>14</th>\n",
       "      <td>0.324123</td>\n",
       "      <td>Aligned to S1 - Shuffled</td>\n",
       "      <td>S6</td>\n",
       "      <td>2</td>\n",
       "    </tr>\n",
       "    <tr>\n",
       "      <th>15</th>\n",
       "      <td>0.000669</td>\n",
       "      <td>Unaligned</td>\n",
       "      <td>S7</td>\n",
       "      <td>0</td>\n",
       "    </tr>\n",
       "    <tr>\n",
       "      <th>16</th>\n",
       "      <td>0.428559</td>\n",
       "      <td>Aligned to S1</td>\n",
       "      <td>S7</td>\n",
       "      <td>1</td>\n",
       "    </tr>\n",
       "    <tr>\n",
       "      <th>17</th>\n",
       "      <td>0.340529</td>\n",
       "      <td>Aligned to S1 - Shuffled</td>\n",
       "      <td>S7</td>\n",
       "      <td>2</td>\n",
       "    </tr>\n",
       "    <tr>\n",
       "      <th>18</th>\n",
       "      <td>-0.012874</td>\n",
       "      <td>Unaligned</td>\n",
       "      <td>S8</td>\n",
       "      <td>0</td>\n",
       "    </tr>\n",
       "    <tr>\n",
       "      <th>19</th>\n",
       "      <td>0.547253</td>\n",
       "      <td>Aligned to S1</td>\n",
       "      <td>S8</td>\n",
       "      <td>1</td>\n",
       "    </tr>\n",
       "    <tr>\n",
       "      <th>20</th>\n",
       "      <td>0.344092</td>\n",
       "      <td>Aligned to S1 - Shuffled</td>\n",
       "      <td>S8</td>\n",
       "      <td>2</td>\n",
       "    </tr>\n",
       "  </tbody>\n",
       "</table>\n",
       "</div>"
      ],
      "text/plain": [
       "    Correlation                 Condition Patient  Order\n",
       "0      0.019181                 Unaligned      S2      0\n",
       "1      0.505732             Aligned to S1      S2      1\n",
       "2      0.288690  Aligned to S1 - Shuffled      S2      2\n",
       "6      0.035535                 Unaligned      S3      0\n",
       "7      0.506030             Aligned to S1      S3      1\n",
       "8      0.372343  Aligned to S1 - Shuffled      S3      2\n",
       "9     -0.001028                 Unaligned      S4      0\n",
       "10     0.348642             Aligned to S1      S4      1\n",
       "11     0.225701  Aligned to S1 - Shuffled      S4      2\n",
       "3      0.115434                 Unaligned      S5      0\n",
       "4      0.265418             Aligned to S1      S5      1\n",
       "5      0.259827  Aligned to S1 - Shuffled      S5      2\n",
       "12     0.172942                 Unaligned      S6      0\n",
       "13     0.414887             Aligned to S1      S6      1\n",
       "14     0.324123  Aligned to S1 - Shuffled      S6      2\n",
       "15     0.000669                 Unaligned      S7      0\n",
       "16     0.428559             Aligned to S1      S7      1\n",
       "17     0.340529  Aligned to S1 - Shuffled      S7      2\n",
       "18    -0.012874                 Unaligned      S8      0\n",
       "19     0.547253             Aligned to S1      S8      1\n",
       "20     0.344092  Aligned to S1 - Shuffled      S8      2"
      ]
     },
     "execution_count": 82,
     "metadata": {},
     "output_type": "execute_result"
    }
   ],
   "source": [
    "corr_df_mean"
   ]
  },
  {
   "cell_type": "code",
   "execution_count": 83,
   "metadata": {},
   "outputs": [
    {
     "data": {
      "application/vnd.plotly.v1+json": {
       "config": {
        "plotlyServerURL": "https://plotly.com"
       },
       "data": [
        {
         "hovertemplate": "Patient=S2<br>Condition=%{x}<br>Correlation=%{y}<extra></extra>",
         "legendgroup": "S2",
         "line": {
          "color": "#EF553B",
          "dash": "solid"
         },
         "marker": {
          "symbol": "circle"
         },
         "mode": "lines",
         "name": "S2",
         "orientation": "v",
         "showlegend": true,
         "type": "scatter",
         "x": [
          "Unaligned",
          "Aligned to S1",
          "Aligned to S1 - Shuffled"
         ],
         "xaxis": "x",
         "y": [
          0.019181231533949697,
          0.5057316244644773,
          0.28868978067408535
         ],
         "yaxis": "y"
        },
        {
         "hovertemplate": "Patient=S3<br>Condition=%{x}<br>Correlation=%{y}<extra></extra>",
         "legendgroup": "S3",
         "line": {
          "color": "#00CC96",
          "dash": "solid"
         },
         "marker": {
          "symbol": "circle"
         },
         "mode": "lines",
         "name": "S3",
         "orientation": "v",
         "showlegend": true,
         "type": "scatter",
         "x": [
          "Unaligned",
          "Aligned to S1",
          "Aligned to S1 - Shuffled"
         ],
         "xaxis": "x",
         "y": [
          0.035535240681927704,
          0.506029532814469,
          0.37234346392454654
         ],
         "yaxis": "y"
        },
        {
         "hovertemplate": "Patient=S4<br>Condition=%{x}<br>Correlation=%{y}<extra></extra>",
         "legendgroup": "S4",
         "line": {
          "color": "#AB63FA",
          "dash": "solid"
         },
         "marker": {
          "symbol": "circle"
         },
         "mode": "lines",
         "name": "S4",
         "orientation": "v",
         "showlegend": true,
         "type": "scatter",
         "x": [
          "Unaligned",
          "Aligned to S1",
          "Aligned to S1 - Shuffled"
         ],
         "xaxis": "x",
         "y": [
          -0.0010281348605540655,
          0.34864181228724916,
          0.2257011969430973
         ],
         "yaxis": "y"
        },
        {
         "hovertemplate": "Patient=S5<br>Condition=%{x}<br>Correlation=%{y}<extra></extra>",
         "legendgroup": "S5",
         "line": {
          "color": "#FFA15A",
          "dash": "solid"
         },
         "marker": {
          "symbol": "circle"
         },
         "mode": "lines",
         "name": "S5",
         "orientation": "v",
         "showlegend": true,
         "type": "scatter",
         "x": [
          "Unaligned",
          "Aligned to S1",
          "Aligned to S1 - Shuffled"
         ],
         "xaxis": "x",
         "y": [
          0.11543417901154386,
          0.26541756579323794,
          0.2598267049587174
         ],
         "yaxis": "y"
        },
        {
         "hovertemplate": "Patient=S6<br>Condition=%{x}<br>Correlation=%{y}<extra></extra>",
         "legendgroup": "S6",
         "line": {
          "color": "#19D3F3",
          "dash": "solid"
         },
         "marker": {
          "symbol": "circle"
         },
         "mode": "lines",
         "name": "S6",
         "orientation": "v",
         "showlegend": true,
         "type": "scatter",
         "x": [
          "Unaligned",
          "Aligned to S1",
          "Aligned to S1 - Shuffled"
         ],
         "xaxis": "x",
         "y": [
          0.17294249245029472,
          0.4148866022481744,
          0.3241228062986017
         ],
         "yaxis": "y"
        },
        {
         "hovertemplate": "Patient=S7<br>Condition=%{x}<br>Correlation=%{y}<extra></extra>",
         "legendgroup": "S7",
         "line": {
          "color": "#FF6692",
          "dash": "solid"
         },
         "marker": {
          "symbol": "circle"
         },
         "mode": "lines",
         "name": "S7",
         "orientation": "v",
         "showlegend": true,
         "type": "scatter",
         "x": [
          "Unaligned",
          "Aligned to S1",
          "Aligned to S1 - Shuffled"
         ],
         "xaxis": "x",
         "y": [
          0.0006694836785045627,
          0.4285594473241313,
          0.34052934466413515
         ],
         "yaxis": "y"
        },
        {
         "hovertemplate": "Patient=S8<br>Condition=%{x}<br>Correlation=%{y}<extra></extra>",
         "legendgroup": "S8",
         "line": {
          "color": "#B6E880",
          "dash": "solid"
         },
         "marker": {
          "symbol": "circle"
         },
         "mode": "lines",
         "name": "S8",
         "orientation": "v",
         "showlegend": true,
         "type": "scatter",
         "x": [
          "Unaligned",
          "Aligned to S1",
          "Aligned to S1 - Shuffled"
         ],
         "xaxis": "x",
         "y": [
          -0.012874361749320724,
          0.5472529036738689,
          0.3440922757544401
         ],
         "yaxis": "y"
        },
        {
         "alignmentgroup": "True",
         "hovertemplate": "Condition=%{x}<br>Correlation=%{y}<extra></extra>",
         "legendgroup": "",
         "marker": {
          "color": "#636efa"
         },
         "name": "",
         "notched": false,
         "offsetgroup": "",
         "orientation": "v",
         "showlegend": false,
         "type": "box",
         "x": [
          "Unaligned",
          "Aligned to S1",
          "Aligned to S1 - Shuffled",
          "Unaligned",
          "Aligned to S1",
          "Aligned to S1 - Shuffled",
          "Unaligned",
          "Aligned to S1",
          "Aligned to S1 - Shuffled",
          "Unaligned",
          "Aligned to S1",
          "Aligned to S1 - Shuffled",
          "Unaligned",
          "Aligned to S1",
          "Aligned to S1 - Shuffled",
          "Unaligned",
          "Aligned to S1",
          "Aligned to S1 - Shuffled",
          "Unaligned",
          "Aligned to S1",
          "Aligned to S1 - Shuffled"
         ],
         "x0": " ",
         "xaxis": "x",
         "y": [
          0.019181231533949697,
          0.5057316244644773,
          0.28868978067408535,
          0.035535240681927704,
          0.506029532814469,
          0.37234346392454654,
          -0.0010281348605540655,
          0.34864181228724916,
          0.2257011969430973,
          0.11543417901154386,
          0.26541756579323794,
          0.2598267049587174,
          0.17294249245029472,
          0.4148866022481744,
          0.3241228062986017,
          0.0006694836785045627,
          0.4285594473241313,
          0.34052934466413515,
          -0.012874361749320724,
          0.5472529036738689,
          0.3440922757544401
         ],
         "y0": " ",
         "yaxis": "y"
        }
       ],
       "layout": {
        "font": {
         "family": "Arial",
         "size": 18
        },
        "height": 500,
        "legend": {
         "orientation": "h",
         "title": {
          "text": ""
         },
         "tracegroupgap": 0,
         "x": 0.02,
         "xanchor": "left",
         "y": 0.98,
         "yanchor": "top"
        },
        "margin": {
         "t": 60
        },
        "plot_bgcolor": "white",
        "template": {
         "data": {
          "bar": [
           {
            "error_x": {
             "color": "#2a3f5f"
            },
            "error_y": {
             "color": "#2a3f5f"
            },
            "marker": {
             "line": {
              "color": "#E5ECF6",
              "width": 0.5
             },
             "pattern": {
              "fillmode": "overlay",
              "size": 10,
              "solidity": 0.2
             }
            },
            "type": "bar"
           }
          ],
          "barpolar": [
           {
            "marker": {
             "line": {
              "color": "#E5ECF6",
              "width": 0.5
             },
             "pattern": {
              "fillmode": "overlay",
              "size": 10,
              "solidity": 0.2
             }
            },
            "type": "barpolar"
           }
          ],
          "carpet": [
           {
            "aaxis": {
             "endlinecolor": "#2a3f5f",
             "gridcolor": "white",
             "linecolor": "white",
             "minorgridcolor": "white",
             "startlinecolor": "#2a3f5f"
            },
            "baxis": {
             "endlinecolor": "#2a3f5f",
             "gridcolor": "white",
             "linecolor": "white",
             "minorgridcolor": "white",
             "startlinecolor": "#2a3f5f"
            },
            "type": "carpet"
           }
          ],
          "choropleth": [
           {
            "colorbar": {
             "outlinewidth": 0,
             "ticks": ""
            },
            "type": "choropleth"
           }
          ],
          "contour": [
           {
            "colorbar": {
             "outlinewidth": 0,
             "ticks": ""
            },
            "colorscale": [
             [
              0,
              "#0d0887"
             ],
             [
              0.1111111111111111,
              "#46039f"
             ],
             [
              0.2222222222222222,
              "#7201a8"
             ],
             [
              0.3333333333333333,
              "#9c179e"
             ],
             [
              0.4444444444444444,
              "#bd3786"
             ],
             [
              0.5555555555555556,
              "#d8576b"
             ],
             [
              0.6666666666666666,
              "#ed7953"
             ],
             [
              0.7777777777777778,
              "#fb9f3a"
             ],
             [
              0.8888888888888888,
              "#fdca26"
             ],
             [
              1,
              "#f0f921"
             ]
            ],
            "type": "contour"
           }
          ],
          "contourcarpet": [
           {
            "colorbar": {
             "outlinewidth": 0,
             "ticks": ""
            },
            "type": "contourcarpet"
           }
          ],
          "heatmap": [
           {
            "colorbar": {
             "outlinewidth": 0,
             "ticks": ""
            },
            "colorscale": [
             [
              0,
              "#0d0887"
             ],
             [
              0.1111111111111111,
              "#46039f"
             ],
             [
              0.2222222222222222,
              "#7201a8"
             ],
             [
              0.3333333333333333,
              "#9c179e"
             ],
             [
              0.4444444444444444,
              "#bd3786"
             ],
             [
              0.5555555555555556,
              "#d8576b"
             ],
             [
              0.6666666666666666,
              "#ed7953"
             ],
             [
              0.7777777777777778,
              "#fb9f3a"
             ],
             [
              0.8888888888888888,
              "#fdca26"
             ],
             [
              1,
              "#f0f921"
             ]
            ],
            "type": "heatmap"
           }
          ],
          "heatmapgl": [
           {
            "colorbar": {
             "outlinewidth": 0,
             "ticks": ""
            },
            "colorscale": [
             [
              0,
              "#0d0887"
             ],
             [
              0.1111111111111111,
              "#46039f"
             ],
             [
              0.2222222222222222,
              "#7201a8"
             ],
             [
              0.3333333333333333,
              "#9c179e"
             ],
             [
              0.4444444444444444,
              "#bd3786"
             ],
             [
              0.5555555555555556,
              "#d8576b"
             ],
             [
              0.6666666666666666,
              "#ed7953"
             ],
             [
              0.7777777777777778,
              "#fb9f3a"
             ],
             [
              0.8888888888888888,
              "#fdca26"
             ],
             [
              1,
              "#f0f921"
             ]
            ],
            "type": "heatmapgl"
           }
          ],
          "histogram": [
           {
            "marker": {
             "pattern": {
              "fillmode": "overlay",
              "size": 10,
              "solidity": 0.2
             }
            },
            "type": "histogram"
           }
          ],
          "histogram2d": [
           {
            "colorbar": {
             "outlinewidth": 0,
             "ticks": ""
            },
            "colorscale": [
             [
              0,
              "#0d0887"
             ],
             [
              0.1111111111111111,
              "#46039f"
             ],
             [
              0.2222222222222222,
              "#7201a8"
             ],
             [
              0.3333333333333333,
              "#9c179e"
             ],
             [
              0.4444444444444444,
              "#bd3786"
             ],
             [
              0.5555555555555556,
              "#d8576b"
             ],
             [
              0.6666666666666666,
              "#ed7953"
             ],
             [
              0.7777777777777778,
              "#fb9f3a"
             ],
             [
              0.8888888888888888,
              "#fdca26"
             ],
             [
              1,
              "#f0f921"
             ]
            ],
            "type": "histogram2d"
           }
          ],
          "histogram2dcontour": [
           {
            "colorbar": {
             "outlinewidth": 0,
             "ticks": ""
            },
            "colorscale": [
             [
              0,
              "#0d0887"
             ],
             [
              0.1111111111111111,
              "#46039f"
             ],
             [
              0.2222222222222222,
              "#7201a8"
             ],
             [
              0.3333333333333333,
              "#9c179e"
             ],
             [
              0.4444444444444444,
              "#bd3786"
             ],
             [
              0.5555555555555556,
              "#d8576b"
             ],
             [
              0.6666666666666666,
              "#ed7953"
             ],
             [
              0.7777777777777778,
              "#fb9f3a"
             ],
             [
              0.8888888888888888,
              "#fdca26"
             ],
             [
              1,
              "#f0f921"
             ]
            ],
            "type": "histogram2dcontour"
           }
          ],
          "mesh3d": [
           {
            "colorbar": {
             "outlinewidth": 0,
             "ticks": ""
            },
            "type": "mesh3d"
           }
          ],
          "parcoords": [
           {
            "line": {
             "colorbar": {
              "outlinewidth": 0,
              "ticks": ""
             }
            },
            "type": "parcoords"
           }
          ],
          "pie": [
           {
            "automargin": true,
            "type": "pie"
           }
          ],
          "scatter": [
           {
            "fillpattern": {
             "fillmode": "overlay",
             "size": 10,
             "solidity": 0.2
            },
            "type": "scatter"
           }
          ],
          "scatter3d": [
           {
            "line": {
             "colorbar": {
              "outlinewidth": 0,
              "ticks": ""
             }
            },
            "marker": {
             "colorbar": {
              "outlinewidth": 0,
              "ticks": ""
             }
            },
            "type": "scatter3d"
           }
          ],
          "scattercarpet": [
           {
            "marker": {
             "colorbar": {
              "outlinewidth": 0,
              "ticks": ""
             }
            },
            "type": "scattercarpet"
           }
          ],
          "scattergeo": [
           {
            "marker": {
             "colorbar": {
              "outlinewidth": 0,
              "ticks": ""
             }
            },
            "type": "scattergeo"
           }
          ],
          "scattergl": [
           {
            "marker": {
             "colorbar": {
              "outlinewidth": 0,
              "ticks": ""
             }
            },
            "type": "scattergl"
           }
          ],
          "scattermapbox": [
           {
            "marker": {
             "colorbar": {
              "outlinewidth": 0,
              "ticks": ""
             }
            },
            "type": "scattermapbox"
           }
          ],
          "scatterpolar": [
           {
            "marker": {
             "colorbar": {
              "outlinewidth": 0,
              "ticks": ""
             }
            },
            "type": "scatterpolar"
           }
          ],
          "scatterpolargl": [
           {
            "marker": {
             "colorbar": {
              "outlinewidth": 0,
              "ticks": ""
             }
            },
            "type": "scatterpolargl"
           }
          ],
          "scatterternary": [
           {
            "marker": {
             "colorbar": {
              "outlinewidth": 0,
              "ticks": ""
             }
            },
            "type": "scatterternary"
           }
          ],
          "surface": [
           {
            "colorbar": {
             "outlinewidth": 0,
             "ticks": ""
            },
            "colorscale": [
             [
              0,
              "#0d0887"
             ],
             [
              0.1111111111111111,
              "#46039f"
             ],
             [
              0.2222222222222222,
              "#7201a8"
             ],
             [
              0.3333333333333333,
              "#9c179e"
             ],
             [
              0.4444444444444444,
              "#bd3786"
             ],
             [
              0.5555555555555556,
              "#d8576b"
             ],
             [
              0.6666666666666666,
              "#ed7953"
             ],
             [
              0.7777777777777778,
              "#fb9f3a"
             ],
             [
              0.8888888888888888,
              "#fdca26"
             ],
             [
              1,
              "#f0f921"
             ]
            ],
            "type": "surface"
           }
          ],
          "table": [
           {
            "cells": {
             "fill": {
              "color": "#EBF0F8"
             },
             "line": {
              "color": "white"
             }
            },
            "header": {
             "fill": {
              "color": "#C8D4E3"
             },
             "line": {
              "color": "white"
             }
            },
            "type": "table"
           }
          ]
         },
         "layout": {
          "annotationdefaults": {
           "arrowcolor": "#2a3f5f",
           "arrowhead": 0,
           "arrowwidth": 1
          },
          "autotypenumbers": "strict",
          "coloraxis": {
           "colorbar": {
            "outlinewidth": 0,
            "ticks": ""
           }
          },
          "colorscale": {
           "diverging": [
            [
             0,
             "#8e0152"
            ],
            [
             0.1,
             "#c51b7d"
            ],
            [
             0.2,
             "#de77ae"
            ],
            [
             0.3,
             "#f1b6da"
            ],
            [
             0.4,
             "#fde0ef"
            ],
            [
             0.5,
             "#f7f7f7"
            ],
            [
             0.6,
             "#e6f5d0"
            ],
            [
             0.7,
             "#b8e186"
            ],
            [
             0.8,
             "#7fbc41"
            ],
            [
             0.9,
             "#4d9221"
            ],
            [
             1,
             "#276419"
            ]
           ],
           "sequential": [
            [
             0,
             "#0d0887"
            ],
            [
             0.1111111111111111,
             "#46039f"
            ],
            [
             0.2222222222222222,
             "#7201a8"
            ],
            [
             0.3333333333333333,
             "#9c179e"
            ],
            [
             0.4444444444444444,
             "#bd3786"
            ],
            [
             0.5555555555555556,
             "#d8576b"
            ],
            [
             0.6666666666666666,
             "#ed7953"
            ],
            [
             0.7777777777777778,
             "#fb9f3a"
            ],
            [
             0.8888888888888888,
             "#fdca26"
            ],
            [
             1,
             "#f0f921"
            ]
           ],
           "sequentialminus": [
            [
             0,
             "#0d0887"
            ],
            [
             0.1111111111111111,
             "#46039f"
            ],
            [
             0.2222222222222222,
             "#7201a8"
            ],
            [
             0.3333333333333333,
             "#9c179e"
            ],
            [
             0.4444444444444444,
             "#bd3786"
            ],
            [
             0.5555555555555556,
             "#d8576b"
            ],
            [
             0.6666666666666666,
             "#ed7953"
            ],
            [
             0.7777777777777778,
             "#fb9f3a"
            ],
            [
             0.8888888888888888,
             "#fdca26"
            ],
            [
             1,
             "#f0f921"
            ]
           ]
          },
          "colorway": [
           "#636efa",
           "#EF553B",
           "#00cc96",
           "#ab63fa",
           "#FFA15A",
           "#19d3f3",
           "#FF6692",
           "#B6E880",
           "#FF97FF",
           "#FECB52"
          ],
          "font": {
           "color": "#2a3f5f"
          },
          "geo": {
           "bgcolor": "white",
           "lakecolor": "white",
           "landcolor": "#E5ECF6",
           "showlakes": true,
           "showland": true,
           "subunitcolor": "white"
          },
          "hoverlabel": {
           "align": "left"
          },
          "hovermode": "closest",
          "mapbox": {
           "style": "light"
          },
          "paper_bgcolor": "white",
          "plot_bgcolor": "#E5ECF6",
          "polar": {
           "angularaxis": {
            "gridcolor": "white",
            "linecolor": "white",
            "ticks": ""
           },
           "bgcolor": "#E5ECF6",
           "radialaxis": {
            "gridcolor": "white",
            "linecolor": "white",
            "ticks": ""
           }
          },
          "scene": {
           "xaxis": {
            "backgroundcolor": "#E5ECF6",
            "gridcolor": "white",
            "gridwidth": 2,
            "linecolor": "white",
            "showbackground": true,
            "ticks": "",
            "zerolinecolor": "white"
           },
           "yaxis": {
            "backgroundcolor": "#E5ECF6",
            "gridcolor": "white",
            "gridwidth": 2,
            "linecolor": "white",
            "showbackground": true,
            "ticks": "",
            "zerolinecolor": "white"
           },
           "zaxis": {
            "backgroundcolor": "#E5ECF6",
            "gridcolor": "white",
            "gridwidth": 2,
            "linecolor": "white",
            "showbackground": true,
            "ticks": "",
            "zerolinecolor": "white"
           }
          },
          "shapedefaults": {
           "line": {
            "color": "#2a3f5f"
           }
          },
          "ternary": {
           "aaxis": {
            "gridcolor": "white",
            "linecolor": "white",
            "ticks": ""
           },
           "baxis": {
            "gridcolor": "white",
            "linecolor": "white",
            "ticks": ""
           },
           "bgcolor": "#E5ECF6",
           "caxis": {
            "gridcolor": "white",
            "linecolor": "white",
            "ticks": ""
           }
          },
          "title": {
           "x": 0.05
          },
          "xaxis": {
           "automargin": true,
           "gridcolor": "white",
           "linecolor": "white",
           "ticks": "",
           "title": {
            "standoff": 15
           },
           "zerolinecolor": "white",
           "zerolinewidth": 2
          },
          "yaxis": {
           "automargin": true,
           "gridcolor": "white",
           "linecolor": "white",
           "ticks": "",
           "title": {
            "standoff": 15
           },
           "zerolinecolor": "white",
           "zerolinewidth": 2
          }
         }
        },
        "title": {
         "text": "Correlation with S1 Latent Dynamics",
         "x": 0.5
        },
        "width": 800,
        "xaxis": {
         "anchor": "y",
         "domain": [
          0,
          1
         ],
         "linecolor": "black",
         "mirror": false,
         "showgrid": false,
         "showline": true,
         "ticks": "outside",
         "title": {
          "text": ""
         }
        },
        "yaxis": {
         "anchor": "x",
         "domain": [
          0,
          1
         ],
         "linecolor": "black",
         "mirror": false,
         "range": [
          -0.1,
          0.65
         ],
         "showgrid": false,
         "showline": true,
         "ticks": "outside",
         "title": {
          "text": "Pearson <i>r</i>"
         }
        }
       }
      }
     },
     "metadata": {},
     "output_type": "display_data"
    }
   ],
   "source": [
    "fig = px.line(corr_df_mean, x='Condition', y=\"Correlation\", color='Patient', width=800, height=500, color_discrete_sequence=px.colors.qualitative.Plotly[1:])\n",
    "fig.add_traces(px.box(corr_df_mean, x='Condition', y=\"Correlation\").data)\n",
    "fig.update_layout(\n",
    "    plot_bgcolor='white',\n",
    "    legend=dict(\n",
    "        orientation='h',\n",
    "        yanchor='top',\n",
    "        y=0.98,\n",
    "        xanchor='left',\n",
    "        x=0.02,\n",
    "        title_text=''\n",
    "    ),\n",
    "    title_text=f'Correlation with S1 Latent Dynamics',\n",
    "    title_x=0.5,\n",
    "    font=dict(size=18, family='Arial')\n",
    ")\n",
    "fig.update_xaxes(\n",
    "    title='',\n",
    "    mirror=False,\n",
    "    ticks='outside',\n",
    "    showline=True,\n",
    "    linecolor='black',\n",
    "    showgrid=False,\n",
    ")\n",
    "fig.update_yaxes(\n",
    "    title='Pearson <i>r</i>',\n",
    "    mirror=False,\n",
    "    ticks='outside',\n",
    "    showline=True,\n",
    "    linecolor='black',\n",
    "    showgrid=False,\n",
    "    range=[-0.1, 0.65]\n",
    ")\n",
    "\n",
    "fig.show()"
   ]
  },
  {
   "cell_type": "code",
   "execution_count": 84,
   "metadata": {},
   "outputs": [
    {
     "name": "stdout",
     "output_type": "stream",
     "text": [
      "Unaligned vs. Aligned\n",
      "Wilcoxon: statistic = 0.0, p = 0.015625\n",
      "Unaligned vs. Aligned Shuffled\n",
      "Wilcoxon: statistic = 0.0, p = 0.015625\n",
      "Aligned vs. Aligned Shuffled\n",
      "Wilcoxon: statistic = 0.0, p = 0.015625\n",
      "\n",
      "Corrected p-values\n",
      "[0.015625 0.015625 0.015625]\n"
     ]
    }
   ],
   "source": [
    "pvals = []\n",
    "\n",
    "stat_df = corr_df_mean\n",
    "un_corrs = stat_df[stat_df['Condition'] == 'Unaligned']['Correlation']\n",
    "algn_corrs = stat_df[stat_df['Condition'] == 'Aligned to S1']['Correlation']\n",
    "shuff_corrs = stat_df[stat_df['Condition'] == 'Aligned to S1 - Shuffled']['Correlation']\n",
    "\n",
    "# test for significant difference between unaligned and aligned correlations\n",
    "print('Unaligned vs. Aligned')\n",
    "\n",
    "res_un_phon = stats.wilcoxon(un_corrs, algn_corrs)\n",
    "print(f'Wilcoxon: statistic = {res_un_phon.statistic}, p = {res_un_phon.pvalue}')\n",
    "\n",
    "# test for significant difference between unaligned and shuffled aligned correlations\n",
    "print('Unaligned vs. Aligned Shuffled')\n",
    "res_un_shuff = stats.wilcoxon(un_corrs, shuff_corrs)\n",
    "print(f'Wilcoxon: statistic = {res_un_shuff.statistic}, p = {res_un_shuff.pvalue}')\n",
    "\n",
    "# test for significant difference between aligned and shuffled aligned correlations\n",
    "print('Aligned vs. Aligned Shuffled')\n",
    "res_phon_shuff = stats.wilcoxon(algn_corrs, shuff_corrs)\n",
    "print(f'Wilcoxon: statistic = {res_phon_shuff.statistic}, p = {res_phon_shuff.pvalue}')\n",
    "\n",
    "# correct for false comparisons\n",
    "pvals = [res_un_phon.pvalue, res_un_shuff.pvalue, res_phon_shuff.pvalue]\n",
    "p_vals_cor = fdrcorrection(pvals)[1]\n",
    "print()\n",
    "print('Corrected p-values')\n",
    "print(p_vals_cor)\n"
   ]
  }
 ],
 "metadata": {
  "kernelspec": {
   "display_name": "micro_decode",
   "language": "python",
   "name": "python3"
  },
  "language_info": {
   "codemirror_mode": {
    "name": "ipython",
    "version": 3
   },
   "file_extension": ".py",
   "mimetype": "text/x-python",
   "name": "python",
   "nbconvert_exporter": "python",
   "pygments_lexer": "ipython3",
   "version": "3.11.5"
  }
 },
 "nbformat": 4,
 "nbformat_minor": 2
}
