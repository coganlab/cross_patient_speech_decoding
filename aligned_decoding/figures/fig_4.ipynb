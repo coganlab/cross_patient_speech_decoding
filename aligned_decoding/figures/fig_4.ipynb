{
 "cells": [
  {
   "cell_type": "markdown",
   "metadata": {},
   "source": [
    "# Imports"
   ]
  },
  {
   "cell_type": "code",
   "execution_count": 1,
   "metadata": {},
   "outputs": [],
   "source": [
    "import sys\n",
    "sys.path.append('..')"
   ]
  },
  {
   "cell_type": "code",
   "execution_count": 2,
   "metadata": {},
   "outputs": [],
   "source": [
    "# analysis\n",
    "import numpy as np\n",
    "import pandas as pd\n",
    "import scipy.stats as stats\n",
    "from sklearn.metrics import confusion_matrix\n",
    "from statsmodels.stats.anova import AnovaRM\n",
    "from statsmodels.stats.multitest import fdrcorrection\n",
    "from statsmodels.stats.anova import anova_lm\n",
    "from statsmodels.formula.api import ols\n",
    "\n",
    "# plotting\n",
    "import matplotlib.pyplot as plt\n",
    "import matplotlib as mpl\n",
    "import seaborn as sns\n",
    "import plotly.express as px\n",
    "\n",
    "# local\n",
    "import alignment.alignment_utils as utils\n",
    "\n",
    "%matplotlib inline"
   ]
  },
  {
   "cell_type": "code",
   "execution_count": 3,
   "metadata": {},
   "outputs": [],
   "source": [
    "def mean_stat(a, b, axis=0):\n",
    "    return np.mean(a, axis=axis) - np.mean(b, axis=axis)"
   ]
  },
  {
   "cell_type": "markdown",
   "metadata": {},
   "source": [
    "# Params"
   ]
  },
  {
   "cell_type": "code",
   "execution_count": 4,
   "metadata": {},
   "outputs": [],
   "source": [
    "paper_pt_dict = {'S14': 'S1', 'S26': 'S2', 'S33': 'S3', 'S22': 'S4', 'S23': 'S5', 'S39': 'S6', 'S58': 'S7', 'S62': 'S8'}"
   ]
  },
  {
   "cell_type": "code",
   "execution_count": 5,
   "metadata": {},
   "outputs": [],
   "source": [
    "DATA_PATH = '../data/results/decoding/'"
   ]
  },
  {
   "cell_type": "code",
   "execution_count": 6,
   "metadata": {},
   "outputs": [],
   "source": [
    "phon_labels = ['a', 'ae', 'i', 'u', 'b', 'p', 'v', 'g', 'k']\n",
    "artic_labels = ['low', 'high', 'labial', 'dorsal']\n",
    "phon_to_artic_dict = {1:1, 2:1, 3:2, 4:2, 5:3, 6:3, 7:3, 8:4, 9:4}"
   ]
  },
  {
   "cell_type": "code",
   "execution_count": 7,
   "metadata": {},
   "outputs": [],
   "source": [
    "def cmat_acc(y_true, y_pred):\n",
    "    cmat = confusion_matrix(y_true, y_pred)\n",
    "    acc_cmat = np.trace(cmat) / np.sum(cmat)\n",
    "    return acc_cmat\n",
    "\n",
    "def cmat_wrap(y_true_iter, y_pred_iter):\n",
    "    accs = []\n",
    "    for y_true, y_pred in zip(y_true_iter, y_pred_iter):\n",
    "        accs.append(cmat_acc(y_true, y_pred))\n",
    "    return np.array(accs)"
   ]
  },
  {
   "cell_type": "markdown",
   "metadata": {},
   "source": [
    "# Data Visualization"
   ]
  },
  {
   "cell_type": "markdown",
   "metadata": {},
   "source": [
    "### Plotting utils"
   ]
  },
  {
   "cell_type": "code",
   "execution_count": 12,
   "metadata": {},
   "outputs": [],
   "source": [
    "px_colors = [\n",
    "             '#636EFA',\n",
    "             '#EF553B',\n",
    "             '#AB63FA',\n",
    "             '#00CC96',\n",
    "            #  '#72B7B2',\n",
    "            #  '#990099',\n",
    "            #  '#B6E880',\n",
    "\n",
    "             \n",
    "            #  '#FFA15A',\n",
    "            #  '#19D3F3',\n",
    "            #  '#FF6692',\n",
    "            #  '#B6E880',\n",
    "            #  '#FF97FF',\n",
    "            #  '#FECB52',\n",
    "            ]"
   ]
  },
  {
   "cell_type": "code",
   "execution_count": 13,
   "metadata": {},
   "outputs": [],
   "source": [
    "# sns.set_theme(context='notebook', font='Arial', font_scale=1.15)\n",
    "sns.set_theme(font='Arial', font_scale=1.2, style='white', palette=px_colors)\n",
    "sns.set_style(rc={\n",
    "    # 'axes.edgecolor': 'gray',\n",
    "    'axes.linewidth': 0.5,\n",
    "    'xtick.bottom': True,\n",
    "    'ytick.left': True,\n",
    "    })"
   ]
  },
  {
   "cell_type": "code",
   "execution_count": 14,
   "metadata": {},
   "outputs": [],
   "source": [
    "from matplotlib.colors import LinearSegmentedColormap\n",
    "\n",
    "parula_data = cm_data = [[0.2422, 0.1504, 0.6603],\n",
    "[0.2444, 0.1534, 0.6728],\n",
    "[0.2464, 0.1569, 0.6847],\n",
    "[0.2484, 0.1607, 0.6961],\n",
    "[0.2503, 0.1648, 0.7071],\n",
    "[0.2522, 0.1689, 0.7179],\n",
    "[0.254, 0.1732, 0.7286],\n",
    "[0.2558, 0.1773, 0.7393],\n",
    "[0.2576, 0.1814, 0.7501],\n",
    "[0.2594, 0.1854, 0.761],\n",
    "[0.2611, 0.1893, 0.7719],\n",
    "[0.2628, 0.1932, 0.7828],\n",
    "[0.2645, 0.1972, 0.7937],\n",
    "[0.2661, 0.2011, 0.8043],\n",
    "[0.2676, 0.2052, 0.8148],\n",
    "[0.2691, 0.2094, 0.8249],\n",
    "[0.2704, 0.2138, 0.8346],\n",
    "[0.2717, 0.2184, 0.8439],\n",
    "[0.2729, 0.2231, 0.8528],\n",
    "[0.274, 0.228, 0.8612],\n",
    "[0.2749, 0.233, 0.8692],\n",
    "[0.2758, 0.2382, 0.8767],\n",
    "[0.2766, 0.2435, 0.884],\n",
    "[0.2774, 0.2489, 0.8908],\n",
    "[0.2781, 0.2543, 0.8973],\n",
    "[0.2788, 0.2598, 0.9035],\n",
    "[0.2794, 0.2653, 0.9094],\n",
    "[0.2798, 0.2708, 0.915],\n",
    "[0.2802, 0.2764, 0.9204],\n",
    "[0.2806, 0.2819, 0.9255],\n",
    "[0.2809, 0.2875, 0.9305],\n",
    "[0.2811, 0.293, 0.9352],\n",
    "[0.2813, 0.2985, 0.9397],\n",
    "[0.2814, 0.304, 0.9441],\n",
    "[0.2814, 0.3095, 0.9483],\n",
    "[0.2813, 0.315, 0.9524],\n",
    "[0.2811, 0.3204, 0.9563],\n",
    "[0.2809, 0.3259, 0.96],\n",
    "[0.2807, 0.3313, 0.9636],\n",
    "[0.2803, 0.3367, 0.967],\n",
    "[0.2798, 0.3421, 0.9702],\n",
    "[0.2791, 0.3475, 0.9733],\n",
    "[0.2784, 0.3529, 0.9763],\n",
    "[0.2776, 0.3583, 0.9791],\n",
    "[0.2766, 0.3638, 0.9817],\n",
    "[0.2754, 0.3693, 0.984],\n",
    "[0.2741, 0.3748, 0.9862],\n",
    "[0.2726, 0.3804, 0.9881],\n",
    "[0.271, 0.386, 0.9898],\n",
    "[0.2691, 0.3916, 0.9912],\n",
    "[0.267, 0.3973, 0.9924],\n",
    "[0.2647, 0.403, 0.9935],\n",
    "[0.2621, 0.4088, 0.9946],\n",
    "[0.2591, 0.4145, 0.9955],\n",
    "[0.2556, 0.4203, 0.9965],\n",
    "[0.2517, 0.4261, 0.9974],\n",
    "[0.2473, 0.4319, 0.9983],\n",
    "[0.2424, 0.4378, 0.9991],\n",
    "[0.2369, 0.4437, 0.9996],\n",
    "[0.2311, 0.4497, 0.9995],\n",
    "[0.225, 0.4559, 0.9985],\n",
    "[0.2189, 0.462, 0.9968],\n",
    "[0.2128, 0.4682, 0.9948],\n",
    "[0.2066, 0.4743, 0.9926],\n",
    "[0.2006, 0.4803, 0.9906],\n",
    "[0.195, 0.4861, 0.9887],\n",
    "[0.1903, 0.4919, 0.9867],\n",
    "[0.1869, 0.4975, 0.9844],\n",
    "[0.1847, 0.503, 0.9819],\n",
    "[0.1831, 0.5084, 0.9793],\n",
    "[0.1818, 0.5138, 0.9766],\n",
    "[0.1806, 0.5191, 0.9738],\n",
    "[0.1795, 0.5244, 0.9709],\n",
    "[0.1785, 0.5296, 0.9677],\n",
    "[0.1778, 0.5349, 0.9641],\n",
    "[0.1773, 0.5401, 0.9602],\n",
    "[0.1768, 0.5452, 0.956],\n",
    "[0.1764, 0.5504, 0.9516],\n",
    "[0.1755, 0.5554, 0.9473],\n",
    "[0.174, 0.5605, 0.9432],\n",
    "[0.1716, 0.5655, 0.9393],\n",
    "[0.1686, 0.5705, 0.9357],\n",
    "[0.1649, 0.5755, 0.9323],\n",
    "[0.161, 0.5805, 0.9289],\n",
    "[0.1573, 0.5854, 0.9254],\n",
    "[0.154, 0.5902, 0.9218],\n",
    "[0.1513, 0.595, 0.9182],\n",
    "[0.1492, 0.5997, 0.9147],\n",
    "[0.1475, 0.6043, 0.9113],\n",
    "[0.1461, 0.6089, 0.908],\n",
    "[0.1446, 0.6135, 0.905],\n",
    "[0.1429, 0.618, 0.9022],\n",
    "[0.1408, 0.6226, 0.8998],\n",
    "[0.1383, 0.6272, 0.8975],\n",
    "[0.1354, 0.6317, 0.8953],\n",
    "[0.1321, 0.6363, 0.8932],\n",
    "[0.1288, 0.6408, 0.891],\n",
    "[0.1253, 0.6453, 0.8887],\n",
    "[0.1219, 0.6497, 0.8862],\n",
    "[0.1185, 0.6541, 0.8834],\n",
    "[0.1152, 0.6584, 0.8804],\n",
    "[0.1119, 0.6627, 0.877],\n",
    "[0.1085, 0.6669, 0.8734],\n",
    "[0.1048, 0.671, 0.8695],\n",
    "[0.1009, 0.675, 0.8653],\n",
    "[0.0964, 0.6789, 0.8609],\n",
    "[0.0914, 0.6828, 0.8562],\n",
    "[0.0855, 0.6865, 0.8513],\n",
    "[0.0789, 0.6902, 0.8462],\n",
    "[0.0713, 0.6938, 0.8409],\n",
    "[0.0628, 0.6972, 0.8355],\n",
    "[0.0535, 0.7006, 0.8299],\n",
    "[0.0433, 0.7039, 0.8242],\n",
    "[0.0328, 0.7071, 0.8183],\n",
    "[0.0234, 0.7103, 0.8124],\n",
    "[0.0155, 0.7133, 0.8064],\n",
    "[0.0091, 0.7163, 0.8003],\n",
    "[0.0046, 0.7192, 0.7941],\n",
    "[0.0019, 0.722, 0.7878],\n",
    "[0.0009, 0.7248, 0.7815],\n",
    "[0.0018, 0.7275, 0.7752],\n",
    "[0.0046, 0.7301, 0.7688],\n",
    "[0.0094, 0.7327, 0.7623],\n",
    "[0.0162, 0.7352, 0.7558],\n",
    "[0.0253, 0.7376, 0.7492],\n",
    "[0.0369, 0.74, 0.7426],\n",
    "[0.0504, 0.7423, 0.7359],\n",
    "[0.0638, 0.7446, 0.7292],\n",
    "[0.077, 0.7468, 0.7224],\n",
    "[0.0899, 0.7489, 0.7156],\n",
    "[0.1023, 0.751, 0.7088],\n",
    "[0.1141, 0.7531, 0.7019],\n",
    "[0.1252, 0.7552, 0.695],\n",
    "[0.1354, 0.7572, 0.6881],\n",
    "[0.1448, 0.7593, 0.6812],\n",
    "[0.1532, 0.7614, 0.6741],\n",
    "[0.1609, 0.7635, 0.6671],\n",
    "[0.1678, 0.7656, 0.6599],\n",
    "[0.1741, 0.7678, 0.6527],\n",
    "[0.1799, 0.7699, 0.6454],\n",
    "[0.1853, 0.7721, 0.6379],\n",
    "[0.1905, 0.7743, 0.6303],\n",
    "[0.1954, 0.7765, 0.6225],\n",
    "[0.2003, 0.7787, 0.6146],\n",
    "[0.2061, 0.7808, 0.6065],\n",
    "[0.2118, 0.7828, 0.5983],\n",
    "[0.2178, 0.7849, 0.5899],\n",
    "[0.2244, 0.7869, 0.5813],\n",
    "[0.2318, 0.7887, 0.5725],\n",
    "[0.2401, 0.7905, 0.5636],\n",
    "[0.2491, 0.7922, 0.5546],\n",
    "[0.2589, 0.7937, 0.5454],\n",
    "[0.2695, 0.7951, 0.536],\n",
    "[0.2809, 0.7964, 0.5266],\n",
    "[0.2929, 0.7975, 0.517],\n",
    "[0.3052, 0.7985, 0.5074],\n",
    "[0.3176, 0.7994, 0.4975],\n",
    "[0.3301, 0.8002, 0.4876],\n",
    "[0.3424, 0.8009, 0.4774],\n",
    "[0.3548, 0.8016, 0.4669],\n",
    "[0.3671, 0.8021, 0.4563],\n",
    "[0.3795, 0.8026, 0.4454],\n",
    "[0.3921, 0.8029, 0.4344],\n",
    "[0.405, 0.8031, 0.4233],\n",
    "[0.4184, 0.803, 0.4122],\n",
    "[0.4322, 0.8028, 0.4013],\n",
    "[0.4463, 0.8024, 0.3904],\n",
    "[0.4608, 0.8018, 0.3797],\n",
    "[0.4753, 0.8011, 0.3691],\n",
    "[0.4899, 0.8002, 0.3586],\n",
    "[0.5044, 0.7993, 0.348],\n",
    "[0.5187, 0.7982, 0.3374],\n",
    "[0.5329, 0.797, 0.3267],\n",
    "[0.547, 0.7957, 0.3159],\n",
    "[0.5609, 0.7943, 0.305],\n",
    "[0.5748, 0.7929, 0.2941],\n",
    "[0.5886, 0.7913, 0.2833],\n",
    "[0.6024, 0.7896, 0.2726],\n",
    "[0.6161, 0.7878, 0.2622],\n",
    "[0.6297, 0.7859, 0.2521],\n",
    "[0.6433, 0.7839, 0.2423],\n",
    "[0.6567, 0.7818, 0.2329],\n",
    "[0.6701, 0.7796, 0.2239],\n",
    "[0.6833, 0.7773, 0.2155],\n",
    "[0.6963, 0.775, 0.2075],\n",
    "[0.7091, 0.7727, 0.1998],\n",
    "[0.7218, 0.7703, 0.1924],\n",
    "[0.7344, 0.7679, 0.1852],\n",
    "[0.7468, 0.7654, 0.1782],\n",
    "[0.759, 0.7629, 0.1717],\n",
    "[0.771, 0.7604, 0.1658],\n",
    "[0.7829, 0.7579, 0.1608],\n",
    "[0.7945, 0.7554, 0.157],\n",
    "[0.806, 0.7529, 0.1546],\n",
    "[0.8172, 0.7505, 0.1535],\n",
    "[0.8281, 0.7481, 0.1536],\n",
    "[0.8389, 0.7457, 0.1546],\n",
    "[0.8495, 0.7435, 0.1564],\n",
    "[0.86, 0.7413, 0.1587],\n",
    "[0.8703, 0.7392, 0.1615],\n",
    "[0.8804, 0.7372, 0.165],\n",
    "[0.8903, 0.7353, 0.1695],\n",
    "[0.9, 0.7336, 0.1749],\n",
    "[0.9093, 0.7321, 0.1815],\n",
    "[0.9184, 0.7308, 0.189],\n",
    "[0.9272, 0.7298, 0.1973],\n",
    "[0.9357, 0.729, 0.2061],\n",
    "[0.944, 0.7285, 0.2151],\n",
    "[0.9523, 0.7284, 0.2237],\n",
    "[0.9606, 0.7285, 0.2312],\n",
    "[0.9689, 0.7292, 0.2373],\n",
    "[0.977, 0.7304, 0.2418],\n",
    "[0.9842, 0.733, 0.2446],\n",
    "[0.99, 0.7365, 0.2429],\n",
    "[0.9946, 0.7407, 0.2394],\n",
    "[0.9966, 0.7458, 0.2351],\n",
    "[0.9971, 0.7513, 0.2309],\n",
    "[0.9972, 0.7569, 0.2267],\n",
    "[0.9971, 0.7626, 0.2224],\n",
    "[0.9969, 0.7683, 0.2181],\n",
    "[0.9966, 0.774, 0.2138],\n",
    "[0.9962, 0.7798, 0.2095],\n",
    "[0.9957, 0.7856, 0.2053],\n",
    "[0.9949, 0.7915, 0.2012],\n",
    "[0.9938, 0.7974, 0.1974],\n",
    "[0.9923, 0.8034, 0.1939],\n",
    "[0.9906, 0.8095, 0.1906],\n",
    "[0.9885, 0.8156, 0.1875],\n",
    "[0.9861, 0.8218, 0.1846],\n",
    "[0.9835, 0.828, 0.1817],\n",
    "[0.9807, 0.8342, 0.1787],\n",
    "[0.9778, 0.8404, 0.1757],\n",
    "[0.9748, 0.8467, 0.1726],\n",
    "[0.972, 0.8529, 0.1695],\n",
    "[0.9694, 0.8591, 0.1665],\n",
    "[0.9671, 0.8654, 0.1636],\n",
    "[0.9651, 0.8716, 0.1608],\n",
    "[0.9634, 0.8778, 0.1582],\n",
    "[0.9619, 0.884, 0.1557],\n",
    "[0.9608, 0.8902, 0.1532],\n",
    "[0.9601, 0.8963, 0.1507],\n",
    "[0.9596, 0.9023, 0.148],\n",
    "[0.9595, 0.9084, 0.145],\n",
    "[0.9597, 0.9143, 0.1418],\n",
    "[0.9601, 0.9203, 0.1382],\n",
    "[0.9608, 0.9262, 0.1344],\n",
    "[0.9618, 0.932, 0.1304],\n",
    "[0.9629, 0.9379, 0.1261],\n",
    "[0.9642, 0.9437, 0.1216],\n",
    "[0.9657, 0.9494, 0.1168],\n",
    "[0.9674, 0.9552, 0.1116],\n",
    "[0.9692, 0.9609, 0.1061],\n",
    "[0.9711, 0.9667, 0.1001],\n",
    "[0.973, 0.9724, 0.0938],\n",
    "[0.9749, 0.9782, 0.0872],\n",
    "[0.9769, 0.9839, 0.0805]]\n",
    "\n",
    "parula_map = LinearSegmentedColormap.from_list('parula', parula_data)"
   ]
  },
  {
   "cell_type": "code",
   "execution_count": 15,
   "metadata": {},
   "outputs": [],
   "source": [
    "from mpl_toolkits.axes_grid1 import make_axes_locatable\n",
    "\n",
    "def chan_disp(data, chan_map, title, label, figsize=(8, 6), cbar_lower=None, cbar_upper=None, cmap=None):\n",
    "\n",
    "    mean_val = np.nanmean(data)\n",
    "    std_val = np.nanstd(data)\n",
    "    std_mult = 3\n",
    "    # clim = [max(0, mean_val - std_mult*std_val), mean_val + std_mult*std_val]\n",
    "    if cbar_lower is None:\n",
    "        cbar_lower = mean_val - std_mult*std_val\n",
    "    if cbar_upper is None:\n",
    "        cbar_upper = mean_val + std_mult*std_val\n",
    "    clim = [cbar_lower, cbar_upper]\n",
    "\n",
    "    if cmap is None:\n",
    "        cmap = parula_map\n",
    "\n",
    "    chan_data = np.array([data[int(i)] if not np.isnan(i) else np.nan for i in (chan_map.flatten()-1)])\n",
    "    chan_data = chan_data.reshape(chan_map.shape)\n",
    "    f = plt.figure(figsize=figsize)\n",
    "    im = plt.imshow(chan_data, cmap=parula_map)\n",
    "    im.set_clim(clim[0], clim[1])\n",
    "    # plt.gca().invert_yaxis()\n",
    "    # plt.contourf(chan_data, cmap='viridis')\n",
    "    plt.xticks([])\n",
    "    plt.yticks([])\n",
    "    plt.title(title)\n",
    "\n",
    "    divider = make_axes_locatable(plt.gca())\n",
    "    cax = divider.append_axes('right', size='5%', pad=0.05)\n",
    "\n",
    "    cbar = plt.colorbar(im, cax=cax)\n",
    "    cbar.set_label(label)\n",
    "    cbar.outline.set_visible(False)\n",
    "\n",
    "    sns.despine(left=True, bottom=True)\n",
    "    \n",
    "    plt.show()\n",
    "\n",
    "def chan_disp_seq(data, chan_map, t, t_ranges, labs, title, label, figsize=(3, 6), cbar_pos=[0.81, 0.56, 0.01, 0.3], sup_pos=0.95, cbar_lower=None, cbar_upper=None):\n",
    "    f, tot_axs = plt.subplots(len(labs), len(t_ranges), figsize=(figsize[0]*len(t_ranges), figsize[1]*len(labs)))\n",
    "\n",
    "    if len(labs) == 1:\n",
    "        tot_axs = tot_axs[np.newaxis,:]\n",
    "\n",
    "    mean_val = np.nanmean(data)\n",
    "    std_val = np.nanstd(data)\n",
    "    std_mult = 3\n",
    "    # clim = [max(0, mean_val - std_mult*std_val), mean_val + std_mult*std_val]\n",
    "    if cbar_lower is None:\n",
    "        cbar_lower = mean_val - std_mult*std_val\n",
    "    if cbar_upper is None:\n",
    "        cbar_upper = mean_val + std_mult*std_val\n",
    "    clim = [cbar_lower, cbar_upper]\n",
    "\n",
    "    for j, lab in enumerate(labs):\n",
    "        lab_data = data[j]\n",
    "        axs = tot_axs[j]\n",
    "        for i, t_range in enumerate(t_ranges):\n",
    "            t_inds = np.where((t >= t_range[0]) & (t < t_range[1]))[0]\n",
    "            chan_data = np.array([lab_data[t_inds,:].mean(axis=0)[int(k)] if not np.isnan(k) else np.nan for k in (chan_map.flatten()-1)])\n",
    "            chan_data = chan_data.reshape(chan_map.shape)\n",
    "            im = axs[i].imshow(chan_data, cmap=parula_map)\n",
    "            im.set_clim(clim[0], clim[1])\n",
    "            if i==0:\n",
    "                axs[i].set_ylabel(lab)\n",
    "            if j==0:\n",
    "                axs[i].set_title(f'{t_range[0]} -> {t_range[1]}s')\n",
    "            axs[i].set_xticks([])\n",
    "            axs[i].set_yticks([])\n",
    "            \n",
    "\n",
    "        # divider = make_axes_locatable(plt.gca())\n",
    "        # cax = divider.append_axes('right', size='5%', pad=0.05)\n",
    "\n",
    "        # cbar = plt.colorbar(im, cax=cax)\n",
    "        \n",
    "        # cbar.set_label(label)\n",
    "    f.subplots_adjust(right=0.8)\n",
    "    cbar_ax = f.add_axes(cbar_pos)\n",
    "    cbar = f.colorbar(im, cax=cbar_ax)\n",
    "    cbar.set_label(label)\n",
    "\n",
    "    # f.tight_layout(rect=[0, 0.03, 1, 0.95])\n",
    "    f.suptitle(title, y=sup_pos)\n",
    "    plt.show()"
   ]
  },
  {
   "cell_type": "code",
   "execution_count": 16,
   "metadata": {},
   "outputs": [],
   "source": [
    "def rgb2hex(r,g,b):\n",
    "    return \"#{:02x}{:02x}{:02x}\".format(r,g,b)"
   ]
  },
  {
   "cell_type": "code",
   "execution_count": 17,
   "metadata": {},
   "outputs": [],
   "source": [
    "def get_ci_data(ax):\n",
    "    paths = [child for child in ax.get_children() if isinstance(child, mpl.collections.PolyCollection)]\n",
    "    ci_data = []\n",
    "    for path in paths:\n",
    "        vertices = path.get_paths()[0].vertices  # Array of shape (n, 2)\n",
    "\n",
    "        # ci y coords - contains lower bounds then upper bounds in 1D array\n",
    "        ci_vals_tot = vertices[:-1, 1]\n",
    "\n",
    "        ci_vals = np.zeros((200, 2))\n",
    "        ci_vals[:,0] = ci_vals_tot[1:201]\n",
    "        ci_vals[:,1] = ci_vals_tot[201:-1]\n",
    "        ci_vals[:,1] = ci_vals[:,1][::-1] # reverse the order of the second half\n",
    "        ci_data.append(ci_vals)\n",
    "        \n",
    "    return ci_data"
   ]
  },
  {
   "cell_type": "markdown",
   "metadata": {},
   "source": [
    "### Panel a & b"
   ]
  },
  {
   "cell_type": "code",
   "execution_count": 18,
   "metadata": {},
   "outputs": [],
   "source": [
    "pt_list = ['S14', 'S26', 'S33', 'S22', 'S23', 'S39', 'S58', 'S62']\n",
    "pInd_list = [-1]\n",
    "\n",
    "wide_dfs = []\n",
    "long_dfs = []\n",
    "for pt in pt_list:\n",
    "    for p_ind in pInd_list:\n",
    "        p_str = 'pAll' if p_ind == -1 else f'p{p_ind}'\n",
    "        \n",
    "        p_tar = np.zeros((3, 50))\n",
    "        p_tar[0,:] = cmat_wrap(*[utils.load_pkl(DATA_PATH + f'ptSpecific/{pt}/{pt}_{p_str}_ptSpecific_rbf_noCV.pkl')[k] for k in ['y_true', 'y_pred']])\n",
    "        p_tar[1,:] = cmat_wrap(*[utils.load_pkl(DATA_PATH + f'pooled/S62_added/{pt}/unaligned/{pt}_{p_str}_pooled_unaligned_rbf_noCV.pkl')[k] for k in ['y_true', 'y_pred']])\n",
    "        p_tar[2,:] = cmat_wrap(*[utils.load_pkl(DATA_PATH + f'pooled/S62_added/{pt}/cca/{pt}_{p_str}_pooled_ccaAlignedNew_rbf_noCV.pkl')[k] for k in ['y_true', 'y_pred']])\n",
    "        decode_df = pd.DataFrame(p_tar.T, columns=['Patient-specific', 'Unaligned cross-patient', 'Aligned cross-patient'])\n",
    "\n",
    "\n",
    "        wide_dfs.append(decode_df)\n",
    "        decode_df = pd.melt(decode_df, var_name='Decoding Context', value_name='accuracy')\n",
    "        decode_df['Patient'] = paper_pt_dict[pt]\n",
    "        decode_df['Phoneme Index'] = p_str\n",
    "        cols = decode_df.columns.tolist()\n",
    "        cols = cols[-1:] + cols[:-1]\n",
    "        decode_df = decode_df[cols]\n",
    "        long_dfs.append(decode_df)\n",
    "        \n",
    "decode_df_wide = pd.concat(wide_dfs)\n",
    "decode_df_long = pd.concat(long_dfs)"
   ]
  },
  {
   "cell_type": "code",
   "execution_count": 29,
   "metadata": {},
   "outputs": [
    {
     "data": {
      "application/vnd.microsoft.datawrangler.viewer.v0+json": {
       "columns": [
        {
         "name": "index",
         "rawType": "int64",
         "type": "integer"
        },
        {
         "name": "Phoneme Index",
         "rawType": "object",
         "type": "string"
        },
        {
         "name": "Decoding Context",
         "rawType": "object",
         "type": "string"
        },
        {
         "name": "accuracy",
         "rawType": "float64",
         "type": "float"
        },
        {
         "name": "Patient",
         "rawType": "object",
         "type": "string"
        }
       ],
       "conversionMethod": "pd.DataFrame",
       "ref": "9a292e7d-cc6f-40c3-8d6f-efe7f0815164",
       "rows": [
        [
         "0",
         "pAll",
         "Patient-specific",
         "0.39814814814814814",
         "S1"
        ],
        [
         "1",
         "pAll",
         "Patient-specific",
         "0.3888888888888889",
         "S1"
        ],
        [
         "2",
         "pAll",
         "Patient-specific",
         "0.37962962962962965",
         "S1"
        ],
        [
         "3",
         "pAll",
         "Patient-specific",
         "0.36574074074074076",
         "S1"
        ],
        [
         "4",
         "pAll",
         "Patient-specific",
         "0.37037037037037035",
         "S1"
        ],
        [
         "5",
         "pAll",
         "Patient-specific",
         "0.3888888888888889",
         "S1"
        ],
        [
         "6",
         "pAll",
         "Patient-specific",
         "0.40046296296296297",
         "S1"
        ],
        [
         "7",
         "pAll",
         "Patient-specific",
         "0.33564814814814814",
         "S1"
        ],
        [
         "8",
         "pAll",
         "Patient-specific",
         "0.3819444444444444",
         "S1"
        ],
        [
         "9",
         "pAll",
         "Patient-specific",
         "0.38657407407407407",
         "S1"
        ],
        [
         "10",
         "pAll",
         "Patient-specific",
         "0.35648148148148145",
         "S1"
        ],
        [
         "11",
         "pAll",
         "Patient-specific",
         "0.39351851851851855",
         "S1"
        ],
        [
         "12",
         "pAll",
         "Patient-specific",
         "0.3958333333333333",
         "S1"
        ],
        [
         "13",
         "pAll",
         "Patient-specific",
         "0.3912037037037037",
         "S1"
        ],
        [
         "14",
         "pAll",
         "Patient-specific",
         "0.3680555555555556",
         "S1"
        ],
        [
         "15",
         "pAll",
         "Patient-specific",
         "0.3819444444444444",
         "S1"
        ],
        [
         "16",
         "pAll",
         "Patient-specific",
         "0.37037037037037035",
         "S1"
        ],
        [
         "17",
         "pAll",
         "Patient-specific",
         "0.3819444444444444",
         "S1"
        ],
        [
         "18",
         "pAll",
         "Patient-specific",
         "0.3611111111111111",
         "S1"
        ],
        [
         "19",
         "pAll",
         "Patient-specific",
         "0.3819444444444444",
         "S1"
        ],
        [
         "20",
         "pAll",
         "Patient-specific",
         "0.375",
         "S1"
        ],
        [
         "21",
         "pAll",
         "Patient-specific",
         "0.3888888888888889",
         "S1"
        ],
        [
         "22",
         "pAll",
         "Patient-specific",
         "0.375",
         "S1"
        ],
        [
         "23",
         "pAll",
         "Patient-specific",
         "0.3611111111111111",
         "S1"
        ],
        [
         "24",
         "pAll",
         "Patient-specific",
         "0.3773148148148148",
         "S1"
        ],
        [
         "25",
         "pAll",
         "Patient-specific",
         "0.39351851851851855",
         "S1"
        ],
        [
         "26",
         "pAll",
         "Patient-specific",
         "0.36342592592592593",
         "S1"
        ],
        [
         "27",
         "pAll",
         "Patient-specific",
         "0.39351851851851855",
         "S1"
        ],
        [
         "28",
         "pAll",
         "Patient-specific",
         "0.4050925925925926",
         "S1"
        ],
        [
         "29",
         "pAll",
         "Patient-specific",
         "0.35185185185185186",
         "S1"
        ],
        [
         "30",
         "pAll",
         "Patient-specific",
         "0.3888888888888889",
         "S1"
        ],
        [
         "31",
         "pAll",
         "Patient-specific",
         "0.4305555555555556",
         "S1"
        ],
        [
         "32",
         "pAll",
         "Patient-specific",
         "0.3726851851851852",
         "S1"
        ],
        [
         "33",
         "pAll",
         "Patient-specific",
         "0.37962962962962965",
         "S1"
        ],
        [
         "34",
         "pAll",
         "Patient-specific",
         "0.3819444444444444",
         "S1"
        ],
        [
         "35",
         "pAll",
         "Patient-specific",
         "0.36574074074074076",
         "S1"
        ],
        [
         "36",
         "pAll",
         "Patient-specific",
         "0.3912037037037037",
         "S1"
        ],
        [
         "37",
         "pAll",
         "Patient-specific",
         "0.3773148148148148",
         "S1"
        ],
        [
         "38",
         "pAll",
         "Patient-specific",
         "0.375",
         "S1"
        ],
        [
         "39",
         "pAll",
         "Patient-specific",
         "0.375",
         "S1"
        ],
        [
         "40",
         "pAll",
         "Patient-specific",
         "0.39814814814814814",
         "S1"
        ],
        [
         "41",
         "pAll",
         "Patient-specific",
         "0.37037037037037035",
         "S1"
        ],
        [
         "42",
         "pAll",
         "Patient-specific",
         "0.3680555555555556",
         "S1"
        ],
        [
         "43",
         "pAll",
         "Patient-specific",
         "0.39351851851851855",
         "S1"
        ],
        [
         "44",
         "pAll",
         "Patient-specific",
         "0.38657407407407407",
         "S1"
        ],
        [
         "45",
         "pAll",
         "Patient-specific",
         "0.3611111111111111",
         "S1"
        ],
        [
         "46",
         "pAll",
         "Patient-specific",
         "0.375",
         "S1"
        ],
        [
         "47",
         "pAll",
         "Patient-specific",
         "0.3587962962962963",
         "S1"
        ],
        [
         "48",
         "pAll",
         "Patient-specific",
         "0.3680555555555556",
         "S1"
        ],
        [
         "49",
         "pAll",
         "Patient-specific",
         "0.375",
         "S1"
        ]
       ],
       "shape": {
        "columns": 4,
        "rows": 1200
       }
      },
      "text/html": [
       "<div>\n",
       "<style scoped>\n",
       "    .dataframe tbody tr th:only-of-type {\n",
       "        vertical-align: middle;\n",
       "    }\n",
       "\n",
       "    .dataframe tbody tr th {\n",
       "        vertical-align: top;\n",
       "    }\n",
       "\n",
       "    .dataframe thead th {\n",
       "        text-align: right;\n",
       "    }\n",
       "</style>\n",
       "<table border=\"1\" class=\"dataframe\">\n",
       "  <thead>\n",
       "    <tr style=\"text-align: right;\">\n",
       "      <th></th>\n",
       "      <th>Phoneme Index</th>\n",
       "      <th>Decoding Context</th>\n",
       "      <th>accuracy</th>\n",
       "      <th>Patient</th>\n",
       "    </tr>\n",
       "  </thead>\n",
       "  <tbody>\n",
       "    <tr>\n",
       "      <th>0</th>\n",
       "      <td>pAll</td>\n",
       "      <td>Patient-specific</td>\n",
       "      <td>0.398148</td>\n",
       "      <td>S1</td>\n",
       "    </tr>\n",
       "    <tr>\n",
       "      <th>1</th>\n",
       "      <td>pAll</td>\n",
       "      <td>Patient-specific</td>\n",
       "      <td>0.388889</td>\n",
       "      <td>S1</td>\n",
       "    </tr>\n",
       "    <tr>\n",
       "      <th>2</th>\n",
       "      <td>pAll</td>\n",
       "      <td>Patient-specific</td>\n",
       "      <td>0.379630</td>\n",
       "      <td>S1</td>\n",
       "    </tr>\n",
       "    <tr>\n",
       "      <th>3</th>\n",
       "      <td>pAll</td>\n",
       "      <td>Patient-specific</td>\n",
       "      <td>0.365741</td>\n",
       "      <td>S1</td>\n",
       "    </tr>\n",
       "    <tr>\n",
       "      <th>4</th>\n",
       "      <td>pAll</td>\n",
       "      <td>Patient-specific</td>\n",
       "      <td>0.370370</td>\n",
       "      <td>S1</td>\n",
       "    </tr>\n",
       "    <tr>\n",
       "      <th>...</th>\n",
       "      <td>...</td>\n",
       "      <td>...</td>\n",
       "      <td>...</td>\n",
       "      <td>...</td>\n",
       "    </tr>\n",
       "    <tr>\n",
       "      <th>145</th>\n",
       "      <td>pAll</td>\n",
       "      <td>Aligned cross-patient</td>\n",
       "      <td>0.314607</td>\n",
       "      <td>S8</td>\n",
       "    </tr>\n",
       "    <tr>\n",
       "      <th>146</th>\n",
       "      <td>pAll</td>\n",
       "      <td>Aligned cross-patient</td>\n",
       "      <td>0.346442</td>\n",
       "      <td>S8</td>\n",
       "    </tr>\n",
       "    <tr>\n",
       "      <th>147</th>\n",
       "      <td>pAll</td>\n",
       "      <td>Aligned cross-patient</td>\n",
       "      <td>0.335206</td>\n",
       "      <td>S8</td>\n",
       "    </tr>\n",
       "    <tr>\n",
       "      <th>148</th>\n",
       "      <td>pAll</td>\n",
       "      <td>Aligned cross-patient</td>\n",
       "      <td>0.346442</td>\n",
       "      <td>S8</td>\n",
       "    </tr>\n",
       "    <tr>\n",
       "      <th>149</th>\n",
       "      <td>pAll</td>\n",
       "      <td>Aligned cross-patient</td>\n",
       "      <td>0.331461</td>\n",
       "      <td>S8</td>\n",
       "    </tr>\n",
       "  </tbody>\n",
       "</table>\n",
       "<p>1200 rows × 4 columns</p>\n",
       "</div>"
      ],
      "text/plain": [
       "    Phoneme Index       Decoding Context  accuracy Patient\n",
       "0            pAll       Patient-specific  0.398148      S1\n",
       "1            pAll       Patient-specific  0.388889      S1\n",
       "2            pAll       Patient-specific  0.379630      S1\n",
       "3            pAll       Patient-specific  0.365741      S1\n",
       "4            pAll       Patient-specific  0.370370      S1\n",
       "..            ...                    ...       ...     ...\n",
       "145          pAll  Aligned cross-patient  0.314607      S8\n",
       "146          pAll  Aligned cross-patient  0.346442      S8\n",
       "147          pAll  Aligned cross-patient  0.335206      S8\n",
       "148          pAll  Aligned cross-patient  0.346442      S8\n",
       "149          pAll  Aligned cross-patient  0.331461      S8\n",
       "\n",
       "[1200 rows x 4 columns]"
      ]
     },
     "execution_count": 29,
     "metadata": {},
     "output_type": "execute_result"
    }
   ],
   "source": [
    "decode_df_long"
   ]
  },
  {
   "cell_type": "code",
   "execution_count": 30,
   "metadata": {},
   "outputs": [
    {
     "data": {
      "application/vnd.plotly.v1+json": {
       "config": {
        "plotlyServerURL": "https://plotly.com"
       },
       "data": [
        {
         "alignmentgroup": "True",
         "boxpoints": "all",
         "hovertemplate": "Decoding Context=Patient-specific<br>Patient=%{x}<br>accuracy=%{y}<extra></extra>",
         "legendgroup": "Patient-specific",
         "marker": {
          "color": "#636EFA"
         },
         "name": "Patient-specific",
         "notched": false,
         "offsetgroup": "Patient-specific",
         "orientation": "v",
         "showlegend": true,
         "type": "box",
         "x": [
          "S1",
          "S1",
          "S1",
          "S1",
          "S1",
          "S1",
          "S1",
          "S1",
          "S1",
          "S1",
          "S1",
          "S1",
          "S1",
          "S1",
          "S1",
          "S1",
          "S1",
          "S1",
          "S1",
          "S1",
          "S1",
          "S1",
          "S1",
          "S1",
          "S1",
          "S1",
          "S1",
          "S1",
          "S1",
          "S1",
          "S1",
          "S1",
          "S1",
          "S1",
          "S1",
          "S1",
          "S1",
          "S1",
          "S1",
          "S1",
          "S1",
          "S1",
          "S1",
          "S1",
          "S1",
          "S1",
          "S1",
          "S1",
          "S1",
          "S1",
          "S2",
          "S2",
          "S2",
          "S2",
          "S2",
          "S2",
          "S2",
          "S2",
          "S2",
          "S2",
          "S2",
          "S2",
          "S2",
          "S2",
          "S2",
          "S2",
          "S2",
          "S2",
          "S2",
          "S2",
          "S2",
          "S2",
          "S2",
          "S2",
          "S2",
          "S2",
          "S2",
          "S2",
          "S2",
          "S2",
          "S2",
          "S2",
          "S2",
          "S2",
          "S2",
          "S2",
          "S2",
          "S2",
          "S2",
          "S2",
          "S2",
          "S2",
          "S2",
          "S2",
          "S2",
          "S2",
          "S2",
          "S2",
          "S2",
          "S2",
          "S3",
          "S3",
          "S3",
          "S3",
          "S3",
          "S3",
          "S3",
          "S3",
          "S3",
          "S3",
          "S3",
          "S3",
          "S3",
          "S3",
          "S3",
          "S3",
          "S3",
          "S3",
          "S3",
          "S3",
          "S3",
          "S3",
          "S3",
          "S3",
          "S3",
          "S3",
          "S3",
          "S3",
          "S3",
          "S3",
          "S3",
          "S3",
          "S3",
          "S3",
          "S3",
          "S3",
          "S3",
          "S3",
          "S3",
          "S3",
          "S3",
          "S3",
          "S3",
          "S3",
          "S3",
          "S3",
          "S3",
          "S3",
          "S3",
          "S3",
          "S4",
          "S4",
          "S4",
          "S4",
          "S4",
          "S4",
          "S4",
          "S4",
          "S4",
          "S4",
          "S4",
          "S4",
          "S4",
          "S4",
          "S4",
          "S4",
          "S4",
          "S4",
          "S4",
          "S4",
          "S4",
          "S4",
          "S4",
          "S4",
          "S4",
          "S4",
          "S4",
          "S4",
          "S4",
          "S4",
          "S4",
          "S4",
          "S4",
          "S4",
          "S4",
          "S4",
          "S4",
          "S4",
          "S4",
          "S4",
          "S4",
          "S4",
          "S4",
          "S4",
          "S4",
          "S4",
          "S4",
          "S4",
          "S4",
          "S4",
          "S5",
          "S5",
          "S5",
          "S5",
          "S5",
          "S5",
          "S5",
          "S5",
          "S5",
          "S5",
          "S5",
          "S5",
          "S5",
          "S5",
          "S5",
          "S5",
          "S5",
          "S5",
          "S5",
          "S5",
          "S5",
          "S5",
          "S5",
          "S5",
          "S5",
          "S5",
          "S5",
          "S5",
          "S5",
          "S5",
          "S5",
          "S5",
          "S5",
          "S5",
          "S5",
          "S5",
          "S5",
          "S5",
          "S5",
          "S5",
          "S5",
          "S5",
          "S5",
          "S5",
          "S5",
          "S5",
          "S5",
          "S5",
          "S5",
          "S5",
          "S6",
          "S6",
          "S6",
          "S6",
          "S6",
          "S6",
          "S6",
          "S6",
          "S6",
          "S6",
          "S6",
          "S6",
          "S6",
          "S6",
          "S6",
          "S6",
          "S6",
          "S6",
          "S6",
          "S6",
          "S6",
          "S6",
          "S6",
          "S6",
          "S6",
          "S6",
          "S6",
          "S6",
          "S6",
          "S6",
          "S6",
          "S6",
          "S6",
          "S6",
          "S6",
          "S6",
          "S6",
          "S6",
          "S6",
          "S6",
          "S6",
          "S6",
          "S6",
          "S6",
          "S6",
          "S6",
          "S6",
          "S6",
          "S6",
          "S6",
          "S7",
          "S7",
          "S7",
          "S7",
          "S7",
          "S7",
          "S7",
          "S7",
          "S7",
          "S7",
          "S7",
          "S7",
          "S7",
          "S7",
          "S7",
          "S7",
          "S7",
          "S7",
          "S7",
          "S7",
          "S7",
          "S7",
          "S7",
          "S7",
          "S7",
          "S7",
          "S7",
          "S7",
          "S7",
          "S7",
          "S7",
          "S7",
          "S7",
          "S7",
          "S7",
          "S7",
          "S7",
          "S7",
          "S7",
          "S7",
          "S7",
          "S7",
          "S7",
          "S7",
          "S7",
          "S7",
          "S7",
          "S7",
          "S7",
          "S7",
          "S8",
          "S8",
          "S8",
          "S8",
          "S8",
          "S8",
          "S8",
          "S8",
          "S8",
          "S8",
          "S8",
          "S8",
          "S8",
          "S8",
          "S8",
          "S8",
          "S8",
          "S8",
          "S8",
          "S8",
          "S8",
          "S8",
          "S8",
          "S8",
          "S8",
          "S8",
          "S8",
          "S8",
          "S8",
          "S8",
          "S8",
          "S8",
          "S8",
          "S8",
          "S8",
          "S8",
          "S8",
          "S8",
          "S8",
          "S8",
          "S8",
          "S8",
          "S8",
          "S8",
          "S8",
          "S8",
          "S8",
          "S8",
          "S8",
          "S8"
         ],
         "x0": " ",
         "xaxis": "x",
         "y": [
          0.39814814814814814,
          0.3888888888888889,
          0.37962962962962965,
          0.36574074074074076,
          0.37037037037037035,
          0.3888888888888889,
          0.40046296296296297,
          0.33564814814814814,
          0.3819444444444444,
          0.38657407407407407,
          0.35648148148148145,
          0.39351851851851855,
          0.3958333333333333,
          0.3912037037037037,
          0.3680555555555556,
          0.3819444444444444,
          0.37037037037037035,
          0.3819444444444444,
          0.3611111111111111,
          0.3819444444444444,
          0.375,
          0.3888888888888889,
          0.375,
          0.3611111111111111,
          0.3773148148148148,
          0.39351851851851855,
          0.36342592592592593,
          0.39351851851851855,
          0.4050925925925926,
          0.35185185185185186,
          0.3888888888888889,
          0.4305555555555556,
          0.3726851851851852,
          0.37962962962962965,
          0.3819444444444444,
          0.36574074074074076,
          0.3912037037037037,
          0.3773148148148148,
          0.375,
          0.375,
          0.39814814814814814,
          0.37037037037037035,
          0.3680555555555556,
          0.39351851851851855,
          0.38657407407407407,
          0.3611111111111111,
          0.375,
          0.3587962962962963,
          0.3680555555555556,
          0.375,
          0.4166666666666667,
          0.40540540540540543,
          0.42117117117117114,
          0.38063063063063063,
          0.40765765765765766,
          0.3963963963963964,
          0.38063063063063063,
          0.35585585585585583,
          0.3963963963963964,
          0.3761261261261261,
          0.3918918918918919,
          0.38288288288288286,
          0.36936936936936937,
          0.4009009009009009,
          0.3918918918918919,
          0.38738738738738737,
          0.38738738738738737,
          0.38288288288288286,
          0.39864864864864863,
          0.3963963963963964,
          0.3963963963963964,
          0.3761261261261261,
          0.40765765765765766,
          0.3738738738738739,
          0.4166666666666667,
          0.3783783783783784,
          0.3963963963963964,
          0.38513513513513514,
          0.3963963963963964,
          0.39414414414414417,
          0.40540540540540543,
          0.4009009009009009,
          0.4166666666666667,
          0.4009009009009009,
          0.42792792792792794,
          0.3536036036036036,
          0.38513513513513514,
          0.3761261261261261,
          0.38063063063063063,
          0.3918918918918919,
          0.38738738738738737,
          0.40765765765765766,
          0.40765765765765766,
          0.39864864864864863,
          0.3963963963963964,
          0.40765765765765766,
          0.3761261261261261,
          0.4009009009009009,
          0.41216216216216217,
          0.3963963963963964,
          0.30434782608695654,
          0.2898550724637681,
          0.32608695652173914,
          0.3188405797101449,
          0.2826086956521739,
          0.2826086956521739,
          0.2826086956521739,
          0.26811594202898553,
          0.30434782608695654,
          0.3188405797101449,
          0.2898550724637681,
          0.2753623188405797,
          0.34782608695652173,
          0.32608695652173914,
          0.2826086956521739,
          0.2463768115942029,
          0.2608695652173913,
          0.2753623188405797,
          0.2971014492753623,
          0.2898550724637681,
          0.3115942028985507,
          0.3188405797101449,
          0.32608695652173914,
          0.2826086956521739,
          0.2898550724637681,
          0.2753623188405797,
          0.2971014492753623,
          0.2898550724637681,
          0.2898550724637681,
          0.2246376811594203,
          0.3188405797101449,
          0.2536231884057971,
          0.2898550724637681,
          0.2753623188405797,
          0.3333333333333333,
          0.34782608695652173,
          0.26811594202898553,
          0.2753623188405797,
          0.30434782608695654,
          0.3333333333333333,
          0.3115942028985507,
          0.2971014492753623,
          0.34782608695652173,
          0.2971014492753623,
          0.26811594202898553,
          0.26811594202898553,
          0.30434782608695654,
          0.2608695652173913,
          0.3115942028985507,
          0.2898550724637681,
          0.17439293598233996,
          0.1280353200883002,
          0.13245033112582782,
          0.13245033112582782,
          0.15894039735099338,
          0.11258278145695365,
          0.152317880794702,
          0.13024282560706402,
          0.1280353200883002,
          0.13024282560706402,
          0.12582781456953643,
          0.15011037527593818,
          0.1368653421633554,
          0.1434878587196468,
          0.1456953642384106,
          0.1545253863134658,
          0.11920529801324503,
          0.1346578366445916,
          0.1456953642384106,
          0.15011037527593818,
          0.1390728476821192,
          0.13024282560706402,
          0.1434878587196468,
          0.1280353200883002,
          0.1346578366445916,
          0.1434878587196468,
          0.141280353200883,
          0.13024282560706402,
          0.1390728476821192,
          0.11920529801324503,
          0.15011037527593818,
          0.1434878587196468,
          0.1280353200883002,
          0.15011037527593818,
          0.1368653421633554,
          0.12582781456953643,
          0.1434878587196468,
          0.17218543046357615,
          0.141280353200883,
          0.12582781456953643,
          0.1434878587196468,
          0.11037527593818984,
          0.1456953642384106,
          0.13024282560706402,
          0.13024282560706402,
          0.1390728476821192,
          0.12362030905077263,
          0.12362030905077263,
          0.1545253863134658,
          0.1456953642384106,
          0.1456953642384106,
          0.17439293598233996,
          0.1390728476821192,
          0.20088300220750552,
          0.18543046357615894,
          0.16777041942604856,
          0.17439293598233996,
          0.152317880794702,
          0.15011037527593818,
          0.20309050772626933,
          0.18101545253863136,
          0.16556291390728478,
          0.17660044150110377,
          0.16335540838852097,
          0.17660044150110377,
          0.18322295805739514,
          0.17218543046357615,
          0.17660044150110377,
          0.16777041942604856,
          0.141280353200883,
          0.17218543046357615,
          0.16114790286975716,
          0.16997792494481237,
          0.18322295805739514,
          0.17439293598233996,
          0.16335540838852097,
          0.15894039735099338,
          0.17218543046357615,
          0.16997792494481237,
          0.15894039735099338,
          0.17660044150110377,
          0.17880794701986755,
          0.16114790286975716,
          0.16777041942604856,
          0.1545253863134658,
          0.15673289183222958,
          0.18101545253863136,
          0.1456953642384106,
          0.16997792494481237,
          0.19205298013245034,
          0.16997792494481237,
          0.17218543046357615,
          0.17439293598233996,
          0.152317880794702,
          0.16777041942604856,
          0.15011037527593818,
          0.1390728476821192,
          0.1986754966887417,
          0.1390728476821192,
          0.16777041942604856,
          0.17761557177615572,
          0.1654501216545012,
          0.18491484184914841,
          0.18491484184914841,
          0.15815085158150852,
          0.17274939172749393,
          0.15328467153284672,
          0.1873479318734793,
          0.1922141119221411,
          0.18491484184914841,
          0.20194647201946472,
          0.1897810218978102,
          0.18248175182481752,
          0.170316301703163,
          0.19464720194647203,
          0.170316301703163,
          0.17761557177615572,
          0.17761557177615572,
          0.170316301703163,
          0.20194647201946472,
          0.16058394160583941,
          0.1873479318734793,
          0.17518248175182483,
          0.1897810218978102,
          0.18248175182481752,
          0.20194647201946472,
          0.1654501216545012,
          0.16058394160583941,
          0.1654501216545012,
          0.17518248175182483,
          0.20681265206812652,
          0.20924574209245742,
          0.18491484184914841,
          0.19951338199513383,
          0.18004866180048662,
          0.17518248175182483,
          0.1922141119221411,
          0.18248175182481752,
          0.17761557177615572,
          0.19951338199513383,
          0.19708029197080293,
          0.17518248175182483,
          0.18004866180048662,
          0.19951338199513383,
          0.1630170316301703,
          0.1654501216545012,
          0.18491484184914841,
          0.1922141119221411,
          0.18248175182481752,
          0.19708029197080293,
          0.09692671394799054,
          0.09456264775413711,
          0.09456264775413711,
          0.08747044917257683,
          0.08983451536643026,
          0.09219858156028368,
          0.09692671394799054,
          0.09929078014184398,
          0.08983451536643026,
          0.08983451536643026,
          0.07801418439716312,
          0.12293144208037825,
          0.08274231678486997,
          0.10638297872340426,
          0.10401891252955082,
          0.1016548463356974,
          0.0851063829787234,
          0.07565011820330969,
          0.08747044917257683,
          0.1016548463356974,
          0.09219858156028368,
          0.0851063829787234,
          0.08037825059101655,
          0.09929078014184398,
          0.09219858156028368,
          0.09929078014184398,
          0.09219858156028368,
          0.09692671394799054,
          0.08274231678486997,
          0.1111111111111111,
          0.1182033096926714,
          0.09219858156028368,
          0.08274231678486997,
          0.10401891252955082,
          0.08983451536643026,
          0.10874704491725769,
          0.09692671394799054,
          0.1016548463356974,
          0.09456264775413711,
          0.11347517730496454,
          0.07801418439716312,
          0.09219858156028368,
          0.10401891252955082,
          0.09929078014184398,
          0.10874704491725769,
          0.09929078014184398,
          0.10874704491725769,
          0.09456264775413711,
          0.10638297872340426,
          0.09929078014184398,
          0.2808988764044944,
          0.27340823970037453,
          0.27340823970037453,
          0.30337078651685395,
          0.28277153558052437,
          0.301498127340824,
          0.2752808988764045,
          0.2940074906367041,
          0.2902621722846442,
          0.27902621722846443,
          0.26217228464419473,
          0.27902621722846443,
          0.26779026217228463,
          0.28651685393258425,
          0.2696629213483146,
          0.2808988764044944,
          0.26779026217228463,
          0.2902621722846442,
          0.27153558052434457,
          0.2602996254681648,
          0.29213483146067415,
          0.2602996254681648,
          0.26591760299625467,
          0.27902621722846443,
          0.2752808988764045,
          0.3052434456928839,
          0.27902621722846443,
          0.27153558052434457,
          0.2902621722846442,
          0.27340823970037453,
          0.2640449438202247,
          0.27340823970037453,
          0.2546816479400749,
          0.2883895131086142,
          0.28651685393258425,
          0.27153558052434457,
          0.250936329588015,
          0.27715355805243447,
          0.29213483146067415,
          0.30711610486891383,
          0.28651685393258425,
          0.3052434456928839,
          0.2808988764044944,
          0.28651685393258425,
          0.2808988764044944,
          0.2565543071161049,
          0.27902621722846443,
          0.26779026217228463,
          0.29213483146067415,
          0.26779026217228463
         ],
         "y0": " ",
         "yaxis": "y"
        },
        {
         "alignmentgroup": "True",
         "boxpoints": "all",
         "hovertemplate": "Decoding Context=Unaligned cross-patient<br>Patient=%{x}<br>accuracy=%{y}<extra></extra>",
         "legendgroup": "Unaligned cross-patient",
         "marker": {
          "color": "#EF553B"
         },
         "name": "Unaligned cross-patient",
         "notched": false,
         "offsetgroup": "Unaligned cross-patient",
         "orientation": "v",
         "showlegend": true,
         "type": "box",
         "x": [
          "S1",
          "S1",
          "S1",
          "S1",
          "S1",
          "S1",
          "S1",
          "S1",
          "S1",
          "S1",
          "S1",
          "S1",
          "S1",
          "S1",
          "S1",
          "S1",
          "S1",
          "S1",
          "S1",
          "S1",
          "S1",
          "S1",
          "S1",
          "S1",
          "S1",
          "S1",
          "S1",
          "S1",
          "S1",
          "S1",
          "S1",
          "S1",
          "S1",
          "S1",
          "S1",
          "S1",
          "S1",
          "S1",
          "S1",
          "S1",
          "S1",
          "S1",
          "S1",
          "S1",
          "S1",
          "S1",
          "S1",
          "S1",
          "S1",
          "S1",
          "S2",
          "S2",
          "S2",
          "S2",
          "S2",
          "S2",
          "S2",
          "S2",
          "S2",
          "S2",
          "S2",
          "S2",
          "S2",
          "S2",
          "S2",
          "S2",
          "S2",
          "S2",
          "S2",
          "S2",
          "S2",
          "S2",
          "S2",
          "S2",
          "S2",
          "S2",
          "S2",
          "S2",
          "S2",
          "S2",
          "S2",
          "S2",
          "S2",
          "S2",
          "S2",
          "S2",
          "S2",
          "S2",
          "S2",
          "S2",
          "S2",
          "S2",
          "S2",
          "S2",
          "S2",
          "S2",
          "S2",
          "S2",
          "S2",
          "S2",
          "S3",
          "S3",
          "S3",
          "S3",
          "S3",
          "S3",
          "S3",
          "S3",
          "S3",
          "S3",
          "S3",
          "S3",
          "S3",
          "S3",
          "S3",
          "S3",
          "S3",
          "S3",
          "S3",
          "S3",
          "S3",
          "S3",
          "S3",
          "S3",
          "S3",
          "S3",
          "S3",
          "S3",
          "S3",
          "S3",
          "S3",
          "S3",
          "S3",
          "S3",
          "S3",
          "S3",
          "S3",
          "S3",
          "S3",
          "S3",
          "S3",
          "S3",
          "S3",
          "S3",
          "S3",
          "S3",
          "S3",
          "S3",
          "S3",
          "S3",
          "S4",
          "S4",
          "S4",
          "S4",
          "S4",
          "S4",
          "S4",
          "S4",
          "S4",
          "S4",
          "S4",
          "S4",
          "S4",
          "S4",
          "S4",
          "S4",
          "S4",
          "S4",
          "S4",
          "S4",
          "S4",
          "S4",
          "S4",
          "S4",
          "S4",
          "S4",
          "S4",
          "S4",
          "S4",
          "S4",
          "S4",
          "S4",
          "S4",
          "S4",
          "S4",
          "S4",
          "S4",
          "S4",
          "S4",
          "S4",
          "S4",
          "S4",
          "S4",
          "S4",
          "S4",
          "S4",
          "S4",
          "S4",
          "S4",
          "S4",
          "S5",
          "S5",
          "S5",
          "S5",
          "S5",
          "S5",
          "S5",
          "S5",
          "S5",
          "S5",
          "S5",
          "S5",
          "S5",
          "S5",
          "S5",
          "S5",
          "S5",
          "S5",
          "S5",
          "S5",
          "S5",
          "S5",
          "S5",
          "S5",
          "S5",
          "S5",
          "S5",
          "S5",
          "S5",
          "S5",
          "S5",
          "S5",
          "S5",
          "S5",
          "S5",
          "S5",
          "S5",
          "S5",
          "S5",
          "S5",
          "S5",
          "S5",
          "S5",
          "S5",
          "S5",
          "S5",
          "S5",
          "S5",
          "S5",
          "S5",
          "S6",
          "S6",
          "S6",
          "S6",
          "S6",
          "S6",
          "S6",
          "S6",
          "S6",
          "S6",
          "S6",
          "S6",
          "S6",
          "S6",
          "S6",
          "S6",
          "S6",
          "S6",
          "S6",
          "S6",
          "S6",
          "S6",
          "S6",
          "S6",
          "S6",
          "S6",
          "S6",
          "S6",
          "S6",
          "S6",
          "S6",
          "S6",
          "S6",
          "S6",
          "S6",
          "S6",
          "S6",
          "S6",
          "S6",
          "S6",
          "S6",
          "S6",
          "S6",
          "S6",
          "S6",
          "S6",
          "S6",
          "S6",
          "S6",
          "S6",
          "S7",
          "S7",
          "S7",
          "S7",
          "S7",
          "S7",
          "S7",
          "S7",
          "S7",
          "S7",
          "S7",
          "S7",
          "S7",
          "S7",
          "S7",
          "S7",
          "S7",
          "S7",
          "S7",
          "S7",
          "S7",
          "S7",
          "S7",
          "S7",
          "S7",
          "S7",
          "S7",
          "S7",
          "S7",
          "S7",
          "S7",
          "S7",
          "S7",
          "S7",
          "S7",
          "S7",
          "S7",
          "S7",
          "S7",
          "S7",
          "S7",
          "S7",
          "S7",
          "S7",
          "S7",
          "S7",
          "S7",
          "S7",
          "S7",
          "S7",
          "S8",
          "S8",
          "S8",
          "S8",
          "S8",
          "S8",
          "S8",
          "S8",
          "S8",
          "S8",
          "S8",
          "S8",
          "S8",
          "S8",
          "S8",
          "S8",
          "S8",
          "S8",
          "S8",
          "S8",
          "S8",
          "S8",
          "S8",
          "S8",
          "S8",
          "S8",
          "S8",
          "S8",
          "S8",
          "S8",
          "S8",
          "S8",
          "S8",
          "S8",
          "S8",
          "S8",
          "S8",
          "S8",
          "S8",
          "S8",
          "S8",
          "S8",
          "S8",
          "S8",
          "S8",
          "S8",
          "S8",
          "S8",
          "S8",
          "S8"
         ],
         "x0": " ",
         "xaxis": "x",
         "y": [
          0.28703703703703703,
          0.2962962962962963,
          0.30092592592592593,
          0.2824074074074074,
          0.3101851851851852,
          0.2986111111111111,
          0.2916666666666667,
          0.2986111111111111,
          0.2847222222222222,
          0.28703703703703703,
          0.2986111111111111,
          0.27546296296296297,
          0.2986111111111111,
          0.2916666666666667,
          0.2916666666666667,
          0.2777777777777778,
          0.27314814814814814,
          0.2986111111111111,
          0.30324074074074076,
          0.29398148148148145,
          0.3055555555555556,
          0.2986111111111111,
          0.2777777777777778,
          0.2800925925925926,
          0.2986111111111111,
          0.27314814814814814,
          0.3148148148148148,
          0.30787037037037035,
          0.2824074074074074,
          0.29398148148148145,
          0.27546296296296297,
          0.3055555555555556,
          0.28935185185185186,
          0.3055555555555556,
          0.28703703703703703,
          0.30092592592592593,
          0.28703703703703703,
          0.29398148148148145,
          0.2847222222222222,
          0.28703703703703703,
          0.3148148148148148,
          0.30324074074074076,
          0.3148148148148148,
          0.27314814814814814,
          0.27314814814814814,
          0.2800925925925926,
          0.28935185185185186,
          0.3055555555555556,
          0.2962962962962963,
          0.2962962962962963,
          0.24324324324324326,
          0.25675675675675674,
          0.25675675675675674,
          0.21621621621621623,
          0.240990990990991,
          0.23873873873873874,
          0.22297297297297297,
          0.23423423423423423,
          0.25,
          0.21621621621621623,
          0.22522522522522523,
          0.240990990990991,
          0.24549549549549549,
          0.23423423423423423,
          0.24549549549549549,
          0.24324324324324326,
          0.21171171171171171,
          0.22972972972972974,
          0.21396396396396397,
          0.21621621621621623,
          0.22972972972972974,
          0.24549549549549549,
          0.21621621621621623,
          0.23873873873873874,
          0.22522522522522523,
          0.23873873873873874,
          0.22297297297297297,
          0.24774774774774774,
          0.240990990990991,
          0.22297297297297297,
          0.24549549549549549,
          0.23873873873873874,
          0.268018018018018,
          0.21846846846846846,
          0.2545045045045045,
          0.22747747747747749,
          0.22072072072072071,
          0.23423423423423423,
          0.21846846846846846,
          0.240990990990991,
          0.22972972972972974,
          0.22972972972972974,
          0.22072072072072071,
          0.23873873873873874,
          0.22072072072072071,
          0.23873873873873874,
          0.240990990990991,
          0.23648648648648649,
          0.23873873873873874,
          0.23648648648648649,
          0.2028985507246377,
          0.2028985507246377,
          0.26811594202898553,
          0.2028985507246377,
          0.2608695652173913,
          0.26811594202898553,
          0.2463768115942029,
          0.1956521739130435,
          0.2318840579710145,
          0.2246376811594203,
          0.2391304347826087,
          0.2391304347826087,
          0.2536231884057971,
          0.2536231884057971,
          0.21739130434782608,
          0.2463768115942029,
          0.2536231884057971,
          0.2536231884057971,
          0.2463768115942029,
          0.2391304347826087,
          0.2391304347826087,
          0.2246376811594203,
          0.2536231884057971,
          0.26811594202898553,
          0.2898550724637681,
          0.2536231884057971,
          0.2536231884057971,
          0.2391304347826087,
          0.26811594202898553,
          0.2246376811594203,
          0.2246376811594203,
          0.21014492753623187,
          0.2898550724637681,
          0.2318840579710145,
          0.2536231884057971,
          0.2391304347826087,
          0.2463768115942029,
          0.21739130434782608,
          0.2246376811594203,
          0.2608695652173913,
          0.2391304347826087,
          0.2463768115942029,
          0.2608695652173913,
          0.21014492753623187,
          0.2536231884057971,
          0.21739130434782608,
          0.21014492753623187,
          0.2391304347826087,
          0.2246376811594203,
          0.2608695652173913,
          0.11037527593818984,
          0.12362030905077263,
          0.10816777041942605,
          0.10816777041942605,
          0.10816777041942605,
          0.09713024282560706,
          0.13245033112582782,
          0.12141280353200883,
          0.11920529801324503,
          0.11258278145695365,
          0.11258278145695365,
          0.11479028697571744,
          0.11920529801324503,
          0.11258278145695365,
          0.11037527593818984,
          0.12362030905077263,
          0.1346578366445916,
          0.11258278145695365,
          0.10154525386313466,
          0.10816777041942605,
          0.10816777041942605,
          0.11479028697571744,
          0.13024282560706402,
          0.10596026490066225,
          0.11920529801324503,
          0.13024282560706402,
          0.09933774834437085,
          0.11037527593818984,
          0.10816777041942605,
          0.13024282560706402,
          0.1346578366445916,
          0.11699779249448124,
          0.12362030905077263,
          0.11258278145695365,
          0.11699779249448124,
          0.10154525386313466,
          0.09933774834437085,
          0.12362030905077263,
          0.11479028697571744,
          0.12582781456953643,
          0.11037527593818984,
          0.10375275938189846,
          0.10816777041942605,
          0.11258278145695365,
          0.11920529801324503,
          0.10375275938189846,
          0.09933774834437085,
          0.12362030905077263,
          0.12362030905077263,
          0.1280353200883002,
          0.1545253863134658,
          0.1346578366445916,
          0.16114790286975716,
          0.152317880794702,
          0.16335540838852097,
          0.15673289183222958,
          0.13024282560706402,
          0.15011037527593818,
          0.17218543046357615,
          0.1346578366445916,
          0.152317880794702,
          0.16556291390728478,
          0.1390728476821192,
          0.1479028697571744,
          0.1434878587196468,
          0.15894039735099338,
          0.15894039735099338,
          0.1479028697571744,
          0.1434878587196468,
          0.1368653421633554,
          0.11920529801324503,
          0.18322295805739514,
          0.15894039735099338,
          0.152317880794702,
          0.15011037527593818,
          0.1545253863134658,
          0.141280353200883,
          0.1390728476821192,
          0.1346578366445916,
          0.16114790286975716,
          0.1456953642384106,
          0.1479028697571744,
          0.12362030905077263,
          0.15673289183222958,
          0.16335540838852097,
          0.1434878587196468,
          0.17218543046357615,
          0.15011037527593818,
          0.1545253863134658,
          0.15673289183222958,
          0.16335540838852097,
          0.13245033112582782,
          0.15011037527593818,
          0.1346578366445916,
          0.1346578366445916,
          0.1479028697571744,
          0.1346578366445916,
          0.16114790286975716,
          0.152317880794702,
          0.16114790286975716,
          0.15815085158150852,
          0.17518248175182483,
          0.16058394160583941,
          0.18004866180048662,
          0.15328467153284672,
          0.1873479318734793,
          0.170316301703163,
          0.1873479318734793,
          0.19708029197080293,
          0.18491484184914841,
          0.17274939172749393,
          0.17518248175182483,
          0.17518248175182483,
          0.1873479318734793,
          0.1678832116788321,
          0.1922141119221411,
          0.1678832116788321,
          0.19464720194647203,
          0.17761557177615572,
          0.16058394160583941,
          0.1630170316301703,
          0.170316301703163,
          0.15815085158150852,
          0.18004866180048662,
          0.17518248175182483,
          0.1873479318734793,
          0.17518248175182483,
          0.18004866180048662,
          0.1386861313868613,
          0.1630170316301703,
          0.17761557177615572,
          0.1654501216545012,
          0.1435523114355231,
          0.17274939172749393,
          0.17761557177615572,
          0.18491484184914841,
          0.15815085158150852,
          0.16058394160583941,
          0.19951338199513383,
          0.18491484184914841,
          0.20194647201946472,
          0.17761557177615572,
          0.15085158150851583,
          0.1654501216545012,
          0.17761557177615572,
          0.17761557177615572,
          0.17518248175182483,
          0.1873479318734793,
          0.15571776155717762,
          0.19708029197080293,
          0.09929078014184398,
          0.08274231678486997,
          0.10401891252955082,
          0.09219858156028368,
          0.08747044917257683,
          0.0851063829787234,
          0.1111111111111111,
          0.09456264775413711,
          0.0851063829787234,
          0.1182033096926714,
          0.0851063829787234,
          0.09692671394799054,
          0.07565011820330969,
          0.08747044917257683,
          0.09929078014184398,
          0.0851063829787234,
          0.09219858156028368,
          0.09456264775413711,
          0.09456264775413711,
          0.09456264775413711,
          0.10401891252955082,
          0.10638297872340426,
          0.08037825059101655,
          0.10874704491725769,
          0.10638297872340426,
          0.08983451536643026,
          0.10638297872340426,
          0.08983451536643026,
          0.0851063829787234,
          0.09219858156028368,
          0.07565011820330969,
          0.09219858156028368,
          0.09929078014184398,
          0.08274231678486997,
          0.08274231678486997,
          0.1016548463356974,
          0.1016548463356974,
          0.1016548463356974,
          0.08274231678486997,
          0.1111111111111111,
          0.09456264775413711,
          0.08747044917257683,
          0.09692671394799054,
          0.08983451536643026,
          0.09456264775413711,
          0.09929078014184398,
          0.1111111111111111,
          0.11347517730496454,
          0.09219858156028368,
          0.07801418439716312,
          0.22659176029962547,
          0.20786516853932585,
          0.2303370786516854,
          0.21910112359550563,
          0.21722846441947566,
          0.22284644194756553,
          0.22659176029962547,
          0.20411985018726592,
          0.2303370786516854,
          0.22659176029962547,
          0.2209737827715356,
          0.21161048689138576,
          0.22284644194756553,
          0.21348314606741572,
          0.23595505617977527,
          0.24344569288389514,
          0.2247191011235955,
          0.24157303370786518,
          0.23220973782771537,
          0.21161048689138576,
          0.23782771535580524,
          0.21161048689138576,
          0.20786516853932585,
          0.22846441947565543,
          0.22659176029962547,
          0.2247191011235955,
          0.22284644194756553,
          0.2546816479400749,
          0.2602996254681648,
          0.23782771535580524,
          0.22284644194756553,
          0.2340823970037453,
          0.20599250936329588,
          0.2153558052434457,
          0.22659176029962547,
          0.22284644194756553,
          0.23782771535580524,
          0.2209737827715356,
          0.23595505617977527,
          0.2340823970037453,
          0.2303370786516854,
          0.21722846441947566,
          0.2247191011235955,
          0.20973782771535582,
          0.2340823970037453,
          0.21348314606741572,
          0.24906367041198502,
          0.24157303370786518,
          0.20973782771535582,
          0.2340823970037453
         ],
         "y0": " ",
         "yaxis": "y"
        },
        {
         "alignmentgroup": "True",
         "boxpoints": "all",
         "hovertemplate": "Decoding Context=Aligned cross-patient<br>Patient=%{x}<br>accuracy=%{y}<extra></extra>",
         "legendgroup": "Aligned cross-patient",
         "marker": {
          "color": "#AB63FA"
         },
         "name": "Aligned cross-patient",
         "notched": false,
         "offsetgroup": "Aligned cross-patient",
         "orientation": "v",
         "showlegend": true,
         "type": "box",
         "x": [
          "S1",
          "S1",
          "S1",
          "S1",
          "S1",
          "S1",
          "S1",
          "S1",
          "S1",
          "S1",
          "S1",
          "S1",
          "S1",
          "S1",
          "S1",
          "S1",
          "S1",
          "S1",
          "S1",
          "S1",
          "S1",
          "S1",
          "S1",
          "S1",
          "S1",
          "S1",
          "S1",
          "S1",
          "S1",
          "S1",
          "S1",
          "S1",
          "S1",
          "S1",
          "S1",
          "S1",
          "S1",
          "S1",
          "S1",
          "S1",
          "S1",
          "S1",
          "S1",
          "S1",
          "S1",
          "S1",
          "S1",
          "S1",
          "S1",
          "S1",
          "S2",
          "S2",
          "S2",
          "S2",
          "S2",
          "S2",
          "S2",
          "S2",
          "S2",
          "S2",
          "S2",
          "S2",
          "S2",
          "S2",
          "S2",
          "S2",
          "S2",
          "S2",
          "S2",
          "S2",
          "S2",
          "S2",
          "S2",
          "S2",
          "S2",
          "S2",
          "S2",
          "S2",
          "S2",
          "S2",
          "S2",
          "S2",
          "S2",
          "S2",
          "S2",
          "S2",
          "S2",
          "S2",
          "S2",
          "S2",
          "S2",
          "S2",
          "S2",
          "S2",
          "S2",
          "S2",
          "S2",
          "S2",
          "S2",
          "S2",
          "S3",
          "S3",
          "S3",
          "S3",
          "S3",
          "S3",
          "S3",
          "S3",
          "S3",
          "S3",
          "S3",
          "S3",
          "S3",
          "S3",
          "S3",
          "S3",
          "S3",
          "S3",
          "S3",
          "S3",
          "S3",
          "S3",
          "S3",
          "S3",
          "S3",
          "S3",
          "S3",
          "S3",
          "S3",
          "S3",
          "S3",
          "S3",
          "S3",
          "S3",
          "S3",
          "S3",
          "S3",
          "S3",
          "S3",
          "S3",
          "S3",
          "S3",
          "S3",
          "S3",
          "S3",
          "S3",
          "S3",
          "S3",
          "S3",
          "S3",
          "S4",
          "S4",
          "S4",
          "S4",
          "S4",
          "S4",
          "S4",
          "S4",
          "S4",
          "S4",
          "S4",
          "S4",
          "S4",
          "S4",
          "S4",
          "S4",
          "S4",
          "S4",
          "S4",
          "S4",
          "S4",
          "S4",
          "S4",
          "S4",
          "S4",
          "S4",
          "S4",
          "S4",
          "S4",
          "S4",
          "S4",
          "S4",
          "S4",
          "S4",
          "S4",
          "S4",
          "S4",
          "S4",
          "S4",
          "S4",
          "S4",
          "S4",
          "S4",
          "S4",
          "S4",
          "S4",
          "S4",
          "S4",
          "S4",
          "S4",
          "S5",
          "S5",
          "S5",
          "S5",
          "S5",
          "S5",
          "S5",
          "S5",
          "S5",
          "S5",
          "S5",
          "S5",
          "S5",
          "S5",
          "S5",
          "S5",
          "S5",
          "S5",
          "S5",
          "S5",
          "S5",
          "S5",
          "S5",
          "S5",
          "S5",
          "S5",
          "S5",
          "S5",
          "S5",
          "S5",
          "S5",
          "S5",
          "S5",
          "S5",
          "S5",
          "S5",
          "S5",
          "S5",
          "S5",
          "S5",
          "S5",
          "S5",
          "S5",
          "S5",
          "S5",
          "S5",
          "S5",
          "S5",
          "S5",
          "S5",
          "S6",
          "S6",
          "S6",
          "S6",
          "S6",
          "S6",
          "S6",
          "S6",
          "S6",
          "S6",
          "S6",
          "S6",
          "S6",
          "S6",
          "S6",
          "S6",
          "S6",
          "S6",
          "S6",
          "S6",
          "S6",
          "S6",
          "S6",
          "S6",
          "S6",
          "S6",
          "S6",
          "S6",
          "S6",
          "S6",
          "S6",
          "S6",
          "S6",
          "S6",
          "S6",
          "S6",
          "S6",
          "S6",
          "S6",
          "S6",
          "S6",
          "S6",
          "S6",
          "S6",
          "S6",
          "S6",
          "S6",
          "S6",
          "S6",
          "S6",
          "S7",
          "S7",
          "S7",
          "S7",
          "S7",
          "S7",
          "S7",
          "S7",
          "S7",
          "S7",
          "S7",
          "S7",
          "S7",
          "S7",
          "S7",
          "S7",
          "S7",
          "S7",
          "S7",
          "S7",
          "S7",
          "S7",
          "S7",
          "S7",
          "S7",
          "S7",
          "S7",
          "S7",
          "S7",
          "S7",
          "S7",
          "S7",
          "S7",
          "S7",
          "S7",
          "S7",
          "S7",
          "S7",
          "S7",
          "S7",
          "S7",
          "S7",
          "S7",
          "S7",
          "S7",
          "S7",
          "S7",
          "S7",
          "S7",
          "S7",
          "S8",
          "S8",
          "S8",
          "S8",
          "S8",
          "S8",
          "S8",
          "S8",
          "S8",
          "S8",
          "S8",
          "S8",
          "S8",
          "S8",
          "S8",
          "S8",
          "S8",
          "S8",
          "S8",
          "S8",
          "S8",
          "S8",
          "S8",
          "S8",
          "S8",
          "S8",
          "S8",
          "S8",
          "S8",
          "S8",
          "S8",
          "S8",
          "S8",
          "S8",
          "S8",
          "S8",
          "S8",
          "S8",
          "S8",
          "S8",
          "S8",
          "S8",
          "S8",
          "S8",
          "S8",
          "S8",
          "S8",
          "S8",
          "S8",
          "S8"
         ],
         "x0": " ",
         "xaxis": "x",
         "y": [
          0.42824074074074076,
          0.41435185185185186,
          0.4236111111111111,
          0.3958333333333333,
          0.4212962962962963,
          0.4050925925925926,
          0.3912037037037037,
          0.4097222222222222,
          0.40046296296296297,
          0.41898148148148145,
          0.4074074074074074,
          0.39814814814814814,
          0.4027777777777778,
          0.3726851851851852,
          0.39351851851851855,
          0.38657407407407407,
          0.40046296296296297,
          0.39351851851851855,
          0.4212962962962963,
          0.3773148148148148,
          0.4050925925925926,
          0.39814814814814814,
          0.39814814814814814,
          0.39814814814814814,
          0.39351851851851855,
          0.4097222222222222,
          0.4097222222222222,
          0.39814814814814814,
          0.41435185185185186,
          0.4236111111111111,
          0.3958333333333333,
          0.41203703703703703,
          0.39814814814814814,
          0.3958333333333333,
          0.4305555555555556,
          0.39814814814814814,
          0.4074074074074074,
          0.4212962962962963,
          0.41203703703703703,
          0.375,
          0.41898148148148145,
          0.4050925925925926,
          0.4050925925925926,
          0.43287037037037035,
          0.3819444444444444,
          0.41898148148148145,
          0.39351851851851855,
          0.39814814814814814,
          0.4166666666666667,
          0.3912037037037037,
          0.4436936936936937,
          0.45495495495495497,
          0.4617117117117117,
          0.4369369369369369,
          0.4436936936936937,
          0.45045045045045046,
          0.4436936936936937,
          0.4436936936936937,
          0.47297297297297297,
          0.4617117117117117,
          0.44594594594594594,
          0.4391891891891892,
          0.4436936936936937,
          0.45045045045045046,
          0.4369369369369369,
          0.45495495495495497,
          0.47297297297297297,
          0.44819819819819817,
          0.46846846846846846,
          0.4346846846846847,
          0.44144144144144143,
          0.4594594594594595,
          0.4594594594594595,
          0.4346846846846847,
          0.4436936936936937,
          0.45045045045045046,
          0.4572072072072072,
          0.46396396396396394,
          0.47297297297297297,
          0.46621621621621623,
          0.4572072072072072,
          0.4594594594594595,
          0.46621621621621623,
          0.45045045045045046,
          0.4594594594594595,
          0.4436936936936937,
          0.4572072072072072,
          0.4436936936936937,
          0.46396396396396394,
          0.4346846846846847,
          0.44144144144144143,
          0.4774774774774775,
          0.4572072072072072,
          0.4391891891891892,
          0.44819819819819817,
          0.4369369369369369,
          0.4436936936936937,
          0.44819819819819817,
          0.45045045045045046,
          0.43243243243243246,
          0.5289855072463768,
          0.5362318840579711,
          0.5362318840579711,
          0.5,
          0.5217391304347826,
          0.5217391304347826,
          0.5217391304347826,
          0.5144927536231884,
          0.5434782608695652,
          0.5507246376811594,
          0.5434782608695652,
          0.5362318840579711,
          0.5144927536231884,
          0.5072463768115942,
          0.5217391304347826,
          0.5434782608695652,
          0.5144927536231884,
          0.5072463768115942,
          0.5072463768115942,
          0.5217391304347826,
          0.4927536231884058,
          0.5217391304347826,
          0.5434782608695652,
          0.5289855072463768,
          0.5144927536231884,
          0.45652173913043476,
          0.5217391304347826,
          0.4927536231884058,
          0.4927536231884058,
          0.5217391304347826,
          0.5362318840579711,
          0.5362318840579711,
          0.5289855072463768,
          0.5507246376811594,
          0.5434782608695652,
          0.5217391304347826,
          0.5434782608695652,
          0.5652173913043478,
          0.5144927536231884,
          0.5289855072463768,
          0.5434782608695652,
          0.4855072463768116,
          0.5144927536231884,
          0.5434782608695652,
          0.5434782608695652,
          0.5507246376811594,
          0.5434782608695652,
          0.5217391304347826,
          0.5652173913043478,
          0.5072463768115942,
          0.16114790286975716,
          0.18101545253863136,
          0.16335540838852097,
          0.18543046357615894,
          0.15673289183222958,
          0.16556291390728478,
          0.19205298013245034,
          0.16777041942604856,
          0.18101545253863136,
          0.16777041942604856,
          0.17218543046357615,
          0.17880794701986755,
          0.16997792494481237,
          0.15894039735099338,
          0.1545253863134658,
          0.17218543046357615,
          0.19426048565121412,
          0.16556291390728478,
          0.19426048565121412,
          0.15894039735099338,
          0.16556291390728478,
          0.18543046357615894,
          0.15673289183222958,
          0.17660044150110377,
          0.16114790286975716,
          0.16997792494481237,
          0.17439293598233996,
          0.17880794701986755,
          0.16777041942604856,
          0.18543046357615894,
          0.17880794701986755,
          0.152317880794702,
          0.18322295805739514,
          0.17660044150110377,
          0.16556291390728478,
          0.17660044150110377,
          0.16114790286975716,
          0.17439293598233996,
          0.16777041942604856,
          0.1545253863134658,
          0.16997792494481237,
          0.17439293598233996,
          0.18322295805739514,
          0.18763796909492272,
          0.18322295805739514,
          0.16997792494481237,
          0.18763796909492272,
          0.152317880794702,
          0.16997792494481237,
          0.18101545253863136,
          0.22075055187637968,
          0.20309050772626933,
          0.19205298013245034,
          0.2141280353200883,
          0.2251655629139073,
          0.20088300220750552,
          0.20088300220750552,
          0.2141280353200883,
          0.23178807947019867,
          0.2163355408388521,
          0.22075055187637968,
          0.22075055187637968,
          0.2163355408388521,
          0.2141280353200883,
          0.23399558498896247,
          0.2185430463576159,
          0.19646799116997793,
          0.22075055187637968,
          0.23178807947019867,
          0.20088300220750552,
          0.2163355408388521,
          0.2229580573951435,
          0.2119205298013245,
          0.22075055187637968,
          0.2185430463576159,
          0.20750551876379691,
          0.20309050772626933,
          0.2052980132450331,
          0.19646799116997793,
          0.20309050772626933,
          0.2052980132450331,
          0.2052980132450331,
          0.22737306843267108,
          0.2097130242825607,
          0.2119205298013245,
          0.2251655629139073,
          0.2097130242825607,
          0.23620309050772628,
          0.2163355408388521,
          0.23841059602649006,
          0.2052980132450331,
          0.2229580573951435,
          0.20750551876379691,
          0.2229580573951435,
          0.23841059602649006,
          0.2141280353200883,
          0.2097130242825607,
          0.2119205298013245,
          0.2163355408388521,
          0.2185430463576159,
          0.2384428223844282,
          0.2384428223844282,
          0.23357664233576642,
          0.24817518248175183,
          0.25060827250608275,
          0.21654501216545013,
          0.2360097323600973,
          0.21897810218978103,
          0.22141119221411193,
          0.24817518248175183,
          0.22384428223844283,
          0.22384428223844283,
          0.22384428223844283,
          0.2384428223844282,
          0.22141119221411193,
          0.22627737226277372,
          0.25790754257907544,
          0.19951338199513383,
          0.24087591240875914,
          0.24087591240875914,
          0.2384428223844282,
          0.23357664233576642,
          0.2384428223844282,
          0.22871046228710462,
          0.20681265206812652,
          0.2360097323600973,
          0.21654501216545013,
          0.24574209245742093,
          0.20437956204379562,
          0.22141119221411193,
          0.22627737226277372,
          0.22384428223844283,
          0.26034063260340634,
          0.19951338199513383,
          0.22627737226277372,
          0.2116788321167883,
          0.24087591240875914,
          0.22871046228710462,
          0.20681265206812652,
          0.24087591240875914,
          0.26763990267639903,
          0.2384428223844282,
          0.24087591240875914,
          0.20437956204379562,
          0.21654501216545013,
          0.25304136253041365,
          0.21654501216545013,
          0.22141119221411193,
          0.2360097323600973,
          0.22871046228710462,
          0.15602836879432624,
          0.14893617021276595,
          0.1607565011820331,
          0.1607565011820331,
          0.1607565011820331,
          0.16312056737588654,
          0.1773049645390071,
          0.17257683215130024,
          0.15602836879432624,
          0.16312056737588654,
          0.16312056737588654,
          0.18912529550827423,
          0.17966903073286053,
          0.17966903073286053,
          0.16548463356973994,
          0.14657210401891252,
          0.17257683215130024,
          0.1536643026004728,
          0.16548463356973994,
          0.1702127659574468,
          0.14657210401891252,
          0.15602836879432624,
          0.1607565011820331,
          0.17257683215130024,
          0.17966903073286053,
          0.15130023640661938,
          0.1536643026004728,
          0.16784869976359337,
          0.15602836879432624,
          0.14893617021276595,
          0.16784869976359337,
          0.15130023640661938,
          0.13947990543735225,
          0.17257683215130024,
          0.15602836879432624,
          0.16548463356973994,
          0.18439716312056736,
          0.16784869976359337,
          0.14893617021276595,
          0.13238770685579196,
          0.1607565011820331,
          0.15602836879432624,
          0.17257683215130024,
          0.1607565011820331,
          0.1607565011820331,
          0.14420803782505912,
          0.1702127659574468,
          0.16548463356973994,
          0.14893617021276595,
          0.1702127659574468,
          0.3445692883895131,
          0.31086142322097376,
          0.34269662921348315,
          0.3464419475655431,
          0.350187265917603,
          0.34831460674157305,
          0.36704119850187267,
          0.3352059925093633,
          0.32209737827715357,
          0.33707865168539325,
          0.350187265917603,
          0.34269662921348315,
          0.3408239700374532,
          0.350187265917603,
          0.36704119850187267,
          0.34269662921348315,
          0.3389513108614232,
          0.3464419475655431,
          0.3333333333333333,
          0.3445692883895131,
          0.3464419475655431,
          0.33707865168539325,
          0.3202247191011236,
          0.3333333333333333,
          0.3333333333333333,
          0.3333333333333333,
          0.34831460674157305,
          0.3445692883895131,
          0.31835205992509363,
          0.35580524344569286,
          0.32397003745318353,
          0.3295880149812734,
          0.34831460674157305,
          0.3295880149812734,
          0.3595505617977528,
          0.33707865168539325,
          0.35580524344569286,
          0.3352059925093633,
          0.352059925093633,
          0.37453183520599254,
          0.32771535580524347,
          0.3539325842696629,
          0.32771535580524347,
          0.352059925093633,
          0.33146067415730335,
          0.3146067415730337,
          0.3464419475655431,
          0.3352059925093633,
          0.3464419475655431,
          0.33146067415730335
         ],
         "y0": " ",
         "yaxis": "y"
        }
       ],
       "layout": {
        "annotations": [
         {
          "showarrow": false,
          "text": "Chance",
          "x": 1,
          "xanchor": "right",
          "xref": "x domain",
          "y": 0.1111111111111111,
          "yanchor": "top",
          "yref": "y"
         }
        ],
        "boxmode": "group",
        "font": {
         "family": "Arial",
         "size": 20
        },
        "height": 600,
        "legend": {
         "orientation": "h",
         "title": {
          "text": ""
         },
         "tracegroupgap": 0,
         "x": 0.01,
         "xanchor": "left",
         "y": 0.02,
         "yanchor": "bottom"
        },
        "margin": {
         "t": 60
        },
        "plot_bgcolor": "white",
        "shapes": [
         {
          "line": {
           "color": "grey",
           "dash": "dash"
          },
          "type": "line",
          "x0": 0,
          "x1": 1,
          "xref": "x domain",
          "y0": 0.1111111111111111,
          "y1": 0.1111111111111111,
          "yref": "y"
         }
        ],
        "template": {
         "data": {
          "bar": [
           {
            "error_x": {
             "color": "#2a3f5f"
            },
            "error_y": {
             "color": "#2a3f5f"
            },
            "marker": {
             "line": {
              "color": "#E5ECF6",
              "width": 0.5
             },
             "pattern": {
              "fillmode": "overlay",
              "size": 10,
              "solidity": 0.2
             }
            },
            "type": "bar"
           }
          ],
          "barpolar": [
           {
            "marker": {
             "line": {
              "color": "#E5ECF6",
              "width": 0.5
             },
             "pattern": {
              "fillmode": "overlay",
              "size": 10,
              "solidity": 0.2
             }
            },
            "type": "barpolar"
           }
          ],
          "carpet": [
           {
            "aaxis": {
             "endlinecolor": "#2a3f5f",
             "gridcolor": "white",
             "linecolor": "white",
             "minorgridcolor": "white",
             "startlinecolor": "#2a3f5f"
            },
            "baxis": {
             "endlinecolor": "#2a3f5f",
             "gridcolor": "white",
             "linecolor": "white",
             "minorgridcolor": "white",
             "startlinecolor": "#2a3f5f"
            },
            "type": "carpet"
           }
          ],
          "choropleth": [
           {
            "colorbar": {
             "outlinewidth": 0,
             "ticks": ""
            },
            "type": "choropleth"
           }
          ],
          "contour": [
           {
            "colorbar": {
             "outlinewidth": 0,
             "ticks": ""
            },
            "colorscale": [
             [
              0,
              "#0d0887"
             ],
             [
              0.1111111111111111,
              "#46039f"
             ],
             [
              0.2222222222222222,
              "#7201a8"
             ],
             [
              0.3333333333333333,
              "#9c179e"
             ],
             [
              0.4444444444444444,
              "#bd3786"
             ],
             [
              0.5555555555555556,
              "#d8576b"
             ],
             [
              0.6666666666666666,
              "#ed7953"
             ],
             [
              0.7777777777777778,
              "#fb9f3a"
             ],
             [
              0.8888888888888888,
              "#fdca26"
             ],
             [
              1,
              "#f0f921"
             ]
            ],
            "type": "contour"
           }
          ],
          "contourcarpet": [
           {
            "colorbar": {
             "outlinewidth": 0,
             "ticks": ""
            },
            "type": "contourcarpet"
           }
          ],
          "heatmap": [
           {
            "colorbar": {
             "outlinewidth": 0,
             "ticks": ""
            },
            "colorscale": [
             [
              0,
              "#0d0887"
             ],
             [
              0.1111111111111111,
              "#46039f"
             ],
             [
              0.2222222222222222,
              "#7201a8"
             ],
             [
              0.3333333333333333,
              "#9c179e"
             ],
             [
              0.4444444444444444,
              "#bd3786"
             ],
             [
              0.5555555555555556,
              "#d8576b"
             ],
             [
              0.6666666666666666,
              "#ed7953"
             ],
             [
              0.7777777777777778,
              "#fb9f3a"
             ],
             [
              0.8888888888888888,
              "#fdca26"
             ],
             [
              1,
              "#f0f921"
             ]
            ],
            "type": "heatmap"
           }
          ],
          "heatmapgl": [
           {
            "colorbar": {
             "outlinewidth": 0,
             "ticks": ""
            },
            "colorscale": [
             [
              0,
              "#0d0887"
             ],
             [
              0.1111111111111111,
              "#46039f"
             ],
             [
              0.2222222222222222,
              "#7201a8"
             ],
             [
              0.3333333333333333,
              "#9c179e"
             ],
             [
              0.4444444444444444,
              "#bd3786"
             ],
             [
              0.5555555555555556,
              "#d8576b"
             ],
             [
              0.6666666666666666,
              "#ed7953"
             ],
             [
              0.7777777777777778,
              "#fb9f3a"
             ],
             [
              0.8888888888888888,
              "#fdca26"
             ],
             [
              1,
              "#f0f921"
             ]
            ],
            "type": "heatmapgl"
           }
          ],
          "histogram": [
           {
            "marker": {
             "pattern": {
              "fillmode": "overlay",
              "size": 10,
              "solidity": 0.2
             }
            },
            "type": "histogram"
           }
          ],
          "histogram2d": [
           {
            "colorbar": {
             "outlinewidth": 0,
             "ticks": ""
            },
            "colorscale": [
             [
              0,
              "#0d0887"
             ],
             [
              0.1111111111111111,
              "#46039f"
             ],
             [
              0.2222222222222222,
              "#7201a8"
             ],
             [
              0.3333333333333333,
              "#9c179e"
             ],
             [
              0.4444444444444444,
              "#bd3786"
             ],
             [
              0.5555555555555556,
              "#d8576b"
             ],
             [
              0.6666666666666666,
              "#ed7953"
             ],
             [
              0.7777777777777778,
              "#fb9f3a"
             ],
             [
              0.8888888888888888,
              "#fdca26"
             ],
             [
              1,
              "#f0f921"
             ]
            ],
            "type": "histogram2d"
           }
          ],
          "histogram2dcontour": [
           {
            "colorbar": {
             "outlinewidth": 0,
             "ticks": ""
            },
            "colorscale": [
             [
              0,
              "#0d0887"
             ],
             [
              0.1111111111111111,
              "#46039f"
             ],
             [
              0.2222222222222222,
              "#7201a8"
             ],
             [
              0.3333333333333333,
              "#9c179e"
             ],
             [
              0.4444444444444444,
              "#bd3786"
             ],
             [
              0.5555555555555556,
              "#d8576b"
             ],
             [
              0.6666666666666666,
              "#ed7953"
             ],
             [
              0.7777777777777778,
              "#fb9f3a"
             ],
             [
              0.8888888888888888,
              "#fdca26"
             ],
             [
              1,
              "#f0f921"
             ]
            ],
            "type": "histogram2dcontour"
           }
          ],
          "mesh3d": [
           {
            "colorbar": {
             "outlinewidth": 0,
             "ticks": ""
            },
            "type": "mesh3d"
           }
          ],
          "parcoords": [
           {
            "line": {
             "colorbar": {
              "outlinewidth": 0,
              "ticks": ""
             }
            },
            "type": "parcoords"
           }
          ],
          "pie": [
           {
            "automargin": true,
            "type": "pie"
           }
          ],
          "scatter": [
           {
            "fillpattern": {
             "fillmode": "overlay",
             "size": 10,
             "solidity": 0.2
            },
            "type": "scatter"
           }
          ],
          "scatter3d": [
           {
            "line": {
             "colorbar": {
              "outlinewidth": 0,
              "ticks": ""
             }
            },
            "marker": {
             "colorbar": {
              "outlinewidth": 0,
              "ticks": ""
             }
            },
            "type": "scatter3d"
           }
          ],
          "scattercarpet": [
           {
            "marker": {
             "colorbar": {
              "outlinewidth": 0,
              "ticks": ""
             }
            },
            "type": "scattercarpet"
           }
          ],
          "scattergeo": [
           {
            "marker": {
             "colorbar": {
              "outlinewidth": 0,
              "ticks": ""
             }
            },
            "type": "scattergeo"
           }
          ],
          "scattergl": [
           {
            "marker": {
             "colorbar": {
              "outlinewidth": 0,
              "ticks": ""
             }
            },
            "type": "scattergl"
           }
          ],
          "scattermapbox": [
           {
            "marker": {
             "colorbar": {
              "outlinewidth": 0,
              "ticks": ""
             }
            },
            "type": "scattermapbox"
           }
          ],
          "scatterpolar": [
           {
            "marker": {
             "colorbar": {
              "outlinewidth": 0,
              "ticks": ""
             }
            },
            "type": "scatterpolar"
           }
          ],
          "scatterpolargl": [
           {
            "marker": {
             "colorbar": {
              "outlinewidth": 0,
              "ticks": ""
             }
            },
            "type": "scatterpolargl"
           }
          ],
          "scatterternary": [
           {
            "marker": {
             "colorbar": {
              "outlinewidth": 0,
              "ticks": ""
             }
            },
            "type": "scatterternary"
           }
          ],
          "surface": [
           {
            "colorbar": {
             "outlinewidth": 0,
             "ticks": ""
            },
            "colorscale": [
             [
              0,
              "#0d0887"
             ],
             [
              0.1111111111111111,
              "#46039f"
             ],
             [
              0.2222222222222222,
              "#7201a8"
             ],
             [
              0.3333333333333333,
              "#9c179e"
             ],
             [
              0.4444444444444444,
              "#bd3786"
             ],
             [
              0.5555555555555556,
              "#d8576b"
             ],
             [
              0.6666666666666666,
              "#ed7953"
             ],
             [
              0.7777777777777778,
              "#fb9f3a"
             ],
             [
              0.8888888888888888,
              "#fdca26"
             ],
             [
              1,
              "#f0f921"
             ]
            ],
            "type": "surface"
           }
          ],
          "table": [
           {
            "cells": {
             "fill": {
              "color": "#EBF0F8"
             },
             "line": {
              "color": "white"
             }
            },
            "header": {
             "fill": {
              "color": "#C8D4E3"
             },
             "line": {
              "color": "white"
             }
            },
            "type": "table"
           }
          ]
         },
         "layout": {
          "annotationdefaults": {
           "arrowcolor": "#2a3f5f",
           "arrowhead": 0,
           "arrowwidth": 1
          },
          "autotypenumbers": "strict",
          "coloraxis": {
           "colorbar": {
            "outlinewidth": 0,
            "ticks": ""
           }
          },
          "colorscale": {
           "diverging": [
            [
             0,
             "#8e0152"
            ],
            [
             0.1,
             "#c51b7d"
            ],
            [
             0.2,
             "#de77ae"
            ],
            [
             0.3,
             "#f1b6da"
            ],
            [
             0.4,
             "#fde0ef"
            ],
            [
             0.5,
             "#f7f7f7"
            ],
            [
             0.6,
             "#e6f5d0"
            ],
            [
             0.7,
             "#b8e186"
            ],
            [
             0.8,
             "#7fbc41"
            ],
            [
             0.9,
             "#4d9221"
            ],
            [
             1,
             "#276419"
            ]
           ],
           "sequential": [
            [
             0,
             "#0d0887"
            ],
            [
             0.1111111111111111,
             "#46039f"
            ],
            [
             0.2222222222222222,
             "#7201a8"
            ],
            [
             0.3333333333333333,
             "#9c179e"
            ],
            [
             0.4444444444444444,
             "#bd3786"
            ],
            [
             0.5555555555555556,
             "#d8576b"
            ],
            [
             0.6666666666666666,
             "#ed7953"
            ],
            [
             0.7777777777777778,
             "#fb9f3a"
            ],
            [
             0.8888888888888888,
             "#fdca26"
            ],
            [
             1,
             "#f0f921"
            ]
           ],
           "sequentialminus": [
            [
             0,
             "#0d0887"
            ],
            [
             0.1111111111111111,
             "#46039f"
            ],
            [
             0.2222222222222222,
             "#7201a8"
            ],
            [
             0.3333333333333333,
             "#9c179e"
            ],
            [
             0.4444444444444444,
             "#bd3786"
            ],
            [
             0.5555555555555556,
             "#d8576b"
            ],
            [
             0.6666666666666666,
             "#ed7953"
            ],
            [
             0.7777777777777778,
             "#fb9f3a"
            ],
            [
             0.8888888888888888,
             "#fdca26"
            ],
            [
             1,
             "#f0f921"
            ]
           ]
          },
          "colorway": [
           "#636efa",
           "#EF553B",
           "#00cc96",
           "#ab63fa",
           "#FFA15A",
           "#19d3f3",
           "#FF6692",
           "#B6E880",
           "#FF97FF",
           "#FECB52"
          ],
          "font": {
           "color": "#2a3f5f"
          },
          "geo": {
           "bgcolor": "white",
           "lakecolor": "white",
           "landcolor": "#E5ECF6",
           "showlakes": true,
           "showland": true,
           "subunitcolor": "white"
          },
          "hoverlabel": {
           "align": "left"
          },
          "hovermode": "closest",
          "mapbox": {
           "style": "light"
          },
          "paper_bgcolor": "white",
          "plot_bgcolor": "#E5ECF6",
          "polar": {
           "angularaxis": {
            "gridcolor": "white",
            "linecolor": "white",
            "ticks": ""
           },
           "bgcolor": "#E5ECF6",
           "radialaxis": {
            "gridcolor": "white",
            "linecolor": "white",
            "ticks": ""
           }
          },
          "scene": {
           "xaxis": {
            "backgroundcolor": "#E5ECF6",
            "gridcolor": "white",
            "gridwidth": 2,
            "linecolor": "white",
            "showbackground": true,
            "ticks": "",
            "zerolinecolor": "white"
           },
           "yaxis": {
            "backgroundcolor": "#E5ECF6",
            "gridcolor": "white",
            "gridwidth": 2,
            "linecolor": "white",
            "showbackground": true,
            "ticks": "",
            "zerolinecolor": "white"
           },
           "zaxis": {
            "backgroundcolor": "#E5ECF6",
            "gridcolor": "white",
            "gridwidth": 2,
            "linecolor": "white",
            "showbackground": true,
            "ticks": "",
            "zerolinecolor": "white"
           }
          },
          "shapedefaults": {
           "line": {
            "color": "#2a3f5f"
           }
          },
          "ternary": {
           "aaxis": {
            "gridcolor": "white",
            "linecolor": "white",
            "ticks": ""
           },
           "baxis": {
            "gridcolor": "white",
            "linecolor": "white",
            "ticks": ""
           },
           "bgcolor": "#E5ECF6",
           "caxis": {
            "gridcolor": "white",
            "linecolor": "white",
            "ticks": ""
           }
          },
          "title": {
           "x": 0.05
          },
          "xaxis": {
           "automargin": true,
           "gridcolor": "white",
           "linecolor": "white",
           "ticks": "",
           "title": {
            "standoff": 15
           },
           "zerolinecolor": "white",
           "zerolinewidth": 2
          },
          "yaxis": {
           "automargin": true,
           "gridcolor": "white",
           "linecolor": "white",
           "ticks": "",
           "title": {
            "standoff": 15
           },
           "zerolinecolor": "white",
           "zerolinewidth": 2
          }
         }
        },
        "title": {
         "text": "",
         "x": 0.5
        },
        "width": 1000,
        "xaxis": {
         "anchor": "y",
         "domain": [
          0,
          1
         ],
         "linecolor": "black",
         "mirror": false,
         "range": [
          -0.5,
          2.5
         ],
         "showgrid": false,
         "showline": true,
         "ticks": "outside",
         "tickvals": [
          0,
          1,
          2
         ],
         "title": {
          "text": "Target patient"
         }
        },
        "yaxis": {
         "anchor": "x",
         "domain": [
          0,
          1
         ],
         "linecolor": "black",
         "mirror": false,
         "range": [
          0,
          0.6
         ],
         "showgrid": false,
         "showline": true,
         "ticks": "outside",
         "title": {
          "text": "Phoneme decoding accuracy"
         }
        }
       }
      }
     },
     "metadata": {},
     "output_type": "display_data"
    }
   ],
   "source": [
    "fig_ind = 'pAll'\n",
    "fig_df = decode_df_long[decode_df_long['Phoneme Index'] == fig_ind]\n",
    "fig = px.box(fig_df, x='Patient', y=\"accuracy\", color='Decoding Context', points='all', width=1000, height=600, color_discrete_sequence=['#636EFA', '#EF553B', '#AB63FA'])\n",
    "fig.add_hline(y=1/9, line_dash='dash', line_color='grey', annotation_text='Chance', annotation_position='bottom right')\n",
    "fig.update_layout(\n",
    "    plot_bgcolor='white',\n",
    "    legend=dict(\n",
    "        orientation='h',\n",
    "        yanchor='bottom',\n",
    "        y=0.02,\n",
    "        xanchor='left',\n",
    "        x=0.01,\n",
    "        title_text=''\n",
    "    ),\n",
    "    title_text='',\n",
    "    title_x=0.5,\n",
    "    font=dict(size=20, family='Arial')\n",
    ")\n",
    "fig.update_xaxes(\n",
    "    title='Target patient',\n",
    "    mirror=False,\n",
    "    ticks='outside',\n",
    "    showline=True,\n",
    "    linecolor='black',\n",
    "    showgrid=False,\n",
    "    tickvals=[0,1,2],\n",
    "    range=[-0.5, 2.5]\n",
    ")\n",
    "fig.update_yaxes(\n",
    "    title='Phoneme decoding accuracy',\n",
    "    mirror=False,\n",
    "    ticks='outside',\n",
    "    showline=True,\n",
    "    linecolor='black',\n",
    "    showgrid=False,\n",
    "    range=[0, 0.6]\n",
    ")\n",
    "\n",
    "fig.show()"
   ]
  },
  {
   "cell_type": "code",
   "execution_count": 37,
   "metadata": {},
   "outputs": [
    {
     "name": "stdout",
     "output_type": "stream",
     "text": [
      "S1: ANOVA p = 1.888200647303227e-82, CCA vs. PS p = 2.398081733190338e-14, CCA vs. Unaligned p = 2.1538326677728037e-14\n",
      "ANOVA F-statistic: 877.4941393786721\n",
      "Tukey's HSD Pairwise Group Comparisons (95.0% Confidence Interval)\n",
      "Comparison  Statistic  p-value  Lower CI  Upper CI\n",
      " (0 - 1)      0.086     0.000     0.080     0.093\n",
      " (0 - 2)     -0.025     0.000    -0.032    -0.019\n",
      " (1 - 0)     -0.086     0.000    -0.093    -0.080\n",
      " (1 - 2)     -0.112     0.000    -0.118    -0.105\n",
      " (2 - 0)      0.025     0.000     0.019     0.032\n",
      " (2 - 1)      0.112     0.000     0.105     0.118\n",
      "\n",
      "S2: ANOVA p = 1.0799199629556557e-124, CCA vs. PS p = 2.1538326677728037e-14, CCA vs. Unaligned p = 2.1538326677728037e-14\n",
      "ANOVA F-statistic: 3498.4704872175507\n",
      "Tukey's HSD Pairwise Group Comparisons (95.0% Confidence Interval)\n",
      "Comparison  Statistic  p-value  Lower CI  Upper CI\n",
      " (0 - 1)      0.159     0.000     0.153     0.166\n",
      " (0 - 2)     -0.058     0.000    -0.064    -0.051\n",
      " (1 - 0)     -0.159     0.000    -0.166    -0.153\n",
      " (1 - 2)     -0.217     0.000    -0.224    -0.211\n",
      " (2 - 0)      0.058     0.000     0.051     0.064\n",
      " (2 - 1)      0.217     0.000     0.211     0.224\n",
      "\n",
      "S3: ANOVA p = 5.668700009389686e-109, CCA vs. PS p = 2.1538326677728037e-14, CCA vs. Unaligned p = 2.1538326677728037e-14\n",
      "ANOVA F-statistic: 2109.375972615345\n",
      "Tukey's HSD Pairwise Group Comparisons (95.0% Confidence Interval)\n",
      "Comparison  Statistic  p-value  Lower CI  Upper CI\n",
      " (0 - 1)      0.054     0.000     0.043     0.065\n",
      " (0 - 2)     -0.231     0.000    -0.242    -0.220\n",
      " (1 - 0)     -0.054     0.000    -0.065    -0.043\n",
      " (1 - 2)     -0.285     0.000    -0.296    -0.274\n",
      " (2 - 0)      0.231     0.000     0.220     0.242\n",
      " (2 - 1)      0.285     0.000     0.274     0.296\n",
      "\n",
      "S4: ANOVA p = 1.0234689651451931e-53, CCA vs. PS p = 2.1538326677728037e-14, CCA vs. Unaligned p = 2.1538326677728037e-14\n",
      "ANOVA F-statistic: 313.0793967387502\n",
      "Tukey's HSD Pairwise Group Comparisons (95.0% Confidence Interval)\n",
      "Comparison  Statistic  p-value  Lower CI  Upper CI\n",
      " (0 - 1)      0.023     0.000     0.018     0.028\n",
      " (0 - 2)     -0.034     0.000    -0.040    -0.029\n",
      " (1 - 0)     -0.023     0.000    -0.028    -0.018\n",
      " (1 - 2)     -0.057     0.000    -0.063    -0.052\n",
      " (2 - 0)      0.034     0.000     0.029     0.040\n",
      " (2 - 1)      0.057     0.000     0.052     0.063\n",
      "\n",
      "S5: ANOVA p = 1.5621522803193772e-54, CCA vs. PS p = 2.1538326677728037e-14, CCA vs. Unaligned p = 2.1538326677728037e-14\n",
      "ANOVA F-statistic: 323.09343839735965\n",
      "Tukey's HSD Pairwise Group Comparisons (95.0% Confidence Interval)\n",
      "Comparison  Statistic  p-value  Lower CI  Upper CI\n",
      " (0 - 1)      0.018     0.000     0.012     0.025\n",
      " (0 - 2)     -0.047     0.000    -0.053    -0.041\n",
      " (1 - 0)     -0.018     0.000    -0.025    -0.012\n",
      " (1 - 2)     -0.065     0.000    -0.072    -0.059\n",
      " (2 - 0)      0.047     0.000     0.041     0.053\n",
      " (2 - 1)      0.065     0.000     0.059     0.072\n",
      "\n",
      "S6: ANOVA p = 1.702250171965963e-44, CCA vs. PS p = 2.1538326677728037e-14, CCA vs. Unaligned p = 2.1538326677728037e-14\n",
      "ANOVA F-statistic: 216.09003909292267\n",
      "Tukey's HSD Pairwise Group Comparisons (95.0% Confidence Interval)\n",
      "Comparison  Statistic  p-value  Lower CI  Upper CI\n",
      " (0 - 1)      0.008     0.019     0.001     0.015\n",
      " (0 - 2)     -0.048     0.000    -0.055    -0.041\n",
      " (1 - 0)     -0.008     0.019    -0.015    -0.001\n",
      " (1 - 2)     -0.056     0.000    -0.063    -0.049\n",
      " (2 - 0)      0.048     0.000     0.041     0.055\n",
      " (2 - 1)      0.056     0.000     0.049     0.063\n",
      "\n",
      "S7: ANOVA p = 7.995638070158545e-73, CCA vs. PS p = 2.1538326677728037e-14, CCA vs. Unaligned p = 2.1538326677728037e-14\n",
      "ANOVA F-statistic: 629.8976320912748\n",
      "Tukey's HSD Pairwise Group Comparisons (95.0% Confidence Interval)\n",
      "Comparison  Statistic  p-value  Lower CI  Upper CI\n",
      " (0 - 1)      0.002     0.752    -0.004     0.007\n",
      " (0 - 2)     -0.066     0.000    -0.071    -0.061\n",
      " (1 - 0)     -0.002     0.752    -0.007     0.004\n",
      " (1 - 2)     -0.067     0.000    -0.073    -0.062\n",
      " (2 - 0)      0.066     0.000     0.061     0.071\n",
      " (2 - 1)      0.067     0.000     0.062     0.073\n",
      "\n",
      "S8: ANOVA p = 4.187250007435089e-85, CCA vs. PS p = 2.1538326677728037e-14, CCA vs. Unaligned p = 2.1538326677728037e-14\n",
      "ANOVA F-statistic: 959.9472323904575\n",
      "Tukey's HSD Pairwise Group Comparisons (95.0% Confidence Interval)\n",
      "Comparison  Statistic  p-value  Lower CI  Upper CI\n",
      " (0 - 1)      0.053     0.000     0.047     0.059\n",
      " (0 - 2)     -0.062     0.000    -0.068    -0.056\n",
      " (1 - 0)     -0.053     0.000    -0.059    -0.047\n",
      " (1 - 2)     -0.115     0.000    -0.121    -0.109\n",
      " (2 - 0)      0.062     0.000     0.056     0.068\n",
      " (2 - 1)      0.115     0.000     0.109     0.121\n",
      "\n"
     ]
    }
   ],
   "source": [
    "pts = paper_pt_dict.values()\n",
    "p_arr = np.zeros((len(pts), 3))\n",
    "for i, pt in enumerate(pts):\n",
    "    pt_spf = decode_df_long[(decode_df_long['Patient'] == pt) & (decode_df_long['Decoding Context'] == 'Patient-specific')]['accuracy']\n",
    "    pt_una = decode_df_long[(decode_df_long['Patient'] == pt) & (decode_df_long['Decoding Context'] == 'Unaligned cross-patient')]['accuracy']\n",
    "    pt_cca = decode_df_long[(decode_df_long['Patient'] == pt) & (decode_df_long['Decoding Context'] == 'Aligned cross-patient')]['accuracy']\n",
    "\n",
    "    stat, anova_p = stats.f_oneway(pt_spf, pt_una, pt_cca)\n",
    "    res = stats.tukey_hsd(pt_spf, pt_una, pt_cca)\n",
    "    cca_ps_p = res.pvalue[0,2]\n",
    "    cca_una_p = res.pvalue[1,2]\n",
    "\n",
    "    print(f'{pt}: ANOVA p = {anova_p}, CCA vs. PS p = {cca_ps_p}, CCA vs. Unaligned p = {cca_una_p}')\n",
    "    print(f'ANOVA F-statistic: {stat}')\n",
    "    print(res)"
   ]
  },
  {
   "cell_type": "code",
   "execution_count": 32,
   "metadata": {},
   "outputs": [
    {
     "data": {
      "application/vnd.plotly.v1+json": {
       "config": {
        "plotlyServerURL": "https://plotly.com"
       },
       "data": [
        {
         "hovertemplate": "Patient=S1<br>Decoding Context=%{x}<br>accuracy=%{y}<extra></extra>",
         "legendgroup": "S1",
         "line": {
          "color": "#636EFA",
          "dash": "solid"
         },
         "marker": {
          "symbol": "circle"
         },
         "mode": "lines",
         "name": "S1",
         "orientation": "v",
         "showlegend": true,
         "type": "scatter",
         "x": [
          "Patient-specific",
          "Unaligned cross-patient",
          "Aligned cross-patient"
         ],
         "xaxis": "x",
         "y": [
          0.3791203703703704,
          0.2927314814814815,
          0.4043981481481482
         ],
         "yaxis": "y"
        },
        {
         "hovertemplate": "Patient=S2<br>Decoding Context=%{x}<br>accuracy=%{y}<extra></extra>",
         "legendgroup": "S2",
         "line": {
          "color": "#EF553B",
          "dash": "solid"
         },
         "marker": {
          "symbol": "circle"
         },
         "mode": "lines",
         "name": "S2",
         "orientation": "v",
         "showlegend": true,
         "type": "scatter",
         "x": [
          "Patient-specific",
          "Unaligned cross-patient",
          "Aligned cross-patient"
         ],
         "xaxis": "x",
         "y": [
          0.3935585585585586,
          0.23418918918918918,
          0.4513963963963964
         ],
         "yaxis": "y"
        },
        {
         "hovertemplate": "Patient=S3<br>Decoding Context=%{x}<br>accuracy=%{y}<extra></extra>",
         "legendgroup": "S3",
         "line": {
          "color": "#00CC96",
          "dash": "solid"
         },
         "marker": {
          "symbol": "circle"
         },
         "mode": "lines",
         "name": "S3",
         "orientation": "v",
         "showlegend": true,
         "type": "scatter",
         "x": [
          "Patient-specific",
          "Unaligned cross-patient",
          "Aligned cross-patient"
         ],
         "xaxis": "x",
         "y": [
          0.2946376811594203,
          0.24043478260869566,
          0.5253623188405797
         ],
         "yaxis": "y"
        },
        {
         "hovertemplate": "Patient=S4<br>Decoding Context=%{x}<br>accuracy=%{y}<extra></extra>",
         "legendgroup": "S4",
         "line": {
          "color": "#AB63FA",
          "dash": "solid"
         },
         "marker": {
          "symbol": "circle"
         },
         "mode": "lines",
         "name": "S4",
         "orientation": "v",
         "showlegend": true,
         "type": "scatter",
         "x": [
          "Patient-specific",
          "Unaligned cross-patient",
          "Aligned cross-patient"
         ],
         "xaxis": "x",
         "y": [
          0.13796909492273732,
          0.11501103752759383,
          0.17227373068432672
         ],
         "yaxis": "y"
        },
        {
         "hovertemplate": "Patient=S5<br>Decoding Context=%{x}<br>accuracy=%{y}<extra></extra>",
         "legendgroup": "S5",
         "line": {
          "color": "#FFA15A",
          "dash": "solid"
         },
         "marker": {
          "symbol": "circle"
         },
         "mode": "lines",
         "name": "S5",
         "orientation": "v",
         "showlegend": true,
         "type": "scatter",
         "x": [
          "Patient-specific",
          "Unaligned cross-patient",
          "Aligned cross-patient"
         ],
         "xaxis": "x",
         "y": [
          0.16794701986754965,
          0.1497130242825607,
          0.2150551876379691
         ],
         "yaxis": "y"
        },
        {
         "hovertemplate": "Patient=S6<br>Decoding Context=%{x}<br>accuracy=%{y}<extra></extra>",
         "legendgroup": "S6",
         "line": {
          "color": "#19D3F3",
          "dash": "solid"
         },
         "marker": {
          "symbol": "circle"
         },
         "mode": "lines",
         "name": "S6",
         "orientation": "v",
         "showlegend": true,
         "type": "scatter",
         "x": [
          "Patient-specific",
          "Unaligned cross-patient",
          "Aligned cross-patient"
         ],
         "xaxis": "x",
         "y": [
          0.18214111922141119,
          0.17416058394160583,
          0.23012165450121652
         ],
         "yaxis": "y"
        },
        {
         "hovertemplate": "Patient=S7<br>Decoding Context=%{x}<br>accuracy=%{y}<extra></extra>",
         "legendgroup": "S7",
         "line": {
          "color": "#FF6692",
          "dash": "solid"
         },
         "marker": {
          "symbol": "circle"
         },
         "mode": "lines",
         "name": "S7",
         "orientation": "v",
         "showlegend": true,
         "type": "scatter",
         "x": [
          "Patient-specific",
          "Unaligned cross-patient",
          "Aligned cross-patient"
         ],
         "xaxis": "x",
         "y": [
          0.09602836879432625,
          0.09446808510638299,
          0.16189125295508272
         ],
         "yaxis": "y"
        },
        {
         "hovertemplate": "Patient=S8<br>Decoding Context=%{x}<br>accuracy=%{y}<extra></extra>",
         "legendgroup": "S8",
         "line": {
          "color": "#B6E880",
          "dash": "solid"
         },
         "marker": {
          "symbol": "circle"
         },
         "mode": "lines",
         "name": "S8",
         "orientation": "v",
         "showlegend": true,
         "type": "scatter",
         "x": [
          "Patient-specific",
          "Unaligned cross-patient",
          "Aligned cross-patient"
         ],
         "xaxis": "x",
         "y": [
          0.2790262172284644,
          0.2260674157303371,
          0.3408988764044944
         ],
         "yaxis": "y"
        },
        {
         "alignmentgroup": "True",
         "hovertemplate": "Decoding Context=%{x}<br>accuracy=%{y}<extra></extra>",
         "legendgroup": "",
         "marker": {
          "color": "#636efa"
         },
         "name": "",
         "notched": false,
         "offsetgroup": "",
         "orientation": "v",
         "showlegend": false,
         "type": "box",
         "x": [
          "Patient-specific",
          "Unaligned cross-patient",
          "Aligned cross-patient",
          "Patient-specific",
          "Unaligned cross-patient",
          "Aligned cross-patient",
          "Patient-specific",
          "Unaligned cross-patient",
          "Aligned cross-patient",
          "Patient-specific",
          "Unaligned cross-patient",
          "Aligned cross-patient",
          "Patient-specific",
          "Unaligned cross-patient",
          "Aligned cross-patient",
          "Patient-specific",
          "Unaligned cross-patient",
          "Aligned cross-patient",
          "Patient-specific",
          "Unaligned cross-patient",
          "Aligned cross-patient",
          "Patient-specific",
          "Unaligned cross-patient",
          "Aligned cross-patient"
         ],
         "x0": " ",
         "xaxis": "x",
         "y": [
          0.3791203703703704,
          0.2927314814814815,
          0.4043981481481482,
          0.3935585585585586,
          0.23418918918918918,
          0.4513963963963964,
          0.2946376811594203,
          0.24043478260869566,
          0.5253623188405797,
          0.13796909492273732,
          0.11501103752759383,
          0.17227373068432672,
          0.16794701986754965,
          0.1497130242825607,
          0.2150551876379691,
          0.18214111922141119,
          0.17416058394160583,
          0.23012165450121652,
          0.09602836879432625,
          0.09446808510638299,
          0.16189125295508272,
          0.2790262172284644,
          0.2260674157303371,
          0.3408988764044944
         ],
         "y0": " ",
         "yaxis": "y"
        }
       ],
       "layout": {
        "annotations": [
         {
          "showarrow": false,
          "text": "Chance",
          "x": 1,
          "xanchor": "right",
          "xref": "x domain",
          "y": 0.1111111111111111,
          "yanchor": "top",
          "yref": "y"
         }
        ],
        "font": {
         "family": "Arial",
         "size": 20
        },
        "height": 600,
        "legend": {
         "orientation": "h",
         "title": {
          "text": ""
         },
         "tracegroupgap": 0,
         "x": 0.01,
         "xanchor": "left",
         "y": 0.02,
         "yanchor": "bottom"
        },
        "margin": {
         "t": 60
        },
        "plot_bgcolor": "white",
        "shapes": [
         {
          "line": {
           "color": "grey",
           "dash": "dash"
          },
          "type": "line",
          "x0": 0,
          "x1": 1,
          "xref": "x domain",
          "y0": 0.1111111111111111,
          "y1": 0.1111111111111111,
          "yref": "y"
         }
        ],
        "template": {
         "data": {
          "bar": [
           {
            "error_x": {
             "color": "#2a3f5f"
            },
            "error_y": {
             "color": "#2a3f5f"
            },
            "marker": {
             "line": {
              "color": "#E5ECF6",
              "width": 0.5
             },
             "pattern": {
              "fillmode": "overlay",
              "size": 10,
              "solidity": 0.2
             }
            },
            "type": "bar"
           }
          ],
          "barpolar": [
           {
            "marker": {
             "line": {
              "color": "#E5ECF6",
              "width": 0.5
             },
             "pattern": {
              "fillmode": "overlay",
              "size": 10,
              "solidity": 0.2
             }
            },
            "type": "barpolar"
           }
          ],
          "carpet": [
           {
            "aaxis": {
             "endlinecolor": "#2a3f5f",
             "gridcolor": "white",
             "linecolor": "white",
             "minorgridcolor": "white",
             "startlinecolor": "#2a3f5f"
            },
            "baxis": {
             "endlinecolor": "#2a3f5f",
             "gridcolor": "white",
             "linecolor": "white",
             "minorgridcolor": "white",
             "startlinecolor": "#2a3f5f"
            },
            "type": "carpet"
           }
          ],
          "choropleth": [
           {
            "colorbar": {
             "outlinewidth": 0,
             "ticks": ""
            },
            "type": "choropleth"
           }
          ],
          "contour": [
           {
            "colorbar": {
             "outlinewidth": 0,
             "ticks": ""
            },
            "colorscale": [
             [
              0,
              "#0d0887"
             ],
             [
              0.1111111111111111,
              "#46039f"
             ],
             [
              0.2222222222222222,
              "#7201a8"
             ],
             [
              0.3333333333333333,
              "#9c179e"
             ],
             [
              0.4444444444444444,
              "#bd3786"
             ],
             [
              0.5555555555555556,
              "#d8576b"
             ],
             [
              0.6666666666666666,
              "#ed7953"
             ],
             [
              0.7777777777777778,
              "#fb9f3a"
             ],
             [
              0.8888888888888888,
              "#fdca26"
             ],
             [
              1,
              "#f0f921"
             ]
            ],
            "type": "contour"
           }
          ],
          "contourcarpet": [
           {
            "colorbar": {
             "outlinewidth": 0,
             "ticks": ""
            },
            "type": "contourcarpet"
           }
          ],
          "heatmap": [
           {
            "colorbar": {
             "outlinewidth": 0,
             "ticks": ""
            },
            "colorscale": [
             [
              0,
              "#0d0887"
             ],
             [
              0.1111111111111111,
              "#46039f"
             ],
             [
              0.2222222222222222,
              "#7201a8"
             ],
             [
              0.3333333333333333,
              "#9c179e"
             ],
             [
              0.4444444444444444,
              "#bd3786"
             ],
             [
              0.5555555555555556,
              "#d8576b"
             ],
             [
              0.6666666666666666,
              "#ed7953"
             ],
             [
              0.7777777777777778,
              "#fb9f3a"
             ],
             [
              0.8888888888888888,
              "#fdca26"
             ],
             [
              1,
              "#f0f921"
             ]
            ],
            "type": "heatmap"
           }
          ],
          "heatmapgl": [
           {
            "colorbar": {
             "outlinewidth": 0,
             "ticks": ""
            },
            "colorscale": [
             [
              0,
              "#0d0887"
             ],
             [
              0.1111111111111111,
              "#46039f"
             ],
             [
              0.2222222222222222,
              "#7201a8"
             ],
             [
              0.3333333333333333,
              "#9c179e"
             ],
             [
              0.4444444444444444,
              "#bd3786"
             ],
             [
              0.5555555555555556,
              "#d8576b"
             ],
             [
              0.6666666666666666,
              "#ed7953"
             ],
             [
              0.7777777777777778,
              "#fb9f3a"
             ],
             [
              0.8888888888888888,
              "#fdca26"
             ],
             [
              1,
              "#f0f921"
             ]
            ],
            "type": "heatmapgl"
           }
          ],
          "histogram": [
           {
            "marker": {
             "pattern": {
              "fillmode": "overlay",
              "size": 10,
              "solidity": 0.2
             }
            },
            "type": "histogram"
           }
          ],
          "histogram2d": [
           {
            "colorbar": {
             "outlinewidth": 0,
             "ticks": ""
            },
            "colorscale": [
             [
              0,
              "#0d0887"
             ],
             [
              0.1111111111111111,
              "#46039f"
             ],
             [
              0.2222222222222222,
              "#7201a8"
             ],
             [
              0.3333333333333333,
              "#9c179e"
             ],
             [
              0.4444444444444444,
              "#bd3786"
             ],
             [
              0.5555555555555556,
              "#d8576b"
             ],
             [
              0.6666666666666666,
              "#ed7953"
             ],
             [
              0.7777777777777778,
              "#fb9f3a"
             ],
             [
              0.8888888888888888,
              "#fdca26"
             ],
             [
              1,
              "#f0f921"
             ]
            ],
            "type": "histogram2d"
           }
          ],
          "histogram2dcontour": [
           {
            "colorbar": {
             "outlinewidth": 0,
             "ticks": ""
            },
            "colorscale": [
             [
              0,
              "#0d0887"
             ],
             [
              0.1111111111111111,
              "#46039f"
             ],
             [
              0.2222222222222222,
              "#7201a8"
             ],
             [
              0.3333333333333333,
              "#9c179e"
             ],
             [
              0.4444444444444444,
              "#bd3786"
             ],
             [
              0.5555555555555556,
              "#d8576b"
             ],
             [
              0.6666666666666666,
              "#ed7953"
             ],
             [
              0.7777777777777778,
              "#fb9f3a"
             ],
             [
              0.8888888888888888,
              "#fdca26"
             ],
             [
              1,
              "#f0f921"
             ]
            ],
            "type": "histogram2dcontour"
           }
          ],
          "mesh3d": [
           {
            "colorbar": {
             "outlinewidth": 0,
             "ticks": ""
            },
            "type": "mesh3d"
           }
          ],
          "parcoords": [
           {
            "line": {
             "colorbar": {
              "outlinewidth": 0,
              "ticks": ""
             }
            },
            "type": "parcoords"
           }
          ],
          "pie": [
           {
            "automargin": true,
            "type": "pie"
           }
          ],
          "scatter": [
           {
            "fillpattern": {
             "fillmode": "overlay",
             "size": 10,
             "solidity": 0.2
            },
            "type": "scatter"
           }
          ],
          "scatter3d": [
           {
            "line": {
             "colorbar": {
              "outlinewidth": 0,
              "ticks": ""
             }
            },
            "marker": {
             "colorbar": {
              "outlinewidth": 0,
              "ticks": ""
             }
            },
            "type": "scatter3d"
           }
          ],
          "scattercarpet": [
           {
            "marker": {
             "colorbar": {
              "outlinewidth": 0,
              "ticks": ""
             }
            },
            "type": "scattercarpet"
           }
          ],
          "scattergeo": [
           {
            "marker": {
             "colorbar": {
              "outlinewidth": 0,
              "ticks": ""
             }
            },
            "type": "scattergeo"
           }
          ],
          "scattergl": [
           {
            "marker": {
             "colorbar": {
              "outlinewidth": 0,
              "ticks": ""
             }
            },
            "type": "scattergl"
           }
          ],
          "scattermapbox": [
           {
            "marker": {
             "colorbar": {
              "outlinewidth": 0,
              "ticks": ""
             }
            },
            "type": "scattermapbox"
           }
          ],
          "scatterpolar": [
           {
            "marker": {
             "colorbar": {
              "outlinewidth": 0,
              "ticks": ""
             }
            },
            "type": "scatterpolar"
           }
          ],
          "scatterpolargl": [
           {
            "marker": {
             "colorbar": {
              "outlinewidth": 0,
              "ticks": ""
             }
            },
            "type": "scatterpolargl"
           }
          ],
          "scatterternary": [
           {
            "marker": {
             "colorbar": {
              "outlinewidth": 0,
              "ticks": ""
             }
            },
            "type": "scatterternary"
           }
          ],
          "surface": [
           {
            "colorbar": {
             "outlinewidth": 0,
             "ticks": ""
            },
            "colorscale": [
             [
              0,
              "#0d0887"
             ],
             [
              0.1111111111111111,
              "#46039f"
             ],
             [
              0.2222222222222222,
              "#7201a8"
             ],
             [
              0.3333333333333333,
              "#9c179e"
             ],
             [
              0.4444444444444444,
              "#bd3786"
             ],
             [
              0.5555555555555556,
              "#d8576b"
             ],
             [
              0.6666666666666666,
              "#ed7953"
             ],
             [
              0.7777777777777778,
              "#fb9f3a"
             ],
             [
              0.8888888888888888,
              "#fdca26"
             ],
             [
              1,
              "#f0f921"
             ]
            ],
            "type": "surface"
           }
          ],
          "table": [
           {
            "cells": {
             "fill": {
              "color": "#EBF0F8"
             },
             "line": {
              "color": "white"
             }
            },
            "header": {
             "fill": {
              "color": "#C8D4E3"
             },
             "line": {
              "color": "white"
             }
            },
            "type": "table"
           }
          ]
         },
         "layout": {
          "annotationdefaults": {
           "arrowcolor": "#2a3f5f",
           "arrowhead": 0,
           "arrowwidth": 1
          },
          "autotypenumbers": "strict",
          "coloraxis": {
           "colorbar": {
            "outlinewidth": 0,
            "ticks": ""
           }
          },
          "colorscale": {
           "diverging": [
            [
             0,
             "#8e0152"
            ],
            [
             0.1,
             "#c51b7d"
            ],
            [
             0.2,
             "#de77ae"
            ],
            [
             0.3,
             "#f1b6da"
            ],
            [
             0.4,
             "#fde0ef"
            ],
            [
             0.5,
             "#f7f7f7"
            ],
            [
             0.6,
             "#e6f5d0"
            ],
            [
             0.7,
             "#b8e186"
            ],
            [
             0.8,
             "#7fbc41"
            ],
            [
             0.9,
             "#4d9221"
            ],
            [
             1,
             "#276419"
            ]
           ],
           "sequential": [
            [
             0,
             "#0d0887"
            ],
            [
             0.1111111111111111,
             "#46039f"
            ],
            [
             0.2222222222222222,
             "#7201a8"
            ],
            [
             0.3333333333333333,
             "#9c179e"
            ],
            [
             0.4444444444444444,
             "#bd3786"
            ],
            [
             0.5555555555555556,
             "#d8576b"
            ],
            [
             0.6666666666666666,
             "#ed7953"
            ],
            [
             0.7777777777777778,
             "#fb9f3a"
            ],
            [
             0.8888888888888888,
             "#fdca26"
            ],
            [
             1,
             "#f0f921"
            ]
           ],
           "sequentialminus": [
            [
             0,
             "#0d0887"
            ],
            [
             0.1111111111111111,
             "#46039f"
            ],
            [
             0.2222222222222222,
             "#7201a8"
            ],
            [
             0.3333333333333333,
             "#9c179e"
            ],
            [
             0.4444444444444444,
             "#bd3786"
            ],
            [
             0.5555555555555556,
             "#d8576b"
            ],
            [
             0.6666666666666666,
             "#ed7953"
            ],
            [
             0.7777777777777778,
             "#fb9f3a"
            ],
            [
             0.8888888888888888,
             "#fdca26"
            ],
            [
             1,
             "#f0f921"
            ]
           ]
          },
          "colorway": [
           "#636efa",
           "#EF553B",
           "#00cc96",
           "#ab63fa",
           "#FFA15A",
           "#19d3f3",
           "#FF6692",
           "#B6E880",
           "#FF97FF",
           "#FECB52"
          ],
          "font": {
           "color": "#2a3f5f"
          },
          "geo": {
           "bgcolor": "white",
           "lakecolor": "white",
           "landcolor": "#E5ECF6",
           "showlakes": true,
           "showland": true,
           "subunitcolor": "white"
          },
          "hoverlabel": {
           "align": "left"
          },
          "hovermode": "closest",
          "mapbox": {
           "style": "light"
          },
          "paper_bgcolor": "white",
          "plot_bgcolor": "#E5ECF6",
          "polar": {
           "angularaxis": {
            "gridcolor": "white",
            "linecolor": "white",
            "ticks": ""
           },
           "bgcolor": "#E5ECF6",
           "radialaxis": {
            "gridcolor": "white",
            "linecolor": "white",
            "ticks": ""
           }
          },
          "scene": {
           "xaxis": {
            "backgroundcolor": "#E5ECF6",
            "gridcolor": "white",
            "gridwidth": 2,
            "linecolor": "white",
            "showbackground": true,
            "ticks": "",
            "zerolinecolor": "white"
           },
           "yaxis": {
            "backgroundcolor": "#E5ECF6",
            "gridcolor": "white",
            "gridwidth": 2,
            "linecolor": "white",
            "showbackground": true,
            "ticks": "",
            "zerolinecolor": "white"
           },
           "zaxis": {
            "backgroundcolor": "#E5ECF6",
            "gridcolor": "white",
            "gridwidth": 2,
            "linecolor": "white",
            "showbackground": true,
            "ticks": "",
            "zerolinecolor": "white"
           }
          },
          "shapedefaults": {
           "line": {
            "color": "#2a3f5f"
           }
          },
          "ternary": {
           "aaxis": {
            "gridcolor": "white",
            "linecolor": "white",
            "ticks": ""
           },
           "baxis": {
            "gridcolor": "white",
            "linecolor": "white",
            "ticks": ""
           },
           "bgcolor": "#E5ECF6",
           "caxis": {
            "gridcolor": "white",
            "linecolor": "white",
            "ticks": ""
           }
          },
          "title": {
           "x": 0.05
          },
          "xaxis": {
           "automargin": true,
           "gridcolor": "white",
           "linecolor": "white",
           "ticks": "",
           "title": {
            "standoff": 15
           },
           "zerolinecolor": "white",
           "zerolinewidth": 2
          },
          "yaxis": {
           "automargin": true,
           "gridcolor": "white",
           "linecolor": "white",
           "ticks": "",
           "title": {
            "standoff": 15
           },
           "zerolinecolor": "white",
           "zerolinewidth": 2
          }
         }
        },
        "title": {
         "text": "",
         "x": 0.5
        },
        "width": 800,
        "xaxis": {
         "anchor": "y",
         "domain": [
          0,
          1
         ],
         "linecolor": "black",
         "mirror": false,
         "showgrid": false,
         "showline": true,
         "ticks": "outside",
         "title": {
          "text": ""
         }
        },
        "yaxis": {
         "anchor": "x",
         "domain": [
          0,
          1
         ],
         "linecolor": "black",
         "mirror": false,
         "range": [
          0,
          0.6
         ],
         "showgrid": false,
         "showline": true,
         "ticks": "outside",
         "title": {
          "text": "Phoneme decoding accuracy"
         }
        }
       }
      }
     },
     "metadata": {},
     "output_type": "display_data"
    }
   ],
   "source": [
    "fig_ind = 'pAll'\n",
    "fig_df = decode_df_long[decode_df_long['Phoneme Index'] == fig_ind].drop(columns=['Phoneme Index']).groupby(['Patient', 'Decoding Context'], sort=False).mean().reset_index()\n",
    "\n",
    "fig = px.line(fig_df, x='Decoding Context', y=\"accuracy\", color='Patient', width=800, height=600, color_discrete_sequence=px.colors.qualitative.Plotly)\n",
    "fig.add_traces(px.box(fig_df, x='Decoding Context', y=\"accuracy\").data)\n",
    "fig.add_hline(y=1/9, line_dash='dash', line_color='grey', annotation_text='Chance', annotation_position='bottom right')\n",
    "fig.update_layout(\n",
    "    plot_bgcolor='white',\n",
    "    legend=dict(\n",
    "        orientation='h',\n",
    "        yanchor='bottom',\n",
    "        y=0.02,\n",
    "        xanchor='left',\n",
    "        x=0.01,\n",
    "        title_text=''\n",
    "    ),\n",
    "    title_text='',\n",
    "    title_x=0.5,\n",
    "    font=dict(size=20, family='Arial')\n",
    ")\n",
    "fig.update_xaxes(\n",
    "    title='',\n",
    "    mirror=False,\n",
    "    ticks='outside',\n",
    "    showline=True,\n",
    "    linecolor='black',\n",
    "    showgrid=False,\n",
    ")\n",
    "fig.update_yaxes(\n",
    "    title='Phoneme decoding accuracy',\n",
    "    mirror=False,\n",
    "    ticks='outside',\n",
    "    showline=True,\n",
    "    linecolor='black',\n",
    "    showgrid=False,\n",
    "    range=[0, 0.6]\n",
    ")\n",
    "fig.show()"
   ]
  },
  {
   "cell_type": "code",
   "execution_count": 33,
   "metadata": {},
   "outputs": [
    {
     "name": "stdout",
     "output_type": "stream",
     "text": [
      "                Anova\n",
      "=====================================\n",
      "        F Value Num DF  Den DF Pr > F\n",
      "-------------------------------------\n",
      "context 12.5894 2.0000 14.0000 0.0007\n",
      "=====================================\n",
      "\n",
      "##### Uncorrected Follow-up #####\n",
      "CCA vs. PS: TtestResult(statistic=3.0666845326777143, pvalue=0.018151935612019863, df=7)\n",
      "CCA vs. Unaligned: TtestResult(statistic=4.056559848488222, pvalue=0.004830556917769789, df=7)\n",
      "PS vs. Unaligned: TtestResult(statistic=2.727601141474397, pvalue=0.029440510464263762, df=7)\n",
      "##### FDR Correction #####\n",
      "CCA vs. PS: 0.027227903418029796\n",
      "CCA vs. Unaligned: 0.014491670753309366\n",
      "PS vs. Unaligned: 0.029440510464263762\n",
      "Pass significance: [ True  True  True]\n"
     ]
    }
   ],
   "source": [
    "fig_df = decode_df_long[decode_df_long['Phoneme Index'] == fig_ind].drop(columns=['Phoneme Index']).groupby(['Patient', 'Decoding Context'], sort=False).mean().reset_index()\n",
    "rm_df = fig_df.rename(columns={'Decoding Context': 'context'})\n",
    "\n",
    "print(AnovaRM(data=rm_df, depvar='accuracy', subject='Patient', within=['context']).fit())\n",
    "\n",
    "grp_spf = fig_df[fig_df['Decoding Context'] == 'Patient-specific']['accuracy']\n",
    "grp_una = fig_df[fig_df['Decoding Context'] == 'Unaligned cross-patient']['accuracy']\n",
    "grp_cca = fig_df[fig_df['Decoding Context'] == 'Aligned cross-patient']['accuracy']\n",
    "\n",
    "grp_cca_ps_res = stats.ttest_rel(grp_cca, grp_spf)\n",
    "grp_cca_una_res = stats.ttest_rel(grp_cca, grp_una)\n",
    "grp_ps_una_res = stats.ttest_rel(grp_spf, grp_una)\n",
    "\n",
    "print('##### Uncorrected Follow-up #####')\n",
    "print(f'CCA vs. PS: {grp_cca_ps_res}')\n",
    "print(f'CCA vs. Unaligned: {grp_cca_una_res}')\n",
    "print(f'PS vs. Unaligned: {grp_ps_una_res}')\n",
    "\n",
    "grp_p_arr = [grp_cca_ps_res.pvalue, grp_cca_una_res.pvalue, grp_ps_una_res.pvalue]\n",
    "\n",
    "print('##### FDR Correction #####')\n",
    "p_arr_corr = fdrcorrection(grp_p_arr)\n",
    "print(f'CCA vs. PS: {p_arr_corr[1][0]}')\n",
    "print(f'CCA vs. Unaligned: {p_arr_corr[1][1]}')\n",
    "print(f'PS vs. Unaligned: {p_arr_corr[1][2]}')\n",
    "print(f'Pass significance: {p_arr_corr[0]}')\n"
   ]
  },
  {
   "cell_type": "markdown",
   "metadata": {},
   "source": [
    "### Panel c"
   ]
  },
  {
   "cell_type": "code",
   "execution_count": 8,
   "metadata": {},
   "outputs": [],
   "source": [
    "pt_list = ['S14', 'S26', 'S33', 'S22', 'S23', 'S39', 'S58', 'S62']\n",
    "\n",
    "pInd_list = [-1]\n",
    "\n",
    "tss_list = [20, 40, 60, 80, 100]\n",
    "\n",
    "wide_dfs = []\n",
    "long_dfs = []\n",
    "for pt in pt_list:\n",
    "    for p_ind in pInd_list:\n",
    "        p_str = 'pAll' if p_ind == -1 else f'p{p_ind}'\n",
    "        for tss_r in tss_list:\n",
    "            tss_str = 'trSubsamp' + str(tss_r) + '_'\n",
    "\n",
    "            p_tar = np.zeros((2, 50))\n",
    "            if tss_r == 100:\n",
    "                tss_str = ''\n",
    "\n",
    "            p_tar[0,:] = cmat_wrap(*[utils.load_pkl(DATA_PATH + f'ptSpecific/{pt}/trial_subsampling/{pt}_{p_str}_{tss_str}ptSpecific_rbf_noCV_20fold.pkl')[k] for k in ['y_true', 'y_pred']])\n",
    "            p_tar[1,:] = cmat_wrap(*[utils.load_pkl(DATA_PATH + f'pooled/S62_added/{pt}/trial_subsampling/cca/{pt}_{p_str}_{tss_str}pooled_ccaAligned_rbf_noCV_20fold.pkl')[k] for k in ['y_true', 'y_pred']])\n",
    "            decode_df = pd.DataFrame(p_tar.T, columns=['Patient-specific', 'Aligned cross-patient'])\n",
    "\n",
    "            wide_dfs.append(decode_df)\n",
    "            decode_df = pd.melt(decode_df, var_name='Decoding Context', value_name='Decoding Accuracy')\n",
    "            decode_df['Patient'] = paper_pt_dict[pt]\n",
    "            decode_df['Phoneme Index'] = p_str\n",
    "            decode_df['Subsampling Ratio'] = tss_r\n",
    "            cols = decode_df.columns.tolist()\n",
    "            cols = cols[-2:] + cols[:-2]\n",
    "            decode_df = decode_df[cols]\n",
    "            long_dfs.append(decode_df)\n",
    "tss_df_wide = pd.concat(wide_dfs)\n",
    "tss_df_long = pd.concat(long_dfs)"
   ]
  },
  {
   "cell_type": "code",
   "execution_count": 9,
   "metadata": {},
   "outputs": [
    {
     "data": {
      "application/vnd.microsoft.datawrangler.viewer.v0+json": {
       "columns": [
        {
         "name": "index",
         "rawType": "int64",
         "type": "integer"
        },
        {
         "name": "Phoneme Index",
         "rawType": "object",
         "type": "string"
        },
        {
         "name": "Subsampling Ratio",
         "rawType": "int64",
         "type": "integer"
        },
        {
         "name": "Decoding Context",
         "rawType": "object",
         "type": "string"
        },
        {
         "name": "Decoding Accuracy",
         "rawType": "float64",
         "type": "float"
        },
        {
         "name": "Patient",
         "rawType": "object",
         "type": "string"
        }
       ],
       "conversionMethod": "pd.DataFrame",
       "ref": "91a0676f-e102-4133-89ba-c220fa0c7e2e",
       "rows": [
        [
         "0",
         "pAll",
         "20",
         "Patient-specific",
         "0.24305555555555555",
         "S1"
        ],
        [
         "1",
         "pAll",
         "20",
         "Patient-specific",
         "0.2523148148148148",
         "S1"
        ],
        [
         "2",
         "pAll",
         "20",
         "Patient-specific",
         "0.26157407407407407",
         "S1"
        ],
        [
         "3",
         "pAll",
         "20",
         "Patient-specific",
         "0.27314814814814814",
         "S1"
        ],
        [
         "4",
         "pAll",
         "20",
         "Patient-specific",
         "0.25",
         "S1"
        ],
        [
         "5",
         "pAll",
         "20",
         "Patient-specific",
         "0.2523148148148148",
         "S1"
        ],
        [
         "6",
         "pAll",
         "20",
         "Patient-specific",
         "0.26157407407407407",
         "S1"
        ],
        [
         "7",
         "pAll",
         "20",
         "Patient-specific",
         "0.25462962962962965",
         "S1"
        ],
        [
         "8",
         "pAll",
         "20",
         "Patient-specific",
         "0.24305555555555555",
         "S1"
        ],
        [
         "9",
         "pAll",
         "20",
         "Patient-specific",
         "0.24768518518518517",
         "S1"
        ],
        [
         "10",
         "pAll",
         "20",
         "Patient-specific",
         "0.2662037037037037",
         "S1"
        ],
        [
         "11",
         "pAll",
         "20",
         "Patient-specific",
         "0.2962962962962963",
         "S1"
        ],
        [
         "12",
         "pAll",
         "20",
         "Patient-specific",
         "0.2152777777777778",
         "S1"
        ],
        [
         "13",
         "pAll",
         "20",
         "Patient-specific",
         "0.2638888888888889",
         "S1"
        ],
        [
         "14",
         "pAll",
         "20",
         "Patient-specific",
         "0.2777777777777778",
         "S1"
        ],
        [
         "15",
         "pAll",
         "20",
         "Patient-specific",
         "0.2523148148148148",
         "S1"
        ],
        [
         "16",
         "pAll",
         "20",
         "Patient-specific",
         "0.2152777777777778",
         "S1"
        ],
        [
         "17",
         "pAll",
         "20",
         "Patient-specific",
         "0.26157407407407407",
         "S1"
        ],
        [
         "18",
         "pAll",
         "20",
         "Patient-specific",
         "0.27314814814814814",
         "S1"
        ],
        [
         "19",
         "pAll",
         "20",
         "Patient-specific",
         "0.2708333333333333",
         "S1"
        ],
        [
         "20",
         "pAll",
         "20",
         "Patient-specific",
         "0.24768518518518517",
         "S1"
        ],
        [
         "21",
         "pAll",
         "20",
         "Patient-specific",
         "0.2523148148148148",
         "S1"
        ],
        [
         "22",
         "pAll",
         "20",
         "Patient-specific",
         "0.24768518518518517",
         "S1"
        ],
        [
         "23",
         "pAll",
         "20",
         "Patient-specific",
         "0.24537037037037038",
         "S1"
        ],
        [
         "24",
         "pAll",
         "20",
         "Patient-specific",
         "0.24768518518518517",
         "S1"
        ],
        [
         "25",
         "pAll",
         "20",
         "Patient-specific",
         "0.26851851851851855",
         "S1"
        ],
        [
         "26",
         "pAll",
         "20",
         "Patient-specific",
         "0.2569444444444444",
         "S1"
        ],
        [
         "27",
         "pAll",
         "20",
         "Patient-specific",
         "0.26157407407407407",
         "S1"
        ],
        [
         "28",
         "pAll",
         "20",
         "Patient-specific",
         "0.26157407407407407",
         "S1"
        ],
        [
         "29",
         "pAll",
         "20",
         "Patient-specific",
         "0.21296296296296297",
         "S1"
        ],
        [
         "30",
         "pAll",
         "20",
         "Patient-specific",
         "0.2962962962962963",
         "S1"
        ],
        [
         "31",
         "pAll",
         "20",
         "Patient-specific",
         "0.26851851851851855",
         "S1"
        ],
        [
         "32",
         "pAll",
         "20",
         "Patient-specific",
         "0.2523148148148148",
         "S1"
        ],
        [
         "33",
         "pAll",
         "20",
         "Patient-specific",
         "0.24074074074074073",
         "S1"
        ],
        [
         "34",
         "pAll",
         "20",
         "Patient-specific",
         "0.25925925925925924",
         "S1"
        ],
        [
         "35",
         "pAll",
         "20",
         "Patient-specific",
         "0.2824074074074074",
         "S1"
        ],
        [
         "36",
         "pAll",
         "20",
         "Patient-specific",
         "0.2569444444444444",
         "S1"
        ],
        [
         "37",
         "pAll",
         "20",
         "Patient-specific",
         "0.24537037037037038",
         "S1"
        ],
        [
         "38",
         "pAll",
         "20",
         "Patient-specific",
         "0.25462962962962965",
         "S1"
        ],
        [
         "39",
         "pAll",
         "20",
         "Patient-specific",
         "0.26157407407407407",
         "S1"
        ],
        [
         "40",
         "pAll",
         "20",
         "Patient-specific",
         "0.24537037037037038",
         "S1"
        ],
        [
         "41",
         "pAll",
         "20",
         "Patient-specific",
         "0.2847222222222222",
         "S1"
        ],
        [
         "42",
         "pAll",
         "20",
         "Patient-specific",
         "0.26157407407407407",
         "S1"
        ],
        [
         "43",
         "pAll",
         "20",
         "Patient-specific",
         "0.24305555555555555",
         "S1"
        ],
        [
         "44",
         "pAll",
         "20",
         "Patient-specific",
         "0.26157407407407407",
         "S1"
        ],
        [
         "45",
         "pAll",
         "20",
         "Patient-specific",
         "0.27314814814814814",
         "S1"
        ],
        [
         "46",
         "pAll",
         "20",
         "Patient-specific",
         "0.25925925925925924",
         "S1"
        ],
        [
         "47",
         "pAll",
         "20",
         "Patient-specific",
         "0.2847222222222222",
         "S1"
        ],
        [
         "48",
         "pAll",
         "20",
         "Patient-specific",
         "0.2638888888888889",
         "S1"
        ],
        [
         "49",
         "pAll",
         "20",
         "Patient-specific",
         "0.2361111111111111",
         "S1"
        ]
       ],
       "shape": {
        "columns": 5,
        "rows": 4000
       }
      },
      "text/html": [
       "<div>\n",
       "<style scoped>\n",
       "    .dataframe tbody tr th:only-of-type {\n",
       "        vertical-align: middle;\n",
       "    }\n",
       "\n",
       "    .dataframe tbody tr th {\n",
       "        vertical-align: top;\n",
       "    }\n",
       "\n",
       "    .dataframe thead th {\n",
       "        text-align: right;\n",
       "    }\n",
       "</style>\n",
       "<table border=\"1\" class=\"dataframe\">\n",
       "  <thead>\n",
       "    <tr style=\"text-align: right;\">\n",
       "      <th></th>\n",
       "      <th>Phoneme Index</th>\n",
       "      <th>Subsampling Ratio</th>\n",
       "      <th>Decoding Context</th>\n",
       "      <th>Decoding Accuracy</th>\n",
       "      <th>Patient</th>\n",
       "    </tr>\n",
       "  </thead>\n",
       "  <tbody>\n",
       "    <tr>\n",
       "      <th>0</th>\n",
       "      <td>pAll</td>\n",
       "      <td>20</td>\n",
       "      <td>Patient-specific</td>\n",
       "      <td>0.243056</td>\n",
       "      <td>S1</td>\n",
       "    </tr>\n",
       "    <tr>\n",
       "      <th>1</th>\n",
       "      <td>pAll</td>\n",
       "      <td>20</td>\n",
       "      <td>Patient-specific</td>\n",
       "      <td>0.252315</td>\n",
       "      <td>S1</td>\n",
       "    </tr>\n",
       "    <tr>\n",
       "      <th>2</th>\n",
       "      <td>pAll</td>\n",
       "      <td>20</td>\n",
       "      <td>Patient-specific</td>\n",
       "      <td>0.261574</td>\n",
       "      <td>S1</td>\n",
       "    </tr>\n",
       "    <tr>\n",
       "      <th>3</th>\n",
       "      <td>pAll</td>\n",
       "      <td>20</td>\n",
       "      <td>Patient-specific</td>\n",
       "      <td>0.273148</td>\n",
       "      <td>S1</td>\n",
       "    </tr>\n",
       "    <tr>\n",
       "      <th>4</th>\n",
       "      <td>pAll</td>\n",
       "      <td>20</td>\n",
       "      <td>Patient-specific</td>\n",
       "      <td>0.250000</td>\n",
       "      <td>S1</td>\n",
       "    </tr>\n",
       "    <tr>\n",
       "      <th>...</th>\n",
       "      <td>...</td>\n",
       "      <td>...</td>\n",
       "      <td>...</td>\n",
       "      <td>...</td>\n",
       "      <td>...</td>\n",
       "    </tr>\n",
       "    <tr>\n",
       "      <th>95</th>\n",
       "      <td>pAll</td>\n",
       "      <td>100</td>\n",
       "      <td>Aligned cross-patient</td>\n",
       "      <td>0.323970</td>\n",
       "      <td>S8</td>\n",
       "    </tr>\n",
       "    <tr>\n",
       "      <th>96</th>\n",
       "      <td>pAll</td>\n",
       "      <td>100</td>\n",
       "      <td>Aligned cross-patient</td>\n",
       "      <td>0.340824</td>\n",
       "      <td>S8</td>\n",
       "    </tr>\n",
       "    <tr>\n",
       "      <th>97</th>\n",
       "      <td>pAll</td>\n",
       "      <td>100</td>\n",
       "      <td>Aligned cross-patient</td>\n",
       "      <td>0.340824</td>\n",
       "      <td>S8</td>\n",
       "    </tr>\n",
       "    <tr>\n",
       "      <th>98</th>\n",
       "      <td>pAll</td>\n",
       "      <td>100</td>\n",
       "      <td>Aligned cross-patient</td>\n",
       "      <td>0.322097</td>\n",
       "      <td>S8</td>\n",
       "    </tr>\n",
       "    <tr>\n",
       "      <th>99</th>\n",
       "      <td>pAll</td>\n",
       "      <td>100</td>\n",
       "      <td>Aligned cross-patient</td>\n",
       "      <td>0.329588</td>\n",
       "      <td>S8</td>\n",
       "    </tr>\n",
       "  </tbody>\n",
       "</table>\n",
       "<p>4000 rows × 5 columns</p>\n",
       "</div>"
      ],
      "text/plain": [
       "   Phoneme Index  Subsampling Ratio       Decoding Context  Decoding Accuracy  \\\n",
       "0           pAll                 20       Patient-specific           0.243056   \n",
       "1           pAll                 20       Patient-specific           0.252315   \n",
       "2           pAll                 20       Patient-specific           0.261574   \n",
       "3           pAll                 20       Patient-specific           0.273148   \n",
       "4           pAll                 20       Patient-specific           0.250000   \n",
       "..           ...                ...                    ...                ...   \n",
       "95          pAll                100  Aligned cross-patient           0.323970   \n",
       "96          pAll                100  Aligned cross-patient           0.340824   \n",
       "97          pAll                100  Aligned cross-patient           0.340824   \n",
       "98          pAll                100  Aligned cross-patient           0.322097   \n",
       "99          pAll                100  Aligned cross-patient           0.329588   \n",
       "\n",
       "   Patient  \n",
       "0       S1  \n",
       "1       S1  \n",
       "2       S1  \n",
       "3       S1  \n",
       "4       S1  \n",
       "..     ...  \n",
       "95      S8  \n",
       "96      S8  \n",
       "97      S8  \n",
       "98      S8  \n",
       "99      S8  \n",
       "\n",
       "[4000 rows x 5 columns]"
      ]
     },
     "execution_count": 9,
     "metadata": {},
     "output_type": "execute_result"
    }
   ],
   "source": [
    "tss_df_long"
   ]
  },
  {
   "cell_type": "code",
   "execution_count": 10,
   "metadata": {},
   "outputs": [
    {
     "data": {
      "image/png": "[encoded data removed]",
      "text/plain": [
       "<Figure size 1800x600 with 8 Axes>"
      ]
     },
     "metadata": {},
     "output_type": "display_data"
    }
   ],
   "source": [
    "g = sns.FacetGrid(tss_df_long, col='Patient', col_wrap=4, height=3, aspect=1.5, sharey=False)\n",
    "g.map(sns.lineplot, 'Subsampling Ratio', 'Decoding Accuracy', 'Decoding Context', marker='o', errorbar='sd', palette=['#636EFA', '#AB63FA'])\n",
    "\n",
    "for g_ax in g.axes:\n",
    "    g_ax.axhline(1/9, color='grey', linestyle='--')\n",
    "    g_ax.set_ylim(0, None)\n",
    "    g_ax.legend()\n",
    "\n",
    "sns.despine()\n",
    "plt.show()"
   ]
  },
  {
   "cell_type": "code",
   "execution_count": 17,
   "metadata": {},
   "outputs": [],
   "source": [
    "mean_tss_df = tss_df_long[tss_df_long['Phoneme Index'] == 'pAll'].drop(columns=['Phoneme Index']).groupby(['Subsampling Ratio', 'Decoding Context', 'Patient'], sort=False).mean().reset_index()"
   ]
  },
  {
   "cell_type": "code",
   "execution_count": 18,
   "metadata": {},
   "outputs": [
    {
     "data": {
      "image/png": "[encoded data removed]",
      "text/plain": [
       "<Figure size 700x600 with 1 Axes>"
      ]
     },
     "metadata": {},
     "output_type": "display_data"
    }
   ],
   "source": [
    "plt.subplots(1,1,figsize=(7,6))\n",
    "\n",
    "sns.lineplot(data=mean_tss_df, x='Subsampling Ratio', y='Decoding Accuracy', hue='Decoding Context', marker='o', errorbar='sd', palette=['#636EFA', '#AB63FA'])\n",
    "plt.axhline(1/9, color='grey', linestyle='--')\n",
    "plt.xlabel('')\n",
    "plt.ylabel('')\n",
    "plt.ylim(0.05, 0.5)\n",
    "plt.yticks(np.arange(0, 0.55, 0.1))\n",
    "plt.legend(loc='upper left')\n",
    "\n",
    "sns.despine()\n",
    "plt.show()"
   ]
  },
  {
   "cell_type": "code",
   "execution_count": 21,
   "metadata": {},
   "outputs": [
    {
     "name": "stdout",
     "output_type": "stream",
     "text": [
      "[ True  True  True  True  True]\n",
      "Subsampling Ratio: 20 - statistic: 0.079344138155938, p-value: 0.0078125, FDR-corrected p-value: 0.0078125\n",
      "Subsampling Ratio: 40 - statistic: 0.08038406650394458, p-value: 0.0078125, FDR-corrected p-value: 0.0078125\n",
      "Subsampling Ratio: 60 - statistic: 0.08085727036583634, p-value: 0.0078125, FDR-corrected p-value: 0.0078125\n",
      "Subsampling Ratio: 80 - statistic: 0.07288258705400513, p-value: 0.0078125, FDR-corrected p-value: 0.0078125\n",
      "Subsampling Ratio: 100 - statistic: 0.06906440496789268, p-value: 0.0078125, FDR-corrected p-value: 0.0078125\n"
     ]
    }
   ],
   "source": [
    "def diff_stat(a,b,axis):\n",
    "    return np.mean(a, axis=axis) - np.mean(b, axis=axis)\n",
    "\n",
    "stat_data = []\n",
    "for tss in tss_list:\n",
    "    pt_spf = mean_tss_df[(mean_tss_df['Decoding Context'] == 'Patient-specific') & (mean_tss_df['Subsampling Ratio'] == tss)]['Decoding Accuracy']\n",
    "    cca = mean_tss_df[(mean_tss_df['Decoding Context'] == 'Aligned cross-patient') & (mean_tss_df['Subsampling Ratio'] == tss)]['Decoding Accuracy']\n",
    "\n",
    "    res = stats.permutation_test((cca, pt_spf), diff_stat, vectorized=True, permutation_type='samples')\n",
    "    stat_data.append((tss, res.statistic, res.pvalue))\n",
    "\n",
    "fdr_pass, fdr_pvals = fdrcorrection([p_val for _, _, p_val in stat_data])\n",
    "print(fdr_pass)\n",
    "for i in range(len(stat_data)):\n",
    "    print(f'Subsampling Ratio: {stat_data[i][0]} - statistic: {stat_data[i][1]}, p-value: {stat_data[i][2]}, FDR-corrected p-value: {fdr_pvals[i]}')"
   ]
  },
  {
   "cell_type": "markdown",
   "metadata": {},
   "source": [
    "### Panel d"
   ]
  },
  {
   "cell_type": "code",
   "execution_count": 19,
   "metadata": {},
   "outputs": [],
   "source": [
    "pt_spf_accs = []\n",
    "wide_dfs = []\n",
    "long_dfs = []\n",
    "for pt in pt_list:\n",
    "    ptSpf_acc = cmat_wrap(*[utils.load_pkl(DATA_PATH + f'ptSpecific/{pt}/{pt}_pAll_ptSpecific_rbf_noCV.pkl')[k] for k in ['y_true', 'y_pred']])\n",
    "\n",
    "    data_tar = utils.load_pkl(DATA_PATH + f'pooled/S62_added/{pt}/pooled_subsampling/{pt}_pAll_poolSamp_ccaAligned_rbf_noCV.pkl')\n",
    "    acc_mat_tar = data_tar['acc_mat']\n",
    "    trial_vec_tar = data_tar['trial_vec']\n",
    "    cps_tar_df = pd.DataFrame(acc_mat_tar.T, columns=trial_vec_tar)\n",
    "    wide_dfs.append(cps_tar_df)\n",
    "    cps_tar_df = pd.melt(cps_tar_df, var_name='Cross-patient trials', value_name='Decoding Accuracy')\n",
    "    cps_tar_df['Patient'] = paper_pt_dict[pt]\n",
    "    long_dfs.append(cps_tar_df)\n",
    "\n",
    "    pt_spf_accs.append(np.mean(ptSpf_acc))\n",
    "\n",
    "cps_df_wide = pd.concat(wide_dfs)\n",
    "cps_df_long = pd.concat(long_dfs)"
   ]
  },
  {
   "cell_type": "code",
   "execution_count": 20,
   "metadata": {},
   "outputs": [
    {
     "data": {
      "application/vnd.microsoft.datawrangler.viewer.v0+json": {
       "columns": [
        {
         "name": "index",
         "rawType": "int64",
         "type": "integer"
        },
        {
         "name": "Cross-patient trials",
         "rawType": "float64",
         "type": "float"
        },
        {
         "name": "Decoding Accuracy",
         "rawType": "float64",
         "type": "float"
        },
        {
         "name": "Patient",
         "rawType": "object",
         "type": "string"
        }
       ],
       "conversionMethod": "pd.DataFrame",
       "ref": "18345d1d-7bb8-49cf-abe5-b7d4ad0eea55",
       "rows": [
        [
         "0",
         "35.0",
         "0.3676767827620213",
         "S1"
        ],
        [
         "1",
         "35.0",
         "0.37531874967172274",
         "S1"
        ],
        [
         "2",
         "35.0",
         "0.37692026129806516",
         "S1"
        ],
        [
         "3",
         "35.0",
         "0.37802403541415736",
         "S1"
        ],
        [
         "4",
         "35.0",
         "0.3791467878754783",
         "S1"
        ],
        [
         "5",
         "35.0",
         "0.38739575078282623",
         "S1"
        ],
        [
         "6",
         "35.0",
         "0.3700573975942091",
         "S1"
        ],
        [
         "7",
         "35.0",
         "0.3850505681464902",
         "S1"
        ],
        [
         "8",
         "35.0",
         "0.4026014346495243",
         "S1"
        ],
        [
         "9",
         "35.0",
         "0.35863614985564163",
         "S1"
        ],
        [
         "10",
         "35.0",
         "0.3704310039553792",
         "S1"
        ],
        [
         "11",
         "35.0",
         "0.3895187796612264",
         "S1"
        ],
        [
         "12",
         "35.0",
         "0.3630166172795874",
         "S1"
        ],
        [
         "13",
         "35.0",
         "0.380056515754804",
         "S1"
        ],
        [
         "14",
         "35.0",
         "0.37987674515638736",
         "S1"
        ],
        [
         "15",
         "35.0",
         "0.39711922992441584",
         "S1"
        ],
        [
         "16",
         "35.0",
         "0.3636551145527101",
         "S1"
        ],
        [
         "17",
         "35.0",
         "0.4053309557597567",
         "S1"
        ],
        [
         "18",
         "35.0",
         "0.3735488815583826",
         "S1"
        ],
        [
         "19",
         "35.0",
         "0.36277339747115017",
         "S1"
        ],
        [
         "20",
         "35.0",
         "0.38404127045874803",
         "S1"
        ],
        [
         "21",
         "35.0",
         "0.3770747888402107",
         "S1"
        ],
        [
         "22",
         "35.0",
         "0.38998154803834595",
         "S1"
        ],
        [
         "23",
         "35.0",
         "0.396966203159647",
         "S1"
        ],
        [
         "24",
         "35.0",
         "0.3792109766614715",
         "S1"
        ],
        [
         "25",
         "35.0",
         "0.36845799163758725",
         "S1"
        ],
        [
         "26",
         "35.0",
         "0.3871400587470364",
         "S1"
        ],
        [
         "27",
         "35.0",
         "0.3736805674732128",
         "S1"
        ],
        [
         "28",
         "35.0",
         "0.3818223152993937",
         "S1"
        ],
        [
         "29",
         "35.0",
         "0.3743334517902761",
         "S1"
        ],
        [
         "30",
         "35.0",
         "0.38322374216318145",
         "S1"
        ],
        [
         "31",
         "35.0",
         "0.39683436656686155",
         "S1"
        ],
        [
         "32",
         "35.0",
         "0.3741642947415242",
         "S1"
        ],
        [
         "33",
         "35.0",
         "0.36277321939511636",
         "S1"
        ],
        [
         "34",
         "35.0",
         "0.36512819286984116",
         "S1"
        ],
        [
         "35",
         "35.0",
         "0.3768407955546709",
         "S1"
        ],
        [
         "36",
         "35.0",
         "0.3880420485360217",
         "S1"
        ],
        [
         "37",
         "35.0",
         "0.3754989386244907",
         "S1"
        ],
        [
         "38",
         "35.0",
         "0.37147857430664355",
         "S1"
        ],
        [
         "39",
         "35.0",
         "0.376055920282931",
         "S1"
        ],
        [
         "40",
         "35.0",
         "0.3738614359572398",
         "S1"
        ],
        [
         "41",
         "35.0",
         "0.3716432441836377",
         "S1"
        ],
        [
         "42",
         "35.0",
         "0.3577628590183103",
         "S1"
        ],
        [
         "43",
         "35.0",
         "0.38606663009923703",
         "S1"
        ],
        [
         "44",
         "35.0",
         "0.3669059819620078",
         "S1"
        ],
        [
         "45",
         "35.0",
         "0.3702880890019643",
         "S1"
        ],
        [
         "46",
         "35.0",
         "0.36818263978961746",
         "S1"
        ],
        [
         "47",
         "35.0",
         "0.3935218652940339",
         "S1"
        ],
        [
         "48",
         "35.0",
         "0.38801148806434915",
         "S1"
        ],
        [
         "49",
         "35.0",
         "0.38819982680930143",
         "S1"
        ]
       ],
       "shape": {
        "columns": 3,
        "rows": 7200
       }
      },
      "text/html": [
       "<div>\n",
       "<style scoped>\n",
       "    .dataframe tbody tr th:only-of-type {\n",
       "        vertical-align: middle;\n",
       "    }\n",
       "\n",
       "    .dataframe tbody tr th {\n",
       "        vertical-align: top;\n",
       "    }\n",
       "\n",
       "    .dataframe thead th {\n",
       "        text-align: right;\n",
       "    }\n",
       "</style>\n",
       "<table border=\"1\" class=\"dataframe\">\n",
       "  <thead>\n",
       "    <tr style=\"text-align: right;\">\n",
       "      <th></th>\n",
       "      <th>Cross-patient trials</th>\n",
       "      <th>Decoding Accuracy</th>\n",
       "      <th>Patient</th>\n",
       "    </tr>\n",
       "  </thead>\n",
       "  <tbody>\n",
       "    <tr>\n",
       "      <th>0</th>\n",
       "      <td>35.0</td>\n",
       "      <td>0.367677</td>\n",
       "      <td>S1</td>\n",
       "    </tr>\n",
       "    <tr>\n",
       "      <th>1</th>\n",
       "      <td>35.0</td>\n",
       "      <td>0.375319</td>\n",
       "      <td>S1</td>\n",
       "    </tr>\n",
       "    <tr>\n",
       "      <th>2</th>\n",
       "      <td>35.0</td>\n",
       "      <td>0.376920</td>\n",
       "      <td>S1</td>\n",
       "    </tr>\n",
       "    <tr>\n",
       "      <th>3</th>\n",
       "      <td>35.0</td>\n",
       "      <td>0.378024</td>\n",
       "      <td>S1</td>\n",
       "    </tr>\n",
       "    <tr>\n",
       "      <th>4</th>\n",
       "      <td>35.0</td>\n",
       "      <td>0.379147</td>\n",
       "      <td>S1</td>\n",
       "    </tr>\n",
       "    <tr>\n",
       "      <th>...</th>\n",
       "      <td>...</td>\n",
       "      <td>...</td>\n",
       "      <td>...</td>\n",
       "    </tr>\n",
       "    <tr>\n",
       "      <th>895</th>\n",
       "      <td>2692.0</td>\n",
       "      <td>0.290135</td>\n",
       "      <td>S8</td>\n",
       "    </tr>\n",
       "    <tr>\n",
       "      <th>896</th>\n",
       "      <td>2692.0</td>\n",
       "      <td>0.303433</td>\n",
       "      <td>S8</td>\n",
       "    </tr>\n",
       "    <tr>\n",
       "      <th>897</th>\n",
       "      <td>2692.0</td>\n",
       "      <td>0.317368</td>\n",
       "      <td>S8</td>\n",
       "    </tr>\n",
       "    <tr>\n",
       "      <th>898</th>\n",
       "      <td>2692.0</td>\n",
       "      <td>0.312152</td>\n",
       "      <td>S8</td>\n",
       "    </tr>\n",
       "    <tr>\n",
       "      <th>899</th>\n",
       "      <td>2692.0</td>\n",
       "      <td>0.306455</td>\n",
       "      <td>S8</td>\n",
       "    </tr>\n",
       "  </tbody>\n",
       "</table>\n",
       "<p>7200 rows × 3 columns</p>\n",
       "</div>"
      ],
      "text/plain": [
       "     Cross-patient trials  Decoding Accuracy Patient\n",
       "0                    35.0           0.367677      S1\n",
       "1                    35.0           0.375319      S1\n",
       "2                    35.0           0.376920      S1\n",
       "3                    35.0           0.378024      S1\n",
       "4                    35.0           0.379147      S1\n",
       "..                    ...                ...     ...\n",
       "895                2692.0           0.290135      S8\n",
       "896                2692.0           0.303433      S8\n",
       "897                2692.0           0.317368      S8\n",
       "898                2692.0           0.312152      S8\n",
       "899                2692.0           0.306455      S8\n",
       "\n",
       "[7200 rows x 3 columns]"
      ]
     },
     "execution_count": 20,
     "metadata": {},
     "output_type": "execute_result"
    }
   ],
   "source": [
    "cps_df_long"
   ]
  },
  {
   "cell_type": "code",
   "execution_count": 37,
   "metadata": {},
   "outputs": [
    {
     "data": {
      "image/png": "[encoded data removed]",
      "text/plain": [
       "<Figure size 1800x600 with 8 Axes>"
      ]
     },
     "metadata": {},
     "output_type": "display_data"
    }
   ],
   "source": [
    "g = sns.FacetGrid(cps_df_long, col='Patient', col_wrap=4, height=3, aspect=1.5, sharey=False)\n",
    "g.map(sns.lineplot, 'Cross-patient trials', 'Decoding Accuracy', marker='o', errorbar='sd', color='#AB63FA')\n",
    "\n",
    "for i, g_ax in enumerate(g.axes):\n",
    "    g_ax.axhline(1/9, color='grey', linestyle='--')\n",
    "    g_ax.axhline(pt_spf_accs[i], color='#636EFA', linestyle='--')\n",
    "    g_ax.set_ylim(0, None)\n",
    "\n",
    "sns.despine()\n",
    "plt.show()"
   ]
  },
  {
   "cell_type": "code",
   "execution_count": 24,
   "metadata": {},
   "outputs": [
    {
     "data": {
      "image/png": "[encoded data removed]",
      "text/plain": [
       "<Figure size 700x600 with 1 Axes>"
      ]
     },
     "metadata": {},
     "output_type": "display_data"
    }
   ],
   "source": [
    "fig_df = cps_df_long[cps_df_long['Patient'] == 'S5']\n",
    "mean_fig_df = fig_df.drop(columns=['Patient']).groupby('Cross-patient trials').mean().reset_index()\n",
    "diff_trials = mean_fig_df['Cross-patient trials'].values[1:]\n",
    "diff_acc = np.diff(mean_fig_df['Decoding Accuracy'].values)\n",
    "\n",
    "f, ax1 = plt.subplots(1, 1, sharex=True, figsize=(7,6))\n",
    "\n",
    "sns.lineplot(data=fig_df, x='Cross-patient trials', y='Decoding Accuracy', marker='o', errorbar='sd', ax=ax1, color='#AB63FA')\n",
    "ax1.axhline(1/9, color='grey', linestyle='--')\n",
    "ax1.axhline(np.mean(pt_spf_accs[4]), color='#636EFA', linestyle='--')\n",
    "ax1.set_xlabel('')\n",
    "ax1.set_ylabel('')\n",
    "\n",
    "# sns.lineplot(x=diff_trials, y=diff_acc, ax=ax2, color='#AB63FA')\n",
    "# ax2.set_xlabel('Cross-patient trials')\n",
    "\n",
    "\n",
    "sns.despine()\n",
    "plt.show()"
   ]
  },
  {
   "cell_type": "markdown",
   "metadata": {},
   "source": [
    "### Panel e"
   ]
  },
  {
   "cell_type": "code",
   "execution_count": 25,
   "metadata": {},
   "outputs": [],
   "source": [
    "pt_list = ['S14', 'S26', 'S33', 'S22', 'S23', 'S39', 'S58', 'S62']\n",
    "pInd_list = [-1]\n",
    "\n",
    "wide_dfs = []\n",
    "long_dfs = []\n",
    "for pt in pt_list:\n",
    "    for p_ind in pInd_list:\n",
    "        p_str = 'pAll' if p_ind == -1 else f'p{p_ind}'\n",
    "        \n",
    "        p_tar = np.empty((4, 50))\n",
    "        p_tar[:] = np.nan\n",
    "\n",
    "        # SVM accuracies\n",
    "        p_tar[0,:] = cmat_wrap(*[utils.load_pkl(DATA_PATH + f'ptSpecific/{pt}/{pt}_{p_str}_ptSpecific_rbf_noCV.pkl')[k] for k in ['y_true', 'y_pred']])\n",
    "        p_tar[1,:] = cmat_wrap(*[utils.load_pkl(DATA_PATH + f'pooled/S62_added/{pt}/cca/{pt}_{p_str}_pooled_ccaAlignedNew_rbf_noCV.pkl')[k] for k in ['y_true', 'y_pred']])\n",
    "\n",
    "        # RNN accuracies\n",
    "        ptSpf_rnn_accs = np.load(DATA_PATH + f'ptSpecific/{pt}/{pt}_ptSpecific_seq2seq_rnn_accs.npy').mean(axis=1)\n",
    "        p_tar[2,:len(ptSpf_rnn_accs)] = ptSpf_rnn_accs\n",
    "        algn_rnn_accs = np.load(DATA_PATH + f'pooled/S62_added/{pt}/cca/{pt}_pooled_val_seq2seq_rnn_accs.npy').mean(axis=1)\n",
    "        p_tar[3,:len(algn_rnn_accs)] = algn_rnn_accs\n",
    "\n",
    "        decode_df = pd.DataFrame(p_tar.T, columns=['Patient-specific_SVM', 'Aligned cross-patient_SVM', 'Patient-specific_RNN', 'Aligned cross-patient_RNN'])\n",
    "\n",
    "\n",
    "        wide_dfs.append(decode_df)\n",
    "        decode_df = pd.melt(decode_df, var_name='Decoding Context', value_name='accuracy')\n",
    "        decode_df['Model'] = decode_df['Decoding Context'].apply(lambda x: x.split('_')[1])\n",
    "        decode_df['Decoding Context'] = decode_df['Decoding Context'].apply(lambda x: x.split('_')[0])\n",
    "        decode_df['Patient'] = paper_pt_dict[pt]\n",
    "        cols = decode_df.columns.tolist()\n",
    "        cols = cols[-1:] + cols[:-1]\n",
    "        decode_df = decode_df[cols]\n",
    "        long_dfs.append(decode_df)\n",
    "        \n",
    "rnn_df_wide = pd.concat(wide_dfs)\n",
    "rnn_df_long = pd.concat(long_dfs)\n",
    "\n",
    "rnn_df_long = rnn_df_long.dropna()"
   ]
  },
  {
   "cell_type": "code",
   "execution_count": 26,
   "metadata": {},
   "outputs": [
    {
     "data": {
      "application/vnd.microsoft.datawrangler.viewer.v0+json": {
       "columns": [
        {
         "name": "index",
         "rawType": "int64",
         "type": "integer"
        },
        {
         "name": "Patient",
         "rawType": "object",
         "type": "string"
        },
        {
         "name": "Decoding Context",
         "rawType": "object",
         "type": "string"
        },
        {
         "name": "accuracy",
         "rawType": "float64",
         "type": "float"
        },
        {
         "name": "Model",
         "rawType": "object",
         "type": "string"
        }
       ],
       "conversionMethod": "pd.DataFrame",
       "ref": "48a06477-e7cc-4209-a427-735ceb7c1869",
       "rows": [
        [
         "0",
         "S1",
         "Patient-specific",
         "0.39814814814814814",
         "SVM"
        ],
        [
         "1",
         "S1",
         "Patient-specific",
         "0.3888888888888889",
         "SVM"
        ],
        [
         "2",
         "S1",
         "Patient-specific",
         "0.37962962962962965",
         "SVM"
        ],
        [
         "3",
         "S1",
         "Patient-specific",
         "0.36574074074074076",
         "SVM"
        ],
        [
         "4",
         "S1",
         "Patient-specific",
         "0.37037037037037035",
         "SVM"
        ],
        [
         "5",
         "S1",
         "Patient-specific",
         "0.3888888888888889",
         "SVM"
        ],
        [
         "6",
         "S1",
         "Patient-specific",
         "0.40046296296296297",
         "SVM"
        ],
        [
         "7",
         "S1",
         "Patient-specific",
         "0.33564814814814814",
         "SVM"
        ],
        [
         "8",
         "S1",
         "Patient-specific",
         "0.3819444444444444",
         "SVM"
        ],
        [
         "9",
         "S1",
         "Patient-specific",
         "0.38657407407407407",
         "SVM"
        ],
        [
         "10",
         "S1",
         "Patient-specific",
         "0.35648148148148145",
         "SVM"
        ],
        [
         "11",
         "S1",
         "Patient-specific",
         "0.39351851851851855",
         "SVM"
        ],
        [
         "12",
         "S1",
         "Patient-specific",
         "0.3958333333333333",
         "SVM"
        ],
        [
         "13",
         "S1",
         "Patient-specific",
         "0.3912037037037037",
         "SVM"
        ],
        [
         "14",
         "S1",
         "Patient-specific",
         "0.3680555555555556",
         "SVM"
        ],
        [
         "15",
         "S1",
         "Patient-specific",
         "0.3819444444444444",
         "SVM"
        ],
        [
         "16",
         "S1",
         "Patient-specific",
         "0.37037037037037035",
         "SVM"
        ],
        [
         "17",
         "S1",
         "Patient-specific",
         "0.3819444444444444",
         "SVM"
        ],
        [
         "18",
         "S1",
         "Patient-specific",
         "0.3611111111111111",
         "SVM"
        ],
        [
         "19",
         "S1",
         "Patient-specific",
         "0.3819444444444444",
         "SVM"
        ],
        [
         "20",
         "S1",
         "Patient-specific",
         "0.375",
         "SVM"
        ],
        [
         "21",
         "S1",
         "Patient-specific",
         "0.3888888888888889",
         "SVM"
        ],
        [
         "22",
         "S1",
         "Patient-specific",
         "0.375",
         "SVM"
        ],
        [
         "23",
         "S1",
         "Patient-specific",
         "0.3611111111111111",
         "SVM"
        ],
        [
         "24",
         "S1",
         "Patient-specific",
         "0.3773148148148148",
         "SVM"
        ],
        [
         "25",
         "S1",
         "Patient-specific",
         "0.39351851851851855",
         "SVM"
        ],
        [
         "26",
         "S1",
         "Patient-specific",
         "0.36342592592592593",
         "SVM"
        ],
        [
         "27",
         "S1",
         "Patient-specific",
         "0.39351851851851855",
         "SVM"
        ],
        [
         "28",
         "S1",
         "Patient-specific",
         "0.4050925925925926",
         "SVM"
        ],
        [
         "29",
         "S1",
         "Patient-specific",
         "0.35185185185185186",
         "SVM"
        ],
        [
         "30",
         "S1",
         "Patient-specific",
         "0.3888888888888889",
         "SVM"
        ],
        [
         "31",
         "S1",
         "Patient-specific",
         "0.4305555555555556",
         "SVM"
        ],
        [
         "32",
         "S1",
         "Patient-specific",
         "0.3726851851851852",
         "SVM"
        ],
        [
         "33",
         "S1",
         "Patient-specific",
         "0.37962962962962965",
         "SVM"
        ],
        [
         "34",
         "S1",
         "Patient-specific",
         "0.3819444444444444",
         "SVM"
        ],
        [
         "35",
         "S1",
         "Patient-specific",
         "0.36574074074074076",
         "SVM"
        ],
        [
         "36",
         "S1",
         "Patient-specific",
         "0.3912037037037037",
         "SVM"
        ],
        [
         "37",
         "S1",
         "Patient-specific",
         "0.3773148148148148",
         "SVM"
        ],
        [
         "38",
         "S1",
         "Patient-specific",
         "0.375",
         "SVM"
        ],
        [
         "39",
         "S1",
         "Patient-specific",
         "0.375",
         "SVM"
        ],
        [
         "40",
         "S1",
         "Patient-specific",
         "0.39814814814814814",
         "SVM"
        ],
        [
         "41",
         "S1",
         "Patient-specific",
         "0.37037037037037035",
         "SVM"
        ],
        [
         "42",
         "S1",
         "Patient-specific",
         "0.3680555555555556",
         "SVM"
        ],
        [
         "43",
         "S1",
         "Patient-specific",
         "0.39351851851851855",
         "SVM"
        ],
        [
         "44",
         "S1",
         "Patient-specific",
         "0.38657407407407407",
         "SVM"
        ],
        [
         "45",
         "S1",
         "Patient-specific",
         "0.3611111111111111",
         "SVM"
        ],
        [
         "46",
         "S1",
         "Patient-specific",
         "0.375",
         "SVM"
        ],
        [
         "47",
         "S1",
         "Patient-specific",
         "0.3587962962962963",
         "SVM"
        ],
        [
         "48",
         "S1",
         "Patient-specific",
         "0.3680555555555556",
         "SVM"
        ],
        [
         "49",
         "S1",
         "Patient-specific",
         "0.375",
         "SVM"
        ]
       ],
       "shape": {
        "columns": 4,
        "rows": 1540
       }
      },
      "text/html": [
       "<div>\n",
       "<style scoped>\n",
       "    .dataframe tbody tr th:only-of-type {\n",
       "        vertical-align: middle;\n",
       "    }\n",
       "\n",
       "    .dataframe tbody tr th {\n",
       "        vertical-align: top;\n",
       "    }\n",
       "\n",
       "    .dataframe thead th {\n",
       "        text-align: right;\n",
       "    }\n",
       "</style>\n",
       "<table border=\"1\" class=\"dataframe\">\n",
       "  <thead>\n",
       "    <tr style=\"text-align: right;\">\n",
       "      <th></th>\n",
       "      <th>Patient</th>\n",
       "      <th>Decoding Context</th>\n",
       "      <th>accuracy</th>\n",
       "      <th>Model</th>\n",
       "    </tr>\n",
       "  </thead>\n",
       "  <tbody>\n",
       "    <tr>\n",
       "      <th>0</th>\n",
       "      <td>S1</td>\n",
       "      <td>Patient-specific</td>\n",
       "      <td>0.398148</td>\n",
       "      <td>SVM</td>\n",
       "    </tr>\n",
       "    <tr>\n",
       "      <th>1</th>\n",
       "      <td>S1</td>\n",
       "      <td>Patient-specific</td>\n",
       "      <td>0.388889</td>\n",
       "      <td>SVM</td>\n",
       "    </tr>\n",
       "    <tr>\n",
       "      <th>2</th>\n",
       "      <td>S1</td>\n",
       "      <td>Patient-specific</td>\n",
       "      <td>0.379630</td>\n",
       "      <td>SVM</td>\n",
       "    </tr>\n",
       "    <tr>\n",
       "      <th>3</th>\n",
       "      <td>S1</td>\n",
       "      <td>Patient-specific</td>\n",
       "      <td>0.365741</td>\n",
       "      <td>SVM</td>\n",
       "    </tr>\n",
       "    <tr>\n",
       "      <th>4</th>\n",
       "      <td>S1</td>\n",
       "      <td>Patient-specific</td>\n",
       "      <td>0.370370</td>\n",
       "      <td>SVM</td>\n",
       "    </tr>\n",
       "    <tr>\n",
       "      <th>...</th>\n",
       "      <td>...</td>\n",
       "      <td>...</td>\n",
       "      <td>...</td>\n",
       "      <td>...</td>\n",
       "    </tr>\n",
       "    <tr>\n",
       "      <th>165</th>\n",
       "      <td>S8</td>\n",
       "      <td>Aligned cross-patient</td>\n",
       "      <td>0.295139</td>\n",
       "      <td>RNN</td>\n",
       "    </tr>\n",
       "    <tr>\n",
       "      <th>166</th>\n",
       "      <td>S8</td>\n",
       "      <td>Aligned cross-patient</td>\n",
       "      <td>0.305324</td>\n",
       "      <td>RNN</td>\n",
       "    </tr>\n",
       "    <tr>\n",
       "      <th>167</th>\n",
       "      <td>S8</td>\n",
       "      <td>Aligned cross-patient</td>\n",
       "      <td>0.330556</td>\n",
       "      <td>RNN</td>\n",
       "    </tr>\n",
       "    <tr>\n",
       "      <th>168</th>\n",
       "      <td>S8</td>\n",
       "      <td>Aligned cross-patient</td>\n",
       "      <td>0.303704</td>\n",
       "      <td>RNN</td>\n",
       "    </tr>\n",
       "    <tr>\n",
       "      <th>169</th>\n",
       "      <td>S8</td>\n",
       "      <td>Aligned cross-patient</td>\n",
       "      <td>0.281018</td>\n",
       "      <td>RNN</td>\n",
       "    </tr>\n",
       "  </tbody>\n",
       "</table>\n",
       "<p>1540 rows × 4 columns</p>\n",
       "</div>"
      ],
      "text/plain": [
       "    Patient       Decoding Context  accuracy Model\n",
       "0        S1       Patient-specific  0.398148   SVM\n",
       "1        S1       Patient-specific  0.388889   SVM\n",
       "2        S1       Patient-specific  0.379630   SVM\n",
       "3        S1       Patient-specific  0.365741   SVM\n",
       "4        S1       Patient-specific  0.370370   SVM\n",
       "..      ...                    ...       ...   ...\n",
       "165      S8  Aligned cross-patient  0.295139   RNN\n",
       "166      S8  Aligned cross-patient  0.305324   RNN\n",
       "167      S8  Aligned cross-patient  0.330556   RNN\n",
       "168      S8  Aligned cross-patient  0.303704   RNN\n",
       "169      S8  Aligned cross-patient  0.281018   RNN\n",
       "\n",
       "[1540 rows x 4 columns]"
      ]
     },
     "execution_count": 26,
     "metadata": {},
     "output_type": "execute_result"
    }
   ],
   "source": [
    "rnn_df_long"
   ]
  },
  {
   "cell_type": "code",
   "execution_count": 27,
   "metadata": {},
   "outputs": [
    {
     "data": {
      "application/vnd.plotly.v1+json": {
       "config": {
        "plotlyServerURL": "https://plotly.com"
       },
       "data": [
        {
         "alignmentgroup": "True",
         "boxpoints": "all",
         "hovertemplate": "Decoding Context=Patient-specific<br>Model=%{x}<br>accuracy=%{y}<extra></extra>",
         "legendgroup": "Patient-specific",
         "marker": {
          "color": "#636EFA"
         },
         "name": "Patient-specific",
         "notched": false,
         "offsetgroup": "Patient-specific",
         "orientation": "v",
         "showlegend": true,
         "type": "box",
         "x": [
          "SVM",
          "SVM",
          "SVM",
          "SVM",
          "SVM",
          "SVM",
          "SVM",
          "SVM",
          "SVM",
          "SVM",
          "SVM",
          "SVM",
          "SVM",
          "SVM",
          "SVM",
          "SVM",
          "SVM",
          "SVM",
          "SVM",
          "SVM",
          "SVM",
          "SVM",
          "SVM",
          "SVM",
          "SVM",
          "SVM",
          "SVM",
          "SVM",
          "SVM",
          "SVM",
          "SVM",
          "SVM",
          "SVM",
          "SVM",
          "SVM",
          "SVM",
          "SVM",
          "SVM",
          "SVM",
          "SVM",
          "SVM",
          "SVM",
          "SVM",
          "SVM",
          "SVM",
          "SVM",
          "SVM",
          "SVM",
          "SVM",
          "SVM",
          "RNN",
          "RNN",
          "RNN",
          "RNN",
          "RNN",
          "RNN",
          "RNN",
          "RNN",
          "RNN",
          "RNN",
          "RNN",
          "RNN",
          "RNN",
          "RNN",
          "RNN",
          "RNN",
          "RNN",
          "RNN",
          "RNN",
          "RNN",
          "RNN",
          "RNN",
          "RNN",
          "RNN",
          "RNN",
          "RNN",
          "RNN",
          "RNN",
          "RNN",
          "RNN",
          "RNN",
          "RNN",
          "RNN",
          "RNN",
          "RNN",
          "RNN",
          "RNN",
          "RNN",
          "RNN",
          "RNN",
          "RNN",
          "RNN",
          "RNN",
          "RNN",
          "RNN",
          "RNN",
          "RNN",
          "RNN",
          "RNN",
          "RNN"
         ],
         "x0": " ",
         "xaxis": "x",
         "y": [
          0.1456953642384106,
          0.17439293598233996,
          0.1390728476821192,
          0.20088300220750552,
          0.18543046357615894,
          0.16777041942604856,
          0.17439293598233996,
          0.152317880794702,
          0.15011037527593818,
          0.20309050772626933,
          0.18101545253863136,
          0.16556291390728478,
          0.17660044150110377,
          0.16335540838852097,
          0.17660044150110377,
          0.18322295805739514,
          0.17218543046357615,
          0.17660044150110377,
          0.16777041942604856,
          0.141280353200883,
          0.17218543046357615,
          0.16114790286975716,
          0.16997792494481237,
          0.18322295805739514,
          0.17439293598233996,
          0.16335540838852097,
          0.15894039735099338,
          0.17218543046357615,
          0.16997792494481237,
          0.15894039735099338,
          0.17660044150110377,
          0.17880794701986755,
          0.16114790286975716,
          0.16777041942604856,
          0.1545253863134658,
          0.15673289183222958,
          0.18101545253863136,
          0.1456953642384106,
          0.16997792494481237,
          0.19205298013245034,
          0.16997792494481237,
          0.17218543046357615,
          0.17439293598233996,
          0.152317880794702,
          0.16777041942604856,
          0.15011037527593818,
          0.1390728476821192,
          0.1986754966887417,
          0.1390728476821192,
          0.16777041942604856,
          0.2815476059913635,
          0.2648809552192688,
          0.23363097012043,
          0.24077379703521729,
          0.2395833283662796,
          0.23541668057441711,
          0.2410714328289032,
          0.2526785731315613,
          0.23779764771461487,
          0.24464288353919983,
          0.22886905074119568,
          0.25089287757873535,
          0.23035714030265808,
          0.2250000238418579,
          0.269345223903656,
          0.2261904925107956,
          0.22708335518836975,
          0.2473214566707611,
          0.25,
          0.23184522986412048,
          0.24196426570415497,
          0.24017855525016785,
          0.25505954027175903,
          0.25982144474983215,
          0.2336309403181076,
          0.22529764473438263,
          0.2232142984867096,
          0.2529762089252472,
          0.22261908650398254,
          0.21636906266212463,
          0.27470239996910095,
          0.22440478205680847,
          0.27291667461395264,
          0.23154762387275696,
          0.2458333522081375,
          0.2291666716337204,
          0.21517857909202576,
          0.2904762029647827,
          0.2547619044780731,
          0.2818452715873718,
          0.23630952835083008,
          0.24315480887889862,
          0.2470238208770752,
          0.226190447807312,
          0.275297611951828,
          0.25089284777641296,
          0.24613094329833984,
          0.25952383875846863,
          0.2782737910747528,
          0.23244047164916992
         ],
         "y0": " ",
         "yaxis": "y"
        },
        {
         "alignmentgroup": "True",
         "boxpoints": "all",
         "hovertemplate": "Decoding Context=Aligned cross-patient<br>Model=%{x}<br>accuracy=%{y}<extra></extra>",
         "legendgroup": "Aligned cross-patient",
         "marker": {
          "color": "#AB63FA"
         },
         "name": "Aligned cross-patient",
         "notched": false,
         "offsetgroup": "Aligned cross-patient",
         "orientation": "v",
         "showlegend": true,
         "type": "box",
         "x": [
          "SVM",
          "SVM",
          "SVM",
          "SVM",
          "SVM",
          "SVM",
          "SVM",
          "SVM",
          "SVM",
          "SVM",
          "SVM",
          "SVM",
          "SVM",
          "SVM",
          "SVM",
          "SVM",
          "SVM",
          "SVM",
          "SVM",
          "SVM",
          "SVM",
          "SVM",
          "SVM",
          "SVM",
          "SVM",
          "SVM",
          "SVM",
          "SVM",
          "SVM",
          "SVM",
          "SVM",
          "SVM",
          "SVM",
          "SVM",
          "SVM",
          "SVM",
          "SVM",
          "SVM",
          "SVM",
          "SVM",
          "SVM",
          "SVM",
          "SVM",
          "SVM",
          "SVM",
          "SVM",
          "SVM",
          "SVM",
          "SVM",
          "SVM",
          "RNN",
          "RNN",
          "RNN",
          "RNN",
          "RNN",
          "RNN",
          "RNN",
          "RNN",
          "RNN",
          "RNN",
          "RNN",
          "RNN",
          "RNN",
          "RNN",
          "RNN",
          "RNN",
          "RNN",
          "RNN",
          "RNN",
          "RNN",
          "RNN",
          "RNN",
          "RNN",
          "RNN",
          "RNN",
          "RNN",
          "RNN",
          "RNN",
          "RNN",
          "RNN",
          "RNN",
          "RNN",
          "RNN",
          "RNN",
          "RNN",
          "RNN",
          "RNN",
          "RNN",
          "RNN",
          "RNN",
          "RNN",
          "RNN",
          "RNN",
          "RNN",
          "RNN",
          "RNN",
          "RNN",
          "RNN",
          "RNN",
          "RNN"
         ],
         "x0": " ",
         "xaxis": "x",
         "y": [
          0.22075055187637968,
          0.20309050772626933,
          0.19205298013245034,
          0.2141280353200883,
          0.2251655629139073,
          0.20088300220750552,
          0.20088300220750552,
          0.2141280353200883,
          0.23178807947019867,
          0.2163355408388521,
          0.22075055187637968,
          0.22075055187637968,
          0.2163355408388521,
          0.2141280353200883,
          0.23399558498896247,
          0.2185430463576159,
          0.19646799116997793,
          0.22075055187637968,
          0.23178807947019867,
          0.20088300220750552,
          0.2163355408388521,
          0.2229580573951435,
          0.2119205298013245,
          0.22075055187637968,
          0.2185430463576159,
          0.20750551876379691,
          0.20309050772626933,
          0.2052980132450331,
          0.19646799116997793,
          0.20309050772626933,
          0.2052980132450331,
          0.2052980132450331,
          0.22737306843267108,
          0.2097130242825607,
          0.2119205298013245,
          0.2251655629139073,
          0.2097130242825607,
          0.23620309050772628,
          0.2163355408388521,
          0.23841059602649006,
          0.2052980132450331,
          0.2229580573951435,
          0.20750551876379691,
          0.2229580573951435,
          0.23841059602649006,
          0.2141280353200883,
          0.2097130242825607,
          0.2119205298013245,
          0.2163355408388521,
          0.2185430463576159,
          0.2502976059913635,
          0.2883928418159485,
          0.25535714626312256,
          0.26101192831993103,
          0.2705356776714325,
          0.2720237970352173,
          0.2562500238418579,
          0.3080357015132904,
          0.27321428060531616,
          0.2410714328289032,
          0.3038690686225891,
          0.2994047999382019,
          0.2526785731315613,
          0.27440476417541504,
          0.2815476655960083,
          0.2991071343421936,
          0.2577381134033203,
          0.24880953133106232,
          0.2842262387275696,
          0.2889881134033203,
          0.2904761731624603,
          0.29970237612724304,
          0.25505954027175903,
          0.2738095223903656,
          0.2958333492279053,
          0.23125000298023224,
          0.24523811042308807,
          0.28184524178504944,
          0.2741071581840515,
          0.2675595283508301,
          0.2723214328289032,
          0.29553574323654175,
          0.29821428656578064,
          0.25357145071029663,
          0.2726190388202667,
          0.2630952298641205,
          0.2726190686225891,
          0.24672622978687286,
          0.29107144474983215,
          0.3157738149166107,
          0.2601190507411957,
          0.26220235228538513,
          0.2720237970352173,
          0.27023810148239136,
          0.3023809492588043,
          0.2755952477455139,
          0.2860119044780731,
          0.26547616720199585,
          0.2517856955528259,
          0.24880953133106232
         ],
         "y0": " ",
         "yaxis": "y"
        }
       ],
       "layout": {
        "annotations": [
         {
          "showarrow": false,
          "text": "Chance",
          "x": 1,
          "xanchor": "right",
          "xref": "x domain",
          "y": 0.1111111111111111,
          "yanchor": "top",
          "yref": "y"
         }
        ],
        "boxmode": "group",
        "font": {
         "family": "Arial",
         "size": 20
        },
        "height": 500,
        "legend": {
         "orientation": "h",
         "title": {
          "text": ""
         },
         "tracegroupgap": 0,
         "x": 0.01,
         "xanchor": "left",
         "y": 0.02,
         "yanchor": "bottom"
        },
        "margin": {
         "t": 60
        },
        "plot_bgcolor": "white",
        "shapes": [
         {
          "line": {
           "color": "grey",
           "dash": "dash"
          },
          "type": "line",
          "x0": 0,
          "x1": 1,
          "xref": "x domain",
          "y0": 0.1111111111111111,
          "y1": 0.1111111111111111,
          "yref": "y"
         }
        ],
        "template": {
         "data": {
          "bar": [
           {
            "error_x": {
             "color": "#2a3f5f"
            },
            "error_y": {
             "color": "#2a3f5f"
            },
            "marker": {
             "line": {
              "color": "#E5ECF6",
              "width": 0.5
             },
             "pattern": {
              "fillmode": "overlay",
              "size": 10,
              "solidity": 0.2
             }
            },
            "type": "bar"
           }
          ],
          "barpolar": [
           {
            "marker": {
             "line": {
              "color": "#E5ECF6",
              "width": 0.5
             },
             "pattern": {
              "fillmode": "overlay",
              "size": 10,
              "solidity": 0.2
             }
            },
            "type": "barpolar"
           }
          ],
          "carpet": [
           {
            "aaxis": {
             "endlinecolor": "#2a3f5f",
             "gridcolor": "white",
             "linecolor": "white",
             "minorgridcolor": "white",
             "startlinecolor": "#2a3f5f"
            },
            "baxis": {
             "endlinecolor": "#2a3f5f",
             "gridcolor": "white",
             "linecolor": "white",
             "minorgridcolor": "white",
             "startlinecolor": "#2a3f5f"
            },
            "type": "carpet"
           }
          ],
          "choropleth": [
           {
            "colorbar": {
             "outlinewidth": 0,
             "ticks": ""
            },
            "type": "choropleth"
           }
          ],
          "contour": [
           {
            "colorbar": {
             "outlinewidth": 0,
             "ticks": ""
            },
            "colorscale": [
             [
              0,
              "#0d0887"
             ],
             [
              0.1111111111111111,
              "#46039f"
             ],
             [
              0.2222222222222222,
              "#7201a8"
             ],
             [
              0.3333333333333333,
              "#9c179e"
             ],
             [
              0.4444444444444444,
              "#bd3786"
             ],
             [
              0.5555555555555556,
              "#d8576b"
             ],
             [
              0.6666666666666666,
              "#ed7953"
             ],
             [
              0.7777777777777778,
              "#fb9f3a"
             ],
             [
              0.8888888888888888,
              "#fdca26"
             ],
             [
              1,
              "#f0f921"
             ]
            ],
            "type": "contour"
           }
          ],
          "contourcarpet": [
           {
            "colorbar": {
             "outlinewidth": 0,
             "ticks": ""
            },
            "type": "contourcarpet"
           }
          ],
          "heatmap": [
           {
            "colorbar": {
             "outlinewidth": 0,
             "ticks": ""
            },
            "colorscale": [
             [
              0,
              "#0d0887"
             ],
             [
              0.1111111111111111,
              "#46039f"
             ],
             [
              0.2222222222222222,
              "#7201a8"
             ],
             [
              0.3333333333333333,
              "#9c179e"
             ],
             [
              0.4444444444444444,
              "#bd3786"
             ],
             [
              0.5555555555555556,
              "#d8576b"
             ],
             [
              0.6666666666666666,
              "#ed7953"
             ],
             [
              0.7777777777777778,
              "#fb9f3a"
             ],
             [
              0.8888888888888888,
              "#fdca26"
             ],
             [
              1,
              "#f0f921"
             ]
            ],
            "type": "heatmap"
           }
          ],
          "heatmapgl": [
           {
            "colorbar": {
             "outlinewidth": 0,
             "ticks": ""
            },
            "colorscale": [
             [
              0,
              "#0d0887"
             ],
             [
              0.1111111111111111,
              "#46039f"
             ],
             [
              0.2222222222222222,
              "#7201a8"
             ],
             [
              0.3333333333333333,
              "#9c179e"
             ],
             [
              0.4444444444444444,
              "#bd3786"
             ],
             [
              0.5555555555555556,
              "#d8576b"
             ],
             [
              0.6666666666666666,
              "#ed7953"
             ],
             [
              0.7777777777777778,
              "#fb9f3a"
             ],
             [
              0.8888888888888888,
              "#fdca26"
             ],
             [
              1,
              "#f0f921"
             ]
            ],
            "type": "heatmapgl"
           }
          ],
          "histogram": [
           {
            "marker": {
             "pattern": {
              "fillmode": "overlay",
              "size": 10,
              "solidity": 0.2
             }
            },
            "type": "histogram"
           }
          ],
          "histogram2d": [
           {
            "colorbar": {
             "outlinewidth": 0,
             "ticks": ""
            },
            "colorscale": [
             [
              0,
              "#0d0887"
             ],
             [
              0.1111111111111111,
              "#46039f"
             ],
             [
              0.2222222222222222,
              "#7201a8"
             ],
             [
              0.3333333333333333,
              "#9c179e"
             ],
             [
              0.4444444444444444,
              "#bd3786"
             ],
             [
              0.5555555555555556,
              "#d8576b"
             ],
             [
              0.6666666666666666,
              "#ed7953"
             ],
             [
              0.7777777777777778,
              "#fb9f3a"
             ],
             [
              0.8888888888888888,
              "#fdca26"
             ],
             [
              1,
              "#f0f921"
             ]
            ],
            "type": "histogram2d"
           }
          ],
          "histogram2dcontour": [
           {
            "colorbar": {
             "outlinewidth": 0,
             "ticks": ""
            },
            "colorscale": [
             [
              0,
              "#0d0887"
             ],
             [
              0.1111111111111111,
              "#46039f"
             ],
             [
              0.2222222222222222,
              "#7201a8"
             ],
             [
              0.3333333333333333,
              "#9c179e"
             ],
             [
              0.4444444444444444,
              "#bd3786"
             ],
             [
              0.5555555555555556,
              "#d8576b"
             ],
             [
              0.6666666666666666,
              "#ed7953"
             ],
             [
              0.7777777777777778,
              "#fb9f3a"
             ],
             [
              0.8888888888888888,
              "#fdca26"
             ],
             [
              1,
              "#f0f921"
             ]
            ],
            "type": "histogram2dcontour"
           }
          ],
          "mesh3d": [
           {
            "colorbar": {
             "outlinewidth": 0,
             "ticks": ""
            },
            "type": "mesh3d"
           }
          ],
          "parcoords": [
           {
            "line": {
             "colorbar": {
              "outlinewidth": 0,
              "ticks": ""
             }
            },
            "type": "parcoords"
           }
          ],
          "pie": [
           {
            "automargin": true,
            "type": "pie"
           }
          ],
          "scatter": [
           {
            "fillpattern": {
             "fillmode": "overlay",
             "size": 10,
             "solidity": 0.2
            },
            "type": "scatter"
           }
          ],
          "scatter3d": [
           {
            "line": {
             "colorbar": {
              "outlinewidth": 0,
              "ticks": ""
             }
            },
            "marker": {
             "colorbar": {
              "outlinewidth": 0,
              "ticks": ""
             }
            },
            "type": "scatter3d"
           }
          ],
          "scattercarpet": [
           {
            "marker": {
             "colorbar": {
              "outlinewidth": 0,
              "ticks": ""
             }
            },
            "type": "scattercarpet"
           }
          ],
          "scattergeo": [
           {
            "marker": {
             "colorbar": {
              "outlinewidth": 0,
              "ticks": ""
             }
            },
            "type": "scattergeo"
           }
          ],
          "scattergl": [
           {
            "marker": {
             "colorbar": {
              "outlinewidth": 0,
              "ticks": ""
             }
            },
            "type": "scattergl"
           }
          ],
          "scattermapbox": [
           {
            "marker": {
             "colorbar": {
              "outlinewidth": 0,
              "ticks": ""
             }
            },
            "type": "scattermapbox"
           }
          ],
          "scatterpolar": [
           {
            "marker": {
             "colorbar": {
              "outlinewidth": 0,
              "ticks": ""
             }
            },
            "type": "scatterpolar"
           }
          ],
          "scatterpolargl": [
           {
            "marker": {
             "colorbar": {
              "outlinewidth": 0,
              "ticks": ""
             }
            },
            "type": "scatterpolargl"
           }
          ],
          "scatterternary": [
           {
            "marker": {
             "colorbar": {
              "outlinewidth": 0,
              "ticks": ""
             }
            },
            "type": "scatterternary"
           }
          ],
          "surface": [
           {
            "colorbar": {
             "outlinewidth": 0,
             "ticks": ""
            },
            "colorscale": [
             [
              0,
              "#0d0887"
             ],
             [
              0.1111111111111111,
              "#46039f"
             ],
             [
              0.2222222222222222,
              "#7201a8"
             ],
             [
              0.3333333333333333,
              "#9c179e"
             ],
             [
              0.4444444444444444,
              "#bd3786"
             ],
             [
              0.5555555555555556,
              "#d8576b"
             ],
             [
              0.6666666666666666,
              "#ed7953"
             ],
             [
              0.7777777777777778,
              "#fb9f3a"
             ],
             [
              0.8888888888888888,
              "#fdca26"
             ],
             [
              1,
              "#f0f921"
             ]
            ],
            "type": "surface"
           }
          ],
          "table": [
           {
            "cells": {
             "fill": {
              "color": "#EBF0F8"
             },
             "line": {
              "color": "white"
             }
            },
            "header": {
             "fill": {
              "color": "#C8D4E3"
             },
             "line": {
              "color": "white"
             }
            },
            "type": "table"
           }
          ]
         },
         "layout": {
          "annotationdefaults": {
           "arrowcolor": "#2a3f5f",
           "arrowhead": 0,
           "arrowwidth": 1
          },
          "autotypenumbers": "strict",
          "coloraxis": {
           "colorbar": {
            "outlinewidth": 0,
            "ticks": ""
           }
          },
          "colorscale": {
           "diverging": [
            [
             0,
             "#8e0152"
            ],
            [
             0.1,
             "#c51b7d"
            ],
            [
             0.2,
             "#de77ae"
            ],
            [
             0.3,
             "#f1b6da"
            ],
            [
             0.4,
             "#fde0ef"
            ],
            [
             0.5,
             "#f7f7f7"
            ],
            [
             0.6,
             "#e6f5d0"
            ],
            [
             0.7,
             "#b8e186"
            ],
            [
             0.8,
             "#7fbc41"
            ],
            [
             0.9,
             "#4d9221"
            ],
            [
             1,
             "#276419"
            ]
           ],
           "sequential": [
            [
             0,
             "#0d0887"
            ],
            [
             0.1111111111111111,
             "#46039f"
            ],
            [
             0.2222222222222222,
             "#7201a8"
            ],
            [
             0.3333333333333333,
             "#9c179e"
            ],
            [
             0.4444444444444444,
             "#bd3786"
            ],
            [
             0.5555555555555556,
             "#d8576b"
            ],
            [
             0.6666666666666666,
             "#ed7953"
            ],
            [
             0.7777777777777778,
             "#fb9f3a"
            ],
            [
             0.8888888888888888,
             "#fdca26"
            ],
            [
             1,
             "#f0f921"
            ]
           ],
           "sequentialminus": [
            [
             0,
             "#0d0887"
            ],
            [
             0.1111111111111111,
             "#46039f"
            ],
            [
             0.2222222222222222,
             "#7201a8"
            ],
            [
             0.3333333333333333,
             "#9c179e"
            ],
            [
             0.4444444444444444,
             "#bd3786"
            ],
            [
             0.5555555555555556,
             "#d8576b"
            ],
            [
             0.6666666666666666,
             "#ed7953"
            ],
            [
             0.7777777777777778,
             "#fb9f3a"
            ],
            [
             0.8888888888888888,
             "#fdca26"
            ],
            [
             1,
             "#f0f921"
            ]
           ]
          },
          "colorway": [
           "#636efa",
           "#EF553B",
           "#00cc96",
           "#ab63fa",
           "#FFA15A",
           "#19d3f3",
           "#FF6692",
           "#B6E880",
           "#FF97FF",
           "#FECB52"
          ],
          "font": {
           "color": "#2a3f5f"
          },
          "geo": {
           "bgcolor": "white",
           "lakecolor": "white",
           "landcolor": "#E5ECF6",
           "showlakes": true,
           "showland": true,
           "subunitcolor": "white"
          },
          "hoverlabel": {
           "align": "left"
          },
          "hovermode": "closest",
          "mapbox": {
           "style": "light"
          },
          "paper_bgcolor": "white",
          "plot_bgcolor": "#E5ECF6",
          "polar": {
           "angularaxis": {
            "gridcolor": "white",
            "linecolor": "white",
            "ticks": ""
           },
           "bgcolor": "#E5ECF6",
           "radialaxis": {
            "gridcolor": "white",
            "linecolor": "white",
            "ticks": ""
           }
          },
          "scene": {
           "xaxis": {
            "backgroundcolor": "#E5ECF6",
            "gridcolor": "white",
            "gridwidth": 2,
            "linecolor": "white",
            "showbackground": true,
            "ticks": "",
            "zerolinecolor": "white"
           },
           "yaxis": {
            "backgroundcolor": "#E5ECF6",
            "gridcolor": "white",
            "gridwidth": 2,
            "linecolor": "white",
            "showbackground": true,
            "ticks": "",
            "zerolinecolor": "white"
           },
           "zaxis": {
            "backgroundcolor": "#E5ECF6",
            "gridcolor": "white",
            "gridwidth": 2,
            "linecolor": "white",
            "showbackground": true,
            "ticks": "",
            "zerolinecolor": "white"
           }
          },
          "shapedefaults": {
           "line": {
            "color": "#2a3f5f"
           }
          },
          "ternary": {
           "aaxis": {
            "gridcolor": "white",
            "linecolor": "white",
            "ticks": ""
           },
           "baxis": {
            "gridcolor": "white",
            "linecolor": "white",
            "ticks": ""
           },
           "bgcolor": "#E5ECF6",
           "caxis": {
            "gridcolor": "white",
            "linecolor": "white",
            "ticks": ""
           }
          },
          "title": {
           "x": 0.05
          },
          "xaxis": {
           "automargin": true,
           "gridcolor": "white",
           "linecolor": "white",
           "ticks": "",
           "title": {
            "standoff": 15
           },
           "zerolinecolor": "white",
           "zerolinewidth": 2
          },
          "yaxis": {
           "automargin": true,
           "gridcolor": "white",
           "linecolor": "white",
           "ticks": "",
           "title": {
            "standoff": 15
           },
           "zerolinecolor": "white",
           "zerolinewidth": 2
          }
         }
        },
        "title": {
         "text": "",
         "x": 0.5
        },
        "width": 600,
        "xaxis": {
         "anchor": "y",
         "domain": [
          0,
          1
         ],
         "linecolor": "black",
         "mirror": false,
         "showgrid": false,
         "showline": true,
         "ticks": "outside",
         "title": {
          "text": "Decoding model"
         }
        },
        "yaxis": {
         "anchor": "x",
         "domain": [
          0,
          1
         ],
         "linecolor": "black",
         "mirror": false,
         "range": [
          0,
          0.33
         ],
         "showgrid": false,
         "showline": true,
         "ticks": "outside",
         "title": {
          "text": "Phoneme decoding accuracy"
         }
        }
       }
      }
     },
     "metadata": {},
     "output_type": "display_data"
    }
   ],
   "source": [
    "fig_df = rnn_df_long[rnn_df_long['Patient'] == 'S5']\n",
    "fig = px.box(fig_df, x='Model', y=\"accuracy\", color='Decoding Context', points='all', width=600, height=500, color_discrete_sequence=['#636EFA', '#AB63FA'])\n",
    "# fig_df = rnn_df_long\n",
    "# fig = px.box(fig_df, x='Model', y=\"accuracy\", color='Decoding Context', points='all', width=1800, height=1000, color_discrete_sequence=['#636EFA', '#AB63FA'], facet_col='Patient', facet_col_wrap=4)\n",
    "fig.add_hline(y=1/9, line_dash='dash', line_color='grey', annotation_text='Chance', annotation_position='bottom right')\n",
    "fig.update_layout(\n",
    "    plot_bgcolor='white',\n",
    "    legend=dict(\n",
    "        orientation='h',\n",
    "        yanchor='bottom',\n",
    "        y=0.02,\n",
    "        xanchor='left',\n",
    "        x=0.01,\n",
    "        title_text=''\n",
    "    ),\n",
    "    title_text='',\n",
    "    title_x=0.5,\n",
    "    font=dict(size=20, family='Arial')\n",
    ")\n",
    "fig.update_xaxes(\n",
    "    title='Decoding model',\n",
    "    mirror=False,\n",
    "    ticks='outside',\n",
    "    showline=True,\n",
    "    linecolor='black',\n",
    "    showgrid=False,\n",
    ")\n",
    "fig.update_yaxes(\n",
    "    title='Phoneme decoding accuracy',\n",
    "    mirror=False,\n",
    "    ticks='outside',\n",
    "    showline=True,\n",
    "    linecolor='black',\n",
    "    showgrid=False,\n",
    "    range=[0, 0.33]\n",
    ")\n",
    "\n",
    "fig.show()"
   ]
  },
  {
   "cell_type": "code",
   "execution_count": 28,
   "metadata": {},
   "outputs": [
    {
     "name": "stdout",
     "output_type": "stream",
     "text": [
      "##### 2-way ANOVA results #####\n",
      "                       sum_sq     df           F        PR(>F)\n",
      "C(context)           0.070963    1.0  258.508724  1.197019e-37\n",
      "C(Model)             0.228086    1.0  830.885590  2.054309e-72\n",
      "C(context):C(Model)  0.004451    1.0   16.214332  8.081774e-05\n",
      "Residual             0.053804  196.0         NaN           NaN\n",
      "##### Follow-up t-tests ######\n",
      "Tukey's HSD Pairwise Group Comparisons (95.0% Confidence Interval)\n",
      "Comparison  Statistic  p-value  Lower CI  Upper CI\n",
      " (0 - 1)     -0.025     0.000    -0.035    -0.015\n",
      " (0 - 2)      0.021     0.000     0.011     0.032\n",
      " (0 - 3)     -0.048     0.000    -0.058    -0.038\n",
      " (1 - 0)      0.025     0.000     0.015     0.035\n",
      " (1 - 2)      0.047     0.000     0.036     0.057\n",
      " (1 - 3)     -0.023     0.000    -0.033    -0.013\n",
      " (2 - 0)     -0.021     0.000    -0.032    -0.011\n",
      " (2 - 1)     -0.047     0.000    -0.057    -0.036\n",
      " (2 - 3)     -0.070     0.000    -0.080    -0.059\n",
      " (3 - 0)      0.048     0.000     0.038     0.058\n",
      " (3 - 1)      0.023     0.000     0.013     0.033\n",
      " (3 - 2)      0.070     0.000     0.059     0.080\n",
      "\n"
     ]
    }
   ],
   "source": [
    "pt='S1'\n",
    "stat_df = rnn_df_long[rnn_df_long['Patient'] == 'S5'].drop(columns=['Patient']).rename(columns={'Decoding Context': 'context'})\n",
    "\n",
    "model = ols('accuracy ~ C(context) + C(Model) + C(context):C(Model)', data=stat_df).fit()\n",
    "anova2way_res = anova_lm(model, typ=2)\n",
    "print('##### 2-way ANOVA results #####')\n",
    "print(anova2way_res)\n",
    "\n",
    "pt_spf_svm = rnn_df_long[(rnn_df_long['Patient'] == pt) & (rnn_df_long['Decoding Context'] == 'Patient-specific') & (rnn_df_long['Model'] == 'SVM')]['accuracy']\n",
    "cca_svm = rnn_df_long[(rnn_df_long['Patient'] == pt) & (rnn_df_long['Decoding Context'] == 'Aligned cross-patient') & (rnn_df_long['Model'] == 'SVM')]['accuracy']\n",
    "pt_spf_rnn = rnn_df_long[(rnn_df_long['Patient'] == pt) & (rnn_df_long['Decoding Context'] == 'Patient-specific') & (rnn_df_long['Model'] == 'RNN')]['accuracy']\n",
    "cca_rnn = rnn_df_long[(rnn_df_long['Patient'] == pt) & (rnn_df_long['Decoding Context'] == 'Aligned cross-patient') & (rnn_df_long['Model'] == 'RNN')]['accuracy']\n",
    "\n",
    "print('##### Follow-up t-tests ######')\n",
    "tukey_res = stats.tukey_hsd(pt_spf_svm, cca_svm, pt_spf_rnn, cca_rnn)\n",
    "print(tukey_res)\n",
    "# cca_ps_svm_p = res.pvalue[1,0]"
   ]
  },
  {
   "cell_type": "code",
   "execution_count": 29,
   "metadata": {},
   "outputs": [
    {
     "name": "stderr",
     "output_type": "stream",
     "text": [
      "C:\\Users\\zms14\\AppData\\Local\\Temp\\ipykernel_12996\\2076526745.py:4: RuntimeWarning:\n",
      "\n",
      "invalid value encountered in log\n",
      "\n"
     ]
    }
   ],
   "source": [
    "from scipy.optimize import curve_fit\n",
    "\n",
    "def log_func(x, a, b, c, d):\n",
    "    return a * np.log(b*x + c) + d\n",
    "\n",
    "def inv_quad_func(x, a, b, c, d):\n",
    "    return a / (b*x**2 + c) + d\n",
    "\n",
    "mean_cps_df = cps_df_long[cps_df_long['Patient'] == 'S5'].drop(columns=['Patient']).groupby('Cross-patient trials').mean().reset_index()\n",
    "\n",
    "popt, pcov = curve_fit(log_func, mean_cps_df['Cross-patient trials'].values, mean_cps_df['Decoding Accuracy'].values)\n",
    "x_proj = np.arange(1, 50000)\n",
    "y_proj = log_func(x_proj, *popt)"
   ]
  },
  {
   "cell_type": "code",
   "execution_count": 30,
   "metadata": {},
   "outputs": [
    {
     "name": "stdout",
     "output_type": "stream",
     "text": [
      "0.9811928293171033\n"
     ]
    }
   ],
   "source": [
    "y_data = mean_cps_df['Decoding Accuracy'].values\n",
    "x_data = mean_cps_df['Cross-patient trials'].values\n",
    "res = y_data - log_func(x_data, *popt)\n",
    "ss_res = np.sum(res**2)\n",
    "ss_tot = np.sum((y_data - np.mean(y_data))**2)\n",
    "r2 = 1 - (ss_res / ss_tot)\n",
    "print(r2)"
   ]
  },
  {
   "cell_type": "code",
   "execution_count": 31,
   "metadata": {},
   "outputs": [
    {
     "data": {
      "text/plain": [
       "210.0"
      ]
     },
     "execution_count": 31,
     "metadata": {},
     "output_type": "execute_result"
    }
   ],
   "source": [
    "mean_cps_df['Cross-patient trials'].values[1]"
   ]
  },
  {
   "cell_type": "code",
   "execution_count": 36,
   "metadata": {},
   "outputs": [
    {
     "data": {
      "image/png": "[encoded data removed]",
      "text/plain": [
       "<Figure size 700x600 with 1 Axes>"
      ]
     },
     "metadata": {},
     "output_type": "display_data"
    }
   ],
   "source": [
    "fig_df = cps_df_long[cps_df_long['Patient'] == 'S5']\n",
    "\n",
    "f, ax = plt.subplots(1, 1, figsize=(7,6))\n",
    "\n",
    "sns.lineplot(data=fig_df, x='Cross-patient trials', y='Decoding Accuracy', marker='o', errorbar='sd', ax=ax, color='#AB63FA')\n",
    "ax.plot(x_proj, y_proj, color='red')\n",
    "ax.axhline(np.mean(pt_spf_accs[4]), color='#636EFA', linestyle='--')\n",
    "\n",
    "ax.axhline(1/9, color='grey', linestyle='--')\n",
    "# ax.axhline(np.mean(pt_spf_accs[4]), color='#636EFA', linestyle='--')\n",
    "ax.set_xlabel('')\n",
    "ax.set_ylabel('')\n",
    "ax.set_xlim([-150, 2900])\n",
    "ax.set_ylim([0.1, 0.24])\n",
    "\n",
    "ax1.axhline(1/9, color='grey', linestyle='--')\n",
    "\n",
    "ax1.set_xlabel('')\n",
    "ax1.set_ylabel('')\n",
    "\n",
    "# sns.lineplot(x=diff_trials, y=diff_acc, ax=ax2, color='#AB63FA')\n",
    "# ax2.set_xlabel('Cross-patient trials')\n",
    "\n",
    "sns.despine()\n",
    "plt.show()"
   ]
  },
  {
   "cell_type": "code",
   "execution_count": 60,
   "metadata": {},
   "outputs": [
    {
     "data": {
      "text/plain": [
       "2692.0"
      ]
     },
     "execution_count": 60,
     "metadata": {},
     "output_type": "execute_result"
    }
   ],
   "source": [
    "np.max(mean_cps_df['Cross-patient trials'].values)"
   ]
  },
  {
   "cell_type": "code",
   "execution_count": 63,
   "metadata": {},
   "outputs": [
    {
     "name": "stdout",
     "output_type": "stream",
     "text": [
      "Trials to reach RNN accuracy: 49421\n"
     ]
    }
   ],
   "source": [
    "# find where SVM prjoected accuracy is equal to RNN accuracy\n",
    "rnn_acc = np.mean(rnn_df_long[(rnn_df_long['Patient'] == 'S5') & (rnn_df_long['Decoding Context'] == 'Aligned cross-patient') & (rnn_df_long['Model'] == 'RNN')]['accuracy'])\n",
    "\n",
    "first_index = np.where(y_proj >= rnn_acc)[0][0]\n",
    "print(f'Trials to reach RNN accuracy: {x_proj[first_index]}')\n",
    "\n",
    "# print(f'Saturation accuracy: {y_fit[first_index]}')\n",
    "# print(f'Saturation trials: {x_fit[first_index]}')"
   ]
  }
 ],
 "metadata": {
  "kernelspec": {
   "display_name": "micro_decode",
   "language": "python",
   "name": "python3"
  },
  "language_info": {
   "codemirror_mode": {
    "name": "ipython",
    "version": 3
   },
   "file_extension": ".py",
   "mimetype": "text/x-python",
   "name": "python",
   "nbconvert_exporter": "python",
   "pygments_lexer": "ipython3",
   "version": "3.11.5"
  }
 },
 "nbformat": 4,
 "nbformat_minor": 2
}
