{
 "cells": [
  {
   "cell_type": "markdown",
   "metadata": {},
   "source": [
    "# Imports"
   ]
  },
  {
   "cell_type": "code",
   "execution_count": 5,
   "metadata": {},
   "outputs": [],
   "source": [
    "import sys\n",
    "sys.path.append('..')"
   ]
  },
  {
   "cell_type": "code",
   "execution_count": 6,
   "metadata": {},
   "outputs": [],
   "source": [
    "# analysis\n",
    "import numpy as np\n",
    "import pandas as pd\n",
    "import scipy.io as sio\n",
    "import scipy.stats as stats\n",
    "from sklearn.decomposition import PCA\n",
    "from sklearn.metrics import confusion_matrix\n",
    "from sklearn.preprocessing import MinMaxScaler\n",
    "from sklearn.svm import SVC\n",
    "from sklearn.pipeline import make_pipeline\n",
    "from sklearn.ensemble import BaggingClassifier\n",
    "from sklearn.model_selection import KFold, StratifiedKFold, GridSearchCV\n",
    "from sklearn.base import clone\n",
    "from tqdm import tqdm\n",
    "from statsmodels.stats.multitest import fdrcorrection\n",
    "import h5py\n",
    "\n",
    "# plotting\n",
    "import matplotlib.pyplot as plt\n",
    "import matplotlib as mpl\n",
    "import seaborn as sns\n",
    "import plotly.express as px\n",
    "import plotly.graph_objects as go\n",
    "\n",
    "# local\n",
    "import alignment.alignment_utils as utils\n",
    "from alignment.AlignCCA import AlignCCA\n",
    "from alignment.alignment_utils import cnd_avg\n",
    "from decomposition.DimRedReshape import DimRedReshape\n",
    "\n",
    "%matplotlib inline"
   ]
  },
  {
   "cell_type": "code",
   "execution_count": 7,
   "metadata": {},
   "outputs": [],
   "source": [
    "def mean_stat(a, b, axis=0):\n",
    "    return np.mean(a, axis=axis) - np.mean(b, axis=axis)"
   ]
  },
  {
   "cell_type": "markdown",
   "metadata": {},
   "source": [
    "# Params"
   ]
  },
  {
   "cell_type": "code",
   "execution_count": 1,
   "metadata": {},
   "outputs": [],
   "source": [
    "paper_pt_dict = {'S14': 'S1', 'S26': 'S2', 'S33': 'S3', 'S22': 'S4', 'S23': 'S5', 'S39': 'S6', 'S58': 'S7', 'S62': 'S8'}"
   ]
  },
  {
   "cell_type": "code",
   "execution_count": 2,
   "metadata": {},
   "outputs": [],
   "source": [
    "DATA_PATH = '../data/results/decoding/'"
   ]
  },
  {
   "cell_type": "code",
   "execution_count": 3,
   "metadata": {},
   "outputs": [],
   "source": [
    "phon_labels = ['a', 'ae', 'i', 'u', 'b', 'p', 'v', 'g', 'k']\n",
    "artic_labels = ['low', 'high', 'labial', 'dorsal']\n",
    "phon_to_artic_dict = {1:1, 2:1, 3:2, 4:2, 5:3, 6:3, 7:3, 8:4, 9:4}"
   ]
  },
  {
   "cell_type": "code",
   "execution_count": 4,
   "metadata": {},
   "outputs": [],
   "source": [
    "def cmat_acc(y_true, y_pred):\n",
    "    cmat = confusion_matrix(y_true, y_pred)\n",
    "    acc_cmat = np.trace(cmat) / np.sum(cmat)\n",
    "    return acc_cmat\n",
    "\n",
    "def cmat_wrap(y_true_iter, y_pred_iter):\n",
    "    accs = []\n",
    "    for y_true, y_pred in zip(y_true_iter, y_pred_iter):\n",
    "        accs.append(cmat_acc(y_true, y_pred))\n",
    "    return np.array(accs)"
   ]
  },
  {
   "cell_type": "markdown",
   "metadata": {},
   "source": [
    "# Data Visualization"
   ]
  },
  {
   "cell_type": "markdown",
   "metadata": {},
   "source": [
    "### Plotting utils"
   ]
  },
  {
   "cell_type": "code",
   "execution_count": 8,
   "metadata": {},
   "outputs": [],
   "source": [
    "px_colors = [\n",
    "             '#636EFA',\n",
    "             '#EF553B',\n",
    "             '#AB63FA',\n",
    "             '#00CC96',\n",
    "            #  '#72B7B2',\n",
    "            #  '#990099',\n",
    "            #  '#B6E880',\n",
    "\n",
    "             \n",
    "            #  '#FFA15A',\n",
    "            #  '#19D3F3',\n",
    "            #  '#FF6692',\n",
    "            #  '#B6E880',\n",
    "            #  '#FF97FF',\n",
    "            #  '#FECB52',\n",
    "            ]"
   ]
  },
  {
   "cell_type": "code",
   "execution_count": 9,
   "metadata": {},
   "outputs": [],
   "source": [
    "# sns.set_theme(context='notebook', font='Arial', font_scale=1.15)\n",
    "sns.set_theme(font='Arial', font_scale=1.2, style='white', palette=px_colors)\n",
    "sns.set_style(rc={\n",
    "    # 'axes.edgecolor': 'gray',\n",
    "    'axes.linewidth': 0.5,\n",
    "    'xtick.bottom': True,\n",
    "    'ytick.left': True,\n",
    "    })"
   ]
  },
  {
   "cell_type": "code",
   "execution_count": 10,
   "metadata": {},
   "outputs": [],
   "source": [
    "from matplotlib.colors import LinearSegmentedColormap\n",
    "\n",
    "parula_data = cm_data = [[0.2422, 0.1504, 0.6603],\n",
    "[0.2444, 0.1534, 0.6728],\n",
    "[0.2464, 0.1569, 0.6847],\n",
    "[0.2484, 0.1607, 0.6961],\n",
    "[0.2503, 0.1648, 0.7071],\n",
    "[0.2522, 0.1689, 0.7179],\n",
    "[0.254, 0.1732, 0.7286],\n",
    "[0.2558, 0.1773, 0.7393],\n",
    "[0.2576, 0.1814, 0.7501],\n",
    "[0.2594, 0.1854, 0.761],\n",
    "[0.2611, 0.1893, 0.7719],\n",
    "[0.2628, 0.1932, 0.7828],\n",
    "[0.2645, 0.1972, 0.7937],\n",
    "[0.2661, 0.2011, 0.8043],\n",
    "[0.2676, 0.2052, 0.8148],\n",
    "[0.2691, 0.2094, 0.8249],\n",
    "[0.2704, 0.2138, 0.8346],\n",
    "[0.2717, 0.2184, 0.8439],\n",
    "[0.2729, 0.2231, 0.8528],\n",
    "[0.274, 0.228, 0.8612],\n",
    "[0.2749, 0.233, 0.8692],\n",
    "[0.2758, 0.2382, 0.8767],\n",
    "[0.2766, 0.2435, 0.884],\n",
    "[0.2774, 0.2489, 0.8908],\n",
    "[0.2781, 0.2543, 0.8973],\n",
    "[0.2788, 0.2598, 0.9035],\n",
    "[0.2794, 0.2653, 0.9094],\n",
    "[0.2798, 0.2708, 0.915],\n",
    "[0.2802, 0.2764, 0.9204],\n",
    "[0.2806, 0.2819, 0.9255],\n",
    "[0.2809, 0.2875, 0.9305],\n",
    "[0.2811, 0.293, 0.9352],\n",
    "[0.2813, 0.2985, 0.9397],\n",
    "[0.2814, 0.304, 0.9441],\n",
    "[0.2814, 0.3095, 0.9483],\n",
    "[0.2813, 0.315, 0.9524],\n",
    "[0.2811, 0.3204, 0.9563],\n",
    "[0.2809, 0.3259, 0.96],\n",
    "[0.2807, 0.3313, 0.9636],\n",
    "[0.2803, 0.3367, 0.967],\n",
    "[0.2798, 0.3421, 0.9702],\n",
    "[0.2791, 0.3475, 0.9733],\n",
    "[0.2784, 0.3529, 0.9763],\n",
    "[0.2776, 0.3583, 0.9791],\n",
    "[0.2766, 0.3638, 0.9817],\n",
    "[0.2754, 0.3693, 0.984],\n",
    "[0.2741, 0.3748, 0.9862],\n",
    "[0.2726, 0.3804, 0.9881],\n",
    "[0.271, 0.386, 0.9898],\n",
    "[0.2691, 0.3916, 0.9912],\n",
    "[0.267, 0.3973, 0.9924],\n",
    "[0.2647, 0.403, 0.9935],\n",
    "[0.2621, 0.4088, 0.9946],\n",
    "[0.2591, 0.4145, 0.9955],\n",
    "[0.2556, 0.4203, 0.9965],\n",
    "[0.2517, 0.4261, 0.9974],\n",
    "[0.2473, 0.4319, 0.9983],\n",
    "[0.2424, 0.4378, 0.9991],\n",
    "[0.2369, 0.4437, 0.9996],\n",
    "[0.2311, 0.4497, 0.9995],\n",
    "[0.225, 0.4559, 0.9985],\n",
    "[0.2189, 0.462, 0.9968],\n",
    "[0.2128, 0.4682, 0.9948],\n",
    "[0.2066, 0.4743, 0.9926],\n",
    "[0.2006, 0.4803, 0.9906],\n",
    "[0.195, 0.4861, 0.9887],\n",
    "[0.1903, 0.4919, 0.9867],\n",
    "[0.1869, 0.4975, 0.9844],\n",
    "[0.1847, 0.503, 0.9819],\n",
    "[0.1831, 0.5084, 0.9793],\n",
    "[0.1818, 0.5138, 0.9766],\n",
    "[0.1806, 0.5191, 0.9738],\n",
    "[0.1795, 0.5244, 0.9709],\n",
    "[0.1785, 0.5296, 0.9677],\n",
    "[0.1778, 0.5349, 0.9641],\n",
    "[0.1773, 0.5401, 0.9602],\n",
    "[0.1768, 0.5452, 0.956],\n",
    "[0.1764, 0.5504, 0.9516],\n",
    "[0.1755, 0.5554, 0.9473],\n",
    "[0.174, 0.5605, 0.9432],\n",
    "[0.1716, 0.5655, 0.9393],\n",
    "[0.1686, 0.5705, 0.9357],\n",
    "[0.1649, 0.5755, 0.9323],\n",
    "[0.161, 0.5805, 0.9289],\n",
    "[0.1573, 0.5854, 0.9254],\n",
    "[0.154, 0.5902, 0.9218],\n",
    "[0.1513, 0.595, 0.9182],\n",
    "[0.1492, 0.5997, 0.9147],\n",
    "[0.1475, 0.6043, 0.9113],\n",
    "[0.1461, 0.6089, 0.908],\n",
    "[0.1446, 0.6135, 0.905],\n",
    "[0.1429, 0.618, 0.9022],\n",
    "[0.1408, 0.6226, 0.8998],\n",
    "[0.1383, 0.6272, 0.8975],\n",
    "[0.1354, 0.6317, 0.8953],\n",
    "[0.1321, 0.6363, 0.8932],\n",
    "[0.1288, 0.6408, 0.891],\n",
    "[0.1253, 0.6453, 0.8887],\n",
    "[0.1219, 0.6497, 0.8862],\n",
    "[0.1185, 0.6541, 0.8834],\n",
    "[0.1152, 0.6584, 0.8804],\n",
    "[0.1119, 0.6627, 0.877],\n",
    "[0.1085, 0.6669, 0.8734],\n",
    "[0.1048, 0.671, 0.8695],\n",
    "[0.1009, 0.675, 0.8653],\n",
    "[0.0964, 0.6789, 0.8609],\n",
    "[0.0914, 0.6828, 0.8562],\n",
    "[0.0855, 0.6865, 0.8513],\n",
    "[0.0789, 0.6902, 0.8462],\n",
    "[0.0713, 0.6938, 0.8409],\n",
    "[0.0628, 0.6972, 0.8355],\n",
    "[0.0535, 0.7006, 0.8299],\n",
    "[0.0433, 0.7039, 0.8242],\n",
    "[0.0328, 0.7071, 0.8183],\n",
    "[0.0234, 0.7103, 0.8124],\n",
    "[0.0155, 0.7133, 0.8064],\n",
    "[0.0091, 0.7163, 0.8003],\n",
    "[0.0046, 0.7192, 0.7941],\n",
    "[0.0019, 0.722, 0.7878],\n",
    "[0.0009, 0.7248, 0.7815],\n",
    "[0.0018, 0.7275, 0.7752],\n",
    "[0.0046, 0.7301, 0.7688],\n",
    "[0.0094, 0.7327, 0.7623],\n",
    "[0.0162, 0.7352, 0.7558],\n",
    "[0.0253, 0.7376, 0.7492],\n",
    "[0.0369, 0.74, 0.7426],\n",
    "[0.0504, 0.7423, 0.7359],\n",
    "[0.0638, 0.7446, 0.7292],\n",
    "[0.077, 0.7468, 0.7224],\n",
    "[0.0899, 0.7489, 0.7156],\n",
    "[0.1023, 0.751, 0.7088],\n",
    "[0.1141, 0.7531, 0.7019],\n",
    "[0.1252, 0.7552, 0.695],\n",
    "[0.1354, 0.7572, 0.6881],\n",
    "[0.1448, 0.7593, 0.6812],\n",
    "[0.1532, 0.7614, 0.6741],\n",
    "[0.1609, 0.7635, 0.6671],\n",
    "[0.1678, 0.7656, 0.6599],\n",
    "[0.1741, 0.7678, 0.6527],\n",
    "[0.1799, 0.7699, 0.6454],\n",
    "[0.1853, 0.7721, 0.6379],\n",
    "[0.1905, 0.7743, 0.6303],\n",
    "[0.1954, 0.7765, 0.6225],\n",
    "[0.2003, 0.7787, 0.6146],\n",
    "[0.2061, 0.7808, 0.6065],\n",
    "[0.2118, 0.7828, 0.5983],\n",
    "[0.2178, 0.7849, 0.5899],\n",
    "[0.2244, 0.7869, 0.5813],\n",
    "[0.2318, 0.7887, 0.5725],\n",
    "[0.2401, 0.7905, 0.5636],\n",
    "[0.2491, 0.7922, 0.5546],\n",
    "[0.2589, 0.7937, 0.5454],\n",
    "[0.2695, 0.7951, 0.536],\n",
    "[0.2809, 0.7964, 0.5266],\n",
    "[0.2929, 0.7975, 0.517],\n",
    "[0.3052, 0.7985, 0.5074],\n",
    "[0.3176, 0.7994, 0.4975],\n",
    "[0.3301, 0.8002, 0.4876],\n",
    "[0.3424, 0.8009, 0.4774],\n",
    "[0.3548, 0.8016, 0.4669],\n",
    "[0.3671, 0.8021, 0.4563],\n",
    "[0.3795, 0.8026, 0.4454],\n",
    "[0.3921, 0.8029, 0.4344],\n",
    "[0.405, 0.8031, 0.4233],\n",
    "[0.4184, 0.803, 0.4122],\n",
    "[0.4322, 0.8028, 0.4013],\n",
    "[0.4463, 0.8024, 0.3904],\n",
    "[0.4608, 0.8018, 0.3797],\n",
    "[0.4753, 0.8011, 0.3691],\n",
    "[0.4899, 0.8002, 0.3586],\n",
    "[0.5044, 0.7993, 0.348],\n",
    "[0.5187, 0.7982, 0.3374],\n",
    "[0.5329, 0.797, 0.3267],\n",
    "[0.547, 0.7957, 0.3159],\n",
    "[0.5609, 0.7943, 0.305],\n",
    "[0.5748, 0.7929, 0.2941],\n",
    "[0.5886, 0.7913, 0.2833],\n",
    "[0.6024, 0.7896, 0.2726],\n",
    "[0.6161, 0.7878, 0.2622],\n",
    "[0.6297, 0.7859, 0.2521],\n",
    "[0.6433, 0.7839, 0.2423],\n",
    "[0.6567, 0.7818, 0.2329],\n",
    "[0.6701, 0.7796, 0.2239],\n",
    "[0.6833, 0.7773, 0.2155],\n",
    "[0.6963, 0.775, 0.2075],\n",
    "[0.7091, 0.7727, 0.1998],\n",
    "[0.7218, 0.7703, 0.1924],\n",
    "[0.7344, 0.7679, 0.1852],\n",
    "[0.7468, 0.7654, 0.1782],\n",
    "[0.759, 0.7629, 0.1717],\n",
    "[0.771, 0.7604, 0.1658],\n",
    "[0.7829, 0.7579, 0.1608],\n",
    "[0.7945, 0.7554, 0.157],\n",
    "[0.806, 0.7529, 0.1546],\n",
    "[0.8172, 0.7505, 0.1535],\n",
    "[0.8281, 0.7481, 0.1536],\n",
    "[0.8389, 0.7457, 0.1546],\n",
    "[0.8495, 0.7435, 0.1564],\n",
    "[0.86, 0.7413, 0.1587],\n",
    "[0.8703, 0.7392, 0.1615],\n",
    "[0.8804, 0.7372, 0.165],\n",
    "[0.8903, 0.7353, 0.1695],\n",
    "[0.9, 0.7336, 0.1749],\n",
    "[0.9093, 0.7321, 0.1815],\n",
    "[0.9184, 0.7308, 0.189],\n",
    "[0.9272, 0.7298, 0.1973],\n",
    "[0.9357, 0.729, 0.2061],\n",
    "[0.944, 0.7285, 0.2151],\n",
    "[0.9523, 0.7284, 0.2237],\n",
    "[0.9606, 0.7285, 0.2312],\n",
    "[0.9689, 0.7292, 0.2373],\n",
    "[0.977, 0.7304, 0.2418],\n",
    "[0.9842, 0.733, 0.2446],\n",
    "[0.99, 0.7365, 0.2429],\n",
    "[0.9946, 0.7407, 0.2394],\n",
    "[0.9966, 0.7458, 0.2351],\n",
    "[0.9971, 0.7513, 0.2309],\n",
    "[0.9972, 0.7569, 0.2267],\n",
    "[0.9971, 0.7626, 0.2224],\n",
    "[0.9969, 0.7683, 0.2181],\n",
    "[0.9966, 0.774, 0.2138],\n",
    "[0.9962, 0.7798, 0.2095],\n",
    "[0.9957, 0.7856, 0.2053],\n",
    "[0.9949, 0.7915, 0.2012],\n",
    "[0.9938, 0.7974, 0.1974],\n",
    "[0.9923, 0.8034, 0.1939],\n",
    "[0.9906, 0.8095, 0.1906],\n",
    "[0.9885, 0.8156, 0.1875],\n",
    "[0.9861, 0.8218, 0.1846],\n",
    "[0.9835, 0.828, 0.1817],\n",
    "[0.9807, 0.8342, 0.1787],\n",
    "[0.9778, 0.8404, 0.1757],\n",
    "[0.9748, 0.8467, 0.1726],\n",
    "[0.972, 0.8529, 0.1695],\n",
    "[0.9694, 0.8591, 0.1665],\n",
    "[0.9671, 0.8654, 0.1636],\n",
    "[0.9651, 0.8716, 0.1608],\n",
    "[0.9634, 0.8778, 0.1582],\n",
    "[0.9619, 0.884, 0.1557],\n",
    "[0.9608, 0.8902, 0.1532],\n",
    "[0.9601, 0.8963, 0.1507],\n",
    "[0.9596, 0.9023, 0.148],\n",
    "[0.9595, 0.9084, 0.145],\n",
    "[0.9597, 0.9143, 0.1418],\n",
    "[0.9601, 0.9203, 0.1382],\n",
    "[0.9608, 0.9262, 0.1344],\n",
    "[0.9618, 0.932, 0.1304],\n",
    "[0.9629, 0.9379, 0.1261],\n",
    "[0.9642, 0.9437, 0.1216],\n",
    "[0.9657, 0.9494, 0.1168],\n",
    "[0.9674, 0.9552, 0.1116],\n",
    "[0.9692, 0.9609, 0.1061],\n",
    "[0.9711, 0.9667, 0.1001],\n",
    "[0.973, 0.9724, 0.0938],\n",
    "[0.9749, 0.9782, 0.0872],\n",
    "[0.9769, 0.9839, 0.0805]]\n",
    "\n",
    "parula_map = LinearSegmentedColormap.from_list('parula', parula_data)"
   ]
  },
  {
   "cell_type": "code",
   "execution_count": 11,
   "metadata": {},
   "outputs": [],
   "source": [
    "from mpl_toolkits.axes_grid1 import make_axes_locatable\n",
    "\n",
    "def chan_disp(data, chan_map, title, label, figsize=(8, 6), cbar_lower=None, cbar_upper=None, cmap=None):\n",
    "\n",
    "    mean_val = np.nanmean(data)\n",
    "    std_val = np.nanstd(data)\n",
    "    std_mult = 3\n",
    "    # clim = [max(0, mean_val - std_mult*std_val), mean_val + std_mult*std_val]\n",
    "    if cbar_lower is None:\n",
    "        cbar_lower = mean_val - std_mult*std_val\n",
    "    if cbar_upper is None:\n",
    "        cbar_upper = mean_val + std_mult*std_val\n",
    "    clim = [cbar_lower, cbar_upper]\n",
    "\n",
    "    if cmap is None:\n",
    "        cmap = parula_map\n",
    "\n",
    "    chan_data = np.array([data[int(i)] if not np.isnan(i) else np.nan for i in (chan_map.flatten()-1)])\n",
    "    chan_data = chan_data.reshape(chan_map.shape)\n",
    "    f = plt.figure(figsize=figsize)\n",
    "    im = plt.imshow(chan_data, cmap=parula_map)\n",
    "    im.set_clim(clim[0], clim[1])\n",
    "    # plt.gca().invert_yaxis()\n",
    "    # plt.contourf(chan_data, cmap='viridis')\n",
    "    plt.xticks([])\n",
    "    plt.yticks([])\n",
    "    plt.title(title)\n",
    "\n",
    "    divider = make_axes_locatable(plt.gca())\n",
    "    cax = divider.append_axes('right', size='5%', pad=0.05)\n",
    "\n",
    "    cbar = plt.colorbar(im, cax=cax)\n",
    "    cbar.set_label(label)\n",
    "    cbar.outline.set_visible(False)\n",
    "\n",
    "    sns.despine(left=True, bottom=True)\n",
    "    \n",
    "    plt.show()\n",
    "\n",
    "def chan_disp_seq(data, chan_map, t, t_ranges, labs, title, label, figsize=(3, 6), cbar_pos=[0.81, 0.56, 0.01, 0.3], sup_pos=0.95, cbar_lower=None, cbar_upper=None):\n",
    "    f, tot_axs = plt.subplots(len(labs), len(t_ranges), figsize=(figsize[0]*len(t_ranges), figsize[1]*len(labs)))\n",
    "\n",
    "    if len(labs) == 1:\n",
    "        tot_axs = tot_axs[np.newaxis,:]\n",
    "\n",
    "    mean_val = np.nanmean(data)\n",
    "    std_val = np.nanstd(data)\n",
    "    std_mult = 3\n",
    "    # clim = [max(0, mean_val - std_mult*std_val), mean_val + std_mult*std_val]\n",
    "    if cbar_lower is None:\n",
    "        cbar_lower = mean_val - std_mult*std_val\n",
    "    if cbar_upper is None:\n",
    "        cbar_upper = mean_val + std_mult*std_val\n",
    "    clim = [cbar_lower, cbar_upper]\n",
    "\n",
    "    for j, lab in enumerate(labs):\n",
    "        lab_data = data[j]\n",
    "        axs = tot_axs[j]\n",
    "        for i, t_range in enumerate(t_ranges):\n",
    "            t_inds = np.where((t >= t_range[0]) & (t < t_range[1]))[0]\n",
    "            chan_data = np.array([lab_data[t_inds,:].mean(axis=0)[int(k)] if not np.isnan(k) else np.nan for k in (chan_map.flatten()-1)])\n",
    "            chan_data = chan_data.reshape(chan_map.shape)\n",
    "            im = axs[i].imshow(chan_data, cmap=parula_map)\n",
    "            im.set_clim(clim[0], clim[1])\n",
    "            if i==0:\n",
    "                axs[i].set_ylabel(lab)\n",
    "            if j==0:\n",
    "                axs[i].set_title(f'{t_range[0]} -> {t_range[1]}s')\n",
    "            axs[i].set_xticks([])\n",
    "            axs[i].set_yticks([])\n",
    "            \n",
    "\n",
    "        # divider = make_axes_locatable(plt.gca())\n",
    "        # cax = divider.append_axes('right', size='5%', pad=0.05)\n",
    "\n",
    "        # cbar = plt.colorbar(im, cax=cax)\n",
    "        \n",
    "        # cbar.set_label(label)\n",
    "    f.subplots_adjust(right=0.8)\n",
    "    cbar_ax = f.add_axes(cbar_pos)\n",
    "    cbar = f.colorbar(im, cax=cbar_ax)\n",
    "    cbar.set_label(label)\n",
    "\n",
    "    # f.tight_layout(rect=[0, 0.03, 1, 0.95])\n",
    "    f.suptitle(title, y=sup_pos)\n",
    "    plt.show()"
   ]
  },
  {
   "cell_type": "code",
   "execution_count": 12,
   "metadata": {},
   "outputs": [],
   "source": [
    "def rgb2hex(r,g,b):\n",
    "    return \"#{:02x}{:02x}{:02x}\".format(r,g,b)"
   ]
  },
  {
   "cell_type": "code",
   "execution_count": 13,
   "metadata": {},
   "outputs": [],
   "source": [
    "def get_ci_data(ax):\n",
    "    paths = [child for child in ax.get_children() if isinstance(child, mpl.collections.PolyCollection)]\n",
    "    ci_data = []\n",
    "    for path in paths:\n",
    "        vertices = path.get_paths()[0].vertices  # Array of shape (n, 2)\n",
    "\n",
    "        # ci y coords - contains lower bounds then upper bounds in 1D array\n",
    "        ci_vals_tot = vertices[:-1, 1]\n",
    "\n",
    "        ci_vals = np.zeros((200, 2))\n",
    "        ci_vals[:,0] = ci_vals_tot[1:201]\n",
    "        ci_vals[:,1] = ci_vals_tot[201:-1]\n",
    "        ci_vals[:,1] = ci_vals[:,1][::-1] # reverse the order of the second half\n",
    "        ci_data.append(ci_vals)\n",
    "        \n",
    "    return ci_data"
   ]
  },
  {
   "cell_type": "markdown",
   "metadata": {},
   "source": [
    "### Panel a"
   ]
  },
  {
   "cell_type": "code",
   "execution_count": 30,
   "metadata": {},
   "outputs": [],
   "source": [
    "pt_list = ['S14', 'S26', 'S33', 'S23', 'S22', 'S39', 'S58', 'S62']\n",
    "pInd_list = [-1]\n",
    "\n",
    "wide_dfs = []\n",
    "long_dfs = []\n",
    "for pt in pt_list:\n",
    "    for p_ind in pInd_list:\n",
    "        p_str = 'pAll' if p_ind == -1 else f'p{p_ind}'\n",
    "        \n",
    "        p_tar = np.zeros((3, 50))\n",
    "        p_tar[0,:] = cmat_wrap(*[utils.load_pkl(DATA_PATH + f'ptSpecific/{pt}/{pt}_{p_str}_ptSpecific_rbf_noCV.pkl')[k] for k in ['y_true', 'y_pred']])\n",
    "        p_tar[1,:] = cmat_wrap(*[utils.load_pkl(DATA_PATH + f'pooled/S62_added/{pt}/unaligned/{pt}_{p_str}_pooled_unaligned_rbf_noCV.pkl')[k] for k in ['y_true', 'y_pred']])\n",
    "        p_tar[2,:] = cmat_wrap(*[utils.load_pkl(DATA_PATH + f'pooled/S62_added/{pt}/cca/{pt}_{p_str}_pooled_ccaAlignedNew_rbf_noCV.pkl')[k] for k in ['y_true', 'y_pred']])\n",
    "        decode_df = pd.DataFrame(p_tar.T, columns=['Patient-specific', 'Unaligned cross-patient', 'Aligned cross-patient'])\n",
    "\n",
    "\n",
    "        wide_dfs.append(decode_df)\n",
    "        decode_df = pd.melt(decode_df, var_name='Decoding Context', value_name='accuracy')\n",
    "        decode_df['Patient'] = paper_pt_dict[pt]\n",
    "        decode_df['Phoneme Index'] = p_str\n",
    "        cols = decode_df.columns.tolist()\n",
    "        cols = cols[-1:] + cols[:-1]\n",
    "        decode_df = decode_df[cols]\n",
    "        long_dfs.append(decode_df)\n",
    "        \n",
    "decode_df_wide = pd.concat(wide_dfs)\n",
    "decode_df_long = pd.concat(long_dfs)"
   ]
  },
  {
   "cell_type": "code",
   "execution_count": 31,
   "metadata": {},
   "outputs": [
    {
     "data": {
      "text/html": [
       "<div>\n",
       "<style scoped>\n",
       "    .dataframe tbody tr th:only-of-type {\n",
       "        vertical-align: middle;\n",
       "    }\n",
       "\n",
       "    .dataframe tbody tr th {\n",
       "        vertical-align: top;\n",
       "    }\n",
       "\n",
       "    .dataframe thead th {\n",
       "        text-align: right;\n",
       "    }\n",
       "</style>\n",
       "<table border=\"1\" class=\"dataframe\">\n",
       "  <thead>\n",
       "    <tr style=\"text-align: right;\">\n",
       "      <th></th>\n",
       "      <th>Phoneme Index</th>\n",
       "      <th>Decoding Context</th>\n",
       "      <th>accuracy</th>\n",
       "      <th>Patient</th>\n",
       "    </tr>\n",
       "  </thead>\n",
       "  <tbody>\n",
       "    <tr>\n",
       "      <th>0</th>\n",
       "      <td>pAll</td>\n",
       "      <td>Patient-specific</td>\n",
       "      <td>0.398148</td>\n",
       "      <td>S1</td>\n",
       "    </tr>\n",
       "    <tr>\n",
       "      <th>1</th>\n",
       "      <td>pAll</td>\n",
       "      <td>Patient-specific</td>\n",
       "      <td>0.388889</td>\n",
       "      <td>S1</td>\n",
       "    </tr>\n",
       "    <tr>\n",
       "      <th>2</th>\n",
       "      <td>pAll</td>\n",
       "      <td>Patient-specific</td>\n",
       "      <td>0.379630</td>\n",
       "      <td>S1</td>\n",
       "    </tr>\n",
       "    <tr>\n",
       "      <th>3</th>\n",
       "      <td>pAll</td>\n",
       "      <td>Patient-specific</td>\n",
       "      <td>0.365741</td>\n",
       "      <td>S1</td>\n",
       "    </tr>\n",
       "    <tr>\n",
       "      <th>4</th>\n",
       "      <td>pAll</td>\n",
       "      <td>Patient-specific</td>\n",
       "      <td>0.370370</td>\n",
       "      <td>S1</td>\n",
       "    </tr>\n",
       "    <tr>\n",
       "      <th>...</th>\n",
       "      <td>...</td>\n",
       "      <td>...</td>\n",
       "      <td>...</td>\n",
       "      <td>...</td>\n",
       "    </tr>\n",
       "    <tr>\n",
       "      <th>145</th>\n",
       "      <td>pAll</td>\n",
       "      <td>Aligned cross-patient</td>\n",
       "      <td>0.314607</td>\n",
       "      <td>S8</td>\n",
       "    </tr>\n",
       "    <tr>\n",
       "      <th>146</th>\n",
       "      <td>pAll</td>\n",
       "      <td>Aligned cross-patient</td>\n",
       "      <td>0.346442</td>\n",
       "      <td>S8</td>\n",
       "    </tr>\n",
       "    <tr>\n",
       "      <th>147</th>\n",
       "      <td>pAll</td>\n",
       "      <td>Aligned cross-patient</td>\n",
       "      <td>0.335206</td>\n",
       "      <td>S8</td>\n",
       "    </tr>\n",
       "    <tr>\n",
       "      <th>148</th>\n",
       "      <td>pAll</td>\n",
       "      <td>Aligned cross-patient</td>\n",
       "      <td>0.346442</td>\n",
       "      <td>S8</td>\n",
       "    </tr>\n",
       "    <tr>\n",
       "      <th>149</th>\n",
       "      <td>pAll</td>\n",
       "      <td>Aligned cross-patient</td>\n",
       "      <td>0.331461</td>\n",
       "      <td>S8</td>\n",
       "    </tr>\n",
       "  </tbody>\n",
       "</table>\n",
       "<p>1200 rows × 4 columns</p>\n",
       "</div>"
      ],
      "text/plain": [
       "    Phoneme Index       Decoding Context  accuracy Patient\n",
       "0            pAll       Patient-specific  0.398148      S1\n",
       "1            pAll       Patient-specific  0.388889      S1\n",
       "2            pAll       Patient-specific  0.379630      S1\n",
       "3            pAll       Patient-specific  0.365741      S1\n",
       "4            pAll       Patient-specific  0.370370      S1\n",
       "..            ...                    ...       ...     ...\n",
       "145          pAll  Aligned cross-patient  0.314607      S8\n",
       "146          pAll  Aligned cross-patient  0.346442      S8\n",
       "147          pAll  Aligned cross-patient  0.335206      S8\n",
       "148          pAll  Aligned cross-patient  0.346442      S8\n",
       "149          pAll  Aligned cross-patient  0.331461      S8\n",
       "\n",
       "[1200 rows x 4 columns]"
      ]
     },
     "execution_count": 31,
     "metadata": {},
     "output_type": "execute_result"
    }
   ],
   "source": [
    "decode_df_long"
   ]
  },
  {
   "cell_type": "code",
   "execution_count": 63,
   "metadata": {},
   "outputs": [
    {
     "data": {
      "application/vnd.plotly.v1+json": {
       "config": {
        "plotlyServerURL": "https://plotly.com"
       },
       "data": [
        {
         "alignmentgroup": "True",
         "boxpoints": "all",
         "hovertemplate": "Decoding Context=Patient-specific<br>Patient=%{x}<br>accuracy=%{y}<extra></extra>",
         "legendgroup": "Patient-specific",
         "marker": {
          "color": "#636EFA"
         },
         "name": "Patient-specific",
         "notched": false,
         "offsetgroup": "Patient-specific",
         "orientation": "v",
         "showlegend": true,
         "type": "box",
         "x": [
          "S1",
          "S1",
          "S1",
          "S1",
          "S1",
          "S1",
          "S1",
          "S1",
          "S1",
          "S1",
          "S1",
          "S1",
          "S1",
          "S1",
          "S1",
          "S1",
          "S1",
          "S1",
          "S1",
          "S1",
          "S1",
          "S1",
          "S1",
          "S1",
          "S1",
          "S1",
          "S1",
          "S1",
          "S1",
          "S1",
          "S1",
          "S1",
          "S1",
          "S1",
          "S1",
          "S1",
          "S1",
          "S1",
          "S1",
          "S1",
          "S1",
          "S1",
          "S1",
          "S1",
          "S1",
          "S1",
          "S1",
          "S1",
          "S1",
          "S1",
          "S2",
          "S2",
          "S2",
          "S2",
          "S2",
          "S2",
          "S2",
          "S2",
          "S2",
          "S2",
          "S2",
          "S2",
          "S2",
          "S2",
          "S2",
          "S2",
          "S2",
          "S2",
          "S2",
          "S2",
          "S2",
          "S2",
          "S2",
          "S2",
          "S2",
          "S2",
          "S2",
          "S2",
          "S2",
          "S2",
          "S2",
          "S2",
          "S2",
          "S2",
          "S2",
          "S2",
          "S2",
          "S2",
          "S2",
          "S2",
          "S2",
          "S2",
          "S2",
          "S2",
          "S2",
          "S2",
          "S2",
          "S2",
          "S2",
          "S2",
          "S3",
          "S3",
          "S3",
          "S3",
          "S3",
          "S3",
          "S3",
          "S3",
          "S3",
          "S3",
          "S3",
          "S3",
          "S3",
          "S3",
          "S3",
          "S3",
          "S3",
          "S3",
          "S3",
          "S3",
          "S3",
          "S3",
          "S3",
          "S3",
          "S3",
          "S3",
          "S3",
          "S3",
          "S3",
          "S3",
          "S3",
          "S3",
          "S3",
          "S3",
          "S3",
          "S3",
          "S3",
          "S3",
          "S3",
          "S3",
          "S3",
          "S3",
          "S3",
          "S3",
          "S3",
          "S3",
          "S3",
          "S3",
          "S3",
          "S3",
          "S5",
          "S5",
          "S5",
          "S5",
          "S5",
          "S5",
          "S5",
          "S5",
          "S5",
          "S5",
          "S5",
          "S5",
          "S5",
          "S5",
          "S5",
          "S5",
          "S5",
          "S5",
          "S5",
          "S5",
          "S5",
          "S5",
          "S5",
          "S5",
          "S5",
          "S5",
          "S5",
          "S5",
          "S5",
          "S5",
          "S5",
          "S5",
          "S5",
          "S5",
          "S5",
          "S5",
          "S5",
          "S5",
          "S5",
          "S5",
          "S5",
          "S5",
          "S5",
          "S5",
          "S5",
          "S5",
          "S5",
          "S5",
          "S5",
          "S5",
          "S4",
          "S4",
          "S4",
          "S4",
          "S4",
          "S4",
          "S4",
          "S4",
          "S4",
          "S4",
          "S4",
          "S4",
          "S4",
          "S4",
          "S4",
          "S4",
          "S4",
          "S4",
          "S4",
          "S4",
          "S4",
          "S4",
          "S4",
          "S4",
          "S4",
          "S4",
          "S4",
          "S4",
          "S4",
          "S4",
          "S4",
          "S4",
          "S4",
          "S4",
          "S4",
          "S4",
          "S4",
          "S4",
          "S4",
          "S4",
          "S4",
          "S4",
          "S4",
          "S4",
          "S4",
          "S4",
          "S4",
          "S4",
          "S4",
          "S4",
          "S6",
          "S6",
          "S6",
          "S6",
          "S6",
          "S6",
          "S6",
          "S6",
          "S6",
          "S6",
          "S6",
          "S6",
          "S6",
          "S6",
          "S6",
          "S6",
          "S6",
          "S6",
          "S6",
          "S6",
          "S6",
          "S6",
          "S6",
          "S6",
          "S6",
          "S6",
          "S6",
          "S6",
          "S6",
          "S6",
          "S6",
          "S6",
          "S6",
          "S6",
          "S6",
          "S6",
          "S6",
          "S6",
          "S6",
          "S6",
          "S6",
          "S6",
          "S6",
          "S6",
          "S6",
          "S6",
          "S6",
          "S6",
          "S6",
          "S6",
          "S7",
          "S7",
          "S7",
          "S7",
          "S7",
          "S7",
          "S7",
          "S7",
          "S7",
          "S7",
          "S7",
          "S7",
          "S7",
          "S7",
          "S7",
          "S7",
          "S7",
          "S7",
          "S7",
          "S7",
          "S7",
          "S7",
          "S7",
          "S7",
          "S7",
          "S7",
          "S7",
          "S7",
          "S7",
          "S7",
          "S7",
          "S7",
          "S7",
          "S7",
          "S7",
          "S7",
          "S7",
          "S7",
          "S7",
          "S7",
          "S7",
          "S7",
          "S7",
          "S7",
          "S7",
          "S7",
          "S7",
          "S7",
          "S7",
          "S7",
          "S8",
          "S8",
          "S8",
          "S8",
          "S8",
          "S8",
          "S8",
          "S8",
          "S8",
          "S8",
          "S8",
          "S8",
          "S8",
          "S8",
          "S8",
          "S8",
          "S8",
          "S8",
          "S8",
          "S8",
          "S8",
          "S8",
          "S8",
          "S8",
          "S8",
          "S8",
          "S8",
          "S8",
          "S8",
          "S8",
          "S8",
          "S8",
          "S8",
          "S8",
          "S8",
          "S8",
          "S8",
          "S8",
          "S8",
          "S8",
          "S8",
          "S8",
          "S8",
          "S8",
          "S8",
          "S8",
          "S8",
          "S8",
          "S8",
          "S8"
         ],
         "x0": " ",
         "xaxis": "x",
         "y": [
          0.39814814814814814,
          0.3888888888888889,
          0.37962962962962965,
          0.36574074074074076,
          0.37037037037037035,
          0.3888888888888889,
          0.40046296296296297,
          0.33564814814814814,
          0.3819444444444444,
          0.38657407407407407,
          0.35648148148148145,
          0.39351851851851855,
          0.3958333333333333,
          0.3912037037037037,
          0.3680555555555556,
          0.3819444444444444,
          0.37037037037037035,
          0.3819444444444444,
          0.3611111111111111,
          0.3819444444444444,
          0.375,
          0.3888888888888889,
          0.375,
          0.3611111111111111,
          0.3773148148148148,
          0.39351851851851855,
          0.36342592592592593,
          0.39351851851851855,
          0.4050925925925926,
          0.35185185185185186,
          0.3888888888888889,
          0.4305555555555556,
          0.3726851851851852,
          0.37962962962962965,
          0.3819444444444444,
          0.36574074074074076,
          0.3912037037037037,
          0.3773148148148148,
          0.375,
          0.375,
          0.39814814814814814,
          0.37037037037037035,
          0.3680555555555556,
          0.39351851851851855,
          0.38657407407407407,
          0.3611111111111111,
          0.375,
          0.3587962962962963,
          0.3680555555555556,
          0.375,
          0.4166666666666667,
          0.40540540540540543,
          0.42117117117117114,
          0.38063063063063063,
          0.40765765765765766,
          0.3963963963963964,
          0.38063063063063063,
          0.35585585585585583,
          0.3963963963963964,
          0.3761261261261261,
          0.3918918918918919,
          0.38288288288288286,
          0.36936936936936937,
          0.4009009009009009,
          0.3918918918918919,
          0.38738738738738737,
          0.38738738738738737,
          0.38288288288288286,
          0.39864864864864863,
          0.3963963963963964,
          0.3963963963963964,
          0.3761261261261261,
          0.40765765765765766,
          0.3738738738738739,
          0.4166666666666667,
          0.3783783783783784,
          0.3963963963963964,
          0.38513513513513514,
          0.3963963963963964,
          0.39414414414414417,
          0.40540540540540543,
          0.4009009009009009,
          0.4166666666666667,
          0.4009009009009009,
          0.42792792792792794,
          0.3536036036036036,
          0.38513513513513514,
          0.3761261261261261,
          0.38063063063063063,
          0.3918918918918919,
          0.38738738738738737,
          0.40765765765765766,
          0.40765765765765766,
          0.39864864864864863,
          0.3963963963963964,
          0.40765765765765766,
          0.3761261261261261,
          0.4009009009009009,
          0.41216216216216217,
          0.3963963963963964,
          0.30434782608695654,
          0.2898550724637681,
          0.32608695652173914,
          0.3188405797101449,
          0.2826086956521739,
          0.2826086956521739,
          0.2826086956521739,
          0.26811594202898553,
          0.30434782608695654,
          0.3188405797101449,
          0.2898550724637681,
          0.2753623188405797,
          0.34782608695652173,
          0.32608695652173914,
          0.2826086956521739,
          0.2463768115942029,
          0.2608695652173913,
          0.2753623188405797,
          0.2971014492753623,
          0.2898550724637681,
          0.3115942028985507,
          0.3188405797101449,
          0.32608695652173914,
          0.2826086956521739,
          0.2898550724637681,
          0.2753623188405797,
          0.2971014492753623,
          0.2898550724637681,
          0.2898550724637681,
          0.2246376811594203,
          0.3188405797101449,
          0.2536231884057971,
          0.2898550724637681,
          0.2753623188405797,
          0.3333333333333333,
          0.34782608695652173,
          0.26811594202898553,
          0.2753623188405797,
          0.30434782608695654,
          0.3333333333333333,
          0.3115942028985507,
          0.2971014492753623,
          0.34782608695652173,
          0.2971014492753623,
          0.26811594202898553,
          0.26811594202898553,
          0.30434782608695654,
          0.2608695652173913,
          0.3115942028985507,
          0.2898550724637681,
          0.1456953642384106,
          0.17439293598233996,
          0.1390728476821192,
          0.20088300220750552,
          0.18543046357615894,
          0.16777041942604856,
          0.17439293598233996,
          0.152317880794702,
          0.15011037527593818,
          0.20309050772626933,
          0.18101545253863136,
          0.16556291390728478,
          0.17660044150110377,
          0.16335540838852097,
          0.17660044150110377,
          0.18322295805739514,
          0.17218543046357615,
          0.17660044150110377,
          0.16777041942604856,
          0.141280353200883,
          0.17218543046357615,
          0.16114790286975716,
          0.16997792494481237,
          0.18322295805739514,
          0.17439293598233996,
          0.16335540838852097,
          0.15894039735099338,
          0.17218543046357615,
          0.16997792494481237,
          0.15894039735099338,
          0.17660044150110377,
          0.17880794701986755,
          0.16114790286975716,
          0.16777041942604856,
          0.1545253863134658,
          0.15673289183222958,
          0.18101545253863136,
          0.1456953642384106,
          0.16997792494481237,
          0.19205298013245034,
          0.16997792494481237,
          0.17218543046357615,
          0.17439293598233996,
          0.152317880794702,
          0.16777041942604856,
          0.15011037527593818,
          0.1390728476821192,
          0.1986754966887417,
          0.1390728476821192,
          0.16777041942604856,
          0.17439293598233996,
          0.1280353200883002,
          0.13245033112582782,
          0.13245033112582782,
          0.15894039735099338,
          0.11258278145695365,
          0.152317880794702,
          0.13024282560706402,
          0.1280353200883002,
          0.13024282560706402,
          0.12582781456953643,
          0.15011037527593818,
          0.1368653421633554,
          0.1434878587196468,
          0.1456953642384106,
          0.1545253863134658,
          0.11920529801324503,
          0.1346578366445916,
          0.1456953642384106,
          0.15011037527593818,
          0.1390728476821192,
          0.13024282560706402,
          0.1434878587196468,
          0.1280353200883002,
          0.1346578366445916,
          0.1434878587196468,
          0.141280353200883,
          0.13024282560706402,
          0.1390728476821192,
          0.11920529801324503,
          0.15011037527593818,
          0.1434878587196468,
          0.1280353200883002,
          0.15011037527593818,
          0.1368653421633554,
          0.12582781456953643,
          0.1434878587196468,
          0.17218543046357615,
          0.141280353200883,
          0.12582781456953643,
          0.1434878587196468,
          0.11037527593818984,
          0.1456953642384106,
          0.13024282560706402,
          0.13024282560706402,
          0.1390728476821192,
          0.12362030905077263,
          0.12362030905077263,
          0.1545253863134658,
          0.1456953642384106,
          0.17761557177615572,
          0.1654501216545012,
          0.18491484184914841,
          0.18491484184914841,
          0.15815085158150852,
          0.17274939172749393,
          0.15328467153284672,
          0.1873479318734793,
          0.1922141119221411,
          0.18491484184914841,
          0.20194647201946472,
          0.1897810218978102,
          0.18248175182481752,
          0.170316301703163,
          0.19464720194647203,
          0.170316301703163,
          0.17761557177615572,
          0.17761557177615572,
          0.170316301703163,
          0.20194647201946472,
          0.16058394160583941,
          0.1873479318734793,
          0.17518248175182483,
          0.1897810218978102,
          0.18248175182481752,
          0.20194647201946472,
          0.1654501216545012,
          0.16058394160583941,
          0.1654501216545012,
          0.17518248175182483,
          0.20681265206812652,
          0.20924574209245742,
          0.18491484184914841,
          0.19951338199513383,
          0.18004866180048662,
          0.17518248175182483,
          0.1922141119221411,
          0.18248175182481752,
          0.17761557177615572,
          0.19951338199513383,
          0.19708029197080293,
          0.17518248175182483,
          0.18004866180048662,
          0.19951338199513383,
          0.1630170316301703,
          0.1654501216545012,
          0.18491484184914841,
          0.1922141119221411,
          0.18248175182481752,
          0.19708029197080293,
          0.09692671394799054,
          0.09456264775413711,
          0.09456264775413711,
          0.08747044917257683,
          0.08983451536643026,
          0.09219858156028368,
          0.09692671394799054,
          0.09929078014184398,
          0.08983451536643026,
          0.08983451536643026,
          0.07801418439716312,
          0.12293144208037825,
          0.08274231678486997,
          0.10638297872340426,
          0.10401891252955082,
          0.1016548463356974,
          0.0851063829787234,
          0.07565011820330969,
          0.08747044917257683,
          0.1016548463356974,
          0.09219858156028368,
          0.0851063829787234,
          0.08037825059101655,
          0.09929078014184398,
          0.09219858156028368,
          0.09929078014184398,
          0.09219858156028368,
          0.09692671394799054,
          0.08274231678486997,
          0.1111111111111111,
          0.1182033096926714,
          0.09219858156028368,
          0.08274231678486997,
          0.10401891252955082,
          0.08983451536643026,
          0.10874704491725769,
          0.09692671394799054,
          0.1016548463356974,
          0.09456264775413711,
          0.11347517730496454,
          0.07801418439716312,
          0.09219858156028368,
          0.10401891252955082,
          0.09929078014184398,
          0.10874704491725769,
          0.09929078014184398,
          0.10874704491725769,
          0.09456264775413711,
          0.10638297872340426,
          0.09929078014184398,
          0.2808988764044944,
          0.27340823970037453,
          0.27340823970037453,
          0.30337078651685395,
          0.28277153558052437,
          0.301498127340824,
          0.2752808988764045,
          0.2940074906367041,
          0.2902621722846442,
          0.27902621722846443,
          0.26217228464419473,
          0.27902621722846443,
          0.26779026217228463,
          0.28651685393258425,
          0.2696629213483146,
          0.2808988764044944,
          0.26779026217228463,
          0.2902621722846442,
          0.27153558052434457,
          0.2602996254681648,
          0.29213483146067415,
          0.2602996254681648,
          0.26591760299625467,
          0.27902621722846443,
          0.2752808988764045,
          0.3052434456928839,
          0.27902621722846443,
          0.27153558052434457,
          0.2902621722846442,
          0.27340823970037453,
          0.2640449438202247,
          0.27340823970037453,
          0.2546816479400749,
          0.2883895131086142,
          0.28651685393258425,
          0.27153558052434457,
          0.250936329588015,
          0.27715355805243447,
          0.29213483146067415,
          0.30711610486891383,
          0.28651685393258425,
          0.3052434456928839,
          0.2808988764044944,
          0.28651685393258425,
          0.2808988764044944,
          0.2565543071161049,
          0.27902621722846443,
          0.26779026217228463,
          0.29213483146067415,
          0.26779026217228463
         ],
         "y0": " ",
         "yaxis": "y"
        },
        {
         "alignmentgroup": "True",
         "boxpoints": "all",
         "hovertemplate": "Decoding Context=Unaligned cross-patient<br>Patient=%{x}<br>accuracy=%{y}<extra></extra>",
         "legendgroup": "Unaligned cross-patient",
         "marker": {
          "color": "#EF553B"
         },
         "name": "Unaligned cross-patient",
         "notched": false,
         "offsetgroup": "Unaligned cross-patient",
         "orientation": "v",
         "showlegend": true,
         "type": "box",
         "x": [
          "S1",
          "S1",
          "S1",
          "S1",
          "S1",
          "S1",
          "S1",
          "S1",
          "S1",
          "S1",
          "S1",
          "S1",
          "S1",
          "S1",
          "S1",
          "S1",
          "S1",
          "S1",
          "S1",
          "S1",
          "S1",
          "S1",
          "S1",
          "S1",
          "S1",
          "S1",
          "S1",
          "S1",
          "S1",
          "S1",
          "S1",
          "S1",
          "S1",
          "S1",
          "S1",
          "S1",
          "S1",
          "S1",
          "S1",
          "S1",
          "S1",
          "S1",
          "S1",
          "S1",
          "S1",
          "S1",
          "S1",
          "S1",
          "S1",
          "S1",
          "S2",
          "S2",
          "S2",
          "S2",
          "S2",
          "S2",
          "S2",
          "S2",
          "S2",
          "S2",
          "S2",
          "S2",
          "S2",
          "S2",
          "S2",
          "S2",
          "S2",
          "S2",
          "S2",
          "S2",
          "S2",
          "S2",
          "S2",
          "S2",
          "S2",
          "S2",
          "S2",
          "S2",
          "S2",
          "S2",
          "S2",
          "S2",
          "S2",
          "S2",
          "S2",
          "S2",
          "S2",
          "S2",
          "S2",
          "S2",
          "S2",
          "S2",
          "S2",
          "S2",
          "S2",
          "S2",
          "S2",
          "S2",
          "S2",
          "S2",
          "S3",
          "S3",
          "S3",
          "S3",
          "S3",
          "S3",
          "S3",
          "S3",
          "S3",
          "S3",
          "S3",
          "S3",
          "S3",
          "S3",
          "S3",
          "S3",
          "S3",
          "S3",
          "S3",
          "S3",
          "S3",
          "S3",
          "S3",
          "S3",
          "S3",
          "S3",
          "S3",
          "S3",
          "S3",
          "S3",
          "S3",
          "S3",
          "S3",
          "S3",
          "S3",
          "S3",
          "S3",
          "S3",
          "S3",
          "S3",
          "S3",
          "S3",
          "S3",
          "S3",
          "S3",
          "S3",
          "S3",
          "S3",
          "S3",
          "S3",
          "S5",
          "S5",
          "S5",
          "S5",
          "S5",
          "S5",
          "S5",
          "S5",
          "S5",
          "S5",
          "S5",
          "S5",
          "S5",
          "S5",
          "S5",
          "S5",
          "S5",
          "S5",
          "S5",
          "S5",
          "S5",
          "S5",
          "S5",
          "S5",
          "S5",
          "S5",
          "S5",
          "S5",
          "S5",
          "S5",
          "S5",
          "S5",
          "S5",
          "S5",
          "S5",
          "S5",
          "S5",
          "S5",
          "S5",
          "S5",
          "S5",
          "S5",
          "S5",
          "S5",
          "S5",
          "S5",
          "S5",
          "S5",
          "S5",
          "S5",
          "S4",
          "S4",
          "S4",
          "S4",
          "S4",
          "S4",
          "S4",
          "S4",
          "S4",
          "S4",
          "S4",
          "S4",
          "S4",
          "S4",
          "S4",
          "S4",
          "S4",
          "S4",
          "S4",
          "S4",
          "S4",
          "S4",
          "S4",
          "S4",
          "S4",
          "S4",
          "S4",
          "S4",
          "S4",
          "S4",
          "S4",
          "S4",
          "S4",
          "S4",
          "S4",
          "S4",
          "S4",
          "S4",
          "S4",
          "S4",
          "S4",
          "S4",
          "S4",
          "S4",
          "S4",
          "S4",
          "S4",
          "S4",
          "S4",
          "S4",
          "S6",
          "S6",
          "S6",
          "S6",
          "S6",
          "S6",
          "S6",
          "S6",
          "S6",
          "S6",
          "S6",
          "S6",
          "S6",
          "S6",
          "S6",
          "S6",
          "S6",
          "S6",
          "S6",
          "S6",
          "S6",
          "S6",
          "S6",
          "S6",
          "S6",
          "S6",
          "S6",
          "S6",
          "S6",
          "S6",
          "S6",
          "S6",
          "S6",
          "S6",
          "S6",
          "S6",
          "S6",
          "S6",
          "S6",
          "S6",
          "S6",
          "S6",
          "S6",
          "S6",
          "S6",
          "S6",
          "S6",
          "S6",
          "S6",
          "S6",
          "S7",
          "S7",
          "S7",
          "S7",
          "S7",
          "S7",
          "S7",
          "S7",
          "S7",
          "S7",
          "S7",
          "S7",
          "S7",
          "S7",
          "S7",
          "S7",
          "S7",
          "S7",
          "S7",
          "S7",
          "S7",
          "S7",
          "S7",
          "S7",
          "S7",
          "S7",
          "S7",
          "S7",
          "S7",
          "S7",
          "S7",
          "S7",
          "S7",
          "S7",
          "S7",
          "S7",
          "S7",
          "S7",
          "S7",
          "S7",
          "S7",
          "S7",
          "S7",
          "S7",
          "S7",
          "S7",
          "S7",
          "S7",
          "S7",
          "S7",
          "S8",
          "S8",
          "S8",
          "S8",
          "S8",
          "S8",
          "S8",
          "S8",
          "S8",
          "S8",
          "S8",
          "S8",
          "S8",
          "S8",
          "S8",
          "S8",
          "S8",
          "S8",
          "S8",
          "S8",
          "S8",
          "S8",
          "S8",
          "S8",
          "S8",
          "S8",
          "S8",
          "S8",
          "S8",
          "S8",
          "S8",
          "S8",
          "S8",
          "S8",
          "S8",
          "S8",
          "S8",
          "S8",
          "S8",
          "S8",
          "S8",
          "S8",
          "S8",
          "S8",
          "S8",
          "S8",
          "S8",
          "S8",
          "S8",
          "S8"
         ],
         "x0": " ",
         "xaxis": "x",
         "y": [
          0.28703703703703703,
          0.2962962962962963,
          0.30092592592592593,
          0.2824074074074074,
          0.3101851851851852,
          0.2986111111111111,
          0.2916666666666667,
          0.2986111111111111,
          0.2847222222222222,
          0.28703703703703703,
          0.2986111111111111,
          0.27546296296296297,
          0.2986111111111111,
          0.2916666666666667,
          0.2916666666666667,
          0.2777777777777778,
          0.27314814814814814,
          0.2986111111111111,
          0.30324074074074076,
          0.29398148148148145,
          0.3055555555555556,
          0.2986111111111111,
          0.2777777777777778,
          0.2800925925925926,
          0.2986111111111111,
          0.27314814814814814,
          0.3148148148148148,
          0.30787037037037035,
          0.2824074074074074,
          0.29398148148148145,
          0.27546296296296297,
          0.3055555555555556,
          0.28935185185185186,
          0.3055555555555556,
          0.28703703703703703,
          0.30092592592592593,
          0.28703703703703703,
          0.29398148148148145,
          0.2847222222222222,
          0.28703703703703703,
          0.3148148148148148,
          0.30324074074074076,
          0.3148148148148148,
          0.27314814814814814,
          0.27314814814814814,
          0.2800925925925926,
          0.28935185185185186,
          0.3055555555555556,
          0.2962962962962963,
          0.2962962962962963,
          0.24324324324324326,
          0.25675675675675674,
          0.25675675675675674,
          0.21621621621621623,
          0.240990990990991,
          0.23873873873873874,
          0.22297297297297297,
          0.23423423423423423,
          0.25,
          0.21621621621621623,
          0.22522522522522523,
          0.240990990990991,
          0.24549549549549549,
          0.23423423423423423,
          0.24549549549549549,
          0.24324324324324326,
          0.21171171171171171,
          0.22972972972972974,
          0.21396396396396397,
          0.21621621621621623,
          0.22972972972972974,
          0.24549549549549549,
          0.21621621621621623,
          0.23873873873873874,
          0.22522522522522523,
          0.23873873873873874,
          0.22297297297297297,
          0.24774774774774774,
          0.240990990990991,
          0.22297297297297297,
          0.24549549549549549,
          0.23873873873873874,
          0.268018018018018,
          0.21846846846846846,
          0.2545045045045045,
          0.22747747747747749,
          0.22072072072072071,
          0.23423423423423423,
          0.21846846846846846,
          0.240990990990991,
          0.22972972972972974,
          0.22972972972972974,
          0.22072072072072071,
          0.23873873873873874,
          0.22072072072072071,
          0.23873873873873874,
          0.240990990990991,
          0.23648648648648649,
          0.23873873873873874,
          0.23648648648648649,
          0.2028985507246377,
          0.2028985507246377,
          0.26811594202898553,
          0.2028985507246377,
          0.2608695652173913,
          0.26811594202898553,
          0.2463768115942029,
          0.1956521739130435,
          0.2318840579710145,
          0.2246376811594203,
          0.2391304347826087,
          0.2391304347826087,
          0.2536231884057971,
          0.2536231884057971,
          0.21739130434782608,
          0.2463768115942029,
          0.2536231884057971,
          0.2536231884057971,
          0.2463768115942029,
          0.2391304347826087,
          0.2391304347826087,
          0.2246376811594203,
          0.2536231884057971,
          0.26811594202898553,
          0.2898550724637681,
          0.2536231884057971,
          0.2536231884057971,
          0.2391304347826087,
          0.26811594202898553,
          0.2246376811594203,
          0.2246376811594203,
          0.21014492753623187,
          0.2898550724637681,
          0.2318840579710145,
          0.2536231884057971,
          0.2391304347826087,
          0.2463768115942029,
          0.21739130434782608,
          0.2246376811594203,
          0.2608695652173913,
          0.2391304347826087,
          0.2463768115942029,
          0.2608695652173913,
          0.21014492753623187,
          0.2536231884057971,
          0.21739130434782608,
          0.21014492753623187,
          0.2391304347826087,
          0.2246376811594203,
          0.2608695652173913,
          0.1545253863134658,
          0.1346578366445916,
          0.16114790286975716,
          0.152317880794702,
          0.16335540838852097,
          0.15673289183222958,
          0.13024282560706402,
          0.15011037527593818,
          0.17218543046357615,
          0.1346578366445916,
          0.152317880794702,
          0.16556291390728478,
          0.1390728476821192,
          0.1479028697571744,
          0.1434878587196468,
          0.15894039735099338,
          0.15894039735099338,
          0.1479028697571744,
          0.1434878587196468,
          0.1368653421633554,
          0.11920529801324503,
          0.18322295805739514,
          0.15894039735099338,
          0.152317880794702,
          0.15011037527593818,
          0.1545253863134658,
          0.141280353200883,
          0.1390728476821192,
          0.1346578366445916,
          0.16114790286975716,
          0.1456953642384106,
          0.1479028697571744,
          0.12362030905077263,
          0.15673289183222958,
          0.16335540838852097,
          0.1434878587196468,
          0.17218543046357615,
          0.15011037527593818,
          0.1545253863134658,
          0.15673289183222958,
          0.16335540838852097,
          0.13245033112582782,
          0.15011037527593818,
          0.1346578366445916,
          0.1346578366445916,
          0.1479028697571744,
          0.1346578366445916,
          0.16114790286975716,
          0.152317880794702,
          0.16114790286975716,
          0.11037527593818984,
          0.12362030905077263,
          0.10816777041942605,
          0.10816777041942605,
          0.10816777041942605,
          0.09713024282560706,
          0.13245033112582782,
          0.12141280353200883,
          0.11920529801324503,
          0.11258278145695365,
          0.11258278145695365,
          0.11479028697571744,
          0.11920529801324503,
          0.11258278145695365,
          0.11037527593818984,
          0.12362030905077263,
          0.1346578366445916,
          0.11258278145695365,
          0.10154525386313466,
          0.10816777041942605,
          0.10816777041942605,
          0.11479028697571744,
          0.13024282560706402,
          0.10596026490066225,
          0.11920529801324503,
          0.13024282560706402,
          0.09933774834437085,
          0.11037527593818984,
          0.10816777041942605,
          0.13024282560706402,
          0.1346578366445916,
          0.11699779249448124,
          0.12362030905077263,
          0.11258278145695365,
          0.11699779249448124,
          0.10154525386313466,
          0.09933774834437085,
          0.12362030905077263,
          0.11479028697571744,
          0.12582781456953643,
          0.11037527593818984,
          0.10375275938189846,
          0.10816777041942605,
          0.11258278145695365,
          0.11920529801324503,
          0.10375275938189846,
          0.09933774834437085,
          0.12362030905077263,
          0.12362030905077263,
          0.1280353200883002,
          0.15815085158150852,
          0.17518248175182483,
          0.16058394160583941,
          0.18004866180048662,
          0.15328467153284672,
          0.1873479318734793,
          0.170316301703163,
          0.1873479318734793,
          0.19708029197080293,
          0.18491484184914841,
          0.17274939172749393,
          0.17518248175182483,
          0.17518248175182483,
          0.1873479318734793,
          0.1678832116788321,
          0.1922141119221411,
          0.1678832116788321,
          0.19464720194647203,
          0.17761557177615572,
          0.16058394160583941,
          0.1630170316301703,
          0.170316301703163,
          0.15815085158150852,
          0.18004866180048662,
          0.17518248175182483,
          0.1873479318734793,
          0.17518248175182483,
          0.18004866180048662,
          0.1386861313868613,
          0.1630170316301703,
          0.17761557177615572,
          0.1654501216545012,
          0.1435523114355231,
          0.17274939172749393,
          0.17761557177615572,
          0.18491484184914841,
          0.15815085158150852,
          0.16058394160583941,
          0.19951338199513383,
          0.18491484184914841,
          0.20194647201946472,
          0.17761557177615572,
          0.15085158150851583,
          0.1654501216545012,
          0.17761557177615572,
          0.17761557177615572,
          0.17518248175182483,
          0.1873479318734793,
          0.15571776155717762,
          0.19708029197080293,
          0.09929078014184398,
          0.08274231678486997,
          0.10401891252955082,
          0.09219858156028368,
          0.08747044917257683,
          0.0851063829787234,
          0.1111111111111111,
          0.09456264775413711,
          0.0851063829787234,
          0.1182033096926714,
          0.0851063829787234,
          0.09692671394799054,
          0.07565011820330969,
          0.08747044917257683,
          0.09929078014184398,
          0.0851063829787234,
          0.09219858156028368,
          0.09456264775413711,
          0.09456264775413711,
          0.09456264775413711,
          0.10401891252955082,
          0.10638297872340426,
          0.08037825059101655,
          0.10874704491725769,
          0.10638297872340426,
          0.08983451536643026,
          0.10638297872340426,
          0.08983451536643026,
          0.0851063829787234,
          0.09219858156028368,
          0.07565011820330969,
          0.09219858156028368,
          0.09929078014184398,
          0.08274231678486997,
          0.08274231678486997,
          0.1016548463356974,
          0.1016548463356974,
          0.1016548463356974,
          0.08274231678486997,
          0.1111111111111111,
          0.09456264775413711,
          0.08747044917257683,
          0.09692671394799054,
          0.08983451536643026,
          0.09456264775413711,
          0.09929078014184398,
          0.1111111111111111,
          0.11347517730496454,
          0.09219858156028368,
          0.07801418439716312,
          0.22659176029962547,
          0.20786516853932585,
          0.2303370786516854,
          0.21910112359550563,
          0.21722846441947566,
          0.22284644194756553,
          0.22659176029962547,
          0.20411985018726592,
          0.2303370786516854,
          0.22659176029962547,
          0.2209737827715356,
          0.21161048689138576,
          0.22284644194756553,
          0.21348314606741572,
          0.23595505617977527,
          0.24344569288389514,
          0.2247191011235955,
          0.24157303370786518,
          0.23220973782771537,
          0.21161048689138576,
          0.23782771535580524,
          0.21161048689138576,
          0.20786516853932585,
          0.22846441947565543,
          0.22659176029962547,
          0.2247191011235955,
          0.22284644194756553,
          0.2546816479400749,
          0.2602996254681648,
          0.23782771535580524,
          0.22284644194756553,
          0.2340823970037453,
          0.20599250936329588,
          0.2153558052434457,
          0.22659176029962547,
          0.22284644194756553,
          0.23782771535580524,
          0.2209737827715356,
          0.23595505617977527,
          0.2340823970037453,
          0.2303370786516854,
          0.21722846441947566,
          0.2247191011235955,
          0.20973782771535582,
          0.2340823970037453,
          0.21348314606741572,
          0.24906367041198502,
          0.24157303370786518,
          0.20973782771535582,
          0.2340823970037453
         ],
         "y0": " ",
         "yaxis": "y"
        },
        {
         "alignmentgroup": "True",
         "boxpoints": "all",
         "hovertemplate": "Decoding Context=Aligned cross-patient<br>Patient=%{x}<br>accuracy=%{y}<extra></extra>",
         "legendgroup": "Aligned cross-patient",
         "marker": {
          "color": "#AB63FA"
         },
         "name": "Aligned cross-patient",
         "notched": false,
         "offsetgroup": "Aligned cross-patient",
         "orientation": "v",
         "showlegend": true,
         "type": "box",
         "x": [
          "S1",
          "S1",
          "S1",
          "S1",
          "S1",
          "S1",
          "S1",
          "S1",
          "S1",
          "S1",
          "S1",
          "S1",
          "S1",
          "S1",
          "S1",
          "S1",
          "S1",
          "S1",
          "S1",
          "S1",
          "S1",
          "S1",
          "S1",
          "S1",
          "S1",
          "S1",
          "S1",
          "S1",
          "S1",
          "S1",
          "S1",
          "S1",
          "S1",
          "S1",
          "S1",
          "S1",
          "S1",
          "S1",
          "S1",
          "S1",
          "S1",
          "S1",
          "S1",
          "S1",
          "S1",
          "S1",
          "S1",
          "S1",
          "S1",
          "S1",
          "S2",
          "S2",
          "S2",
          "S2",
          "S2",
          "S2",
          "S2",
          "S2",
          "S2",
          "S2",
          "S2",
          "S2",
          "S2",
          "S2",
          "S2",
          "S2",
          "S2",
          "S2",
          "S2",
          "S2",
          "S2",
          "S2",
          "S2",
          "S2",
          "S2",
          "S2",
          "S2",
          "S2",
          "S2",
          "S2",
          "S2",
          "S2",
          "S2",
          "S2",
          "S2",
          "S2",
          "S2",
          "S2",
          "S2",
          "S2",
          "S2",
          "S2",
          "S2",
          "S2",
          "S2",
          "S2",
          "S2",
          "S2",
          "S2",
          "S2",
          "S3",
          "S3",
          "S3",
          "S3",
          "S3",
          "S3",
          "S3",
          "S3",
          "S3",
          "S3",
          "S3",
          "S3",
          "S3",
          "S3",
          "S3",
          "S3",
          "S3",
          "S3",
          "S3",
          "S3",
          "S3",
          "S3",
          "S3",
          "S3",
          "S3",
          "S3",
          "S3",
          "S3",
          "S3",
          "S3",
          "S3",
          "S3",
          "S3",
          "S3",
          "S3",
          "S3",
          "S3",
          "S3",
          "S3",
          "S3",
          "S3",
          "S3",
          "S3",
          "S3",
          "S3",
          "S3",
          "S3",
          "S3",
          "S3",
          "S3",
          "S5",
          "S5",
          "S5",
          "S5",
          "S5",
          "S5",
          "S5",
          "S5",
          "S5",
          "S5",
          "S5",
          "S5",
          "S5",
          "S5",
          "S5",
          "S5",
          "S5",
          "S5",
          "S5",
          "S5",
          "S5",
          "S5",
          "S5",
          "S5",
          "S5",
          "S5",
          "S5",
          "S5",
          "S5",
          "S5",
          "S5",
          "S5",
          "S5",
          "S5",
          "S5",
          "S5",
          "S5",
          "S5",
          "S5",
          "S5",
          "S5",
          "S5",
          "S5",
          "S5",
          "S5",
          "S5",
          "S5",
          "S5",
          "S5",
          "S5",
          "S4",
          "S4",
          "S4",
          "S4",
          "S4",
          "S4",
          "S4",
          "S4",
          "S4",
          "S4",
          "S4",
          "S4",
          "S4",
          "S4",
          "S4",
          "S4",
          "S4",
          "S4",
          "S4",
          "S4",
          "S4",
          "S4",
          "S4",
          "S4",
          "S4",
          "S4",
          "S4",
          "S4",
          "S4",
          "S4",
          "S4",
          "S4",
          "S4",
          "S4",
          "S4",
          "S4",
          "S4",
          "S4",
          "S4",
          "S4",
          "S4",
          "S4",
          "S4",
          "S4",
          "S4",
          "S4",
          "S4",
          "S4",
          "S4",
          "S4",
          "S6",
          "S6",
          "S6",
          "S6",
          "S6",
          "S6",
          "S6",
          "S6",
          "S6",
          "S6",
          "S6",
          "S6",
          "S6",
          "S6",
          "S6",
          "S6",
          "S6",
          "S6",
          "S6",
          "S6",
          "S6",
          "S6",
          "S6",
          "S6",
          "S6",
          "S6",
          "S6",
          "S6",
          "S6",
          "S6",
          "S6",
          "S6",
          "S6",
          "S6",
          "S6",
          "S6",
          "S6",
          "S6",
          "S6",
          "S6",
          "S6",
          "S6",
          "S6",
          "S6",
          "S6",
          "S6",
          "S6",
          "S6",
          "S6",
          "S6",
          "S7",
          "S7",
          "S7",
          "S7",
          "S7",
          "S7",
          "S7",
          "S7",
          "S7",
          "S7",
          "S7",
          "S7",
          "S7",
          "S7",
          "S7",
          "S7",
          "S7",
          "S7",
          "S7",
          "S7",
          "S7",
          "S7",
          "S7",
          "S7",
          "S7",
          "S7",
          "S7",
          "S7",
          "S7",
          "S7",
          "S7",
          "S7",
          "S7",
          "S7",
          "S7",
          "S7",
          "S7",
          "S7",
          "S7",
          "S7",
          "S7",
          "S7",
          "S7",
          "S7",
          "S7",
          "S7",
          "S7",
          "S7",
          "S7",
          "S7",
          "S8",
          "S8",
          "S8",
          "S8",
          "S8",
          "S8",
          "S8",
          "S8",
          "S8",
          "S8",
          "S8",
          "S8",
          "S8",
          "S8",
          "S8",
          "S8",
          "S8",
          "S8",
          "S8",
          "S8",
          "S8",
          "S8",
          "S8",
          "S8",
          "S8",
          "S8",
          "S8",
          "S8",
          "S8",
          "S8",
          "S8",
          "S8",
          "S8",
          "S8",
          "S8",
          "S8",
          "S8",
          "S8",
          "S8",
          "S8",
          "S8",
          "S8",
          "S8",
          "S8",
          "S8",
          "S8",
          "S8",
          "S8",
          "S8",
          "S8"
         ],
         "x0": " ",
         "xaxis": "x",
         "y": [
          0.42824074074074076,
          0.41435185185185186,
          0.4236111111111111,
          0.3958333333333333,
          0.4212962962962963,
          0.4050925925925926,
          0.3912037037037037,
          0.4097222222222222,
          0.40046296296296297,
          0.41898148148148145,
          0.4074074074074074,
          0.39814814814814814,
          0.4027777777777778,
          0.3726851851851852,
          0.39351851851851855,
          0.38657407407407407,
          0.40046296296296297,
          0.39351851851851855,
          0.4212962962962963,
          0.3773148148148148,
          0.4050925925925926,
          0.39814814814814814,
          0.39814814814814814,
          0.39814814814814814,
          0.39351851851851855,
          0.4097222222222222,
          0.4097222222222222,
          0.39814814814814814,
          0.41435185185185186,
          0.4236111111111111,
          0.3958333333333333,
          0.41203703703703703,
          0.39814814814814814,
          0.3958333333333333,
          0.4305555555555556,
          0.39814814814814814,
          0.4074074074074074,
          0.4212962962962963,
          0.41203703703703703,
          0.375,
          0.41898148148148145,
          0.4050925925925926,
          0.4050925925925926,
          0.43287037037037035,
          0.3819444444444444,
          0.41898148148148145,
          0.39351851851851855,
          0.39814814814814814,
          0.4166666666666667,
          0.3912037037037037,
          0.4436936936936937,
          0.45495495495495497,
          0.4617117117117117,
          0.4369369369369369,
          0.4436936936936937,
          0.45045045045045046,
          0.4436936936936937,
          0.4436936936936937,
          0.47297297297297297,
          0.4617117117117117,
          0.44594594594594594,
          0.4391891891891892,
          0.4436936936936937,
          0.45045045045045046,
          0.4369369369369369,
          0.45495495495495497,
          0.47297297297297297,
          0.44819819819819817,
          0.46846846846846846,
          0.4346846846846847,
          0.44144144144144143,
          0.4594594594594595,
          0.4594594594594595,
          0.4346846846846847,
          0.4436936936936937,
          0.45045045045045046,
          0.4572072072072072,
          0.46396396396396394,
          0.47297297297297297,
          0.46621621621621623,
          0.4572072072072072,
          0.4594594594594595,
          0.46621621621621623,
          0.45045045045045046,
          0.4594594594594595,
          0.4436936936936937,
          0.4572072072072072,
          0.4436936936936937,
          0.46396396396396394,
          0.4346846846846847,
          0.44144144144144143,
          0.4774774774774775,
          0.4572072072072072,
          0.4391891891891892,
          0.44819819819819817,
          0.4369369369369369,
          0.4436936936936937,
          0.44819819819819817,
          0.45045045045045046,
          0.43243243243243246,
          0.5289855072463768,
          0.5362318840579711,
          0.5362318840579711,
          0.5,
          0.5217391304347826,
          0.5217391304347826,
          0.5217391304347826,
          0.5144927536231884,
          0.5434782608695652,
          0.5507246376811594,
          0.5434782608695652,
          0.5362318840579711,
          0.5144927536231884,
          0.5072463768115942,
          0.5217391304347826,
          0.5434782608695652,
          0.5144927536231884,
          0.5072463768115942,
          0.5072463768115942,
          0.5217391304347826,
          0.4927536231884058,
          0.5217391304347826,
          0.5434782608695652,
          0.5289855072463768,
          0.5144927536231884,
          0.45652173913043476,
          0.5217391304347826,
          0.4927536231884058,
          0.4927536231884058,
          0.5217391304347826,
          0.5362318840579711,
          0.5362318840579711,
          0.5289855072463768,
          0.5507246376811594,
          0.5434782608695652,
          0.5217391304347826,
          0.5434782608695652,
          0.5652173913043478,
          0.5144927536231884,
          0.5289855072463768,
          0.5434782608695652,
          0.4855072463768116,
          0.5144927536231884,
          0.5434782608695652,
          0.5434782608695652,
          0.5507246376811594,
          0.5434782608695652,
          0.5217391304347826,
          0.5652173913043478,
          0.5072463768115942,
          0.22075055187637968,
          0.20309050772626933,
          0.19205298013245034,
          0.2141280353200883,
          0.2251655629139073,
          0.20088300220750552,
          0.20088300220750552,
          0.2141280353200883,
          0.23178807947019867,
          0.2163355408388521,
          0.22075055187637968,
          0.22075055187637968,
          0.2163355408388521,
          0.2141280353200883,
          0.23399558498896247,
          0.2185430463576159,
          0.19646799116997793,
          0.22075055187637968,
          0.23178807947019867,
          0.20088300220750552,
          0.2163355408388521,
          0.2229580573951435,
          0.2119205298013245,
          0.22075055187637968,
          0.2185430463576159,
          0.20750551876379691,
          0.20309050772626933,
          0.2052980132450331,
          0.19646799116997793,
          0.20309050772626933,
          0.2052980132450331,
          0.2052980132450331,
          0.22737306843267108,
          0.2097130242825607,
          0.2119205298013245,
          0.2251655629139073,
          0.2097130242825607,
          0.23620309050772628,
          0.2163355408388521,
          0.23841059602649006,
          0.2052980132450331,
          0.2229580573951435,
          0.20750551876379691,
          0.2229580573951435,
          0.23841059602649006,
          0.2141280353200883,
          0.2097130242825607,
          0.2119205298013245,
          0.2163355408388521,
          0.2185430463576159,
          0.16114790286975716,
          0.18101545253863136,
          0.16335540838852097,
          0.18543046357615894,
          0.15673289183222958,
          0.16556291390728478,
          0.19205298013245034,
          0.16777041942604856,
          0.18101545253863136,
          0.16777041942604856,
          0.17218543046357615,
          0.17880794701986755,
          0.16997792494481237,
          0.15894039735099338,
          0.1545253863134658,
          0.17218543046357615,
          0.19426048565121412,
          0.16556291390728478,
          0.19426048565121412,
          0.15894039735099338,
          0.16556291390728478,
          0.18543046357615894,
          0.15673289183222958,
          0.17660044150110377,
          0.16114790286975716,
          0.16997792494481237,
          0.17439293598233996,
          0.17880794701986755,
          0.16777041942604856,
          0.18543046357615894,
          0.17880794701986755,
          0.152317880794702,
          0.18322295805739514,
          0.17660044150110377,
          0.16556291390728478,
          0.17660044150110377,
          0.16114790286975716,
          0.17439293598233996,
          0.16777041942604856,
          0.1545253863134658,
          0.16997792494481237,
          0.17439293598233996,
          0.18322295805739514,
          0.18763796909492272,
          0.18322295805739514,
          0.16997792494481237,
          0.18763796909492272,
          0.152317880794702,
          0.16997792494481237,
          0.18101545253863136,
          0.2384428223844282,
          0.2384428223844282,
          0.23357664233576642,
          0.24817518248175183,
          0.25060827250608275,
          0.21654501216545013,
          0.2360097323600973,
          0.21897810218978103,
          0.22141119221411193,
          0.24817518248175183,
          0.22384428223844283,
          0.22384428223844283,
          0.22384428223844283,
          0.2384428223844282,
          0.22141119221411193,
          0.22627737226277372,
          0.25790754257907544,
          0.19951338199513383,
          0.24087591240875914,
          0.24087591240875914,
          0.2384428223844282,
          0.23357664233576642,
          0.2384428223844282,
          0.22871046228710462,
          0.20681265206812652,
          0.2360097323600973,
          0.21654501216545013,
          0.24574209245742093,
          0.20437956204379562,
          0.22141119221411193,
          0.22627737226277372,
          0.22384428223844283,
          0.26034063260340634,
          0.19951338199513383,
          0.22627737226277372,
          0.2116788321167883,
          0.24087591240875914,
          0.22871046228710462,
          0.20681265206812652,
          0.24087591240875914,
          0.26763990267639903,
          0.2384428223844282,
          0.24087591240875914,
          0.20437956204379562,
          0.21654501216545013,
          0.25304136253041365,
          0.21654501216545013,
          0.22141119221411193,
          0.2360097323600973,
          0.22871046228710462,
          0.15602836879432624,
          0.14893617021276595,
          0.1607565011820331,
          0.1607565011820331,
          0.1607565011820331,
          0.16312056737588654,
          0.1773049645390071,
          0.17257683215130024,
          0.15602836879432624,
          0.16312056737588654,
          0.16312056737588654,
          0.18912529550827423,
          0.17966903073286053,
          0.17966903073286053,
          0.16548463356973994,
          0.14657210401891252,
          0.17257683215130024,
          0.1536643026004728,
          0.16548463356973994,
          0.1702127659574468,
          0.14657210401891252,
          0.15602836879432624,
          0.1607565011820331,
          0.17257683215130024,
          0.17966903073286053,
          0.15130023640661938,
          0.1536643026004728,
          0.16784869976359337,
          0.15602836879432624,
          0.14893617021276595,
          0.16784869976359337,
          0.15130023640661938,
          0.13947990543735225,
          0.17257683215130024,
          0.15602836879432624,
          0.16548463356973994,
          0.18439716312056736,
          0.16784869976359337,
          0.14893617021276595,
          0.13238770685579196,
          0.1607565011820331,
          0.15602836879432624,
          0.17257683215130024,
          0.1607565011820331,
          0.1607565011820331,
          0.14420803782505912,
          0.1702127659574468,
          0.16548463356973994,
          0.14893617021276595,
          0.1702127659574468,
          0.3445692883895131,
          0.31086142322097376,
          0.34269662921348315,
          0.3464419475655431,
          0.350187265917603,
          0.34831460674157305,
          0.36704119850187267,
          0.3352059925093633,
          0.32209737827715357,
          0.33707865168539325,
          0.350187265917603,
          0.34269662921348315,
          0.3408239700374532,
          0.350187265917603,
          0.36704119850187267,
          0.34269662921348315,
          0.3389513108614232,
          0.3464419475655431,
          0.3333333333333333,
          0.3445692883895131,
          0.3464419475655431,
          0.33707865168539325,
          0.3202247191011236,
          0.3333333333333333,
          0.3333333333333333,
          0.3333333333333333,
          0.34831460674157305,
          0.3445692883895131,
          0.31835205992509363,
          0.35580524344569286,
          0.32397003745318353,
          0.3295880149812734,
          0.34831460674157305,
          0.3295880149812734,
          0.3595505617977528,
          0.33707865168539325,
          0.35580524344569286,
          0.3352059925093633,
          0.352059925093633,
          0.37453183520599254,
          0.32771535580524347,
          0.3539325842696629,
          0.32771535580524347,
          0.352059925093633,
          0.33146067415730335,
          0.3146067415730337,
          0.3464419475655431,
          0.3352059925093633,
          0.3464419475655431,
          0.33146067415730335
         ],
         "y0": " ",
         "yaxis": "y"
        }
       ],
       "layout": {
        "annotations": [
         {
          "showarrow": false,
          "text": "Chance",
          "x": 1,
          "xanchor": "right",
          "xref": "x domain",
          "y": 0.1111111111111111,
          "yanchor": "top",
          "yref": "y"
         }
        ],
        "boxmode": "group",
        "font": {
         "family": "Arial",
         "size": 20
        },
        "height": 600,
        "legend": {
         "orientation": "h",
         "title": {
          "text": ""
         },
         "tracegroupgap": 0,
         "x": 0.01,
         "xanchor": "left",
         "y": 0.02,
         "yanchor": "bottom"
        },
        "margin": {
         "t": 60
        },
        "plot_bgcolor": "white",
        "shapes": [
         {
          "line": {
           "color": "grey",
           "dash": "dash"
          },
          "type": "line",
          "x0": 0,
          "x1": 1,
          "xref": "x domain",
          "y0": 0.1111111111111111,
          "y1": 0.1111111111111111,
          "yref": "y"
         }
        ],
        "template": {
         "data": {
          "bar": [
           {
            "error_x": {
             "color": "#2a3f5f"
            },
            "error_y": {
             "color": "#2a3f5f"
            },
            "marker": {
             "line": {
              "color": "#E5ECF6",
              "width": 0.5
             },
             "pattern": {
              "fillmode": "overlay",
              "size": 10,
              "solidity": 0.2
             }
            },
            "type": "bar"
           }
          ],
          "barpolar": [
           {
            "marker": {
             "line": {
              "color": "#E5ECF6",
              "width": 0.5
             },
             "pattern": {
              "fillmode": "overlay",
              "size": 10,
              "solidity": 0.2
             }
            },
            "type": "barpolar"
           }
          ],
          "carpet": [
           {
            "aaxis": {
             "endlinecolor": "#2a3f5f",
             "gridcolor": "white",
             "linecolor": "white",
             "minorgridcolor": "white",
             "startlinecolor": "#2a3f5f"
            },
            "baxis": {
             "endlinecolor": "#2a3f5f",
             "gridcolor": "white",
             "linecolor": "white",
             "minorgridcolor": "white",
             "startlinecolor": "#2a3f5f"
            },
            "type": "carpet"
           }
          ],
          "choropleth": [
           {
            "colorbar": {
             "outlinewidth": 0,
             "ticks": ""
            },
            "type": "choropleth"
           }
          ],
          "contour": [
           {
            "colorbar": {
             "outlinewidth": 0,
             "ticks": ""
            },
            "colorscale": [
             [
              0,
              "#0d0887"
             ],
             [
              0.1111111111111111,
              "#46039f"
             ],
             [
              0.2222222222222222,
              "#7201a8"
             ],
             [
              0.3333333333333333,
              "#9c179e"
             ],
             [
              0.4444444444444444,
              "#bd3786"
             ],
             [
              0.5555555555555556,
              "#d8576b"
             ],
             [
              0.6666666666666666,
              "#ed7953"
             ],
             [
              0.7777777777777778,
              "#fb9f3a"
             ],
             [
              0.8888888888888888,
              "#fdca26"
             ],
             [
              1,
              "#f0f921"
             ]
            ],
            "type": "contour"
           }
          ],
          "contourcarpet": [
           {
            "colorbar": {
             "outlinewidth": 0,
             "ticks": ""
            },
            "type": "contourcarpet"
           }
          ],
          "heatmap": [
           {
            "colorbar": {
             "outlinewidth": 0,
             "ticks": ""
            },
            "colorscale": [
             [
              0,
              "#0d0887"
             ],
             [
              0.1111111111111111,
              "#46039f"
             ],
             [
              0.2222222222222222,
              "#7201a8"
             ],
             [
              0.3333333333333333,
              "#9c179e"
             ],
             [
              0.4444444444444444,
              "#bd3786"
             ],
             [
              0.5555555555555556,
              "#d8576b"
             ],
             [
              0.6666666666666666,
              "#ed7953"
             ],
             [
              0.7777777777777778,
              "#fb9f3a"
             ],
             [
              0.8888888888888888,
              "#fdca26"
             ],
             [
              1,
              "#f0f921"
             ]
            ],
            "type": "heatmap"
           }
          ],
          "heatmapgl": [
           {
            "colorbar": {
             "outlinewidth": 0,
             "ticks": ""
            },
            "colorscale": [
             [
              0,
              "#0d0887"
             ],
             [
              0.1111111111111111,
              "#46039f"
             ],
             [
              0.2222222222222222,
              "#7201a8"
             ],
             [
              0.3333333333333333,
              "#9c179e"
             ],
             [
              0.4444444444444444,
              "#bd3786"
             ],
             [
              0.5555555555555556,
              "#d8576b"
             ],
             [
              0.6666666666666666,
              "#ed7953"
             ],
             [
              0.7777777777777778,
              "#fb9f3a"
             ],
             [
              0.8888888888888888,
              "#fdca26"
             ],
             [
              1,
              "#f0f921"
             ]
            ],
            "type": "heatmapgl"
           }
          ],
          "histogram": [
           {
            "marker": {
             "pattern": {
              "fillmode": "overlay",
              "size": 10,
              "solidity": 0.2
             }
            },
            "type": "histogram"
           }
          ],
          "histogram2d": [
           {
            "colorbar": {
             "outlinewidth": 0,
             "ticks": ""
            },
            "colorscale": [
             [
              0,
              "#0d0887"
             ],
             [
              0.1111111111111111,
              "#46039f"
             ],
             [
              0.2222222222222222,
              "#7201a8"
             ],
             [
              0.3333333333333333,
              "#9c179e"
             ],
             [
              0.4444444444444444,
              "#bd3786"
             ],
             [
              0.5555555555555556,
              "#d8576b"
             ],
             [
              0.6666666666666666,
              "#ed7953"
             ],
             [
              0.7777777777777778,
              "#fb9f3a"
             ],
             [
              0.8888888888888888,
              "#fdca26"
             ],
             [
              1,
              "#f0f921"
             ]
            ],
            "type": "histogram2d"
           }
          ],
          "histogram2dcontour": [
           {
            "colorbar": {
             "outlinewidth": 0,
             "ticks": ""
            },
            "colorscale": [
             [
              0,
              "#0d0887"
             ],
             [
              0.1111111111111111,
              "#46039f"
             ],
             [
              0.2222222222222222,
              "#7201a8"
             ],
             [
              0.3333333333333333,
              "#9c179e"
             ],
             [
              0.4444444444444444,
              "#bd3786"
             ],
             [
              0.5555555555555556,
              "#d8576b"
             ],
             [
              0.6666666666666666,
              "#ed7953"
             ],
             [
              0.7777777777777778,
              "#fb9f3a"
             ],
             [
              0.8888888888888888,
              "#fdca26"
             ],
             [
              1,
              "#f0f921"
             ]
            ],
            "type": "histogram2dcontour"
           }
          ],
          "mesh3d": [
           {
            "colorbar": {
             "outlinewidth": 0,
             "ticks": ""
            },
            "type": "mesh3d"
           }
          ],
          "parcoords": [
           {
            "line": {
             "colorbar": {
              "outlinewidth": 0,
              "ticks": ""
             }
            },
            "type": "parcoords"
           }
          ],
          "pie": [
           {
            "automargin": true,
            "type": "pie"
           }
          ],
          "scatter": [
           {
            "fillpattern": {
             "fillmode": "overlay",
             "size": 10,
             "solidity": 0.2
            },
            "type": "scatter"
           }
          ],
          "scatter3d": [
           {
            "line": {
             "colorbar": {
              "outlinewidth": 0,
              "ticks": ""
             }
            },
            "marker": {
             "colorbar": {
              "outlinewidth": 0,
              "ticks": ""
             }
            },
            "type": "scatter3d"
           }
          ],
          "scattercarpet": [
           {
            "marker": {
             "colorbar": {
              "outlinewidth": 0,
              "ticks": ""
             }
            },
            "type": "scattercarpet"
           }
          ],
          "scattergeo": [
           {
            "marker": {
             "colorbar": {
              "outlinewidth": 0,
              "ticks": ""
             }
            },
            "type": "scattergeo"
           }
          ],
          "scattergl": [
           {
            "marker": {
             "colorbar": {
              "outlinewidth": 0,
              "ticks": ""
             }
            },
            "type": "scattergl"
           }
          ],
          "scattermapbox": [
           {
            "marker": {
             "colorbar": {
              "outlinewidth": 0,
              "ticks": ""
             }
            },
            "type": "scattermapbox"
           }
          ],
          "scatterpolar": [
           {
            "marker": {
             "colorbar": {
              "outlinewidth": 0,
              "ticks": ""
             }
            },
            "type": "scatterpolar"
           }
          ],
          "scatterpolargl": [
           {
            "marker": {
             "colorbar": {
              "outlinewidth": 0,
              "ticks": ""
             }
            },
            "type": "scatterpolargl"
           }
          ],
          "scatterternary": [
           {
            "marker": {
             "colorbar": {
              "outlinewidth": 0,
              "ticks": ""
             }
            },
            "type": "scatterternary"
           }
          ],
          "surface": [
           {
            "colorbar": {
             "outlinewidth": 0,
             "ticks": ""
            },
            "colorscale": [
             [
              0,
              "#0d0887"
             ],
             [
              0.1111111111111111,
              "#46039f"
             ],
             [
              0.2222222222222222,
              "#7201a8"
             ],
             [
              0.3333333333333333,
              "#9c179e"
             ],
             [
              0.4444444444444444,
              "#bd3786"
             ],
             [
              0.5555555555555556,
              "#d8576b"
             ],
             [
              0.6666666666666666,
              "#ed7953"
             ],
             [
              0.7777777777777778,
              "#fb9f3a"
             ],
             [
              0.8888888888888888,
              "#fdca26"
             ],
             [
              1,
              "#f0f921"
             ]
            ],
            "type": "surface"
           }
          ],
          "table": [
           {
            "cells": {
             "fill": {
              "color": "#EBF0F8"
             },
             "line": {
              "color": "white"
             }
            },
            "header": {
             "fill": {
              "color": "#C8D4E3"
             },
             "line": {
              "color": "white"
             }
            },
            "type": "table"
           }
          ]
         },
         "layout": {
          "annotationdefaults": {
           "arrowcolor": "#2a3f5f",
           "arrowhead": 0,
           "arrowwidth": 1
          },
          "autotypenumbers": "strict",
          "coloraxis": {
           "colorbar": {
            "outlinewidth": 0,
            "ticks": ""
           }
          },
          "colorscale": {
           "diverging": [
            [
             0,
             "#8e0152"
            ],
            [
             0.1,
             "#c51b7d"
            ],
            [
             0.2,
             "#de77ae"
            ],
            [
             0.3,
             "#f1b6da"
            ],
            [
             0.4,
             "#fde0ef"
            ],
            [
             0.5,
             "#f7f7f7"
            ],
            [
             0.6,
             "#e6f5d0"
            ],
            [
             0.7,
             "#b8e186"
            ],
            [
             0.8,
             "#7fbc41"
            ],
            [
             0.9,
             "#4d9221"
            ],
            [
             1,
             "#276419"
            ]
           ],
           "sequential": [
            [
             0,
             "#0d0887"
            ],
            [
             0.1111111111111111,
             "#46039f"
            ],
            [
             0.2222222222222222,
             "#7201a8"
            ],
            [
             0.3333333333333333,
             "#9c179e"
            ],
            [
             0.4444444444444444,
             "#bd3786"
            ],
            [
             0.5555555555555556,
             "#d8576b"
            ],
            [
             0.6666666666666666,
             "#ed7953"
            ],
            [
             0.7777777777777778,
             "#fb9f3a"
            ],
            [
             0.8888888888888888,
             "#fdca26"
            ],
            [
             1,
             "#f0f921"
            ]
           ],
           "sequentialminus": [
            [
             0,
             "#0d0887"
            ],
            [
             0.1111111111111111,
             "#46039f"
            ],
            [
             0.2222222222222222,
             "#7201a8"
            ],
            [
             0.3333333333333333,
             "#9c179e"
            ],
            [
             0.4444444444444444,
             "#bd3786"
            ],
            [
             0.5555555555555556,
             "#d8576b"
            ],
            [
             0.6666666666666666,
             "#ed7953"
            ],
            [
             0.7777777777777778,
             "#fb9f3a"
            ],
            [
             0.8888888888888888,
             "#fdca26"
            ],
            [
             1,
             "#f0f921"
            ]
           ]
          },
          "colorway": [
           "#636efa",
           "#EF553B",
           "#00cc96",
           "#ab63fa",
           "#FFA15A",
           "#19d3f3",
           "#FF6692",
           "#B6E880",
           "#FF97FF",
           "#FECB52"
          ],
          "font": {
           "color": "#2a3f5f"
          },
          "geo": {
           "bgcolor": "white",
           "lakecolor": "white",
           "landcolor": "#E5ECF6",
           "showlakes": true,
           "showland": true,
           "subunitcolor": "white"
          },
          "hoverlabel": {
           "align": "left"
          },
          "hovermode": "closest",
          "mapbox": {
           "style": "light"
          },
          "paper_bgcolor": "white",
          "plot_bgcolor": "#E5ECF6",
          "polar": {
           "angularaxis": {
            "gridcolor": "white",
            "linecolor": "white",
            "ticks": ""
           },
           "bgcolor": "#E5ECF6",
           "radialaxis": {
            "gridcolor": "white",
            "linecolor": "white",
            "ticks": ""
           }
          },
          "scene": {
           "xaxis": {
            "backgroundcolor": "#E5ECF6",
            "gridcolor": "white",
            "gridwidth": 2,
            "linecolor": "white",
            "showbackground": true,
            "ticks": "",
            "zerolinecolor": "white"
           },
           "yaxis": {
            "backgroundcolor": "#E5ECF6",
            "gridcolor": "white",
            "gridwidth": 2,
            "linecolor": "white",
            "showbackground": true,
            "ticks": "",
            "zerolinecolor": "white"
           },
           "zaxis": {
            "backgroundcolor": "#E5ECF6",
            "gridcolor": "white",
            "gridwidth": 2,
            "linecolor": "white",
            "showbackground": true,
            "ticks": "",
            "zerolinecolor": "white"
           }
          },
          "shapedefaults": {
           "line": {
            "color": "#2a3f5f"
           }
          },
          "ternary": {
           "aaxis": {
            "gridcolor": "white",
            "linecolor": "white",
            "ticks": ""
           },
           "baxis": {
            "gridcolor": "white",
            "linecolor": "white",
            "ticks": ""
           },
           "bgcolor": "#E5ECF6",
           "caxis": {
            "gridcolor": "white",
            "linecolor": "white",
            "ticks": ""
           }
          },
          "title": {
           "x": 0.05
          },
          "xaxis": {
           "automargin": true,
           "gridcolor": "white",
           "linecolor": "white",
           "ticks": "",
           "title": {
            "standoff": 15
           },
           "zerolinecolor": "white",
           "zerolinewidth": 2
          },
          "yaxis": {
           "automargin": true,
           "gridcolor": "white",
           "linecolor": "white",
           "ticks": "",
           "title": {
            "standoff": 15
           },
           "zerolinecolor": "white",
           "zerolinewidth": 2
          }
         }
        },
        "title": {
         "text": "Decoder Trained on Target Patient",
         "x": 0.5
        },
        "width": 1000,
        "xaxis": {
         "anchor": "y",
         "domain": [
          0,
          1
         ],
         "linecolor": "black",
         "mirror": false,
         "range": [
          -0.5,
          2.5
         ],
         "showgrid": false,
         "showline": true,
         "ticks": "outside",
         "tickvals": [
          0,
          1,
          2
         ],
         "title": {
          "text": "Target Patient"
         }
        },
        "yaxis": {
         "anchor": "x",
         "domain": [
          0,
          1
         ],
         "linecolor": "black",
         "mirror": false,
         "range": [
          0,
          0.6
         ],
         "showgrid": false,
         "showline": true,
         "ticks": "outside",
         "title": {
          "text": "Decoding Accuracy"
         }
        }
       }
      }
     },
     "metadata": {},
     "output_type": "display_data"
    }
   ],
   "source": [
    "fig_ind = 'pAll'\n",
    "fig_df = decode_df_long[decode_df_long['Phoneme Index'] == fig_ind]\n",
    "fig = px.box(fig_df, x='Patient', y=\"accuracy\", color='Decoding Context', points='all', width=1000, height=600, color_discrete_sequence=['#636EFA', '#EF553B', '#AB63FA'])\n",
    "# fig = px.box(decode_df, x='Patient', y=\"accuracy\", color='Decoding Context', points='all', width=1200, height=2400, color_discrete_sequence=px_colors, facet_row='Phoneme Index')\n",
    "# fig = px.box(decode_df, x='subject', y=\"accuracy\", color='Decoding Context', points='all', width=850, height=500, color_discrete_sequence=px_colors[1:])\n",
    "fig.add_hline(y=1/9, line_dash='dash', line_color='grey', annotation_text='Chance', annotation_position='bottom right')\n",
    "# fig.add_hline(y=1/9, line_dash='dash', line_color='grey', annotation_text='Chance', annotation_position='right')\n",
    "fig.update_layout(\n",
    "    plot_bgcolor='white',\n",
    "    legend=dict(\n",
    "        orientation='h',\n",
    "        yanchor='bottom',\n",
    "        y=0.02,\n",
    "        xanchor='left',\n",
    "        x=0.01,\n",
    "        title_text=''\n",
    "    ),\n",
    "    # showlegend=False,\n",
    "    # title_text=f'Phoneme Decoding - Target Patient in Training Set',\n",
    "    title_text=f'Decoder Trained on Target Patient',\n",
    "    # title_text='All Phonemes - Pooled Decoding',\n",
    "    # title_text=f'Aligned Decoding Accuracy With Varied Amounts of Pooled Patients',\n",
    "    # title_text='Decoder Only Trained on Non-Target Patients',\n",
    "    title_x=0.5,\n",
    "    font=dict(size=20, family='Arial')\n",
    ")\n",
    "fig.update_xaxes(\n",
    "    title='Target Patient',\n",
    "    mirror=False,\n",
    "    ticks='outside',\n",
    "    showline=True,\n",
    "    linecolor='black',\n",
    "    showgrid=False,\n",
    "    # tickvals=[0,1,2,3],\n",
    "    # ticktext=['S1', 'S2', 'S3', 'S4'],\n",
    "    # range=[-0.5, 4.5],\n",
    "    tickvals=[0,1,2],\n",
    "    # ticktext=['S1', 'S2', 'S4'],\n",
    "    range=[-0.5, 2.5]\n",
    ")\n",
    "fig.update_yaxes(\n",
    "    title='Decoding Accuracy',\n",
    "    # title='',\n",
    "    mirror=False,\n",
    "    ticks='outside',\n",
    "    showline=True,\n",
    "    linecolor='black',\n",
    "    showgrid=False,\n",
    "    range=[0, 0.6]\n",
    ")\n",
    "fig.show()"
   ]
  },
  {
   "cell_type": "code",
   "execution_count": 34,
   "metadata": {},
   "outputs": [
    {
     "data": {
      "text/plain": [
       "Series([], Name: accuracy, dtype: float64)"
      ]
     },
     "execution_count": 34,
     "metadata": {},
     "output_type": "execute_result"
    }
   ],
   "source": [
    "pt_spf"
   ]
  },
  {
   "cell_type": "code",
   "execution_count": 36,
   "metadata": {},
   "outputs": [
    {
     "name": "stdout",
     "output_type": "stream",
     "text": [
      "S1 (Uncorrected): ANOVA p = 1.888200647303227e-82, CCA vs. PS p = 2.398081733190338e-14, CCA vs. Unaligned p = 2.1538326677728037e-14\n",
      "S2 (Uncorrected): ANOVA p = 1.0799199629556557e-124, CCA vs. PS p = 2.1538326677728037e-14, CCA vs. Unaligned p = 2.1538326677728037e-14\n",
      "S3 (Uncorrected): ANOVA p = 5.668700009389686e-109, CCA vs. PS p = 2.1538326677728037e-14, CCA vs. Unaligned p = 2.1538326677728037e-14\n",
      "S4 (Uncorrected): ANOVA p = 1.0234689651451931e-53, CCA vs. PS p = 2.1538326677728037e-14, CCA vs. Unaligned p = 2.1538326677728037e-14\n",
      "S5 (Uncorrected): ANOVA p = 1.5621522803193772e-54, CCA vs. PS p = 2.1538326677728037e-14, CCA vs. Unaligned p = 2.1538326677728037e-14\n",
      "S6 (Uncorrected): ANOVA p = 1.702250171965963e-44, CCA vs. PS p = 2.1538326677728037e-14, CCA vs. Unaligned p = 2.1538326677728037e-14\n",
      "S7 (Uncorrected): ANOVA p = 7.995638070158545e-73, CCA vs. PS p = 2.1538326677728037e-14, CCA vs. Unaligned p = 2.1538326677728037e-14\n",
      "S8 (Uncorrected): ANOVA p = 4.187250007435089e-85, CCA vs. PS p = 2.1538326677728037e-14, CCA vs. Unaligned p = 2.1538326677728037e-14\n",
      "\n",
      "S1 (Corrected): ANOVA p = 1.1329203883819361e-81, CCA vs. PS p = 2.398081733190338e-14, CCA vs. Unaligned p = 2.2474775663716213e-14\n",
      "S2 (Corrected): ANOVA p = 2.5918079110935734e-123, CCA vs. PS p = 2.2474775663716213e-14, CCA vs. Unaligned p = 2.2474775663716213e-14\n",
      "S3 (Corrected): ANOVA p = 6.802440011267623e-108, CCA vs. PS p = 2.2474775663716213e-14, CCA vs. Unaligned p = 2.2474775663716213e-14\n",
      "S4 (Corrected): ANOVA p = 3.509036451926376e-53, CCA vs. PS p = 2.2474775663716213e-14, CCA vs. Unaligned p = 2.2474775663716213e-14\n",
      "S5 (Corrected): ANOVA p = 6.248609121277509e-54, CCA vs. PS p = 2.2474775663716213e-14, CCA vs. Unaligned p = 2.2474775663716213e-14\n",
      "S6 (Corrected): ANOVA p = 5.106750515897888e-44, CCA vs. PS p = 2.2474775663716213e-14, CCA vs. Unaligned p = 2.2474775663716213e-14\n",
      "S7 (Corrected): ANOVA p = 3.837906273676101e-72, CCA vs. PS p = 2.2474775663716213e-14, CCA vs. Unaligned p = 2.2474775663716213e-14\n",
      "S8 (Corrected): ANOVA p = 3.349800005948071e-84, CCA vs. PS p = 2.2474775663716213e-14, CCA vs. Unaligned p = 2.2474775663716213e-14\n"
     ]
    }
   ],
   "source": [
    "from scipy.stats import f_oneway, tukey_hsd, false_discovery_control\n",
    "\n",
    "pts = paper_pt_dict.values()\n",
    "p_arr = np.zeros((len(pts), 3))\n",
    "for i, pt in enumerate(pts):\n",
    "    pt_spf = decode_df_long[(decode_df_long['Patient'] == pt) & (decode_df_long['Decoding Context'] == 'Patient-specific')]['accuracy']\n",
    "    pt_una = decode_df_long[(decode_df_long['Patient'] == pt) & (decode_df_long['Decoding Context'] == 'Unaligned cross-patient')]['accuracy']\n",
    "    pt_cca = decode_df_long[(decode_df_long['Patient'] == pt) & (decode_df_long['Decoding Context'] == 'Aligned cross-patient')]['accuracy']\n",
    "\n",
    "    stat, anova_p = f_oneway(pt_spf, pt_una, pt_cca)\n",
    "    res = tukey_hsd(pt_spf, pt_una, pt_cca)\n",
    "    cca_ps_p = res.pvalue[0,2]\n",
    "    cca_una_p = res.pvalue[1,2]\n",
    "\n",
    "    p_arr[i, :] = [anova_p, cca_ps_p, cca_una_p]\n",
    "\n",
    "    print(f'{pt} (Uncorrected): ANOVA p = {anova_p}, CCA vs. PS p = {cca_ps_p}, CCA vs. Unaligned p = {cca_una_p}')\n",
    "\n",
    "# Correct for multiple comparisons\n",
    "corrected_pvals = false_discovery_control(p_arr.flatten()).reshape(p_arr.shape)\n",
    "print()\n",
    "\n",
    "for i, pt in enumerate(pts):\n",
    "    print(f'{pt} (Corrected): ANOVA p = {corrected_pvals[i,0]}, CCA vs. PS p = {corrected_pvals[i,1]}, CCA vs. Unaligned p = {corrected_pvals[i,2]}')"
   ]
  },
  {
   "cell_type": "code",
   "execution_count": 64,
   "metadata": {},
   "outputs": [
    {
     "data": {
      "application/vnd.plotly.v1+json": {
       "config": {
        "plotlyServerURL": "https://plotly.com"
       },
       "data": [
        {
         "hovertemplate": "Patient=S1<br>Decoding Context=%{x}<br>accuracy=%{y}<extra></extra>",
         "legendgroup": "S1",
         "line": {
          "color": "#636EFA",
          "dash": "solid"
         },
         "marker": {
          "symbol": "circle"
         },
         "mode": "lines",
         "name": "S1",
         "orientation": "v",
         "showlegend": true,
         "type": "scatter",
         "x": [
          "Patient-specific",
          "Unaligned cross-patient",
          "Aligned cross-patient"
         ],
         "xaxis": "x",
         "y": [
          0.3791203703703704,
          0.2927314814814815,
          0.4043981481481482
         ],
         "yaxis": "y"
        },
        {
         "hovertemplate": "Patient=S2<br>Decoding Context=%{x}<br>accuracy=%{y}<extra></extra>",
         "legendgroup": "S2",
         "line": {
          "color": "#EF553B",
          "dash": "solid"
         },
         "marker": {
          "symbol": "circle"
         },
         "mode": "lines",
         "name": "S2",
         "orientation": "v",
         "showlegend": true,
         "type": "scatter",
         "x": [
          "Patient-specific",
          "Unaligned cross-patient",
          "Aligned cross-patient"
         ],
         "xaxis": "x",
         "y": [
          0.3935585585585586,
          0.23418918918918918,
          0.4513963963963964
         ],
         "yaxis": "y"
        },
        {
         "hovertemplate": "Patient=S3<br>Decoding Context=%{x}<br>accuracy=%{y}<extra></extra>",
         "legendgroup": "S3",
         "line": {
          "color": "#00CC96",
          "dash": "solid"
         },
         "marker": {
          "symbol": "circle"
         },
         "mode": "lines",
         "name": "S3",
         "orientation": "v",
         "showlegend": true,
         "type": "scatter",
         "x": [
          "Patient-specific",
          "Unaligned cross-patient",
          "Aligned cross-patient"
         ],
         "xaxis": "x",
         "y": [
          0.2946376811594203,
          0.24043478260869566,
          0.5253623188405797
         ],
         "yaxis": "y"
        },
        {
         "hovertemplate": "Patient=S5<br>Decoding Context=%{x}<br>accuracy=%{y}<extra></extra>",
         "legendgroup": "S5",
         "line": {
          "color": "#AB63FA",
          "dash": "solid"
         },
         "marker": {
          "symbol": "circle"
         },
         "mode": "lines",
         "name": "S5",
         "orientation": "v",
         "showlegend": true,
         "type": "scatter",
         "x": [
          "Patient-specific",
          "Unaligned cross-patient",
          "Aligned cross-patient"
         ],
         "xaxis": "x",
         "y": [
          0.16794701986754965,
          0.1497130242825607,
          0.2150551876379691
         ],
         "yaxis": "y"
        },
        {
         "hovertemplate": "Patient=S4<br>Decoding Context=%{x}<br>accuracy=%{y}<extra></extra>",
         "legendgroup": "S4",
         "line": {
          "color": "#FFA15A",
          "dash": "solid"
         },
         "marker": {
          "symbol": "circle"
         },
         "mode": "lines",
         "name": "S4",
         "orientation": "v",
         "showlegend": true,
         "type": "scatter",
         "x": [
          "Patient-specific",
          "Unaligned cross-patient",
          "Aligned cross-patient"
         ],
         "xaxis": "x",
         "y": [
          0.13796909492273732,
          0.11501103752759383,
          0.17227373068432672
         ],
         "yaxis": "y"
        },
        {
         "hovertemplate": "Patient=S6<br>Decoding Context=%{x}<br>accuracy=%{y}<extra></extra>",
         "legendgroup": "S6",
         "line": {
          "color": "#19D3F3",
          "dash": "solid"
         },
         "marker": {
          "symbol": "circle"
         },
         "mode": "lines",
         "name": "S6",
         "orientation": "v",
         "showlegend": true,
         "type": "scatter",
         "x": [
          "Patient-specific",
          "Unaligned cross-patient",
          "Aligned cross-patient"
         ],
         "xaxis": "x",
         "y": [
          0.18214111922141119,
          0.17416058394160583,
          0.23012165450121652
         ],
         "yaxis": "y"
        },
        {
         "hovertemplate": "Patient=S7<br>Decoding Context=%{x}<br>accuracy=%{y}<extra></extra>",
         "legendgroup": "S7",
         "line": {
          "color": "#FF6692",
          "dash": "solid"
         },
         "marker": {
          "symbol": "circle"
         },
         "mode": "lines",
         "name": "S7",
         "orientation": "v",
         "showlegend": true,
         "type": "scatter",
         "x": [
          "Patient-specific",
          "Unaligned cross-patient",
          "Aligned cross-patient"
         ],
         "xaxis": "x",
         "y": [
          0.09602836879432625,
          0.09446808510638299,
          0.16189125295508272
         ],
         "yaxis": "y"
        },
        {
         "hovertemplate": "Patient=S8<br>Decoding Context=%{x}<br>accuracy=%{y}<extra></extra>",
         "legendgroup": "S8",
         "line": {
          "color": "#B6E880",
          "dash": "solid"
         },
         "marker": {
          "symbol": "circle"
         },
         "mode": "lines",
         "name": "S8",
         "orientation": "v",
         "showlegend": true,
         "type": "scatter",
         "x": [
          "Patient-specific",
          "Unaligned cross-patient",
          "Aligned cross-patient"
         ],
         "xaxis": "x",
         "y": [
          0.2790262172284644,
          0.2260674157303371,
          0.3408988764044944
         ],
         "yaxis": "y"
        },
        {
         "alignmentgroup": "True",
         "hovertemplate": "Decoding Context=%{x}<br>accuracy=%{y}<extra></extra>",
         "legendgroup": "",
         "marker": {
          "color": "#636efa"
         },
         "name": "",
         "notched": false,
         "offsetgroup": "",
         "orientation": "v",
         "showlegend": false,
         "type": "box",
         "x": [
          "Patient-specific",
          "Unaligned cross-patient",
          "Aligned cross-patient",
          "Patient-specific",
          "Unaligned cross-patient",
          "Aligned cross-patient",
          "Patient-specific",
          "Unaligned cross-patient",
          "Aligned cross-patient",
          "Patient-specific",
          "Unaligned cross-patient",
          "Aligned cross-patient",
          "Patient-specific",
          "Unaligned cross-patient",
          "Aligned cross-patient",
          "Patient-specific",
          "Unaligned cross-patient",
          "Aligned cross-patient",
          "Patient-specific",
          "Unaligned cross-patient",
          "Aligned cross-patient",
          "Patient-specific",
          "Unaligned cross-patient",
          "Aligned cross-patient"
         ],
         "x0": " ",
         "xaxis": "x",
         "y": [
          0.3791203703703704,
          0.2927314814814815,
          0.4043981481481482,
          0.3935585585585586,
          0.23418918918918918,
          0.4513963963963964,
          0.2946376811594203,
          0.24043478260869566,
          0.5253623188405797,
          0.16794701986754965,
          0.1497130242825607,
          0.2150551876379691,
          0.13796909492273732,
          0.11501103752759383,
          0.17227373068432672,
          0.18214111922141119,
          0.17416058394160583,
          0.23012165450121652,
          0.09602836879432625,
          0.09446808510638299,
          0.16189125295508272,
          0.2790262172284644,
          0.2260674157303371,
          0.3408988764044944
         ],
         "y0": " ",
         "yaxis": "y"
        }
       ],
       "layout": {
        "annotations": [
         {
          "showarrow": false,
          "text": "Chance",
          "x": 1,
          "xanchor": "right",
          "xref": "x domain",
          "y": 0.1111111111111111,
          "yanchor": "top",
          "yref": "y"
         }
        ],
        "font": {
         "family": "Arial",
         "size": 20
        },
        "height": 600,
        "legend": {
         "orientation": "h",
         "title": {
          "text": ""
         },
         "tracegroupgap": 0,
         "x": 0.01,
         "xanchor": "left",
         "y": 0.02,
         "yanchor": "bottom"
        },
        "margin": {
         "t": 60
        },
        "plot_bgcolor": "white",
        "shapes": [
         {
          "line": {
           "color": "grey",
           "dash": "dash"
          },
          "type": "line",
          "x0": 0,
          "x1": 1,
          "xref": "x domain",
          "y0": 0.1111111111111111,
          "y1": 0.1111111111111111,
          "yref": "y"
         }
        ],
        "template": {
         "data": {
          "bar": [
           {
            "error_x": {
             "color": "#2a3f5f"
            },
            "error_y": {
             "color": "#2a3f5f"
            },
            "marker": {
             "line": {
              "color": "#E5ECF6",
              "width": 0.5
             },
             "pattern": {
              "fillmode": "overlay",
              "size": 10,
              "solidity": 0.2
             }
            },
            "type": "bar"
           }
          ],
          "barpolar": [
           {
            "marker": {
             "line": {
              "color": "#E5ECF6",
              "width": 0.5
             },
             "pattern": {
              "fillmode": "overlay",
              "size": 10,
              "solidity": 0.2
             }
            },
            "type": "barpolar"
           }
          ],
          "carpet": [
           {
            "aaxis": {
             "endlinecolor": "#2a3f5f",
             "gridcolor": "white",
             "linecolor": "white",
             "minorgridcolor": "white",
             "startlinecolor": "#2a3f5f"
            },
            "baxis": {
             "endlinecolor": "#2a3f5f",
             "gridcolor": "white",
             "linecolor": "white",
             "minorgridcolor": "white",
             "startlinecolor": "#2a3f5f"
            },
            "type": "carpet"
           }
          ],
          "choropleth": [
           {
            "colorbar": {
             "outlinewidth": 0,
             "ticks": ""
            },
            "type": "choropleth"
           }
          ],
          "contour": [
           {
            "colorbar": {
             "outlinewidth": 0,
             "ticks": ""
            },
            "colorscale": [
             [
              0,
              "#0d0887"
             ],
             [
              0.1111111111111111,
              "#46039f"
             ],
             [
              0.2222222222222222,
              "#7201a8"
             ],
             [
              0.3333333333333333,
              "#9c179e"
             ],
             [
              0.4444444444444444,
              "#bd3786"
             ],
             [
              0.5555555555555556,
              "#d8576b"
             ],
             [
              0.6666666666666666,
              "#ed7953"
             ],
             [
              0.7777777777777778,
              "#fb9f3a"
             ],
             [
              0.8888888888888888,
              "#fdca26"
             ],
             [
              1,
              "#f0f921"
             ]
            ],
            "type": "contour"
           }
          ],
          "contourcarpet": [
           {
            "colorbar": {
             "outlinewidth": 0,
             "ticks": ""
            },
            "type": "contourcarpet"
           }
          ],
          "heatmap": [
           {
            "colorbar": {
             "outlinewidth": 0,
             "ticks": ""
            },
            "colorscale": [
             [
              0,
              "#0d0887"
             ],
             [
              0.1111111111111111,
              "#46039f"
             ],
             [
              0.2222222222222222,
              "#7201a8"
             ],
             [
              0.3333333333333333,
              "#9c179e"
             ],
             [
              0.4444444444444444,
              "#bd3786"
             ],
             [
              0.5555555555555556,
              "#d8576b"
             ],
             [
              0.6666666666666666,
              "#ed7953"
             ],
             [
              0.7777777777777778,
              "#fb9f3a"
             ],
             [
              0.8888888888888888,
              "#fdca26"
             ],
             [
              1,
              "#f0f921"
             ]
            ],
            "type": "heatmap"
           }
          ],
          "heatmapgl": [
           {
            "colorbar": {
             "outlinewidth": 0,
             "ticks": ""
            },
            "colorscale": [
             [
              0,
              "#0d0887"
             ],
             [
              0.1111111111111111,
              "#46039f"
             ],
             [
              0.2222222222222222,
              "#7201a8"
             ],
             [
              0.3333333333333333,
              "#9c179e"
             ],
             [
              0.4444444444444444,
              "#bd3786"
             ],
             [
              0.5555555555555556,
              "#d8576b"
             ],
             [
              0.6666666666666666,
              "#ed7953"
             ],
             [
              0.7777777777777778,
              "#fb9f3a"
             ],
             [
              0.8888888888888888,
              "#fdca26"
             ],
             [
              1,
              "#f0f921"
             ]
            ],
            "type": "heatmapgl"
           }
          ],
          "histogram": [
           {
            "marker": {
             "pattern": {
              "fillmode": "overlay",
              "size": 10,
              "solidity": 0.2
             }
            },
            "type": "histogram"
           }
          ],
          "histogram2d": [
           {
            "colorbar": {
             "outlinewidth": 0,
             "ticks": ""
            },
            "colorscale": [
             [
              0,
              "#0d0887"
             ],
             [
              0.1111111111111111,
              "#46039f"
             ],
             [
              0.2222222222222222,
              "#7201a8"
             ],
             [
              0.3333333333333333,
              "#9c179e"
             ],
             [
              0.4444444444444444,
              "#bd3786"
             ],
             [
              0.5555555555555556,
              "#d8576b"
             ],
             [
              0.6666666666666666,
              "#ed7953"
             ],
             [
              0.7777777777777778,
              "#fb9f3a"
             ],
             [
              0.8888888888888888,
              "#fdca26"
             ],
             [
              1,
              "#f0f921"
             ]
            ],
            "type": "histogram2d"
           }
          ],
          "histogram2dcontour": [
           {
            "colorbar": {
             "outlinewidth": 0,
             "ticks": ""
            },
            "colorscale": [
             [
              0,
              "#0d0887"
             ],
             [
              0.1111111111111111,
              "#46039f"
             ],
             [
              0.2222222222222222,
              "#7201a8"
             ],
             [
              0.3333333333333333,
              "#9c179e"
             ],
             [
              0.4444444444444444,
              "#bd3786"
             ],
             [
              0.5555555555555556,
              "#d8576b"
             ],
             [
              0.6666666666666666,
              "#ed7953"
             ],
             [
              0.7777777777777778,
              "#fb9f3a"
             ],
             [
              0.8888888888888888,
              "#fdca26"
             ],
             [
              1,
              "#f0f921"
             ]
            ],
            "type": "histogram2dcontour"
           }
          ],
          "mesh3d": [
           {
            "colorbar": {
             "outlinewidth": 0,
             "ticks": ""
            },
            "type": "mesh3d"
           }
          ],
          "parcoords": [
           {
            "line": {
             "colorbar": {
              "outlinewidth": 0,
              "ticks": ""
             }
            },
            "type": "parcoords"
           }
          ],
          "pie": [
           {
            "automargin": true,
            "type": "pie"
           }
          ],
          "scatter": [
           {
            "fillpattern": {
             "fillmode": "overlay",
             "size": 10,
             "solidity": 0.2
            },
            "type": "scatter"
           }
          ],
          "scatter3d": [
           {
            "line": {
             "colorbar": {
              "outlinewidth": 0,
              "ticks": ""
             }
            },
            "marker": {
             "colorbar": {
              "outlinewidth": 0,
              "ticks": ""
             }
            },
            "type": "scatter3d"
           }
          ],
          "scattercarpet": [
           {
            "marker": {
             "colorbar": {
              "outlinewidth": 0,
              "ticks": ""
             }
            },
            "type": "scattercarpet"
           }
          ],
          "scattergeo": [
           {
            "marker": {
             "colorbar": {
              "outlinewidth": 0,
              "ticks": ""
             }
            },
            "type": "scattergeo"
           }
          ],
          "scattergl": [
           {
            "marker": {
             "colorbar": {
              "outlinewidth": 0,
              "ticks": ""
             }
            },
            "type": "scattergl"
           }
          ],
          "scattermapbox": [
           {
            "marker": {
             "colorbar": {
              "outlinewidth": 0,
              "ticks": ""
             }
            },
            "type": "scattermapbox"
           }
          ],
          "scatterpolar": [
           {
            "marker": {
             "colorbar": {
              "outlinewidth": 0,
              "ticks": ""
             }
            },
            "type": "scatterpolar"
           }
          ],
          "scatterpolargl": [
           {
            "marker": {
             "colorbar": {
              "outlinewidth": 0,
              "ticks": ""
             }
            },
            "type": "scatterpolargl"
           }
          ],
          "scatterternary": [
           {
            "marker": {
             "colorbar": {
              "outlinewidth": 0,
              "ticks": ""
             }
            },
            "type": "scatterternary"
           }
          ],
          "surface": [
           {
            "colorbar": {
             "outlinewidth": 0,
             "ticks": ""
            },
            "colorscale": [
             [
              0,
              "#0d0887"
             ],
             [
              0.1111111111111111,
              "#46039f"
             ],
             [
              0.2222222222222222,
              "#7201a8"
             ],
             [
              0.3333333333333333,
              "#9c179e"
             ],
             [
              0.4444444444444444,
              "#bd3786"
             ],
             [
              0.5555555555555556,
              "#d8576b"
             ],
             [
              0.6666666666666666,
              "#ed7953"
             ],
             [
              0.7777777777777778,
              "#fb9f3a"
             ],
             [
              0.8888888888888888,
              "#fdca26"
             ],
             [
              1,
              "#f0f921"
             ]
            ],
            "type": "surface"
           }
          ],
          "table": [
           {
            "cells": {
             "fill": {
              "color": "#EBF0F8"
             },
             "line": {
              "color": "white"
             }
            },
            "header": {
             "fill": {
              "color": "#C8D4E3"
             },
             "line": {
              "color": "white"
             }
            },
            "type": "table"
           }
          ]
         },
         "layout": {
          "annotationdefaults": {
           "arrowcolor": "#2a3f5f",
           "arrowhead": 0,
           "arrowwidth": 1
          },
          "autotypenumbers": "strict",
          "coloraxis": {
           "colorbar": {
            "outlinewidth": 0,
            "ticks": ""
           }
          },
          "colorscale": {
           "diverging": [
            [
             0,
             "#8e0152"
            ],
            [
             0.1,
             "#c51b7d"
            ],
            [
             0.2,
             "#de77ae"
            ],
            [
             0.3,
             "#f1b6da"
            ],
            [
             0.4,
             "#fde0ef"
            ],
            [
             0.5,
             "#f7f7f7"
            ],
            [
             0.6,
             "#e6f5d0"
            ],
            [
             0.7,
             "#b8e186"
            ],
            [
             0.8,
             "#7fbc41"
            ],
            [
             0.9,
             "#4d9221"
            ],
            [
             1,
             "#276419"
            ]
           ],
           "sequential": [
            [
             0,
             "#0d0887"
            ],
            [
             0.1111111111111111,
             "#46039f"
            ],
            [
             0.2222222222222222,
             "#7201a8"
            ],
            [
             0.3333333333333333,
             "#9c179e"
            ],
            [
             0.4444444444444444,
             "#bd3786"
            ],
            [
             0.5555555555555556,
             "#d8576b"
            ],
            [
             0.6666666666666666,
             "#ed7953"
            ],
            [
             0.7777777777777778,
             "#fb9f3a"
            ],
            [
             0.8888888888888888,
             "#fdca26"
            ],
            [
             1,
             "#f0f921"
            ]
           ],
           "sequentialminus": [
            [
             0,
             "#0d0887"
            ],
            [
             0.1111111111111111,
             "#46039f"
            ],
            [
             0.2222222222222222,
             "#7201a8"
            ],
            [
             0.3333333333333333,
             "#9c179e"
            ],
            [
             0.4444444444444444,
             "#bd3786"
            ],
            [
             0.5555555555555556,
             "#d8576b"
            ],
            [
             0.6666666666666666,
             "#ed7953"
            ],
            [
             0.7777777777777778,
             "#fb9f3a"
            ],
            [
             0.8888888888888888,
             "#fdca26"
            ],
            [
             1,
             "#f0f921"
            ]
           ]
          },
          "colorway": [
           "#636efa",
           "#EF553B",
           "#00cc96",
           "#ab63fa",
           "#FFA15A",
           "#19d3f3",
           "#FF6692",
           "#B6E880",
           "#FF97FF",
           "#FECB52"
          ],
          "font": {
           "color": "#2a3f5f"
          },
          "geo": {
           "bgcolor": "white",
           "lakecolor": "white",
           "landcolor": "#E5ECF6",
           "showlakes": true,
           "showland": true,
           "subunitcolor": "white"
          },
          "hoverlabel": {
           "align": "left"
          },
          "hovermode": "closest",
          "mapbox": {
           "style": "light"
          },
          "paper_bgcolor": "white",
          "plot_bgcolor": "#E5ECF6",
          "polar": {
           "angularaxis": {
            "gridcolor": "white",
            "linecolor": "white",
            "ticks": ""
           },
           "bgcolor": "#E5ECF6",
           "radialaxis": {
            "gridcolor": "white",
            "linecolor": "white",
            "ticks": ""
           }
          },
          "scene": {
           "xaxis": {
            "backgroundcolor": "#E5ECF6",
            "gridcolor": "white",
            "gridwidth": 2,
            "linecolor": "white",
            "showbackground": true,
            "ticks": "",
            "zerolinecolor": "white"
           },
           "yaxis": {
            "backgroundcolor": "#E5ECF6",
            "gridcolor": "white",
            "gridwidth": 2,
            "linecolor": "white",
            "showbackground": true,
            "ticks": "",
            "zerolinecolor": "white"
           },
           "zaxis": {
            "backgroundcolor": "#E5ECF6",
            "gridcolor": "white",
            "gridwidth": 2,
            "linecolor": "white",
            "showbackground": true,
            "ticks": "",
            "zerolinecolor": "white"
           }
          },
          "shapedefaults": {
           "line": {
            "color": "#2a3f5f"
           }
          },
          "ternary": {
           "aaxis": {
            "gridcolor": "white",
            "linecolor": "white",
            "ticks": ""
           },
           "baxis": {
            "gridcolor": "white",
            "linecolor": "white",
            "ticks": ""
           },
           "bgcolor": "#E5ECF6",
           "caxis": {
            "gridcolor": "white",
            "linecolor": "white",
            "ticks": ""
           }
          },
          "title": {
           "x": 0.05
          },
          "xaxis": {
           "automargin": true,
           "gridcolor": "white",
           "linecolor": "white",
           "ticks": "",
           "title": {
            "standoff": 15
           },
           "zerolinecolor": "white",
           "zerolinewidth": 2
          },
          "yaxis": {
           "automargin": true,
           "gridcolor": "white",
           "linecolor": "white",
           "ticks": "",
           "title": {
            "standoff": 15
           },
           "zerolinecolor": "white",
           "zerolinewidth": 2
          }
         }
        },
        "title": {
         "text": "Decoder Trained on Target Patient",
         "x": 0.5
        },
        "width": 1000,
        "xaxis": {
         "anchor": "y",
         "domain": [
          0,
          1
         ],
         "linecolor": "black",
         "mirror": false,
         "showgrid": false,
         "showline": true,
         "ticks": "outside",
         "title": {
          "text": ""
         }
        },
        "yaxis": {
         "anchor": "x",
         "domain": [
          0,
          1
         ],
         "linecolor": "black",
         "mirror": false,
         "range": [
          0,
          0.6
         ],
         "showgrid": false,
         "showline": true,
         "ticks": "outside",
         "title": {
          "text": "Phoneme decoding Accuracy"
         }
        }
       }
      }
     },
     "metadata": {},
     "output_type": "display_data"
    }
   ],
   "source": [
    "fig_ind = 'pAll'\n",
    "# fig_df = decode_df_long[decode_df_long['Phoneme Index'] == fig_ind]\n",
    "fig_df = decode_df_long[decode_df_long['Phoneme Index'] == fig_ind].drop(columns=['Phoneme Index']).groupby(['Patient', 'Decoding Context'], sort=False).mean().reset_index()\n",
    "# fig_df = mean_df\n",
    "\n",
    "fig = px.line(fig_df, x='Decoding Context', y=\"accuracy\", color='Patient', width=1000, height=600, color_discrete_sequence=px.colors.qualitative.Plotly)\n",
    "fig.add_traces(px.box(fig_df, x='Decoding Context', y=\"accuracy\").data)\n",
    "# fig = px.box(fig_df, y=\"accuracy\", x='Decoding Context', width=900, height=600)\n",
    "# fig = px.box(decode_df, x='Patient', y=\"accuracy\", color='Decoding Context', points='all', width=1200, height=2400, color_discrete_sequence=px_colors, facet_row='Phoneme Index')\n",
    "# fig = px.box(decode_df, x='subject', y=\"accuracy\", color='Decoding Context', points='all', width=850, height=500, color_discrete_sequence=px_colors[1:])\n",
    "fig.add_hline(y=1/9, line_dash='dash', line_color='grey', annotation_text='Chance', annotation_position='bottom right')\n",
    "# fig.add_hline(y=1/9, line_dash='dash', line_color='grey', annotation_text='Chance', annotation_position='right')\n",
    "fig.update_layout(\n",
    "    plot_bgcolor='white',\n",
    "    legend=dict(\n",
    "        orientation='h',\n",
    "        yanchor='bottom',\n",
    "        y=0.02,\n",
    "        xanchor='left',\n",
    "        x=0.01,\n",
    "        title_text=''\n",
    "    ),\n",
    "    # showlegend=False,\n",
    "    # title_text=f'Phoneme Decoding - Target Patient in Training Set',\n",
    "    title_text=f'Decoder Trained on Target Patient',\n",
    "    # title_text='All Phonemes - Pooled Decoding',\n",
    "    # title_text=f'Aligned Decoding Accuracy With Varied Amounts of Pooled Patients',\n",
    "    # title_text='Decoder Only Trained on Non-Target Patients',\n",
    "    title_x=0.5,\n",
    "    font=dict(size=20, family='Arial')\n",
    ")\n",
    "fig.update_xaxes(\n",
    "    title='',\n",
    "    mirror=False,\n",
    "    ticks='outside',\n",
    "    showline=True,\n",
    "    linecolor='black',\n",
    "    showgrid=False,\n",
    "    # tickvals=[0,1,2,3],\n",
    "    # ticktext=['S1', 'S2', 'S3', 'S4'],\n",
    "    # range=[-0.5, 4.5],\n",
    "    # tickvals=[0,1,2],\n",
    "    # ticktext=['S1', 'S2', 'S4'],\n",
    "    # range=[-0.5, 2.5]\n",
    "    # categoryorder='array',\n",
    "    # categoryarray=['Patient-specific', 'Unaligned cross-patient', 'Aligned cross-patient']\n",
    ")\n",
    "fig.update_yaxes(\n",
    "    title='Phoneme decoding Accuracy',\n",
    "    # title='',\n",
    "    mirror=False,\n",
    "    ticks='outside',\n",
    "    showline=True,\n",
    "    linecolor='black',\n",
    "    showgrid=False,\n",
    "    range=[0, 0.6]\n",
    ")\n",
    "fig.show()"
   ]
  },
  {
   "cell_type": "markdown",
   "metadata": {},
   "source": [
    "### Panel b"
   ]
  },
  {
   "cell_type": "code",
   "execution_count": 107,
   "metadata": {},
   "outputs": [
    {
     "data": {
      "image/png": "[encoded data removed]",
      "text/plain": [
       "<Figure size 800x600 with 2 Axes>"
      ]
     },
     "metadata": {},
     "output_type": "display_data"
    },
    {
     "data": {
      "image/png": "[encoded data removed]",
      "text/plain": [
       "<Figure size 800x600 with 2 Axes>"
      ]
     },
     "metadata": {},
     "output_type": "display_data"
    },
    {
     "data": {
      "image/png": "[encoded data removed]",
      "text/plain": [
       "<Figure size 800x600 with 2 Axes>"
      ]
     },
     "metadata": {},
     "output_type": "display_data"
    },
    {
     "data": {
      "image/png": "[encoded data removed]",
      "text/plain": [
       "<Figure size 800x600 with 2 Axes>"
      ]
     },
     "metadata": {},
     "output_type": "display_data"
    }
   ],
   "source": [
    "pt = 'S33'\n",
    "for i, artic in enumerate(artic_labels):\n",
    "    chan_disp(pt_artic_maps[pt]['weights'][i], pt_artic_maps[pt]['weight_map'], str.capitalize(f'{artic} map'), 'ROC-AUC', figsize=(8, 6), cbar_lower=0.5, cbar_upper=1)"
   ]
  },
  {
   "cell_type": "code",
   "execution_count": 21,
   "metadata": {},
   "outputs": [],
   "source": [
    "all_pt_elec_data = [np.transpose(all_pt_dict[pt]['X1_map'].reshape(all_pt_dict[pt]['X1_map'].shape[0], -1, all_pt_dict[pt]['X1_map'].shape[-1]), axes=(0,2,1)) for pt in pt_names]\n",
    "all_pt_good_chans = []\n",
    "for i, (pt, d) in enumerate(zip(pt_names, all_pt_elec_data)):\n",
    "    d[d == 0] = np.nan\n",
    "    all_pt_good_chans.append(np.where(~np.isnan(d)[0,0,:])[0])\n",
    "    all_pt_elec_data[i] = d[np.where(~np.isnan(d))].reshape(all_pt_traces[pt].shape[0], all_pt_traces[pt].shape[1], -1)"
   ]
  },
  {
   "cell_type": "markdown",
   "metadata": {},
   "source": [
    "Dictionary to hold data for all patients being aligned to a given patient (target patients for alignment are the keys to `alignDict_allPts` )"
   ]
  },
  {
   "cell_type": "code",
   "execution_count": 22,
   "metadata": {},
   "outputs": [
    {
     "name": "stderr",
     "output_type": "stream",
     "text": [
      "Patients: 100%|██████████| 8/8 [00:04<00:00,  1.63it/s]\n"
     ]
    }
   ],
   "source": [
    "alignDict_allPts = {}\n",
    "for recon_pt in tqdm(pt_names, desc='Patients'):\n",
    "    recon_ind = pt_names.index(recon_pt)\n",
    "\n",
    "    aligners = {}\n",
    "    for i, pt in enumerate(pt_names):\n",
    "        if i == recon_ind:\n",
    "            continue\n",
    "        aligners[pt] = AlignCCA()\n",
    "                    \n",
    "    pcas = {}\n",
    "    to_align = {}\n",
    "    for pt in pt_names:\n",
    "        pcas[pt] = PCA(n_components=30)\n",
    "        to_align[pt] = pcas[pt].fit_transform(all_pt_elec_data[pt_names.index(pt)].reshape(-1, all_pt_elec_data[pt_names.index(pt)].shape[-1]))\n",
    "        to_align[pt] = to_align[pt].reshape(all_pt_elec_data[pt_names.index(pt)].shape[0], all_pt_elec_data[pt_names.index(pt)].shape[1], -1)\n",
    "\n",
    "    aligned_data = {}\n",
    "    aligned_data_null = {}\n",
    "    aligned_data[recon_pt] = to_align[recon_pt]\n",
    "    aligned_data_null[recon_pt] = to_align[recon_pt]\n",
    "    for i, pt in enumerate(pt_names):\n",
    "        if i == recon_ind:\n",
    "            continue\n",
    "\n",
    "        to_align_seqs = [all_pt_phon_seqs[recon_pt], all_pt_phon_seqs[pt]]\n",
    "        aligners[pt].fit(to_align[recon_pt], to_align[pt], to_align_seqs[0], to_align_seqs[1])\n",
    "        aligned_data[pt] = aligners[pt].transform(to_align[pt])\n",
    "\n",
    "        aligned_data_null[pt] = to_align[pt]\n",
    "        \n",
    "    alignDict_allPts[recon_pt] = {\n",
    "        'pcas': pcas,\n",
    "        'aligners': aligners,\n",
    "        'dr_data': to_align,\n",
    "        'aligned_data': aligned_data,\n",
    "        'aligned_data_null': aligned_data_null,\n",
    "    }"
   ]
  },
  {
   "cell_type": "code",
   "execution_count": 108,
   "metadata": {},
   "outputs": [
    {
     "name": "stdout",
     "output_type": "stream",
     "text": [
      "##### S14 #####\n"
     ]
    },
    {
     "data": {
      "image/png": "[encoded data removed]",
      "text/plain": [
       "<Figure size 800x600 with 2 Axes>"
      ]
     },
     "metadata": {},
     "output_type": "display_data"
    },
    {
     "data": {
      "image/png": "[encoded data removed]",
      "text/plain": [
       "<Figure size 800x600 with 2 Axes>"
      ]
     },
     "metadata": {},
     "output_type": "display_data"
    },
    {
     "data": {
      "image/png": "[encoded data removed]",
      "text/plain": [
       "<Figure size 800x600 with 2 Axes>"
      ]
     },
     "metadata": {},
     "output_type": "display_data"
    },
    {
     "data": {
      "image/png": "[encoded data removed]",
      "text/plain": [
       "<Figure size 800x600 with 2 Axes>"
      ]
     },
     "metadata": {},
     "output_type": "display_data"
    }
   ],
   "source": [
    "artic_map_sims = {}\n",
    "artic_map_sims_null = {}\n",
    "# for target_pt in pt_names:\n",
    "for target_pt in ['S14']:\n",
    "    print(f'##### {target_pt} #####')\n",
    "\n",
    "    target_maps = pt_artic_maps[target_pt]['weights']\n",
    "    target_pt_ind = pt_names.index(target_pt)\n",
    "    target_dr = alignDict_allPts[target_pt]['pcas'][target_pt]\n",
    "    target_chan_map = pt_artic_maps[target_pt]['weight_map']\n",
    "    artic_map_sims[target_pt] = {}\n",
    "    artic_map_sims_null[target_pt] = {}\n",
    "\n",
    "    pt_names_artic_recon = [target_pt] + ['S33']\n",
    "\n",
    "    for i_artic, lab in enumerate(artic_labels):\n",
    "        map_target = target_maps[i_artic]\n",
    "\n",
    "        for i_pt, input_pt in enumerate(pt_names_artic_recon[1:]):           \n",
    "            map_input = pt_artic_maps[input_pt]['weights'][i_artic]\n",
    "            input_pt_ind = pt_names.index(input_pt)\n",
    "\n",
    "            input_dr = alignDict_allPts[target_pt]['pcas'][input_pt]\n",
    "            align = alignDict_allPts[target_pt]['aligners'][input_pt]\n",
    "\n",
    "            map_flat = map_input.flatten()[~np.isnan(map_input.flatten())]\n",
    "            map_flat = map_flat[None, :] # expand dims for compatibility with transformations below\n",
    "\n",
    "            # scale the mean of the pca to the articulator map space\n",
    "            sc_input = MinMaxScaler(feature_range=(np.nanmin(map_flat), np.nanmax(map_flat)))\n",
    "            sc_input.fit(all_pt_elec_data[input_pt_ind].reshape(-1, all_pt_elec_data[input_pt_ind].shape[-1]))\n",
    "            sc_mean_input = np.squeeze(sc_input.transform(input_dr.mean_[None,:]))\n",
    "\n",
    "            map_target_flat = map_target.flatten()[~np.isnan(map_target.flatten())]\n",
    "            sc_target = MinMaxScaler(feature_range=(np.nanmin(map_target.flatten()), np.nanmax(map_target.flatten())))\n",
    "            sc_target.fit(all_pt_elec_data[target_pt_ind].reshape(-1, all_pt_elec_data[target_pt_ind].shape[-1]))\n",
    "            sc_mean_target = np.squeeze(sc_target.transform(target_dr.mean_[None,:]))\n",
    "\n",
    "            map_dr = (map_flat - sc_mean_input) @ input_dr.components_.T\n",
    "            M_a = align.M_a\n",
    "            M_b = align.M_b\n",
    "            map_align = map_dr @ M_b @ np.linalg.pinv(M_a)\n",
    "\n",
    "            map_recon = map_align @ target_dr.components_\n",
    "\n",
    "            chan_disp(map_recon.squeeze() + sc_mean_target, target_chan_map,\n",
    "                      f'Reconstructed - {lab}', 'ROC-AUC', figsize=(8, 6),\n",
    "                      cbar_lower=0.5, cbar_upper=0.8)\n"
   ]
  },
  {
   "cell_type": "markdown",
   "metadata": {},
   "source": [
    "### Panel c"
   ]
  },
  {
   "cell_type": "code",
   "execution_count": 23,
   "metadata": {},
   "outputs": [],
   "source": [
    "def cos_sim(a, b):\n",
    "    return np.dot(a, b) / (np.linalg.norm(a) * np.linalg.norm(b))"
   ]
  },
  {
   "cell_type": "code",
   "execution_count": 110,
   "metadata": {},
   "outputs": [
    {
     "name": "stdout",
     "output_type": "stream",
     "text": [
      "##### S14 #####\n",
      "Cosine similarity between low map reconstruction: 0.6706321568220244\n",
      "Cosine similarity between low map null reconstruction: -0.04271136145621701\n",
      "Cosine similarity between high map reconstruction: 0.3465821982611812\n",
      "Cosine similarity between high map null reconstruction: 0.16614065382364432\n",
      "Cosine similarity between labial map reconstruction: 0.7095805509574565\n",
      "Cosine similarity between labial map null reconstruction: -0.08587312031416132\n",
      "Cosine similarity between dorsal map reconstruction: 0.5258065466194144\n",
      "Cosine similarity between dorsal map null reconstruction: -0.065400584087818\n"
     ]
    }
   ],
   "source": [
    "artic_map_sims = {}\n",
    "artic_map_sims_null = {}\n",
    "for target_pt in ['S14']:\n",
    "    print(f'##### {target_pt} #####')\n",
    "\n",
    "    target_maps = pt_artic_maps[target_pt]['weights']\n",
    "    target_pt_ind = pt_names.index(target_pt)\n",
    "    target_dr = alignDict_allPts[target_pt]['pcas'][target_pt]\n",
    "    target_chan_map = pt_artic_maps[target_pt]['weight_map']\n",
    "    artic_map_sims[target_pt] = {}\n",
    "    artic_map_sims_null[target_pt] = {}\n",
    "\n",
    "    pt_names_artic_recon = [target_pt] + [pt for pt in pt_names if pt != target_pt]\n",
    "\n",
    "    sim_values = []\n",
    "    sim_values_null = []\n",
    "    artic_recons = np.zeros((target_maps.shape[0], len(pt_names_artic_recon[1:]), all_pt_elec_data[pt_names.index(target_pt)].shape[-1]))\n",
    "    artic_nulls = np.zeros((target_maps.shape[0], len(pt_names_artic_recon[1:]), all_pt_elec_data[pt_names.index(target_pt)].shape[-1]))\n",
    "    for i_artic, lab in enumerate(artic_labels):\n",
    "        map_target = target_maps[i_artic]\n",
    "\n",
    "        for i_pt, input_pt in enumerate(pt_names_artic_recon[1:]):           \n",
    "            map_input = pt_artic_maps[input_pt]['weights'][i_artic]\n",
    "            input_pt_ind = pt_names.index(input_pt)\n",
    "\n",
    "            input_dr = alignDict_allPts[target_pt]['pcas'][input_pt]\n",
    "            align = alignDict_allPts[target_pt]['aligners'][input_pt]\n",
    "\n",
    "            map_flat = map_input.flatten()[~np.isnan(map_input.flatten())]\n",
    "            map_flat = map_flat[None, :] # expand dims for compatibility with transformations below\n",
    "\n",
    "            # scale the mean of the pca to the articulator map space\n",
    "            sc_input = MinMaxScaler(feature_range=(np.nanmin(map_flat), np.nanmax(map_flat)))\n",
    "            sc_input.fit(all_pt_elec_data[input_pt_ind].reshape(-1, all_pt_elec_data[input_pt_ind].shape[-1]))\n",
    "            sc_mean_input = np.squeeze(sc_input.transform(input_dr.mean_[None,:]))\n",
    "\n",
    "            map_target_flat = map_target.flatten()[~np.isnan(map_target.flatten())]\n",
    "            sc_target = MinMaxScaler(feature_range=(np.nanmin(map_target.flatten()), np.nanmax(map_target.flatten())))\n",
    "            sc_target.fit(all_pt_elec_data[target_pt_ind].reshape(-1, all_pt_elec_data[target_pt_ind].shape[-1]))\n",
    "            sc_mean_target = np.squeeze(sc_target.transform(target_dr.mean_[None,:]))\n",
    "\n",
    "            map_dr = (map_flat - sc_mean_input) @ input_dr.components_.T\n",
    "\n",
    "            M_a = align.M_a\n",
    "            M_b = align.M_b\n",
    "            map_align = map_dr @ M_b @ np.linalg.pinv(M_a)\n",
    "\n",
    "            map_recon = map_align @ target_dr.components_\n",
    "            map_null = map_dr @ target_dr.components_\n",
    "\n",
    "            artic_recons[i_artic, i_pt, :] = map_recon.squeeze()\n",
    "            artic_nulls[i_artic, i_pt, :] = map_null.squeeze()\n",
    "\n",
    "        avg_recon_map = np.mean(artic_recons[i_artic], axis=0)\n",
    "        avg_null_map = np.mean(artic_nulls[i_artic], axis=0)\n",
    "\n",
    "        sim = cos_sim(avg_recon_map, map_target_flat - sc_mean_target)\n",
    "        sim_values.append(sim)\n",
    "        print(f'Cosine similarity between {lab} map reconstruction: {sim}')\n",
    "\n",
    "        sim_null = cos_sim(avg_null_map, map_target_flat - sc_mean_target)\n",
    "        sim_values_null.append(sim_null)\n",
    "        print(f'Cosine similarity between {lab} map null reconstruction: {sim_null}')\n",
    "\n",
    "        artic_map_sims[target_pt][lab] = sim\n",
    "        artic_map_sims_null[target_pt][lab] = sim_null"
   ]
  },
  {
   "cell_type": "code",
   "execution_count": 111,
   "metadata": {},
   "outputs": [
    {
     "data": {
      "text/html": [
       "<div>\n",
       "<style scoped>\n",
       "    .dataframe tbody tr th:only-of-type {\n",
       "        vertical-align: middle;\n",
       "    }\n",
       "\n",
       "    .dataframe tbody tr th {\n",
       "        vertical-align: top;\n",
       "    }\n",
       "\n",
       "    .dataframe thead th {\n",
       "        text-align: right;\n",
       "    }\n",
       "</style>\n",
       "<table border=\"1\" class=\"dataframe\">\n",
       "  <thead>\n",
       "    <tr style=\"text-align: right;\">\n",
       "      <th></th>\n",
       "      <th>Patient</th>\n",
       "      <th>Articulator</th>\n",
       "      <th>Type</th>\n",
       "      <th>Cosine Similarity</th>\n",
       "    </tr>\n",
       "  </thead>\n",
       "  <tbody>\n",
       "    <tr>\n",
       "      <th>0</th>\n",
       "      <td>S14</td>\n",
       "      <td>Dorsal</td>\n",
       "      <td>Aligned</td>\n",
       "      <td>0.525807</td>\n",
       "    </tr>\n",
       "    <tr>\n",
       "      <th>1</th>\n",
       "      <td>S14</td>\n",
       "      <td>High</td>\n",
       "      <td>Aligned</td>\n",
       "      <td>0.346582</td>\n",
       "    </tr>\n",
       "    <tr>\n",
       "      <th>2</th>\n",
       "      <td>S14</td>\n",
       "      <td>Labial</td>\n",
       "      <td>Aligned</td>\n",
       "      <td>0.709581</td>\n",
       "    </tr>\n",
       "    <tr>\n",
       "      <th>3</th>\n",
       "      <td>S14</td>\n",
       "      <td>Low</td>\n",
       "      <td>Aligned</td>\n",
       "      <td>0.670632</td>\n",
       "    </tr>\n",
       "    <tr>\n",
       "      <th>0</th>\n",
       "      <td>S14</td>\n",
       "      <td>Dorsal</td>\n",
       "      <td>Unaligned</td>\n",
       "      <td>-0.065401</td>\n",
       "    </tr>\n",
       "    <tr>\n",
       "      <th>1</th>\n",
       "      <td>S14</td>\n",
       "      <td>High</td>\n",
       "      <td>Unaligned</td>\n",
       "      <td>0.166141</td>\n",
       "    </tr>\n",
       "    <tr>\n",
       "      <th>2</th>\n",
       "      <td>S14</td>\n",
       "      <td>Labial</td>\n",
       "      <td>Unaligned</td>\n",
       "      <td>-0.085873</td>\n",
       "    </tr>\n",
       "    <tr>\n",
       "      <th>3</th>\n",
       "      <td>S14</td>\n",
       "      <td>Low</td>\n",
       "      <td>Unaligned</td>\n",
       "      <td>-0.042711</td>\n",
       "    </tr>\n",
       "  </tbody>\n",
       "</table>\n",
       "</div>"
      ],
      "text/plain": [
       "  Patient Articulator       Type  Cosine Similarity\n",
       "0     S14      Dorsal    Aligned           0.525807\n",
       "1     S14        High    Aligned           0.346582\n",
       "2     S14      Labial    Aligned           0.709581\n",
       "3     S14         Low    Aligned           0.670632\n",
       "0     S14      Dorsal  Unaligned          -0.065401\n",
       "1     S14        High  Unaligned           0.166141\n",
       "2     S14      Labial  Unaligned          -0.085873\n",
       "3     S14         Low  Unaligned          -0.042711"
      ]
     },
     "execution_count": 111,
     "metadata": {},
     "output_type": "execute_result"
    }
   ],
   "source": [
    "artic_sim_S1_df = pd.DataFrame(artic_map_sims).T\n",
    "artic_sim_S1_df['Patient'] = artic_sim_S1_df.index\n",
    "artic_sim_S1_df = artic_sim_S1_df.reset_index(drop=True)\n",
    "artic_sim_S1_df = pd.melt(artic_sim_S1_df, id_vars=['Patient'], var_name='Articulator', value_name='Cosine Similarity')\n",
    "\n",
    "artic_sim_null_S1_df = pd.DataFrame(artic_map_sims_null).T\n",
    "artic_sim_null_S1_df['Patient'] = artic_sim_null_S1_df.index\n",
    "artic_sim_null_S1_df = artic_sim_null_S1_df.reset_index(drop=True)\n",
    "artic_sim_null_S1_df = pd.melt(artic_sim_null_S1_df, id_vars=['Patient'], var_name='Articulator', value_name='Cosine Similarity')\n",
    "\n",
    "artic_sim_S1_df['Type'] = 'Aligned'\n",
    "artic_sim_null_S1_df['Type'] = 'Unaligned'\n",
    "artic_sim_full_S1_df = pd.concat([artic_sim_S1_df, artic_sim_null_S1_df])\n",
    "artic_sim_full_S1_df['Articulator'] = artic_sim_full_S1_df['Articulator'].str.capitalize()\n",
    "artic_sim_full_S1_df = artic_sim_full_S1_df[['Patient', 'Articulator', 'Type', 'Cosine Similarity']]\n",
    "artic_sim_full_S1_df"
   ]
  },
  {
   "cell_type": "code",
   "execution_count": 80,
   "metadata": {},
   "outputs": [
    {
     "data": {
      "application/vnd.plotly.v1+json": {
       "config": {
        "plotlyServerURL": "https://plotly.com"
       },
       "data": [
        {
         "alignmentgroup": "True",
         "bingroup": "x",
         "histfunc": "sum",
         "hovertemplate": "Type=Aligned<br>Articulator=%{x}<br>sum of Cosine Similarity=%{y}<extra></extra>",
         "legendgroup": "Aligned",
         "marker": {
          "color": "#636EFA",
          "pattern": {
           "shape": ""
          }
         },
         "name": "Aligned",
         "offsetgroup": "Aligned",
         "orientation": "v",
         "showlegend": true,
         "type": "histogram",
         "x": [
          "Dorsal",
          "High",
          "Labial",
          "Low"
         ],
         "xaxis": "x",
         "y": [
          0.5258065466194144,
          0.3465821982611812,
          0.7095805509574565,
          0.6706321568220244
         ],
         "yaxis": "y"
        },
        {
         "alignmentgroup": "True",
         "bingroup": "x",
         "histfunc": "sum",
         "hovertemplate": "Type=Unaligned<br>Articulator=%{x}<br>sum of Cosine Similarity=%{y}<extra></extra>",
         "legendgroup": "Unaligned",
         "marker": {
          "color": "#7F7F7F",
          "pattern": {
           "shape": ""
          }
         },
         "name": "Unaligned",
         "offsetgroup": "Unaligned",
         "orientation": "v",
         "showlegend": true,
         "type": "histogram",
         "x": [
          "Dorsal",
          "High",
          "Labial",
          "Low"
         ],
         "xaxis": "x",
         "y": [
          -0.065400584087818,
          0.16614065382364432,
          -0.08587312031416132,
          -0.04271136145621701
         ],
         "yaxis": "y"
        }
       ],
       "layout": {
        "barmode": "group",
        "font": {
         "family": "Arial",
         "size": 18
        },
        "height": 600,
        "legend": {
         "orientation": "h",
         "title": {
          "text": ""
         },
         "tracegroupgap": 0,
         "x": 0.02,
         "xanchor": "left",
         "y": 0.98,
         "yanchor": "top"
        },
        "margin": {
         "t": 60
        },
        "plot_bgcolor": "white",
        "shapes": [
         {
          "line": {
           "color": "grey",
           "dash": "dash"
          },
          "type": "line",
          "x0": 0,
          "x1": 1,
          "xref": "x domain",
          "y0": 0,
          "y1": 0,
          "yref": "y"
         }
        ],
        "template": {
         "data": {
          "bar": [
           {
            "error_x": {
             "color": "#2a3f5f"
            },
            "error_y": {
             "color": "#2a3f5f"
            },
            "marker": {
             "line": {
              "color": "#E5ECF6",
              "width": 0.5
             },
             "pattern": {
              "fillmode": "overlay",
              "size": 10,
              "solidity": 0.2
             }
            },
            "type": "bar"
           }
          ],
          "barpolar": [
           {
            "marker": {
             "line": {
              "color": "#E5ECF6",
              "width": 0.5
             },
             "pattern": {
              "fillmode": "overlay",
              "size": 10,
              "solidity": 0.2
             }
            },
            "type": "barpolar"
           }
          ],
          "carpet": [
           {
            "aaxis": {
             "endlinecolor": "#2a3f5f",
             "gridcolor": "white",
             "linecolor": "white",
             "minorgridcolor": "white",
             "startlinecolor": "#2a3f5f"
            },
            "baxis": {
             "endlinecolor": "#2a3f5f",
             "gridcolor": "white",
             "linecolor": "white",
             "minorgridcolor": "white",
             "startlinecolor": "#2a3f5f"
            },
            "type": "carpet"
           }
          ],
          "choropleth": [
           {
            "colorbar": {
             "outlinewidth": 0,
             "ticks": ""
            },
            "type": "choropleth"
           }
          ],
          "contour": [
           {
            "colorbar": {
             "outlinewidth": 0,
             "ticks": ""
            },
            "colorscale": [
             [
              0,
              "#0d0887"
             ],
             [
              0.1111111111111111,
              "#46039f"
             ],
             [
              0.2222222222222222,
              "#7201a8"
             ],
             [
              0.3333333333333333,
              "#9c179e"
             ],
             [
              0.4444444444444444,
              "#bd3786"
             ],
             [
              0.5555555555555556,
              "#d8576b"
             ],
             [
              0.6666666666666666,
              "#ed7953"
             ],
             [
              0.7777777777777778,
              "#fb9f3a"
             ],
             [
              0.8888888888888888,
              "#fdca26"
             ],
             [
              1,
              "#f0f921"
             ]
            ],
            "type": "contour"
           }
          ],
          "contourcarpet": [
           {
            "colorbar": {
             "outlinewidth": 0,
             "ticks": ""
            },
            "type": "contourcarpet"
           }
          ],
          "heatmap": [
           {
            "colorbar": {
             "outlinewidth": 0,
             "ticks": ""
            },
            "colorscale": [
             [
              0,
              "#0d0887"
             ],
             [
              0.1111111111111111,
              "#46039f"
             ],
             [
              0.2222222222222222,
              "#7201a8"
             ],
             [
              0.3333333333333333,
              "#9c179e"
             ],
             [
              0.4444444444444444,
              "#bd3786"
             ],
             [
              0.5555555555555556,
              "#d8576b"
             ],
             [
              0.6666666666666666,
              "#ed7953"
             ],
             [
              0.7777777777777778,
              "#fb9f3a"
             ],
             [
              0.8888888888888888,
              "#fdca26"
             ],
             [
              1,
              "#f0f921"
             ]
            ],
            "type": "heatmap"
           }
          ],
          "heatmapgl": [
           {
            "colorbar": {
             "outlinewidth": 0,
             "ticks": ""
            },
            "colorscale": [
             [
              0,
              "#0d0887"
             ],
             [
              0.1111111111111111,
              "#46039f"
             ],
             [
              0.2222222222222222,
              "#7201a8"
             ],
             [
              0.3333333333333333,
              "#9c179e"
             ],
             [
              0.4444444444444444,
              "#bd3786"
             ],
             [
              0.5555555555555556,
              "#d8576b"
             ],
             [
              0.6666666666666666,
              "#ed7953"
             ],
             [
              0.7777777777777778,
              "#fb9f3a"
             ],
             [
              0.8888888888888888,
              "#fdca26"
             ],
             [
              1,
              "#f0f921"
             ]
            ],
            "type": "heatmapgl"
           }
          ],
          "histogram": [
           {
            "marker": {
             "pattern": {
              "fillmode": "overlay",
              "size": 10,
              "solidity": 0.2
             }
            },
            "type": "histogram"
           }
          ],
          "histogram2d": [
           {
            "colorbar": {
             "outlinewidth": 0,
             "ticks": ""
            },
            "colorscale": [
             [
              0,
              "#0d0887"
             ],
             [
              0.1111111111111111,
              "#46039f"
             ],
             [
              0.2222222222222222,
              "#7201a8"
             ],
             [
              0.3333333333333333,
              "#9c179e"
             ],
             [
              0.4444444444444444,
              "#bd3786"
             ],
             [
              0.5555555555555556,
              "#d8576b"
             ],
             [
              0.6666666666666666,
              "#ed7953"
             ],
             [
              0.7777777777777778,
              "#fb9f3a"
             ],
             [
              0.8888888888888888,
              "#fdca26"
             ],
             [
              1,
              "#f0f921"
             ]
            ],
            "type": "histogram2d"
           }
          ],
          "histogram2dcontour": [
           {
            "colorbar": {
             "outlinewidth": 0,
             "ticks": ""
            },
            "colorscale": [
             [
              0,
              "#0d0887"
             ],
             [
              0.1111111111111111,
              "#46039f"
             ],
             [
              0.2222222222222222,
              "#7201a8"
             ],
             [
              0.3333333333333333,
              "#9c179e"
             ],
             [
              0.4444444444444444,
              "#bd3786"
             ],
             [
              0.5555555555555556,
              "#d8576b"
             ],
             [
              0.6666666666666666,
              "#ed7953"
             ],
             [
              0.7777777777777778,
              "#fb9f3a"
             ],
             [
              0.8888888888888888,
              "#fdca26"
             ],
             [
              1,
              "#f0f921"
             ]
            ],
            "type": "histogram2dcontour"
           }
          ],
          "mesh3d": [
           {
            "colorbar": {
             "outlinewidth": 0,
             "ticks": ""
            },
            "type": "mesh3d"
           }
          ],
          "parcoords": [
           {
            "line": {
             "colorbar": {
              "outlinewidth": 0,
              "ticks": ""
             }
            },
            "type": "parcoords"
           }
          ],
          "pie": [
           {
            "automargin": true,
            "type": "pie"
           }
          ],
          "scatter": [
           {
            "fillpattern": {
             "fillmode": "overlay",
             "size": 10,
             "solidity": 0.2
            },
            "type": "scatter"
           }
          ],
          "scatter3d": [
           {
            "line": {
             "colorbar": {
              "outlinewidth": 0,
              "ticks": ""
             }
            },
            "marker": {
             "colorbar": {
              "outlinewidth": 0,
              "ticks": ""
             }
            },
            "type": "scatter3d"
           }
          ],
          "scattercarpet": [
           {
            "marker": {
             "colorbar": {
              "outlinewidth": 0,
              "ticks": ""
             }
            },
            "type": "scattercarpet"
           }
          ],
          "scattergeo": [
           {
            "marker": {
             "colorbar": {
              "outlinewidth": 0,
              "ticks": ""
             }
            },
            "type": "scattergeo"
           }
          ],
          "scattergl": [
           {
            "marker": {
             "colorbar": {
              "outlinewidth": 0,
              "ticks": ""
             }
            },
            "type": "scattergl"
           }
          ],
          "scattermapbox": [
           {
            "marker": {
             "colorbar": {
              "outlinewidth": 0,
              "ticks": ""
             }
            },
            "type": "scattermapbox"
           }
          ],
          "scatterpolar": [
           {
            "marker": {
             "colorbar": {
              "outlinewidth": 0,
              "ticks": ""
             }
            },
            "type": "scatterpolar"
           }
          ],
          "scatterpolargl": [
           {
            "marker": {
             "colorbar": {
              "outlinewidth": 0,
              "ticks": ""
             }
            },
            "type": "scatterpolargl"
           }
          ],
          "scatterternary": [
           {
            "marker": {
             "colorbar": {
              "outlinewidth": 0,
              "ticks": ""
             }
            },
            "type": "scatterternary"
           }
          ],
          "surface": [
           {
            "colorbar": {
             "outlinewidth": 0,
             "ticks": ""
            },
            "colorscale": [
             [
              0,
              "#0d0887"
             ],
             [
              0.1111111111111111,
              "#46039f"
             ],
             [
              0.2222222222222222,
              "#7201a8"
             ],
             [
              0.3333333333333333,
              "#9c179e"
             ],
             [
              0.4444444444444444,
              "#bd3786"
             ],
             [
              0.5555555555555556,
              "#d8576b"
             ],
             [
              0.6666666666666666,
              "#ed7953"
             ],
             [
              0.7777777777777778,
              "#fb9f3a"
             ],
             [
              0.8888888888888888,
              "#fdca26"
             ],
             [
              1,
              "#f0f921"
             ]
            ],
            "type": "surface"
           }
          ],
          "table": [
           {
            "cells": {
             "fill": {
              "color": "#EBF0F8"
             },
             "line": {
              "color": "white"
             }
            },
            "header": {
             "fill": {
              "color": "#C8D4E3"
             },
             "line": {
              "color": "white"
             }
            },
            "type": "table"
           }
          ]
         },
         "layout": {
          "annotationdefaults": {
           "arrowcolor": "#2a3f5f",
           "arrowhead": 0,
           "arrowwidth": 1
          },
          "autotypenumbers": "strict",
          "coloraxis": {
           "colorbar": {
            "outlinewidth": 0,
            "ticks": ""
           }
          },
          "colorscale": {
           "diverging": [
            [
             0,
             "#8e0152"
            ],
            [
             0.1,
             "#c51b7d"
            ],
            [
             0.2,
             "#de77ae"
            ],
            [
             0.3,
             "#f1b6da"
            ],
            [
             0.4,
             "#fde0ef"
            ],
            [
             0.5,
             "#f7f7f7"
            ],
            [
             0.6,
             "#e6f5d0"
            ],
            [
             0.7,
             "#b8e186"
            ],
            [
             0.8,
             "#7fbc41"
            ],
            [
             0.9,
             "#4d9221"
            ],
            [
             1,
             "#276419"
            ]
           ],
           "sequential": [
            [
             0,
             "#0d0887"
            ],
            [
             0.1111111111111111,
             "#46039f"
            ],
            [
             0.2222222222222222,
             "#7201a8"
            ],
            [
             0.3333333333333333,
             "#9c179e"
            ],
            [
             0.4444444444444444,
             "#bd3786"
            ],
            [
             0.5555555555555556,
             "#d8576b"
            ],
            [
             0.6666666666666666,
             "#ed7953"
            ],
            [
             0.7777777777777778,
             "#fb9f3a"
            ],
            [
             0.8888888888888888,
             "#fdca26"
            ],
            [
             1,
             "#f0f921"
            ]
           ],
           "sequentialminus": [
            [
             0,
             "#0d0887"
            ],
            [
             0.1111111111111111,
             "#46039f"
            ],
            [
             0.2222222222222222,
             "#7201a8"
            ],
            [
             0.3333333333333333,
             "#9c179e"
            ],
            [
             0.4444444444444444,
             "#bd3786"
            ],
            [
             0.5555555555555556,
             "#d8576b"
            ],
            [
             0.6666666666666666,
             "#ed7953"
            ],
            [
             0.7777777777777778,
             "#fb9f3a"
            ],
            [
             0.8888888888888888,
             "#fdca26"
            ],
            [
             1,
             "#f0f921"
            ]
           ]
          },
          "colorway": [
           "#636efa",
           "#EF553B",
           "#00cc96",
           "#ab63fa",
           "#FFA15A",
           "#19d3f3",
           "#FF6692",
           "#B6E880",
           "#FF97FF",
           "#FECB52"
          ],
          "font": {
           "color": "#2a3f5f"
          },
          "geo": {
           "bgcolor": "white",
           "lakecolor": "white",
           "landcolor": "#E5ECF6",
           "showlakes": true,
           "showland": true,
           "subunitcolor": "white"
          },
          "hoverlabel": {
           "align": "left"
          },
          "hovermode": "closest",
          "mapbox": {
           "style": "light"
          },
          "paper_bgcolor": "white",
          "plot_bgcolor": "#E5ECF6",
          "polar": {
           "angularaxis": {
            "gridcolor": "white",
            "linecolor": "white",
            "ticks": ""
           },
           "bgcolor": "#E5ECF6",
           "radialaxis": {
            "gridcolor": "white",
            "linecolor": "white",
            "ticks": ""
           }
          },
          "scene": {
           "xaxis": {
            "backgroundcolor": "#E5ECF6",
            "gridcolor": "white",
            "gridwidth": 2,
            "linecolor": "white",
            "showbackground": true,
            "ticks": "",
            "zerolinecolor": "white"
           },
           "yaxis": {
            "backgroundcolor": "#E5ECF6",
            "gridcolor": "white",
            "gridwidth": 2,
            "linecolor": "white",
            "showbackground": true,
            "ticks": "",
            "zerolinecolor": "white"
           },
           "zaxis": {
            "backgroundcolor": "#E5ECF6",
            "gridcolor": "white",
            "gridwidth": 2,
            "linecolor": "white",
            "showbackground": true,
            "ticks": "",
            "zerolinecolor": "white"
           }
          },
          "shapedefaults": {
           "line": {
            "color": "#2a3f5f"
           }
          },
          "ternary": {
           "aaxis": {
            "gridcolor": "white",
            "linecolor": "white",
            "ticks": ""
           },
           "baxis": {
            "gridcolor": "white",
            "linecolor": "white",
            "ticks": ""
           },
           "bgcolor": "#E5ECF6",
           "caxis": {
            "gridcolor": "white",
            "linecolor": "white",
            "ticks": ""
           }
          },
          "title": {
           "x": 0.05
          },
          "xaxis": {
           "automargin": true,
           "gridcolor": "white",
           "linecolor": "white",
           "ticks": "",
           "title": {
            "standoff": 15
           },
           "zerolinecolor": "white",
           "zerolinewidth": 2
          },
          "yaxis": {
           "automargin": true,
           "gridcolor": "white",
           "linecolor": "white",
           "ticks": "",
           "title": {
            "standoff": 15
           },
           "zerolinecolor": "white",
           "zerolinewidth": 2
          }
         }
        },
        "title": {
         "text": "Similarity of S1 reconstructed articulator maps",
         "x": 0.5
        },
        "width": 800,
        "xaxis": {
         "anchor": "y",
         "domain": [
          0,
          1
         ],
         "linecolor": "black",
         "mirror": false,
         "showgrid": false,
         "showline": true,
         "ticks": "outside",
         "title": {
          "text": "Articulator Type"
         }
        },
        "yaxis": {
         "anchor": "x",
         "domain": [
          0,
          1
         ],
         "linecolor": "black",
         "mirror": false,
         "range": [
          -0.2,
          0.85
         ],
         "showgrid": false,
         "showline": true,
         "ticks": "outside",
         "title": {
          "text": "Cosine Similarity"
         }
        }
       }
      }
     },
     "metadata": {},
     "output_type": "display_data"
    }
   ],
   "source": [
    "fig = px.histogram(artic_sim_full_S1_df, x='Articulator', y=\"Cosine Similarity\", color='Type', barmode='group', width=800, height=600, color_discrete_sequence=[px_colors[0], '#7F7F7F'])\n",
    "\n",
    "fig.add_hline(y=0, line_dash='dash', line_color='grey')\n",
    "fig.update_layout(\n",
    "    plot_bgcolor='white',\n",
    "    legend=dict(\n",
    "        orientation='h',\n",
    "        yanchor='top',\n",
    "        y=0.98,\n",
    "        xanchor='left',\n",
    "        x=0.02,\n",
    "        title_text=''\n",
    "    ),\n",
    "    # showlegend=False,\n",
    "    title_text='Similarity of S1 reconstructed articulator maps',\n",
    "    title_x=0.5,\n",
    "    font=dict(size=18, family='Arial')\n",
    ")\n",
    "fig.update_xaxes(\n",
    "    title='Articulator Type',\n",
    "    mirror=False,\n",
    "    ticks='outside',\n",
    "    showline=True,\n",
    "    linecolor='black',\n",
    "    showgrid=False,\n",
    ")\n",
    "fig.update_yaxes(\n",
    "    title='Cosine Similarity',\n",
    "    mirror=False,\n",
    "    ticks='outside',\n",
    "    showline=True,\n",
    "    linecolor='black',\n",
    "    showgrid=False,\n",
    "    range=[-0.2, 0.85],\n",
    ")\n",
    "\n",
    "# fig.write_image(r\"C:\\Users\\zms14\\Box\\CoganLab\\IndividualMeetings\\Zac\\manuscripts\\cross_patient_speech_decoding\\figures\\fig_3\\S1_artic_recon.svg\")\n",
    "fig.show()"
   ]
  },
  {
   "cell_type": "code",
   "execution_count": 113,
   "metadata": {},
   "outputs": [
    {
     "name": "stdout",
     "output_type": "stream",
     "text": [
      "##### S1 #####\n",
      "Cosine similarity between low map reconstruction: 0.6706321568220244\n",
      "Cosine similarity between low map null reconstruction: -0.04271136145621701\n",
      "Cosine similarity between high map reconstruction: 0.3465821982611812\n",
      "Cosine similarity between high map null reconstruction: 0.16614065382364432\n",
      "Cosine similarity between labial map reconstruction: 0.7095805509574565\n",
      "Cosine similarity between labial map null reconstruction: -0.08587312031416132\n",
      "Cosine similarity between dorsal map reconstruction: 0.5258065466194144\n",
      "Cosine similarity between dorsal map null reconstruction: -0.065400584087818\n",
      "##### S2 #####\n",
      "Cosine similarity between low map reconstruction: 0.0495059759573917\n",
      "Cosine similarity between low map null reconstruction: -0.02540922760920568\n",
      "Cosine similarity between high map reconstruction: 0.20092183110367018\n",
      "Cosine similarity between high map null reconstruction: -0.06103622373930063\n",
      "Cosine similarity between labial map reconstruction: -0.17253134246553464\n",
      "Cosine similarity between labial map null reconstruction: -0.08063185388542175\n",
      "Cosine similarity between dorsal map reconstruction: 0.17664318052638664\n",
      "Cosine similarity between dorsal map null reconstruction: -0.17442509578021087\n",
      "##### S5 #####\n",
      "Cosine similarity between low map reconstruction: 0.5908812207103163\n",
      "Cosine similarity between low map null reconstruction: 0.1146405393061432\n",
      "Cosine similarity between high map reconstruction: 0.3548222405360538\n",
      "Cosine similarity between high map null reconstruction: 0.08113259701000858\n",
      "Cosine similarity between labial map reconstruction: 0.6563300974783077\n",
      "Cosine similarity between labial map null reconstruction: -0.161267954547101\n",
      "Cosine similarity between dorsal map reconstruction: 0.17311767636069172\n",
      "Cosine similarity between dorsal map null reconstruction: 0.1705336065034169\n",
      "##### S3 #####\n",
      "Cosine similarity between low map reconstruction: 0.17794864273603725\n",
      "Cosine similarity between low map null reconstruction: -0.0066160677381842175\n",
      "Cosine similarity between high map reconstruction: 0.04731479352608776\n",
      "Cosine similarity between high map null reconstruction: 0.2238573045103828\n",
      "Cosine similarity between labial map reconstruction: 0.3166979124852659\n",
      "Cosine similarity between labial map null reconstruction: 0.15605899431534467\n",
      "Cosine similarity between dorsal map reconstruction: 0.23436835416065205\n",
      "Cosine similarity between dorsal map null reconstruction: 0.02488812889683972\n",
      "##### S4 #####\n",
      "Cosine similarity between low map reconstruction: 0.3256562280187925\n",
      "Cosine similarity between low map null reconstruction: 0.1543650326811719\n",
      "Cosine similarity between high map reconstruction: 0.12033801723776771\n",
      "Cosine similarity between high map null reconstruction: 0.053362421141079724\n",
      "Cosine similarity between labial map reconstruction: 0.009899850589460637\n",
      "Cosine similarity between labial map null reconstruction: 0.1928306746987805\n",
      "Cosine similarity between dorsal map reconstruction: -0.017450924643129147\n",
      "Cosine similarity between dorsal map null reconstruction: 0.03149610393140266\n",
      "##### S6 #####\n",
      "Cosine similarity between low map reconstruction: -0.03992323137585357\n",
      "Cosine similarity between low map null reconstruction: -0.06943395097293312\n",
      "Cosine similarity between high map reconstruction: 0.125123114444345\n",
      "Cosine similarity between high map null reconstruction: 0.04007560445304171\n",
      "Cosine similarity between labial map reconstruction: -0.002188028597711384\n",
      "Cosine similarity between labial map null reconstruction: 0.21941695949202733\n",
      "Cosine similarity between dorsal map reconstruction: 0.13544120754125033\n",
      "Cosine similarity between dorsal map null reconstruction: 0.04074871140578092\n",
      "##### S7 #####\n",
      "Cosine similarity between low map reconstruction: 0.24059135003806428\n",
      "Cosine similarity between low map null reconstruction: -0.31118420398324065\n",
      "Cosine similarity between high map reconstruction: -0.1442445311490473\n",
      "Cosine similarity between high map null reconstruction: -0.11684044459611749\n",
      "Cosine similarity between labial map reconstruction: 0.14994780520079454\n",
      "Cosine similarity between labial map null reconstruction: -0.2072563675513192\n",
      "Cosine similarity between dorsal map reconstruction: 0.2054920903033702\n",
      "Cosine similarity between dorsal map null reconstruction: -0.16011046832330986\n",
      "##### S8 #####\n",
      "Cosine similarity between low map reconstruction: 0.18154794993472964\n",
      "Cosine similarity between low map null reconstruction: -0.09295333870455548\n",
      "Cosine similarity between high map reconstruction: 0.11493719307760114\n",
      "Cosine similarity between high map null reconstruction: -0.043818636743183745\n",
      "Cosine similarity between labial map reconstruction: 0.22810942661977035\n",
      "Cosine similarity between labial map null reconstruction: -0.19600036455162756\n",
      "Cosine similarity between dorsal map reconstruction: 0.1703458170354156\n",
      "Cosine similarity between dorsal map null reconstruction: -0.05970265157182066\n"
     ]
    }
   ],
   "source": [
    "artic_map_sims = {}\n",
    "artic_map_sims_null = {}\n",
    "for target_pt in pt_names:\n",
    "    print(f'##### {paper_pt_dict[target_pt]} #####')\n",
    "\n",
    "    target_maps = pt_artic_maps[target_pt]['weights']\n",
    "    target_pt_ind = pt_names.index(target_pt)\n",
    "    target_dr = alignDict_allPts[target_pt]['pcas'][target_pt]\n",
    "    target_chan_map = pt_artic_maps[target_pt]['weight_map']\n",
    "    artic_map_sims[target_pt] = {}\n",
    "    artic_map_sims_null[target_pt] = {}\n",
    "\n",
    "    pt_names_artic_recon = [target_pt] + [pt for pt in pt_names if pt != target_pt]\n",
    "\n",
    "    sim_values = []\n",
    "    sim_values_null = []\n",
    "    artic_recons = np.zeros((target_maps.shape[0], len(pt_names_artic_recon[1:]), all_pt_elec_data[pt_names.index(target_pt)].shape[-1]))\n",
    "    artic_nulls = np.zeros((target_maps.shape[0], len(pt_names_artic_recon[1:]), all_pt_elec_data[pt_names.index(target_pt)].shape[-1]))\n",
    "    for i_artic, lab in enumerate(artic_labels):\n",
    "        map_target = target_maps[i_artic]\n",
    "\n",
    "        for i_pt, input_pt in enumerate(pt_names_artic_recon[1:]):           \n",
    "            map_input = pt_artic_maps[input_pt]['weights'][i_artic]\n",
    "            input_pt_ind = pt_names.index(input_pt)\n",
    "\n",
    "            input_dr = alignDict_allPts[target_pt]['pcas'][input_pt]\n",
    "            align = alignDict_allPts[target_pt]['aligners'][input_pt]\n",
    "\n",
    "            map_flat = map_input.flatten()[~np.isnan(map_input.flatten())]\n",
    "            map_flat = map_flat[None, :] # expand dims for compatibility with transformations below\n",
    "\n",
    "            # scale the mean of the pca to the articulator map space\n",
    "            sc_input = MinMaxScaler(feature_range=(np.nanmin(map_flat), np.nanmax(map_flat)))\n",
    "            sc_input.fit(all_pt_elec_data[input_pt_ind].reshape(-1, all_pt_elec_data[input_pt_ind].shape[-1]))\n",
    "            sc_mean_input = np.squeeze(sc_input.transform(input_dr.mean_[None,:]))\n",
    "\n",
    "            map_target_flat = map_target.flatten()[~np.isnan(map_target.flatten())]\n",
    "            sc_target = MinMaxScaler(feature_range=(np.nanmin(map_target.flatten()), np.nanmax(map_target.flatten())))\n",
    "            sc_target.fit(all_pt_elec_data[target_pt_ind].reshape(-1, all_pt_elec_data[target_pt_ind].shape[-1]))\n",
    "            sc_mean_target = np.squeeze(sc_target.transform(target_dr.mean_[None,:]))\n",
    "\n",
    "            map_dr = (map_flat - sc_mean_input) @ input_dr.components_.T\n",
    "\n",
    "            M_a = align.M_a\n",
    "            M_b = align.M_b\n",
    "            map_align = map_dr @ M_b @ np.linalg.pinv(M_a)\n",
    "\n",
    "            map_recon = map_align @ target_dr.components_\n",
    "            map_null = map_dr @ target_dr.components_\n",
    "\n",
    "            artic_recons[i_artic, i_pt, :] = map_recon.squeeze()\n",
    "            artic_nulls[i_artic, i_pt, :] = map_null.squeeze()\n",
    "\n",
    "        avg_recon_map = np.mean(artic_recons[i_artic], axis=0)\n",
    "        avg_null_map = np.mean(artic_nulls[i_artic], axis=0)\n",
    "\n",
    "        sim = cos_sim(avg_recon_map, map_target_flat - sc_mean_target)\n",
    "        sim_values.append(sim)\n",
    "        print(f'Cosine similarity between {lab} map reconstruction: {sim}')\n",
    "\n",
    "        sim_null = cos_sim(avg_null_map, map_target_flat - sc_mean_target)\n",
    "        sim_values_null.append(sim_null)\n",
    "        print(f'Cosine similarity between {lab} map null reconstruction: {sim_null}')\n",
    "\n",
    "        artic_map_sims[target_pt][lab] = sim\n",
    "        artic_map_sims_null[target_pt][lab] = sim_null"
   ]
  },
  {
   "cell_type": "code",
   "execution_count": 114,
   "metadata": {},
   "outputs": [
    {
     "data": {
      "text/html": [
       "<div>\n",
       "<style scoped>\n",
       "    .dataframe tbody tr th:only-of-type {\n",
       "        vertical-align: middle;\n",
       "    }\n",
       "\n",
       "    .dataframe tbody tr th {\n",
       "        vertical-align: top;\n",
       "    }\n",
       "\n",
       "    .dataframe thead th {\n",
       "        text-align: right;\n",
       "    }\n",
       "</style>\n",
       "<table border=\"1\" class=\"dataframe\">\n",
       "  <thead>\n",
       "    <tr style=\"text-align: right;\">\n",
       "      <th></th>\n",
       "      <th>Patient</th>\n",
       "      <th>Articulator</th>\n",
       "      <th>Type</th>\n",
       "      <th>Cosine Similarity</th>\n",
       "    </tr>\n",
       "  </thead>\n",
       "  <tbody>\n",
       "    <tr>\n",
       "      <th>0</th>\n",
       "      <td>S1</td>\n",
       "      <td>Low</td>\n",
       "      <td>Aligned</td>\n",
       "      <td>0.670632</td>\n",
       "    </tr>\n",
       "    <tr>\n",
       "      <th>1</th>\n",
       "      <td>S2</td>\n",
       "      <td>Low</td>\n",
       "      <td>Aligned</td>\n",
       "      <td>0.049506</td>\n",
       "    </tr>\n",
       "    <tr>\n",
       "      <th>2</th>\n",
       "      <td>S5</td>\n",
       "      <td>Low</td>\n",
       "      <td>Aligned</td>\n",
       "      <td>0.590881</td>\n",
       "    </tr>\n",
       "    <tr>\n",
       "      <th>3</th>\n",
       "      <td>S3</td>\n",
       "      <td>Low</td>\n",
       "      <td>Aligned</td>\n",
       "      <td>0.177949</td>\n",
       "    </tr>\n",
       "    <tr>\n",
       "      <th>4</th>\n",
       "      <td>S4</td>\n",
       "      <td>Low</td>\n",
       "      <td>Aligned</td>\n",
       "      <td>0.325656</td>\n",
       "    </tr>\n",
       "    <tr>\n",
       "      <th>...</th>\n",
       "      <td>...</td>\n",
       "      <td>...</td>\n",
       "      <td>...</td>\n",
       "      <td>...</td>\n",
       "    </tr>\n",
       "    <tr>\n",
       "      <th>27</th>\n",
       "      <td>S3</td>\n",
       "      <td>Dorsal</td>\n",
       "      <td>Unaligned</td>\n",
       "      <td>0.024888</td>\n",
       "    </tr>\n",
       "    <tr>\n",
       "      <th>28</th>\n",
       "      <td>S4</td>\n",
       "      <td>Dorsal</td>\n",
       "      <td>Unaligned</td>\n",
       "      <td>0.031496</td>\n",
       "    </tr>\n",
       "    <tr>\n",
       "      <th>29</th>\n",
       "      <td>S6</td>\n",
       "      <td>Dorsal</td>\n",
       "      <td>Unaligned</td>\n",
       "      <td>0.040749</td>\n",
       "    </tr>\n",
       "    <tr>\n",
       "      <th>30</th>\n",
       "      <td>S7</td>\n",
       "      <td>Dorsal</td>\n",
       "      <td>Unaligned</td>\n",
       "      <td>-0.160110</td>\n",
       "    </tr>\n",
       "    <tr>\n",
       "      <th>31</th>\n",
       "      <td>S8</td>\n",
       "      <td>Dorsal</td>\n",
       "      <td>Unaligned</td>\n",
       "      <td>-0.059703</td>\n",
       "    </tr>\n",
       "  </tbody>\n",
       "</table>\n",
       "<p>64 rows × 4 columns</p>\n",
       "</div>"
      ],
      "text/plain": [
       "   Patient Articulator       Type  Cosine Similarity\n",
       "0       S1         Low    Aligned           0.670632\n",
       "1       S2         Low    Aligned           0.049506\n",
       "2       S5         Low    Aligned           0.590881\n",
       "3       S3         Low    Aligned           0.177949\n",
       "4       S4         Low    Aligned           0.325656\n",
       "..     ...         ...        ...                ...\n",
       "27      S3      Dorsal  Unaligned           0.024888\n",
       "28      S4      Dorsal  Unaligned           0.031496\n",
       "29      S6      Dorsal  Unaligned           0.040749\n",
       "30      S7      Dorsal  Unaligned          -0.160110\n",
       "31      S8      Dorsal  Unaligned          -0.059703\n",
       "\n",
       "[64 rows x 4 columns]"
      ]
     },
     "execution_count": 114,
     "metadata": {},
     "output_type": "execute_result"
    }
   ],
   "source": [
    "artic_sim_df = pd.DataFrame(artic_map_sims).T\n",
    "artic_sim_df['Patient'] = [paper_pt_dict[p] for p in artic_sim_df.index]\n",
    "artic_sim_df = artic_sim_df.reset_index(drop=True)\n",
    "artic_sim_df = pd.melt(artic_sim_df, id_vars=['Patient'], var_name='Articulator', value_name='Cosine Similarity')\n",
    "\n",
    "artic_sim_null_df = pd.DataFrame(artic_map_sims_null).T\n",
    "artic_sim_null_df['Patient'] = [paper_pt_dict[p] for p in artic_sim_null_df.index]\n",
    "artic_sim_null_df = artic_sim_null_df.reset_index(drop=True)\n",
    "artic_sim_null_df = pd.melt(artic_sim_null_df, id_vars=['Patient'], var_name='Articulator', value_name='Cosine Similarity')\n",
    "\n",
    "artic_sim_df['Type'] = 'Aligned'\n",
    "artic_sim_null_df['Type'] = 'Unaligned'\n",
    "artic_sim_full_df = pd.concat([artic_sim_df, artic_sim_null_df])\n",
    "artic_sim_full_df['Articulator'] = artic_sim_full_df['Articulator'].str.capitalize()\n",
    "artic_sim_full_df = artic_sim_full_df[['Patient', 'Articulator', 'Type', 'Cosine Similarity']]\n",
    "artic_sim_full_df"
   ]
  },
  {
   "cell_type": "code",
   "execution_count": 84,
   "metadata": {},
   "outputs": [
    {
     "data": {
      "application/vnd.plotly.v1+json": {
       "config": {
        "plotlyServerURL": "https://plotly.com"
       },
       "data": [
        {
         "alignmentgroup": "True",
         "boxpoints": "all",
         "hovertemplate": "Type=%{x}<br>Cosine Similarity=%{y}<extra></extra>",
         "legendgroup": "Aligned",
         "marker": {
          "color": "#636EFA"
         },
         "name": "Aligned",
         "notched": false,
         "offsetgroup": "Aligned",
         "orientation": "v",
         "showlegend": true,
         "type": "box",
         "x": [
          "Aligned",
          "Aligned",
          "Aligned",
          "Aligned",
          "Aligned",
          "Aligned",
          "Aligned",
          "Aligned",
          "Aligned",
          "Aligned",
          "Aligned",
          "Aligned",
          "Aligned",
          "Aligned",
          "Aligned",
          "Aligned",
          "Aligned",
          "Aligned",
          "Aligned",
          "Aligned",
          "Aligned",
          "Aligned",
          "Aligned",
          "Aligned",
          "Aligned",
          "Aligned",
          "Aligned",
          "Aligned",
          "Aligned",
          "Aligned",
          "Aligned",
          "Aligned"
         ],
         "x0": " ",
         "xaxis": "x",
         "y": [
          0.6706321568220244,
          0.0495059759573917,
          0.5908812207103163,
          0.17794864273603725,
          0.3256562280187925,
          -0.03992323137585357,
          0.24059135003806428,
          0.18154794993472964,
          0.3465821982611812,
          0.20092183110367018,
          0.3548222405360538,
          0.04731479352608776,
          0.12033801723776771,
          0.125123114444345,
          -0.1442445311490473,
          0.11493719307760114,
          0.7095805509574565,
          -0.17253134246553464,
          0.6563300974783077,
          0.3166979124852659,
          0.009899850589460637,
          -0.002188028597711384,
          0.14994780520079454,
          0.22810942661977035,
          0.5258065466194144,
          0.17664318052638664,
          0.17311767636069172,
          0.23436835416065205,
          -0.017450924643129147,
          0.13544120754125033,
          0.2054920903033702,
          0.1703458170354156
         ],
         "y0": " ",
         "yaxis": "y"
        },
        {
         "alignmentgroup": "True",
         "boxpoints": "all",
         "hovertemplate": "Type=%{x}<br>Cosine Similarity=%{y}<extra></extra>",
         "legendgroup": "Unaligned",
         "marker": {
          "color": "#7F7F7F"
         },
         "name": "Unaligned",
         "notched": false,
         "offsetgroup": "Unaligned",
         "orientation": "v",
         "showlegend": true,
         "type": "box",
         "x": [
          "Unaligned",
          "Unaligned",
          "Unaligned",
          "Unaligned",
          "Unaligned",
          "Unaligned",
          "Unaligned",
          "Unaligned",
          "Unaligned",
          "Unaligned",
          "Unaligned",
          "Unaligned",
          "Unaligned",
          "Unaligned",
          "Unaligned",
          "Unaligned",
          "Unaligned",
          "Unaligned",
          "Unaligned",
          "Unaligned",
          "Unaligned",
          "Unaligned",
          "Unaligned",
          "Unaligned",
          "Unaligned",
          "Unaligned",
          "Unaligned",
          "Unaligned",
          "Unaligned",
          "Unaligned",
          "Unaligned",
          "Unaligned"
         ],
         "x0": " ",
         "xaxis": "x",
         "y": [
          -0.04271136145621701,
          -0.02540922760920568,
          0.1146405393061432,
          -0.0066160677381842175,
          0.1543650326811719,
          -0.06943395097293312,
          -0.31118420398324065,
          -0.09295333870455548,
          0.16614065382364432,
          -0.06103622373930063,
          0.08113259701000858,
          0.2238573045103828,
          0.053362421141079724,
          0.04007560445304171,
          -0.11684044459611749,
          -0.043818636743183745,
          -0.08587312031416132,
          -0.08063185388542175,
          -0.161267954547101,
          0.15605899431534467,
          0.1928306746987805,
          0.21941695949202733,
          -0.2072563675513192,
          -0.19600036455162756,
          -0.065400584087818,
          -0.17442509578021087,
          0.1705336065034169,
          0.02488812889683972,
          0.03149610393140266,
          0.04074871140578092,
          -0.16011046832330986,
          -0.05970265157182066
         ],
         "y0": " ",
         "yaxis": "y"
        }
       ],
       "layout": {
        "boxmode": "overlay",
        "font": {
         "family": "Arial",
         "size": 18
        },
        "height": 600,
        "legend": {
         "orientation": "h",
         "title": {
          "text": ""
         },
         "tracegroupgap": 0,
         "x": 0.02,
         "xanchor": "left",
         "y": 0.98,
         "yanchor": "top"
        },
        "margin": {
         "t": 60
        },
        "plot_bgcolor": "white",
        "shapes": [
         {
          "line": {
           "color": "grey",
           "dash": "dash"
          },
          "type": "line",
          "x0": 0,
          "x1": 1,
          "xref": "x domain",
          "y0": 0,
          "y1": 0,
          "yref": "y"
         }
        ],
        "template": {
         "data": {
          "bar": [
           {
            "error_x": {
             "color": "#2a3f5f"
            },
            "error_y": {
             "color": "#2a3f5f"
            },
            "marker": {
             "line": {
              "color": "#E5ECF6",
              "width": 0.5
             },
             "pattern": {
              "fillmode": "overlay",
              "size": 10,
              "solidity": 0.2
             }
            },
            "type": "bar"
           }
          ],
          "barpolar": [
           {
            "marker": {
             "line": {
              "color": "#E5ECF6",
              "width": 0.5
             },
             "pattern": {
              "fillmode": "overlay",
              "size": 10,
              "solidity": 0.2
             }
            },
            "type": "barpolar"
           }
          ],
          "carpet": [
           {
            "aaxis": {
             "endlinecolor": "#2a3f5f",
             "gridcolor": "white",
             "linecolor": "white",
             "minorgridcolor": "white",
             "startlinecolor": "#2a3f5f"
            },
            "baxis": {
             "endlinecolor": "#2a3f5f",
             "gridcolor": "white",
             "linecolor": "white",
             "minorgridcolor": "white",
             "startlinecolor": "#2a3f5f"
            },
            "type": "carpet"
           }
          ],
          "choropleth": [
           {
            "colorbar": {
             "outlinewidth": 0,
             "ticks": ""
            },
            "type": "choropleth"
           }
          ],
          "contour": [
           {
            "colorbar": {
             "outlinewidth": 0,
             "ticks": ""
            },
            "colorscale": [
             [
              0,
              "#0d0887"
             ],
             [
              0.1111111111111111,
              "#46039f"
             ],
             [
              0.2222222222222222,
              "#7201a8"
             ],
             [
              0.3333333333333333,
              "#9c179e"
             ],
             [
              0.4444444444444444,
              "#bd3786"
             ],
             [
              0.5555555555555556,
              "#d8576b"
             ],
             [
              0.6666666666666666,
              "#ed7953"
             ],
             [
              0.7777777777777778,
              "#fb9f3a"
             ],
             [
              0.8888888888888888,
              "#fdca26"
             ],
             [
              1,
              "#f0f921"
             ]
            ],
            "type": "contour"
           }
          ],
          "contourcarpet": [
           {
            "colorbar": {
             "outlinewidth": 0,
             "ticks": ""
            },
            "type": "contourcarpet"
           }
          ],
          "heatmap": [
           {
            "colorbar": {
             "outlinewidth": 0,
             "ticks": ""
            },
            "colorscale": [
             [
              0,
              "#0d0887"
             ],
             [
              0.1111111111111111,
              "#46039f"
             ],
             [
              0.2222222222222222,
              "#7201a8"
             ],
             [
              0.3333333333333333,
              "#9c179e"
             ],
             [
              0.4444444444444444,
              "#bd3786"
             ],
             [
              0.5555555555555556,
              "#d8576b"
             ],
             [
              0.6666666666666666,
              "#ed7953"
             ],
             [
              0.7777777777777778,
              "#fb9f3a"
             ],
             [
              0.8888888888888888,
              "#fdca26"
             ],
             [
              1,
              "#f0f921"
             ]
            ],
            "type": "heatmap"
           }
          ],
          "heatmapgl": [
           {
            "colorbar": {
             "outlinewidth": 0,
             "ticks": ""
            },
            "colorscale": [
             [
              0,
              "#0d0887"
             ],
             [
              0.1111111111111111,
              "#46039f"
             ],
             [
              0.2222222222222222,
              "#7201a8"
             ],
             [
              0.3333333333333333,
              "#9c179e"
             ],
             [
              0.4444444444444444,
              "#bd3786"
             ],
             [
              0.5555555555555556,
              "#d8576b"
             ],
             [
              0.6666666666666666,
              "#ed7953"
             ],
             [
              0.7777777777777778,
              "#fb9f3a"
             ],
             [
              0.8888888888888888,
              "#fdca26"
             ],
             [
              1,
              "#f0f921"
             ]
            ],
            "type": "heatmapgl"
           }
          ],
          "histogram": [
           {
            "marker": {
             "pattern": {
              "fillmode": "overlay",
              "size": 10,
              "solidity": 0.2
             }
            },
            "type": "histogram"
           }
          ],
          "histogram2d": [
           {
            "colorbar": {
             "outlinewidth": 0,
             "ticks": ""
            },
            "colorscale": [
             [
              0,
              "#0d0887"
             ],
             [
              0.1111111111111111,
              "#46039f"
             ],
             [
              0.2222222222222222,
              "#7201a8"
             ],
             [
              0.3333333333333333,
              "#9c179e"
             ],
             [
              0.4444444444444444,
              "#bd3786"
             ],
             [
              0.5555555555555556,
              "#d8576b"
             ],
             [
              0.6666666666666666,
              "#ed7953"
             ],
             [
              0.7777777777777778,
              "#fb9f3a"
             ],
             [
              0.8888888888888888,
              "#fdca26"
             ],
             [
              1,
              "#f0f921"
             ]
            ],
            "type": "histogram2d"
           }
          ],
          "histogram2dcontour": [
           {
            "colorbar": {
             "outlinewidth": 0,
             "ticks": ""
            },
            "colorscale": [
             [
              0,
              "#0d0887"
             ],
             [
              0.1111111111111111,
              "#46039f"
             ],
             [
              0.2222222222222222,
              "#7201a8"
             ],
             [
              0.3333333333333333,
              "#9c179e"
             ],
             [
              0.4444444444444444,
              "#bd3786"
             ],
             [
              0.5555555555555556,
              "#d8576b"
             ],
             [
              0.6666666666666666,
              "#ed7953"
             ],
             [
              0.7777777777777778,
              "#fb9f3a"
             ],
             [
              0.8888888888888888,
              "#fdca26"
             ],
             [
              1,
              "#f0f921"
             ]
            ],
            "type": "histogram2dcontour"
           }
          ],
          "mesh3d": [
           {
            "colorbar": {
             "outlinewidth": 0,
             "ticks": ""
            },
            "type": "mesh3d"
           }
          ],
          "parcoords": [
           {
            "line": {
             "colorbar": {
              "outlinewidth": 0,
              "ticks": ""
             }
            },
            "type": "parcoords"
           }
          ],
          "pie": [
           {
            "automargin": true,
            "type": "pie"
           }
          ],
          "scatter": [
           {
            "fillpattern": {
             "fillmode": "overlay",
             "size": 10,
             "solidity": 0.2
            },
            "type": "scatter"
           }
          ],
          "scatter3d": [
           {
            "line": {
             "colorbar": {
              "outlinewidth": 0,
              "ticks": ""
             }
            },
            "marker": {
             "colorbar": {
              "outlinewidth": 0,
              "ticks": ""
             }
            },
            "type": "scatter3d"
           }
          ],
          "scattercarpet": [
           {
            "marker": {
             "colorbar": {
              "outlinewidth": 0,
              "ticks": ""
             }
            },
            "type": "scattercarpet"
           }
          ],
          "scattergeo": [
           {
            "marker": {
             "colorbar": {
              "outlinewidth": 0,
              "ticks": ""
             }
            },
            "type": "scattergeo"
           }
          ],
          "scattergl": [
           {
            "marker": {
             "colorbar": {
              "outlinewidth": 0,
              "ticks": ""
             }
            },
            "type": "scattergl"
           }
          ],
          "scattermapbox": [
           {
            "marker": {
             "colorbar": {
              "outlinewidth": 0,
              "ticks": ""
             }
            },
            "type": "scattermapbox"
           }
          ],
          "scatterpolar": [
           {
            "marker": {
             "colorbar": {
              "outlinewidth": 0,
              "ticks": ""
             }
            },
            "type": "scatterpolar"
           }
          ],
          "scatterpolargl": [
           {
            "marker": {
             "colorbar": {
              "outlinewidth": 0,
              "ticks": ""
             }
            },
            "type": "scatterpolargl"
           }
          ],
          "scatterternary": [
           {
            "marker": {
             "colorbar": {
              "outlinewidth": 0,
              "ticks": ""
             }
            },
            "type": "scatterternary"
           }
          ],
          "surface": [
           {
            "colorbar": {
             "outlinewidth": 0,
             "ticks": ""
            },
            "colorscale": [
             [
              0,
              "#0d0887"
             ],
             [
              0.1111111111111111,
              "#46039f"
             ],
             [
              0.2222222222222222,
              "#7201a8"
             ],
             [
              0.3333333333333333,
              "#9c179e"
             ],
             [
              0.4444444444444444,
              "#bd3786"
             ],
             [
              0.5555555555555556,
              "#d8576b"
             ],
             [
              0.6666666666666666,
              "#ed7953"
             ],
             [
              0.7777777777777778,
              "#fb9f3a"
             ],
             [
              0.8888888888888888,
              "#fdca26"
             ],
             [
              1,
              "#f0f921"
             ]
            ],
            "type": "surface"
           }
          ],
          "table": [
           {
            "cells": {
             "fill": {
              "color": "#EBF0F8"
             },
             "line": {
              "color": "white"
             }
            },
            "header": {
             "fill": {
              "color": "#C8D4E3"
             },
             "line": {
              "color": "white"
             }
            },
            "type": "table"
           }
          ]
         },
         "layout": {
          "annotationdefaults": {
           "arrowcolor": "#2a3f5f",
           "arrowhead": 0,
           "arrowwidth": 1
          },
          "autotypenumbers": "strict",
          "coloraxis": {
           "colorbar": {
            "outlinewidth": 0,
            "ticks": ""
           }
          },
          "colorscale": {
           "diverging": [
            [
             0,
             "#8e0152"
            ],
            [
             0.1,
             "#c51b7d"
            ],
            [
             0.2,
             "#de77ae"
            ],
            [
             0.3,
             "#f1b6da"
            ],
            [
             0.4,
             "#fde0ef"
            ],
            [
             0.5,
             "#f7f7f7"
            ],
            [
             0.6,
             "#e6f5d0"
            ],
            [
             0.7,
             "#b8e186"
            ],
            [
             0.8,
             "#7fbc41"
            ],
            [
             0.9,
             "#4d9221"
            ],
            [
             1,
             "#276419"
            ]
           ],
           "sequential": [
            [
             0,
             "#0d0887"
            ],
            [
             0.1111111111111111,
             "#46039f"
            ],
            [
             0.2222222222222222,
             "#7201a8"
            ],
            [
             0.3333333333333333,
             "#9c179e"
            ],
            [
             0.4444444444444444,
             "#bd3786"
            ],
            [
             0.5555555555555556,
             "#d8576b"
            ],
            [
             0.6666666666666666,
             "#ed7953"
            ],
            [
             0.7777777777777778,
             "#fb9f3a"
            ],
            [
             0.8888888888888888,
             "#fdca26"
            ],
            [
             1,
             "#f0f921"
            ]
           ],
           "sequentialminus": [
            [
             0,
             "#0d0887"
            ],
            [
             0.1111111111111111,
             "#46039f"
            ],
            [
             0.2222222222222222,
             "#7201a8"
            ],
            [
             0.3333333333333333,
             "#9c179e"
            ],
            [
             0.4444444444444444,
             "#bd3786"
            ],
            [
             0.5555555555555556,
             "#d8576b"
            ],
            [
             0.6666666666666666,
             "#ed7953"
            ],
            [
             0.7777777777777778,
             "#fb9f3a"
            ],
            [
             0.8888888888888888,
             "#fdca26"
            ],
            [
             1,
             "#f0f921"
            ]
           ]
          },
          "colorway": [
           "#636efa",
           "#EF553B",
           "#00cc96",
           "#ab63fa",
           "#FFA15A",
           "#19d3f3",
           "#FF6692",
           "#B6E880",
           "#FF97FF",
           "#FECB52"
          ],
          "font": {
           "color": "#2a3f5f"
          },
          "geo": {
           "bgcolor": "white",
           "lakecolor": "white",
           "landcolor": "#E5ECF6",
           "showlakes": true,
           "showland": true,
           "subunitcolor": "white"
          },
          "hoverlabel": {
           "align": "left"
          },
          "hovermode": "closest",
          "mapbox": {
           "style": "light"
          },
          "paper_bgcolor": "white",
          "plot_bgcolor": "#E5ECF6",
          "polar": {
           "angularaxis": {
            "gridcolor": "white",
            "linecolor": "white",
            "ticks": ""
           },
           "bgcolor": "#E5ECF6",
           "radialaxis": {
            "gridcolor": "white",
            "linecolor": "white",
            "ticks": ""
           }
          },
          "scene": {
           "xaxis": {
            "backgroundcolor": "#E5ECF6",
            "gridcolor": "white",
            "gridwidth": 2,
            "linecolor": "white",
            "showbackground": true,
            "ticks": "",
            "zerolinecolor": "white"
           },
           "yaxis": {
            "backgroundcolor": "#E5ECF6",
            "gridcolor": "white",
            "gridwidth": 2,
            "linecolor": "white",
            "showbackground": true,
            "ticks": "",
            "zerolinecolor": "white"
           },
           "zaxis": {
            "backgroundcolor": "#E5ECF6",
            "gridcolor": "white",
            "gridwidth": 2,
            "linecolor": "white",
            "showbackground": true,
            "ticks": "",
            "zerolinecolor": "white"
           }
          },
          "shapedefaults": {
           "line": {
            "color": "#2a3f5f"
           }
          },
          "ternary": {
           "aaxis": {
            "gridcolor": "white",
            "linecolor": "white",
            "ticks": ""
           },
           "baxis": {
            "gridcolor": "white",
            "linecolor": "white",
            "ticks": ""
           },
           "bgcolor": "#E5ECF6",
           "caxis": {
            "gridcolor": "white",
            "linecolor": "white",
            "ticks": ""
           }
          },
          "title": {
           "x": 0.05
          },
          "xaxis": {
           "automargin": true,
           "gridcolor": "white",
           "linecolor": "white",
           "ticks": "",
           "title": {
            "standoff": 15
           },
           "zerolinecolor": "white",
           "zerolinewidth": 2
          },
          "yaxis": {
           "automargin": true,
           "gridcolor": "white",
           "linecolor": "white",
           "ticks": "",
           "title": {
            "standoff": 15
           },
           "zerolinecolor": "white",
           "zerolinewidth": 2
          }
         }
        },
        "title": {
         "text": "Similarity of reconstructed articulator maps for all patients",
         "x": 0.5
        },
        "width": 800,
        "xaxis": {
         "anchor": "y",
         "categoryarray": [
          "Aligned",
          "Unaligned"
         ],
         "categoryorder": "array",
         "domain": [
          0,
          1
         ],
         "linecolor": "black",
         "mirror": false,
         "range": [
          -0.6,
          1.5
         ],
         "showgrid": false,
         "showline": true,
         "ticks": "outside",
         "tickvals": [],
         "title": {
          "text": ""
         }
        },
        "yaxis": {
         "anchor": "x",
         "domain": [
          0,
          1
         ],
         "linecolor": "black",
         "mirror": false,
         "range": [
          -0.4,
          0.9
         ],
         "showgrid": false,
         "showline": true,
         "ticks": "outside",
         "title": {
          "text": "Cosine Similarity"
         }
        }
       }
      }
     },
     "metadata": {},
     "output_type": "display_data"
    }
   ],
   "source": [
    "fig = px.box(artic_sim_full_df, color='Type', x='Type', y=\"Cosine Similarity\", points='all', width=800, height=600, color_discrete_sequence=[px.colors.qualitative.Plotly[0], '#7F7F7F'])\n",
    "# fig = px.histogram(artic_sim_full_df, x='Articulator', y=\"Cosine Similarity\", color='Type', barmode='group', width=800, height=600, color_discrete_sequence=px.colors.qualitative.Plotly)\n",
    "# fig = px.box(artic_sim_full_df, x='Type', y=\"Cosine Similarity\", width=800, height=600, color_discrete_sequence=px.colors.qualitative.Plotly)\n",
    "\n",
    "# fig.update_traces(mode='lines')\n",
    "# fig.add_traces(px.box(recon_acc_df, x='Condition', y=\"Decoding Accuracy\").data)\n",
    "# fig = px.box(corr_df, x='Condition', y=\"Correlation\", width=800, height=500)\n",
    "# fig.add_traces(px.line(corr_df, x='Condition', y=\"Correlation\", color='Patient', error_y='Error').data)\n",
    "# fig.update_traces(mode='markers+lines')\n",
    "fig.add_hline(y=0, line_dash='dash', line_color='grey')\n",
    "fig.update_layout(\n",
    "    plot_bgcolor='white',\n",
    "    legend=dict(\n",
    "        orientation='h',\n",
    "        yanchor='top',\n",
    "        y=0.98,\n",
    "        xanchor='left',\n",
    "        x=0.02,\n",
    "        title_text=''\n",
    "    ),\n",
    "    # showlegend=False,\n",
    "    title_text='Similarity of reconstructed articulator maps for all patients',\n",
    "    title_x=0.5,\n",
    "    font=dict(size=18, family='Arial')\n",
    ")\n",
    "fig.update_xaxes(\n",
    "    title='',\n",
    "    mirror=False,\n",
    "    ticks='outside',\n",
    "    showline=True,\n",
    "    linecolor='black',\n",
    "    showgrid=False,\n",
    "    tickvals=[],\n",
    "    range=[-0.6, 1.5],\n",
    ")\n",
    "fig.update_yaxes(\n",
    "    title='Cosine Similarity',\n",
    "    mirror=False,\n",
    "    ticks='outside',\n",
    "    showline=True,\n",
    "    linecolor='black',\n",
    "    showgrid=False,\n",
    "    range=[-0.4, 0.9],\n",
    ")\n",
    "\n",
    "# fig.write_image(r\"C:\\Users\\zms14\\Box\\CoganLab\\IndividualMeetings\\Zac\\manuscripts\\cross_patient_speech_decoding\\figures\\fig_3\\allPt_artic_recon.svg\")\n",
    "fig.show()"
   ]
  },
  {
   "cell_type": "code",
   "execution_count": 130,
   "metadata": {},
   "outputs": [
    {
     "name": "stdout",
     "output_type": "stream",
     "text": [
      "Articulator Map Aligned vs Unaligned p-value:\n",
      "0.00019998000199980003\n"
     ]
    }
   ],
   "source": [
    "recon = artic_sim_full_df[artic_sim_full_df['Type'] == 'Aligned']['Cosine Similarity']\n",
    "recon_null = artic_sim_full_df[artic_sim_full_df['Type'] == 'Unaligned']['Cosine Similarity']\n",
    "artic_sim_res = stats.permutation_test((recon, recon_null), mean_stat, n_resamples=10000, vectorized=True, permutation_type='samples')\n",
    "# artic_sim_res = stats.wilcoxon(recon, recon_null)\n",
    "print('Articulator Map Aligned vs Unaligned p-value:')\n",
    "print(artic_sim_res.pvalue)"
   ]
  },
  {
   "cell_type": "markdown",
   "metadata": {},
   "source": [
    "### Panel d"
   ]
  },
  {
   "cell_type": "code",
   "execution_count": 85,
   "metadata": {},
   "outputs": [
    {
     "name": "stdout",
     "output_type": "stream",
     "text": [
      "Recon Pt: S14: [('S14', (144, 200, 128)), ('S26', (148, 200, 128)), ('S23', (151, 200, 128)), ('S33', (46, 200, 128)), ('S22', (151, 200, 128)), ('S39', (137, 200, 128)), ('S58', (141, 200, 128)), ('S62', (178, 200, 128))]\n",
      "Recon Pt: S26: [('S14', (144, 200, 128)), ('S26', (148, 200, 128)), ('S23', (151, 200, 128)), ('S33', (46, 200, 128)), ('S22', (151, 200, 128)), ('S39', (137, 200, 128)), ('S58', (141, 200, 128)), ('S62', (178, 200, 128))]\n",
      "Recon Pt: S23: [('S14', (144, 200, 128)), ('S26', (148, 200, 128)), ('S23', (151, 200, 128)), ('S33', (46, 200, 128)), ('S22', (151, 200, 128)), ('S39', (137, 200, 128)), ('S58', (141, 200, 128)), ('S62', (178, 200, 128))]\n",
      "Recon Pt: S33: [('S14', (144, 200, 256)), ('S26', (148, 200, 256)), ('S23', (151, 200, 256)), ('S33', (46, 200, 256)), ('S22', (151, 200, 256)), ('S39', (137, 200, 256)), ('S58', (141, 200, 256)), ('S62', (178, 200, 256))]\n",
      "Recon Pt: S22: [('S14', (144, 200, 128)), ('S26', (148, 200, 128)), ('S23', (151, 200, 128)), ('S33', (46, 200, 128)), ('S22', (151, 200, 128)), ('S39', (137, 200, 128)), ('S58', (141, 200, 128)), ('S62', (178, 200, 128))]\n",
      "Recon Pt: S39: [('S14', (144, 200, 256)), ('S26', (148, 200, 256)), ('S23', (151, 200, 256)), ('S33', (46, 200, 256)), ('S22', (151, 200, 256)), ('S39', (137, 200, 256)), ('S58', (141, 200, 256)), ('S62', (178, 200, 256))]\n",
      "Recon Pt: S58: [('S14', (144, 200, 256)), ('S26', (148, 200, 256)), ('S23', (151, 200, 256)), ('S33', (46, 200, 256)), ('S22', (151, 200, 256)), ('S39', (137, 200, 256)), ('S58', (141, 200, 256)), ('S62', (178, 200, 256))]\n",
      "Recon Pt: S62: [('S14', (144, 200, 256)), ('S26', (148, 200, 256)), ('S23', (151, 200, 256)), ('S33', (46, 200, 256)), ('S22', (151, 200, 256)), ('S39', (137, 200, 256)), ('S58', (141, 200, 256)), ('S62', (178, 200, 256))]\n"
     ]
    }
   ],
   "source": [
    "reconDict_allPts = {}\n",
    "for recon_pt in pt_names:\n",
    "    pcas = alignDict_allPts[recon_pt]['pcas']\n",
    "    aligned_data = alignDict_allPts[recon_pt]['aligned_data']\n",
    "    aligned_data_null = alignDict_allPts[recon_pt]['aligned_data_null']\n",
    "\n",
    "    recons = {}\n",
    "    recons_null = {}\n",
    "    for i, pt in enumerate(pt_names):\n",
    "        recons[pt] = pcas[recon_pt].inverse_transform(aligned_data[pt])\n",
    "        recons_null[pt] = pcas[recon_pt].inverse_transform(aligned_data_null[pt])\n",
    "        \n",
    "    reconDict_allPts[recon_pt] = {\n",
    "        'recons': recons,\n",
    "        'recons_null': recons_null\n",
    "    }\n",
    "    print(f'Recon Pt: {recon_pt}: {[(k, v.shape) for k,v in recons.items()]}')\n"
   ]
  },
  {
   "cell_type": "code",
   "execution_count": 86,
   "metadata": {},
   "outputs": [],
   "source": [
    "def cmat_acc(y_true, y_pred):\n",
    "    cmat = confusion_matrix(y_true, y_pred)\n",
    "    acc_cmat = np.trace(cmat) / np.sum(cmat)\n",
    "    return acc_cmat\n",
    "\n",
    "def cmat_wrap(y_true_iter, y_pred_iter):\n",
    "    accs = []\n",
    "    for y_true, y_pred in zip(y_true_iter, y_pred_iter):\n",
    "        accs.append(cmat_acc(y_true, y_pred))\n",
    "    return np.array(accs)"
   ]
  },
  {
   "cell_type": "code",
   "execution_count": 87,
   "metadata": {},
   "outputs": [],
   "source": [
    "def recon_decode(X, y, model):\n",
    "    y_pred = model.predict(X)\n",
    "    acc = cmat_acc(y, y_pred)\n",
    "    return acc\n",
    "\n",
    "def pt_decode(pt, save_models=False, do_cv=False, n_folds=20):\n",
    "    X = all_pt_elec_data[pt_names.index(pt)].reshape(all_pt_elec_data[pt_names.index(pt)].shape[0], -1)\n",
    "    y = all_pt_artic_labels[pt]\n",
    "\n",
    "    return PCA_decode(X, y, pt, save_models=save_models, do_cv=do_cv, n_folds=n_folds)\n",
    "\n",
    "\n",
    "def PCA_decode(X, y, pt, save_models=False, do_cv=False, n_folds=20):\n",
    "    ### Setup ###\n",
    "    dim_red = PCA\n",
    "    decoder = SVC(\n",
    "            kernel='rbf',\n",
    "            class_weight='balanced',\n",
    "            )\n",
    "    clf = make_pipeline(\n",
    "                DimRedReshape(dim_red),\n",
    "                BaggingClassifier(\n",
    "                    estimator=decoder,\n",
    "                    # n_estimators=10,\n",
    "                    n_jobs=-1,\n",
    "                    )\n",
    "                )\n",
    "\n",
    "    if do_cv:\n",
    "        param_grid = {\n",
    "            'dimredreshape__n_components': np.arange(0.1, 1, 0.1),\n",
    "                    }\n",
    "    else:\n",
    "        param_grid = {\n",
    "            'dimredreshape__n_components': 0.8,\n",
    "                    }\n",
    "\n",
    "\n",
    "    # use stratified kfold if possible\n",
    "    try:\n",
    "        cv = StratifiedKFold(n_splits=n_folds, shuffle=True)\n",
    "        splits = list(cv.split(X, y))\n",
    "    except ValueError:\n",
    "        cv = KFold(n_splits=n_folds, shuffle=True)\n",
    "        splits = list(cv.split(X, y))\n",
    "\n",
    "\n",
    "    y_test_folds = []\n",
    "    y_pred_folds = []\n",
    "    fold_models = [clone(clf) for _ in range(n_folds)]\n",
    "    for i in tqdm(range(len(splits)), desc=pt):\n",
    "        train_idx, test_idx = splits[i]\n",
    "        X_train, X_test = X[train_idx], X[test_idx]\n",
    "        y_train, y_test = y[train_idx], y[test_idx]\n",
    "\n",
    "        if do_cv:\n",
    "            grid = GridSearchCV(clf, param_grid, cv=n_folds, n_jobs=-1)\n",
    "            grid.fit(X_train, y_train)\n",
    "            print(f'Best Params: {grid.best_params_}')\n",
    "            best_params = grid.best_params_\n",
    "        else:\n",
    "            best_params = param_grid\n",
    "\n",
    "        model = fold_models[i]\n",
    "        model.set_params(**best_params)\n",
    "        model.fit(X_train, y_train)\n",
    "        y_pred = model.predict(X_test)\n",
    "        y_test_folds.extend(y_test)\n",
    "        y_pred_folds.extend(y_pred)\n",
    "\n",
    "    acc = cmat_acc(y_test_folds, y_pred_folds)\n",
    "\n",
    "    if save_models:\n",
    "        return acc, fold_models\n",
    "    else:\n",
    "        return acc"
   ]
  },
  {
   "cell_type": "code",
   "execution_count": 98,
   "metadata": {},
   "outputs": [
    {
     "name": "stderr",
     "output_type": "stream",
     "text": [
      "S14: 100%|██████████| 20/20 [00:07<00:00,  2.61it/s]\n"
     ]
    },
    {
     "name": "stdout",
     "output_type": "stream",
     "text": [
      "S1 Accuracy: 0.6597222222222222\n"
     ]
    },
    {
     "name": "stderr",
     "output_type": "stream",
     "text": [
      "S26: 100%|██████████| 20/20 [00:07<00:00,  2.72it/s]\n"
     ]
    },
    {
     "name": "stdout",
     "output_type": "stream",
     "text": [
      "S2 Accuracy: 0.6351351351351351\n"
     ]
    },
    {
     "name": "stderr",
     "output_type": "stream",
     "text": [
      "S23: 100%|██████████| 20/20 [00:07<00:00,  2.81it/s]\n"
     ]
    },
    {
     "name": "stdout",
     "output_type": "stream",
     "text": [
      "S5 Accuracy: 0.47019867549668876\n"
     ]
    },
    {
     "name": "stderr",
     "output_type": "stream",
     "text": [
      "S33: 100%|██████████| 20/20 [00:04<00:00,  4.01it/s]\n"
     ]
    },
    {
     "name": "stdout",
     "output_type": "stream",
     "text": [
      "S3 Accuracy: 0.32608695652173914\n"
     ]
    },
    {
     "name": "stderr",
     "output_type": "stream",
     "text": [
      "S22: 100%|██████████| 20/20 [00:07<00:00,  2.67it/s]\n"
     ]
    },
    {
     "name": "stdout",
     "output_type": "stream",
     "text": [
      "S4 Accuracy: 0.25165562913907286\n"
     ]
    },
    {
     "name": "stderr",
     "output_type": "stream",
     "text": [
      "S39: 100%|██████████| 20/20 [00:14<00:00,  1.37it/s]\n"
     ]
    },
    {
     "name": "stdout",
     "output_type": "stream",
     "text": [
      "S6 Accuracy: 0.22627737226277372\n"
     ]
    },
    {
     "name": "stderr",
     "output_type": "stream",
     "text": [
      "S58: 100%|██████████| 20/20 [00:14<00:00,  1.39it/s]\n"
     ]
    },
    {
     "name": "stdout",
     "output_type": "stream",
     "text": [
      "S7 Accuracy: 0.2765957446808511\n"
     ]
    },
    {
     "name": "stderr",
     "output_type": "stream",
     "text": [
      "S62: 100%|██████████| 20/20 [00:18<00:00,  1.10it/s]"
     ]
    },
    {
     "name": "stdout",
     "output_type": "stream",
     "text": [
      "S8 Accuracy: 0.5056179775280899\n"
     ]
    },
    {
     "name": "stderr",
     "output_type": "stream",
     "text": [
      "\n"
     ]
    }
   ],
   "source": [
    "# get S14 accuracy and save models to apply to reconstruction data\n",
    "recon_decode_pt = 'S14'\n",
    "recon_acc, recon_models = pt_decode(recon_decode_pt, save_models=True, do_cv=False)\n",
    "print(f'{paper_pt_dict[recon_decode_pt]} Accuracy: {recon_acc}')\n",
    "\n",
    "# get non-reconstruction accuracies for comparison\n",
    "ps_accs = {}\n",
    "other_pts = [pt for pt in pt_names if pt != recon_decode_pt]\n",
    "for pt in other_pts:\n",
    "    pt_acc = pt_decode(pt, do_cv=False)\n",
    "    ps_accs[pt] = pt_acc\n",
    "    print(f'{paper_pt_dict[pt]} Accuracy: {pt_acc}')"
   ]
  },
  {
   "cell_type": "code",
   "execution_count": 99,
   "metadata": {},
   "outputs": [
    {
     "name": "stdout",
     "output_type": "stream",
     "text": [
      "S2 Reconstruction Accuracy: 0.49493243243243235 +/- 0.01366051798591603\n",
      "S5 Reconstruction Accuracy: 0.4735099337748344 +/- 0.013970213979952972\n",
      "S3 Reconstruction Accuracy: 0.541304347826087 +/- 0.05320538369791489\n",
      "S4 Reconstruction Accuracy: 0.42019867549668877 +/- 0.01573805912359755\n",
      "S6 Reconstruction Accuracy: 0.3394160583941606 +/- 0.01951787147024954\n",
      "S7 Reconstruction Accuracy: 0.3017730496453901 +/- 0.013358020001303093\n",
      "S8 Reconstruction Accuracy: 0.44466292134831453 +/- 0.021041182168598318\n"
     ]
    }
   ],
   "source": [
    "recon_accs = {}\n",
    "for pt in other_pts:\n",
    "    model_accs = []\n",
    "    for model in recon_models:\n",
    "        curr_recon = reconDict_allPts[recon_decode_pt]['recons']\n",
    "        X_curr = curr_recon[pt].reshape(recons[pt].shape[0], -1)\n",
    "        y_curr = all_pt_artic_labels[pt]\n",
    "        acc_curr = recon_decode(X_curr, y_curr, model)\n",
    "        model_accs.append(acc_curr)\n",
    "    print(f'{paper_pt_dict[pt]} Reconstruction Accuracy: {np.mean(model_accs)} +/- {np.std(model_accs)}')\n",
    "    recon_accs[pt] = np.mean(model_accs)"
   ]
  },
  {
   "cell_type": "code",
   "execution_count": 100,
   "metadata": {},
   "outputs": [
    {
     "name": "stdout",
     "output_type": "stream",
     "text": [
      "S2 Null Reconstruction Accuracy: 0.22229729729729727 +/- 0.007054261154669291\n",
      "S5 Null Reconstruction Accuracy: 0.22251655629139072 +/- 0.009458845600719008\n",
      "S3 Null Reconstruction Accuracy: 0.26413043478260867 +/- 0.02857269440890199\n",
      "S4 Null Reconstruction Accuracy: 0.23576158940397351 +/- 0.00898321852069572\n",
      "S6 Null Reconstruction Accuracy: 0.22481751824817517 +/- 0.00592995503988026\n",
      "S7 Null Reconstruction Accuracy: 0.20177304964539008 +/- 0.011755733655497006\n",
      "S8 Null Reconstruction Accuracy: 0.27191011235955054 +/- 0.016028474851333827\n"
     ]
    }
   ],
   "source": [
    "null_accs = {}\n",
    "for pt in other_pts:\n",
    "    model_accs = []\n",
    "    for model in recon_models:\n",
    "        curr_recon_null = reconDict_allPts[recon_decode_pt]['recons_null']\n",
    "        X_curr = curr_recon_null[pt].reshape(recons_null[pt].shape[0], -1)\n",
    "        y_curr = all_pt_artic_labels[pt]\n",
    "        acc_curr = recon_decode(X_curr, y_curr, model)\n",
    "        model_accs.append(acc_curr)\n",
    "    print(f'{paper_pt_dict[pt]} Null Reconstruction Accuracy: {np.mean(model_accs)} +/- {np.std(model_accs)}')\n",
    "    null_accs[pt] = np.mean(model_accs)"
   ]
  },
  {
   "cell_type": "code",
   "execution_count": 104,
   "metadata": {},
   "outputs": [],
   "source": [
    "recon_acc_df = pd.DataFrame()\n",
    "for i, pt in enumerate(other_pts):\n",
    "    recon_acc_df = pd.concat([recon_acc_df, pd.DataFrame({'Patient': paper_pt_dict[pt], 'Within-Patient': ps_accs[pt], 'Aligned reconstruction': recon_accs[pt], 'Unaligned reconstruction': null_accs[pt]}, index=[i])])\n",
    "\n",
    "recon_acc_df = recon_acc_df.sort_values(by='Patient')\n",
    "recon_acc_df = recon_acc_df.melt(id_vars='Patient', var_name='Condition', value_name='Decoding Accuracy')"
   ]
  },
  {
   "cell_type": "code",
   "execution_count": null,
   "metadata": {},
   "outputs": [
    {
     "data": {
      "application/vnd.plotly.v1+json": {
       "config": {
        "plotlyServerURL": "https://plotly.com"
       },
       "data": [
        {
         "hovertemplate": "Patient=S2<br>Condition=%{x}<br>Decoding Accuracy=%{y}<extra></extra>",
         "legendgroup": "S2",
         "line": {
          "color": "#EF553B",
          "dash": "solid"
         },
         "marker": {
          "symbol": "circle"
         },
         "mode": "lines",
         "name": "S2",
         "orientation": "v",
         "showlegend": true,
         "type": "scatter",
         "x": [
          "Within-Patient",
          "Aligned reconstruction",
          "Unaligned reconstruction"
         ],
         "xaxis": "x",
         "y": [
          0.6351351351351351,
          0.49493243243243235,
          0.22229729729729727
         ],
         "yaxis": "y"
        },
        {
         "hovertemplate": "Patient=S3<br>Condition=%{x}<br>Decoding Accuracy=%{y}<extra></extra>",
         "legendgroup": "S3",
         "line": {
          "color": "#00CC96",
          "dash": "solid"
         },
         "marker": {
          "symbol": "circle"
         },
         "mode": "lines",
         "name": "S3",
         "orientation": "v",
         "showlegend": true,
         "type": "scatter",
         "x": [
          "Within-Patient",
          "Aligned reconstruction",
          "Unaligned reconstruction"
         ],
         "xaxis": "x",
         "y": [
          0.32608695652173914,
          0.541304347826087,
          0.26413043478260867
         ],
         "yaxis": "y"
        },
        {
         "hovertemplate": "Patient=S4<br>Condition=%{x}<br>Decoding Accuracy=%{y}<extra></extra>",
         "legendgroup": "S4",
         "line": {
          "color": "#AB63FA",
          "dash": "solid"
         },
         "marker": {
          "symbol": "circle"
         },
         "mode": "lines",
         "name": "S4",
         "orientation": "v",
         "showlegend": true,
         "type": "scatter",
         "x": [
          "Within-Patient",
          "Aligned reconstruction",
          "Unaligned reconstruction"
         ],
         "xaxis": "x",
         "y": [
          0.25165562913907286,
          0.42019867549668877,
          0.23576158940397351
         ],
         "yaxis": "y"
        },
        {
         "hovertemplate": "Patient=S5<br>Condition=%{x}<br>Decoding Accuracy=%{y}<extra></extra>",
         "legendgroup": "S5",
         "line": {
          "color": "#FFA15A",
          "dash": "solid"
         },
         "marker": {
          "symbol": "circle"
         },
         "mode": "lines",
         "name": "S5",
         "orientation": "v",
         "showlegend": true,
         "type": "scatter",
         "x": [
          "Within-Patient",
          "Aligned reconstruction",
          "Unaligned reconstruction"
         ],
         "xaxis": "x",
         "y": [
          0.47019867549668876,
          0.4735099337748344,
          0.22251655629139072
         ],
         "yaxis": "y"
        },
        {
         "hovertemplate": "Patient=S6<br>Condition=%{x}<br>Decoding Accuracy=%{y}<extra></extra>",
         "legendgroup": "S6",
         "line": {
          "color": "#19D3F3",
          "dash": "solid"
         },
         "marker": {
          "symbol": "circle"
         },
         "mode": "lines",
         "name": "S6",
         "orientation": "v",
         "showlegend": true,
         "type": "scatter",
         "x": [
          "Within-Patient",
          "Aligned reconstruction",
          "Unaligned reconstruction"
         ],
         "xaxis": "x",
         "y": [
          0.22627737226277372,
          0.3394160583941606,
          0.22481751824817517
         ],
         "yaxis": "y"
        },
        {
         "hovertemplate": "Patient=S7<br>Condition=%{x}<br>Decoding Accuracy=%{y}<extra></extra>",
         "legendgroup": "S7",
         "line": {
          "color": "#FF6692",
          "dash": "solid"
         },
         "marker": {
          "symbol": "circle"
         },
         "mode": "lines",
         "name": "S7",
         "orientation": "v",
         "showlegend": true,
         "type": "scatter",
         "x": [
          "Within-Patient",
          "Aligned reconstruction",
          "Unaligned reconstruction"
         ],
         "xaxis": "x",
         "y": [
          0.2765957446808511,
          0.3017730496453901,
          0.20177304964539008
         ],
         "yaxis": "y"
        },
        {
         "hovertemplate": "Patient=S8<br>Condition=%{x}<br>Decoding Accuracy=%{y}<extra></extra>",
         "legendgroup": "S8",
         "line": {
          "color": "#B6E880",
          "dash": "solid"
         },
         "marker": {
          "symbol": "circle"
         },
         "mode": "lines",
         "name": "S8",
         "orientation": "v",
         "showlegend": true,
         "type": "scatter",
         "x": [
          "Within-Patient",
          "Aligned reconstruction",
          "Unaligned reconstruction"
         ],
         "xaxis": "x",
         "y": [
          0.5056179775280899,
          0.44466292134831453,
          0.27191011235955054
         ],
         "yaxis": "y"
        },
        {
         "alignmentgroup": "True",
         "hovertemplate": "Condition=%{x}<br>Decoding Accuracy=%{y}<extra></extra>",
         "legendgroup": "",
         "marker": {
          "color": "#636efa"
         },
         "name": "",
         "notched": false,
         "offsetgroup": "",
         "orientation": "v",
         "showlegend": false,
         "type": "box",
         "x": [
          "Within-Patient",
          "Within-Patient",
          "Within-Patient",
          "Within-Patient",
          "Within-Patient",
          "Within-Patient",
          "Within-Patient",
          "Aligned reconstruction",
          "Aligned reconstruction",
          "Aligned reconstruction",
          "Aligned reconstruction",
          "Aligned reconstruction",
          "Aligned reconstruction",
          "Aligned reconstruction",
          "Unaligned reconstruction",
          "Unaligned reconstruction",
          "Unaligned reconstruction",
          "Unaligned reconstruction",
          "Unaligned reconstruction",
          "Unaligned reconstruction",
          "Unaligned reconstruction"
         ],
         "x0": " ",
         "xaxis": "x",
         "y": [
          0.6351351351351351,
          0.32608695652173914,
          0.25165562913907286,
          0.47019867549668876,
          0.22627737226277372,
          0.2765957446808511,
          0.5056179775280899,
          0.49493243243243235,
          0.541304347826087,
          0.42019867549668877,
          0.4735099337748344,
          0.3394160583941606,
          0.3017730496453901,
          0.44466292134831453,
          0.22229729729729727,
          0.26413043478260867,
          0.23576158940397351,
          0.22251655629139072,
          0.22481751824817517,
          0.20177304964539008,
          0.27191011235955054
         ],
         "y0": " ",
         "yaxis": "y"
        }
       ],
       "layout": {
        "annotations": [
         {
          "showarrow": false,
          "text": "Chance",
          "x": 1,
          "xanchor": "right",
          "xref": "x domain",
          "y": 0.25,
          "yanchor": "bottom",
          "yref": "y"
         }
        ],
        "font": {
         "family": "Arial",
         "size": 18
        },
        "height": 600,
        "legend": {
         "orientation": "h",
         "title": {
          "text": ""
         },
         "tracegroupgap": 0,
         "x": 0.02,
         "xanchor": "left",
         "y": 0.98,
         "yanchor": "top"
        },
        "margin": {
         "t": 60
        },
        "plot_bgcolor": "white",
        "shapes": [
         {
          "line": {
           "color": "grey",
           "dash": "dash"
          },
          "type": "line",
          "x0": 0,
          "x1": 1,
          "xref": "x domain",
          "y0": 0.25,
          "y1": 0.25,
          "yref": "y"
         }
        ],
        "template": {
         "data": {
          "bar": [
           {
            "error_x": {
             "color": "#2a3f5f"
            },
            "error_y": {
             "color": "#2a3f5f"
            },
            "marker": {
             "line": {
              "color": "#E5ECF6",
              "width": 0.5
             },
             "pattern": {
              "fillmode": "overlay",
              "size": 10,
              "solidity": 0.2
             }
            },
            "type": "bar"
           }
          ],
          "barpolar": [
           {
            "marker": {
             "line": {
              "color": "#E5ECF6",
              "width": 0.5
             },
             "pattern": {
              "fillmode": "overlay",
              "size": 10,
              "solidity": 0.2
             }
            },
            "type": "barpolar"
           }
          ],
          "carpet": [
           {
            "aaxis": {
             "endlinecolor": "#2a3f5f",
             "gridcolor": "white",
             "linecolor": "white",
             "minorgridcolor": "white",
             "startlinecolor": "#2a3f5f"
            },
            "baxis": {
             "endlinecolor": "#2a3f5f",
             "gridcolor": "white",
             "linecolor": "white",
             "minorgridcolor": "white",
             "startlinecolor": "#2a3f5f"
            },
            "type": "carpet"
           }
          ],
          "choropleth": [
           {
            "colorbar": {
             "outlinewidth": 0,
             "ticks": ""
            },
            "type": "choropleth"
           }
          ],
          "contour": [
           {
            "colorbar": {
             "outlinewidth": 0,
             "ticks": ""
            },
            "colorscale": [
             [
              0,
              "#0d0887"
             ],
             [
              0.1111111111111111,
              "#46039f"
             ],
             [
              0.2222222222222222,
              "#7201a8"
             ],
             [
              0.3333333333333333,
              "#9c179e"
             ],
             [
              0.4444444444444444,
              "#bd3786"
             ],
             [
              0.5555555555555556,
              "#d8576b"
             ],
             [
              0.6666666666666666,
              "#ed7953"
             ],
             [
              0.7777777777777778,
              "#fb9f3a"
             ],
             [
              0.8888888888888888,
              "#fdca26"
             ],
             [
              1,
              "#f0f921"
             ]
            ],
            "type": "contour"
           }
          ],
          "contourcarpet": [
           {
            "colorbar": {
             "outlinewidth": 0,
             "ticks": ""
            },
            "type": "contourcarpet"
           }
          ],
          "heatmap": [
           {
            "colorbar": {
             "outlinewidth": 0,
             "ticks": ""
            },
            "colorscale": [
             [
              0,
              "#0d0887"
             ],
             [
              0.1111111111111111,
              "#46039f"
             ],
             [
              0.2222222222222222,
              "#7201a8"
             ],
             [
              0.3333333333333333,
              "#9c179e"
             ],
             [
              0.4444444444444444,
              "#bd3786"
             ],
             [
              0.5555555555555556,
              "#d8576b"
             ],
             [
              0.6666666666666666,
              "#ed7953"
             ],
             [
              0.7777777777777778,
              "#fb9f3a"
             ],
             [
              0.8888888888888888,
              "#fdca26"
             ],
             [
              1,
              "#f0f921"
             ]
            ],
            "type": "heatmap"
           }
          ],
          "heatmapgl": [
           {
            "colorbar": {
             "outlinewidth": 0,
             "ticks": ""
            },
            "colorscale": [
             [
              0,
              "#0d0887"
             ],
             [
              0.1111111111111111,
              "#46039f"
             ],
             [
              0.2222222222222222,
              "#7201a8"
             ],
             [
              0.3333333333333333,
              "#9c179e"
             ],
             [
              0.4444444444444444,
              "#bd3786"
             ],
             [
              0.5555555555555556,
              "#d8576b"
             ],
             [
              0.6666666666666666,
              "#ed7953"
             ],
             [
              0.7777777777777778,
              "#fb9f3a"
             ],
             [
              0.8888888888888888,
              "#fdca26"
             ],
             [
              1,
              "#f0f921"
             ]
            ],
            "type": "heatmapgl"
           }
          ],
          "histogram": [
           {
            "marker": {
             "pattern": {
              "fillmode": "overlay",
              "size": 10,
              "solidity": 0.2
             }
            },
            "type": "histogram"
           }
          ],
          "histogram2d": [
           {
            "colorbar": {
             "outlinewidth": 0,
             "ticks": ""
            },
            "colorscale": [
             [
              0,
              "#0d0887"
             ],
             [
              0.1111111111111111,
              "#46039f"
             ],
             [
              0.2222222222222222,
              "#7201a8"
             ],
             [
              0.3333333333333333,
              "#9c179e"
             ],
             [
              0.4444444444444444,
              "#bd3786"
             ],
             [
              0.5555555555555556,
              "#d8576b"
             ],
             [
              0.6666666666666666,
              "#ed7953"
             ],
             [
              0.7777777777777778,
              "#fb9f3a"
             ],
             [
              0.8888888888888888,
              "#fdca26"
             ],
             [
              1,
              "#f0f921"
             ]
            ],
            "type": "histogram2d"
           }
          ],
          "histogram2dcontour": [
           {
            "colorbar": {
             "outlinewidth": 0,
             "ticks": ""
            },
            "colorscale": [
             [
              0,
              "#0d0887"
             ],
             [
              0.1111111111111111,
              "#46039f"
             ],
             [
              0.2222222222222222,
              "#7201a8"
             ],
             [
              0.3333333333333333,
              "#9c179e"
             ],
             [
              0.4444444444444444,
              "#bd3786"
             ],
             [
              0.5555555555555556,
              "#d8576b"
             ],
             [
              0.6666666666666666,
              "#ed7953"
             ],
             [
              0.7777777777777778,
              "#fb9f3a"
             ],
             [
              0.8888888888888888,
              "#fdca26"
             ],
             [
              1,
              "#f0f921"
             ]
            ],
            "type": "histogram2dcontour"
           }
          ],
          "mesh3d": [
           {
            "colorbar": {
             "outlinewidth": 0,
             "ticks": ""
            },
            "type": "mesh3d"
           }
          ],
          "parcoords": [
           {
            "line": {
             "colorbar": {
              "outlinewidth": 0,
              "ticks": ""
             }
            },
            "type": "parcoords"
           }
          ],
          "pie": [
           {
            "automargin": true,
            "type": "pie"
           }
          ],
          "scatter": [
           {
            "fillpattern": {
             "fillmode": "overlay",
             "size": 10,
             "solidity": 0.2
            },
            "type": "scatter"
           }
          ],
          "scatter3d": [
           {
            "line": {
             "colorbar": {
              "outlinewidth": 0,
              "ticks": ""
             }
            },
            "marker": {
             "colorbar": {
              "outlinewidth": 0,
              "ticks": ""
             }
            },
            "type": "scatter3d"
           }
          ],
          "scattercarpet": [
           {
            "marker": {
             "colorbar": {
              "outlinewidth": 0,
              "ticks": ""
             }
            },
            "type": "scattercarpet"
           }
          ],
          "scattergeo": [
           {
            "marker": {
             "colorbar": {
              "outlinewidth": 0,
              "ticks": ""
             }
            },
            "type": "scattergeo"
           }
          ],
          "scattergl": [
           {
            "marker": {
             "colorbar": {
              "outlinewidth": 0,
              "ticks": ""
             }
            },
            "type": "scattergl"
           }
          ],
          "scattermapbox": [
           {
            "marker": {
             "colorbar": {
              "outlinewidth": 0,
              "ticks": ""
             }
            },
            "type": "scattermapbox"
           }
          ],
          "scatterpolar": [
           {
            "marker": {
             "colorbar": {
              "outlinewidth": 0,
              "ticks": ""
             }
            },
            "type": "scatterpolar"
           }
          ],
          "scatterpolargl": [
           {
            "marker": {
             "colorbar": {
              "outlinewidth": 0,
              "ticks": ""
             }
            },
            "type": "scatterpolargl"
           }
          ],
          "scatterternary": [
           {
            "marker": {
             "colorbar": {
              "outlinewidth": 0,
              "ticks": ""
             }
            },
            "type": "scatterternary"
           }
          ],
          "surface": [
           {
            "colorbar": {
             "outlinewidth": 0,
             "ticks": ""
            },
            "colorscale": [
             [
              0,
              "#0d0887"
             ],
             [
              0.1111111111111111,
              "#46039f"
             ],
             [
              0.2222222222222222,
              "#7201a8"
             ],
             [
              0.3333333333333333,
              "#9c179e"
             ],
             [
              0.4444444444444444,
              "#bd3786"
             ],
             [
              0.5555555555555556,
              "#d8576b"
             ],
             [
              0.6666666666666666,
              "#ed7953"
             ],
             [
              0.7777777777777778,
              "#fb9f3a"
             ],
             [
              0.8888888888888888,
              "#fdca26"
             ],
             [
              1,
              "#f0f921"
             ]
            ],
            "type": "surface"
           }
          ],
          "table": [
           {
            "cells": {
             "fill": {
              "color": "#EBF0F8"
             },
             "line": {
              "color": "white"
             }
            },
            "header": {
             "fill": {
              "color": "#C8D4E3"
             },
             "line": {
              "color": "white"
             }
            },
            "type": "table"
           }
          ]
         },
         "layout": {
          "annotationdefaults": {
           "arrowcolor": "#2a3f5f",
           "arrowhead": 0,
           "arrowwidth": 1
          },
          "autotypenumbers": "strict",
          "coloraxis": {
           "colorbar": {
            "outlinewidth": 0,
            "ticks": ""
           }
          },
          "colorscale": {
           "diverging": [
            [
             0,
             "#8e0152"
            ],
            [
             0.1,
             "#c51b7d"
            ],
            [
             0.2,
             "#de77ae"
            ],
            [
             0.3,
             "#f1b6da"
            ],
            [
             0.4,
             "#fde0ef"
            ],
            [
             0.5,
             "#f7f7f7"
            ],
            [
             0.6,
             "#e6f5d0"
            ],
            [
             0.7,
             "#b8e186"
            ],
            [
             0.8,
             "#7fbc41"
            ],
            [
             0.9,
             "#4d9221"
            ],
            [
             1,
             "#276419"
            ]
           ],
           "sequential": [
            [
             0,
             "#0d0887"
            ],
            [
             0.1111111111111111,
             "#46039f"
            ],
            [
             0.2222222222222222,
             "#7201a8"
            ],
            [
             0.3333333333333333,
             "#9c179e"
            ],
            [
             0.4444444444444444,
             "#bd3786"
            ],
            [
             0.5555555555555556,
             "#d8576b"
            ],
            [
             0.6666666666666666,
             "#ed7953"
            ],
            [
             0.7777777777777778,
             "#fb9f3a"
            ],
            [
             0.8888888888888888,
             "#fdca26"
            ],
            [
             1,
             "#f0f921"
            ]
           ],
           "sequentialminus": [
            [
             0,
             "#0d0887"
            ],
            [
             0.1111111111111111,
             "#46039f"
            ],
            [
             0.2222222222222222,
             "#7201a8"
            ],
            [
             0.3333333333333333,
             "#9c179e"
            ],
            [
             0.4444444444444444,
             "#bd3786"
            ],
            [
             0.5555555555555556,
             "#d8576b"
            ],
            [
             0.6666666666666666,
             "#ed7953"
            ],
            [
             0.7777777777777778,
             "#fb9f3a"
            ],
            [
             0.8888888888888888,
             "#fdca26"
            ],
            [
             1,
             "#f0f921"
            ]
           ]
          },
          "colorway": [
           "#636efa",
           "#EF553B",
           "#00cc96",
           "#ab63fa",
           "#FFA15A",
           "#19d3f3",
           "#FF6692",
           "#B6E880",
           "#FF97FF",
           "#FECB52"
          ],
          "font": {
           "color": "#2a3f5f"
          },
          "geo": {
           "bgcolor": "white",
           "lakecolor": "white",
           "landcolor": "#E5ECF6",
           "showlakes": true,
           "showland": true,
           "subunitcolor": "white"
          },
          "hoverlabel": {
           "align": "left"
          },
          "hovermode": "closest",
          "mapbox": {
           "style": "light"
          },
          "paper_bgcolor": "white",
          "plot_bgcolor": "#E5ECF6",
          "polar": {
           "angularaxis": {
            "gridcolor": "white",
            "linecolor": "white",
            "ticks": ""
           },
           "bgcolor": "#E5ECF6",
           "radialaxis": {
            "gridcolor": "white",
            "linecolor": "white",
            "ticks": ""
           }
          },
          "scene": {
           "xaxis": {
            "backgroundcolor": "#E5ECF6",
            "gridcolor": "white",
            "gridwidth": 2,
            "linecolor": "white",
            "showbackground": true,
            "ticks": "",
            "zerolinecolor": "white"
           },
           "yaxis": {
            "backgroundcolor": "#E5ECF6",
            "gridcolor": "white",
            "gridwidth": 2,
            "linecolor": "white",
            "showbackground": true,
            "ticks": "",
            "zerolinecolor": "white"
           },
           "zaxis": {
            "backgroundcolor": "#E5ECF6",
            "gridcolor": "white",
            "gridwidth": 2,
            "linecolor": "white",
            "showbackground": true,
            "ticks": "",
            "zerolinecolor": "white"
           }
          },
          "shapedefaults": {
           "line": {
            "color": "#2a3f5f"
           }
          },
          "ternary": {
           "aaxis": {
            "gridcolor": "white",
            "linecolor": "white",
            "ticks": ""
           },
           "baxis": {
            "gridcolor": "white",
            "linecolor": "white",
            "ticks": ""
           },
           "bgcolor": "#E5ECF6",
           "caxis": {
            "gridcolor": "white",
            "linecolor": "white",
            "ticks": ""
           }
          },
          "title": {
           "x": 0.05
          },
          "xaxis": {
           "automargin": true,
           "gridcolor": "white",
           "linecolor": "white",
           "ticks": "",
           "title": {
            "standoff": 15
           },
           "zerolinecolor": "white",
           "zerolinewidth": 2
          },
          "yaxis": {
           "automargin": true,
           "gridcolor": "white",
           "linecolor": "white",
           "ticks": "",
           "title": {
            "standoff": 15
           },
           "zerolinecolor": "white",
           "zerolinewidth": 2
          }
         }
        },
        "title": {
         "text": "Cross-patient articulator decoding",
         "x": 0.5
        },
        "width": 800,
        "xaxis": {
         "anchor": "y",
         "domain": [
          0,
          1
         ],
         "linecolor": "black",
         "mirror": false,
         "range": [
          -0.45,
          2.65
         ],
         "showgrid": false,
         "showline": true,
         "ticks": "outside",
         "title": {
          "text": ""
         }
        },
        "yaxis": {
         "anchor": "x",
         "domain": [
          0,
          1
         ],
         "linecolor": "black",
         "mirror": false,
         "range": [
          -0.005,
          0.85
         ],
         "showgrid": false,
         "showline": true,
         "ticks": "outside",
         "title": {
          "text": "Articulator decoding accuracy"
         }
        }
       }
      }
     },
     "metadata": {},
     "output_type": "display_data"
    }
   ],
   "source": [
    "fig = px.line(recon_acc_df, x='Condition', y=\"Decoding Accuracy\", color='Patient', width=800, height=600, color_discrete_sequence=px.colors.qualitative.Plotly[1:])\n",
    "fig.add_traces(px.box(recon_acc_df, x='Condition', y=\"Decoding Accuracy\").data)\n",
    "\n",
    "fig.add_hline(y=1/4, line_dash='dash', line_color='grey', annotation_text='Chance', annotation_position='top right')\n",
    "fig.update_layout(\n",
    "    plot_bgcolor='white',\n",
    "    legend=dict(\n",
    "        orientation='h',\n",
    "        yanchor='top',\n",
    "        y=0.98,\n",
    "        xanchor='left',\n",
    "        x=0.02,\n",
    "        title_text=''\n",
    "    ),\n",
    "    # showlegend=False,\n",
    "    title_text='Cross-patient articulator decoding',\n",
    "    title_x=0.5,\n",
    "    font=dict(size=18, family='Arial')\n",
    ")\n",
    "fig.update_xaxes(\n",
    "    title='',\n",
    "    mirror=False,\n",
    "    ticks='outside',\n",
    "    showline=True,\n",
    "    linecolor='black',\n",
    "    showgrid=False,\n",
    "    # tickvals=[0,1],\n",
    "    range=[-0.45, 2.65],\n",
    "    # ticktext=['Patient-Specific', 'Shared Neural<br>Latent Space'],\n",
    ")\n",
    "fig.update_yaxes(\n",
    "    title='Articulator decoding accuracy',\n",
    "    mirror=False,\n",
    "    ticks='outside',\n",
    "    showline=True,\n",
    "    linecolor='black',\n",
    "    showgrid=False,\n",
    "    range=[-0.005, 0.85]\n",
    ")\n",
    "\n",
    "fig.show()"
   ]
  },
  {
   "cell_type": "code",
   "execution_count": null,
   "metadata": {},
   "outputs": [
    {
     "name": "stdout",
     "output_type": "stream",
     "text": [
      "Within-Patient vs. Reconstruction in S14 Space (Aligned):\n",
      "0.486013986013986\n",
      "Reconstruction in S14 Space (Aligned) vs. Reconstruction in S14 Space (Unaligned):\n",
      "0.0011655011655011655\n"
     ]
    }
   ],
   "source": [
    "import scipy.stats as stats\n",
    "from statsmodels.stats.multitest import fdrcorrection\n",
    "\n",
    "recon_acc_pvals = []\n",
    "\n",
    "wp = recon_acc_df[recon_acc_df['Condition'] == 'Within-Patient']['Decoding Accuracy']\n",
    "recon_algn = recon_acc_df[recon_acc_df['Condition'] == 'Aligned reconstruction']['Decoding Accuracy']\n",
    "wp_recon_res = stats.permutation_test((wp, recon_algn), mean_stat, n_resamples=np.inf, vectorized=True)\n",
    "recon_acc_pvals.append(wp_recon_res.pvalue)\n",
    "\n",
    "recon_null = recon_acc_df[recon_acc_df['Condition'] == 'Unaligned reconstruction']['Decoding Accuracy']\n",
    "algn_null_res = stats.permutation_test((recon_algn, recon_null), mean_stat, n_resamples=np.inf, vectorized=True)\n",
    "recon_acc_pvals.append(algn_null_res.pvalue)\n",
    "\n",
    "recon_acc_pvals_corr = fdrcorrection(recon_acc_pvals)\n",
    "\n",
    "print('Within-Patient vs. Reconstruction in S14 Space (Aligned):')\n",
    "print(recon_acc_pvals_corr[1][0])\n",
    "\n",
    "print('Reconstruction in S14 Space (Aligned) vs. Reconstruction in S14 Space (Unaligned):')\n",
    "print(recon_acc_pvals_corr[1][1])"
   ]
  }
 ],
 "metadata": {
  "kernelspec": {
   "display_name": "micro_decode",
   "language": "python",
   "name": "python3"
  },
  "language_info": {
   "codemirror_mode": {
    "name": "ipython",
    "version": 3
   },
   "file_extension": ".py",
   "mimetype": "text/x-python",
   "name": "python",
   "nbconvert_exporter": "python",
   "pygments_lexer": "ipython3",
   "version": "3.11.5"
  }
 },
 "nbformat": 4,
 "nbformat_minor": 2
}
