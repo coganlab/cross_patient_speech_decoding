{
 "cells": [
  {
   "cell_type": "markdown",
   "metadata": {},
   "source": [
    "# Imports"
   ]
  },
  {
   "cell_type": "code",
   "execution_count": 30,
   "metadata": {},
   "outputs": [],
   "source": [
    "import sys\n",
    "sys.path.append('../..')"
   ]
  },
  {
   "cell_type": "code",
   "execution_count": 31,
   "metadata": {},
   "outputs": [],
   "source": [
    "# analysis\n",
    "import numpy as np\n",
    "import pandas as pd\n",
    "import scipy.io as sio\n",
    "import scipy.stats as stats\n",
    "from sklearn.decomposition import PCA\n",
    "from sklearn.manifold import TSNE\n",
    "from sklearn.metrics import silhouette_samples, calinski_harabasz_score, davies_bouldin_score\n",
    "from tqdm import tqdm\n",
    "from statsmodels.stats.multitest import fdrcorrection\n",
    "\n",
    "# plotting\n",
    "import matplotlib.pyplot as plt\n",
    "import matplotlib as mpl\n",
    "import seaborn as sns\n",
    "import plotly.express as px\n",
    "import plotly.graph_objects as go\n",
    "\n",
    "# local\n",
    "import alignment.alignment_utils as utils\n",
    "from alignment.AlignCCA import AlignCCA\n",
    "from alignment.alignment_utils import cnd_avg\n",
    "\n",
    "%matplotlib inline"
   ]
  },
  {
   "cell_type": "markdown",
   "metadata": {},
   "source": [
    "### Real data"
   ]
  },
  {
   "cell_type": "code",
   "execution_count": 32,
   "metadata": {},
   "outputs": [],
   "source": [
    "paper_pt_dict = {'S14': 'S1', 'S26': 'S2', 'S33': 'S3', 'S22': 'S4', 'S23': 'S5', 'S39': 'S6', 'S58': 'S7', 'S62': 'S8'}"
   ]
  },
  {
   "cell_type": "code",
   "execution_count": 33,
   "metadata": {},
   "outputs": [],
   "source": [
    "DATA_PATH = '../../data/'\n",
    "data_filename = DATA_PATH + 'pt_decoding_data_S62.pkl' # mean-subtracted\n",
    "# data_filename = DATA_PATH + 'pt_decoding_data_S62_zscore.pkl' # z-scored"
   ]
  },
  {
   "cell_type": "code",
   "execution_count": 34,
   "metadata": {},
   "outputs": [],
   "source": [
    "all_pt_dict = utils.load_pkl(data_filename)\n",
    "pt_names = list(all_pt_dict.keys())"
   ]
  },
  {
   "cell_type": "code",
   "execution_count": 35,
   "metadata": {},
   "outputs": [
    {
     "name": "stdout",
     "output_type": "stream",
     "text": [
      "['S14', 'S26', 'S23', 'S33', 'S22', 'S39', 'S58', 'S62']\n",
      "dict_keys(['ID', 'X1', 'X1_map', 'y1', 'X2', 'X2_map', 'y2', 'X3', 'X3_map', 'y3', 'y_full_phon', 'X_collapsed', 'y_phon_collapsed', 'y_artic_collapsed', 'pre_pts'])\n",
      "[(144, 200, 111), (148, 200, 111), (151, 200, 63), (46, 200, 149), (151, 200, 74), (137, 200, 144), (141, 200, 171), (178, 200, 201)]\n"
     ]
    }
   ],
   "source": [
    "print(pt_names)\n",
    "print(all_pt_dict[pt_names[0]].keys())\n",
    "print([all_pt_dict[pt]['X1'].shape for pt in pt_names])"
   ]
  },
  {
   "cell_type": "code",
   "execution_count": 36,
   "metadata": {},
   "outputs": [],
   "source": [
    "all_pt_chan_data = {}\n",
    "for pt in pt_names:\n",
    "    temp = {}\n",
    "    temp['map'] = sio.loadmat(DATA_PATH + f'{pt}/{pt}_channelMap.mat'.format(pt))['chanMap']\n",
    "    # if pt == 'S58':\n",
    "    #     temp['sig'] = sio.loadmat(DATA_PATH + f'{pt}/{pt}_sigChannel.mat'.format(pt))['sigChannel'] - 2 # this is so weird\n",
    "    # else:\n",
    "    temp['sig'] = sio.loadmat(DATA_PATH + f'{pt}/{pt}_sigChannel.mat'.format(pt))['sigChannel'] - 1\n",
    "    all_pt_chan_data[pt] = temp"
   ]
  },
  {
   "cell_type": "markdown",
   "metadata": {},
   "source": [
    "## Phoneme label processing functions"
   ]
  },
  {
   "cell_type": "code",
   "execution_count": 37,
   "metadata": {},
   "outputs": [],
   "source": [
    "phon_labels = np.array(['a', 'ae', 'i', 'u', 'b', 'p', 'v', 'g', 'k'])\n",
    "artic_labels = np.array(['low', 'high', 'labial', 'dorsal'])\n",
    "phon_to_artic_dict = {1:1, 2:1, 3:2, 4:2, 5:3, 6:3, 7:3, 8:4, 9:4}"
   ]
  },
  {
   "cell_type": "code",
   "execution_count": 38,
   "metadata": {},
   "outputs": [],
   "source": [
    "def phon_to_artic(phon_idx, phon_to_artic_conv):\n",
    "    return phon_to_artic_conv[phon_idx]\n",
    "\n",
    "def phon_to_artic_seq(phon_seq, phon_to_artic_conv):\n",
    "    flat_seq = phon_seq.flatten()\n",
    "    artic_conv = np.array([phon_to_artic(phon_idx, phon_to_artic_conv) for phon_idx in flat_seq])\n",
    "    return np.reshape(artic_conv, phon_seq.shape)\n",
    "\n",
    "def phon2artic(phon):\n",
    "    return artic_labels[phon_to_artic_dict[int(phon)] - 1]\n",
    "\n",
    "def phon2artic_seq(phon_seq):\n",
    "    return '_'.join([phon2artic(phon) for phon in phon_seq])\n",
    "\n",
    "def labels2cv_seq(labels):\n",
    "    labels_str = []\n",
    "    for lab in labels:\n",
    "        labels_str.append(labels2cv(lab))\n",
    "    return np.array(labels_str)\n",
    "\n",
    "def labels2cv(str):\n",
    "    middle_val = str[1]\n",
    "    if int(middle_val) < 5:\n",
    "        return 'CVC'\n",
    "    else:\n",
    "        return 'VCV'\n",
    "\n",
    "def articic_nums2seq(artic_num_seqs):\n",
    "    return np.array([artic_labels[artic_num-1] for artic_num in artic_num_seqs])"
   ]
  },
  {
   "cell_type": "markdown",
   "metadata": {},
   "source": [
    "## Data Processing"
   ]
  },
  {
   "cell_type": "code",
   "execution_count": 39,
   "metadata": {},
   "outputs": [],
   "source": [
    "p_ind = 1\n",
    "\n",
    "all_pt_traces = {}\n",
    "all_pt_surr_traces = {}\n",
    "all_pt_phon_labels = {}\n",
    "all_pt_phon_seqs = {}\n",
    "all_pt_phon_seqs_str = {}\n",
    "all_pt_artic_labels = {}\n",
    "all_pt_artic_seqs = {}\n",
    "all_pt_artic_seqs_str = {}\n",
    "all_pt_cv_labels = {}\n",
    "for pt in pt_names:\n",
    "    pt_trace = all_pt_dict[pt][f'X{p_ind}']  ### (trials, time, channels)\n",
    "\n",
    "    pt_phon_labels = all_pt_dict[pt][f'y{p_ind}']\n",
    "    pt_phon_seqs = all_pt_dict[pt]['y_full_phon']\n",
    "    pt_phon_seqs_str = utils.label_seq2str(pt_phon_seqs)\n",
    "    pt_artic_labels = phon_to_artic_seq(pt_phon_labels, phon_to_artic_dict)\n",
    "    pt_artic_seqs = phon_to_artic_seq(pt_phon_seqs, phon_to_artic_dict)\n",
    "    pt_artic_seqs_str = utils.label_seq2str(pt_artic_seqs)\n",
    "    pt_cv_labels = labels2cv_seq(pt_phon_seqs)\n",
    "\n",
    "    all_pt_traces[pt] = pt_trace\n",
    "    all_pt_phon_labels[pt] = pt_phon_labels\n",
    "    all_pt_phon_seqs[pt] = pt_phon_seqs\n",
    "    all_pt_phon_seqs_str[pt] = pt_phon_seqs_str\n",
    "    all_pt_artic_labels[pt] = pt_artic_labels\n",
    "    all_pt_artic_seqs[pt] = pt_artic_seqs\n",
    "    all_pt_artic_seqs_str[pt] = pt_artic_seqs_str\n",
    "    all_pt_cv_labels[pt] = pt_cv_labels"
   ]
  },
  {
   "cell_type": "code",
   "execution_count": 40,
   "metadata": {},
   "outputs": [],
   "source": [
    "t = np.linspace(-0.5, 0.5 - 1/pt_trace.shape[1], pt_trace.shape[1])"
   ]
  },
  {
   "cell_type": "markdown",
   "metadata": {},
   "source": [
    "# Data Visualization"
   ]
  },
  {
   "cell_type": "markdown",
   "metadata": {},
   "source": [
    "### Plotting utils"
   ]
  },
  {
   "cell_type": "code",
   "execution_count": 56,
   "metadata": {},
   "outputs": [],
   "source": [
    "px_colors = [\n",
    "             '#636EFA',\n",
    "             '#FFA15A',\n",
    "             '#EF553B',\n",
    "             '#00CC96',\n",
    "            #  '#72B7B2',\n",
    "            #  '#990099',\n",
    "            #  '#B6E880',\n",
    "\n",
    "             \n",
    "            #  '#FFA15A',\n",
    "            #  '#19D3F3',\n",
    "            #  '#FF6692',\n",
    "            #  '#B6E880',\n",
    "            #  '#FF97FF',\n",
    "            #  '#FECB52',\n",
    "            ]"
   ]
  },
  {
   "cell_type": "code",
   "execution_count": 57,
   "metadata": {},
   "outputs": [],
   "source": [
    "# sns.set_theme(context='notebook', font='Arial', font_scale=1.15)\n",
    "sns.set_theme(font='Arial', font_scale=1.2, style='white', palette=px_colors)\n",
    "sns.set_style(rc={\n",
    "    # 'axes.edgecolor': 'gray',\n",
    "    'axes.linewidth': 0.5,\n",
    "    'xtick.bottom': True,\n",
    "    'ytick.left': True,\n",
    "    })"
   ]
  },
  {
   "cell_type": "code",
   "execution_count": 58,
   "metadata": {},
   "outputs": [],
   "source": [
    "from matplotlib.colors import LinearSegmentedColormap\n",
    "\n",
    "parula_data = cm_data = [[0.2422, 0.1504, 0.6603],\n",
    "[0.2444, 0.1534, 0.6728],\n",
    "[0.2464, 0.1569, 0.6847],\n",
    "[0.2484, 0.1607, 0.6961],\n",
    "[0.2503, 0.1648, 0.7071],\n",
    "[0.2522, 0.1689, 0.7179],\n",
    "[0.254, 0.1732, 0.7286],\n",
    "[0.2558, 0.1773, 0.7393],\n",
    "[0.2576, 0.1814, 0.7501],\n",
    "[0.2594, 0.1854, 0.761],\n",
    "[0.2611, 0.1893, 0.7719],\n",
    "[0.2628, 0.1932, 0.7828],\n",
    "[0.2645, 0.1972, 0.7937],\n",
    "[0.2661, 0.2011, 0.8043],\n",
    "[0.2676, 0.2052, 0.8148],\n",
    "[0.2691, 0.2094, 0.8249],\n",
    "[0.2704, 0.2138, 0.8346],\n",
    "[0.2717, 0.2184, 0.8439],\n",
    "[0.2729, 0.2231, 0.8528],\n",
    "[0.274, 0.228, 0.8612],\n",
    "[0.2749, 0.233, 0.8692],\n",
    "[0.2758, 0.2382, 0.8767],\n",
    "[0.2766, 0.2435, 0.884],\n",
    "[0.2774, 0.2489, 0.8908],\n",
    "[0.2781, 0.2543, 0.8973],\n",
    "[0.2788, 0.2598, 0.9035],\n",
    "[0.2794, 0.2653, 0.9094],\n",
    "[0.2798, 0.2708, 0.915],\n",
    "[0.2802, 0.2764, 0.9204],\n",
    "[0.2806, 0.2819, 0.9255],\n",
    "[0.2809, 0.2875, 0.9305],\n",
    "[0.2811, 0.293, 0.9352],\n",
    "[0.2813, 0.2985, 0.9397],\n",
    "[0.2814, 0.304, 0.9441],\n",
    "[0.2814, 0.3095, 0.9483],\n",
    "[0.2813, 0.315, 0.9524],\n",
    "[0.2811, 0.3204, 0.9563],\n",
    "[0.2809, 0.3259, 0.96],\n",
    "[0.2807, 0.3313, 0.9636],\n",
    "[0.2803, 0.3367, 0.967],\n",
    "[0.2798, 0.3421, 0.9702],\n",
    "[0.2791, 0.3475, 0.9733],\n",
    "[0.2784, 0.3529, 0.9763],\n",
    "[0.2776, 0.3583, 0.9791],\n",
    "[0.2766, 0.3638, 0.9817],\n",
    "[0.2754, 0.3693, 0.984],\n",
    "[0.2741, 0.3748, 0.9862],\n",
    "[0.2726, 0.3804, 0.9881],\n",
    "[0.271, 0.386, 0.9898],\n",
    "[0.2691, 0.3916, 0.9912],\n",
    "[0.267, 0.3973, 0.9924],\n",
    "[0.2647, 0.403, 0.9935],\n",
    "[0.2621, 0.4088, 0.9946],\n",
    "[0.2591, 0.4145, 0.9955],\n",
    "[0.2556, 0.4203, 0.9965],\n",
    "[0.2517, 0.4261, 0.9974],\n",
    "[0.2473, 0.4319, 0.9983],\n",
    "[0.2424, 0.4378, 0.9991],\n",
    "[0.2369, 0.4437, 0.9996],\n",
    "[0.2311, 0.4497, 0.9995],\n",
    "[0.225, 0.4559, 0.9985],\n",
    "[0.2189, 0.462, 0.9968],\n",
    "[0.2128, 0.4682, 0.9948],\n",
    "[0.2066, 0.4743, 0.9926],\n",
    "[0.2006, 0.4803, 0.9906],\n",
    "[0.195, 0.4861, 0.9887],\n",
    "[0.1903, 0.4919, 0.9867],\n",
    "[0.1869, 0.4975, 0.9844],\n",
    "[0.1847, 0.503, 0.9819],\n",
    "[0.1831, 0.5084, 0.9793],\n",
    "[0.1818, 0.5138, 0.9766],\n",
    "[0.1806, 0.5191, 0.9738],\n",
    "[0.1795, 0.5244, 0.9709],\n",
    "[0.1785, 0.5296, 0.9677],\n",
    "[0.1778, 0.5349, 0.9641],\n",
    "[0.1773, 0.5401, 0.9602],\n",
    "[0.1768, 0.5452, 0.956],\n",
    "[0.1764, 0.5504, 0.9516],\n",
    "[0.1755, 0.5554, 0.9473],\n",
    "[0.174, 0.5605, 0.9432],\n",
    "[0.1716, 0.5655, 0.9393],\n",
    "[0.1686, 0.5705, 0.9357],\n",
    "[0.1649, 0.5755, 0.9323],\n",
    "[0.161, 0.5805, 0.9289],\n",
    "[0.1573, 0.5854, 0.9254],\n",
    "[0.154, 0.5902, 0.9218],\n",
    "[0.1513, 0.595, 0.9182],\n",
    "[0.1492, 0.5997, 0.9147],\n",
    "[0.1475, 0.6043, 0.9113],\n",
    "[0.1461, 0.6089, 0.908],\n",
    "[0.1446, 0.6135, 0.905],\n",
    "[0.1429, 0.618, 0.9022],\n",
    "[0.1408, 0.6226, 0.8998],\n",
    "[0.1383, 0.6272, 0.8975],\n",
    "[0.1354, 0.6317, 0.8953],\n",
    "[0.1321, 0.6363, 0.8932],\n",
    "[0.1288, 0.6408, 0.891],\n",
    "[0.1253, 0.6453, 0.8887],\n",
    "[0.1219, 0.6497, 0.8862],\n",
    "[0.1185, 0.6541, 0.8834],\n",
    "[0.1152, 0.6584, 0.8804],\n",
    "[0.1119, 0.6627, 0.877],\n",
    "[0.1085, 0.6669, 0.8734],\n",
    "[0.1048, 0.671, 0.8695],\n",
    "[0.1009, 0.675, 0.8653],\n",
    "[0.0964, 0.6789, 0.8609],\n",
    "[0.0914, 0.6828, 0.8562],\n",
    "[0.0855, 0.6865, 0.8513],\n",
    "[0.0789, 0.6902, 0.8462],\n",
    "[0.0713, 0.6938, 0.8409],\n",
    "[0.0628, 0.6972, 0.8355],\n",
    "[0.0535, 0.7006, 0.8299],\n",
    "[0.0433, 0.7039, 0.8242],\n",
    "[0.0328, 0.7071, 0.8183],\n",
    "[0.0234, 0.7103, 0.8124],\n",
    "[0.0155, 0.7133, 0.8064],\n",
    "[0.0091, 0.7163, 0.8003],\n",
    "[0.0046, 0.7192, 0.7941],\n",
    "[0.0019, 0.722, 0.7878],\n",
    "[0.0009, 0.7248, 0.7815],\n",
    "[0.0018, 0.7275, 0.7752],\n",
    "[0.0046, 0.7301, 0.7688],\n",
    "[0.0094, 0.7327, 0.7623],\n",
    "[0.0162, 0.7352, 0.7558],\n",
    "[0.0253, 0.7376, 0.7492],\n",
    "[0.0369, 0.74, 0.7426],\n",
    "[0.0504, 0.7423, 0.7359],\n",
    "[0.0638, 0.7446, 0.7292],\n",
    "[0.077, 0.7468, 0.7224],\n",
    "[0.0899, 0.7489, 0.7156],\n",
    "[0.1023, 0.751, 0.7088],\n",
    "[0.1141, 0.7531, 0.7019],\n",
    "[0.1252, 0.7552, 0.695],\n",
    "[0.1354, 0.7572, 0.6881],\n",
    "[0.1448, 0.7593, 0.6812],\n",
    "[0.1532, 0.7614, 0.6741],\n",
    "[0.1609, 0.7635, 0.6671],\n",
    "[0.1678, 0.7656, 0.6599],\n",
    "[0.1741, 0.7678, 0.6527],\n",
    "[0.1799, 0.7699, 0.6454],\n",
    "[0.1853, 0.7721, 0.6379],\n",
    "[0.1905, 0.7743, 0.6303],\n",
    "[0.1954, 0.7765, 0.6225],\n",
    "[0.2003, 0.7787, 0.6146],\n",
    "[0.2061, 0.7808, 0.6065],\n",
    "[0.2118, 0.7828, 0.5983],\n",
    "[0.2178, 0.7849, 0.5899],\n",
    "[0.2244, 0.7869, 0.5813],\n",
    "[0.2318, 0.7887, 0.5725],\n",
    "[0.2401, 0.7905, 0.5636],\n",
    "[0.2491, 0.7922, 0.5546],\n",
    "[0.2589, 0.7937, 0.5454],\n",
    "[0.2695, 0.7951, 0.536],\n",
    "[0.2809, 0.7964, 0.5266],\n",
    "[0.2929, 0.7975, 0.517],\n",
    "[0.3052, 0.7985, 0.5074],\n",
    "[0.3176, 0.7994, 0.4975],\n",
    "[0.3301, 0.8002, 0.4876],\n",
    "[0.3424, 0.8009, 0.4774],\n",
    "[0.3548, 0.8016, 0.4669],\n",
    "[0.3671, 0.8021, 0.4563],\n",
    "[0.3795, 0.8026, 0.4454],\n",
    "[0.3921, 0.8029, 0.4344],\n",
    "[0.405, 0.8031, 0.4233],\n",
    "[0.4184, 0.803, 0.4122],\n",
    "[0.4322, 0.8028, 0.4013],\n",
    "[0.4463, 0.8024, 0.3904],\n",
    "[0.4608, 0.8018, 0.3797],\n",
    "[0.4753, 0.8011, 0.3691],\n",
    "[0.4899, 0.8002, 0.3586],\n",
    "[0.5044, 0.7993, 0.348],\n",
    "[0.5187, 0.7982, 0.3374],\n",
    "[0.5329, 0.797, 0.3267],\n",
    "[0.547, 0.7957, 0.3159],\n",
    "[0.5609, 0.7943, 0.305],\n",
    "[0.5748, 0.7929, 0.2941],\n",
    "[0.5886, 0.7913, 0.2833],\n",
    "[0.6024, 0.7896, 0.2726],\n",
    "[0.6161, 0.7878, 0.2622],\n",
    "[0.6297, 0.7859, 0.2521],\n",
    "[0.6433, 0.7839, 0.2423],\n",
    "[0.6567, 0.7818, 0.2329],\n",
    "[0.6701, 0.7796, 0.2239],\n",
    "[0.6833, 0.7773, 0.2155],\n",
    "[0.6963, 0.775, 0.2075],\n",
    "[0.7091, 0.7727, 0.1998],\n",
    "[0.7218, 0.7703, 0.1924],\n",
    "[0.7344, 0.7679, 0.1852],\n",
    "[0.7468, 0.7654, 0.1782],\n",
    "[0.759, 0.7629, 0.1717],\n",
    "[0.771, 0.7604, 0.1658],\n",
    "[0.7829, 0.7579, 0.1608],\n",
    "[0.7945, 0.7554, 0.157],\n",
    "[0.806, 0.7529, 0.1546],\n",
    "[0.8172, 0.7505, 0.1535],\n",
    "[0.8281, 0.7481, 0.1536],\n",
    "[0.8389, 0.7457, 0.1546],\n",
    "[0.8495, 0.7435, 0.1564],\n",
    "[0.86, 0.7413, 0.1587],\n",
    "[0.8703, 0.7392, 0.1615],\n",
    "[0.8804, 0.7372, 0.165],\n",
    "[0.8903, 0.7353, 0.1695],\n",
    "[0.9, 0.7336, 0.1749],\n",
    "[0.9093, 0.7321, 0.1815],\n",
    "[0.9184, 0.7308, 0.189],\n",
    "[0.9272, 0.7298, 0.1973],\n",
    "[0.9357, 0.729, 0.2061],\n",
    "[0.944, 0.7285, 0.2151],\n",
    "[0.9523, 0.7284, 0.2237],\n",
    "[0.9606, 0.7285, 0.2312],\n",
    "[0.9689, 0.7292, 0.2373],\n",
    "[0.977, 0.7304, 0.2418],\n",
    "[0.9842, 0.733, 0.2446],\n",
    "[0.99, 0.7365, 0.2429],\n",
    "[0.9946, 0.7407, 0.2394],\n",
    "[0.9966, 0.7458, 0.2351],\n",
    "[0.9971, 0.7513, 0.2309],\n",
    "[0.9972, 0.7569, 0.2267],\n",
    "[0.9971, 0.7626, 0.2224],\n",
    "[0.9969, 0.7683, 0.2181],\n",
    "[0.9966, 0.774, 0.2138],\n",
    "[0.9962, 0.7798, 0.2095],\n",
    "[0.9957, 0.7856, 0.2053],\n",
    "[0.9949, 0.7915, 0.2012],\n",
    "[0.9938, 0.7974, 0.1974],\n",
    "[0.9923, 0.8034, 0.1939],\n",
    "[0.9906, 0.8095, 0.1906],\n",
    "[0.9885, 0.8156, 0.1875],\n",
    "[0.9861, 0.8218, 0.1846],\n",
    "[0.9835, 0.828, 0.1817],\n",
    "[0.9807, 0.8342, 0.1787],\n",
    "[0.9778, 0.8404, 0.1757],\n",
    "[0.9748, 0.8467, 0.1726],\n",
    "[0.972, 0.8529, 0.1695],\n",
    "[0.9694, 0.8591, 0.1665],\n",
    "[0.9671, 0.8654, 0.1636],\n",
    "[0.9651, 0.8716, 0.1608],\n",
    "[0.9634, 0.8778, 0.1582],\n",
    "[0.9619, 0.884, 0.1557],\n",
    "[0.9608, 0.8902, 0.1532],\n",
    "[0.9601, 0.8963, 0.1507],\n",
    "[0.9596, 0.9023, 0.148],\n",
    "[0.9595, 0.9084, 0.145],\n",
    "[0.9597, 0.9143, 0.1418],\n",
    "[0.9601, 0.9203, 0.1382],\n",
    "[0.9608, 0.9262, 0.1344],\n",
    "[0.9618, 0.932, 0.1304],\n",
    "[0.9629, 0.9379, 0.1261],\n",
    "[0.9642, 0.9437, 0.1216],\n",
    "[0.9657, 0.9494, 0.1168],\n",
    "[0.9674, 0.9552, 0.1116],\n",
    "[0.9692, 0.9609, 0.1061],\n",
    "[0.9711, 0.9667, 0.1001],\n",
    "[0.973, 0.9724, 0.0938],\n",
    "[0.9749, 0.9782, 0.0872],\n",
    "[0.9769, 0.9839, 0.0805]]\n",
    "\n",
    "parula_map = LinearSegmentedColormap.from_list('parula', parula_data)"
   ]
  },
  {
   "cell_type": "code",
   "execution_count": 59,
   "metadata": {},
   "outputs": [],
   "source": [
    "from mpl_toolkits.axes_grid1 import make_axes_locatable\n",
    "\n",
    "def chan_disp(data, chan_map, title, label, figsize=(8, 6), cbar_lower=None, cbar_upper=None, cmap=None):\n",
    "\n",
    "    mean_val = np.nanmean(data)\n",
    "    std_val = np.nanstd(data)\n",
    "    std_mult = 3\n",
    "    # clim = [max(0, mean_val - std_mult*std_val), mean_val + std_mult*std_val]\n",
    "    if cbar_lower is None:\n",
    "        cbar_lower = mean_val - std_mult*std_val\n",
    "    if cbar_upper is None:\n",
    "        cbar_upper = mean_val + std_mult*std_val\n",
    "    clim = [cbar_lower, cbar_upper]\n",
    "\n",
    "    if cmap is None:\n",
    "        cmap = parula_map\n",
    "\n",
    "    chan_data = np.array([data[int(i)] if not np.isnan(i) else np.nan for i in (chan_map.flatten()-1)])\n",
    "    chan_data = chan_data.reshape(chan_map.shape)\n",
    "    f = plt.figure(figsize=figsize)\n",
    "    im = plt.imshow(chan_data, cmap=parula_map)\n",
    "    im.set_clim(clim[0], clim[1])\n",
    "    # plt.gca().invert_yaxis()\n",
    "    # plt.contourf(chan_data, cmap='viridis')\n",
    "    plt.xticks([])\n",
    "    plt.yticks([])\n",
    "    plt.title(title)\n",
    "\n",
    "    divider = make_axes_locatable(plt.gca())\n",
    "    cax = divider.append_axes('right', size='5%', pad=0.05)\n",
    "\n",
    "    cbar = plt.colorbar(im, cax=cax)\n",
    "    cbar.set_label(label)\n",
    "    \n",
    "    plt.show()\n",
    "\n",
    "def chan_disp_seq(data, chan_map, t, t_ranges, labs, title, label, figsize=(3, 6), cbar_pos=[0.81, 0.56, 0.01, 0.3], sup_pos=0.95, cbar_lower=None, cbar_upper=None):\n",
    "    f, tot_axs = plt.subplots(len(labs), len(t_ranges), figsize=(figsize[0]*len(t_ranges), figsize[1]*len(labs)))\n",
    "\n",
    "    if len(labs) == 1:\n",
    "        tot_axs = tot_axs[np.newaxis,:]\n",
    "\n",
    "    mean_val = np.nanmean(data)\n",
    "    std_val = np.nanstd(data)\n",
    "    std_mult = 3\n",
    "    # clim = [max(0, mean_val - std_mult*std_val), mean_val + std_mult*std_val]\n",
    "    if cbar_lower is None:\n",
    "        cbar_lower = mean_val - std_mult*std_val\n",
    "    if cbar_upper is None:\n",
    "        cbar_upper = mean_val + std_mult*std_val\n",
    "    clim = [cbar_lower, cbar_upper]\n",
    "\n",
    "    for j, lab in enumerate(labs):\n",
    "        lab_data = data[j]\n",
    "        axs = tot_axs[j]\n",
    "        for i, t_range in enumerate(t_ranges):\n",
    "            t_inds = np.where((t >= t_range[0]) & (t < t_range[1]))[0]\n",
    "            chan_data = np.array([lab_data[t_inds,:].mean(axis=0)[int(k)] if not np.isnan(k) else np.nan for k in (chan_map.flatten()-1)])\n",
    "            chan_data = chan_data.reshape(chan_map.shape)\n",
    "            im = axs[i].imshow(chan_data, cmap=parula_map)\n",
    "            im.set_clim(clim[0], clim[1])\n",
    "            if i==0:\n",
    "                axs[i].set_ylabel(lab)\n",
    "            if j==0:\n",
    "                axs[i].set_title(f'{t_range[0]} -> {t_range[1]}s')\n",
    "            axs[i].set_xticks([])\n",
    "            axs[i].set_yticks([])\n",
    "            \n",
    "\n",
    "        # divider = make_axes_locatable(plt.gca())\n",
    "        # cax = divider.append_axes('right', size='5%', pad=0.05)\n",
    "\n",
    "        # cbar = plt.colorbar(im, cax=cax)\n",
    "        \n",
    "        # cbar.set_label(label)\n",
    "    f.subplots_adjust(right=0.8)\n",
    "    cbar_ax = f.add_axes(cbar_pos)\n",
    "    cbar = f.colorbar(im, cax=cbar_ax)\n",
    "    cbar.set_label(label)\n",
    "\n",
    "    # f.tight_layout(rect=[0, 0.03, 1, 0.95])\n",
    "    f.suptitle(title, y=sup_pos)\n",
    "    plt.show()"
   ]
  },
  {
   "cell_type": "code",
   "execution_count": 60,
   "metadata": {},
   "outputs": [],
   "source": [
    "def rgb2hex(r,g,b):\n",
    "    return \"#{:02x}{:02x}{:02x}\".format(r,g,b)"
   ]
  },
  {
   "cell_type": "markdown",
   "metadata": {},
   "source": [
    "### Clustering Type Analysis"
   ]
  },
  {
   "cell_type": "code",
   "execution_count": 61,
   "metadata": {},
   "outputs": [],
   "source": [
    "pt = 'S14'\n",
    "curr_trace = all_pt_traces[pt]\n",
    "curr_labels = all_pt_artic_labels[pt]\n",
    "curr_label_names = artic_labels"
   ]
  },
  {
   "cell_type": "code",
   "execution_count": 62,
   "metadata": {},
   "outputs": [],
   "source": [
    "def get_cluster_scores(data, labels, scorer):\n",
    "    return scorer(data, labels)\n",
    "\n",
    "def silhouette_scorer(data, labels):\n",
    "    # return average of positive silhouette scores\n",
    "    sils = silhouette_samples(data, labels)\n",
    "    sil_score = np.mean(sils[np.where(sils > 0)])\n",
    "    return sil_score"
   ]
  },
  {
   "cell_type": "code",
   "execution_count": null,
   "metadata": {},
   "outputs": [
    {
     "data": {
      "application/vnd.microsoft.datawrangler.viewer.v0+json": {
       "columns": [
        {
         "name": "index",
         "rawType": "int64",
         "type": "integer"
        },
        {
         "name": "Silhouette (t-SNE)",
         "rawType": "float64",
         "type": "float"
        },
        {
         "name": "Silhouette (PCA)",
         "rawType": "float64",
         "type": "float"
        },
        {
         "name": "Silhouette (Lat. Dyn)",
         "rawType": "float64",
         "type": "float"
        },
        {
         "name": "Calinski-Harabasz",
         "rawType": "float64",
         "type": "float"
        },
        {
         "name": "Davies-Bouldin",
         "rawType": "float64",
         "type": "float"
        },
        {
         "name": "Condition",
         "rawType": "object",
         "type": "string"
        }
       ],
       "conversionMethod": "pd.DataFrame",
       "ref": "573bcf6d-40f6-42d2-93af-cdcfff8830a1",
       "rows": [
        [
         "0",
         "0.3158593",
         "0.2109069651849542",
         "0.0476230926806676",
         "6.195954845820871",
         "4.003370924642658",
         "Articulatory Features"
        ],
        [
         "1",
         "0.34933338",
         "0.2109069651849541",
         "0.0476230926806676",
         "6.195954845820871",
         "4.003370924642658",
         "Articulatory Features"
        ],
        [
         "2",
         "0.3371375",
         "0.2109069651849541",
         "0.0476230926806676",
         "6.195954845820871",
         "4.003370924642658",
         "Articulatory Features"
        ],
        [
         "3",
         "0.283278",
         "0.210906965184954",
         "0.0476230926806676",
         "6.195954845820871",
         "4.003370924642658",
         "Articulatory Features"
        ],
        [
         "4",
         "0.34169528",
         "0.210906965184954",
         "0.0476230926806676",
         "6.195954845820871",
         "4.003370924642658",
         "Articulatory Features"
        ],
        [
         "5",
         "0.32357207",
         "0.210906965184954",
         "0.0476230926806676",
         "6.195954845820871",
         "4.003370924642658",
         "Articulatory Features"
        ],
        [
         "6",
         "0.36473206",
         "0.2109069651849542",
         "0.0476230926806676",
         "6.195954845820871",
         "4.003370924642658",
         "Articulatory Features"
        ],
        [
         "7",
         "0.33790025",
         "0.210906965184954",
         "0.0476230926806676",
         "6.195954845820871",
         "4.003370924642658",
         "Articulatory Features"
        ],
        [
         "8",
         "0.3510649",
         "0.210906965184954",
         "0.0476230926806676",
         "6.195954845820871",
         "4.003370924642658",
         "Articulatory Features"
        ],
        [
         "9",
         "0.3440574",
         "0.210906965184954",
         "0.0476230926806676",
         "6.195954845820871",
         "4.003370924642658",
         "Articulatory Features"
        ],
        [
         "10",
         "0.3140202",
         "0.210906965184954",
         "0.0476230926806676",
         "6.195954845820871",
         "4.003370924642658",
         "Articulatory Features"
        ],
        [
         "11",
         "0.35647354",
         "0.2109069651849539",
         "0.0476230926806676",
         "6.195954845820871",
         "4.003370924642658",
         "Articulatory Features"
        ],
        [
         "12",
         "0.28980792",
         "0.2109069651849541",
         "0.0476230926806676",
         "6.195954845820871",
         "4.003370924642658",
         "Articulatory Features"
        ],
        [
         "13",
         "0.32036412",
         "0.2109069651849541",
         "0.0476230926806676",
         "6.195954845820871",
         "4.003370924642658",
         "Articulatory Features"
        ],
        [
         "14",
         "0.32752338",
         "0.2109069651849541",
         "0.0476230926806676",
         "6.195954845820871",
         "4.003370924642658",
         "Articulatory Features"
        ],
        [
         "15",
         "0.37407964",
         "0.2109069651849542",
         "0.0476230926806676",
         "6.195954845820871",
         "4.003370924642658",
         "Articulatory Features"
        ],
        [
         "16",
         "0.33816493",
         "0.2109069651849543",
         "0.0476230926806676",
         "6.195954845820871",
         "4.003370924642658",
         "Articulatory Features"
        ],
        [
         "17",
         "0.3321272",
         "0.210906965184953",
         "0.0476230926806676",
         "6.195954845820871",
         "4.003370924642658",
         "Articulatory Features"
        ],
        [
         "18",
         "0.28399917",
         "0.2109069651849529",
         "0.0476230926806676",
         "6.195954845820871",
         "4.003370924642658",
         "Articulatory Features"
        ],
        [
         "19",
         "0.36940044",
         "0.2109069651849529",
         "0.0476230926806676",
         "6.195954845820871",
         "4.003370924642658",
         "Articulatory Features"
        ],
        [
         "20",
         "0.32253945",
         "0.210906965184953",
         "0.0476230926806676",
         "6.195954845820871",
         "4.003370924642658",
         "Articulatory Features"
        ],
        [
         "21",
         "0.2725706",
         "0.210906965184953",
         "0.0476230926806676",
         "6.195954845820871",
         "4.003370924642658",
         "Articulatory Features"
        ],
        [
         "22",
         "0.3307306",
         "0.210906965184953",
         "0.0476230926806676",
         "6.195954845820871",
         "4.003370924642658",
         "Articulatory Features"
        ],
        [
         "23",
         "0.3369137",
         "0.2109069651849529",
         "0.0476230926806676",
         "6.195954845820871",
         "4.003370924642658",
         "Articulatory Features"
        ],
        [
         "24",
         "0.3342357",
         "0.2109069651849515",
         "0.0476230926806676",
         "6.195954845820871",
         "4.003370924642658",
         "Articulatory Features"
        ],
        [
         "25",
         "0.33502826",
         "0.2109069651849515",
         "0.0476230926806676",
         "6.195954845820871",
         "4.003370924642658",
         "Articulatory Features"
        ],
        [
         "26",
         "0.34635925",
         "0.21090696518495",
         "0.0476230926806676",
         "6.195954845820871",
         "4.003370924642658",
         "Articulatory Features"
        ],
        [
         "27",
         "0.2488406",
         "0.2109069651849494",
         "0.0476230926806676",
         "6.195954845820871",
         "4.003370924642658",
         "Articulatory Features"
        ],
        [
         "28",
         "0.31657913",
         "0.2109069651849492",
         "0.0476230926806676",
         "6.195954845820871",
         "4.003370924642658",
         "Articulatory Features"
        ],
        [
         "29",
         "0.32297406",
         "0.2109069651849494",
         "0.0476230926806676",
         "6.195954845820871",
         "4.003370924642658",
         "Articulatory Features"
        ],
        [
         "30",
         "0.31274384",
         "0.2109069651849492",
         "0.0476230926806676",
         "6.195954845820871",
         "4.003370924642658",
         "Articulatory Features"
        ],
        [
         "31",
         "0.27795368",
         "0.2109069651849494",
         "0.0476230926806676",
         "6.195954845820871",
         "4.003370924642658",
         "Articulatory Features"
        ],
        [
         "32",
         "0.22668962",
         "0.2109069651849494",
         "0.0476230926806676",
         "6.195954845820871",
         "4.003370924642658",
         "Articulatory Features"
        ],
        [
         "33",
         "0.31928056",
         "0.2109069651849494",
         "0.0476230926806676",
         "6.195954845820871",
         "4.003370924642658",
         "Articulatory Features"
        ],
        [
         "34",
         "0.34423885",
         "0.2109069651849494",
         "0.0476230926806676",
         "6.195954845820871",
         "4.003370924642658",
         "Articulatory Features"
        ],
        [
         "35",
         "0.31658685",
         "0.2109069651849494",
         "0.0476230926806676",
         "6.195954845820871",
         "4.003370924642658",
         "Articulatory Features"
        ],
        [
         "36",
         "0.3368356",
         "0.2109069651849492",
         "0.0476230926806676",
         "6.195954845820871",
         "4.003370924642658",
         "Articulatory Features"
        ],
        [
         "37",
         "0.31251875",
         "0.2109069651849493",
         "0.0476230926806676",
         "6.195954845820871",
         "4.003370924642658",
         "Articulatory Features"
        ],
        [
         "38",
         "0.31955263",
         "0.2109069651849492",
         "0.0476230926806676",
         "6.195954845820871",
         "4.003370924642658",
         "Articulatory Features"
        ],
        [
         "39",
         "0.35147777",
         "0.2109069651849492",
         "0.0476230926806676",
         "6.195954845820871",
         "4.003370924642658",
         "Articulatory Features"
        ],
        [
         "40",
         "0.3317831",
         "0.2109069651849491",
         "0.0476230926806676",
         "6.195954845820871",
         "4.003370924642658",
         "Articulatory Features"
        ],
        [
         "41",
         "0.32223117",
         "0.2109069651849489",
         "0.0476230926806676",
         "6.195954845820871",
         "4.003370924642658",
         "Articulatory Features"
        ],
        [
         "42",
         "0.3357285",
         "0.2109069651849497",
         "0.0476230926806676",
         "6.195954845820871",
         "4.003370924642658",
         "Articulatory Features"
        ],
        [
         "43",
         "0.2997533",
         "0.2109069651849498",
         "0.0476230926806676",
         "6.195954845820871",
         "4.003370924642658",
         "Articulatory Features"
        ],
        [
         "44",
         "0.32766593",
         "0.2109069651849498",
         "0.0476230926806676",
         "6.195954845820871",
         "4.003370924642658",
         "Articulatory Features"
        ],
        [
         "45",
         "0.36437854",
         "0.2109069651849499",
         "0.0476230926806676",
         "6.195954845820871",
         "4.003370924642658",
         "Articulatory Features"
        ],
        [
         "46",
         "0.33358487",
         "0.2109069651849499",
         "0.0476230926806676",
         "6.195954845820871",
         "4.003370924642658",
         "Articulatory Features"
        ],
        [
         "47",
         "0.34463456",
         "0.2109069651849507",
         "0.0476230926806676",
         "6.195954845820871",
         "4.003370924642658",
         "Articulatory Features"
        ],
        [
         "48",
         "0.33745614",
         "0.2109069651849521",
         "0.0476230926806676",
         "6.195954845820871",
         "4.003370924642658",
         "Articulatory Features"
        ],
        [
         "49",
         "0.32519922",
         "0.2109069651849522",
         "0.0476230926806676",
         "6.195954845820871",
         "4.003370924642658",
         "Articulatory Features"
        ]
       ],
       "shape": {
        "columns": 6,
        "rows": 100
       }
      },
      "text/html": [
       "<div>\n",
       "<style scoped>\n",
       "    .dataframe tbody tr th:only-of-type {\n",
       "        vertical-align: middle;\n",
       "    }\n",
       "\n",
       "    .dataframe tbody tr th {\n",
       "        vertical-align: top;\n",
       "    }\n",
       "\n",
       "    .dataframe thead th {\n",
       "        text-align: right;\n",
       "    }\n",
       "</style>\n",
       "<table border=\"1\" class=\"dataframe\">\n",
       "  <thead>\n",
       "    <tr style=\"text-align: right;\">\n",
       "      <th></th>\n",
       "      <th>Silhouette (t-SNE)</th>\n",
       "      <th>Silhouette (PCA)</th>\n",
       "      <th>Silhouette (Lat. Dyn)</th>\n",
       "      <th>Calinski-Harabasz</th>\n",
       "      <th>Davies-Bouldin</th>\n",
       "      <th>Condition</th>\n",
       "    </tr>\n",
       "  </thead>\n",
       "  <tbody>\n",
       "    <tr>\n",
       "      <th>0</th>\n",
       "      <td>0.315859</td>\n",
       "      <td>0.210907</td>\n",
       "      <td>0.047623</td>\n",
       "      <td>6.195955</td>\n",
       "      <td>4.003371</td>\n",
       "      <td>Articulatory Features</td>\n",
       "    </tr>\n",
       "    <tr>\n",
       "      <th>1</th>\n",
       "      <td>0.349333</td>\n",
       "      <td>0.210907</td>\n",
       "      <td>0.047623</td>\n",
       "      <td>6.195955</td>\n",
       "      <td>4.003371</td>\n",
       "      <td>Articulatory Features</td>\n",
       "    </tr>\n",
       "    <tr>\n",
       "      <th>2</th>\n",
       "      <td>0.337137</td>\n",
       "      <td>0.210907</td>\n",
       "      <td>0.047623</td>\n",
       "      <td>6.195955</td>\n",
       "      <td>4.003371</td>\n",
       "      <td>Articulatory Features</td>\n",
       "    </tr>\n",
       "    <tr>\n",
       "      <th>3</th>\n",
       "      <td>0.283278</td>\n",
       "      <td>0.210907</td>\n",
       "      <td>0.047623</td>\n",
       "      <td>6.195955</td>\n",
       "      <td>4.003371</td>\n",
       "      <td>Articulatory Features</td>\n",
       "    </tr>\n",
       "    <tr>\n",
       "      <th>4</th>\n",
       "      <td>0.341695</td>\n",
       "      <td>0.210907</td>\n",
       "      <td>0.047623</td>\n",
       "      <td>6.195955</td>\n",
       "      <td>4.003371</td>\n",
       "      <td>Articulatory Features</td>\n",
       "    </tr>\n",
       "    <tr>\n",
       "      <th>...</th>\n",
       "      <td>...</td>\n",
       "      <td>...</td>\n",
       "      <td>...</td>\n",
       "      <td>...</td>\n",
       "      <td>...</td>\n",
       "      <td>...</td>\n",
       "    </tr>\n",
       "    <tr>\n",
       "      <th>95</th>\n",
       "      <td>0.099638</td>\n",
       "      <td>0.111592</td>\n",
       "      <td>0.033852</td>\n",
       "      <td>1.041819</td>\n",
       "      <td>9.165468</td>\n",
       "      <td>Chance Distribution</td>\n",
       "    </tr>\n",
       "    <tr>\n",
       "      <th>96</th>\n",
       "      <td>0.076128</td>\n",
       "      <td>0.060743</td>\n",
       "      <td>0.011612</td>\n",
       "      <td>0.935948</td>\n",
       "      <td>9.578213</td>\n",
       "      <td>Chance Distribution</td>\n",
       "    </tr>\n",
       "    <tr>\n",
       "      <th>97</th>\n",
       "      <td>0.045776</td>\n",
       "      <td>0.031387</td>\n",
       "      <td>0.014797</td>\n",
       "      <td>1.155801</td>\n",
       "      <td>8.870372</td>\n",
       "      <td>Chance Distribution</td>\n",
       "    </tr>\n",
       "    <tr>\n",
       "      <th>98</th>\n",
       "      <td>0.106926</td>\n",
       "      <td>0.185043</td>\n",
       "      <td>0.047258</td>\n",
       "      <td>1.125707</td>\n",
       "      <td>8.784890</td>\n",
       "      <td>Chance Distribution</td>\n",
       "    </tr>\n",
       "    <tr>\n",
       "      <th>99</th>\n",
       "      <td>0.073225</td>\n",
       "      <td>0.056941</td>\n",
       "      <td>0.027293</td>\n",
       "      <td>1.229472</td>\n",
       "      <td>8.686334</td>\n",
       "      <td>Chance Distribution</td>\n",
       "    </tr>\n",
       "  </tbody>\n",
       "</table>\n",
       "<p>100 rows × 6 columns</p>\n",
       "</div>"
      ],
      "text/plain": [
       "    Silhouette (t-SNE)  Silhouette (PCA)  Silhouette (Lat. Dyn)  \\\n",
       "0             0.315859          0.210907               0.047623   \n",
       "1             0.349333          0.210907               0.047623   \n",
       "2             0.337137          0.210907               0.047623   \n",
       "3             0.283278          0.210907               0.047623   \n",
       "4             0.341695          0.210907               0.047623   \n",
       "..                 ...               ...                    ...   \n",
       "95            0.099638          0.111592               0.033852   \n",
       "96            0.076128          0.060743               0.011612   \n",
       "97            0.045776          0.031387               0.014797   \n",
       "98            0.106926          0.185043               0.047258   \n",
       "99            0.073225          0.056941               0.027293   \n",
       "\n",
       "    Calinski-Harabasz  Davies-Bouldin              Condition  \n",
       "0            6.195955        4.003371  Articulatory Features  \n",
       "1            6.195955        4.003371  Articulatory Features  \n",
       "2            6.195955        4.003371  Articulatory Features  \n",
       "3            6.195955        4.003371  Articulatory Features  \n",
       "4            6.195955        4.003371  Articulatory Features  \n",
       "..                ...             ...                    ...  \n",
       "95           1.041819        9.165468    Chance Distribution  \n",
       "96           0.935948        9.578213    Chance Distribution  \n",
       "97           1.155801        8.870372    Chance Distribution  \n",
       "98           1.125707        8.784890    Chance Distribution  \n",
       "99           1.229472        8.686334    Chance Distribution  \n",
       "\n",
       "[100 rows x 6 columns]"
      ]
     },
     "execution_count": 63,
     "metadata": {},
     "output_type": "execute_result"
    }
   ],
   "source": [
    "##### code for calculation below - I'm just loadingn from pre-computed data #####\n",
    "# t_range = [-0.5, 0.5]\n",
    "# t_idx = np.where((t >= t_range[0]) & (t < t_range[1]))[0]\n",
    "# n_iter = 50\n",
    "# t_pca_comp = 0.9\n",
    "# ps_clust_scores = []\n",
    "# ps_clust_scores_shuf = []\n",
    "\n",
    "# for i in tqdm(range(n_iter)):\n",
    "\n",
    "#     pt_time_pca_ld = PCA(n_components=t_pca_comp).fit_transform(curr_trace[:,t_idx,:].reshape(-1, curr_trace.shape[-1])).reshape(curr_trace.shape[0], -1)\n",
    "#     pt_time_pca = PCA(n_components=50).fit_transform(pt_time_pca)\n",
    "#     pt_embed_time_tsne = TSNE(n_components=2, perplexity=30).fit_transform(pt_time_pca)\n",
    "#     pt_embed_time_pca = PCA(n_components=2).fit_transform(pt_time_pca)\n",
    "\n",
    "#     sil_score_tsne = get_cluster_scores(pt_embed_time_tsne, curr_labels, silhouette_scorer)\n",
    "#     sil_score_pca = get_cluster_scores(pt_embed_time_pca, curr_labels, silhouette_scorer)\n",
    "#     sil_score_pca_ld = get_cluster_scores(pt_time_pca_ld, curr_labels, silhouette_scorer)\n",
    "#     ch_score = get_cluster_scores(pt_time_pca_ld, curr_labels, calinski_harabasz_score)\n",
    "#     db_score = get_cluster_scores(pt_time_pca_ld, curr_labels, davies_bouldin_score)\n",
    "#     score_dict = {'Silhouette (t-SNE)': sil_score_tsne, 'Silhouette (PCA)': sil_score_pca, 'Silhouette (Lat. Dyn)': sil_score_pca_ld, 'Calinski-Harabasz': ch_score, 'Davies-Bouldin': db_score}\n",
    "#     ps_clust_scores.append(score_dict)\n",
    "\n",
    "#     shuf_labels = np.random.permutation(curr_labels)\n",
    "#     sil_score_tsne_shuf = get_cluster_scores(pt_embed_time_tsne, shuf_labels, silhouette_scorer)\n",
    "#     sil_score_pca_shuf = get_cluster_scores(pt_embed_time_pca, shuf_labels, silhouette_scorer)\n",
    "#     sil_score_pca_ld_shuf = get_cluster_scores(pt_time_pca_ld, shuf_labels, silhouette_scorer)\n",
    "#     ch_score_shuf = get_cluster_scores(pt_time_pca_ld, shuf_labels, calinski_harabasz_score)\n",
    "#     db_score_shuf = get_cluster_scores(pt_time_pca_ld, shuf_labels, davies_bouldin_score)\n",
    "#     shuf_dict = {'Silhouette (t-SNE)': sil_score_tsne_shuf, 'Silhouette (PCA)': sil_score_pca_shuf, 'Silhouette (Lat. Dyn)': sil_score_pca_ld_shuf, 'Calinski-Harabasz': ch_score_shuf, 'Davies-Bouldin': db_score_shuf}\n",
    "#     ps_clust_scores_shuf.append(shuf_dict)\n",
    "\n",
    "ps_score_df\n"
   ]
  },
  {
   "cell_type": "code",
   "execution_count": 64,
   "metadata": {},
   "outputs": [
    {
     "data": {
      "application/vnd.microsoft.datawrangler.viewer.v0+json": {
       "columns": [
        {
         "name": "index",
         "rawType": "int64",
         "type": "integer"
        },
        {
         "name": "Condition",
         "rawType": "object",
         "type": "string"
        },
        {
         "name": "Metric",
         "rawType": "object",
         "type": "string"
        },
        {
         "name": "Score",
         "rawType": "float64",
         "type": "float"
        }
       ],
       "conversionMethod": "pd.DataFrame",
       "ref": "0b3da118-abb1-40a6-b07c-e177715deac0",
       "rows": [
        [
         "0",
         "Articulatory Features",
         "Silhouette (t-SNE)",
         "0.3158593"
        ],
        [
         "1",
         "Articulatory Features",
         "Silhouette (t-SNE)",
         "0.34933338"
        ],
        [
         "2",
         "Articulatory Features",
         "Silhouette (t-SNE)",
         "0.3371375"
        ],
        [
         "3",
         "Articulatory Features",
         "Silhouette (t-SNE)",
         "0.283278"
        ],
        [
         "4",
         "Articulatory Features",
         "Silhouette (t-SNE)",
         "0.34169528"
        ],
        [
         "5",
         "Articulatory Features",
         "Silhouette (t-SNE)",
         "0.32357207"
        ],
        [
         "6",
         "Articulatory Features",
         "Silhouette (t-SNE)",
         "0.36473206"
        ],
        [
         "7",
         "Articulatory Features",
         "Silhouette (t-SNE)",
         "0.33790025"
        ],
        [
         "8",
         "Articulatory Features",
         "Silhouette (t-SNE)",
         "0.3510649"
        ],
        [
         "9",
         "Articulatory Features",
         "Silhouette (t-SNE)",
         "0.3440574"
        ],
        [
         "10",
         "Articulatory Features",
         "Silhouette (t-SNE)",
         "0.3140202"
        ],
        [
         "11",
         "Articulatory Features",
         "Silhouette (t-SNE)",
         "0.35647354"
        ],
        [
         "12",
         "Articulatory Features",
         "Silhouette (t-SNE)",
         "0.28980792"
        ],
        [
         "13",
         "Articulatory Features",
         "Silhouette (t-SNE)",
         "0.32036412"
        ],
        [
         "14",
         "Articulatory Features",
         "Silhouette (t-SNE)",
         "0.32752338"
        ],
        [
         "15",
         "Articulatory Features",
         "Silhouette (t-SNE)",
         "0.37407964"
        ],
        [
         "16",
         "Articulatory Features",
         "Silhouette (t-SNE)",
         "0.33816493"
        ],
        [
         "17",
         "Articulatory Features",
         "Silhouette (t-SNE)",
         "0.3321272"
        ],
        [
         "18",
         "Articulatory Features",
         "Silhouette (t-SNE)",
         "0.28399917"
        ],
        [
         "19",
         "Articulatory Features",
         "Silhouette (t-SNE)",
         "0.36940044"
        ],
        [
         "20",
         "Articulatory Features",
         "Silhouette (t-SNE)",
         "0.32253945"
        ],
        [
         "21",
         "Articulatory Features",
         "Silhouette (t-SNE)",
         "0.2725706"
        ],
        [
         "22",
         "Articulatory Features",
         "Silhouette (t-SNE)",
         "0.3307306"
        ],
        [
         "23",
         "Articulatory Features",
         "Silhouette (t-SNE)",
         "0.3369137"
        ],
        [
         "24",
         "Articulatory Features",
         "Silhouette (t-SNE)",
         "0.3342357"
        ],
        [
         "25",
         "Articulatory Features",
         "Silhouette (t-SNE)",
         "0.33502826"
        ],
        [
         "26",
         "Articulatory Features",
         "Silhouette (t-SNE)",
         "0.34635925"
        ],
        [
         "27",
         "Articulatory Features",
         "Silhouette (t-SNE)",
         "0.2488406"
        ],
        [
         "28",
         "Articulatory Features",
         "Silhouette (t-SNE)",
         "0.31657913"
        ],
        [
         "29",
         "Articulatory Features",
         "Silhouette (t-SNE)",
         "0.32297406"
        ],
        [
         "30",
         "Articulatory Features",
         "Silhouette (t-SNE)",
         "0.31274384"
        ],
        [
         "31",
         "Articulatory Features",
         "Silhouette (t-SNE)",
         "0.27795368"
        ],
        [
         "32",
         "Articulatory Features",
         "Silhouette (t-SNE)",
         "0.22668962"
        ],
        [
         "33",
         "Articulatory Features",
         "Silhouette (t-SNE)",
         "0.31928056"
        ],
        [
         "34",
         "Articulatory Features",
         "Silhouette (t-SNE)",
         "0.34423885"
        ],
        [
         "35",
         "Articulatory Features",
         "Silhouette (t-SNE)",
         "0.31658685"
        ],
        [
         "36",
         "Articulatory Features",
         "Silhouette (t-SNE)",
         "0.3368356"
        ],
        [
         "37",
         "Articulatory Features",
         "Silhouette (t-SNE)",
         "0.31251875"
        ],
        [
         "38",
         "Articulatory Features",
         "Silhouette (t-SNE)",
         "0.31955263"
        ],
        [
         "39",
         "Articulatory Features",
         "Silhouette (t-SNE)",
         "0.35147777"
        ],
        [
         "40",
         "Articulatory Features",
         "Silhouette (t-SNE)",
         "0.3317831"
        ],
        [
         "41",
         "Articulatory Features",
         "Silhouette (t-SNE)",
         "0.32223117"
        ],
        [
         "42",
         "Articulatory Features",
         "Silhouette (t-SNE)",
         "0.3357285"
        ],
        [
         "43",
         "Articulatory Features",
         "Silhouette (t-SNE)",
         "0.2997533"
        ],
        [
         "44",
         "Articulatory Features",
         "Silhouette (t-SNE)",
         "0.32766593"
        ],
        [
         "45",
         "Articulatory Features",
         "Silhouette (t-SNE)",
         "0.36437854"
        ],
        [
         "46",
         "Articulatory Features",
         "Silhouette (t-SNE)",
         "0.33358487"
        ],
        [
         "47",
         "Articulatory Features",
         "Silhouette (t-SNE)",
         "0.34463456"
        ],
        [
         "48",
         "Articulatory Features",
         "Silhouette (t-SNE)",
         "0.33745614"
        ],
        [
         "49",
         "Articulatory Features",
         "Silhouette (t-SNE)",
         "0.32519922"
        ]
       ],
       "shape": {
        "columns": 3,
        "rows": 500
       }
      },
      "text/html": [
       "<div>\n",
       "<style scoped>\n",
       "    .dataframe tbody tr th:only-of-type {\n",
       "        vertical-align: middle;\n",
       "    }\n",
       "\n",
       "    .dataframe tbody tr th {\n",
       "        vertical-align: top;\n",
       "    }\n",
       "\n",
       "    .dataframe thead th {\n",
       "        text-align: right;\n",
       "    }\n",
       "</style>\n",
       "<table border=\"1\" class=\"dataframe\">\n",
       "  <thead>\n",
       "    <tr style=\"text-align: right;\">\n",
       "      <th></th>\n",
       "      <th>Condition</th>\n",
       "      <th>Metric</th>\n",
       "      <th>Score</th>\n",
       "    </tr>\n",
       "  </thead>\n",
       "  <tbody>\n",
       "    <tr>\n",
       "      <th>0</th>\n",
       "      <td>Articulatory Features</td>\n",
       "      <td>Silhouette (t-SNE)</td>\n",
       "      <td>0.315859</td>\n",
       "    </tr>\n",
       "    <tr>\n",
       "      <th>1</th>\n",
       "      <td>Articulatory Features</td>\n",
       "      <td>Silhouette (t-SNE)</td>\n",
       "      <td>0.349333</td>\n",
       "    </tr>\n",
       "    <tr>\n",
       "      <th>2</th>\n",
       "      <td>Articulatory Features</td>\n",
       "      <td>Silhouette (t-SNE)</td>\n",
       "      <td>0.337137</td>\n",
       "    </tr>\n",
       "    <tr>\n",
       "      <th>3</th>\n",
       "      <td>Articulatory Features</td>\n",
       "      <td>Silhouette (t-SNE)</td>\n",
       "      <td>0.283278</td>\n",
       "    </tr>\n",
       "    <tr>\n",
       "      <th>4</th>\n",
       "      <td>Articulatory Features</td>\n",
       "      <td>Silhouette (t-SNE)</td>\n",
       "      <td>0.341695</td>\n",
       "    </tr>\n",
       "    <tr>\n",
       "      <th>...</th>\n",
       "      <td>...</td>\n",
       "      <td>...</td>\n",
       "      <td>...</td>\n",
       "    </tr>\n",
       "    <tr>\n",
       "      <th>495</th>\n",
       "      <td>Chance Distribution</td>\n",
       "      <td>Davies-Bouldin</td>\n",
       "      <td>9.165468</td>\n",
       "    </tr>\n",
       "    <tr>\n",
       "      <th>496</th>\n",
       "      <td>Chance Distribution</td>\n",
       "      <td>Davies-Bouldin</td>\n",
       "      <td>9.578213</td>\n",
       "    </tr>\n",
       "    <tr>\n",
       "      <th>497</th>\n",
       "      <td>Chance Distribution</td>\n",
       "      <td>Davies-Bouldin</td>\n",
       "      <td>8.870372</td>\n",
       "    </tr>\n",
       "    <tr>\n",
       "      <th>498</th>\n",
       "      <td>Chance Distribution</td>\n",
       "      <td>Davies-Bouldin</td>\n",
       "      <td>8.784890</td>\n",
       "    </tr>\n",
       "    <tr>\n",
       "      <th>499</th>\n",
       "      <td>Chance Distribution</td>\n",
       "      <td>Davies-Bouldin</td>\n",
       "      <td>8.686334</td>\n",
       "    </tr>\n",
       "  </tbody>\n",
       "</table>\n",
       "<p>500 rows × 3 columns</p>\n",
       "</div>"
      ],
      "text/plain": [
       "                 Condition              Metric     Score\n",
       "0    Articulatory Features  Silhouette (t-SNE)  0.315859\n",
       "1    Articulatory Features  Silhouette (t-SNE)  0.349333\n",
       "2    Articulatory Features  Silhouette (t-SNE)  0.337137\n",
       "3    Articulatory Features  Silhouette (t-SNE)  0.283278\n",
       "4    Articulatory Features  Silhouette (t-SNE)  0.341695\n",
       "..                     ...                 ...       ...\n",
       "495    Chance Distribution      Davies-Bouldin  9.165468\n",
       "496    Chance Distribution      Davies-Bouldin  9.578213\n",
       "497    Chance Distribution      Davies-Bouldin  8.870372\n",
       "498    Chance Distribution      Davies-Bouldin  8.784890\n",
       "499    Chance Distribution      Davies-Bouldin  8.686334\n",
       "\n",
       "[500 rows x 3 columns]"
      ]
     },
     "execution_count": 64,
     "metadata": {},
     "output_type": "execute_result"
    }
   ],
   "source": [
    "score_df_long = ps_score_df.melt(id_vars='Condition', var_name='Metric', value_name='Score')\n",
    "score_df_long"
   ]
  },
  {
   "cell_type": "code",
   "execution_count": 68,
   "metadata": {},
   "outputs": [
    {
     "data": {
      "application/vnd.plotly.v1+json": {
       "config": {
        "plotlyServerURL": "https://plotly.com"
       },
       "data": [
        {
         "alignmentgroup": "True",
         "boxpoints": "all",
         "hovertemplate": "Condition=Articulatory Features<br>Metric=Silhouette (t-SNE)<br>Score=%{y}<extra></extra>",
         "legendgroup": "Articulatory Features",
         "marker": {
          "color": "#636EFA"
         },
         "name": "Articulatory Features",
         "notched": false,
         "offsetgroup": "Articulatory Features",
         "orientation": "v",
         "showlegend": true,
         "type": "box",
         "x0": " ",
         "xaxis": "x4",
         "y": [
          0.3158593,
          0.34933338,
          0.3371375,
          0.283278,
          0.34169528,
          0.32357207,
          0.36473206,
          0.33790025,
          0.3510649,
          0.3440574,
          0.3140202,
          0.35647354,
          0.28980792,
          0.32036412,
          0.32752338,
          0.37407964,
          0.33816493,
          0.3321272,
          0.28399917,
          0.36940044,
          0.32253945,
          0.2725706,
          0.3307306,
          0.3369137,
          0.3342357,
          0.33502826,
          0.34635925,
          0.2488406,
          0.31657913,
          0.32297406,
          0.31274384,
          0.27795368,
          0.22668962,
          0.31928056,
          0.34423885,
          0.31658685,
          0.3368356,
          0.31251875,
          0.31955263,
          0.35147777,
          0.3317831,
          0.32223117,
          0.3357285,
          0.2997533,
          0.32766593,
          0.36437854,
          0.33358487,
          0.34463456,
          0.33745614,
          0.32519922
         ],
         "y0": " ",
         "yaxis": "y4"
        },
        {
         "alignmentgroup": "True",
         "boxpoints": "all",
         "hovertemplate": "Condition=Articulatory Features<br>Metric=Silhouette (PCA)<br>Score=%{y}<extra></extra>",
         "legendgroup": "Articulatory Features",
         "marker": {
          "color": "#636EFA"
         },
         "name": "Articulatory Features",
         "notched": false,
         "offsetgroup": "Articulatory Features",
         "orientation": "v",
         "showlegend": false,
         "type": "box",
         "x0": " ",
         "xaxis": "x5",
         "y": [
          0.2109069651849542,
          0.2109069651849541,
          0.2109069651849541,
          0.210906965184954,
          0.210906965184954,
          0.210906965184954,
          0.2109069651849542,
          0.210906965184954,
          0.210906965184954,
          0.210906965184954,
          0.210906965184954,
          0.2109069651849539,
          0.2109069651849541,
          0.2109069651849541,
          0.2109069651849541,
          0.2109069651849542,
          0.2109069651849543,
          0.210906965184953,
          0.2109069651849529,
          0.2109069651849529,
          0.210906965184953,
          0.210906965184953,
          0.210906965184953,
          0.2109069651849529,
          0.2109069651849515,
          0.2109069651849515,
          0.21090696518495,
          0.2109069651849494,
          0.2109069651849492,
          0.2109069651849494,
          0.2109069651849492,
          0.2109069651849494,
          0.2109069651849494,
          0.2109069651849494,
          0.2109069651849494,
          0.2109069651849494,
          0.2109069651849492,
          0.2109069651849493,
          0.2109069651849492,
          0.2109069651849492,
          0.2109069651849491,
          0.2109069651849489,
          0.2109069651849497,
          0.2109069651849498,
          0.2109069651849498,
          0.2109069651849499,
          0.2109069651849499,
          0.2109069651849507,
          0.2109069651849521,
          0.2109069651849522
         ],
         "y0": " ",
         "yaxis": "y5"
        },
        {
         "alignmentgroup": "True",
         "boxpoints": "all",
         "hovertemplate": "Condition=Articulatory Features<br>Metric=Silhouette (Lat. Dyn)<br>Score=%{y}<extra></extra>",
         "legendgroup": "Articulatory Features",
         "marker": {
          "color": "#636EFA"
         },
         "name": "Articulatory Features",
         "notched": false,
         "offsetgroup": "Articulatory Features",
         "orientation": "v",
         "showlegend": false,
         "type": "box",
         "x0": " ",
         "xaxis": "x6",
         "y": [
          0.0476230926806676,
          0.0476230926806676,
          0.0476230926806676,
          0.0476230926806676,
          0.0476230926806676,
          0.0476230926806676,
          0.0476230926806676,
          0.0476230926806676,
          0.0476230926806676,
          0.0476230926806676,
          0.0476230926806676,
          0.0476230926806676,
          0.0476230926806676,
          0.0476230926806676,
          0.0476230926806676,
          0.0476230926806676,
          0.0476230926806676,
          0.0476230926806676,
          0.0476230926806676,
          0.0476230926806676,
          0.0476230926806676,
          0.0476230926806676,
          0.0476230926806676,
          0.0476230926806676,
          0.0476230926806676,
          0.0476230926806676,
          0.0476230926806676,
          0.0476230926806676,
          0.0476230926806676,
          0.0476230926806676,
          0.0476230926806676,
          0.0476230926806676,
          0.0476230926806676,
          0.0476230926806676,
          0.0476230926806676,
          0.0476230926806676,
          0.0476230926806676,
          0.0476230926806676,
          0.0476230926806676,
          0.0476230926806676,
          0.0476230926806676,
          0.0476230926806676,
          0.0476230926806676,
          0.0476230926806676,
          0.0476230926806676,
          0.0476230926806676,
          0.0476230926806676,
          0.0476230926806676,
          0.0476230926806676,
          0.0476230926806676
         ],
         "y0": " ",
         "yaxis": "y6"
        },
        {
         "alignmentgroup": "True",
         "boxpoints": "all",
         "hovertemplate": "Condition=Articulatory Features<br>Metric=Calinski-Harabasz<br>Score=%{y}<extra></extra>",
         "legendgroup": "Articulatory Features",
         "marker": {
          "color": "#636EFA"
         },
         "name": "Articulatory Features",
         "notched": false,
         "offsetgroup": "Articulatory Features",
         "orientation": "v",
         "showlegend": false,
         "type": "box",
         "x0": " ",
         "xaxis": "x",
         "y": [
          6.195954845820871,
          6.195954845820871,
          6.195954845820871,
          6.195954845820871,
          6.195954845820871,
          6.195954845820871,
          6.195954845820871,
          6.195954845820871,
          6.195954845820871,
          6.195954845820871,
          6.195954845820871,
          6.195954845820871,
          6.195954845820871,
          6.195954845820871,
          6.195954845820871,
          6.195954845820871,
          6.195954845820871,
          6.195954845820871,
          6.195954845820871,
          6.195954845820871,
          6.195954845820871,
          6.195954845820871,
          6.195954845820871,
          6.195954845820871,
          6.195954845820871,
          6.195954845820871,
          6.195954845820871,
          6.195954845820871,
          6.195954845820871,
          6.195954845820871,
          6.195954845820871,
          6.195954845820871,
          6.195954845820871,
          6.195954845820871,
          6.195954845820871,
          6.195954845820871,
          6.195954845820871,
          6.195954845820871,
          6.195954845820871,
          6.195954845820871,
          6.195954845820871,
          6.195954845820871,
          6.195954845820871,
          6.195954845820871,
          6.195954845820871,
          6.195954845820871,
          6.195954845820871,
          6.195954845820871,
          6.195954845820871,
          6.195954845820871
         ],
         "y0": " ",
         "yaxis": "y"
        },
        {
         "alignmentgroup": "True",
         "boxpoints": "all",
         "hovertemplate": "Condition=Articulatory Features<br>Metric=Davies-Bouldin<br>Score=%{y}<extra></extra>",
         "legendgroup": "Articulatory Features",
         "marker": {
          "color": "#636EFA"
         },
         "name": "Articulatory Features",
         "notched": false,
         "offsetgroup": "Articulatory Features",
         "orientation": "v",
         "showlegend": false,
         "type": "box",
         "x0": " ",
         "xaxis": "x2",
         "y": [
          4.003370924642658,
          4.003370924642658,
          4.003370924642658,
          4.003370924642658,
          4.003370924642658,
          4.003370924642658,
          4.003370924642658,
          4.003370924642658,
          4.003370924642658,
          4.003370924642658,
          4.003370924642658,
          4.003370924642658,
          4.003370924642658,
          4.003370924642658,
          4.003370924642658,
          4.003370924642658,
          4.003370924642658,
          4.003370924642658,
          4.003370924642658,
          4.003370924642658,
          4.003370924642658,
          4.003370924642658,
          4.003370924642658,
          4.003370924642658,
          4.003370924642658,
          4.003370924642658,
          4.003370924642658,
          4.003370924642658,
          4.003370924642658,
          4.003370924642658,
          4.003370924642658,
          4.003370924642658,
          4.003370924642658,
          4.003370924642658,
          4.003370924642658,
          4.003370924642658,
          4.003370924642658,
          4.003370924642658,
          4.003370924642658,
          4.003370924642658,
          4.003370924642658,
          4.003370924642658,
          4.003370924642658,
          4.003370924642658,
          4.003370924642658,
          4.003370924642658,
          4.003370924642658,
          4.003370924642658,
          4.003370924642658,
          4.003370924642658
         ],
         "y0": " ",
         "yaxis": "y2"
        },
        {
         "alignmentgroup": "True",
         "boxpoints": "all",
         "hovertemplate": "Condition=Chance Distribution<br>Metric=Silhouette (t-SNE)<br>Score=%{y}<extra></extra>",
         "legendgroup": "Chance Distribution",
         "marker": {
          "color": "#7F7F7F"
         },
         "name": "Chance Distribution",
         "notched": false,
         "offsetgroup": "Chance Distribution",
         "orientation": "v",
         "showlegend": true,
         "type": "box",
         "x0": " ",
         "xaxis": "x4",
         "y": [
          0.031592496,
          0.05020691,
          0.078095905,
          0.082755,
          0.054831147,
          0.058503523,
          0.06473857,
          0.02741561,
          0.07844135,
          0.07170151,
          0.05279522,
          0.08474768,
          0.03744428,
          0.029918704,
          0.055824827,
          0.06977744,
          0.038995627,
          0.027231464,
          0.05801533,
          0.033370752,
          0.0809387,
          0.0626118,
          0.095014624,
          0.06312013,
          0.06661869,
          0.03498228,
          0.04311569,
          0.03788073,
          0.03691987,
          0.046946466,
          0.05489034,
          0.05965343,
          0.054208253,
          0.09529614,
          0.020150328,
          0.07789042,
          0.08468389,
          0.061249953,
          0.12043919,
          0.036579333,
          0.054934602,
          0.03983688,
          0.020184344,
          0.023225809,
          0.07788495,
          0.099637784,
          0.076128274,
          0.0457757,
          0.10692647,
          0.07322494
         ],
         "y0": " ",
         "yaxis": "y4"
        },
        {
         "alignmentgroup": "True",
         "boxpoints": "all",
         "hovertemplate": "Condition=Chance Distribution<br>Metric=Silhouette (PCA)<br>Score=%{y}<extra></extra>",
         "legendgroup": "Chance Distribution",
         "marker": {
          "color": "#7F7F7F"
         },
         "name": "Chance Distribution",
         "notched": false,
         "offsetgroup": "Chance Distribution",
         "orientation": "v",
         "showlegend": false,
         "type": "box",
         "x0": " ",
         "xaxis": "x5",
         "y": [
          0.0516031472080571,
          0.0855642880337166,
          0.1309061532358957,
          0.0593370775547034,
          0.0509143445039101,
          0.0396406532926746,
          0.1577173411391869,
          0.082472953126731,
          0.0448530958600314,
          0.0375842586847346,
          0.0813999912159923,
          0.0733676438290331,
          0.080959772163087,
          0.0307197752153622,
          0.0482018664595775,
          0.0641855534842527,
          0.0520567940135838,
          0.0329605712533093,
          0.0446045121413537,
          0.037836028338513,
          0.0723684030213934,
          0.0911360162347093,
          0.1333448848578461,
          0.0396093628956989,
          0.0667979184695486,
          0.0526921710848783,
          0.0589803050807128,
          0.0661649490906016,
          0.0308523063146968,
          0.062432390626275,
          0.0340383192187769,
          0.0940194440669694,
          0.0578105818078777,
          0.0633324626969455,
          0.0087830027460436,
          0.0635504146044316,
          0.0480548800957733,
          0.0639844018658098,
          0.1444846432333968,
          0.0438005788346739,
          0.0769207647352405,
          0.0427010295811002,
          0.0898343649557556,
          0.0833193065518366,
          0.1182738359492239,
          0.1115918743074162,
          0.0607432387210481,
          0.0313866227091188,
          0.1850433643484645,
          0.0569410789918596
         ],
         "y0": " ",
         "yaxis": "y5"
        },
        {
         "alignmentgroup": "True",
         "boxpoints": "all",
         "hovertemplate": "Condition=Chance Distribution<br>Metric=Silhouette (Lat. Dyn)<br>Score=%{y}<extra></extra>",
         "legendgroup": "Chance Distribution",
         "marker": {
          "color": "#7F7F7F"
         },
         "name": "Chance Distribution",
         "notched": false,
         "offsetgroup": "Chance Distribution",
         "orientation": "v",
         "showlegend": false,
         "type": "box",
         "x0": " ",
         "xaxis": "x6",
         "y": [
          0.0082582004700798,
          0.0276835404945453,
          0.0287137635046972,
          0.0233495051970996,
          0.0204287705882511,
          0.0144451327466059,
          0.0403747297051282,
          0.0263697955213302,
          0.0131375156737041,
          0.013922050831584,
          0.01973839606949,
          0.0177785900753164,
          0.0209697279044315,
          0.0196475308179831,
          0.0099863194784166,
          0.0169676098512149,
          0.0209949168250206,
          0.01207899838666,
          0.0100718938915995,
          0.0081950324388162,
          0.0132166881486921,
          0.0184146112410562,
          0.0307367023193022,
          0.0182298969124937,
          0.0161834751800122,
          0.018736931401492,
          0.0106720490811734,
          0.0221717841539894,
          0.0078978661362353,
          0.0083259278038457,
          0.0124807122362105,
          0.0240249398080512,
          0.0134713572205722,
          0.0143811111930006,
          0.0065750881052901,
          0.0135320373762269,
          0.016121546211794,
          0.0216398771669713,
          0.0454815260963979,
          0.0069569086926495,
          0.0217408749061861,
          0.00861547993307,
          0.0122705884374626,
          0.0265040793797814,
          0.0461459828682878,
          0.0338518999973102,
          0.0116117835536142,
          0.0147965927713991,
          0.0472584233108103,
          0.0272929820280637
         ],
         "y0": " ",
         "yaxis": "y6"
        },
        {
         "alignmentgroup": "True",
         "boxpoints": "all",
         "hovertemplate": "Condition=Chance Distribution<br>Metric=Calinski-Harabasz<br>Score=%{y}<extra></extra>",
         "legendgroup": "Chance Distribution",
         "marker": {
          "color": "#7F7F7F"
         },
         "name": "Chance Distribution",
         "notched": false,
         "offsetgroup": "Chance Distribution",
         "orientation": "v",
         "showlegend": false,
         "type": "box",
         "x0": " ",
         "xaxis": "x",
         "y": [
          0.8851887857948988,
          0.8454708699868088,
          0.9209060265657928,
          0.9077603087797528,
          0.927916752233702,
          1.4108381665552152,
          0.95978580286701,
          0.9793220076230388,
          0.8762188638507797,
          0.956414314965333,
          1.0115407130497922,
          1.0972303511480892,
          0.8374697024612421,
          0.9832905392390964,
          0.8714704494932497,
          0.8289802324722543,
          1.0622740243186442,
          0.7934868881507018,
          0.8513026990210424,
          0.8092010267030676,
          1.0658073662714092,
          1.1209828029452893,
          0.9452449071238352,
          0.9361861491323454,
          1.03052821236227,
          0.924532835466236,
          1.1242110552490854,
          0.9693372789898004,
          0.8262948723457435,
          1.0919249052510671,
          1.0629889023613968,
          1.0496165003234554,
          0.9933514247650166,
          1.0192606704638414,
          0.7287532118346415,
          0.9503283312297708,
          1.2059571405061014,
          1.0733885863593549,
          1.18294131275588,
          0.994885264108384,
          1.0768617513663925,
          1.0933839597461794,
          0.946395660620982,
          0.9675181879736172,
          0.9738594576614624,
          1.0418186716441262,
          0.9359478878124164,
          1.1558008410437155,
          1.125706949230376,
          1.2294721370647683
         ],
         "y0": " ",
         "yaxis": "y"
        },
        {
         "alignmentgroup": "True",
         "boxpoints": "all",
         "hovertemplate": "Condition=Chance Distribution<br>Metric=Davies-Bouldin<br>Score=%{y}<extra></extra>",
         "legendgroup": "Chance Distribution",
         "marker": {
          "color": "#7F7F7F"
         },
         "name": "Chance Distribution",
         "notched": false,
         "offsetgroup": "Chance Distribution",
         "orientation": "v",
         "showlegend": false,
         "type": "box",
         "x0": " ",
         "xaxis": "x2",
         "y": [
          9.347996662802862,
          9.106297635161754,
          9.561113897994971,
          9.336467870779712,
          9.909576972203372,
          7.916650744494021,
          8.855213742877735,
          8.900155248181488,
          9.442565523664577,
          8.718426827165075,
          9.424660174314536,
          8.947181711630133,
          10.12489324748688,
          9.25946177204774,
          9.679633965429153,
          9.558773582400006,
          8.668816505001256,
          9.792324773777832,
          9.893514872802818,
          9.636836813265338,
          8.474959638590107,
          8.477876988228125,
          9.576570564670972,
          9.379042889921646,
          8.993534690350739,
          8.92468877535892,
          8.479424788650926,
          9.527973657534565,
          9.433077690001497,
          8.494536922781734,
          8.396060369549048,
          9.61102519616739,
          9.281789141192077,
          8.878190143594725,
          10.100445226594047,
          9.727557658403883,
          8.250744046802247,
          8.731908895326061,
          8.341237734152394,
          9.654103077690028,
          9.343490624916328,
          8.481080022615085,
          8.918251211955155,
          8.881794738856769,
          9.114786905898193,
          9.165467862167654,
          9.57821320670067,
          8.870371684176966,
          8.784890197348943,
          8.686333947055681
         ],
         "y0": " ",
         "yaxis": "y2"
        }
       ],
       "layout": {
        "annotations": [
         {
          "font": {},
          "showarrow": false,
          "text": "Metric=Calinski-Harabasz",
          "x": 0.15999999999999998,
          "xanchor": "center",
          "xref": "paper",
          "y": 0.46499999999999997,
          "yanchor": "bottom",
          "yref": "paper"
         },
         {
          "font": {},
          "showarrow": false,
          "text": "Metric=Davies-Bouldin",
          "x": 0.49999999999999994,
          "xanchor": "center",
          "xref": "paper",
          "y": 0.46499999999999997,
          "yanchor": "bottom",
          "yref": "paper"
         },
         {
          "font": {},
          "showarrow": false,
          "text": "Metric=Silhouette (t-SNE)",
          "x": 0.15999999999999998,
          "xanchor": "center",
          "xref": "paper",
          "y": 0.9999999999999999,
          "yanchor": "bottom",
          "yref": "paper"
         },
         {
          "font": {},
          "showarrow": false,
          "text": "Metric=Silhouette (PCA)",
          "x": 0.49999999999999994,
          "xanchor": "center",
          "xref": "paper",
          "y": 0.9999999999999999,
          "yanchor": "bottom",
          "yref": "paper"
         },
         {
          "font": {},
          "showarrow": false,
          "text": "Metric=Silhouette (Lat. Dyn)",
          "x": 0.8399999999999999,
          "xanchor": "center",
          "xref": "paper",
          "y": 0.9999999999999999,
          "yanchor": "bottom",
          "yref": "paper"
         }
        ],
        "boxmode": "group",
        "font": {
         "family": "Arial",
         "size": 17
        },
        "height": 1000,
        "legend": {
         "orientation": "h",
         "title": {
          "text": ""
         },
         "tracegroupgap": 0,
         "x": 0.02,
         "xanchor": "left",
         "y": 0.98,
         "yanchor": "top"
        },
        "margin": {
         "t": 60
        },
        "plot_bgcolor": "white",
        "template": {
         "data": {
          "bar": [
           {
            "error_x": {
             "color": "#2a3f5f"
            },
            "error_y": {
             "color": "#2a3f5f"
            },
            "marker": {
             "line": {
              "color": "#E5ECF6",
              "width": 0.5
             },
             "pattern": {
              "fillmode": "overlay",
              "size": 10,
              "solidity": 0.2
             }
            },
            "type": "bar"
           }
          ],
          "barpolar": [
           {
            "marker": {
             "line": {
              "color": "#E5ECF6",
              "width": 0.5
             },
             "pattern": {
              "fillmode": "overlay",
              "size": 10,
              "solidity": 0.2
             }
            },
            "type": "barpolar"
           }
          ],
          "carpet": [
           {
            "aaxis": {
             "endlinecolor": "#2a3f5f",
             "gridcolor": "white",
             "linecolor": "white",
             "minorgridcolor": "white",
             "startlinecolor": "#2a3f5f"
            },
            "baxis": {
             "endlinecolor": "#2a3f5f",
             "gridcolor": "white",
             "linecolor": "white",
             "minorgridcolor": "white",
             "startlinecolor": "#2a3f5f"
            },
            "type": "carpet"
           }
          ],
          "choropleth": [
           {
            "colorbar": {
             "outlinewidth": 0,
             "ticks": ""
            },
            "type": "choropleth"
           }
          ],
          "contour": [
           {
            "colorbar": {
             "outlinewidth": 0,
             "ticks": ""
            },
            "colorscale": [
             [
              0,
              "#0d0887"
             ],
             [
              0.1111111111111111,
              "#46039f"
             ],
             [
              0.2222222222222222,
              "#7201a8"
             ],
             [
              0.3333333333333333,
              "#9c179e"
             ],
             [
              0.4444444444444444,
              "#bd3786"
             ],
             [
              0.5555555555555556,
              "#d8576b"
             ],
             [
              0.6666666666666666,
              "#ed7953"
             ],
             [
              0.7777777777777778,
              "#fb9f3a"
             ],
             [
              0.8888888888888888,
              "#fdca26"
             ],
             [
              1,
              "#f0f921"
             ]
            ],
            "type": "contour"
           }
          ],
          "contourcarpet": [
           {
            "colorbar": {
             "outlinewidth": 0,
             "ticks": ""
            },
            "type": "contourcarpet"
           }
          ],
          "heatmap": [
           {
            "colorbar": {
             "outlinewidth": 0,
             "ticks": ""
            },
            "colorscale": [
             [
              0,
              "#0d0887"
             ],
             [
              0.1111111111111111,
              "#46039f"
             ],
             [
              0.2222222222222222,
              "#7201a8"
             ],
             [
              0.3333333333333333,
              "#9c179e"
             ],
             [
              0.4444444444444444,
              "#bd3786"
             ],
             [
              0.5555555555555556,
              "#d8576b"
             ],
             [
              0.6666666666666666,
              "#ed7953"
             ],
             [
              0.7777777777777778,
              "#fb9f3a"
             ],
             [
              0.8888888888888888,
              "#fdca26"
             ],
             [
              1,
              "#f0f921"
             ]
            ],
            "type": "heatmap"
           }
          ],
          "heatmapgl": [
           {
            "colorbar": {
             "outlinewidth": 0,
             "ticks": ""
            },
            "colorscale": [
             [
              0,
              "#0d0887"
             ],
             [
              0.1111111111111111,
              "#46039f"
             ],
             [
              0.2222222222222222,
              "#7201a8"
             ],
             [
              0.3333333333333333,
              "#9c179e"
             ],
             [
              0.4444444444444444,
              "#bd3786"
             ],
             [
              0.5555555555555556,
              "#d8576b"
             ],
             [
              0.6666666666666666,
              "#ed7953"
             ],
             [
              0.7777777777777778,
              "#fb9f3a"
             ],
             [
              0.8888888888888888,
              "#fdca26"
             ],
             [
              1,
              "#f0f921"
             ]
            ],
            "type": "heatmapgl"
           }
          ],
          "histogram": [
           {
            "marker": {
             "pattern": {
              "fillmode": "overlay",
              "size": 10,
              "solidity": 0.2
             }
            },
            "type": "histogram"
           }
          ],
          "histogram2d": [
           {
            "colorbar": {
             "outlinewidth": 0,
             "ticks": ""
            },
            "colorscale": [
             [
              0,
              "#0d0887"
             ],
             [
              0.1111111111111111,
              "#46039f"
             ],
             [
              0.2222222222222222,
              "#7201a8"
             ],
             [
              0.3333333333333333,
              "#9c179e"
             ],
             [
              0.4444444444444444,
              "#bd3786"
             ],
             [
              0.5555555555555556,
              "#d8576b"
             ],
             [
              0.6666666666666666,
              "#ed7953"
             ],
             [
              0.7777777777777778,
              "#fb9f3a"
             ],
             [
              0.8888888888888888,
              "#fdca26"
             ],
             [
              1,
              "#f0f921"
             ]
            ],
            "type": "histogram2d"
           }
          ],
          "histogram2dcontour": [
           {
            "colorbar": {
             "outlinewidth": 0,
             "ticks": ""
            },
            "colorscale": [
             [
              0,
              "#0d0887"
             ],
             [
              0.1111111111111111,
              "#46039f"
             ],
             [
              0.2222222222222222,
              "#7201a8"
             ],
             [
              0.3333333333333333,
              "#9c179e"
             ],
             [
              0.4444444444444444,
              "#bd3786"
             ],
             [
              0.5555555555555556,
              "#d8576b"
             ],
             [
              0.6666666666666666,
              "#ed7953"
             ],
             [
              0.7777777777777778,
              "#fb9f3a"
             ],
             [
              0.8888888888888888,
              "#fdca26"
             ],
             [
              1,
              "#f0f921"
             ]
            ],
            "type": "histogram2dcontour"
           }
          ],
          "mesh3d": [
           {
            "colorbar": {
             "outlinewidth": 0,
             "ticks": ""
            },
            "type": "mesh3d"
           }
          ],
          "parcoords": [
           {
            "line": {
             "colorbar": {
              "outlinewidth": 0,
              "ticks": ""
             }
            },
            "type": "parcoords"
           }
          ],
          "pie": [
           {
            "automargin": true,
            "type": "pie"
           }
          ],
          "scatter": [
           {
            "fillpattern": {
             "fillmode": "overlay",
             "size": 10,
             "solidity": 0.2
            },
            "type": "scatter"
           }
          ],
          "scatter3d": [
           {
            "line": {
             "colorbar": {
              "outlinewidth": 0,
              "ticks": ""
             }
            },
            "marker": {
             "colorbar": {
              "outlinewidth": 0,
              "ticks": ""
             }
            },
            "type": "scatter3d"
           }
          ],
          "scattercarpet": [
           {
            "marker": {
             "colorbar": {
              "outlinewidth": 0,
              "ticks": ""
             }
            },
            "type": "scattercarpet"
           }
          ],
          "scattergeo": [
           {
            "marker": {
             "colorbar": {
              "outlinewidth": 0,
              "ticks": ""
             }
            },
            "type": "scattergeo"
           }
          ],
          "scattergl": [
           {
            "marker": {
             "colorbar": {
              "outlinewidth": 0,
              "ticks": ""
             }
            },
            "type": "scattergl"
           }
          ],
          "scattermapbox": [
           {
            "marker": {
             "colorbar": {
              "outlinewidth": 0,
              "ticks": ""
             }
            },
            "type": "scattermapbox"
           }
          ],
          "scatterpolar": [
           {
            "marker": {
             "colorbar": {
              "outlinewidth": 0,
              "ticks": ""
             }
            },
            "type": "scatterpolar"
           }
          ],
          "scatterpolargl": [
           {
            "marker": {
             "colorbar": {
              "outlinewidth": 0,
              "ticks": ""
             }
            },
            "type": "scatterpolargl"
           }
          ],
          "scatterternary": [
           {
            "marker": {
             "colorbar": {
              "outlinewidth": 0,
              "ticks": ""
             }
            },
            "type": "scatterternary"
           }
          ],
          "surface": [
           {
            "colorbar": {
             "outlinewidth": 0,
             "ticks": ""
            },
            "colorscale": [
             [
              0,
              "#0d0887"
             ],
             [
              0.1111111111111111,
              "#46039f"
             ],
             [
              0.2222222222222222,
              "#7201a8"
             ],
             [
              0.3333333333333333,
              "#9c179e"
             ],
             [
              0.4444444444444444,
              "#bd3786"
             ],
             [
              0.5555555555555556,
              "#d8576b"
             ],
             [
              0.6666666666666666,
              "#ed7953"
             ],
             [
              0.7777777777777778,
              "#fb9f3a"
             ],
             [
              0.8888888888888888,
              "#fdca26"
             ],
             [
              1,
              "#f0f921"
             ]
            ],
            "type": "surface"
           }
          ],
          "table": [
           {
            "cells": {
             "fill": {
              "color": "#EBF0F8"
             },
             "line": {
              "color": "white"
             }
            },
            "header": {
             "fill": {
              "color": "#C8D4E3"
             },
             "line": {
              "color": "white"
             }
            },
            "type": "table"
           }
          ]
         },
         "layout": {
          "annotationdefaults": {
           "arrowcolor": "#2a3f5f",
           "arrowhead": 0,
           "arrowwidth": 1
          },
          "autotypenumbers": "strict",
          "coloraxis": {
           "colorbar": {
            "outlinewidth": 0,
            "ticks": ""
           }
          },
          "colorscale": {
           "diverging": [
            [
             0,
             "#8e0152"
            ],
            [
             0.1,
             "#c51b7d"
            ],
            [
             0.2,
             "#de77ae"
            ],
            [
             0.3,
             "#f1b6da"
            ],
            [
             0.4,
             "#fde0ef"
            ],
            [
             0.5,
             "#f7f7f7"
            ],
            [
             0.6,
             "#e6f5d0"
            ],
            [
             0.7,
             "#b8e186"
            ],
            [
             0.8,
             "#7fbc41"
            ],
            [
             0.9,
             "#4d9221"
            ],
            [
             1,
             "#276419"
            ]
           ],
           "sequential": [
            [
             0,
             "#0d0887"
            ],
            [
             0.1111111111111111,
             "#46039f"
            ],
            [
             0.2222222222222222,
             "#7201a8"
            ],
            [
             0.3333333333333333,
             "#9c179e"
            ],
            [
             0.4444444444444444,
             "#bd3786"
            ],
            [
             0.5555555555555556,
             "#d8576b"
            ],
            [
             0.6666666666666666,
             "#ed7953"
            ],
            [
             0.7777777777777778,
             "#fb9f3a"
            ],
            [
             0.8888888888888888,
             "#fdca26"
            ],
            [
             1,
             "#f0f921"
            ]
           ],
           "sequentialminus": [
            [
             0,
             "#0d0887"
            ],
            [
             0.1111111111111111,
             "#46039f"
            ],
            [
             0.2222222222222222,
             "#7201a8"
            ],
            [
             0.3333333333333333,
             "#9c179e"
            ],
            [
             0.4444444444444444,
             "#bd3786"
            ],
            [
             0.5555555555555556,
             "#d8576b"
            ],
            [
             0.6666666666666666,
             "#ed7953"
            ],
            [
             0.7777777777777778,
             "#fb9f3a"
            ],
            [
             0.8888888888888888,
             "#fdca26"
            ],
            [
             1,
             "#f0f921"
            ]
           ]
          },
          "colorway": [
           "#636efa",
           "#EF553B",
           "#00cc96",
           "#ab63fa",
           "#FFA15A",
           "#19d3f3",
           "#FF6692",
           "#B6E880",
           "#FF97FF",
           "#FECB52"
          ],
          "font": {
           "color": "#2a3f5f"
          },
          "geo": {
           "bgcolor": "white",
           "lakecolor": "white",
           "landcolor": "#E5ECF6",
           "showlakes": true,
           "showland": true,
           "subunitcolor": "white"
          },
          "hoverlabel": {
           "align": "left"
          },
          "hovermode": "closest",
          "mapbox": {
           "style": "light"
          },
          "paper_bgcolor": "white",
          "plot_bgcolor": "#E5ECF6",
          "polar": {
           "angularaxis": {
            "gridcolor": "white",
            "linecolor": "white",
            "ticks": ""
           },
           "bgcolor": "#E5ECF6",
           "radialaxis": {
            "gridcolor": "white",
            "linecolor": "white",
            "ticks": ""
           }
          },
          "scene": {
           "xaxis": {
            "backgroundcolor": "#E5ECF6",
            "gridcolor": "white",
            "gridwidth": 2,
            "linecolor": "white",
            "showbackground": true,
            "ticks": "",
            "zerolinecolor": "white"
           },
           "yaxis": {
            "backgroundcolor": "#E5ECF6",
            "gridcolor": "white",
            "gridwidth": 2,
            "linecolor": "white",
            "showbackground": true,
            "ticks": "",
            "zerolinecolor": "white"
           },
           "zaxis": {
            "backgroundcolor": "#E5ECF6",
            "gridcolor": "white",
            "gridwidth": 2,
            "linecolor": "white",
            "showbackground": true,
            "ticks": "",
            "zerolinecolor": "white"
           }
          },
          "shapedefaults": {
           "line": {
            "color": "#2a3f5f"
           }
          },
          "ternary": {
           "aaxis": {
            "gridcolor": "white",
            "linecolor": "white",
            "ticks": ""
           },
           "baxis": {
            "gridcolor": "white",
            "linecolor": "white",
            "ticks": ""
           },
           "bgcolor": "#E5ECF6",
           "caxis": {
            "gridcolor": "white",
            "linecolor": "white",
            "ticks": ""
           }
          },
          "title": {
           "x": 0.05
          },
          "xaxis": {
           "automargin": true,
           "gridcolor": "white",
           "linecolor": "white",
           "ticks": "",
           "title": {
            "standoff": 15
           },
           "zerolinecolor": "white",
           "zerolinewidth": 2
          },
          "yaxis": {
           "automargin": true,
           "gridcolor": "white",
           "linecolor": "white",
           "ticks": "",
           "title": {
            "standoff": 15
           },
           "zerolinecolor": "white",
           "zerolinewidth": 2
          }
         }
        },
        "width": 1800,
        "xaxis": {
         "anchor": "y",
         "domain": [
          0,
          0.31999999999999995
         ],
         "linecolor": "black",
         "mirror": false,
         "showgrid": false,
         "showline": true,
         "ticks": "outside",
         "title": {
          "text": ""
         }
        },
        "xaxis2": {
         "anchor": "y2",
         "domain": [
          0.33999999999999997,
          0.6599999999999999
         ],
         "linecolor": "black",
         "matches": "x",
         "mirror": false,
         "showgrid": false,
         "showline": true,
         "ticks": "outside",
         "title": {
          "text": ""
         }
        },
        "xaxis3": {
         "anchor": "y3",
         "domain": [
          0.6799999999999999,
          0.9999999999999999
         ],
         "linecolor": "black",
         "matches": "x",
         "mirror": false,
         "showgrid": false,
         "showline": true,
         "ticks": "outside",
         "title": {
          "text": ""
         }
        },
        "xaxis4": {
         "anchor": "y4",
         "domain": [
          0,
          0.31999999999999995
         ],
         "linecolor": "black",
         "matches": "x",
         "mirror": false,
         "showgrid": false,
         "showline": true,
         "showticklabels": false,
         "ticks": "outside",
         "title": {
          "text": ""
         }
        },
        "xaxis5": {
         "anchor": "y5",
         "domain": [
          0.33999999999999997,
          0.6599999999999999
         ],
         "linecolor": "black",
         "matches": "x",
         "mirror": false,
         "showgrid": false,
         "showline": true,
         "showticklabels": false,
         "ticks": "outside",
         "title": {
          "text": ""
         }
        },
        "xaxis6": {
         "anchor": "y6",
         "domain": [
          0.6799999999999999,
          0.9999999999999999
         ],
         "linecolor": "black",
         "matches": "x",
         "mirror": false,
         "showgrid": false,
         "showline": true,
         "showticklabels": false,
         "ticks": "outside",
         "title": {
          "text": ""
         }
        },
        "yaxis": {
         "anchor": "x",
         "domain": [
          0,
          0.46499999999999997
         ],
         "linecolor": "black",
         "mirror": false,
         "showgrid": false,
         "showline": true,
         "ticks": "outside",
         "title": {
          "text": "Score"
         }
        },
        "yaxis2": {
         "anchor": "x2",
         "domain": [
          0,
          0.46499999999999997
         ],
         "linecolor": "black",
         "matches": "y",
         "mirror": false,
         "showgrid": false,
         "showline": true,
         "showticklabels": false,
         "ticks": "outside"
        },
        "yaxis3": {
         "anchor": "x3",
         "domain": [
          0,
          0.46499999999999997
         ],
         "linecolor": "black",
         "matches": "y",
         "mirror": false,
         "showgrid": false,
         "showline": true,
         "showticklabels": false,
         "ticks": "outside"
        },
        "yaxis4": {
         "anchor": "x4",
         "domain": [
          0.5349999999999999,
          0.9999999999999999
         ],
         "linecolor": "black",
         "matches": "y",
         "mirror": false,
         "showgrid": false,
         "showline": true,
         "ticks": "outside",
         "title": {
          "text": "Score"
         }
        },
        "yaxis5": {
         "anchor": "x5",
         "domain": [
          0.5349999999999999,
          0.9999999999999999
         ],
         "linecolor": "black",
         "matches": "y",
         "mirror": false,
         "showgrid": false,
         "showline": true,
         "showticklabels": false,
         "ticks": "outside"
        },
        "yaxis6": {
         "anchor": "x6",
         "domain": [
          0.5349999999999999,
          0.9999999999999999
         ],
         "linecolor": "black",
         "matches": "y",
         "mirror": false,
         "showgrid": false,
         "showline": true,
         "showticklabels": false,
         "ticks": "outside"
        }
       }
      }
     },
     "metadata": {},
     "output_type": "display_data"
    }
   ],
   "source": [
    "fig = px.box(score_df_long, color='Condition', y=\"Score\", facet_col='Metric', facet_col_wrap=3, points='all', width=1800, height=1000, color_discrete_sequence=[px_colors[0], '#7F7F7F'])\n",
    "fig.update_layout(\n",
    "    plot_bgcolor='white',\n",
    "    legend=dict(\n",
    "        orientation='h',\n",
    "        yanchor='top',\n",
    "        y=0.98,\n",
    "        xanchor='left',\n",
    "        x=0.02,\n",
    "        title_text=''\n",
    "    ),\n",
    "    font=dict(size=17, family='Arial')\n",
    ")\n",
    "fig.update_xaxes(\n",
    "    title='',\n",
    "    mirror=False,\n",
    "    ticks='outside',\n",
    "    showline=True,\n",
    "    linecolor='black',\n",
    "    showgrid=False,\n",
    ")\n",
    "fig.update_yaxes(\n",
    "    # title='Davies-Bouldin Score',\n",
    "    mirror=False,\n",
    "    ticks='outside',\n",
    "    showline=True,\n",
    "    linecolor='black',\n",
    "    showgrid=False,\n",
    "    # range=[-0.01, 0.45],\n",
    ")\n",
    "\n",
    "fig.show()"
   ]
  },
  {
   "cell_type": "code",
   "execution_count": 69,
   "metadata": {},
   "outputs": [
    {
     "name": "stdout",
     "output_type": "stream",
     "text": [
      "Silhouette (t-SNE): Uncorrected = 7.066071930388932e-18\n",
      "Silhouette (PCA): Uncorrected = 4.214985268084553e-32\n",
      "Silhouette (Lat. Dyn): Uncorrected = 4.588301889176149e-25\n",
      "Calinski-Harabasz: Uncorrected = 8.859863168660568e-81\n",
      "Davies-Bouldin: Uncorrected = 1.0661205811460373e-50\n",
      "[ True  True  True  True  True]\n",
      "Silhouette (t-SNE): FDR-corrected = 7.066071930388932e-18\n",
      "Silhouette (PCA): FDR-corrected = 7.024975446807588e-32\n",
      "Silhouette (Lat. Dyn): FDR-corrected = 5.7353773614701855e-25\n",
      "Calinski-Harabasz: FDR-corrected = 4.429931584330284e-80\n",
      "Davies-Bouldin: FDR-corrected = 2.665301452865093e-50\n"
     ]
    }
   ],
   "source": [
    "pvals = []\n",
    "for score_type in score_df_long['Metric'].unique():\n",
    "    ps_chance = score_df_long[(score_df_long['Condition'] == 'Chance Distribution') & (score_df_long['Metric'] == score_type)]['Score'].values\n",
    "    if score_type == 'Silhouette (t-SNE)':\n",
    "        ps_artic = score_df_long[(score_df_long['Condition'] == 'Articulatory Features') & (score_df_long['Metric'] == score_type)]['Score'].values\n",
    "        res_ps = stats.mannwhitneyu(ps_artic, ps_chance, alternative='two-sided')\n",
    "    else:\n",
    "        ps_artic = score_df_long[(score_df_long['Condition'] == 'Articulatory Features') & (score_df_long['Metric'] == score_type)]['Score'].values[0]\n",
    "        res_ps = stats.ttest_1samp(ps_chance, ps_artic)\n",
    "    pvals.append(res_ps.pvalue)\n",
    "    print(f'{score_type}: Uncorrected = {res_ps.pvalue}')\n",
    "\n",
    "pvals_pass, pvals_corr = fdrcorrection(pvals)\n",
    "print(pvals_pass)\n",
    "for score_type, pval in zip(score_df_long['Metric'].unique(), pvals_corr):\n",
    "    print(f'{score_type}: FDR-corrected = {pval}')\n"
   ]
  }
 ],
 "metadata": {
  "kernelspec": {
   "display_name": "micro_decode",
   "language": "python",
   "name": "python3"
  },
  "language_info": {
   "codemirror_mode": {
    "name": "ipython",
    "version": 3
   },
   "file_extension": ".py",
   "mimetype": "text/x-python",
   "name": "python",
   "nbconvert_exporter": "python",
   "pygments_lexer": "ipython3",
   "version": "3.11.5"
  }
 },
 "nbformat": 4,
 "nbformat_minor": 2
}
