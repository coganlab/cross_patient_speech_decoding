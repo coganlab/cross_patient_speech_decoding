{
 "cells": [
  {
   "cell_type": "markdown",
   "metadata": {},
   "source": [
    "# Imports"
   ]
  },
  {
   "cell_type": "code",
   "execution_count": 1,
   "metadata": {},
   "outputs": [],
   "source": [
    "import sys\n",
    "sys.path.append('../..')"
   ]
  },
  {
   "cell_type": "code",
   "execution_count": 2,
   "metadata": {},
   "outputs": [],
   "source": [
    "# analysis\n",
    "import numpy as np\n",
    "import pandas as pd\n",
    "import scipy.io as sio\n",
    "import scipy.stats as stats\n",
    "from sklearn.decomposition import PCA\n",
    "from sklearn.metrics import confusion_matrix\n",
    "from tqdm import tqdm\n",
    "from statsmodels.stats.multitest import fdrcorrection\n",
    "import h5py\n",
    "\n",
    "# plotting\n",
    "import matplotlib.pyplot as plt\n",
    "import matplotlib as mpl\n",
    "import seaborn as sns\n",
    "import plotly.express as px\n",
    "\n",
    "# local\n",
    "import alignment.alignment_utils as utils\n",
    "from alignment.AlignCCA import AlignCCA\n",
    "from processing_utils.poisson_disk_sampling import pitch_subsample_sig_channels\n",
    "from processing_utils.grid_subsampling import grid_subsample_sig_channels\n",
    "from processing_utils.spatial_avg_subsampling import spatial_avg_sig_channels, spatial_avg_data\n",
    "\n",
    "%matplotlib inline"
   ]
  },
  {
   "cell_type": "code",
   "execution_count": 3,
   "metadata": {},
   "outputs": [],
   "source": [
    "def mean_stat(a, b, axis=0):\n",
    "    return np.mean(a, axis=axis) - np.mean(b, axis=axis)"
   ]
  },
  {
   "cell_type": "markdown",
   "metadata": {},
   "source": [
    "# Data Loading"
   ]
  },
  {
   "cell_type": "code",
   "execution_count": 4,
   "metadata": {},
   "outputs": [],
   "source": [
    "DECODE_PATH = '../../data/results/decoding/'"
   ]
  },
  {
   "cell_type": "markdown",
   "metadata": {},
   "source": [
    "### Real data"
   ]
  },
  {
   "cell_type": "code",
   "execution_count": 5,
   "metadata": {},
   "outputs": [],
   "source": [
    "paper_pt_dict = {'S14': 'S1', 'S26': 'S2', 'S33': 'S3', 'S22': 'S4', 'S23': 'S5', 'S39': 'S6', 'S58': 'S7', 'S62': 'S8'}"
   ]
  },
  {
   "cell_type": "code",
   "execution_count": 6,
   "metadata": {},
   "outputs": [],
   "source": [
    "DATA_PATH = '../../data/'\n",
    "data_filename = DATA_PATH + 'pt_decoding_data_S62.pkl'\n",
    "savg_filename = DATA_PATH + 'pt_savg_data_S62.pkl'"
   ]
  },
  {
   "cell_type": "code",
   "execution_count": 7,
   "metadata": {},
   "outputs": [],
   "source": [
    "all_pt_dict = utils.load_pkl(data_filename)\n",
    "savg_pt_dict = utils.load_pkl(savg_filename)\n",
    "pt_names = list(all_pt_dict.keys())"
   ]
  },
  {
   "cell_type": "code",
   "execution_count": 8,
   "metadata": {},
   "outputs": [
    {
     "name": "stdout",
     "output_type": "stream",
     "text": [
      "['S14', 'S26', 'S23', 'S33', 'S22', 'S39', 'S58', 'S62']\n",
      "dict_keys(['ID', 'X1', 'X1_map', 'y1', 'X2', 'X2_map', 'y2', 'X3', 'X3_map', 'y3', 'y_full_phon', 'X_collapsed', 'y_phon_collapsed', 'y_artic_collapsed', 'pre_pts'])\n",
      "dict_keys(['X1', 'y1', 'X2', 'y2', 'X3', 'y3', 'y_full_phon', 'X_collapsed', 'y_phon_collapsed', 'y_artic_collapsed', 'pre_pts'])\n"
     ]
    }
   ],
   "source": [
    "print(pt_names)\n",
    "print(all_pt_dict[pt_names[0]].keys())\n",
    "print(savg_pt_dict[pt_names[0]].keys())\n",
    "# print([all_pt_dict[pt]['X1'].shape for pt in pt_names])"
   ]
  },
  {
   "cell_type": "code",
   "execution_count": 9,
   "metadata": {},
   "outputs": [],
   "source": [
    "all_pt_chan_data = {}\n",
    "for pt in pt_names:\n",
    "    temp = {}\n",
    "    temp['map'] = sio.loadmat(DATA_PATH + f'{pt}/{pt}_channelMap.mat'.format(pt))['chanMap']\n",
    "    # if pt == 'S58':\n",
    "    #     temp['sig'] = sio.loadmat(DATA_PATH + f'{pt}/{pt}_sigChannel.mat'.format(pt))['sigChannel'] - 2 # this is so weird\n",
    "    # else:\n",
    "    temp['sig'] = sio.loadmat(DATA_PATH + f'{pt}/{pt}_sigChannel.mat'.format(pt))['sigChannel'] - 1\n",
    "    all_pt_chan_data[pt] = temp"
   ]
  },
  {
   "cell_type": "markdown",
   "metadata": {},
   "source": [
    "## Phoneme label processing functions"
   ]
  },
  {
   "cell_type": "code",
   "execution_count": 10,
   "metadata": {},
   "outputs": [],
   "source": [
    "phon_labels = np.array(['a', 'ae', 'i', 'u', 'b', 'p', 'v', 'g', 'k'])\n",
    "artic_labels = np.array(['low', 'high', 'labial', 'dorsal'])\n",
    "phon_to_artic_dict = {1:1, 2:1, 3:2, 4:2, 5:3, 6:3, 7:3, 8:4, 9:4}"
   ]
  },
  {
   "cell_type": "code",
   "execution_count": 11,
   "metadata": {},
   "outputs": [],
   "source": [
    "def phon_to_artic(phon_idx, phon_to_artic_conv):\n",
    "    return phon_to_artic_conv[phon_idx]\n",
    "\n",
    "def phon_to_artic_seq(phon_seq, phon_to_artic_conv):\n",
    "    flat_seq = phon_seq.flatten()\n",
    "    artic_conv = np.array([phon_to_artic(phon_idx, phon_to_artic_conv) for phon_idx in flat_seq])\n",
    "    return np.reshape(artic_conv, phon_seq.shape)\n",
    "\n",
    "def phon2artic(phon):\n",
    "    return artic_labels[phon_to_artic_dict[int(phon)] - 1]\n",
    "\n",
    "def phon2artic_seq(phon_seq):\n",
    "    return '_'.join([phon2artic(phon) for phon in phon_seq])\n",
    "\n",
    "def labels2cv_seq(labels):\n",
    "    labels_str = []\n",
    "    for lab in labels:\n",
    "        labels_str.append(labels2cv(lab))\n",
    "    return np.array(labels_str)\n",
    "\n",
    "def labels2cv(str):\n",
    "    middle_val = str[1]\n",
    "    if int(middle_val) < 5:\n",
    "        return 'CVC'\n",
    "    else:\n",
    "        return 'VCV'\n",
    "\n",
    "def articic_nums2seq(artic_num_seqs):\n",
    "    return np.array([artic_labels[artic_num-1] for artic_num in artic_num_seqs])"
   ]
  },
  {
   "cell_type": "markdown",
   "metadata": {},
   "source": [
    "## Data Processing"
   ]
  },
  {
   "cell_type": "code",
   "execution_count": 12,
   "metadata": {},
   "outputs": [],
   "source": [
    "p_ind = 1\n",
    "\n",
    "all_pt_traces = {}\n",
    "all_pt_phon_labels = {}\n",
    "all_pt_phon_seqs = {}\n",
    "all_pt_phon_seqs_str = {}\n",
    "all_pt_artic_labels = {}\n",
    "all_pt_artic_seqs = {}\n",
    "all_pt_artic_seqs_str = {}\n",
    "all_pt_cv_labels = {}\n",
    "for pt in pt_names:\n",
    "    pt_trace = all_pt_dict[pt][f'X{p_ind}']  ### (trials, time, channels)    \n",
    "    pt_phon_labels = all_pt_dict[pt][f'y{p_ind}']\n",
    "    pt_phon_seqs = all_pt_dict[pt]['y_full_phon']\n",
    "    pt_phon_seqs_str = utils.label_seq2str(pt_phon_seqs)\n",
    "    pt_artic_labels = phon_to_artic_seq(pt_phon_labels, phon_to_artic_dict)\n",
    "    pt_artic_seqs = phon_to_artic_seq(pt_phon_seqs, phon_to_artic_dict)\n",
    "    pt_artic_seqs_str = utils.label_seq2str(pt_artic_seqs)\n",
    "    pt_cv_labels = labels2cv_seq(pt_phon_seqs)\n",
    "\n",
    "    all_pt_traces[pt] = pt_trace\n",
    "    all_pt_phon_labels[pt] = pt_phon_labels\n",
    "    all_pt_phon_seqs[pt] = pt_phon_seqs\n",
    "    all_pt_phon_seqs_str[pt] = pt_phon_seqs_str\n",
    "    all_pt_artic_labels[pt] = pt_artic_labels\n",
    "    all_pt_artic_seqs[pt] = pt_artic_seqs\n",
    "    all_pt_artic_seqs_str[pt] = pt_artic_seqs_str\n",
    "    all_pt_cv_labels[pt] = pt_cv_labels"
   ]
  },
  {
   "cell_type": "markdown",
   "metadata": {},
   "source": [
    "Separate processing for separate spatial averaging data"
   ]
  },
  {
   "cell_type": "code",
   "execution_count": 13,
   "metadata": {},
   "outputs": [],
   "source": [
    "p_ind = 1\n",
    "contactSizes = ['8x8', '7x7', '6x6', '5x5', '4x4', '3x3', '2x2', '1x1']\n",
    "\n",
    "all_savg_traces = {}\n",
    "all_savg_phon_labels = {}\n",
    "all_savg_phon_seqs = {}\n",
    "all_savg_phon_seqs_str = {}\n",
    "all_savg_artic_labels = {}\n",
    "all_savg_artic_seqs = {}\n",
    "all_savg_artic_seqs_str = {}\n",
    "all_savg_cv_labels = {}\n",
    "for pt in pt_names:\n",
    "    savg_trace_dict = {}\n",
    "    for cs in contactSizes:\n",
    "        savg_trace_dict[cs] = savg_pt_dict[pt][f'X{p_ind}'][cs]  ### (trials, time, channels)\n",
    "    \n",
    "    pt_phon_labels = savg_pt_dict[pt][f'y{p_ind}']\n",
    "    pt_phon_seqs = savg_pt_dict[pt]['y_full_phon']\n",
    "    pt_phon_seqs_str = utils.label_seq2str(pt_phon_seqs)\n",
    "    pt_artic_labels = phon_to_artic_seq(pt_phon_labels, phon_to_artic_dict)\n",
    "    pt_artic_seqs = phon_to_artic_seq(pt_phon_seqs, phon_to_artic_dict)\n",
    "    pt_artic_seqs_str = utils.label_seq2str(pt_artic_seqs)\n",
    "    pt_cv_labels = labels2cv_seq(pt_phon_seqs)\n",
    "\n",
    "    all_savg_traces[pt] = savg_trace_dict\n",
    "    all_savg_phon_labels[pt] = pt_phon_labels\n",
    "    all_savg_phon_seqs[pt] = pt_phon_seqs\n",
    "    all_savg_phon_seqs_str[pt] = pt_phon_seqs_str\n",
    "    all_savg_artic_labels[pt] = pt_artic_labels\n",
    "    all_savg_artic_seqs[pt] = pt_artic_seqs\n",
    "    all_savg_artic_seqs_str[pt] = pt_artic_seqs_str\n",
    "    all_savg_cv_labels[pt] = pt_cv_labels\n",
    "\n"
   ]
  },
  {
   "cell_type": "code",
   "execution_count": 14,
   "metadata": {},
   "outputs": [],
   "source": [
    "n_time = all_pt_traces['S14'].shape[1]\n",
    "t = np.linspace(-0.5, 0.5 - 1/n_time, n_time)"
   ]
  },
  {
   "cell_type": "markdown",
   "metadata": {},
   "source": [
    "# Data Visualization"
   ]
  },
  {
   "cell_type": "markdown",
   "metadata": {},
   "source": [
    "### Utils"
   ]
  },
  {
   "cell_type": "code",
   "execution_count": 15,
   "metadata": {},
   "outputs": [],
   "source": [
    "px_colors = px.colors.qualitative.Plotly"
   ]
  },
  {
   "cell_type": "code",
   "execution_count": 16,
   "metadata": {},
   "outputs": [],
   "source": [
    "sns.set_theme(font='Arial', font_scale=1.2, style='white', palette=px_colors)\n",
    "sns.set_style(rc={\n",
    "    # 'axes.edgecolor': 'gray',\n",
    "    'axes.linewidth': 0.5,\n",
    "    'xtick.bottom': True,\n",
    "    'ytick.left': True,\n",
    "    })"
   ]
  },
  {
   "cell_type": "code",
   "execution_count": 17,
   "metadata": {},
   "outputs": [],
   "source": [
    "from matplotlib.colors import LinearSegmentedColormap\n",
    "\n",
    "parula_data = cm_data = [[0.2422, 0.1504, 0.6603],\n",
    "[0.2444, 0.1534, 0.6728],\n",
    "[0.2464, 0.1569, 0.6847],\n",
    "[0.2484, 0.1607, 0.6961],\n",
    "[0.2503, 0.1648, 0.7071],\n",
    "[0.2522, 0.1689, 0.7179],\n",
    "[0.254, 0.1732, 0.7286],\n",
    "[0.2558, 0.1773, 0.7393],\n",
    "[0.2576, 0.1814, 0.7501],\n",
    "[0.2594, 0.1854, 0.761],\n",
    "[0.2611, 0.1893, 0.7719],\n",
    "[0.2628, 0.1932, 0.7828],\n",
    "[0.2645, 0.1972, 0.7937],\n",
    "[0.2661, 0.2011, 0.8043],\n",
    "[0.2676, 0.2052, 0.8148],\n",
    "[0.2691, 0.2094, 0.8249],\n",
    "[0.2704, 0.2138, 0.8346],\n",
    "[0.2717, 0.2184, 0.8439],\n",
    "[0.2729, 0.2231, 0.8528],\n",
    "[0.274, 0.228, 0.8612],\n",
    "[0.2749, 0.233, 0.8692],\n",
    "[0.2758, 0.2382, 0.8767],\n",
    "[0.2766, 0.2435, 0.884],\n",
    "[0.2774, 0.2489, 0.8908],\n",
    "[0.2781, 0.2543, 0.8973],\n",
    "[0.2788, 0.2598, 0.9035],\n",
    "[0.2794, 0.2653, 0.9094],\n",
    "[0.2798, 0.2708, 0.915],\n",
    "[0.2802, 0.2764, 0.9204],\n",
    "[0.2806, 0.2819, 0.9255],\n",
    "[0.2809, 0.2875, 0.9305],\n",
    "[0.2811, 0.293, 0.9352],\n",
    "[0.2813, 0.2985, 0.9397],\n",
    "[0.2814, 0.304, 0.9441],\n",
    "[0.2814, 0.3095, 0.9483],\n",
    "[0.2813, 0.315, 0.9524],\n",
    "[0.2811, 0.3204, 0.9563],\n",
    "[0.2809, 0.3259, 0.96],\n",
    "[0.2807, 0.3313, 0.9636],\n",
    "[0.2803, 0.3367, 0.967],\n",
    "[0.2798, 0.3421, 0.9702],\n",
    "[0.2791, 0.3475, 0.9733],\n",
    "[0.2784, 0.3529, 0.9763],\n",
    "[0.2776, 0.3583, 0.9791],\n",
    "[0.2766, 0.3638, 0.9817],\n",
    "[0.2754, 0.3693, 0.984],\n",
    "[0.2741, 0.3748, 0.9862],\n",
    "[0.2726, 0.3804, 0.9881],\n",
    "[0.271, 0.386, 0.9898],\n",
    "[0.2691, 0.3916, 0.9912],\n",
    "[0.267, 0.3973, 0.9924],\n",
    "[0.2647, 0.403, 0.9935],\n",
    "[0.2621, 0.4088, 0.9946],\n",
    "[0.2591, 0.4145, 0.9955],\n",
    "[0.2556, 0.4203, 0.9965],\n",
    "[0.2517, 0.4261, 0.9974],\n",
    "[0.2473, 0.4319, 0.9983],\n",
    "[0.2424, 0.4378, 0.9991],\n",
    "[0.2369, 0.4437, 0.9996],\n",
    "[0.2311, 0.4497, 0.9995],\n",
    "[0.225, 0.4559, 0.9985],\n",
    "[0.2189, 0.462, 0.9968],\n",
    "[0.2128, 0.4682, 0.9948],\n",
    "[0.2066, 0.4743, 0.9926],\n",
    "[0.2006, 0.4803, 0.9906],\n",
    "[0.195, 0.4861, 0.9887],\n",
    "[0.1903, 0.4919, 0.9867],\n",
    "[0.1869, 0.4975, 0.9844],\n",
    "[0.1847, 0.503, 0.9819],\n",
    "[0.1831, 0.5084, 0.9793],\n",
    "[0.1818, 0.5138, 0.9766],\n",
    "[0.1806, 0.5191, 0.9738],\n",
    "[0.1795, 0.5244, 0.9709],\n",
    "[0.1785, 0.5296, 0.9677],\n",
    "[0.1778, 0.5349, 0.9641],\n",
    "[0.1773, 0.5401, 0.9602],\n",
    "[0.1768, 0.5452, 0.956],\n",
    "[0.1764, 0.5504, 0.9516],\n",
    "[0.1755, 0.5554, 0.9473],\n",
    "[0.174, 0.5605, 0.9432],\n",
    "[0.1716, 0.5655, 0.9393],\n",
    "[0.1686, 0.5705, 0.9357],\n",
    "[0.1649, 0.5755, 0.9323],\n",
    "[0.161, 0.5805, 0.9289],\n",
    "[0.1573, 0.5854, 0.9254],\n",
    "[0.154, 0.5902, 0.9218],\n",
    "[0.1513, 0.595, 0.9182],\n",
    "[0.1492, 0.5997, 0.9147],\n",
    "[0.1475, 0.6043, 0.9113],\n",
    "[0.1461, 0.6089, 0.908],\n",
    "[0.1446, 0.6135, 0.905],\n",
    "[0.1429, 0.618, 0.9022],\n",
    "[0.1408, 0.6226, 0.8998],\n",
    "[0.1383, 0.6272, 0.8975],\n",
    "[0.1354, 0.6317, 0.8953],\n",
    "[0.1321, 0.6363, 0.8932],\n",
    "[0.1288, 0.6408, 0.891],\n",
    "[0.1253, 0.6453, 0.8887],\n",
    "[0.1219, 0.6497, 0.8862],\n",
    "[0.1185, 0.6541, 0.8834],\n",
    "[0.1152, 0.6584, 0.8804],\n",
    "[0.1119, 0.6627, 0.877],\n",
    "[0.1085, 0.6669, 0.8734],\n",
    "[0.1048, 0.671, 0.8695],\n",
    "[0.1009, 0.675, 0.8653],\n",
    "[0.0964, 0.6789, 0.8609],\n",
    "[0.0914, 0.6828, 0.8562],\n",
    "[0.0855, 0.6865, 0.8513],\n",
    "[0.0789, 0.6902, 0.8462],\n",
    "[0.0713, 0.6938, 0.8409],\n",
    "[0.0628, 0.6972, 0.8355],\n",
    "[0.0535, 0.7006, 0.8299],\n",
    "[0.0433, 0.7039, 0.8242],\n",
    "[0.0328, 0.7071, 0.8183],\n",
    "[0.0234, 0.7103, 0.8124],\n",
    "[0.0155, 0.7133, 0.8064],\n",
    "[0.0091, 0.7163, 0.8003],\n",
    "[0.0046, 0.7192, 0.7941],\n",
    "[0.0019, 0.722, 0.7878],\n",
    "[0.0009, 0.7248, 0.7815],\n",
    "[0.0018, 0.7275, 0.7752],\n",
    "[0.0046, 0.7301, 0.7688],\n",
    "[0.0094, 0.7327, 0.7623],\n",
    "[0.0162, 0.7352, 0.7558],\n",
    "[0.0253, 0.7376, 0.7492],\n",
    "[0.0369, 0.74, 0.7426],\n",
    "[0.0504, 0.7423, 0.7359],\n",
    "[0.0638, 0.7446, 0.7292],\n",
    "[0.077, 0.7468, 0.7224],\n",
    "[0.0899, 0.7489, 0.7156],\n",
    "[0.1023, 0.751, 0.7088],\n",
    "[0.1141, 0.7531, 0.7019],\n",
    "[0.1252, 0.7552, 0.695],\n",
    "[0.1354, 0.7572, 0.6881],\n",
    "[0.1448, 0.7593, 0.6812],\n",
    "[0.1532, 0.7614, 0.6741],\n",
    "[0.1609, 0.7635, 0.6671],\n",
    "[0.1678, 0.7656, 0.6599],\n",
    "[0.1741, 0.7678, 0.6527],\n",
    "[0.1799, 0.7699, 0.6454],\n",
    "[0.1853, 0.7721, 0.6379],\n",
    "[0.1905, 0.7743, 0.6303],\n",
    "[0.1954, 0.7765, 0.6225],\n",
    "[0.2003, 0.7787, 0.6146],\n",
    "[0.2061, 0.7808, 0.6065],\n",
    "[0.2118, 0.7828, 0.5983],\n",
    "[0.2178, 0.7849, 0.5899],\n",
    "[0.2244, 0.7869, 0.5813],\n",
    "[0.2318, 0.7887, 0.5725],\n",
    "[0.2401, 0.7905, 0.5636],\n",
    "[0.2491, 0.7922, 0.5546],\n",
    "[0.2589, 0.7937, 0.5454],\n",
    "[0.2695, 0.7951, 0.536],\n",
    "[0.2809, 0.7964, 0.5266],\n",
    "[0.2929, 0.7975, 0.517],\n",
    "[0.3052, 0.7985, 0.5074],\n",
    "[0.3176, 0.7994, 0.4975],\n",
    "[0.3301, 0.8002, 0.4876],\n",
    "[0.3424, 0.8009, 0.4774],\n",
    "[0.3548, 0.8016, 0.4669],\n",
    "[0.3671, 0.8021, 0.4563],\n",
    "[0.3795, 0.8026, 0.4454],\n",
    "[0.3921, 0.8029, 0.4344],\n",
    "[0.405, 0.8031, 0.4233],\n",
    "[0.4184, 0.803, 0.4122],\n",
    "[0.4322, 0.8028, 0.4013],\n",
    "[0.4463, 0.8024, 0.3904],\n",
    "[0.4608, 0.8018, 0.3797],\n",
    "[0.4753, 0.8011, 0.3691],\n",
    "[0.4899, 0.8002, 0.3586],\n",
    "[0.5044, 0.7993, 0.348],\n",
    "[0.5187, 0.7982, 0.3374],\n",
    "[0.5329, 0.797, 0.3267],\n",
    "[0.547, 0.7957, 0.3159],\n",
    "[0.5609, 0.7943, 0.305],\n",
    "[0.5748, 0.7929, 0.2941],\n",
    "[0.5886, 0.7913, 0.2833],\n",
    "[0.6024, 0.7896, 0.2726],\n",
    "[0.6161, 0.7878, 0.2622],\n",
    "[0.6297, 0.7859, 0.2521],\n",
    "[0.6433, 0.7839, 0.2423],\n",
    "[0.6567, 0.7818, 0.2329],\n",
    "[0.6701, 0.7796, 0.2239],\n",
    "[0.6833, 0.7773, 0.2155],\n",
    "[0.6963, 0.775, 0.2075],\n",
    "[0.7091, 0.7727, 0.1998],\n",
    "[0.7218, 0.7703, 0.1924],\n",
    "[0.7344, 0.7679, 0.1852],\n",
    "[0.7468, 0.7654, 0.1782],\n",
    "[0.759, 0.7629, 0.1717],\n",
    "[0.771, 0.7604, 0.1658],\n",
    "[0.7829, 0.7579, 0.1608],\n",
    "[0.7945, 0.7554, 0.157],\n",
    "[0.806, 0.7529, 0.1546],\n",
    "[0.8172, 0.7505, 0.1535],\n",
    "[0.8281, 0.7481, 0.1536],\n",
    "[0.8389, 0.7457, 0.1546],\n",
    "[0.8495, 0.7435, 0.1564],\n",
    "[0.86, 0.7413, 0.1587],\n",
    "[0.8703, 0.7392, 0.1615],\n",
    "[0.8804, 0.7372, 0.165],\n",
    "[0.8903, 0.7353, 0.1695],\n",
    "[0.9, 0.7336, 0.1749],\n",
    "[0.9093, 0.7321, 0.1815],\n",
    "[0.9184, 0.7308, 0.189],\n",
    "[0.9272, 0.7298, 0.1973],\n",
    "[0.9357, 0.729, 0.2061],\n",
    "[0.944, 0.7285, 0.2151],\n",
    "[0.9523, 0.7284, 0.2237],\n",
    "[0.9606, 0.7285, 0.2312],\n",
    "[0.9689, 0.7292, 0.2373],\n",
    "[0.977, 0.7304, 0.2418],\n",
    "[0.9842, 0.733, 0.2446],\n",
    "[0.99, 0.7365, 0.2429],\n",
    "[0.9946, 0.7407, 0.2394],\n",
    "[0.9966, 0.7458, 0.2351],\n",
    "[0.9971, 0.7513, 0.2309],\n",
    "[0.9972, 0.7569, 0.2267],\n",
    "[0.9971, 0.7626, 0.2224],\n",
    "[0.9969, 0.7683, 0.2181],\n",
    "[0.9966, 0.774, 0.2138],\n",
    "[0.9962, 0.7798, 0.2095],\n",
    "[0.9957, 0.7856, 0.2053],\n",
    "[0.9949, 0.7915, 0.2012],\n",
    "[0.9938, 0.7974, 0.1974],\n",
    "[0.9923, 0.8034, 0.1939],\n",
    "[0.9906, 0.8095, 0.1906],\n",
    "[0.9885, 0.8156, 0.1875],\n",
    "[0.9861, 0.8218, 0.1846],\n",
    "[0.9835, 0.828, 0.1817],\n",
    "[0.9807, 0.8342, 0.1787],\n",
    "[0.9778, 0.8404, 0.1757],\n",
    "[0.9748, 0.8467, 0.1726],\n",
    "[0.972, 0.8529, 0.1695],\n",
    "[0.9694, 0.8591, 0.1665],\n",
    "[0.9671, 0.8654, 0.1636],\n",
    "[0.9651, 0.8716, 0.1608],\n",
    "[0.9634, 0.8778, 0.1582],\n",
    "[0.9619, 0.884, 0.1557],\n",
    "[0.9608, 0.8902, 0.1532],\n",
    "[0.9601, 0.8963, 0.1507],\n",
    "[0.9596, 0.9023, 0.148],\n",
    "[0.9595, 0.9084, 0.145],\n",
    "[0.9597, 0.9143, 0.1418],\n",
    "[0.9601, 0.9203, 0.1382],\n",
    "[0.9608, 0.9262, 0.1344],\n",
    "[0.9618, 0.932, 0.1304],\n",
    "[0.9629, 0.9379, 0.1261],\n",
    "[0.9642, 0.9437, 0.1216],\n",
    "[0.9657, 0.9494, 0.1168],\n",
    "[0.9674, 0.9552, 0.1116],\n",
    "[0.9692, 0.9609, 0.1061],\n",
    "[0.9711, 0.9667, 0.1001],\n",
    "[0.973, 0.9724, 0.0938],\n",
    "[0.9749, 0.9782, 0.0872],\n",
    "[0.9769, 0.9839, 0.0805]]\n",
    "\n",
    "parula_map = LinearSegmentedColormap.from_list('parula', parula_data)"
   ]
  },
  {
   "cell_type": "code",
   "execution_count": 18,
   "metadata": {},
   "outputs": [],
   "source": [
    "from mpl_toolkits.axes_grid1 import make_axes_locatable\n",
    "\n",
    "def chan_disp(data, chan_map, title, label, figsize=(8, 6), cbar_lower=None, cbar_upper=None, cmap=None):\n",
    "\n",
    "    mean_val = np.nanmean(data)\n",
    "    std_val = np.nanstd(data)\n",
    "    std_mult = 3\n",
    "    # clim = [max(0, mean_val - std_mult*std_val), mean_val + std_mult*std_val]\n",
    "    if cbar_lower is None:\n",
    "        cbar_lower = mean_val - std_mult*std_val\n",
    "    if cbar_upper is None:\n",
    "        cbar_upper = mean_val + std_mult*std_val\n",
    "    clim = [cbar_lower, cbar_upper]\n",
    "\n",
    "    if cmap is None:\n",
    "        cmap = parula_map\n",
    "\n",
    "    chan_data = np.array([data[int(i)] if not np.isnan(i) else np.nan for i in (chan_map.flatten()-1)])\n",
    "    chan_data = chan_data.reshape(chan_map.shape)\n",
    "    f = plt.figure(figsize=figsize)\n",
    "    im = plt.imshow(chan_data, cmap=parula_map)\n",
    "    im.set_clim(clim[0], clim[1])\n",
    "    # plt.gca().invert_yaxis()\n",
    "    # plt.contourf(chan_data, cmap='viridis')\n",
    "    plt.xticks([])\n",
    "    plt.yticks([])\n",
    "    plt.title(title)\n",
    "\n",
    "    divider = make_axes_locatable(plt.gca())\n",
    "    cax = divider.append_axes('right', size='5%', pad=0.05)\n",
    "\n",
    "    cbar = plt.colorbar(im, cax=cax)\n",
    "    cbar.set_label(label)\n",
    "    cbar.outline.set_visible(False)\n",
    "\n",
    "    sns.despine(left=True, bottom=True)\n",
    "    \n",
    "    plt.show()\n",
    "\n",
    "def chan_disp_seq(data, chan_map, t, t_ranges, labs, title, label, figsize=(3, 6), cbar_pos=[0.81, 0.56, 0.01, 0.3], sup_pos=0.95, cbar_lower=None, cbar_upper=None):\n",
    "    f, tot_axs = plt.subplots(len(labs), len(t_ranges), figsize=(figsize[0]*len(t_ranges), figsize[1]*len(labs)))\n",
    "\n",
    "    if len(labs) == 1:\n",
    "        tot_axs = tot_axs[np.newaxis,:]\n",
    "\n",
    "    mean_val = np.nanmean(data)\n",
    "    std_val = np.nanstd(data)\n",
    "    std_mult = 3\n",
    "    # clim = [max(0, mean_val - std_mult*std_val), mean_val + std_mult*std_val]\n",
    "    if cbar_lower is None:\n",
    "        cbar_lower = mean_val - std_mult*std_val\n",
    "    if cbar_upper is None:\n",
    "        cbar_upper = mean_val + std_mult*std_val\n",
    "    clim = [cbar_lower, cbar_upper]\n",
    "\n",
    "    for j, lab in enumerate(labs):\n",
    "        lab_data = data[j]\n",
    "        axs = tot_axs[j]\n",
    "        for i, t_range in enumerate(t_ranges):\n",
    "            t_inds = np.where((t >= t_range[0]) & (t < t_range[1]))[0]\n",
    "            chan_data = np.array([lab_data[t_inds,:].mean(axis=0)[int(k)] if not np.isnan(k) else np.nan for k in (chan_map.flatten()-1)])\n",
    "            chan_data = chan_data.reshape(chan_map.shape)\n",
    "            im = axs[i].imshow(chan_data, cmap=parula_map)\n",
    "            im.set_clim(clim[0], clim[1])\n",
    "            if i==0:\n",
    "                axs[i].set_ylabel(lab)\n",
    "            if j==0:\n",
    "                axs[i].set_title(f'{t_range[0]} -> {t_range[1]}s')\n",
    "            axs[i].set_xticks([])\n",
    "            axs[i].set_yticks([])\n",
    "            \n",
    "\n",
    "        # divider = make_axes_locatable(plt.gca())\n",
    "        # cax = divider.append_axes('right', size='5%', pad=0.05)\n",
    "\n",
    "        # cbar = plt.colorbar(im, cax=cax)\n",
    "        \n",
    "        # cbar.set_label(label)\n",
    "    f.subplots_adjust(right=0.8)\n",
    "    cbar_ax = f.add_axes(cbar_pos)\n",
    "    cbar = f.colorbar(im, cax=cbar_ax)\n",
    "    cbar.set_label(label)\n",
    "\n",
    "    # f.tight_layout(rect=[0, 0.03, 1, 0.95])\n",
    "    f.suptitle(title, y=sup_pos)\n",
    "    plt.show()"
   ]
  },
  {
   "cell_type": "code",
   "execution_count": 19,
   "metadata": {},
   "outputs": [],
   "source": [
    "def rgb2hex(r,g,b):\n",
    "    return \"#{:02x}{:02x}{:02x}\".format(r,g,b)"
   ]
  },
  {
   "cell_type": "code",
   "execution_count": 20,
   "metadata": {},
   "outputs": [],
   "source": [
    "def get_ci_data(ax):\n",
    "    paths = [child for child in ax.get_children() if isinstance(child, mpl.collections.PolyCollection)]\n",
    "    ci_data = []\n",
    "    for path in paths:\n",
    "        vertices = path.get_paths()[0].vertices  # Array of shape (n, 2)\n",
    "\n",
    "        # ci y coords - contains lower bounds then upper bounds in 1D array\n",
    "        ci_vals_tot = vertices[:-1, 1]\n",
    "\n",
    "        ci_vals = np.zeros((200, 2))\n",
    "        ci_vals[:,0] = ci_vals_tot[1:201]\n",
    "        ci_vals[:,1] = ci_vals_tot[201:-1]\n",
    "        ci_vals[:,1] = ci_vals[:,1][::-1] # reverse the order of the second half\n",
    "        ci_data.append(ci_vals)\n",
    "        \n",
    "    return ci_data"
   ]
  },
  {
   "cell_type": "code",
   "execution_count": 21,
   "metadata": {},
   "outputs": [],
   "source": [
    "def pt_corr(target, to_corr, target_labels, to_corr_labels, n_comp=25, t_range=[-0.25, 0.25]):\n",
    "    min_dim = np.min([target.shape[-1], to_corr.shape[-1], n_comp])\n",
    "    # get data only around speech onset\n",
    "    t_inds = np.where((t >= t_range[0]) & (t < t_range[1]))[0]\n",
    "    target = target[:, t_inds]\n",
    "    to_corr = to_corr[:, t_inds]\n",
    "    cnd_avg_data = utils.extract_group_conditions([target, to_corr], [target_labels, to_corr_labels])\n",
    "    n_cnds = cnd_avg_data[0].shape[0]\n",
    "    cnd_r = np.zeros(n_cnds)\n",
    "    for i in range(cnd_avg_data[0].shape[0]):\n",
    "        target_avg = cnd_avg_data[0][i,:,:min_dim]\n",
    "        to_corr_avg = cnd_avg_data[1][i,:,:min_dim]\n",
    "\n",
    "        r_vals = np.zeros(min_dim)\n",
    "        for j in range(min_dim):\n",
    "            r_vals[j] = stats.pearsonr(target_avg[:,j], to_corr_avg[:,j])[0]\n",
    "        cnd_r[i] = np.mean(r_vals)\n",
    "    return cnd_r\n",
    "\n",
    "def pt_corr_multi(target, to_corr_list, target_labels, to_corr_labels_list, n_comp=25, t_range=[-0.25, 0.25]):\n",
    "    cnd_r = []\n",
    "    for i, to_corr in enumerate(to_corr_list):\n",
    "        cnd_r.append(pt_corr(target, to_corr, target_labels, to_corr_labels_list[i], n_comp=n_comp, t_range=t_range))\n",
    "    return cnd_r"
   ]
  },
  {
   "cell_type": "code",
   "execution_count": 22,
   "metadata": {},
   "outputs": [],
   "source": [
    "def cmat_acc(y_true, y_pred):\n",
    "    cmat = confusion_matrix(y_true, y_pred)\n",
    "    acc_cmat = np.trace(cmat) / np.sum(cmat)\n",
    "    return acc_cmat\n",
    "\n",
    "def cmat_wrap(y_true_iter, y_pred_iter):\n",
    "    accs = []\n",
    "    for y_true, y_pred in zip(y_true_iter, y_pred_iter):\n",
    "        accs.append(cmat_acc(y_true, y_pred))\n",
    "    return np.array(accs)"
   ]
  },
  {
   "cell_type": "markdown",
   "metadata": {},
   "source": [
    "### Pitch subsampling - all patients separately"
   ]
  },
  {
   "cell_type": "code",
   "execution_count": null,
   "metadata": {},
   "outputs": [],
   "source": [
    "pt_list = ['S14', 'S22', 'S23', 'S26', 'S33', 'S39', 'S58', 'S62']\n",
    "\n",
    "pInd_list = [-1]\n",
    "\n",
    "pitch_list = [10, 9, 8, 7, 6, 5, 4, 3, 2, 1.5]\n",
    "\n",
    "wide_dfs = []\n",
    "long_dfs = []\n",
    "for pt in pt_list:\n",
    "    for p_ind in pInd_list:\n",
    "        p_str = 'pAll' if p_ind == -1 else f'p{p_ind}'\n",
    "        for pitch in pitch_list:\n",
    "            if pitch == 1.5:\n",
    "                pitch_str = '1-5'\n",
    "            else:\n",
    "                pitch_str = str(int(pitch))\n",
    "\n",
    "            p_tar = np.zeros((2, 50))\n",
    "            p_tar[0,:] = cmat_wrap(*[utils.load_pkl(DECODE_PATH + f'ptSpecific/{pt}/pitch_subsampling/{pt}_{p_str}_pitchSubsamp{pitch_str}mm_ptSpecific_rbf_noCV_20fold.pkl')[k] for k in ['y_true', 'y_pred']])\n",
    "            p_tar[1,:] = cmat_wrap(*[utils.load_pkl(DECODE_PATH + f'pooled/S62_added/{pt}/pitch_subsampling/cca/{pt}_{p_str}_pitchSubsamp{pitch_str}mm_pooled_ccaAligned_rbf_noCV_20fold.pkl')[k] for k in ['y_true', 'y_pred']])\n",
    "            decode_df = pd.DataFrame(p_tar.T, columns=['Patient-specific', 'Aligned cross-patient'])\n",
    "\n",
    "            wide_dfs.append(decode_df)\n",
    "            decode_df = pd.melt(decode_df, var_name='Decoding Context', value_name='Decoding Accuracy')\n",
    "            decode_df['Patient'] = paper_pt_dict[pt]\n",
    "            decode_df['Phoneme Index'] = p_str\n",
    "            decode_df['Pitch'] = pitch\n",
    "            cols = decode_df.columns.tolist()\n",
    "            cols = cols[-2:] + cols[:-2]\n",
    "            decode_df = decode_df[cols]\n",
    "            long_dfs.append(decode_df)\n",
    "pitch_decode_df_wide = pd.concat(wide_dfs)\n",
    "pitch_decode_df_long = pd.concat(long_dfs)\n",
    "pitch_decode_df_long = pitch_decode_df_long.sort_values(by=['Pitch', 'Decoding Context'], ascending=[False, True])\n"
   ]
  },
  {
   "cell_type": "code",
   "execution_count": 58,
   "metadata": {},
   "outputs": [
    {
     "data": {
      "application/vnd.microsoft.datawrangler.viewer.v0+json": {
       "columns": [
        {
         "name": "index",
         "rawType": "int64",
         "type": "integer"
        },
        {
         "name": "Phoneme Index",
         "rawType": "object",
         "type": "string"
        },
        {
         "name": "Pitch",
         "rawType": "float64",
         "type": "float"
        },
        {
         "name": "Decoding Context",
         "rawType": "object",
         "type": "string"
        },
        {
         "name": "Decoding Accuracy",
         "rawType": "float64",
         "type": "float"
        },
        {
         "name": "Patient",
         "rawType": "object",
         "type": "string"
        }
       ],
       "conversionMethod": "pd.DataFrame",
       "ref": "9dd0d5a5-0f8d-4b7c-8ad2-b971807a37db",
       "rows": [
        [
         "50",
         "pAll",
         "10.0",
         "Aligned cross-patient",
         "0.18518518518518517",
         "S1"
        ],
        [
         "51",
         "pAll",
         "10.0",
         "Aligned cross-patient",
         "0.15046296296296297",
         "S1"
        ],
        [
         "52",
         "pAll",
         "10.0",
         "Aligned cross-patient",
         "0.16666666666666666",
         "S1"
        ],
        [
         "53",
         "pAll",
         "10.0",
         "Aligned cross-patient",
         "0.18287037037037038",
         "S1"
        ],
        [
         "54",
         "pAll",
         "10.0",
         "Aligned cross-patient",
         "0.09722222222222222",
         "S1"
        ],
        [
         "55",
         "pAll",
         "10.0",
         "Aligned cross-patient",
         "0.2337962962962963",
         "S1"
        ],
        [
         "56",
         "pAll",
         "10.0",
         "Aligned cross-patient",
         "0.11342592592592593",
         "S1"
        ],
        [
         "57",
         "pAll",
         "10.0",
         "Aligned cross-patient",
         "0.1412037037037037",
         "S1"
        ],
        [
         "58",
         "pAll",
         "10.0",
         "Aligned cross-patient",
         "0.14583333333333334",
         "S1"
        ],
        [
         "59",
         "pAll",
         "10.0",
         "Aligned cross-patient",
         "0.1574074074074074",
         "S1"
        ],
        [
         "60",
         "pAll",
         "10.0",
         "Aligned cross-patient",
         "0.1574074074074074",
         "S1"
        ],
        [
         "61",
         "pAll",
         "10.0",
         "Aligned cross-patient",
         "0.18518518518518517",
         "S1"
        ],
        [
         "62",
         "pAll",
         "10.0",
         "Aligned cross-patient",
         "0.2013888888888889",
         "S1"
        ],
        [
         "63",
         "pAll",
         "10.0",
         "Aligned cross-patient",
         "0.2152777777777778",
         "S1"
        ],
        [
         "64",
         "pAll",
         "10.0",
         "Aligned cross-patient",
         "0.20833333333333334",
         "S1"
        ],
        [
         "65",
         "pAll",
         "10.0",
         "Aligned cross-patient",
         "0.22453703703703703",
         "S1"
        ],
        [
         "66",
         "pAll",
         "10.0",
         "Aligned cross-patient",
         "0.1712962962962963",
         "S1"
        ],
        [
         "67",
         "pAll",
         "10.0",
         "Aligned cross-patient",
         "0.11342592592592593",
         "S1"
        ],
        [
         "68",
         "pAll",
         "10.0",
         "Aligned cross-patient",
         "0.2013888888888889",
         "S1"
        ],
        [
         "69",
         "pAll",
         "10.0",
         "Aligned cross-patient",
         "0.1412037037037037",
         "S1"
        ],
        [
         "70",
         "pAll",
         "10.0",
         "Aligned cross-patient",
         "0.16435185185185186",
         "S1"
        ],
        [
         "71",
         "pAll",
         "10.0",
         "Aligned cross-patient",
         "0.16666666666666666",
         "S1"
        ],
        [
         "72",
         "pAll",
         "10.0",
         "Aligned cross-patient",
         "0.2337962962962963",
         "S1"
        ],
        [
         "73",
         "pAll",
         "10.0",
         "Aligned cross-patient",
         "0.1550925925925926",
         "S1"
        ],
        [
         "74",
         "pAll",
         "10.0",
         "Aligned cross-patient",
         "0.1550925925925926",
         "S1"
        ],
        [
         "75",
         "pAll",
         "10.0",
         "Aligned cross-patient",
         "0.22916666666666666",
         "S1"
        ],
        [
         "76",
         "pAll",
         "10.0",
         "Aligned cross-patient",
         "0.1597222222222222",
         "S1"
        ],
        [
         "77",
         "pAll",
         "10.0",
         "Aligned cross-patient",
         "0.17824074074074073",
         "S1"
        ],
        [
         "78",
         "pAll",
         "10.0",
         "Aligned cross-patient",
         "0.1527777777777778",
         "S1"
        ],
        [
         "79",
         "pAll",
         "10.0",
         "Aligned cross-patient",
         "0.2175925925925926",
         "S1"
        ],
        [
         "80",
         "pAll",
         "10.0",
         "Aligned cross-patient",
         "0.16898148148148148",
         "S1"
        ],
        [
         "81",
         "pAll",
         "10.0",
         "Aligned cross-patient",
         "0.20833333333333334",
         "S1"
        ],
        [
         "82",
         "pAll",
         "10.0",
         "Aligned cross-patient",
         "0.20601851851851852",
         "S1"
        ],
        [
         "83",
         "pAll",
         "10.0",
         "Aligned cross-patient",
         "0.18055555555555555",
         "S1"
        ],
        [
         "84",
         "pAll",
         "10.0",
         "Aligned cross-patient",
         "0.2013888888888889",
         "S1"
        ],
        [
         "85",
         "pAll",
         "10.0",
         "Aligned cross-patient",
         "0.13657407407407407",
         "S1"
        ],
        [
         "86",
         "pAll",
         "10.0",
         "Aligned cross-patient",
         "0.15046296296296297",
         "S1"
        ],
        [
         "87",
         "pAll",
         "10.0",
         "Aligned cross-patient",
         "0.20601851851851852",
         "S1"
        ],
        [
         "88",
         "pAll",
         "10.0",
         "Aligned cross-patient",
         "0.17824074074074073",
         "S1"
        ],
        [
         "89",
         "pAll",
         "10.0",
         "Aligned cross-patient",
         "0.2569444444444444",
         "S1"
        ],
        [
         "90",
         "pAll",
         "10.0",
         "Aligned cross-patient",
         "0.19675925925925927",
         "S1"
        ],
        [
         "91",
         "pAll",
         "10.0",
         "Aligned cross-patient",
         "0.09953703703703703",
         "S1"
        ],
        [
         "92",
         "pAll",
         "10.0",
         "Aligned cross-patient",
         "0.14814814814814814",
         "S1"
        ],
        [
         "93",
         "pAll",
         "10.0",
         "Aligned cross-patient",
         "0.2013888888888889",
         "S1"
        ],
        [
         "94",
         "pAll",
         "10.0",
         "Aligned cross-patient",
         "0.1412037037037037",
         "S1"
        ],
        [
         "95",
         "pAll",
         "10.0",
         "Aligned cross-patient",
         "0.1574074074074074",
         "S1"
        ],
        [
         "96",
         "pAll",
         "10.0",
         "Aligned cross-patient",
         "0.1597222222222222",
         "S1"
        ],
        [
         "97",
         "pAll",
         "10.0",
         "Aligned cross-patient",
         "0.14351851851851852",
         "S1"
        ],
        [
         "98",
         "pAll",
         "10.0",
         "Aligned cross-patient",
         "0.1111111111111111",
         "S1"
        ],
        [
         "99",
         "pAll",
         "10.0",
         "Aligned cross-patient",
         "0.18287037037037038",
         "S1"
        ]
       ],
       "shape": {
        "columns": 5,
        "rows": 8000
       }
      },
      "text/html": [
       "<div>\n",
       "<style scoped>\n",
       "    .dataframe tbody tr th:only-of-type {\n",
       "        vertical-align: middle;\n",
       "    }\n",
       "\n",
       "    .dataframe tbody tr th {\n",
       "        vertical-align: top;\n",
       "    }\n",
       "\n",
       "    .dataframe thead th {\n",
       "        text-align: right;\n",
       "    }\n",
       "</style>\n",
       "<table border=\"1\" class=\"dataframe\">\n",
       "  <thead>\n",
       "    <tr style=\"text-align: right;\">\n",
       "      <th></th>\n",
       "      <th>Phoneme Index</th>\n",
       "      <th>Pitch</th>\n",
       "      <th>Decoding Context</th>\n",
       "      <th>Decoding Accuracy</th>\n",
       "      <th>Patient</th>\n",
       "    </tr>\n",
       "  </thead>\n",
       "  <tbody>\n",
       "    <tr>\n",
       "      <th>50</th>\n",
       "      <td>pAll</td>\n",
       "      <td>10.0</td>\n",
       "      <td>Aligned cross-patient</td>\n",
       "      <td>0.185185</td>\n",
       "      <td>S1</td>\n",
       "    </tr>\n",
       "    <tr>\n",
       "      <th>51</th>\n",
       "      <td>pAll</td>\n",
       "      <td>10.0</td>\n",
       "      <td>Aligned cross-patient</td>\n",
       "      <td>0.150463</td>\n",
       "      <td>S1</td>\n",
       "    </tr>\n",
       "    <tr>\n",
       "      <th>52</th>\n",
       "      <td>pAll</td>\n",
       "      <td>10.0</td>\n",
       "      <td>Aligned cross-patient</td>\n",
       "      <td>0.166667</td>\n",
       "      <td>S1</td>\n",
       "    </tr>\n",
       "    <tr>\n",
       "      <th>53</th>\n",
       "      <td>pAll</td>\n",
       "      <td>10.0</td>\n",
       "      <td>Aligned cross-patient</td>\n",
       "      <td>0.182870</td>\n",
       "      <td>S1</td>\n",
       "    </tr>\n",
       "    <tr>\n",
       "      <th>54</th>\n",
       "      <td>pAll</td>\n",
       "      <td>10.0</td>\n",
       "      <td>Aligned cross-patient</td>\n",
       "      <td>0.097222</td>\n",
       "      <td>S1</td>\n",
       "    </tr>\n",
       "    <tr>\n",
       "      <th>...</th>\n",
       "      <td>...</td>\n",
       "      <td>...</td>\n",
       "      <td>...</td>\n",
       "      <td>...</td>\n",
       "      <td>...</td>\n",
       "    </tr>\n",
       "    <tr>\n",
       "      <th>45</th>\n",
       "      <td>pAll</td>\n",
       "      <td>1.5</td>\n",
       "      <td>Patient-specific</td>\n",
       "      <td>0.286517</td>\n",
       "      <td>S8</td>\n",
       "    </tr>\n",
       "    <tr>\n",
       "      <th>46</th>\n",
       "      <td>pAll</td>\n",
       "      <td>1.5</td>\n",
       "      <td>Patient-specific</td>\n",
       "      <td>0.310861</td>\n",
       "      <td>S8</td>\n",
       "    </tr>\n",
       "    <tr>\n",
       "      <th>47</th>\n",
       "      <td>pAll</td>\n",
       "      <td>1.5</td>\n",
       "      <td>Patient-specific</td>\n",
       "      <td>0.286517</td>\n",
       "      <td>S8</td>\n",
       "    </tr>\n",
       "    <tr>\n",
       "      <th>48</th>\n",
       "      <td>pAll</td>\n",
       "      <td>1.5</td>\n",
       "      <td>Patient-specific</td>\n",
       "      <td>0.299625</td>\n",
       "      <td>S8</td>\n",
       "    </tr>\n",
       "    <tr>\n",
       "      <th>49</th>\n",
       "      <td>pAll</td>\n",
       "      <td>1.5</td>\n",
       "      <td>Patient-specific</td>\n",
       "      <td>0.284644</td>\n",
       "      <td>S8</td>\n",
       "    </tr>\n",
       "  </tbody>\n",
       "</table>\n",
       "<p>8000 rows × 5 columns</p>\n",
       "</div>"
      ],
      "text/plain": [
       "   Phoneme Index  Pitch       Decoding Context  Decoding Accuracy Patient\n",
       "50          pAll   10.0  Aligned cross-patient           0.185185      S1\n",
       "51          pAll   10.0  Aligned cross-patient           0.150463      S1\n",
       "52          pAll   10.0  Aligned cross-patient           0.166667      S1\n",
       "53          pAll   10.0  Aligned cross-patient           0.182870      S1\n",
       "54          pAll   10.0  Aligned cross-patient           0.097222      S1\n",
       "..           ...    ...                    ...                ...     ...\n",
       "45          pAll    1.5       Patient-specific           0.286517      S8\n",
       "46          pAll    1.5       Patient-specific           0.310861      S8\n",
       "47          pAll    1.5       Patient-specific           0.286517      S8\n",
       "48          pAll    1.5       Patient-specific           0.299625      S8\n",
       "49          pAll    1.5       Patient-specific           0.284644      S8\n",
       "\n",
       "[8000 rows x 5 columns]"
      ]
     },
     "execution_count": 58,
     "metadata": {},
     "output_type": "execute_result"
    }
   ],
   "source": [
    "pitch_decode_df_long"
   ]
  },
  {
   "cell_type": "code",
   "execution_count": 59,
   "metadata": {},
   "outputs": [
    {
     "data": {
      "application/vnd.microsoft.datawrangler.viewer.v0+json": {
       "columns": [
        {
         "name": "index",
         "rawType": "int64",
         "type": "integer"
        },
        {
         "name": "Patient",
         "rawType": "object",
         "type": "string"
        },
        {
         "name": "Pitch",
         "rawType": "float64",
         "type": "float"
        },
        {
         "name": "Decoding Context",
         "rawType": "object",
         "type": "string"
        },
        {
         "name": "Decoding Accuracy",
         "rawType": "float64",
         "type": "float"
        }
       ],
       "conversionMethod": "pd.DataFrame",
       "ref": "19e2085a-6b4a-4e6b-bd0c-f1c603caa855",
       "rows": [
        [
         "0",
         "S1",
         "1.5",
         "Aligned cross-patient",
         "0.3971296296296296"
        ],
        [
         "1",
         "S1",
         "1.5",
         "Patient-specific",
         "0.38495370370370374"
        ],
        [
         "2",
         "S1",
         "2.0",
         "Aligned cross-patient",
         "0.365787037037037"
        ],
        [
         "3",
         "S1",
         "2.0",
         "Patient-specific",
         "0.36324074074074075"
        ],
        [
         "4",
         "S1",
         "3.0",
         "Aligned cross-patient",
         "0.28347222222222224"
        ],
        [
         "5",
         "S1",
         "3.0",
         "Patient-specific",
         "0.30583333333333335"
        ],
        [
         "6",
         "S1",
         "4.0",
         "Aligned cross-patient",
         "0.26708333333333334"
        ],
        [
         "7",
         "S1",
         "4.0",
         "Patient-specific",
         "0.2902777777777778"
        ],
        [
         "8",
         "S1",
         "5.0",
         "Aligned cross-patient",
         "0.23916666666666667"
        ],
        [
         "9",
         "S1",
         "5.0",
         "Patient-specific",
         "0.26416666666666666"
        ],
        [
         "10",
         "S1",
         "6.0",
         "Aligned cross-patient",
         "0.20958333333333332"
        ],
        [
         "11",
         "S1",
         "6.0",
         "Patient-specific",
         "0.2401851851851852"
        ],
        [
         "12",
         "S1",
         "7.0",
         "Aligned cross-patient",
         "0.18291666666666667"
        ],
        [
         "13",
         "S1",
         "7.0",
         "Patient-specific",
         "0.22490740740740742"
        ],
        [
         "14",
         "S1",
         "8.0",
         "Aligned cross-patient",
         "0.18074074074074073"
        ],
        [
         "15",
         "S1",
         "8.0",
         "Patient-specific",
         "0.2126851851851852"
        ],
        [
         "16",
         "S1",
         "9.0",
         "Aligned cross-patient",
         "0.16708333333333333"
        ],
        [
         "17",
         "S1",
         "9.0",
         "Patient-specific",
         "0.2049537037037037"
        ],
        [
         "18",
         "S1",
         "10.0",
         "Aligned cross-patient",
         "0.17282407407407407"
        ],
        [
         "19",
         "S1",
         "10.0",
         "Patient-specific",
         "0.20277777777777778"
        ],
        [
         "20",
         "S2",
         "1.5",
         "Aligned cross-patient",
         "0.4484234234234234"
        ],
        [
         "21",
         "S2",
         "1.5",
         "Patient-specific",
         "0.41405405405405404"
        ],
        [
         "22",
         "S2",
         "2.0",
         "Aligned cross-patient",
         "0.37810810810810813"
        ],
        [
         "23",
         "S2",
         "2.0",
         "Patient-specific",
         "0.3603603603603604"
        ],
        [
         "24",
         "S2",
         "3.0",
         "Aligned cross-patient",
         "0.26175675675675675"
        ],
        [
         "25",
         "S2",
         "3.0",
         "Patient-specific",
         "0.25779279279279277"
        ],
        [
         "26",
         "S2",
         "4.0",
         "Aligned cross-patient",
         "0.22806306306306307"
        ],
        [
         "27",
         "S2",
         "4.0",
         "Patient-specific",
         "0.2469369369369369"
        ],
        [
         "28",
         "S2",
         "5.0",
         "Aligned cross-patient",
         "0.19373873873873873"
        ],
        [
         "29",
         "S2",
         "5.0",
         "Patient-specific",
         "0.21243243243243243"
        ],
        [
         "30",
         "S2",
         "6.0",
         "Aligned cross-patient",
         "0.16486486486486487"
        ],
        [
         "31",
         "S2",
         "6.0",
         "Patient-specific",
         "0.1881981981981982"
        ],
        [
         "32",
         "S2",
         "7.0",
         "Aligned cross-patient",
         "0.15162162162162163"
        ],
        [
         "33",
         "S2",
         "7.0",
         "Patient-specific",
         "0.1754954954954955"
        ],
        [
         "34",
         "S2",
         "8.0",
         "Aligned cross-patient",
         "0.15175675675675676"
        ],
        [
         "35",
         "S2",
         "8.0",
         "Patient-specific",
         "0.1732882882882883"
        ],
        [
         "36",
         "S2",
         "9.0",
         "Aligned cross-patient",
         "0.1363063063063063"
        ],
        [
         "37",
         "S2",
         "9.0",
         "Patient-specific",
         "0.16301801801801802"
        ],
        [
         "38",
         "S2",
         "10.0",
         "Aligned cross-patient",
         "0.13364864864864864"
        ],
        [
         "39",
         "S2",
         "10.0",
         "Patient-specific",
         "0.1558108108108108"
        ],
        [
         "40",
         "S3",
         "1.5",
         "Aligned cross-patient",
         "0.5192753623188406"
        ],
        [
         "41",
         "S3",
         "1.5",
         "Patient-specific",
         "0.27014492753623187"
        ],
        [
         "42",
         "S3",
         "2.0",
         "Aligned cross-patient",
         "0.4736231884057971"
        ],
        [
         "43",
         "S3",
         "2.0",
         "Patient-specific",
         "0.27956521739130435"
        ],
        [
         "44",
         "S3",
         "3.0",
         "Aligned cross-patient",
         "0.3760869565217391"
        ],
        [
         "45",
         "S3",
         "3.0",
         "Patient-specific",
         "0.2515942028985507"
        ],
        [
         "46",
         "S3",
         "4.0",
         "Aligned cross-patient",
         "0.29246376811594205"
        ],
        [
         "47",
         "S3",
         "4.0",
         "Patient-specific",
         "0.22014492753623188"
        ],
        [
         "48",
         "S3",
         "5.0",
         "Aligned cross-patient",
         "0.2655072463768116"
        ],
        [
         "49",
         "S3",
         "5.0",
         "Patient-specific",
         "0.21072463768115943"
        ]
       ],
       "shape": {
        "columns": 4,
        "rows": 160
       }
      },
      "text/html": [
       "<div>\n",
       "<style scoped>\n",
       "    .dataframe tbody tr th:only-of-type {\n",
       "        vertical-align: middle;\n",
       "    }\n",
       "\n",
       "    .dataframe tbody tr th {\n",
       "        vertical-align: top;\n",
       "    }\n",
       "\n",
       "    .dataframe thead th {\n",
       "        text-align: right;\n",
       "    }\n",
       "</style>\n",
       "<table border=\"1\" class=\"dataframe\">\n",
       "  <thead>\n",
       "    <tr style=\"text-align: right;\">\n",
       "      <th></th>\n",
       "      <th>Patient</th>\n",
       "      <th>Pitch</th>\n",
       "      <th>Decoding Context</th>\n",
       "      <th>Decoding Accuracy</th>\n",
       "    </tr>\n",
       "  </thead>\n",
       "  <tbody>\n",
       "    <tr>\n",
       "      <th>0</th>\n",
       "      <td>S1</td>\n",
       "      <td>1.5</td>\n",
       "      <td>Aligned cross-patient</td>\n",
       "      <td>0.397130</td>\n",
       "    </tr>\n",
       "    <tr>\n",
       "      <th>1</th>\n",
       "      <td>S1</td>\n",
       "      <td>1.5</td>\n",
       "      <td>Patient-specific</td>\n",
       "      <td>0.384954</td>\n",
       "    </tr>\n",
       "    <tr>\n",
       "      <th>2</th>\n",
       "      <td>S1</td>\n",
       "      <td>2.0</td>\n",
       "      <td>Aligned cross-patient</td>\n",
       "      <td>0.365787</td>\n",
       "    </tr>\n",
       "    <tr>\n",
       "      <th>3</th>\n",
       "      <td>S1</td>\n",
       "      <td>2.0</td>\n",
       "      <td>Patient-specific</td>\n",
       "      <td>0.363241</td>\n",
       "    </tr>\n",
       "    <tr>\n",
       "      <th>4</th>\n",
       "      <td>S1</td>\n",
       "      <td>3.0</td>\n",
       "      <td>Aligned cross-patient</td>\n",
       "      <td>0.283472</td>\n",
       "    </tr>\n",
       "    <tr>\n",
       "      <th>...</th>\n",
       "      <td>...</td>\n",
       "      <td>...</td>\n",
       "      <td>...</td>\n",
       "      <td>...</td>\n",
       "    </tr>\n",
       "    <tr>\n",
       "      <th>155</th>\n",
       "      <td>S8</td>\n",
       "      <td>8.0</td>\n",
       "      <td>Patient-specific</td>\n",
       "      <td>0.172809</td>\n",
       "    </tr>\n",
       "    <tr>\n",
       "      <th>156</th>\n",
       "      <td>S8</td>\n",
       "      <td>9.0</td>\n",
       "      <td>Aligned cross-patient</td>\n",
       "      <td>0.151461</td>\n",
       "    </tr>\n",
       "    <tr>\n",
       "      <th>157</th>\n",
       "      <td>S8</td>\n",
       "      <td>9.0</td>\n",
       "      <td>Patient-specific</td>\n",
       "      <td>0.162959</td>\n",
       "    </tr>\n",
       "    <tr>\n",
       "      <th>158</th>\n",
       "      <td>S8</td>\n",
       "      <td>10.0</td>\n",
       "      <td>Aligned cross-patient</td>\n",
       "      <td>0.143109</td>\n",
       "    </tr>\n",
       "    <tr>\n",
       "      <th>159</th>\n",
       "      <td>S8</td>\n",
       "      <td>10.0</td>\n",
       "      <td>Patient-specific</td>\n",
       "      <td>0.159625</td>\n",
       "    </tr>\n",
       "  </tbody>\n",
       "</table>\n",
       "<p>160 rows × 4 columns</p>\n",
       "</div>"
      ],
      "text/plain": [
       "    Patient  Pitch       Decoding Context  Decoding Accuracy\n",
       "0        S1    1.5  Aligned cross-patient           0.397130\n",
       "1        S1    1.5       Patient-specific           0.384954\n",
       "2        S1    2.0  Aligned cross-patient           0.365787\n",
       "3        S1    2.0       Patient-specific           0.363241\n",
       "4        S1    3.0  Aligned cross-patient           0.283472\n",
       "..      ...    ...                    ...                ...\n",
       "155      S8    8.0       Patient-specific           0.172809\n",
       "156      S8    9.0  Aligned cross-patient           0.151461\n",
       "157      S8    9.0       Patient-specific           0.162959\n",
       "158      S8   10.0  Aligned cross-patient           0.143109\n",
       "159      S8   10.0       Patient-specific           0.159625\n",
       "\n",
       "[160 rows x 4 columns]"
      ]
     },
     "execution_count": 59,
     "metadata": {},
     "output_type": "execute_result"
    }
   ],
   "source": [
    "mean_pitch_decode_df = pitch_decode_df_long.drop(columns=['Phoneme Index']).groupby(['Patient', 'Pitch', 'Decoding Context']).mean().reset_index()\n",
    "mean_pitch_decode_df"
   ]
  },
  {
   "cell_type": "code",
   "execution_count": null,
   "metadata": {},
   "outputs": [
    {
     "data": {
      "image/png": "[encoded data removed]",
      "text/plain": [
       "<Figure size 2400x800 with 8 Axes>"
      ]
     },
     "metadata": {},
     "output_type": "display_data"
    }
   ],
   "source": [
    "g = sns.FacetGrid(pitch_decode_df_long, col='Patient', col_wrap=4, height=4, aspect=1.5, sharey=False, sharex=False)\n",
    "g.map(sns.lineplot, 'Pitch', 'Decoding Accuracy', 'Decoding Context', marker='o', errorbar='sd', palette=[px_colors[3], px_colors[0]])\n",
    "\n",
    "\n",
    "for i, g_ax in enumerate(g.axes):\n",
    "    g_ax.invert_xaxis()\n",
    "    g_ax.set_xticks(pitch_list)\n",
    "    g_ax.set_xlabel('')\n",
    "    g_ax.set_ylabel('')\n",
    "    g_ax.axhline(1/9, color='grey', linestyle='--')\n",
    "    # g_ax.set_ylim(0.05, 0.45)\n",
    "    # g_ax.legend(loc='upper left')\n",
    "\n",
    "sns.despine()\n",
    "\n",
    "plt.show()"
   ]
  }
 ],
 "metadata": {
  "kernelspec": {
   "display_name": "micro_decode",
   "language": "python",
   "name": "python3"
  },
  "language_info": {
   "codemirror_mode": {
    "name": "ipython",
    "version": 3
   },
   "file_extension": ".py",
   "mimetype": "text/x-python",
   "name": "python",
   "nbconvert_exporter": "python",
   "pygments_lexer": "ipython3",
   "version": "3.11.5"
  }
 },
 "nbformat": 4,
 "nbformat_minor": 2
}
