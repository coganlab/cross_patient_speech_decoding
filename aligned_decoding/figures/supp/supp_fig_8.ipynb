{
 "cells": [
  {
   "cell_type": "markdown",
   "metadata": {},
   "source": [
    "# Imports"
   ]
  },
  {
   "cell_type": "code",
   "execution_count": 1,
   "metadata": {},
   "outputs": [],
   "source": [
    "import sys\n",
    "sys.path.append('../..')"
   ]
  },
  {
   "cell_type": "code",
   "execution_count": 2,
   "metadata": {},
   "outputs": [],
   "source": [
    "# analysis\n",
    "import numpy as np\n",
    "import pandas as pd\n",
    "import scipy.stats as stats\n",
    "from sklearn.metrics import confusion_matrix\n",
    "from statsmodels.stats.anova import AnovaRM\n",
    "from statsmodels.stats.multitest import fdrcorrection\n",
    "from statsmodels.stats.anova import anova_lm\n",
    "from statsmodels.formula.api import ols\n",
    "\n",
    "# plotting\n",
    "import matplotlib.pyplot as plt\n",
    "import matplotlib as mpl\n",
    "import seaborn as sns\n",
    "import plotly.express as px\n",
    "\n",
    "# local\n",
    "import alignment.alignment_utils as utils\n",
    "\n",
    "%matplotlib inline"
   ]
  },
  {
   "cell_type": "code",
   "execution_count": 3,
   "metadata": {},
   "outputs": [],
   "source": [
    "def mean_stat(a, b, axis=0):\n",
    "    return np.mean(a, axis=axis) - np.mean(b, axis=axis)"
   ]
  },
  {
   "cell_type": "markdown",
   "metadata": {},
   "source": [
    "# Params"
   ]
  },
  {
   "cell_type": "code",
   "execution_count": 4,
   "metadata": {},
   "outputs": [],
   "source": [
    "paper_pt_dict = {'S14': 'S1', 'S26': 'S2', 'S33': 'S3', 'S22': 'S4', 'S23': 'S5', 'S39': 'S6', 'S58': 'S7', 'S62': 'S8'}"
   ]
  },
  {
   "cell_type": "code",
   "execution_count": 5,
   "metadata": {},
   "outputs": [],
   "source": [
    "DATA_PATH = '../../data/results/decoding/'"
   ]
  },
  {
   "cell_type": "code",
   "execution_count": 6,
   "metadata": {},
   "outputs": [],
   "source": [
    "phon_labels = ['a', 'ae', 'i', 'u', 'b', 'p', 'v', 'g', 'k']\n",
    "artic_labels = ['low', 'high', 'labial', 'dorsal']\n",
    "phon_to_artic_dict = {1:1, 2:1, 3:2, 4:2, 5:3, 6:3, 7:3, 8:4, 9:4}"
   ]
  },
  {
   "cell_type": "code",
   "execution_count": 7,
   "metadata": {},
   "outputs": [],
   "source": [
    "def cmat_acc(y_true, y_pred):\n",
    "    cmat = confusion_matrix(y_true, y_pred)\n",
    "    acc_cmat = np.trace(cmat) / np.sum(cmat)\n",
    "    return acc_cmat\n",
    "\n",
    "def cmat_wrap(y_true_iter, y_pred_iter):\n",
    "    accs = []\n",
    "    for y_true, y_pred in zip(y_true_iter, y_pred_iter):\n",
    "        accs.append(cmat_acc(y_true, y_pred))\n",
    "    return np.array(accs)"
   ]
  },
  {
   "cell_type": "markdown",
   "metadata": {},
   "source": [
    "# Data Visualization"
   ]
  },
  {
   "cell_type": "markdown",
   "metadata": {},
   "source": [
    "### Plotting utils"
   ]
  },
  {
   "cell_type": "code",
   "execution_count": 14,
   "metadata": {},
   "outputs": [],
   "source": [
    "px_colors = [\n",
    "             '#636EFA',\n",
    "             '#EF553B',\n",
    "             '#AB63FA',\n",
    "             '#00CC96',\n",
    "            #  '#72B7B2',\n",
    "            #  '#990099',\n",
    "            #  '#B6E880',\n",
    "\n",
    "             \n",
    "            #  '#FFA15A',\n",
    "            #  '#19D3F3',\n",
    "            #  '#FF6692',\n",
    "            #  '#B6E880',\n",
    "            #  '#FF97FF',\n",
    "            #  '#FECB52',\n",
    "            ]"
   ]
  },
  {
   "cell_type": "code",
   "execution_count": 15,
   "metadata": {},
   "outputs": [],
   "source": [
    "# sns.set_theme(context='notebook', font='Arial', font_scale=1.15)\n",
    "sns.set_theme(font='Arial', font_scale=1.2, style='white', palette=px_colors)\n",
    "sns.set_style(rc={\n",
    "    # 'axes.edgecolor': 'gray',\n",
    "    'axes.linewidth': 0.5,\n",
    "    'xtick.bottom': True,\n",
    "    'ytick.left': True,\n",
    "    })"
   ]
  },
  {
   "cell_type": "code",
   "execution_count": 16,
   "metadata": {},
   "outputs": [],
   "source": [
    "from matplotlib.colors import LinearSegmentedColormap\n",
    "\n",
    "parula_data = cm_data = [[0.2422, 0.1504, 0.6603],\n",
    "[0.2444, 0.1534, 0.6728],\n",
    "[0.2464, 0.1569, 0.6847],\n",
    "[0.2484, 0.1607, 0.6961],\n",
    "[0.2503, 0.1648, 0.7071],\n",
    "[0.2522, 0.1689, 0.7179],\n",
    "[0.254, 0.1732, 0.7286],\n",
    "[0.2558, 0.1773, 0.7393],\n",
    "[0.2576, 0.1814, 0.7501],\n",
    "[0.2594, 0.1854, 0.761],\n",
    "[0.2611, 0.1893, 0.7719],\n",
    "[0.2628, 0.1932, 0.7828],\n",
    "[0.2645, 0.1972, 0.7937],\n",
    "[0.2661, 0.2011, 0.8043],\n",
    "[0.2676, 0.2052, 0.8148],\n",
    "[0.2691, 0.2094, 0.8249],\n",
    "[0.2704, 0.2138, 0.8346],\n",
    "[0.2717, 0.2184, 0.8439],\n",
    "[0.2729, 0.2231, 0.8528],\n",
    "[0.274, 0.228, 0.8612],\n",
    "[0.2749, 0.233, 0.8692],\n",
    "[0.2758, 0.2382, 0.8767],\n",
    "[0.2766, 0.2435, 0.884],\n",
    "[0.2774, 0.2489, 0.8908],\n",
    "[0.2781, 0.2543, 0.8973],\n",
    "[0.2788, 0.2598, 0.9035],\n",
    "[0.2794, 0.2653, 0.9094],\n",
    "[0.2798, 0.2708, 0.915],\n",
    "[0.2802, 0.2764, 0.9204],\n",
    "[0.2806, 0.2819, 0.9255],\n",
    "[0.2809, 0.2875, 0.9305],\n",
    "[0.2811, 0.293, 0.9352],\n",
    "[0.2813, 0.2985, 0.9397],\n",
    "[0.2814, 0.304, 0.9441],\n",
    "[0.2814, 0.3095, 0.9483],\n",
    "[0.2813, 0.315, 0.9524],\n",
    "[0.2811, 0.3204, 0.9563],\n",
    "[0.2809, 0.3259, 0.96],\n",
    "[0.2807, 0.3313, 0.9636],\n",
    "[0.2803, 0.3367, 0.967],\n",
    "[0.2798, 0.3421, 0.9702],\n",
    "[0.2791, 0.3475, 0.9733],\n",
    "[0.2784, 0.3529, 0.9763],\n",
    "[0.2776, 0.3583, 0.9791],\n",
    "[0.2766, 0.3638, 0.9817],\n",
    "[0.2754, 0.3693, 0.984],\n",
    "[0.2741, 0.3748, 0.9862],\n",
    "[0.2726, 0.3804, 0.9881],\n",
    "[0.271, 0.386, 0.9898],\n",
    "[0.2691, 0.3916, 0.9912],\n",
    "[0.267, 0.3973, 0.9924],\n",
    "[0.2647, 0.403, 0.9935],\n",
    "[0.2621, 0.4088, 0.9946],\n",
    "[0.2591, 0.4145, 0.9955],\n",
    "[0.2556, 0.4203, 0.9965],\n",
    "[0.2517, 0.4261, 0.9974],\n",
    "[0.2473, 0.4319, 0.9983],\n",
    "[0.2424, 0.4378, 0.9991],\n",
    "[0.2369, 0.4437, 0.9996],\n",
    "[0.2311, 0.4497, 0.9995],\n",
    "[0.225, 0.4559, 0.9985],\n",
    "[0.2189, 0.462, 0.9968],\n",
    "[0.2128, 0.4682, 0.9948],\n",
    "[0.2066, 0.4743, 0.9926],\n",
    "[0.2006, 0.4803, 0.9906],\n",
    "[0.195, 0.4861, 0.9887],\n",
    "[0.1903, 0.4919, 0.9867],\n",
    "[0.1869, 0.4975, 0.9844],\n",
    "[0.1847, 0.503, 0.9819],\n",
    "[0.1831, 0.5084, 0.9793],\n",
    "[0.1818, 0.5138, 0.9766],\n",
    "[0.1806, 0.5191, 0.9738],\n",
    "[0.1795, 0.5244, 0.9709],\n",
    "[0.1785, 0.5296, 0.9677],\n",
    "[0.1778, 0.5349, 0.9641],\n",
    "[0.1773, 0.5401, 0.9602],\n",
    "[0.1768, 0.5452, 0.956],\n",
    "[0.1764, 0.5504, 0.9516],\n",
    "[0.1755, 0.5554, 0.9473],\n",
    "[0.174, 0.5605, 0.9432],\n",
    "[0.1716, 0.5655, 0.9393],\n",
    "[0.1686, 0.5705, 0.9357],\n",
    "[0.1649, 0.5755, 0.9323],\n",
    "[0.161, 0.5805, 0.9289],\n",
    "[0.1573, 0.5854, 0.9254],\n",
    "[0.154, 0.5902, 0.9218],\n",
    "[0.1513, 0.595, 0.9182],\n",
    "[0.1492, 0.5997, 0.9147],\n",
    "[0.1475, 0.6043, 0.9113],\n",
    "[0.1461, 0.6089, 0.908],\n",
    "[0.1446, 0.6135, 0.905],\n",
    "[0.1429, 0.618, 0.9022],\n",
    "[0.1408, 0.6226, 0.8998],\n",
    "[0.1383, 0.6272, 0.8975],\n",
    "[0.1354, 0.6317, 0.8953],\n",
    "[0.1321, 0.6363, 0.8932],\n",
    "[0.1288, 0.6408, 0.891],\n",
    "[0.1253, 0.6453, 0.8887],\n",
    "[0.1219, 0.6497, 0.8862],\n",
    "[0.1185, 0.6541, 0.8834],\n",
    "[0.1152, 0.6584, 0.8804],\n",
    "[0.1119, 0.6627, 0.877],\n",
    "[0.1085, 0.6669, 0.8734],\n",
    "[0.1048, 0.671, 0.8695],\n",
    "[0.1009, 0.675, 0.8653],\n",
    "[0.0964, 0.6789, 0.8609],\n",
    "[0.0914, 0.6828, 0.8562],\n",
    "[0.0855, 0.6865, 0.8513],\n",
    "[0.0789, 0.6902, 0.8462],\n",
    "[0.0713, 0.6938, 0.8409],\n",
    "[0.0628, 0.6972, 0.8355],\n",
    "[0.0535, 0.7006, 0.8299],\n",
    "[0.0433, 0.7039, 0.8242],\n",
    "[0.0328, 0.7071, 0.8183],\n",
    "[0.0234, 0.7103, 0.8124],\n",
    "[0.0155, 0.7133, 0.8064],\n",
    "[0.0091, 0.7163, 0.8003],\n",
    "[0.0046, 0.7192, 0.7941],\n",
    "[0.0019, 0.722, 0.7878],\n",
    "[0.0009, 0.7248, 0.7815],\n",
    "[0.0018, 0.7275, 0.7752],\n",
    "[0.0046, 0.7301, 0.7688],\n",
    "[0.0094, 0.7327, 0.7623],\n",
    "[0.0162, 0.7352, 0.7558],\n",
    "[0.0253, 0.7376, 0.7492],\n",
    "[0.0369, 0.74, 0.7426],\n",
    "[0.0504, 0.7423, 0.7359],\n",
    "[0.0638, 0.7446, 0.7292],\n",
    "[0.077, 0.7468, 0.7224],\n",
    "[0.0899, 0.7489, 0.7156],\n",
    "[0.1023, 0.751, 0.7088],\n",
    "[0.1141, 0.7531, 0.7019],\n",
    "[0.1252, 0.7552, 0.695],\n",
    "[0.1354, 0.7572, 0.6881],\n",
    "[0.1448, 0.7593, 0.6812],\n",
    "[0.1532, 0.7614, 0.6741],\n",
    "[0.1609, 0.7635, 0.6671],\n",
    "[0.1678, 0.7656, 0.6599],\n",
    "[0.1741, 0.7678, 0.6527],\n",
    "[0.1799, 0.7699, 0.6454],\n",
    "[0.1853, 0.7721, 0.6379],\n",
    "[0.1905, 0.7743, 0.6303],\n",
    "[0.1954, 0.7765, 0.6225],\n",
    "[0.2003, 0.7787, 0.6146],\n",
    "[0.2061, 0.7808, 0.6065],\n",
    "[0.2118, 0.7828, 0.5983],\n",
    "[0.2178, 0.7849, 0.5899],\n",
    "[0.2244, 0.7869, 0.5813],\n",
    "[0.2318, 0.7887, 0.5725],\n",
    "[0.2401, 0.7905, 0.5636],\n",
    "[0.2491, 0.7922, 0.5546],\n",
    "[0.2589, 0.7937, 0.5454],\n",
    "[0.2695, 0.7951, 0.536],\n",
    "[0.2809, 0.7964, 0.5266],\n",
    "[0.2929, 0.7975, 0.517],\n",
    "[0.3052, 0.7985, 0.5074],\n",
    "[0.3176, 0.7994, 0.4975],\n",
    "[0.3301, 0.8002, 0.4876],\n",
    "[0.3424, 0.8009, 0.4774],\n",
    "[0.3548, 0.8016, 0.4669],\n",
    "[0.3671, 0.8021, 0.4563],\n",
    "[0.3795, 0.8026, 0.4454],\n",
    "[0.3921, 0.8029, 0.4344],\n",
    "[0.405, 0.8031, 0.4233],\n",
    "[0.4184, 0.803, 0.4122],\n",
    "[0.4322, 0.8028, 0.4013],\n",
    "[0.4463, 0.8024, 0.3904],\n",
    "[0.4608, 0.8018, 0.3797],\n",
    "[0.4753, 0.8011, 0.3691],\n",
    "[0.4899, 0.8002, 0.3586],\n",
    "[0.5044, 0.7993, 0.348],\n",
    "[0.5187, 0.7982, 0.3374],\n",
    "[0.5329, 0.797, 0.3267],\n",
    "[0.547, 0.7957, 0.3159],\n",
    "[0.5609, 0.7943, 0.305],\n",
    "[0.5748, 0.7929, 0.2941],\n",
    "[0.5886, 0.7913, 0.2833],\n",
    "[0.6024, 0.7896, 0.2726],\n",
    "[0.6161, 0.7878, 0.2622],\n",
    "[0.6297, 0.7859, 0.2521],\n",
    "[0.6433, 0.7839, 0.2423],\n",
    "[0.6567, 0.7818, 0.2329],\n",
    "[0.6701, 0.7796, 0.2239],\n",
    "[0.6833, 0.7773, 0.2155],\n",
    "[0.6963, 0.775, 0.2075],\n",
    "[0.7091, 0.7727, 0.1998],\n",
    "[0.7218, 0.7703, 0.1924],\n",
    "[0.7344, 0.7679, 0.1852],\n",
    "[0.7468, 0.7654, 0.1782],\n",
    "[0.759, 0.7629, 0.1717],\n",
    "[0.771, 0.7604, 0.1658],\n",
    "[0.7829, 0.7579, 0.1608],\n",
    "[0.7945, 0.7554, 0.157],\n",
    "[0.806, 0.7529, 0.1546],\n",
    "[0.8172, 0.7505, 0.1535],\n",
    "[0.8281, 0.7481, 0.1536],\n",
    "[0.8389, 0.7457, 0.1546],\n",
    "[0.8495, 0.7435, 0.1564],\n",
    "[0.86, 0.7413, 0.1587],\n",
    "[0.8703, 0.7392, 0.1615],\n",
    "[0.8804, 0.7372, 0.165],\n",
    "[0.8903, 0.7353, 0.1695],\n",
    "[0.9, 0.7336, 0.1749],\n",
    "[0.9093, 0.7321, 0.1815],\n",
    "[0.9184, 0.7308, 0.189],\n",
    "[0.9272, 0.7298, 0.1973],\n",
    "[0.9357, 0.729, 0.2061],\n",
    "[0.944, 0.7285, 0.2151],\n",
    "[0.9523, 0.7284, 0.2237],\n",
    "[0.9606, 0.7285, 0.2312],\n",
    "[0.9689, 0.7292, 0.2373],\n",
    "[0.977, 0.7304, 0.2418],\n",
    "[0.9842, 0.733, 0.2446],\n",
    "[0.99, 0.7365, 0.2429],\n",
    "[0.9946, 0.7407, 0.2394],\n",
    "[0.9966, 0.7458, 0.2351],\n",
    "[0.9971, 0.7513, 0.2309],\n",
    "[0.9972, 0.7569, 0.2267],\n",
    "[0.9971, 0.7626, 0.2224],\n",
    "[0.9969, 0.7683, 0.2181],\n",
    "[0.9966, 0.774, 0.2138],\n",
    "[0.9962, 0.7798, 0.2095],\n",
    "[0.9957, 0.7856, 0.2053],\n",
    "[0.9949, 0.7915, 0.2012],\n",
    "[0.9938, 0.7974, 0.1974],\n",
    "[0.9923, 0.8034, 0.1939],\n",
    "[0.9906, 0.8095, 0.1906],\n",
    "[0.9885, 0.8156, 0.1875],\n",
    "[0.9861, 0.8218, 0.1846],\n",
    "[0.9835, 0.828, 0.1817],\n",
    "[0.9807, 0.8342, 0.1787],\n",
    "[0.9778, 0.8404, 0.1757],\n",
    "[0.9748, 0.8467, 0.1726],\n",
    "[0.972, 0.8529, 0.1695],\n",
    "[0.9694, 0.8591, 0.1665],\n",
    "[0.9671, 0.8654, 0.1636],\n",
    "[0.9651, 0.8716, 0.1608],\n",
    "[0.9634, 0.8778, 0.1582],\n",
    "[0.9619, 0.884, 0.1557],\n",
    "[0.9608, 0.8902, 0.1532],\n",
    "[0.9601, 0.8963, 0.1507],\n",
    "[0.9596, 0.9023, 0.148],\n",
    "[0.9595, 0.9084, 0.145],\n",
    "[0.9597, 0.9143, 0.1418],\n",
    "[0.9601, 0.9203, 0.1382],\n",
    "[0.9608, 0.9262, 0.1344],\n",
    "[0.9618, 0.932, 0.1304],\n",
    "[0.9629, 0.9379, 0.1261],\n",
    "[0.9642, 0.9437, 0.1216],\n",
    "[0.9657, 0.9494, 0.1168],\n",
    "[0.9674, 0.9552, 0.1116],\n",
    "[0.9692, 0.9609, 0.1061],\n",
    "[0.9711, 0.9667, 0.1001],\n",
    "[0.973, 0.9724, 0.0938],\n",
    "[0.9749, 0.9782, 0.0872],\n",
    "[0.9769, 0.9839, 0.0805]]\n",
    "\n",
    "parula_map = LinearSegmentedColormap.from_list('parula', parula_data)"
   ]
  },
  {
   "cell_type": "code",
   "execution_count": 17,
   "metadata": {},
   "outputs": [],
   "source": [
    "from mpl_toolkits.axes_grid1 import make_axes_locatable\n",
    "\n",
    "def chan_disp(data, chan_map, title, label, figsize=(8, 6), cbar_lower=None, cbar_upper=None, cmap=None):\n",
    "\n",
    "    mean_val = np.nanmean(data)\n",
    "    std_val = np.nanstd(data)\n",
    "    std_mult = 3\n",
    "    # clim = [max(0, mean_val - std_mult*std_val), mean_val + std_mult*std_val]\n",
    "    if cbar_lower is None:\n",
    "        cbar_lower = mean_val - std_mult*std_val\n",
    "    if cbar_upper is None:\n",
    "        cbar_upper = mean_val + std_mult*std_val\n",
    "    clim = [cbar_lower, cbar_upper]\n",
    "\n",
    "    if cmap is None:\n",
    "        cmap = parula_map\n",
    "\n",
    "    chan_data = np.array([data[int(i)] if not np.isnan(i) else np.nan for i in (chan_map.flatten()-1)])\n",
    "    chan_data = chan_data.reshape(chan_map.shape)\n",
    "    f = plt.figure(figsize=figsize)\n",
    "    im = plt.imshow(chan_data, cmap=parula_map)\n",
    "    im.set_clim(clim[0], clim[1])\n",
    "    # plt.gca().invert_yaxis()\n",
    "    # plt.contourf(chan_data, cmap='viridis')\n",
    "    plt.xticks([])\n",
    "    plt.yticks([])\n",
    "    plt.title(title)\n",
    "\n",
    "    divider = make_axes_locatable(plt.gca())\n",
    "    cax = divider.append_axes('right', size='5%', pad=0.05)\n",
    "\n",
    "    cbar = plt.colorbar(im, cax=cax)\n",
    "    cbar.set_label(label)\n",
    "    cbar.outline.set_visible(False)\n",
    "\n",
    "    sns.despine(left=True, bottom=True)\n",
    "    \n",
    "    plt.show()\n",
    "\n",
    "def chan_disp_seq(data, chan_map, t, t_ranges, labs, title, label, figsize=(3, 6), cbar_pos=[0.81, 0.56, 0.01, 0.3], sup_pos=0.95, cbar_lower=None, cbar_upper=None):\n",
    "    f, tot_axs = plt.subplots(len(labs), len(t_ranges), figsize=(figsize[0]*len(t_ranges), figsize[1]*len(labs)))\n",
    "\n",
    "    if len(labs) == 1:\n",
    "        tot_axs = tot_axs[np.newaxis,:]\n",
    "\n",
    "    mean_val = np.nanmean(data)\n",
    "    std_val = np.nanstd(data)\n",
    "    std_mult = 3\n",
    "    # clim = [max(0, mean_val - std_mult*std_val), mean_val + std_mult*std_val]\n",
    "    if cbar_lower is None:\n",
    "        cbar_lower = mean_val - std_mult*std_val\n",
    "    if cbar_upper is None:\n",
    "        cbar_upper = mean_val + std_mult*std_val\n",
    "    clim = [cbar_lower, cbar_upper]\n",
    "\n",
    "    for j, lab in enumerate(labs):\n",
    "        lab_data = data[j]\n",
    "        axs = tot_axs[j]\n",
    "        for i, t_range in enumerate(t_ranges):\n",
    "            t_inds = np.where((t >= t_range[0]) & (t < t_range[1]))[0]\n",
    "            chan_data = np.array([lab_data[t_inds,:].mean(axis=0)[int(k)] if not np.isnan(k) else np.nan for k in (chan_map.flatten()-1)])\n",
    "            chan_data = chan_data.reshape(chan_map.shape)\n",
    "            im = axs[i].imshow(chan_data, cmap=parula_map)\n",
    "            im.set_clim(clim[0], clim[1])\n",
    "            if i==0:\n",
    "                axs[i].set_ylabel(lab)\n",
    "            if j==0:\n",
    "                axs[i].set_title(f'{t_range[0]} -> {t_range[1]}s')\n",
    "            axs[i].set_xticks([])\n",
    "            axs[i].set_yticks([])\n",
    "            \n",
    "\n",
    "        # divider = make_axes_locatable(plt.gca())\n",
    "        # cax = divider.append_axes('right', size='5%', pad=0.05)\n",
    "\n",
    "        # cbar = plt.colorbar(im, cax=cax)\n",
    "        \n",
    "        # cbar.set_label(label)\n",
    "    f.subplots_adjust(right=0.8)\n",
    "    cbar_ax = f.add_axes(cbar_pos)\n",
    "    cbar = f.colorbar(im, cax=cbar_ax)\n",
    "    cbar.set_label(label)\n",
    "\n",
    "    # f.tight_layout(rect=[0, 0.03, 1, 0.95])\n",
    "    f.suptitle(title, y=sup_pos)\n",
    "    plt.show()"
   ]
  },
  {
   "cell_type": "code",
   "execution_count": 18,
   "metadata": {},
   "outputs": [],
   "source": [
    "def rgb2hex(r,g,b):\n",
    "    return \"#{:02x}{:02x}{:02x}\".format(r,g,b)"
   ]
  },
  {
   "cell_type": "code",
   "execution_count": 19,
   "metadata": {},
   "outputs": [],
   "source": [
    "def get_ci_data(ax):\n",
    "    paths = [child for child in ax.get_children() if isinstance(child, mpl.collections.PolyCollection)]\n",
    "    ci_data = []\n",
    "    for path in paths:\n",
    "        vertices = path.get_paths()[0].vertices  # Array of shape (n, 2)\n",
    "\n",
    "        # ci y coords - contains lower bounds then upper bounds in 1D array\n",
    "        ci_vals_tot = vertices[:-1, 1]\n",
    "\n",
    "        ci_vals = np.zeros((200, 2))\n",
    "        ci_vals[:,0] = ci_vals_tot[1:201]\n",
    "        ci_vals[:,1] = ci_vals_tot[201:-1]\n",
    "        ci_vals[:,1] = ci_vals[:,1][::-1] # reverse the order of the second half\n",
    "        ci_data.append(ci_vals)\n",
    "        \n",
    "    return ci_data"
   ]
  },
  {
   "cell_type": "markdown",
   "metadata": {},
   "source": [
    "### Target patient excluded from training data"
   ]
  },
  {
   "cell_type": "code",
   "execution_count": 8,
   "metadata": {},
   "outputs": [],
   "source": [
    "pt_list = ['S14', 'S26', 'S33', 'S22', 'S23', 'S39', 'S58', 'S62']\n",
    "pInd_list = [-1]\n",
    "\n",
    "wide_dfs = []\n",
    "long_dfs = []\n",
    "for pt in pt_list:\n",
    "    for p_ind in pInd_list:\n",
    "        p_str = 'pAll' if p_ind == -1 else f'p{p_ind}'\n",
    "        \n",
    "        p_tar = np.zeros((3, 50))\n",
    "        p_tar[0,:] = cmat_wrap(*[utils.load_pkl(DATA_PATH + f'pooled/S62_added/{pt}/unaligned/{pt}_{p_str}_pooled_unaligned_rbf_noTar_noCV.pkl')[k] for k in ['y_true', 'y_pred']])\n",
    "        p_tar[1,:] = cmat_wrap(*[utils.load_pkl(DATA_PATH + f'pooled/S62_added/{pt}/cca/{pt}_{p_str}_pooled_ccaAligned_rbf_noTar_noCV.pkl')[k] for k in ['y_true', 'y_pred']])\n",
    "        p_tar[2,:] = cmat_wrap(*[utils.load_pkl(DATA_PATH + f'pooled/S62_added/{pt}/cca/{pt}_{p_str}_pooled_ccaAligned_rbf_noTar_TME_noCV.pkl')[k] for k in ['y_true', 'y_pred']])\n",
    "        decode_df = pd.DataFrame(p_tar.T, columns=['Unaligned', 'Aligned', 'Aligned (surrogate data)'])\n",
    "\n",
    "\n",
    "        wide_dfs.append(decode_df)\n",
    "        decode_df = pd.melt(decode_df, var_name='Decoding Context', value_name='accuracy')\n",
    "        decode_df['Patient'] = paper_pt_dict[pt]\n",
    "        decode_df['Phoneme Index'] = p_str\n",
    "        cols = decode_df.columns.tolist()\n",
    "        cols = cols[-1:] + cols[:-1]\n",
    "        decode_df = decode_df[cols]\n",
    "        long_dfs.append(decode_df)\n",
    "        \n",
    "noTar_decode_df_wide = pd.concat(wide_dfs)\n",
    "noTar_decode_df_long = pd.concat(long_dfs)"
   ]
  },
  {
   "cell_type": "code",
   "execution_count": 9,
   "metadata": {},
   "outputs": [
    {
     "data": {
      "application/vnd.microsoft.datawrangler.viewer.v0+json": {
       "columns": [
        {
         "name": "index",
         "rawType": "int64",
         "type": "integer"
        },
        {
         "name": "Phoneme Index",
         "rawType": "object",
         "type": "string"
        },
        {
         "name": "Decoding Context",
         "rawType": "object",
         "type": "string"
        },
        {
         "name": "accuracy",
         "rawType": "float64",
         "type": "float"
        },
        {
         "name": "Patient",
         "rawType": "object",
         "type": "string"
        }
       ],
       "ref": "6f58cf1f-2976-466b-9b29-35fea60fe0a4",
       "rows": [
        [
         "0",
         "pAll",
         "Unaligned",
         "0.125",
         "S1"
        ],
        [
         "1",
         "pAll",
         "Unaligned",
         "0.12268518518518519",
         "S1"
        ],
        [
         "2",
         "pAll",
         "Unaligned",
         "0.12037037037037036",
         "S1"
        ],
        [
         "3",
         "pAll",
         "Unaligned",
         "0.14351851851851852",
         "S1"
        ],
        [
         "4",
         "pAll",
         "Unaligned",
         "0.11574074074074074",
         "S1"
        ],
        [
         "5",
         "pAll",
         "Unaligned",
         "0.12731481481481483",
         "S1"
        ],
        [
         "6",
         "pAll",
         "Unaligned",
         "0.12037037037037036",
         "S1"
        ],
        [
         "7",
         "pAll",
         "Unaligned",
         "0.125",
         "S1"
        ],
        [
         "8",
         "pAll",
         "Unaligned",
         "0.12037037037037036",
         "S1"
        ],
        [
         "9",
         "pAll",
         "Unaligned",
         "0.12268518518518519",
         "S1"
        ],
        [
         "10",
         "pAll",
         "Unaligned",
         "0.12268518518518519",
         "S1"
        ],
        [
         "11",
         "pAll",
         "Unaligned",
         "0.13194444444444445",
         "S1"
        ],
        [
         "12",
         "pAll",
         "Unaligned",
         "0.13194444444444445",
         "S1"
        ],
        [
         "13",
         "pAll",
         "Unaligned",
         "0.12037037037037036",
         "S1"
        ],
        [
         "14",
         "pAll",
         "Unaligned",
         "0.13194444444444445",
         "S1"
        ],
        [
         "15",
         "pAll",
         "Unaligned",
         "0.12037037037037036",
         "S1"
        ],
        [
         "16",
         "pAll",
         "Unaligned",
         "0.1388888888888889",
         "S1"
        ],
        [
         "17",
         "pAll",
         "Unaligned",
         "0.13194444444444445",
         "S1"
        ],
        [
         "18",
         "pAll",
         "Unaligned",
         "0.13194444444444445",
         "S1"
        ],
        [
         "19",
         "pAll",
         "Unaligned",
         "0.14351851851851852",
         "S1"
        ],
        [
         "20",
         "pAll",
         "Unaligned",
         "0.125",
         "S1"
        ],
        [
         "21",
         "pAll",
         "Unaligned",
         "0.125",
         "S1"
        ],
        [
         "22",
         "pAll",
         "Unaligned",
         "0.13425925925925927",
         "S1"
        ],
        [
         "23",
         "pAll",
         "Unaligned",
         "0.1111111111111111",
         "S1"
        ],
        [
         "24",
         "pAll",
         "Unaligned",
         "0.10416666666666667",
         "S1"
        ],
        [
         "25",
         "pAll",
         "Unaligned",
         "0.12268518518518519",
         "S1"
        ],
        [
         "26",
         "pAll",
         "Unaligned",
         "0.12037037037037036",
         "S1"
        ],
        [
         "27",
         "pAll",
         "Unaligned",
         "0.10648148148148148",
         "S1"
        ],
        [
         "28",
         "pAll",
         "Unaligned",
         "0.11805555555555555",
         "S1"
        ],
        [
         "29",
         "pAll",
         "Unaligned",
         "0.125",
         "S1"
        ],
        [
         "30",
         "pAll",
         "Unaligned",
         "0.12731481481481483",
         "S1"
        ],
        [
         "31",
         "pAll",
         "Unaligned",
         "0.12268518518518519",
         "S1"
        ],
        [
         "32",
         "pAll",
         "Unaligned",
         "0.13425925925925927",
         "S1"
        ],
        [
         "33",
         "pAll",
         "Unaligned",
         "0.13657407407407407",
         "S1"
        ],
        [
         "34",
         "pAll",
         "Unaligned",
         "0.12962962962962962",
         "S1"
        ],
        [
         "35",
         "pAll",
         "Unaligned",
         "0.13657407407407407",
         "S1"
        ],
        [
         "36",
         "pAll",
         "Unaligned",
         "0.11574074074074074",
         "S1"
        ],
        [
         "37",
         "pAll",
         "Unaligned",
         "0.12268518518518519",
         "S1"
        ],
        [
         "38",
         "pAll",
         "Unaligned",
         "0.14583333333333334",
         "S1"
        ],
        [
         "39",
         "pAll",
         "Unaligned",
         "0.1087962962962963",
         "S1"
        ],
        [
         "40",
         "pAll",
         "Unaligned",
         "0.1111111111111111",
         "S1"
        ],
        [
         "41",
         "pAll",
         "Unaligned",
         "0.11805555555555555",
         "S1"
        ],
        [
         "42",
         "pAll",
         "Unaligned",
         "0.1111111111111111",
         "S1"
        ],
        [
         "43",
         "pAll",
         "Unaligned",
         "0.11342592592592593",
         "S1"
        ],
        [
         "44",
         "pAll",
         "Unaligned",
         "0.12731481481481483",
         "S1"
        ],
        [
         "45",
         "pAll",
         "Unaligned",
         "0.1388888888888889",
         "S1"
        ],
        [
         "46",
         "pAll",
         "Unaligned",
         "0.12037037037037036",
         "S1"
        ],
        [
         "47",
         "pAll",
         "Unaligned",
         "0.11574074074074074",
         "S1"
        ],
        [
         "48",
         "pAll",
         "Unaligned",
         "0.11805555555555555",
         "S1"
        ],
        [
         "49",
         "pAll",
         "Unaligned",
         "0.12268518518518519",
         "S1"
        ]
       ],
       "shape": {
        "columns": 4,
        "rows": 1200
       }
      },
      "text/html": [
       "<div>\n",
       "<style scoped>\n",
       "    .dataframe tbody tr th:only-of-type {\n",
       "        vertical-align: middle;\n",
       "    }\n",
       "\n",
       "    .dataframe tbody tr th {\n",
       "        vertical-align: top;\n",
       "    }\n",
       "\n",
       "    .dataframe thead th {\n",
       "        text-align: right;\n",
       "    }\n",
       "</style>\n",
       "<table border=\"1\" class=\"dataframe\">\n",
       "  <thead>\n",
       "    <tr style=\"text-align: right;\">\n",
       "      <th></th>\n",
       "      <th>Phoneme Index</th>\n",
       "      <th>Decoding Context</th>\n",
       "      <th>accuracy</th>\n",
       "      <th>Patient</th>\n",
       "    </tr>\n",
       "  </thead>\n",
       "  <tbody>\n",
       "    <tr>\n",
       "      <th>0</th>\n",
       "      <td>pAll</td>\n",
       "      <td>Unaligned</td>\n",
       "      <td>0.125000</td>\n",
       "      <td>S1</td>\n",
       "    </tr>\n",
       "    <tr>\n",
       "      <th>1</th>\n",
       "      <td>pAll</td>\n",
       "      <td>Unaligned</td>\n",
       "      <td>0.122685</td>\n",
       "      <td>S1</td>\n",
       "    </tr>\n",
       "    <tr>\n",
       "      <th>2</th>\n",
       "      <td>pAll</td>\n",
       "      <td>Unaligned</td>\n",
       "      <td>0.120370</td>\n",
       "      <td>S1</td>\n",
       "    </tr>\n",
       "    <tr>\n",
       "      <th>3</th>\n",
       "      <td>pAll</td>\n",
       "      <td>Unaligned</td>\n",
       "      <td>0.143519</td>\n",
       "      <td>S1</td>\n",
       "    </tr>\n",
       "    <tr>\n",
       "      <th>4</th>\n",
       "      <td>pAll</td>\n",
       "      <td>Unaligned</td>\n",
       "      <td>0.115741</td>\n",
       "      <td>S1</td>\n",
       "    </tr>\n",
       "    <tr>\n",
       "      <th>...</th>\n",
       "      <td>...</td>\n",
       "      <td>...</td>\n",
       "      <td>...</td>\n",
       "      <td>...</td>\n",
       "    </tr>\n",
       "    <tr>\n",
       "      <th>145</th>\n",
       "      <td>pAll</td>\n",
       "      <td>Aligned (surrogate data)</td>\n",
       "      <td>0.129213</td>\n",
       "      <td>S8</td>\n",
       "    </tr>\n",
       "    <tr>\n",
       "      <th>146</th>\n",
       "      <td>pAll</td>\n",
       "      <td>Aligned (surrogate data)</td>\n",
       "      <td>0.125468</td>\n",
       "      <td>S8</td>\n",
       "    </tr>\n",
       "    <tr>\n",
       "      <th>147</th>\n",
       "      <td>pAll</td>\n",
       "      <td>Aligned (surrogate data)</td>\n",
       "      <td>0.119850</td>\n",
       "      <td>S8</td>\n",
       "    </tr>\n",
       "    <tr>\n",
       "      <th>148</th>\n",
       "      <td>pAll</td>\n",
       "      <td>Aligned (surrogate data)</td>\n",
       "      <td>0.127341</td>\n",
       "      <td>S8</td>\n",
       "    </tr>\n",
       "    <tr>\n",
       "      <th>149</th>\n",
       "      <td>pAll</td>\n",
       "      <td>Aligned (surrogate data)</td>\n",
       "      <td>0.125468</td>\n",
       "      <td>S8</td>\n",
       "    </tr>\n",
       "  </tbody>\n",
       "</table>\n",
       "<p>1200 rows × 4 columns</p>\n",
       "</div>"
      ],
      "text/plain": [
       "    Phoneme Index          Decoding Context  accuracy Patient\n",
       "0            pAll                 Unaligned  0.125000      S1\n",
       "1            pAll                 Unaligned  0.122685      S1\n",
       "2            pAll                 Unaligned  0.120370      S1\n",
       "3            pAll                 Unaligned  0.143519      S1\n",
       "4            pAll                 Unaligned  0.115741      S1\n",
       "..            ...                       ...       ...     ...\n",
       "145          pAll  Aligned (surrogate data)  0.129213      S8\n",
       "146          pAll  Aligned (surrogate data)  0.125468      S8\n",
       "147          pAll  Aligned (surrogate data)  0.119850      S8\n",
       "148          pAll  Aligned (surrogate data)  0.127341      S8\n",
       "149          pAll  Aligned (surrogate data)  0.125468      S8\n",
       "\n",
       "[1200 rows x 4 columns]"
      ]
     },
     "execution_count": 9,
     "metadata": {},
     "output_type": "execute_result"
    }
   ],
   "source": [
    "noTar_decode_df_long"
   ]
  },
  {
   "cell_type": "code",
   "execution_count": 10,
   "metadata": {},
   "outputs": [
    {
     "data": {
      "application/vnd.plotly.v1+json": {
       "config": {
        "plotlyServerURL": "https://plot.ly"
       },
       "data": [
        {
         "alignmentgroup": "True",
         "boxpoints": "all",
         "hovertemplate": "Decoding Context=Unaligned<br>Patient=%{x}<br>accuracy=%{y}<extra></extra>",
         "legendgroup": "Unaligned",
         "marker": {
          "color": "#EF553B"
         },
         "name": "Unaligned",
         "notched": false,
         "offsetgroup": "Unaligned",
         "orientation": "v",
         "showlegend": true,
         "type": "box",
         "x": [
          "S1",
          "S1",
          "S1",
          "S1",
          "S1",
          "S1",
          "S1",
          "S1",
          "S1",
          "S1",
          "S1",
          "S1",
          "S1",
          "S1",
          "S1",
          "S1",
          "S1",
          "S1",
          "S1",
          "S1",
          "S1",
          "S1",
          "S1",
          "S1",
          "S1",
          "S1",
          "S1",
          "S1",
          "S1",
          "S1",
          "S1",
          "S1",
          "S1",
          "S1",
          "S1",
          "S1",
          "S1",
          "S1",
          "S1",
          "S1",
          "S1",
          "S1",
          "S1",
          "S1",
          "S1",
          "S1",
          "S1",
          "S1",
          "S1",
          "S1",
          "S2",
          "S2",
          "S2",
          "S2",
          "S2",
          "S2",
          "S2",
          "S2",
          "S2",
          "S2",
          "S2",
          "S2",
          "S2",
          "S2",
          "S2",
          "S2",
          "S2",
          "S2",
          "S2",
          "S2",
          "S2",
          "S2",
          "S2",
          "S2",
          "S2",
          "S2",
          "S2",
          "S2",
          "S2",
          "S2",
          "S2",
          "S2",
          "S2",
          "S2",
          "S2",
          "S2",
          "S2",
          "S2",
          "S2",
          "S2",
          "S2",
          "S2",
          "S2",
          "S2",
          "S2",
          "S2",
          "S2",
          "S2",
          "S2",
          "S2",
          "S3",
          "S3",
          "S3",
          "S3",
          "S3",
          "S3",
          "S3",
          "S3",
          "S3",
          "S3",
          "S3",
          "S3",
          "S3",
          "S3",
          "S3",
          "S3",
          "S3",
          "S3",
          "S3",
          "S3",
          "S3",
          "S3",
          "S3",
          "S3",
          "S3",
          "S3",
          "S3",
          "S3",
          "S3",
          "S3",
          "S3",
          "S3",
          "S3",
          "S3",
          "S3",
          "S3",
          "S3",
          "S3",
          "S3",
          "S3",
          "S3",
          "S3",
          "S3",
          "S3",
          "S3",
          "S3",
          "S3",
          "S3",
          "S3",
          "S3",
          "S4",
          "S4",
          "S4",
          "S4",
          "S4",
          "S4",
          "S4",
          "S4",
          "S4",
          "S4",
          "S4",
          "S4",
          "S4",
          "S4",
          "S4",
          "S4",
          "S4",
          "S4",
          "S4",
          "S4",
          "S4",
          "S4",
          "S4",
          "S4",
          "S4",
          "S4",
          "S4",
          "S4",
          "S4",
          "S4",
          "S4",
          "S4",
          "S4",
          "S4",
          "S4",
          "S4",
          "S4",
          "S4",
          "S4",
          "S4",
          "S4",
          "S4",
          "S4",
          "S4",
          "S4",
          "S4",
          "S4",
          "S4",
          "S4",
          "S4",
          "S5",
          "S5",
          "S5",
          "S5",
          "S5",
          "S5",
          "S5",
          "S5",
          "S5",
          "S5",
          "S5",
          "S5",
          "S5",
          "S5",
          "S5",
          "S5",
          "S5",
          "S5",
          "S5",
          "S5",
          "S5",
          "S5",
          "S5",
          "S5",
          "S5",
          "S5",
          "S5",
          "S5",
          "S5",
          "S5",
          "S5",
          "S5",
          "S5",
          "S5",
          "S5",
          "S5",
          "S5",
          "S5",
          "S5",
          "S5",
          "S5",
          "S5",
          "S5",
          "S5",
          "S5",
          "S5",
          "S5",
          "S5",
          "S5",
          "S5",
          "S6",
          "S6",
          "S6",
          "S6",
          "S6",
          "S6",
          "S6",
          "S6",
          "S6",
          "S6",
          "S6",
          "S6",
          "S6",
          "S6",
          "S6",
          "S6",
          "S6",
          "S6",
          "S6",
          "S6",
          "S6",
          "S6",
          "S6",
          "S6",
          "S6",
          "S6",
          "S6",
          "S6",
          "S6",
          "S6",
          "S6",
          "S6",
          "S6",
          "S6",
          "S6",
          "S6",
          "S6",
          "S6",
          "S6",
          "S6",
          "S6",
          "S6",
          "S6",
          "S6",
          "S6",
          "S6",
          "S6",
          "S6",
          "S6",
          "S6",
          "S7",
          "S7",
          "S7",
          "S7",
          "S7",
          "S7",
          "S7",
          "S7",
          "S7",
          "S7",
          "S7",
          "S7",
          "S7",
          "S7",
          "S7",
          "S7",
          "S7",
          "S7",
          "S7",
          "S7",
          "S7",
          "S7",
          "S7",
          "S7",
          "S7",
          "S7",
          "S7",
          "S7",
          "S7",
          "S7",
          "S7",
          "S7",
          "S7",
          "S7",
          "S7",
          "S7",
          "S7",
          "S7",
          "S7",
          "S7",
          "S7",
          "S7",
          "S7",
          "S7",
          "S7",
          "S7",
          "S7",
          "S7",
          "S7",
          "S7",
          "S8",
          "S8",
          "S8",
          "S8",
          "S8",
          "S8",
          "S8",
          "S8",
          "S8",
          "S8",
          "S8",
          "S8",
          "S8",
          "S8",
          "S8",
          "S8",
          "S8",
          "S8",
          "S8",
          "S8",
          "S8",
          "S8",
          "S8",
          "S8",
          "S8",
          "S8",
          "S8",
          "S8",
          "S8",
          "S8",
          "S8",
          "S8",
          "S8",
          "S8",
          "S8",
          "S8",
          "S8",
          "S8",
          "S8",
          "S8",
          "S8",
          "S8",
          "S8",
          "S8",
          "S8",
          "S8",
          "S8",
          "S8",
          "S8",
          "S8"
         ],
         "x0": " ",
         "xaxis": "x",
         "y": {
          "bdata": "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",
          "dtype": "f8"
         },
         "y0": " ",
         "yaxis": "y"
        },
        {
         "alignmentgroup": "True",
         "boxpoints": "all",
         "hovertemplate": "Decoding Context=Aligned<br>Patient=%{x}<br>accuracy=%{y}<extra></extra>",
         "legendgroup": "Aligned",
         "marker": {
          "color": "#AB63FA"
         },
         "name": "Aligned",
         "notched": false,
         "offsetgroup": "Aligned",
         "orientation": "v",
         "showlegend": true,
         "type": "box",
         "x": [
          "S1",
          "S1",
          "S1",
          "S1",
          "S1",
          "S1",
          "S1",
          "S1",
          "S1",
          "S1",
          "S1",
          "S1",
          "S1",
          "S1",
          "S1",
          "S1",
          "S1",
          "S1",
          "S1",
          "S1",
          "S1",
          "S1",
          "S1",
          "S1",
          "S1",
          "S1",
          "S1",
          "S1",
          "S1",
          "S1",
          "S1",
          "S1",
          "S1",
          "S1",
          "S1",
          "S1",
          "S1",
          "S1",
          "S1",
          "S1",
          "S1",
          "S1",
          "S1",
          "S1",
          "S1",
          "S1",
          "S1",
          "S1",
          "S1",
          "S1",
          "S2",
          "S2",
          "S2",
          "S2",
          "S2",
          "S2",
          "S2",
          "S2",
          "S2",
          "S2",
          "S2",
          "S2",
          "S2",
          "S2",
          "S2",
          "S2",
          "S2",
          "S2",
          "S2",
          "S2",
          "S2",
          "S2",
          "S2",
          "S2",
          "S2",
          "S2",
          "S2",
          "S2",
          "S2",
          "S2",
          "S2",
          "S2",
          "S2",
          "S2",
          "S2",
          "S2",
          "S2",
          "S2",
          "S2",
          "S2",
          "S2",
          "S2",
          "S2",
          "S2",
          "S2",
          "S2",
          "S2",
          "S2",
          "S2",
          "S2",
          "S3",
          "S3",
          "S3",
          "S3",
          "S3",
          "S3",
          "S3",
          "S3",
          "S3",
          "S3",
          "S3",
          "S3",
          "S3",
          "S3",
          "S3",
          "S3",
          "S3",
          "S3",
          "S3",
          "S3",
          "S3",
          "S3",
          "S3",
          "S3",
          "S3",
          "S3",
          "S3",
          "S3",
          "S3",
          "S3",
          "S3",
          "S3",
          "S3",
          "S3",
          "S3",
          "S3",
          "S3",
          "S3",
          "S3",
          "S3",
          "S3",
          "S3",
          "S3",
          "S3",
          "S3",
          "S3",
          "S3",
          "S3",
          "S3",
          "S3",
          "S4",
          "S4",
          "S4",
          "S4",
          "S4",
          "S4",
          "S4",
          "S4",
          "S4",
          "S4",
          "S4",
          "S4",
          "S4",
          "S4",
          "S4",
          "S4",
          "S4",
          "S4",
          "S4",
          "S4",
          "S4",
          "S4",
          "S4",
          "S4",
          "S4",
          "S4",
          "S4",
          "S4",
          "S4",
          "S4",
          "S4",
          "S4",
          "S4",
          "S4",
          "S4",
          "S4",
          "S4",
          "S4",
          "S4",
          "S4",
          "S4",
          "S4",
          "S4",
          "S4",
          "S4",
          "S4",
          "S4",
          "S4",
          "S4",
          "S4",
          "S5",
          "S5",
          "S5",
          "S5",
          "S5",
          "S5",
          "S5",
          "S5",
          "S5",
          "S5",
          "S5",
          "S5",
          "S5",
          "S5",
          "S5",
          "S5",
          "S5",
          "S5",
          "S5",
          "S5",
          "S5",
          "S5",
          "S5",
          "S5",
          "S5",
          "S5",
          "S5",
          "S5",
          "S5",
          "S5",
          "S5",
          "S5",
          "S5",
          "S5",
          "S5",
          "S5",
          "S5",
          "S5",
          "S5",
          "S5",
          "S5",
          "S5",
          "S5",
          "S5",
          "S5",
          "S5",
          "S5",
          "S5",
          "S5",
          "S5",
          "S6",
          "S6",
          "S6",
          "S6",
          "S6",
          "S6",
          "S6",
          "S6",
          "S6",
          "S6",
          "S6",
          "S6",
          "S6",
          "S6",
          "S6",
          "S6",
          "S6",
          "S6",
          "S6",
          "S6",
          "S6",
          "S6",
          "S6",
          "S6",
          "S6",
          "S6",
          "S6",
          "S6",
          "S6",
          "S6",
          "S6",
          "S6",
          "S6",
          "S6",
          "S6",
          "S6",
          "S6",
          "S6",
          "S6",
          "S6",
          "S6",
          "S6",
          "S6",
          "S6",
          "S6",
          "S6",
          "S6",
          "S6",
          "S6",
          "S6",
          "S7",
          "S7",
          "S7",
          "S7",
          "S7",
          "S7",
          "S7",
          "S7",
          "S7",
          "S7",
          "S7",
          "S7",
          "S7",
          "S7",
          "S7",
          "S7",
          "S7",
          "S7",
          "S7",
          "S7",
          "S7",
          "S7",
          "S7",
          "S7",
          "S7",
          "S7",
          "S7",
          "S7",
          "S7",
          "S7",
          "S7",
          "S7",
          "S7",
          "S7",
          "S7",
          "S7",
          "S7",
          "S7",
          "S7",
          "S7",
          "S7",
          "S7",
          "S7",
          "S7",
          "S7",
          "S7",
          "S7",
          "S7",
          "S7",
          "S7",
          "S8",
          "S8",
          "S8",
          "S8",
          "S8",
          "S8",
          "S8",
          "S8",
          "S8",
          "S8",
          "S8",
          "S8",
          "S8",
          "S8",
          "S8",
          "S8",
          "S8",
          "S8",
          "S8",
          "S8",
          "S8",
          "S8",
          "S8",
          "S8",
          "S8",
          "S8",
          "S8",
          "S8",
          "S8",
          "S8",
          "S8",
          "S8",
          "S8",
          "S8",
          "S8",
          "S8",
          "S8",
          "S8",
          "S8",
          "S8",
          "S8",
          "S8",
          "S8",
          "S8",
          "S8",
          "S8",
          "S8",
          "S8",
          "S8",
          "S8"
         ],
         "x0": " ",
         "xaxis": "x",
         "y": {
          "bdata": "Ce0ltJfQ1j/HcRzHcRzXP47jOI7jONY/q6qqqqqq1j8J7SW0l9DWPwntJbSX0NY/JrSX0F5C1z/kOI7jOI7XP8dxHMdxHNc/L6G9hPYS1j+rqqqqqqrWPya0l9BeQtc/x3Ecx3Ec1z/tJbSX0F7WP6G9hPYS2tc/aC+hvYT21j/HcRzHcRzXP4X2EtpLaNc/QnsJ7SW01z8J7SW0l9DWPya0l9BeQtc/0V5Cewnt1T8J7SW0l9DWP4X2EtpLaNc/JrSX0F5C1z+hvYT2EtrXP+0ltJfQXtY/L6G9hPYS1j/tJbSX0F7WP8dxHMdxHNc/0V5Cewnt1T+F9hLaS2jXP8dxHMdxHNc/Ce0ltJfQ1j8J7SW0l9DWP0xoL6G9hNY/x3Ecx3Ec1z/HcRzHcRzXP2gvob2E9tY/TGgvob2E1j9CewntJbTXP8dxHMdxHNc/juM4juM41j+F9hLaS2jXP+Q4juM4jtc/juM4juM41j8vob2E9hLWP4X2EtpLaNc/aC+hvYT21j/tJbSX0F7WP0evjO139No/v6NXxvY72j+Wsf2OXhnbP0evjO139No/M7bf0Stj2z9cqDkJxIXaP6uqqqqqqto/+awbTJHP2j9Mkc+6wRTZP/msG0yRz9o/R6+M7Xf02j9Hr4ztd/TaP5ax/Y5eGds/+awbTJHP2j/UnATiQs3ZP1yoOQnEhdo/6ZWx/Y5e2T/5rBtMkc/aP0evjO139No/0LrBFPms2z+GmpNAXKjZP9ScBOJCzdk/q6qqqqqq2j8Opshn3WDaP1yoOQnEhdo/DqbIZ91g2j9xoeYkEBfaP9ScBOJCzdk/DqbIZ91g2j/ks24wRT7bP9ScBOJCzdk/6ZWx/Y5e2T+/o1fG9jvaP0evjO139No/XKg5CcSF2j9xoeYkEBfaP+SzbjBFPts/R6+M7Xf02j9Hr4ztd/TaPw6myGfdYNo/M7bf0Stj2z/5rBtMkc/aP0evjO139No/bL+jV8b22z+/o1fG9jvaP9ScBOJCzdk/q6qqqqqq2j+BuFBzEojbP6uqqqqqqto/DqbIZ91g2j8PzLUDc+3gPwfm2oG5duA/B+bagbl24D8PzLUDc+3gPxaykIUsZOE/GiV+Romf4T8WspCFLGThPxolfkaJn+E/D8y1A3Pt4D8WspCFLGThPxM/o8TPKOE/Ez+jxM8o4T8hC1nIQhbiPxM/o8TPKOE/D8y1A3Pt4D8TP6PEzyjhPxaykIUsZOE/FrKQhSxk4T8H5tqBuXbgPx6Yawfm2uE/IQtZyEIW4j8aJX5GiZ/hPwfm2oG5duA/GiV+Romf4T8hC1nIQhbiPw/MtQNz7eA/Ez+jxM8o4T8LWchCFrLgPxM/o8TPKOE/FrKQhSxk4T8hC1nIQhbiPxaykIUsZOE/Ez+jxM8o4T8TP6PEzyjhPxM/o8TPKOE/D8y1A3Pt4D8PzLUDc+3gPxM/o8TPKOE/BHPtwFw74D8WspCFLGThPxM/o8TPKOE/GiV+Romf4T8LWchCFrLgPx6Yawfm2uE/HphrB+ba4T8hC1nIQhbiPwfm2oG5duA/C1nIQhay4D8TP6PEzyjhPxaykIUsZOE/AeZVSIB5xT+3jFvGLePGPwHmVUiAecU/+oFSln6gxD9ZB1cu1sHFP+25SzJ77sI/+oFSln6gxD+jYFGwKFjEP1KjU3zU6MQ/qsRUYioxxT+wKFgULArGP1KjU3zU6MQ/WQdXLtbBxT8PrlysgyvHP6NgUbAoWMQ/qsRUYioxxT/6gVKWfqDEPwhKWfqBUsY/FRJgXoUEyD/tuUsye+7CPwhKWfqBUsY/CEpZ+oFSxj8B5lVIgHnFP1kHVy7WwcU/qsRUYioxxT8B5lVIgHnFP/QdT+R8x8M/Zs9dktlzxz9ga1rg15rGP0TbTBjRNsM/+oFSln6gxD+wKFgULArGP/QdT+R8x8M/sChYFCwKxj9So1N81OjEP5z8Tf4mf8M/o2BRsChYxD8ISln6gVLGPwhKWfqBUsY/+oFSln6gxD9E20wY0TbDP/qBUpZ+oMQ/YGta4Neaxj+3jFvGLePGP8u4Zdwybsk/AeZVSIB5xT9LP1DK0g/EP0s/UMrSD8Q/UqNTfNToxD8B5lVIgHnFP9IcaY40R8o/dJdk9twlyT90l2T23CXJPxUSYF6FBMg/dJdk9twlyT90l2T23CXJPzGibSaMaMs/y7hl3DJuyT9tM2FE20zIPyPaZsKItsk/y7hl3DJuyT8VEmBehQTIP8VUYioxlcg/FRJgXoUEyD8j2mbCiLbJP3SXZPbcJck/y7hl3DJuyT/FVGIqMZXIPxx2YxCH3cg/HHZjEIfdyD/LuGXcMm7JP20zYUTbTMg/dJdk9twlyT++8F54L7zHP8VUYioxlcg/vvBeeC+8xz8j2mbCiLbJP20zYUTbTMg/gV9rWuDXyj97+2eo3v7JP8VUYioxlcg/vvBeeC+8xz8cdmMQh93IPxx2YxCH3cg/e/tnqN7+yT97+2eo3v7JP2bPXZLZc8c/HHZjEIfdyD8xom0mjGjLPxx2YxCH3cg/HHZjEIfdyD8qPmp0io/KPxUSYF6FBMg/HHZjEIfdyD8j2mbCiLbJP3v7Z6je/sk/dJdk9twlyT90l2T23CXJP8VUYioxlcg/HHZjEIfdyD+Khvjj1uXNPzGjjoGQyMo/mivO7+2mzD/O7+2mHJbNP96Uw7IzV8w/ZmeuOL+3yz/O7+2mHJbNPxJZ42liRs0/qdCj+wRoyz8i/rh1eQfMP1bC2Cyo9sw/7TmZvkoYyz9GHQMhkTXOP2Znrji/t8s/ZmeuOL+3yz9WwtgsqPbMP96Uw7IzV8w/zu/tphyWzT+Khvjj1uXNP5orzu/tpsw/uXV5Bxwpyj/O7+2mHJbNPyL+uHV5B8w/iob449blzT+5dXkHHCnKP1bC2Cyo9sw/N3gtFXp0zz+5dXkHHCnKP+05mb5KGMs/ElnjaWJGzT+aK87v7abMP+05mb5KGMs/mivO7+2mzD9WwtgsqPbMP6nQo/sEaMs/ArQNXkuFzj/O7+2mHJbNP6nQo/sEaMs/3pTDsjNXzD8SWeNpYkbNP6nQo/sEaMs/3pTDsjNXzD+aK87v7abMP5orzu/tpsw/v0oYmwXVzj9GHQMhkTXOP5orzu/tpsw/zu/tphyWzT/tOZm+ShjLP/3ebsph2ck/veF9UA0Gyj8cx3Ecx3HMPyA97cgsWs0/bdR3Nuo7yz8ZUfZvYYnLP8FX+fxy7so/zLlrAqSnzT8cx3Ecx3HMP73hfVANBso/wVf5/HLuyj8V23rD+6DKP73hfVANBso/aV78iYRTyj8cx3Ecx3HMP8FX+fxy7so/veF9UA0Gyj/IQ/BVPr/MPxlR9m9hics/GVH2b2GJyz9pXvyJhFPKP3TAbo+1DM0/GVH2b2GJyz/FzXSp2NbLP2JyBTG5gsg/xc10qdjWyz/FzXSp2NbLP8FX+fxy7so/bdR3Nuo7yz8ZUfZvYYnLPwp5CL7K58c/cUrz4k8kzD/BV/n8cu7KP3FK8+JPJMw/veF9UA0Gyj9t1Hc26jvLP23UdzbqO8s/ID3tyCxazT9xSvPiTyTMPxzHcRzHccw/xc10qdjWyz94Nuo7G/XNP8FX+fxy7so/aV78iYRTyj/FzXSp2NbLPxXbesP7oMo/cUrz4k8kzD8ZUfZvYYnLP23UdzbqO8s/veF9UA0Gyj/BV/n8cu7KPzopn07Kp9M/OimfTsqn0z85byTOG4nTP0aFf1HhX9Q/Pp2UTyfl0z9AVw/Q1QPUP1An5dNJ+dQ/QhGKUIQi1D9AVw/Q1QPUP0TLBNEyQdQ/Pp2UTyfl0z9CEYpQhCLUPzlvJM4bidM/Pp2UTyfl0z9AVw/Q1QPUP0yz79Lsu9Q/QFcP0NUD1D8+nZRPJ+XTPz6dlE8n5dM/QFcP0NUD1D9GhX9R4V/UPzopn07Kp9M/Svl0Uj6d1D9IP/rRj37UP0BXD9DVA9Q/QFcP0NUD1D9GhX9R4V/UP0aFf1HhX9Q/RoV/UeFf1D9QJ+XTSfnUP0BXD9DVA9Q/SD/60Y9+1D9R4V9U+BfVP0IRilCEItQ/OW8kzhuJ0z8zQbRMEC3TPze1qU1tatM/U5va1KY21T9Ms+/S7LvUPzGHOcxhDtM/QFcP0NUD1D9IP/rRj37UP0BXD9DVA9Q/QFcP0NUD1D86KZ9OyqfTPz6dlE8n5dM/UCfl00n51D9AVw/Q1QPUPzzjGc94xtM/OimfTsqn0z8=",
          "dtype": "f8"
         },
         "y0": " ",
         "yaxis": "y"
        },
        {
         "alignmentgroup": "True",
         "boxpoints": "all",
         "hovertemplate": "Decoding Context=Aligned (surrogate data)<br>Patient=%{x}<br>accuracy=%{y}<extra></extra>",
         "legendgroup": "Aligned (surrogate data)",
         "marker": {
          "color": "#19D3F3"
         },
         "name": "Aligned (surrogate data)",
         "notched": false,
         "offsetgroup": "Aligned (surrogate data)",
         "orientation": "v",
         "showlegend": true,
         "type": "box",
         "x": [
          "S1",
          "S1",
          "S1",
          "S1",
          "S1",
          "S1",
          "S1",
          "S1",
          "S1",
          "S1",
          "S1",
          "S1",
          "S1",
          "S1",
          "S1",
          "S1",
          "S1",
          "S1",
          "S1",
          "S1",
          "S1",
          "S1",
          "S1",
          "S1",
          "S1",
          "S1",
          "S1",
          "S1",
          "S1",
          "S1",
          "S1",
          "S1",
          "S1",
          "S1",
          "S1",
          "S1",
          "S1",
          "S1",
          "S1",
          "S1",
          "S1",
          "S1",
          "S1",
          "S1",
          "S1",
          "S1",
          "S1",
          "S1",
          "S1",
          "S1",
          "S2",
          "S2",
          "S2",
          "S2",
          "S2",
          "S2",
          "S2",
          "S2",
          "S2",
          "S2",
          "S2",
          "S2",
          "S2",
          "S2",
          "S2",
          "S2",
          "S2",
          "S2",
          "S2",
          "S2",
          "S2",
          "S2",
          "S2",
          "S2",
          "S2",
          "S2",
          "S2",
          "S2",
          "S2",
          "S2",
          "S2",
          "S2",
          "S2",
          "S2",
          "S2",
          "S2",
          "S2",
          "S2",
          "S2",
          "S2",
          "S2",
          "S2",
          "S2",
          "S2",
          "S2",
          "S2",
          "S2",
          "S2",
          "S2",
          "S2",
          "S3",
          "S3",
          "S3",
          "S3",
          "S3",
          "S3",
          "S3",
          "S3",
          "S3",
          "S3",
          "S3",
          "S3",
          "S3",
          "S3",
          "S3",
          "S3",
          "S3",
          "S3",
          "S3",
          "S3",
          "S3",
          "S3",
          "S3",
          "S3",
          "S3",
          "S3",
          "S3",
          "S3",
          "S3",
          "S3",
          "S3",
          "S3",
          "S3",
          "S3",
          "S3",
          "S3",
          "S3",
          "S3",
          "S3",
          "S3",
          "S3",
          "S3",
          "S3",
          "S3",
          "S3",
          "S3",
          "S3",
          "S3",
          "S3",
          "S3",
          "S4",
          "S4",
          "S4",
          "S4",
          "S4",
          "S4",
          "S4",
          "S4",
          "S4",
          "S4",
          "S4",
          "S4",
          "S4",
          "S4",
          "S4",
          "S4",
          "S4",
          "S4",
          "S4",
          "S4",
          "S4",
          "S4",
          "S4",
          "S4",
          "S4",
          "S4",
          "S4",
          "S4",
          "S4",
          "S4",
          "S4",
          "S4",
          "S4",
          "S4",
          "S4",
          "S4",
          "S4",
          "S4",
          "S4",
          "S4",
          "S4",
          "S4",
          "S4",
          "S4",
          "S4",
          "S4",
          "S4",
          "S4",
          "S4",
          "S4",
          "S5",
          "S5",
          "S5",
          "S5",
          "S5",
          "S5",
          "S5",
          "S5",
          "S5",
          "S5",
          "S5",
          "S5",
          "S5",
          "S5",
          "S5",
          "S5",
          "S5",
          "S5",
          "S5",
          "S5",
          "S5",
          "S5",
          "S5",
          "S5",
          "S5",
          "S5",
          "S5",
          "S5",
          "S5",
          "S5",
          "S5",
          "S5",
          "S5",
          "S5",
          "S5",
          "S5",
          "S5",
          "S5",
          "S5",
          "S5",
          "S5",
          "S5",
          "S5",
          "S5",
          "S5",
          "S5",
          "S5",
          "S5",
          "S5",
          "S5",
          "S6",
          "S6",
          "S6",
          "S6",
          "S6",
          "S6",
          "S6",
          "S6",
          "S6",
          "S6",
          "S6",
          "S6",
          "S6",
          "S6",
          "S6",
          "S6",
          "S6",
          "S6",
          "S6",
          "S6",
          "S6",
          "S6",
          "S6",
          "S6",
          "S6",
          "S6",
          "S6",
          "S6",
          "S6",
          "S6",
          "S6",
          "S6",
          "S6",
          "S6",
          "S6",
          "S6",
          "S6",
          "S6",
          "S6",
          "S6",
          "S6",
          "S6",
          "S6",
          "S6",
          "S6",
          "S6",
          "S6",
          "S6",
          "S6",
          "S6",
          "S7",
          "S7",
          "S7",
          "S7",
          "S7",
          "S7",
          "S7",
          "S7",
          "S7",
          "S7",
          "S7",
          "S7",
          "S7",
          "S7",
          "S7",
          "S7",
          "S7",
          "S7",
          "S7",
          "S7",
          "S7",
          "S7",
          "S7",
          "S7",
          "S7",
          "S7",
          "S7",
          "S7",
          "S7",
          "S7",
          "S7",
          "S7",
          "S7",
          "S7",
          "S7",
          "S7",
          "S7",
          "S7",
          "S7",
          "S7",
          "S7",
          "S7",
          "S7",
          "S7",
          "S7",
          "S7",
          "S7",
          "S7",
          "S7",
          "S7",
          "S8",
          "S8",
          "S8",
          "S8",
          "S8",
          "S8",
          "S8",
          "S8",
          "S8",
          "S8",
          "S8",
          "S8",
          "S8",
          "S8",
          "S8",
          "S8",
          "S8",
          "S8",
          "S8",
          "S8",
          "S8",
          "S8",
          "S8",
          "S8",
          "S8",
          "S8",
          "S8",
          "S8",
          "S8",
          "S8",
          "S8",
          "S8",
          "S8",
          "S8",
          "S8",
          "S8",
          "S8",
          "S8",
          "S8",
          "S8",
          "S8",
          "S8",
          "S8",
          "S8",
          "S8",
          "S8",
          "S8",
          "S8",
          "S8",
          "S8"
         ],
         "x0": " ",
         "xaxis": "x",
         "y": {
          "bdata": "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",
          "dtype": "f8"
         },
         "y0": " ",
         "yaxis": "y"
        }
       ],
       "layout": {
        "annotations": [
         {
          "showarrow": false,
          "text": "Chance",
          "x": 1,
          "xanchor": "right",
          "xref": "x domain",
          "y": 0.1111111111111111,
          "yanchor": "top",
          "yref": "y"
         }
        ],
        "boxmode": "group",
        "font": {
         "family": "Arial",
         "size": 20
        },
        "height": 600,
        "legend": {
         "orientation": "h",
         "title": {
          "text": ""
         },
         "tracegroupgap": 0,
         "x": 0.01,
         "xanchor": "left",
         "y": 0.02,
         "yanchor": "bottom"
        },
        "margin": {
         "t": 60
        },
        "plot_bgcolor": "white",
        "shapes": [
         {
          "line": {
           "color": "grey",
           "dash": "dash"
          },
          "type": "line",
          "x0": 0,
          "x1": 1,
          "xref": "x domain",
          "y0": 0.1111111111111111,
          "y1": 0.1111111111111111,
          "yref": "y"
         }
        ],
        "template": {
         "data": {
          "bar": [
           {
            "error_x": {
             "color": "#2a3f5f"
            },
            "error_y": {
             "color": "#2a3f5f"
            },
            "marker": {
             "line": {
              "color": "#E5ECF6",
              "width": 0.5
             },
             "pattern": {
              "fillmode": "overlay",
              "size": 10,
              "solidity": 0.2
             }
            },
            "type": "bar"
           }
          ],
          "barpolar": [
           {
            "marker": {
             "line": {
              "color": "#E5ECF6",
              "width": 0.5
             },
             "pattern": {
              "fillmode": "overlay",
              "size": 10,
              "solidity": 0.2
             }
            },
            "type": "barpolar"
           }
          ],
          "carpet": [
           {
            "aaxis": {
             "endlinecolor": "#2a3f5f",
             "gridcolor": "white",
             "linecolor": "white",
             "minorgridcolor": "white",
             "startlinecolor": "#2a3f5f"
            },
            "baxis": {
             "endlinecolor": "#2a3f5f",
             "gridcolor": "white",
             "linecolor": "white",
             "minorgridcolor": "white",
             "startlinecolor": "#2a3f5f"
            },
            "type": "carpet"
           }
          ],
          "choropleth": [
           {
            "colorbar": {
             "outlinewidth": 0,
             "ticks": ""
            },
            "type": "choropleth"
           }
          ],
          "contour": [
           {
            "colorbar": {
             "outlinewidth": 0,
             "ticks": ""
            },
            "colorscale": [
             [
              0,
              "#0d0887"
             ],
             [
              0.1111111111111111,
              "#46039f"
             ],
             [
              0.2222222222222222,
              "#7201a8"
             ],
             [
              0.3333333333333333,
              "#9c179e"
             ],
             [
              0.4444444444444444,
              "#bd3786"
             ],
             [
              0.5555555555555556,
              "#d8576b"
             ],
             [
              0.6666666666666666,
              "#ed7953"
             ],
             [
              0.7777777777777778,
              "#fb9f3a"
             ],
             [
              0.8888888888888888,
              "#fdca26"
             ],
             [
              1,
              "#f0f921"
             ]
            ],
            "type": "contour"
           }
          ],
          "contourcarpet": [
           {
            "colorbar": {
             "outlinewidth": 0,
             "ticks": ""
            },
            "type": "contourcarpet"
           }
          ],
          "heatmap": [
           {
            "colorbar": {
             "outlinewidth": 0,
             "ticks": ""
            },
            "colorscale": [
             [
              0,
              "#0d0887"
             ],
             [
              0.1111111111111111,
              "#46039f"
             ],
             [
              0.2222222222222222,
              "#7201a8"
             ],
             [
              0.3333333333333333,
              "#9c179e"
             ],
             [
              0.4444444444444444,
              "#bd3786"
             ],
             [
              0.5555555555555556,
              "#d8576b"
             ],
             [
              0.6666666666666666,
              "#ed7953"
             ],
             [
              0.7777777777777778,
              "#fb9f3a"
             ],
             [
              0.8888888888888888,
              "#fdca26"
             ],
             [
              1,
              "#f0f921"
             ]
            ],
            "type": "heatmap"
           }
          ],
          "histogram": [
           {
            "marker": {
             "pattern": {
              "fillmode": "overlay",
              "size": 10,
              "solidity": 0.2
             }
            },
            "type": "histogram"
           }
          ],
          "histogram2d": [
           {
            "colorbar": {
             "outlinewidth": 0,
             "ticks": ""
            },
            "colorscale": [
             [
              0,
              "#0d0887"
             ],
             [
              0.1111111111111111,
              "#46039f"
             ],
             [
              0.2222222222222222,
              "#7201a8"
             ],
             [
              0.3333333333333333,
              "#9c179e"
             ],
             [
              0.4444444444444444,
              "#bd3786"
             ],
             [
              0.5555555555555556,
              "#d8576b"
             ],
             [
              0.6666666666666666,
              "#ed7953"
             ],
             [
              0.7777777777777778,
              "#fb9f3a"
             ],
             [
              0.8888888888888888,
              "#fdca26"
             ],
             [
              1,
              "#f0f921"
             ]
            ],
            "type": "histogram2d"
           }
          ],
          "histogram2dcontour": [
           {
            "colorbar": {
             "outlinewidth": 0,
             "ticks": ""
            },
            "colorscale": [
             [
              0,
              "#0d0887"
             ],
             [
              0.1111111111111111,
              "#46039f"
             ],
             [
              0.2222222222222222,
              "#7201a8"
             ],
             [
              0.3333333333333333,
              "#9c179e"
             ],
             [
              0.4444444444444444,
              "#bd3786"
             ],
             [
              0.5555555555555556,
              "#d8576b"
             ],
             [
              0.6666666666666666,
              "#ed7953"
             ],
             [
              0.7777777777777778,
              "#fb9f3a"
             ],
             [
              0.8888888888888888,
              "#fdca26"
             ],
             [
              1,
              "#f0f921"
             ]
            ],
            "type": "histogram2dcontour"
           }
          ],
          "mesh3d": [
           {
            "colorbar": {
             "outlinewidth": 0,
             "ticks": ""
            },
            "type": "mesh3d"
           }
          ],
          "parcoords": [
           {
            "line": {
             "colorbar": {
              "outlinewidth": 0,
              "ticks": ""
             }
            },
            "type": "parcoords"
           }
          ],
          "pie": [
           {
            "automargin": true,
            "type": "pie"
           }
          ],
          "scatter": [
           {
            "fillpattern": {
             "fillmode": "overlay",
             "size": 10,
             "solidity": 0.2
            },
            "type": "scatter"
           }
          ],
          "scatter3d": [
           {
            "line": {
             "colorbar": {
              "outlinewidth": 0,
              "ticks": ""
             }
            },
            "marker": {
             "colorbar": {
              "outlinewidth": 0,
              "ticks": ""
             }
            },
            "type": "scatter3d"
           }
          ],
          "scattercarpet": [
           {
            "marker": {
             "colorbar": {
              "outlinewidth": 0,
              "ticks": ""
             }
            },
            "type": "scattercarpet"
           }
          ],
          "scattergeo": [
           {
            "marker": {
             "colorbar": {
              "outlinewidth": 0,
              "ticks": ""
             }
            },
            "type": "scattergeo"
           }
          ],
          "scattergl": [
           {
            "marker": {
             "colorbar": {
              "outlinewidth": 0,
              "ticks": ""
             }
            },
            "type": "scattergl"
           }
          ],
          "scattermap": [
           {
            "marker": {
             "colorbar": {
              "outlinewidth": 0,
              "ticks": ""
             }
            },
            "type": "scattermap"
           }
          ],
          "scattermapbox": [
           {
            "marker": {
             "colorbar": {
              "outlinewidth": 0,
              "ticks": ""
             }
            },
            "type": "scattermapbox"
           }
          ],
          "scatterpolar": [
           {
            "marker": {
             "colorbar": {
              "outlinewidth": 0,
              "ticks": ""
             }
            },
            "type": "scatterpolar"
           }
          ],
          "scatterpolargl": [
           {
            "marker": {
             "colorbar": {
              "outlinewidth": 0,
              "ticks": ""
             }
            },
            "type": "scatterpolargl"
           }
          ],
          "scatterternary": [
           {
            "marker": {
             "colorbar": {
              "outlinewidth": 0,
              "ticks": ""
             }
            },
            "type": "scatterternary"
           }
          ],
          "surface": [
           {
            "colorbar": {
             "outlinewidth": 0,
             "ticks": ""
            },
            "colorscale": [
             [
              0,
              "#0d0887"
             ],
             [
              0.1111111111111111,
              "#46039f"
             ],
             [
              0.2222222222222222,
              "#7201a8"
             ],
             [
              0.3333333333333333,
              "#9c179e"
             ],
             [
              0.4444444444444444,
              "#bd3786"
             ],
             [
              0.5555555555555556,
              "#d8576b"
             ],
             [
              0.6666666666666666,
              "#ed7953"
             ],
             [
              0.7777777777777778,
              "#fb9f3a"
             ],
             [
              0.8888888888888888,
              "#fdca26"
             ],
             [
              1,
              "#f0f921"
             ]
            ],
            "type": "surface"
           }
          ],
          "table": [
           {
            "cells": {
             "fill": {
              "color": "#EBF0F8"
             },
             "line": {
              "color": "white"
             }
            },
            "header": {
             "fill": {
              "color": "#C8D4E3"
             },
             "line": {
              "color": "white"
             }
            },
            "type": "table"
           }
          ]
         },
         "layout": {
          "annotationdefaults": {
           "arrowcolor": "#2a3f5f",
           "arrowhead": 0,
           "arrowwidth": 1
          },
          "autotypenumbers": "strict",
          "coloraxis": {
           "colorbar": {
            "outlinewidth": 0,
            "ticks": ""
           }
          },
          "colorscale": {
           "diverging": [
            [
             0,
             "#8e0152"
            ],
            [
             0.1,
             "#c51b7d"
            ],
            [
             0.2,
             "#de77ae"
            ],
            [
             0.3,
             "#f1b6da"
            ],
            [
             0.4,
             "#fde0ef"
            ],
            [
             0.5,
             "#f7f7f7"
            ],
            [
             0.6,
             "#e6f5d0"
            ],
            [
             0.7,
             "#b8e186"
            ],
            [
             0.8,
             "#7fbc41"
            ],
            [
             0.9,
             "#4d9221"
            ],
            [
             1,
             "#276419"
            ]
           ],
           "sequential": [
            [
             0,
             "#0d0887"
            ],
            [
             0.1111111111111111,
             "#46039f"
            ],
            [
             0.2222222222222222,
             "#7201a8"
            ],
            [
             0.3333333333333333,
             "#9c179e"
            ],
            [
             0.4444444444444444,
             "#bd3786"
            ],
            [
             0.5555555555555556,
             "#d8576b"
            ],
            [
             0.6666666666666666,
             "#ed7953"
            ],
            [
             0.7777777777777778,
             "#fb9f3a"
            ],
            [
             0.8888888888888888,
             "#fdca26"
            ],
            [
             1,
             "#f0f921"
            ]
           ],
           "sequentialminus": [
            [
             0,
             "#0d0887"
            ],
            [
             0.1111111111111111,
             "#46039f"
            ],
            [
             0.2222222222222222,
             "#7201a8"
            ],
            [
             0.3333333333333333,
             "#9c179e"
            ],
            [
             0.4444444444444444,
             "#bd3786"
            ],
            [
             0.5555555555555556,
             "#d8576b"
            ],
            [
             0.6666666666666666,
             "#ed7953"
            ],
            [
             0.7777777777777778,
             "#fb9f3a"
            ],
            [
             0.8888888888888888,
             "#fdca26"
            ],
            [
             1,
             "#f0f921"
            ]
           ]
          },
          "colorway": [
           "#636efa",
           "#EF553B",
           "#00cc96",
           "#ab63fa",
           "#FFA15A",
           "#19d3f3",
           "#FF6692",
           "#B6E880",
           "#FF97FF",
           "#FECB52"
          ],
          "font": {
           "color": "#2a3f5f"
          },
          "geo": {
           "bgcolor": "white",
           "lakecolor": "white",
           "landcolor": "#E5ECF6",
           "showlakes": true,
           "showland": true,
           "subunitcolor": "white"
          },
          "hoverlabel": {
           "align": "left"
          },
          "hovermode": "closest",
          "mapbox": {
           "style": "light"
          },
          "paper_bgcolor": "white",
          "plot_bgcolor": "#E5ECF6",
          "polar": {
           "angularaxis": {
            "gridcolor": "white",
            "linecolor": "white",
            "ticks": ""
           },
           "bgcolor": "#E5ECF6",
           "radialaxis": {
            "gridcolor": "white",
            "linecolor": "white",
            "ticks": ""
           }
          },
          "scene": {
           "xaxis": {
            "backgroundcolor": "#E5ECF6",
            "gridcolor": "white",
            "gridwidth": 2,
            "linecolor": "white",
            "showbackground": true,
            "ticks": "",
            "zerolinecolor": "white"
           },
           "yaxis": {
            "backgroundcolor": "#E5ECF6",
            "gridcolor": "white",
            "gridwidth": 2,
            "linecolor": "white",
            "showbackground": true,
            "ticks": "",
            "zerolinecolor": "white"
           },
           "zaxis": {
            "backgroundcolor": "#E5ECF6",
            "gridcolor": "white",
            "gridwidth": 2,
            "linecolor": "white",
            "showbackground": true,
            "ticks": "",
            "zerolinecolor": "white"
           }
          },
          "shapedefaults": {
           "line": {
            "color": "#2a3f5f"
           }
          },
          "ternary": {
           "aaxis": {
            "gridcolor": "white",
            "linecolor": "white",
            "ticks": ""
           },
           "baxis": {
            "gridcolor": "white",
            "linecolor": "white",
            "ticks": ""
           },
           "bgcolor": "#E5ECF6",
           "caxis": {
            "gridcolor": "white",
            "linecolor": "white",
            "ticks": ""
           }
          },
          "title": {
           "x": 0.05
          },
          "xaxis": {
           "automargin": true,
           "gridcolor": "white",
           "linecolor": "white",
           "ticks": "",
           "title": {
            "standoff": 15
           },
           "zerolinecolor": "white",
           "zerolinewidth": 2
          },
          "yaxis": {
           "automargin": true,
           "gridcolor": "white",
           "linecolor": "white",
           "ticks": "",
           "title": {
            "standoff": 15
           },
           "zerolinecolor": "white",
           "zerolinewidth": 2
          }
         }
        },
        "title": {
         "text": "",
         "x": 0.5
        },
        "width": 1800,
        "xaxis": {
         "anchor": "y",
         "domain": [
          0,
          1
         ],
         "linecolor": "black",
         "mirror": false,
         "showgrid": false,
         "showline": true,
         "ticks": "outside",
         "title": {
          "text": "Target patient"
         }
        },
        "yaxis": {
         "anchor": "x",
         "domain": [
          0,
          1
         ],
         "linecolor": "black",
         "mirror": false,
         "range": [
          0,
          0.6
         ],
         "showgrid": false,
         "showline": true,
         "ticks": "outside",
         "title": {
          "text": "Phoneme decoding accuracy"
         }
        }
       }
      }
     },
     "metadata": {},
     "output_type": "display_data"
    }
   ],
   "source": [
    "fig_ind = 'pAll'\n",
    "fig_df = noTar_decode_df_long[noTar_decode_df_long['Phoneme Index'] == fig_ind]\n",
    "fig = px.box(fig_df, x='Patient', y=\"accuracy\", color='Decoding Context', points='all', width=1800, height=600, color_discrete_sequence=['#EF553B', '#AB63FA', '#19D3F3'])\n",
    "fig.add_hline(y=1/9, line_dash='dash', line_color='grey', annotation_text='Chance', annotation_position='bottom right')\n",
    "fig.update_layout(\n",
    "    plot_bgcolor='white',\n",
    "    legend=dict(\n",
    "        orientation='h',\n",
    "        yanchor='bottom',\n",
    "        y=0.02,\n",
    "        xanchor='left',\n",
    "        x=0.01,\n",
    "        title_text=''\n",
    "    ),\n",
    "    title_text='',\n",
    "    title_x=0.5,\n",
    "    font=dict(size=20, family='Arial')\n",
    ")\n",
    "fig.update_xaxes(\n",
    "    title='Target patient',\n",
    "    mirror=False,\n",
    "    ticks='outside',\n",
    "    showline=True,\n",
    "    linecolor='black',\n",
    "    showgrid=False,\n",
    "    # tickvals=[0,1,2],\n",
    "    # range=[-0.5, 2.5]\n",
    ")\n",
    "fig.update_yaxes(\n",
    "    title='Phoneme decoding accuracy',\n",
    "    mirror=False,\n",
    "    ticks='outside',\n",
    "    showline=True,\n",
    "    linecolor='black',\n",
    "    showgrid=False,\n",
    "    range=[0, 0.6]\n",
    ")\n",
    "\n",
    "fig.show()"
   ]
  },
  {
   "cell_type": "code",
   "execution_count": 25,
   "metadata": {},
   "outputs": [
    {
     "name": "stdout",
     "output_type": "stream",
     "text": [
      "S1: ANOVA p = 2.658894066412616e-157, CCA vs. PS p = 2.1538326677728037e-14, CCA vs. Unaligned p = 2.1538326677728037e-14\n",
      "ANOVA F-statisitc: 9847.68425749872\n",
      "Tukey's HSD Pairwise Group Comparisons (95.0% Confidence Interval)\n",
      "Comparison  Statistic  p-value  Lower CI  Upper CI\n",
      " (0 - 1)     -0.234     0.000    -0.238    -0.230\n",
      " (0 - 2)     -0.058     0.000    -0.062    -0.054\n",
      " (1 - 0)      0.234     0.000     0.230     0.238\n",
      " (1 - 2)      0.176     0.000     0.172     0.180\n",
      " (2 - 0)      0.058     0.000     0.054     0.062\n",
      " (2 - 1)     -0.176     0.000    -0.180    -0.172\n",
      "\n",
      "S2: ANOVA p = 1.5182334817695546e-189, CCA vs. PS p = 2.1538326677728037e-14, CCA vs. Unaligned p = 2.1538326677728037e-14\n",
      "ANOVA F-statisitc: 27169.110375881308\n",
      "Tukey's HSD Pairwise Group Comparisons (95.0% Confidence Interval)\n",
      "Comparison  Statistic  p-value  Lower CI  Upper CI\n",
      " (0 - 1)     -0.322     0.000    -0.326    -0.318\n",
      " (0 - 2)     -0.017     0.000    -0.021    -0.014\n",
      " (1 - 0)      0.322     0.000     0.318     0.326\n",
      " (1 - 2)      0.305     0.000     0.301     0.308\n",
      " (2 - 0)      0.017     0.000     0.014     0.021\n",
      " (2 - 1)     -0.305     0.000    -0.308    -0.301\n",
      "\n",
      "S3: ANOVA p = 2.7568109050926774e-148, CCA vs. PS p = 2.1538326677728037e-14, CCA vs. Unaligned p = 2.1538326677728037e-14\n",
      "ANOVA F-statisitc: 7406.48711217697\n",
      "Tukey's HSD Pairwise Group Comparisons (95.0% Confidence Interval)\n",
      "Comparison  Statistic  p-value  Lower CI  Upper CI\n",
      " (0 - 1)     -0.334     0.000    -0.342    -0.326\n",
      " (0 - 2)      0.071     0.000     0.062     0.079\n",
      " (1 - 0)      0.334     0.000     0.326     0.342\n",
      " (1 - 2)      0.405     0.000     0.397     0.413\n",
      " (2 - 0)     -0.071     0.000    -0.079    -0.062\n",
      " (2 - 1)     -0.405     0.000    -0.413    -0.397\n",
      "\n",
      "S4: ANOVA p = 7.574522360844298e-94, CCA vs. PS p = 2.1538326677728037e-14, CCA vs. Unaligned p = 2.1538326677728037e-14\n",
      "ANOVA F-statisitc: 1285.548284439231\n",
      "Tukey's HSD Pairwise Group Comparisons (95.0% Confidence Interval)\n",
      "Comparison  Statistic  p-value  Lower CI  Upper CI\n",
      " (0 - 1)     -0.066     0.000    -0.070    -0.062\n",
      " (0 - 2)      0.015     0.000     0.011     0.019\n",
      " (1 - 0)      0.066     0.000     0.062     0.070\n",
      " (1 - 2)      0.081     0.000     0.077     0.085\n",
      " (2 - 0)     -0.015     0.000    -0.019    -0.011\n",
      " (2 - 1)     -0.081     0.000    -0.085    -0.077\n",
      "\n",
      "S5: ANOVA p = 1.4668471934098873e-107, CCA vs. PS p = 2.1538326677728037e-14, CCA vs. Unaligned p = 2.1538326677728037e-14\n",
      "ANOVA F-statisitc: 2014.8626254591877\n",
      "Tukey's HSD Pairwise Group Comparisons (95.0% Confidence Interval)\n",
      "Comparison  Statistic  p-value  Lower CI  Upper CI\n",
      " (0 - 1)     -0.095     0.000    -0.098    -0.091\n",
      " (0 - 2)     -0.017     0.000    -0.021    -0.013\n",
      " (1 - 0)      0.095     0.000     0.091     0.098\n",
      " (1 - 2)      0.078     0.000     0.074     0.082\n",
      " (2 - 0)      0.017     0.000     0.013     0.021\n",
      " (2 - 1)     -0.078     0.000    -0.082    -0.074\n",
      "\n",
      "S6: ANOVA p = 8.983600323681883e-91, CCA vs. PS p = 2.1538326677728037e-14, CCA vs. Unaligned p = 2.1538326677728037e-14\n",
      "ANOVA F-statisitc: 1160.7708224088572\n",
      "Tukey's HSD Pairwise Group Comparisons (95.0% Confidence Interval)\n",
      "Comparison  Statistic  p-value  Lower CI  Upper CI\n",
      " (0 - 1)     -0.064     0.000    -0.069    -0.059\n",
      " (0 - 2)      0.027     0.000     0.022     0.031\n",
      " (1 - 0)      0.064     0.000     0.059     0.069\n",
      " (1 - 2)      0.091     0.000     0.086     0.095\n",
      " (2 - 0)     -0.027     0.000    -0.031    -0.022\n",
      " (2 - 1)     -0.091     0.000    -0.095    -0.086\n",
      "\n",
      "S7: ANOVA p = 6.901109631760306e-99, CCA vs. PS p = 2.1538326677728037e-14, CCA vs. Unaligned p = 2.1538326677728037e-14\n",
      "ANOVA F-statisitc: 1518.0205535333334\n",
      "Tukey's HSD Pairwise Group Comparisons (95.0% Confidence Interval)\n",
      "Comparison  Statistic  p-value  Lower CI  Upper CI\n",
      " (0 - 1)     -0.104     0.000    -0.109    -0.099\n",
      " (0 - 2)     -0.026     0.000    -0.030    -0.021\n",
      " (1 - 0)      0.104     0.000     0.099     0.109\n",
      " (1 - 2)      0.078     0.000     0.074     0.083\n",
      " (2 - 0)      0.026     0.000     0.021     0.030\n",
      " (2 - 1)     -0.078     0.000    -0.083    -0.074\n",
      "\n",
      "S8: ANOVA p = 1.6521748078241748e-145, CCA vs. PS p = 2.1538326677728037e-14, CCA vs. Unaligned p = 2.1538326677728037e-14\n",
      "ANOVA F-statisitc: 6783.1140849475105\n",
      "Tukey's HSD Pairwise Group Comparisons (95.0% Confidence Interval)\n",
      "Comparison  Statistic  p-value  Lower CI  Upper CI\n",
      " (0 - 1)     -0.169     0.000    -0.174    -0.165\n",
      " (0 - 2)      0.016     0.000     0.012     0.020\n",
      " (1 - 0)      0.169     0.000     0.165     0.174\n",
      " (1 - 2)      0.185     0.000     0.181     0.190\n",
      " (2 - 0)     -0.016     0.000    -0.020    -0.012\n",
      " (2 - 1)     -0.185     0.000    -0.190    -0.181\n",
      "\n"
     ]
    }
   ],
   "source": [
    "pts = paper_pt_dict.values()\n",
    "p_arr = np.zeros((len(pts), 3))\n",
    "for i, pt in enumerate(pts):\n",
    "    pt_una = noTar_decode_df_long[(noTar_decode_df_long['Patient'] == pt) & (noTar_decode_df_long['Decoding Context'] == 'Unaligned')]['accuracy']\n",
    "    pt_cca = noTar_decode_df_long[(noTar_decode_df_long['Patient'] == pt) & (noTar_decode_df_long['Decoding Context'] == 'Aligned')]['accuracy']\n",
    "    pt_cca_tme = noTar_decode_df_long[(noTar_decode_df_long['Patient'] == pt) & (noTar_decode_df_long['Decoding Context'] == 'Aligned (surrogate data)')]['accuracy']\n",
    "\n",
    "    stat, anova_p = stats.f_oneway(pt_una, pt_cca, pt_cca_tme)\n",
    "    res = stats.tukey_hsd(pt_una, pt_cca, pt_cca_tme)\n",
    "    cca_una_p = res.pvalue[0,1]\n",
    "    cca_tme_p = res.pvalue[1,2]\n",
    "\n",
    "    print(f'{pt}: ANOVA p = {anova_p}, CCA vs. PS p = {cca_una_p}, CCA vs. Unaligned p = {cca_tme_p}')\n",
    "    print(f'ANOVA F-statisitc: {stat}')\n",
    "    print(res)"
   ]
  },
  {
   "cell_type": "code",
   "execution_count": null,
   "metadata": {},
   "outputs": [
    {
     "data": {
      "application/vnd.plotly.v1+json": {
       "config": {
        "plotlyServerURL": "https://plotly.com"
       },
       "data": [
        {
         "hovertemplate": "Patient=S1<br>Decoding Context=%{x}<br>accuracy=%{y}<extra></extra>",
         "legendgroup": "S1",
         "line": {
          "color": "#636EFA",
          "dash": "solid"
         },
         "marker": {
          "symbol": "circle"
         },
         "mode": "lines",
         "name": "S1",
         "orientation": "v",
         "showlegend": true,
         "type": "scatter",
         "x": [
          "Unaligned",
          "Aligned",
          "Aligned (surrogate data)"
         ],
         "xaxis": "x",
         "y": [
          0.12435185185185185,
          0.357962962962963,
          0.1822222222222222
         ],
         "yaxis": "y"
        },
        {
         "hovertemplate": "Patient=S2<br>Decoding Context=%{x}<br>accuracy=%{y}<extra></extra>",
         "legendgroup": "S2",
         "line": {
          "color": "#EF553B",
          "dash": "solid"
         },
         "marker": {
          "symbol": "circle"
         },
         "mode": "lines",
         "name": "S2",
         "orientation": "v",
         "showlegend": true,
         "type": "scatter",
         "x": [
          "Unaligned",
          "Aligned",
          "Aligned (surrogate data)"
         ],
         "xaxis": "x",
         "y": [
          0.09337837837837838,
          0.4154054054054054,
          0.11063063063063064
         ],
         "yaxis": "y"
        },
        {
         "hovertemplate": "Patient=S3<br>Decoding Context=%{x}<br>accuracy=%{y}<extra></extra>",
         "legendgroup": "S3",
         "line": {
          "color": "#00CC96",
          "dash": "solid"
         },
         "marker": {
          "symbol": "circle"
         },
         "mode": "lines",
         "name": "S3",
         "orientation": "v",
         "showlegend": true,
         "type": "scatter",
         "x": [
          "Unaligned",
          "Aligned",
          "Aligned (surrogate data)"
         ],
         "xaxis": "x",
         "y": [
          0.2044927536231884,
          0.5385507246376812,
          0.13362318840579712
         ],
         "yaxis": "y"
        },
        {
         "hovertemplate": "Patient=S4<br>Decoding Context=%{x}<br>accuracy=%{y}<extra></extra>",
         "legendgroup": "S4",
         "line": {
          "color": "#AB63FA",
          "dash": "solid"
         },
         "marker": {
          "symbol": "circle"
         },
         "mode": "lines",
         "name": "S4",
         "orientation": "v",
         "showlegend": true,
         "type": "scatter",
         "x": [
          "Unaligned",
          "Aligned",
          "Aligned (surrogate data)"
         ],
         "xaxis": "x",
         "y": [
          0.10048565121412803,
          0.16662251655629137,
          0.08547461368653421
         ],
         "yaxis": "y"
        },
        {
         "hovertemplate": "Patient=S5<br>Decoding Context=%{x}<br>accuracy=%{y}<extra></extra>",
         "legendgroup": "S5",
         "line": {
          "color": "#FFA15A",
          "dash": "solid"
         },
         "marker": {
          "symbol": "circle"
         },
         "mode": "lines",
         "name": "S5",
         "orientation": "v",
         "showlegend": true,
         "type": "scatter",
         "x": [
          "Unaligned",
          "Aligned",
          "Aligned (surrogate data)"
         ],
         "xaxis": "x",
         "y": [
          0.10132450331125828,
          0.19602649006622516,
          0.11814569536423841
         ],
         "yaxis": "y"
        },
        {
         "hovertemplate": "Patient=S6<br>Decoding Context=%{x}<br>accuracy=%{y}<extra></extra>",
         "legendgroup": "S6",
         "line": {
          "color": "#19D3F3",
          "dash": "solid"
         },
         "marker": {
          "symbol": "circle"
         },
         "mode": "lines",
         "name": "S6",
         "orientation": "v",
         "showlegend": true,
         "type": "scatter",
         "x": [
          "Unaligned",
          "Aligned",
          "Aligned (surrogate data)"
         ],
         "xaxis": "x",
         "y": [
          0.15883211678832118,
          0.22287104622871046,
          0.13211678832116788
         ],
         "yaxis": "y"
        },
        {
         "hovertemplate": "Patient=S7<br>Decoding Context=%{x}<br>accuracy=%{y}<extra></extra>",
         "legendgroup": "S7",
         "line": {
          "color": "#FF6692",
          "dash": "solid"
         },
         "marker": {
          "symbol": "circle"
         },
         "mode": "lines",
         "name": "S7",
         "orientation": "v",
         "showlegend": true,
         "type": "scatter",
         "x": [
          "Unaligned",
          "Aligned",
          "Aligned (surrogate data)"
         ],
         "xaxis": "x",
         "y": [
          0.10969267139479905,
          0.213806146572104,
          0.1353191489361702
         ],
         "yaxis": "y"
        },
        {
         "hovertemplate": "Patient=S8<br>Decoding Context=%{x}<br>accuracy=%{y}<extra></extra>",
         "legendgroup": "S8",
         "line": {
          "color": "#B6E880",
          "dash": "solid"
         },
         "marker": {
          "symbol": "circle"
         },
         "mode": "lines",
         "name": "S8",
         "orientation": "v",
         "showlegend": true,
         "type": "scatter",
         "x": [
          "Unaligned",
          "Aligned",
          "Aligned (surrogate data)"
         ],
         "xaxis": "x",
         "y": [
          0.1447191011235955,
          0.3141198501872659,
          0.12868913857677902
         ],
         "yaxis": "y"
        },
        {
         "alignmentgroup": "True",
         "hovertemplate": "Decoding Context=%{x}<br>accuracy=%{y}<extra></extra>",
         "legendgroup": "",
         "marker": {
          "color": "#636efa"
         },
         "name": "",
         "notched": false,
         "offsetgroup": "",
         "orientation": "v",
         "showlegend": false,
         "type": "box",
         "x": [
          "Unaligned",
          "Aligned",
          "Aligned (surrogate data)",
          "Unaligned",
          "Aligned",
          "Aligned (surrogate data)",
          "Unaligned",
          "Aligned",
          "Aligned (surrogate data)",
          "Unaligned",
          "Aligned",
          "Aligned (surrogate data)",
          "Unaligned",
          "Aligned",
          "Aligned (surrogate data)",
          "Unaligned",
          "Aligned",
          "Aligned (surrogate data)",
          "Unaligned",
          "Aligned",
          "Aligned (surrogate data)",
          "Unaligned",
          "Aligned",
          "Aligned (surrogate data)"
         ],
         "x0": " ",
         "xaxis": "x",
         "y": [
          0.12435185185185185,
          0.357962962962963,
          0.1822222222222222,
          0.09337837837837838,
          0.4154054054054054,
          0.11063063063063064,
          0.2044927536231884,
          0.5385507246376812,
          0.13362318840579712,
          0.10048565121412803,
          0.16662251655629137,
          0.08547461368653421,
          0.10132450331125828,
          0.19602649006622516,
          0.11814569536423841,
          0.15883211678832118,
          0.22287104622871046,
          0.13211678832116788,
          0.10969267139479905,
          0.213806146572104,
          0.1353191489361702,
          0.1447191011235955,
          0.3141198501872659,
          0.12868913857677902
         ],
         "y0": " ",
         "yaxis": "y"
        }
       ],
       "layout": {
        "annotations": [
         {
          "showarrow": false,
          "text": "Chance",
          "x": 1,
          "xanchor": "right",
          "xref": "x domain",
          "y": 0.1111111111111111,
          "yanchor": "top",
          "yref": "y"
         }
        ],
        "font": {
         "family": "Arial",
         "size": 20
        },
        "height": 600,
        "legend": {
         "orientation": "h",
         "title": {
          "text": ""
         },
         "tracegroupgap": 0,
         "x": 0.01,
         "xanchor": "left",
         "y": 0.02,
         "yanchor": "bottom"
        },
        "margin": {
         "t": 60
        },
        "plot_bgcolor": "white",
        "shapes": [
         {
          "line": {
           "color": "grey",
           "dash": "dash"
          },
          "type": "line",
          "x0": 0,
          "x1": 1,
          "xref": "x domain",
          "y0": 0.1111111111111111,
          "y1": 0.1111111111111111,
          "yref": "y"
         }
        ],
        "template": {
         "data": {
          "bar": [
           {
            "error_x": {
             "color": "#2a3f5f"
            },
            "error_y": {
             "color": "#2a3f5f"
            },
            "marker": {
             "line": {
              "color": "#E5ECF6",
              "width": 0.5
             },
             "pattern": {
              "fillmode": "overlay",
              "size": 10,
              "solidity": 0.2
             }
            },
            "type": "bar"
           }
          ],
          "barpolar": [
           {
            "marker": {
             "line": {
              "color": "#E5ECF6",
              "width": 0.5
             },
             "pattern": {
              "fillmode": "overlay",
              "size": 10,
              "solidity": 0.2
             }
            },
            "type": "barpolar"
           }
          ],
          "carpet": [
           {
            "aaxis": {
             "endlinecolor": "#2a3f5f",
             "gridcolor": "white",
             "linecolor": "white",
             "minorgridcolor": "white",
             "startlinecolor": "#2a3f5f"
            },
            "baxis": {
             "endlinecolor": "#2a3f5f",
             "gridcolor": "white",
             "linecolor": "white",
             "minorgridcolor": "white",
             "startlinecolor": "#2a3f5f"
            },
            "type": "carpet"
           }
          ],
          "choropleth": [
           {
            "colorbar": {
             "outlinewidth": 0,
             "ticks": ""
            },
            "type": "choropleth"
           }
          ],
          "contour": [
           {
            "colorbar": {
             "outlinewidth": 0,
             "ticks": ""
            },
            "colorscale": [
             [
              0,
              "#0d0887"
             ],
             [
              0.1111111111111111,
              "#46039f"
             ],
             [
              0.2222222222222222,
              "#7201a8"
             ],
             [
              0.3333333333333333,
              "#9c179e"
             ],
             [
              0.4444444444444444,
              "#bd3786"
             ],
             [
              0.5555555555555556,
              "#d8576b"
             ],
             [
              0.6666666666666666,
              "#ed7953"
             ],
             [
              0.7777777777777778,
              "#fb9f3a"
             ],
             [
              0.8888888888888888,
              "#fdca26"
             ],
             [
              1,
              "#f0f921"
             ]
            ],
            "type": "contour"
           }
          ],
          "contourcarpet": [
           {
            "colorbar": {
             "outlinewidth": 0,
             "ticks": ""
            },
            "type": "contourcarpet"
           }
          ],
          "heatmap": [
           {
            "colorbar": {
             "outlinewidth": 0,
             "ticks": ""
            },
            "colorscale": [
             [
              0,
              "#0d0887"
             ],
             [
              0.1111111111111111,
              "#46039f"
             ],
             [
              0.2222222222222222,
              "#7201a8"
             ],
             [
              0.3333333333333333,
              "#9c179e"
             ],
             [
              0.4444444444444444,
              "#bd3786"
             ],
             [
              0.5555555555555556,
              "#d8576b"
             ],
             [
              0.6666666666666666,
              "#ed7953"
             ],
             [
              0.7777777777777778,
              "#fb9f3a"
             ],
             [
              0.8888888888888888,
              "#fdca26"
             ],
             [
              1,
              "#f0f921"
             ]
            ],
            "type": "heatmap"
           }
          ],
          "heatmapgl": [
           {
            "colorbar": {
             "outlinewidth": 0,
             "ticks": ""
            },
            "colorscale": [
             [
              0,
              "#0d0887"
             ],
             [
              0.1111111111111111,
              "#46039f"
             ],
             [
              0.2222222222222222,
              "#7201a8"
             ],
             [
              0.3333333333333333,
              "#9c179e"
             ],
             [
              0.4444444444444444,
              "#bd3786"
             ],
             [
              0.5555555555555556,
              "#d8576b"
             ],
             [
              0.6666666666666666,
              "#ed7953"
             ],
             [
              0.7777777777777778,
              "#fb9f3a"
             ],
             [
              0.8888888888888888,
              "#fdca26"
             ],
             [
              1,
              "#f0f921"
             ]
            ],
            "type": "heatmapgl"
           }
          ],
          "histogram": [
           {
            "marker": {
             "pattern": {
              "fillmode": "overlay",
              "size": 10,
              "solidity": 0.2
             }
            },
            "type": "histogram"
           }
          ],
          "histogram2d": [
           {
            "colorbar": {
             "outlinewidth": 0,
             "ticks": ""
            },
            "colorscale": [
             [
              0,
              "#0d0887"
             ],
             [
              0.1111111111111111,
              "#46039f"
             ],
             [
              0.2222222222222222,
              "#7201a8"
             ],
             [
              0.3333333333333333,
              "#9c179e"
             ],
             [
              0.4444444444444444,
              "#bd3786"
             ],
             [
              0.5555555555555556,
              "#d8576b"
             ],
             [
              0.6666666666666666,
              "#ed7953"
             ],
             [
              0.7777777777777778,
              "#fb9f3a"
             ],
             [
              0.8888888888888888,
              "#fdca26"
             ],
             [
              1,
              "#f0f921"
             ]
            ],
            "type": "histogram2d"
           }
          ],
          "histogram2dcontour": [
           {
            "colorbar": {
             "outlinewidth": 0,
             "ticks": ""
            },
            "colorscale": [
             [
              0,
              "#0d0887"
             ],
             [
              0.1111111111111111,
              "#46039f"
             ],
             [
              0.2222222222222222,
              "#7201a8"
             ],
             [
              0.3333333333333333,
              "#9c179e"
             ],
             [
              0.4444444444444444,
              "#bd3786"
             ],
             [
              0.5555555555555556,
              "#d8576b"
             ],
             [
              0.6666666666666666,
              "#ed7953"
             ],
             [
              0.7777777777777778,
              "#fb9f3a"
             ],
             [
              0.8888888888888888,
              "#fdca26"
             ],
             [
              1,
              "#f0f921"
             ]
            ],
            "type": "histogram2dcontour"
           }
          ],
          "mesh3d": [
           {
            "colorbar": {
             "outlinewidth": 0,
             "ticks": ""
            },
            "type": "mesh3d"
           }
          ],
          "parcoords": [
           {
            "line": {
             "colorbar": {
              "outlinewidth": 0,
              "ticks": ""
             }
            },
            "type": "parcoords"
           }
          ],
          "pie": [
           {
            "automargin": true,
            "type": "pie"
           }
          ],
          "scatter": [
           {
            "fillpattern": {
             "fillmode": "overlay",
             "size": 10,
             "solidity": 0.2
            },
            "type": "scatter"
           }
          ],
          "scatter3d": [
           {
            "line": {
             "colorbar": {
              "outlinewidth": 0,
              "ticks": ""
             }
            },
            "marker": {
             "colorbar": {
              "outlinewidth": 0,
              "ticks": ""
             }
            },
            "type": "scatter3d"
           }
          ],
          "scattercarpet": [
           {
            "marker": {
             "colorbar": {
              "outlinewidth": 0,
              "ticks": ""
             }
            },
            "type": "scattercarpet"
           }
          ],
          "scattergeo": [
           {
            "marker": {
             "colorbar": {
              "outlinewidth": 0,
              "ticks": ""
             }
            },
            "type": "scattergeo"
           }
          ],
          "scattergl": [
           {
            "marker": {
             "colorbar": {
              "outlinewidth": 0,
              "ticks": ""
             }
            },
            "type": "scattergl"
           }
          ],
          "scattermapbox": [
           {
            "marker": {
             "colorbar": {
              "outlinewidth": 0,
              "ticks": ""
             }
            },
            "type": "scattermapbox"
           }
          ],
          "scatterpolar": [
           {
            "marker": {
             "colorbar": {
              "outlinewidth": 0,
              "ticks": ""
             }
            },
            "type": "scatterpolar"
           }
          ],
          "scatterpolargl": [
           {
            "marker": {
             "colorbar": {
              "outlinewidth": 0,
              "ticks": ""
             }
            },
            "type": "scatterpolargl"
           }
          ],
          "scatterternary": [
           {
            "marker": {
             "colorbar": {
              "outlinewidth": 0,
              "ticks": ""
             }
            },
            "type": "scatterternary"
           }
          ],
          "surface": [
           {
            "colorbar": {
             "outlinewidth": 0,
             "ticks": ""
            },
            "colorscale": [
             [
              0,
              "#0d0887"
             ],
             [
              0.1111111111111111,
              "#46039f"
             ],
             [
              0.2222222222222222,
              "#7201a8"
             ],
             [
              0.3333333333333333,
              "#9c179e"
             ],
             [
              0.4444444444444444,
              "#bd3786"
             ],
             [
              0.5555555555555556,
              "#d8576b"
             ],
             [
              0.6666666666666666,
              "#ed7953"
             ],
             [
              0.7777777777777778,
              "#fb9f3a"
             ],
             [
              0.8888888888888888,
              "#fdca26"
             ],
             [
              1,
              "#f0f921"
             ]
            ],
            "type": "surface"
           }
          ],
          "table": [
           {
            "cells": {
             "fill": {
              "color": "#EBF0F8"
             },
             "line": {
              "color": "white"
             }
            },
            "header": {
             "fill": {
              "color": "#C8D4E3"
             },
             "line": {
              "color": "white"
             }
            },
            "type": "table"
           }
          ]
         },
         "layout": {
          "annotationdefaults": {
           "arrowcolor": "#2a3f5f",
           "arrowhead": 0,
           "arrowwidth": 1
          },
          "autotypenumbers": "strict",
          "coloraxis": {
           "colorbar": {
            "outlinewidth": 0,
            "ticks": ""
           }
          },
          "colorscale": {
           "diverging": [
            [
             0,
             "#8e0152"
            ],
            [
             0.1,
             "#c51b7d"
            ],
            [
             0.2,
             "#de77ae"
            ],
            [
             0.3,
             "#f1b6da"
            ],
            [
             0.4,
             "#fde0ef"
            ],
            [
             0.5,
             "#f7f7f7"
            ],
            [
             0.6,
             "#e6f5d0"
            ],
            [
             0.7,
             "#b8e186"
            ],
            [
             0.8,
             "#7fbc41"
            ],
            [
             0.9,
             "#4d9221"
            ],
            [
             1,
             "#276419"
            ]
           ],
           "sequential": [
            [
             0,
             "#0d0887"
            ],
            [
             0.1111111111111111,
             "#46039f"
            ],
            [
             0.2222222222222222,
             "#7201a8"
            ],
            [
             0.3333333333333333,
             "#9c179e"
            ],
            [
             0.4444444444444444,
             "#bd3786"
            ],
            [
             0.5555555555555556,
             "#d8576b"
            ],
            [
             0.6666666666666666,
             "#ed7953"
            ],
            [
             0.7777777777777778,
             "#fb9f3a"
            ],
            [
             0.8888888888888888,
             "#fdca26"
            ],
            [
             1,
             "#f0f921"
            ]
           ],
           "sequentialminus": [
            [
             0,
             "#0d0887"
            ],
            [
             0.1111111111111111,
             "#46039f"
            ],
            [
             0.2222222222222222,
             "#7201a8"
            ],
            [
             0.3333333333333333,
             "#9c179e"
            ],
            [
             0.4444444444444444,
             "#bd3786"
            ],
            [
             0.5555555555555556,
             "#d8576b"
            ],
            [
             0.6666666666666666,
             "#ed7953"
            ],
            [
             0.7777777777777778,
             "#fb9f3a"
            ],
            [
             0.8888888888888888,
             "#fdca26"
            ],
            [
             1,
             "#f0f921"
            ]
           ]
          },
          "colorway": [
           "#636efa",
           "#EF553B",
           "#00cc96",
           "#ab63fa",
           "#FFA15A",
           "#19d3f3",
           "#FF6692",
           "#B6E880",
           "#FF97FF",
           "#FECB52"
          ],
          "font": {
           "color": "#2a3f5f"
          },
          "geo": {
           "bgcolor": "white",
           "lakecolor": "white",
           "landcolor": "#E5ECF6",
           "showlakes": true,
           "showland": true,
           "subunitcolor": "white"
          },
          "hoverlabel": {
           "align": "left"
          },
          "hovermode": "closest",
          "mapbox": {
           "style": "light"
          },
          "paper_bgcolor": "white",
          "plot_bgcolor": "#E5ECF6",
          "polar": {
           "angularaxis": {
            "gridcolor": "white",
            "linecolor": "white",
            "ticks": ""
           },
           "bgcolor": "#E5ECF6",
           "radialaxis": {
            "gridcolor": "white",
            "linecolor": "white",
            "ticks": ""
           }
          },
          "scene": {
           "xaxis": {
            "backgroundcolor": "#E5ECF6",
            "gridcolor": "white",
            "gridwidth": 2,
            "linecolor": "white",
            "showbackground": true,
            "ticks": "",
            "zerolinecolor": "white"
           },
           "yaxis": {
            "backgroundcolor": "#E5ECF6",
            "gridcolor": "white",
            "gridwidth": 2,
            "linecolor": "white",
            "showbackground": true,
            "ticks": "",
            "zerolinecolor": "white"
           },
           "zaxis": {
            "backgroundcolor": "#E5ECF6",
            "gridcolor": "white",
            "gridwidth": 2,
            "linecolor": "white",
            "showbackground": true,
            "ticks": "",
            "zerolinecolor": "white"
           }
          },
          "shapedefaults": {
           "line": {
            "color": "#2a3f5f"
           }
          },
          "ternary": {
           "aaxis": {
            "gridcolor": "white",
            "linecolor": "white",
            "ticks": ""
           },
           "baxis": {
            "gridcolor": "white",
            "linecolor": "white",
            "ticks": ""
           },
           "bgcolor": "#E5ECF6",
           "caxis": {
            "gridcolor": "white",
            "linecolor": "white",
            "ticks": ""
           }
          },
          "title": {
           "x": 0.05
          },
          "xaxis": {
           "automargin": true,
           "gridcolor": "white",
           "linecolor": "white",
           "ticks": "",
           "title": {
            "standoff": 15
           },
           "zerolinecolor": "white",
           "zerolinewidth": 2
          },
          "yaxis": {
           "automargin": true,
           "gridcolor": "white",
           "linecolor": "white",
           "ticks": "",
           "title": {
            "standoff": 15
           },
           "zerolinecolor": "white",
           "zerolinewidth": 2
          }
         }
        },
        "title": {
         "text": "",
         "x": 0.5
        },
        "width": 800,
        "xaxis": {
         "anchor": "y",
         "domain": [
          0,
          1
         ],
         "linecolor": "black",
         "mirror": false,
         "showgrid": false,
         "showline": true,
         "ticks": "outside",
         "title": {
          "text": ""
         }
        },
        "yaxis": {
         "anchor": "x",
         "domain": [
          0,
          1
         ],
         "linecolor": "black",
         "mirror": false,
         "range": [
          0,
          0.6
         ],
         "showgrid": false,
         "showline": true,
         "ticks": "outside",
         "title": {
          "text": "Phoneme decoding accuracy"
         }
        }
       }
      }
     },
     "metadata": {},
     "output_type": "display_data"
    }
   ],
   "source": [
    "fig_ind = 'pAll'\n",
    "fig_df = noTar_decode_df_long[noTar_decode_df_long['Phoneme Index'] == fig_ind].drop(columns=['Phoneme Index']).groupby(['Patient', 'Decoding Context'], sort=False).mean().reset_index()\n",
    "\n",
    "fig = px.line(fig_df, x='Decoding Context', y=\"accuracy\", color='Patient', width=800, height=600, color_discrete_sequence=px.colors.qualitative.Plotly)\n",
    "fig.add_traces(px.box(fig_df, x='Decoding Context', y=\"accuracy\").data)\n",
    "fig.add_hline(y=1/9, line_dash='dash', line_color='grey', annotation_text='Chance', annotation_position='bottom right')\n",
    "fig.update_layout(\n",
    "    plot_bgcolor='white',\n",
    "    legend=dict(\n",
    "        orientation='h',\n",
    "        yanchor='bottom',\n",
    "        y=0.02,\n",
    "        xanchor='left',\n",
    "        x=0.01,\n",
    "        title_text=''\n",
    "    ),\n",
    "    title_text='',\n",
    "    title_x=0.5,\n",
    "    font=dict(size=20, family='Arial')\n",
    ")\n",
    "fig.update_xaxes(\n",
    "    title='',\n",
    "    mirror=False,\n",
    "    ticks='outside',\n",
    "    showline=True,\n",
    "    linecolor='black',\n",
    "    showgrid=False,\n",
    ")\n",
    "fig.update_yaxes(\n",
    "    title='Phoneme decoding accuracy',\n",
    "    mirror=False,\n",
    "    ticks='outside',\n",
    "    showline=True,\n",
    "    linecolor='black',\n",
    "    showgrid=False,\n",
    "    range=[0, 0.6]\n",
    ")\n",
    "fig.show()"
   ]
  },
  {
   "cell_type": "markdown",
   "metadata": {},
   "source": [
    "Stats between distributions"
   ]
  },
  {
   "cell_type": "code",
   "execution_count": null,
   "metadata": {},
   "outputs": [
    {
     "name": "stdout",
     "output_type": "stream",
     "text": [
      "                Anova\n",
      "=====================================\n",
      "        F Value Num DF  Den DF Pr > F\n",
      "-------------------------------------\n",
      "context 16.8883 2.0000 14.0000 0.0002\n",
      "=====================================\n",
      "\n",
      "##### Uncorrected Follow-up #####\n",
      "Aligned vs. Unaligned: TtestResult(statistic=4.4275973156752775, pvalue=0.0030531030065430453, df=7)\n",
      "Aligned vs. Surrogate: TtestResult(statistic=4.049214668047459, pvalue=0.004875648236408419, df=7)\n",
      "Unaligned vs. Surrogate: TtestResult(statistic=0.09956017086095166, pvalue=0.9234848006468698, df=7)\n",
      "##### FDR Correction #####\n",
      "Aligned vs. Unaligned: 0.007313472354612628\n",
      "Aligned vs. Surrogate: 0.007313472354612628\n",
      "Unaligned vs. Surrogate: 0.9234848006468698\n",
      "Pass significance: [ True  True False]\n"
     ]
    }
   ],
   "source": [
    "fig_df = noTar_decode_df_long[noTar_decode_df_long['Phoneme Index'] == fig_ind].drop(columns=['Phoneme Index']).groupby(['Patient', 'Decoding Context'], sort=False).mean().reset_index()\n",
    "rm_df = fig_df.rename(columns={'Decoding Context': 'context'})\n",
    "\n",
    "print(AnovaRM(data=rm_df, depvar='accuracy', subject='Patient', within=['context']).fit())\n",
    "\n",
    "grp_una = fig_df[fig_df['Decoding Context'] == 'Unaligned']['accuracy']\n",
    "grp_cca = fig_df[fig_df['Decoding Context'] == 'Aligned']['accuracy']\n",
    "grp_tme = fig_df[fig_df['Decoding Context'] == 'Aligned (surrogate data)']['accuracy']\n",
    "\n",
    "grp_cca_una_res = stats.ttest_rel(grp_cca, grp_una)\n",
    "grp_cca_tme_res = stats.ttest_rel(grp_cca, grp_tme)\n",
    "grp_una_tme_res = stats.ttest_rel(grp_una, grp_tme)\n",
    "\n",
    "print('##### Uncorrected Follow-up #####')\n",
    "print(f'Aligned vs. Unaligned: {grp_cca_una_res}')\n",
    "print(f'Aligned vs. Surrogate: {grp_cca_tme_res}')\n",
    "print(f'Unaligned vs. Surrogate: {grp_una_tme_res}')\n",
    "\n",
    "grp_p_arr = [grp_cca_una_res.pvalue, grp_cca_tme_res.pvalue, grp_una_tme_res.pvalue]\n",
    "\n",
    "print('##### FDR Correction #####')\n",
    "p_arr_corr = fdrcorrection(grp_p_arr)\n",
    "print(f'Aligned vs. Unaligned: {p_arr_corr[1][0]}')\n",
    "print(f'Aligned vs. Surrogate: {p_arr_corr[1][1]}')\n",
    "print(f'Unaligned vs. Surrogate: {p_arr_corr[1][2]}')\n",
    "print(f'Pass significance: {p_arr_corr[0]}')\n"
   ]
  },
  {
   "cell_type": "markdown",
   "metadata": {},
   "source": [
    "TME vs chance"
   ]
  },
  {
   "cell_type": "code",
   "execution_count": 15,
   "metadata": {},
   "outputs": [
    {
     "data": {
      "application/vnd.microsoft.datawrangler.viewer.v0+json": {
       "columns": [
        {
         "name": "index",
         "rawType": "int64",
         "type": "integer"
        },
        {
         "name": "Patient",
         "rawType": "object",
         "type": "string"
        },
        {
         "name": "Decoding Context",
         "rawType": "object",
         "type": "string"
        },
        {
         "name": "Phoneme Index",
         "rawType": "object",
         "type": "string"
        },
        {
         "name": "accuracy",
         "rawType": "float64",
         "type": "float"
        }
       ],
       "ref": "62134fa2-abdb-45d7-9509-b25620c95c96",
       "rows": [
        [
         "0",
         "S1",
         "Aligned",
         "pAll",
         "0.357962962962963"
        ],
        [
         "1",
         "S1",
         "Aligned (surrogate data)",
         "pAll",
         "0.1822222222222222"
        ],
        [
         "2",
         "S1",
         "Unaligned",
         "pAll",
         "0.12435185185185185"
        ],
        [
         "3",
         "S2",
         "Aligned",
         "pAll",
         "0.4154054054054054"
        ],
        [
         "4",
         "S2",
         "Aligned (surrogate data)",
         "pAll",
         "0.11063063063063064"
        ],
        [
         "5",
         "S2",
         "Unaligned",
         "pAll",
         "0.09337837837837838"
        ],
        [
         "6",
         "S3",
         "Aligned",
         "pAll",
         "0.5385507246376812"
        ],
        [
         "7",
         "S3",
         "Aligned (surrogate data)",
         "pAll",
         "0.13362318840579712"
        ],
        [
         "8",
         "S3",
         "Unaligned",
         "pAll",
         "0.2044927536231884"
        ],
        [
         "9",
         "S4",
         "Aligned",
         "pAll",
         "0.16662251655629137"
        ],
        [
         "10",
         "S4",
         "Aligned (surrogate data)",
         "pAll",
         "0.08547461368653421"
        ],
        [
         "11",
         "S4",
         "Unaligned",
         "pAll",
         "0.10048565121412803"
        ],
        [
         "12",
         "S5",
         "Aligned",
         "pAll",
         "0.19602649006622516"
        ],
        [
         "13",
         "S5",
         "Aligned (surrogate data)",
         "pAll",
         "0.11814569536423841"
        ],
        [
         "14",
         "S5",
         "Unaligned",
         "pAll",
         "0.10132450331125828"
        ],
        [
         "15",
         "S6",
         "Aligned",
         "pAll",
         "0.22287104622871046"
        ],
        [
         "16",
         "S6",
         "Aligned (surrogate data)",
         "pAll",
         "0.13211678832116788"
        ],
        [
         "17",
         "S6",
         "Unaligned",
         "pAll",
         "0.15883211678832118"
        ],
        [
         "18",
         "S7",
         "Aligned",
         "pAll",
         "0.213806146572104"
        ],
        [
         "19",
         "S7",
         "Aligned (surrogate data)",
         "pAll",
         "0.1353191489361702"
        ],
        [
         "20",
         "S7",
         "Unaligned",
         "pAll",
         "0.10969267139479905"
        ],
        [
         "21",
         "S8",
         "Aligned",
         "pAll",
         "0.3141198501872659"
        ],
        [
         "22",
         "S8",
         "Aligned (surrogate data)",
         "pAll",
         "0.12868913857677902"
        ],
        [
         "23",
         "S8",
         "Unaligned",
         "pAll",
         "0.1447191011235955"
        ]
       ],
       "shape": {
        "columns": 4,
        "rows": 24
       }
      },
      "text/html": [
       "<div>\n",
       "<style scoped>\n",
       "    .dataframe tbody tr th:only-of-type {\n",
       "        vertical-align: middle;\n",
       "    }\n",
       "\n",
       "    .dataframe tbody tr th {\n",
       "        vertical-align: top;\n",
       "    }\n",
       "\n",
       "    .dataframe thead th {\n",
       "        text-align: right;\n",
       "    }\n",
       "</style>\n",
       "<table border=\"1\" class=\"dataframe\">\n",
       "  <thead>\n",
       "    <tr style=\"text-align: right;\">\n",
       "      <th></th>\n",
       "      <th>Patient</th>\n",
       "      <th>Decoding Context</th>\n",
       "      <th>Phoneme Index</th>\n",
       "      <th>accuracy</th>\n",
       "    </tr>\n",
       "  </thead>\n",
       "  <tbody>\n",
       "    <tr>\n",
       "      <th>0</th>\n",
       "      <td>S1</td>\n",
       "      <td>Aligned</td>\n",
       "      <td>pAll</td>\n",
       "      <td>0.357963</td>\n",
       "    </tr>\n",
       "    <tr>\n",
       "      <th>1</th>\n",
       "      <td>S1</td>\n",
       "      <td>Aligned (surrogate data)</td>\n",
       "      <td>pAll</td>\n",
       "      <td>0.182222</td>\n",
       "    </tr>\n",
       "    <tr>\n",
       "      <th>2</th>\n",
       "      <td>S1</td>\n",
       "      <td>Unaligned</td>\n",
       "      <td>pAll</td>\n",
       "      <td>0.124352</td>\n",
       "    </tr>\n",
       "    <tr>\n",
       "      <th>3</th>\n",
       "      <td>S2</td>\n",
       "      <td>Aligned</td>\n",
       "      <td>pAll</td>\n",
       "      <td>0.415405</td>\n",
       "    </tr>\n",
       "    <tr>\n",
       "      <th>4</th>\n",
       "      <td>S2</td>\n",
       "      <td>Aligned (surrogate data)</td>\n",
       "      <td>pAll</td>\n",
       "      <td>0.110631</td>\n",
       "    </tr>\n",
       "    <tr>\n",
       "      <th>5</th>\n",
       "      <td>S2</td>\n",
       "      <td>Unaligned</td>\n",
       "      <td>pAll</td>\n",
       "      <td>0.093378</td>\n",
       "    </tr>\n",
       "    <tr>\n",
       "      <th>6</th>\n",
       "      <td>S3</td>\n",
       "      <td>Aligned</td>\n",
       "      <td>pAll</td>\n",
       "      <td>0.538551</td>\n",
       "    </tr>\n",
       "    <tr>\n",
       "      <th>7</th>\n",
       "      <td>S3</td>\n",
       "      <td>Aligned (surrogate data)</td>\n",
       "      <td>pAll</td>\n",
       "      <td>0.133623</td>\n",
       "    </tr>\n",
       "    <tr>\n",
       "      <th>8</th>\n",
       "      <td>S3</td>\n",
       "      <td>Unaligned</td>\n",
       "      <td>pAll</td>\n",
       "      <td>0.204493</td>\n",
       "    </tr>\n",
       "    <tr>\n",
       "      <th>9</th>\n",
       "      <td>S4</td>\n",
       "      <td>Aligned</td>\n",
       "      <td>pAll</td>\n",
       "      <td>0.166623</td>\n",
       "    </tr>\n",
       "    <tr>\n",
       "      <th>10</th>\n",
       "      <td>S4</td>\n",
       "      <td>Aligned (surrogate data)</td>\n",
       "      <td>pAll</td>\n",
       "      <td>0.085475</td>\n",
       "    </tr>\n",
       "    <tr>\n",
       "      <th>11</th>\n",
       "      <td>S4</td>\n",
       "      <td>Unaligned</td>\n",
       "      <td>pAll</td>\n",
       "      <td>0.100486</td>\n",
       "    </tr>\n",
       "    <tr>\n",
       "      <th>12</th>\n",
       "      <td>S5</td>\n",
       "      <td>Aligned</td>\n",
       "      <td>pAll</td>\n",
       "      <td>0.196026</td>\n",
       "    </tr>\n",
       "    <tr>\n",
       "      <th>13</th>\n",
       "      <td>S5</td>\n",
       "      <td>Aligned (surrogate data)</td>\n",
       "      <td>pAll</td>\n",
       "      <td>0.118146</td>\n",
       "    </tr>\n",
       "    <tr>\n",
       "      <th>14</th>\n",
       "      <td>S5</td>\n",
       "      <td>Unaligned</td>\n",
       "      <td>pAll</td>\n",
       "      <td>0.101325</td>\n",
       "    </tr>\n",
       "    <tr>\n",
       "      <th>15</th>\n",
       "      <td>S6</td>\n",
       "      <td>Aligned</td>\n",
       "      <td>pAll</td>\n",
       "      <td>0.222871</td>\n",
       "    </tr>\n",
       "    <tr>\n",
       "      <th>16</th>\n",
       "      <td>S6</td>\n",
       "      <td>Aligned (surrogate data)</td>\n",
       "      <td>pAll</td>\n",
       "      <td>0.132117</td>\n",
       "    </tr>\n",
       "    <tr>\n",
       "      <th>17</th>\n",
       "      <td>S6</td>\n",
       "      <td>Unaligned</td>\n",
       "      <td>pAll</td>\n",
       "      <td>0.158832</td>\n",
       "    </tr>\n",
       "    <tr>\n",
       "      <th>18</th>\n",
       "      <td>S7</td>\n",
       "      <td>Aligned</td>\n",
       "      <td>pAll</td>\n",
       "      <td>0.213806</td>\n",
       "    </tr>\n",
       "    <tr>\n",
       "      <th>19</th>\n",
       "      <td>S7</td>\n",
       "      <td>Aligned (surrogate data)</td>\n",
       "      <td>pAll</td>\n",
       "      <td>0.135319</td>\n",
       "    </tr>\n",
       "    <tr>\n",
       "      <th>20</th>\n",
       "      <td>S7</td>\n",
       "      <td>Unaligned</td>\n",
       "      <td>pAll</td>\n",
       "      <td>0.109693</td>\n",
       "    </tr>\n",
       "    <tr>\n",
       "      <th>21</th>\n",
       "      <td>S8</td>\n",
       "      <td>Aligned</td>\n",
       "      <td>pAll</td>\n",
       "      <td>0.314120</td>\n",
       "    </tr>\n",
       "    <tr>\n",
       "      <th>22</th>\n",
       "      <td>S8</td>\n",
       "      <td>Aligned (surrogate data)</td>\n",
       "      <td>pAll</td>\n",
       "      <td>0.128689</td>\n",
       "    </tr>\n",
       "    <tr>\n",
       "      <th>23</th>\n",
       "      <td>S8</td>\n",
       "      <td>Unaligned</td>\n",
       "      <td>pAll</td>\n",
       "      <td>0.144719</td>\n",
       "    </tr>\n",
       "  </tbody>\n",
       "</table>\n",
       "</div>"
      ],
      "text/plain": [
       "   Patient          Decoding Context Phoneme Index  accuracy\n",
       "0       S1                   Aligned          pAll  0.357963\n",
       "1       S1  Aligned (surrogate data)          pAll  0.182222\n",
       "2       S1                 Unaligned          pAll  0.124352\n",
       "3       S2                   Aligned          pAll  0.415405\n",
       "4       S2  Aligned (surrogate data)          pAll  0.110631\n",
       "5       S2                 Unaligned          pAll  0.093378\n",
       "6       S3                   Aligned          pAll  0.538551\n",
       "7       S3  Aligned (surrogate data)          pAll  0.133623\n",
       "8       S3                 Unaligned          pAll  0.204493\n",
       "9       S4                   Aligned          pAll  0.166623\n",
       "10      S4  Aligned (surrogate data)          pAll  0.085475\n",
       "11      S4                 Unaligned          pAll  0.100486\n",
       "12      S5                   Aligned          pAll  0.196026\n",
       "13      S5  Aligned (surrogate data)          pAll  0.118146\n",
       "14      S5                 Unaligned          pAll  0.101325\n",
       "15      S6                   Aligned          pAll  0.222871\n",
       "16      S6  Aligned (surrogate data)          pAll  0.132117\n",
       "17      S6                 Unaligned          pAll  0.158832\n",
       "18      S7                   Aligned          pAll  0.213806\n",
       "19      S7  Aligned (surrogate data)          pAll  0.135319\n",
       "20      S7                 Unaligned          pAll  0.109693\n",
       "21      S8                   Aligned          pAll  0.314120\n",
       "22      S8  Aligned (surrogate data)          pAll  0.128689\n",
       "23      S8                 Unaligned          pAll  0.144719"
      ]
     },
     "execution_count": 15,
     "metadata": {},
     "output_type": "execute_result"
    }
   ],
   "source": [
    "noTar_mean = noTar_decode_df_long.groupby(['Patient', 'Decoding Context', 'Phoneme Index']).mean().reset_index()\n",
    "noTar_mean"
   ]
  },
  {
   "cell_type": "code",
   "execution_count": 19,
   "metadata": {},
   "outputs": [
    {
     "name": "stdout",
     "output_type": "stream",
     "text": [
      "CCA vs. chance: WilcoxonResult(statistic=np.float64(8.0), pvalue=np.float64(0.1953125))\n"
     ]
    }
   ],
   "source": [
    "chance = 1/9\n",
    "cca_tme_chance = noTar_mean[noTar_mean['Decoding Context'] == 'Aligned (surrogate data)']['accuracy'].values - chance\n",
    "\n",
    "\n",
    "cca_tme_chance_res = stats.wilcoxon(cca_tme_chance)\n",
    "print(f'CCA vs. chance: {cca_tme_chance_res}')"
   ]
  }
 ],
 "metadata": {
  "kernelspec": {
   "display_name": "micro_decode",
   "language": "python",
   "name": "python3"
  },
  "language_info": {
   "codemirror_mode": {
    "name": "ipython",
    "version": 3
   },
   "file_extension": ".py",
   "mimetype": "text/x-python",
   "name": "python",
   "nbconvert_exporter": "python",
   "pygments_lexer": "ipython3",
   "version": "3.13.4"
  }
 },
 "nbformat": 4,
 "nbformat_minor": 2
}
