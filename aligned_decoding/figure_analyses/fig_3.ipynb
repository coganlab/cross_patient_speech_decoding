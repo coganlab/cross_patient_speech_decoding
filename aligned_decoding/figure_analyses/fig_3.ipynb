{
 "cells": [
  {
   "cell_type": "markdown",
   "metadata": {},
   "source": [
    "# Imports"
   ]
  },
  {
   "cell_type": "code",
   "execution_count": 1,
   "metadata": {},
   "outputs": [],
   "source": [
    "import sys\n",
    "sys.path.append('..')"
   ]
  },
  {
   "cell_type": "code",
   "execution_count": 2,
   "metadata": {},
   "outputs": [],
   "source": [
    "# analysis\n",
    "import numpy as np\n",
    "import pandas as pd\n",
    "import scipy.io as sio\n",
    "import scipy.stats as stats\n",
    "from sklearn.decomposition import PCA\n",
    "from sklearn.metrics import confusion_matrix\n",
    "from sklearn.preprocessing import MinMaxScaler\n",
    "from sklearn.svm import SVC\n",
    "from sklearn.pipeline import make_pipeline\n",
    "from sklearn.ensemble import BaggingClassifier\n",
    "from sklearn.model_selection import KFold, StratifiedKFold, GridSearchCV\n",
    "from sklearn.base import clone\n",
    "from tqdm import tqdm\n",
    "from statsmodels.stats.multitest import fdrcorrection\n",
    "import h5py\n",
    "\n",
    "# plotting\n",
    "import matplotlib.pyplot as plt\n",
    "import matplotlib as mpl\n",
    "import seaborn as sns\n",
    "import plotly.express as px\n",
    "import plotly.graph_objects as go\n",
    "\n",
    "# local\n",
    "import alignment.alignment_utils as utils\n",
    "from alignment.AlignCCA import AlignCCA\n",
    "from decomposition.DimRedReshape import DimRedReshape\n",
    "\n",
    "%matplotlib inline"
   ]
  },
  {
   "cell_type": "code",
   "execution_count": 12,
   "metadata": {},
   "outputs": [],
   "source": [
    "def mean_stat(a, b, axis=0):\n",
    "    return np.mean(a, axis=axis) - np.mean(b, axis=axis)"
   ]
  },
  {
   "cell_type": "markdown",
   "metadata": {},
   "source": [
    "# Data Loading"
   ]
  },
  {
   "cell_type": "markdown",
   "metadata": {},
   "source": [
    "### Real data"
   ]
  },
  {
   "cell_type": "code",
   "execution_count": 14,
   "metadata": {},
   "outputs": [],
   "source": [
    "paper_pt_dict = {'S14': 'S1', 'S26': 'S2', 'S33': 'S3', 'S22': 'S4', 'S23': 'S5', 'S39': 'S6', 'S58': 'S7', 'S62': 'S8'}"
   ]
  },
  {
   "cell_type": "code",
   "execution_count": 15,
   "metadata": {},
   "outputs": [],
   "source": [
    "DATA_PATH = '../data/'\n",
    "# data_filename = DATA_PATH + 'pt_decoding_data_S62.pkl' # mean-subtracted\n",
    "data_filename = DATA_PATH + 'pt_decoding_data_S62_zscore.pkl' # z-scored"
   ]
  },
  {
   "cell_type": "code",
   "execution_count": 16,
   "metadata": {},
   "outputs": [],
   "source": [
    "all_pt_dict = utils.load_pkl(data_filename)\n",
    "pt_names = list(all_pt_dict.keys())"
   ]
  },
  {
   "cell_type": "code",
   "execution_count": 17,
   "metadata": {},
   "outputs": [],
   "source": [
    "pt_artic_maps = {}\n",
    "for pt in pt_names:\n",
    "    h5_fname = f'../data/articulator_maps/new/{pt}/{pt}_artic_elec_weights.h5'\n",
    "    with h5py.File(h5_fname, 'r') as f:\n",
    "        weights = f['weights'][()]\n",
    "        weight_map = f['weight_map'][()]\n",
    "    pt_artic_maps[pt] = {}\n",
    "    pt_artic_maps[pt]['weights'] = weights\n",
    "    pt_artic_maps[pt]['weight_map'] = weight_map"
   ]
  },
  {
   "cell_type": "code",
   "execution_count": 18,
   "metadata": {},
   "outputs": [
    {
     "name": "stdout",
     "output_type": "stream",
     "text": [
      "['S14', 'S26', 'S23', 'S33', 'S22', 'S39', 'S58', 'S62']\n",
      "dict_keys(['ID', 'X1', 'X1_map', 'y1', 'X2', 'X2_map', 'y2', 'X3', 'X3_map', 'y3', 'y_full_phon', 'X_collapsed', 'y_phon_collapsed', 'y_artic_collapsed', 'pre_pts'])\n",
      "[(144, 200, 111), (148, 200, 111), (151, 200, 63), (46, 200, 149), (151, 200, 74), (137, 200, 144), (141, 200, 171), (178, 200, 201)]\n"
     ]
    }
   ],
   "source": [
    "print(pt_names)\n",
    "print(all_pt_dict[pt_names[0]].keys())\n",
    "print([all_pt_dict[pt]['X1'].shape for pt in pt_names])"
   ]
  },
  {
   "cell_type": "code",
   "execution_count": 19,
   "metadata": {},
   "outputs": [],
   "source": [
    "all_pt_chan_data = {}\n",
    "for pt in pt_names:\n",
    "    temp = {}\n",
    "    temp['map'] = sio.loadmat(DATA_PATH + f'{pt}/{pt}_channelMap.mat'.format(pt))['chanMap']\n",
    "    # if pt == 'S58':\n",
    "    #     temp['sig'] = sio.loadmat(DATA_PATH + f'{pt}/{pt}_sigChannel.mat'.format(pt))['sigChannel'] - 2 # this is so weird\n",
    "    # else:\n",
    "    temp['sig'] = sio.loadmat(DATA_PATH + f'{pt}/{pt}_sigChannel.mat'.format(pt))['sigChannel'] - 1\n",
    "    all_pt_chan_data[pt] = temp"
   ]
  },
  {
   "cell_type": "markdown",
   "metadata": {},
   "source": [
    "## Phoneme label processing functions"
   ]
  },
  {
   "cell_type": "code",
   "execution_count": 20,
   "metadata": {},
   "outputs": [],
   "source": [
    "phon_labels = np.array(['a', 'ae', 'i', 'u', 'b', 'p', 'v', 'g', 'k'])\n",
    "artic_labels = np.array(['low', 'high', 'labial', 'dorsal'])\n",
    "phon_to_artic_dict = {1:1, 2:1, 3:2, 4:2, 5:3, 6:3, 7:3, 8:4, 9:4}"
   ]
  },
  {
   "cell_type": "code",
   "execution_count": 21,
   "metadata": {},
   "outputs": [],
   "source": [
    "def phon_to_artic(phon_idx, phon_to_artic_conv):\n",
    "    return phon_to_artic_conv[phon_idx]\n",
    "\n",
    "def phon_to_artic_seq(phon_seq, phon_to_artic_conv):\n",
    "    flat_seq = phon_seq.flatten()\n",
    "    artic_conv = np.array([phon_to_artic(phon_idx, phon_to_artic_conv) for phon_idx in flat_seq])\n",
    "    return np.reshape(artic_conv, phon_seq.shape)\n",
    "\n",
    "def phon2artic(phon):\n",
    "    return artic_labels[phon_to_artic_dict[int(phon)] - 1]\n",
    "\n",
    "def phon2artic_seq(phon_seq):\n",
    "    return '_'.join([phon2artic(phon) for phon in phon_seq])\n",
    "\n",
    "def labels2cv_seq(labels):\n",
    "    labels_str = []\n",
    "    for lab in labels:\n",
    "        labels_str.append(labels2cv(lab))\n",
    "    return np.array(labels_str)\n",
    "\n",
    "def labels2cv(str):\n",
    "    middle_val = str[1]\n",
    "    if int(middle_val) < 5:\n",
    "        return 'CVC'\n",
    "    else:\n",
    "        return 'VCV'\n",
    "\n",
    "def articic_nums2seq(artic_num_seqs):\n",
    "    return np.array([artic_labels[artic_num-1] for artic_num in artic_num_seqs])"
   ]
  },
  {
   "cell_type": "markdown",
   "metadata": {},
   "source": [
    "## Data Processing"
   ]
  },
  {
   "cell_type": "code",
   "execution_count": 22,
   "metadata": {},
   "outputs": [],
   "source": [
    "p_ind = 1\n",
    "\n",
    "all_pt_traces = {}\n",
    "all_pt_surr_traces = {}\n",
    "all_pt_phon_labels = {}\n",
    "all_pt_phon_seqs = {}\n",
    "all_pt_phon_seqs_str = {}\n",
    "all_pt_artic_labels = {}\n",
    "all_pt_artic_seqs = {}\n",
    "all_pt_artic_seqs_str = {}\n",
    "all_pt_cv_labels = {}\n",
    "for pt in pt_names:\n",
    "    pt_trace = all_pt_dict[pt][f'X{p_ind}']  ### (trials, time, channels)\n",
    "\n",
    "    pt_phon_labels = all_pt_dict[pt][f'y{p_ind}']\n",
    "    pt_phon_seqs = all_pt_dict[pt]['y_full_phon']\n",
    "    pt_phon_seqs_str = utils.label_seq2str(pt_phon_seqs)\n",
    "    pt_artic_labels = phon_to_artic_seq(pt_phon_labels, phon_to_artic_dict)\n",
    "    pt_artic_seqs = phon_to_artic_seq(pt_phon_seqs, phon_to_artic_dict)\n",
    "    pt_artic_seqs_str = utils.label_seq2str(pt_artic_seqs)\n",
    "    pt_cv_labels = labels2cv_seq(pt_phon_seqs)\n",
    "\n",
    "    all_pt_traces[pt] = pt_trace\n",
    "    all_pt_phon_labels[pt] = pt_phon_labels\n",
    "    all_pt_phon_seqs[pt] = pt_phon_seqs\n",
    "    all_pt_phon_seqs_str[pt] = pt_phon_seqs_str\n",
    "    all_pt_artic_labels[pt] = pt_artic_labels\n",
    "    all_pt_artic_seqs[pt] = pt_artic_seqs\n",
    "    all_pt_artic_seqs_str[pt] = pt_artic_seqs_str\n",
    "    all_pt_cv_labels[pt] = pt_cv_labels"
   ]
  },
  {
   "cell_type": "code",
   "execution_count": 23,
   "metadata": {},
   "outputs": [],
   "source": [
    "t = np.linspace(-0.5, 0.5 - 1/pt_trace.shape[1], pt_trace.shape[1])"
   ]
  },
  {
   "cell_type": "markdown",
   "metadata": {},
   "source": [
    "# Data Visualization"
   ]
  },
  {
   "cell_type": "markdown",
   "metadata": {},
   "source": [
    "### Plotting utils"
   ]
  },
  {
   "cell_type": "code",
   "execution_count": 24,
   "metadata": {},
   "outputs": [],
   "source": [
    "px_colors = [\n",
    "             '#636EFA',\n",
    "             '#FFA15A',\n",
    "             '#EF553B',\n",
    "             '#00CC96',\n",
    "            #  '#72B7B2',\n",
    "            #  '#990099',\n",
    "            #  '#B6E880',\n",
    "\n",
    "             \n",
    "            #  '#FFA15A',\n",
    "            #  '#19D3F3',\n",
    "            #  '#FF6692',\n",
    "            #  '#B6E880',\n",
    "            #  '#FF97FF',\n",
    "            #  '#FECB52',\n",
    "            ]"
   ]
  },
  {
   "cell_type": "code",
   "execution_count": 25,
   "metadata": {},
   "outputs": [],
   "source": [
    "# sns.set_theme(context='notebook', font='Arial', font_scale=1.15)\n",
    "sns.set_theme(font='Arial', font_scale=1.2, style='white', palette=px_colors)\n",
    "sns.set_style(rc={\n",
    "    # 'axes.edgecolor': 'gray',\n",
    "    'axes.linewidth': 0.5,\n",
    "    'xtick.bottom': True,\n",
    "    'ytick.left': True,\n",
    "    })"
   ]
  },
  {
   "cell_type": "code",
   "execution_count": 26,
   "metadata": {},
   "outputs": [],
   "source": [
    "from matplotlib.colors import LinearSegmentedColormap\n",
    "\n",
    "parula_data = cm_data = [[0.2422, 0.1504, 0.6603],\n",
    "[0.2444, 0.1534, 0.6728],\n",
    "[0.2464, 0.1569, 0.6847],\n",
    "[0.2484, 0.1607, 0.6961],\n",
    "[0.2503, 0.1648, 0.7071],\n",
    "[0.2522, 0.1689, 0.7179],\n",
    "[0.254, 0.1732, 0.7286],\n",
    "[0.2558, 0.1773, 0.7393],\n",
    "[0.2576, 0.1814, 0.7501],\n",
    "[0.2594, 0.1854, 0.761],\n",
    "[0.2611, 0.1893, 0.7719],\n",
    "[0.2628, 0.1932, 0.7828],\n",
    "[0.2645, 0.1972, 0.7937],\n",
    "[0.2661, 0.2011, 0.8043],\n",
    "[0.2676, 0.2052, 0.8148],\n",
    "[0.2691, 0.2094, 0.8249],\n",
    "[0.2704, 0.2138, 0.8346],\n",
    "[0.2717, 0.2184, 0.8439],\n",
    "[0.2729, 0.2231, 0.8528],\n",
    "[0.274, 0.228, 0.8612],\n",
    "[0.2749, 0.233, 0.8692],\n",
    "[0.2758, 0.2382, 0.8767],\n",
    "[0.2766, 0.2435, 0.884],\n",
    "[0.2774, 0.2489, 0.8908],\n",
    "[0.2781, 0.2543, 0.8973],\n",
    "[0.2788, 0.2598, 0.9035],\n",
    "[0.2794, 0.2653, 0.9094],\n",
    "[0.2798, 0.2708, 0.915],\n",
    "[0.2802, 0.2764, 0.9204],\n",
    "[0.2806, 0.2819, 0.9255],\n",
    "[0.2809, 0.2875, 0.9305],\n",
    "[0.2811, 0.293, 0.9352],\n",
    "[0.2813, 0.2985, 0.9397],\n",
    "[0.2814, 0.304, 0.9441],\n",
    "[0.2814, 0.3095, 0.9483],\n",
    "[0.2813, 0.315, 0.9524],\n",
    "[0.2811, 0.3204, 0.9563],\n",
    "[0.2809, 0.3259, 0.96],\n",
    "[0.2807, 0.3313, 0.9636],\n",
    "[0.2803, 0.3367, 0.967],\n",
    "[0.2798, 0.3421, 0.9702],\n",
    "[0.2791, 0.3475, 0.9733],\n",
    "[0.2784, 0.3529, 0.9763],\n",
    "[0.2776, 0.3583, 0.9791],\n",
    "[0.2766, 0.3638, 0.9817],\n",
    "[0.2754, 0.3693, 0.984],\n",
    "[0.2741, 0.3748, 0.9862],\n",
    "[0.2726, 0.3804, 0.9881],\n",
    "[0.271, 0.386, 0.9898],\n",
    "[0.2691, 0.3916, 0.9912],\n",
    "[0.267, 0.3973, 0.9924],\n",
    "[0.2647, 0.403, 0.9935],\n",
    "[0.2621, 0.4088, 0.9946],\n",
    "[0.2591, 0.4145, 0.9955],\n",
    "[0.2556, 0.4203, 0.9965],\n",
    "[0.2517, 0.4261, 0.9974],\n",
    "[0.2473, 0.4319, 0.9983],\n",
    "[0.2424, 0.4378, 0.9991],\n",
    "[0.2369, 0.4437, 0.9996],\n",
    "[0.2311, 0.4497, 0.9995],\n",
    "[0.225, 0.4559, 0.9985],\n",
    "[0.2189, 0.462, 0.9968],\n",
    "[0.2128, 0.4682, 0.9948],\n",
    "[0.2066, 0.4743, 0.9926],\n",
    "[0.2006, 0.4803, 0.9906],\n",
    "[0.195, 0.4861, 0.9887],\n",
    "[0.1903, 0.4919, 0.9867],\n",
    "[0.1869, 0.4975, 0.9844],\n",
    "[0.1847, 0.503, 0.9819],\n",
    "[0.1831, 0.5084, 0.9793],\n",
    "[0.1818, 0.5138, 0.9766],\n",
    "[0.1806, 0.5191, 0.9738],\n",
    "[0.1795, 0.5244, 0.9709],\n",
    "[0.1785, 0.5296, 0.9677],\n",
    "[0.1778, 0.5349, 0.9641],\n",
    "[0.1773, 0.5401, 0.9602],\n",
    "[0.1768, 0.5452, 0.956],\n",
    "[0.1764, 0.5504, 0.9516],\n",
    "[0.1755, 0.5554, 0.9473],\n",
    "[0.174, 0.5605, 0.9432],\n",
    "[0.1716, 0.5655, 0.9393],\n",
    "[0.1686, 0.5705, 0.9357],\n",
    "[0.1649, 0.5755, 0.9323],\n",
    "[0.161, 0.5805, 0.9289],\n",
    "[0.1573, 0.5854, 0.9254],\n",
    "[0.154, 0.5902, 0.9218],\n",
    "[0.1513, 0.595, 0.9182],\n",
    "[0.1492, 0.5997, 0.9147],\n",
    "[0.1475, 0.6043, 0.9113],\n",
    "[0.1461, 0.6089, 0.908],\n",
    "[0.1446, 0.6135, 0.905],\n",
    "[0.1429, 0.618, 0.9022],\n",
    "[0.1408, 0.6226, 0.8998],\n",
    "[0.1383, 0.6272, 0.8975],\n",
    "[0.1354, 0.6317, 0.8953],\n",
    "[0.1321, 0.6363, 0.8932],\n",
    "[0.1288, 0.6408, 0.891],\n",
    "[0.1253, 0.6453, 0.8887],\n",
    "[0.1219, 0.6497, 0.8862],\n",
    "[0.1185, 0.6541, 0.8834],\n",
    "[0.1152, 0.6584, 0.8804],\n",
    "[0.1119, 0.6627, 0.877],\n",
    "[0.1085, 0.6669, 0.8734],\n",
    "[0.1048, 0.671, 0.8695],\n",
    "[0.1009, 0.675, 0.8653],\n",
    "[0.0964, 0.6789, 0.8609],\n",
    "[0.0914, 0.6828, 0.8562],\n",
    "[0.0855, 0.6865, 0.8513],\n",
    "[0.0789, 0.6902, 0.8462],\n",
    "[0.0713, 0.6938, 0.8409],\n",
    "[0.0628, 0.6972, 0.8355],\n",
    "[0.0535, 0.7006, 0.8299],\n",
    "[0.0433, 0.7039, 0.8242],\n",
    "[0.0328, 0.7071, 0.8183],\n",
    "[0.0234, 0.7103, 0.8124],\n",
    "[0.0155, 0.7133, 0.8064],\n",
    "[0.0091, 0.7163, 0.8003],\n",
    "[0.0046, 0.7192, 0.7941],\n",
    "[0.0019, 0.722, 0.7878],\n",
    "[0.0009, 0.7248, 0.7815],\n",
    "[0.0018, 0.7275, 0.7752],\n",
    "[0.0046, 0.7301, 0.7688],\n",
    "[0.0094, 0.7327, 0.7623],\n",
    "[0.0162, 0.7352, 0.7558],\n",
    "[0.0253, 0.7376, 0.7492],\n",
    "[0.0369, 0.74, 0.7426],\n",
    "[0.0504, 0.7423, 0.7359],\n",
    "[0.0638, 0.7446, 0.7292],\n",
    "[0.077, 0.7468, 0.7224],\n",
    "[0.0899, 0.7489, 0.7156],\n",
    "[0.1023, 0.751, 0.7088],\n",
    "[0.1141, 0.7531, 0.7019],\n",
    "[0.1252, 0.7552, 0.695],\n",
    "[0.1354, 0.7572, 0.6881],\n",
    "[0.1448, 0.7593, 0.6812],\n",
    "[0.1532, 0.7614, 0.6741],\n",
    "[0.1609, 0.7635, 0.6671],\n",
    "[0.1678, 0.7656, 0.6599],\n",
    "[0.1741, 0.7678, 0.6527],\n",
    "[0.1799, 0.7699, 0.6454],\n",
    "[0.1853, 0.7721, 0.6379],\n",
    "[0.1905, 0.7743, 0.6303],\n",
    "[0.1954, 0.7765, 0.6225],\n",
    "[0.2003, 0.7787, 0.6146],\n",
    "[0.2061, 0.7808, 0.6065],\n",
    "[0.2118, 0.7828, 0.5983],\n",
    "[0.2178, 0.7849, 0.5899],\n",
    "[0.2244, 0.7869, 0.5813],\n",
    "[0.2318, 0.7887, 0.5725],\n",
    "[0.2401, 0.7905, 0.5636],\n",
    "[0.2491, 0.7922, 0.5546],\n",
    "[0.2589, 0.7937, 0.5454],\n",
    "[0.2695, 0.7951, 0.536],\n",
    "[0.2809, 0.7964, 0.5266],\n",
    "[0.2929, 0.7975, 0.517],\n",
    "[0.3052, 0.7985, 0.5074],\n",
    "[0.3176, 0.7994, 0.4975],\n",
    "[0.3301, 0.8002, 0.4876],\n",
    "[0.3424, 0.8009, 0.4774],\n",
    "[0.3548, 0.8016, 0.4669],\n",
    "[0.3671, 0.8021, 0.4563],\n",
    "[0.3795, 0.8026, 0.4454],\n",
    "[0.3921, 0.8029, 0.4344],\n",
    "[0.405, 0.8031, 0.4233],\n",
    "[0.4184, 0.803, 0.4122],\n",
    "[0.4322, 0.8028, 0.4013],\n",
    "[0.4463, 0.8024, 0.3904],\n",
    "[0.4608, 0.8018, 0.3797],\n",
    "[0.4753, 0.8011, 0.3691],\n",
    "[0.4899, 0.8002, 0.3586],\n",
    "[0.5044, 0.7993, 0.348],\n",
    "[0.5187, 0.7982, 0.3374],\n",
    "[0.5329, 0.797, 0.3267],\n",
    "[0.547, 0.7957, 0.3159],\n",
    "[0.5609, 0.7943, 0.305],\n",
    "[0.5748, 0.7929, 0.2941],\n",
    "[0.5886, 0.7913, 0.2833],\n",
    "[0.6024, 0.7896, 0.2726],\n",
    "[0.6161, 0.7878, 0.2622],\n",
    "[0.6297, 0.7859, 0.2521],\n",
    "[0.6433, 0.7839, 0.2423],\n",
    "[0.6567, 0.7818, 0.2329],\n",
    "[0.6701, 0.7796, 0.2239],\n",
    "[0.6833, 0.7773, 0.2155],\n",
    "[0.6963, 0.775, 0.2075],\n",
    "[0.7091, 0.7727, 0.1998],\n",
    "[0.7218, 0.7703, 0.1924],\n",
    "[0.7344, 0.7679, 0.1852],\n",
    "[0.7468, 0.7654, 0.1782],\n",
    "[0.759, 0.7629, 0.1717],\n",
    "[0.771, 0.7604, 0.1658],\n",
    "[0.7829, 0.7579, 0.1608],\n",
    "[0.7945, 0.7554, 0.157],\n",
    "[0.806, 0.7529, 0.1546],\n",
    "[0.8172, 0.7505, 0.1535],\n",
    "[0.8281, 0.7481, 0.1536],\n",
    "[0.8389, 0.7457, 0.1546],\n",
    "[0.8495, 0.7435, 0.1564],\n",
    "[0.86, 0.7413, 0.1587],\n",
    "[0.8703, 0.7392, 0.1615],\n",
    "[0.8804, 0.7372, 0.165],\n",
    "[0.8903, 0.7353, 0.1695],\n",
    "[0.9, 0.7336, 0.1749],\n",
    "[0.9093, 0.7321, 0.1815],\n",
    "[0.9184, 0.7308, 0.189],\n",
    "[0.9272, 0.7298, 0.1973],\n",
    "[0.9357, 0.729, 0.2061],\n",
    "[0.944, 0.7285, 0.2151],\n",
    "[0.9523, 0.7284, 0.2237],\n",
    "[0.9606, 0.7285, 0.2312],\n",
    "[0.9689, 0.7292, 0.2373],\n",
    "[0.977, 0.7304, 0.2418],\n",
    "[0.9842, 0.733, 0.2446],\n",
    "[0.99, 0.7365, 0.2429],\n",
    "[0.9946, 0.7407, 0.2394],\n",
    "[0.9966, 0.7458, 0.2351],\n",
    "[0.9971, 0.7513, 0.2309],\n",
    "[0.9972, 0.7569, 0.2267],\n",
    "[0.9971, 0.7626, 0.2224],\n",
    "[0.9969, 0.7683, 0.2181],\n",
    "[0.9966, 0.774, 0.2138],\n",
    "[0.9962, 0.7798, 0.2095],\n",
    "[0.9957, 0.7856, 0.2053],\n",
    "[0.9949, 0.7915, 0.2012],\n",
    "[0.9938, 0.7974, 0.1974],\n",
    "[0.9923, 0.8034, 0.1939],\n",
    "[0.9906, 0.8095, 0.1906],\n",
    "[0.9885, 0.8156, 0.1875],\n",
    "[0.9861, 0.8218, 0.1846],\n",
    "[0.9835, 0.828, 0.1817],\n",
    "[0.9807, 0.8342, 0.1787],\n",
    "[0.9778, 0.8404, 0.1757],\n",
    "[0.9748, 0.8467, 0.1726],\n",
    "[0.972, 0.8529, 0.1695],\n",
    "[0.9694, 0.8591, 0.1665],\n",
    "[0.9671, 0.8654, 0.1636],\n",
    "[0.9651, 0.8716, 0.1608],\n",
    "[0.9634, 0.8778, 0.1582],\n",
    "[0.9619, 0.884, 0.1557],\n",
    "[0.9608, 0.8902, 0.1532],\n",
    "[0.9601, 0.8963, 0.1507],\n",
    "[0.9596, 0.9023, 0.148],\n",
    "[0.9595, 0.9084, 0.145],\n",
    "[0.9597, 0.9143, 0.1418],\n",
    "[0.9601, 0.9203, 0.1382],\n",
    "[0.9608, 0.9262, 0.1344],\n",
    "[0.9618, 0.932, 0.1304],\n",
    "[0.9629, 0.9379, 0.1261],\n",
    "[0.9642, 0.9437, 0.1216],\n",
    "[0.9657, 0.9494, 0.1168],\n",
    "[0.9674, 0.9552, 0.1116],\n",
    "[0.9692, 0.9609, 0.1061],\n",
    "[0.9711, 0.9667, 0.1001],\n",
    "[0.973, 0.9724, 0.0938],\n",
    "[0.9749, 0.9782, 0.0872],\n",
    "[0.9769, 0.9839, 0.0805]]\n",
    "\n",
    "parula_map = LinearSegmentedColormap.from_list('parula', parula_data)"
   ]
  },
  {
   "cell_type": "code",
   "execution_count": 27,
   "metadata": {},
   "outputs": [],
   "source": [
    "from mpl_toolkits.axes_grid1 import make_axes_locatable\n",
    "\n",
    "def chan_disp(data, chan_map, title, label, figsize=(8, 6), cbar_lower=None, cbar_upper=None, cmap=None):\n",
    "\n",
    "    mean_val = np.nanmean(data)\n",
    "    std_val = np.nanstd(data)\n",
    "    std_mult = 3\n",
    "    # clim = [max(0, mean_val - std_mult*std_val), mean_val + std_mult*std_val]\n",
    "    if cbar_lower is None:\n",
    "        cbar_lower = mean_val - std_mult*std_val\n",
    "    if cbar_upper is None:\n",
    "        cbar_upper = mean_val + std_mult*std_val\n",
    "    clim = [cbar_lower, cbar_upper]\n",
    "\n",
    "    if cmap is None:\n",
    "        cmap = parula_map\n",
    "\n",
    "    chan_data = np.array([data[int(i)] if not np.isnan(i) else np.nan for i in (chan_map.flatten()-1)])\n",
    "    chan_data = chan_data.reshape(chan_map.shape)\n",
    "    f = plt.figure(figsize=figsize)\n",
    "    im = plt.imshow(chan_data, cmap=parula_map)\n",
    "    im.set_clim(clim[0], clim[1])\n",
    "    # plt.gca().invert_yaxis()\n",
    "    # plt.contourf(chan_data, cmap='viridis')\n",
    "    plt.xticks([])\n",
    "    plt.yticks([])\n",
    "    plt.title(title)\n",
    "\n",
    "    divider = make_axes_locatable(plt.gca())\n",
    "    cax = divider.append_axes('right', size='5%', pad=0.05)\n",
    "\n",
    "    cbar = plt.colorbar(im, cax=cax)\n",
    "    cbar.set_label(label)\n",
    "    cbar.outline.set_visible(False)\n",
    "\n",
    "    sns.despine(left=True, bottom=True)\n",
    "    \n",
    "    plt.show()\n",
    "\n",
    "def chan_disp_seq(data, chan_map, t, t_ranges, labs, title, label, figsize=(3, 6), cbar_pos=[0.81, 0.56, 0.01, 0.3], sup_pos=0.95, cbar_lower=None, cbar_upper=None):\n",
    "    f, tot_axs = plt.subplots(len(labs), len(t_ranges), figsize=(figsize[0]*len(t_ranges), figsize[1]*len(labs)))\n",
    "\n",
    "    if len(labs) == 1:\n",
    "        tot_axs = tot_axs[np.newaxis,:]\n",
    "\n",
    "    mean_val = np.nanmean(data)\n",
    "    std_val = np.nanstd(data)\n",
    "    std_mult = 3\n",
    "    # clim = [max(0, mean_val - std_mult*std_val), mean_val + std_mult*std_val]\n",
    "    if cbar_lower is None:\n",
    "        cbar_lower = mean_val - std_mult*std_val\n",
    "    if cbar_upper is None:\n",
    "        cbar_upper = mean_val + std_mult*std_val\n",
    "    clim = [cbar_lower, cbar_upper]\n",
    "\n",
    "    for j, lab in enumerate(labs):\n",
    "        lab_data = data[j]\n",
    "        axs = tot_axs[j]\n",
    "        for i, t_range in enumerate(t_ranges):\n",
    "            t_inds = np.where((t >= t_range[0]) & (t < t_range[1]))[0]\n",
    "            chan_data = np.array([lab_data[t_inds,:].mean(axis=0)[int(k)] if not np.isnan(k) else np.nan for k in (chan_map.flatten()-1)])\n",
    "            chan_data = chan_data.reshape(chan_map.shape)\n",
    "            im = axs[i].imshow(chan_data, cmap=parula_map)\n",
    "            im.set_clim(clim[0], clim[1])\n",
    "            if i==0:\n",
    "                axs[i].set_ylabel(lab)\n",
    "            if j==0:\n",
    "                axs[i].set_title(f'{t_range[0]} -> {t_range[1]}s')\n",
    "            axs[i].set_xticks([])\n",
    "            axs[i].set_yticks([])\n",
    "            \n",
    "\n",
    "        # divider = make_axes_locatable(plt.gca())\n",
    "        # cax = divider.append_axes('right', size='5%', pad=0.05)\n",
    "\n",
    "        # cbar = plt.colorbar(im, cax=cax)\n",
    "        \n",
    "        # cbar.set_label(label)\n",
    "    f.subplots_adjust(right=0.8)\n",
    "    cbar_ax = f.add_axes(cbar_pos)\n",
    "    cbar = f.colorbar(im, cax=cbar_ax)\n",
    "    cbar.set_label(label)\n",
    "\n",
    "    # f.tight_layout(rect=[0, 0.03, 1, 0.95])\n",
    "    f.suptitle(title, y=sup_pos)\n",
    "    plt.show()"
   ]
  },
  {
   "cell_type": "code",
   "execution_count": 28,
   "metadata": {},
   "outputs": [],
   "source": [
    "def rgb2hex(r,g,b):\n",
    "    return \"#{:02x}{:02x}{:02x}\".format(r,g,b)"
   ]
  },
  {
   "cell_type": "code",
   "execution_count": 29,
   "metadata": {},
   "outputs": [],
   "source": [
    "def get_ci_data(ax):\n",
    "    paths = [child for child in ax.get_children() if isinstance(child, mpl.collections.PolyCollection)]\n",
    "    ci_data = []\n",
    "    for path in paths:\n",
    "        vertices = path.get_paths()[0].vertices  # Array of shape (n, 2)\n",
    "\n",
    "        # ci y coords - contains lower bounds then upper bounds in 1D array\n",
    "        ci_vals_tot = vertices[:-1, 1]\n",
    "\n",
    "        ci_vals = np.zeros((200, 2))\n",
    "        ci_vals[:,0] = ci_vals_tot[1:201]\n",
    "        ci_vals[:,1] = ci_vals_tot[201:-1]\n",
    "        ci_vals[:,1] = ci_vals[:,1][::-1] # reverse the order of the second half\n",
    "        ci_data.append(ci_vals)\n",
    "        \n",
    "    return ci_data"
   ]
  },
  {
   "cell_type": "markdown",
   "metadata": {},
   "source": [
    "### Panel a"
   ]
  },
  {
   "cell_type": "code",
   "execution_count": 30,
   "metadata": {},
   "outputs": [
    {
     "data": {
      "image/png": "[encoded data removed]",
      "text/plain": [
       "<Figure size 800x600 with 2 Axes>"
      ]
     },
     "metadata": {},
     "output_type": "display_data"
    },
    {
     "data": {
      "image/png": "[encoded data removed]",
      "text/plain": [
       "<Figure size 800x600 with 2 Axes>"
      ]
     },
     "metadata": {},
     "output_type": "display_data"
    },
    {
     "data": {
      "image/png": "[encoded data removed]",
      "text/plain": [
       "<Figure size 800x600 with 2 Axes>"
      ]
     },
     "metadata": {},
     "output_type": "display_data"
    },
    {
     "data": {
      "image/png": "[encoded data removed]",
      "text/plain": [
       "<Figure size 800x600 with 2 Axes>"
      ]
     },
     "metadata": {},
     "output_type": "display_data"
    }
   ],
   "source": [
    "pt = 'S14'\n",
    "for i, artic in enumerate(artic_labels):\n",
    "    chan_disp(pt_artic_maps[pt]['weights'][i], pt_artic_maps[pt]['weight_map'], str.capitalize(f'{artic} map'), 'ROC-AUC', figsize=(8, 6), cbar_lower=0.5, cbar_upper=1)"
   ]
  },
  {
   "cell_type": "markdown",
   "metadata": {},
   "source": [
    "### Panel b"
   ]
  },
  {
   "cell_type": "code",
   "execution_count": 31,
   "metadata": {},
   "outputs": [],
   "source": [
    "def vector_to_map(data, map):\n",
    "    return np.array([data[int(i)] if not np.isnan(i) else np.nan for i in (map.flatten()-1)]).reshape(map.shape)\n",
    "\n",
    "def map_to_vector(map_data, map):\n",
    "    return np.array([map_data[i // map.shape[1], i % map.shape[1]] if not np.isnan(i) else np.nan for i in (map.flatten()-1)])"
   ]
  },
  {
   "cell_type": "code",
   "execution_count": 32,
   "metadata": {},
   "outputs": [],
   "source": [
    "from scipy.ndimage import gaussian_filter1d\n",
    "\n",
    "def gfilt_with_nans(input, sigma, truncate=4.0):\n",
    "    ### 1d filter in both dimensions subsequently to avoid nans ###\n",
    "\n",
    "    # columns\n",
    "    cols = [input[:,i].copy() for i in range(input.shape[1])]\n",
    "    for i, col in enumerate(cols):\n",
    "        # only consider non nan values\n",
    "        nan_removed = col[~np.isnan(col)]\n",
    "        if len(nan_removed) == 0:\n",
    "            continue\n",
    "        col[~np.isnan(col)] = gaussian_filter1d(nan_removed, sigma=sigma, truncate=truncate)\n",
    "        cols[i] = col\n",
    "    \n",
    "    # merge back together\n",
    "    col_filt = np.stack(cols, axis=1)\n",
    "\n",
    "    # rows\n",
    "    rows = [col_filt[i,:] for i in range(col_filt.shape[0])]\n",
    "    for i, row in enumerate(rows):\n",
    "        # only consider non nan values\n",
    "        nan_removed = row[~np.isnan(row)]\n",
    "        if len(nan_removed) == 0:\n",
    "            continue\n",
    "        row[~np.isnan(row)] = gaussian_filter1d(nan_removed, sigma=sigma, truncate=truncate)\n",
    "        rows[i] = row\n",
    "\n",
    "    # merge back together\n",
    "    row_filt = np.stack(rows, axis=0)\n",
    "\n",
    "    return row_filt\n",
    "    "
   ]
  },
  {
   "cell_type": "code",
   "execution_count": 33,
   "metadata": {},
   "outputs": [
    {
     "data": {
      "image/png": "[encoded data removed]",
      "text/plain": [
       "<Figure size 800x600 with 2 Axes>"
      ]
     },
     "metadata": {},
     "output_type": "display_data"
    },
    {
     "data": {
      "image/png": "[encoded data removed]",
      "text/plain": [
       "<Figure size 800x600 with 2 Axes>"
      ]
     },
     "metadata": {},
     "output_type": "display_data"
    },
    {
     "data": {
      "image/png": "[encoded data removed]",
      "text/plain": [
       "<Figure size 800x600 with 2 Axes>"
      ]
     },
     "metadata": {},
     "output_type": "display_data"
    },
    {
     "data": {
      "image/png": "[encoded data removed]",
      "text/plain": [
       "<Figure size 800x600 with 2 Axes>"
      ]
     },
     "metadata": {},
     "output_type": "display_data"
    }
   ],
   "source": [
    "pt = 'S33'\n",
    "\n",
    "pt_maps = pt_artic_maps[pt]\n",
    "for i, artic in enumerate(artic_labels):\n",
    "    chan_disp(pt_maps['weights'][i], pt_maps['weight_map'], str.capitalize(f'{artic} map'), 'ROC-AUC', figsize=(8, 6), cbar_lower=0.5, cbar_upper=1)\n",
    "    # weights_2d = vector_to_map(pt_maps['weights'][i], pt_maps['weight_map'])\n",
    "    # smoothed = gfilt_with_nans(weights_2d, 0.75, 2)\n",
    "    # smoothed = gfilt_with_nans(pt_maps['weights'][i], 1)\n",
    "    # chan_disp(map_to_vector(smoothed, pt_maps['weight_map']), pt_maps['weight_map'], str.capitalize(f'{artic} map'), 'ROC-AUC', figsize=(8, 6), cbar_lower=0.5, cbar_upper=1)"
   ]
  },
  {
   "cell_type": "code",
   "execution_count": 34,
   "metadata": {},
   "outputs": [],
   "source": [
    "all_pt_elec_data = [np.transpose(all_pt_dict[pt]['X1_map'].reshape(all_pt_dict[pt]['X1_map'].shape[0], -1, all_pt_dict[pt]['X1_map'].shape[-1]), axes=(0,2,1)) for pt in pt_names]\n",
    "all_pt_good_chans = []\n",
    "for i, (pt, d) in enumerate(zip(pt_names, all_pt_elec_data)):\n",
    "    d[d == 0] = np.nan\n",
    "    all_pt_good_chans.append(np.where(~np.isnan(d)[0,0,:])[0])\n",
    "    all_pt_elec_data[i] = d[np.where(~np.isnan(d))].reshape(all_pt_traces[pt].shape[0], all_pt_traces[pt].shape[1], -1)"
   ]
  },
  {
   "cell_type": "markdown",
   "metadata": {},
   "source": [
    "Dictionary to hold data for all patients being aligned to a given patient (target patients for alignment are the keys to `alignDict_allPts` )"
   ]
  },
  {
   "cell_type": "code",
   "execution_count": 35,
   "metadata": {},
   "outputs": [
    {
     "name": "stderr",
     "output_type": "stream",
     "text": [
      "Patients: 100%|██████████| 8/8 [00:03<00:00,  2.63it/s]\n"
     ]
    }
   ],
   "source": [
    "alignDict_allPts = {}\n",
    "for recon_pt in tqdm(pt_names, desc='Patients'):\n",
    "    recon_ind = pt_names.index(recon_pt)\n",
    "\n",
    "    aligners = {}\n",
    "    for i, pt in enumerate(pt_names):\n",
    "        if i == recon_ind:\n",
    "            continue\n",
    "        aligners[pt] = AlignCCA()\n",
    "                    \n",
    "    pcas = {}\n",
    "    to_align = {}\n",
    "    for pt in pt_names:\n",
    "        pcas[pt] = PCA(n_components=30)\n",
    "        to_align[pt] = pcas[pt].fit_transform(all_pt_elec_data[pt_names.index(pt)].reshape(-1, all_pt_elec_data[pt_names.index(pt)].shape[-1]))\n",
    "        to_align[pt] = to_align[pt].reshape(all_pt_elec_data[pt_names.index(pt)].shape[0], all_pt_elec_data[pt_names.index(pt)].shape[1], -1)\n",
    "\n",
    "    aligned_data = {}\n",
    "    aligned_data_null = {}\n",
    "    aligned_data[recon_pt] = to_align[recon_pt]\n",
    "    aligned_data_null[recon_pt] = to_align[recon_pt]\n",
    "    for i, pt in enumerate(pt_names):\n",
    "        if i == recon_ind:\n",
    "            continue\n",
    "\n",
    "        to_align_seqs = [all_pt_phon_seqs[recon_pt], all_pt_phon_seqs[pt]]\n",
    "        aligners[pt].fit(to_align[recon_pt], to_align[pt], to_align_seqs[0], to_align_seqs[1])\n",
    "        aligned_data[pt] = aligners[pt].transform(to_align[pt])\n",
    "\n",
    "        aligned_data_null[pt] = to_align[pt]\n",
    "        \n",
    "    alignDict_allPts[recon_pt] = {\n",
    "        'pcas': pcas,\n",
    "        'aligners': aligners,\n",
    "        'dr_data': to_align,\n",
    "        'aligned_data': aligned_data,\n",
    "        'aligned_data_null': aligned_data_null,\n",
    "    }"
   ]
  },
  {
   "cell_type": "code",
   "execution_count": 36,
   "metadata": {},
   "outputs": [
    {
     "name": "stdout",
     "output_type": "stream",
     "text": [
      "##### S14 #####\n"
     ]
    },
    {
     "data": {
      "image/png": "[encoded data removed]",
      "text/plain": [
       "<Figure size 800x600 with 2 Axes>"
      ]
     },
     "metadata": {},
     "output_type": "display_data"
    },
    {
     "data": {
      "image/png": "[encoded data removed]",
      "text/plain": [
       "<Figure size 800x600 with 2 Axes>"
      ]
     },
     "metadata": {},
     "output_type": "display_data"
    },
    {
     "data": {
      "image/png": "[encoded data removed]",
      "text/plain": [
       "<Figure size 800x600 with 2 Axes>"
      ]
     },
     "metadata": {},
     "output_type": "display_data"
    },
    {
     "data": {
      "image/png": "[encoded data removed]",
      "text/plain": [
       "<Figure size 800x600 with 2 Axes>"
      ]
     },
     "metadata": {},
     "output_type": "display_data"
    }
   ],
   "source": [
    "artic_map_sims = {}\n",
    "artic_map_sims_null = {}\n",
    "maps_S3_S1 = []\n",
    "for target_pt in ['S14']:\n",
    "    print(f'##### {target_pt} #####')\n",
    "\n",
    "    target_maps = pt_artic_maps[target_pt]['weights']\n",
    "    target_pt_ind = pt_names.index(target_pt)\n",
    "    target_dr = alignDict_allPts[target_pt]['pcas'][target_pt]\n",
    "    target_chan_map = pt_artic_maps[target_pt]['weight_map']\n",
    "    artic_map_sims[target_pt] = {}\n",
    "    artic_map_sims_null[target_pt] = {}\n",
    "\n",
    "    pt_names_artic_recon = [target_pt] + ['S33']\n",
    "\n",
    "    for i_artic, lab in enumerate(artic_labels):\n",
    "        map_target = target_maps[i_artic]\n",
    "\n",
    "        for i_pt, input_pt in enumerate(pt_names_artic_recon[1:]):\n",
    "            map_input = pt_artic_maps[input_pt]['weights'][i_artic]\n",
    "            \n",
    "            input_chan_map = pt_artic_maps[input_pt]['weight_map']\n",
    "            input_pt_ind = pt_names.index(input_pt)\n",
    "\n",
    "            input_dr = alignDict_allPts[target_pt]['pcas'][input_pt]\n",
    "            align = alignDict_allPts[target_pt]['aligners'][input_pt]\n",
    "\n",
    "\n",
    "            map_flat = map_input.flatten()[~np.isnan(map_input.flatten())]\n",
    "            map_flat = map_flat[None, :] # expand dims for compatibility with transformations below\n",
    "\n",
    "            map_target_flat = map_target.flatten()[~np.isnan(map_target.flatten())]\n",
    "            # print(np.mean(map_flat))\n",
    "\n",
    "            map_dr = (map_flat - np.mean(map_flat)) @ input_dr.components_.T\n",
    "            # map_dr = (map_flat - grand_mean) @ input_dr.components_.T\n",
    "            M_a = align.M_a\n",
    "            M_b = align.M_b\n",
    "            map_align = map_dr @ M_b @ np.linalg.pinv(M_a)\n",
    "\n",
    "            map_recon = (map_align @ target_dr.components_).squeeze()\n",
    "            map_norm = map_recon + np.mean(map_flat)\n",
    "\n",
    "            chan_disp(map_norm, target_chan_map,\n",
    "                      f'Reconstructed - {lab}', 'ROC-AUC', figsize=(8, 6),\n",
    "                      cbar_lower=0.5, \n",
    "                      cbar_upper=0.8\n",
    "                      )            \n",
    "\n",
    "\n"
   ]
  },
  {
   "cell_type": "markdown",
   "metadata": {},
   "source": [
    "### Panel c"
   ]
  },
  {
   "cell_type": "code",
   "execution_count": 37,
   "metadata": {},
   "outputs": [
    {
     "name": "stdout",
     "output_type": "stream",
     "text": [
      "##### S14 #####\n",
      "Similarity between low map reconstruction: 0.5131727741967563\n",
      "Similarity between low map null reconstruction: -0.01478206850235772\n",
      "Similarity between high map reconstruction: 0.0743147555305334\n",
      "Similarity between high map null reconstruction: -0.16456492177785195\n",
      "Similarity between labial map reconstruction: 0.290466246125628\n",
      "Similarity between labial map null reconstruction: -0.11757246437998993\n",
      "Similarity between dorsal map reconstruction: 0.12809047061782647\n",
      "Similarity between dorsal map null reconstruction: -0.1568769692129337\n"
     ]
    }
   ],
   "source": [
    "artic_map_sims = {}\n",
    "artic_map_sims_null = {}\n",
    "for target_pt in ['S14']:\n",
    "    print(f'##### {target_pt} #####')\n",
    "\n",
    "    target_maps = pt_artic_maps[target_pt]['weights']\n",
    "    target_pt_ind = pt_names.index(target_pt)\n",
    "    target_dr = alignDict_allPts[target_pt]['pcas'][target_pt]\n",
    "    target_chan_map = pt_artic_maps[target_pt]['weight_map']\n",
    "    artic_map_sims[target_pt] = {}\n",
    "    artic_map_sims_null[target_pt] = {}\n",
    "\n",
    "    # pt_names_artic_recon = [target_pt] + [pt for pt in pt_names if pt != target_pt]\n",
    "    pt_names_artic_recon = [target_pt] + ['S33']\n",
    "\n",
    "    sim_values = []\n",
    "    sim_values_null = []\n",
    "    artic_recons = np.zeros((target_maps.shape[0], len(pt_names_artic_recon[1:]), all_pt_elec_data[pt_names.index(target_pt)].shape[-1]))\n",
    "    artic_nulls = np.zeros((target_maps.shape[0], len(pt_names_artic_recon[1:]), all_pt_elec_data[pt_names.index(target_pt)].shape[-1]))\n",
    "    for i_artic, lab in enumerate(artic_labels):\n",
    "        map_target = target_maps[i_artic]\n",
    "\n",
    "        for i_pt, input_pt in enumerate(pt_names_artic_recon[1:]):\n",
    "            map_input = pt_artic_maps[input_pt]['weights'][i_artic]\n",
    "            input_pt_ind = pt_names.index(input_pt)\n",
    "\n",
    "            input_dr = alignDict_allPts[target_pt]['pcas'][input_pt]\n",
    "            align = alignDict_allPts[target_pt]['aligners'][input_pt]\n",
    "\n",
    "            map_flat = map_input.flatten()[~np.isnan(map_input.flatten())]\n",
    "            map_flat = map_flat[None, :] # expand dims for compatibility with transformations below\n",
    "\n",
    "            map_target_flat = map_target.flatten()[~np.isnan(map_target.flatten())]\n",
    "\n",
    "            map_dr = (map_flat - np.mean(map_flat)) @ input_dr.components_.T\n",
    "\n",
    "            M_a = align.M_a\n",
    "            M_b = align.M_b\n",
    "            map_align = map_dr @ M_b @ np.linalg.pinv(M_a)\n",
    "\n",
    "            map_recon = map_align @ target_dr.components_\n",
    "            map_null = map_dr @ target_dr.components_\n",
    "\n",
    "            artic_recons[i_artic, i_pt, :] = map_recon.squeeze()\n",
    "            artic_nulls[i_artic, i_pt, :] = map_null.squeeze()\n",
    "\n",
    "        avg_recon_map = np.mean(artic_recons[i_artic], axis=0)\n",
    "        avg_null_map = np.mean(artic_nulls[i_artic], axis=0)\n",
    "\n",
    "        avg_recon_map_norm = avg_recon_map + np.mean(map_flat)\n",
    "        sim = stats.pearsonr(avg_recon_map_norm, map_target_flat)[0]\n",
    "        sim_values.append(sim)\n",
    "        print(f'Similarity between {lab} map reconstruction: {sim}')\n",
    "\n",
    "        # chan_disp(avg_recon_map_norm, target_chan_map,\n",
    "        #               f'Reconstructed - {lab}', 'ROC-AUC', figsize=(8, 6),\n",
    "        #               cbar_lower=0.5, \n",
    "        #               cbar_upper=0.8\n",
    "        #               )        \n",
    "\n",
    "        avg_null_map_norm = avg_null_map + np.mean(map_flat)\n",
    "        sim_null = stats.pearsonr(avg_null_map_norm, map_target_flat)[0]\n",
    "        sim_values_null.append(sim_null)\n",
    "        print(f'Similarity between {lab} map null reconstruction: {sim_null}')\n",
    "\n",
    "        artic_map_sims[target_pt][lab] = sim\n",
    "        artic_map_sims_null[target_pt][lab] = sim_null"
   ]
  },
  {
   "cell_type": "code",
   "execution_count": 38,
   "metadata": {},
   "outputs": [
    {
     "data": {
      "application/vnd.microsoft.datawrangler.viewer.v0+json": {
       "columns": [
        {
         "name": "index",
         "rawType": "int64",
         "type": "integer"
        },
        {
         "name": "Patient",
         "rawType": "object",
         "type": "string"
        },
        {
         "name": "Articulator",
         "rawType": "object",
         "type": "string"
        },
        {
         "name": "Type",
         "rawType": "object",
         "type": "string"
        },
        {
         "name": "Cosine Similarity",
         "rawType": "float64",
         "type": "float"
        }
       ],
       "ref": "e9395ad1-3539-4b0c-a9be-9b37e71e7acb",
       "rows": [
        [
         "3",
         "S14",
         "Dorsal",
         "Aligned",
         "0.12809047061782647"
        ],
        [
         "1",
         "S14",
         "High",
         "Aligned",
         "0.0743147555305334"
        ],
        [
         "2",
         "S14",
         "Labial",
         "Aligned",
         "0.290466246125628"
        ],
        [
         "0",
         "S14",
         "Low",
         "Aligned",
         "0.5131727741967563"
        ],
        [
         "3",
         "S14",
         "Dorsal",
         "Unaligned",
         "-0.1568769692129337"
        ],
        [
         "1",
         "S14",
         "High",
         "Unaligned",
         "-0.16456492177785195"
        ],
        [
         "2",
         "S14",
         "Labial",
         "Unaligned",
         "-0.11757246437998993"
        ],
        [
         "0",
         "S14",
         "Low",
         "Unaligned",
         "-0.01478206850235772"
        ]
       ],
       "shape": {
        "columns": 4,
        "rows": 8
       }
      },
      "text/html": [
       "<div>\n",
       "<style scoped>\n",
       "    .dataframe tbody tr th:only-of-type {\n",
       "        vertical-align: middle;\n",
       "    }\n",
       "\n",
       "    .dataframe tbody tr th {\n",
       "        vertical-align: top;\n",
       "    }\n",
       "\n",
       "    .dataframe thead th {\n",
       "        text-align: right;\n",
       "    }\n",
       "</style>\n",
       "<table border=\"1\" class=\"dataframe\">\n",
       "  <thead>\n",
       "    <tr style=\"text-align: right;\">\n",
       "      <th></th>\n",
       "      <th>Patient</th>\n",
       "      <th>Articulator</th>\n",
       "      <th>Type</th>\n",
       "      <th>Cosine Similarity</th>\n",
       "    </tr>\n",
       "  </thead>\n",
       "  <tbody>\n",
       "    <tr>\n",
       "      <th>3</th>\n",
       "      <td>S14</td>\n",
       "      <td>Dorsal</td>\n",
       "      <td>Aligned</td>\n",
       "      <td>0.128090</td>\n",
       "    </tr>\n",
       "    <tr>\n",
       "      <th>1</th>\n",
       "      <td>S14</td>\n",
       "      <td>High</td>\n",
       "      <td>Aligned</td>\n",
       "      <td>0.074315</td>\n",
       "    </tr>\n",
       "    <tr>\n",
       "      <th>2</th>\n",
       "      <td>S14</td>\n",
       "      <td>Labial</td>\n",
       "      <td>Aligned</td>\n",
       "      <td>0.290466</td>\n",
       "    </tr>\n",
       "    <tr>\n",
       "      <th>0</th>\n",
       "      <td>S14</td>\n",
       "      <td>Low</td>\n",
       "      <td>Aligned</td>\n",
       "      <td>0.513173</td>\n",
       "    </tr>\n",
       "    <tr>\n",
       "      <th>3</th>\n",
       "      <td>S14</td>\n",
       "      <td>Dorsal</td>\n",
       "      <td>Unaligned</td>\n",
       "      <td>-0.156877</td>\n",
       "    </tr>\n",
       "    <tr>\n",
       "      <th>1</th>\n",
       "      <td>S14</td>\n",
       "      <td>High</td>\n",
       "      <td>Unaligned</td>\n",
       "      <td>-0.164565</td>\n",
       "    </tr>\n",
       "    <tr>\n",
       "      <th>2</th>\n",
       "      <td>S14</td>\n",
       "      <td>Labial</td>\n",
       "      <td>Unaligned</td>\n",
       "      <td>-0.117572</td>\n",
       "    </tr>\n",
       "    <tr>\n",
       "      <th>0</th>\n",
       "      <td>S14</td>\n",
       "      <td>Low</td>\n",
       "      <td>Unaligned</td>\n",
       "      <td>-0.014782</td>\n",
       "    </tr>\n",
       "  </tbody>\n",
       "</table>\n",
       "</div>"
      ],
      "text/plain": [
       "  Patient Articulator       Type  Cosine Similarity\n",
       "3     S14      Dorsal    Aligned           0.128090\n",
       "1     S14        High    Aligned           0.074315\n",
       "2     S14      Labial    Aligned           0.290466\n",
       "0     S14         Low    Aligned           0.513173\n",
       "3     S14      Dorsal  Unaligned          -0.156877\n",
       "1     S14        High  Unaligned          -0.164565\n",
       "2     S14      Labial  Unaligned          -0.117572\n",
       "0     S14         Low  Unaligned          -0.014782"
      ]
     },
     "execution_count": 38,
     "metadata": {},
     "output_type": "execute_result"
    }
   ],
   "source": [
    "artic_sim_S1_df = pd.DataFrame(artic_map_sims).T\n",
    "artic_sim_S1_df['Patient'] = artic_sim_S1_df.index\n",
    "artic_sim_S1_df = artic_sim_S1_df.reset_index(drop=True)\n",
    "artic_sim_S1_df = pd.melt(artic_sim_S1_df, id_vars=['Patient'], var_name='Articulator', value_name='Cosine Similarity')\n",
    "artic_sim_S1_df = artic_sim_S1_df.loc[[3, 1, 2, 0]]\n",
    "\n",
    "artic_sim_null_S1_df = pd.DataFrame(artic_map_sims_null).T\n",
    "artic_sim_null_S1_df['Patient'] = artic_sim_null_S1_df.index\n",
    "artic_sim_null_S1_df = artic_sim_null_S1_df.reset_index(drop=True)\n",
    "artic_sim_null_S1_df = pd.melt(artic_sim_null_S1_df, id_vars=['Patient'], var_name='Articulator', value_name='Cosine Similarity')\n",
    "artic_sim_null_S1_df = artic_sim_null_S1_df.loc[[3, 1, 2, 0]]\n",
    "\n",
    "artic_sim_S1_df['Type'] = 'Aligned'\n",
    "artic_sim_null_S1_df['Type'] = 'Unaligned'\n",
    "artic_sim_full_S1_df = pd.concat([artic_sim_S1_df, artic_sim_null_S1_df])\n",
    "artic_sim_full_S1_df['Articulator'] = artic_sim_full_S1_df['Articulator'].str.capitalize()\n",
    "artic_sim_full_S1_df = artic_sim_full_S1_df[['Patient', 'Articulator', 'Type', 'Cosine Similarity']]\n",
    "artic_sim_full_S1_df\n",
    "\n"
   ]
  },
  {
   "cell_type": "code",
   "execution_count": 39,
   "metadata": {},
   "outputs": [
    {
     "data": {
      "application/vnd.plotly.v1+json": {
       "config": {
        "plotlyServerURL": "https://plot.ly"
       },
       "data": [
        {
         "alignmentgroup": "True",
         "bingroup": "x",
         "histfunc": "sum",
         "hovertemplate": "Type=Aligned<br>Articulator=%{x}<br>sum of Cosine Similarity=%{y}<extra></extra>",
         "legendgroup": "Aligned",
         "marker": {
          "color": "#636EFA",
          "pattern": {
           "shape": ""
          }
         },
         "name": "Aligned",
         "offsetgroup": "Aligned",
         "orientation": "v",
         "showlegend": true,
         "type": "histogram",
         "x": [
          "Dorsal",
          "High",
          "Labial",
          "Low"
         ],
         "xaxis": "x",
         "y": {
          "bdata": "1swdv0RlwD/8Jp20SgazP7Tk7Lz/ltI/1+xLT+lr4D8=",
          "dtype": "f8"
         },
         "yaxis": "y"
        },
        {
         "alignmentgroup": "True",
         "bingroup": "x",
         "histfunc": "sum",
         "hovertemplate": "Type=Unaligned<br>Articulator=%{x}<br>sum of Cosine Similarity=%{y}<extra></extra>",
         "legendgroup": "Unaligned",
         "marker": {
          "color": "#7F7F7F",
          "pattern": {
           "shape": ""
          }
         },
         "name": "Unaligned",
         "offsetgroup": "Unaligned",
         "orientation": "v",
         "showlegend": true,
         "type": "histogram",
         "x": [
          "Dorsal",
          "High",
          "Labial",
          "Low"
         ],
         "xaxis": "x",
         "y": {
          "bdata": "aPAhZosUxL/nZY2edhDFvxkUbKE6Gb6/sGNHpg9Gjr8=",
          "dtype": "f8"
         },
         "yaxis": "y"
        }
       ],
       "layout": {
        "barmode": "group",
        "font": {
         "family": "Arial",
         "size": 18
        },
        "height": 600,
        "legend": {
         "orientation": "h",
         "title": {
          "text": ""
         },
         "tracegroupgap": 0,
         "x": 0.02,
         "xanchor": "left",
         "y": 0.98,
         "yanchor": "top"
        },
        "margin": {
         "t": 60
        },
        "plot_bgcolor": "white",
        "shapes": [
         {
          "line": {
           "color": "grey",
           "dash": "dash"
          },
          "type": "line",
          "x0": 0,
          "x1": 1,
          "xref": "x domain",
          "y0": 0,
          "y1": 0,
          "yref": "y"
         }
        ],
        "template": {
         "data": {
          "bar": [
           {
            "error_x": {
             "color": "#2a3f5f"
            },
            "error_y": {
             "color": "#2a3f5f"
            },
            "marker": {
             "line": {
              "color": "#E5ECF6",
              "width": 0.5
             },
             "pattern": {
              "fillmode": "overlay",
              "size": 10,
              "solidity": 0.2
             }
            },
            "type": "bar"
           }
          ],
          "barpolar": [
           {
            "marker": {
             "line": {
              "color": "#E5ECF6",
              "width": 0.5
             },
             "pattern": {
              "fillmode": "overlay",
              "size": 10,
              "solidity": 0.2
             }
            },
            "type": "barpolar"
           }
          ],
          "carpet": [
           {
            "aaxis": {
             "endlinecolor": "#2a3f5f",
             "gridcolor": "white",
             "linecolor": "white",
             "minorgridcolor": "white",
             "startlinecolor": "#2a3f5f"
            },
            "baxis": {
             "endlinecolor": "#2a3f5f",
             "gridcolor": "white",
             "linecolor": "white",
             "minorgridcolor": "white",
             "startlinecolor": "#2a3f5f"
            },
            "type": "carpet"
           }
          ],
          "choropleth": [
           {
            "colorbar": {
             "outlinewidth": 0,
             "ticks": ""
            },
            "type": "choropleth"
           }
          ],
          "contour": [
           {
            "colorbar": {
             "outlinewidth": 0,
             "ticks": ""
            },
            "colorscale": [
             [
              0,
              "#0d0887"
             ],
             [
              0.1111111111111111,
              "#46039f"
             ],
             [
              0.2222222222222222,
              "#7201a8"
             ],
             [
              0.3333333333333333,
              "#9c179e"
             ],
             [
              0.4444444444444444,
              "#bd3786"
             ],
             [
              0.5555555555555556,
              "#d8576b"
             ],
             [
              0.6666666666666666,
              "#ed7953"
             ],
             [
              0.7777777777777778,
              "#fb9f3a"
             ],
             [
              0.8888888888888888,
              "#fdca26"
             ],
             [
              1,
              "#f0f921"
             ]
            ],
            "type": "contour"
           }
          ],
          "contourcarpet": [
           {
            "colorbar": {
             "outlinewidth": 0,
             "ticks": ""
            },
            "type": "contourcarpet"
           }
          ],
          "heatmap": [
           {
            "colorbar": {
             "outlinewidth": 0,
             "ticks": ""
            },
            "colorscale": [
             [
              0,
              "#0d0887"
             ],
             [
              0.1111111111111111,
              "#46039f"
             ],
             [
              0.2222222222222222,
              "#7201a8"
             ],
             [
              0.3333333333333333,
              "#9c179e"
             ],
             [
              0.4444444444444444,
              "#bd3786"
             ],
             [
              0.5555555555555556,
              "#d8576b"
             ],
             [
              0.6666666666666666,
              "#ed7953"
             ],
             [
              0.7777777777777778,
              "#fb9f3a"
             ],
             [
              0.8888888888888888,
              "#fdca26"
             ],
             [
              1,
              "#f0f921"
             ]
            ],
            "type": "heatmap"
           }
          ],
          "histogram": [
           {
            "marker": {
             "pattern": {
              "fillmode": "overlay",
              "size": 10,
              "solidity": 0.2
             }
            },
            "type": "histogram"
           }
          ],
          "histogram2d": [
           {
            "colorbar": {
             "outlinewidth": 0,
             "ticks": ""
            },
            "colorscale": [
             [
              0,
              "#0d0887"
             ],
             [
              0.1111111111111111,
              "#46039f"
             ],
             [
              0.2222222222222222,
              "#7201a8"
             ],
             [
              0.3333333333333333,
              "#9c179e"
             ],
             [
              0.4444444444444444,
              "#bd3786"
             ],
             [
              0.5555555555555556,
              "#d8576b"
             ],
             [
              0.6666666666666666,
              "#ed7953"
             ],
             [
              0.7777777777777778,
              "#fb9f3a"
             ],
             [
              0.8888888888888888,
              "#fdca26"
             ],
             [
              1,
              "#f0f921"
             ]
            ],
            "type": "histogram2d"
           }
          ],
          "histogram2dcontour": [
           {
            "colorbar": {
             "outlinewidth": 0,
             "ticks": ""
            },
            "colorscale": [
             [
              0,
              "#0d0887"
             ],
             [
              0.1111111111111111,
              "#46039f"
             ],
             [
              0.2222222222222222,
              "#7201a8"
             ],
             [
              0.3333333333333333,
              "#9c179e"
             ],
             [
              0.4444444444444444,
              "#bd3786"
             ],
             [
              0.5555555555555556,
              "#d8576b"
             ],
             [
              0.6666666666666666,
              "#ed7953"
             ],
             [
              0.7777777777777778,
              "#fb9f3a"
             ],
             [
              0.8888888888888888,
              "#fdca26"
             ],
             [
              1,
              "#f0f921"
             ]
            ],
            "type": "histogram2dcontour"
           }
          ],
          "mesh3d": [
           {
            "colorbar": {
             "outlinewidth": 0,
             "ticks": ""
            },
            "type": "mesh3d"
           }
          ],
          "parcoords": [
           {
            "line": {
             "colorbar": {
              "outlinewidth": 0,
              "ticks": ""
             }
            },
            "type": "parcoords"
           }
          ],
          "pie": [
           {
            "automargin": true,
            "type": "pie"
           }
          ],
          "scatter": [
           {
            "fillpattern": {
             "fillmode": "overlay",
             "size": 10,
             "solidity": 0.2
            },
            "type": "scatter"
           }
          ],
          "scatter3d": [
           {
            "line": {
             "colorbar": {
              "outlinewidth": 0,
              "ticks": ""
             }
            },
            "marker": {
             "colorbar": {
              "outlinewidth": 0,
              "ticks": ""
             }
            },
            "type": "scatter3d"
           }
          ],
          "scattercarpet": [
           {
            "marker": {
             "colorbar": {
              "outlinewidth": 0,
              "ticks": ""
             }
            },
            "type": "scattercarpet"
           }
          ],
          "scattergeo": [
           {
            "marker": {
             "colorbar": {
              "outlinewidth": 0,
              "ticks": ""
             }
            },
            "type": "scattergeo"
           }
          ],
          "scattergl": [
           {
            "marker": {
             "colorbar": {
              "outlinewidth": 0,
              "ticks": ""
             }
            },
            "type": "scattergl"
           }
          ],
          "scattermap": [
           {
            "marker": {
             "colorbar": {
              "outlinewidth": 0,
              "ticks": ""
             }
            },
            "type": "scattermap"
           }
          ],
          "scattermapbox": [
           {
            "marker": {
             "colorbar": {
              "outlinewidth": 0,
              "ticks": ""
             }
            },
            "type": "scattermapbox"
           }
          ],
          "scatterpolar": [
           {
            "marker": {
             "colorbar": {
              "outlinewidth": 0,
              "ticks": ""
             }
            },
            "type": "scatterpolar"
           }
          ],
          "scatterpolargl": [
           {
            "marker": {
             "colorbar": {
              "outlinewidth": 0,
              "ticks": ""
             }
            },
            "type": "scatterpolargl"
           }
          ],
          "scatterternary": [
           {
            "marker": {
             "colorbar": {
              "outlinewidth": 0,
              "ticks": ""
             }
            },
            "type": "scatterternary"
           }
          ],
          "surface": [
           {
            "colorbar": {
             "outlinewidth": 0,
             "ticks": ""
            },
            "colorscale": [
             [
              0,
              "#0d0887"
             ],
             [
              0.1111111111111111,
              "#46039f"
             ],
             [
              0.2222222222222222,
              "#7201a8"
             ],
             [
              0.3333333333333333,
              "#9c179e"
             ],
             [
              0.4444444444444444,
              "#bd3786"
             ],
             [
              0.5555555555555556,
              "#d8576b"
             ],
             [
              0.6666666666666666,
              "#ed7953"
             ],
             [
              0.7777777777777778,
              "#fb9f3a"
             ],
             [
              0.8888888888888888,
              "#fdca26"
             ],
             [
              1,
              "#f0f921"
             ]
            ],
            "type": "surface"
           }
          ],
          "table": [
           {
            "cells": {
             "fill": {
              "color": "#EBF0F8"
             },
             "line": {
              "color": "white"
             }
            },
            "header": {
             "fill": {
              "color": "#C8D4E3"
             },
             "line": {
              "color": "white"
             }
            },
            "type": "table"
           }
          ]
         },
         "layout": {
          "annotationdefaults": {
           "arrowcolor": "#2a3f5f",
           "arrowhead": 0,
           "arrowwidth": 1
          },
          "autotypenumbers": "strict",
          "coloraxis": {
           "colorbar": {
            "outlinewidth": 0,
            "ticks": ""
           }
          },
          "colorscale": {
           "diverging": [
            [
             0,
             "#8e0152"
            ],
            [
             0.1,
             "#c51b7d"
            ],
            [
             0.2,
             "#de77ae"
            ],
            [
             0.3,
             "#f1b6da"
            ],
            [
             0.4,
             "#fde0ef"
            ],
            [
             0.5,
             "#f7f7f7"
            ],
            [
             0.6,
             "#e6f5d0"
            ],
            [
             0.7,
             "#b8e186"
            ],
            [
             0.8,
             "#7fbc41"
            ],
            [
             0.9,
             "#4d9221"
            ],
            [
             1,
             "#276419"
            ]
           ],
           "sequential": [
            [
             0,
             "#0d0887"
            ],
            [
             0.1111111111111111,
             "#46039f"
            ],
            [
             0.2222222222222222,
             "#7201a8"
            ],
            [
             0.3333333333333333,
             "#9c179e"
            ],
            [
             0.4444444444444444,
             "#bd3786"
            ],
            [
             0.5555555555555556,
             "#d8576b"
            ],
            [
             0.6666666666666666,
             "#ed7953"
            ],
            [
             0.7777777777777778,
             "#fb9f3a"
            ],
            [
             0.8888888888888888,
             "#fdca26"
            ],
            [
             1,
             "#f0f921"
            ]
           ],
           "sequentialminus": [
            [
             0,
             "#0d0887"
            ],
            [
             0.1111111111111111,
             "#46039f"
            ],
            [
             0.2222222222222222,
             "#7201a8"
            ],
            [
             0.3333333333333333,
             "#9c179e"
            ],
            [
             0.4444444444444444,
             "#bd3786"
            ],
            [
             0.5555555555555556,
             "#d8576b"
            ],
            [
             0.6666666666666666,
             "#ed7953"
            ],
            [
             0.7777777777777778,
             "#fb9f3a"
            ],
            [
             0.8888888888888888,
             "#fdca26"
            ],
            [
             1,
             "#f0f921"
            ]
           ]
          },
          "colorway": [
           "#636efa",
           "#EF553B",
           "#00cc96",
           "#ab63fa",
           "#FFA15A",
           "#19d3f3",
           "#FF6692",
           "#B6E880",
           "#FF97FF",
           "#FECB52"
          ],
          "font": {
           "color": "#2a3f5f"
          },
          "geo": {
           "bgcolor": "white",
           "lakecolor": "white",
           "landcolor": "#E5ECF6",
           "showlakes": true,
           "showland": true,
           "subunitcolor": "white"
          },
          "hoverlabel": {
           "align": "left"
          },
          "hovermode": "closest",
          "mapbox": {
           "style": "light"
          },
          "paper_bgcolor": "white",
          "plot_bgcolor": "#E5ECF6",
          "polar": {
           "angularaxis": {
            "gridcolor": "white",
            "linecolor": "white",
            "ticks": ""
           },
           "bgcolor": "#E5ECF6",
           "radialaxis": {
            "gridcolor": "white",
            "linecolor": "white",
            "ticks": ""
           }
          },
          "scene": {
           "xaxis": {
            "backgroundcolor": "#E5ECF6",
            "gridcolor": "white",
            "gridwidth": 2,
            "linecolor": "white",
            "showbackground": true,
            "ticks": "",
            "zerolinecolor": "white"
           },
           "yaxis": {
            "backgroundcolor": "#E5ECF6",
            "gridcolor": "white",
            "gridwidth": 2,
            "linecolor": "white",
            "showbackground": true,
            "ticks": "",
            "zerolinecolor": "white"
           },
           "zaxis": {
            "backgroundcolor": "#E5ECF6",
            "gridcolor": "white",
            "gridwidth": 2,
            "linecolor": "white",
            "showbackground": true,
            "ticks": "",
            "zerolinecolor": "white"
           }
          },
          "shapedefaults": {
           "line": {
            "color": "#2a3f5f"
           }
          },
          "ternary": {
           "aaxis": {
            "gridcolor": "white",
            "linecolor": "white",
            "ticks": ""
           },
           "baxis": {
            "gridcolor": "white",
            "linecolor": "white",
            "ticks": ""
           },
           "bgcolor": "#E5ECF6",
           "caxis": {
            "gridcolor": "white",
            "linecolor": "white",
            "ticks": ""
           }
          },
          "title": {
           "x": 0.05
          },
          "xaxis": {
           "automargin": true,
           "gridcolor": "white",
           "linecolor": "white",
           "ticks": "",
           "title": {
            "standoff": 15
           },
           "zerolinecolor": "white",
           "zerolinewidth": 2
          },
          "yaxis": {
           "automargin": true,
           "gridcolor": "white",
           "linecolor": "white",
           "ticks": "",
           "title": {
            "standoff": 15
           },
           "zerolinecolor": "white",
           "zerolinewidth": 2
          }
         }
        },
        "title": {
         "text": "Similarity of S1 reconstructed articulator maps",
         "x": 0.5
        },
        "width": 800,
        "xaxis": {
         "anchor": "y",
         "domain": [
          0,
          1
         ],
         "linecolor": "black",
         "mirror": false,
         "showgrid": false,
         "showline": true,
         "ticks": "outside",
         "title": {
          "text": "Articulator Type"
         }
        },
        "yaxis": {
         "anchor": "x",
         "domain": [
          0,
          1
         ],
         "linecolor": "black",
         "mirror": false,
         "range": [
          -0.25,
          0.65
         ],
         "showgrid": false,
         "showline": true,
         "ticks": "outside",
         "title": {
          "text": "Pearson <i>r</i>"
         }
        }
       }
      }
     },
     "metadata": {},
     "output_type": "display_data"
    }
   ],
   "source": [
    "fig = px.histogram(artic_sim_full_S1_df, x='Articulator', y=\"Cosine Similarity\", color='Type', barmode='group', width=800, height=600, color_discrete_sequence=[px_colors[0], '#7F7F7F'])\n",
    "\n",
    "fig.add_hline(y=0, line_dash='dash', line_color='grey')\n",
    "fig.update_layout(\n",
    "    plot_bgcolor='white',\n",
    "    legend=dict(\n",
    "        orientation='h',\n",
    "        yanchor='top',\n",
    "        y=0.98,\n",
    "        xanchor='left',\n",
    "        x=0.02,\n",
    "        title_text=''\n",
    "    ),\n",
    "    title_text='Similarity of S1 reconstructed articulator maps',\n",
    "    title_x=0.5,\n",
    "    font=dict(size=18, family='Arial')\n",
    ")\n",
    "fig.update_xaxes(\n",
    "    title='Articulator Type',\n",
    "    mirror=False,\n",
    "    ticks='outside',\n",
    "    showline=True,\n",
    "    linecolor='black',\n",
    "    showgrid=False,\n",
    ")\n",
    "fig.update_yaxes(\n",
    "    title='Pearson <i>r</i>',\n",
    "    mirror=False,\n",
    "    ticks='outside',\n",
    "    showline=True,\n",
    "    linecolor='black',\n",
    "    showgrid=False,\n",
    "    range=[-0.25, 0.65],\n",
    ")\n",
    "\n",
    "fig.show()"
   ]
  },
  {
   "cell_type": "code",
   "execution_count": 40,
   "metadata": {},
   "outputs": [
    {
     "name": "stdout",
     "output_type": "stream",
     "text": [
      "##### S1 #####\n",
      "Aligned: low = 0.582\n",
      "Unaligned: low = -0.038\n",
      "Aligned: high = -0.197\n",
      "Unaligned: high = 0.004\n",
      "Aligned: labial = 0.687\n",
      "Unaligned: labial = -0.229\n",
      "Aligned: dorsal = 0.349\n",
      "Unaligned: dorsal = -0.102\n",
      "##### S2 #####\n",
      "Aligned: low = 0.035\n",
      "Unaligned: low = 0.071\n",
      "Aligned: high = 0.062\n",
      "Unaligned: high = -0.066\n",
      "Aligned: labial = -0.272\n",
      "Unaligned: labial = 0.004\n",
      "Aligned: dorsal = 0.107\n",
      "Unaligned: dorsal = -0.082\n",
      "##### S5 #####\n",
      "Aligned: low = 0.514\n",
      "Unaligned: low = -0.178\n",
      "Aligned: high = 0.208\n",
      "Unaligned: high = -0.149\n",
      "Aligned: labial = 0.735\n",
      "Unaligned: labial = -0.441\n",
      "Aligned: dorsal = -0.173\n",
      "Unaligned: dorsal = -0.053\n",
      "##### S3 #####\n",
      "Aligned: low = 0.199\n",
      "Unaligned: low = 0.043\n",
      "Aligned: high = -0.033\n",
      "Unaligned: high = 0.04\n",
      "Aligned: labial = 0.339\n",
      "Unaligned: labial = 0.12\n",
      "Aligned: dorsal = 0.206\n",
      "Unaligned: dorsal = 0.039\n",
      "##### S4 #####\n",
      "Aligned: low = 0.262\n",
      "Unaligned: low = -0.004\n",
      "Aligned: high = 0.012\n",
      "Unaligned: high = -0.211\n",
      "Aligned: labial = -0.013\n",
      "Unaligned: labial = 0.138\n",
      "Aligned: dorsal = 0.109\n",
      "Unaligned: dorsal = 0.122\n",
      "##### S6 #####\n",
      "Aligned: low = 0.067\n",
      "Unaligned: low = 0.037\n",
      "Aligned: high = -0.102\n",
      "Unaligned: high = -0.129\n",
      "Aligned: labial = 0.093\n",
      "Unaligned: labial = 0.125\n",
      "Aligned: dorsal = -0.01\n",
      "Unaligned: dorsal = 0.01\n",
      "##### S7 #####\n",
      "Aligned: low = -0.043\n",
      "Unaligned: low = 0.089\n",
      "Aligned: high = -0.049\n",
      "Unaligned: high = 0.031\n",
      "Aligned: labial = 0.0\n",
      "Unaligned: labial = -0.06\n",
      "Aligned: dorsal = 0.029\n",
      "Unaligned: dorsal = -0.043\n",
      "##### S8 #####\n",
      "Aligned: low = 0.352\n",
      "Unaligned: low = 0.054\n",
      "Aligned: high = 0.283\n",
      "Unaligned: high = -0.024\n",
      "Aligned: labial = 0.51\n",
      "Unaligned: labial = -0.048\n",
      "Aligned: dorsal = 0.344\n",
      "Unaligned: dorsal = -0.119\n"
     ]
    }
   ],
   "source": [
    "artic_map_sims = {}\n",
    "artic_map_sims_null = {}\n",
    "for target_pt in pt_names:\n",
    "    print(f'##### {paper_pt_dict[target_pt]} #####')\n",
    "\n",
    "    target_maps = pt_artic_maps[target_pt]['weights']\n",
    "    target_pt_ind = pt_names.index(target_pt)\n",
    "    target_dr = alignDict_allPts[target_pt]['pcas'][target_pt]\n",
    "    target_chan_map = pt_artic_maps[target_pt]['weight_map']\n",
    "    artic_map_sims[target_pt] = {}\n",
    "    artic_map_sims_null[target_pt] = {}\n",
    "\n",
    "    pt_names_artic_recon = [target_pt] + [pt for pt in pt_names if pt != target_pt]\n",
    "\n",
    "    \n",
    "    artic_recons = np.zeros((target_maps.shape[0], len(pt_names_artic_recon[1:]), all_pt_elec_data[pt_names.index(target_pt)].shape[-1]))\n",
    "    artic_nulls = np.zeros((target_maps.shape[0], len(pt_names_artic_recon[1:]), all_pt_elec_data[pt_names.index(target_pt)].shape[-1]))\n",
    "    for i_artic, lab in enumerate(artic_labels):\n",
    "        map_target = target_maps[i_artic]\n",
    "\n",
    "        sim_values = []\n",
    "        sim_values_null = []\n",
    "        for i_pt, input_pt in enumerate(pt_names_artic_recon[1:]):    \n",
    "            map_input = pt_artic_maps[input_pt]['weights'][i_artic]\n",
    "            input_pt_ind = pt_names.index(input_pt)\n",
    "\n",
    "            input_dr = alignDict_allPts[target_pt]['pcas'][input_pt]\n",
    "            align = alignDict_allPts[target_pt]['aligners'][input_pt]\n",
    "\n",
    "            map_flat = map_input.flatten()[~np.isnan(map_input.flatten())]\n",
    "            map_flat = map_flat[None, :] # expand dims for compatibility with transformations below\n",
    "\n",
    "            map_target_flat = map_target.flatten()[~np.isnan(map_target.flatten())]\n",
    "            map_dr = (map_flat - np.mean(map_flat)) @ input_dr.components_.T\n",
    "\n",
    "            M_a = align.M_a\n",
    "            M_b = align.M_b\n",
    "            map_align = map_dr @ M_b @ np.linalg.pinv(M_a)\n",
    "\n",
    "            map_recon = (map_align @ target_dr.components_).squeeze()\n",
    "            map_null = (map_dr @ target_dr.components_).squeeze()\n",
    "\n",
    "            artic_recons[i_artic, i_pt, :] = map_recon\n",
    "            artic_nulls[i_artic, i_pt, :] = map_null\n",
    "\n",
    "\n",
    "        avg_recon_map = np.mean(artic_recons[i_artic], axis=0)\n",
    "        avg_null_map = np.mean(artic_nulls[i_artic], axis=0)\n",
    "\n",
    "        avg_recon_map_norm = avg_recon_map + np.mean(map_flat)\n",
    "        sim = stats.pearsonr(avg_recon_map_norm, map_target_flat)[0]\n",
    "        sim_values.append(sim)\n",
    "        print(f'Aligned: {lab} = {round(np.mean(sim),3)}')\n",
    "\n",
    "        avg_null_map_norm = avg_null_map + np.mean(map_flat)\n",
    "        sim_null = stats.pearsonr(avg_null_map_norm, map_target_flat)[0]\n",
    "        sim_values_null.append(sim_null)\n",
    "        print(f'Unaligned: {lab} = {round(np.mean(sim_null),3)}')\n",
    "\n",
    "        artic_map_sims[target_pt][lab] = sim\n",
    "        artic_map_sims_null[target_pt][lab] = sim_null"
   ]
  },
  {
   "cell_type": "code",
   "execution_count": 47,
   "metadata": {},
   "outputs": [
    {
     "data": {
      "application/vnd.microsoft.datawrangler.viewer.v0+json": {
       "columns": [
        {
         "name": "index",
         "rawType": "int64",
         "type": "integer"
        },
        {
         "name": "Patient",
         "rawType": "object",
         "type": "string"
        },
        {
         "name": "Articulator",
         "rawType": "object",
         "type": "string"
        },
        {
         "name": "Type",
         "rawType": "object",
         "type": "string"
        },
        {
         "name": "Cosine Similarity",
         "rawType": "float64",
         "type": "float"
        }
       ],
       "ref": "e53f2ce1-4bff-426b-b80f-1f32c4dbacd8",
       "rows": [
        [
         "0",
         "S1",
         "Low",
         "Aligned",
         "0.5822850615582043"
        ],
        [
         "1",
         "S2",
         "Low",
         "Aligned",
         "0.0350905563788464"
        ],
        [
         "2",
         "S5",
         "Low",
         "Aligned",
         "0.5140679368486749"
        ],
        [
         "3",
         "S3",
         "Low",
         "Aligned",
         "0.19910616488269275"
        ],
        [
         "4",
         "S4",
         "Low",
         "Aligned",
         "0.2622618792566545"
        ],
        [
         "5",
         "S6",
         "Low",
         "Aligned",
         "0.06663638773517895"
        ],
        [
         "6",
         "S7",
         "Low",
         "Aligned",
         "-0.042622712140938115"
        ],
        [
         "7",
         "S8",
         "Low",
         "Aligned",
         "0.35188992857868695"
        ],
        [
         "8",
         "S1",
         "High",
         "Aligned",
         "-0.19678558998312307"
        ],
        [
         "9",
         "S2",
         "High",
         "Aligned",
         "0.06184084701367869"
        ],
        [
         "10",
         "S5",
         "High",
         "Aligned",
         "0.20777778351722112"
        ],
        [
         "11",
         "S3",
         "High",
         "Aligned",
         "-0.032836554029494036"
        ],
        [
         "12",
         "S4",
         "High",
         "Aligned",
         "0.011925650209348417"
        ],
        [
         "13",
         "S6",
         "High",
         "Aligned",
         "-0.10232321478697919"
        ],
        [
         "14",
         "S7",
         "High",
         "Aligned",
         "-0.04886813008192492"
        ],
        [
         "15",
         "S8",
         "High",
         "Aligned",
         "0.28340255818928234"
        ],
        [
         "16",
         "S1",
         "Labial",
         "Aligned",
         "0.6872406248552553"
        ],
        [
         "17",
         "S2",
         "Labial",
         "Aligned",
         "-0.2718303167268673"
        ],
        [
         "18",
         "S5",
         "Labial",
         "Aligned",
         "0.7354787033315564"
        ],
        [
         "19",
         "S3",
         "Labial",
         "Aligned",
         "0.33892621996634903"
        ],
        [
         "20",
         "S4",
         "Labial",
         "Aligned",
         "-0.013009326821586273"
        ],
        [
         "21",
         "S6",
         "Labial",
         "Aligned",
         "0.09288111420913404"
        ],
        [
         "22",
         "S7",
         "Labial",
         "Aligned",
         "0.00016785879996787656"
        ],
        [
         "23",
         "S8",
         "Labial",
         "Aligned",
         "0.5104155908891039"
        ],
        [
         "24",
         "S1",
         "Dorsal",
         "Aligned",
         "0.34928798925332427"
        ],
        [
         "25",
         "S2",
         "Dorsal",
         "Aligned",
         "0.10690651899130245"
        ],
        [
         "26",
         "S5",
         "Dorsal",
         "Aligned",
         "-0.1733164737136097"
        ],
        [
         "27",
         "S3",
         "Dorsal",
         "Aligned",
         "0.20563541644233257"
        ],
        [
         "28",
         "S4",
         "Dorsal",
         "Aligned",
         "0.10898244430955853"
        ],
        [
         "29",
         "S6",
         "Dorsal",
         "Aligned",
         "-0.010387556942589308"
        ],
        [
         "30",
         "S7",
         "Dorsal",
         "Aligned",
         "0.02868528156173078"
        ],
        [
         "31",
         "S8",
         "Dorsal",
         "Aligned",
         "0.34436263747536283"
        ],
        [
         "0",
         "S1",
         "Low",
         "Unaligned",
         "-0.03770712883354585"
        ],
        [
         "1",
         "S2",
         "Low",
         "Unaligned",
         "0.07084432361053872"
        ],
        [
         "2",
         "S5",
         "Low",
         "Unaligned",
         "-0.17757729386751656"
        ],
        [
         "3",
         "S3",
         "Low",
         "Unaligned",
         "0.042501360949809844"
        ],
        [
         "4",
         "S4",
         "Low",
         "Unaligned",
         "-0.004220359460156448"
        ],
        [
         "5",
         "S6",
         "Low",
         "Unaligned",
         "0.03697319596798636"
        ],
        [
         "6",
         "S7",
         "Low",
         "Unaligned",
         "0.08864020305520286"
        ],
        [
         "7",
         "S8",
         "Low",
         "Unaligned",
         "0.054015857003063605"
        ],
        [
         "8",
         "S1",
         "High",
         "Unaligned",
         "0.0036234504283846544"
        ],
        [
         "9",
         "S2",
         "High",
         "Unaligned",
         "-0.06596909325782944"
        ],
        [
         "10",
         "S5",
         "High",
         "Unaligned",
         "-0.14890464220349767"
        ],
        [
         "11",
         "S3",
         "High",
         "Unaligned",
         "0.040037615842180296"
        ],
        [
         "12",
         "S4",
         "High",
         "Unaligned",
         "-0.2113480574308024"
        ],
        [
         "13",
         "S6",
         "High",
         "Unaligned",
         "-0.1290557102812915"
        ],
        [
         "14",
         "S7",
         "High",
         "Unaligned",
         "0.030975718144170158"
        ],
        [
         "15",
         "S8",
         "High",
         "Unaligned",
         "-0.023516840015558295"
        ],
        [
         "16",
         "S1",
         "Labial",
         "Unaligned",
         "-0.22912336857501453"
        ],
        [
         "17",
         "S2",
         "Labial",
         "Unaligned",
         "0.003867439420650959"
        ]
       ],
       "shape": {
        "columns": 4,
        "rows": 64
       }
      },
      "text/html": [
       "<div>\n",
       "<style scoped>\n",
       "    .dataframe tbody tr th:only-of-type {\n",
       "        vertical-align: middle;\n",
       "    }\n",
       "\n",
       "    .dataframe tbody tr th {\n",
       "        vertical-align: top;\n",
       "    }\n",
       "\n",
       "    .dataframe thead th {\n",
       "        text-align: right;\n",
       "    }\n",
       "</style>\n",
       "<table border=\"1\" class=\"dataframe\">\n",
       "  <thead>\n",
       "    <tr style=\"text-align: right;\">\n",
       "      <th></th>\n",
       "      <th>Patient</th>\n",
       "      <th>Articulator</th>\n",
       "      <th>Type</th>\n",
       "      <th>Cosine Similarity</th>\n",
       "    </tr>\n",
       "  </thead>\n",
       "  <tbody>\n",
       "    <tr>\n",
       "      <th>0</th>\n",
       "      <td>S1</td>\n",
       "      <td>Low</td>\n",
       "      <td>Aligned</td>\n",
       "      <td>0.582285</td>\n",
       "    </tr>\n",
       "    <tr>\n",
       "      <th>1</th>\n",
       "      <td>S2</td>\n",
       "      <td>Low</td>\n",
       "      <td>Aligned</td>\n",
       "      <td>0.035091</td>\n",
       "    </tr>\n",
       "    <tr>\n",
       "      <th>2</th>\n",
       "      <td>S5</td>\n",
       "      <td>Low</td>\n",
       "      <td>Aligned</td>\n",
       "      <td>0.514068</td>\n",
       "    </tr>\n",
       "    <tr>\n",
       "      <th>3</th>\n",
       "      <td>S3</td>\n",
       "      <td>Low</td>\n",
       "      <td>Aligned</td>\n",
       "      <td>0.199106</td>\n",
       "    </tr>\n",
       "    <tr>\n",
       "      <th>4</th>\n",
       "      <td>S4</td>\n",
       "      <td>Low</td>\n",
       "      <td>Aligned</td>\n",
       "      <td>0.262262</td>\n",
       "    </tr>\n",
       "    <tr>\n",
       "      <th>...</th>\n",
       "      <td>...</td>\n",
       "      <td>...</td>\n",
       "      <td>...</td>\n",
       "      <td>...</td>\n",
       "    </tr>\n",
       "    <tr>\n",
       "      <th>27</th>\n",
       "      <td>S3</td>\n",
       "      <td>Dorsal</td>\n",
       "      <td>Unaligned</td>\n",
       "      <td>0.038538</td>\n",
       "    </tr>\n",
       "    <tr>\n",
       "      <th>28</th>\n",
       "      <td>S4</td>\n",
       "      <td>Dorsal</td>\n",
       "      <td>Unaligned</td>\n",
       "      <td>0.121837</td>\n",
       "    </tr>\n",
       "    <tr>\n",
       "      <th>29</th>\n",
       "      <td>S6</td>\n",
       "      <td>Dorsal</td>\n",
       "      <td>Unaligned</td>\n",
       "      <td>0.010258</td>\n",
       "    </tr>\n",
       "    <tr>\n",
       "      <th>30</th>\n",
       "      <td>S7</td>\n",
       "      <td>Dorsal</td>\n",
       "      <td>Unaligned</td>\n",
       "      <td>-0.042999</td>\n",
       "    </tr>\n",
       "    <tr>\n",
       "      <th>31</th>\n",
       "      <td>S8</td>\n",
       "      <td>Dorsal</td>\n",
       "      <td>Unaligned</td>\n",
       "      <td>-0.119037</td>\n",
       "    </tr>\n",
       "  </tbody>\n",
       "</table>\n",
       "<p>64 rows × 4 columns</p>\n",
       "</div>"
      ],
      "text/plain": [
       "   Patient Articulator       Type  Cosine Similarity\n",
       "0       S1         Low    Aligned           0.582285\n",
       "1       S2         Low    Aligned           0.035091\n",
       "2       S5         Low    Aligned           0.514068\n",
       "3       S3         Low    Aligned           0.199106\n",
       "4       S4         Low    Aligned           0.262262\n",
       "..     ...         ...        ...                ...\n",
       "27      S3      Dorsal  Unaligned           0.038538\n",
       "28      S4      Dorsal  Unaligned           0.121837\n",
       "29      S6      Dorsal  Unaligned           0.010258\n",
       "30      S7      Dorsal  Unaligned          -0.042999\n",
       "31      S8      Dorsal  Unaligned          -0.119037\n",
       "\n",
       "[64 rows x 4 columns]"
      ]
     },
     "execution_count": 47,
     "metadata": {},
     "output_type": "execute_result"
    }
   ],
   "source": [
    "artic_sim_df = pd.DataFrame(artic_map_sims).T\n",
    "artic_sim_df['Patient'] = [paper_pt_dict[p] for p in artic_sim_df.index]\n",
    "artic_sim_df = artic_sim_df.reset_index(drop=True)\n",
    "artic_sim_df = pd.melt(artic_sim_df, id_vars=['Patient'], var_name='Articulator', value_name='Cosine Similarity')\n",
    "\n",
    "artic_sim_null_df = pd.DataFrame(artic_map_sims_null).T\n",
    "artic_sim_null_df['Patient'] = [paper_pt_dict[p] for p in artic_sim_null_df.index]\n",
    "artic_sim_null_df = artic_sim_null_df.reset_index(drop=True)\n",
    "artic_sim_null_df = pd.melt(artic_sim_null_df, id_vars=['Patient'], var_name='Articulator', value_name='Cosine Similarity')\n",
    "artic_sim_df['Type'] = 'Aligned'\n",
    "artic_sim_null_df['Type'] = 'Unaligned'\n",
    "artic_sim_full_df = pd.concat([artic_sim_df, artic_sim_null_df])\n",
    "artic_sim_full_df['Articulator'] = artic_sim_full_df['Articulator'].str.capitalize()\n",
    "artic_sim_full_df = artic_sim_full_df[['Patient', 'Articulator', 'Type', 'Cosine Similarity']]\n",
    "artic_sim_full_df"
   ]
  },
  {
   "cell_type": "code",
   "execution_count": 48,
   "metadata": {},
   "outputs": [
    {
     "name": "stdout",
     "output_type": "stream",
     "text": [
      "   Patient       Type  Cosine Similarity\n",
      "0       S1    Aligned           0.355507\n",
      "1       S1  Unaligned          -0.091280\n",
      "2       S2    Aligned          -0.016998\n",
      "3       S2  Unaligned          -0.018284\n",
      "4       S3    Aligned           0.177708\n",
      "5       S3  Unaligned           0.060252\n",
      "6       S4    Aligned           0.092540\n",
      "7       S4  Unaligned           0.011097\n",
      "8       S5    Aligned           0.321002\n",
      "9       S5  Unaligned          -0.205109\n",
      "10      S6    Aligned           0.011702\n",
      "11      S6  Unaligned           0.010894\n",
      "12      S7    Aligned          -0.015659\n",
      "13      S7  Unaligned           0.004054\n",
      "14      S8    Aligned           0.372518\n",
      "15      S8  Unaligned          -0.034015\n"
     ]
    }
   ],
   "source": [
    "fig_df = artic_sim_full_df.groupby(['Patient', 'Type']).agg({'Cosine Similarity': ['mean']}).reset_index()\n",
    "fig_df.columns = ['Patient', 'Type', 'Cosine Similarity']\n",
    "print(fig_df)"
   ]
  },
  {
   "cell_type": "code",
   "execution_count": 5,
   "metadata": {},
   "outputs": [
    {
     "data": {
      "application/vnd.plotly.v1+json": {
       "config": {
        "plotlyServerURL": "https://plot.ly"
       },
       "data": [
        {
         "hovertemplate": "Patient=S1<br>Type=%{x}<br>Cosine Similarity=%{y}<extra></extra>",
         "legendgroup": "S1",
         "line": {
          "color": "#EF553B",
          "dash": "solid"
         },
         "marker": {
          "symbol": "circle"
         },
         "mode": "lines",
         "name": "S1",
         "orientation": "v",
         "showlegend": true,
         "type": "scatter",
         "x": [
          "Aligned",
          "Unaligned"
         ],
         "xaxis": "x",
         "y": {
          "bdata": "shOghaDA1j/R8EOfG163vw==",
          "dtype": "f8"
         },
         "yaxis": "y"
        },
        {
         "hovertemplate": "Patient=S2<br>Type=%{x}<br>Cosine Similarity=%{y}<extra></extra>",
         "legendgroup": "S2",
         "line": {
          "color": "#00CC96",
          "dash": "solid"
         },
         "marker": {
          "symbol": "circle"
         },
         "mode": "lines",
         "name": "S2",
         "orientation": "v",
         "showlegend": true,
         "type": "scatter",
         "x": [
          "Aligned",
          "Unaligned"
         ],
         "xaxis": "x",
         "y": {
          "bdata": "54AUFvNnkb+v0Sah/7iSvw==",
          "dtype": "f8"
         },
         "yaxis": "y"
        },
        {
         "hovertemplate": "Patient=S3<br>Type=%{x}<br>Cosine Similarity=%{y}<extra></extra>",
         "legendgroup": "S3",
         "line": {
          "color": "#AB63FA",
          "dash": "solid"
         },
         "marker": {
          "symbol": "circle"
         },
         "mode": "lines",
         "name": "S3",
         "orientation": "v",
         "showlegend": true,
         "type": "scatter",
         "x": [
          "Aligned",
          "Unaligned"
         ],
         "xaxis": "x",
         "y": {
          "bdata": "id7+KyG/xj/Gk6trWtmuPw==",
          "dtype": "f8"
         },
         "yaxis": "y"
        },
        {
         "hovertemplate": "Patient=S4<br>Type=%{x}<br>Cosine Similarity=%{y}<extra></extra>",
         "legendgroup": "S4",
         "line": {
          "color": "#FFA15A",
          "dash": "solid"
         },
         "marker": {
          "symbol": "circle"
         },
         "mode": "lines",
         "name": "S4",
         "orientation": "v",
         "showlegend": true,
         "type": "scatter",
         "x": [
          "Aligned",
          "Unaligned"
         ],
         "xaxis": "x",
         "y": {
          "bdata": "4r47SLawtz/8v0QNErqGPw==",
          "dtype": "f8"
         },
         "yaxis": "y"
        },
        {
         "hovertemplate": "Patient=S5<br>Type=%{x}<br>Cosine Similarity=%{y}<extra></extra>",
         "legendgroup": "S5",
         "line": {
          "color": "#19D3F3",
          "dash": "solid"
         },
         "marker": {
          "symbol": "circle"
         },
         "mode": "lines",
         "name": "S5",
         "orientation": "v",
         "showlegend": true,
         "type": "scatter",
         "x": [
          "Aligned",
          "Unaligned"
         ],
         "xaxis": "x",
         "y": {
          "bdata": "9MCP60uL1D9ruRchB0HKvw==",
          "dtype": "f8"
         },
         "yaxis": "y"
        },
        {
         "hovertemplate": "Patient=S6<br>Type=%{x}<br>Cosine Similarity=%{y}<extra></extra>",
         "legendgroup": "S6",
         "line": {
          "color": "#FF6692",
          "dash": "solid"
         },
         "marker": {
          "symbol": "circle"
         },
         "mode": "lines",
         "name": "S6",
         "orientation": "v",
         "showlegend": true,
         "type": "scatter",
         "x": [
          "Aligned",
          "Unaligned"
         ],
         "xaxis": "x",
         "y": {
          "bdata": "VZICPw33hz8ozBjXtk+GPw==",
          "dtype": "f8"
         },
         "yaxis": "y"
        },
        {
         "hovertemplate": "Patient=S7<br>Type=%{x}<br>Cosine Similarity=%{y}<extra></extra>",
         "legendgroup": "S7",
         "line": {
          "color": "#B6E880",
          "dash": "solid"
         },
         "marker": {
          "symbol": "circle"
         },
         "mode": "lines",
         "name": "S7",
         "orientation": "v",
         "showlegend": true,
         "type": "scatter",
         "x": [
          "Aligned",
          "Unaligned"
         ],
         "xaxis": "x",
         "y": {
          "bdata": "S4T9QAYJkL/ydTvC35pwPw==",
          "dtype": "f8"
         },
         "yaxis": "y"
        },
        {
         "hovertemplate": "Patient=S8<br>Type=%{x}<br>Cosine Similarity=%{y}<extra></extra>",
         "legendgroup": "S8",
         "line": {
          "color": "#FF97FF",
          "dash": "solid"
         },
         "marker": {
          "symbol": "circle"
         },
         "mode": "lines",
         "name": "S8",
         "orientation": "v",
         "showlegend": true,
         "type": "scatter",
         "x": [
          "Aligned",
          "Unaligned"
         ],
         "xaxis": "x",
         "y": {
          "bdata": "z4njY1TX1z8Ey+ajbGqhvw==",
          "dtype": "f8"
         },
         "yaxis": "y"
        },
        {
         "alignmentgroup": "True",
         "hovertemplate": "Type=%{x}<br>Cosine Similarity=%{y}<extra></extra>",
         "legendgroup": "",
         "marker": {
          "color": "#636efa"
         },
         "name": "",
         "notched": false,
         "offsetgroup": "",
         "orientation": "v",
         "showlegend": false,
         "type": "box",
         "x": [
          "Aligned",
          "Unaligned",
          "Aligned",
          "Unaligned",
          "Aligned",
          "Unaligned",
          "Aligned",
          "Unaligned",
          "Aligned",
          "Unaligned",
          "Aligned",
          "Unaligned",
          "Aligned",
          "Unaligned",
          "Aligned",
          "Unaligned"
         ],
         "x0": " ",
         "xaxis": "x",
         "y": {
          "bdata": "shOghaDA1j/R8EOfG163v+eAFBbzZ5G/r9Emof+4kr+J3v4rIb/GP8aTq2ta2a4/4r47SLawtz/8v0QNErqGP/TAj+tLi9Q/a7kXIQdByr9VkgI/DfeHPyjMGNe2T4Y/S4T9QAYJkL/ydTvC35pwP8+J42NU19c/BMvmo2xqob8=",
          "dtype": "f8"
         },
         "y0": " ",
         "yaxis": "y"
        }
       ],
       "layout": {
        "font": {
         "family": "Arial",
         "size": 18
        },
        "height": 600,
        "legend": {
         "orientation": "h",
         "title": {
          "text": ""
         },
         "tracegroupgap": 0,
         "x": 0.02,
         "xanchor": "left",
         "y": 0.98,
         "yanchor": "top"
        },
        "margin": {
         "t": 60
        },
        "plot_bgcolor": "white",
        "shapes": [
         {
          "line": {
           "color": "grey",
           "dash": "dash"
          },
          "type": "line",
          "x0": 0,
          "x1": 1,
          "xref": "x domain",
          "y0": 0,
          "y1": 0,
          "yref": "y"
         }
        ],
        "template": {
         "data": {
          "bar": [
           {
            "error_x": {
             "color": "#2a3f5f"
            },
            "error_y": {
             "color": "#2a3f5f"
            },
            "marker": {
             "line": {
              "color": "#E5ECF6",
              "width": 0.5
             },
             "pattern": {
              "fillmode": "overlay",
              "size": 10,
              "solidity": 0.2
             }
            },
            "type": "bar"
           }
          ],
          "barpolar": [
           {
            "marker": {
             "line": {
              "color": "#E5ECF6",
              "width": 0.5
             },
             "pattern": {
              "fillmode": "overlay",
              "size": 10,
              "solidity": 0.2
             }
            },
            "type": "barpolar"
           }
          ],
          "carpet": [
           {
            "aaxis": {
             "endlinecolor": "#2a3f5f",
             "gridcolor": "white",
             "linecolor": "white",
             "minorgridcolor": "white",
             "startlinecolor": "#2a3f5f"
            },
            "baxis": {
             "endlinecolor": "#2a3f5f",
             "gridcolor": "white",
             "linecolor": "white",
             "minorgridcolor": "white",
             "startlinecolor": "#2a3f5f"
            },
            "type": "carpet"
           }
          ],
          "choropleth": [
           {
            "colorbar": {
             "outlinewidth": 0,
             "ticks": ""
            },
            "type": "choropleth"
           }
          ],
          "contour": [
           {
            "colorbar": {
             "outlinewidth": 0,
             "ticks": ""
            },
            "colorscale": [
             [
              0,
              "#0d0887"
             ],
             [
              0.1111111111111111,
              "#46039f"
             ],
             [
              0.2222222222222222,
              "#7201a8"
             ],
             [
              0.3333333333333333,
              "#9c179e"
             ],
             [
              0.4444444444444444,
              "#bd3786"
             ],
             [
              0.5555555555555556,
              "#d8576b"
             ],
             [
              0.6666666666666666,
              "#ed7953"
             ],
             [
              0.7777777777777778,
              "#fb9f3a"
             ],
             [
              0.8888888888888888,
              "#fdca26"
             ],
             [
              1,
              "#f0f921"
             ]
            ],
            "type": "contour"
           }
          ],
          "contourcarpet": [
           {
            "colorbar": {
             "outlinewidth": 0,
             "ticks": ""
            },
            "type": "contourcarpet"
           }
          ],
          "heatmap": [
           {
            "colorbar": {
             "outlinewidth": 0,
             "ticks": ""
            },
            "colorscale": [
             [
              0,
              "#0d0887"
             ],
             [
              0.1111111111111111,
              "#46039f"
             ],
             [
              0.2222222222222222,
              "#7201a8"
             ],
             [
              0.3333333333333333,
              "#9c179e"
             ],
             [
              0.4444444444444444,
              "#bd3786"
             ],
             [
              0.5555555555555556,
              "#d8576b"
             ],
             [
              0.6666666666666666,
              "#ed7953"
             ],
             [
              0.7777777777777778,
              "#fb9f3a"
             ],
             [
              0.8888888888888888,
              "#fdca26"
             ],
             [
              1,
              "#f0f921"
             ]
            ],
            "type": "heatmap"
           }
          ],
          "histogram": [
           {
            "marker": {
             "pattern": {
              "fillmode": "overlay",
              "size": 10,
              "solidity": 0.2
             }
            },
            "type": "histogram"
           }
          ],
          "histogram2d": [
           {
            "colorbar": {
             "outlinewidth": 0,
             "ticks": ""
            },
            "colorscale": [
             [
              0,
              "#0d0887"
             ],
             [
              0.1111111111111111,
              "#46039f"
             ],
             [
              0.2222222222222222,
              "#7201a8"
             ],
             [
              0.3333333333333333,
              "#9c179e"
             ],
             [
              0.4444444444444444,
              "#bd3786"
             ],
             [
              0.5555555555555556,
              "#d8576b"
             ],
             [
              0.6666666666666666,
              "#ed7953"
             ],
             [
              0.7777777777777778,
              "#fb9f3a"
             ],
             [
              0.8888888888888888,
              "#fdca26"
             ],
             [
              1,
              "#f0f921"
             ]
            ],
            "type": "histogram2d"
           }
          ],
          "histogram2dcontour": [
           {
            "colorbar": {
             "outlinewidth": 0,
             "ticks": ""
            },
            "colorscale": [
             [
              0,
              "#0d0887"
             ],
             [
              0.1111111111111111,
              "#46039f"
             ],
             [
              0.2222222222222222,
              "#7201a8"
             ],
             [
              0.3333333333333333,
              "#9c179e"
             ],
             [
              0.4444444444444444,
              "#bd3786"
             ],
             [
              0.5555555555555556,
              "#d8576b"
             ],
             [
              0.6666666666666666,
              "#ed7953"
             ],
             [
              0.7777777777777778,
              "#fb9f3a"
             ],
             [
              0.8888888888888888,
              "#fdca26"
             ],
             [
              1,
              "#f0f921"
             ]
            ],
            "type": "histogram2dcontour"
           }
          ],
          "mesh3d": [
           {
            "colorbar": {
             "outlinewidth": 0,
             "ticks": ""
            },
            "type": "mesh3d"
           }
          ],
          "parcoords": [
           {
            "line": {
             "colorbar": {
              "outlinewidth": 0,
              "ticks": ""
             }
            },
            "type": "parcoords"
           }
          ],
          "pie": [
           {
            "automargin": true,
            "type": "pie"
           }
          ],
          "scatter": [
           {
            "fillpattern": {
             "fillmode": "overlay",
             "size": 10,
             "solidity": 0.2
            },
            "type": "scatter"
           }
          ],
          "scatter3d": [
           {
            "line": {
             "colorbar": {
              "outlinewidth": 0,
              "ticks": ""
             }
            },
            "marker": {
             "colorbar": {
              "outlinewidth": 0,
              "ticks": ""
             }
            },
            "type": "scatter3d"
           }
          ],
          "scattercarpet": [
           {
            "marker": {
             "colorbar": {
              "outlinewidth": 0,
              "ticks": ""
             }
            },
            "type": "scattercarpet"
           }
          ],
          "scattergeo": [
           {
            "marker": {
             "colorbar": {
              "outlinewidth": 0,
              "ticks": ""
             }
            },
            "type": "scattergeo"
           }
          ],
          "scattergl": [
           {
            "marker": {
             "colorbar": {
              "outlinewidth": 0,
              "ticks": ""
             }
            },
            "type": "scattergl"
           }
          ],
          "scattermap": [
           {
            "marker": {
             "colorbar": {
              "outlinewidth": 0,
              "ticks": ""
             }
            },
            "type": "scattermap"
           }
          ],
          "scattermapbox": [
           {
            "marker": {
             "colorbar": {
              "outlinewidth": 0,
              "ticks": ""
             }
            },
            "type": "scattermapbox"
           }
          ],
          "scatterpolar": [
           {
            "marker": {
             "colorbar": {
              "outlinewidth": 0,
              "ticks": ""
             }
            },
            "type": "scatterpolar"
           }
          ],
          "scatterpolargl": [
           {
            "marker": {
             "colorbar": {
              "outlinewidth": 0,
              "ticks": ""
             }
            },
            "type": "scatterpolargl"
           }
          ],
          "scatterternary": [
           {
            "marker": {
             "colorbar": {
              "outlinewidth": 0,
              "ticks": ""
             }
            },
            "type": "scatterternary"
           }
          ],
          "surface": [
           {
            "colorbar": {
             "outlinewidth": 0,
             "ticks": ""
            },
            "colorscale": [
             [
              0,
              "#0d0887"
             ],
             [
              0.1111111111111111,
              "#46039f"
             ],
             [
              0.2222222222222222,
              "#7201a8"
             ],
             [
              0.3333333333333333,
              "#9c179e"
             ],
             [
              0.4444444444444444,
              "#bd3786"
             ],
             [
              0.5555555555555556,
              "#d8576b"
             ],
             [
              0.6666666666666666,
              "#ed7953"
             ],
             [
              0.7777777777777778,
              "#fb9f3a"
             ],
             [
              0.8888888888888888,
              "#fdca26"
             ],
             [
              1,
              "#f0f921"
             ]
            ],
            "type": "surface"
           }
          ],
          "table": [
           {
            "cells": {
             "fill": {
              "color": "#EBF0F8"
             },
             "line": {
              "color": "white"
             }
            },
            "header": {
             "fill": {
              "color": "#C8D4E3"
             },
             "line": {
              "color": "white"
             }
            },
            "type": "table"
           }
          ]
         },
         "layout": {
          "annotationdefaults": {
           "arrowcolor": "#2a3f5f",
           "arrowhead": 0,
           "arrowwidth": 1
          },
          "autotypenumbers": "strict",
          "coloraxis": {
           "colorbar": {
            "outlinewidth": 0,
            "ticks": ""
           }
          },
          "colorscale": {
           "diverging": [
            [
             0,
             "#8e0152"
            ],
            [
             0.1,
             "#c51b7d"
            ],
            [
             0.2,
             "#de77ae"
            ],
            [
             0.3,
             "#f1b6da"
            ],
            [
             0.4,
             "#fde0ef"
            ],
            [
             0.5,
             "#f7f7f7"
            ],
            [
             0.6,
             "#e6f5d0"
            ],
            [
             0.7,
             "#b8e186"
            ],
            [
             0.8,
             "#7fbc41"
            ],
            [
             0.9,
             "#4d9221"
            ],
            [
             1,
             "#276419"
            ]
           ],
           "sequential": [
            [
             0,
             "#0d0887"
            ],
            [
             0.1111111111111111,
             "#46039f"
            ],
            [
             0.2222222222222222,
             "#7201a8"
            ],
            [
             0.3333333333333333,
             "#9c179e"
            ],
            [
             0.4444444444444444,
             "#bd3786"
            ],
            [
             0.5555555555555556,
             "#d8576b"
            ],
            [
             0.6666666666666666,
             "#ed7953"
            ],
            [
             0.7777777777777778,
             "#fb9f3a"
            ],
            [
             0.8888888888888888,
             "#fdca26"
            ],
            [
             1,
             "#f0f921"
            ]
           ],
           "sequentialminus": [
            [
             0,
             "#0d0887"
            ],
            [
             0.1111111111111111,
             "#46039f"
            ],
            [
             0.2222222222222222,
             "#7201a8"
            ],
            [
             0.3333333333333333,
             "#9c179e"
            ],
            [
             0.4444444444444444,
             "#bd3786"
            ],
            [
             0.5555555555555556,
             "#d8576b"
            ],
            [
             0.6666666666666666,
             "#ed7953"
            ],
            [
             0.7777777777777778,
             "#fb9f3a"
            ],
            [
             0.8888888888888888,
             "#fdca26"
            ],
            [
             1,
             "#f0f921"
            ]
           ]
          },
          "colorway": [
           "#636efa",
           "#EF553B",
           "#00cc96",
           "#ab63fa",
           "#FFA15A",
           "#19d3f3",
           "#FF6692",
           "#B6E880",
           "#FF97FF",
           "#FECB52"
          ],
          "font": {
           "color": "#2a3f5f"
          },
          "geo": {
           "bgcolor": "white",
           "lakecolor": "white",
           "landcolor": "#E5ECF6",
           "showlakes": true,
           "showland": true,
           "subunitcolor": "white"
          },
          "hoverlabel": {
           "align": "left"
          },
          "hovermode": "closest",
          "mapbox": {
           "style": "light"
          },
          "paper_bgcolor": "white",
          "plot_bgcolor": "#E5ECF6",
          "polar": {
           "angularaxis": {
            "gridcolor": "white",
            "linecolor": "white",
            "ticks": ""
           },
           "bgcolor": "#E5ECF6",
           "radialaxis": {
            "gridcolor": "white",
            "linecolor": "white",
            "ticks": ""
           }
          },
          "scene": {
           "xaxis": {
            "backgroundcolor": "#E5ECF6",
            "gridcolor": "white",
            "gridwidth": 2,
            "linecolor": "white",
            "showbackground": true,
            "ticks": "",
            "zerolinecolor": "white"
           },
           "yaxis": {
            "backgroundcolor": "#E5ECF6",
            "gridcolor": "white",
            "gridwidth": 2,
            "linecolor": "white",
            "showbackground": true,
            "ticks": "",
            "zerolinecolor": "white"
           },
           "zaxis": {
            "backgroundcolor": "#E5ECF6",
            "gridcolor": "white",
            "gridwidth": 2,
            "linecolor": "white",
            "showbackground": true,
            "ticks": "",
            "zerolinecolor": "white"
           }
          },
          "shapedefaults": {
           "line": {
            "color": "#2a3f5f"
           }
          },
          "ternary": {
           "aaxis": {
            "gridcolor": "white",
            "linecolor": "white",
            "ticks": ""
           },
           "baxis": {
            "gridcolor": "white",
            "linecolor": "white",
            "ticks": ""
           },
           "bgcolor": "#E5ECF6",
           "caxis": {
            "gridcolor": "white",
            "linecolor": "white",
            "ticks": ""
           }
          },
          "title": {
           "x": 0.05
          },
          "xaxis": {
           "automargin": true,
           "gridcolor": "white",
           "linecolor": "white",
           "ticks": "",
           "title": {
            "standoff": 15
           },
           "zerolinecolor": "white",
           "zerolinewidth": 2
          },
          "yaxis": {
           "automargin": true,
           "gridcolor": "white",
           "linecolor": "white",
           "ticks": "",
           "title": {
            "standoff": 15
           },
           "zerolinecolor": "white",
           "zerolinewidth": 2
          }
         }
        },
        "title": {
         "text": "Similarity of reconstructed articulator maps for all patients",
         "x": 0.5
        },
        "width": 800,
        "xaxis": {
         "anchor": "y",
         "domain": [
          0,
          1
         ],
         "linecolor": "black",
         "mirror": false,
         "range": [
          -0.48,
          1.48
         ],
         "showgrid": false,
         "showline": true,
         "ticks": "outside",
         "title": {
          "text": ""
         }
        },
        "yaxis": {
         "anchor": "x",
         "domain": [
          0,
          1
         ],
         "linecolor": "black",
         "mirror": false,
         "range": [
          -0.3,
          0.55
         ],
         "showgrid": false,
         "showline": true,
         "ticks": "outside",
         "title": {
          "text": "Pearson r"
         }
        }
       }
      }
     },
     "metadata": {},
     "output_type": "display_data"
    }
   ],
   "source": [
    "fig_df = artic_sim_full_df.groupby(['Patient', 'Type']).agg({'Cosine Similarity': ['mean']}).reset_index()\n",
    "fig_df.columns = ['Patient', 'Type', 'Cosine Similarity']\n",
    "\n",
    "# fig = px.box(fig_df, color='Type', y=\"Cosine Similarity\", points='all', width=850, height=600, color_discrete_sequence=[px.colors.qualitative.Plotly[0], '#7F7F7F'])\n",
    "# fig = px.box(artic_sim_full_df, color='Type', y=\"Cosine Similarity\", x='Articulator', points='all', width=850, height=600, color_discrete_sequence=[px.colors.qualitative.Plotly[0], '#7F7F7F'])\n",
    "fig = px.line(fig_df, x='Type', y=\"Cosine Similarity\", color='Patient', width=800, height=600, color_discrete_sequence=px.colors.qualitative.Plotly[1:])\n",
    "fig.add_traces(px.box(fig_df, x='Type', y=\"Cosine Similarity\").data)\n",
    "\n",
    "fig.add_hline(y=0, line_dash='dash', line_color='grey')\n",
    "fig.update_layout(\n",
    "    plot_bgcolor='white',\n",
    "    legend=dict(\n",
    "        orientation='h',\n",
    "        yanchor='top',\n",
    "        y=0.98,\n",
    "        xanchor='left',\n",
    "        x=0.02,\n",
    "        title_text=''\n",
    "    ),\n",
    "    title_text='Similarity of reconstructed articulator maps for all patients',\n",
    "    title_x=0.5,\n",
    "    font=dict(size=18, family='Arial')\n",
    ")\n",
    "fig.update_xaxes(\n",
    "    title='',\n",
    "    mirror=False,\n",
    "    ticks='outside',\n",
    "    showline=True,\n",
    "    linecolor='black',\n",
    "    showgrid=False,\n",
    "    # tickvals=[],\n",
    "    range=[-0.48, 1.48],\n",
    ")\n",
    "fig.update_yaxes(\n",
    "    title='Pearson r',\n",
    "    mirror=False,\n",
    "    ticks='outside',\n",
    "    showline=True,\n",
    "    linecolor='black',\n",
    "    showgrid=False,\n",
    "    range=[-0.3, 0.55],\n",
    ")\n",
    "\n",
    "fig.show()"
   ]
  },
  {
   "cell_type": "code",
   "execution_count": null,
   "metadata": {},
   "outputs": [
    {
     "name": "stdout",
     "output_type": "stream",
     "text": [
      "Articulator Map Aligned vs Unaligned p-value:\n",
      "Wilcoxon: statistic = 3.0, p = 0.0390625\n"
     ]
    }
   ],
   "source": [
    "### across all articulator types ###\n",
    "print('Articulator Map Aligned vs Unaligned p-value:')\n",
    "recon = fig_df[fig_df['Type'] == 'Aligned']['Cosine Similarity']\n",
    "recon_null = fig_df[fig_df['Type'] == 'Unaligned']['Cosine Similarity']\n",
    "# artic_sim_res = stats.permutation_test((recon, recon_null), mean_stat, n_resamples=10000, vectorized=True, permutation_type='samples')\n",
    "artic_sim_res = stats.wilcoxon(recon, recon_null)\n",
    "# print(artic_sim_res.pvalue)\n",
    "print(f'Wilcoxon: statistic = {artic_sim_res.statistic}, p = {artic_sim_res.pvalue}')"
   ]
  },
  {
   "cell_type": "markdown",
   "metadata": {},
   "source": [
    "### Panel d"
   ]
  },
  {
   "cell_type": "code",
   "execution_count": 74,
   "metadata": {},
   "outputs": [
    {
     "name": "stdout",
     "output_type": "stream",
     "text": [
      "Recon Pt: S14: [('S14', (144, 200, 128)), ('S26', (148, 200, 128)), ('S23', (151, 200, 128)), ('S33', (46, 200, 128)), ('S22', (151, 200, 128)), ('S39', (137, 200, 128)), ('S58', (141, 200, 128)), ('S62', (178, 200, 128))]\n",
      "Recon Pt: S26: [('S14', (144, 200, 128)), ('S26', (148, 200, 128)), ('S23', (151, 200, 128)), ('S33', (46, 200, 128)), ('S22', (151, 200, 128)), ('S39', (137, 200, 128)), ('S58', (141, 200, 128)), ('S62', (178, 200, 128))]\n",
      "Recon Pt: S23: [('S14', (144, 200, 128)), ('S26', (148, 200, 128)), ('S23', (151, 200, 128)), ('S33', (46, 200, 128)), ('S22', (151, 200, 128)), ('S39', (137, 200, 128)), ('S58', (141, 200, 128)), ('S62', (178, 200, 128))]\n",
      "Recon Pt: S33: [('S14', (144, 200, 256)), ('S26', (148, 200, 256)), ('S23', (151, 200, 256)), ('S33', (46, 200, 256)), ('S22', (151, 200, 256)), ('S39', (137, 200, 256)), ('S58', (141, 200, 256)), ('S62', (178, 200, 256))]\n",
      "Recon Pt: S22: [('S14', (144, 200, 128)), ('S26', (148, 200, 128)), ('S23', (151, 200, 128)), ('S33', (46, 200, 128)), ('S22', (151, 200, 128)), ('S39', (137, 200, 128)), ('S58', (141, 200, 128)), ('S62', (178, 200, 128))]\n",
      "Recon Pt: S39: [('S14', (144, 200, 256)), ('S26', (148, 200, 256)), ('S23', (151, 200, 256)), ('S33', (46, 200, 256)), ('S22', (151, 200, 256)), ('S39', (137, 200, 256)), ('S58', (141, 200, 256)), ('S62', (178, 200, 256))]\n",
      "Recon Pt: S58: [('S14', (144, 200, 256)), ('S26', (148, 200, 256)), ('S23', (151, 200, 256)), ('S33', (46, 200, 256)), ('S22', (151, 200, 256)), ('S39', (137, 200, 256)), ('S58', (141, 200, 256)), ('S62', (178, 200, 256))]\n",
      "Recon Pt: S62: [('S14', (144, 200, 256)), ('S26', (148, 200, 256)), ('S23', (151, 200, 256)), ('S33', (46, 200, 256)), ('S22', (151, 200, 256)), ('S39', (137, 200, 256)), ('S58', (141, 200, 256)), ('S62', (178, 200, 256))]\n"
     ]
    }
   ],
   "source": [
    "reconDict_allPts = {}\n",
    "for recon_pt in pt_names:\n",
    "    pcas = alignDict_allPts[recon_pt]['pcas']\n",
    "    aligned_data = alignDict_allPts[recon_pt]['aligned_data']\n",
    "    aligned_data_null = alignDict_allPts[recon_pt]['aligned_data_null']\n",
    "\n",
    "    recons = {}\n",
    "    recons_null = {}\n",
    "    for i, pt in enumerate(pt_names):\n",
    "        recons[pt] = pcas[recon_pt].inverse_transform(aligned_data[pt])\n",
    "        recons_null[pt] = pcas[recon_pt].inverse_transform(aligned_data_null[pt])\n",
    "        \n",
    "    reconDict_allPts[recon_pt] = {\n",
    "        'recons': recons,\n",
    "        'recons_null': recons_null\n",
    "    }\n",
    "    print(f'Recon Pt: {recon_pt}: {[(k, v.shape) for k,v in recons.items()]}')\n"
   ]
  },
  {
   "cell_type": "code",
   "execution_count": 75,
   "metadata": {},
   "outputs": [],
   "source": [
    "def cmat_acc(y_true, y_pred):\n",
    "    cmat = confusion_matrix(y_true, y_pred)\n",
    "    acc_cmat = np.trace(cmat) / np.sum(cmat)\n",
    "    return acc_cmat\n",
    "\n",
    "def cmat_wrap(y_true_iter, y_pred_iter):\n",
    "    accs = []\n",
    "    for y_true, y_pred in zip(y_true_iter, y_pred_iter):\n",
    "        accs.append(cmat_acc(y_true, y_pred))\n",
    "    return np.array(accs)"
   ]
  },
  {
   "cell_type": "code",
   "execution_count": 76,
   "metadata": {},
   "outputs": [],
   "source": [
    "def recon_decode(X, y, model):\n",
    "    y_pred = model.predict(X)\n",
    "    acc = cmat_acc(y, y_pred)\n",
    "    return acc\n",
    "\n",
    "def pt_decode(pt, save_models=False, do_cv=False, n_folds=20):\n",
    "    X = all_pt_elec_data[pt_names.index(pt)].reshape(all_pt_elec_data[pt_names.index(pt)].shape[0], -1)\n",
    "    y = all_pt_artic_labels[pt]\n",
    "\n",
    "    return PCA_decode(X, y, pt, save_models=save_models, do_cv=do_cv, n_folds=n_folds)\n",
    "\n",
    "\n",
    "def PCA_decode(X, y, pt, save_models=False, do_cv=False, n_folds=20):\n",
    "    ### Setup ###\n",
    "    dim_red = PCA\n",
    "    decoder = SVC(\n",
    "            kernel='rbf',\n",
    "            class_weight='balanced',\n",
    "            )\n",
    "    clf = make_pipeline(\n",
    "                DimRedReshape(dim_red),\n",
    "                BaggingClassifier(\n",
    "                    estimator=decoder,\n",
    "                    n_jobs=-1,\n",
    "                    )\n",
    "                )\n",
    "\n",
    "    if do_cv:\n",
    "        param_grid = {\n",
    "            'dimredreshape__n_components': np.arange(0.1, 1, 0.1),\n",
    "                    }\n",
    "    else:\n",
    "        param_grid = {\n",
    "            'dimredreshape__n_components': 0.8,\n",
    "                    }\n",
    "\n",
    "\n",
    "    # use stratified kfold if possible\n",
    "    try:\n",
    "        cv = StratifiedKFold(n_splits=n_folds, shuffle=True)\n",
    "        splits = list(cv.split(X, y))\n",
    "    except ValueError:\n",
    "        cv = KFold(n_splits=n_folds, shuffle=True)\n",
    "        splits = list(cv.split(X, y))\n",
    "\n",
    "\n",
    "    y_test_folds = []\n",
    "    y_pred_folds = []\n",
    "    fold_models = [clone(clf) for _ in range(n_folds)]\n",
    "    for i in tqdm(range(len(splits)), desc=pt):\n",
    "        train_idx, test_idx = splits[i]\n",
    "        X_train, X_test = X[train_idx], X[test_idx]\n",
    "        y_train, y_test = y[train_idx], y[test_idx]\n",
    "\n",
    "        if do_cv:\n",
    "            grid = GridSearchCV(clf, param_grid, cv=n_folds, n_jobs=-1)\n",
    "            grid.fit(X_train, y_train)\n",
    "            print(f'Best Params: {grid.best_params_}')\n",
    "            best_params = grid.best_params_\n",
    "        else:\n",
    "            best_params = param_grid\n",
    "\n",
    "        model = fold_models[i]\n",
    "        model.set_params(**best_params)\n",
    "        model.fit(X_train, y_train)\n",
    "        y_pred = model.predict(X_test)\n",
    "        y_test_folds.extend(y_test)\n",
    "        y_pred_folds.extend(y_pred)\n",
    "\n",
    "    acc = cmat_acc(y_test_folds, y_pred_folds)\n",
    "\n",
    "    if save_models:\n",
    "        return acc, fold_models\n",
    "    else:\n",
    "        return acc"
   ]
  },
  {
   "cell_type": "code",
   "execution_count": 77,
   "metadata": {},
   "outputs": [
    {
     "name": "stderr",
     "output_type": "stream",
     "text": [
      "S14: 100%|██████████| 20/20 [00:16<00:00,  1.24it/s]\n"
     ]
    },
    {
     "name": "stdout",
     "output_type": "stream",
     "text": [
      "S1 Accuracy: 0.6180555555555556\n"
     ]
    },
    {
     "name": "stderr",
     "output_type": "stream",
     "text": [
      "S26: 100%|██████████| 20/20 [00:08<00:00,  2.32it/s]\n"
     ]
    },
    {
     "name": "stdout",
     "output_type": "stream",
     "text": [
      "S2 Accuracy: 0.668918918918919\n"
     ]
    },
    {
     "name": "stderr",
     "output_type": "stream",
     "text": [
      "S23: 100%|██████████| 20/20 [00:08<00:00,  2.35it/s]\n"
     ]
    },
    {
     "name": "stdout",
     "output_type": "stream",
     "text": [
      "S5 Accuracy: 0.5165562913907285\n"
     ]
    },
    {
     "name": "stderr",
     "output_type": "stream",
     "text": [
      "S33: 100%|██████████| 20/20 [00:05<00:00,  3.65it/s]\n"
     ]
    },
    {
     "name": "stdout",
     "output_type": "stream",
     "text": [
      "S3 Accuracy: 0.34782608695652173\n"
     ]
    },
    {
     "name": "stderr",
     "output_type": "stream",
     "text": [
      "S22: 100%|██████████| 20/20 [00:08<00:00,  2.31it/s]\n"
     ]
    },
    {
     "name": "stdout",
     "output_type": "stream",
     "text": [
      "S4 Accuracy: 0.2847682119205298\n"
     ]
    },
    {
     "name": "stderr",
     "output_type": "stream",
     "text": [
      "S39: 100%|██████████| 20/20 [00:14<00:00,  1.34it/s]\n"
     ]
    },
    {
     "name": "stdout",
     "output_type": "stream",
     "text": [
      "S6 Accuracy: 0.23357664233576642\n"
     ]
    },
    {
     "name": "stderr",
     "output_type": "stream",
     "text": [
      "S58: 100%|██████████| 20/20 [00:16<00:00,  1.21it/s]\n"
     ]
    },
    {
     "name": "stdout",
     "output_type": "stream",
     "text": [
      "S7 Accuracy: 0.3191489361702128\n"
     ]
    },
    {
     "name": "stderr",
     "output_type": "stream",
     "text": [
      "S62: 100%|██████████| 20/20 [00:22<00:00,  1.14s/it]"
     ]
    },
    {
     "name": "stdout",
     "output_type": "stream",
     "text": [
      "S8 Accuracy: 0.5\n"
     ]
    },
    {
     "name": "stderr",
     "output_type": "stream",
     "text": [
      "\n"
     ]
    }
   ],
   "source": [
    "# get S14 accuracy and save models to apply to reconstruction data\n",
    "recon_decode_pt = 'S14'\n",
    "recon_acc, recon_models = pt_decode(recon_decode_pt, save_models=True, do_cv=False)\n",
    "print(f'{paper_pt_dict[recon_decode_pt]} Accuracy: {recon_acc}')\n",
    "\n",
    "# get non-reconstruction accuracies for comparison\n",
    "ps_accs = {}\n",
    "other_pts = [pt for pt in pt_names if pt != recon_decode_pt]\n",
    "for pt in other_pts:\n",
    "    pt_acc = pt_decode(pt, do_cv=False)\n",
    "    ps_accs[pt] = pt_acc\n",
    "    print(f'{paper_pt_dict[pt]} Accuracy: {pt_acc}')"
   ]
  },
  {
   "cell_type": "code",
   "execution_count": 78,
   "metadata": {},
   "outputs": [
    {
     "name": "stdout",
     "output_type": "stream",
     "text": [
      "S2 Reconstruction Accuracy: 0.4939189189189189 +/- 0.014317310878660186\n",
      "S5 Reconstruction Accuracy: 0.46953642384105965 +/- 0.014644598932116545\n",
      "S3 Reconstruction Accuracy: 0.5347826086956522 +/- 0.034646472718498314\n",
      "S4 Reconstruction Accuracy: 0.42185430463576157 +/- 0.01689715340685175\n",
      "S6 Reconstruction Accuracy: 0.33138686131386863 +/- 0.01763948317313076\n",
      "S7 Reconstruction Accuracy: 0.298581560283688 +/- 0.009488715007276346\n",
      "S8 Reconstruction Accuracy: 0.45280898876404485 +/- 0.01286013836208944\n"
     ]
    }
   ],
   "source": [
    "recon_accs = {}\n",
    "for pt in other_pts:\n",
    "    model_accs = []\n",
    "    for model in recon_models:\n",
    "        curr_recon = reconDict_allPts[recon_decode_pt]['recons']\n",
    "        X_curr = curr_recon[pt].reshape(recons[pt].shape[0], -1)\n",
    "        y_curr = all_pt_artic_labels[pt]\n",
    "        acc_curr = recon_decode(X_curr, y_curr, model)\n",
    "        model_accs.append(acc_curr)\n",
    "    print(f'{paper_pt_dict[pt]} Reconstruction Accuracy: {np.mean(model_accs)} +/- {np.std(model_accs)}')\n",
    "    recon_accs[pt] = np.mean(model_accs)"
   ]
  },
  {
   "cell_type": "code",
   "execution_count": 80,
   "metadata": {},
   "outputs": [
    {
     "name": "stdout",
     "output_type": "stream",
     "text": [
      "S2 Null Reconstruction Accuracy: 0.22263513513513514 +/- 0.005841762319523847\n",
      "S5 Null Reconstruction Accuracy: 0.22185430463576158 +/- 0.007101857811101726\n",
      "S3 Null Reconstruction Accuracy: 0.25326086956521743 +/- 0.02504721439522372\n",
      "S4 Null Reconstruction Accuracy: 0.24006622516556292 +/- 0.0075144408727882235\n",
      "S6 Null Reconstruction Accuracy: 0.22335766423357667 +/- 0.006279069537987316\n",
      "S7 Null Reconstruction Accuracy: 0.2021276595744681 +/- 0.014447906941463378\n",
      "S8 Null Reconstruction Accuracy: 0.272191011235955 +/- 0.017176225557539827\n"
     ]
    }
   ],
   "source": [
    "null_accs = {}\n",
    "for pt in other_pts:\n",
    "    model_accs = []\n",
    "    for model in recon_models:\n",
    "        curr_recon_null = reconDict_allPts[recon_decode_pt]['recons_null']\n",
    "        X_curr = curr_recon_null[pt].reshape(recons_null[pt].shape[0], -1)\n",
    "        y_curr = all_pt_artic_labels[pt]\n",
    "        acc_curr = recon_decode(X_curr, y_curr, model)\n",
    "        model_accs.append(acc_curr)\n",
    "    print(f'{paper_pt_dict[pt]} Null Reconstruction Accuracy: {np.mean(model_accs)} +/- {np.std(model_accs)}')\n",
    "    null_accs[pt] = np.mean(model_accs)"
   ]
  },
  {
   "cell_type": "code",
   "execution_count": 81,
   "metadata": {},
   "outputs": [],
   "source": [
    "recon_acc_df = pd.DataFrame()\n",
    "for i, pt in enumerate(other_pts):\n",
    "    recon_acc_df = pd.concat([recon_acc_df, pd.DataFrame({'Patient': paper_pt_dict[pt], 'Within-Patient': ps_accs[pt], 'Aligned reconstruction': recon_accs[pt], 'Unaligned reconstruction': null_accs[pt]}, index=[i])])\n",
    "\n",
    "recon_acc_df = recon_acc_df.sort_values(by='Patient')\n",
    "recon_acc_df = recon_acc_df.melt(id_vars='Patient', var_name='Condition', value_name='Decoding Accuracy')"
   ]
  },
  {
   "cell_type": "code",
   "execution_count": null,
   "metadata": {},
   "outputs": [
    {
     "data": {
      "application/vnd.plotly.v1+json": {
       "config": {
        "plotlyServerURL": "https://plotly.com"
       },
       "data": [
        {
         "hovertemplate": "Patient=S2<br>Condition=%{x}<br>Decoding Accuracy=%{y}<extra></extra>",
         "legendgroup": "S2",
         "line": {
          "color": "#EF553B",
          "dash": "solid"
         },
         "marker": {
          "symbol": "circle"
         },
         "mode": "lines",
         "name": "S2",
         "orientation": "v",
         "showlegend": true,
         "type": "scatter",
         "x": [
          "Within-Patient",
          "Aligned reconstruction",
          "Unaligned reconstruction"
         ],
         "xaxis": "x",
         "y": [
          0.668918918918919,
          0.4939189189189189,
          0.22263513513513514
         ],
         "yaxis": "y"
        },
        {
         "hovertemplate": "Patient=S3<br>Condition=%{x}<br>Decoding Accuracy=%{y}<extra></extra>",
         "legendgroup": "S3",
         "line": {
          "color": "#00CC96",
          "dash": "solid"
         },
         "marker": {
          "symbol": "circle"
         },
         "mode": "lines",
         "name": "S3",
         "orientation": "v",
         "showlegend": true,
         "type": "scatter",
         "x": [
          "Within-Patient",
          "Aligned reconstruction",
          "Unaligned reconstruction"
         ],
         "xaxis": "x",
         "y": [
          0.34782608695652173,
          0.5347826086956522,
          0.25326086956521743
         ],
         "yaxis": "y"
        },
        {
         "hovertemplate": "Patient=S4<br>Condition=%{x}<br>Decoding Accuracy=%{y}<extra></extra>",
         "legendgroup": "S4",
         "line": {
          "color": "#AB63FA",
          "dash": "solid"
         },
         "marker": {
          "symbol": "circle"
         },
         "mode": "lines",
         "name": "S4",
         "orientation": "v",
         "showlegend": true,
         "type": "scatter",
         "x": [
          "Within-Patient",
          "Aligned reconstruction",
          "Unaligned reconstruction"
         ],
         "xaxis": "x",
         "y": [
          0.2847682119205298,
          0.42185430463576157,
          0.24006622516556292
         ],
         "yaxis": "y"
        },
        {
         "hovertemplate": "Patient=S5<br>Condition=%{x}<br>Decoding Accuracy=%{y}<extra></extra>",
         "legendgroup": "S5",
         "line": {
          "color": "#FFA15A",
          "dash": "solid"
         },
         "marker": {
          "symbol": "circle"
         },
         "mode": "lines",
         "name": "S5",
         "orientation": "v",
         "showlegend": true,
         "type": "scatter",
         "x": [
          "Within-Patient",
          "Aligned reconstruction",
          "Unaligned reconstruction"
         ],
         "xaxis": "x",
         "y": [
          0.5165562913907285,
          0.46953642384105965,
          0.22185430463576158
         ],
         "yaxis": "y"
        },
        {
         "hovertemplate": "Patient=S6<br>Condition=%{x}<br>Decoding Accuracy=%{y}<extra></extra>",
         "legendgroup": "S6",
         "line": {
          "color": "#19D3F3",
          "dash": "solid"
         },
         "marker": {
          "symbol": "circle"
         },
         "mode": "lines",
         "name": "S6",
         "orientation": "v",
         "showlegend": true,
         "type": "scatter",
         "x": [
          "Within-Patient",
          "Aligned reconstruction",
          "Unaligned reconstruction"
         ],
         "xaxis": "x",
         "y": [
          0.23357664233576642,
          0.33138686131386863,
          0.22335766423357667
         ],
         "yaxis": "y"
        },
        {
         "hovertemplate": "Patient=S7<br>Condition=%{x}<br>Decoding Accuracy=%{y}<extra></extra>",
         "legendgroup": "S7",
         "line": {
          "color": "#FF6692",
          "dash": "solid"
         },
         "marker": {
          "symbol": "circle"
         },
         "mode": "lines",
         "name": "S7",
         "orientation": "v",
         "showlegend": true,
         "type": "scatter",
         "x": [
          "Within-Patient",
          "Aligned reconstruction",
          "Unaligned reconstruction"
         ],
         "xaxis": "x",
         "y": [
          0.3191489361702128,
          0.298581560283688,
          0.2021276595744681
         ],
         "yaxis": "y"
        },
        {
         "hovertemplate": "Patient=S8<br>Condition=%{x}<br>Decoding Accuracy=%{y}<extra></extra>",
         "legendgroup": "S8",
         "line": {
          "color": "#B6E880",
          "dash": "solid"
         },
         "marker": {
          "symbol": "circle"
         },
         "mode": "lines",
         "name": "S8",
         "orientation": "v",
         "showlegend": true,
         "type": "scatter",
         "x": [
          "Within-Patient",
          "Aligned reconstruction",
          "Unaligned reconstruction"
         ],
         "xaxis": "x",
         "y": [
          0.5,
          0.45280898876404485,
          0.272191011235955
         ],
         "yaxis": "y"
        },
        {
         "alignmentgroup": "True",
         "hovertemplate": "Condition=%{x}<br>Decoding Accuracy=%{y}<extra></extra>",
         "legendgroup": "",
         "marker": {
          "color": "#636efa"
         },
         "name": "",
         "notched": false,
         "offsetgroup": "",
         "orientation": "v",
         "showlegend": false,
         "type": "box",
         "x": [
          "Within-Patient",
          "Within-Patient",
          "Within-Patient",
          "Within-Patient",
          "Within-Patient",
          "Within-Patient",
          "Within-Patient",
          "Aligned reconstruction",
          "Aligned reconstruction",
          "Aligned reconstruction",
          "Aligned reconstruction",
          "Aligned reconstruction",
          "Aligned reconstruction",
          "Aligned reconstruction",
          "Unaligned reconstruction",
          "Unaligned reconstruction",
          "Unaligned reconstruction",
          "Unaligned reconstruction",
          "Unaligned reconstruction",
          "Unaligned reconstruction",
          "Unaligned reconstruction"
         ],
         "x0": " ",
         "xaxis": "x",
         "y": [
          0.668918918918919,
          0.34782608695652173,
          0.2847682119205298,
          0.5165562913907285,
          0.23357664233576642,
          0.3191489361702128,
          0.5,
          0.4939189189189189,
          0.5347826086956522,
          0.42185430463576157,
          0.46953642384105965,
          0.33138686131386863,
          0.298581560283688,
          0.45280898876404485,
          0.22263513513513514,
          0.25326086956521743,
          0.24006622516556292,
          0.22185430463576158,
          0.22335766423357667,
          0.2021276595744681,
          0.272191011235955
         ],
         "y0": " ",
         "yaxis": "y"
        }
       ],
       "layout": {
        "annotations": [
         {
          "showarrow": false,
          "text": "Chance",
          "x": 1,
          "xanchor": "right",
          "xref": "x domain",
          "y": 0.25,
          "yanchor": "bottom",
          "yref": "y"
         }
        ],
        "font": {
         "family": "Arial",
         "size": 18
        },
        "height": 600,
        "legend": {
         "orientation": "h",
         "title": {
          "text": ""
         },
         "tracegroupgap": 0,
         "x": 0.02,
         "xanchor": "left",
         "y": 0.98,
         "yanchor": "top"
        },
        "margin": {
         "t": 60
        },
        "plot_bgcolor": "white",
        "shapes": [
         {
          "line": {
           "color": "grey",
           "dash": "dash"
          },
          "type": "line",
          "x0": 0,
          "x1": 1,
          "xref": "x domain",
          "y0": 0.25,
          "y1": 0.25,
          "yref": "y"
         }
        ],
        "template": {
         "data": {
          "bar": [
           {
            "error_x": {
             "color": "#2a3f5f"
            },
            "error_y": {
             "color": "#2a3f5f"
            },
            "marker": {
             "line": {
              "color": "#E5ECF6",
              "width": 0.5
             },
             "pattern": {
              "fillmode": "overlay",
              "size": 10,
              "solidity": 0.2
             }
            },
            "type": "bar"
           }
          ],
          "barpolar": [
           {
            "marker": {
             "line": {
              "color": "#E5ECF6",
              "width": 0.5
             },
             "pattern": {
              "fillmode": "overlay",
              "size": 10,
              "solidity": 0.2
             }
            },
            "type": "barpolar"
           }
          ],
          "carpet": [
           {
            "aaxis": {
             "endlinecolor": "#2a3f5f",
             "gridcolor": "white",
             "linecolor": "white",
             "minorgridcolor": "white",
             "startlinecolor": "#2a3f5f"
            },
            "baxis": {
             "endlinecolor": "#2a3f5f",
             "gridcolor": "white",
             "linecolor": "white",
             "minorgridcolor": "white",
             "startlinecolor": "#2a3f5f"
            },
            "type": "carpet"
           }
          ],
          "choropleth": [
           {
            "colorbar": {
             "outlinewidth": 0,
             "ticks": ""
            },
            "type": "choropleth"
           }
          ],
          "contour": [
           {
            "colorbar": {
             "outlinewidth": 0,
             "ticks": ""
            },
            "colorscale": [
             [
              0,
              "#0d0887"
             ],
             [
              0.1111111111111111,
              "#46039f"
             ],
             [
              0.2222222222222222,
              "#7201a8"
             ],
             [
              0.3333333333333333,
              "#9c179e"
             ],
             [
              0.4444444444444444,
              "#bd3786"
             ],
             [
              0.5555555555555556,
              "#d8576b"
             ],
             [
              0.6666666666666666,
              "#ed7953"
             ],
             [
              0.7777777777777778,
              "#fb9f3a"
             ],
             [
              0.8888888888888888,
              "#fdca26"
             ],
             [
              1,
              "#f0f921"
             ]
            ],
            "type": "contour"
           }
          ],
          "contourcarpet": [
           {
            "colorbar": {
             "outlinewidth": 0,
             "ticks": ""
            },
            "type": "contourcarpet"
           }
          ],
          "heatmap": [
           {
            "colorbar": {
             "outlinewidth": 0,
             "ticks": ""
            },
            "colorscale": [
             [
              0,
              "#0d0887"
             ],
             [
              0.1111111111111111,
              "#46039f"
             ],
             [
              0.2222222222222222,
              "#7201a8"
             ],
             [
              0.3333333333333333,
              "#9c179e"
             ],
             [
              0.4444444444444444,
              "#bd3786"
             ],
             [
              0.5555555555555556,
              "#d8576b"
             ],
             [
              0.6666666666666666,
              "#ed7953"
             ],
             [
              0.7777777777777778,
              "#fb9f3a"
             ],
             [
              0.8888888888888888,
              "#fdca26"
             ],
             [
              1,
              "#f0f921"
             ]
            ],
            "type": "heatmap"
           }
          ],
          "heatmapgl": [
           {
            "colorbar": {
             "outlinewidth": 0,
             "ticks": ""
            },
            "colorscale": [
             [
              0,
              "#0d0887"
             ],
             [
              0.1111111111111111,
              "#46039f"
             ],
             [
              0.2222222222222222,
              "#7201a8"
             ],
             [
              0.3333333333333333,
              "#9c179e"
             ],
             [
              0.4444444444444444,
              "#bd3786"
             ],
             [
              0.5555555555555556,
              "#d8576b"
             ],
             [
              0.6666666666666666,
              "#ed7953"
             ],
             [
              0.7777777777777778,
              "#fb9f3a"
             ],
             [
              0.8888888888888888,
              "#fdca26"
             ],
             [
              1,
              "#f0f921"
             ]
            ],
            "type": "heatmapgl"
           }
          ],
          "histogram": [
           {
            "marker": {
             "pattern": {
              "fillmode": "overlay",
              "size": 10,
              "solidity": 0.2
             }
            },
            "type": "histogram"
           }
          ],
          "histogram2d": [
           {
            "colorbar": {
             "outlinewidth": 0,
             "ticks": ""
            },
            "colorscale": [
             [
              0,
              "#0d0887"
             ],
             [
              0.1111111111111111,
              "#46039f"
             ],
             [
              0.2222222222222222,
              "#7201a8"
             ],
             [
              0.3333333333333333,
              "#9c179e"
             ],
             [
              0.4444444444444444,
              "#bd3786"
             ],
             [
              0.5555555555555556,
              "#d8576b"
             ],
             [
              0.6666666666666666,
              "#ed7953"
             ],
             [
              0.7777777777777778,
              "#fb9f3a"
             ],
             [
              0.8888888888888888,
              "#fdca26"
             ],
             [
              1,
              "#f0f921"
             ]
            ],
            "type": "histogram2d"
           }
          ],
          "histogram2dcontour": [
           {
            "colorbar": {
             "outlinewidth": 0,
             "ticks": ""
            },
            "colorscale": [
             [
              0,
              "#0d0887"
             ],
             [
              0.1111111111111111,
              "#46039f"
             ],
             [
              0.2222222222222222,
              "#7201a8"
             ],
             [
              0.3333333333333333,
              "#9c179e"
             ],
             [
              0.4444444444444444,
              "#bd3786"
             ],
             [
              0.5555555555555556,
              "#d8576b"
             ],
             [
              0.6666666666666666,
              "#ed7953"
             ],
             [
              0.7777777777777778,
              "#fb9f3a"
             ],
             [
              0.8888888888888888,
              "#fdca26"
             ],
             [
              1,
              "#f0f921"
             ]
            ],
            "type": "histogram2dcontour"
           }
          ],
          "mesh3d": [
           {
            "colorbar": {
             "outlinewidth": 0,
             "ticks": ""
            },
            "type": "mesh3d"
           }
          ],
          "parcoords": [
           {
            "line": {
             "colorbar": {
              "outlinewidth": 0,
              "ticks": ""
             }
            },
            "type": "parcoords"
           }
          ],
          "pie": [
           {
            "automargin": true,
            "type": "pie"
           }
          ],
          "scatter": [
           {
            "fillpattern": {
             "fillmode": "overlay",
             "size": 10,
             "solidity": 0.2
            },
            "type": "scatter"
           }
          ],
          "scatter3d": [
           {
            "line": {
             "colorbar": {
              "outlinewidth": 0,
              "ticks": ""
             }
            },
            "marker": {
             "colorbar": {
              "outlinewidth": 0,
              "ticks": ""
             }
            },
            "type": "scatter3d"
           }
          ],
          "scattercarpet": [
           {
            "marker": {
             "colorbar": {
              "outlinewidth": 0,
              "ticks": ""
             }
            },
            "type": "scattercarpet"
           }
          ],
          "scattergeo": [
           {
            "marker": {
             "colorbar": {
              "outlinewidth": 0,
              "ticks": ""
             }
            },
            "type": "scattergeo"
           }
          ],
          "scattergl": [
           {
            "marker": {
             "colorbar": {
              "outlinewidth": 0,
              "ticks": ""
             }
            },
            "type": "scattergl"
           }
          ],
          "scattermapbox": [
           {
            "marker": {
             "colorbar": {
              "outlinewidth": 0,
              "ticks": ""
             }
            },
            "type": "scattermapbox"
           }
          ],
          "scatterpolar": [
           {
            "marker": {
             "colorbar": {
              "outlinewidth": 0,
              "ticks": ""
             }
            },
            "type": "scatterpolar"
           }
          ],
          "scatterpolargl": [
           {
            "marker": {
             "colorbar": {
              "outlinewidth": 0,
              "ticks": ""
             }
            },
            "type": "scatterpolargl"
           }
          ],
          "scatterternary": [
           {
            "marker": {
             "colorbar": {
              "outlinewidth": 0,
              "ticks": ""
             }
            },
            "type": "scatterternary"
           }
          ],
          "surface": [
           {
            "colorbar": {
             "outlinewidth": 0,
             "ticks": ""
            },
            "colorscale": [
             [
              0,
              "#0d0887"
             ],
             [
              0.1111111111111111,
              "#46039f"
             ],
             [
              0.2222222222222222,
              "#7201a8"
             ],
             [
              0.3333333333333333,
              "#9c179e"
             ],
             [
              0.4444444444444444,
              "#bd3786"
             ],
             [
              0.5555555555555556,
              "#d8576b"
             ],
             [
              0.6666666666666666,
              "#ed7953"
             ],
             [
              0.7777777777777778,
              "#fb9f3a"
             ],
             [
              0.8888888888888888,
              "#fdca26"
             ],
             [
              1,
              "#f0f921"
             ]
            ],
            "type": "surface"
           }
          ],
          "table": [
           {
            "cells": {
             "fill": {
              "color": "#EBF0F8"
             },
             "line": {
              "color": "white"
             }
            },
            "header": {
             "fill": {
              "color": "#C8D4E3"
             },
             "line": {
              "color": "white"
             }
            },
            "type": "table"
           }
          ]
         },
         "layout": {
          "annotationdefaults": {
           "arrowcolor": "#2a3f5f",
           "arrowhead": 0,
           "arrowwidth": 1
          },
          "autotypenumbers": "strict",
          "coloraxis": {
           "colorbar": {
            "outlinewidth": 0,
            "ticks": ""
           }
          },
          "colorscale": {
           "diverging": [
            [
             0,
             "#8e0152"
            ],
            [
             0.1,
             "#c51b7d"
            ],
            [
             0.2,
             "#de77ae"
            ],
            [
             0.3,
             "#f1b6da"
            ],
            [
             0.4,
             "#fde0ef"
            ],
            [
             0.5,
             "#f7f7f7"
            ],
            [
             0.6,
             "#e6f5d0"
            ],
            [
             0.7,
             "#b8e186"
            ],
            [
             0.8,
             "#7fbc41"
            ],
            [
             0.9,
             "#4d9221"
            ],
            [
             1,
             "#276419"
            ]
           ],
           "sequential": [
            [
             0,
             "#0d0887"
            ],
            [
             0.1111111111111111,
             "#46039f"
            ],
            [
             0.2222222222222222,
             "#7201a8"
            ],
            [
             0.3333333333333333,
             "#9c179e"
            ],
            [
             0.4444444444444444,
             "#bd3786"
            ],
            [
             0.5555555555555556,
             "#d8576b"
            ],
            [
             0.6666666666666666,
             "#ed7953"
            ],
            [
             0.7777777777777778,
             "#fb9f3a"
            ],
            [
             0.8888888888888888,
             "#fdca26"
            ],
            [
             1,
             "#f0f921"
            ]
           ],
           "sequentialminus": [
            [
             0,
             "#0d0887"
            ],
            [
             0.1111111111111111,
             "#46039f"
            ],
            [
             0.2222222222222222,
             "#7201a8"
            ],
            [
             0.3333333333333333,
             "#9c179e"
            ],
            [
             0.4444444444444444,
             "#bd3786"
            ],
            [
             0.5555555555555556,
             "#d8576b"
            ],
            [
             0.6666666666666666,
             "#ed7953"
            ],
            [
             0.7777777777777778,
             "#fb9f3a"
            ],
            [
             0.8888888888888888,
             "#fdca26"
            ],
            [
             1,
             "#f0f921"
            ]
           ]
          },
          "colorway": [
           "#636efa",
           "#EF553B",
           "#00cc96",
           "#ab63fa",
           "#FFA15A",
           "#19d3f3",
           "#FF6692",
           "#B6E880",
           "#FF97FF",
           "#FECB52"
          ],
          "font": {
           "color": "#2a3f5f"
          },
          "geo": {
           "bgcolor": "white",
           "lakecolor": "white",
           "landcolor": "#E5ECF6",
           "showlakes": true,
           "showland": true,
           "subunitcolor": "white"
          },
          "hoverlabel": {
           "align": "left"
          },
          "hovermode": "closest",
          "mapbox": {
           "style": "light"
          },
          "paper_bgcolor": "white",
          "plot_bgcolor": "#E5ECF6",
          "polar": {
           "angularaxis": {
            "gridcolor": "white",
            "linecolor": "white",
            "ticks": ""
           },
           "bgcolor": "#E5ECF6",
           "radialaxis": {
            "gridcolor": "white",
            "linecolor": "white",
            "ticks": ""
           }
          },
          "scene": {
           "xaxis": {
            "backgroundcolor": "#E5ECF6",
            "gridcolor": "white",
            "gridwidth": 2,
            "linecolor": "white",
            "showbackground": true,
            "ticks": "",
            "zerolinecolor": "white"
           },
           "yaxis": {
            "backgroundcolor": "#E5ECF6",
            "gridcolor": "white",
            "gridwidth": 2,
            "linecolor": "white",
            "showbackground": true,
            "ticks": "",
            "zerolinecolor": "white"
           },
           "zaxis": {
            "backgroundcolor": "#E5ECF6",
            "gridcolor": "white",
            "gridwidth": 2,
            "linecolor": "white",
            "showbackground": true,
            "ticks": "",
            "zerolinecolor": "white"
           }
          },
          "shapedefaults": {
           "line": {
            "color": "#2a3f5f"
           }
          },
          "ternary": {
           "aaxis": {
            "gridcolor": "white",
            "linecolor": "white",
            "ticks": ""
           },
           "baxis": {
            "gridcolor": "white",
            "linecolor": "white",
            "ticks": ""
           },
           "bgcolor": "#E5ECF6",
           "caxis": {
            "gridcolor": "white",
            "linecolor": "white",
            "ticks": ""
           }
          },
          "title": {
           "x": 0.05
          },
          "xaxis": {
           "automargin": true,
           "gridcolor": "white",
           "linecolor": "white",
           "ticks": "",
           "title": {
            "standoff": 15
           },
           "zerolinecolor": "white",
           "zerolinewidth": 2
          },
          "yaxis": {
           "automargin": true,
           "gridcolor": "white",
           "linecolor": "white",
           "ticks": "",
           "title": {
            "standoff": 15
           },
           "zerolinecolor": "white",
           "zerolinewidth": 2
          }
         }
        },
        "title": {
         "text": "Cross-patient articulator decoding",
         "x": 0.5
        },
        "width": 800,
        "xaxis": {
         "anchor": "y",
         "domain": [
          0,
          1
         ],
         "linecolor": "black",
         "mirror": false,
         "range": [
          -0.45,
          2.65
         ],
         "showgrid": false,
         "showline": true,
         "ticks": "outside",
         "title": {
          "text": ""
         }
        },
        "yaxis": {
         "anchor": "x",
         "domain": [
          0,
          1
         ],
         "linecolor": "black",
         "mirror": false,
         "range": [
          -0.005,
          0.85
         ],
         "showgrid": false,
         "showline": true,
         "ticks": "outside",
         "title": {
          "text": "Articulator decoding accuracy"
         }
        }
       }
      }
     },
     "metadata": {},
     "output_type": "display_data"
    }
   ],
   "source": [
    "fig = px.line(recon_acc_df, x='Condition', y=\"Decoding Accuracy\", color='Patient', width=800, height=600, color_discrete_sequence=px.colors.qualitative.Plotly[1:])\n",
    "fig.add_traces(px.box(recon_acc_df, x='Condition', y=\"Decoding Accuracy\").data)\n",
    "\n",
    "fig.add_hline(y=1/4, line_dash='dash', line_color='grey', annotation_text='Chance', annotation_position='top right')\n",
    "fig.update_layout(\n",
    "    plot_bgcolor='white',\n",
    "    legend=dict(\n",
    "        orientation='h',\n",
    "        yanchor='top',\n",
    "        y=0.98,\n",
    "        xanchor='left',\n",
    "        x=0.02,\n",
    "        title_text=''\n",
    "    ),\n",
    "    title_text='Cross-patient articulator decoding',\n",
    "    title_x=0.5,\n",
    "    font=dict(size=18, family='Arial')\n",
    ")\n",
    "fig.update_xaxes(\n",
    "    title='',\n",
    "    mirror=False,\n",
    "    ticks='outside',\n",
    "    showline=True,\n",
    "    linecolor='black',\n",
    "    showgrid=False,\n",
    "    range=[-0.45, 2.65],\n",
    ")\n",
    "fig.update_yaxes(\n",
    "    title='Articulator decoding accuracy',\n",
    "    mirror=False,\n",
    "    ticks='outside',\n",
    "    showline=True,\n",
    "    linecolor='black',\n",
    "    showgrid=False,\n",
    "    range=[-0.005, 0.85]\n",
    ")\n",
    "\n",
    "fig.show()"
   ]
  },
  {
   "cell_type": "markdown",
   "metadata": {},
   "source": [
    "Stats for comparing across distributions"
   ]
  },
  {
   "cell_type": "code",
   "execution_count": 13,
   "metadata": {},
   "outputs": [
    {
     "name": "stdout",
     "output_type": "stream",
     "text": [
      "Within-Patient vs. Reconstruction in S14 Space (Aligned):\n",
      "0.791958041958042\n",
      "Reconstruction in S14 Space (Aligned) vs. Reconstruction in S14 Space (Unaligned):\n",
      "0.0017482517482517483\n",
      "Within-Patient vs. Reconstruction in S14 Space (Unaligned):\n",
      "0.004370629370629371\n"
     ]
    }
   ],
   "source": [
    "recon_acc_pvals = []\n",
    "\n",
    "wp = recon_acc_df[recon_acc_df['Condition'] == 'Within-Patient']['Decoding Accuracy']\n",
    "recon_algn = recon_acc_df[recon_acc_df['Condition'] == 'Aligned reconstruction']['Decoding Accuracy']\n",
    "wp_recon_res = stats.permutation_test((wp, recon_algn), mean_stat, n_resamples=np.inf, vectorized=True)\n",
    "recon_acc_pvals.append(wp_recon_res.pvalue)\n",
    "\n",
    "recon_null = recon_acc_df[recon_acc_df['Condition'] == 'Unaligned reconstruction']['Decoding Accuracy']\n",
    "algn_null_res = stats.permutation_test((recon_algn, recon_null), mean_stat, n_resamples=np.inf, vectorized=True)\n",
    "recon_acc_pvals.append(algn_null_res.pvalue)\n",
    "\n",
    "wp_null_res = stats.permutation_test((wp, recon_null), mean_stat, n_resamples=np.inf, vectorized=True)\n",
    "recon_acc_pvals.append(wp_null_res.pvalue)\n",
    "\n",
    "recon_acc_pvals_corr = fdrcorrection(recon_acc_pvals)\n",
    "\n",
    "print('Within-Patient vs. Reconstruction in S14 Space (Aligned):')\n",
    "print(recon_acc_pvals_corr[1][0])\n",
    "\n",
    "print('Reconstruction in S14 Space (Aligned) vs. Reconstruction in S14 Space (Unaligned):')\n",
    "print(recon_acc_pvals_corr[1][1])\n",
    "\n",
    "print('Within-Patient vs. Reconstruction in S14 Space (Unaligned):')\n",
    "print(recon_acc_pvals_corr[1][2])"
   ]
  },
  {
   "cell_type": "markdown",
   "metadata": {},
   "source": [
    "Stats for comparing distributions to chance"
   ]
  },
  {
   "cell_type": "code",
   "execution_count": null,
   "metadata": {},
   "outputs": [
    {
     "name": "stdout",
     "output_type": "stream",
     "text": [
      "Within-Patient vs. Chance:\n",
      "Wilcoxon: statistic = 1.0, p = 0.03125\n",
      "Reconstruction in S14 Space (Aligned) vs. Chance:\n",
      "Wilcoxon: statistic = 0.0, p = 0.015625\n",
      "Reconstruction in S14 Space (Unaligned) vs. Chance:\n",
      "Wilcoxon: statistic = 4.0, p = 0.109375\n",
      "### FDR-correction ###\n",
      "Within-Patient vs. Chance:\n",
      "0.046875\n",
      "Reconstruction in S14 Space (Aligned) vs. Chance:\n",
      "0.046875\n",
      "Reconstruction in S14 Space (Unaligned) vs. Chance:\n",
      "0.109375\n"
     ]
    }
   ],
   "source": [
    "chance = 0.25\n",
    "\n",
    "test_fn = stats.wilcoxon\n",
    "wp_chance = recon_acc_df[recon_acc_df['Condition'] == 'Within-Patient']['Decoding Accuracy'] - chance\n",
    "recon_algn_chance = recon_acc_df[recon_acc_df['Condition'] == 'Aligned reconstruction']['Decoding Accuracy'] - chance\n",
    "recon_null_chance = recon_acc_df[recon_acc_df['Condition'] == 'Unaligned reconstruction']['Decoding Accuracy'] - chance\n",
    "args = ()\n",
    "\n",
    "recon_acc_chance_pvals = []\n",
    "\n",
    "print('Within-Patient vs. Chance:')\n",
    "wp_chance_res = test_fn(wp_chance, *args)\n",
    "print(f'Wilcoxon: statistic = {wp_chance_res.statistic}, p = {wp_chance_res.pvalue}')\n",
    "recon_acc_chance_pvals.append(wp_chance_res.pvalue)\n",
    "\n",
    "print('Reconstruction in S14 Space (Aligned) vs. Chance:')\n",
    "recon_algn_chance_res = test_fn(recon_algn_chance, *args)\n",
    "print(f'Wilcoxon: statistic = {recon_algn_chance_res.statistic}, p = {recon_algn_chance_res.pvalue}')\n",
    "recon_acc_chance_pvals.append(recon_algn_chance_res.pvalue)\n",
    "\n",
    "print('Reconstruction in S14 Space (Unaligned) vs. Chance:')\n",
    "recon_null_chance_res = test_fn(recon_null_chance, *args)\n",
    "print(f'Wilcoxon: statistic = {recon_null_chance_res.statistic}, p = {recon_null_chance_res.pvalue}')\n",
    "recon_acc_chance_pvals.append(recon_null_chance_res.pvalue)\n",
    "\n",
    "recon_acc_chance_pvals_corr = fdrcorrection(recon_acc_chance_pvals)\n",
    "\n",
    "print('### FDR-correction ###')\n",
    "print('Within-Patient vs. Chance:')\n",
    "print(recon_acc_chance_pvals_corr[1][0])\n",
    "\n",
    "print('Reconstruction in S14 Space (Aligned) vs. Chance:')\n",
    "print(recon_acc_chance_pvals_corr[1][1])\n",
    "\n",
    "print('Reconstruction in S14 Space (Unaligned) vs. Chance:')\n",
    "print(recon_acc_chance_pvals_corr[1][2])"
   ]
  }
 ],
 "metadata": {
  "kernelspec": {
   "display_name": "micro_decode",
   "language": "python",
   "name": "python3"
  },
  "language_info": {
   "codemirror_mode": {
    "name": "ipython",
    "version": 3
   },
   "file_extension": ".py",
   "mimetype": "text/x-python",
   "name": "python",
   "nbconvert_exporter": "python",
   "pygments_lexer": "ipython3",
   "version": "3.13.4"
  }
 },
 "nbformat": 4,
 "nbformat_minor": 2
}
