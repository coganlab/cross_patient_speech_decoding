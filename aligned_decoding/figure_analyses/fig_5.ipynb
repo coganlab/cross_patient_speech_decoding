{
 "cells": [
  {
   "cell_type": "markdown",
   "metadata": {},
   "source": [
    "# Imports"
   ]
  },
  {
   "cell_type": "code",
   "execution_count": 2,
   "metadata": {},
   "outputs": [],
   "source": [
    "import sys\n",
    "sys.path.append('..')"
   ]
  },
  {
   "cell_type": "code",
   "execution_count": 3,
   "metadata": {},
   "outputs": [],
   "source": [
    "# analysis\n",
    "import numpy as np\n",
    "import pandas as pd\n",
    "import scipy.io as sio\n",
    "import scipy.stats as stats\n",
    "from sklearn.decomposition import PCA\n",
    "from sklearn.metrics import confusion_matrix\n",
    "from tqdm import tqdm\n",
    "from statsmodels.stats.multitest import fdrcorrection\n",
    "import h5py\n",
    "\n",
    "# plotting\n",
    "import matplotlib.pyplot as plt\n",
    "import matplotlib as mpl\n",
    "import seaborn as sns\n",
    "import plotly.express as px\n",
    "\n",
    "# local\n",
    "import alignment.alignment_utils as utils\n",
    "from alignment.AlignCCA import AlignCCA\n",
    "from processing_utils.poisson_disk_sampling import pitch_subsample_sig_channels\n",
    "from processing_utils.grid_subsampling import grid_subsample_sig_channels\n",
    "from processing_utils.spatial_avg_subsampling import spatial_avg_sig_channels, spatial_avg_data\n",
    "\n",
    "%matplotlib inline"
   ]
  },
  {
   "cell_type": "code",
   "execution_count": 4,
   "metadata": {},
   "outputs": [],
   "source": [
    "def mean_stat(a, b, axis=0):\n",
    "    return np.mean(a, axis=axis) - np.mean(b, axis=axis)"
   ]
  },
  {
   "cell_type": "markdown",
   "metadata": {},
   "source": [
    "# Data Loading"
   ]
  },
  {
   "cell_type": "code",
   "execution_count": 65,
   "metadata": {},
   "outputs": [],
   "source": [
    "DECODE_PATH = '../data/results/decoding/'"
   ]
  },
  {
   "cell_type": "markdown",
   "metadata": {},
   "source": [
    "### Real data"
   ]
  },
  {
   "cell_type": "code",
   "execution_count": 6,
   "metadata": {},
   "outputs": [],
   "source": [
    "paper_pt_dict = {'S14': 'S1', 'S26': 'S2', 'S33': 'S3', 'S22': 'S4', 'S23': 'S5', 'S39': 'S6', 'S58': 'S7', 'S62': 'S8'}"
   ]
  },
  {
   "cell_type": "code",
   "execution_count": 7,
   "metadata": {},
   "outputs": [],
   "source": [
    "DATA_PATH = '../data/'\n",
    "data_filename = DATA_PATH + 'pt_decoding_data_S62.pkl'\n",
    "savg_filename = DATA_PATH + 'pt_savg_data_S62.pkl'"
   ]
  },
  {
   "cell_type": "code",
   "execution_count": 8,
   "metadata": {},
   "outputs": [],
   "source": [
    "all_pt_dict = utils.load_pkl(data_filename)\n",
    "savg_pt_dict = utils.load_pkl(savg_filename)\n",
    "pt_names = list(all_pt_dict.keys())"
   ]
  },
  {
   "cell_type": "code",
   "execution_count": 9,
   "metadata": {},
   "outputs": [
    {
     "name": "stdout",
     "output_type": "stream",
     "text": [
      "['S14', 'S26', 'S23', 'S33', 'S22', 'S39', 'S58', 'S62']\n",
      "dict_keys(['ID', 'X1', 'X1_map', 'y1', 'X2', 'X2_map', 'y2', 'X3', 'X3_map', 'y3', 'y_full_phon', 'X_collapsed', 'y_phon_collapsed', 'y_artic_collapsed', 'pre_pts'])\n",
      "dict_keys(['X1', 'y1', 'X2', 'y2', 'X3', 'y3', 'y_full_phon', 'X_collapsed', 'y_phon_collapsed', 'y_artic_collapsed', 'pre_pts'])\n"
     ]
    }
   ],
   "source": [
    "print(pt_names)\n",
    "print(all_pt_dict[pt_names[0]].keys())\n",
    "print(savg_pt_dict[pt_names[0]].keys())\n",
    "# print([all_pt_dict[pt]['X1'].shape for pt in pt_names])"
   ]
  },
  {
   "cell_type": "code",
   "execution_count": 10,
   "metadata": {},
   "outputs": [],
   "source": [
    "all_pt_chan_data = {}\n",
    "for pt in pt_names:\n",
    "    temp = {}\n",
    "    temp['map'] = sio.loadmat(DATA_PATH + f'{pt}/{pt}_channelMap.mat'.format(pt))['chanMap']\n",
    "    # if pt == 'S58':\n",
    "    #     temp['sig'] = sio.loadmat(DATA_PATH + f'{pt}/{pt}_sigChannel.mat'.format(pt))['sigChannel'] - 2 # this is so weird\n",
    "    # else:\n",
    "    temp['sig'] = sio.loadmat(DATA_PATH + f'{pt}/{pt}_sigChannel.mat'.format(pt))['sigChannel'] - 1\n",
    "    all_pt_chan_data[pt] = temp"
   ]
  },
  {
   "cell_type": "markdown",
   "metadata": {},
   "source": [
    "## Phoneme label processing functions"
   ]
  },
  {
   "cell_type": "code",
   "execution_count": 11,
   "metadata": {},
   "outputs": [],
   "source": [
    "phon_labels = np.array(['a', 'ae', 'i', 'u', 'b', 'p', 'v', 'g', 'k'])\n",
    "artic_labels = np.array(['low', 'high', 'labial', 'dorsal'])\n",
    "phon_to_artic_dict = {1:1, 2:1, 3:2, 4:2, 5:3, 6:3, 7:3, 8:4, 9:4}"
   ]
  },
  {
   "cell_type": "code",
   "execution_count": 12,
   "metadata": {},
   "outputs": [],
   "source": [
    "def phon_to_artic(phon_idx, phon_to_artic_conv):\n",
    "    return phon_to_artic_conv[phon_idx]\n",
    "\n",
    "def phon_to_artic_seq(phon_seq, phon_to_artic_conv):\n",
    "    flat_seq = phon_seq.flatten()\n",
    "    artic_conv = np.array([phon_to_artic(phon_idx, phon_to_artic_conv) for phon_idx in flat_seq])\n",
    "    return np.reshape(artic_conv, phon_seq.shape)\n",
    "\n",
    "def phon2artic(phon):\n",
    "    return artic_labels[phon_to_artic_dict[int(phon)] - 1]\n",
    "\n",
    "def phon2artic_seq(phon_seq):\n",
    "    return '_'.join([phon2artic(phon) for phon in phon_seq])\n",
    "\n",
    "def labels2cv_seq(labels):\n",
    "    labels_str = []\n",
    "    for lab in labels:\n",
    "        labels_str.append(labels2cv(lab))\n",
    "    return np.array(labels_str)\n",
    "\n",
    "def labels2cv(str):\n",
    "    middle_val = str[1]\n",
    "    if int(middle_val) < 5:\n",
    "        return 'CVC'\n",
    "    else:\n",
    "        return 'VCV'\n",
    "\n",
    "def articic_nums2seq(artic_num_seqs):\n",
    "    return np.array([artic_labels[artic_num-1] for artic_num in artic_num_seqs])"
   ]
  },
  {
   "cell_type": "markdown",
   "metadata": {},
   "source": [
    "## Data Processing"
   ]
  },
  {
   "cell_type": "code",
   "execution_count": 13,
   "metadata": {},
   "outputs": [],
   "source": [
    "p_ind = 1\n",
    "\n",
    "all_pt_traces = {}\n",
    "all_pt_phon_labels = {}\n",
    "all_pt_phon_seqs = {}\n",
    "all_pt_phon_seqs_str = {}\n",
    "all_pt_artic_labels = {}\n",
    "all_pt_artic_seqs = {}\n",
    "all_pt_artic_seqs_str = {}\n",
    "all_pt_cv_labels = {}\n",
    "for pt in pt_names:\n",
    "    pt_trace = all_pt_dict[pt][f'X{p_ind}']  ### (trials, time, channels)    \n",
    "    pt_phon_labels = all_pt_dict[pt][f'y{p_ind}']\n",
    "    pt_phon_seqs = all_pt_dict[pt]['y_full_phon']\n",
    "    pt_phon_seqs_str = utils.label_seq2str(pt_phon_seqs)\n",
    "    pt_artic_labels = phon_to_artic_seq(pt_phon_labels, phon_to_artic_dict)\n",
    "    pt_artic_seqs = phon_to_artic_seq(pt_phon_seqs, phon_to_artic_dict)\n",
    "    pt_artic_seqs_str = utils.label_seq2str(pt_artic_seqs)\n",
    "    pt_cv_labels = labels2cv_seq(pt_phon_seqs)\n",
    "\n",
    "    all_pt_traces[pt] = pt_trace\n",
    "    all_pt_phon_labels[pt] = pt_phon_labels\n",
    "    all_pt_phon_seqs[pt] = pt_phon_seqs\n",
    "    all_pt_phon_seqs_str[pt] = pt_phon_seqs_str\n",
    "    all_pt_artic_labels[pt] = pt_artic_labels\n",
    "    all_pt_artic_seqs[pt] = pt_artic_seqs\n",
    "    all_pt_artic_seqs_str[pt] = pt_artic_seqs_str\n",
    "    all_pt_cv_labels[pt] = pt_cv_labels"
   ]
  },
  {
   "cell_type": "markdown",
   "metadata": {},
   "source": [
    "Separate processing for separate spatial averaging data"
   ]
  },
  {
   "cell_type": "code",
   "execution_count": 14,
   "metadata": {},
   "outputs": [],
   "source": [
    "p_ind = 1\n",
    "contactSizes = ['8x8', '7x7', '6x6', '5x5', '4x4', '3x3', '2x2', '1x1']\n",
    "\n",
    "all_savg_traces = {}\n",
    "all_savg_phon_labels = {}\n",
    "all_savg_phon_seqs = {}\n",
    "all_savg_phon_seqs_str = {}\n",
    "all_savg_artic_labels = {}\n",
    "all_savg_artic_seqs = {}\n",
    "all_savg_artic_seqs_str = {}\n",
    "all_savg_cv_labels = {}\n",
    "for pt in pt_names:\n",
    "    savg_trace_dict = {}\n",
    "    for cs in contactSizes:\n",
    "        savg_trace_dict[cs] = savg_pt_dict[pt][f'X{p_ind}'][cs]  ### (trials, time, channels)\n",
    "    \n",
    "    pt_phon_labels = savg_pt_dict[pt][f'y{p_ind}']\n",
    "    pt_phon_seqs = savg_pt_dict[pt]['y_full_phon']\n",
    "    pt_phon_seqs_str = utils.label_seq2str(pt_phon_seqs)\n",
    "    pt_artic_labels = phon_to_artic_seq(pt_phon_labels, phon_to_artic_dict)\n",
    "    pt_artic_seqs = phon_to_artic_seq(pt_phon_seqs, phon_to_artic_dict)\n",
    "    pt_artic_seqs_str = utils.label_seq2str(pt_artic_seqs)\n",
    "    pt_cv_labels = labels2cv_seq(pt_phon_seqs)\n",
    "\n",
    "    all_savg_traces[pt] = savg_trace_dict\n",
    "    all_savg_phon_labels[pt] = pt_phon_labels\n",
    "    all_savg_phon_seqs[pt] = pt_phon_seqs\n",
    "    all_savg_phon_seqs_str[pt] = pt_phon_seqs_str\n",
    "    all_savg_artic_labels[pt] = pt_artic_labels\n",
    "    all_savg_artic_seqs[pt] = pt_artic_seqs\n",
    "    all_savg_artic_seqs_str[pt] = pt_artic_seqs_str\n",
    "    all_savg_cv_labels[pt] = pt_cv_labels\n",
    "\n"
   ]
  },
  {
   "cell_type": "code",
   "execution_count": 15,
   "metadata": {},
   "outputs": [],
   "source": [
    "n_time = all_pt_traces['S14'].shape[1]\n",
    "t = np.linspace(-0.5, 0.5 - 1/n_time, n_time)"
   ]
  },
  {
   "cell_type": "markdown",
   "metadata": {},
   "source": [
    "# Data Visualization"
   ]
  },
  {
   "cell_type": "markdown",
   "metadata": {},
   "source": [
    "### Utils"
   ]
  },
  {
   "cell_type": "code",
   "execution_count": 16,
   "metadata": {},
   "outputs": [],
   "source": [
    "px_colors = px.colors.qualitative.Plotly"
   ]
  },
  {
   "cell_type": "code",
   "execution_count": 17,
   "metadata": {},
   "outputs": [],
   "source": [
    "sns.set_theme(font='Arial', font_scale=1.2, style='white', palette=px_colors)\n",
    "sns.set_style(rc={\n",
    "    # 'axes.edgecolor': 'gray',\n",
    "    'axes.linewidth': 0.5,\n",
    "    'xtick.bottom': True,\n",
    "    'ytick.left': True,\n",
    "    })"
   ]
  },
  {
   "cell_type": "code",
   "execution_count": 18,
   "metadata": {},
   "outputs": [],
   "source": [
    "from matplotlib.colors import LinearSegmentedColormap\n",
    "\n",
    "parula_data = cm_data = [[0.2422, 0.1504, 0.6603],\n",
    "[0.2444, 0.1534, 0.6728],\n",
    "[0.2464, 0.1569, 0.6847],\n",
    "[0.2484, 0.1607, 0.6961],\n",
    "[0.2503, 0.1648, 0.7071],\n",
    "[0.2522, 0.1689, 0.7179],\n",
    "[0.254, 0.1732, 0.7286],\n",
    "[0.2558, 0.1773, 0.7393],\n",
    "[0.2576, 0.1814, 0.7501],\n",
    "[0.2594, 0.1854, 0.761],\n",
    "[0.2611, 0.1893, 0.7719],\n",
    "[0.2628, 0.1932, 0.7828],\n",
    "[0.2645, 0.1972, 0.7937],\n",
    "[0.2661, 0.2011, 0.8043],\n",
    "[0.2676, 0.2052, 0.8148],\n",
    "[0.2691, 0.2094, 0.8249],\n",
    "[0.2704, 0.2138, 0.8346],\n",
    "[0.2717, 0.2184, 0.8439],\n",
    "[0.2729, 0.2231, 0.8528],\n",
    "[0.274, 0.228, 0.8612],\n",
    "[0.2749, 0.233, 0.8692],\n",
    "[0.2758, 0.2382, 0.8767],\n",
    "[0.2766, 0.2435, 0.884],\n",
    "[0.2774, 0.2489, 0.8908],\n",
    "[0.2781, 0.2543, 0.8973],\n",
    "[0.2788, 0.2598, 0.9035],\n",
    "[0.2794, 0.2653, 0.9094],\n",
    "[0.2798, 0.2708, 0.915],\n",
    "[0.2802, 0.2764, 0.9204],\n",
    "[0.2806, 0.2819, 0.9255],\n",
    "[0.2809, 0.2875, 0.9305],\n",
    "[0.2811, 0.293, 0.9352],\n",
    "[0.2813, 0.2985, 0.9397],\n",
    "[0.2814, 0.304, 0.9441],\n",
    "[0.2814, 0.3095, 0.9483],\n",
    "[0.2813, 0.315, 0.9524],\n",
    "[0.2811, 0.3204, 0.9563],\n",
    "[0.2809, 0.3259, 0.96],\n",
    "[0.2807, 0.3313, 0.9636],\n",
    "[0.2803, 0.3367, 0.967],\n",
    "[0.2798, 0.3421, 0.9702],\n",
    "[0.2791, 0.3475, 0.9733],\n",
    "[0.2784, 0.3529, 0.9763],\n",
    "[0.2776, 0.3583, 0.9791],\n",
    "[0.2766, 0.3638, 0.9817],\n",
    "[0.2754, 0.3693, 0.984],\n",
    "[0.2741, 0.3748, 0.9862],\n",
    "[0.2726, 0.3804, 0.9881],\n",
    "[0.271, 0.386, 0.9898],\n",
    "[0.2691, 0.3916, 0.9912],\n",
    "[0.267, 0.3973, 0.9924],\n",
    "[0.2647, 0.403, 0.9935],\n",
    "[0.2621, 0.4088, 0.9946],\n",
    "[0.2591, 0.4145, 0.9955],\n",
    "[0.2556, 0.4203, 0.9965],\n",
    "[0.2517, 0.4261, 0.9974],\n",
    "[0.2473, 0.4319, 0.9983],\n",
    "[0.2424, 0.4378, 0.9991],\n",
    "[0.2369, 0.4437, 0.9996],\n",
    "[0.2311, 0.4497, 0.9995],\n",
    "[0.225, 0.4559, 0.9985],\n",
    "[0.2189, 0.462, 0.9968],\n",
    "[0.2128, 0.4682, 0.9948],\n",
    "[0.2066, 0.4743, 0.9926],\n",
    "[0.2006, 0.4803, 0.9906],\n",
    "[0.195, 0.4861, 0.9887],\n",
    "[0.1903, 0.4919, 0.9867],\n",
    "[0.1869, 0.4975, 0.9844],\n",
    "[0.1847, 0.503, 0.9819],\n",
    "[0.1831, 0.5084, 0.9793],\n",
    "[0.1818, 0.5138, 0.9766],\n",
    "[0.1806, 0.5191, 0.9738],\n",
    "[0.1795, 0.5244, 0.9709],\n",
    "[0.1785, 0.5296, 0.9677],\n",
    "[0.1778, 0.5349, 0.9641],\n",
    "[0.1773, 0.5401, 0.9602],\n",
    "[0.1768, 0.5452, 0.956],\n",
    "[0.1764, 0.5504, 0.9516],\n",
    "[0.1755, 0.5554, 0.9473],\n",
    "[0.174, 0.5605, 0.9432],\n",
    "[0.1716, 0.5655, 0.9393],\n",
    "[0.1686, 0.5705, 0.9357],\n",
    "[0.1649, 0.5755, 0.9323],\n",
    "[0.161, 0.5805, 0.9289],\n",
    "[0.1573, 0.5854, 0.9254],\n",
    "[0.154, 0.5902, 0.9218],\n",
    "[0.1513, 0.595, 0.9182],\n",
    "[0.1492, 0.5997, 0.9147],\n",
    "[0.1475, 0.6043, 0.9113],\n",
    "[0.1461, 0.6089, 0.908],\n",
    "[0.1446, 0.6135, 0.905],\n",
    "[0.1429, 0.618, 0.9022],\n",
    "[0.1408, 0.6226, 0.8998],\n",
    "[0.1383, 0.6272, 0.8975],\n",
    "[0.1354, 0.6317, 0.8953],\n",
    "[0.1321, 0.6363, 0.8932],\n",
    "[0.1288, 0.6408, 0.891],\n",
    "[0.1253, 0.6453, 0.8887],\n",
    "[0.1219, 0.6497, 0.8862],\n",
    "[0.1185, 0.6541, 0.8834],\n",
    "[0.1152, 0.6584, 0.8804],\n",
    "[0.1119, 0.6627, 0.877],\n",
    "[0.1085, 0.6669, 0.8734],\n",
    "[0.1048, 0.671, 0.8695],\n",
    "[0.1009, 0.675, 0.8653],\n",
    "[0.0964, 0.6789, 0.8609],\n",
    "[0.0914, 0.6828, 0.8562],\n",
    "[0.0855, 0.6865, 0.8513],\n",
    "[0.0789, 0.6902, 0.8462],\n",
    "[0.0713, 0.6938, 0.8409],\n",
    "[0.0628, 0.6972, 0.8355],\n",
    "[0.0535, 0.7006, 0.8299],\n",
    "[0.0433, 0.7039, 0.8242],\n",
    "[0.0328, 0.7071, 0.8183],\n",
    "[0.0234, 0.7103, 0.8124],\n",
    "[0.0155, 0.7133, 0.8064],\n",
    "[0.0091, 0.7163, 0.8003],\n",
    "[0.0046, 0.7192, 0.7941],\n",
    "[0.0019, 0.722, 0.7878],\n",
    "[0.0009, 0.7248, 0.7815],\n",
    "[0.0018, 0.7275, 0.7752],\n",
    "[0.0046, 0.7301, 0.7688],\n",
    "[0.0094, 0.7327, 0.7623],\n",
    "[0.0162, 0.7352, 0.7558],\n",
    "[0.0253, 0.7376, 0.7492],\n",
    "[0.0369, 0.74, 0.7426],\n",
    "[0.0504, 0.7423, 0.7359],\n",
    "[0.0638, 0.7446, 0.7292],\n",
    "[0.077, 0.7468, 0.7224],\n",
    "[0.0899, 0.7489, 0.7156],\n",
    "[0.1023, 0.751, 0.7088],\n",
    "[0.1141, 0.7531, 0.7019],\n",
    "[0.1252, 0.7552, 0.695],\n",
    "[0.1354, 0.7572, 0.6881],\n",
    "[0.1448, 0.7593, 0.6812],\n",
    "[0.1532, 0.7614, 0.6741],\n",
    "[0.1609, 0.7635, 0.6671],\n",
    "[0.1678, 0.7656, 0.6599],\n",
    "[0.1741, 0.7678, 0.6527],\n",
    "[0.1799, 0.7699, 0.6454],\n",
    "[0.1853, 0.7721, 0.6379],\n",
    "[0.1905, 0.7743, 0.6303],\n",
    "[0.1954, 0.7765, 0.6225],\n",
    "[0.2003, 0.7787, 0.6146],\n",
    "[0.2061, 0.7808, 0.6065],\n",
    "[0.2118, 0.7828, 0.5983],\n",
    "[0.2178, 0.7849, 0.5899],\n",
    "[0.2244, 0.7869, 0.5813],\n",
    "[0.2318, 0.7887, 0.5725],\n",
    "[0.2401, 0.7905, 0.5636],\n",
    "[0.2491, 0.7922, 0.5546],\n",
    "[0.2589, 0.7937, 0.5454],\n",
    "[0.2695, 0.7951, 0.536],\n",
    "[0.2809, 0.7964, 0.5266],\n",
    "[0.2929, 0.7975, 0.517],\n",
    "[0.3052, 0.7985, 0.5074],\n",
    "[0.3176, 0.7994, 0.4975],\n",
    "[0.3301, 0.8002, 0.4876],\n",
    "[0.3424, 0.8009, 0.4774],\n",
    "[0.3548, 0.8016, 0.4669],\n",
    "[0.3671, 0.8021, 0.4563],\n",
    "[0.3795, 0.8026, 0.4454],\n",
    "[0.3921, 0.8029, 0.4344],\n",
    "[0.405, 0.8031, 0.4233],\n",
    "[0.4184, 0.803, 0.4122],\n",
    "[0.4322, 0.8028, 0.4013],\n",
    "[0.4463, 0.8024, 0.3904],\n",
    "[0.4608, 0.8018, 0.3797],\n",
    "[0.4753, 0.8011, 0.3691],\n",
    "[0.4899, 0.8002, 0.3586],\n",
    "[0.5044, 0.7993, 0.348],\n",
    "[0.5187, 0.7982, 0.3374],\n",
    "[0.5329, 0.797, 0.3267],\n",
    "[0.547, 0.7957, 0.3159],\n",
    "[0.5609, 0.7943, 0.305],\n",
    "[0.5748, 0.7929, 0.2941],\n",
    "[0.5886, 0.7913, 0.2833],\n",
    "[0.6024, 0.7896, 0.2726],\n",
    "[0.6161, 0.7878, 0.2622],\n",
    "[0.6297, 0.7859, 0.2521],\n",
    "[0.6433, 0.7839, 0.2423],\n",
    "[0.6567, 0.7818, 0.2329],\n",
    "[0.6701, 0.7796, 0.2239],\n",
    "[0.6833, 0.7773, 0.2155],\n",
    "[0.6963, 0.775, 0.2075],\n",
    "[0.7091, 0.7727, 0.1998],\n",
    "[0.7218, 0.7703, 0.1924],\n",
    "[0.7344, 0.7679, 0.1852],\n",
    "[0.7468, 0.7654, 0.1782],\n",
    "[0.759, 0.7629, 0.1717],\n",
    "[0.771, 0.7604, 0.1658],\n",
    "[0.7829, 0.7579, 0.1608],\n",
    "[0.7945, 0.7554, 0.157],\n",
    "[0.806, 0.7529, 0.1546],\n",
    "[0.8172, 0.7505, 0.1535],\n",
    "[0.8281, 0.7481, 0.1536],\n",
    "[0.8389, 0.7457, 0.1546],\n",
    "[0.8495, 0.7435, 0.1564],\n",
    "[0.86, 0.7413, 0.1587],\n",
    "[0.8703, 0.7392, 0.1615],\n",
    "[0.8804, 0.7372, 0.165],\n",
    "[0.8903, 0.7353, 0.1695],\n",
    "[0.9, 0.7336, 0.1749],\n",
    "[0.9093, 0.7321, 0.1815],\n",
    "[0.9184, 0.7308, 0.189],\n",
    "[0.9272, 0.7298, 0.1973],\n",
    "[0.9357, 0.729, 0.2061],\n",
    "[0.944, 0.7285, 0.2151],\n",
    "[0.9523, 0.7284, 0.2237],\n",
    "[0.9606, 0.7285, 0.2312],\n",
    "[0.9689, 0.7292, 0.2373],\n",
    "[0.977, 0.7304, 0.2418],\n",
    "[0.9842, 0.733, 0.2446],\n",
    "[0.99, 0.7365, 0.2429],\n",
    "[0.9946, 0.7407, 0.2394],\n",
    "[0.9966, 0.7458, 0.2351],\n",
    "[0.9971, 0.7513, 0.2309],\n",
    "[0.9972, 0.7569, 0.2267],\n",
    "[0.9971, 0.7626, 0.2224],\n",
    "[0.9969, 0.7683, 0.2181],\n",
    "[0.9966, 0.774, 0.2138],\n",
    "[0.9962, 0.7798, 0.2095],\n",
    "[0.9957, 0.7856, 0.2053],\n",
    "[0.9949, 0.7915, 0.2012],\n",
    "[0.9938, 0.7974, 0.1974],\n",
    "[0.9923, 0.8034, 0.1939],\n",
    "[0.9906, 0.8095, 0.1906],\n",
    "[0.9885, 0.8156, 0.1875],\n",
    "[0.9861, 0.8218, 0.1846],\n",
    "[0.9835, 0.828, 0.1817],\n",
    "[0.9807, 0.8342, 0.1787],\n",
    "[0.9778, 0.8404, 0.1757],\n",
    "[0.9748, 0.8467, 0.1726],\n",
    "[0.972, 0.8529, 0.1695],\n",
    "[0.9694, 0.8591, 0.1665],\n",
    "[0.9671, 0.8654, 0.1636],\n",
    "[0.9651, 0.8716, 0.1608],\n",
    "[0.9634, 0.8778, 0.1582],\n",
    "[0.9619, 0.884, 0.1557],\n",
    "[0.9608, 0.8902, 0.1532],\n",
    "[0.9601, 0.8963, 0.1507],\n",
    "[0.9596, 0.9023, 0.148],\n",
    "[0.9595, 0.9084, 0.145],\n",
    "[0.9597, 0.9143, 0.1418],\n",
    "[0.9601, 0.9203, 0.1382],\n",
    "[0.9608, 0.9262, 0.1344],\n",
    "[0.9618, 0.932, 0.1304],\n",
    "[0.9629, 0.9379, 0.1261],\n",
    "[0.9642, 0.9437, 0.1216],\n",
    "[0.9657, 0.9494, 0.1168],\n",
    "[0.9674, 0.9552, 0.1116],\n",
    "[0.9692, 0.9609, 0.1061],\n",
    "[0.9711, 0.9667, 0.1001],\n",
    "[0.973, 0.9724, 0.0938],\n",
    "[0.9749, 0.9782, 0.0872],\n",
    "[0.9769, 0.9839, 0.0805]]\n",
    "\n",
    "parula_map = LinearSegmentedColormap.from_list('parula', parula_data)"
   ]
  },
  {
   "cell_type": "code",
   "execution_count": 19,
   "metadata": {},
   "outputs": [],
   "source": [
    "from mpl_toolkits.axes_grid1 import make_axes_locatable\n",
    "\n",
    "def chan_disp(data, chan_map, title, label, figsize=(8, 6), cbar_lower=None, cbar_upper=None, cmap=None):\n",
    "\n",
    "    mean_val = np.nanmean(data)\n",
    "    std_val = np.nanstd(data)\n",
    "    std_mult = 3\n",
    "    # clim = [max(0, mean_val - std_mult*std_val), mean_val + std_mult*std_val]\n",
    "    if cbar_lower is None:\n",
    "        cbar_lower = mean_val - std_mult*std_val\n",
    "    if cbar_upper is None:\n",
    "        cbar_upper = mean_val + std_mult*std_val\n",
    "    clim = [cbar_lower, cbar_upper]\n",
    "\n",
    "    if cmap is None:\n",
    "        cmap = parula_map\n",
    "\n",
    "    chan_data = np.array([data[int(i)] if not np.isnan(i) else np.nan for i in (chan_map.flatten()-1)])\n",
    "    chan_data = chan_data.reshape(chan_map.shape)\n",
    "    f = plt.figure(figsize=figsize)\n",
    "    im = plt.imshow(chan_data, cmap=parula_map)\n",
    "    im.set_clim(clim[0], clim[1])\n",
    "    # plt.gca().invert_yaxis()\n",
    "    # plt.contourf(chan_data, cmap='viridis')\n",
    "    plt.xticks([])\n",
    "    plt.yticks([])\n",
    "    plt.title(title)\n",
    "\n",
    "    divider = make_axes_locatable(plt.gca())\n",
    "    cax = divider.append_axes('right', size='5%', pad=0.05)\n",
    "\n",
    "    cbar = plt.colorbar(im, cax=cax)\n",
    "    cbar.set_label(label)\n",
    "    cbar.outline.set_visible(False)\n",
    "\n",
    "    sns.despine(left=True, bottom=True)\n",
    "    \n",
    "    plt.show()\n",
    "\n",
    "def chan_disp_seq(data, chan_map, t, t_ranges, labs, title, label, figsize=(3, 6), cbar_pos=[0.81, 0.56, 0.01, 0.3], sup_pos=0.95, cbar_lower=None, cbar_upper=None):\n",
    "    f, tot_axs = plt.subplots(len(labs), len(t_ranges), figsize=(figsize[0]*len(t_ranges), figsize[1]*len(labs)))\n",
    "\n",
    "    if len(labs) == 1:\n",
    "        tot_axs = tot_axs[np.newaxis,:]\n",
    "\n",
    "    mean_val = np.nanmean(data)\n",
    "    std_val = np.nanstd(data)\n",
    "    std_mult = 3\n",
    "    # clim = [max(0, mean_val - std_mult*std_val), mean_val + std_mult*std_val]\n",
    "    if cbar_lower is None:\n",
    "        cbar_lower = mean_val - std_mult*std_val\n",
    "    if cbar_upper is None:\n",
    "        cbar_upper = mean_val + std_mult*std_val\n",
    "    clim = [cbar_lower, cbar_upper]\n",
    "\n",
    "    for j, lab in enumerate(labs):\n",
    "        lab_data = data[j]\n",
    "        axs = tot_axs[j]\n",
    "        for i, t_range in enumerate(t_ranges):\n",
    "            t_inds = np.where((t >= t_range[0]) & (t < t_range[1]))[0]\n",
    "            chan_data = np.array([lab_data[t_inds,:].mean(axis=0)[int(k)] if not np.isnan(k) else np.nan for k in (chan_map.flatten()-1)])\n",
    "            chan_data = chan_data.reshape(chan_map.shape)\n",
    "            im = axs[i].imshow(chan_data, cmap=parula_map)\n",
    "            im.set_clim(clim[0], clim[1])\n",
    "            if i==0:\n",
    "                axs[i].set_ylabel(lab)\n",
    "            if j==0:\n",
    "                axs[i].set_title(f'{t_range[0]} -> {t_range[1]}s')\n",
    "            axs[i].set_xticks([])\n",
    "            axs[i].set_yticks([])\n",
    "            \n",
    "\n",
    "        # divider = make_axes_locatable(plt.gca())\n",
    "        # cax = divider.append_axes('right', size='5%', pad=0.05)\n",
    "\n",
    "        # cbar = plt.colorbar(im, cax=cax)\n",
    "        \n",
    "        # cbar.set_label(label)\n",
    "    f.subplots_adjust(right=0.8)\n",
    "    cbar_ax = f.add_axes(cbar_pos)\n",
    "    cbar = f.colorbar(im, cax=cbar_ax)\n",
    "    cbar.set_label(label)\n",
    "\n",
    "    # f.tight_layout(rect=[0, 0.03, 1, 0.95])\n",
    "    f.suptitle(title, y=sup_pos)\n",
    "    plt.show()"
   ]
  },
  {
   "cell_type": "code",
   "execution_count": 20,
   "metadata": {},
   "outputs": [],
   "source": [
    "def rgb2hex(r,g,b):\n",
    "    return \"#{:02x}{:02x}{:02x}\".format(r,g,b)"
   ]
  },
  {
   "cell_type": "code",
   "execution_count": 21,
   "metadata": {},
   "outputs": [],
   "source": [
    "def get_ci_data(ax):\n",
    "    paths = [child for child in ax.get_children() if isinstance(child, mpl.collections.PolyCollection)]\n",
    "    ci_data = []\n",
    "    for path in paths:\n",
    "        vertices = path.get_paths()[0].vertices  # Array of shape (n, 2)\n",
    "\n",
    "        # ci y coords - contains lower bounds then upper bounds in 1D array\n",
    "        ci_vals_tot = vertices[:-1, 1]\n",
    "\n",
    "        ci_vals = np.zeros((200, 2))\n",
    "        ci_vals[:,0] = ci_vals_tot[1:201]\n",
    "        ci_vals[:,1] = ci_vals_tot[201:-1]\n",
    "        ci_vals[:,1] = ci_vals[:,1][::-1] # reverse the order of the second half\n",
    "        ci_data.append(ci_vals)\n",
    "        \n",
    "    return ci_data"
   ]
  },
  {
   "cell_type": "code",
   "execution_count": 22,
   "metadata": {},
   "outputs": [],
   "source": [
    "def pt_corr(target, to_corr, target_labels, to_corr_labels, n_comp=25, t_range=[-0.25, 0.25]):\n",
    "    min_dim = np.min([target.shape[-1], to_corr.shape[-1], n_comp])\n",
    "    # get data only around speech onset\n",
    "    t_inds = np.where((t >= t_range[0]) & (t < t_range[1]))[0]\n",
    "    target = target[:, t_inds]\n",
    "    to_corr = to_corr[:, t_inds]\n",
    "    cnd_avg_data = utils.extract_group_conditions([target, to_corr], [target_labels, to_corr_labels])\n",
    "    n_cnds = cnd_avg_data[0].shape[0]\n",
    "    cnd_r = np.zeros(n_cnds)\n",
    "    for i in range(cnd_avg_data[0].shape[0]):\n",
    "        target_avg = cnd_avg_data[0][i,:,:min_dim]\n",
    "        to_corr_avg = cnd_avg_data[1][i,:,:min_dim]\n",
    "\n",
    "        r_vals = np.zeros(min_dim)\n",
    "        for j in range(min_dim):\n",
    "            r_vals[j] = stats.pearsonr(target_avg[:,j], to_corr_avg[:,j])[0]\n",
    "        cnd_r[i] = np.mean(r_vals)\n",
    "    return cnd_r\n",
    "\n",
    "def pt_corr_multi(target, to_corr_list, target_labels, to_corr_labels_list, n_comp=25, t_range=[-0.25, 0.25]):\n",
    "    cnd_r = []\n",
    "    for i, to_corr in enumerate(to_corr_list):\n",
    "        cnd_r.append(pt_corr(target, to_corr, target_labels, to_corr_labels_list[i], n_comp=n_comp, t_range=t_range))\n",
    "    return cnd_r"
   ]
  },
  {
   "cell_type": "code",
   "execution_count": 23,
   "metadata": {},
   "outputs": [],
   "source": [
    "def cmat_acc(y_true, y_pred):\n",
    "    cmat = confusion_matrix(y_true, y_pred)\n",
    "    acc_cmat = np.trace(cmat) / np.sum(cmat)\n",
    "    return acc_cmat\n",
    "\n",
    "def cmat_wrap(y_true_iter, y_pred_iter):\n",
    "    accs = []\n",
    "    for y_true, y_pred in zip(y_true_iter, y_pred_iter):\n",
    "        accs.append(cmat_acc(y_true, y_pred))\n",
    "    return np.array(accs)"
   ]
  },
  {
   "cell_type": "markdown",
   "metadata": {},
   "source": [
    "### Panel a"
   ]
  },
  {
   "cell_type": "markdown",
   "metadata": {},
   "source": [
    "#### Cross-patient correlation"
   ]
  },
  {
   "cell_type": "code",
   "execution_count": 53,
   "metadata": {},
   "outputs": [
    {
     "name": "stdout",
     "output_type": "stream",
     "text": [
      "##### Aligning to S14 (S1) #####\n",
      "Pitch 10\n"
     ]
    },
    {
     "name": "stderr",
     "output_type": "stream",
     "text": [
      "100%|██████████| 50/50 [00:25<00:00,  1.97it/s]\n"
     ]
    },
    {
     "name": "stdout",
     "output_type": "stream",
     "text": [
      "Pitch 9\n"
     ]
    },
    {
     "name": "stderr",
     "output_type": "stream",
     "text": [
      "100%|██████████| 50/50 [00:27<00:00,  1.83it/s]\n"
     ]
    },
    {
     "name": "stdout",
     "output_type": "stream",
     "text": [
      "Pitch 8\n"
     ]
    },
    {
     "name": "stderr",
     "output_type": "stream",
     "text": [
      "100%|██████████| 50/50 [00:22<00:00,  2.20it/s]\n"
     ]
    },
    {
     "name": "stdout",
     "output_type": "stream",
     "text": [
      "Pitch 7\n"
     ]
    },
    {
     "name": "stderr",
     "output_type": "stream",
     "text": [
      "100%|██████████| 50/50 [00:36<00:00,  1.38it/s]\n"
     ]
    },
    {
     "name": "stdout",
     "output_type": "stream",
     "text": [
      "Pitch 6\n"
     ]
    },
    {
     "name": "stderr",
     "output_type": "stream",
     "text": [
      "100%|██████████| 50/50 [00:42<00:00,  1.17it/s]\n"
     ]
    },
    {
     "name": "stdout",
     "output_type": "stream",
     "text": [
      "Pitch 5\n"
     ]
    },
    {
     "name": "stderr",
     "output_type": "stream",
     "text": [
      "100%|██████████| 50/50 [00:50<00:00,  1.02s/it]\n"
     ]
    },
    {
     "name": "stdout",
     "output_type": "stream",
     "text": [
      "Pitch 4\n"
     ]
    },
    {
     "name": "stderr",
     "output_type": "stream",
     "text": [
      "100%|██████████| 50/50 [01:23<00:00,  1.67s/it]\n"
     ]
    },
    {
     "name": "stdout",
     "output_type": "stream",
     "text": [
      "Pitch 3\n"
     ]
    },
    {
     "name": "stderr",
     "output_type": "stream",
     "text": [
      "100%|██████████| 50/50 [01:03<00:00,  1.27s/it]\n"
     ]
    },
    {
     "name": "stdout",
     "output_type": "stream",
     "text": [
      "Pitch 2\n"
     ]
    },
    {
     "name": "stderr",
     "output_type": "stream",
     "text": [
      "100%|██████████| 50/50 [07:04<00:00,  8.49s/it]\n"
     ]
    },
    {
     "name": "stdout",
     "output_type": "stream",
     "text": [
      "Pitch 1.5\n"
     ]
    },
    {
     "name": "stderr",
     "output_type": "stream",
     "text": [
      "100%|██████████| 50/50 [03:25<00:00,  4.10s/it]\n"
     ]
    },
    {
     "name": "stdout",
     "output_type": "stream",
     "text": [
      "##### Aligning to S26 (S2) #####\n",
      "Pitch 10\n"
     ]
    },
    {
     "name": "stderr",
     "output_type": "stream",
     "text": [
      "100%|██████████| 50/50 [00:25<00:00,  1.98it/s]\n"
     ]
    },
    {
     "name": "stdout",
     "output_type": "stream",
     "text": [
      "Pitch 9\n"
     ]
    },
    {
     "name": "stderr",
     "output_type": "stream",
     "text": [
      "100%|██████████| 50/50 [00:26<00:00,  1.88it/s]\n"
     ]
    },
    {
     "name": "stdout",
     "output_type": "stream",
     "text": [
      "Pitch 8\n"
     ]
    },
    {
     "name": "stderr",
     "output_type": "stream",
     "text": [
      "100%|██████████| 50/50 [00:21<00:00,  2.37it/s]\n"
     ]
    },
    {
     "name": "stdout",
     "output_type": "stream",
     "text": [
      "Pitch 7\n"
     ]
    },
    {
     "name": "stderr",
     "output_type": "stream",
     "text": [
      "100%|██████████| 50/50 [00:33<00:00,  1.48it/s]\n"
     ]
    },
    {
     "name": "stdout",
     "output_type": "stream",
     "text": [
      "Pitch 6\n"
     ]
    },
    {
     "name": "stderr",
     "output_type": "stream",
     "text": [
      "100%|██████████| 50/50 [00:39<00:00,  1.27it/s]\n"
     ]
    },
    {
     "name": "stdout",
     "output_type": "stream",
     "text": [
      "Pitch 5\n"
     ]
    },
    {
     "name": "stderr",
     "output_type": "stream",
     "text": [
      "100%|██████████| 50/50 [00:44<00:00,  1.12it/s]\n"
     ]
    },
    {
     "name": "stdout",
     "output_type": "stream",
     "text": [
      "Pitch 4\n"
     ]
    },
    {
     "name": "stderr",
     "output_type": "stream",
     "text": [
      "100%|██████████| 50/50 [01:17<00:00,  1.55s/it]\n"
     ]
    },
    {
     "name": "stdout",
     "output_type": "stream",
     "text": [
      "Pitch 3\n"
     ]
    },
    {
     "name": "stderr",
     "output_type": "stream",
     "text": [
      "100%|██████████| 50/50 [01:06<00:00,  1.32s/it]\n"
     ]
    },
    {
     "name": "stdout",
     "output_type": "stream",
     "text": [
      "Pitch 2\n"
     ]
    },
    {
     "name": "stderr",
     "output_type": "stream",
     "text": [
      "100%|██████████| 50/50 [06:39<00:00,  7.99s/it]\n"
     ]
    },
    {
     "name": "stdout",
     "output_type": "stream",
     "text": [
      "Pitch 1.5\n"
     ]
    },
    {
     "name": "stderr",
     "output_type": "stream",
     "text": [
      "100%|██████████| 50/50 [03:16<00:00,  3.93s/it]\n"
     ]
    },
    {
     "name": "stdout",
     "output_type": "stream",
     "text": [
      "##### Aligning to S23 (S5) #####\n",
      "Pitch 10\n"
     ]
    },
    {
     "name": "stderr",
     "output_type": "stream",
     "text": [
      "100%|██████████| 50/50 [00:20<00:00,  2.45it/s]\n"
     ]
    },
    {
     "name": "stdout",
     "output_type": "stream",
     "text": [
      "Pitch 9\n"
     ]
    },
    {
     "name": "stderr",
     "output_type": "stream",
     "text": [
      "100%|██████████| 50/50 [00:22<00:00,  2.25it/s]\n"
     ]
    },
    {
     "name": "stdout",
     "output_type": "stream",
     "text": [
      "Pitch 8\n"
     ]
    },
    {
     "name": "stderr",
     "output_type": "stream",
     "text": [
      "100%|██████████| 50/50 [00:18<00:00,  2.68it/s]\n"
     ]
    },
    {
     "name": "stdout",
     "output_type": "stream",
     "text": [
      "Pitch 7\n"
     ]
    },
    {
     "name": "stderr",
     "output_type": "stream",
     "text": [
      "100%|██████████| 50/50 [00:30<00:00,  1.64it/s]\n"
     ]
    },
    {
     "name": "stdout",
     "output_type": "stream",
     "text": [
      "Pitch 6\n"
     ]
    },
    {
     "name": "stderr",
     "output_type": "stream",
     "text": [
      "100%|██████████| 50/50 [00:36<00:00,  1.37it/s]\n"
     ]
    },
    {
     "name": "stdout",
     "output_type": "stream",
     "text": [
      "Pitch 5\n"
     ]
    },
    {
     "name": "stderr",
     "output_type": "stream",
     "text": [
      "100%|██████████| 50/50 [00:38<00:00,  1.29it/s]\n"
     ]
    },
    {
     "name": "stdout",
     "output_type": "stream",
     "text": [
      "Pitch 4\n"
     ]
    },
    {
     "name": "stderr",
     "output_type": "stream",
     "text": [
      "100%|██████████| 50/50 [01:09<00:00,  1.40s/it]\n"
     ]
    },
    {
     "name": "stdout",
     "output_type": "stream",
     "text": [
      "Pitch 3\n"
     ]
    },
    {
     "name": "stderr",
     "output_type": "stream",
     "text": [
      "100%|██████████| 50/50 [00:58<00:00,  1.17s/it]\n"
     ]
    },
    {
     "name": "stdout",
     "output_type": "stream",
     "text": [
      "Pitch 2\n"
     ]
    },
    {
     "name": "stderr",
     "output_type": "stream",
     "text": [
      "100%|██████████| 50/50 [06:30<00:00,  7.82s/it]\n"
     ]
    },
    {
     "name": "stdout",
     "output_type": "stream",
     "text": [
      "Pitch 1.5\n"
     ]
    },
    {
     "name": "stderr",
     "output_type": "stream",
     "text": [
      "100%|██████████| 50/50 [03:07<00:00,  3.75s/it]\n"
     ]
    },
    {
     "name": "stdout",
     "output_type": "stream",
     "text": [
      "##### Aligning to S33 (S3) #####\n",
      "Pitch 10\n"
     ]
    },
    {
     "name": "stderr",
     "output_type": "stream",
     "text": [
      "100%|██████████| 50/50 [00:22<00:00,  2.18it/s]\n"
     ]
    },
    {
     "name": "stdout",
     "output_type": "stream",
     "text": [
      "Pitch 9\n"
     ]
    },
    {
     "name": "stderr",
     "output_type": "stream",
     "text": [
      "100%|██████████| 50/50 [00:26<00:00,  1.89it/s]\n"
     ]
    },
    {
     "name": "stdout",
     "output_type": "stream",
     "text": [
      "Pitch 8\n"
     ]
    },
    {
     "name": "stderr",
     "output_type": "stream",
     "text": [
      "100%|██████████| 50/50 [00:25<00:00,  1.96it/s]\n"
     ]
    },
    {
     "name": "stdout",
     "output_type": "stream",
     "text": [
      "Pitch 7\n"
     ]
    },
    {
     "name": "stderr",
     "output_type": "stream",
     "text": [
      "100%|██████████| 50/50 [00:38<00:00,  1.29it/s]\n"
     ]
    },
    {
     "name": "stdout",
     "output_type": "stream",
     "text": [
      "Pitch 6\n"
     ]
    },
    {
     "name": "stderr",
     "output_type": "stream",
     "text": [
      "100%|██████████| 50/50 [00:48<00:00,  1.03it/s]\n"
     ]
    },
    {
     "name": "stdout",
     "output_type": "stream",
     "text": [
      "Pitch 5\n"
     ]
    },
    {
     "name": "stderr",
     "output_type": "stream",
     "text": [
      "100%|██████████| 50/50 [00:50<00:00,  1.01s/it]\n"
     ]
    },
    {
     "name": "stdout",
     "output_type": "stream",
     "text": [
      "Pitch 4\n"
     ]
    },
    {
     "name": "stderr",
     "output_type": "stream",
     "text": [
      "100%|██████████| 50/50 [01:21<00:00,  1.63s/it]\n"
     ]
    },
    {
     "name": "stdout",
     "output_type": "stream",
     "text": [
      "Pitch 3\n"
     ]
    },
    {
     "name": "stderr",
     "output_type": "stream",
     "text": [
      "100%|██████████| 50/50 [01:07<00:00,  1.34s/it]\n"
     ]
    },
    {
     "name": "stdout",
     "output_type": "stream",
     "text": [
      "Pitch 2\n"
     ]
    },
    {
     "name": "stderr",
     "output_type": "stream",
     "text": [
      "100%|██████████| 50/50 [06:45<00:00,  8.12s/it]\n"
     ]
    },
    {
     "name": "stdout",
     "output_type": "stream",
     "text": [
      "Pitch 1.5\n"
     ]
    },
    {
     "name": "stderr",
     "output_type": "stream",
     "text": [
      "100%|██████████| 50/50 [03:29<00:00,  4.20s/it]\n"
     ]
    },
    {
     "name": "stdout",
     "output_type": "stream",
     "text": [
      "##### Aligning to S22 (S4) #####\n",
      "Pitch 10\n"
     ]
    },
    {
     "name": "stderr",
     "output_type": "stream",
     "text": [
      "100%|██████████| 50/50 [00:18<00:00,  2.69it/s]\n"
     ]
    },
    {
     "name": "stdout",
     "output_type": "stream",
     "text": [
      "Pitch 9\n"
     ]
    },
    {
     "name": "stderr",
     "output_type": "stream",
     "text": [
      "100%|██████████| 50/50 [00:22<00:00,  2.25it/s]\n"
     ]
    },
    {
     "name": "stdout",
     "output_type": "stream",
     "text": [
      "Pitch 8\n"
     ]
    },
    {
     "name": "stderr",
     "output_type": "stream",
     "text": [
      "100%|██████████| 50/50 [00:18<00:00,  2.66it/s]\n"
     ]
    },
    {
     "name": "stdout",
     "output_type": "stream",
     "text": [
      "Pitch 7\n"
     ]
    },
    {
     "name": "stderr",
     "output_type": "stream",
     "text": [
      "100%|██████████| 50/50 [00:31<00:00,  1.58it/s]\n"
     ]
    },
    {
     "name": "stdout",
     "output_type": "stream",
     "text": [
      "Pitch 6\n"
     ]
    },
    {
     "name": "stderr",
     "output_type": "stream",
     "text": [
      "100%|██████████| 50/50 [00:36<00:00,  1.35it/s]\n"
     ]
    },
    {
     "name": "stdout",
     "output_type": "stream",
     "text": [
      "Pitch 5\n"
     ]
    },
    {
     "name": "stderr",
     "output_type": "stream",
     "text": [
      "100%|██████████| 50/50 [00:43<00:00,  1.14it/s]\n"
     ]
    },
    {
     "name": "stdout",
     "output_type": "stream",
     "text": [
      "Pitch 4\n"
     ]
    },
    {
     "name": "stderr",
     "output_type": "stream",
     "text": [
      "100%|██████████| 50/50 [01:16<00:00,  1.53s/it]\n"
     ]
    },
    {
     "name": "stdout",
     "output_type": "stream",
     "text": [
      "Pitch 3\n"
     ]
    },
    {
     "name": "stderr",
     "output_type": "stream",
     "text": [
      "100%|██████████| 50/50 [01:00<00:00,  1.22s/it]\n"
     ]
    },
    {
     "name": "stdout",
     "output_type": "stream",
     "text": [
      "Pitch 2\n"
     ]
    },
    {
     "name": "stderr",
     "output_type": "stream",
     "text": [
      "100%|██████████| 50/50 [06:27<00:00,  7.75s/it]\n"
     ]
    },
    {
     "name": "stdout",
     "output_type": "stream",
     "text": [
      "Pitch 1.5\n"
     ]
    },
    {
     "name": "stderr",
     "output_type": "stream",
     "text": [
      "100%|██████████| 50/50 [03:14<00:00,  3.88s/it]\n"
     ]
    },
    {
     "name": "stdout",
     "output_type": "stream",
     "text": [
      "##### Aligning to S39 (S6) #####\n",
      "Pitch 10\n"
     ]
    },
    {
     "name": "stderr",
     "output_type": "stream",
     "text": [
      "100%|██████████| 50/50 [00:21<00:00,  2.30it/s]\n"
     ]
    },
    {
     "name": "stdout",
     "output_type": "stream",
     "text": [
      "Pitch 9\n"
     ]
    },
    {
     "name": "stderr",
     "output_type": "stream",
     "text": [
      "100%|██████████| 50/50 [00:26<00:00,  1.91it/s]\n"
     ]
    },
    {
     "name": "stdout",
     "output_type": "stream",
     "text": [
      "Pitch 8\n"
     ]
    },
    {
     "name": "stderr",
     "output_type": "stream",
     "text": [
      "100%|██████████| 50/50 [00:24<00:00,  2.06it/s]\n"
     ]
    },
    {
     "name": "stdout",
     "output_type": "stream",
     "text": [
      "Pitch 7\n"
     ]
    },
    {
     "name": "stderr",
     "output_type": "stream",
     "text": [
      "100%|██████████| 50/50 [00:36<00:00,  1.38it/s]\n"
     ]
    },
    {
     "name": "stdout",
     "output_type": "stream",
     "text": [
      "Pitch 6\n"
     ]
    },
    {
     "name": "stderr",
     "output_type": "stream",
     "text": [
      "100%|██████████| 50/50 [00:46<00:00,  1.09it/s]\n"
     ]
    },
    {
     "name": "stdout",
     "output_type": "stream",
     "text": [
      "Pitch 5\n"
     ]
    },
    {
     "name": "stderr",
     "output_type": "stream",
     "text": [
      "100%|██████████| 50/50 [00:46<00:00,  1.08it/s]\n"
     ]
    },
    {
     "name": "stdout",
     "output_type": "stream",
     "text": [
      "Pitch 4\n"
     ]
    },
    {
     "name": "stderr",
     "output_type": "stream",
     "text": [
      "100%|██████████| 50/50 [01:24<00:00,  1.69s/it]\n"
     ]
    },
    {
     "name": "stdout",
     "output_type": "stream",
     "text": [
      "Pitch 3\n"
     ]
    },
    {
     "name": "stderr",
     "output_type": "stream",
     "text": [
      "100%|██████████| 50/50 [01:09<00:00,  1.40s/it]\n"
     ]
    },
    {
     "name": "stdout",
     "output_type": "stream",
     "text": [
      "Pitch 2\n"
     ]
    },
    {
     "name": "stderr",
     "output_type": "stream",
     "text": [
      "100%|██████████| 50/50 [06:42<00:00,  8.06s/it]\n"
     ]
    },
    {
     "name": "stdout",
     "output_type": "stream",
     "text": [
      "Pitch 1.5\n"
     ]
    },
    {
     "name": "stderr",
     "output_type": "stream",
     "text": [
      "100%|██████████| 50/50 [03:32<00:00,  4.25s/it]\n"
     ]
    },
    {
     "name": "stdout",
     "output_type": "stream",
     "text": [
      "##### Aligning to S58 (S7) #####\n",
      "Pitch 10\n"
     ]
    },
    {
     "name": "stderr",
     "output_type": "stream",
     "text": [
      "100%|██████████| 50/50 [00:22<00:00,  2.26it/s]\n"
     ]
    },
    {
     "name": "stdout",
     "output_type": "stream",
     "text": [
      "Pitch 9\n"
     ]
    },
    {
     "name": "stderr",
     "output_type": "stream",
     "text": [
      "100%|██████████| 50/50 [00:26<00:00,  1.88it/s]\n"
     ]
    },
    {
     "name": "stdout",
     "output_type": "stream",
     "text": [
      "Pitch 8\n"
     ]
    },
    {
     "name": "stderr",
     "output_type": "stream",
     "text": [
      "100%|██████████| 50/50 [00:24<00:00,  2.06it/s]\n"
     ]
    },
    {
     "name": "stdout",
     "output_type": "stream",
     "text": [
      "Pitch 7\n"
     ]
    },
    {
     "name": "stderr",
     "output_type": "stream",
     "text": [
      "100%|██████████| 50/50 [00:36<00:00,  1.38it/s]\n"
     ]
    },
    {
     "name": "stdout",
     "output_type": "stream",
     "text": [
      "Pitch 6\n"
     ]
    },
    {
     "name": "stderr",
     "output_type": "stream",
     "text": [
      "100%|██████████| 50/50 [00:46<00:00,  1.08it/s]\n"
     ]
    },
    {
     "name": "stdout",
     "output_type": "stream",
     "text": [
      "Pitch 5\n"
     ]
    },
    {
     "name": "stderr",
     "output_type": "stream",
     "text": [
      "100%|██████████| 50/50 [00:47<00:00,  1.05it/s]\n"
     ]
    },
    {
     "name": "stdout",
     "output_type": "stream",
     "text": [
      "Pitch 4\n"
     ]
    },
    {
     "name": "stderr",
     "output_type": "stream",
     "text": [
      "100%|██████████| 50/50 [01:26<00:00,  1.72s/it]\n"
     ]
    },
    {
     "name": "stdout",
     "output_type": "stream",
     "text": [
      "Pitch 3\n"
     ]
    },
    {
     "name": "stderr",
     "output_type": "stream",
     "text": [
      "100%|██████████| 50/50 [01:11<00:00,  1.42s/it]\n"
     ]
    },
    {
     "name": "stdout",
     "output_type": "stream",
     "text": [
      "Pitch 2\n"
     ]
    },
    {
     "name": "stderr",
     "output_type": "stream",
     "text": [
      "100%|██████████| 50/50 [06:50<00:00,  8.21s/it]\n"
     ]
    },
    {
     "name": "stdout",
     "output_type": "stream",
     "text": [
      "Pitch 1.5\n"
     ]
    },
    {
     "name": "stderr",
     "output_type": "stream",
     "text": [
      "100%|██████████| 50/50 [03:36<00:00,  4.33s/it]\n"
     ]
    },
    {
     "name": "stdout",
     "output_type": "stream",
     "text": [
      "##### Aligning to S62 (S8) #####\n",
      "Pitch 10\n"
     ]
    },
    {
     "name": "stderr",
     "output_type": "stream",
     "text": [
      "100%|██████████| 50/50 [00:23<00:00,  2.09it/s]\n"
     ]
    },
    {
     "name": "stdout",
     "output_type": "stream",
     "text": [
      "Pitch 9\n"
     ]
    },
    {
     "name": "stderr",
     "output_type": "stream",
     "text": [
      "100%|██████████| 50/50 [00:28<00:00,  1.74it/s]\n"
     ]
    },
    {
     "name": "stdout",
     "output_type": "stream",
     "text": [
      "Pitch 8\n"
     ]
    },
    {
     "name": "stderr",
     "output_type": "stream",
     "text": [
      "100%|██████████| 50/50 [00:27<00:00,  1.83it/s]\n"
     ]
    },
    {
     "name": "stdout",
     "output_type": "stream",
     "text": [
      "Pitch 7\n"
     ]
    },
    {
     "name": "stderr",
     "output_type": "stream",
     "text": [
      "100%|██████████| 50/50 [00:41<00:00,  1.19it/s]\n"
     ]
    },
    {
     "name": "stdout",
     "output_type": "stream",
     "text": [
      "Pitch 6\n"
     ]
    },
    {
     "name": "stderr",
     "output_type": "stream",
     "text": [
      "100%|██████████| 50/50 [00:50<00:00,  1.00s/it]\n"
     ]
    },
    {
     "name": "stdout",
     "output_type": "stream",
     "text": [
      "Pitch 5\n"
     ]
    },
    {
     "name": "stderr",
     "output_type": "stream",
     "text": [
      "100%|██████████| 50/50 [00:53<00:00,  1.07s/it]\n"
     ]
    },
    {
     "name": "stdout",
     "output_type": "stream",
     "text": [
      "Pitch 4\n"
     ]
    },
    {
     "name": "stderr",
     "output_type": "stream",
     "text": [
      "100%|██████████| 50/50 [01:27<00:00,  1.74s/it]\n"
     ]
    },
    {
     "name": "stdout",
     "output_type": "stream",
     "text": [
      "Pitch 3\n"
     ]
    },
    {
     "name": "stderr",
     "output_type": "stream",
     "text": [
      "100%|██████████| 50/50 [01:17<00:00,  1.54s/it]\n"
     ]
    },
    {
     "name": "stdout",
     "output_type": "stream",
     "text": [
      "Pitch 2\n"
     ]
    },
    {
     "name": "stderr",
     "output_type": "stream",
     "text": [
      "100%|██████████| 50/50 [06:54<00:00,  8.28s/it]\n"
     ]
    },
    {
     "name": "stdout",
     "output_type": "stream",
     "text": [
      "Pitch 1.5\n"
     ]
    },
    {
     "name": "stderr",
     "output_type": "stream",
     "text": [
      "100%|██████████| 50/50 [04:01<00:00,  4.84s/it]\n"
     ]
    }
   ],
   "source": [
    "pitch_corr_tot_df = pd.DataFrame()\n",
    "for align_pt in pt_names:\n",
    "    print(f'##### Aligning to {align_pt} ({paper_pt_dict[align_pt]}) #####')\n",
    "    align_pt_ind = pt_names.index(align_pt)\n",
    "    other_pts = [pt for pt in pt_names if pt != align_pt]\n",
    "\n",
    "    n_iter = 50\n",
    "    n_comp_corr = 10\n",
    "\n",
    "    pitch_corr_df = pd.DataFrame()\n",
    "    pitch_list = [10, 9, 8, 7, 6, 5, 4, 3, 2, 1.5]\n",
    "\n",
    "    for pitch in pitch_list:\n",
    "        print(f'Pitch {pitch}')\n",
    "        for iter in tqdm(range(n_iter)):\n",
    "\n",
    "            # subsample all patient data with poisson disk sampling\n",
    "            all_pt_traces_sub = {}\n",
    "            for pt in pt_names:\n",
    "                subsamp_idx = pitch_subsample_sig_channels(pt, pitch, DATA_PATH)\n",
    "                all_pt_traces_sub[pt] = all_pt_traces[pt][:,:,subsamp_idx]\n",
    "\n",
    "            # setup CCA aligners for each condition and patient\n",
    "            aligners_sub = {}\n",
    "            for i, pt in enumerate(pt_names):\n",
    "                if i == align_pt_ind:\n",
    "                    continue\n",
    "                aligners_sub[pt] = AlignCCA()\n",
    "\n",
    "            # get patient-specific latent dynamics with PCA on channels\n",
    "            to_align_sub = [PCA(n_components=0.9).fit_transform(all_pt_traces_sub[pt].reshape(-1, all_pt_traces_sub[pt].shape[-1])) for pt in pt_names]\n",
    "            to_align_sub = [to_align_sub[i].reshape(all_pt_traces_sub[pt].shape[0], all_pt_traces_sub[pt].shape[1], -1) for i, pt in enumerate(pt_names)]\n",
    "\n",
    "            # align patient-specific latent dynamics\n",
    "            aligned_data_sub = {}\n",
    "\n",
    "            # aligning all patients to a single patient's space, so the align patient's latent dynamics are un-transformed\n",
    "            aligned_data_sub[pt_names[align_pt_ind]] = to_align_sub[align_pt_ind]\n",
    "            for i, pt in enumerate(pt_names):\n",
    "                if i == align_pt_ind:\n",
    "                    continue\n",
    "                \n",
    "                # align by phoneme sequence\n",
    "                to_align_seqs = [all_pt_phon_seqs[pt_names[align_pt_ind]], all_pt_phon_seqs[pt]]\n",
    "                aligners_sub[pt].fit(to_align_sub[align_pt_ind], to_align_sub[i], to_align_seqs[0], to_align_seqs[1])\n",
    "                aligned_data_sub[pt] = aligners_sub[pt].transform(to_align_sub[i])\n",
    "\n",
    "            align_corrs_sub = pt_corr_multi(aligned_data_sub[align_pt], [aligned_data_sub[pt] for pt in other_pts], all_pt_artic_labels[align_pt], [all_pt_artic_labels[pt] for pt in other_pts], n_comp=n_comp_corr)\n",
    "            \n",
    "            corr = np.mean(np.array(align_corrs_sub))\n",
    "            curr_pitch_df = pd.DataFrame([{'Pitch': pitch, 'Correlation': corr}])\n",
    "            pitch_corr_df = pd.concat([pitch_corr_df, curr_pitch_df], ignore_index=True)\n",
    "\n",
    "    pitch_corr_df['Patient'] = paper_pt_dict[align_pt]\n",
    "    pitch_corr_df = pitch_corr_df[['Patient', 'Pitch', 'Correlation']]\n",
    "    pitch_corr_tot_df = pd.concat([pitch_corr_tot_df, pitch_corr_df], ignore_index=True)\n"
   ]
  },
  {
   "cell_type": "code",
   "execution_count": 55,
   "metadata": {},
   "outputs": [
    {
     "data": {
      "text/html": [
       "<div>\n",
       "<style scoped>\n",
       "    .dataframe tbody tr th:only-of-type {\n",
       "        vertical-align: middle;\n",
       "    }\n",
       "\n",
       "    .dataframe tbody tr th {\n",
       "        vertical-align: top;\n",
       "    }\n",
       "\n",
       "    .dataframe thead th {\n",
       "        text-align: right;\n",
       "    }\n",
       "</style>\n",
       "<table border=\"1\" class=\"dataframe\">\n",
       "  <thead>\n",
       "    <tr style=\"text-align: right;\">\n",
       "      <th></th>\n",
       "      <th>Patient</th>\n",
       "      <th>Pitch</th>\n",
       "      <th>Correlation</th>\n",
       "    </tr>\n",
       "  </thead>\n",
       "  <tbody>\n",
       "    <tr>\n",
       "      <th>0</th>\n",
       "      <td>S1</td>\n",
       "      <td>10.0</td>\n",
       "      <td>0.287959</td>\n",
       "    </tr>\n",
       "    <tr>\n",
       "      <th>1</th>\n",
       "      <td>S1</td>\n",
       "      <td>10.0</td>\n",
       "      <td>0.312267</td>\n",
       "    </tr>\n",
       "    <tr>\n",
       "      <th>2</th>\n",
       "      <td>S1</td>\n",
       "      <td>10.0</td>\n",
       "      <td>0.327200</td>\n",
       "    </tr>\n",
       "    <tr>\n",
       "      <th>3</th>\n",
       "      <td>S1</td>\n",
       "      <td>10.0</td>\n",
       "      <td>0.330463</td>\n",
       "    </tr>\n",
       "    <tr>\n",
       "      <th>4</th>\n",
       "      <td>S1</td>\n",
       "      <td>10.0</td>\n",
       "      <td>0.368184</td>\n",
       "    </tr>\n",
       "    <tr>\n",
       "      <th>...</th>\n",
       "      <td>...</td>\n",
       "      <td>...</td>\n",
       "      <td>...</td>\n",
       "    </tr>\n",
       "    <tr>\n",
       "      <th>3995</th>\n",
       "      <td>S8</td>\n",
       "      <td>1.5</td>\n",
       "      <td>0.566085</td>\n",
       "    </tr>\n",
       "    <tr>\n",
       "      <th>3996</th>\n",
       "      <td>S8</td>\n",
       "      <td>1.5</td>\n",
       "      <td>0.566034</td>\n",
       "    </tr>\n",
       "    <tr>\n",
       "      <th>3997</th>\n",
       "      <td>S8</td>\n",
       "      <td>1.5</td>\n",
       "      <td>0.563809</td>\n",
       "    </tr>\n",
       "    <tr>\n",
       "      <th>3998</th>\n",
       "      <td>S8</td>\n",
       "      <td>1.5</td>\n",
       "      <td>0.570201</td>\n",
       "    </tr>\n",
       "    <tr>\n",
       "      <th>3999</th>\n",
       "      <td>S8</td>\n",
       "      <td>1.5</td>\n",
       "      <td>0.570726</td>\n",
       "    </tr>\n",
       "  </tbody>\n",
       "</table>\n",
       "<p>4000 rows × 3 columns</p>\n",
       "</div>"
      ],
      "text/plain": [
       "     Patient  Pitch  Correlation\n",
       "0         S1   10.0     0.287959\n",
       "1         S1   10.0     0.312267\n",
       "2         S1   10.0     0.327200\n",
       "3         S1   10.0     0.330463\n",
       "4         S1   10.0     0.368184\n",
       "...      ...    ...          ...\n",
       "3995      S8    1.5     0.566085\n",
       "3996      S8    1.5     0.566034\n",
       "3997      S8    1.5     0.563809\n",
       "3998      S8    1.5     0.570201\n",
       "3999      S8    1.5     0.570726\n",
       "\n",
       "[4000 rows x 3 columns]"
      ]
     },
     "execution_count": 55,
     "metadata": {},
     "output_type": "execute_result"
    }
   ],
   "source": [
    "pitch_corr_tot_df"
   ]
  },
  {
   "cell_type": "code",
   "execution_count": 63,
   "metadata": {},
   "outputs": [
    {
     "data": {
      "text/html": [
       "<div>\n",
       "<style scoped>\n",
       "    .dataframe tbody tr th:only-of-type {\n",
       "        vertical-align: middle;\n",
       "    }\n",
       "\n",
       "    .dataframe tbody tr th {\n",
       "        vertical-align: top;\n",
       "    }\n",
       "\n",
       "    .dataframe thead th {\n",
       "        text-align: right;\n",
       "    }\n",
       "</style>\n",
       "<table border=\"1\" class=\"dataframe\">\n",
       "  <thead>\n",
       "    <tr style=\"text-align: right;\">\n",
       "      <th></th>\n",
       "      <th>Patient</th>\n",
       "      <th>Pitch</th>\n",
       "      <th>Correlation</th>\n",
       "    </tr>\n",
       "  </thead>\n",
       "  <tbody>\n",
       "    <tr>\n",
       "      <th>0</th>\n",
       "      <td>S1</td>\n",
       "      <td>1.5</td>\n",
       "      <td>0.433565</td>\n",
       "    </tr>\n",
       "    <tr>\n",
       "      <th>1</th>\n",
       "      <td>S1</td>\n",
       "      <td>2.0</td>\n",
       "      <td>0.392558</td>\n",
       "    </tr>\n",
       "    <tr>\n",
       "      <th>2</th>\n",
       "      <td>S1</td>\n",
       "      <td>3.0</td>\n",
       "      <td>0.331098</td>\n",
       "    </tr>\n",
       "    <tr>\n",
       "      <th>3</th>\n",
       "      <td>S1</td>\n",
       "      <td>4.0</td>\n",
       "      <td>0.289454</td>\n",
       "    </tr>\n",
       "    <tr>\n",
       "      <th>4</th>\n",
       "      <td>S1</td>\n",
       "      <td>5.0</td>\n",
       "      <td>0.280066</td>\n",
       "    </tr>\n",
       "    <tr>\n",
       "      <th>...</th>\n",
       "      <td>...</td>\n",
       "      <td>...</td>\n",
       "      <td>...</td>\n",
       "    </tr>\n",
       "    <tr>\n",
       "      <th>75</th>\n",
       "      <td>S8</td>\n",
       "      <td>6.0</td>\n",
       "      <td>0.250285</td>\n",
       "    </tr>\n",
       "    <tr>\n",
       "      <th>76</th>\n",
       "      <td>S8</td>\n",
       "      <td>7.0</td>\n",
       "      <td>0.226910</td>\n",
       "    </tr>\n",
       "    <tr>\n",
       "      <th>77</th>\n",
       "      <td>S8</td>\n",
       "      <td>8.0</td>\n",
       "      <td>0.238730</td>\n",
       "    </tr>\n",
       "    <tr>\n",
       "      <th>78</th>\n",
       "      <td>S8</td>\n",
       "      <td>9.0</td>\n",
       "      <td>0.224015</td>\n",
       "    </tr>\n",
       "    <tr>\n",
       "      <th>79</th>\n",
       "      <td>S8</td>\n",
       "      <td>10.0</td>\n",
       "      <td>0.245357</td>\n",
       "    </tr>\n",
       "  </tbody>\n",
       "</table>\n",
       "<p>80 rows × 3 columns</p>\n",
       "</div>"
      ],
      "text/plain": [
       "   Patient  Pitch  Correlation\n",
       "0       S1    1.5     0.433565\n",
       "1       S1    2.0     0.392558\n",
       "2       S1    3.0     0.331098\n",
       "3       S1    4.0     0.289454\n",
       "4       S1    5.0     0.280066\n",
       "..     ...    ...          ...\n",
       "75      S8    6.0     0.250285\n",
       "76      S8    7.0     0.226910\n",
       "77      S8    8.0     0.238730\n",
       "78      S8    9.0     0.224015\n",
       "79      S8   10.0     0.245357\n",
       "\n",
       "[80 rows x 3 columns]"
      ]
     },
     "execution_count": 63,
     "metadata": {},
     "output_type": "execute_result"
    }
   ],
   "source": [
    "mean_pitch_corr_df = pitch_corr_tot_df.groupby(['Patient', 'Pitch']).mean().reset_index()\n",
    "mean_pitch_corr_df"
   ]
  },
  {
   "cell_type": "code",
   "execution_count": 208,
   "metadata": {},
   "outputs": [
    {
     "data": {
      "application/vnd.plotly.v1+json": {
       "config": {
        "plotlyServerURL": "https://plotly.com"
       },
       "data": [
        {
         "hovertemplate": "Patient=S1<br>Pitch=%{x}<br>Correlation=%{y}<extra></extra>",
         "legendgroup": "S1",
         "line": {
          "color": "#636efa",
          "dash": "solid"
         },
         "marker": {
          "symbol": "circle"
         },
         "mode": "lines",
         "name": "S1",
         "orientation": "v",
         "showlegend": true,
         "type": "scatter",
         "x": [
          1.5,
          2,
          3,
          4,
          5,
          6,
          7,
          8,
          9,
          10
         ],
         "xaxis": "x",
         "y": [
          0.43356531040287877,
          0.3925583997228747,
          0.3310983246710477,
          0.2894538439048332,
          0.2800661837126644,
          0.2969871224057967,
          0.305789013653046,
          0.3211331510982671,
          0.3061613120343647,
          0.2847784990409413
         ],
         "yaxis": "y"
        },
        {
         "hovertemplate": "Patient=S2<br>Pitch=%{x}<br>Correlation=%{y}<extra></extra>",
         "legendgroup": "S2",
         "line": {
          "color": "#EF553B",
          "dash": "solid"
         },
         "marker": {
          "symbol": "circle"
         },
         "mode": "lines",
         "name": "S2",
         "orientation": "v",
         "showlegend": true,
         "type": "scatter",
         "x": [
          1.5,
          2,
          3,
          4,
          5,
          6,
          7,
          8,
          9,
          10
         ],
         "xaxis": "x",
         "y": [
          0.5779378133556684,
          0.5214762324702736,
          0.37054752188046086,
          0.31404635176880535,
          0.2973943354154496,
          0.340809285850011,
          0.33461871257265224,
          0.3409719361635546,
          0.362753132039077,
          0.3415024744535235
         ],
         "yaxis": "y"
        },
        {
         "hovertemplate": "Patient=S3<br>Pitch=%{x}<br>Correlation=%{y}<extra></extra>",
         "legendgroup": "S3",
         "line": {
          "color": "#00cc96",
          "dash": "solid"
         },
         "marker": {
          "symbol": "circle"
         },
         "mode": "lines",
         "name": "S3",
         "orientation": "v",
         "showlegend": true,
         "type": "scatter",
         "x": [
          1.5,
          2,
          3,
          4,
          5,
          6,
          7,
          8,
          9,
          10
         ],
         "xaxis": "x",
         "y": [
          0.45077408221727855,
          0.4124100497605696,
          0.33093127604637324,
          0.2702068706498938,
          0.21558461861405145,
          0.1969317220681396,
          0.19196673507548806,
          0.1778156883618178,
          0.17497254099977752,
          0.16729639320568804
         ],
         "yaxis": "y"
        },
        {
         "hovertemplate": "Patient=S4<br>Pitch=%{x}<br>Correlation=%{y}<extra></extra>",
         "legendgroup": "S4",
         "line": {
          "color": "#ab63fa",
          "dash": "solid"
         },
         "marker": {
          "symbol": "circle"
         },
         "mode": "lines",
         "name": "S4",
         "orientation": "v",
         "showlegend": true,
         "type": "scatter",
         "x": [
          1.5,
          2,
          3,
          4,
          5,
          6,
          7,
          8,
          9,
          10
         ],
         "xaxis": "x",
         "y": [
          0.5081610007199492,
          0.4528055879590331,
          0.33719325893150187,
          0.32453400567515156,
          0.30980061288478433,
          0.33853289414229826,
          0.3150900651587427,
          0.3560768492504201,
          0.34240948485884215,
          0.3563011649336695
         ],
         "yaxis": "y"
        },
        {
         "hovertemplate": "Patient=S5<br>Pitch=%{x}<br>Correlation=%{y}<extra></extra>",
         "legendgroup": "S5",
         "line": {
          "color": "#FFA15A",
          "dash": "solid"
         },
         "marker": {
          "symbol": "circle"
         },
         "mode": "lines",
         "name": "S5",
         "orientation": "v",
         "showlegend": true,
         "type": "scatter",
         "x": [
          1.5,
          2,
          3,
          4,
          5,
          6,
          7,
          8,
          9,
          10
         ],
         "xaxis": "x",
         "y": [
          0.4742681837872307,
          0.45692279347268977,
          0.42357777516617806,
          0.41010783517033667,
          0.3827037577438304,
          0.35326187791140107,
          0.3536660379263366,
          0.3498123569686378,
          0.2696734100078249,
          0.27900546524777176
         ],
         "yaxis": "y"
        },
        {
         "hovertemplate": "Patient=S6<br>Pitch=%{x}<br>Correlation=%{y}<extra></extra>",
         "legendgroup": "S6",
         "line": {
          "color": "#19d3f3",
          "dash": "solid"
         },
         "marker": {
          "symbol": "circle"
         },
         "mode": "lines",
         "name": "S6",
         "orientation": "v",
         "showlegend": true,
         "type": "scatter",
         "x": [
          1.5,
          2,
          3,
          4,
          5,
          6,
          7,
          8,
          9,
          10
         ],
         "xaxis": "x",
         "y": [
          0.43811487358998974,
          0.40245120219228653,
          0.3637649534244855,
          0.3019553477396987,
          0.24561196222060075,
          0.23455502798514913,
          0.23560228527489166,
          0.2109793086053791,
          0.18235628634474874,
          0.18166807146953315
         ],
         "yaxis": "y"
        },
        {
         "hovertemplate": "Patient=S7<br>Pitch=%{x}<br>Correlation=%{y}<extra></extra>",
         "legendgroup": "S7",
         "line": {
          "color": "#FF6692",
          "dash": "solid"
         },
         "marker": {
          "symbol": "circle"
         },
         "mode": "lines",
         "name": "S7",
         "orientation": "v",
         "showlegend": true,
         "type": "scatter",
         "x": [
          1.5,
          2,
          3,
          4,
          5,
          6,
          7,
          8,
          9,
          10
         ],
         "xaxis": "x",
         "y": [
          0.5554359158131451,
          0.4928507531435593,
          0.40601969581255143,
          0.34639127054768315,
          0.2842981891050828,
          0.2692960918975738,
          0.27438731608200917,
          0.26678823169849525,
          0.2709100776621606,
          0.26420294426951946
         ],
         "yaxis": "y"
        },
        {
         "hovertemplate": "Patient=S8<br>Pitch=%{x}<br>Correlation=%{y}<extra></extra>",
         "legendgroup": "S8",
         "line": {
          "color": "#B6E880",
          "dash": "solid"
         },
         "marker": {
          "symbol": "circle"
         },
         "mode": "lines",
         "name": "S8",
         "orientation": "v",
         "showlegend": true,
         "type": "scatter",
         "x": [
          1.5,
          2,
          3,
          4,
          5,
          6,
          7,
          8,
          9,
          10
         ],
         "xaxis": "x",
         "y": [
          0.5662030754474849,
          0.5022998876691187,
          0.41825423388729177,
          0.3703040298203888,
          0.2751135829587654,
          0.25028490486597926,
          0.22691027195724936,
          0.2387297359720967,
          0.22401541632663313,
          0.2453571690123107
         ],
         "yaxis": "y"
        },
        {
         "alignmentgroup": "True",
         "hovertemplate": "Pitch=%{x}<br>Correlation=%{y}<extra></extra>",
         "legendgroup": "",
         "marker": {
          "color": "#636efa"
         },
         "name": "",
         "notched": false,
         "offsetgroup": "",
         "orientation": "v",
         "showlegend": false,
         "type": "box",
         "x": [
          1.5,
          2,
          3,
          4,
          5,
          6,
          7,
          8,
          9,
          10,
          1.5,
          2,
          3,
          4,
          5,
          6,
          7,
          8,
          9,
          10,
          1.5,
          2,
          3,
          4,
          5,
          6,
          7,
          8,
          9,
          10,
          1.5,
          2,
          3,
          4,
          5,
          6,
          7,
          8,
          9,
          10,
          1.5,
          2,
          3,
          4,
          5,
          6,
          7,
          8,
          9,
          10,
          1.5,
          2,
          3,
          4,
          5,
          6,
          7,
          8,
          9,
          10,
          1.5,
          2,
          3,
          4,
          5,
          6,
          7,
          8,
          9,
          10,
          1.5,
          2,
          3,
          4,
          5,
          6,
          7,
          8,
          9,
          10
         ],
         "x0": " ",
         "xaxis": "x",
         "y": [
          0.43356531040287877,
          0.3925583997228747,
          0.3310983246710477,
          0.2894538439048332,
          0.2800661837126644,
          0.2969871224057967,
          0.305789013653046,
          0.3211331510982671,
          0.3061613120343647,
          0.2847784990409413,
          0.5779378133556684,
          0.5214762324702736,
          0.37054752188046086,
          0.31404635176880535,
          0.2973943354154496,
          0.340809285850011,
          0.33461871257265224,
          0.3409719361635546,
          0.362753132039077,
          0.3415024744535235,
          0.45077408221727855,
          0.4124100497605696,
          0.33093127604637324,
          0.2702068706498938,
          0.21558461861405145,
          0.1969317220681396,
          0.19196673507548806,
          0.1778156883618178,
          0.17497254099977752,
          0.16729639320568804,
          0.5081610007199492,
          0.4528055879590331,
          0.33719325893150187,
          0.32453400567515156,
          0.30980061288478433,
          0.33853289414229826,
          0.3150900651587427,
          0.3560768492504201,
          0.34240948485884215,
          0.3563011649336695,
          0.4742681837872307,
          0.45692279347268977,
          0.42357777516617806,
          0.41010783517033667,
          0.3827037577438304,
          0.35326187791140107,
          0.3536660379263366,
          0.3498123569686378,
          0.2696734100078249,
          0.27900546524777176,
          0.43811487358998974,
          0.40245120219228653,
          0.3637649534244855,
          0.3019553477396987,
          0.24561196222060075,
          0.23455502798514913,
          0.23560228527489166,
          0.2109793086053791,
          0.18235628634474874,
          0.18166807146953315,
          0.5554359158131451,
          0.4928507531435593,
          0.40601969581255143,
          0.34639127054768315,
          0.2842981891050828,
          0.2692960918975738,
          0.27438731608200917,
          0.26678823169849525,
          0.2709100776621606,
          0.26420294426951946,
          0.5662030754474849,
          0.5022998876691187,
          0.41825423388729177,
          0.3703040298203888,
          0.2751135829587654,
          0.25028490486597926,
          0.22691027195724936,
          0.2387297359720967,
          0.22401541632663313,
          0.2453571690123107
         ],
         "y0": " ",
         "yaxis": "y"
        }
       ],
       "layout": {
        "font": {
         "family": "Arial",
         "size": 18
        },
        "height": 500,
        "legend": {
         "orientation": "h",
         "title": {
          "text": ""
         },
         "tracegroupgap": 0,
         "x": 0.02,
         "xanchor": "left",
         "y": 0.98,
         "yanchor": "top"
        },
        "margin": {
         "t": 60
        },
        "plot_bgcolor": "white",
        "template": {
         "data": {
          "bar": [
           {
            "error_x": {
             "color": "#2a3f5f"
            },
            "error_y": {
             "color": "#2a3f5f"
            },
            "marker": {
             "line": {
              "color": "#E5ECF6",
              "width": 0.5
             },
             "pattern": {
              "fillmode": "overlay",
              "size": 10,
              "solidity": 0.2
             }
            },
            "type": "bar"
           }
          ],
          "barpolar": [
           {
            "marker": {
             "line": {
              "color": "#E5ECF6",
              "width": 0.5
             },
             "pattern": {
              "fillmode": "overlay",
              "size": 10,
              "solidity": 0.2
             }
            },
            "type": "barpolar"
           }
          ],
          "carpet": [
           {
            "aaxis": {
             "endlinecolor": "#2a3f5f",
             "gridcolor": "white",
             "linecolor": "white",
             "minorgridcolor": "white",
             "startlinecolor": "#2a3f5f"
            },
            "baxis": {
             "endlinecolor": "#2a3f5f",
             "gridcolor": "white",
             "linecolor": "white",
             "minorgridcolor": "white",
             "startlinecolor": "#2a3f5f"
            },
            "type": "carpet"
           }
          ],
          "choropleth": [
           {
            "colorbar": {
             "outlinewidth": 0,
             "ticks": ""
            },
            "type": "choropleth"
           }
          ],
          "contour": [
           {
            "colorbar": {
             "outlinewidth": 0,
             "ticks": ""
            },
            "colorscale": [
             [
              0,
              "#0d0887"
             ],
             [
              0.1111111111111111,
              "#46039f"
             ],
             [
              0.2222222222222222,
              "#7201a8"
             ],
             [
              0.3333333333333333,
              "#9c179e"
             ],
             [
              0.4444444444444444,
              "#bd3786"
             ],
             [
              0.5555555555555556,
              "#d8576b"
             ],
             [
              0.6666666666666666,
              "#ed7953"
             ],
             [
              0.7777777777777778,
              "#fb9f3a"
             ],
             [
              0.8888888888888888,
              "#fdca26"
             ],
             [
              1,
              "#f0f921"
             ]
            ],
            "type": "contour"
           }
          ],
          "contourcarpet": [
           {
            "colorbar": {
             "outlinewidth": 0,
             "ticks": ""
            },
            "type": "contourcarpet"
           }
          ],
          "heatmap": [
           {
            "colorbar": {
             "outlinewidth": 0,
             "ticks": ""
            },
            "colorscale": [
             [
              0,
              "#0d0887"
             ],
             [
              0.1111111111111111,
              "#46039f"
             ],
             [
              0.2222222222222222,
              "#7201a8"
             ],
             [
              0.3333333333333333,
              "#9c179e"
             ],
             [
              0.4444444444444444,
              "#bd3786"
             ],
             [
              0.5555555555555556,
              "#d8576b"
             ],
             [
              0.6666666666666666,
              "#ed7953"
             ],
             [
              0.7777777777777778,
              "#fb9f3a"
             ],
             [
              0.8888888888888888,
              "#fdca26"
             ],
             [
              1,
              "#f0f921"
             ]
            ],
            "type": "heatmap"
           }
          ],
          "heatmapgl": [
           {
            "colorbar": {
             "outlinewidth": 0,
             "ticks": ""
            },
            "colorscale": [
             [
              0,
              "#0d0887"
             ],
             [
              0.1111111111111111,
              "#46039f"
             ],
             [
              0.2222222222222222,
              "#7201a8"
             ],
             [
              0.3333333333333333,
              "#9c179e"
             ],
             [
              0.4444444444444444,
              "#bd3786"
             ],
             [
              0.5555555555555556,
              "#d8576b"
             ],
             [
              0.6666666666666666,
              "#ed7953"
             ],
             [
              0.7777777777777778,
              "#fb9f3a"
             ],
             [
              0.8888888888888888,
              "#fdca26"
             ],
             [
              1,
              "#f0f921"
             ]
            ],
            "type": "heatmapgl"
           }
          ],
          "histogram": [
           {
            "marker": {
             "pattern": {
              "fillmode": "overlay",
              "size": 10,
              "solidity": 0.2
             }
            },
            "type": "histogram"
           }
          ],
          "histogram2d": [
           {
            "colorbar": {
             "outlinewidth": 0,
             "ticks": ""
            },
            "colorscale": [
             [
              0,
              "#0d0887"
             ],
             [
              0.1111111111111111,
              "#46039f"
             ],
             [
              0.2222222222222222,
              "#7201a8"
             ],
             [
              0.3333333333333333,
              "#9c179e"
             ],
             [
              0.4444444444444444,
              "#bd3786"
             ],
             [
              0.5555555555555556,
              "#d8576b"
             ],
             [
              0.6666666666666666,
              "#ed7953"
             ],
             [
              0.7777777777777778,
              "#fb9f3a"
             ],
             [
              0.8888888888888888,
              "#fdca26"
             ],
             [
              1,
              "#f0f921"
             ]
            ],
            "type": "histogram2d"
           }
          ],
          "histogram2dcontour": [
           {
            "colorbar": {
             "outlinewidth": 0,
             "ticks": ""
            },
            "colorscale": [
             [
              0,
              "#0d0887"
             ],
             [
              0.1111111111111111,
              "#46039f"
             ],
             [
              0.2222222222222222,
              "#7201a8"
             ],
             [
              0.3333333333333333,
              "#9c179e"
             ],
             [
              0.4444444444444444,
              "#bd3786"
             ],
             [
              0.5555555555555556,
              "#d8576b"
             ],
             [
              0.6666666666666666,
              "#ed7953"
             ],
             [
              0.7777777777777778,
              "#fb9f3a"
             ],
             [
              0.8888888888888888,
              "#fdca26"
             ],
             [
              1,
              "#f0f921"
             ]
            ],
            "type": "histogram2dcontour"
           }
          ],
          "mesh3d": [
           {
            "colorbar": {
             "outlinewidth": 0,
             "ticks": ""
            },
            "type": "mesh3d"
           }
          ],
          "parcoords": [
           {
            "line": {
             "colorbar": {
              "outlinewidth": 0,
              "ticks": ""
             }
            },
            "type": "parcoords"
           }
          ],
          "pie": [
           {
            "automargin": true,
            "type": "pie"
           }
          ],
          "scatter": [
           {
            "fillpattern": {
             "fillmode": "overlay",
             "size": 10,
             "solidity": 0.2
            },
            "type": "scatter"
           }
          ],
          "scatter3d": [
           {
            "line": {
             "colorbar": {
              "outlinewidth": 0,
              "ticks": ""
             }
            },
            "marker": {
             "colorbar": {
              "outlinewidth": 0,
              "ticks": ""
             }
            },
            "type": "scatter3d"
           }
          ],
          "scattercarpet": [
           {
            "marker": {
             "colorbar": {
              "outlinewidth": 0,
              "ticks": ""
             }
            },
            "type": "scattercarpet"
           }
          ],
          "scattergeo": [
           {
            "marker": {
             "colorbar": {
              "outlinewidth": 0,
              "ticks": ""
             }
            },
            "type": "scattergeo"
           }
          ],
          "scattergl": [
           {
            "marker": {
             "colorbar": {
              "outlinewidth": 0,
              "ticks": ""
             }
            },
            "type": "scattergl"
           }
          ],
          "scattermapbox": [
           {
            "marker": {
             "colorbar": {
              "outlinewidth": 0,
              "ticks": ""
             }
            },
            "type": "scattermapbox"
           }
          ],
          "scatterpolar": [
           {
            "marker": {
             "colorbar": {
              "outlinewidth": 0,
              "ticks": ""
             }
            },
            "type": "scatterpolar"
           }
          ],
          "scatterpolargl": [
           {
            "marker": {
             "colorbar": {
              "outlinewidth": 0,
              "ticks": ""
             }
            },
            "type": "scatterpolargl"
           }
          ],
          "scatterternary": [
           {
            "marker": {
             "colorbar": {
              "outlinewidth": 0,
              "ticks": ""
             }
            },
            "type": "scatterternary"
           }
          ],
          "surface": [
           {
            "colorbar": {
             "outlinewidth": 0,
             "ticks": ""
            },
            "colorscale": [
             [
              0,
              "#0d0887"
             ],
             [
              0.1111111111111111,
              "#46039f"
             ],
             [
              0.2222222222222222,
              "#7201a8"
             ],
             [
              0.3333333333333333,
              "#9c179e"
             ],
             [
              0.4444444444444444,
              "#bd3786"
             ],
             [
              0.5555555555555556,
              "#d8576b"
             ],
             [
              0.6666666666666666,
              "#ed7953"
             ],
             [
              0.7777777777777778,
              "#fb9f3a"
             ],
             [
              0.8888888888888888,
              "#fdca26"
             ],
             [
              1,
              "#f0f921"
             ]
            ],
            "type": "surface"
           }
          ],
          "table": [
           {
            "cells": {
             "fill": {
              "color": "#EBF0F8"
             },
             "line": {
              "color": "white"
             }
            },
            "header": {
             "fill": {
              "color": "#C8D4E3"
             },
             "line": {
              "color": "white"
             }
            },
            "type": "table"
           }
          ]
         },
         "layout": {
          "annotationdefaults": {
           "arrowcolor": "#2a3f5f",
           "arrowhead": 0,
           "arrowwidth": 1
          },
          "autotypenumbers": "strict",
          "coloraxis": {
           "colorbar": {
            "outlinewidth": 0,
            "ticks": ""
           }
          },
          "colorscale": {
           "diverging": [
            [
             0,
             "#8e0152"
            ],
            [
             0.1,
             "#c51b7d"
            ],
            [
             0.2,
             "#de77ae"
            ],
            [
             0.3,
             "#f1b6da"
            ],
            [
             0.4,
             "#fde0ef"
            ],
            [
             0.5,
             "#f7f7f7"
            ],
            [
             0.6,
             "#e6f5d0"
            ],
            [
             0.7,
             "#b8e186"
            ],
            [
             0.8,
             "#7fbc41"
            ],
            [
             0.9,
             "#4d9221"
            ],
            [
             1,
             "#276419"
            ]
           ],
           "sequential": [
            [
             0,
             "#0d0887"
            ],
            [
             0.1111111111111111,
             "#46039f"
            ],
            [
             0.2222222222222222,
             "#7201a8"
            ],
            [
             0.3333333333333333,
             "#9c179e"
            ],
            [
             0.4444444444444444,
             "#bd3786"
            ],
            [
             0.5555555555555556,
             "#d8576b"
            ],
            [
             0.6666666666666666,
             "#ed7953"
            ],
            [
             0.7777777777777778,
             "#fb9f3a"
            ],
            [
             0.8888888888888888,
             "#fdca26"
            ],
            [
             1,
             "#f0f921"
            ]
           ],
           "sequentialminus": [
            [
             0,
             "#0d0887"
            ],
            [
             0.1111111111111111,
             "#46039f"
            ],
            [
             0.2222222222222222,
             "#7201a8"
            ],
            [
             0.3333333333333333,
             "#9c179e"
            ],
            [
             0.4444444444444444,
             "#bd3786"
            ],
            [
             0.5555555555555556,
             "#d8576b"
            ],
            [
             0.6666666666666666,
             "#ed7953"
            ],
            [
             0.7777777777777778,
             "#fb9f3a"
            ],
            [
             0.8888888888888888,
             "#fdca26"
            ],
            [
             1,
             "#f0f921"
            ]
           ]
          },
          "colorway": [
           "#636efa",
           "#EF553B",
           "#00cc96",
           "#ab63fa",
           "#FFA15A",
           "#19d3f3",
           "#FF6692",
           "#B6E880",
           "#FF97FF",
           "#FECB52"
          ],
          "font": {
           "color": "#2a3f5f"
          },
          "geo": {
           "bgcolor": "white",
           "lakecolor": "white",
           "landcolor": "#E5ECF6",
           "showlakes": true,
           "showland": true,
           "subunitcolor": "white"
          },
          "hoverlabel": {
           "align": "left"
          },
          "hovermode": "closest",
          "mapbox": {
           "style": "light"
          },
          "paper_bgcolor": "white",
          "plot_bgcolor": "#E5ECF6",
          "polar": {
           "angularaxis": {
            "gridcolor": "white",
            "linecolor": "white",
            "ticks": ""
           },
           "bgcolor": "#E5ECF6",
           "radialaxis": {
            "gridcolor": "white",
            "linecolor": "white",
            "ticks": ""
           }
          },
          "scene": {
           "xaxis": {
            "backgroundcolor": "#E5ECF6",
            "gridcolor": "white",
            "gridwidth": 2,
            "linecolor": "white",
            "showbackground": true,
            "ticks": "",
            "zerolinecolor": "white"
           },
           "yaxis": {
            "backgroundcolor": "#E5ECF6",
            "gridcolor": "white",
            "gridwidth": 2,
            "linecolor": "white",
            "showbackground": true,
            "ticks": "",
            "zerolinecolor": "white"
           },
           "zaxis": {
            "backgroundcolor": "#E5ECF6",
            "gridcolor": "white",
            "gridwidth": 2,
            "linecolor": "white",
            "showbackground": true,
            "ticks": "",
            "zerolinecolor": "white"
           }
          },
          "shapedefaults": {
           "line": {
            "color": "#2a3f5f"
           }
          },
          "ternary": {
           "aaxis": {
            "gridcolor": "white",
            "linecolor": "white",
            "ticks": ""
           },
           "baxis": {
            "gridcolor": "white",
            "linecolor": "white",
            "ticks": ""
           },
           "bgcolor": "#E5ECF6",
           "caxis": {
            "gridcolor": "white",
            "linecolor": "white",
            "ticks": ""
           }
          },
          "title": {
           "x": 0.05
          },
          "xaxis": {
           "automargin": true,
           "gridcolor": "white",
           "linecolor": "white",
           "ticks": "",
           "title": {
            "standoff": 15
           },
           "zerolinecolor": "white",
           "zerolinewidth": 2
          },
          "yaxis": {
           "automargin": true,
           "gridcolor": "white",
           "linecolor": "white",
           "ticks": "",
           "title": {
            "standoff": 15
           },
           "zerolinecolor": "white",
           "zerolinewidth": 2
          }
         }
        },
        "title": {
         "text": "Pitch-subsampled cross-patient correlation",
         "x": 0.5
        },
        "width": 700,
        "xaxis": {
         "anchor": "y",
         "autorange": "reversed",
         "domain": [
          0,
          1
         ],
         "linecolor": "black",
         "mirror": false,
         "showgrid": false,
         "showline": true,
         "ticks": "outside",
         "tickvals": [
          10,
          9,
          8,
          7,
          6,
          5,
          4,
          3,
          2,
          1.5
         ],
         "title": {
          "text": "Effective Pitch (mm)"
         }
        },
        "yaxis": {
         "anchor": "x",
         "domain": [
          0,
          1
         ],
         "linecolor": "black",
         "mirror": false,
         "range": [
          -0.025,
          0.75
         ],
         "showgrid": false,
         "showline": true,
         "ticks": "outside",
         "title": {
          "text": "Pearson <i>r</i>"
         }
        }
       }
      }
     },
     "metadata": {},
     "output_type": "display_data"
    }
   ],
   "source": [
    "fig = px.line(mean_pitch_corr_df, x='Pitch', y=\"Correlation\", color='Patient', width=700, height=500)\n",
    "fig.add_traces(px.box(mean_pitch_corr_df, x='Pitch', y=\"Correlation\").data)\n",
    "\n",
    "fig.update_layout(\n",
    "    plot_bgcolor='white',\n",
    "    legend=dict(\n",
    "        orientation='h',\n",
    "        yanchor='top',\n",
    "        y=0.98,\n",
    "        xanchor='left',\n",
    "        x=0.02,\n",
    "        title_text=''\n",
    "    ),\n",
    "    title_text=f'Pitch-subsampled cross-patient correlation',\n",
    "    title_x=0.5,\n",
    "    font=dict(size=18, family='Arial'),\n",
    ")\n",
    "fig.update_xaxes(\n",
    "    title='Effective Pitch (mm)',\n",
    "    mirror=False,\n",
    "    ticks='outside',\n",
    "    showline=True,\n",
    "    linecolor='black',\n",
    "    showgrid=False,\n",
    "    autorange='reversed',\n",
    "    tickvals=pitch_list,\n",
    ")\n",
    "fig.update_yaxes(\n",
    "    title='Pearson <i>r</i>',\n",
    "    mirror=False,\n",
    "    ticks='outside',\n",
    "    showline=True,\n",
    "    linecolor='black',\n",
    "    showgrid=False,\n",
    "    range=[-0.025, 0.75]\n",
    ")\n",
    "\n",
    "fig.show()"
   ]
  },
  {
   "cell_type": "markdown",
   "metadata": {},
   "source": [
    "#### Cross-patient decoding"
   ]
  },
  {
   "cell_type": "code",
   "execution_count": 93,
   "metadata": {},
   "outputs": [],
   "source": [
    "pt_list = ['S14', 'S22', 'S23', 'S26', 'S33', 'S39', 'S58', 'S62']\n",
    "\n",
    "pInd_list = [-1]\n",
    "\n",
    "pitch_list = [10, 9, 8, 7, 6, 5, 4, 3, 2, 1.5]\n",
    "\n",
    "wide_dfs = []\n",
    "long_dfs = []\n",
    "for pt in pt_list:\n",
    "    for p_ind in pInd_list:\n",
    "        p_str = 'pAll' if p_ind == -1 else f'p{p_ind}'\n",
    "        for pitch in pitch_list:\n",
    "            if pitch == 1.5:\n",
    "                pitch_str = '1-5'\n",
    "            else:\n",
    "                pitch_str = str(int(pitch))\n",
    "\n",
    "            p_tar = np.zeros((2, 50))\n",
    "            p_tar[0,:] = cmat_wrap(*[utils.load_pkl(DECODE_PATH + f'ptSpecific/{pt}/pitch_subsampling/{pt}_{p_str}_pitchSubsamp{pitch_str}mm_ptSpecific_rbf_noCV_20fold.pkl')[k] for k in ['y_true', 'y_pred']])\n",
    "            p_tar[1,:] = cmat_wrap(*[utils.load_pkl(DECODE_PATH + f'pooled/S62_added/{pt}/pitch_subsampling/cca/{pt}_{p_str}_pitchSubsamp{pitch_str}mm_pooled_ccaAligned_rbf_noCV_20fold.pkl')[k] for k in ['y_true', 'y_pred']])\n",
    "            decode_df = pd.DataFrame(p_tar.T, columns=['Patient-specific', 'Aligned cross-patient'])\n",
    "\n",
    "            wide_dfs.append(decode_df)\n",
    "            decode_df = pd.melt(decode_df, var_name='Decoding Context', value_name='Decoding Accuracy')\n",
    "            decode_df['Patient'] = paper_pt_dict[pt]\n",
    "            decode_df['Phoneme Index'] = p_str\n",
    "            decode_df['Pitch'] = pitch\n",
    "            cols = decode_df.columns.tolist()\n",
    "            cols = cols[-2:] + cols[:-2]\n",
    "            decode_df = decode_df[cols]\n",
    "            long_dfs.append(decode_df)\n",
    "pitch_decode_df_wide = pd.concat(wide_dfs)\n",
    "pitch_decode_df_long = pd.concat(long_dfs)\n",
    "pitch_decode_df_long = pitch_decode_df_long.sort_values(by=['Pitch', 'Decoding Context'], ascending=[False, True])\n"
   ]
  },
  {
   "cell_type": "code",
   "execution_count": 94,
   "metadata": {},
   "outputs": [
    {
     "data": {
      "application/vnd.microsoft.datawrangler.viewer.v0+json": {
       "columns": [
        {
         "name": "index",
         "rawType": "int64",
         "type": "integer"
        },
        {
         "name": "Phoneme Index",
         "rawType": "object",
         "type": "string"
        },
        {
         "name": "Pitch",
         "rawType": "float64",
         "type": "float"
        },
        {
         "name": "Decoding Context",
         "rawType": "object",
         "type": "string"
        },
        {
         "name": "Decoding Accuracy",
         "rawType": "float64",
         "type": "float"
        },
        {
         "name": "Patient",
         "rawType": "object",
         "type": "string"
        }
       ],
       "conversionMethod": "pd.DataFrame",
       "ref": "197b58e2-4d48-46ff-a670-448944a68c20",
       "rows": [
        [
         "50",
         "pAll",
         "10.0",
         "Aligned cross-patient",
         "0.18518518518518517",
         "S1"
        ],
        [
         "51",
         "pAll",
         "10.0",
         "Aligned cross-patient",
         "0.15046296296296297",
         "S1"
        ],
        [
         "52",
         "pAll",
         "10.0",
         "Aligned cross-patient",
         "0.16666666666666666",
         "S1"
        ],
        [
         "53",
         "pAll",
         "10.0",
         "Aligned cross-patient",
         "0.18287037037037038",
         "S1"
        ],
        [
         "54",
         "pAll",
         "10.0",
         "Aligned cross-patient",
         "0.09722222222222222",
         "S1"
        ],
        [
         "55",
         "pAll",
         "10.0",
         "Aligned cross-patient",
         "0.2337962962962963",
         "S1"
        ],
        [
         "56",
         "pAll",
         "10.0",
         "Aligned cross-patient",
         "0.11342592592592593",
         "S1"
        ],
        [
         "57",
         "pAll",
         "10.0",
         "Aligned cross-patient",
         "0.1412037037037037",
         "S1"
        ],
        [
         "58",
         "pAll",
         "10.0",
         "Aligned cross-patient",
         "0.14583333333333334",
         "S1"
        ],
        [
         "59",
         "pAll",
         "10.0",
         "Aligned cross-patient",
         "0.1574074074074074",
         "S1"
        ],
        [
         "60",
         "pAll",
         "10.0",
         "Aligned cross-patient",
         "0.1574074074074074",
         "S1"
        ],
        [
         "61",
         "pAll",
         "10.0",
         "Aligned cross-patient",
         "0.18518518518518517",
         "S1"
        ],
        [
         "62",
         "pAll",
         "10.0",
         "Aligned cross-patient",
         "0.2013888888888889",
         "S1"
        ],
        [
         "63",
         "pAll",
         "10.0",
         "Aligned cross-patient",
         "0.2152777777777778",
         "S1"
        ],
        [
         "64",
         "pAll",
         "10.0",
         "Aligned cross-patient",
         "0.20833333333333334",
         "S1"
        ],
        [
         "65",
         "pAll",
         "10.0",
         "Aligned cross-patient",
         "0.22453703703703703",
         "S1"
        ],
        [
         "66",
         "pAll",
         "10.0",
         "Aligned cross-patient",
         "0.1712962962962963",
         "S1"
        ],
        [
         "67",
         "pAll",
         "10.0",
         "Aligned cross-patient",
         "0.11342592592592593",
         "S1"
        ],
        [
         "68",
         "pAll",
         "10.0",
         "Aligned cross-patient",
         "0.2013888888888889",
         "S1"
        ],
        [
         "69",
         "pAll",
         "10.0",
         "Aligned cross-patient",
         "0.1412037037037037",
         "S1"
        ],
        [
         "70",
         "pAll",
         "10.0",
         "Aligned cross-patient",
         "0.16435185185185186",
         "S1"
        ],
        [
         "71",
         "pAll",
         "10.0",
         "Aligned cross-patient",
         "0.16666666666666666",
         "S1"
        ],
        [
         "72",
         "pAll",
         "10.0",
         "Aligned cross-patient",
         "0.2337962962962963",
         "S1"
        ],
        [
         "73",
         "pAll",
         "10.0",
         "Aligned cross-patient",
         "0.1550925925925926",
         "S1"
        ],
        [
         "74",
         "pAll",
         "10.0",
         "Aligned cross-patient",
         "0.1550925925925926",
         "S1"
        ],
        [
         "75",
         "pAll",
         "10.0",
         "Aligned cross-patient",
         "0.22916666666666666",
         "S1"
        ],
        [
         "76",
         "pAll",
         "10.0",
         "Aligned cross-patient",
         "0.1597222222222222",
         "S1"
        ],
        [
         "77",
         "pAll",
         "10.0",
         "Aligned cross-patient",
         "0.17824074074074073",
         "S1"
        ],
        [
         "78",
         "pAll",
         "10.0",
         "Aligned cross-patient",
         "0.1527777777777778",
         "S1"
        ],
        [
         "79",
         "pAll",
         "10.0",
         "Aligned cross-patient",
         "0.2175925925925926",
         "S1"
        ],
        [
         "80",
         "pAll",
         "10.0",
         "Aligned cross-patient",
         "0.16898148148148148",
         "S1"
        ],
        [
         "81",
         "pAll",
         "10.0",
         "Aligned cross-patient",
         "0.20833333333333334",
         "S1"
        ],
        [
         "82",
         "pAll",
         "10.0",
         "Aligned cross-patient",
         "0.20601851851851852",
         "S1"
        ],
        [
         "83",
         "pAll",
         "10.0",
         "Aligned cross-patient",
         "0.18055555555555555",
         "S1"
        ],
        [
         "84",
         "pAll",
         "10.0",
         "Aligned cross-patient",
         "0.2013888888888889",
         "S1"
        ],
        [
         "85",
         "pAll",
         "10.0",
         "Aligned cross-patient",
         "0.13657407407407407",
         "S1"
        ],
        [
         "86",
         "pAll",
         "10.0",
         "Aligned cross-patient",
         "0.15046296296296297",
         "S1"
        ],
        [
         "87",
         "pAll",
         "10.0",
         "Aligned cross-patient",
         "0.20601851851851852",
         "S1"
        ],
        [
         "88",
         "pAll",
         "10.0",
         "Aligned cross-patient",
         "0.17824074074074073",
         "S1"
        ],
        [
         "89",
         "pAll",
         "10.0",
         "Aligned cross-patient",
         "0.2569444444444444",
         "S1"
        ],
        [
         "90",
         "pAll",
         "10.0",
         "Aligned cross-patient",
         "0.19675925925925927",
         "S1"
        ],
        [
         "91",
         "pAll",
         "10.0",
         "Aligned cross-patient",
         "0.09953703703703703",
         "S1"
        ],
        [
         "92",
         "pAll",
         "10.0",
         "Aligned cross-patient",
         "0.14814814814814814",
         "S1"
        ],
        [
         "93",
         "pAll",
         "10.0",
         "Aligned cross-patient",
         "0.2013888888888889",
         "S1"
        ],
        [
         "94",
         "pAll",
         "10.0",
         "Aligned cross-patient",
         "0.1412037037037037",
         "S1"
        ],
        [
         "95",
         "pAll",
         "10.0",
         "Aligned cross-patient",
         "0.1574074074074074",
         "S1"
        ],
        [
         "96",
         "pAll",
         "10.0",
         "Aligned cross-patient",
         "0.1597222222222222",
         "S1"
        ],
        [
         "97",
         "pAll",
         "10.0",
         "Aligned cross-patient",
         "0.14351851851851852",
         "S1"
        ],
        [
         "98",
         "pAll",
         "10.0",
         "Aligned cross-patient",
         "0.1111111111111111",
         "S1"
        ],
        [
         "99",
         "pAll",
         "10.0",
         "Aligned cross-patient",
         "0.18287037037037038",
         "S1"
        ]
       ],
       "shape": {
        "columns": 5,
        "rows": 8000
       }
      },
      "text/html": [
       "<div>\n",
       "<style scoped>\n",
       "    .dataframe tbody tr th:only-of-type {\n",
       "        vertical-align: middle;\n",
       "    }\n",
       "\n",
       "    .dataframe tbody tr th {\n",
       "        vertical-align: top;\n",
       "    }\n",
       "\n",
       "    .dataframe thead th {\n",
       "        text-align: right;\n",
       "    }\n",
       "</style>\n",
       "<table border=\"1\" class=\"dataframe\">\n",
       "  <thead>\n",
       "    <tr style=\"text-align: right;\">\n",
       "      <th></th>\n",
       "      <th>Phoneme Index</th>\n",
       "      <th>Pitch</th>\n",
       "      <th>Decoding Context</th>\n",
       "      <th>Decoding Accuracy</th>\n",
       "      <th>Patient</th>\n",
       "    </tr>\n",
       "  </thead>\n",
       "  <tbody>\n",
       "    <tr>\n",
       "      <th>50</th>\n",
       "      <td>pAll</td>\n",
       "      <td>10.0</td>\n",
       "      <td>Aligned cross-patient</td>\n",
       "      <td>0.185185</td>\n",
       "      <td>S1</td>\n",
       "    </tr>\n",
       "    <tr>\n",
       "      <th>51</th>\n",
       "      <td>pAll</td>\n",
       "      <td>10.0</td>\n",
       "      <td>Aligned cross-patient</td>\n",
       "      <td>0.150463</td>\n",
       "      <td>S1</td>\n",
       "    </tr>\n",
       "    <tr>\n",
       "      <th>52</th>\n",
       "      <td>pAll</td>\n",
       "      <td>10.0</td>\n",
       "      <td>Aligned cross-patient</td>\n",
       "      <td>0.166667</td>\n",
       "      <td>S1</td>\n",
       "    </tr>\n",
       "    <tr>\n",
       "      <th>53</th>\n",
       "      <td>pAll</td>\n",
       "      <td>10.0</td>\n",
       "      <td>Aligned cross-patient</td>\n",
       "      <td>0.182870</td>\n",
       "      <td>S1</td>\n",
       "    </tr>\n",
       "    <tr>\n",
       "      <th>54</th>\n",
       "      <td>pAll</td>\n",
       "      <td>10.0</td>\n",
       "      <td>Aligned cross-patient</td>\n",
       "      <td>0.097222</td>\n",
       "      <td>S1</td>\n",
       "    </tr>\n",
       "    <tr>\n",
       "      <th>...</th>\n",
       "      <td>...</td>\n",
       "      <td>...</td>\n",
       "      <td>...</td>\n",
       "      <td>...</td>\n",
       "      <td>...</td>\n",
       "    </tr>\n",
       "    <tr>\n",
       "      <th>45</th>\n",
       "      <td>pAll</td>\n",
       "      <td>1.5</td>\n",
       "      <td>Patient-specific</td>\n",
       "      <td>0.286517</td>\n",
       "      <td>S8</td>\n",
       "    </tr>\n",
       "    <tr>\n",
       "      <th>46</th>\n",
       "      <td>pAll</td>\n",
       "      <td>1.5</td>\n",
       "      <td>Patient-specific</td>\n",
       "      <td>0.310861</td>\n",
       "      <td>S8</td>\n",
       "    </tr>\n",
       "    <tr>\n",
       "      <th>47</th>\n",
       "      <td>pAll</td>\n",
       "      <td>1.5</td>\n",
       "      <td>Patient-specific</td>\n",
       "      <td>0.286517</td>\n",
       "      <td>S8</td>\n",
       "    </tr>\n",
       "    <tr>\n",
       "      <th>48</th>\n",
       "      <td>pAll</td>\n",
       "      <td>1.5</td>\n",
       "      <td>Patient-specific</td>\n",
       "      <td>0.299625</td>\n",
       "      <td>S8</td>\n",
       "    </tr>\n",
       "    <tr>\n",
       "      <th>49</th>\n",
       "      <td>pAll</td>\n",
       "      <td>1.5</td>\n",
       "      <td>Patient-specific</td>\n",
       "      <td>0.284644</td>\n",
       "      <td>S8</td>\n",
       "    </tr>\n",
       "  </tbody>\n",
       "</table>\n",
       "<p>8000 rows × 5 columns</p>\n",
       "</div>"
      ],
      "text/plain": [
       "   Phoneme Index  Pitch       Decoding Context  Decoding Accuracy Patient\n",
       "50          pAll   10.0  Aligned cross-patient           0.185185      S1\n",
       "51          pAll   10.0  Aligned cross-patient           0.150463      S1\n",
       "52          pAll   10.0  Aligned cross-patient           0.166667      S1\n",
       "53          pAll   10.0  Aligned cross-patient           0.182870      S1\n",
       "54          pAll   10.0  Aligned cross-patient           0.097222      S1\n",
       "..           ...    ...                    ...                ...     ...\n",
       "45          pAll    1.5       Patient-specific           0.286517      S8\n",
       "46          pAll    1.5       Patient-specific           0.310861      S8\n",
       "47          pAll    1.5       Patient-specific           0.286517      S8\n",
       "48          pAll    1.5       Patient-specific           0.299625      S8\n",
       "49          pAll    1.5       Patient-specific           0.284644      S8\n",
       "\n",
       "[8000 rows x 5 columns]"
      ]
     },
     "execution_count": 94,
     "metadata": {},
     "output_type": "execute_result"
    }
   ],
   "source": [
    "pitch_decode_df_long"
   ]
  },
  {
   "cell_type": "code",
   "execution_count": 95,
   "metadata": {},
   "outputs": [
    {
     "data": {
      "application/vnd.microsoft.datawrangler.viewer.v0+json": {
       "columns": [
        {
         "name": "index",
         "rawType": "int64",
         "type": "integer"
        },
        {
         "name": "Patient",
         "rawType": "object",
         "type": "string"
        },
        {
         "name": "Pitch",
         "rawType": "float64",
         "type": "float"
        },
        {
         "name": "Decoding Context",
         "rawType": "object",
         "type": "string"
        },
        {
         "name": "Decoding Accuracy",
         "rawType": "float64",
         "type": "float"
        }
       ],
       "conversionMethod": "pd.DataFrame",
       "ref": "f28bb8ae-6f65-47cb-96b5-5b68c5961f81",
       "rows": [
        [
         "0",
         "S1",
         "1.5",
         "Aligned cross-patient",
         "0.3971296296296296"
        ],
        [
         "1",
         "S1",
         "1.5",
         "Patient-specific",
         "0.38495370370370374"
        ],
        [
         "2",
         "S1",
         "2.0",
         "Aligned cross-patient",
         "0.365787037037037"
        ],
        [
         "3",
         "S1",
         "2.0",
         "Patient-specific",
         "0.36324074074074075"
        ],
        [
         "4",
         "S1",
         "3.0",
         "Aligned cross-patient",
         "0.28347222222222224"
        ],
        [
         "5",
         "S1",
         "3.0",
         "Patient-specific",
         "0.30583333333333335"
        ],
        [
         "6",
         "S1",
         "4.0",
         "Aligned cross-patient",
         "0.26708333333333334"
        ],
        [
         "7",
         "S1",
         "4.0",
         "Patient-specific",
         "0.2902777777777778"
        ],
        [
         "8",
         "S1",
         "5.0",
         "Aligned cross-patient",
         "0.23916666666666667"
        ],
        [
         "9",
         "S1",
         "5.0",
         "Patient-specific",
         "0.26416666666666666"
        ],
        [
         "10",
         "S1",
         "6.0",
         "Aligned cross-patient",
         "0.20958333333333332"
        ],
        [
         "11",
         "S1",
         "6.0",
         "Patient-specific",
         "0.2401851851851852"
        ],
        [
         "12",
         "S1",
         "7.0",
         "Aligned cross-patient",
         "0.18291666666666667"
        ],
        [
         "13",
         "S1",
         "7.0",
         "Patient-specific",
         "0.22490740740740742"
        ],
        [
         "14",
         "S1",
         "8.0",
         "Aligned cross-patient",
         "0.18074074074074073"
        ],
        [
         "15",
         "S1",
         "8.0",
         "Patient-specific",
         "0.2126851851851852"
        ],
        [
         "16",
         "S1",
         "9.0",
         "Aligned cross-patient",
         "0.16708333333333333"
        ],
        [
         "17",
         "S1",
         "9.0",
         "Patient-specific",
         "0.2049537037037037"
        ],
        [
         "18",
         "S1",
         "10.0",
         "Aligned cross-patient",
         "0.17282407407407407"
        ],
        [
         "19",
         "S1",
         "10.0",
         "Patient-specific",
         "0.20277777777777778"
        ],
        [
         "20",
         "S2",
         "1.5",
         "Aligned cross-patient",
         "0.4484234234234234"
        ],
        [
         "21",
         "S2",
         "1.5",
         "Patient-specific",
         "0.41405405405405404"
        ],
        [
         "22",
         "S2",
         "2.0",
         "Aligned cross-patient",
         "0.37810810810810813"
        ],
        [
         "23",
         "S2",
         "2.0",
         "Patient-specific",
         "0.3603603603603604"
        ],
        [
         "24",
         "S2",
         "3.0",
         "Aligned cross-patient",
         "0.26175675675675675"
        ],
        [
         "25",
         "S2",
         "3.0",
         "Patient-specific",
         "0.25779279279279277"
        ],
        [
         "26",
         "S2",
         "4.0",
         "Aligned cross-patient",
         "0.22806306306306307"
        ],
        [
         "27",
         "S2",
         "4.0",
         "Patient-specific",
         "0.2469369369369369"
        ],
        [
         "28",
         "S2",
         "5.0",
         "Aligned cross-patient",
         "0.19373873873873873"
        ],
        [
         "29",
         "S2",
         "5.0",
         "Patient-specific",
         "0.21243243243243243"
        ],
        [
         "30",
         "S2",
         "6.0",
         "Aligned cross-patient",
         "0.16486486486486487"
        ],
        [
         "31",
         "S2",
         "6.0",
         "Patient-specific",
         "0.1881981981981982"
        ],
        [
         "32",
         "S2",
         "7.0",
         "Aligned cross-patient",
         "0.15162162162162163"
        ],
        [
         "33",
         "S2",
         "7.0",
         "Patient-specific",
         "0.1754954954954955"
        ],
        [
         "34",
         "S2",
         "8.0",
         "Aligned cross-patient",
         "0.15175675675675676"
        ],
        [
         "35",
         "S2",
         "8.0",
         "Patient-specific",
         "0.1732882882882883"
        ],
        [
         "36",
         "S2",
         "9.0",
         "Aligned cross-patient",
         "0.1363063063063063"
        ],
        [
         "37",
         "S2",
         "9.0",
         "Patient-specific",
         "0.16301801801801802"
        ],
        [
         "38",
         "S2",
         "10.0",
         "Aligned cross-patient",
         "0.13364864864864864"
        ],
        [
         "39",
         "S2",
         "10.0",
         "Patient-specific",
         "0.1558108108108108"
        ],
        [
         "40",
         "S3",
         "1.5",
         "Aligned cross-patient",
         "0.5192753623188406"
        ],
        [
         "41",
         "S3",
         "1.5",
         "Patient-specific",
         "0.27014492753623187"
        ],
        [
         "42",
         "S3",
         "2.0",
         "Aligned cross-patient",
         "0.4736231884057971"
        ],
        [
         "43",
         "S3",
         "2.0",
         "Patient-specific",
         "0.27956521739130435"
        ],
        [
         "44",
         "S3",
         "3.0",
         "Aligned cross-patient",
         "0.3760869565217391"
        ],
        [
         "45",
         "S3",
         "3.0",
         "Patient-specific",
         "0.2515942028985507"
        ],
        [
         "46",
         "S3",
         "4.0",
         "Aligned cross-patient",
         "0.29246376811594205"
        ],
        [
         "47",
         "S3",
         "4.0",
         "Patient-specific",
         "0.22014492753623188"
        ],
        [
         "48",
         "S3",
         "5.0",
         "Aligned cross-patient",
         "0.2655072463768116"
        ],
        [
         "49",
         "S3",
         "5.0",
         "Patient-specific",
         "0.21072463768115943"
        ]
       ],
       "shape": {
        "columns": 4,
        "rows": 160
       }
      },
      "text/html": [
       "<div>\n",
       "<style scoped>\n",
       "    .dataframe tbody tr th:only-of-type {\n",
       "        vertical-align: middle;\n",
       "    }\n",
       "\n",
       "    .dataframe tbody tr th {\n",
       "        vertical-align: top;\n",
       "    }\n",
       "\n",
       "    .dataframe thead th {\n",
       "        text-align: right;\n",
       "    }\n",
       "</style>\n",
       "<table border=\"1\" class=\"dataframe\">\n",
       "  <thead>\n",
       "    <tr style=\"text-align: right;\">\n",
       "      <th></th>\n",
       "      <th>Patient</th>\n",
       "      <th>Pitch</th>\n",
       "      <th>Decoding Context</th>\n",
       "      <th>Decoding Accuracy</th>\n",
       "    </tr>\n",
       "  </thead>\n",
       "  <tbody>\n",
       "    <tr>\n",
       "      <th>0</th>\n",
       "      <td>S1</td>\n",
       "      <td>1.5</td>\n",
       "      <td>Aligned cross-patient</td>\n",
       "      <td>0.397130</td>\n",
       "    </tr>\n",
       "    <tr>\n",
       "      <th>1</th>\n",
       "      <td>S1</td>\n",
       "      <td>1.5</td>\n",
       "      <td>Patient-specific</td>\n",
       "      <td>0.384954</td>\n",
       "    </tr>\n",
       "    <tr>\n",
       "      <th>2</th>\n",
       "      <td>S1</td>\n",
       "      <td>2.0</td>\n",
       "      <td>Aligned cross-patient</td>\n",
       "      <td>0.365787</td>\n",
       "    </tr>\n",
       "    <tr>\n",
       "      <th>3</th>\n",
       "      <td>S1</td>\n",
       "      <td>2.0</td>\n",
       "      <td>Patient-specific</td>\n",
       "      <td>0.363241</td>\n",
       "    </tr>\n",
       "    <tr>\n",
       "      <th>4</th>\n",
       "      <td>S1</td>\n",
       "      <td>3.0</td>\n",
       "      <td>Aligned cross-patient</td>\n",
       "      <td>0.283472</td>\n",
       "    </tr>\n",
       "    <tr>\n",
       "      <th>...</th>\n",
       "      <td>...</td>\n",
       "      <td>...</td>\n",
       "      <td>...</td>\n",
       "      <td>...</td>\n",
       "    </tr>\n",
       "    <tr>\n",
       "      <th>155</th>\n",
       "      <td>S8</td>\n",
       "      <td>8.0</td>\n",
       "      <td>Patient-specific</td>\n",
       "      <td>0.172809</td>\n",
       "    </tr>\n",
       "    <tr>\n",
       "      <th>156</th>\n",
       "      <td>S8</td>\n",
       "      <td>9.0</td>\n",
       "      <td>Aligned cross-patient</td>\n",
       "      <td>0.151461</td>\n",
       "    </tr>\n",
       "    <tr>\n",
       "      <th>157</th>\n",
       "      <td>S8</td>\n",
       "      <td>9.0</td>\n",
       "      <td>Patient-specific</td>\n",
       "      <td>0.162959</td>\n",
       "    </tr>\n",
       "    <tr>\n",
       "      <th>158</th>\n",
       "      <td>S8</td>\n",
       "      <td>10.0</td>\n",
       "      <td>Aligned cross-patient</td>\n",
       "      <td>0.143109</td>\n",
       "    </tr>\n",
       "    <tr>\n",
       "      <th>159</th>\n",
       "      <td>S8</td>\n",
       "      <td>10.0</td>\n",
       "      <td>Patient-specific</td>\n",
       "      <td>0.159625</td>\n",
       "    </tr>\n",
       "  </tbody>\n",
       "</table>\n",
       "<p>160 rows × 4 columns</p>\n",
       "</div>"
      ],
      "text/plain": [
       "    Patient  Pitch       Decoding Context  Decoding Accuracy\n",
       "0        S1    1.5  Aligned cross-patient           0.397130\n",
       "1        S1    1.5       Patient-specific           0.384954\n",
       "2        S1    2.0  Aligned cross-patient           0.365787\n",
       "3        S1    2.0       Patient-specific           0.363241\n",
       "4        S1    3.0  Aligned cross-patient           0.283472\n",
       "..      ...    ...                    ...                ...\n",
       "155      S8    8.0       Patient-specific           0.172809\n",
       "156      S8    9.0  Aligned cross-patient           0.151461\n",
       "157      S8    9.0       Patient-specific           0.162959\n",
       "158      S8   10.0  Aligned cross-patient           0.143109\n",
       "159      S8   10.0       Patient-specific           0.159625\n",
       "\n",
       "[160 rows x 4 columns]"
      ]
     },
     "execution_count": 95,
     "metadata": {},
     "output_type": "execute_result"
    }
   ],
   "source": [
    "mean_pitch_decode_df = pitch_decode_df_long.drop(columns=['Phoneme Index']).groupby(['Patient', 'Pitch', 'Decoding Context']).mean().reset_index()\n",
    "mean_pitch_decode_df"
   ]
  },
  {
   "cell_type": "code",
   "execution_count": 166,
   "metadata": {},
   "outputs": [
    {
     "data": {
      "image/png": "[encoded data removed]",
      "text/plain": [
       "<Figure size 800x600 with 1 Axes>"
      ]
     },
     "metadata": {},
     "output_type": "display_data"
    }
   ],
   "source": [
    "f, ax1 = plt.subplots(1,1, figsize=(8,6))\n",
    "sns.lineplot(data=mean_pitch_decode_df, x='Pitch', y='Decoding Accuracy', hue='Decoding Context', marker='o', errorbar='sd', palette=[px_colors[3], px_colors[0]])\n",
    "ax1.invert_xaxis()\n",
    "ax1.set_xticks(pitch_list)\n",
    "ax1.set_xlabel('')\n",
    "ax1.set_ylabel('')\n",
    "ax1.axhline(1/9, color='grey', linestyle='--')\n",
    "ax1.set_ylim(0.05, 0.45)\n",
    "ax1.legend(loc='upper left')\n",
    "ax1.set_ylim(0, 0.45)\n",
    "\n",
    "sns.despine()\n",
    "plt.show()"
   ]
  },
  {
   "cell_type": "code",
   "execution_count": null,
   "metadata": {},
   "outputs": [
    {
     "name": "stdout",
     "output_type": "stream",
     "text": [
      "[False False False False False False False False  True  True]\n",
      "Pitch: 10 - t-statistic: 0.006845072735404023, p-value: 0.265625, FDR-corrected p-value: 0.537109375\n",
      "Pitch: 9 - t-statistic: 0.006088327323916731, p-value: 0.3984375, FDR-corrected p-value: 0.537109375\n",
      "Pitch: 8 - t-statistic: 0.005973775033555756, p-value: 0.359375, FDR-corrected p-value: 0.537109375\n",
      "Pitch: 7 - t-statistic: 0.00803611234981974, p-value: 0.2734375, FDR-corrected p-value: 0.537109375\n",
      "Pitch: 6 - t-statistic: 0.0004476749618374243, p-value: 0.90625, FDR-corrected p-value: 0.90625\n",
      "Pitch: 5 - t-statistic: -0.006883171987296682, p-value: 0.4921875, FDR-corrected p-value: 0.546875\n",
      "Pitch: 4 - t-statistic: -0.010584504153274943, p-value: 0.4296875, FDR-corrected p-value: 0.537109375\n",
      "Pitch: 3 - t-statistic: -0.02565174963878336, p-value: 0.1015625, FDR-corrected p-value: 0.3385416666666667\n",
      "Pitch: 2 - t-statistic: -0.052248411820123575, p-value: 0.0078125, FDR-corrected p-value: 0.0390625\n",
      "Pitch: 1.5 - t-statistic: -0.06567914823139898, p-value: 0.0078125, FDR-corrected p-value: 0.0390625\n"
     ]
    }
   ],
   "source": [
    "# run stats on difference between CCA and Patient-Specific decoding at each contact size\n",
    "def diff_stat(a,b,axis):\n",
    "    return np.mean(a, axis=axis) - np.mean(b, axis=axis)\n",
    "\n",
    "stat_data = []\n",
    "for pitch in pitch_list:\n",
    "    pt_spf = mean_pitch_decode_df[(mean_pitch_decode_df['Decoding Context'] == 'Patient-specific') & (mean_pitch_decode_df['Pitch'] == pitch)]['Decoding Accuracy']\n",
    "    cca = mean_pitch_decode_df[(mean_pitch_decode_df['Decoding Context'] == 'Aligned cross-patient') & (mean_pitch_decode_df['Pitch'] == pitch)]['Decoding Accuracy']\n",
    "\n",
    "    res = stats.permutation_test((pt_spf, cca), diff_stat, permutation_type='samples')\n",
    "    stat_data.append((pitch, res.statistic, res.pvalue))\n",
    "\n",
    "fdr_pass, fdr_pvals = fdrcorrection([p_val for _, _, p_val in stat_data])\n",
    "print(fdr_pass)\n",
    "for i in range(len(stat_data)):\n",
    "    print(f'Pitch: {stat_data[i][0]} - t-statistic: {stat_data[i][1]}, p-value: {stat_data[i][2]}, FDR-corrected p-value: {fdr_pvals[i]}')"
   ]
  },
  {
   "cell_type": "markdown",
   "metadata": {},
   "source": [
    "### Panel b"
   ]
  },
  {
   "cell_type": "markdown",
   "metadata": {},
   "source": [
    "#### Cross-patient correlation"
   ]
  },
  {
   "cell_type": "code",
   "execution_count": 61,
   "metadata": {},
   "outputs": [
    {
     "name": "stdout",
     "output_type": "stream",
     "text": [
      "##### Aligning to S14 (S1) #####\n",
      "Grid Size: 2x4\n"
     ]
    },
    {
     "name": "stderr",
     "output_type": "stream",
     "text": [
      "100%|██████████| 91/91 [00:30<00:00,  2.96it/s]\n"
     ]
    },
    {
     "name": "stdout",
     "output_type": "stream",
     "text": [
      "Grid Size: 3x6\n"
     ]
    },
    {
     "name": "stderr",
     "output_type": "stream",
     "text": [
      "100%|██████████| 66/66 [00:39<00:00,  1.66it/s]\n"
     ]
    },
    {
     "name": "stdout",
     "output_type": "stream",
     "text": [
      "Grid Size: 4x8\n"
     ]
    },
    {
     "name": "stderr",
     "output_type": "stream",
     "text": [
      "100%|██████████| 45/45 [00:31<00:00,  1.41it/s]\n"
     ]
    },
    {
     "name": "stdout",
     "output_type": "stream",
     "text": [
      "Grid Size: 5x10\n"
     ]
    },
    {
     "name": "stderr",
     "output_type": "stream",
     "text": [
      "100%|██████████| 28/28 [00:23<00:00,  1.17it/s]\n"
     ]
    },
    {
     "name": "stdout",
     "output_type": "stream",
     "text": [
      "Grid Size: 6x12\n"
     ]
    },
    {
     "name": "stderr",
     "output_type": "stream",
     "text": [
      "100%|██████████| 15/15 [00:21<00:00,  1.43s/it]\n"
     ]
    },
    {
     "name": "stdout",
     "output_type": "stream",
     "text": [
      "Grid Size: 7x14\n"
     ]
    },
    {
     "name": "stderr",
     "output_type": "stream",
     "text": [
      "100%|██████████| 6/6 [00:08<00:00,  1.40s/it]\n"
     ]
    },
    {
     "name": "stdout",
     "output_type": "stream",
     "text": [
      "Grid Size: 8x16\n"
     ]
    },
    {
     "name": "stderr",
     "output_type": "stream",
     "text": [
      "100%|██████████| 1/1 [00:01<00:00,  1.62s/it]\n"
     ]
    },
    {
     "name": "stdout",
     "output_type": "stream",
     "text": [
      "##### Aligning to S26 (S2) #####\n",
      "Grid Size: 2x4\n"
     ]
    },
    {
     "name": "stderr",
     "output_type": "stream",
     "text": [
      "100%|██████████| 90/90 [00:27<00:00,  3.26it/s]\n"
     ]
    },
    {
     "name": "stdout",
     "output_type": "stream",
     "text": [
      "Grid Size: 3x6\n"
     ]
    },
    {
     "name": "stderr",
     "output_type": "stream",
     "text": [
      "100%|██████████| 66/66 [00:32<00:00,  2.01it/s]\n"
     ]
    },
    {
     "name": "stdout",
     "output_type": "stream",
     "text": [
      "Grid Size: 4x8\n"
     ]
    },
    {
     "name": "stderr",
     "output_type": "stream",
     "text": [
      "100%|██████████| 45/45 [00:33<00:00,  1.34it/s]\n"
     ]
    },
    {
     "name": "stdout",
     "output_type": "stream",
     "text": [
      "Grid Size: 5x10\n"
     ]
    },
    {
     "name": "stderr",
     "output_type": "stream",
     "text": [
      "100%|██████████| 28/28 [00:23<00:00,  1.17it/s]\n"
     ]
    },
    {
     "name": "stdout",
     "output_type": "stream",
     "text": [
      "Grid Size: 6x12\n"
     ]
    },
    {
     "name": "stderr",
     "output_type": "stream",
     "text": [
      "100%|██████████| 15/15 [00:16<00:00,  1.09s/it]\n"
     ]
    },
    {
     "name": "stdout",
     "output_type": "stream",
     "text": [
      "Grid Size: 7x14\n"
     ]
    },
    {
     "name": "stderr",
     "output_type": "stream",
     "text": [
      "100%|██████████| 6/6 [00:07<00:00,  1.30s/it]\n"
     ]
    },
    {
     "name": "stdout",
     "output_type": "stream",
     "text": [
      "Grid Size: 8x16\n"
     ]
    },
    {
     "name": "stderr",
     "output_type": "stream",
     "text": [
      "100%|██████████| 1/1 [00:01<00:00,  1.68s/it]\n"
     ]
    },
    {
     "name": "stdout",
     "output_type": "stream",
     "text": [
      "##### Aligning to S23 (S5) #####\n",
      "Grid Size: 2x4\n"
     ]
    },
    {
     "name": "stderr",
     "output_type": "stream",
     "text": [
      "100%|██████████| 89/89 [00:23<00:00,  3.76it/s]\n"
     ]
    },
    {
     "name": "stdout",
     "output_type": "stream",
     "text": [
      "Grid Size: 3x6\n"
     ]
    },
    {
     "name": "stderr",
     "output_type": "stream",
     "text": [
      "100%|██████████| 66/66 [00:29<00:00,  2.26it/s]\n"
     ]
    },
    {
     "name": "stdout",
     "output_type": "stream",
     "text": [
      "Grid Size: 4x8\n"
     ]
    },
    {
     "name": "stderr",
     "output_type": "stream",
     "text": [
      "100%|██████████| 45/45 [00:31<00:00,  1.42it/s]\n"
     ]
    },
    {
     "name": "stdout",
     "output_type": "stream",
     "text": [
      "Grid Size: 5x10\n"
     ]
    },
    {
     "name": "stderr",
     "output_type": "stream",
     "text": [
      "100%|██████████| 28/28 [00:24<00:00,  1.15it/s]\n"
     ]
    },
    {
     "name": "stdout",
     "output_type": "stream",
     "text": [
      "Grid Size: 6x12\n"
     ]
    },
    {
     "name": "stderr",
     "output_type": "stream",
     "text": [
      "100%|██████████| 15/15 [00:14<00:00,  1.04it/s]\n"
     ]
    },
    {
     "name": "stdout",
     "output_type": "stream",
     "text": [
      "Grid Size: 7x14\n"
     ]
    },
    {
     "name": "stderr",
     "output_type": "stream",
     "text": [
      "100%|██████████| 6/6 [00:07<00:00,  1.20s/it]\n"
     ]
    },
    {
     "name": "stdout",
     "output_type": "stream",
     "text": [
      "Grid Size: 8x16\n"
     ]
    },
    {
     "name": "stderr",
     "output_type": "stream",
     "text": [
      "100%|██████████| 1/1 [00:01<00:00,  1.55s/it]\n"
     ]
    },
    {
     "name": "stdout",
     "output_type": "stream",
     "text": [
      "##### Aligning to S33 (S3) #####\n",
      "Grid Size: 2x4\n"
     ]
    },
    {
     "name": "stderr",
     "output_type": "stream",
     "text": [
      "100%|██████████| 164/164 [00:50<00:00,  3.24it/s]\n"
     ]
    },
    {
     "name": "stdout",
     "output_type": "stream",
     "text": [
      "Grid Size: 3x6\n"
     ]
    },
    {
     "name": "stderr",
     "output_type": "stream",
     "text": [
      "100%|██████████| 147/147 [01:09<00:00,  2.11it/s]\n"
     ]
    },
    {
     "name": "stdout",
     "output_type": "stream",
     "text": [
      "Grid Size: 4x8\n"
     ]
    },
    {
     "name": "stderr",
     "output_type": "stream",
     "text": [
      "100%|██████████| 125/125 [01:15<00:00,  1.65it/s]\n"
     ]
    },
    {
     "name": "stdout",
     "output_type": "stream",
     "text": [
      "Grid Size: 5x10\n"
     ]
    },
    {
     "name": "stderr",
     "output_type": "stream",
     "text": [
      "100%|██████████| 101/101 [01:24<00:00,  1.19it/s]\n"
     ]
    },
    {
     "name": "stdout",
     "output_type": "stream",
     "text": [
      "Grid Size: 6x12\n"
     ]
    },
    {
     "name": "stderr",
     "output_type": "stream",
     "text": [
      "100%|██████████| 77/77 [01:21<00:00,  1.05s/it]\n"
     ]
    },
    {
     "name": "stdout",
     "output_type": "stream",
     "text": [
      "Grid Size: 7x14\n"
     ]
    },
    {
     "name": "stderr",
     "output_type": "stream",
     "text": [
      "100%|██████████| 54/54 [01:03<00:00,  1.18s/it]\n"
     ]
    },
    {
     "name": "stdout",
     "output_type": "stream",
     "text": [
      "Grid Size: 8x16\n"
     ]
    },
    {
     "name": "stderr",
     "output_type": "stream",
     "text": [
      "100%|██████████| 35/35 [00:49<00:00,  1.40s/it]\n"
     ]
    },
    {
     "name": "stdout",
     "output_type": "stream",
     "text": [
      "##### Aligning to S22 (S4) #####\n",
      "Grid Size: 2x4\n"
     ]
    },
    {
     "name": "stderr",
     "output_type": "stream",
     "text": [
      "100%|██████████| 73/73 [00:23<00:00,  3.06it/s]\n"
     ]
    },
    {
     "name": "stdout",
     "output_type": "stream",
     "text": [
      "Grid Size: 3x6\n"
     ]
    },
    {
     "name": "stderr",
     "output_type": "stream",
     "text": [
      "100%|██████████| 62/62 [00:30<00:00,  2.03it/s]\n"
     ]
    },
    {
     "name": "stdout",
     "output_type": "stream",
     "text": [
      "Grid Size: 4x8\n"
     ]
    },
    {
     "name": "stderr",
     "output_type": "stream",
     "text": [
      "100%|██████████| 45/45 [00:33<00:00,  1.36it/s]\n"
     ]
    },
    {
     "name": "stdout",
     "output_type": "stream",
     "text": [
      "Grid Size: 5x10\n"
     ]
    },
    {
     "name": "stderr",
     "output_type": "stream",
     "text": [
      "100%|██████████| 28/28 [00:23<00:00,  1.17it/s]\n"
     ]
    },
    {
     "name": "stdout",
     "output_type": "stream",
     "text": [
      "Grid Size: 6x12\n"
     ]
    },
    {
     "name": "stderr",
     "output_type": "stream",
     "text": [
      "100%|██████████| 15/15 [00:16<00:00,  1.07s/it]\n"
     ]
    },
    {
     "name": "stdout",
     "output_type": "stream",
     "text": [
      "Grid Size: 7x14\n"
     ]
    },
    {
     "name": "stderr",
     "output_type": "stream",
     "text": [
      "100%|██████████| 6/6 [00:07<00:00,  1.24s/it]\n"
     ]
    },
    {
     "name": "stdout",
     "output_type": "stream",
     "text": [
      "Grid Size: 8x16\n"
     ]
    },
    {
     "name": "stderr",
     "output_type": "stream",
     "text": [
      "100%|██████████| 1/1 [00:01<00:00,  1.38s/it]\n"
     ]
    },
    {
     "name": "stdout",
     "output_type": "stream",
     "text": [
      "##### Aligning to S39 (S6) #####\n",
      "Grid Size: 2x4\n"
     ]
    },
    {
     "name": "stderr",
     "output_type": "stream",
     "text": [
      "100%|██████████| 179/179 [01:18<00:00,  2.28it/s]\n"
     ]
    },
    {
     "name": "stdout",
     "output_type": "stream",
     "text": [
      "Grid Size: 3x6\n"
     ]
    },
    {
     "name": "stderr",
     "output_type": "stream",
     "text": [
      "100%|██████████| 164/164 [01:26<00:00,  1.89it/s]\n"
     ]
    },
    {
     "name": "stdout",
     "output_type": "stream",
     "text": [
      "Grid Size: 4x8\n"
     ]
    },
    {
     "name": "stderr",
     "output_type": "stream",
     "text": [
      "100%|██████████| 134/134 [01:31<00:00,  1.47it/s]\n"
     ]
    },
    {
     "name": "stdout",
     "output_type": "stream",
     "text": [
      "Grid Size: 5x10\n"
     ]
    },
    {
     "name": "stderr",
     "output_type": "stream",
     "text": [
      "100%|██████████| 104/104 [01:34<00:00,  1.10it/s]\n"
     ]
    },
    {
     "name": "stdout",
     "output_type": "stream",
     "text": [
      "Grid Size: 6x12\n"
     ]
    },
    {
     "name": "stderr",
     "output_type": "stream",
     "text": [
      "100%|██████████| 77/77 [01:22<00:00,  1.07s/it]\n"
     ]
    },
    {
     "name": "stdout",
     "output_type": "stream",
     "text": [
      "Grid Size: 7x14\n"
     ]
    },
    {
     "name": "stderr",
     "output_type": "stream",
     "text": [
      "100%|██████████| 54/54 [01:06<00:00,  1.24s/it]\n"
     ]
    },
    {
     "name": "stdout",
     "output_type": "stream",
     "text": [
      "Grid Size: 8x16\n"
     ]
    },
    {
     "name": "stderr",
     "output_type": "stream",
     "text": [
      "100%|██████████| 35/35 [00:54<00:00,  1.57s/it]\n"
     ]
    },
    {
     "name": "stdout",
     "output_type": "stream",
     "text": [
      "##### Aligning to S58 (S7) #####\n",
      "Grid Size: 2x4\n"
     ]
    },
    {
     "name": "stderr",
     "output_type": "stream",
     "text": [
      "100%|██████████| 208/208 [01:01<00:00,  3.36it/s]\n"
     ]
    },
    {
     "name": "stdout",
     "output_type": "stream",
     "text": [
      "Grid Size: 3x6\n"
     ]
    },
    {
     "name": "stderr",
     "output_type": "stream",
     "text": [
      "100%|██████████| 170/170 [01:31<00:00,  1.86it/s]\n"
     ]
    },
    {
     "name": "stdout",
     "output_type": "stream",
     "text": [
      "Grid Size: 4x8\n"
     ]
    },
    {
     "name": "stderr",
     "output_type": "stream",
     "text": [
      "100%|██████████| 135/135 [01:38<00:00,  1.36it/s]\n"
     ]
    },
    {
     "name": "stdout",
     "output_type": "stream",
     "text": [
      "Grid Size: 5x10\n"
     ]
    },
    {
     "name": "stderr",
     "output_type": "stream",
     "text": [
      "100%|██████████| 104/104 [01:30<00:00,  1.15it/s]\n"
     ]
    },
    {
     "name": "stdout",
     "output_type": "stream",
     "text": [
      "Grid Size: 6x12\n"
     ]
    },
    {
     "name": "stderr",
     "output_type": "stream",
     "text": [
      "100%|██████████| 77/77 [01:19<00:00,  1.04s/it]\n"
     ]
    },
    {
     "name": "stdout",
     "output_type": "stream",
     "text": [
      "Grid Size: 7x14\n"
     ]
    },
    {
     "name": "stderr",
     "output_type": "stream",
     "text": [
      "100%|██████████| 54/54 [01:11<00:00,  1.32s/it]\n"
     ]
    },
    {
     "name": "stdout",
     "output_type": "stream",
     "text": [
      "Grid Size: 8x16\n"
     ]
    },
    {
     "name": "stderr",
     "output_type": "stream",
     "text": [
      "100%|██████████| 35/35 [00:51<00:00,  1.47s/it]\n"
     ]
    },
    {
     "name": "stdout",
     "output_type": "stream",
     "text": [
      "##### Aligning to S62 (S8) #####\n",
      "Grid Size: 2x4\n"
     ]
    },
    {
     "name": "stderr",
     "output_type": "stream",
     "text": [
      "100%|██████████| 207/207 [01:09<00:00,  2.98it/s]\n"
     ]
    },
    {
     "name": "stdout",
     "output_type": "stream",
     "text": [
      "Grid Size: 3x6\n"
     ]
    },
    {
     "name": "stderr",
     "output_type": "stream",
     "text": [
      "100%|██████████| 170/170 [01:43<00:00,  1.64it/s]\n"
     ]
    },
    {
     "name": "stdout",
     "output_type": "stream",
     "text": [
      "Grid Size: 4x8\n"
     ]
    },
    {
     "name": "stderr",
     "output_type": "stream",
     "text": [
      "100%|██████████| 135/135 [01:43<00:00,  1.30it/s]\n"
     ]
    },
    {
     "name": "stdout",
     "output_type": "stream",
     "text": [
      "Grid Size: 5x10\n"
     ]
    },
    {
     "name": "stderr",
     "output_type": "stream",
     "text": [
      "100%|██████████| 104/104 [01:39<00:00,  1.05it/s]\n"
     ]
    },
    {
     "name": "stdout",
     "output_type": "stream",
     "text": [
      "Grid Size: 6x12\n"
     ]
    },
    {
     "name": "stderr",
     "output_type": "stream",
     "text": [
      "100%|██████████| 77/77 [01:29<00:00,  1.16s/it]\n"
     ]
    },
    {
     "name": "stdout",
     "output_type": "stream",
     "text": [
      "Grid Size: 7x14\n"
     ]
    },
    {
     "name": "stderr",
     "output_type": "stream",
     "text": [
      "100%|██████████| 54/54 [01:17<00:00,  1.43s/it]\n"
     ]
    },
    {
     "name": "stdout",
     "output_type": "stream",
     "text": [
      "Grid Size: 8x16\n"
     ]
    },
    {
     "name": "stderr",
     "output_type": "stream",
     "text": [
      "100%|██████████| 35/35 [00:54<00:00,  1.56s/it]\n"
     ]
    }
   ],
   "source": [
    "grid_corr_tot_df = pd.DataFrame()\n",
    "for align_pt in pt_names:\n",
    "    print(f'##### Aligning to {align_pt} ({paper_pt_dict[align_pt]}) #####')\n",
    "    align_pt_ind = pt_names.index(align_pt)\n",
    "    other_pts = [pt for pt in pt_names if pt != align_pt]\n",
    "\n",
    "    n_comp_corr = 10\n",
    "\n",
    "    grid_corr_df = pd.DataFrame()\n",
    "\n",
    "    grid_list = [(2,4), (3,6), (4,8), (5,10), (6,12), (7,14), (8,16)]\n",
    "    grid_list_str = [f'{x[0]}x{x[1]}' for x in grid_list]\n",
    "\n",
    "    for grid, grid_str in zip(grid_list, grid_list_str):\n",
    "        print(f'Grid Size: {grid_str}')\n",
    "        all_pt_idxs_sub = {}\n",
    "        for pt in pt_names:\n",
    "\n",
    "            all_pt_idxs_sub[pt] = []\n",
    "\n",
    "            # subsample grids from all patient data\n",
    "            subsamp_idxs = grid_subsample_sig_channels(pt, grid, DATA_PATH)\n",
    "\n",
    "            # save idxs for all subsample grid locations for each patient\n",
    "            for sub_idx in subsamp_idxs:\n",
    "                all_pt_idxs_sub[pt].append(sub_idx)\n",
    "\n",
    "        # iterate over all grid subsamples for the patient we're aligning to and\n",
    "        # get the data from the selected subsample channels\n",
    "        for i in tqdm(range(len(all_pt_idxs_sub[align_pt]))):\n",
    "            sub_grid = all_pt_idxs_sub[align_pt][i]\n",
    "            all_pt_traces_sub = {}\n",
    "            all_pt_traces_sub[align_pt] = all_pt_traces[align_pt][:,:,sub_grid]\n",
    "\n",
    "            # select a random grid subsample for each other patient\n",
    "            for cross_pt in other_pts:\n",
    "                rand_idx = np.random.choice(len(all_pt_idxs_sub[cross_pt]))\n",
    "                sub_grid_cross = all_pt_idxs_sub[cross_pt][rand_idx]\n",
    "                all_pt_traces_sub[cross_pt] = all_pt_traces[cross_pt][:,:,sub_grid_cross]\n",
    "\n",
    "            # setup CCA aligners for each condition and patient\n",
    "            aligners_sub = {}\n",
    "            for i, pt in enumerate(pt_names):\n",
    "                if i == align_pt_ind:\n",
    "                    continue\n",
    "                aligners_sub[pt] = AlignCCA()\n",
    "\n",
    "            # get patient-specific latent dynamics with PCA on channels\n",
    "            to_align_sub = [PCA(n_components=0.9).fit_transform(all_pt_traces_sub[pt].reshape(-1, all_pt_traces_sub[pt].shape[-1])) for pt in pt_names]\n",
    "            to_align_sub = [to_align_sub[i].reshape(all_pt_traces_sub[pt].shape[0], all_pt_traces_sub[pt].shape[1], -1) for i, pt in enumerate(pt_names)]\n",
    "\n",
    "            # align patient-specific latent dynamics\n",
    "            aligned_data_sub = {}\n",
    "            aligned_data_sub[pt_names[align_pt_ind]] = to_align_sub[align_pt_ind]\n",
    "            for i, pt in enumerate(pt_names):\n",
    "                if i == align_pt_ind:\n",
    "                    continue\n",
    "                \n",
    "                # align by phoneme sequence\n",
    "                to_align_seqs = [all_pt_phon_seqs[pt_names[align_pt_ind]], all_pt_phon_seqs[pt]]\n",
    "                aligners_sub[pt].fit(to_align_sub[align_pt_ind], to_align_sub[i], to_align_seqs[0], to_align_seqs[1])\n",
    "                aligned_data_sub[pt] = aligners_sub[pt].transform(to_align_sub[i])\n",
    "\n",
    "            align_corrs_sub = pt_corr_multi(aligned_data_sub[align_pt], [aligned_data_sub[pt] for pt in other_pts], all_pt_artic_labels[align_pt], [all_pt_artic_labels[pt] for pt in other_pts], n_comp=n_comp_corr)\n",
    "            \n",
    "            corr = np.mean(np.array(align_corrs_sub))\n",
    "            curr_grid_df = pd.DataFrame([{'Grid Size': grid_str, 'Correlation': corr}])\n",
    "            grid_corr_df = pd.concat([grid_corr_df, curr_grid_df], ignore_index=True)\n",
    "\n",
    "    grid_corr_df['Patient'] = paper_pt_dict[align_pt]\n",
    "    grid_corr_df = grid_corr_df[['Patient', 'Grid Size', 'Correlation']]\n",
    "    grid_corr_tot_df = pd.concat([grid_corr_tot_df, grid_corr_df], ignore_index=True)\n"
   ]
  },
  {
   "cell_type": "code",
   "execution_count": 68,
   "metadata": {},
   "outputs": [
    {
     "data": {
      "text/html": [
       "<div>\n",
       "<style scoped>\n",
       "    .dataframe tbody tr th:only-of-type {\n",
       "        vertical-align: middle;\n",
       "    }\n",
       "\n",
       "    .dataframe tbody tr th {\n",
       "        vertical-align: top;\n",
       "    }\n",
       "\n",
       "    .dataframe thead th {\n",
       "        text-align: right;\n",
       "    }\n",
       "</style>\n",
       "<table border=\"1\" class=\"dataframe\">\n",
       "  <thead>\n",
       "    <tr style=\"text-align: right;\">\n",
       "      <th></th>\n",
       "      <th>Patient</th>\n",
       "      <th>Grid Size</th>\n",
       "      <th>Correlation</th>\n",
       "    </tr>\n",
       "  </thead>\n",
       "  <tbody>\n",
       "    <tr>\n",
       "      <th>0</th>\n",
       "      <td>S1</td>\n",
       "      <td>2x4</td>\n",
       "      <td>0.138889</td>\n",
       "    </tr>\n",
       "    <tr>\n",
       "      <th>1</th>\n",
       "      <td>S1</td>\n",
       "      <td>2x4</td>\n",
       "      <td>0.317195</td>\n",
       "    </tr>\n",
       "    <tr>\n",
       "      <th>2</th>\n",
       "      <td>S1</td>\n",
       "      <td>2x4</td>\n",
       "      <td>0.235517</td>\n",
       "    </tr>\n",
       "    <tr>\n",
       "      <th>3</th>\n",
       "      <td>S1</td>\n",
       "      <td>2x4</td>\n",
       "      <td>0.136548</td>\n",
       "    </tr>\n",
       "    <tr>\n",
       "      <th>4</th>\n",
       "      <td>S1</td>\n",
       "      <td>2x4</td>\n",
       "      <td>0.130715</td>\n",
       "    </tr>\n",
       "    <tr>\n",
       "      <th>...</th>\n",
       "      <td>...</td>\n",
       "      <td>...</td>\n",
       "      <td>...</td>\n",
       "    </tr>\n",
       "    <tr>\n",
       "      <th>3993</th>\n",
       "      <td>S8</td>\n",
       "      <td>8x16</td>\n",
       "      <td>0.499152</td>\n",
       "    </tr>\n",
       "    <tr>\n",
       "      <th>3994</th>\n",
       "      <td>S8</td>\n",
       "      <td>8x16</td>\n",
       "      <td>0.482569</td>\n",
       "    </tr>\n",
       "    <tr>\n",
       "      <th>3995</th>\n",
       "      <td>S8</td>\n",
       "      <td>8x16</td>\n",
       "      <td>0.472928</td>\n",
       "    </tr>\n",
       "    <tr>\n",
       "      <th>3996</th>\n",
       "      <td>S8</td>\n",
       "      <td>8x16</td>\n",
       "      <td>0.447301</td>\n",
       "    </tr>\n",
       "    <tr>\n",
       "      <th>3997</th>\n",
       "      <td>S8</td>\n",
       "      <td>8x16</td>\n",
       "      <td>0.459592</td>\n",
       "    </tr>\n",
       "  </tbody>\n",
       "</table>\n",
       "<p>3998 rows × 3 columns</p>\n",
       "</div>"
      ],
      "text/plain": [
       "     Patient Grid Size  Correlation\n",
       "0         S1       2x4     0.138889\n",
       "1         S1       2x4     0.317195\n",
       "2         S1       2x4     0.235517\n",
       "3         S1       2x4     0.136548\n",
       "4         S1       2x4     0.130715\n",
       "...      ...       ...          ...\n",
       "3993      S8      8x16     0.499152\n",
       "3994      S8      8x16     0.482569\n",
       "3995      S8      8x16     0.472928\n",
       "3996      S8      8x16     0.447301\n",
       "3997      S8      8x16     0.459592\n",
       "\n",
       "[3998 rows x 3 columns]"
      ]
     },
     "execution_count": 68,
     "metadata": {},
     "output_type": "execute_result"
    }
   ],
   "source": [
    "grid_corr_tot_df"
   ]
  },
  {
   "cell_type": "code",
   "execution_count": 69,
   "metadata": {},
   "outputs": [
    {
     "data": {
      "text/html": [
       "<div>\n",
       "<style scoped>\n",
       "    .dataframe tbody tr th:only-of-type {\n",
       "        vertical-align: middle;\n",
       "    }\n",
       "\n",
       "    .dataframe tbody tr th {\n",
       "        vertical-align: top;\n",
       "    }\n",
       "\n",
       "    .dataframe thead th {\n",
       "        text-align: right;\n",
       "    }\n",
       "</style>\n",
       "<table border=\"1\" class=\"dataframe\">\n",
       "  <thead>\n",
       "    <tr style=\"text-align: right;\">\n",
       "      <th></th>\n",
       "      <th>Patient</th>\n",
       "      <th>Grid Size</th>\n",
       "      <th>Correlation</th>\n",
       "    </tr>\n",
       "  </thead>\n",
       "  <tbody>\n",
       "    <tr>\n",
       "      <th>0</th>\n",
       "      <td>S1</td>\n",
       "      <td>2x4</td>\n",
       "      <td>0.194270</td>\n",
       "    </tr>\n",
       "    <tr>\n",
       "      <th>1</th>\n",
       "      <td>S1</td>\n",
       "      <td>3x6</td>\n",
       "      <td>0.229865</td>\n",
       "    </tr>\n",
       "    <tr>\n",
       "      <th>2</th>\n",
       "      <td>S1</td>\n",
       "      <td>4x8</td>\n",
       "      <td>0.280067</td>\n",
       "    </tr>\n",
       "    <tr>\n",
       "      <th>3</th>\n",
       "      <td>S1</td>\n",
       "      <td>5x10</td>\n",
       "      <td>0.320952</td>\n",
       "    </tr>\n",
       "    <tr>\n",
       "      <th>4</th>\n",
       "      <td>S1</td>\n",
       "      <td>6x12</td>\n",
       "      <td>0.346023</td>\n",
       "    </tr>\n",
       "    <tr>\n",
       "      <th>5</th>\n",
       "      <td>S1</td>\n",
       "      <td>7x14</td>\n",
       "      <td>0.358015</td>\n",
       "    </tr>\n",
       "    <tr>\n",
       "      <th>6</th>\n",
       "      <td>S1</td>\n",
       "      <td>8x16</td>\n",
       "      <td>0.408755</td>\n",
       "    </tr>\n",
       "    <tr>\n",
       "      <th>7</th>\n",
       "      <td>S2</td>\n",
       "      <td>2x4</td>\n",
       "      <td>0.269564</td>\n",
       "    </tr>\n",
       "    <tr>\n",
       "      <th>8</th>\n",
       "      <td>S2</td>\n",
       "      <td>3x6</td>\n",
       "      <td>0.279925</td>\n",
       "    </tr>\n",
       "    <tr>\n",
       "      <th>9</th>\n",
       "      <td>S2</td>\n",
       "      <td>4x8</td>\n",
       "      <td>0.326176</td>\n",
       "    </tr>\n",
       "    <tr>\n",
       "      <th>10</th>\n",
       "      <td>S2</td>\n",
       "      <td>5x10</td>\n",
       "      <td>0.386010</td>\n",
       "    </tr>\n",
       "    <tr>\n",
       "      <th>11</th>\n",
       "      <td>S2</td>\n",
       "      <td>6x12</td>\n",
       "      <td>0.433604</td>\n",
       "    </tr>\n",
       "    <tr>\n",
       "      <th>12</th>\n",
       "      <td>S2</td>\n",
       "      <td>7x14</td>\n",
       "      <td>0.458287</td>\n",
       "    </tr>\n",
       "    <tr>\n",
       "      <th>13</th>\n",
       "      <td>S2</td>\n",
       "      <td>8x16</td>\n",
       "      <td>0.534367</td>\n",
       "    </tr>\n",
       "    <tr>\n",
       "      <th>14</th>\n",
       "      <td>S3</td>\n",
       "      <td>2x4</td>\n",
       "      <td>0.143720</td>\n",
       "    </tr>\n",
       "    <tr>\n",
       "      <th>15</th>\n",
       "      <td>S3</td>\n",
       "      <td>3x6</td>\n",
       "      <td>0.171933</td>\n",
       "    </tr>\n",
       "    <tr>\n",
       "      <th>16</th>\n",
       "      <td>S3</td>\n",
       "      <td>4x8</td>\n",
       "      <td>0.211821</td>\n",
       "    </tr>\n",
       "    <tr>\n",
       "      <th>17</th>\n",
       "      <td>S3</td>\n",
       "      <td>5x10</td>\n",
       "      <td>0.248095</td>\n",
       "    </tr>\n",
       "    <tr>\n",
       "      <th>18</th>\n",
       "      <td>S3</td>\n",
       "      <td>6x12</td>\n",
       "      <td>0.282725</td>\n",
       "    </tr>\n",
       "    <tr>\n",
       "      <th>19</th>\n",
       "      <td>S3</td>\n",
       "      <td>7x14</td>\n",
       "      <td>0.313463</td>\n",
       "    </tr>\n",
       "    <tr>\n",
       "      <th>20</th>\n",
       "      <td>S3</td>\n",
       "      <td>8x16</td>\n",
       "      <td>0.358193</td>\n",
       "    </tr>\n",
       "    <tr>\n",
       "      <th>21</th>\n",
       "      <td>S4</td>\n",
       "      <td>2x4</td>\n",
       "      <td>0.209859</td>\n",
       "    </tr>\n",
       "    <tr>\n",
       "      <th>22</th>\n",
       "      <td>S4</td>\n",
       "      <td>3x6</td>\n",
       "      <td>0.216869</td>\n",
       "    </tr>\n",
       "    <tr>\n",
       "      <th>23</th>\n",
       "      <td>S4</td>\n",
       "      <td>4x8</td>\n",
       "      <td>0.258073</td>\n",
       "    </tr>\n",
       "    <tr>\n",
       "      <th>24</th>\n",
       "      <td>S4</td>\n",
       "      <td>5x10</td>\n",
       "      <td>0.319226</td>\n",
       "    </tr>\n",
       "    <tr>\n",
       "      <th>25</th>\n",
       "      <td>S4</td>\n",
       "      <td>6x12</td>\n",
       "      <td>0.394256</td>\n",
       "    </tr>\n",
       "    <tr>\n",
       "      <th>26</th>\n",
       "      <td>S4</td>\n",
       "      <td>7x14</td>\n",
       "      <td>0.419672</td>\n",
       "    </tr>\n",
       "    <tr>\n",
       "      <th>27</th>\n",
       "      <td>S4</td>\n",
       "      <td>8x16</td>\n",
       "      <td>0.489107</td>\n",
       "    </tr>\n",
       "    <tr>\n",
       "      <th>28</th>\n",
       "      <td>S5</td>\n",
       "      <td>2x4</td>\n",
       "      <td>0.218145</td>\n",
       "    </tr>\n",
       "    <tr>\n",
       "      <th>29</th>\n",
       "      <td>S5</td>\n",
       "      <td>3x6</td>\n",
       "      <td>0.259019</td>\n",
       "    </tr>\n",
       "    <tr>\n",
       "      <th>30</th>\n",
       "      <td>S5</td>\n",
       "      <td>4x8</td>\n",
       "      <td>0.300034</td>\n",
       "    </tr>\n",
       "    <tr>\n",
       "      <th>31</th>\n",
       "      <td>S5</td>\n",
       "      <td>5x10</td>\n",
       "      <td>0.362780</td>\n",
       "    </tr>\n",
       "    <tr>\n",
       "      <th>32</th>\n",
       "      <td>S5</td>\n",
       "      <td>6x12</td>\n",
       "      <td>0.416967</td>\n",
       "    </tr>\n",
       "    <tr>\n",
       "      <th>33</th>\n",
       "      <td>S5</td>\n",
       "      <td>7x14</td>\n",
       "      <td>0.426944</td>\n",
       "    </tr>\n",
       "    <tr>\n",
       "      <th>34</th>\n",
       "      <td>S5</td>\n",
       "      <td>8x16</td>\n",
       "      <td>0.407817</td>\n",
       "    </tr>\n",
       "    <tr>\n",
       "      <th>35</th>\n",
       "      <td>S6</td>\n",
       "      <td>2x4</td>\n",
       "      <td>0.184224</td>\n",
       "    </tr>\n",
       "    <tr>\n",
       "      <th>36</th>\n",
       "      <td>S6</td>\n",
       "      <td>3x6</td>\n",
       "      <td>0.208208</td>\n",
       "    </tr>\n",
       "    <tr>\n",
       "      <th>37</th>\n",
       "      <td>S6</td>\n",
       "      <td>4x8</td>\n",
       "      <td>0.256671</td>\n",
       "    </tr>\n",
       "    <tr>\n",
       "      <th>38</th>\n",
       "      <td>S6</td>\n",
       "      <td>5x10</td>\n",
       "      <td>0.306463</td>\n",
       "    </tr>\n",
       "    <tr>\n",
       "      <th>39</th>\n",
       "      <td>S6</td>\n",
       "      <td>6x12</td>\n",
       "      <td>0.358803</td>\n",
       "    </tr>\n",
       "    <tr>\n",
       "      <th>40</th>\n",
       "      <td>S6</td>\n",
       "      <td>7x14</td>\n",
       "      <td>0.397113</td>\n",
       "    </tr>\n",
       "    <tr>\n",
       "      <th>41</th>\n",
       "      <td>S6</td>\n",
       "      <td>8x16</td>\n",
       "      <td>0.430442</td>\n",
       "    </tr>\n",
       "    <tr>\n",
       "      <th>42</th>\n",
       "      <td>S7</td>\n",
       "      <td>2x4</td>\n",
       "      <td>0.225217</td>\n",
       "    </tr>\n",
       "    <tr>\n",
       "      <th>43</th>\n",
       "      <td>S7</td>\n",
       "      <td>3x6</td>\n",
       "      <td>0.230880</td>\n",
       "    </tr>\n",
       "    <tr>\n",
       "      <th>44</th>\n",
       "      <td>S7</td>\n",
       "      <td>4x8</td>\n",
       "      <td>0.262672</td>\n",
       "    </tr>\n",
       "    <tr>\n",
       "      <th>45</th>\n",
       "      <td>S7</td>\n",
       "      <td>5x10</td>\n",
       "      <td>0.314700</td>\n",
       "    </tr>\n",
       "    <tr>\n",
       "      <th>46</th>\n",
       "      <td>S7</td>\n",
       "      <td>6x12</td>\n",
       "      <td>0.374210</td>\n",
       "    </tr>\n",
       "    <tr>\n",
       "      <th>47</th>\n",
       "      <td>S7</td>\n",
       "      <td>7x14</td>\n",
       "      <td>0.434126</td>\n",
       "    </tr>\n",
       "    <tr>\n",
       "      <th>48</th>\n",
       "      <td>S7</td>\n",
       "      <td>8x16</td>\n",
       "      <td>0.462093</td>\n",
       "    </tr>\n",
       "    <tr>\n",
       "      <th>49</th>\n",
       "      <td>S8</td>\n",
       "      <td>2x4</td>\n",
       "      <td>0.197093</td>\n",
       "    </tr>\n",
       "    <tr>\n",
       "      <th>50</th>\n",
       "      <td>S8</td>\n",
       "      <td>3x6</td>\n",
       "      <td>0.228102</td>\n",
       "    </tr>\n",
       "    <tr>\n",
       "      <th>51</th>\n",
       "      <td>S8</td>\n",
       "      <td>4x8</td>\n",
       "      <td>0.294245</td>\n",
       "    </tr>\n",
       "    <tr>\n",
       "      <th>52</th>\n",
       "      <td>S8</td>\n",
       "      <td>5x10</td>\n",
       "      <td>0.353684</td>\n",
       "    </tr>\n",
       "    <tr>\n",
       "      <th>53</th>\n",
       "      <td>S8</td>\n",
       "      <td>6x12</td>\n",
       "      <td>0.388638</td>\n",
       "    </tr>\n",
       "    <tr>\n",
       "      <th>54</th>\n",
       "      <td>S8</td>\n",
       "      <td>7x14</td>\n",
       "      <td>0.439958</td>\n",
       "    </tr>\n",
       "    <tr>\n",
       "      <th>55</th>\n",
       "      <td>S8</td>\n",
       "      <td>8x16</td>\n",
       "      <td>0.479214</td>\n",
       "    </tr>\n",
       "  </tbody>\n",
       "</table>\n",
       "</div>"
      ],
      "text/plain": [
       "   Patient Grid Size  Correlation\n",
       "0       S1       2x4     0.194270\n",
       "1       S1       3x6     0.229865\n",
       "2       S1       4x8     0.280067\n",
       "3       S1      5x10     0.320952\n",
       "4       S1      6x12     0.346023\n",
       "5       S1      7x14     0.358015\n",
       "6       S1      8x16     0.408755\n",
       "7       S2       2x4     0.269564\n",
       "8       S2       3x6     0.279925\n",
       "9       S2       4x8     0.326176\n",
       "10      S2      5x10     0.386010\n",
       "11      S2      6x12     0.433604\n",
       "12      S2      7x14     0.458287\n",
       "13      S2      8x16     0.534367\n",
       "14      S3       2x4     0.143720\n",
       "15      S3       3x6     0.171933\n",
       "16      S3       4x8     0.211821\n",
       "17      S3      5x10     0.248095\n",
       "18      S3      6x12     0.282725\n",
       "19      S3      7x14     0.313463\n",
       "20      S3      8x16     0.358193\n",
       "21      S4       2x4     0.209859\n",
       "22      S4       3x6     0.216869\n",
       "23      S4       4x8     0.258073\n",
       "24      S4      5x10     0.319226\n",
       "25      S4      6x12     0.394256\n",
       "26      S4      7x14     0.419672\n",
       "27      S4      8x16     0.489107\n",
       "28      S5       2x4     0.218145\n",
       "29      S5       3x6     0.259019\n",
       "30      S5       4x8     0.300034\n",
       "31      S5      5x10     0.362780\n",
       "32      S5      6x12     0.416967\n",
       "33      S5      7x14     0.426944\n",
       "34      S5      8x16     0.407817\n",
       "35      S6       2x4     0.184224\n",
       "36      S6       3x6     0.208208\n",
       "37      S6       4x8     0.256671\n",
       "38      S6      5x10     0.306463\n",
       "39      S6      6x12     0.358803\n",
       "40      S6      7x14     0.397113\n",
       "41      S6      8x16     0.430442\n",
       "42      S7       2x4     0.225217\n",
       "43      S7       3x6     0.230880\n",
       "44      S7       4x8     0.262672\n",
       "45      S7      5x10     0.314700\n",
       "46      S7      6x12     0.374210\n",
       "47      S7      7x14     0.434126\n",
       "48      S7      8x16     0.462093\n",
       "49      S8       2x4     0.197093\n",
       "50      S8       3x6     0.228102\n",
       "51      S8       4x8     0.294245\n",
       "52      S8      5x10     0.353684\n",
       "53      S8      6x12     0.388638\n",
       "54      S8      7x14     0.439958\n",
       "55      S8      8x16     0.479214"
      ]
     },
     "execution_count": 69,
     "metadata": {},
     "output_type": "execute_result"
    }
   ],
   "source": [
    "mean_grid_corr_df = grid_corr_tot_df.groupby(['Patient', 'Grid Size']).mean().reset_index()\n",
    "mean_grid_corr_df"
   ]
  },
  {
   "cell_type": "code",
   "execution_count": null,
   "metadata": {},
   "outputs": [
    {
     "data": {
      "application/vnd.plotly.v1+json": {
       "config": {
        "plotlyServerURL": "https://plotly.com"
       },
       "data": [
        {
         "hovertemplate": "Patient=S1<br>Grid Size=%{x}<br>Correlation=%{y}<extra></extra>",
         "legendgroup": "S1",
         "line": {
          "color": "#636efa",
          "dash": "solid"
         },
         "marker": {
          "symbol": "circle"
         },
         "mode": "lines",
         "name": "S1",
         "orientation": "v",
         "showlegend": true,
         "type": "scatter",
         "x": [
          "2x4",
          "3x6",
          "4x8",
          "5x10",
          "6x12",
          "7x14",
          "8x16"
         ],
         "xaxis": "x",
         "y": [
          0.19426994237140918,
          0.22986463829784515,
          0.2800674057021431,
          0.32095237417897265,
          0.34602285608682093,
          0.35801495110692727,
          0.4087545399443165
         ],
         "yaxis": "y"
        },
        {
         "hovertemplate": "Patient=S2<br>Grid Size=%{x}<br>Correlation=%{y}<extra></extra>",
         "legendgroup": "S2",
         "line": {
          "color": "#EF553B",
          "dash": "solid"
         },
         "marker": {
          "symbol": "circle"
         },
         "mode": "lines",
         "name": "S2",
         "orientation": "v",
         "showlegend": true,
         "type": "scatter",
         "x": [
          "2x4",
          "3x6",
          "4x8",
          "5x10",
          "6x12",
          "7x14",
          "8x16"
         ],
         "xaxis": "x",
         "y": [
          0.2695643757435871,
          0.27992485168177417,
          0.3261758944089291,
          0.38601047342222206,
          0.4336039849262242,
          0.4582873050063479,
          0.5343671129394687
         ],
         "yaxis": "y"
        },
        {
         "hovertemplate": "Patient=S3<br>Grid Size=%{x}<br>Correlation=%{y}<extra></extra>",
         "legendgroup": "S3",
         "line": {
          "color": "#00cc96",
          "dash": "solid"
         },
         "marker": {
          "symbol": "circle"
         },
         "mode": "lines",
         "name": "S3",
         "orientation": "v",
         "showlegend": true,
         "type": "scatter",
         "x": [
          "2x4",
          "3x6",
          "4x8",
          "5x10",
          "6x12",
          "7x14",
          "8x16"
         ],
         "xaxis": "x",
         "y": [
          0.14371971950515322,
          0.17193262626031355,
          0.21182094812615787,
          0.24809508469723635,
          0.2827250870619174,
          0.3134629061255205,
          0.3581933845951182
         ],
         "yaxis": "y"
        },
        {
         "hovertemplate": "Patient=S4<br>Grid Size=%{x}<br>Correlation=%{y}<extra></extra>",
         "legendgroup": "S4",
         "line": {
          "color": "#ab63fa",
          "dash": "solid"
         },
         "marker": {
          "symbol": "circle"
         },
         "mode": "lines",
         "name": "S4",
         "orientation": "v",
         "showlegend": true,
         "type": "scatter",
         "x": [
          "2x4",
          "3x6",
          "4x8",
          "5x10",
          "6x12",
          "7x14",
          "8x16"
         ],
         "xaxis": "x",
         "y": [
          0.2098594487332717,
          0.2168689949505636,
          0.2580727083436277,
          0.3192256377172806,
          0.39425565133799434,
          0.41967179480430933,
          0.48910681307100307
         ],
         "yaxis": "y"
        },
        {
         "hovertemplate": "Patient=S5<br>Grid Size=%{x}<br>Correlation=%{y}<extra></extra>",
         "legendgroup": "S5",
         "line": {
          "color": "#FFA15A",
          "dash": "solid"
         },
         "marker": {
          "symbol": "circle"
         },
         "mode": "lines",
         "name": "S5",
         "orientation": "v",
         "showlegend": true,
         "type": "scatter",
         "x": [
          "2x4",
          "3x6",
          "4x8",
          "5x10",
          "6x12",
          "7x14",
          "8x16"
         ],
         "xaxis": "x",
         "y": [
          0.21814476446056238,
          0.25901860676930283,
          0.30003369095625826,
          0.36277972467470493,
          0.41696692733134194,
          0.4269442866185353,
          0.40781718013843704
         ],
         "yaxis": "y"
        },
        {
         "hovertemplate": "Patient=S6<br>Grid Size=%{x}<br>Correlation=%{y}<extra></extra>",
         "legendgroup": "S6",
         "line": {
          "color": "#19d3f3",
          "dash": "solid"
         },
         "marker": {
          "symbol": "circle"
         },
         "mode": "lines",
         "name": "S6",
         "orientation": "v",
         "showlegend": true,
         "type": "scatter",
         "x": [
          "2x4",
          "3x6",
          "4x8",
          "5x10",
          "6x12",
          "7x14",
          "8x16"
         ],
         "xaxis": "x",
         "y": [
          0.184223724330533,
          0.208207838387642,
          0.2566714120016129,
          0.30646273921672296,
          0.35880251566461296,
          0.3971131888137355,
          0.4304424733018219
         ],
         "yaxis": "y"
        },
        {
         "hovertemplate": "Patient=S7<br>Grid Size=%{x}<br>Correlation=%{y}<extra></extra>",
         "legendgroup": "S7",
         "line": {
          "color": "#FF6692",
          "dash": "solid"
         },
         "marker": {
          "symbol": "circle"
         },
         "mode": "lines",
         "name": "S7",
         "orientation": "v",
         "showlegend": true,
         "type": "scatter",
         "x": [
          "2x4",
          "3x6",
          "4x8",
          "5x10",
          "6x12",
          "7x14",
          "8x16"
         ],
         "xaxis": "x",
         "y": [
          0.22521703695907946,
          0.23087967487331026,
          0.2626715157444742,
          0.31469957262301673,
          0.3742095646267968,
          0.43412597672909276,
          0.46209313192396156
         ],
         "yaxis": "y"
        },
        {
         "hovertemplate": "Patient=S8<br>Grid Size=%{x}<br>Correlation=%{y}<extra></extra>",
         "legendgroup": "S8",
         "line": {
          "color": "#B6E880",
          "dash": "solid"
         },
         "marker": {
          "symbol": "circle"
         },
         "mode": "lines",
         "name": "S8",
         "orientation": "v",
         "showlegend": true,
         "type": "scatter",
         "x": [
          "2x4",
          "3x6",
          "4x8",
          "5x10",
          "6x12",
          "7x14",
          "8x16"
         ],
         "xaxis": "x",
         "y": [
          0.1970931834644755,
          0.22810150310090493,
          0.2942454853235729,
          0.3536836980932862,
          0.3886382635535317,
          0.43995844506053294,
          0.4792138729674614
         ],
         "yaxis": "y"
        },
        {
         "alignmentgroup": "True",
         "hovertemplate": "Grid Size=%{x}<br>Correlation=%{y}<extra></extra>",
         "legendgroup": "",
         "marker": {
          "color": "#636efa"
         },
         "name": "",
         "notched": false,
         "offsetgroup": "",
         "orientation": "v",
         "showlegend": false,
         "type": "box",
         "x": [
          "2x4",
          "3x6",
          "4x8",
          "5x10",
          "6x12",
          "7x14",
          "8x16",
          "2x4",
          "3x6",
          "4x8",
          "5x10",
          "6x12",
          "7x14",
          "8x16",
          "2x4",
          "3x6",
          "4x8",
          "5x10",
          "6x12",
          "7x14",
          "8x16",
          "2x4",
          "3x6",
          "4x8",
          "5x10",
          "6x12",
          "7x14",
          "8x16",
          "2x4",
          "3x6",
          "4x8",
          "5x10",
          "6x12",
          "7x14",
          "8x16",
          "2x4",
          "3x6",
          "4x8",
          "5x10",
          "6x12",
          "7x14",
          "8x16",
          "2x4",
          "3x6",
          "4x8",
          "5x10",
          "6x12",
          "7x14",
          "8x16",
          "2x4",
          "3x6",
          "4x8",
          "5x10",
          "6x12",
          "7x14",
          "8x16"
         ],
         "x0": " ",
         "xaxis": "x",
         "y": [
          0.19426994237140918,
          0.22986463829784515,
          0.2800674057021431,
          0.32095237417897265,
          0.34602285608682093,
          0.35801495110692727,
          0.4087545399443165,
          0.2695643757435871,
          0.27992485168177417,
          0.3261758944089291,
          0.38601047342222206,
          0.4336039849262242,
          0.4582873050063479,
          0.5343671129394687,
          0.14371971950515322,
          0.17193262626031355,
          0.21182094812615787,
          0.24809508469723635,
          0.2827250870619174,
          0.3134629061255205,
          0.3581933845951182,
          0.2098594487332717,
          0.2168689949505636,
          0.2580727083436277,
          0.3192256377172806,
          0.39425565133799434,
          0.41967179480430933,
          0.48910681307100307,
          0.21814476446056238,
          0.25901860676930283,
          0.30003369095625826,
          0.36277972467470493,
          0.41696692733134194,
          0.4269442866185353,
          0.40781718013843704,
          0.184223724330533,
          0.208207838387642,
          0.2566714120016129,
          0.30646273921672296,
          0.35880251566461296,
          0.3971131888137355,
          0.4304424733018219,
          0.22521703695907946,
          0.23087967487331026,
          0.2626715157444742,
          0.31469957262301673,
          0.3742095646267968,
          0.43412597672909276,
          0.46209313192396156,
          0.1970931834644755,
          0.22810150310090493,
          0.2942454853235729,
          0.3536836980932862,
          0.3886382635535317,
          0.43995844506053294,
          0.4792138729674614
         ],
         "y0": " ",
         "yaxis": "y"
        }
       ],
       "layout": {
        "font": {
         "family": "Arial",
         "size": 18
        },
        "height": 500,
        "legend": {
         "orientation": "h",
         "title": {
          "text": ""
         },
         "tracegroupgap": 0,
         "x": 0.02,
         "xanchor": "left",
         "y": 0.98,
         "yanchor": "top"
        },
        "margin": {
         "t": 60
        },
        "plot_bgcolor": "white",
        "template": {
         "data": {
          "bar": [
           {
            "error_x": {
             "color": "#2a3f5f"
            },
            "error_y": {
             "color": "#2a3f5f"
            },
            "marker": {
             "line": {
              "color": "#E5ECF6",
              "width": 0.5
             },
             "pattern": {
              "fillmode": "overlay",
              "size": 10,
              "solidity": 0.2
             }
            },
            "type": "bar"
           }
          ],
          "barpolar": [
           {
            "marker": {
             "line": {
              "color": "#E5ECF6",
              "width": 0.5
             },
             "pattern": {
              "fillmode": "overlay",
              "size": 10,
              "solidity": 0.2
             }
            },
            "type": "barpolar"
           }
          ],
          "carpet": [
           {
            "aaxis": {
             "endlinecolor": "#2a3f5f",
             "gridcolor": "white",
             "linecolor": "white",
             "minorgridcolor": "white",
             "startlinecolor": "#2a3f5f"
            },
            "baxis": {
             "endlinecolor": "#2a3f5f",
             "gridcolor": "white",
             "linecolor": "white",
             "minorgridcolor": "white",
             "startlinecolor": "#2a3f5f"
            },
            "type": "carpet"
           }
          ],
          "choropleth": [
           {
            "colorbar": {
             "outlinewidth": 0,
             "ticks": ""
            },
            "type": "choropleth"
           }
          ],
          "contour": [
           {
            "colorbar": {
             "outlinewidth": 0,
             "ticks": ""
            },
            "colorscale": [
             [
              0,
              "#0d0887"
             ],
             [
              0.1111111111111111,
              "#46039f"
             ],
             [
              0.2222222222222222,
              "#7201a8"
             ],
             [
              0.3333333333333333,
              "#9c179e"
             ],
             [
              0.4444444444444444,
              "#bd3786"
             ],
             [
              0.5555555555555556,
              "#d8576b"
             ],
             [
              0.6666666666666666,
              "#ed7953"
             ],
             [
              0.7777777777777778,
              "#fb9f3a"
             ],
             [
              0.8888888888888888,
              "#fdca26"
             ],
             [
              1,
              "#f0f921"
             ]
            ],
            "type": "contour"
           }
          ],
          "contourcarpet": [
           {
            "colorbar": {
             "outlinewidth": 0,
             "ticks": ""
            },
            "type": "contourcarpet"
           }
          ],
          "heatmap": [
           {
            "colorbar": {
             "outlinewidth": 0,
             "ticks": ""
            },
            "colorscale": [
             [
              0,
              "#0d0887"
             ],
             [
              0.1111111111111111,
              "#46039f"
             ],
             [
              0.2222222222222222,
              "#7201a8"
             ],
             [
              0.3333333333333333,
              "#9c179e"
             ],
             [
              0.4444444444444444,
              "#bd3786"
             ],
             [
              0.5555555555555556,
              "#d8576b"
             ],
             [
              0.6666666666666666,
              "#ed7953"
             ],
             [
              0.7777777777777778,
              "#fb9f3a"
             ],
             [
              0.8888888888888888,
              "#fdca26"
             ],
             [
              1,
              "#f0f921"
             ]
            ],
            "type": "heatmap"
           }
          ],
          "heatmapgl": [
           {
            "colorbar": {
             "outlinewidth": 0,
             "ticks": ""
            },
            "colorscale": [
             [
              0,
              "#0d0887"
             ],
             [
              0.1111111111111111,
              "#46039f"
             ],
             [
              0.2222222222222222,
              "#7201a8"
             ],
             [
              0.3333333333333333,
              "#9c179e"
             ],
             [
              0.4444444444444444,
              "#bd3786"
             ],
             [
              0.5555555555555556,
              "#d8576b"
             ],
             [
              0.6666666666666666,
              "#ed7953"
             ],
             [
              0.7777777777777778,
              "#fb9f3a"
             ],
             [
              0.8888888888888888,
              "#fdca26"
             ],
             [
              1,
              "#f0f921"
             ]
            ],
            "type": "heatmapgl"
           }
          ],
          "histogram": [
           {
            "marker": {
             "pattern": {
              "fillmode": "overlay",
              "size": 10,
              "solidity": 0.2
             }
            },
            "type": "histogram"
           }
          ],
          "histogram2d": [
           {
            "colorbar": {
             "outlinewidth": 0,
             "ticks": ""
            },
            "colorscale": [
             [
              0,
              "#0d0887"
             ],
             [
              0.1111111111111111,
              "#46039f"
             ],
             [
              0.2222222222222222,
              "#7201a8"
             ],
             [
              0.3333333333333333,
              "#9c179e"
             ],
             [
              0.4444444444444444,
              "#bd3786"
             ],
             [
              0.5555555555555556,
              "#d8576b"
             ],
             [
              0.6666666666666666,
              "#ed7953"
             ],
             [
              0.7777777777777778,
              "#fb9f3a"
             ],
             [
              0.8888888888888888,
              "#fdca26"
             ],
             [
              1,
              "#f0f921"
             ]
            ],
            "type": "histogram2d"
           }
          ],
          "histogram2dcontour": [
           {
            "colorbar": {
             "outlinewidth": 0,
             "ticks": ""
            },
            "colorscale": [
             [
              0,
              "#0d0887"
             ],
             [
              0.1111111111111111,
              "#46039f"
             ],
             [
              0.2222222222222222,
              "#7201a8"
             ],
             [
              0.3333333333333333,
              "#9c179e"
             ],
             [
              0.4444444444444444,
              "#bd3786"
             ],
             [
              0.5555555555555556,
              "#d8576b"
             ],
             [
              0.6666666666666666,
              "#ed7953"
             ],
             [
              0.7777777777777778,
              "#fb9f3a"
             ],
             [
              0.8888888888888888,
              "#fdca26"
             ],
             [
              1,
              "#f0f921"
             ]
            ],
            "type": "histogram2dcontour"
           }
          ],
          "mesh3d": [
           {
            "colorbar": {
             "outlinewidth": 0,
             "ticks": ""
            },
            "type": "mesh3d"
           }
          ],
          "parcoords": [
           {
            "line": {
             "colorbar": {
              "outlinewidth": 0,
              "ticks": ""
             }
            },
            "type": "parcoords"
           }
          ],
          "pie": [
           {
            "automargin": true,
            "type": "pie"
           }
          ],
          "scatter": [
           {
            "fillpattern": {
             "fillmode": "overlay",
             "size": 10,
             "solidity": 0.2
            },
            "type": "scatter"
           }
          ],
          "scatter3d": [
           {
            "line": {
             "colorbar": {
              "outlinewidth": 0,
              "ticks": ""
             }
            },
            "marker": {
             "colorbar": {
              "outlinewidth": 0,
              "ticks": ""
             }
            },
            "type": "scatter3d"
           }
          ],
          "scattercarpet": [
           {
            "marker": {
             "colorbar": {
              "outlinewidth": 0,
              "ticks": ""
             }
            },
            "type": "scattercarpet"
           }
          ],
          "scattergeo": [
           {
            "marker": {
             "colorbar": {
              "outlinewidth": 0,
              "ticks": ""
             }
            },
            "type": "scattergeo"
           }
          ],
          "scattergl": [
           {
            "marker": {
             "colorbar": {
              "outlinewidth": 0,
              "ticks": ""
             }
            },
            "type": "scattergl"
           }
          ],
          "scattermapbox": [
           {
            "marker": {
             "colorbar": {
              "outlinewidth": 0,
              "ticks": ""
             }
            },
            "type": "scattermapbox"
           }
          ],
          "scatterpolar": [
           {
            "marker": {
             "colorbar": {
              "outlinewidth": 0,
              "ticks": ""
             }
            },
            "type": "scatterpolar"
           }
          ],
          "scatterpolargl": [
           {
            "marker": {
             "colorbar": {
              "outlinewidth": 0,
              "ticks": ""
             }
            },
            "type": "scatterpolargl"
           }
          ],
          "scatterternary": [
           {
            "marker": {
             "colorbar": {
              "outlinewidth": 0,
              "ticks": ""
             }
            },
            "type": "scatterternary"
           }
          ],
          "surface": [
           {
            "colorbar": {
             "outlinewidth": 0,
             "ticks": ""
            },
            "colorscale": [
             [
              0,
              "#0d0887"
             ],
             [
              0.1111111111111111,
              "#46039f"
             ],
             [
              0.2222222222222222,
              "#7201a8"
             ],
             [
              0.3333333333333333,
              "#9c179e"
             ],
             [
              0.4444444444444444,
              "#bd3786"
             ],
             [
              0.5555555555555556,
              "#d8576b"
             ],
             [
              0.6666666666666666,
              "#ed7953"
             ],
             [
              0.7777777777777778,
              "#fb9f3a"
             ],
             [
              0.8888888888888888,
              "#fdca26"
             ],
             [
              1,
              "#f0f921"
             ]
            ],
            "type": "surface"
           }
          ],
          "table": [
           {
            "cells": {
             "fill": {
              "color": "#EBF0F8"
             },
             "line": {
              "color": "white"
             }
            },
            "header": {
             "fill": {
              "color": "#C8D4E3"
             },
             "line": {
              "color": "white"
             }
            },
            "type": "table"
           }
          ]
         },
         "layout": {
          "annotationdefaults": {
           "arrowcolor": "#2a3f5f",
           "arrowhead": 0,
           "arrowwidth": 1
          },
          "autotypenumbers": "strict",
          "coloraxis": {
           "colorbar": {
            "outlinewidth": 0,
            "ticks": ""
           }
          },
          "colorscale": {
           "diverging": [
            [
             0,
             "#8e0152"
            ],
            [
             0.1,
             "#c51b7d"
            ],
            [
             0.2,
             "#de77ae"
            ],
            [
             0.3,
             "#f1b6da"
            ],
            [
             0.4,
             "#fde0ef"
            ],
            [
             0.5,
             "#f7f7f7"
            ],
            [
             0.6,
             "#e6f5d0"
            ],
            [
             0.7,
             "#b8e186"
            ],
            [
             0.8,
             "#7fbc41"
            ],
            [
             0.9,
             "#4d9221"
            ],
            [
             1,
             "#276419"
            ]
           ],
           "sequential": [
            [
             0,
             "#0d0887"
            ],
            [
             0.1111111111111111,
             "#46039f"
            ],
            [
             0.2222222222222222,
             "#7201a8"
            ],
            [
             0.3333333333333333,
             "#9c179e"
            ],
            [
             0.4444444444444444,
             "#bd3786"
            ],
            [
             0.5555555555555556,
             "#d8576b"
            ],
            [
             0.6666666666666666,
             "#ed7953"
            ],
            [
             0.7777777777777778,
             "#fb9f3a"
            ],
            [
             0.8888888888888888,
             "#fdca26"
            ],
            [
             1,
             "#f0f921"
            ]
           ],
           "sequentialminus": [
            [
             0,
             "#0d0887"
            ],
            [
             0.1111111111111111,
             "#46039f"
            ],
            [
             0.2222222222222222,
             "#7201a8"
            ],
            [
             0.3333333333333333,
             "#9c179e"
            ],
            [
             0.4444444444444444,
             "#bd3786"
            ],
            [
             0.5555555555555556,
             "#d8576b"
            ],
            [
             0.6666666666666666,
             "#ed7953"
            ],
            [
             0.7777777777777778,
             "#fb9f3a"
            ],
            [
             0.8888888888888888,
             "#fdca26"
            ],
            [
             1,
             "#f0f921"
            ]
           ]
          },
          "colorway": [
           "#636efa",
           "#EF553B",
           "#00cc96",
           "#ab63fa",
           "#FFA15A",
           "#19d3f3",
           "#FF6692",
           "#B6E880",
           "#FF97FF",
           "#FECB52"
          ],
          "font": {
           "color": "#2a3f5f"
          },
          "geo": {
           "bgcolor": "white",
           "lakecolor": "white",
           "landcolor": "#E5ECF6",
           "showlakes": true,
           "showland": true,
           "subunitcolor": "white"
          },
          "hoverlabel": {
           "align": "left"
          },
          "hovermode": "closest",
          "mapbox": {
           "style": "light"
          },
          "paper_bgcolor": "white",
          "plot_bgcolor": "#E5ECF6",
          "polar": {
           "angularaxis": {
            "gridcolor": "white",
            "linecolor": "white",
            "ticks": ""
           },
           "bgcolor": "#E5ECF6",
           "radialaxis": {
            "gridcolor": "white",
            "linecolor": "white",
            "ticks": ""
           }
          },
          "scene": {
           "xaxis": {
            "backgroundcolor": "#E5ECF6",
            "gridcolor": "white",
            "gridwidth": 2,
            "linecolor": "white",
            "showbackground": true,
            "ticks": "",
            "zerolinecolor": "white"
           },
           "yaxis": {
            "backgroundcolor": "#E5ECF6",
            "gridcolor": "white",
            "gridwidth": 2,
            "linecolor": "white",
            "showbackground": true,
            "ticks": "",
            "zerolinecolor": "white"
           },
           "zaxis": {
            "backgroundcolor": "#E5ECF6",
            "gridcolor": "white",
            "gridwidth": 2,
            "linecolor": "white",
            "showbackground": true,
            "ticks": "",
            "zerolinecolor": "white"
           }
          },
          "shapedefaults": {
           "line": {
            "color": "#2a3f5f"
           }
          },
          "ternary": {
           "aaxis": {
            "gridcolor": "white",
            "linecolor": "white",
            "ticks": ""
           },
           "baxis": {
            "gridcolor": "white",
            "linecolor": "white",
            "ticks": ""
           },
           "bgcolor": "#E5ECF6",
           "caxis": {
            "gridcolor": "white",
            "linecolor": "white",
            "ticks": ""
           }
          },
          "title": {
           "x": 0.05
          },
          "xaxis": {
           "automargin": true,
           "gridcolor": "white",
           "linecolor": "white",
           "ticks": "",
           "title": {
            "standoff": 15
           },
           "zerolinecolor": "white",
           "zerolinewidth": 2
          },
          "yaxis": {
           "automargin": true,
           "gridcolor": "white",
           "linecolor": "white",
           "ticks": "",
           "title": {
            "standoff": 15
           },
           "zerolinecolor": "white",
           "zerolinewidth": 2
          }
         }
        },
        "title": {
         "text": "Grid-subsampled cross-patient correlation",
         "x": 0.5
        },
        "width": 700,
        "xaxis": {
         "anchor": "y",
         "domain": [
          0,
          1
         ],
         "linecolor": "black",
         "mirror": false,
         "showgrid": false,
         "showline": true,
         "ticks": "outside",
         "title": {
          "text": "Grid Size"
         }
        },
        "yaxis": {
         "anchor": "x",
         "domain": [
          0,
          1
         ],
         "linecolor": "black",
         "mirror": false,
         "range": [
          -0.025,
          0.75
         ],
         "showgrid": false,
         "showline": true,
         "ticks": "outside",
         "title": {
          "text": "Pearson <i>r</i>"
         }
        }
       }
      }
     },
     "metadata": {},
     "output_type": "display_data"
    }
   ],
   "source": [
    "med_grid_df = mean_grid_corr_df.groupby(['Grid Size', 'Patient']).median().reset_index()\n",
    "fig = px.line(mean_grid_corr_df, x='Grid Size', y=\"Correlation\", color='Patient', width=700, height=500)\n",
    "fig.add_traces(px.box(mean_grid_corr_df, x='Grid Size', y=\"Correlation\").data)\n",
    "fig.update_layout(\n",
    "    plot_bgcolor='white',\n",
    "    legend=dict(\n",
    "        orientation='h',\n",
    "        yanchor='top',\n",
    "        y=0.98,\n",
    "        xanchor='left',\n",
    "        x=0.02,\n",
    "        title_text=''\n",
    "    ),\n",
    "    title_text=f'Grid-subsampled cross-patient correlation',\n",
    "    title_x=0.5,\n",
    "    font=dict(size=18, family='Arial')\n",
    ")\n",
    "fig.update_xaxes(\n",
    "    title='Grid Size',\n",
    "    mirror=False,\n",
    "    ticks='outside',\n",
    "    showline=True,\n",
    "    linecolor='black',\n",
    "    showgrid=False,\n",
    ")\n",
    "fig.update_yaxes(\n",
    "    title='Pearson <i>r</i>',\n",
    "    mirror=False,\n",
    "    ticks='outside',\n",
    "    showline=True,\n",
    "    linecolor='black',\n",
    "    showgrid=False,\n",
    "    range=[-0.025, 0.75]\n",
    ")\n",
    "\n",
    "fig.show()"
   ]
  },
  {
   "cell_type": "markdown",
   "metadata": {},
   "source": [
    "#### Cross-patient decoding"
   ]
  },
  {
   "cell_type": "code",
   "execution_count": 86,
   "metadata": {},
   "outputs": [],
   "source": [
    "pt_list = ['S14', 'S22', 'S23', 'S26', 'S33', 'S39', 'S58', 'S62']\n",
    "\n",
    "pInd_list = [-1]\n",
    "\n",
    "grid_list = ['2-4', '3-6', '4-8', '5-10', '6-12', '7-14', '8-16']\n",
    "\n",
    "wide_dfs = []\n",
    "long_dfs = []\n",
    "for pt in pt_list:\n",
    "    for p_ind in pInd_list:\n",
    "        p_str = 'pAll' if p_ind == -1 else f'p{p_ind}'\n",
    "        for grid in grid_list:\n",
    "            g_dims = grid.split('-')\n",
    "            g_dims_int = [int(g) for g in g_dims]\n",
    "\n",
    "            # since different grid subsamplings will have different numbers of iterations, create nan array to hold acc values\n",
    "            # and then nans will be dropped in the dataframe later\n",
    "            p_tar = np.empty((2, 300))\n",
    "            p_tar[:] = np.nan\n",
    "\n",
    "            pt_spf_accs = cmat_wrap(*[utils.load_pkl(DECODE_PATH + f'ptSpecific/{pt}/grid_subsampling/{pt}_{p_str}_gridSubsamp{grid}_ptSpecific_rbf_noCV_20fold.pkl')[k] for k in ['y_true', 'y_pred']])\n",
    "            p_tar[0,:len(pt_spf_accs)] = pt_spf_accs\n",
    "\n",
    "            cca_accs = cmat_wrap(*[utils.load_pkl(DECODE_PATH + f'pooled/S62_added/{pt}/grid_subsampling/cca/{pt}_{p_str}_gridSubsamp{grid}_pooled_ccaAligned_rbf_noCV_20fold.pkl')[k] for k in ['y_true', 'y_pred']])\n",
    "            p_tar[1,:len(cca_accs)] = cca_accs\n",
    "            \n",
    "            decode_df = pd.DataFrame(p_tar.T, columns=['Patient-specific', 'Aligned cross-patient'])\n",
    "\n",
    "            wide_dfs.append(decode_df)\n",
    "            decode_df = pd.melt(decode_df, var_name='Decoding Context', value_name='Decoding Accuracy')\n",
    "            decode_df['Patient'] = paper_pt_dict[pt]\n",
    "            decode_df['Phoneme Index'] = p_str\n",
    "            decode_df['Grid Size'] = grid.replace('-', 'x')\n",
    "            decode_df['Grid X'] = g_dims_int[0]\n",
    "            decode_df['Grid Y'] = g_dims_int[1]\n",
    "            cols = decode_df.columns.tolist()\n",
    "            cols = cols[-4:] + cols[:-4]\n",
    "            decode_df = decode_df[cols]\n",
    "            long_dfs.append(decode_df)\n",
    "\n",
    "grid_decode_df_wide = pd.concat(wide_dfs)\n",
    "grid_decode_df_long = pd.concat(long_dfs)\n",
    "\n",
    "# drop nan values used for size consistency above\n",
    "grid_decode_df_long = grid_decode_df_long.dropna()\n",
    "\n",
    "grid_decode_df_long = grid_decode_df_long.sort_values(by=['Grid X', 'Decoding Context'])"
   ]
  },
  {
   "cell_type": "code",
   "execution_count": 87,
   "metadata": {},
   "outputs": [
    {
     "data": {
      "application/vnd.microsoft.datawrangler.viewer.v0+json": {
       "columns": [
        {
         "name": "index",
         "rawType": "int64",
         "type": "integer"
        },
        {
         "name": "Phoneme Index",
         "rawType": "object",
         "type": "string"
        },
        {
         "name": "Grid Size",
         "rawType": "object",
         "type": "string"
        },
        {
         "name": "Grid X",
         "rawType": "int64",
         "type": "integer"
        },
        {
         "name": "Grid Y",
         "rawType": "int64",
         "type": "integer"
        },
        {
         "name": "Decoding Context",
         "rawType": "object",
         "type": "string"
        },
        {
         "name": "Decoding Accuracy",
         "rawType": "float64",
         "type": "float"
        },
        {
         "name": "Patient",
         "rawType": "object",
         "type": "string"
        }
       ],
       "conversionMethod": "pd.DataFrame",
       "ref": "77df9eab-06c3-438c-a2b8-49d07218f9d1",
       "rows": [
        [
         "300",
         "pAll",
         "2x4",
         "2",
         "4",
         "Aligned cross-patient",
         "0.11805555555555555",
         "S1"
        ],
        [
         "301",
         "pAll",
         "2x4",
         "2",
         "4",
         "Aligned cross-patient",
         "0.14583333333333334",
         "S1"
        ],
        [
         "302",
         "pAll",
         "2x4",
         "2",
         "4",
         "Aligned cross-patient",
         "0.11574074074074074",
         "S1"
        ],
        [
         "303",
         "pAll",
         "2x4",
         "2",
         "4",
         "Aligned cross-patient",
         "0.1111111111111111",
         "S1"
        ],
        [
         "304",
         "pAll",
         "2x4",
         "2",
         "4",
         "Aligned cross-patient",
         "0.10185185185185185",
         "S1"
        ],
        [
         "305",
         "pAll",
         "2x4",
         "2",
         "4",
         "Aligned cross-patient",
         "0.1111111111111111",
         "S1"
        ],
        [
         "306",
         "pAll",
         "2x4",
         "2",
         "4",
         "Aligned cross-patient",
         "0.09027777777777778",
         "S1"
        ],
        [
         "307",
         "pAll",
         "2x4",
         "2",
         "4",
         "Aligned cross-patient",
         "0.11574074074074074",
         "S1"
        ],
        [
         "308",
         "pAll",
         "2x4",
         "2",
         "4",
         "Aligned cross-patient",
         "0.15046296296296297",
         "S1"
        ],
        [
         "309",
         "pAll",
         "2x4",
         "2",
         "4",
         "Aligned cross-patient",
         "0.1527777777777778",
         "S1"
        ],
        [
         "310",
         "pAll",
         "2x4",
         "2",
         "4",
         "Aligned cross-patient",
         "0.1111111111111111",
         "S1"
        ],
        [
         "311",
         "pAll",
         "2x4",
         "2",
         "4",
         "Aligned cross-patient",
         "0.09259259259259259",
         "S1"
        ],
        [
         "312",
         "pAll",
         "2x4",
         "2",
         "4",
         "Aligned cross-patient",
         "0.12037037037037036",
         "S1"
        ],
        [
         "313",
         "pAll",
         "2x4",
         "2",
         "4",
         "Aligned cross-patient",
         "0.1412037037037037",
         "S1"
        ],
        [
         "314",
         "pAll",
         "2x4",
         "2",
         "4",
         "Aligned cross-patient",
         "0.12731481481481483",
         "S1"
        ],
        [
         "315",
         "pAll",
         "2x4",
         "2",
         "4",
         "Aligned cross-patient",
         "0.1712962962962963",
         "S1"
        ],
        [
         "316",
         "pAll",
         "2x4",
         "2",
         "4",
         "Aligned cross-patient",
         "0.14814814814814814",
         "S1"
        ],
        [
         "317",
         "pAll",
         "2x4",
         "2",
         "4",
         "Aligned cross-patient",
         "0.1712962962962963",
         "S1"
        ],
        [
         "318",
         "pAll",
         "2x4",
         "2",
         "4",
         "Aligned cross-patient",
         "0.12731481481481483",
         "S1"
        ],
        [
         "319",
         "pAll",
         "2x4",
         "2",
         "4",
         "Aligned cross-patient",
         "0.14583333333333334",
         "S1"
        ],
        [
         "320",
         "pAll",
         "2x4",
         "2",
         "4",
         "Aligned cross-patient",
         "0.1736111111111111",
         "S1"
        ],
        [
         "321",
         "pAll",
         "2x4",
         "2",
         "4",
         "Aligned cross-patient",
         "0.1388888888888889",
         "S1"
        ],
        [
         "322",
         "pAll",
         "2x4",
         "2",
         "4",
         "Aligned cross-patient",
         "0.12268518518518519",
         "S1"
        ],
        [
         "323",
         "pAll",
         "2x4",
         "2",
         "4",
         "Aligned cross-patient",
         "0.14814814814814814",
         "S1"
        ],
        [
         "324",
         "pAll",
         "2x4",
         "2",
         "4",
         "Aligned cross-patient",
         "0.12962962962962962",
         "S1"
        ],
        [
         "325",
         "pAll",
         "2x4",
         "2",
         "4",
         "Aligned cross-patient",
         "0.17592592592592593",
         "S1"
        ],
        [
         "326",
         "pAll",
         "2x4",
         "2",
         "4",
         "Aligned cross-patient",
         "0.15046296296296297",
         "S1"
        ],
        [
         "327",
         "pAll",
         "2x4",
         "2",
         "4",
         "Aligned cross-patient",
         "0.12731481481481483",
         "S1"
        ],
        [
         "328",
         "pAll",
         "2x4",
         "2",
         "4",
         "Aligned cross-patient",
         "0.1412037037037037",
         "S1"
        ],
        [
         "329",
         "pAll",
         "2x4",
         "2",
         "4",
         "Aligned cross-patient",
         "0.13194444444444445",
         "S1"
        ],
        [
         "330",
         "pAll",
         "2x4",
         "2",
         "4",
         "Aligned cross-patient",
         "0.16435185185185186",
         "S1"
        ],
        [
         "331",
         "pAll",
         "2x4",
         "2",
         "4",
         "Aligned cross-patient",
         "0.16666666666666666",
         "S1"
        ],
        [
         "332",
         "pAll",
         "2x4",
         "2",
         "4",
         "Aligned cross-patient",
         "0.19212962962962962",
         "S1"
        ],
        [
         "333",
         "pAll",
         "2x4",
         "2",
         "4",
         "Aligned cross-patient",
         "0.19675925925925927",
         "S1"
        ],
        [
         "334",
         "pAll",
         "2x4",
         "2",
         "4",
         "Aligned cross-patient",
         "0.1574074074074074",
         "S1"
        ],
        [
         "335",
         "pAll",
         "2x4",
         "2",
         "4",
         "Aligned cross-patient",
         "0.13194444444444445",
         "S1"
        ],
        [
         "336",
         "pAll",
         "2x4",
         "2",
         "4",
         "Aligned cross-patient",
         "0.1550925925925926",
         "S1"
        ],
        [
         "337",
         "pAll",
         "2x4",
         "2",
         "4",
         "Aligned cross-patient",
         "0.1712962962962963",
         "S1"
        ],
        [
         "338",
         "pAll",
         "2x4",
         "2",
         "4",
         "Aligned cross-patient",
         "0.24074074074074073",
         "S1"
        ],
        [
         "339",
         "pAll",
         "2x4",
         "2",
         "4",
         "Aligned cross-patient",
         "0.23842592592592593",
         "S1"
        ],
        [
         "340",
         "pAll",
         "2x4",
         "2",
         "4",
         "Aligned cross-patient",
         "0.21296296296296297",
         "S1"
        ],
        [
         "341",
         "pAll",
         "2x4",
         "2",
         "4",
         "Aligned cross-patient",
         "0.21296296296296297",
         "S1"
        ],
        [
         "342",
         "pAll",
         "2x4",
         "2",
         "4",
         "Aligned cross-patient",
         "0.14583333333333334",
         "S1"
        ],
        [
         "343",
         "pAll",
         "2x4",
         "2",
         "4",
         "Aligned cross-patient",
         "0.125",
         "S1"
        ],
        [
         "344",
         "pAll",
         "2x4",
         "2",
         "4",
         "Aligned cross-patient",
         "0.19675925925925927",
         "S1"
        ],
        [
         "345",
         "pAll",
         "2x4",
         "2",
         "4",
         "Aligned cross-patient",
         "0.24537037037037038",
         "S1"
        ],
        [
         "346",
         "pAll",
         "2x4",
         "2",
         "4",
         "Aligned cross-patient",
         "0.22916666666666666",
         "S1"
        ],
        [
         "347",
         "pAll",
         "2x4",
         "2",
         "4",
         "Aligned cross-patient",
         "0.2199074074074074",
         "S1"
        ],
        [
         "348",
         "pAll",
         "2x4",
         "2",
         "4",
         "Aligned cross-patient",
         "0.22453703703703703",
         "S1"
        ],
        [
         "349",
         "pAll",
         "2x4",
         "2",
         "4",
         "Aligned cross-patient",
         "0.13657407407407407",
         "S1"
        ]
       ],
       "shape": {
        "columns": 7,
        "rows": 7996
       }
      },
      "text/html": [
       "<div>\n",
       "<style scoped>\n",
       "    .dataframe tbody tr th:only-of-type {\n",
       "        vertical-align: middle;\n",
       "    }\n",
       "\n",
       "    .dataframe tbody tr th {\n",
       "        vertical-align: top;\n",
       "    }\n",
       "\n",
       "    .dataframe thead th {\n",
       "        text-align: right;\n",
       "    }\n",
       "</style>\n",
       "<table border=\"1\" class=\"dataframe\">\n",
       "  <thead>\n",
       "    <tr style=\"text-align: right;\">\n",
       "      <th></th>\n",
       "      <th>Phoneme Index</th>\n",
       "      <th>Grid Size</th>\n",
       "      <th>Grid X</th>\n",
       "      <th>Grid Y</th>\n",
       "      <th>Decoding Context</th>\n",
       "      <th>Decoding Accuracy</th>\n",
       "      <th>Patient</th>\n",
       "    </tr>\n",
       "  </thead>\n",
       "  <tbody>\n",
       "    <tr>\n",
       "      <th>300</th>\n",
       "      <td>pAll</td>\n",
       "      <td>2x4</td>\n",
       "      <td>2</td>\n",
       "      <td>4</td>\n",
       "      <td>Aligned cross-patient</td>\n",
       "      <td>0.118056</td>\n",
       "      <td>S1</td>\n",
       "    </tr>\n",
       "    <tr>\n",
       "      <th>301</th>\n",
       "      <td>pAll</td>\n",
       "      <td>2x4</td>\n",
       "      <td>2</td>\n",
       "      <td>4</td>\n",
       "      <td>Aligned cross-patient</td>\n",
       "      <td>0.145833</td>\n",
       "      <td>S1</td>\n",
       "    </tr>\n",
       "    <tr>\n",
       "      <th>302</th>\n",
       "      <td>pAll</td>\n",
       "      <td>2x4</td>\n",
       "      <td>2</td>\n",
       "      <td>4</td>\n",
       "      <td>Aligned cross-patient</td>\n",
       "      <td>0.115741</td>\n",
       "      <td>S1</td>\n",
       "    </tr>\n",
       "    <tr>\n",
       "      <th>303</th>\n",
       "      <td>pAll</td>\n",
       "      <td>2x4</td>\n",
       "      <td>2</td>\n",
       "      <td>4</td>\n",
       "      <td>Aligned cross-patient</td>\n",
       "      <td>0.111111</td>\n",
       "      <td>S1</td>\n",
       "    </tr>\n",
       "    <tr>\n",
       "      <th>304</th>\n",
       "      <td>pAll</td>\n",
       "      <td>2x4</td>\n",
       "      <td>2</td>\n",
       "      <td>4</td>\n",
       "      <td>Aligned cross-patient</td>\n",
       "      <td>0.101852</td>\n",
       "      <td>S1</td>\n",
       "    </tr>\n",
       "    <tr>\n",
       "      <th>...</th>\n",
       "      <td>...</td>\n",
       "      <td>...</td>\n",
       "      <td>...</td>\n",
       "      <td>...</td>\n",
       "      <td>...</td>\n",
       "      <td>...</td>\n",
       "      <td>...</td>\n",
       "    </tr>\n",
       "    <tr>\n",
       "      <th>30</th>\n",
       "      <td>pAll</td>\n",
       "      <td>8x16</td>\n",
       "      <td>8</td>\n",
       "      <td>16</td>\n",
       "      <td>Patient-specific</td>\n",
       "      <td>0.294007</td>\n",
       "      <td>S8</td>\n",
       "    </tr>\n",
       "    <tr>\n",
       "      <th>31</th>\n",
       "      <td>pAll</td>\n",
       "      <td>8x16</td>\n",
       "      <td>8</td>\n",
       "      <td>16</td>\n",
       "      <td>Patient-specific</td>\n",
       "      <td>0.299625</td>\n",
       "      <td>S8</td>\n",
       "    </tr>\n",
       "    <tr>\n",
       "      <th>32</th>\n",
       "      <td>pAll</td>\n",
       "      <td>8x16</td>\n",
       "      <td>8</td>\n",
       "      <td>16</td>\n",
       "      <td>Patient-specific</td>\n",
       "      <td>0.277154</td>\n",
       "      <td>S8</td>\n",
       "    </tr>\n",
       "    <tr>\n",
       "      <th>33</th>\n",
       "      <td>pAll</td>\n",
       "      <td>8x16</td>\n",
       "      <td>8</td>\n",
       "      <td>16</td>\n",
       "      <td>Patient-specific</td>\n",
       "      <td>0.322097</td>\n",
       "      <td>S8</td>\n",
       "    </tr>\n",
       "    <tr>\n",
       "      <th>34</th>\n",
       "      <td>pAll</td>\n",
       "      <td>8x16</td>\n",
       "      <td>8</td>\n",
       "      <td>16</td>\n",
       "      <td>Patient-specific</td>\n",
       "      <td>0.310861</td>\n",
       "      <td>S8</td>\n",
       "    </tr>\n",
       "  </tbody>\n",
       "</table>\n",
       "<p>7996 rows × 7 columns</p>\n",
       "</div>"
      ],
      "text/plain": [
       "    Phoneme Index Grid Size  Grid X  Grid Y       Decoding Context  \\\n",
       "300          pAll       2x4       2       4  Aligned cross-patient   \n",
       "301          pAll       2x4       2       4  Aligned cross-patient   \n",
       "302          pAll       2x4       2       4  Aligned cross-patient   \n",
       "303          pAll       2x4       2       4  Aligned cross-patient   \n",
       "304          pAll       2x4       2       4  Aligned cross-patient   \n",
       "..            ...       ...     ...     ...                    ...   \n",
       "30           pAll      8x16       8      16       Patient-specific   \n",
       "31           pAll      8x16       8      16       Patient-specific   \n",
       "32           pAll      8x16       8      16       Patient-specific   \n",
       "33           pAll      8x16       8      16       Patient-specific   \n",
       "34           pAll      8x16       8      16       Patient-specific   \n",
       "\n",
       "     Decoding Accuracy Patient  \n",
       "300           0.118056      S1  \n",
       "301           0.145833      S1  \n",
       "302           0.115741      S1  \n",
       "303           0.111111      S1  \n",
       "304           0.101852      S1  \n",
       "..                 ...     ...  \n",
       "30            0.294007      S8  \n",
       "31            0.299625      S8  \n",
       "32            0.277154      S8  \n",
       "33            0.322097      S8  \n",
       "34            0.310861      S8  \n",
       "\n",
       "[7996 rows x 7 columns]"
      ]
     },
     "execution_count": 87,
     "metadata": {},
     "output_type": "execute_result"
    }
   ],
   "source": [
    "grid_decode_df_long"
   ]
  },
  {
   "cell_type": "code",
   "execution_count": 88,
   "metadata": {},
   "outputs": [
    {
     "data": {
      "application/vnd.microsoft.datawrangler.viewer.v0+json": {
       "columns": [
        {
         "name": "index",
         "rawType": "int64",
         "type": "integer"
        },
        {
         "name": "Patient",
         "rawType": "object",
         "type": "string"
        },
        {
         "name": "Grid Size",
         "rawType": "object",
         "type": "string"
        },
        {
         "name": "Decoding Context",
         "rawType": "object",
         "type": "string"
        },
        {
         "name": "Grid X",
         "rawType": "float64",
         "type": "float"
        },
        {
         "name": "Grid Y",
         "rawType": "float64",
         "type": "float"
        },
        {
         "name": "Decoding Accuracy",
         "rawType": "float64",
         "type": "float"
        }
       ],
       "conversionMethod": "pd.DataFrame",
       "ref": "84178ba0-2b7b-4da2-927a-e05ff3ec959b",
       "rows": [
        [
         "0",
         "S1",
         "2x4",
         "Aligned cross-patient",
         "2.0",
         "4.0",
         "0.18053011803011804"
        ],
        [
         "1",
         "S1",
         "2x4",
         "Patient-specific",
         "2.0",
         "4.0",
         "0.2016941391941392"
        ],
        [
         "2",
         "S1",
         "3x6",
         "Aligned cross-patient",
         "3.0",
         "6.0",
         "0.21548821548821548"
        ],
        [
         "3",
         "S1",
         "3x6",
         "Patient-specific",
         "3.0",
         "6.0",
         "0.2376192480359147"
        ],
        [
         "4",
         "S1",
         "4x8",
         "Aligned cross-patient",
         "4.0",
         "8.0",
         "0.26069958847736624"
        ],
        [
         "5",
         "S1",
         "4x8",
         "Patient-specific",
         "4.0",
         "8.0",
         "0.2707304526748971"
        ],
        [
         "6",
         "S1",
         "5x10",
         "Aligned cross-patient",
         "5.0",
         "10.0",
         "0.29480820105820105"
        ],
        [
         "7",
         "S1",
         "5x10",
         "Patient-specific",
         "5.0",
         "10.0",
         "0.2994378306878307"
        ],
        [
         "8",
         "S1",
         "6x12",
         "Aligned cross-patient",
         "6.0",
         "12.0",
         "0.33842592592592596"
        ],
        [
         "9",
         "S1",
         "6x12",
         "Patient-specific",
         "6.0",
         "12.0",
         "0.328858024691358"
        ],
        [
         "10",
         "S1",
         "7x14",
         "Aligned cross-patient",
         "7.0",
         "14.0",
         "0.34992283950617287"
        ],
        [
         "11",
         "S1",
         "7x14",
         "Patient-specific",
         "7.0",
         "14.0",
         "0.3541666666666667"
        ],
        [
         "12",
         "S1",
         "8x16",
         "Aligned cross-patient",
         "8.0",
         "16.0",
         "0.41203703703703703"
        ],
        [
         "13",
         "S1",
         "8x16",
         "Patient-specific",
         "8.0",
         "16.0",
         "0.38657407407407407"
        ],
        [
         "14",
         "S2",
         "2x4",
         "Aligned cross-patient",
         "2.0",
         "4.0",
         "0.16416416416416416"
        ],
        [
         "15",
         "S2",
         "2x4",
         "Patient-specific",
         "2.0",
         "4.0",
         "0.17975475475475478"
        ],
        [
         "16",
         "S2",
         "3x6",
         "Aligned cross-patient",
         "3.0",
         "6.0",
         "0.19983619983619985"
        ],
        [
         "17",
         "S2",
         "3x6",
         "Patient-specific",
         "3.0",
         "6.0",
         "0.22184684684684683"
        ],
        [
         "18",
         "S2",
         "4x8",
         "Aligned cross-patient",
         "4.0",
         "8.0",
         "0.25245245245245246"
        ],
        [
         "19",
         "S2",
         "4x8",
         "Patient-specific",
         "4.0",
         "8.0",
         "0.2769269269269269"
        ],
        [
         "20",
         "S2",
         "5x10",
         "Aligned cross-patient",
         "5.0",
         "10.0",
         "0.31893500643500644"
        ],
        [
         "21",
         "S2",
         "5x10",
         "Patient-specific",
         "5.0",
         "10.0",
         "0.3311615186615186"
        ],
        [
         "22",
         "S2",
         "6x12",
         "Aligned cross-patient",
         "6.0",
         "12.0",
         "0.3615615615615616"
        ],
        [
         "23",
         "S2",
         "6x12",
         "Patient-specific",
         "6.0",
         "12.0",
         "0.3627627627627628"
        ],
        [
         "24",
         "S2",
         "7x14",
         "Aligned cross-patient",
         "7.0",
         "14.0",
         "0.39564564564564564"
        ],
        [
         "25",
         "S2",
         "7x14",
         "Patient-specific",
         "7.0",
         "14.0",
         "0.3776276276276276"
        ],
        [
         "26",
         "S2",
         "8x16",
         "Aligned cross-patient",
         "8.0",
         "16.0",
         "0.47297297297297297"
        ],
        [
         "27",
         "S2",
         "8x16",
         "Patient-specific",
         "8.0",
         "16.0",
         "0.4391891891891892"
        ],
        [
         "28",
         "S3",
         "2x4",
         "Aligned cross-patient",
         "2.0",
         "4.0",
         "0.15641569459172852"
        ],
        [
         "29",
         "S3",
         "2x4",
         "Patient-specific",
         "2.0",
         "4.0",
         "0.14095086603039944"
        ],
        [
         "30",
         "S3",
         "3x6",
         "Aligned cross-patient",
         "3.0",
         "6.0",
         "0.18717342009267474"
        ],
        [
         "31",
         "S3",
         "3x6",
         "Patient-specific",
         "3.0",
         "6.0",
         "0.15128660159716062"
        ],
        [
         "32",
         "S3",
         "4x8",
         "Aligned cross-patient",
         "4.0",
         "8.0",
         "0.2198840579710145"
        ],
        [
         "33",
         "S3",
         "4x8",
         "Patient-specific",
         "4.0",
         "8.0",
         "0.1607536231884058"
        ],
        [
         "34",
         "S3",
         "5x10",
         "Aligned cross-patient",
         "5.0",
         "10.0",
         "0.2560625627780169"
        ],
        [
         "35",
         "S3",
         "5x10",
         "Patient-specific",
         "5.0",
         "10.0",
         "0.16336633663366337"
        ],
        [
         "36",
         "S3",
         "6x12",
         "Aligned cross-patient",
         "6.0",
         "12.0",
         "0.2988895162808206"
        ],
        [
         "37",
         "S3",
         "6x12",
         "Patient-specific",
         "6.0",
         "12.0",
         "0.17184265010351968"
        ],
        [
         "38",
         "S3",
         "7x14",
         "Aligned cross-patient",
         "7.0",
         "14.0",
         "0.3617820719269995"
        ],
        [
         "39",
         "S3",
         "7x14",
         "Patient-specific",
         "7.0",
         "14.0",
         "0.19189479334406873"
        ],
        [
         "40",
         "S3",
         "8x16",
         "Aligned cross-patient",
         "8.0",
         "16.0",
         "0.43478260869565216"
        ],
        [
         "41",
         "S3",
         "8x16",
         "Patient-specific",
         "8.0",
         "16.0",
         "0.220703933747412"
        ],
        [
         "42",
         "S4",
         "2x4",
         "Aligned cross-patient",
         "2.0",
         "4.0",
         "0.1228643140101001"
        ],
        [
         "43",
         "S4",
         "2x4",
         "Patient-specific",
         "2.0",
         "4.0",
         "0.11787474674166137"
        ],
        [
         "44",
         "S4",
         "3x6",
         "Aligned cross-patient",
         "3.0",
         "6.0",
         "0.1261482589190344"
        ],
        [
         "45",
         "S4",
         "3x6",
         "Patient-specific",
         "3.0",
         "6.0",
         "0.11774549597664316"
        ],
        [
         "46",
         "S4",
         "4x8",
         "Aligned cross-patient",
         "4.0",
         "8.0",
         "0.13558989453029188"
        ],
        [
         "47",
         "S4",
         "4x8",
         "Patient-specific",
         "4.0",
         "8.0",
         "0.1214618592102036"
        ],
        [
         "48",
         "S4",
         "5x10",
         "Aligned cross-patient",
         "5.0",
         "10.0",
         "0.14183222958057395"
        ],
        [
         "49",
         "S4",
         "5x10",
         "Patient-specific",
         "5.0",
         "10.0",
         "0.12125512456638285"
        ]
       ],
       "shape": {
        "columns": 6,
        "rows": 112
       }
      },
      "text/html": [
       "<div>\n",
       "<style scoped>\n",
       "    .dataframe tbody tr th:only-of-type {\n",
       "        vertical-align: middle;\n",
       "    }\n",
       "\n",
       "    .dataframe tbody tr th {\n",
       "        vertical-align: top;\n",
       "    }\n",
       "\n",
       "    .dataframe thead th {\n",
       "        text-align: right;\n",
       "    }\n",
       "</style>\n",
       "<table border=\"1\" class=\"dataframe\">\n",
       "  <thead>\n",
       "    <tr style=\"text-align: right;\">\n",
       "      <th></th>\n",
       "      <th>Patient</th>\n",
       "      <th>Grid Size</th>\n",
       "      <th>Decoding Context</th>\n",
       "      <th>Grid X</th>\n",
       "      <th>Grid Y</th>\n",
       "      <th>Decoding Accuracy</th>\n",
       "    </tr>\n",
       "  </thead>\n",
       "  <tbody>\n",
       "    <tr>\n",
       "      <th>0</th>\n",
       "      <td>S1</td>\n",
       "      <td>2x4</td>\n",
       "      <td>Aligned cross-patient</td>\n",
       "      <td>2.0</td>\n",
       "      <td>4.0</td>\n",
       "      <td>0.180530</td>\n",
       "    </tr>\n",
       "    <tr>\n",
       "      <th>1</th>\n",
       "      <td>S1</td>\n",
       "      <td>2x4</td>\n",
       "      <td>Patient-specific</td>\n",
       "      <td>2.0</td>\n",
       "      <td>4.0</td>\n",
       "      <td>0.201694</td>\n",
       "    </tr>\n",
       "    <tr>\n",
       "      <th>2</th>\n",
       "      <td>S1</td>\n",
       "      <td>3x6</td>\n",
       "      <td>Aligned cross-patient</td>\n",
       "      <td>3.0</td>\n",
       "      <td>6.0</td>\n",
       "      <td>0.215488</td>\n",
       "    </tr>\n",
       "    <tr>\n",
       "      <th>3</th>\n",
       "      <td>S1</td>\n",
       "      <td>3x6</td>\n",
       "      <td>Patient-specific</td>\n",
       "      <td>3.0</td>\n",
       "      <td>6.0</td>\n",
       "      <td>0.237619</td>\n",
       "    </tr>\n",
       "    <tr>\n",
       "      <th>4</th>\n",
       "      <td>S1</td>\n",
       "      <td>4x8</td>\n",
       "      <td>Aligned cross-patient</td>\n",
       "      <td>4.0</td>\n",
       "      <td>8.0</td>\n",
       "      <td>0.260700</td>\n",
       "    </tr>\n",
       "    <tr>\n",
       "      <th>...</th>\n",
       "      <td>...</td>\n",
       "      <td>...</td>\n",
       "      <td>...</td>\n",
       "      <td>...</td>\n",
       "      <td>...</td>\n",
       "      <td>...</td>\n",
       "    </tr>\n",
       "    <tr>\n",
       "      <th>107</th>\n",
       "      <td>S8</td>\n",
       "      <td>6x12</td>\n",
       "      <td>Patient-specific</td>\n",
       "      <td>6.0</td>\n",
       "      <td>12.0</td>\n",
       "      <td>0.263729</td>\n",
       "    </tr>\n",
       "    <tr>\n",
       "      <th>108</th>\n",
       "      <td>S8</td>\n",
       "      <td>7x14</td>\n",
       "      <td>Aligned cross-patient</td>\n",
       "      <td>7.0</td>\n",
       "      <td>14.0</td>\n",
       "      <td>0.308191</td>\n",
       "    </tr>\n",
       "    <tr>\n",
       "      <th>109</th>\n",
       "      <td>S8</td>\n",
       "      <td>7x14</td>\n",
       "      <td>Patient-specific</td>\n",
       "      <td>7.0</td>\n",
       "      <td>14.0</td>\n",
       "      <td>0.286656</td>\n",
       "    </tr>\n",
       "    <tr>\n",
       "      <th>110</th>\n",
       "      <td>S8</td>\n",
       "      <td>8x16</td>\n",
       "      <td>Aligned cross-patient</td>\n",
       "      <td>8.0</td>\n",
       "      <td>16.0</td>\n",
       "      <td>0.320974</td>\n",
       "    </tr>\n",
       "    <tr>\n",
       "      <th>111</th>\n",
       "      <td>S8</td>\n",
       "      <td>8x16</td>\n",
       "      <td>Patient-specific</td>\n",
       "      <td>8.0</td>\n",
       "      <td>16.0</td>\n",
       "      <td>0.295185</td>\n",
       "    </tr>\n",
       "  </tbody>\n",
       "</table>\n",
       "<p>112 rows × 6 columns</p>\n",
       "</div>"
      ],
      "text/plain": [
       "    Patient Grid Size       Decoding Context  Grid X  Grid Y  \\\n",
       "0        S1       2x4  Aligned cross-patient     2.0     4.0   \n",
       "1        S1       2x4       Patient-specific     2.0     4.0   \n",
       "2        S1       3x6  Aligned cross-patient     3.0     6.0   \n",
       "3        S1       3x6       Patient-specific     3.0     6.0   \n",
       "4        S1       4x8  Aligned cross-patient     4.0     8.0   \n",
       "..      ...       ...                    ...     ...     ...   \n",
       "107      S8      6x12       Patient-specific     6.0    12.0   \n",
       "108      S8      7x14  Aligned cross-patient     7.0    14.0   \n",
       "109      S8      7x14       Patient-specific     7.0    14.0   \n",
       "110      S8      8x16  Aligned cross-patient     8.0    16.0   \n",
       "111      S8      8x16       Patient-specific     8.0    16.0   \n",
       "\n",
       "     Decoding Accuracy  \n",
       "0             0.180530  \n",
       "1             0.201694  \n",
       "2             0.215488  \n",
       "3             0.237619  \n",
       "4             0.260700  \n",
       "..                 ...  \n",
       "107           0.263729  \n",
       "108           0.308191  \n",
       "109           0.286656  \n",
       "110           0.320974  \n",
       "111           0.295185  \n",
       "\n",
       "[112 rows x 6 columns]"
      ]
     },
     "execution_count": 88,
     "metadata": {},
     "output_type": "execute_result"
    }
   ],
   "source": [
    "mean_grid_decode_df = grid_decode_df_long.drop(columns=['Phoneme Index']).groupby(['Patient', 'Grid Size', 'Decoding Context']).mean().reset_index()\n",
    "mean_grid_decode_df"
   ]
  },
  {
   "cell_type": "code",
   "execution_count": null,
   "metadata": {},
   "outputs": [
    {
     "data": {
      "image/png": "[encoded data removed]",
      "text/plain": [
       "<Figure size 800x600 with 1 Axes>"
      ]
     },
     "metadata": {},
     "output_type": "display_data"
    }
   ],
   "source": [
    "f, ax1 = plt.subplots(1,1, figsize=(8,6))\n",
    "\n",
    "sns.lineplot(data=mean_grid_decode_df, x='Grid Size', y='Decoding Accuracy', hue='Decoding Context', marker='o', errorbar='sd', ax=ax1, palette=[px_colors[3], px_colors[0]])\n",
    "ax1.set_xlabel('')\n",
    "ax1.set_ylabel('')\n",
    "ax1.axhline(1/9, color='grey', linestyle='--')\n",
    "ax1.set_ylim(0.05, 0.45)\n",
    "ax1.legend(loc='upper left')\n",
    "ax1.set_ylim(0, 0.45)=\n",
    "\n",
    "sns.despine()\n",
    "plt.show()"
   ]
  },
  {
   "cell_type": "code",
   "execution_count": 229,
   "metadata": {},
   "outputs": [
    {
     "name": "stdout",
     "output_type": "stream",
     "text": [
      "[False False False False  True  True  True]\n",
      "Grid Size: 2x4 - t-statistic: 0.0007770621118844967, p-value: 0.8203125, FDR-corrected p-value: 0.8203125\n",
      "Grid Size: 3x6 - t-statistic: -0.004324403624435563, p-value: 0.5625, FDR-corrected p-value: 0.65625\n",
      "Grid Size: 4x8 - t-statistic: -0.011983866080901268, p-value: 0.25, FDR-corrected p-value: 0.35\n",
      "Grid Size: 5x10 - t-statistic: -0.024196566169224387, p-value: 0.0546875, FDR-corrected p-value: 0.095703125\n",
      "Grid Size: 6x12 - t-statistic: -0.03587266372917586, p-value: 0.015625, FDR-corrected p-value: 0.036458333333333336\n",
      "Grid Size: 7x14 - t-statistic: -0.043301371997781196, p-value: 0.015625, FDR-corrected p-value: 0.036458333333333336\n",
      "Grid Size: 8x16 - t-statistic: -0.05733930664749967, p-value: 0.0078125, FDR-corrected p-value: 0.036458333333333336\n"
     ]
    }
   ],
   "source": [
    "# run stats on difference between CCA and Patient-Specific decoding at each contact size\n",
    "def diff_stat(a,b,axis):\n",
    "    return np.mean(a, axis=axis) - np.mean(b, axis=axis)\n",
    "\n",
    "stat_data = []\n",
    "for win_size in np.unique(mean_grid_decode_df['Grid Size']):\n",
    "    pt_spf = mean_grid_decode_df[(mean_grid_decode_df['Decoding Context'] == 'Patient-specific') & (mean_grid_decode_df['Grid Size'] == win_size)]['Decoding Accuracy']\n",
    "    cca = mean_grid_decode_df[(mean_grid_decode_df['Decoding Context'] == 'Aligned cross-patient') & (mean_grid_decode_df['Grid Size'] == win_size)]['Decoding Accuracy']\n",
    "    \n",
    "    res = stats.permutation_test((pt_spf, cca), diff_stat, permutation_type='samples')\n",
    "    stat_data.append((win_size, res.statistic, res.pvalue))\n",
    "\n",
    "fdr_pass, fdr_pvals = fdrcorrection([p_val for _, _, p_val in stat_data])\n",
    "print(fdr_pass)\n",
    "for i in range(len(stat_data)):\n",
    "    print(f'Grid Size: {stat_data[i][0]} - t-statistic: {stat_data[i][1]}, p-value: {stat_data[i][2]}, FDR-corrected p-value: {fdr_pvals[i]}')"
   ]
  },
  {
   "cell_type": "markdown",
   "metadata": {},
   "source": [
    "### Panel c"
   ]
  },
  {
   "cell_type": "markdown",
   "metadata": {},
   "source": [
    "#### Cross-patient correlation"
   ]
  },
  {
   "cell_type": "code",
   "execution_count": 61,
   "metadata": {},
   "outputs": [
    {
     "name": "stdout",
     "output_type": "stream",
     "text": [
      "##### Aligning to S14 (S1) #####\n",
      "Contact Size:  8x8\n",
      "Contact Size:  7x7\n",
      "Contact Size:  6x6\n",
      "Contact Size:  5x5\n",
      "Contact Size:  4x4\n",
      "Contact Size:  3x3\n",
      "Contact Size:  2x2\n",
      "Contact Size:  1x1\n",
      "##### Aligning to S26 (S2) #####\n",
      "Contact Size:  8x8\n",
      "Contact Size:  7x7\n",
      "Contact Size:  6x6\n",
      "Contact Size:  5x5\n",
      "Contact Size:  4x4\n",
      "Contact Size:  3x3\n",
      "Contact Size:  2x2\n",
      "Contact Size:  1x1\n",
      "##### Aligning to S23 (S5) #####\n",
      "Contact Size:  8x8\n",
      "Contact Size:  7x7\n",
      "Contact Size:  6x6\n",
      "Contact Size:  5x5\n",
      "Contact Size:  4x4\n",
      "Contact Size:  3x3\n",
      "Contact Size:  2x2\n",
      "Contact Size:  1x1\n",
      "##### Aligning to S33 (S3) #####\n",
      "Contact Size:  8x8\n",
      "Contact Size:  7x7\n",
      "Contact Size:  6x6\n",
      "Contact Size:  5x5\n",
      "Contact Size:  4x4\n",
      "Contact Size:  3x3\n",
      "Contact Size:  2x2\n",
      "Contact Size:  1x1\n",
      "##### Aligning to S22 (S4) #####\n",
      "Contact Size:  8x8\n",
      "Contact Size:  7x7\n",
      "Contact Size:  6x6\n",
      "Contact Size:  5x5\n",
      "Contact Size:  4x4\n",
      "Contact Size:  3x3\n",
      "Contact Size:  2x2\n",
      "Contact Size:  1x1\n",
      "##### Aligning to S39 (S6) #####\n",
      "Contact Size:  8x8\n",
      "Contact Size:  7x7\n",
      "Contact Size:  6x6\n",
      "Contact Size:  5x5\n",
      "Contact Size:  4x4\n",
      "Contact Size:  3x3\n",
      "Contact Size:  2x2\n",
      "Contact Size:  1x1\n",
      "##### Aligning to S58 (S7) #####\n",
      "Contact Size:  8x8\n",
      "Contact Size:  7x7\n",
      "Contact Size:  6x6\n",
      "Contact Size:  5x5\n",
      "Contact Size:  4x4\n",
      "Contact Size:  3x3\n",
      "Contact Size:  2x2\n",
      "Contact Size:  1x1\n",
      "##### Aligning to S62 (S8) #####\n",
      "Contact Size:  8x8\n",
      "Contact Size:  7x7\n",
      "Contact Size:  6x6\n",
      "Contact Size:  5x5\n",
      "Contact Size:  4x4\n",
      "Contact Size:  3x3\n",
      "Contact Size:  2x2\n",
      "Contact Size:  1x1\n"
     ]
    }
   ],
   "source": [
    "savg_corr_tot_df = pd.DataFrame()\n",
    "for align_pt in pt_names:\n",
    "# for align_pt in ['S26']:\n",
    "    print(f'##### Aligning to {align_pt} ({paper_pt_dict[align_pt]}) #####')\n",
    "    \n",
    "    align_pt_ind = pt_names.index(align_pt)\n",
    "    other_pts = [pt for pt in pt_names if pt != align_pt]\n",
    "\n",
    "    n_comp_corr = 10\n",
    "\n",
    "    savg_corr_df = pd.DataFrame()\n",
    "\n",
    "    # savg_list = [1]\n",
    "    for cs in contactSizes:\n",
    "    # for cs in ['3x3']:\n",
    "        print('Contact Size: ', cs)\n",
    "\n",
    "        # get spatially averaged data\n",
    "        all_pt_traces_sub = {}\n",
    "        for pt in pt_names:\n",
    "            all_pt_traces_sub[pt] = all_savg_traces[pt][cs]\n",
    "        \n",
    "        # setup CCA aligners for each condition and patient\n",
    "        aligners_sub = {}\n",
    "        for i, pt in enumerate(pt_names):\n",
    "            if i == align_pt_ind:\n",
    "                continue\n",
    "            aligners_sub[pt] = AlignCCA()\n",
    "\n",
    "        # get patient-specific latent dynamics with PCA on channels\n",
    "        # to_align_sub = [PCA(n_components=0.9).fit_transform(all_pt_traces_sub[pt].reshape(-1, all_pt_traces_sub[pt].shape[-1])) for pt in pt_names]\n",
    "        # to_align_sub = [to_align_sub[i].reshape(all_pt_traces_sub[pt].shape[0], all_pt_traces_sub[pt].shape[1], -1) for i, pt in enumerate(pt_names)]\n",
    "        to_align_sub = []\n",
    "        for pt in pt_names:\n",
    "            pt_PCA = PCA().fit(all_pt_traces_sub[pt].reshape(-1, all_pt_traces_sub[pt].shape[-1]))\n",
    "            # only truncate components if that doesn't leave a single component left\n",
    "            n_comp = np.where(np.cumsum(pt_PCA.explained_variance_ratio_) >= 0.9)[0][0] + 1\n",
    "            if n_comp < 2:\n",
    "                n_comp = 2\n",
    "            pt_red = pt_PCA.transform(all_pt_traces_sub[pt].reshape(-1, all_pt_traces_sub[pt].shape[-1]))[:, :n_comp]\n",
    "            pt_red = pt_red.reshape(all_pt_traces_sub[pt].shape[0], all_pt_traces_sub[pt].shape[1], -1)\n",
    "            to_align_sub.append(pt_red)\n",
    "        \n",
    "        # align patient-specific latent dynamics\n",
    "        aligned_data_sub = {}\n",
    "\n",
    "        # aligning all patients to a single patient's space, so the align patient's latent dynamics are un-transformed\n",
    "        aligned_data_sub[pt_names[align_pt_ind]] = to_align_sub[align_pt_ind]\n",
    "        for i, pt in enumerate(pt_names):\n",
    "            if i == align_pt_ind:\n",
    "                continue\n",
    "            \n",
    "            # align by phoneme sequence\n",
    "            to_align_seqs = [all_savg_phon_seqs[pt_names[align_pt_ind]], all_savg_phon_seqs[pt]]\n",
    "            aligners_sub[pt].fit(to_align_sub[align_pt_ind], to_align_sub[i], to_align_seqs[0], to_align_seqs[1])\n",
    "            aligned_data_sub[pt] = aligners_sub[pt].transform(to_align_sub[i])\n",
    "\n",
    "        align_corrs_sub = pt_corr_multi(aligned_data_sub[align_pt], [aligned_data_sub[pt] for pt in other_pts], all_savg_artic_labels[align_pt], [all_savg_artic_labels[pt] for pt in other_pts], n_comp=n_comp_corr)\n",
    "        \n",
    "        corr = np.mean(np.array(align_corrs_sub))\n",
    "        curr_savg_df = pd.DataFrame([{'Contact Size': cs, 'Correlation': corr}])\n",
    "        savg_corr_df = pd.concat([savg_corr_df, curr_savg_df], ignore_index=True)\n",
    "\n",
    "    savg_corr_df['Patient'] = paper_pt_dict[align_pt]\n",
    "    savg_corr_df = savg_corr_df[['Patient', 'Contact Size', 'Correlation']]\n",
    "    savg_corr_tot_df = pd.concat([savg_corr_tot_df, savg_corr_df], ignore_index=True)"
   ]
  },
  {
   "cell_type": "code",
   "execution_count": 62,
   "metadata": {},
   "outputs": [
    {
     "data": {
      "application/vnd.microsoft.datawrangler.viewer.v0+json": {
       "columns": [
        {
         "name": "index",
         "rawType": "int64",
         "type": "integer"
        },
        {
         "name": "Patient",
         "rawType": "object",
         "type": "string"
        },
        {
         "name": "Contact Size",
         "rawType": "object",
         "type": "string"
        },
        {
         "name": "Correlation",
         "rawType": "float64",
         "type": "float"
        }
       ],
       "conversionMethod": "pd.DataFrame",
       "ref": "d4aeb757-3d5e-4bfd-839e-c220d144f48f",
       "rows": [
        [
         "0",
         "S1",
         "8x8",
         "0.222314820837645"
        ],
        [
         "1",
         "S1",
         "7x7",
         "0.3033028238660793"
        ],
        [
         "2",
         "S1",
         "6x6",
         "0.24558201496106688"
        ],
        [
         "3",
         "S1",
         "5x5",
         "0.3176787750204779"
        ],
        [
         "4",
         "S1",
         "4x4",
         "0.2735951619255632"
        ],
        [
         "5",
         "S1",
         "3x3",
         "0.30133763740936004"
        ],
        [
         "6",
         "S1",
         "2x2",
         "0.32715858172512974"
        ],
        [
         "7",
         "S1",
         "1x1",
         "0.3983295014826185"
        ],
        [
         "8",
         "S2",
         "8x8",
         "0.2518787016128264"
        ],
        [
         "9",
         "S2",
         "7x7",
         "0.3900291697539521"
        ],
        [
         "10",
         "S2",
         "6x6",
         "0.34279140381752804"
        ],
        [
         "11",
         "S2",
         "5x5",
         "0.4326623960019757"
        ],
        [
         "12",
         "S2",
         "4x4",
         "0.2965390602331837"
        ],
        [
         "13",
         "S2",
         "3x3",
         "0.3148015246583848"
        ],
        [
         "14",
         "S2",
         "2x2",
         "0.4040149803967588"
        ],
        [
         "15",
         "S2",
         "1x1",
         "0.45434154180380926"
        ],
        [
         "16",
         "S5",
         "8x8",
         "0.23745609237744164"
        ],
        [
         "17",
         "S5",
         "7x7",
         "0.3607852203632996"
        ],
        [
         "18",
         "S5",
         "6x6",
         "0.33198292853987654"
        ],
        [
         "19",
         "S5",
         "5x5",
         "0.46745526523647685"
        ],
        [
         "20",
         "S5",
         "4x4",
         "0.32730649344446044"
        ],
        [
         "21",
         "S5",
         "3x3",
         "0.33766130587314036"
        ],
        [
         "22",
         "S5",
         "2x2",
         "0.39080413818899024"
        ],
        [
         "23",
         "S5",
         "1x1",
         "0.46197892209837566"
        ],
        [
         "24",
         "S3",
         "8x8",
         "0.16837850806438132"
        ],
        [
         "25",
         "S3",
         "7x7",
         "0.1822056274919301"
        ],
        [
         "26",
         "S3",
         "6x6",
         "0.18749129214083213"
        ],
        [
         "27",
         "S3",
         "5x5",
         "0.1557809102150935"
        ],
        [
         "28",
         "S3",
         "4x4",
         "0.1850373865058809"
        ],
        [
         "29",
         "S3",
         "3x3",
         "0.26894563475239364"
        ],
        [
         "30",
         "S3",
         "2x2",
         "0.28360747337018793"
        ],
        [
         "31",
         "S3",
         "1x1",
         "0.42280990461941687"
        ],
        [
         "32",
         "S4",
         "8x8",
         "0.15501198751793135"
        ],
        [
         "33",
         "S4",
         "7x7",
         "0.3209144241089591"
        ],
        [
         "34",
         "S4",
         "6x6",
         "0.2740942815870138"
        ],
        [
         "35",
         "S4",
         "5x5",
         "0.3069058556985508"
        ],
        [
         "36",
         "S4",
         "4x4",
         "0.2859075427831166"
        ],
        [
         "37",
         "S4",
         "3x3",
         "0.26860104500205145"
        ],
        [
         "38",
         "S4",
         "2x2",
         "0.33525583434102957"
        ],
        [
         "39",
         "S4",
         "1x1",
         "0.4215225449478968"
        ],
        [
         "40",
         "S6",
         "8x8",
         "0.04407035368763633"
        ],
        [
         "41",
         "S6",
         "7x7",
         "0.19820962525571098"
        ],
        [
         "42",
         "S6",
         "6x6",
         "0.12761031035749945"
        ],
        [
         "43",
         "S6",
         "5x5",
         "0.2594016982870194"
        ],
        [
         "44",
         "S6",
         "4x4",
         "0.19762682273549928"
        ],
        [
         "45",
         "S6",
         "3x3",
         "0.24806403729696586"
        ],
        [
         "46",
         "S6",
         "2x2",
         "0.2602769602913724"
        ],
        [
         "47",
         "S6",
         "1x1",
         "0.3681668811412401"
        ],
        [
         "48",
         "S7",
         "8x8",
         "0.18035223246331164"
        ],
        [
         "49",
         "S7",
         "7x7",
         "0.25743829791360057"
        ]
       ],
       "shape": {
        "columns": 3,
        "rows": 64
       }
      },
      "text/html": [
       "<div>\n",
       "<style scoped>\n",
       "    .dataframe tbody tr th:only-of-type {\n",
       "        vertical-align: middle;\n",
       "    }\n",
       "\n",
       "    .dataframe tbody tr th {\n",
       "        vertical-align: top;\n",
       "    }\n",
       "\n",
       "    .dataframe thead th {\n",
       "        text-align: right;\n",
       "    }\n",
       "</style>\n",
       "<table border=\"1\" class=\"dataframe\">\n",
       "  <thead>\n",
       "    <tr style=\"text-align: right;\">\n",
       "      <th></th>\n",
       "      <th>Patient</th>\n",
       "      <th>Contact Size</th>\n",
       "      <th>Correlation</th>\n",
       "    </tr>\n",
       "  </thead>\n",
       "  <tbody>\n",
       "    <tr>\n",
       "      <th>0</th>\n",
       "      <td>S1</td>\n",
       "      <td>8x8</td>\n",
       "      <td>0.222315</td>\n",
       "    </tr>\n",
       "    <tr>\n",
       "      <th>1</th>\n",
       "      <td>S1</td>\n",
       "      <td>7x7</td>\n",
       "      <td>0.303303</td>\n",
       "    </tr>\n",
       "    <tr>\n",
       "      <th>2</th>\n",
       "      <td>S1</td>\n",
       "      <td>6x6</td>\n",
       "      <td>0.245582</td>\n",
       "    </tr>\n",
       "    <tr>\n",
       "      <th>3</th>\n",
       "      <td>S1</td>\n",
       "      <td>5x5</td>\n",
       "      <td>0.317679</td>\n",
       "    </tr>\n",
       "    <tr>\n",
       "      <th>4</th>\n",
       "      <td>S1</td>\n",
       "      <td>4x4</td>\n",
       "      <td>0.273595</td>\n",
       "    </tr>\n",
       "    <tr>\n",
       "      <th>...</th>\n",
       "      <td>...</td>\n",
       "      <td>...</td>\n",
       "      <td>...</td>\n",
       "    </tr>\n",
       "    <tr>\n",
       "      <th>59</th>\n",
       "      <td>S8</td>\n",
       "      <td>5x5</td>\n",
       "      <td>0.277450</td>\n",
       "    </tr>\n",
       "    <tr>\n",
       "      <th>60</th>\n",
       "      <td>S8</td>\n",
       "      <td>4x4</td>\n",
       "      <td>0.224049</td>\n",
       "    </tr>\n",
       "    <tr>\n",
       "      <th>61</th>\n",
       "      <td>S8</td>\n",
       "      <td>3x3</td>\n",
       "      <td>0.291815</td>\n",
       "    </tr>\n",
       "    <tr>\n",
       "      <th>62</th>\n",
       "      <td>S8</td>\n",
       "      <td>2x2</td>\n",
       "      <td>0.350426</td>\n",
       "    </tr>\n",
       "    <tr>\n",
       "      <th>63</th>\n",
       "      <td>S8</td>\n",
       "      <td>1x1</td>\n",
       "      <td>0.387315</td>\n",
       "    </tr>\n",
       "  </tbody>\n",
       "</table>\n",
       "<p>64 rows × 3 columns</p>\n",
       "</div>"
      ],
      "text/plain": [
       "   Patient Contact Size  Correlation\n",
       "0       S1          8x8     0.222315\n",
       "1       S1          7x7     0.303303\n",
       "2       S1          6x6     0.245582\n",
       "3       S1          5x5     0.317679\n",
       "4       S1          4x4     0.273595\n",
       "..     ...          ...          ...\n",
       "59      S8          5x5     0.277450\n",
       "60      S8          4x4     0.224049\n",
       "61      S8          3x3     0.291815\n",
       "62      S8          2x2     0.350426\n",
       "63      S8          1x1     0.387315\n",
       "\n",
       "[64 rows x 3 columns]"
      ]
     },
     "execution_count": 62,
     "metadata": {},
     "output_type": "execute_result"
    }
   ],
   "source": [
    "savg_corr_tot_df"
   ]
  },
  {
   "cell_type": "code",
   "execution_count": 63,
   "metadata": {},
   "outputs": [
    {
     "data": {
      "application/vnd.microsoft.datawrangler.viewer.v0+json": {
       "columns": [
        {
         "name": "index",
         "rawType": "int64",
         "type": "integer"
        },
        {
         "name": "Patient",
         "rawType": "object",
         "type": "string"
        },
        {
         "name": "Contact Size",
         "rawType": "object",
         "type": "string"
        },
        {
         "name": "Correlation",
         "rawType": "float64",
         "type": "float"
        }
       ],
       "conversionMethod": "pd.DataFrame",
       "ref": "eff06005-ae30-4dfa-af0b-c2cff3fb7232",
       "rows": [
        [
         "0",
         "S1",
         "1x1",
         "0.3983295014826185"
        ],
        [
         "1",
         "S1",
         "2x2",
         "0.32715858172512974"
        ],
        [
         "2",
         "S1",
         "3x3",
         "0.30133763740936004"
        ],
        [
         "3",
         "S1",
         "4x4",
         "0.2735951619255632"
        ],
        [
         "4",
         "S1",
         "5x5",
         "0.3176787750204779"
        ],
        [
         "5",
         "S1",
         "6x6",
         "0.24558201496106688"
        ],
        [
         "6",
         "S1",
         "7x7",
         "0.3033028238660793"
        ],
        [
         "7",
         "S1",
         "8x8",
         "0.222314820837645"
        ],
        [
         "8",
         "S2",
         "1x1",
         "0.45434154180380926"
        ],
        [
         "9",
         "S2",
         "2x2",
         "0.4040149803967588"
        ],
        [
         "10",
         "S2",
         "3x3",
         "0.3148015246583848"
        ],
        [
         "11",
         "S2",
         "4x4",
         "0.2965390602331837"
        ],
        [
         "12",
         "S2",
         "5x5",
         "0.4326623960019757"
        ],
        [
         "13",
         "S2",
         "6x6",
         "0.34279140381752804"
        ],
        [
         "14",
         "S2",
         "7x7",
         "0.3900291697539521"
        ],
        [
         "15",
         "S2",
         "8x8",
         "0.2518787016128264"
        ],
        [
         "16",
         "S3",
         "1x1",
         "0.42280990461941687"
        ],
        [
         "17",
         "S3",
         "2x2",
         "0.28360747337018793"
        ],
        [
         "18",
         "S3",
         "3x3",
         "0.26894563475239364"
        ],
        [
         "19",
         "S3",
         "4x4",
         "0.1850373865058809"
        ],
        [
         "20",
         "S3",
         "5x5",
         "0.1557809102150935"
        ],
        [
         "21",
         "S3",
         "6x6",
         "0.18749129214083213"
        ],
        [
         "22",
         "S3",
         "7x7",
         "0.1822056274919301"
        ],
        [
         "23",
         "S3",
         "8x8",
         "0.16837850806438132"
        ],
        [
         "24",
         "S4",
         "1x1",
         "0.4215225449478968"
        ],
        [
         "25",
         "S4",
         "2x2",
         "0.33525583434102957"
        ],
        [
         "26",
         "S4",
         "3x3",
         "0.26860104500205145"
        ],
        [
         "27",
         "S4",
         "4x4",
         "0.2859075427831166"
        ],
        [
         "28",
         "S4",
         "5x5",
         "0.3069058556985508"
        ],
        [
         "29",
         "S4",
         "6x6",
         "0.2740942815870138"
        ],
        [
         "30",
         "S4",
         "7x7",
         "0.3209144241089591"
        ],
        [
         "31",
         "S4",
         "8x8",
         "0.15501198751793135"
        ],
        [
         "32",
         "S5",
         "1x1",
         "0.46197892209837566"
        ],
        [
         "33",
         "S5",
         "2x2",
         "0.39080413818899024"
        ],
        [
         "34",
         "S5",
         "3x3",
         "0.33766130587314036"
        ],
        [
         "35",
         "S5",
         "4x4",
         "0.32730649344446044"
        ],
        [
         "36",
         "S5",
         "5x5",
         "0.46745526523647685"
        ],
        [
         "37",
         "S5",
         "6x6",
         "0.33198292853987654"
        ],
        [
         "38",
         "S5",
         "7x7",
         "0.3607852203632996"
        ],
        [
         "39",
         "S5",
         "8x8",
         "0.23745609237744164"
        ],
        [
         "40",
         "S6",
         "1x1",
         "0.3681668811412401"
        ],
        [
         "41",
         "S6",
         "2x2",
         "0.2602769602913724"
        ],
        [
         "42",
         "S6",
         "3x3",
         "0.24806403729696586"
        ],
        [
         "43",
         "S6",
         "4x4",
         "0.19762682273549928"
        ],
        [
         "44",
         "S6",
         "5x5",
         "0.2594016982870194"
        ],
        [
         "45",
         "S6",
         "6x6",
         "0.12761031035749945"
        ],
        [
         "46",
         "S6",
         "7x7",
         "0.19820962525571098"
        ],
        [
         "47",
         "S6",
         "8x8",
         "0.04407035368763633"
        ],
        [
         "48",
         "S7",
         "1x1",
         "0.4102904912223492"
        ],
        [
         "49",
         "S7",
         "2x2",
         "0.35887091381738445"
        ]
       ],
       "shape": {
        "columns": 3,
        "rows": 64
       }
      },
      "text/html": [
       "<div>\n",
       "<style scoped>\n",
       "    .dataframe tbody tr th:only-of-type {\n",
       "        vertical-align: middle;\n",
       "    }\n",
       "\n",
       "    .dataframe tbody tr th {\n",
       "        vertical-align: top;\n",
       "    }\n",
       "\n",
       "    .dataframe thead th {\n",
       "        text-align: right;\n",
       "    }\n",
       "</style>\n",
       "<table border=\"1\" class=\"dataframe\">\n",
       "  <thead>\n",
       "    <tr style=\"text-align: right;\">\n",
       "      <th></th>\n",
       "      <th>Patient</th>\n",
       "      <th>Contact Size</th>\n",
       "      <th>Correlation</th>\n",
       "    </tr>\n",
       "  </thead>\n",
       "  <tbody>\n",
       "    <tr>\n",
       "      <th>0</th>\n",
       "      <td>S1</td>\n",
       "      <td>1x1</td>\n",
       "      <td>0.398330</td>\n",
       "    </tr>\n",
       "    <tr>\n",
       "      <th>1</th>\n",
       "      <td>S1</td>\n",
       "      <td>2x2</td>\n",
       "      <td>0.327159</td>\n",
       "    </tr>\n",
       "    <tr>\n",
       "      <th>2</th>\n",
       "      <td>S1</td>\n",
       "      <td>3x3</td>\n",
       "      <td>0.301338</td>\n",
       "    </tr>\n",
       "    <tr>\n",
       "      <th>3</th>\n",
       "      <td>S1</td>\n",
       "      <td>4x4</td>\n",
       "      <td>0.273595</td>\n",
       "    </tr>\n",
       "    <tr>\n",
       "      <th>4</th>\n",
       "      <td>S1</td>\n",
       "      <td>5x5</td>\n",
       "      <td>0.317679</td>\n",
       "    </tr>\n",
       "    <tr>\n",
       "      <th>...</th>\n",
       "      <td>...</td>\n",
       "      <td>...</td>\n",
       "      <td>...</td>\n",
       "    </tr>\n",
       "    <tr>\n",
       "      <th>59</th>\n",
       "      <td>S8</td>\n",
       "      <td>4x4</td>\n",
       "      <td>0.224049</td>\n",
       "    </tr>\n",
       "    <tr>\n",
       "      <th>60</th>\n",
       "      <td>S8</td>\n",
       "      <td>5x5</td>\n",
       "      <td>0.277450</td>\n",
       "    </tr>\n",
       "    <tr>\n",
       "      <th>61</th>\n",
       "      <td>S8</td>\n",
       "      <td>6x6</td>\n",
       "      <td>0.224653</td>\n",
       "    </tr>\n",
       "    <tr>\n",
       "      <th>62</th>\n",
       "      <td>S8</td>\n",
       "      <td>7x7</td>\n",
       "      <td>0.282039</td>\n",
       "    </tr>\n",
       "    <tr>\n",
       "      <th>63</th>\n",
       "      <td>S8</td>\n",
       "      <td>8x8</td>\n",
       "      <td>0.359165</td>\n",
       "    </tr>\n",
       "  </tbody>\n",
       "</table>\n",
       "<p>64 rows × 3 columns</p>\n",
       "</div>"
      ],
      "text/plain": [
       "   Patient Contact Size  Correlation\n",
       "0       S1          1x1     0.398330\n",
       "1       S1          2x2     0.327159\n",
       "2       S1          3x3     0.301338\n",
       "3       S1          4x4     0.273595\n",
       "4       S1          5x5     0.317679\n",
       "..     ...          ...          ...\n",
       "59      S8          4x4     0.224049\n",
       "60      S8          5x5     0.277450\n",
       "61      S8          6x6     0.224653\n",
       "62      S8          7x7     0.282039\n",
       "63      S8          8x8     0.359165\n",
       "\n",
       "[64 rows x 3 columns]"
      ]
     },
     "execution_count": 63,
     "metadata": {},
     "output_type": "execute_result"
    }
   ],
   "source": [
    "mean_savg_corr_df = savg_corr_tot_df.groupby(['Patient', 'Contact Size']).mean().reset_index()\n",
    "mean_savg_corr_df"
   ]
  },
  {
   "cell_type": "code",
   "execution_count": null,
   "metadata": {},
   "outputs": [
    {
     "data": {
      "application/vnd.plotly.v1+json": {
       "config": {
        "plotlyServerURL": "https://plotly.com"
       },
       "data": [
        {
         "hovertemplate": "Patient=S1<br>Contact Size=%{x}<br>Correlation=%{y}<extra></extra>",
         "legendgroup": "S1",
         "line": {
          "color": "#636efa",
          "dash": "solid"
         },
         "marker": {
          "symbol": "circle"
         },
         "mode": "lines",
         "name": "S1",
         "orientation": "v",
         "showlegend": true,
         "type": "scatter",
         "x": [
          "1x1",
          "2x2",
          "3x3",
          "4x4",
          "5x5",
          "6x6",
          "7x7",
          "8x8"
         ],
         "xaxis": "x",
         "y": [
          0.3983295014826185,
          0.32715858172512974,
          0.30133763740936004,
          0.2735951619255632,
          0.3176787750204779,
          0.24558201496106688,
          0.3033028238660793,
          0.222314820837645
         ],
         "yaxis": "y"
        },
        {
         "hovertemplate": "Patient=S2<br>Contact Size=%{x}<br>Correlation=%{y}<extra></extra>",
         "legendgroup": "S2",
         "line": {
          "color": "#EF553B",
          "dash": "solid"
         },
         "marker": {
          "symbol": "circle"
         },
         "mode": "lines",
         "name": "S2",
         "orientation": "v",
         "showlegend": true,
         "type": "scatter",
         "x": [
          "1x1",
          "2x2",
          "3x3",
          "4x4",
          "5x5",
          "6x6",
          "7x7",
          "8x8"
         ],
         "xaxis": "x",
         "y": [
          0.45434154180380926,
          0.4040149803967588,
          0.3148015246583848,
          0.2965390602331837,
          0.4326623960019757,
          0.34279140381752804,
          0.3900291697539521,
          0.2518787016128264
         ],
         "yaxis": "y"
        },
        {
         "hovertemplate": "Patient=S3<br>Contact Size=%{x}<br>Correlation=%{y}<extra></extra>",
         "legendgroup": "S3",
         "line": {
          "color": "#00cc96",
          "dash": "solid"
         },
         "marker": {
          "symbol": "circle"
         },
         "mode": "lines",
         "name": "S3",
         "orientation": "v",
         "showlegend": true,
         "type": "scatter",
         "x": [
          "1x1",
          "2x2",
          "3x3",
          "4x4",
          "5x5",
          "6x6",
          "7x7",
          "8x8"
         ],
         "xaxis": "x",
         "y": [
          0.42280990461941687,
          0.28360747337018793,
          0.26894563475239364,
          0.1850373865058809,
          0.1557809102150935,
          0.18749129214083213,
          0.1822056274919301,
          0.16837850806438132
         ],
         "yaxis": "y"
        },
        {
         "hovertemplate": "Patient=S4<br>Contact Size=%{x}<br>Correlation=%{y}<extra></extra>",
         "legendgroup": "S4",
         "line": {
          "color": "#ab63fa",
          "dash": "solid"
         },
         "marker": {
          "symbol": "circle"
         },
         "mode": "lines",
         "name": "S4",
         "orientation": "v",
         "showlegend": true,
         "type": "scatter",
         "x": [
          "1x1",
          "2x2",
          "3x3",
          "4x4",
          "5x5",
          "6x6",
          "7x7",
          "8x8"
         ],
         "xaxis": "x",
         "y": [
          0.4215225449478968,
          0.33525583434102957,
          0.26860104500205145,
          0.2859075427831166,
          0.3069058556985508,
          0.2740942815870138,
          0.3209144241089591,
          0.15501198751793135
         ],
         "yaxis": "y"
        },
        {
         "hovertemplate": "Patient=S5<br>Contact Size=%{x}<br>Correlation=%{y}<extra></extra>",
         "legendgroup": "S5",
         "line": {
          "color": "#FFA15A",
          "dash": "solid"
         },
         "marker": {
          "symbol": "circle"
         },
         "mode": "lines",
         "name": "S5",
         "orientation": "v",
         "showlegend": true,
         "type": "scatter",
         "x": [
          "1x1",
          "2x2",
          "3x3",
          "4x4",
          "5x5",
          "6x6",
          "7x7",
          "8x8"
         ],
         "xaxis": "x",
         "y": [
          0.46197892209837566,
          0.39080413818899024,
          0.33766130587314036,
          0.32730649344446044,
          0.46745526523647685,
          0.33198292853987654,
          0.3607852203632996,
          0.23745609237744164
         ],
         "yaxis": "y"
        },
        {
         "hovertemplate": "Patient=S6<br>Contact Size=%{x}<br>Correlation=%{y}<extra></extra>",
         "legendgroup": "S6",
         "line": {
          "color": "#19d3f3",
          "dash": "solid"
         },
         "marker": {
          "symbol": "circle"
         },
         "mode": "lines",
         "name": "S6",
         "orientation": "v",
         "showlegend": true,
         "type": "scatter",
         "x": [
          "1x1",
          "2x2",
          "3x3",
          "4x4",
          "5x5",
          "6x6",
          "7x7",
          "8x8"
         ],
         "xaxis": "x",
         "y": [
          0.3681668811412401,
          0.2602769602913724,
          0.24806403729696586,
          0.19762682273549928,
          0.2594016982870194,
          0.12761031035749945,
          0.19820962525571098,
          0.04407035368763633
         ],
         "yaxis": "y"
        },
        {
         "hovertemplate": "Patient=S7<br>Contact Size=%{x}<br>Correlation=%{y}<extra></extra>",
         "legendgroup": "S7",
         "line": {
          "color": "#FF6692",
          "dash": "solid"
         },
         "marker": {
          "symbol": "circle"
         },
         "mode": "lines",
         "name": "S7",
         "orientation": "v",
         "showlegend": true,
         "type": "scatter",
         "x": [
          "1x1",
          "2x2",
          "3x3",
          "4x4",
          "5x5",
          "6x6",
          "7x7",
          "8x8"
         ],
         "xaxis": "x",
         "y": [
          0.4102904912223492,
          0.35887091381738445,
          0.34585707840586605,
          0.23035580680456993,
          0.20941597585055965,
          0.2556560417365492,
          0.25743829791360057,
          0.18035223246331164
         ],
         "yaxis": "y"
        },
        {
         "hovertemplate": "Patient=S8<br>Contact Size=%{x}<br>Correlation=%{y}<extra></extra>",
         "legendgroup": "S8",
         "line": {
          "color": "#B6E880",
          "dash": "solid"
         },
         "marker": {
          "symbol": "circle"
         },
         "mode": "lines",
         "name": "S8",
         "orientation": "v",
         "showlegend": true,
         "type": "scatter",
         "x": [
          "1x1",
          "2x2",
          "3x3",
          "4x4",
          "5x5",
          "6x6",
          "7x7",
          "8x8"
         ],
         "xaxis": "x",
         "y": [
          0.3873154490426784,
          0.3504257831255348,
          0.2918149870454605,
          0.2240485166970534,
          0.2774501006451725,
          0.22465308851755852,
          0.2820392173337362,
          0.3591648560333064
         ],
         "yaxis": "y"
        },
        {
         "alignmentgroup": "True",
         "hovertemplate": "Contact Size=%{x}<br>Correlation=%{y}<extra></extra>",
         "legendgroup": "",
         "marker": {
          "color": "#636efa"
         },
         "name": "",
         "notched": false,
         "offsetgroup": "",
         "orientation": "v",
         "showlegend": false,
         "type": "box",
         "x": [
          "1x1",
          "2x2",
          "3x3",
          "4x4",
          "5x5",
          "6x6",
          "7x7",
          "8x8",
          "1x1",
          "2x2",
          "3x3",
          "4x4",
          "5x5",
          "6x6",
          "7x7",
          "8x8",
          "1x1",
          "2x2",
          "3x3",
          "4x4",
          "5x5",
          "6x6",
          "7x7",
          "8x8",
          "1x1",
          "2x2",
          "3x3",
          "4x4",
          "5x5",
          "6x6",
          "7x7",
          "8x8",
          "1x1",
          "2x2",
          "3x3",
          "4x4",
          "5x5",
          "6x6",
          "7x7",
          "8x8",
          "1x1",
          "2x2",
          "3x3",
          "4x4",
          "5x5",
          "6x6",
          "7x7",
          "8x8",
          "1x1",
          "2x2",
          "3x3",
          "4x4",
          "5x5",
          "6x6",
          "7x7",
          "8x8",
          "1x1",
          "2x2",
          "3x3",
          "4x4",
          "5x5",
          "6x6",
          "7x7",
          "8x8"
         ],
         "x0": " ",
         "xaxis": "x",
         "y": [
          0.3983295014826185,
          0.32715858172512974,
          0.30133763740936004,
          0.2735951619255632,
          0.3176787750204779,
          0.24558201496106688,
          0.3033028238660793,
          0.222314820837645,
          0.45434154180380926,
          0.4040149803967588,
          0.3148015246583848,
          0.2965390602331837,
          0.4326623960019757,
          0.34279140381752804,
          0.3900291697539521,
          0.2518787016128264,
          0.42280990461941687,
          0.28360747337018793,
          0.26894563475239364,
          0.1850373865058809,
          0.1557809102150935,
          0.18749129214083213,
          0.1822056274919301,
          0.16837850806438132,
          0.4215225449478968,
          0.33525583434102957,
          0.26860104500205145,
          0.2859075427831166,
          0.3069058556985508,
          0.2740942815870138,
          0.3209144241089591,
          0.15501198751793135,
          0.46197892209837566,
          0.39080413818899024,
          0.33766130587314036,
          0.32730649344446044,
          0.46745526523647685,
          0.33198292853987654,
          0.3607852203632996,
          0.23745609237744164,
          0.3681668811412401,
          0.2602769602913724,
          0.24806403729696586,
          0.19762682273549928,
          0.2594016982870194,
          0.12761031035749945,
          0.19820962525571098,
          0.04407035368763633,
          0.4102904912223492,
          0.35887091381738445,
          0.34585707840586605,
          0.23035580680456993,
          0.20941597585055965,
          0.2556560417365492,
          0.25743829791360057,
          0.18035223246331164,
          0.3873154490426784,
          0.3504257831255348,
          0.2918149870454605,
          0.2240485166970534,
          0.2774501006451725,
          0.22465308851755852,
          0.2820392173337362,
          0.3591648560333064
         ],
         "y0": " ",
         "yaxis": "y"
        }
       ],
       "layout": {
        "font": {
         "family": "Arial",
         "size": 18
        },
        "height": 500,
        "legend": {
         "orientation": "h",
         "title": {
          "text": ""
         },
         "tracegroupgap": 0,
         "x": 0.02,
         "xanchor": "left",
         "y": 0.15,
         "yanchor": "top"
        },
        "margin": {
         "t": 60
        },
        "plot_bgcolor": "white",
        "template": {
         "data": {
          "bar": [
           {
            "error_x": {
             "color": "#2a3f5f"
            },
            "error_y": {
             "color": "#2a3f5f"
            },
            "marker": {
             "line": {
              "color": "#E5ECF6",
              "width": 0.5
             },
             "pattern": {
              "fillmode": "overlay",
              "size": 10,
              "solidity": 0.2
             }
            },
            "type": "bar"
           }
          ],
          "barpolar": [
           {
            "marker": {
             "line": {
              "color": "#E5ECF6",
              "width": 0.5
             },
             "pattern": {
              "fillmode": "overlay",
              "size": 10,
              "solidity": 0.2
             }
            },
            "type": "barpolar"
           }
          ],
          "carpet": [
           {
            "aaxis": {
             "endlinecolor": "#2a3f5f",
             "gridcolor": "white",
             "linecolor": "white",
             "minorgridcolor": "white",
             "startlinecolor": "#2a3f5f"
            },
            "baxis": {
             "endlinecolor": "#2a3f5f",
             "gridcolor": "white",
             "linecolor": "white",
             "minorgridcolor": "white",
             "startlinecolor": "#2a3f5f"
            },
            "type": "carpet"
           }
          ],
          "choropleth": [
           {
            "colorbar": {
             "outlinewidth": 0,
             "ticks": ""
            },
            "type": "choropleth"
           }
          ],
          "contour": [
           {
            "colorbar": {
             "outlinewidth": 0,
             "ticks": ""
            },
            "colorscale": [
             [
              0,
              "#0d0887"
             ],
             [
              0.1111111111111111,
              "#46039f"
             ],
             [
              0.2222222222222222,
              "#7201a8"
             ],
             [
              0.3333333333333333,
              "#9c179e"
             ],
             [
              0.4444444444444444,
              "#bd3786"
             ],
             [
              0.5555555555555556,
              "#d8576b"
             ],
             [
              0.6666666666666666,
              "#ed7953"
             ],
             [
              0.7777777777777778,
              "#fb9f3a"
             ],
             [
              0.8888888888888888,
              "#fdca26"
             ],
             [
              1,
              "#f0f921"
             ]
            ],
            "type": "contour"
           }
          ],
          "contourcarpet": [
           {
            "colorbar": {
             "outlinewidth": 0,
             "ticks": ""
            },
            "type": "contourcarpet"
           }
          ],
          "heatmap": [
           {
            "colorbar": {
             "outlinewidth": 0,
             "ticks": ""
            },
            "colorscale": [
             [
              0,
              "#0d0887"
             ],
             [
              0.1111111111111111,
              "#46039f"
             ],
             [
              0.2222222222222222,
              "#7201a8"
             ],
             [
              0.3333333333333333,
              "#9c179e"
             ],
             [
              0.4444444444444444,
              "#bd3786"
             ],
             [
              0.5555555555555556,
              "#d8576b"
             ],
             [
              0.6666666666666666,
              "#ed7953"
             ],
             [
              0.7777777777777778,
              "#fb9f3a"
             ],
             [
              0.8888888888888888,
              "#fdca26"
             ],
             [
              1,
              "#f0f921"
             ]
            ],
            "type": "heatmap"
           }
          ],
          "heatmapgl": [
           {
            "colorbar": {
             "outlinewidth": 0,
             "ticks": ""
            },
            "colorscale": [
             [
              0,
              "#0d0887"
             ],
             [
              0.1111111111111111,
              "#46039f"
             ],
             [
              0.2222222222222222,
              "#7201a8"
             ],
             [
              0.3333333333333333,
              "#9c179e"
             ],
             [
              0.4444444444444444,
              "#bd3786"
             ],
             [
              0.5555555555555556,
              "#d8576b"
             ],
             [
              0.6666666666666666,
              "#ed7953"
             ],
             [
              0.7777777777777778,
              "#fb9f3a"
             ],
             [
              0.8888888888888888,
              "#fdca26"
             ],
             [
              1,
              "#f0f921"
             ]
            ],
            "type": "heatmapgl"
           }
          ],
          "histogram": [
           {
            "marker": {
             "pattern": {
              "fillmode": "overlay",
              "size": 10,
              "solidity": 0.2
             }
            },
            "type": "histogram"
           }
          ],
          "histogram2d": [
           {
            "colorbar": {
             "outlinewidth": 0,
             "ticks": ""
            },
            "colorscale": [
             [
              0,
              "#0d0887"
             ],
             [
              0.1111111111111111,
              "#46039f"
             ],
             [
              0.2222222222222222,
              "#7201a8"
             ],
             [
              0.3333333333333333,
              "#9c179e"
             ],
             [
              0.4444444444444444,
              "#bd3786"
             ],
             [
              0.5555555555555556,
              "#d8576b"
             ],
             [
              0.6666666666666666,
              "#ed7953"
             ],
             [
              0.7777777777777778,
              "#fb9f3a"
             ],
             [
              0.8888888888888888,
              "#fdca26"
             ],
             [
              1,
              "#f0f921"
             ]
            ],
            "type": "histogram2d"
           }
          ],
          "histogram2dcontour": [
           {
            "colorbar": {
             "outlinewidth": 0,
             "ticks": ""
            },
            "colorscale": [
             [
              0,
              "#0d0887"
             ],
             [
              0.1111111111111111,
              "#46039f"
             ],
             [
              0.2222222222222222,
              "#7201a8"
             ],
             [
              0.3333333333333333,
              "#9c179e"
             ],
             [
              0.4444444444444444,
              "#bd3786"
             ],
             [
              0.5555555555555556,
              "#d8576b"
             ],
             [
              0.6666666666666666,
              "#ed7953"
             ],
             [
              0.7777777777777778,
              "#fb9f3a"
             ],
             [
              0.8888888888888888,
              "#fdca26"
             ],
             [
              1,
              "#f0f921"
             ]
            ],
            "type": "histogram2dcontour"
           }
          ],
          "mesh3d": [
           {
            "colorbar": {
             "outlinewidth": 0,
             "ticks": ""
            },
            "type": "mesh3d"
           }
          ],
          "parcoords": [
           {
            "line": {
             "colorbar": {
              "outlinewidth": 0,
              "ticks": ""
             }
            },
            "type": "parcoords"
           }
          ],
          "pie": [
           {
            "automargin": true,
            "type": "pie"
           }
          ],
          "scatter": [
           {
            "fillpattern": {
             "fillmode": "overlay",
             "size": 10,
             "solidity": 0.2
            },
            "type": "scatter"
           }
          ],
          "scatter3d": [
           {
            "line": {
             "colorbar": {
              "outlinewidth": 0,
              "ticks": ""
             }
            },
            "marker": {
             "colorbar": {
              "outlinewidth": 0,
              "ticks": ""
             }
            },
            "type": "scatter3d"
           }
          ],
          "scattercarpet": [
           {
            "marker": {
             "colorbar": {
              "outlinewidth": 0,
              "ticks": ""
             }
            },
            "type": "scattercarpet"
           }
          ],
          "scattergeo": [
           {
            "marker": {
             "colorbar": {
              "outlinewidth": 0,
              "ticks": ""
             }
            },
            "type": "scattergeo"
           }
          ],
          "scattergl": [
           {
            "marker": {
             "colorbar": {
              "outlinewidth": 0,
              "ticks": ""
             }
            },
            "type": "scattergl"
           }
          ],
          "scattermapbox": [
           {
            "marker": {
             "colorbar": {
              "outlinewidth": 0,
              "ticks": ""
             }
            },
            "type": "scattermapbox"
           }
          ],
          "scatterpolar": [
           {
            "marker": {
             "colorbar": {
              "outlinewidth": 0,
              "ticks": ""
             }
            },
            "type": "scatterpolar"
           }
          ],
          "scatterpolargl": [
           {
            "marker": {
             "colorbar": {
              "outlinewidth": 0,
              "ticks": ""
             }
            },
            "type": "scatterpolargl"
           }
          ],
          "scatterternary": [
           {
            "marker": {
             "colorbar": {
              "outlinewidth": 0,
              "ticks": ""
             }
            },
            "type": "scatterternary"
           }
          ],
          "surface": [
           {
            "colorbar": {
             "outlinewidth": 0,
             "ticks": ""
            },
            "colorscale": [
             [
              0,
              "#0d0887"
             ],
             [
              0.1111111111111111,
              "#46039f"
             ],
             [
              0.2222222222222222,
              "#7201a8"
             ],
             [
              0.3333333333333333,
              "#9c179e"
             ],
             [
              0.4444444444444444,
              "#bd3786"
             ],
             [
              0.5555555555555556,
              "#d8576b"
             ],
             [
              0.6666666666666666,
              "#ed7953"
             ],
             [
              0.7777777777777778,
              "#fb9f3a"
             ],
             [
              0.8888888888888888,
              "#fdca26"
             ],
             [
              1,
              "#f0f921"
             ]
            ],
            "type": "surface"
           }
          ],
          "table": [
           {
            "cells": {
             "fill": {
              "color": "#EBF0F8"
             },
             "line": {
              "color": "white"
             }
            },
            "header": {
             "fill": {
              "color": "#C8D4E3"
             },
             "line": {
              "color": "white"
             }
            },
            "type": "table"
           }
          ]
         },
         "layout": {
          "annotationdefaults": {
           "arrowcolor": "#2a3f5f",
           "arrowhead": 0,
           "arrowwidth": 1
          },
          "autotypenumbers": "strict",
          "coloraxis": {
           "colorbar": {
            "outlinewidth": 0,
            "ticks": ""
           }
          },
          "colorscale": {
           "diverging": [
            [
             0,
             "#8e0152"
            ],
            [
             0.1,
             "#c51b7d"
            ],
            [
             0.2,
             "#de77ae"
            ],
            [
             0.3,
             "#f1b6da"
            ],
            [
             0.4,
             "#fde0ef"
            ],
            [
             0.5,
             "#f7f7f7"
            ],
            [
             0.6,
             "#e6f5d0"
            ],
            [
             0.7,
             "#b8e186"
            ],
            [
             0.8,
             "#7fbc41"
            ],
            [
             0.9,
             "#4d9221"
            ],
            [
             1,
             "#276419"
            ]
           ],
           "sequential": [
            [
             0,
             "#0d0887"
            ],
            [
             0.1111111111111111,
             "#46039f"
            ],
            [
             0.2222222222222222,
             "#7201a8"
            ],
            [
             0.3333333333333333,
             "#9c179e"
            ],
            [
             0.4444444444444444,
             "#bd3786"
            ],
            [
             0.5555555555555556,
             "#d8576b"
            ],
            [
             0.6666666666666666,
             "#ed7953"
            ],
            [
             0.7777777777777778,
             "#fb9f3a"
            ],
            [
             0.8888888888888888,
             "#fdca26"
            ],
            [
             1,
             "#f0f921"
            ]
           ],
           "sequentialminus": [
            [
             0,
             "#0d0887"
            ],
            [
             0.1111111111111111,
             "#46039f"
            ],
            [
             0.2222222222222222,
             "#7201a8"
            ],
            [
             0.3333333333333333,
             "#9c179e"
            ],
            [
             0.4444444444444444,
             "#bd3786"
            ],
            [
             0.5555555555555556,
             "#d8576b"
            ],
            [
             0.6666666666666666,
             "#ed7953"
            ],
            [
             0.7777777777777778,
             "#fb9f3a"
            ],
            [
             0.8888888888888888,
             "#fdca26"
            ],
            [
             1,
             "#f0f921"
            ]
           ]
          },
          "colorway": [
           "#636efa",
           "#EF553B",
           "#00cc96",
           "#ab63fa",
           "#FFA15A",
           "#19d3f3",
           "#FF6692",
           "#B6E880",
           "#FF97FF",
           "#FECB52"
          ],
          "font": {
           "color": "#2a3f5f"
          },
          "geo": {
           "bgcolor": "white",
           "lakecolor": "white",
           "landcolor": "#E5ECF6",
           "showlakes": true,
           "showland": true,
           "subunitcolor": "white"
          },
          "hoverlabel": {
           "align": "left"
          },
          "hovermode": "closest",
          "mapbox": {
           "style": "light"
          },
          "paper_bgcolor": "white",
          "plot_bgcolor": "#E5ECF6",
          "polar": {
           "angularaxis": {
            "gridcolor": "white",
            "linecolor": "white",
            "ticks": ""
           },
           "bgcolor": "#E5ECF6",
           "radialaxis": {
            "gridcolor": "white",
            "linecolor": "white",
            "ticks": ""
           }
          },
          "scene": {
           "xaxis": {
            "backgroundcolor": "#E5ECF6",
            "gridcolor": "white",
            "gridwidth": 2,
            "linecolor": "white",
            "showbackground": true,
            "ticks": "",
            "zerolinecolor": "white"
           },
           "yaxis": {
            "backgroundcolor": "#E5ECF6",
            "gridcolor": "white",
            "gridwidth": 2,
            "linecolor": "white",
            "showbackground": true,
            "ticks": "",
            "zerolinecolor": "white"
           },
           "zaxis": {
            "backgroundcolor": "#E5ECF6",
            "gridcolor": "white",
            "gridwidth": 2,
            "linecolor": "white",
            "showbackground": true,
            "ticks": "",
            "zerolinecolor": "white"
           }
          },
          "shapedefaults": {
           "line": {
            "color": "#2a3f5f"
           }
          },
          "ternary": {
           "aaxis": {
            "gridcolor": "white",
            "linecolor": "white",
            "ticks": ""
           },
           "baxis": {
            "gridcolor": "white",
            "linecolor": "white",
            "ticks": ""
           },
           "bgcolor": "#E5ECF6",
           "caxis": {
            "gridcolor": "white",
            "linecolor": "white",
            "ticks": ""
           }
          },
          "title": {
           "x": 0.05
          },
          "xaxis": {
           "automargin": true,
           "gridcolor": "white",
           "linecolor": "white",
           "ticks": "",
           "title": {
            "standoff": 15
           },
           "zerolinecolor": "white",
           "zerolinewidth": 2
          },
          "yaxis": {
           "automargin": true,
           "gridcolor": "white",
           "linecolor": "white",
           "ticks": "",
           "title": {
            "standoff": 15
           },
           "zerolinecolor": "white",
           "zerolinewidth": 2
          }
         }
        },
        "title": {
         "text": "Spatially-averaged cross-patient correlation",
         "x": 0.5
        },
        "width": 800,
        "xaxis": {
         "anchor": "y",
         "autorange": "reversed",
         "domain": [
          0,
          1
         ],
         "linecolor": "black",
         "mirror": false,
         "showgrid": false,
         "showline": true,
         "ticks": "outside",
         "title": {
          "text": "Contact Size"
         }
        },
        "yaxis": {
         "anchor": "x",
         "domain": [
          0,
          1
         ],
         "linecolor": "black",
         "mirror": false,
         "range": [
          -0.025,
          0.75
         ],
         "showgrid": false,
         "showline": true,
         "ticks": "outside",
         "title": {
          "text": "Pearson <i>r</i>"
         }
        }
       }
      }
     },
     "metadata": {},
     "output_type": "display_data"
    }
   ],
   "source": [
    "fig = px.line(mean_savg_corr_df, x='Contact Size', y=\"Correlation\", color='Patient', width=800, height=500)\n",
    "# fig = px.line(mean_savg_corr_df[mean_savg_corr_df['Patient'] != 'S7'], x='Contact Size', y=\"Correlation\", color='Patient', width=800, height=500)\n",
    "fig.add_traces(px.box(mean_savg_corr_df, x='Contact Size', y=\"Correlation\").data)\n",
    "fig.update_layout(\n",
    "    plot_bgcolor='white',\n",
    "    legend=dict(\n",
    "        orientation='h',\n",
    "        yanchor='top',\n",
    "        y=0.15,\n",
    "        xanchor='left',\n",
    "        x=0.02,\n",
    "        title_text=''\n",
    "    ),\n",
    "    title_text=f'Spatially-averaged cross-patient correlation',\n",
    "    title_x=0.5,\n",
    "    font=dict(size=18, family='Arial')\n",
    ")\n",
    "fig.update_xaxes(\n",
    "    title='Contact Size',\n",
    "    mirror=False,\n",
    "    ticks='outside',\n",
    "    showline=True,\n",
    "    linecolor='black',\n",
    "    showgrid=False,\n",
    "    autorange='reversed',\n",
    ")\n",
    "fig.update_yaxes(\n",
    "    title='Pearson <i>r</i>',\n",
    "    mirror=False,\n",
    "    ticks='outside',\n",
    "    showline=True,\n",
    "    linecolor='black',\n",
    "    showgrid=False,\n",
    "    range=[-0.025, 0.75]\n",
    ")\n",
    "\n",
    "fig.show()"
   ]
  },
  {
   "cell_type": "markdown",
   "metadata": {},
   "source": [
    "#### Cross-patient decoding"
   ]
  },
  {
   "cell_type": "code",
   "execution_count": 66,
   "metadata": {},
   "outputs": [],
   "source": [
    "pt_list = ['S14', 'S22', 'S23', 'S26', 'S33', 'S39', 'S58', 'S62']\n",
    "\n",
    "pInd_list = [-1]\n",
    "\n",
    "savg_list = [8, 7, 6, 5, 4, 3, 2, 1]\n",
    "\n",
    "wide_dfs = []\n",
    "long_dfs = []\n",
    "for pt in pt_list:\n",
    "    for p_ind in pInd_list:\n",
    "        p_str = 'pAll' if p_ind == -1 else f'p{p_ind}'\n",
    "        for cont_size in savg_list:\n",
    "        \n",
    "            p_tar = np.zeros((2, 50))\n",
    "            p_tar[0,:] = cmat_wrap(*[utils.load_pkl(DECODE_PATH + f'ptSpecific/{pt}/spatialAvg_subsampling/{pt}_{p_str}_spatialAvg{cont_size}_ptSpecific_rbf_noCV_20fold.pkl')[k] for k in ['y_true', 'y_pred']])\n",
    "            p_tar[1,:] = cmat_wrap(*[utils.load_pkl(DECODE_PATH + f'pooled/S62_added/{pt}/spatialAvg_subsampling/cca/{pt}_{p_str}_spatialAvg{cont_size}_pooled_ccaAligned_rbf_noCV_20fold.pkl')[k] for k in ['y_true', 'y_pred']])\n",
    "            decode_df = pd.DataFrame(p_tar.T, columns=['Patient-specific', 'Aligned cross-patient'])\n",
    "\n",
    "            wide_dfs.append(decode_df)\n",
    "            decode_df = pd.melt(decode_df, var_name='Decoding Context', value_name='Decoding Accuracy')\n",
    "            decode_df['Patient'] = paper_pt_dict[pt]\n",
    "            decode_df['Phoneme Index'] = p_str\n",
    "            decode_df['Contact Length'] = cont_size\n",
    "            decode_df['Contact Size'] = f'{cont_size}x{cont_size}'\n",
    "            cols = decode_df.columns.tolist()\n",
    "            cols = cols[-2:] + cols[:-2]\n",
    "            decode_df = decode_df[cols]\n",
    "            long_dfs.append(decode_df)\n",
    "savg_decode_df_wide = pd.concat(wide_dfs)\n",
    "savg_decode_df_long = pd.concat(long_dfs)\n",
    "savg_decode_df_long = savg_decode_df_long.sort_values(by=['Contact Length', 'Decoding Context'], ascending=[False, True])"
   ]
  },
  {
   "cell_type": "code",
   "execution_count": 67,
   "metadata": {},
   "outputs": [
    {
     "data": {
      "application/vnd.microsoft.datawrangler.viewer.v0+json": {
       "columns": [
        {
         "name": "index",
         "rawType": "int64",
         "type": "integer"
        },
        {
         "name": "Contact Length",
         "rawType": "int64",
         "type": "integer"
        },
        {
         "name": "Contact Size",
         "rawType": "object",
         "type": "string"
        },
        {
         "name": "Decoding Context",
         "rawType": "object",
         "type": "string"
        },
        {
         "name": "Decoding Accuracy",
         "rawType": "float64",
         "type": "float"
        },
        {
         "name": "Patient",
         "rawType": "object",
         "type": "string"
        },
        {
         "name": "Phoneme Index",
         "rawType": "object",
         "type": "string"
        }
       ],
       "conversionMethod": "pd.DataFrame",
       "ref": "60a15ce5-d7d5-4e3c-8f0c-679a2cc7f4b8",
       "rows": [
        [
         "50",
         "8",
         "8x8",
         "Aligned cross-patient",
         "0.13646532438478748",
         "S1",
         "pAll"
        ],
        [
         "51",
         "8",
         "8x8",
         "Aligned cross-patient",
         "0.1319910514541387",
         "S1",
         "pAll"
        ],
        [
         "52",
         "8",
         "8x8",
         "Aligned cross-patient",
         "0.1342281879194631",
         "S1",
         "pAll"
        ],
        [
         "53",
         "8",
         "8x8",
         "Aligned cross-patient",
         "0.1319910514541387",
         "S1",
         "pAll"
        ],
        [
         "54",
         "8",
         "8x8",
         "Aligned cross-patient",
         "0.12304250559284116",
         "S1",
         "pAll"
        ],
        [
         "55",
         "8",
         "8x8",
         "Aligned cross-patient",
         "0.13646532438478748",
         "S1",
         "pAll"
        ],
        [
         "56",
         "8",
         "8x8",
         "Aligned cross-patient",
         "0.1342281879194631",
         "S1",
         "pAll"
        ],
        [
         "57",
         "8",
         "8x8",
         "Aligned cross-patient",
         "0.1185682326621924",
         "S1",
         "pAll"
        ],
        [
         "58",
         "8",
         "8x8",
         "Aligned cross-patient",
         "0.13646532438478748",
         "S1",
         "pAll"
        ],
        [
         "59",
         "8",
         "8x8",
         "Aligned cross-patient",
         "0.12080536912751678",
         "S1",
         "pAll"
        ],
        [
         "60",
         "8",
         "8x8",
         "Aligned cross-patient",
         "0.14988814317673377",
         "S1",
         "pAll"
        ],
        [
         "61",
         "8",
         "8x8",
         "Aligned cross-patient",
         "0.12080536912751678",
         "S1",
         "pAll"
        ],
        [
         "62",
         "8",
         "8x8",
         "Aligned cross-patient",
         "0.12304250559284116",
         "S1",
         "pAll"
        ],
        [
         "63",
         "8",
         "8x8",
         "Aligned cross-patient",
         "0.12527964205816555",
         "S1",
         "pAll"
        ],
        [
         "64",
         "8",
         "8x8",
         "Aligned cross-patient",
         "0.1297539149888143",
         "S1",
         "pAll"
        ],
        [
         "65",
         "8",
         "8x8",
         "Aligned cross-patient",
         "0.1342281879194631",
         "S1",
         "pAll"
        ],
        [
         "66",
         "8",
         "8x8",
         "Aligned cross-patient",
         "0.1319910514541387",
         "S1",
         "pAll"
        ],
        [
         "67",
         "8",
         "8x8",
         "Aligned cross-patient",
         "0.1297539149888143",
         "S1",
         "pAll"
        ],
        [
         "68",
         "8",
         "8x8",
         "Aligned cross-patient",
         "0.12527964205816555",
         "S1",
         "pAll"
        ],
        [
         "69",
         "8",
         "8x8",
         "Aligned cross-patient",
         "0.1297539149888143",
         "S1",
         "pAll"
        ],
        [
         "70",
         "8",
         "8x8",
         "Aligned cross-patient",
         "0.1185682326621924",
         "S1",
         "pAll"
        ],
        [
         "71",
         "8",
         "8x8",
         "Aligned cross-patient",
         "0.12080536912751678",
         "S1",
         "pAll"
        ],
        [
         "72",
         "8",
         "8x8",
         "Aligned cross-patient",
         "0.13870246085011187",
         "S1",
         "pAll"
        ],
        [
         "73",
         "8",
         "8x8",
         "Aligned cross-patient",
         "0.14093959731543623",
         "S1",
         "pAll"
        ],
        [
         "74",
         "8",
         "8x8",
         "Aligned cross-patient",
         "0.12751677852348994",
         "S1",
         "pAll"
        ],
        [
         "75",
         "8",
         "8x8",
         "Aligned cross-patient",
         "0.14317673378076062",
         "S1",
         "pAll"
        ],
        [
         "76",
         "8",
         "8x8",
         "Aligned cross-patient",
         "0.1342281879194631",
         "S1",
         "pAll"
        ],
        [
         "77",
         "8",
         "8x8",
         "Aligned cross-patient",
         "0.12304250559284116",
         "S1",
         "pAll"
        ],
        [
         "78",
         "8",
         "8x8",
         "Aligned cross-patient",
         "0.1297539149888143",
         "S1",
         "pAll"
        ],
        [
         "79",
         "8",
         "8x8",
         "Aligned cross-patient",
         "0.1342281879194631",
         "S1",
         "pAll"
        ],
        [
         "80",
         "8",
         "8x8",
         "Aligned cross-patient",
         "0.1342281879194631",
         "S1",
         "pAll"
        ],
        [
         "81",
         "8",
         "8x8",
         "Aligned cross-patient",
         "0.1297539149888143",
         "S1",
         "pAll"
        ],
        [
         "82",
         "8",
         "8x8",
         "Aligned cross-patient",
         "0.1342281879194631",
         "S1",
         "pAll"
        ],
        [
         "83",
         "8",
         "8x8",
         "Aligned cross-patient",
         "0.1342281879194631",
         "S1",
         "pAll"
        ],
        [
         "84",
         "8",
         "8x8",
         "Aligned cross-patient",
         "0.1185682326621924",
         "S1",
         "pAll"
        ],
        [
         "85",
         "8",
         "8x8",
         "Aligned cross-patient",
         "0.11185682326621924",
         "S1",
         "pAll"
        ],
        [
         "86",
         "8",
         "8x8",
         "Aligned cross-patient",
         "0.12527964205816555",
         "S1",
         "pAll"
        ],
        [
         "87",
         "8",
         "8x8",
         "Aligned cross-patient",
         "0.14093959731543623",
         "S1",
         "pAll"
        ],
        [
         "88",
         "8",
         "8x8",
         "Aligned cross-patient",
         "0.1319910514541387",
         "S1",
         "pAll"
        ],
        [
         "89",
         "8",
         "8x8",
         "Aligned cross-patient",
         "0.1297539149888143",
         "S1",
         "pAll"
        ],
        [
         "90",
         "8",
         "8x8",
         "Aligned cross-patient",
         "0.1297539149888143",
         "S1",
         "pAll"
        ],
        [
         "91",
         "8",
         "8x8",
         "Aligned cross-patient",
         "0.13646532438478748",
         "S1",
         "pAll"
        ],
        [
         "92",
         "8",
         "8x8",
         "Aligned cross-patient",
         "0.12751677852348994",
         "S1",
         "pAll"
        ],
        [
         "93",
         "8",
         "8x8",
         "Aligned cross-patient",
         "0.13646532438478748",
         "S1",
         "pAll"
        ],
        [
         "94",
         "8",
         "8x8",
         "Aligned cross-patient",
         "0.1297539149888143",
         "S1",
         "pAll"
        ],
        [
         "95",
         "8",
         "8x8",
         "Aligned cross-patient",
         "0.1342281879194631",
         "S1",
         "pAll"
        ],
        [
         "96",
         "8",
         "8x8",
         "Aligned cross-patient",
         "0.1319910514541387",
         "S1",
         "pAll"
        ],
        [
         "97",
         "8",
         "8x8",
         "Aligned cross-patient",
         "0.1319910514541387",
         "S1",
         "pAll"
        ],
        [
         "98",
         "8",
         "8x8",
         "Aligned cross-patient",
         "0.12304250559284116",
         "S1",
         "pAll"
        ],
        [
         "99",
         "8",
         "8x8",
         "Aligned cross-patient",
         "0.14541387024608501",
         "S1",
         "pAll"
        ]
       ],
       "shape": {
        "columns": 6,
        "rows": 6400
       }
      },
      "text/html": [
       "<div>\n",
       "<style scoped>\n",
       "    .dataframe tbody tr th:only-of-type {\n",
       "        vertical-align: middle;\n",
       "    }\n",
       "\n",
       "    .dataframe tbody tr th {\n",
       "        vertical-align: top;\n",
       "    }\n",
       "\n",
       "    .dataframe thead th {\n",
       "        text-align: right;\n",
       "    }\n",
       "</style>\n",
       "<table border=\"1\" class=\"dataframe\">\n",
       "  <thead>\n",
       "    <tr style=\"text-align: right;\">\n",
       "      <th></th>\n",
       "      <th>Contact Length</th>\n",
       "      <th>Contact Size</th>\n",
       "      <th>Decoding Context</th>\n",
       "      <th>Decoding Accuracy</th>\n",
       "      <th>Patient</th>\n",
       "      <th>Phoneme Index</th>\n",
       "    </tr>\n",
       "  </thead>\n",
       "  <tbody>\n",
       "    <tr>\n",
       "      <th>50</th>\n",
       "      <td>8</td>\n",
       "      <td>8x8</td>\n",
       "      <td>Aligned cross-patient</td>\n",
       "      <td>0.136465</td>\n",
       "      <td>S1</td>\n",
       "      <td>pAll</td>\n",
       "    </tr>\n",
       "    <tr>\n",
       "      <th>51</th>\n",
       "      <td>8</td>\n",
       "      <td>8x8</td>\n",
       "      <td>Aligned cross-patient</td>\n",
       "      <td>0.131991</td>\n",
       "      <td>S1</td>\n",
       "      <td>pAll</td>\n",
       "    </tr>\n",
       "    <tr>\n",
       "      <th>52</th>\n",
       "      <td>8</td>\n",
       "      <td>8x8</td>\n",
       "      <td>Aligned cross-patient</td>\n",
       "      <td>0.134228</td>\n",
       "      <td>S1</td>\n",
       "      <td>pAll</td>\n",
       "    </tr>\n",
       "    <tr>\n",
       "      <th>53</th>\n",
       "      <td>8</td>\n",
       "      <td>8x8</td>\n",
       "      <td>Aligned cross-patient</td>\n",
       "      <td>0.131991</td>\n",
       "      <td>S1</td>\n",
       "      <td>pAll</td>\n",
       "    </tr>\n",
       "    <tr>\n",
       "      <th>54</th>\n",
       "      <td>8</td>\n",
       "      <td>8x8</td>\n",
       "      <td>Aligned cross-patient</td>\n",
       "      <td>0.123043</td>\n",
       "      <td>S1</td>\n",
       "      <td>pAll</td>\n",
       "    </tr>\n",
       "    <tr>\n",
       "      <th>...</th>\n",
       "      <td>...</td>\n",
       "      <td>...</td>\n",
       "      <td>...</td>\n",
       "      <td>...</td>\n",
       "      <td>...</td>\n",
       "      <td>...</td>\n",
       "    </tr>\n",
       "    <tr>\n",
       "      <th>45</th>\n",
       "      <td>1</td>\n",
       "      <td>1x1</td>\n",
       "      <td>Patient-specific</td>\n",
       "      <td>0.282772</td>\n",
       "      <td>S8</td>\n",
       "      <td>pAll</td>\n",
       "    </tr>\n",
       "    <tr>\n",
       "      <th>46</th>\n",
       "      <td>1</td>\n",
       "      <td>1x1</td>\n",
       "      <td>Patient-specific</td>\n",
       "      <td>0.297753</td>\n",
       "      <td>S8</td>\n",
       "      <td>pAll</td>\n",
       "    </tr>\n",
       "    <tr>\n",
       "      <th>47</th>\n",
       "      <td>1</td>\n",
       "      <td>1x1</td>\n",
       "      <td>Patient-specific</td>\n",
       "      <td>0.258427</td>\n",
       "      <td>S8</td>\n",
       "      <td>pAll</td>\n",
       "    </tr>\n",
       "    <tr>\n",
       "      <th>48</th>\n",
       "      <td>1</td>\n",
       "      <td>1x1</td>\n",
       "      <td>Patient-specific</td>\n",
       "      <td>0.294007</td>\n",
       "      <td>S8</td>\n",
       "      <td>pAll</td>\n",
       "    </tr>\n",
       "    <tr>\n",
       "      <th>49</th>\n",
       "      <td>1</td>\n",
       "      <td>1x1</td>\n",
       "      <td>Patient-specific</td>\n",
       "      <td>0.295880</td>\n",
       "      <td>S8</td>\n",
       "      <td>pAll</td>\n",
       "    </tr>\n",
       "  </tbody>\n",
       "</table>\n",
       "<p>6400 rows × 6 columns</p>\n",
       "</div>"
      ],
      "text/plain": [
       "    Contact Length Contact Size       Decoding Context  Decoding Accuracy  \\\n",
       "50               8          8x8  Aligned cross-patient           0.136465   \n",
       "51               8          8x8  Aligned cross-patient           0.131991   \n",
       "52               8          8x8  Aligned cross-patient           0.134228   \n",
       "53               8          8x8  Aligned cross-patient           0.131991   \n",
       "54               8          8x8  Aligned cross-patient           0.123043   \n",
       "..             ...          ...                    ...                ...   \n",
       "45               1          1x1       Patient-specific           0.282772   \n",
       "46               1          1x1       Patient-specific           0.297753   \n",
       "47               1          1x1       Patient-specific           0.258427   \n",
       "48               1          1x1       Patient-specific           0.294007   \n",
       "49               1          1x1       Patient-specific           0.295880   \n",
       "\n",
       "   Patient Phoneme Index  \n",
       "50      S1          pAll  \n",
       "51      S1          pAll  \n",
       "52      S1          pAll  \n",
       "53      S1          pAll  \n",
       "54      S1          pAll  \n",
       "..     ...           ...  \n",
       "45      S8          pAll  \n",
       "46      S8          pAll  \n",
       "47      S8          pAll  \n",
       "48      S8          pAll  \n",
       "49      S8          pAll  \n",
       "\n",
       "[6400 rows x 6 columns]"
      ]
     },
     "execution_count": 67,
     "metadata": {},
     "output_type": "execute_result"
    }
   ],
   "source": [
    "savg_decode_df_long"
   ]
  },
  {
   "cell_type": "code",
   "execution_count": 68,
   "metadata": {},
   "outputs": [
    {
     "data": {
      "application/vnd.microsoft.datawrangler.viewer.v0+json": {
       "columns": [
        {
         "name": "index",
         "rawType": "int64",
         "type": "integer"
        },
        {
         "name": "Patient",
         "rawType": "object",
         "type": "string"
        },
        {
         "name": "Contact Size",
         "rawType": "object",
         "type": "string"
        },
        {
         "name": "Decoding Context",
         "rawType": "object",
         "type": "string"
        },
        {
         "name": "Contact Length",
         "rawType": "float64",
         "type": "float"
        },
        {
         "name": "Decoding Accuracy",
         "rawType": "float64",
         "type": "float"
        }
       ],
       "conversionMethod": "pd.DataFrame",
       "ref": "fedc7824-4b6c-4084-b494-82bfca43f8ab",
       "rows": [
        [
         "0",
         "S1",
         "8x8",
         "Aligned cross-patient",
         "8.0",
         "0.13064876957494406"
        ],
        [
         "1",
         "S4",
         "8x8",
         "Aligned cross-patient",
         "8.0",
         "0.12043010752688171"
        ],
        [
         "2",
         "S5",
         "8x8",
         "Aligned cross-patient",
         "8.0",
         "0.12276315789473685"
        ],
        [
         "3",
         "S2",
         "8x8",
         "Aligned cross-patient",
         "8.0",
         "0.11206140350877193"
        ],
        [
         "4",
         "S3",
         "8x8",
         "Aligned cross-patient",
         "8.0",
         "0.13555555555555554"
        ],
        [
         "5",
         "S6",
         "8x8",
         "Aligned cross-patient",
         "8.0",
         "0.15044289044289044"
        ],
        [
         "6",
         "S7",
         "8x8",
         "Aligned cross-patient",
         "8.0",
         "0.13687943262411348"
        ],
        [
         "7",
         "S8",
         "8x8",
         "Aligned cross-patient",
         "8.0",
         "0.14486891385767792"
        ],
        [
         "8",
         "S1",
         "8x8",
         "Patient-specific",
         "8.0",
         "0.19932885906040268"
        ],
        [
         "9",
         "S4",
         "8x8",
         "Patient-specific",
         "8.0",
         "0.1457204301075269"
        ],
        [
         "10",
         "S5",
         "8x8",
         "Patient-specific",
         "8.0",
         "0.11232456140350877"
        ],
        [
         "11",
         "S2",
         "8x8",
         "Patient-specific",
         "8.0",
         "0.11956140350877194"
        ],
        [
         "12",
         "S3",
         "8x8",
         "Patient-specific",
         "8.0",
         "0.12392156862745099"
        ],
        [
         "13",
         "S6",
         "8x8",
         "Patient-specific",
         "8.0",
         "0.1345920745920746"
        ],
        [
         "14",
         "S7",
         "8x8",
         "Patient-specific",
         "8.0",
         "0.11182033096926715"
        ],
        [
         "15",
         "S8",
         "8x8",
         "Patient-specific",
         "8.0",
         "0.13771535580524344"
        ],
        [
         "16",
         "S1",
         "7x7",
         "Aligned cross-patient",
         "7.0",
         "0.1643400447427293"
        ],
        [
         "17",
         "S4",
         "7x7",
         "Aligned cross-patient",
         "7.0",
         "0.11531182795698924"
        ],
        [
         "18",
         "S5",
         "7x7",
         "Aligned cross-patient",
         "7.0",
         "0.11785087719298244"
        ],
        [
         "19",
         "S2",
         "7x7",
         "Aligned cross-patient",
         "7.0",
         "0.11521929824561404"
        ],
        [
         "20",
         "S3",
         "7x7",
         "Aligned cross-patient",
         "7.0",
         "0.14065359477124184"
        ],
        [
         "21",
         "S6",
         "7x7",
         "Aligned cross-patient",
         "7.0",
         "0.13114219114219114"
        ],
        [
         "22",
         "S7",
         "7x7",
         "Aligned cross-patient",
         "7.0",
         "0.12723404255319148"
        ],
        [
         "23",
         "S8",
         "7x7",
         "Aligned cross-patient",
         "7.0",
         "0.13037453183520598"
        ],
        [
         "24",
         "S1",
         "7x7",
         "Patient-specific",
         "7.0",
         "0.18715883668903804"
        ],
        [
         "25",
         "S4",
         "7x7",
         "Patient-specific",
         "7.0",
         "0.1269247311827957"
        ],
        [
         "26",
         "S5",
         "7x7",
         "Patient-specific",
         "7.0",
         "0.11934210526315789"
        ],
        [
         "27",
         "S2",
         "7x7",
         "Patient-specific",
         "7.0",
         "0.09855263157894736"
        ],
        [
         "28",
         "S3",
         "7x7",
         "Patient-specific",
         "7.0",
         "0.15477124183006535"
        ],
        [
         "29",
         "S6",
         "7x7",
         "Patient-specific",
         "7.0",
         "0.11249417249417248"
        ],
        [
         "30",
         "S7",
         "7x7",
         "Patient-specific",
         "7.0",
         "0.1266193853427896"
        ],
        [
         "31",
         "S8",
         "7x7",
         "Patient-specific",
         "7.0",
         "0.1597378277153558"
        ],
        [
         "32",
         "S1",
         "6x6",
         "Aligned cross-patient",
         "6.0",
         "0.14979865771812081"
        ],
        [
         "33",
         "S4",
         "6x6",
         "Aligned cross-patient",
         "6.0",
         "0.12313978494623656"
        ],
        [
         "34",
         "S5",
         "6x6",
         "Aligned cross-patient",
         "6.0",
         "0.13456140350877194"
        ],
        [
         "35",
         "S2",
         "6x6",
         "Aligned cross-patient",
         "6.0",
         "0.12188596491228071"
        ],
        [
         "36",
         "S3",
         "6x6",
         "Aligned cross-patient",
         "6.0",
         "0.15411764705882353"
        ],
        [
         "37",
         "S6",
         "6x6",
         "Aligned cross-patient",
         "6.0",
         "0.13156177156177157"
        ],
        [
         "38",
         "S7",
         "6x6",
         "Aligned cross-patient",
         "6.0",
         "0.1391016548463357"
        ],
        [
         "39",
         "S8",
         "6x6",
         "Aligned cross-patient",
         "6.0",
         "0.17385767790262172"
        ],
        [
         "40",
         "S1",
         "6x6",
         "Patient-specific",
         "6.0",
         "0.22246085011185682"
        ],
        [
         "41",
         "S4",
         "6x6",
         "Patient-specific",
         "6.0",
         "0.13466666666666666"
        ],
        [
         "42",
         "S5",
         "6x6",
         "Patient-specific",
         "6.0",
         "0.1375"
        ],
        [
         "43",
         "S2",
         "6x6",
         "Patient-specific",
         "6.0",
         "0.0906578947368421"
        ],
        [
         "44",
         "S3",
         "6x6",
         "Patient-specific",
         "6.0",
         "0.07450980392156863"
        ],
        [
         "45",
         "S6",
         "6x6",
         "Patient-specific",
         "6.0",
         "0.12410256410256411"
        ],
        [
         "46",
         "S7",
         "6x6",
         "Patient-specific",
         "6.0",
         "0.12174940898345152"
        ],
        [
         "47",
         "S8",
         "6x6",
         "Patient-specific",
         "6.0",
         "0.1961048689138577"
        ],
        [
         "48",
         "S1",
         "5x5",
         "Aligned cross-patient",
         "5.0",
         "0.18196868008948544"
        ],
        [
         "49",
         "S4",
         "5x5",
         "Aligned cross-patient",
         "5.0",
         "0.1326021505376344"
        ]
       ],
       "shape": {
        "columns": 5,
        "rows": 128
       }
      },
      "text/html": [
       "<div>\n",
       "<style scoped>\n",
       "    .dataframe tbody tr th:only-of-type {\n",
       "        vertical-align: middle;\n",
       "    }\n",
       "\n",
       "    .dataframe tbody tr th {\n",
       "        vertical-align: top;\n",
       "    }\n",
       "\n",
       "    .dataframe thead th {\n",
       "        text-align: right;\n",
       "    }\n",
       "</style>\n",
       "<table border=\"1\" class=\"dataframe\">\n",
       "  <thead>\n",
       "    <tr style=\"text-align: right;\">\n",
       "      <th></th>\n",
       "      <th>Patient</th>\n",
       "      <th>Contact Size</th>\n",
       "      <th>Decoding Context</th>\n",
       "      <th>Contact Length</th>\n",
       "      <th>Decoding Accuracy</th>\n",
       "    </tr>\n",
       "  </thead>\n",
       "  <tbody>\n",
       "    <tr>\n",
       "      <th>0</th>\n",
       "      <td>S1</td>\n",
       "      <td>8x8</td>\n",
       "      <td>Aligned cross-patient</td>\n",
       "      <td>8.0</td>\n",
       "      <td>0.130649</td>\n",
       "    </tr>\n",
       "    <tr>\n",
       "      <th>1</th>\n",
       "      <td>S4</td>\n",
       "      <td>8x8</td>\n",
       "      <td>Aligned cross-patient</td>\n",
       "      <td>8.0</td>\n",
       "      <td>0.120430</td>\n",
       "    </tr>\n",
       "    <tr>\n",
       "      <th>2</th>\n",
       "      <td>S5</td>\n",
       "      <td>8x8</td>\n",
       "      <td>Aligned cross-patient</td>\n",
       "      <td>8.0</td>\n",
       "      <td>0.122763</td>\n",
       "    </tr>\n",
       "    <tr>\n",
       "      <th>3</th>\n",
       "      <td>S2</td>\n",
       "      <td>8x8</td>\n",
       "      <td>Aligned cross-patient</td>\n",
       "      <td>8.0</td>\n",
       "      <td>0.112061</td>\n",
       "    </tr>\n",
       "    <tr>\n",
       "      <th>4</th>\n",
       "      <td>S3</td>\n",
       "      <td>8x8</td>\n",
       "      <td>Aligned cross-patient</td>\n",
       "      <td>8.0</td>\n",
       "      <td>0.135556</td>\n",
       "    </tr>\n",
       "    <tr>\n",
       "      <th>...</th>\n",
       "      <td>...</td>\n",
       "      <td>...</td>\n",
       "      <td>...</td>\n",
       "      <td>...</td>\n",
       "      <td>...</td>\n",
       "    </tr>\n",
       "    <tr>\n",
       "      <th>123</th>\n",
       "      <td>S2</td>\n",
       "      <td>1x1</td>\n",
       "      <td>Patient-specific</td>\n",
       "      <td>1.0</td>\n",
       "      <td>0.428465</td>\n",
       "    </tr>\n",
       "    <tr>\n",
       "      <th>124</th>\n",
       "      <td>S3</td>\n",
       "      <td>1x1</td>\n",
       "      <td>Patient-specific</td>\n",
       "      <td>1.0</td>\n",
       "      <td>0.330327</td>\n",
       "    </tr>\n",
       "    <tr>\n",
       "      <th>125</th>\n",
       "      <td>S6</td>\n",
       "      <td>1x1</td>\n",
       "      <td>Patient-specific</td>\n",
       "      <td>1.0</td>\n",
       "      <td>0.091096</td>\n",
       "    </tr>\n",
       "    <tr>\n",
       "      <th>126</th>\n",
       "      <td>S7</td>\n",
       "      <td>1x1</td>\n",
       "      <td>Patient-specific</td>\n",
       "      <td>1.0</td>\n",
       "      <td>0.112057</td>\n",
       "    </tr>\n",
       "    <tr>\n",
       "      <th>127</th>\n",
       "      <td>S8</td>\n",
       "      <td>1x1</td>\n",
       "      <td>Patient-specific</td>\n",
       "      <td>1.0</td>\n",
       "      <td>0.288614</td>\n",
       "    </tr>\n",
       "  </tbody>\n",
       "</table>\n",
       "<p>128 rows × 5 columns</p>\n",
       "</div>"
      ],
      "text/plain": [
       "    Patient Contact Size       Decoding Context  Contact Length  \\\n",
       "0        S1          8x8  Aligned cross-patient             8.0   \n",
       "1        S4          8x8  Aligned cross-patient             8.0   \n",
       "2        S5          8x8  Aligned cross-patient             8.0   \n",
       "3        S2          8x8  Aligned cross-patient             8.0   \n",
       "4        S3          8x8  Aligned cross-patient             8.0   \n",
       "..      ...          ...                    ...             ...   \n",
       "123      S2          1x1       Patient-specific             1.0   \n",
       "124      S3          1x1       Patient-specific             1.0   \n",
       "125      S6          1x1       Patient-specific             1.0   \n",
       "126      S7          1x1       Patient-specific             1.0   \n",
       "127      S8          1x1       Patient-specific             1.0   \n",
       "\n",
       "     Decoding Accuracy  \n",
       "0             0.130649  \n",
       "1             0.120430  \n",
       "2             0.122763  \n",
       "3             0.112061  \n",
       "4             0.135556  \n",
       "..                 ...  \n",
       "123           0.428465  \n",
       "124           0.330327  \n",
       "125           0.091096  \n",
       "126           0.112057  \n",
       "127           0.288614  \n",
       "\n",
       "[128 rows x 5 columns]"
      ]
     },
     "execution_count": 68,
     "metadata": {},
     "output_type": "execute_result"
    }
   ],
   "source": [
    "mean_savg_decode_df = savg_decode_df_long.drop(columns=['Phoneme Index']).groupby(['Patient', 'Contact Size', 'Decoding Context'], sort=False).mean().reset_index()\n",
    "mean_savg_decode_df"
   ]
  },
  {
   "cell_type": "code",
   "execution_count": null,
   "metadata": {},
   "outputs": [
    {
     "data": {
      "image/png": "[encoded data removed]",
      "text/plain": [
       "<Figure size 800x600 with 1 Axes>"
      ]
     },
     "metadata": {},
     "output_type": "display_data"
    }
   ],
   "source": [
    "f, ax1 = plt.subplots(1,1, figsize=(8,6))\n",
    "\n",
    "sns.lineplot(data=mean_savg_decode_df, x='Contact Size', y='Decoding Accuracy', hue='Decoding Context', marker='o', errorbar='sd', ax=ax1, palette=[px_colors[3], px_colors[0]])\n",
    "ax1.set_xlabel('')\n",
    "ax1.set_ylabel('')\n",
    "ax1.axhline(1/9, color='grey', linestyle='--')\n",
    "ax1.set_ylim(0.05, 0.45)\n",
    "ax1.legend(loc='upper left')\n",
    "ax1.set_ylim(0, 0.45)\n",
    "\n",
    "sns.despine()\n",
    "plt.show()"
   ]
  },
  {
   "cell_type": "code",
   "execution_count": 75,
   "metadata": {},
   "outputs": [
    {
     "name": "stdout",
     "output_type": "stream",
     "text": [
      "[False False False False False False False False]\n",
      "Contact Size: 8x8 - statistic: 0.003916794136084312, p-value: 0.8046875, FDR-corrected p-value: 0.8046875\n",
      "Contact Size: 7x7 - statistic: 0.00543431545702211, p-value: 0.4140625, FDR-corrected p-value: 0.8046875\n",
      "Contact Size: 6x6 - statistic: -0.0032840631272693654, p-value: 0.8046875, FDR-corrected p-value: 0.8046875\n",
      "Contact Size: 5x5 - statistic: 0.0068180552831154095, p-value: 0.6171875, FDR-corrected p-value: 0.8046875\n",
      "Contact Size: 4x4 - statistic: -0.007553243020845396, p-value: 0.6171875, FDR-corrected p-value: 0.8046875\n",
      "Contact Size: 3x3 - statistic: -0.0043252927248853545, p-value: 0.78125, FDR-corrected p-value: 0.8046875\n",
      "Contact Size: 2x2 - statistic: -0.0232423867910605, p-value: 0.0859375, FDR-corrected p-value: 0.34375\n",
      "Contact Size: 1x1 - statistic: -0.053598574441631464, p-value: 0.0078125, FDR-corrected p-value: 0.0625\n"
     ]
    }
   ],
   "source": [
    "# run stats on difference between CCA and Patient-Specific decoding at each contact size\n",
    "def diff_stat(a,b,axis):\n",
    "    return np.mean(a, axis=axis) - np.mean(b, axis=axis)\n",
    "\n",
    "stat_data = []\n",
    "for cont_size in savg_list:\n",
    "    pt_spf = mean_savg_decode_df[(mean_savg_decode_df['Decoding Context'] == 'Patient-specific') & (mean_savg_decode_df['Contact Length'] == cont_size)]['Decoding Accuracy']\n",
    "    cca = mean_savg_decode_df[(mean_savg_decode_df['Decoding Context'] == 'Aligned cross-patient') & (mean_savg_decode_df['Contact Length'] == cont_size)]['Decoding Accuracy']\n",
    "\n",
    "    res = stats.permutation_test((pt_spf, cca), diff_stat, permutation_type='samples')\\\n",
    "    # res = stats.wilcoxon(pt_spf, cca)\n",
    "\n",
    "    stat_data.append((cont_size, res.statistic, res.pvalue))\n",
    "\n",
    "fdr_pass, fdr_pvals = fdrcorrection([p_val for _, _, p_val in stat_data])\n",
    "print(fdr_pass)\n",
    "for i in range(len(stat_data)):\n",
    "    print(f'Contact Size: {stat_data[i][0]}x{stat_data[i][0]} - statistic: {stat_data[i][1]}, p-value: {stat_data[i][2]}, FDR-corrected p-value: {fdr_pvals[i]}')"
   ]
  }
 ],
 "metadata": {
  "kernelspec": {
   "display_name": "micro_decode",
   "language": "python",
   "name": "python3"
  },
  "language_info": {
   "codemirror_mode": {
    "name": "ipython",
    "version": 3
   },
   "file_extension": ".py",
   "mimetype": "text/x-python",
   "name": "python",
   "nbconvert_exporter": "python",
   "pygments_lexer": "ipython3",
   "version": "3.11.5"
  }
 },
 "nbformat": 4,
 "nbformat_minor": 2
}
