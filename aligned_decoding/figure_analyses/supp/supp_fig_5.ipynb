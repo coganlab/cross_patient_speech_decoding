{
 "cells": [
  {
   "cell_type": "markdown",
   "metadata": {},
   "source": [
    "# Imports"
   ]
  },
  {
   "cell_type": "code",
   "execution_count": 6,
   "metadata": {},
   "outputs": [],
   "source": [
    "import sys\n",
    "sys.path.append('../..')"
   ]
  },
  {
   "cell_type": "code",
   "execution_count": 7,
   "metadata": {},
   "outputs": [],
   "source": [
    "# analysis\n",
    "import numpy as np\n",
    "import pandas as pd\n",
    "import scipy.io as sio\n",
    "import scipy.stats as stats\n",
    "from sklearn.decomposition import PCA\n",
    "\n",
    "# plotting\n",
    "import matplotlib.pyplot as plt\n",
    "import matplotlib as mpl\n",
    "import seaborn as sns\n",
    "import plotly.express as px\n",
    "\n",
    "# local\n",
    "import alignment.alignment_utils as utils\n",
    "from alignment.AlignCCA import AlignCCA\n",
    "\n",
    "%matplotlib inline"
   ]
  },
  {
   "cell_type": "markdown",
   "metadata": {},
   "source": [
    "# Data Loading"
   ]
  },
  {
   "cell_type": "markdown",
   "metadata": {},
   "source": [
    "### Real data"
   ]
  },
  {
   "cell_type": "code",
   "execution_count": 16,
   "metadata": {},
   "outputs": [],
   "source": [
    "paper_pt_dict = {'S14': 'S1', 'S26': 'S2', 'S33': 'S3', 'S22': 'S4', 'S23': 'S5', 'S39': 'S6', 'S58': 'S7', 'S62': 'S8'}"
   ]
  },
  {
   "cell_type": "code",
   "execution_count": 14,
   "metadata": {},
   "outputs": [],
   "source": [
    "DATA_PATH = '../../data/'\n",
    "data_filename = DATA_PATH + 'pt_decoding_data_S62.pkl' # mean-subtracted\n",
    "# data_filename = DATA_PATH + 'pt_decoding_data_S62_zscore.pkl' # z-scored"
   ]
  },
  {
   "cell_type": "code",
   "execution_count": 15,
   "metadata": {},
   "outputs": [],
   "source": [
    "all_pt_dict = utils.load_pkl(data_filename)\n",
    "pt_names = list(all_pt_dict.keys())"
   ]
  },
  {
   "cell_type": "code",
   "execution_count": 6,
   "metadata": {},
   "outputs": [
    {
     "name": "stdout",
     "output_type": "stream",
     "text": [
      "['S14', 'S26', 'S23', 'S33', 'S22', 'S39', 'S58', 'S62']\n",
      "dict_keys(['ID', 'X1', 'X1_map', 'y1', 'X2', 'X2_map', 'y2', 'X3', 'X3_map', 'y3', 'y_full_phon', 'X_collapsed', 'y_phon_collapsed', 'y_artic_collapsed', 'pre_pts'])\n",
      "[(144, 200, 111), (148, 200, 111), (151, 200, 63), (46, 200, 149), (151, 200, 74), (137, 200, 144), (141, 200, 171), (178, 200, 201)]\n"
     ]
    }
   ],
   "source": [
    "print(pt_names)\n",
    "print(all_pt_dict[pt_names[0]].keys())\n",
    "print([all_pt_dict[pt]['X1'].shape for pt in pt_names])"
   ]
  },
  {
   "cell_type": "code",
   "execution_count": 7,
   "metadata": {},
   "outputs": [],
   "source": [
    "all_pt_chan_data = {}\n",
    "for pt in pt_names:\n",
    "    temp = {}\n",
    "    temp['map'] = sio.loadmat(DATA_PATH + f'{pt}/{pt}_channelMap.mat'.format(pt))['chanMap']\n",
    "    # if pt == 'S58':\n",
    "    #     temp['sig'] = sio.loadmat(DATA_PATH + f'{pt}/{pt}_sigChannel.mat'.format(pt))['sigChannel'] - 2 # this is so weird\n",
    "    # else:\n",
    "    temp['sig'] = sio.loadmat(DATA_PATH + f'{pt}/{pt}_sigChannel.mat'.format(pt))['sigChannel'] - 1\n",
    "    all_pt_chan_data[pt] = temp"
   ]
  },
  {
   "cell_type": "markdown",
   "metadata": {},
   "source": [
    "## Phoneme label processing functions"
   ]
  },
  {
   "cell_type": "code",
   "execution_count": 8,
   "metadata": {},
   "outputs": [],
   "source": [
    "phon_labels = np.array(['a', 'ae', 'i', 'u', 'b', 'p', 'v', 'g', 'k'])\n",
    "artic_labels = np.array(['low', 'high', 'labial', 'dorsal'])\n",
    "phon_to_artic_dict = {1:1, 2:1, 3:2, 4:2, 5:3, 6:3, 7:3, 8:4, 9:4}"
   ]
  },
  {
   "cell_type": "code",
   "execution_count": 9,
   "metadata": {},
   "outputs": [],
   "source": [
    "def phon_to_artic(phon_idx, phon_to_artic_conv):\n",
    "    return phon_to_artic_conv[phon_idx]\n",
    "\n",
    "def phon_to_artic_seq(phon_seq, phon_to_artic_conv):\n",
    "    flat_seq = phon_seq.flatten()\n",
    "    artic_conv = np.array([phon_to_artic(phon_idx, phon_to_artic_conv) for phon_idx in flat_seq])\n",
    "    return np.reshape(artic_conv, phon_seq.shape)\n",
    "\n",
    "def phon2artic(phon):\n",
    "    return artic_labels[phon_to_artic_dict[int(phon)] - 1]\n",
    "\n",
    "def phon2artic_seq(phon_seq):\n",
    "    return '_'.join([phon2artic(phon) for phon in phon_seq])\n",
    "\n",
    "def labels2cv_seq(labels):\n",
    "    labels_str = []\n",
    "    for lab in labels:\n",
    "        labels_str.append(labels2cv(lab))\n",
    "    return np.array(labels_str)\n",
    "\n",
    "def labels2cv(str):\n",
    "    middle_val = str[1]\n",
    "    if int(middle_val) < 5:\n",
    "        return 'CVC'\n",
    "    else:\n",
    "        return 'VCV'\n",
    "\n",
    "def articic_nums2seq(artic_num_seqs):\n",
    "    return np.array([artic_labels[artic_num-1] for artic_num in artic_num_seqs])"
   ]
  },
  {
   "cell_type": "markdown",
   "metadata": {},
   "source": [
    "## Data Processing"
   ]
  },
  {
   "cell_type": "code",
   "execution_count": 10,
   "metadata": {},
   "outputs": [],
   "source": [
    "p_ind = 1\n",
    "\n",
    "all_pt_traces = {}\n",
    "all_pt_surr_traces = {}\n",
    "all_pt_phon_labels = {}\n",
    "all_pt_phon_seqs = {}\n",
    "all_pt_phon_seqs_str = {}\n",
    "all_pt_artic_labels = {}\n",
    "all_pt_artic_seqs = {}\n",
    "all_pt_artic_seqs_str = {}\n",
    "all_pt_cv_labels = {}\n",
    "for pt in pt_names:\n",
    "    pt_trace = all_pt_dict[pt][f'X{p_ind}']  ### (trials, time, channels)\n",
    "\n",
    "    pt_phon_labels = all_pt_dict[pt][f'y{p_ind}']\n",
    "    pt_phon_seqs = all_pt_dict[pt]['y_full_phon']\n",
    "    pt_phon_seqs_str = utils.label_seq2str(pt_phon_seqs)\n",
    "    pt_artic_labels = phon_to_artic_seq(pt_phon_labels, phon_to_artic_dict)\n",
    "    pt_artic_seqs = phon_to_artic_seq(pt_phon_seqs, phon_to_artic_dict)\n",
    "    pt_artic_seqs_str = utils.label_seq2str(pt_artic_seqs)\n",
    "    pt_cv_labels = labels2cv_seq(pt_phon_seqs)\n",
    "\n",
    "    all_pt_traces[pt] = pt_trace\n",
    "    all_pt_phon_labels[pt] = pt_phon_labels\n",
    "    all_pt_phon_seqs[pt] = pt_phon_seqs\n",
    "    all_pt_phon_seqs_str[pt] = pt_phon_seqs_str\n",
    "    all_pt_artic_labels[pt] = pt_artic_labels\n",
    "    all_pt_artic_seqs[pt] = pt_artic_seqs\n",
    "    all_pt_artic_seqs_str[pt] = pt_artic_seqs_str\n",
    "    all_pt_cv_labels[pt] = pt_cv_labels"
   ]
  },
  {
   "cell_type": "code",
   "execution_count": 11,
   "metadata": {},
   "outputs": [],
   "source": [
    "t = np.linspace(-0.5, 0.5 - 1/pt_trace.shape[1], pt_trace.shape[1])"
   ]
  },
  {
   "cell_type": "markdown",
   "metadata": {},
   "source": [
    "# Data Visualization"
   ]
  },
  {
   "cell_type": "markdown",
   "metadata": {},
   "source": [
    "### Plotting utils"
   ]
  },
  {
   "cell_type": "code",
   "execution_count": 12,
   "metadata": {},
   "outputs": [],
   "source": [
    "px_colors = [\n",
    "             '#636EFA',\n",
    "             '#FFA15A',\n",
    "             '#EF553B',\n",
    "             '#00CC96',\n",
    "            #  '#72B7B2',\n",
    "            #  '#990099',\n",
    "            #  '#B6E880',\n",
    "\n",
    "             \n",
    "            #  '#FFA15A',\n",
    "            #  '#19D3F3',\n",
    "            #  '#FF6692',\n",
    "            #  '#B6E880',\n",
    "            #  '#FF97FF',\n",
    "            #  '#FECB52',\n",
    "            ]"
   ]
  },
  {
   "cell_type": "code",
   "execution_count": 13,
   "metadata": {},
   "outputs": [],
   "source": [
    "# sns.set_theme(context='notebook', font='Arial', font_scale=1.15)\n",
    "sns.set_theme(font='Arial', font_scale=1.2, style='white', palette=px_colors)\n",
    "sns.set_style(rc={\n",
    "    # 'axes.edgecolor': 'gray',\n",
    "    'axes.linewidth': 0.5,\n",
    "    'xtick.bottom': True,\n",
    "    'ytick.left': True,\n",
    "    })"
   ]
  },
  {
   "cell_type": "code",
   "execution_count": 14,
   "metadata": {},
   "outputs": [],
   "source": [
    "from matplotlib.colors import LinearSegmentedColormap\n",
    "\n",
    "parula_data = cm_data = [[0.2422, 0.1504, 0.6603],\n",
    "[0.2444, 0.1534, 0.6728],\n",
    "[0.2464, 0.1569, 0.6847],\n",
    "[0.2484, 0.1607, 0.6961],\n",
    "[0.2503, 0.1648, 0.7071],\n",
    "[0.2522, 0.1689, 0.7179],\n",
    "[0.254, 0.1732, 0.7286],\n",
    "[0.2558, 0.1773, 0.7393],\n",
    "[0.2576, 0.1814, 0.7501],\n",
    "[0.2594, 0.1854, 0.761],\n",
    "[0.2611, 0.1893, 0.7719],\n",
    "[0.2628, 0.1932, 0.7828],\n",
    "[0.2645, 0.1972, 0.7937],\n",
    "[0.2661, 0.2011, 0.8043],\n",
    "[0.2676, 0.2052, 0.8148],\n",
    "[0.2691, 0.2094, 0.8249],\n",
    "[0.2704, 0.2138, 0.8346],\n",
    "[0.2717, 0.2184, 0.8439],\n",
    "[0.2729, 0.2231, 0.8528],\n",
    "[0.274, 0.228, 0.8612],\n",
    "[0.2749, 0.233, 0.8692],\n",
    "[0.2758, 0.2382, 0.8767],\n",
    "[0.2766, 0.2435, 0.884],\n",
    "[0.2774, 0.2489, 0.8908],\n",
    "[0.2781, 0.2543, 0.8973],\n",
    "[0.2788, 0.2598, 0.9035],\n",
    "[0.2794, 0.2653, 0.9094],\n",
    "[0.2798, 0.2708, 0.915],\n",
    "[0.2802, 0.2764, 0.9204],\n",
    "[0.2806, 0.2819, 0.9255],\n",
    "[0.2809, 0.2875, 0.9305],\n",
    "[0.2811, 0.293, 0.9352],\n",
    "[0.2813, 0.2985, 0.9397],\n",
    "[0.2814, 0.304, 0.9441],\n",
    "[0.2814, 0.3095, 0.9483],\n",
    "[0.2813, 0.315, 0.9524],\n",
    "[0.2811, 0.3204, 0.9563],\n",
    "[0.2809, 0.3259, 0.96],\n",
    "[0.2807, 0.3313, 0.9636],\n",
    "[0.2803, 0.3367, 0.967],\n",
    "[0.2798, 0.3421, 0.9702],\n",
    "[0.2791, 0.3475, 0.9733],\n",
    "[0.2784, 0.3529, 0.9763],\n",
    "[0.2776, 0.3583, 0.9791],\n",
    "[0.2766, 0.3638, 0.9817],\n",
    "[0.2754, 0.3693, 0.984],\n",
    "[0.2741, 0.3748, 0.9862],\n",
    "[0.2726, 0.3804, 0.9881],\n",
    "[0.271, 0.386, 0.9898],\n",
    "[0.2691, 0.3916, 0.9912],\n",
    "[0.267, 0.3973, 0.9924],\n",
    "[0.2647, 0.403, 0.9935],\n",
    "[0.2621, 0.4088, 0.9946],\n",
    "[0.2591, 0.4145, 0.9955],\n",
    "[0.2556, 0.4203, 0.9965],\n",
    "[0.2517, 0.4261, 0.9974],\n",
    "[0.2473, 0.4319, 0.9983],\n",
    "[0.2424, 0.4378, 0.9991],\n",
    "[0.2369, 0.4437, 0.9996],\n",
    "[0.2311, 0.4497, 0.9995],\n",
    "[0.225, 0.4559, 0.9985],\n",
    "[0.2189, 0.462, 0.9968],\n",
    "[0.2128, 0.4682, 0.9948],\n",
    "[0.2066, 0.4743, 0.9926],\n",
    "[0.2006, 0.4803, 0.9906],\n",
    "[0.195, 0.4861, 0.9887],\n",
    "[0.1903, 0.4919, 0.9867],\n",
    "[0.1869, 0.4975, 0.9844],\n",
    "[0.1847, 0.503, 0.9819],\n",
    "[0.1831, 0.5084, 0.9793],\n",
    "[0.1818, 0.5138, 0.9766],\n",
    "[0.1806, 0.5191, 0.9738],\n",
    "[0.1795, 0.5244, 0.9709],\n",
    "[0.1785, 0.5296, 0.9677],\n",
    "[0.1778, 0.5349, 0.9641],\n",
    "[0.1773, 0.5401, 0.9602],\n",
    "[0.1768, 0.5452, 0.956],\n",
    "[0.1764, 0.5504, 0.9516],\n",
    "[0.1755, 0.5554, 0.9473],\n",
    "[0.174, 0.5605, 0.9432],\n",
    "[0.1716, 0.5655, 0.9393],\n",
    "[0.1686, 0.5705, 0.9357],\n",
    "[0.1649, 0.5755, 0.9323],\n",
    "[0.161, 0.5805, 0.9289],\n",
    "[0.1573, 0.5854, 0.9254],\n",
    "[0.154, 0.5902, 0.9218],\n",
    "[0.1513, 0.595, 0.9182],\n",
    "[0.1492, 0.5997, 0.9147],\n",
    "[0.1475, 0.6043, 0.9113],\n",
    "[0.1461, 0.6089, 0.908],\n",
    "[0.1446, 0.6135, 0.905],\n",
    "[0.1429, 0.618, 0.9022],\n",
    "[0.1408, 0.6226, 0.8998],\n",
    "[0.1383, 0.6272, 0.8975],\n",
    "[0.1354, 0.6317, 0.8953],\n",
    "[0.1321, 0.6363, 0.8932],\n",
    "[0.1288, 0.6408, 0.891],\n",
    "[0.1253, 0.6453, 0.8887],\n",
    "[0.1219, 0.6497, 0.8862],\n",
    "[0.1185, 0.6541, 0.8834],\n",
    "[0.1152, 0.6584, 0.8804],\n",
    "[0.1119, 0.6627, 0.877],\n",
    "[0.1085, 0.6669, 0.8734],\n",
    "[0.1048, 0.671, 0.8695],\n",
    "[0.1009, 0.675, 0.8653],\n",
    "[0.0964, 0.6789, 0.8609],\n",
    "[0.0914, 0.6828, 0.8562],\n",
    "[0.0855, 0.6865, 0.8513],\n",
    "[0.0789, 0.6902, 0.8462],\n",
    "[0.0713, 0.6938, 0.8409],\n",
    "[0.0628, 0.6972, 0.8355],\n",
    "[0.0535, 0.7006, 0.8299],\n",
    "[0.0433, 0.7039, 0.8242],\n",
    "[0.0328, 0.7071, 0.8183],\n",
    "[0.0234, 0.7103, 0.8124],\n",
    "[0.0155, 0.7133, 0.8064],\n",
    "[0.0091, 0.7163, 0.8003],\n",
    "[0.0046, 0.7192, 0.7941],\n",
    "[0.0019, 0.722, 0.7878],\n",
    "[0.0009, 0.7248, 0.7815],\n",
    "[0.0018, 0.7275, 0.7752],\n",
    "[0.0046, 0.7301, 0.7688],\n",
    "[0.0094, 0.7327, 0.7623],\n",
    "[0.0162, 0.7352, 0.7558],\n",
    "[0.0253, 0.7376, 0.7492],\n",
    "[0.0369, 0.74, 0.7426],\n",
    "[0.0504, 0.7423, 0.7359],\n",
    "[0.0638, 0.7446, 0.7292],\n",
    "[0.077, 0.7468, 0.7224],\n",
    "[0.0899, 0.7489, 0.7156],\n",
    "[0.1023, 0.751, 0.7088],\n",
    "[0.1141, 0.7531, 0.7019],\n",
    "[0.1252, 0.7552, 0.695],\n",
    "[0.1354, 0.7572, 0.6881],\n",
    "[0.1448, 0.7593, 0.6812],\n",
    "[0.1532, 0.7614, 0.6741],\n",
    "[0.1609, 0.7635, 0.6671],\n",
    "[0.1678, 0.7656, 0.6599],\n",
    "[0.1741, 0.7678, 0.6527],\n",
    "[0.1799, 0.7699, 0.6454],\n",
    "[0.1853, 0.7721, 0.6379],\n",
    "[0.1905, 0.7743, 0.6303],\n",
    "[0.1954, 0.7765, 0.6225],\n",
    "[0.2003, 0.7787, 0.6146],\n",
    "[0.2061, 0.7808, 0.6065],\n",
    "[0.2118, 0.7828, 0.5983],\n",
    "[0.2178, 0.7849, 0.5899],\n",
    "[0.2244, 0.7869, 0.5813],\n",
    "[0.2318, 0.7887, 0.5725],\n",
    "[0.2401, 0.7905, 0.5636],\n",
    "[0.2491, 0.7922, 0.5546],\n",
    "[0.2589, 0.7937, 0.5454],\n",
    "[0.2695, 0.7951, 0.536],\n",
    "[0.2809, 0.7964, 0.5266],\n",
    "[0.2929, 0.7975, 0.517],\n",
    "[0.3052, 0.7985, 0.5074],\n",
    "[0.3176, 0.7994, 0.4975],\n",
    "[0.3301, 0.8002, 0.4876],\n",
    "[0.3424, 0.8009, 0.4774],\n",
    "[0.3548, 0.8016, 0.4669],\n",
    "[0.3671, 0.8021, 0.4563],\n",
    "[0.3795, 0.8026, 0.4454],\n",
    "[0.3921, 0.8029, 0.4344],\n",
    "[0.405, 0.8031, 0.4233],\n",
    "[0.4184, 0.803, 0.4122],\n",
    "[0.4322, 0.8028, 0.4013],\n",
    "[0.4463, 0.8024, 0.3904],\n",
    "[0.4608, 0.8018, 0.3797],\n",
    "[0.4753, 0.8011, 0.3691],\n",
    "[0.4899, 0.8002, 0.3586],\n",
    "[0.5044, 0.7993, 0.348],\n",
    "[0.5187, 0.7982, 0.3374],\n",
    "[0.5329, 0.797, 0.3267],\n",
    "[0.547, 0.7957, 0.3159],\n",
    "[0.5609, 0.7943, 0.305],\n",
    "[0.5748, 0.7929, 0.2941],\n",
    "[0.5886, 0.7913, 0.2833],\n",
    "[0.6024, 0.7896, 0.2726],\n",
    "[0.6161, 0.7878, 0.2622],\n",
    "[0.6297, 0.7859, 0.2521],\n",
    "[0.6433, 0.7839, 0.2423],\n",
    "[0.6567, 0.7818, 0.2329],\n",
    "[0.6701, 0.7796, 0.2239],\n",
    "[0.6833, 0.7773, 0.2155],\n",
    "[0.6963, 0.775, 0.2075],\n",
    "[0.7091, 0.7727, 0.1998],\n",
    "[0.7218, 0.7703, 0.1924],\n",
    "[0.7344, 0.7679, 0.1852],\n",
    "[0.7468, 0.7654, 0.1782],\n",
    "[0.759, 0.7629, 0.1717],\n",
    "[0.771, 0.7604, 0.1658],\n",
    "[0.7829, 0.7579, 0.1608],\n",
    "[0.7945, 0.7554, 0.157],\n",
    "[0.806, 0.7529, 0.1546],\n",
    "[0.8172, 0.7505, 0.1535],\n",
    "[0.8281, 0.7481, 0.1536],\n",
    "[0.8389, 0.7457, 0.1546],\n",
    "[0.8495, 0.7435, 0.1564],\n",
    "[0.86, 0.7413, 0.1587],\n",
    "[0.8703, 0.7392, 0.1615],\n",
    "[0.8804, 0.7372, 0.165],\n",
    "[0.8903, 0.7353, 0.1695],\n",
    "[0.9, 0.7336, 0.1749],\n",
    "[0.9093, 0.7321, 0.1815],\n",
    "[0.9184, 0.7308, 0.189],\n",
    "[0.9272, 0.7298, 0.1973],\n",
    "[0.9357, 0.729, 0.2061],\n",
    "[0.944, 0.7285, 0.2151],\n",
    "[0.9523, 0.7284, 0.2237],\n",
    "[0.9606, 0.7285, 0.2312],\n",
    "[0.9689, 0.7292, 0.2373],\n",
    "[0.977, 0.7304, 0.2418],\n",
    "[0.9842, 0.733, 0.2446],\n",
    "[0.99, 0.7365, 0.2429],\n",
    "[0.9946, 0.7407, 0.2394],\n",
    "[0.9966, 0.7458, 0.2351],\n",
    "[0.9971, 0.7513, 0.2309],\n",
    "[0.9972, 0.7569, 0.2267],\n",
    "[0.9971, 0.7626, 0.2224],\n",
    "[0.9969, 0.7683, 0.2181],\n",
    "[0.9966, 0.774, 0.2138],\n",
    "[0.9962, 0.7798, 0.2095],\n",
    "[0.9957, 0.7856, 0.2053],\n",
    "[0.9949, 0.7915, 0.2012],\n",
    "[0.9938, 0.7974, 0.1974],\n",
    "[0.9923, 0.8034, 0.1939],\n",
    "[0.9906, 0.8095, 0.1906],\n",
    "[0.9885, 0.8156, 0.1875],\n",
    "[0.9861, 0.8218, 0.1846],\n",
    "[0.9835, 0.828, 0.1817],\n",
    "[0.9807, 0.8342, 0.1787],\n",
    "[0.9778, 0.8404, 0.1757],\n",
    "[0.9748, 0.8467, 0.1726],\n",
    "[0.972, 0.8529, 0.1695],\n",
    "[0.9694, 0.8591, 0.1665],\n",
    "[0.9671, 0.8654, 0.1636],\n",
    "[0.9651, 0.8716, 0.1608],\n",
    "[0.9634, 0.8778, 0.1582],\n",
    "[0.9619, 0.884, 0.1557],\n",
    "[0.9608, 0.8902, 0.1532],\n",
    "[0.9601, 0.8963, 0.1507],\n",
    "[0.9596, 0.9023, 0.148],\n",
    "[0.9595, 0.9084, 0.145],\n",
    "[0.9597, 0.9143, 0.1418],\n",
    "[0.9601, 0.9203, 0.1382],\n",
    "[0.9608, 0.9262, 0.1344],\n",
    "[0.9618, 0.932, 0.1304],\n",
    "[0.9629, 0.9379, 0.1261],\n",
    "[0.9642, 0.9437, 0.1216],\n",
    "[0.9657, 0.9494, 0.1168],\n",
    "[0.9674, 0.9552, 0.1116],\n",
    "[0.9692, 0.9609, 0.1061],\n",
    "[0.9711, 0.9667, 0.1001],\n",
    "[0.973, 0.9724, 0.0938],\n",
    "[0.9749, 0.9782, 0.0872],\n",
    "[0.9769, 0.9839, 0.0805]]\n",
    "\n",
    "parula_map = LinearSegmentedColormap.from_list('parula', parula_data)"
   ]
  },
  {
   "cell_type": "code",
   "execution_count": 15,
   "metadata": {},
   "outputs": [],
   "source": [
    "from mpl_toolkits.axes_grid1 import make_axes_locatable\n",
    "\n",
    "def chan_disp(data, chan_map, title, label, figsize=(8, 6), cbar_lower=None, cbar_upper=None, cmap=None):\n",
    "\n",
    "    mean_val = np.nanmean(data)\n",
    "    std_val = np.nanstd(data)\n",
    "    std_mult = 3\n",
    "    # clim = [max(0, mean_val - std_mult*std_val), mean_val + std_mult*std_val]\n",
    "    if cbar_lower is None:\n",
    "        cbar_lower = mean_val - std_mult*std_val\n",
    "    if cbar_upper is None:\n",
    "        cbar_upper = mean_val + std_mult*std_val\n",
    "    clim = [cbar_lower, cbar_upper]\n",
    "\n",
    "    if cmap is None:\n",
    "        cmap = parula_map\n",
    "\n",
    "    chan_data = np.array([data[int(i)] if not np.isnan(i) else np.nan for i in (chan_map.flatten()-1)])\n",
    "    chan_data = chan_data.reshape(chan_map.shape)\n",
    "    f = plt.figure(figsize=figsize)\n",
    "    im = plt.imshow(chan_data, cmap=parula_map)\n",
    "    im.set_clim(clim[0], clim[1])\n",
    "    # plt.gca().invert_yaxis()\n",
    "    # plt.contourf(chan_data, cmap='viridis')\n",
    "    plt.xticks([])\n",
    "    plt.yticks([])\n",
    "    plt.title(title)\n",
    "\n",
    "    divider = make_axes_locatable(plt.gca())\n",
    "    cax = divider.append_axes('right', size='5%', pad=0.05)\n",
    "\n",
    "    cbar = plt.colorbar(im, cax=cax)\n",
    "    cbar.set_label(label)\n",
    "    \n",
    "    plt.show()\n",
    "\n",
    "def chan_disp_seq(data, chan_map, t, t_ranges, labs, title, label, figsize=(3, 6), cbar_pos=[0.81, 0.56, 0.01, 0.3], sup_pos=0.95, cbar_lower=None, cbar_upper=None):\n",
    "    f, tot_axs = plt.subplots(len(labs), len(t_ranges), figsize=(figsize[0]*len(t_ranges), figsize[1]*len(labs)))\n",
    "\n",
    "    if len(labs) == 1:\n",
    "        tot_axs = tot_axs[np.newaxis,:]\n",
    "\n",
    "    mean_val = np.nanmean(data)\n",
    "    std_val = np.nanstd(data)\n",
    "    std_mult = 3\n",
    "    # clim = [max(0, mean_val - std_mult*std_val), mean_val + std_mult*std_val]\n",
    "    if cbar_lower is None:\n",
    "        cbar_lower = mean_val - std_mult*std_val\n",
    "    if cbar_upper is None:\n",
    "        cbar_upper = mean_val + std_mult*std_val\n",
    "    clim = [cbar_lower, cbar_upper]\n",
    "\n",
    "    for j, lab in enumerate(labs):\n",
    "        lab_data = data[j]\n",
    "        axs = tot_axs[j]\n",
    "        for i, t_range in enumerate(t_ranges):\n",
    "            t_inds = np.where((t >= t_range[0]) & (t < t_range[1]))[0]\n",
    "            chan_data = np.array([lab_data[t_inds,:].mean(axis=0)[int(k)] if not np.isnan(k) else np.nan for k in (chan_map.flatten()-1)])\n",
    "            chan_data = chan_data.reshape(chan_map.shape)\n",
    "            im = axs[i].imshow(chan_data, cmap=parula_map)\n",
    "            im.set_clim(clim[0], clim[1])\n",
    "            if i==0:\n",
    "                axs[i].set_ylabel(lab)\n",
    "            if j==0:\n",
    "                axs[i].set_title(f'{t_range[0]} -> {t_range[1]}s')\n",
    "            axs[i].set_xticks([])\n",
    "            axs[i].set_yticks([])\n",
    "            \n",
    "\n",
    "        # divider = make_axes_locatable(plt.gca())\n",
    "        # cax = divider.append_axes('right', size='5%', pad=0.05)\n",
    "\n",
    "        # cbar = plt.colorbar(im, cax=cax)\n",
    "        \n",
    "        # cbar.set_label(label)\n",
    "    f.subplots_adjust(right=0.8)\n",
    "    cbar_ax = f.add_axes(cbar_pos)\n",
    "    cbar = f.colorbar(im, cax=cbar_ax)\n",
    "    cbar.set_label(label)\n",
    "\n",
    "    # f.tight_layout(rect=[0, 0.03, 1, 0.95])\n",
    "    f.suptitle(title, y=sup_pos)\n",
    "    plt.show()"
   ]
  },
  {
   "cell_type": "code",
   "execution_count": 16,
   "metadata": {},
   "outputs": [],
   "source": [
    "def rgb2hex(r,g,b):\n",
    "    return \"#{:02x}{:02x}{:02x}\".format(r,g,b)"
   ]
  },
  {
   "cell_type": "code",
   "execution_count": 17,
   "metadata": {},
   "outputs": [],
   "source": [
    "def get_ci_data(ax):\n",
    "    paths = [child for child in ax.get_children() if isinstance(child, mpl.collections.PolyCollection)]\n",
    "    ci_data = []\n",
    "    for path in paths:\n",
    "        vertices = path.get_paths()[0].vertices  # Array of shape (n, 2)\n",
    "\n",
    "        # ci y coords - contains lower bounds then upper bounds in 1D array\n",
    "        ci_vals_tot = vertices[:-1, 1]\n",
    "\n",
    "        ci_vals = np.zeros((200, 2))\n",
    "        ci_vals[:,0] = ci_vals_tot[1:201]\n",
    "        ci_vals[:,1] = ci_vals_tot[201:-1]\n",
    "        ci_vals[:,1] = ci_vals[:,1][::-1] # reverse the order of the second half\n",
    "        ci_data.append(ci_vals)\n",
    "        \n",
    "    return ci_data"
   ]
  },
  {
   "cell_type": "markdown",
   "metadata": {},
   "source": [
    "### Panel f"
   ]
  },
  {
   "cell_type": "code",
   "execution_count": 18,
   "metadata": {},
   "outputs": [],
   "source": [
    "align_pt = 'S14'\n",
    "align_pt_ind = pt_names.index(align_pt)\n",
    "\n",
    "# setup CCA aligners for each condition and patient\n",
    "aligners = {}\n",
    "aligners_artic = {}\n",
    "aligners_cv = {}\n",
    "aligners_shuffle = {}\n",
    "for i, pt in enumerate(pt_names):\n",
    "    if i == align_pt_ind:\n",
    "        continue\n",
    "    aligners[pt] = AlignCCA()\n",
    "    aligners_shuffle[pt] = AlignCCA()\n",
    "    aligners_artic[pt] = AlignCCA()\n",
    "    aligners_cv[pt] = AlignCCA()\n",
    "\n",
    "# get patient-specific latent dynamics with PCA on channels\n",
    "to_align = [PCA(n_components=0.9).fit_transform(all_pt_traces[pt].reshape(-1, all_pt_traces[pt].shape[-1])) for pt in pt_names]\n",
    "to_align = [to_align[i].reshape(all_pt_traces[pt].shape[0], all_pt_traces[pt].shape[1], -1) for i, pt in enumerate(pt_names)]\n",
    "\n",
    "# align patient-specific latent dynamics\n",
    "aligned_data = {}\n",
    "aligned_data_shuffle = {}\n",
    "aligned_data_artic = {}\n",
    "aligned_data_cv = {}\n",
    "\n",
    "# aligning all patients to a single patient's space, so the align patient's latent dynamics are un-transformed\n",
    "aligned_data[pt_names[align_pt_ind]] = to_align[align_pt_ind]\n",
    "aligned_data_shuffle[pt_names[align_pt_ind]] = to_align[align_pt_ind]\n",
    "aligned_data_artic[pt_names[align_pt_ind]] = to_align[align_pt_ind]\n",
    "aligned_data_cv[pt_names[align_pt_ind]] = to_align[align_pt_ind]\n",
    "for i, pt in enumerate(pt_names):\n",
    "    if i == align_pt_ind:\n",
    "        continue\n",
    "    \n",
    "    # align by phoneme sequence\n",
    "    to_align_seqs = [all_pt_phon_seqs[pt_names[align_pt_ind]], all_pt_phon_seqs[pt]]\n",
    "    aligners[pt].fit(to_align[align_pt_ind], to_align[i], to_align_seqs[0], to_align_seqs[1])\n",
    "    aligned_data[pt] = aligners[pt].transform(to_align[i])\n",
    "\n",
    "    # align by shuffled phoneme sequence\n",
    "    to_align_seqs_shuffle = [all_pt_phon_seqs[pt_names[align_pt_ind]], np.random.permutation(all_pt_phon_seqs[pt])]\n",
    "    aligners_shuffle[pt].fit(to_align[align_pt_ind], to_align[i], to_align_seqs_shuffle[0], to_align_seqs_shuffle[1])\n",
    "    aligned_data_shuffle[pt] = aligners_shuffle[pt].transform(to_align[i])"
   ]
  },
  {
   "cell_type": "code",
   "execution_count": 19,
   "metadata": {},
   "outputs": [],
   "source": [
    "def pt_corr(target, to_corr, target_labels, to_corr_labels, n_comp=25, t_range=[-0.25, 0.25]):\n",
    "    min_dim = np.min([target.shape[-1], to_corr.shape[-1], n_comp])\n",
    "    # get data only around speech onset\n",
    "    t_inds = np.where((t >= t_range[0]) & (t < t_range[1]))[0]\n",
    "    target = target[:, t_inds]\n",
    "    to_corr = to_corr[:, t_inds]\n",
    "    cnd_avg_data = utils.extract_group_conditions([target, to_corr], [target_labels, to_corr_labels])\n",
    "    n_cnds = cnd_avg_data[0].shape[0]\n",
    "    cnd_r = np.zeros(n_cnds)\n",
    "    for i in range(cnd_avg_data[0].shape[0]):\n",
    "        target_avg = cnd_avg_data[0][i,:,:min_dim]\n",
    "        to_corr_avg = cnd_avg_data[1][i,:,:min_dim]\n",
    "\n",
    "        r_vals = np.zeros(min_dim)\n",
    "        for j in range(min_dim):\n",
    "            r_vals[j] = stats.pearsonr(target_avg[:,j], to_corr_avg[:,j])[0]\n",
    "        cnd_r[i] = np.mean(r_vals)\n",
    "    return cnd_r\n",
    "\n",
    "def pt_corr_multi(target, to_corr_list, target_labels, to_corr_labels_list, n_comp=25, t_range=[-0.25, 0.25]):\n",
    "    cnd_r = []\n",
    "    for i, to_corr in enumerate(to_corr_list):\n",
    "        cnd_r.append(pt_corr(target, to_corr, target_labels, to_corr_labels_list[i], n_comp=n_comp, t_range=t_range))\n",
    "    return cnd_r"
   ]
  },
  {
   "cell_type": "code",
   "execution_count": 20,
   "metadata": {},
   "outputs": [],
   "source": [
    "n_comp_corr = 10\n",
    "\n",
    "other_pts = [pt for pt in pt_names if pt != align_pt]\n",
    "unalign_corrs = pt_corr_multi(to_align[align_pt_ind], [to_align[pt_names.index(pt)] for pt in other_pts], all_pt_artic_labels[align_pt], [all_pt_artic_labels[pt] for pt in other_pts], n_comp=n_comp_corr)\n",
    "align_corrs = pt_corr_multi(aligned_data[align_pt], [aligned_data[pt] for pt in other_pts], all_pt_artic_labels[align_pt], [all_pt_artic_labels[pt] for pt in other_pts], n_comp=n_comp_corr)\n",
    "shuff_corrs = pt_corr_multi(aligned_data_shuffle[align_pt], [aligned_data_shuffle[pt] for pt in other_pts], all_pt_artic_labels[align_pt], [all_pt_artic_labels[pt] for pt in other_pts], n_comp=n_comp_corr)"
   ]
  },
  {
   "cell_type": "code",
   "execution_count": null,
   "metadata": {},
   "outputs": [],
   "source": [
    "# combine unaligned and aligned correlations in dataframe for plotting\n",
    "corr_df = pd.DataFrame()\n",
    "corr_df_mean = pd.DataFrame()\n",
    "for i, pt in enumerate(other_pts):\n",
    "    curr_pt = pt\n",
    "    pt_unalign_corr = pd.DataFrame({'Correlation': unalign_corrs[i]})\n",
    "    pt_unalign_corr['Condition'] = 'Unaligned'\n",
    "    pt_unalign_corr['Patient'] = curr_pt\n",
    "\n",
    "    pt_align_corr = pd.DataFrame({'Correlation': align_corrs[i]})\n",
    "    pt_align_corr['Condition'] = 'Phoneme-aligned'\n",
    "    pt_align_corr['Patient'] = curr_pt\n",
    "\n",
    "    pt_align_corr_shuff = pd.DataFrame({'Correlation': shuff_corrs[i]})\n",
    "    pt_align_corr_shuff['Condition'] = 'Aligned to S1 - Shuffled'\n",
    "    pt_align_corr_shuff['Patient'] = curr_pt\n",
    "\n",
    "    corr_df_mean = pd.concat([corr_df_mean, pd.DataFrame({'Correlation': [np.mean(unalign_corrs[i]), np.mean(align_corrs[i]), np.mean(shuff_corrs[i])],\n",
    "                                                          'Condition': ['Unaligned', f'Aligned to S1', f'Aligned to S1 - Shuffled'],\n",
    "                                                          'Patient': [curr_pt, curr_pt, curr_pt], 'Order': [0,1,2],})], ignore_index=True)\n",
    "    corr_df = pd.concat([corr_df, pt_unalign_corr, pt_align_corr, pt_align_corr_shuff], ignore_index=True) \n",
    "\n",
    "    # corr_df_mean = pd.concat([corr_df_mean, pd.DataFrame({'Correlation': [np.mean(unalign_corrs[i]), np.mean(align_corrs[i])],\n",
    "    #                                                       'Condition': ['Unaligned', f'Aligned to S1'],\n",
    "    #                                                       'Patient': [curr_pt, curr_pt], 'Order': [0,1],})], ignore_index=True)\n",
    "    # corr_df = pd.concat([corr_df, pt_unalign_corr, pt_align_corr], ignore_index=True) \n",
    "\n",
    "corr_df_mean['Patient'] = corr_df_mean['Patient'].apply(lambda x: paper_pt_dict[x])\n",
    "corr_df_mean = corr_df_mean.sort_values(by=['Patient', 'Order'])"
   ]
  },
  {
   "cell_type": "code",
   "execution_count": 22,
   "metadata": {},
   "outputs": [
    {
     "data": {
      "application/vnd.microsoft.datawrangler.viewer.v0+json": {
       "columns": [
        {
         "name": "index",
         "rawType": "int64",
         "type": "integer"
        },
        {
         "name": "Correlation",
         "rawType": "float64",
         "type": "float"
        },
        {
         "name": "Condition",
         "rawType": "object",
         "type": "string"
        },
        {
         "name": "Patient",
         "rawType": "object",
         "type": "string"
        },
        {
         "name": "Order",
         "rawType": "int64",
         "type": "integer"
        }
       ],
       "conversionMethod": "pd.DataFrame",
       "ref": "3a2f4b1f-6cb2-45c4-b1d2-a28dc7b5dc2f",
       "rows": [
        [
         "0",
         "0.019181231533949697",
         "Unaligned",
         "S2",
         "0"
        ],
        [
         "1",
         "0.5057316244644773",
         "Aligned to S1",
         "S2",
         "1"
        ],
        [
         "4",
         "0.035535240681927704",
         "Unaligned",
         "S3",
         "0"
        ],
        [
         "5",
         "0.506029532814469",
         "Aligned to S1",
         "S3",
         "1"
        ],
        [
         "6",
         "-0.0010281348605540655",
         "Unaligned",
         "S4",
         "0"
        ],
        [
         "7",
         "0.34864181228724916",
         "Aligned to S1",
         "S4",
         "1"
        ],
        [
         "2",
         "0.11543417901154386",
         "Unaligned",
         "S5",
         "0"
        ],
        [
         "3",
         "0.26541756579323794",
         "Aligned to S1",
         "S5",
         "1"
        ],
        [
         "8",
         "0.17294249245029472",
         "Unaligned",
         "S6",
         "0"
        ],
        [
         "9",
         "0.4148866022481744",
         "Aligned to S1",
         "S6",
         "1"
        ],
        [
         "10",
         "0.0006694836785045627",
         "Unaligned",
         "S7",
         "0"
        ],
        [
         "11",
         "0.4285594473241313",
         "Aligned to S1",
         "S7",
         "1"
        ],
        [
         "12",
         "-0.012874361749320724",
         "Unaligned",
         "S8",
         "0"
        ],
        [
         "13",
         "0.5472529036738689",
         "Aligned to S1",
         "S8",
         "1"
        ]
       ],
       "shape": {
        "columns": 4,
        "rows": 14
       }
      },
      "text/html": [
       "<div>\n",
       "<style scoped>\n",
       "    .dataframe tbody tr th:only-of-type {\n",
       "        vertical-align: middle;\n",
       "    }\n",
       "\n",
       "    .dataframe tbody tr th {\n",
       "        vertical-align: top;\n",
       "    }\n",
       "\n",
       "    .dataframe thead th {\n",
       "        text-align: right;\n",
       "    }\n",
       "</style>\n",
       "<table border=\"1\" class=\"dataframe\">\n",
       "  <thead>\n",
       "    <tr style=\"text-align: right;\">\n",
       "      <th></th>\n",
       "      <th>Correlation</th>\n",
       "      <th>Condition</th>\n",
       "      <th>Patient</th>\n",
       "      <th>Order</th>\n",
       "    </tr>\n",
       "  </thead>\n",
       "  <tbody>\n",
       "    <tr>\n",
       "      <th>0</th>\n",
       "      <td>0.019181</td>\n",
       "      <td>Unaligned</td>\n",
       "      <td>S2</td>\n",
       "      <td>0</td>\n",
       "    </tr>\n",
       "    <tr>\n",
       "      <th>1</th>\n",
       "      <td>0.505732</td>\n",
       "      <td>Aligned to S1</td>\n",
       "      <td>S2</td>\n",
       "      <td>1</td>\n",
       "    </tr>\n",
       "    <tr>\n",
       "      <th>4</th>\n",
       "      <td>0.035535</td>\n",
       "      <td>Unaligned</td>\n",
       "      <td>S3</td>\n",
       "      <td>0</td>\n",
       "    </tr>\n",
       "    <tr>\n",
       "      <th>5</th>\n",
       "      <td>0.506030</td>\n",
       "      <td>Aligned to S1</td>\n",
       "      <td>S3</td>\n",
       "      <td>1</td>\n",
       "    </tr>\n",
       "    <tr>\n",
       "      <th>6</th>\n",
       "      <td>-0.001028</td>\n",
       "      <td>Unaligned</td>\n",
       "      <td>S4</td>\n",
       "      <td>0</td>\n",
       "    </tr>\n",
       "    <tr>\n",
       "      <th>7</th>\n",
       "      <td>0.348642</td>\n",
       "      <td>Aligned to S1</td>\n",
       "      <td>S4</td>\n",
       "      <td>1</td>\n",
       "    </tr>\n",
       "    <tr>\n",
       "      <th>2</th>\n",
       "      <td>0.115434</td>\n",
       "      <td>Unaligned</td>\n",
       "      <td>S5</td>\n",
       "      <td>0</td>\n",
       "    </tr>\n",
       "    <tr>\n",
       "      <th>3</th>\n",
       "      <td>0.265418</td>\n",
       "      <td>Aligned to S1</td>\n",
       "      <td>S5</td>\n",
       "      <td>1</td>\n",
       "    </tr>\n",
       "    <tr>\n",
       "      <th>8</th>\n",
       "      <td>0.172942</td>\n",
       "      <td>Unaligned</td>\n",
       "      <td>S6</td>\n",
       "      <td>0</td>\n",
       "    </tr>\n",
       "    <tr>\n",
       "      <th>9</th>\n",
       "      <td>0.414887</td>\n",
       "      <td>Aligned to S1</td>\n",
       "      <td>S6</td>\n",
       "      <td>1</td>\n",
       "    </tr>\n",
       "    <tr>\n",
       "      <th>10</th>\n",
       "      <td>0.000669</td>\n",
       "      <td>Unaligned</td>\n",
       "      <td>S7</td>\n",
       "      <td>0</td>\n",
       "    </tr>\n",
       "    <tr>\n",
       "      <th>11</th>\n",
       "      <td>0.428559</td>\n",
       "      <td>Aligned to S1</td>\n",
       "      <td>S7</td>\n",
       "      <td>1</td>\n",
       "    </tr>\n",
       "    <tr>\n",
       "      <th>12</th>\n",
       "      <td>-0.012874</td>\n",
       "      <td>Unaligned</td>\n",
       "      <td>S8</td>\n",
       "      <td>0</td>\n",
       "    </tr>\n",
       "    <tr>\n",
       "      <th>13</th>\n",
       "      <td>0.547253</td>\n",
       "      <td>Aligned to S1</td>\n",
       "      <td>S8</td>\n",
       "      <td>1</td>\n",
       "    </tr>\n",
       "  </tbody>\n",
       "</table>\n",
       "</div>"
      ],
      "text/plain": [
       "    Correlation      Condition Patient  Order\n",
       "0      0.019181      Unaligned      S2      0\n",
       "1      0.505732  Aligned to S1      S2      1\n",
       "4      0.035535      Unaligned      S3      0\n",
       "5      0.506030  Aligned to S1      S3      1\n",
       "6     -0.001028      Unaligned      S4      0\n",
       "7      0.348642  Aligned to S1      S4      1\n",
       "2      0.115434      Unaligned      S5      0\n",
       "3      0.265418  Aligned to S1      S5      1\n",
       "8      0.172942      Unaligned      S6      0\n",
       "9      0.414887  Aligned to S1      S6      1\n",
       "10     0.000669      Unaligned      S7      0\n",
       "11     0.428559  Aligned to S1      S7      1\n",
       "12    -0.012874      Unaligned      S8      0\n",
       "13     0.547253  Aligned to S1      S8      1"
      ]
     },
     "execution_count": 22,
     "metadata": {},
     "output_type": "execute_result"
    }
   ],
   "source": [
    "corr_df_mean"
   ]
  },
  {
   "cell_type": "code",
   "execution_count": 24,
   "metadata": {},
   "outputs": [
    {
     "data": {
      "application/vnd.plotly.v1+json": {
       "config": {
        "plotlyServerURL": "https://plot.ly"
       },
       "data": [
        {
         "hovertemplate": "Patient=S2<br>Condition=%{x}<br>Correlation=%{y}<extra></extra>",
         "legendgroup": "S2",
         "line": {
          "color": "#EF553B",
          "dash": "solid"
         },
         "marker": {
          "symbol": "circle"
         },
         "mode": "lines",
         "name": "S2",
         "orientation": "v",
         "showlegend": true,
         "type": "scatter",
         "x": [
          "Unaligned",
          "Aligned",
          "Shuffled"
         ],
         "xaxis": "x",
         "y": {
          "bdata": "wkaMsD6kkz9IQTQW9C7gP6fp1BGXTtg/",
          "dtype": "f8"
         },
         "yaxis": "y"
        },
        {
         "hovertemplate": "Patient=S5<br>Condition=%{x}<br>Correlation=%{y}<extra></extra>",
         "legendgroup": "S5",
         "line": {
          "color": "#00CC96",
          "dash": "solid"
         },
         "marker": {
          "symbol": "circle"
         },
         "mode": "lines",
         "name": "S5",
         "orientation": "v",
         "showlegend": true,
         "type": "scatter",
         "x": [
          "Unaligned",
          "Aligned",
          "Shuffled"
         ],
         "xaxis": "x",
         "y": {
          "bdata": "GaXm06wxoj/kceHYZDHgP+u83BNj2tA/",
          "dtype": "f8"
         },
         "yaxis": "y"
        },
        {
         "hovertemplate": "Patient=S3<br>Condition=%{x}<br>Correlation=%{y}<extra></extra>",
         "legendgroup": "S3",
         "line": {
          "color": "#AB63FA",
          "dash": "solid"
         },
         "marker": {
          "symbol": "circle"
         },
         "mode": "lines",
         "name": "S3",
         "orientation": "v",
         "showlegend": true,
         "type": "scatter",
         "x": [
          "Unaligned",
          "Aligned",
          "Shuffled"
         ],
         "xaxis": "x",
         "y": {
          "bdata": "QhrbjE/YUL86uSO/JVDWP7dfX2can9M/",
          "dtype": "f8"
         },
         "yaxis": "y"
        },
        {
         "hovertemplate": "Patient=S4<br>Condition=%{x}<br>Correlation=%{y}<extra></extra>",
         "legendgroup": "S4",
         "line": {
          "color": "#FFA15A",
          "dash": "solid"
         },
         "marker": {
          "symbol": "circle"
         },
         "mode": "lines",
         "name": "S4",
         "orientation": "v",
         "showlegend": true,
         "type": "scatter",
         "x": [
          "Unaligned",
          "Aligned",
          "Shuffled"
         ],
         "xaxis": "x",
         "y": {
          "bdata": "skalJxiNvT9AQHD1mfzQP2bmwnsgj8w/",
          "dtype": "f8"
         },
         "yaxis": "y"
        },
        {
         "hovertemplate": "Patient=S6<br>Condition=%{x}<br>Correlation=%{y}<extra></extra>",
         "legendgroup": "S6",
         "line": {
          "color": "#19D3F3",
          "dash": "solid"
         },
         "marker": {
          "symbol": "circle"
         },
         "mode": "lines",
         "name": "S6",
         "orientation": "v",
         "showlegend": true,
         "type": "scatter",
         "x": [
          "Unaligned",
          "Aligned",
          "Shuffled"
         ],
         "xaxis": "x",
         "y": {
          "bdata": "aEedxfoixj9N3siIgI3aP+CsYNIabtQ/",
          "dtype": "f8"
         },
         "yaxis": "y"
        },
        {
         "hovertemplate": "Patient=S7<br>Condition=%{x}<br>Correlation=%{y}<extra></extra>",
         "legendgroup": "S7",
         "line": {
          "color": "#FF6692",
          "dash": "solid"
         },
         "marker": {
          "symbol": "circle"
         },
         "mode": "lines",
         "name": "S7",
         "orientation": "v",
         "showlegend": true,
         "type": "scatter",
         "x": [
          "Unaligned",
          "Aligned",
          "Shuffled"
         ],
         "xaxis": "x",
         "y": {
          "bdata": "ExRO8QnwRT8ncFCahG3bP/TVMnJGL9c/",
          "dtype": "f8"
         },
         "yaxis": "y"
        },
        {
         "hovertemplate": "Patient=S8<br>Condition=%{x}<br>Correlation=%{y}<extra></extra>",
         "legendgroup": "S8",
         "line": {
          "color": "#B6E880",
          "dash": "solid"
         },
         "marker": {
          "symbol": "circle"
         },
         "mode": "lines",
         "name": "S8",
         "orientation": "v",
         "showlegend": true,
         "type": "scatter",
         "x": [
          "Unaligned",
          "Aligned",
          "Shuffled"
         ],
         "xaxis": "x",
         "y": {
          "bdata": "cJT5nd9dir/cRaqFGIPhP+4EFwWj7dY/",
          "dtype": "f8"
         },
         "yaxis": "y"
        },
        {
         "alignmentgroup": "True",
         "hovertemplate": "Condition=%{x}<br>Correlation=%{y}<extra></extra>",
         "legendgroup": "",
         "marker": {
          "color": "#636efa"
         },
         "name": "",
         "notched": false,
         "offsetgroup": "",
         "orientation": "v",
         "showlegend": false,
         "type": "box",
         "x": [
          "Unaligned",
          "Unaligned",
          "Unaligned",
          "Unaligned",
          "Unaligned",
          "Unaligned",
          "Unaligned",
          "Aligned",
          "Aligned",
          "Aligned",
          "Aligned",
          "Aligned",
          "Aligned",
          "Aligned",
          "Shuffled",
          "Shuffled",
          "Shuffled",
          "Shuffled",
          "Shuffled",
          "Shuffled",
          "Shuffled"
         ],
         "x0": " ",
         "xaxis": "x",
         "y": {
          "bdata": "wkaMsD6kkz8ZpebTrDGiP0Ia24xP2FC/skalJxiNvT9oR53F+iLGPxMUTvEJ8EU/cJT5nd9dir9IQTQW9C7gP+Rx4dhkMeA/OrkjvyVQ1j9AQHD1mfzQP03eyIiAjdo/J3BQmoRt2z/cRaqFGIPhP6fp1BGXTtg/67zcE2Pa0D+3X19nGp/TP2bmwnsgj8w/4Kxg0hpu1D/01TJyRi/XP+4EFwWj7dY/",
          "dtype": "f8"
         },
         "y0": " ",
         "yaxis": "y"
        }
       ],
       "layout": {
        "font": {
         "family": "Arial",
         "size": 18
        },
        "height": 500,
        "legend": {
         "orientation": "h",
         "title": {
          "text": ""
         },
         "tracegroupgap": 0,
         "x": 0.02,
         "xanchor": "left",
         "y": 0.98,
         "yanchor": "top"
        },
        "margin": {
         "t": 60
        },
        "plot_bgcolor": "white",
        "template": {
         "data": {
          "bar": [
           {
            "error_x": {
             "color": "#2a3f5f"
            },
            "error_y": {
             "color": "#2a3f5f"
            },
            "marker": {
             "line": {
              "color": "#E5ECF6",
              "width": 0.5
             },
             "pattern": {
              "fillmode": "overlay",
              "size": 10,
              "solidity": 0.2
             }
            },
            "type": "bar"
           }
          ],
          "barpolar": [
           {
            "marker": {
             "line": {
              "color": "#E5ECF6",
              "width": 0.5
             },
             "pattern": {
              "fillmode": "overlay",
              "size": 10,
              "solidity": 0.2
             }
            },
            "type": "barpolar"
           }
          ],
          "carpet": [
           {
            "aaxis": {
             "endlinecolor": "#2a3f5f",
             "gridcolor": "white",
             "linecolor": "white",
             "minorgridcolor": "white",
             "startlinecolor": "#2a3f5f"
            },
            "baxis": {
             "endlinecolor": "#2a3f5f",
             "gridcolor": "white",
             "linecolor": "white",
             "minorgridcolor": "white",
             "startlinecolor": "#2a3f5f"
            },
            "type": "carpet"
           }
          ],
          "choropleth": [
           {
            "colorbar": {
             "outlinewidth": 0,
             "ticks": ""
            },
            "type": "choropleth"
           }
          ],
          "contour": [
           {
            "colorbar": {
             "outlinewidth": 0,
             "ticks": ""
            },
            "colorscale": [
             [
              0,
              "#0d0887"
             ],
             [
              0.1111111111111111,
              "#46039f"
             ],
             [
              0.2222222222222222,
              "#7201a8"
             ],
             [
              0.3333333333333333,
              "#9c179e"
             ],
             [
              0.4444444444444444,
              "#bd3786"
             ],
             [
              0.5555555555555556,
              "#d8576b"
             ],
             [
              0.6666666666666666,
              "#ed7953"
             ],
             [
              0.7777777777777778,
              "#fb9f3a"
             ],
             [
              0.8888888888888888,
              "#fdca26"
             ],
             [
              1,
              "#f0f921"
             ]
            ],
            "type": "contour"
           }
          ],
          "contourcarpet": [
           {
            "colorbar": {
             "outlinewidth": 0,
             "ticks": ""
            },
            "type": "contourcarpet"
           }
          ],
          "heatmap": [
           {
            "colorbar": {
             "outlinewidth": 0,
             "ticks": ""
            },
            "colorscale": [
             [
              0,
              "#0d0887"
             ],
             [
              0.1111111111111111,
              "#46039f"
             ],
             [
              0.2222222222222222,
              "#7201a8"
             ],
             [
              0.3333333333333333,
              "#9c179e"
             ],
             [
              0.4444444444444444,
              "#bd3786"
             ],
             [
              0.5555555555555556,
              "#d8576b"
             ],
             [
              0.6666666666666666,
              "#ed7953"
             ],
             [
              0.7777777777777778,
              "#fb9f3a"
             ],
             [
              0.8888888888888888,
              "#fdca26"
             ],
             [
              1,
              "#f0f921"
             ]
            ],
            "type": "heatmap"
           }
          ],
          "histogram": [
           {
            "marker": {
             "pattern": {
              "fillmode": "overlay",
              "size": 10,
              "solidity": 0.2
             }
            },
            "type": "histogram"
           }
          ],
          "histogram2d": [
           {
            "colorbar": {
             "outlinewidth": 0,
             "ticks": ""
            },
            "colorscale": [
             [
              0,
              "#0d0887"
             ],
             [
              0.1111111111111111,
              "#46039f"
             ],
             [
              0.2222222222222222,
              "#7201a8"
             ],
             [
              0.3333333333333333,
              "#9c179e"
             ],
             [
              0.4444444444444444,
              "#bd3786"
             ],
             [
              0.5555555555555556,
              "#d8576b"
             ],
             [
              0.6666666666666666,
              "#ed7953"
             ],
             [
              0.7777777777777778,
              "#fb9f3a"
             ],
             [
              0.8888888888888888,
              "#fdca26"
             ],
             [
              1,
              "#f0f921"
             ]
            ],
            "type": "histogram2d"
           }
          ],
          "histogram2dcontour": [
           {
            "colorbar": {
             "outlinewidth": 0,
             "ticks": ""
            },
            "colorscale": [
             [
              0,
              "#0d0887"
             ],
             [
              0.1111111111111111,
              "#46039f"
             ],
             [
              0.2222222222222222,
              "#7201a8"
             ],
             [
              0.3333333333333333,
              "#9c179e"
             ],
             [
              0.4444444444444444,
              "#bd3786"
             ],
             [
              0.5555555555555556,
              "#d8576b"
             ],
             [
              0.6666666666666666,
              "#ed7953"
             ],
             [
              0.7777777777777778,
              "#fb9f3a"
             ],
             [
              0.8888888888888888,
              "#fdca26"
             ],
             [
              1,
              "#f0f921"
             ]
            ],
            "type": "histogram2dcontour"
           }
          ],
          "mesh3d": [
           {
            "colorbar": {
             "outlinewidth": 0,
             "ticks": ""
            },
            "type": "mesh3d"
           }
          ],
          "parcoords": [
           {
            "line": {
             "colorbar": {
              "outlinewidth": 0,
              "ticks": ""
             }
            },
            "type": "parcoords"
           }
          ],
          "pie": [
           {
            "automargin": true,
            "type": "pie"
           }
          ],
          "scatter": [
           {
            "fillpattern": {
             "fillmode": "overlay",
             "size": 10,
             "solidity": 0.2
            },
            "type": "scatter"
           }
          ],
          "scatter3d": [
           {
            "line": {
             "colorbar": {
              "outlinewidth": 0,
              "ticks": ""
             }
            },
            "marker": {
             "colorbar": {
              "outlinewidth": 0,
              "ticks": ""
             }
            },
            "type": "scatter3d"
           }
          ],
          "scattercarpet": [
           {
            "marker": {
             "colorbar": {
              "outlinewidth": 0,
              "ticks": ""
             }
            },
            "type": "scattercarpet"
           }
          ],
          "scattergeo": [
           {
            "marker": {
             "colorbar": {
              "outlinewidth": 0,
              "ticks": ""
             }
            },
            "type": "scattergeo"
           }
          ],
          "scattergl": [
           {
            "marker": {
             "colorbar": {
              "outlinewidth": 0,
              "ticks": ""
             }
            },
            "type": "scattergl"
           }
          ],
          "scattermap": [
           {
            "marker": {
             "colorbar": {
              "outlinewidth": 0,
              "ticks": ""
             }
            },
            "type": "scattermap"
           }
          ],
          "scattermapbox": [
           {
            "marker": {
             "colorbar": {
              "outlinewidth": 0,
              "ticks": ""
             }
            },
            "type": "scattermapbox"
           }
          ],
          "scatterpolar": [
           {
            "marker": {
             "colorbar": {
              "outlinewidth": 0,
              "ticks": ""
             }
            },
            "type": "scatterpolar"
           }
          ],
          "scatterpolargl": [
           {
            "marker": {
             "colorbar": {
              "outlinewidth": 0,
              "ticks": ""
             }
            },
            "type": "scatterpolargl"
           }
          ],
          "scatterternary": [
           {
            "marker": {
             "colorbar": {
              "outlinewidth": 0,
              "ticks": ""
             }
            },
            "type": "scatterternary"
           }
          ],
          "surface": [
           {
            "colorbar": {
             "outlinewidth": 0,
             "ticks": ""
            },
            "colorscale": [
             [
              0,
              "#0d0887"
             ],
             [
              0.1111111111111111,
              "#46039f"
             ],
             [
              0.2222222222222222,
              "#7201a8"
             ],
             [
              0.3333333333333333,
              "#9c179e"
             ],
             [
              0.4444444444444444,
              "#bd3786"
             ],
             [
              0.5555555555555556,
              "#d8576b"
             ],
             [
              0.6666666666666666,
              "#ed7953"
             ],
             [
              0.7777777777777778,
              "#fb9f3a"
             ],
             [
              0.8888888888888888,
              "#fdca26"
             ],
             [
              1,
              "#f0f921"
             ]
            ],
            "type": "surface"
           }
          ],
          "table": [
           {
            "cells": {
             "fill": {
              "color": "#EBF0F8"
             },
             "line": {
              "color": "white"
             }
            },
            "header": {
             "fill": {
              "color": "#C8D4E3"
             },
             "line": {
              "color": "white"
             }
            },
            "type": "table"
           }
          ]
         },
         "layout": {
          "annotationdefaults": {
           "arrowcolor": "#2a3f5f",
           "arrowhead": 0,
           "arrowwidth": 1
          },
          "autotypenumbers": "strict",
          "coloraxis": {
           "colorbar": {
            "outlinewidth": 0,
            "ticks": ""
           }
          },
          "colorscale": {
           "diverging": [
            [
             0,
             "#8e0152"
            ],
            [
             0.1,
             "#c51b7d"
            ],
            [
             0.2,
             "#de77ae"
            ],
            [
             0.3,
             "#f1b6da"
            ],
            [
             0.4,
             "#fde0ef"
            ],
            [
             0.5,
             "#f7f7f7"
            ],
            [
             0.6,
             "#e6f5d0"
            ],
            [
             0.7,
             "#b8e186"
            ],
            [
             0.8,
             "#7fbc41"
            ],
            [
             0.9,
             "#4d9221"
            ],
            [
             1,
             "#276419"
            ]
           ],
           "sequential": [
            [
             0,
             "#0d0887"
            ],
            [
             0.1111111111111111,
             "#46039f"
            ],
            [
             0.2222222222222222,
             "#7201a8"
            ],
            [
             0.3333333333333333,
             "#9c179e"
            ],
            [
             0.4444444444444444,
             "#bd3786"
            ],
            [
             0.5555555555555556,
             "#d8576b"
            ],
            [
             0.6666666666666666,
             "#ed7953"
            ],
            [
             0.7777777777777778,
             "#fb9f3a"
            ],
            [
             0.8888888888888888,
             "#fdca26"
            ],
            [
             1,
             "#f0f921"
            ]
           ],
           "sequentialminus": [
            [
             0,
             "#0d0887"
            ],
            [
             0.1111111111111111,
             "#46039f"
            ],
            [
             0.2222222222222222,
             "#7201a8"
            ],
            [
             0.3333333333333333,
             "#9c179e"
            ],
            [
             0.4444444444444444,
             "#bd3786"
            ],
            [
             0.5555555555555556,
             "#d8576b"
            ],
            [
             0.6666666666666666,
             "#ed7953"
            ],
            [
             0.7777777777777778,
             "#fb9f3a"
            ],
            [
             0.8888888888888888,
             "#fdca26"
            ],
            [
             1,
             "#f0f921"
            ]
           ]
          },
          "colorway": [
           "#636efa",
           "#EF553B",
           "#00cc96",
           "#ab63fa",
           "#FFA15A",
           "#19d3f3",
           "#FF6692",
           "#B6E880",
           "#FF97FF",
           "#FECB52"
          ],
          "font": {
           "color": "#2a3f5f"
          },
          "geo": {
           "bgcolor": "white",
           "lakecolor": "white",
           "landcolor": "#E5ECF6",
           "showlakes": true,
           "showland": true,
           "subunitcolor": "white"
          },
          "hoverlabel": {
           "align": "left"
          },
          "hovermode": "closest",
          "mapbox": {
           "style": "light"
          },
          "paper_bgcolor": "white",
          "plot_bgcolor": "#E5ECF6",
          "polar": {
           "angularaxis": {
            "gridcolor": "white",
            "linecolor": "white",
            "ticks": ""
           },
           "bgcolor": "#E5ECF6",
           "radialaxis": {
            "gridcolor": "white",
            "linecolor": "white",
            "ticks": ""
           }
          },
          "scene": {
           "xaxis": {
            "backgroundcolor": "#E5ECF6",
            "gridcolor": "white",
            "gridwidth": 2,
            "linecolor": "white",
            "showbackground": true,
            "ticks": "",
            "zerolinecolor": "white"
           },
           "yaxis": {
            "backgroundcolor": "#E5ECF6",
            "gridcolor": "white",
            "gridwidth": 2,
            "linecolor": "white",
            "showbackground": true,
            "ticks": "",
            "zerolinecolor": "white"
           },
           "zaxis": {
            "backgroundcolor": "#E5ECF6",
            "gridcolor": "white",
            "gridwidth": 2,
            "linecolor": "white",
            "showbackground": true,
            "ticks": "",
            "zerolinecolor": "white"
           }
          },
          "shapedefaults": {
           "line": {
            "color": "#2a3f5f"
           }
          },
          "ternary": {
           "aaxis": {
            "gridcolor": "white",
            "linecolor": "white",
            "ticks": ""
           },
           "baxis": {
            "gridcolor": "white",
            "linecolor": "white",
            "ticks": ""
           },
           "bgcolor": "#E5ECF6",
           "caxis": {
            "gridcolor": "white",
            "linecolor": "white",
            "ticks": ""
           }
          },
          "title": {
           "x": 0.05
          },
          "xaxis": {
           "automargin": true,
           "gridcolor": "white",
           "linecolor": "white",
           "ticks": "",
           "title": {
            "standoff": 15
           },
           "zerolinecolor": "white",
           "zerolinewidth": 2
          },
          "yaxis": {
           "automargin": true,
           "gridcolor": "white",
           "linecolor": "white",
           "ticks": "",
           "title": {
            "standoff": 15
           },
           "zerolinecolor": "white",
           "zerolinewidth": 2
          }
         }
        },
        "title": {
         "text": "Correlation with S1 Latent Dynamics",
         "x": 0.5
        },
        "width": 800,
        "xaxis": {
         "anchor": "y",
         "domain": [
          0,
          1
         ],
         "linecolor": "black",
         "mirror": false,
         "showgrid": false,
         "showline": true,
         "ticks": "outside",
         "title": {
          "text": ""
         }
        },
        "yaxis": {
         "anchor": "x",
         "domain": [
          0,
          1
         ],
         "linecolor": "black",
         "mirror": false,
         "range": [
          -0.1,
          0.65
         ],
         "showgrid": false,
         "showline": true,
         "ticks": "outside",
         "title": {
          "text": "Pearson <i>r</i>"
         }
        }
       }
      }
     },
     "metadata": {},
     "output_type": "display_data"
    }
   ],
   "source": [
    "fig = px.line(corr_df_mean, x='Condition', y=\"Correlation\", color='Patient', width=800, height=500, color_discrete_sequence=px.colors.qualitative.Plotly[1:])\n",
    "fig.add_traces(px.box(corr_df_mean, x='Condition', y=\"Correlation\").data)\n",
    "fig.update_layout(\n",
    "    plot_bgcolor='white',\n",
    "    legend=dict(\n",
    "        orientation='h',\n",
    "        yanchor='top',\n",
    "        y=0.98,\n",
    "        xanchor='left',\n",
    "        x=0.02,\n",
    "        title_text=''\n",
    "    ),\n",
    "    title_text=f'Correlation with S1 Latent Dynamics',\n",
    "    title_x=0.5,\n",
    "    font=dict(size=18, family='Arial')\n",
    ")\n",
    "fig.update_xaxes(\n",
    "    title='',\n",
    "    mirror=False,\n",
    "    ticks='outside',\n",
    "    showline=True,\n",
    "    linecolor='black',\n",
    "    showgrid=False,\n",
    ")\n",
    "fig.update_yaxes(\n",
    "    title='Pearson <i>r</i>',\n",
    "    mirror=False,\n",
    "    ticks='outside',\n",
    "    showline=True,\n",
    "    linecolor='black',\n",
    "    showgrid=False,\n",
    "    range=[-0.1, 0.65]\n",
    ")\n",
    "\n",
    "fig.show()"
   ]
  },
  {
   "cell_type": "code",
   "execution_count": 26,
   "metadata": {},
   "outputs": [
    {
     "name": "stdout",
     "output_type": "stream",
     "text": [
      "Unaligned vs. Aligned\n",
      "Wilcoxon: statistic = 0.0, p = 0.015625\n",
      "Unaligned vs. Shuffled\n",
      "Wilcoxon: statistic = 0.0, p = 0.015625\n",
      "Aligned vs. Shuffled\n",
      "Wilcoxon: statistic = 0.0, p = 0.015625\n",
      "FDR-corrected p-values: [0.015625 0.015625 0.015625]\n"
     ]
    }
   ],
   "source": [
    "pvals = []\n",
    "\n",
    "stat_df = corr_df_mean\n",
    "un_corrs = stat_df[stat_df['Condition'] == 'Unaligned']['Correlation']\n",
    "algn_corrs = stat_df[stat_df['Condition'] == 'Aligned']['Correlation']\n",
    "shuff_corrs = stat_df[stat_df['Condition'] == 'Shuffled']['Correlation']\n",
    "\n",
    "# test for significant difference between unaligned and aligned correlations\n",
    "print('Unaligned vs. Aligned')\n",
    "res_un_algn = stats.wilcoxon(algn_corrs, un_corrs)\n",
    "print(f'Wilcoxon: statistic = {res_un_algn.statistic}, p = {res_un_algn.pvalue}')\n",
    "\n",
    "# test for significant difference between unaligned and shuffled correlations\n",
    "print('Unaligned vs. Shuffled')\n",
    "res_un_shuff = stats.wilcoxon(shuff_corrs, un_corrs)\n",
    "print(f'Wilcoxon: statistic = {res_un_shuff.statistic}, p = {res_un_shuff.pvalue}')\n",
    "\n",
    "# test for significant difference between aligned and shuffled correlations\n",
    "print('Aligned vs. Shuffled')\n",
    "res_algn_shuff = stats.wilcoxon(algn_corrs, shuff_corrs)\n",
    "print(f'Wilcoxon: statistic = {res_algn_shuff.statistic}, p = {res_algn_shuff.pvalue}')\n",
    "\n",
    "# FDR correction for multiple comparisons\n",
    "p_vals = [res_un_algn.pvalue, res_un_shuff.pvalue, res_algn_shuff.pvalue]\n",
    "fdr_corr = stats.false_discovery_control(p_vals, method='bh')\n",
    "print(f'FDR-corrected p-values: {fdr_corr}')"
   ]
  }
 ],
 "metadata": {
  "kernelspec": {
   "display_name": "micro_decode",
   "language": "python",
   "name": "python3"
  },
  "language_info": {
   "codemirror_mode": {
    "name": "ipython",
    "version": 3
   },
   "file_extension": ".py",
   "mimetype": "text/x-python",
   "name": "python",
   "nbconvert_exporter": "python",
   "pygments_lexer": "ipython3",
   "version": "3.13.4"
  }
 },
 "nbformat": 4,
 "nbformat_minor": 2
}
