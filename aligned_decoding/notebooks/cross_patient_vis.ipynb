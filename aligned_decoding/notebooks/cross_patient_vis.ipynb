{
 "cells": [
  {
   "cell_type": "markdown",
   "metadata": {},
   "source": [
    "# Imports"
   ]
  },
  {
   "cell_type": "code",
   "metadata": {
    "ExecuteTime": {
     "end_time": "2024-06-18T19:35:25.373809Z",
     "start_time": "2024-06-18T19:35:25.365479Z"
    }
   },
   "source": [
    "import sys\n",
    "sys.path.append('..')"
   ],
   "outputs": [],
   "execution_count": 1
  },
  {
   "cell_type": "code",
   "metadata": {
    "ExecuteTime": {
     "end_time": "2024-06-18T19:35:25.755281Z",
     "start_time": "2024-06-18T19:35:25.376584Z"
    }
   },
   "source": [
    "import numpy as np\n",
    "import pandas as pd\n",
    "import scipy.io as sio\n",
    "import matplotlib.pyplot as plt\n",
    "import seaborn as sns\n",
    "import plotly.express as px\n",
    "import plotly.graph_objects as go\n",
    "\n",
    "import alignment.alignment_utils as utils\n",
    "\n",
    "%matplotlib inline"
   ],
   "outputs": [],
   "execution_count": 2
  },
  {
   "cell_type": "markdown",
   "metadata": {},
   "source": [
    "# Data Loading"
   ]
  },
  {
   "cell_type": "markdown",
   "metadata": {},
   "source": [
    "### Real data"
   ]
  },
  {
   "cell_type": "code",
   "metadata": {
    "ExecuteTime": {
     "end_time": "2024-06-18T19:35:25.762302Z",
     "start_time": "2024-06-18T19:35:25.755281Z"
    }
   },
   "source": [
    "DATA_PATH = '../data/'\n",
    "data_filename = DATA_PATH + 'pt_decoding_data_S22.pkl'\n",
    "# data_filename = DATA_PATH + 'pt_decoding_data_S22_zscore.pkl'"
   ],
   "outputs": [],
   "execution_count": 3
  },
  {
   "cell_type": "code",
   "metadata": {
    "ExecuteTime": {
     "end_time": "2024-06-18T19:35:28.171855Z",
     "start_time": "2024-06-18T19:35:25.762302Z"
    }
   },
   "source": [
    "all_pt_dict = utils.load_pkl(data_filename)\n",
    "pt_names = list(all_pt_dict.keys())"
   ],
   "outputs": [],
   "execution_count": 4
  },
  {
   "cell_type": "code",
   "metadata": {
    "ExecuteTime": {
     "end_time": "2024-06-18T19:35:28.185305Z",
     "start_time": "2024-06-18T19:35:28.171855Z"
    }
   },
   "source": [
    "print(pt_names)\n",
    "print(all_pt_dict[pt_names[0]].keys())\n",
    "print([all_pt_dict[pt]['X1'].shape for pt in pt_names])"
   ],
   "outputs": [
    {
     "name": "stdout",
     "output_type": "stream",
     "text": [
      "['S14', 'S26', 'S23', 'S33', 'S22']\n",
      "dict_keys(['ID', 'X1', 'X1_map', 'y1', 'X2', 'X2_map', 'y2', 'X3', 'X3_map', 'y3', 'y_full_phon', 'X_collapsed', 'y_phon_collapsed', 'y_artic_collapsed', 'pre_pts'])\n",
      "[(144, 200, 111), (148, 200, 111), (151, 200, 63), (46, 200, 149), (151, 200, 74)]\n"
     ]
    }
   ],
   "execution_count": 5
  },
  {
   "cell_type": "markdown",
   "metadata": {},
   "source": [
    "### Surrogate TME Data"
   ]
  },
  {
   "cell_type": "code",
   "metadata": {
    "ExecuteTime": {
     "end_time": "2024-06-18T19:35:28.988670Z",
     "start_time": "2024-06-18T19:35:28.185305Z"
    }
   },
   "source": [
    "# surr_types = ['T', 'N', 'C', 'TN', 'TC', 'NC', 'TNC']\n",
    "# surr_types = ['N', 'C', 'NC']  # no T\n",
    "# surr_types = ['T', 'C', 'TC']  # no N\n",
    "# surr_types = ['T', 'N', 'TN'] # no C\n",
    "surr_types = ['TNC']\n",
    "# surr_types = ['TNC', 'T', 'TN']\n",
    "surr_suffix = ''\n",
    "# surr_suffix = '_zscore'\n",
    "\n",
    "\n",
    "all_pt_surr_dict = {}\n",
    "for pt in pt_names:\n",
    "    all_surr_dict = {}\n",
    "    for surr in surr_types:\n",
    "        surr_data = sio.loadmat(f'../data/{pt}/TME/{pt}_TME_{surr}{surr_suffix}.mat')['surrTensor']\n",
    "        all_surr_dict[surr] = surr_data\n",
    "    all_pt_surr_dict[pt] = all_surr_dict\n",
    "\n",
    "\n",
    "print(all_pt_surr_dict.keys())\n",
    "print(all_pt_surr_dict['S14'].keys())\n",
    "print([all_pt_surr_dict[pt][surr].shape for pt in pt_names])"
   ],
   "outputs": [
    {
     "name": "stdout",
     "output_type": "stream",
     "text": [
      "dict_keys(['S14', 'S26', 'S23', 'S33', 'S22'])\n",
      "dict_keys(['TNC'])\n",
      "[(200, 111, 144), (200, 111, 148), (200, 63, 151), (200, 149, 46), (200, 74, 151)]\n"
     ]
    }
   ],
   "execution_count": 6
  },
  {
   "cell_type": "markdown",
   "metadata": {},
   "source": [
    "## Phoneme label processing functions"
   ]
  },
  {
   "cell_type": "code",
   "metadata": {
    "ExecuteTime": {
     "end_time": "2024-06-18T19:35:28.995319Z",
     "start_time": "2024-06-18T19:35:28.988670Z"
    }
   },
   "source": [
    "phon_labels = np.array(['a', 'ae', 'i', 'u', 'b', 'p', 'v', 'g', 'k'])\n",
    "artic_labels = np.array(['low', 'high', 'labial', 'dorsal'])\n",
    "phon_to_artic_dict = {1:1, 2:1, 3:2, 4:2, 5:3, 6:3, 7:3, 8:4, 9:4}"
   ],
   "outputs": [],
   "execution_count": 7
  },
  {
   "cell_type": "code",
   "metadata": {
    "ExecuteTime": {
     "end_time": "2024-06-18T19:35:29.006726Z",
     "start_time": "2024-06-18T19:35:28.995319Z"
    }
   },
   "source": [
    "def phon_to_artic(phon_idx, phon_to_artic_conv):\n",
    "    return phon_to_artic_conv[phon_idx]\n",
    "\n",
    "def phon_to_artic_seq(phon_seq, phon_to_artic_conv):\n",
    "    flat_seq = phon_seq.flatten()\n",
    "    artic_conv = np.array([phon_to_artic(phon_idx, phon_to_artic_conv) for phon_idx in flat_seq])\n",
    "    return np.reshape(artic_conv, phon_seq.shape)\n",
    "\n",
    "def phon2artic(phon):\n",
    "    return artic_labels[phon_to_artic_dict[int(phon)] - 1]\n",
    "\n",
    "def phon2artic_seq(phon_seq):\n",
    "    return '_'.join([phon2artic(phon) for phon in phon_seq])\n",
    "\n",
    "def labels2cv_seq(labels):\n",
    "    labels_str = []\n",
    "    for lab in labels:\n",
    "        labels_str.append(labels2cv(lab))\n",
    "    return np.array(labels_str)\n",
    "\n",
    "def labels2cv(str):\n",
    "    middle_val = str[1]\n",
    "    if int(middle_val) < 5:\n",
    "        return 'CVC'\n",
    "    else:\n",
    "        return 'VCV'\n",
    "\n",
    "def articic_nums2seq(artic_num_seqs):\n",
    "    return np.array([artic_labels[artic_num-1] for artic_num in artic_num_seqs])"
   ],
   "outputs": [],
   "execution_count": 8
  },
  {
   "cell_type": "markdown",
   "metadata": {},
   "source": [
    "## Data Processing"
   ]
  },
  {
   "cell_type": "code",
   "metadata": {
    "ExecuteTime": {
     "end_time": "2024-06-18T19:35:29.033763Z",
     "start_time": "2024-06-18T19:35:29.006726Z"
    }
   },
   "source": [
    "p_ind = 1\n",
    "\n",
    "all_pt_traces = {}\n",
    "all_pt_surr_traces = {}\n",
    "all_pt_phon_labels = {}\n",
    "all_pt_phon_seqs = {}\n",
    "all_pt_phon_seqs_str = {}\n",
    "all_pt_artic_labels = {}\n",
    "all_pt_artic_seqs = {}\n",
    "all_pt_artic_seqs_str = {}\n",
    "all_pt_cv_labels = {}\n",
    "for pt in pt_names:\n",
    "    pt_trace = all_pt_dict[pt][f'X{p_ind}']  ### Real data: (trials, time, channels)\n",
    "\n",
    "    surr_type_traces = {}\n",
    "    for surr in surr_types:\n",
    "        surr_type_traces[surr] = np.transpose(all_pt_surr_dict[pt][surr], [2,0,1])  ### Surrogate data: (time, channels, trials) -> (trials, time, channels)\n",
    "\n",
    "    pt_phon_labels = all_pt_dict[pt][f'y{p_ind}']\n",
    "    pt_phon_seqs = all_pt_dict[pt]['y_full_phon']\n",
    "    pt_phon_seqs_str = utils.label_seq2str(pt_phon_seqs)\n",
    "    pt_artic_labels = phon_to_artic_seq(pt_phon_labels, phon_to_artic_dict)\n",
    "    pt_artic_seqs = phon_to_artic_seq(pt_phon_seqs, phon_to_artic_dict)\n",
    "    pt_artic_seqs_str = utils.label_seq2str(pt_artic_seqs)\n",
    "    pt_cv_labels = labels2cv_seq(pt_phon_seqs)\n",
    "\n",
    "    all_pt_traces[pt] = pt_trace\n",
    "    all_pt_surr_traces[pt] = surr_type_traces\n",
    "    all_pt_phon_labels[pt] = pt_phon_labels\n",
    "    all_pt_phon_seqs[pt] = pt_phon_seqs\n",
    "    all_pt_phon_seqs_str[pt] = pt_phon_seqs_str\n",
    "    all_pt_artic_labels[pt] = pt_artic_labels\n",
    "    all_pt_artic_seqs[pt] = pt_artic_seqs\n",
    "    all_pt_artic_seqs_str[pt] = pt_artic_seqs_str\n",
    "    all_pt_cv_labels[pt] = pt_cv_labels"
   ],
   "outputs": [],
   "execution_count": 9
  },
  {
   "cell_type": "code",
   "metadata": {
    "ExecuteTime": {
     "end_time": "2024-06-18T19:35:29.045209Z",
     "start_time": "2024-06-18T19:35:29.033763Z"
    }
   },
   "source": [
    "[all_pt_surr_traces[pt][list(all_pt_surr_traces[pt].keys())[0]].shape for pt in pt_names]"
   ],
   "outputs": [
    {
     "data": {
      "text/plain": [
       "[(144, 200, 111),\n",
       " (148, 200, 111),\n",
       " (151, 200, 63),\n",
       " (46, 200, 149),\n",
       " (151, 200, 74)]"
      ]
     },
     "execution_count": 10,
     "metadata": {},
     "output_type": "execute_result"
    }
   ],
   "execution_count": 10
  },
  {
   "cell_type": "code",
   "metadata": {
    "ExecuteTime": {
     "end_time": "2024-06-18T19:35:29.054449Z",
     "start_time": "2024-06-18T19:35:29.045209Z"
    }
   },
   "source": [
    "# artic_seq_strs = articic_nums2seq(pt_artic_seqs)\n",
    "# artic_seq_strs = np.array([[s[0:2] + '_' for s in labs] for labs in artic_seq_strs])\n",
    "# artic_seq_strs = utils.label2str(artic_seq_strs)\n",
    "# artic_seq_strs = np.array([s[0:-1] for s in artic_seq_strs])"
   ],
   "outputs": [],
   "execution_count": 11
  },
  {
   "cell_type": "code",
   "metadata": {
    "ExecuteTime": {
     "end_time": "2024-06-18T19:35:29.061701Z",
     "start_time": "2024-06-18T19:35:29.054449Z"
    }
   },
   "source": [
    "t = np.linspace(-0.5, 0.5 - 1/pt_trace.shape[1], pt_trace.shape[1])"
   ],
   "outputs": [],
   "execution_count": 12
  },
  {
   "cell_type": "code",
   "metadata": {
    "ExecuteTime": {
     "end_time": "2024-06-18T19:35:29.069697Z",
     "start_time": "2024-06-18T19:35:29.061701Z"
    }
   },
   "source": [
    "# all_pt_phon_seq_avg_traces = {}\n",
    "# all_pt_artic_seq_avg_traces = {}\n",
    "# all_pt_phon_avg_traces = {}\n",
    "# all_pt_artic_avg_traces = {}\n",
    "# all_pt_cv_avg_traces = {}\n",
    "\n",
    "# for pt in pt_names:\n",
    "#     pt_trace = all_pt_traces[pt]\n",
    "#     pt_phon_seqs_str = all_pt_phon_seqs_str[pt]\n",
    "#     pt_artic_seqs_str = all_pt_artic_seqs_str[pt]\n",
    "#     pt_phon_labels = all_pt_phon_labels[pt]\n",
    "#     pt_artic_labels = all_pt_artic_labels[pt]\n",
    "#     pt_cv_labels = all_pt_cv_labels[pt]\n",
    "\n",
    "#     phon_seq_avg_trace = utils.cnd_avg(pt_trace, pt_phon_seqs_str)\n",
    "#     artic_seq_avg_trace = utils.cnd_avg(pt_trace, pt_artic_seqs_str)\n",
    "#     phon_avg_trace = utils.cnd_avg(pt_trace, pt_phon_labels)\n",
    "#     artic_avg_trace = utils.cnd_avg(pt_trace, pt_artic_labels)\n",
    "#     cv_avg_trace = utils.cnd_avg(pt_trace, pt_cv_labels)\n",
    "\n",
    "#     all_pt_phon_seq_avg_traces[pt] = phon_seq_avg_trace\n",
    "#     all_pt_artic_seq_avg_traces[pt] = artic_seq_avg_trace\n",
    "#     all_pt_phon_avg_traces[pt] = phon_avg_trace\n",
    "#     all_pt_artic_avg_traces[pt] = artic_avg_trace\n",
    "#     all_pt_cv_avg_traces[pt] = cv_avg_trace"
   ],
   "outputs": [],
   "execution_count": 13
  },
  {
   "cell_type": "markdown",
   "metadata": {},
   "source": [
    "# Data Visualization"
   ]
  },
  {
   "cell_type": "markdown",
   "metadata": {},
   "source": [
    "### Plotting utils"
   ]
  },
  {
   "cell_type": "code",
   "metadata": {
    "ExecuteTime": {
     "end_time": "2024-06-18T19:35:29.085848Z",
     "start_time": "2024-06-18T19:35:29.069697Z"
    }
   },
   "source": [
    "def line(error_y_mode=None, **kwargs):\n",
    "    \"\"\"Extension of `plotly.express.line` to use error bands.\n",
    "    \n",
    "    From https://stackoverflow.com/questions/69587547/continuous-error-band-with-plotly-express-in-python, user171780\"\"\"\n",
    "    ERROR_MODES = {'bar','band','bars','bands',None}\n",
    "    if error_y_mode not in ERROR_MODES:\n",
    "        raise ValueError(f\"'error_y_mode' must be one of {ERROR_MODES}, received {repr(error_y_mode)}.\")\n",
    "    if error_y_mode in {'bar','bars',None}:\n",
    "        fig = px.line(**kwargs)\n",
    "    elif error_y_mode in {'band','bands'}:\n",
    "        if 'error_y' not in kwargs:\n",
    "            raise ValueError(f\"If you provide argument 'error_y_mode' you must also provide 'error_y'.\")\n",
    "        figure_with_error_bars = px.line(**kwargs)\n",
    "        fig = px.line(**{arg: val for arg,val in kwargs.items() if arg != 'error_y'})\n",
    "        for data in figure_with_error_bars.data:\n",
    "            x = list(data['x'])\n",
    "            y_upper = list(data['y'] + data['error_y']['array'])\n",
    "            y_lower = list(data['y'] - data['error_y']['array'] if data['error_y']['arrayminus'] is None else data['y'] - data['error_y']['arrayminus'])\n",
    "            color = f\"rgba({tuple(int(data['line']['color'].lstrip('#')[i:i+2], 16) for i in (0, 2, 4))},.3)\".replace('((','(').replace('),',',').replace(' ','')\n",
    "            fig.add_trace(\n",
    "                go.Scatter(\n",
    "                    x = x+x[::-1],\n",
    "                    y = y_upper+y_lower[::-1],\n",
    "                    fill = 'toself',\n",
    "                    fillcolor = color,\n",
    "                    line = dict(\n",
    "                        color = 'rgba(255,255,255,0)'\n",
    "                    ),\n",
    "                    hoverinfo = \"skip\",\n",
    "                    showlegend = False,\n",
    "                    legendgroup = data['legendgroup'],\n",
    "                    xaxis = data['xaxis'],\n",
    "                    yaxis = data['yaxis'],\n",
    "                )\n",
    "            )\n",
    "        # Reorder data as said here: https://stackoverflow.com/a/66854398/8849755\n",
    "        reordered_data = []\n",
    "        for i in range(int(len(fig.data)/2)):\n",
    "            reordered_data.append(fig.data[i+int(len(fig.data)/2)])\n",
    "            reordered_data.append(fig.data[i])\n",
    "        fig.data = tuple(reordered_data)\n",
    "    return fig"
   ],
   "outputs": [],
   "execution_count": 14
  },
  {
   "cell_type": "markdown",
   "metadata": {},
   "source": [
    "## CCA Alignment"
   ]
  },
  {
   "cell_type": "code",
   "metadata": {
    "ExecuteTime": {
     "end_time": "2024-06-18T19:35:29.513146Z",
     "start_time": "2024-06-18T19:35:29.085848Z"
    }
   },
   "source": [
    "from alignment.AlignCCA import AlignCCA\n",
    "from decoders.cross_pt_decoders import crossPtDecoder_sepAlign"
   ],
   "outputs": [],
   "execution_count": 15
  },
  {
   "cell_type": "markdown",
   "metadata": {},
   "source": [
    "### Correlation calculations"
   ]
  },
  {
   "cell_type": "code",
   "metadata": {
    "ExecuteTime": {
     "end_time": "2024-06-11T12:32:42.810509Z",
     "start_time": "2024-06-11T12:32:34.506150Z"
    }
   },
   "source": [
    "# pca_comp = 30\n",
    "pca_comp = 0.9\n",
    "cca_comp = 10\n",
    "t_win = np.array([-0.25, 0.25])\n",
    "t_inds = np.where((t >= t_win[0]) & (t < t_win[1]))[0]\n",
    "\n",
    "pairwise_corrs = []\n",
    "for tar_pt in pt_names:\n",
    "    other_pts = [pt for pt in pt_names if pt != tar_pt]\n",
    "# for tar_pt in ['S14', 'S26', 'S33']:\n",
    "#     other_pts = [pt for pt in ['S14', 'S26', 'S33'] if pt != tar_pt]\n",
    "\n",
    "    tar_pt_data = (all_pt_traces[tar_pt][:, t_inds, :], all_pt_phon_labels[tar_pt], all_pt_phon_seqs_str[tar_pt])\n",
    "    cross_pt_data = [(all_pt_traces[pt][:, t_inds, :], all_pt_phon_labels[pt], all_pt_phon_seqs_str[pt]) for pt in other_pts]\n",
    "\n",
    "    cca_wrapper = crossPtDecoder_sepAlign(cross_pt_data, None, AlignCCA, n_comp=pca_comp)\n",
    "    pooled_traces, pooled_labels = cca_wrapper.preprocess_train(tar_pt_data[0], tar_pt_data[1], y_align=tar_pt_data[2])  ## align by full phoneme sequence\n",
    "    aligners = cca_wrapper.algns\n",
    "    CCs = [a.canon_corrs[:cca_comp] for a in aligners]\n",
    "    \n",
    "    for pt, corrs in zip(other_pts, CCs):\n",
    "        data = {'Data': 'Real', 'Patient 1': tar_pt, 'Patient 2': pt}\n",
    "        data_corr = {}\n",
    "        for i, c in enumerate(corrs):\n",
    "            data_corr[f'CC {i+1}'] = c\n",
    "        data = dict(data, **data_corr)\n",
    "\n",
    "        pairwise_corrs.append(data)\n",
    "pairwise_corrs = pd.DataFrame(pairwise_corrs)\n",
    "    \n",
    "pairwise_corrs_surr = []\n",
    "for tar_pt in pt_names:\n",
    "    other_pts = [pt for pt in pt_names if pt != tar_pt]\n",
    "# for tar_pt in ['S14', 'S26', 'S33']:\n",
    "#     other_pts = [pt for pt in ['S14', 'S26', 'S33'] if pt != tar_pt]\n",
    "\n",
    "    for surr in surr_types:\n",
    "        tar_pt_data = (all_pt_surr_traces[tar_pt][surr][:, t_inds, :], all_pt_phon_labels[tar_pt], all_pt_phon_seqs_str[tar_pt])\n",
    "        # tar_pt_data = (all_pt_traces[tar_pt][:, t_inds, :], all_pt_phon_labels[tar_pt], all_pt_phon_seqs_str[tar_pt])  # only using surrogate data for aligned patients\n",
    "        cross_pt_data = [(all_pt_surr_traces[pt][surr][:, t_inds, :], all_pt_phon_labels[pt], all_pt_phon_seqs_str[pt]) for pt in pt_names if pt != tar_pt]\n",
    "        # cross_pt_data = [(all_pt_traces[pt][:, t_inds, :], all_pt_phon_labels[pt], all_pt_phon_seqs_str[pt]) for pt in pt_names if pt != tar_pt]\n",
    "\n",
    "        cca_wrapper = crossPtDecoder_sepAlign(cross_pt_data, None, AlignCCA, n_comp=pca_comp)  # using decoder class without decoder to handle data preprocessing\n",
    "        _, _ = cca_wrapper.preprocess_train(tar_pt_data[0], tar_pt_data[1], y_align=tar_pt_data[2])  ## align by full phoneme sequence\n",
    "        aligners = cca_wrapper.algns\n",
    "        CCs = [a.canon_corrs[:cca_comp] for a in aligners]\n",
    "\n",
    "        for pt, corrs in zip(other_pts, CCs):\n",
    "            data = {'Data': surr + ' (TME)', 'Patient 1': tar_pt, 'Patient 2': pt}\n",
    "            data_corr = {}\n",
    "            for i, c in enumerate(corrs):\n",
    "                data_corr[f'CC {i+1}'] = c\n",
    "            data = dict(data, **data_corr)\n",
    "\n",
    "            pairwise_corrs_surr.append(data)\n",
    "pairwise_corrs_surr = pd.DataFrame(pairwise_corrs_surr)"
   ],
   "outputs": [],
   "execution_count": 27
  },
  {
   "cell_type": "code",
   "metadata": {
    "ExecuteTime": {
     "end_time": "2024-06-11T12:32:42.825724Z",
     "start_time": "2024-06-11T12:32:42.812516Z"
    }
   },
   "source": [
    "cc_df_wide = pd.concat([pairwise_corrs, pairwise_corrs_surr], ignore_index=True)\n",
    "cc_df_long = cc_df_wide.melt(id_vars=['Data', 'Patient 1', 'Patient 2'], var_name='Latent Component', value_name='Canonical Correlation')\n",
    "cc_df_long['Latent Component'] = cc_df_long['Latent Component'].str.replace('CC ', '').astype(int)\n",
    "# cc_df_long = cc_df_long.sort_values(by=['Data', 'Patient 1', 'Patient 2', 'Latent Component'])"
   ],
   "outputs": [],
   "execution_count": 28
  },
  {
   "cell_type": "code",
   "metadata": {
    "ExecuteTime": {
     "end_time": "2024-06-11T12:32:42.843386Z",
     "start_time": "2024-06-11T12:32:42.825724Z"
    }
   },
   "source": [
    "cc_df_long\n",
    "# cc_df_long[cc_df_long['Data'] == 'Real']\n",
    "# cc_df_long[cc_df_long['Data'] == 'TC (TME)']"
   ],
   "outputs": [
    {
     "data": {
      "text/plain": [
       "          Data Patient 1 Patient 2  Latent Component  Canonical Correlation\n",
       "0         Real       S14       S26                 1               0.710576\n",
       "1         Real       S14       S23                 1               0.650906\n",
       "2         Real       S14       S33                 1               0.714256\n",
       "3         Real       S14       S22                 1               0.570634\n",
       "4         Real       S26       S14                 1               0.710576\n",
       "..         ...       ...       ...               ...                    ...\n",
       "395  TNC (TME)       S33       S22                10                    NaN\n",
       "396  TNC (TME)       S22       S14                10                    NaN\n",
       "397  TNC (TME)       S22       S26                10                    NaN\n",
       "398  TNC (TME)       S22       S23                10                    NaN\n",
       "399  TNC (TME)       S22       S33                10                    NaN\n",
       "\n",
       "[400 rows x 5 columns]"
      ],
      "text/html": [
       "<div>\n",
       "<style scoped>\n",
       "    .dataframe tbody tr th:only-of-type {\n",
       "        vertical-align: middle;\n",
       "    }\n",
       "\n",
       "    .dataframe tbody tr th {\n",
       "        vertical-align: top;\n",
       "    }\n",
       "\n",
       "    .dataframe thead th {\n",
       "        text-align: right;\n",
       "    }\n",
       "</style>\n",
       "<table border=\"1\" class=\"dataframe\">\n",
       "  <thead>\n",
       "    <tr style=\"text-align: right;\">\n",
       "      <th></th>\n",
       "      <th>Data</th>\n",
       "      <th>Patient 1</th>\n",
       "      <th>Patient 2</th>\n",
       "      <th>Latent Component</th>\n",
       "      <th>Canonical Correlation</th>\n",
       "    </tr>\n",
       "  </thead>\n",
       "  <tbody>\n",
       "    <tr>\n",
       "      <th>0</th>\n",
       "      <td>Real</td>\n",
       "      <td>S14</td>\n",
       "      <td>S26</td>\n",
       "      <td>1</td>\n",
       "      <td>0.710576</td>\n",
       "    </tr>\n",
       "    <tr>\n",
       "      <th>1</th>\n",
       "      <td>Real</td>\n",
       "      <td>S14</td>\n",
       "      <td>S23</td>\n",
       "      <td>1</td>\n",
       "      <td>0.650906</td>\n",
       "    </tr>\n",
       "    <tr>\n",
       "      <th>2</th>\n",
       "      <td>Real</td>\n",
       "      <td>S14</td>\n",
       "      <td>S33</td>\n",
       "      <td>1</td>\n",
       "      <td>0.714256</td>\n",
       "    </tr>\n",
       "    <tr>\n",
       "      <th>3</th>\n",
       "      <td>Real</td>\n",
       "      <td>S14</td>\n",
       "      <td>S22</td>\n",
       "      <td>1</td>\n",
       "      <td>0.570634</td>\n",
       "    </tr>\n",
       "    <tr>\n",
       "      <th>4</th>\n",
       "      <td>Real</td>\n",
       "      <td>S26</td>\n",
       "      <td>S14</td>\n",
       "      <td>1</td>\n",
       "      <td>0.710576</td>\n",
       "    </tr>\n",
       "    <tr>\n",
       "      <th>...</th>\n",
       "      <td>...</td>\n",
       "      <td>...</td>\n",
       "      <td>...</td>\n",
       "      <td>...</td>\n",
       "      <td>...</td>\n",
       "    </tr>\n",
       "    <tr>\n",
       "      <th>395</th>\n",
       "      <td>TNC (TME)</td>\n",
       "      <td>S33</td>\n",
       "      <td>S22</td>\n",
       "      <td>10</td>\n",
       "      <td>NaN</td>\n",
       "    </tr>\n",
       "    <tr>\n",
       "      <th>396</th>\n",
       "      <td>TNC (TME)</td>\n",
       "      <td>S22</td>\n",
       "      <td>S14</td>\n",
       "      <td>10</td>\n",
       "      <td>NaN</td>\n",
       "    </tr>\n",
       "    <tr>\n",
       "      <th>397</th>\n",
       "      <td>TNC (TME)</td>\n",
       "      <td>S22</td>\n",
       "      <td>S26</td>\n",
       "      <td>10</td>\n",
       "      <td>NaN</td>\n",
       "    </tr>\n",
       "    <tr>\n",
       "      <th>398</th>\n",
       "      <td>TNC (TME)</td>\n",
       "      <td>S22</td>\n",
       "      <td>S23</td>\n",
       "      <td>10</td>\n",
       "      <td>NaN</td>\n",
       "    </tr>\n",
       "    <tr>\n",
       "      <th>399</th>\n",
       "      <td>TNC (TME)</td>\n",
       "      <td>S22</td>\n",
       "      <td>S33</td>\n",
       "      <td>10</td>\n",
       "      <td>NaN</td>\n",
       "    </tr>\n",
       "  </tbody>\n",
       "</table>\n",
       "<p>400 rows × 5 columns</p>\n",
       "</div>"
      ]
     },
     "execution_count": 29,
     "metadata": {},
     "output_type": "execute_result"
    }
   ],
   "execution_count": 29
  },
  {
   "cell_type": "markdown",
   "metadata": {},
   "source": [
    "### Visualization"
   ]
  },
  {
   "cell_type": "code",
   "metadata": {
    "ExecuteTime": {
     "end_time": "2024-06-11T12:32:42.850781Z",
     "start_time": "2024-06-11T12:32:42.846389Z"
    }
   },
   "source": [
    "from matplotlib.ticker import MultipleLocator\n",
    "import scipy.stats as stats"
   ],
   "outputs": [],
   "execution_count": 30
  },
  {
   "cell_type": "code",
   "metadata": {
    "ExecuteTime": {
     "end_time": "2024-06-11T12:32:44.749239Z",
     "start_time": "2024-06-11T12:32:42.852773Z"
    }
   },
   "source": [
    "hist_comps = 3\n",
    "\n",
    "sns.set_theme(context='notebook', font='Verdana', font_scale=1.15, style='ticks')\n",
    "f, axs = plt.subplots(1, 2, figsize=(12,5), sharey=True, width_ratios=[1, 0.5])\n",
    "# f, axs = plt.subplots(1, 2, figsize=(15,5), sharey=True, width_ratios=[1, 1.25])\n",
    "\n",
    "sns.lineplot(data=cc_df_long, x='Latent Component', y='Canonical Correlation', hue='Data', style='Data', markers=True, dashes=False, ax=axs[0])\n",
    "axs[0].axvline(x=hist_comps, color='grey', linestyle='dashed')\n",
    "axs[0].set_xticks(np.arange(1, 10, 2))\n",
    "axs[0].xaxis.set_minor_locator(MultipleLocator(2))\n",
    "axs[0].set_title('Canonical correlation across components')\n",
    "\n",
    "\n",
    "# sns.histplot(data=cc_df_long[cc_df_long['Neural Mode'] <= 4], y='Canonical Correlation', hue='Data', binwidth=0.15, ax=axs[1])\n",
    "# sns.histplot(data=cc_df_long[cc_df_long['Component'] <= hist_comps], y='Canonical Correlation', hue='Data', ax=axs[1])\n",
    "# sns.histplot(data=cc_df_long[(cc_df_long['Latent Component'] <= hist_comps)].groupby(['Data', 'Patient 1', 'Patient 2']).mean().loc[cc_df_long['Data'].unique()], y='Canonical Correlation', hue='Data', ax=axs[1], element='step')\n",
    "sns.boxplot(data=cc_df_long[cc_df_long['Latent Component'] <= hist_comps], x='Data', y='Canonical Correlation', hue='Data', ax=axs[1])\n",
    "axs[1].set_title(f'Average canonical correlation in top {hist_comps} components')\n",
    "axs[1].yaxis.set_tick_params(labelbottom=True)\n",
    "axs[1].legend([],[], frameon=False)\n",
    "axs[1].set_xticklabels([])\n",
    "axs[1].set_xlabel('')\n",
    "axs[1].set_xticks([])\n",
    "\n",
    "mwu_res = stats.mannwhitneyu(cc_df_long[(cc_df_long['Data'] == 'Real') & (cc_df_long['Latent Component'] <= hist_comps)]['Canonical Correlation'],\n",
    "                             cc_df_long[(cc_df_long['Data'] == 'TNC (TME)') & (cc_df_long['Latent Component'] <= hist_comps)]['Canonical Correlation'],\n",
    "                             alternative='greater', nan_policy='omit')\n",
    "# annotate p-value on box plot\n",
    "axs[1].annotate(f'Mann-Whitney U: p = {mwu_res.pvalue:.3f}', xy=(0.5, 0.05), xycoords='axes fraction', ha='center', va='center', fontsize=12, color='black', backgroundcolor='white')\n",
    "\n",
    "sns.despine()\n",
    "plt.show()\n",
    "print(mwu_res)"
   ],
   "outputs": [
    {
     "data": {
      "text/plain": [
       "<Figure size 1200x500 with 2 Axes>"
      ],
      "image/png": "[encoded data removed]"
     },
     "metadata": {},
     "output_type": "display_data"
    },
    {
     "name": "stdout",
     "output_type": "stream",
     "text": [
      "MannwhitneyuResult(statistic=1684.0, pvalue=2.4704116718772917e-06)\n"
     ]
    }
   ],
   "execution_count": 31
  },
  {
   "cell_type": "code",
   "metadata": {
    "ExecuteTime": {
     "end_time": "2024-06-11T12:30:09.138809Z",
     "start_time": "2024-06-11T12:30:07.393842Z"
    }
   },
   "source": [
    "test_res = stats.mannwhitneyu(cc_df_long[(cc_df_long['Data'] == 'TN (TME)') & (cc_df_long['Latent Component'] <= hist_comps)]['Canonical Correlation'],\n",
    "                             cc_df_long[(cc_df_long['Data'] == 'TNC (TME)') & (cc_df_long['Latent Component'] <= hist_comps)]['Canonical Correlation'],\n",
    "                             alternative='greater', nan_policy='omit')\n",
    "print(test_res)"
   ],
   "outputs": [
    {
     "ename": "ValueError",
     "evalue": "`x` and `y` must be of nonzero size.",
     "output_type": "error",
     "traceback": [
      "\u001B[1;31m---------------------------------------------------------------------------\u001B[0m",
      "\u001B[1;31mValueError\u001B[0m                                Traceback (most recent call last)",
      "Cell \u001B[1;32mIn[21], line 1\u001B[0m\n\u001B[1;32m----> 1\u001B[0m test_res \u001B[38;5;241m=\u001B[39m \u001B[43mstats\u001B[49m\u001B[38;5;241;43m.\u001B[39;49m\u001B[43mmannwhitneyu\u001B[49m\u001B[43m(\u001B[49m\u001B[43mcc_df_long\u001B[49m\u001B[43m[\u001B[49m\u001B[43m(\u001B[49m\u001B[43mcc_df_long\u001B[49m\u001B[43m[\u001B[49m\u001B[38;5;124;43m'\u001B[39;49m\u001B[38;5;124;43mData\u001B[39;49m\u001B[38;5;124;43m'\u001B[39;49m\u001B[43m]\u001B[49m\u001B[43m \u001B[49m\u001B[38;5;241;43m==\u001B[39;49m\u001B[43m \u001B[49m\u001B[38;5;124;43m'\u001B[39;49m\u001B[38;5;124;43mTN (TME)\u001B[39;49m\u001B[38;5;124;43m'\u001B[39;49m\u001B[43m)\u001B[49m\u001B[43m \u001B[49m\u001B[38;5;241;43m&\u001B[39;49m\u001B[43m \u001B[49m\u001B[43m(\u001B[49m\u001B[43mcc_df_long\u001B[49m\u001B[43m[\u001B[49m\u001B[38;5;124;43m'\u001B[39;49m\u001B[38;5;124;43mLatent Component\u001B[39;49m\u001B[38;5;124;43m'\u001B[39;49m\u001B[43m]\u001B[49m\u001B[43m \u001B[49m\u001B[38;5;241;43m<\u001B[39;49m\u001B[38;5;241;43m=\u001B[39;49m\u001B[43m \u001B[49m\u001B[43mhist_comps\u001B[49m\u001B[43m)\u001B[49m\u001B[43m]\u001B[49m\u001B[43m[\u001B[49m\u001B[38;5;124;43m'\u001B[39;49m\u001B[38;5;124;43mCanonical Correlation\u001B[39;49m\u001B[38;5;124;43m'\u001B[39;49m\u001B[43m]\u001B[49m\u001B[43m,\u001B[49m\n\u001B[0;32m      2\u001B[0m \u001B[43m                             \u001B[49m\u001B[43mcc_df_long\u001B[49m\u001B[43m[\u001B[49m\u001B[43m(\u001B[49m\u001B[43mcc_df_long\u001B[49m\u001B[43m[\u001B[49m\u001B[38;5;124;43m'\u001B[39;49m\u001B[38;5;124;43mData\u001B[39;49m\u001B[38;5;124;43m'\u001B[39;49m\u001B[43m]\u001B[49m\u001B[43m \u001B[49m\u001B[38;5;241;43m==\u001B[39;49m\u001B[43m \u001B[49m\u001B[38;5;124;43m'\u001B[39;49m\u001B[38;5;124;43mTNC (TME)\u001B[39;49m\u001B[38;5;124;43m'\u001B[39;49m\u001B[43m)\u001B[49m\u001B[43m \u001B[49m\u001B[38;5;241;43m&\u001B[39;49m\u001B[43m \u001B[49m\u001B[43m(\u001B[49m\u001B[43mcc_df_long\u001B[49m\u001B[43m[\u001B[49m\u001B[38;5;124;43m'\u001B[39;49m\u001B[38;5;124;43mLatent Component\u001B[39;49m\u001B[38;5;124;43m'\u001B[39;49m\u001B[43m]\u001B[49m\u001B[43m \u001B[49m\u001B[38;5;241;43m<\u001B[39;49m\u001B[38;5;241;43m=\u001B[39;49m\u001B[43m \u001B[49m\u001B[43mhist_comps\u001B[49m\u001B[43m)\u001B[49m\u001B[43m]\u001B[49m\u001B[43m[\u001B[49m\u001B[38;5;124;43m'\u001B[39;49m\u001B[38;5;124;43mCanonical Correlation\u001B[39;49m\u001B[38;5;124;43m'\u001B[39;49m\u001B[43m]\u001B[49m\u001B[43m,\u001B[49m\n\u001B[0;32m      3\u001B[0m \u001B[43m                             \u001B[49m\u001B[43malternative\u001B[49m\u001B[38;5;241;43m=\u001B[39;49m\u001B[38;5;124;43m'\u001B[39;49m\u001B[38;5;124;43mgreater\u001B[39;49m\u001B[38;5;124;43m'\u001B[39;49m\u001B[43m,\u001B[49m\u001B[43m \u001B[49m\u001B[43mnan_policy\u001B[49m\u001B[38;5;241;43m=\u001B[39;49m\u001B[38;5;124;43m'\u001B[39;49m\u001B[38;5;124;43momit\u001B[39;49m\u001B[38;5;124;43m'\u001B[39;49m\u001B[43m)\u001B[49m\n\u001B[0;32m      4\u001B[0m \u001B[38;5;28mprint\u001B[39m(test_res)\n",
      "File \u001B[1;32m~\\AppData\\Local\\miniconda3\\envs\\micro_decode\\Lib\\site-packages\\scipy\\stats\\_axis_nan_policy.py:523\u001B[0m, in \u001B[0;36m_axis_nan_policy_factory.<locals>.axis_nan_policy_decorator.<locals>.axis_nan_policy_wrapper\u001B[1;34m(***failed resolving arguments***)\u001B[0m\n\u001B[0;32m    521\u001B[0m \u001B[38;5;28;01mif\u001B[39;00m sentinel:\n\u001B[0;32m    522\u001B[0m     samples \u001B[38;5;241m=\u001B[39m _remove_sentinel(samples, paired, sentinel)\n\u001B[1;32m--> 523\u001B[0m res \u001B[38;5;241m=\u001B[39m \u001B[43mhypotest_fun_out\u001B[49m\u001B[43m(\u001B[49m\u001B[38;5;241;43m*\u001B[39;49m\u001B[43msamples\u001B[49m\u001B[43m,\u001B[49m\u001B[43m \u001B[49m\u001B[38;5;241;43m*\u001B[39;49m\u001B[38;5;241;43m*\u001B[39;49m\u001B[43mkwds\u001B[49m\u001B[43m)\u001B[49m\n\u001B[0;32m    524\u001B[0m res \u001B[38;5;241m=\u001B[39m result_to_tuple(res)\n\u001B[0;32m    525\u001B[0m res \u001B[38;5;241m=\u001B[39m _add_reduced_axes(res, reduced_axes, keepdims)\n",
      "File \u001B[1;32m~\\AppData\\Local\\miniconda3\\envs\\micro_decode\\Lib\\site-packages\\scipy\\stats\\_mannwhitneyu.py:460\u001B[0m, in \u001B[0;36mmannwhitneyu\u001B[1;34m(x, y, use_continuity, alternative, axis, method)\u001B[0m\n\u001B[0;32m    249\u001B[0m \u001B[38;5;129m@_axis_nan_policy_factory\u001B[39m(MannwhitneyuResult, n_samples\u001B[38;5;241m=\u001B[39m\u001B[38;5;241m2\u001B[39m)\n\u001B[0;32m    250\u001B[0m \u001B[38;5;28;01mdef\u001B[39;00m \u001B[38;5;21mmannwhitneyu\u001B[39m(x, y, use_continuity\u001B[38;5;241m=\u001B[39m\u001B[38;5;28;01mTrue\u001B[39;00m, alternative\u001B[38;5;241m=\u001B[39m\u001B[38;5;124m\"\u001B[39m\u001B[38;5;124mtwo-sided\u001B[39m\u001B[38;5;124m\"\u001B[39m,\n\u001B[0;32m    251\u001B[0m                  axis\u001B[38;5;241m=\u001B[39m\u001B[38;5;241m0\u001B[39m, method\u001B[38;5;241m=\u001B[39m\u001B[38;5;124m\"\u001B[39m\u001B[38;5;124mauto\u001B[39m\u001B[38;5;124m\"\u001B[39m):\n\u001B[0;32m    252\u001B[0m \u001B[38;5;250m    \u001B[39m\u001B[38;5;124mr\u001B[39m\u001B[38;5;124;03m'''Perform the Mann-Whitney U rank test on two independent samples.\u001B[39;00m\n\u001B[0;32m    253\u001B[0m \n\u001B[0;32m    254\u001B[0m \u001B[38;5;124;03m    The Mann-Whitney U test is a nonparametric test of the null hypothesis\u001B[39;00m\n\u001B[1;32m   (...)\u001B[0m\n\u001B[0;32m    456\u001B[0m \n\u001B[0;32m    457\u001B[0m \u001B[38;5;124;03m    '''\u001B[39;00m\n\u001B[0;32m    459\u001B[0m     x, y, use_continuity, alternative, axis_int, method \u001B[38;5;241m=\u001B[39m (\n\u001B[1;32m--> 460\u001B[0m         \u001B[43m_mwu_input_validation\u001B[49m\u001B[43m(\u001B[49m\u001B[43mx\u001B[49m\u001B[43m,\u001B[49m\u001B[43m \u001B[49m\u001B[43my\u001B[49m\u001B[43m,\u001B[49m\u001B[43m \u001B[49m\u001B[43muse_continuity\u001B[49m\u001B[43m,\u001B[49m\u001B[43m \u001B[49m\u001B[43malternative\u001B[49m\u001B[43m,\u001B[49m\u001B[43m \u001B[49m\u001B[43maxis\u001B[49m\u001B[43m,\u001B[49m\u001B[43m \u001B[49m\u001B[43mmethod\u001B[49m\u001B[43m)\u001B[49m)\n\u001B[0;32m    462\u001B[0m     x, y, xy \u001B[38;5;241m=\u001B[39m _broadcast_concatenate(x, y, axis)\n\u001B[0;32m    464\u001B[0m     n1, n2 \u001B[38;5;241m=\u001B[39m x\u001B[38;5;241m.\u001B[39mshape[\u001B[38;5;241m-\u001B[39m\u001B[38;5;241m1\u001B[39m], y\u001B[38;5;241m.\u001B[39mshape[\u001B[38;5;241m-\u001B[39m\u001B[38;5;241m1\u001B[39m]\n",
      "File \u001B[1;32m~\\AppData\\Local\\miniconda3\\envs\\micro_decode\\Lib\\site-packages\\scipy\\stats\\_mannwhitneyu.py:203\u001B[0m, in \u001B[0;36m_mwu_input_validation\u001B[1;34m(x, y, use_continuity, alternative, axis, method)\u001B[0m\n\u001B[0;32m    201\u001B[0m     \u001B[38;5;28;01mraise\u001B[39;00m \u001B[38;5;167;01mValueError\u001B[39;00m(\u001B[38;5;124m'\u001B[39m\u001B[38;5;124m`x` and `y` must not contain NaNs.\u001B[39m\u001B[38;5;124m'\u001B[39m)\n\u001B[0;32m    202\u001B[0m \u001B[38;5;28;01mif\u001B[39;00m np\u001B[38;5;241m.\u001B[39msize(x) \u001B[38;5;241m==\u001B[39m \u001B[38;5;241m0\u001B[39m \u001B[38;5;129;01mor\u001B[39;00m np\u001B[38;5;241m.\u001B[39msize(y) \u001B[38;5;241m==\u001B[39m \u001B[38;5;241m0\u001B[39m:\n\u001B[1;32m--> 203\u001B[0m     \u001B[38;5;28;01mraise\u001B[39;00m \u001B[38;5;167;01mValueError\u001B[39;00m(\u001B[38;5;124m'\u001B[39m\u001B[38;5;124m`x` and `y` must be of nonzero size.\u001B[39m\u001B[38;5;124m'\u001B[39m)\n\u001B[0;32m    205\u001B[0m bools \u001B[38;5;241m=\u001B[39m {\u001B[38;5;28;01mTrue\u001B[39;00m, \u001B[38;5;28;01mFalse\u001B[39;00m}\n\u001B[0;32m    206\u001B[0m \u001B[38;5;28;01mif\u001B[39;00m use_continuity \u001B[38;5;129;01mnot\u001B[39;00m \u001B[38;5;129;01min\u001B[39;00m bools:\n",
      "\u001B[1;31mValueError\u001B[0m: `x` and `y` must be of nonzero size."
     ]
    }
   ],
   "execution_count": 21
  },
  {
   "cell_type": "code",
   "metadata": {
    "ExecuteTime": {
     "end_time": "2024-06-11T12:30:09.138809Z",
     "start_time": "2024-06-11T12:30:09.138809Z"
    }
   },
   "source": [
    "cc_df_long[(cc_df_long['Latent Component'] <= hist_comps)].groupby(['Data', 'Patient 1', 'Patient 2']).mean().loc[cc_df_long['Data'].unique()]"
   ],
   "outputs": [],
   "execution_count": null
  },
  {
   "metadata": {},
   "cell_type": "markdown",
   "source": "## PCA Channel Permutation Analysis"
  },
  {
   "metadata": {
    "ExecuteTime": {
     "end_time": "2024-06-18T19:42:46.854203Z",
     "start_time": "2024-06-18T19:42:46.849376Z"
    }
   },
   "cell_type": "code",
   "source": [
    "from sklearn.decomposition import PCA\n",
    "\n",
    "from alignment.AlignCCA import CCA_align, extract_latent_dynamics_by_class"
   ],
   "outputs": [],
   "execution_count": 17
  },
  {
   "metadata": {
    "ExecuteTime": {
     "end_time": "2024-06-18T19:43:20.463891Z",
     "start_time": "2024-06-18T19:43:20.447103Z"
    }
   },
   "cell_type": "code",
   "source": [
    "n_comp_pca = 0.9\n",
    "n_comp_cca = 10\n",
    "n_repeats = 100\n",
    "n_comp_corr = 3"
   ],
   "outputs": [],
   "execution_count": 23
  },
  {
   "metadata": {
    "ExecuteTime": {
     "end_time": "2024-06-18T19:43:20.843612Z",
     "start_time": "2024-06-18T19:43:20.838268Z"
    }
   },
   "cell_type": "code",
   "source": [
    "S14_data, S14_labels = all_pt_traces['S14'], all_pt_phon_seqs_str['S14']\n",
    "S26_data, S26_labels = all_pt_traces['S26'], all_pt_phon_seqs_str['S26']"
   ],
   "outputs": [],
   "execution_count": 24
  },
  {
   "metadata": {
    "ExecuteTime": {
     "end_time": "2024-06-19T13:41:25.060156Z",
     "start_time": "2024-06-19T13:41:24.779235Z"
    }
   },
   "cell_type": "code",
   "source": [
    "PCA_S14 = PCA(n_components=n_comp_pca)\n",
    "PCA_S26 = PCA(n_components=n_comp_pca)\n",
    "\n",
    "S14_data_cnd_avg = utils.cnd_avg(S14_data, S14_labels)\n",
    "S26_data_cnd_avg = utils.cnd_avg(S26_data, S26_labels)\n",
    "\n",
    "# decmopose channels (trial*time, channels)\n",
    "# S14_2d = S14_data_cnd_avg.reshape(-1, S14_data.shape[-1])\n",
    "# S26_2d = S26_data_cnd_avg.reshape(-1, S26_data.shape[-1])\n",
    "\n",
    "# decompose time (trial*channel, time)\n",
    "S14_2d = S14_data_cnd_avg.transpose(0,2,1).reshape(-1, S14_data.shape[1])\n",
    "S26_2d = S26_data_cnd_avg.transpose(0,2,1).reshape(-1, S26_data.shape[1])\n",
    "\n",
    "latDyn_S14 = PCA_S14.fit_transform(S14_2d)\n",
    "latDyn_S26 = PCA_S26.fit_transform(S26_2d)\n",
    "\n",
    "S14_decomp_matrix = PCA_S14.components_"
   ],
   "outputs": [],
   "execution_count": 39
  },
  {
   "metadata": {
    "ExecuteTime": {
     "end_time": "2024-06-19T13:41:25.802591Z",
     "start_time": "2024-06-19T13:41:25.779026Z"
    }
   },
   "cell_type": "code",
   "source": [
    "_,_,CCs_S14_S26 = CCA_align(latDyn_S14.T, latDyn_S26.T)\n",
    "CCs_S14_S26 = CCs_S14_S26[:n_comp_cca]\n",
    "corr_S14_S26 = np.mean(CCs_S14_S26[:n_comp_corr])"
   ],
   "outputs": [],
   "execution_count": 40
  },
  {
   "metadata": {},
   "cell_type": "markdown",
   "source": "Permute decomposition vectors"
  },
  {
   "metadata": {
    "ExecuteTime": {
     "end_time": "2024-06-19T13:42:19.375763Z",
     "start_time": "2024-06-19T13:42:17.873723Z"
    }
   },
   "cell_type": "code",
   "source": [
    "null_corrs = []\n",
    "for i in range(n_repeats):\n",
    "    S14_decomp_perm = np.zeros(S14_decomp_matrix.shape)\n",
    "    for i in range(S14_decomp_matrix.shape[0]):\n",
    "        perm_inds = np.random.permutation(S14_decomp_matrix.shape[1])\n",
    "        S14_decomp_perm[i] = S14_decomp_matrix[i, perm_inds]\n",
    "    \n",
    "    # latDyn_S14_perm = np.dot(S14_data_cnd_avg.reshape(-1, S14_data.shape[-1]), S14_decomp_perm.T)\n",
    "    latDyn_S14_perm = np.dot(S14_data_cnd_avg.transpose(0,2,1).reshape(-1, S14_data.shape[1]), S14_decomp_perm.T)    \n",
    "        \n",
    "    _,_,CCs_S14_S26_perm = CCA_align(latDyn_S14_perm.T, latDyn_S26.T)\n",
    "    CCs_S14_S26_perm = CCs_S14_S26_perm[:n_comp_cca]\n",
    "    \n",
    "    avg_corrs = np.mean(CCs_S14_S26_perm[:n_comp_corr])\n",
    "    null_corrs.append(avg_corrs)\n",
    "    "
   ],
   "outputs": [],
   "execution_count": 42
  },
  {
   "metadata": {
    "ExecuteTime": {
     "end_time": "2024-06-19T13:42:21.381933Z",
     "start_time": "2024-06-19T13:42:21.108087Z"
    }
   },
   "cell_type": "code",
   "source": [
    "plt.figure()\n",
    "plt.hist(null_corrs)\n",
    "plt.axvline(corr_S14_S26, color='r')\n",
    "plt.show()"
   ],
   "outputs": [
    {
     "data": {
      "text/plain": [
       "<Figure size 640x480 with 1 Axes>"
      ],
      "image/png": "[encoded data removed]"
     },
     "metadata": {},
     "output_type": "display_data"
    }
   ],
   "execution_count": 43
  },
  {
   "metadata": {
    "ExecuteTime": {
     "end_time": "2024-06-19T13:42:24.727783Z",
     "start_time": "2024-06-19T13:42:24.717473Z"
    }
   },
   "cell_type": "code",
   "source": [
    "from scipy.stats import ttest_1samp\n",
    "\n",
    "res = ttest_1samp(null_corrs, corr_S14_S26, alternative='less')\n",
    "print(res)"
   ],
   "outputs": [
    {
     "name": "stdout",
     "output_type": "stream",
     "text": [
      "TtestResult(statistic=7.207273493240934, pvalue=0.99999999994269, df=99)\n"
     ]
    }
   ],
   "execution_count": 44
  },
  {
   "metadata": {
    "ExecuteTime": {
     "end_time": "2024-06-19T13:42:27.651975Z",
     "start_time": "2024-06-19T13:42:27.639904Z"
    }
   },
   "cell_type": "code",
   "source": "res.pvalue",
   "outputs": [
    {
     "data": {
      "text/plain": [
       "0.99999999994269"
      ]
     },
     "execution_count": 45,
     "metadata": {},
     "output_type": "execute_result"
    }
   ],
   "execution_count": 45
  }
 ],
 "metadata": {
  "kernelspec": {
   "display_name": "micro_decode",
   "language": "python",
   "name": "python3"
  },
  "language_info": {
   "codemirror_mode": {
    "name": "ipython",
    "version": 3
   },
   "file_extension": ".py",
   "mimetype": "text/x-python",
   "name": "python",
   "nbconvert_exporter": "python",
   "pygments_lexer": "ipython3",
   "version": "3.11.5"
  }
 },
 "nbformat": 4,
 "nbformat_minor": 2
}
