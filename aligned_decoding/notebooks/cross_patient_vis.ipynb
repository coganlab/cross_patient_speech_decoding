{
 "cells": [
  {
   "cell_type": "markdown",
   "metadata": {},
   "source": [
    "# Imports"
   ]
  },
  {
   "cell_type": "code",
   "execution_count": 179,
   "metadata": {},
   "outputs": [],
   "source": [
    "import sys\n",
    "sys.path.append('..')"
   ]
  },
  {
   "cell_type": "code",
   "execution_count": 180,
   "metadata": {},
   "outputs": [],
   "source": [
    "import numpy as np\n",
    "import pandas as pd\n",
    "import scipy.io as sio\n",
    "import matplotlib.pyplot as plt\n",
    "import seaborn as sns\n",
    "import plotly.express as px\n",
    "import plotly.graph_objects as go\n",
    "\n",
    "import alignment.alignment_utils as utils\n",
    "\n",
    "%matplotlib inline"
   ]
  },
  {
   "cell_type": "markdown",
   "metadata": {},
   "source": [
    "# Data Loading"
   ]
  },
  {
   "cell_type": "markdown",
   "metadata": {},
   "source": [
    "### Real data"
   ]
  },
  {
   "cell_type": "code",
   "execution_count": 181,
   "metadata": {},
   "outputs": [],
   "source": [
    "DATA_PATH = '../data/'\n",
    "data_filename = DATA_PATH + 'pt_decoding_data_S22.pkl'"
   ]
  },
  {
   "cell_type": "code",
   "execution_count": 182,
   "metadata": {},
   "outputs": [],
   "source": [
    "all_pt_dict = utils.load_pkl(data_filename)\n",
    "pt_names = list(all_pt_dict.keys())"
   ]
  },
  {
   "cell_type": "code",
   "execution_count": 183,
   "metadata": {},
   "outputs": [
    {
     "name": "stdout",
     "output_type": "stream",
     "text": [
      "['S14', 'S26', 'S23', 'S33', 'S22']\n",
      "dict_keys(['ID', 'X1', 'X1_map', 'y1', 'X2', 'X2_map', 'y2', 'X3', 'X3_map', 'y3', 'y_full_phon', 'X_collapsed', 'y_phon_collapsed', 'y_artic_collapsed', 'pre_pts'])\n",
      "[(144, 200, 111), (148, 200, 111), (151, 200, 63), (46, 200, 149), (151, 200, 74)]\n"
     ]
    }
   ],
   "source": [
    "print(pt_names)\n",
    "print(all_pt_dict[pt_names[0]].keys())\n",
    "print([all_pt_dict[pt]['X1'].shape for pt in pt_names])"
   ]
  },
  {
   "cell_type": "markdown",
   "metadata": {},
   "source": [
    "### Surrogate TME Data"
   ]
  },
  {
   "cell_type": "code",
   "execution_count": 184,
   "metadata": {},
   "outputs": [
    {
     "name": "stdout",
     "output_type": "stream",
     "text": [
      "dict_keys(['S14', 'S26', 'S23', 'S33', 'S22'])\n",
      "[(200, 111, 144), (200, 111, 148), (200, 63, 151), (200, 149, 46), (200, 74, 151)]\n"
     ]
    }
   ],
   "source": [
    "surr_type = 'TNC'\n",
    "\n",
    "all_pt_surr_dict = {}\n",
    "for pt in pt_names:\n",
    "    surr_data = sio.loadmat(f'../data/{pt}/TME/{pt}_TME_{surr_type}.mat')['surrTensor']\n",
    "    all_pt_surr_dict[pt] = surr_data\n",
    "print(all_pt_surr_dict.keys())\n",
    "print([all_pt_surr_dict[pt].shape for pt in pt_names])"
   ]
  },
  {
   "cell_type": "markdown",
   "metadata": {},
   "source": [
    "## Phoneme label processing functions"
   ]
  },
  {
   "cell_type": "code",
   "execution_count": 185,
   "metadata": {},
   "outputs": [],
   "source": [
    "phon_labels = np.array(['a', 'ae', 'i', 'u', 'b', 'p', 'v', 'g', 'k'])\n",
    "artic_labels = np.array(['low', 'high', 'labial', 'dorsal'])\n",
    "phon_to_artic_dict = {1:1, 2:1, 3:2, 4:2, 5:3, 6:3, 7:3, 8:4, 9:4}"
   ]
  },
  {
   "cell_type": "code",
   "execution_count": 186,
   "metadata": {},
   "outputs": [],
   "source": [
    "def phon_to_artic(phon_idx, phon_to_artic_conv):\n",
    "    return phon_to_artic_conv[phon_idx]\n",
    "\n",
    "def phon_to_artic_seq(phon_seq, phon_to_artic_conv):\n",
    "    flat_seq = phon_seq.flatten()\n",
    "    artic_conv = np.array([phon_to_artic(phon_idx, phon_to_artic_conv) for phon_idx in flat_seq])\n",
    "    return np.reshape(artic_conv, phon_seq.shape)\n",
    "\n",
    "def phon2artic(phon):\n",
    "    return artic_labels[phon_to_artic_dict[int(phon)] - 1]\n",
    "\n",
    "def phon2artic_seq(phon_seq):\n",
    "    return '_'.join([phon2artic(phon) for phon in phon_seq])\n",
    "\n",
    "def labels2cv_seq(labels):\n",
    "    labels_str = []\n",
    "    for lab in labels:\n",
    "        labels_str.append(labels2cv(lab))\n",
    "    return np.array(labels_str)\n",
    "\n",
    "def labels2cv(str):\n",
    "    middle_val = str[1]\n",
    "    if int(middle_val) < 5:\n",
    "        return 'CVC'\n",
    "    else:\n",
    "        return 'VCV'\n",
    "\n",
    "def articic_nums2seq(artic_num_seqs):\n",
    "    return np.array([artic_labels[artic_num-1] for artic_num in artic_num_seqs])"
   ]
  },
  {
   "cell_type": "markdown",
   "metadata": {},
   "source": [
    "## Data Processing"
   ]
  },
  {
   "cell_type": "code",
   "execution_count": 187,
   "metadata": {},
   "outputs": [],
   "source": [
    "p_ind = 1\n",
    "\n",
    "all_pt_traces = {}\n",
    "all_pt_surr_traces = {}\n",
    "all_pt_phon_labels = {}\n",
    "all_pt_phon_seqs = {}\n",
    "all_pt_phon_seqs_str = {}\n",
    "all_pt_artic_labels = {}\n",
    "all_pt_artic_seqs = {}\n",
    "all_pt_artic_seqs_str = {}\n",
    "all_pt_cv_labels = {}\n",
    "for pt in pt_names:\n",
    "    pt_trace = all_pt_dict[pt][f'X{p_ind}']  ### Real data: (trials, time, channels)\n",
    "    surr_trace = np.transpose(all_pt_surr_dict[pt], [2,0,1])  ### Surrogate data: (time, channels, trials) -> (trials, time, channels)\n",
    "\n",
    "    pt_phon_labels = all_pt_dict[pt][f'y{p_ind}']\n",
    "    pt_phon_seqs = all_pt_dict[pt]['y_full_phon']\n",
    "    pt_phon_seqs_str = utils.label_seq2str(pt_phon_seqs)\n",
    "    pt_artic_labels = phon_to_artic_seq(pt_phon_labels, phon_to_artic_dict)\n",
    "    pt_artic_seqs = phon_to_artic_seq(pt_phon_seqs, phon_to_artic_dict)\n",
    "    pt_artic_seqs_str = utils.label_seq2str(pt_artic_seqs)\n",
    "    pt_cv_labels = labels2cv_seq(pt_phon_seqs)\n",
    "\n",
    "    all_pt_traces[pt] = pt_trace\n",
    "    all_pt_surr_traces[pt] = surr_trace\n",
    "    all_pt_phon_labels[pt] = pt_phon_labels\n",
    "    all_pt_phon_seqs[pt] = pt_phon_seqs\n",
    "    all_pt_phon_seqs_str[pt] = pt_phon_seqs_str\n",
    "    all_pt_artic_labels[pt] = pt_artic_labels\n",
    "    all_pt_artic_seqs[pt] = pt_artic_seqs\n",
    "    all_pt_artic_seqs_str[pt] = pt_artic_seqs_str\n",
    "    all_pt_cv_labels[pt] = pt_cv_labels"
   ]
  },
  {
   "cell_type": "code",
   "execution_count": 188,
   "metadata": {},
   "outputs": [],
   "source": [
    "# artic_seq_strs = articic_nums2seq(pt_artic_seqs)\n",
    "# artic_seq_strs = np.array([[s[0:2] + '_' for s in labs] for labs in artic_seq_strs])\n",
    "# artic_seq_strs = utils.label2str(artic_seq_strs)\n",
    "# artic_seq_strs = np.array([s[0:-1] for s in artic_seq_strs])"
   ]
  },
  {
   "cell_type": "code",
   "execution_count": 189,
   "metadata": {},
   "outputs": [],
   "source": [
    "t = np.linspace(-0.5, 0.5 - 1/pt_trace.shape[1], pt_trace.shape[1])"
   ]
  },
  {
   "cell_type": "code",
   "execution_count": 190,
   "metadata": {},
   "outputs": [],
   "source": [
    "all_pt_phon_seq_avg_traces = {}\n",
    "all_pt_artic_seq_avg_traces = {}\n",
    "all_pt_phon_avg_traces = {}\n",
    "all_pt_artic_avg_traces = {}\n",
    "all_pt_cv_avg_traces = {}\n",
    "\n",
    "for pt in pt_names:\n",
    "    pt_trace = all_pt_traces[pt]\n",
    "    pt_phon_seqs_str = all_pt_phon_seqs_str[pt]\n",
    "    pt_artic_seqs_str = all_pt_artic_seqs_str[pt]\n",
    "    pt_phon_labels = all_pt_phon_labels[pt]\n",
    "    pt_artic_labels = all_pt_artic_labels[pt]\n",
    "    pt_cv_labels = all_pt_cv_labels[pt]\n",
    "\n",
    "    phon_seq_avg_trace = utils.cnd_avg(pt_trace, pt_phon_seqs_str)\n",
    "    artic_seq_avg_trace = utils.cnd_avg(pt_trace, pt_artic_seqs_str)\n",
    "    phon_avg_trace = utils.cnd_avg(pt_trace, pt_phon_labels)\n",
    "    artic_avg_trace = utils.cnd_avg(pt_trace, pt_artic_labels)\n",
    "    cv_avg_trace = utils.cnd_avg(pt_trace, pt_cv_labels)\n",
    "\n",
    "    all_pt_phon_seq_avg_traces[pt] = phon_seq_avg_trace\n",
    "    all_pt_artic_seq_avg_traces[pt] = artic_seq_avg_trace\n",
    "    all_pt_phon_avg_traces[pt] = phon_avg_trace\n",
    "    all_pt_artic_avg_traces[pt] = artic_avg_trace\n",
    "    all_pt_cv_avg_traces[pt] = cv_avg_trace"
   ]
  },
  {
   "cell_type": "markdown",
   "metadata": {},
   "source": [
    "# Data Visualization"
   ]
  },
  {
   "cell_type": "markdown",
   "metadata": {},
   "source": [
    "### Plotting utils"
   ]
  },
  {
   "cell_type": "code",
   "execution_count": 191,
   "metadata": {},
   "outputs": [],
   "source": [
    "def line(error_y_mode=None, **kwargs):\n",
    "    \"\"\"Extension of `plotly.express.line` to use error bands.\n",
    "    \n",
    "    From https://stackoverflow.com/questions/69587547/continuous-error-band-with-plotly-express-in-python, user171780\"\"\"\n",
    "    ERROR_MODES = {'bar','band','bars','bands',None}\n",
    "    if error_y_mode not in ERROR_MODES:\n",
    "        raise ValueError(f\"'error_y_mode' must be one of {ERROR_MODES}, received {repr(error_y_mode)}.\")\n",
    "    if error_y_mode in {'bar','bars',None}:\n",
    "        fig = px.line(**kwargs)\n",
    "    elif error_y_mode in {'band','bands'}:\n",
    "        if 'error_y' not in kwargs:\n",
    "            raise ValueError(f\"If you provide argument 'error_y_mode' you must also provide 'error_y'.\")\n",
    "        figure_with_error_bars = px.line(**kwargs)\n",
    "        fig = px.line(**{arg: val for arg,val in kwargs.items() if arg != 'error_y'})\n",
    "        for data in figure_with_error_bars.data:\n",
    "            x = list(data['x'])\n",
    "            y_upper = list(data['y'] + data['error_y']['array'])\n",
    "            y_lower = list(data['y'] - data['error_y']['array'] if data['error_y']['arrayminus'] is None else data['y'] - data['error_y']['arrayminus'])\n",
    "            color = f\"rgba({tuple(int(data['line']['color'].lstrip('#')[i:i+2], 16) for i in (0, 2, 4))},.3)\".replace('((','(').replace('),',',').replace(' ','')\n",
    "            fig.add_trace(\n",
    "                go.Scatter(\n",
    "                    x = x+x[::-1],\n",
    "                    y = y_upper+y_lower[::-1],\n",
    "                    fill = 'toself',\n",
    "                    fillcolor = color,\n",
    "                    line = dict(\n",
    "                        color = 'rgba(255,255,255,0)'\n",
    "                    ),\n",
    "                    hoverinfo = \"skip\",\n",
    "                    showlegend = False,\n",
    "                    legendgroup = data['legendgroup'],\n",
    "                    xaxis = data['xaxis'],\n",
    "                    yaxis = data['yaxis'],\n",
    "                )\n",
    "            )\n",
    "        # Reorder data as said here: https://stackoverflow.com/a/66854398/8849755\n",
    "        reordered_data = []\n",
    "        for i in range(int(len(fig.data)/2)):\n",
    "            reordered_data.append(fig.data[i+int(len(fig.data)/2)])\n",
    "            reordered_data.append(fig.data[i])\n",
    "        fig.data = tuple(reordered_data)\n",
    "    return fig"
   ]
  },
  {
   "cell_type": "markdown",
   "metadata": {},
   "source": [
    "## CCA Alignment"
   ]
  },
  {
   "cell_type": "code",
   "execution_count": 192,
   "metadata": {},
   "outputs": [],
   "source": [
    "from alignment.AlignCCA import AlignCCA\n",
    "from decoders.cross_pt_decoders import crossPtDecoder_sepAlign"
   ]
  },
  {
   "cell_type": "markdown",
   "metadata": {},
   "source": [
    "### Correlation calculations"
   ]
  },
  {
   "cell_type": "code",
   "execution_count": 249,
   "metadata": {},
   "outputs": [],
   "source": [
    "pca_comp = 10\n",
    "\n",
    "pairwise_corrs = []\n",
    "# for tar_pt in pt_names:\n",
    "#     other_pts = [pt for pt in pt_names if pt != tar_pt]\n",
    "for tar_pt in ['S14', 'S26', 'S33']:\n",
    "    other_pts = [pt for pt in ['S14', 'S26', 'S33'] if pt != tar_pt]\n",
    "\n",
    "    tar_pt_data = (all_pt_traces[tar_pt], all_pt_phon_labels[tar_pt], all_pt_phon_seqs_str[tar_pt])\n",
    "    cross_pt_data = [(all_pt_traces[pt], all_pt_phon_labels[pt], all_pt_phon_seqs_str[pt]) for pt in other_pts]\n",
    "\n",
    "    cca_wrapper = crossPtDecoder_sepAlign(cross_pt_data, None, AlignCCA, n_comp=pca_comp)\n",
    "    pooled_traces, pooled_labels = cca_wrapper.preprocess_train(tar_pt_data[0], tar_pt_data[1], y_align=tar_pt_data[2])  ## align by full phoneme sequence\n",
    "    aligners = cca_wrapper.algns\n",
    "    CCs = [a.canon_corrs for a in aligners]\n",
    "    \n",
    "    for pt, corrs in zip(other_pts, CCs):\n",
    "        data = {'Data': 'Real', 'Patient 1': tar_pt, 'Patient 2': pt}\n",
    "        data_corr = {}\n",
    "        for i, c in enumerate(corrs):\n",
    "            data_corr[f'CC {i+1}'] = c\n",
    "        data = dict(data, **data_corr)\n",
    "\n",
    "        pairwise_corrs.append(data)\n",
    "pairwise_corrs = pd.DataFrame(pairwise_corrs)\n",
    "    \n",
    "pairwise_corrs_surr = []\n",
    "# for tar_pt in pt_names:\n",
    "#     other_pts = [pt for pt in pt_names if pt != tar_pt]\n",
    "for tar_pt in ['S14', 'S26', 'S33']:\n",
    "    other_pts = [pt for pt in ['S14', 'S26', 'S33'] if pt != tar_pt]\n",
    "    tar_pt_data = (all_pt_surr_traces[tar_pt], all_pt_phon_labels[tar_pt], all_pt_phon_seqs_str[tar_pt])\n",
    "    # tar_pt_data = (all_pt_traces[tar_pt], all_pt_phon_labels[tar_pt], all_pt_phon_seqs_str[tar_pt])  # only using surrogate data for aligned patients\n",
    "    cross_pt_data = [(all_pt_surr_traces[pt], all_pt_phon_labels[pt], all_pt_phon_seqs_str[pt]) for pt in pt_names if pt != tar_pt]\n",
    "\n",
    "    cca_wrapper = crossPtDecoder_sepAlign(cross_pt_data, None, AlignCCA, n_comp=pca_comp)  # using decoder class without decoder to handle data preprocessing\n",
    "    _, _ = cca_wrapper.preprocess_train(tar_pt_data[0], tar_pt_data[1], y_align=tar_pt_data[2])  ## align by full phoneme sequence\n",
    "    aligners = cca_wrapper.algns\n",
    "    CCs = [a.canon_corrs for a in aligners]\n",
    "\n",
    "    for pt, corrs in zip(other_pts, CCs):\n",
    "        data = {'Data': 'TME Surrogate', 'Patient 1': tar_pt, 'Patient 2': pt}\n",
    "        data_corr = {}\n",
    "        for i, c in enumerate(corrs):\n",
    "            data_corr[f'CC {i+1}'] = c\n",
    "        data = dict(data, **data_corr)\n",
    "\n",
    "        pairwise_corrs_surr.append(data)\n",
    "pairwise_corrs_surr = pd.DataFrame(pairwise_corrs_surr)"
   ]
  },
  {
   "cell_type": "code",
   "execution_count": 250,
   "metadata": {},
   "outputs": [],
   "source": [
    "cc_df_wide = pd.concat([pairwise_corrs, pairwise_corrs_surr], ignore_index=True)\n",
    "cc_df_long = cc_df_wide.melt(id_vars=['Data', 'Patient 1', 'Patient 2'], var_name='Component', value_name='Canonical Correlation')\n",
    "cc_df_long['Component'] = cc_df_long['Component'].str.replace('CC ', '').astype(int)"
   ]
  },
  {
   "cell_type": "code",
   "execution_count": 251,
   "metadata": {},
   "outputs": [
    {
     "data": {
      "text/html": [
       "<div>\n",
       "<style scoped>\n",
       "    .dataframe tbody tr th:only-of-type {\n",
       "        vertical-align: middle;\n",
       "    }\n",
       "\n",
       "    .dataframe tbody tr th {\n",
       "        vertical-align: top;\n",
       "    }\n",
       "\n",
       "    .dataframe thead th {\n",
       "        text-align: right;\n",
       "    }\n",
       "</style>\n",
       "<table border=\"1\" class=\"dataframe\">\n",
       "  <thead>\n",
       "    <tr style=\"text-align: right;\">\n",
       "      <th></th>\n",
       "      <th>Data</th>\n",
       "      <th>Patient 1</th>\n",
       "      <th>Patient 2</th>\n",
       "      <th>Component</th>\n",
       "      <th>Canonical Correlation</th>\n",
       "    </tr>\n",
       "  </thead>\n",
       "  <tbody>\n",
       "    <tr>\n",
       "      <th>0</th>\n",
       "      <td>Real</td>\n",
       "      <td>S14</td>\n",
       "      <td>S26</td>\n",
       "      <td>1</td>\n",
       "      <td>0.713236</td>\n",
       "    </tr>\n",
       "    <tr>\n",
       "      <th>1</th>\n",
       "      <td>Real</td>\n",
       "      <td>S14</td>\n",
       "      <td>S33</td>\n",
       "      <td>1</td>\n",
       "      <td>0.631567</td>\n",
       "    </tr>\n",
       "    <tr>\n",
       "      <th>2</th>\n",
       "      <td>Real</td>\n",
       "      <td>S26</td>\n",
       "      <td>S14</td>\n",
       "      <td>1</td>\n",
       "      <td>0.713243</td>\n",
       "    </tr>\n",
       "    <tr>\n",
       "      <th>3</th>\n",
       "      <td>Real</td>\n",
       "      <td>S26</td>\n",
       "      <td>S33</td>\n",
       "      <td>1</td>\n",
       "      <td>0.695212</td>\n",
       "    </tr>\n",
       "    <tr>\n",
       "      <th>4</th>\n",
       "      <td>Real</td>\n",
       "      <td>S33</td>\n",
       "      <td>S14</td>\n",
       "      <td>1</td>\n",
       "      <td>0.631532</td>\n",
       "    </tr>\n",
       "    <tr>\n",
       "      <th>...</th>\n",
       "      <td>...</td>\n",
       "      <td>...</td>\n",
       "      <td>...</td>\n",
       "      <td>...</td>\n",
       "      <td>...</td>\n",
       "    </tr>\n",
       "    <tr>\n",
       "      <th>115</th>\n",
       "      <td>TME Surrogate</td>\n",
       "      <td>S14</td>\n",
       "      <td>S33</td>\n",
       "      <td>10</td>\n",
       "      <td>0.003430</td>\n",
       "    </tr>\n",
       "    <tr>\n",
       "      <th>116</th>\n",
       "      <td>TME Surrogate</td>\n",
       "      <td>S26</td>\n",
       "      <td>S14</td>\n",
       "      <td>10</td>\n",
       "      <td>0.037384</td>\n",
       "    </tr>\n",
       "    <tr>\n",
       "      <th>117</th>\n",
       "      <td>TME Surrogate</td>\n",
       "      <td>S26</td>\n",
       "      <td>S33</td>\n",
       "      <td>10</td>\n",
       "      <td>0.003495</td>\n",
       "    </tr>\n",
       "    <tr>\n",
       "      <th>118</th>\n",
       "      <td>TME Surrogate</td>\n",
       "      <td>S33</td>\n",
       "      <td>S14</td>\n",
       "      <td>10</td>\n",
       "      <td>0.001978</td>\n",
       "    </tr>\n",
       "    <tr>\n",
       "      <th>119</th>\n",
       "      <td>TME Surrogate</td>\n",
       "      <td>S33</td>\n",
       "      <td>S26</td>\n",
       "      <td>10</td>\n",
       "      <td>0.025973</td>\n",
       "    </tr>\n",
       "  </tbody>\n",
       "</table>\n",
       "<p>120 rows × 5 columns</p>\n",
       "</div>"
      ],
      "text/plain": [
       "              Data Patient 1 Patient 2  Component  Canonical Correlation\n",
       "0             Real       S14       S26          1               0.713236\n",
       "1             Real       S14       S33          1               0.631567\n",
       "2             Real       S26       S14          1               0.713243\n",
       "3             Real       S26       S33          1               0.695212\n",
       "4             Real       S33       S14          1               0.631532\n",
       "..             ...       ...       ...        ...                    ...\n",
       "115  TME Surrogate       S14       S33         10               0.003430\n",
       "116  TME Surrogate       S26       S14         10               0.037384\n",
       "117  TME Surrogate       S26       S33         10               0.003495\n",
       "118  TME Surrogate       S33       S14         10               0.001978\n",
       "119  TME Surrogate       S33       S26         10               0.025973\n",
       "\n",
       "[120 rows x 5 columns]"
      ]
     },
     "execution_count": 251,
     "metadata": {},
     "output_type": "execute_result"
    }
   ],
   "source": [
    "cc_df_long"
   ]
  },
  {
   "cell_type": "markdown",
   "metadata": {},
   "source": [
    "### Visualization"
   ]
  },
  {
   "cell_type": "code",
   "execution_count": 235,
   "metadata": {},
   "outputs": [],
   "source": [
    "from matplotlib.ticker import MultipleLocator"
   ]
  },
  {
   "cell_type": "code",
   "execution_count": 252,
   "metadata": {},
   "outputs": [
    {
     "data": {
      "image/png": "[encoded data removed]",
      "text/plain": [
       "<Figure size 1200x500 with 2 Axes>"
      ]
     },
     "metadata": {},
     "output_type": "display_data"
    }
   ],
   "source": [
    "hist_comps = 3\n",
    "\n",
    "sns.set_theme(context='notebook', font='Verdana', font_scale=1.15, style='ticks')\n",
    "f, axs = plt.subplots(1, 2, figsize=(12,5), sharey=True, width_ratios=[1, 0.5])\n",
    "\n",
    "sns.lineplot(data=cc_df_long, x='Component', y='Canonical Correlation', hue='Data', style='Data', markers=True, dashes=False, ax=axs[0])\n",
    "axs[0].axvline(x=hist_comps, color='grey', linestyle='dashed')\n",
    "axs[0].set_xticks(np.arange(1, 10, 2))\n",
    "axs[0].xaxis.set_minor_locator(MultipleLocator(2))\n",
    "axs[0].set_title('Canonical correlation across components')\n",
    "\n",
    "\n",
    "# sns.histplot(data=cc_df_long[cc_df_long['Neural Mode'] <= 4], y='Canonical Correlation', hue='Data', binwidth=0.15, ax=axs[1])\n",
    "# sns.histplot(data=cc_df_long[cc_df_long['Component'] <= hist_comps], y='Canonical Correlation', hue='Data', ax=axs[1])\n",
    "sns.histplot(data=cc_df_long[(cc_df_long['Component'] <= hist_comps)].groupby(['Data', 'Patient 1', 'Patient 2']).mean(), y='Canonical Correlation', hue='Data', ax=axs[1], element='step')\n",
    "axs[1].set_title('Average canonical correlation in top 4 components')\n",
    "axs[1].yaxis.set_tick_params(labelbottom=True)\n",
    "axs[1].legend([],[], frameon=False)\n",
    "\n",
    "sns.despine()\n",
    "plt.show()"
   ]
  },
  {
   "cell_type": "code",
   "execution_count": 241,
   "metadata": {},
   "outputs": [
    {
     "data": {
      "text/html": [
       "<div>\n",
       "<style scoped>\n",
       "    .dataframe tbody tr th:only-of-type {\n",
       "        vertical-align: middle;\n",
       "    }\n",
       "\n",
       "    .dataframe tbody tr th {\n",
       "        vertical-align: top;\n",
       "    }\n",
       "\n",
       "    .dataframe thead th {\n",
       "        text-align: right;\n",
       "    }\n",
       "</style>\n",
       "<table border=\"1\" class=\"dataframe\">\n",
       "  <thead>\n",
       "    <tr style=\"text-align: right;\">\n",
       "      <th></th>\n",
       "      <th></th>\n",
       "      <th></th>\n",
       "      <th>Component</th>\n",
       "      <th>Canonical Correlation</th>\n",
       "    </tr>\n",
       "    <tr>\n",
       "      <th>Data</th>\n",
       "      <th>Patient 1</th>\n",
       "      <th>Patient 2</th>\n",
       "      <th></th>\n",
       "      <th></th>\n",
       "    </tr>\n",
       "  </thead>\n",
       "  <tbody>\n",
       "    <tr>\n",
       "      <th rowspan=\"6\" valign=\"top\">Real</th>\n",
       "      <th rowspan=\"2\" valign=\"top\">S14</th>\n",
       "      <th>S26</th>\n",
       "      <td>2.5</td>\n",
       "      <td>0.486349</td>\n",
       "    </tr>\n",
       "    <tr>\n",
       "      <th>S33</th>\n",
       "      <td>2.5</td>\n",
       "      <td>0.409405</td>\n",
       "    </tr>\n",
       "    <tr>\n",
       "      <th rowspan=\"2\" valign=\"top\">S26</th>\n",
       "      <th>S14</th>\n",
       "      <td>2.5</td>\n",
       "      <td>0.486349</td>\n",
       "    </tr>\n",
       "    <tr>\n",
       "      <th>S33</th>\n",
       "      <td>2.5</td>\n",
       "      <td>0.456536</td>\n",
       "    </tr>\n",
       "    <tr>\n",
       "      <th rowspan=\"2\" valign=\"top\">S33</th>\n",
       "      <th>S14</th>\n",
       "      <td>2.5</td>\n",
       "      <td>0.409299</td>\n",
       "    </tr>\n",
       "    <tr>\n",
       "      <th>S26</th>\n",
       "      <td>2.5</td>\n",
       "      <td>0.456487</td>\n",
       "    </tr>\n",
       "    <tr>\n",
       "      <th rowspan=\"6\" valign=\"top\">TME Surrogate</th>\n",
       "      <th rowspan=\"2\" valign=\"top\">S14</th>\n",
       "      <th>S26</th>\n",
       "      <td>2.5</td>\n",
       "      <td>0.352911</td>\n",
       "    </tr>\n",
       "    <tr>\n",
       "      <th>S33</th>\n",
       "      <td>2.5</td>\n",
       "      <td>0.227652</td>\n",
       "    </tr>\n",
       "    <tr>\n",
       "      <th rowspan=\"2\" valign=\"top\">S26</th>\n",
       "      <th>S14</th>\n",
       "      <td>2.5</td>\n",
       "      <td>0.352907</td>\n",
       "    </tr>\n",
       "    <tr>\n",
       "      <th>S33</th>\n",
       "      <td>2.5</td>\n",
       "      <td>0.331813</td>\n",
       "    </tr>\n",
       "    <tr>\n",
       "      <th rowspan=\"2\" valign=\"top\">S33</th>\n",
       "      <th>S14</th>\n",
       "      <td>2.5</td>\n",
       "      <td>0.306925</td>\n",
       "    </tr>\n",
       "    <tr>\n",
       "      <th>S26</th>\n",
       "      <td>2.5</td>\n",
       "      <td>0.351737</td>\n",
       "    </tr>\n",
       "  </tbody>\n",
       "</table>\n",
       "</div>"
      ],
      "text/plain": [
       "                                   Component  Canonical Correlation\n",
       "Data          Patient 1 Patient 2                                  \n",
       "Real          S14       S26              2.5               0.486349\n",
       "                        S33              2.5               0.409405\n",
       "              S26       S14              2.5               0.486349\n",
       "                        S33              2.5               0.456536\n",
       "              S33       S14              2.5               0.409299\n",
       "                        S26              2.5               0.456487\n",
       "TME Surrogate S14       S26              2.5               0.352911\n",
       "                        S33              2.5               0.227652\n",
       "              S26       S14              2.5               0.352907\n",
       "                        S33              2.5               0.331813\n",
       "              S33       S14              2.5               0.306925\n",
       "                        S26              2.5               0.351737"
      ]
     },
     "execution_count": 241,
     "metadata": {},
     "output_type": "execute_result"
    }
   ],
   "source": [
    "cc_df_long[(cc_df_long['Component'] <= hist_comps)].groupby(['Data', 'Patient 1', 'Patient 2']).mean()"
   ]
  },
  {
   "cell_type": "code",
   "execution_count": null,
   "metadata": {},
   "outputs": [],
   "source": []
  }
 ],
 "metadata": {
  "kernelspec": {
   "display_name": "micro_decode",
   "language": "python",
   "name": "python3"
  },
  "language_info": {
   "codemirror_mode": {
    "name": "ipython",
    "version": 3
   },
   "file_extension": ".py",
   "mimetype": "text/x-python",
   "name": "python",
   "nbconvert_exporter": "python",
   "pygments_lexer": "ipython3",
   "version": "3.11.5"
  }
 },
 "nbformat": 4,
 "nbformat_minor": 2
}
